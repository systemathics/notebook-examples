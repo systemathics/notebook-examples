{
 "cells": [
  {
   "cell_type": "markdown",
   "id": "municipal-registrar",
   "metadata": {},
   "source": [
    "# Generate SMA using daily data service - C#\n",
    "\n",
    "### Overview\n",
    "Moving averages smooth the price movements by filtering out the \"noise\" caused by short-term price fluctuations.They also form the building blocks for a wide range of technical indicators.\n",
    "\n",
    "Computing moving averages over a defined number of time periods is useful to:\n",
    "* identify the trend direction\n",
    "* determine support and resistance levels\n",
    "\n",
    "This sample demonstrates how to request and plot **on-demand** *simple moving average - SMA* from a daily data service.\n",
    "\n",
    "### Inputs/outputs\n",
    "Simple moving averages' requests require instrument's identifier, date time intervals and number of periods as per inputs.\n",
    "\n",
    "Basically, SMA is formed by computing the average price of a security over a specific number of points. As its name implies, simple moving average is an average that moves. Old data is dropped and new data becomes available, causing the average to move along the time.\n",
    "\n",
    "N-points SMA data point is computed by adding up the last N period's prices and then dividing by N as follows:\n",
    "\n",
    "$$ SMA = \\frac{\\Sigma Close_n}{N} $$\n",
    "Where:\n",
    "* *$Close_n$* is the close price of the *period n*\n",
    "* *N* is the count of time periods\n",
    "\n",
    "This sample shows how to plot a simple graph for basis technical analysis using an open source library. \n",
    "\n",
    "### Services used\n",
    "This sample uses *gRPC requests* in order to retrieve daily data from the hosted service. The queried endpoint in this script are:\n",
    "* *DailySmaService*: to directly retrieve daily SMA data from the server\n",
    "\n",
    "### Packages required\n",
    "1. Systemathics packages:\n",
    "    * *Systemathics.Apis.Type.Shared.V1*\n",
    "    * *Systemathics.Apis.Services.DailyAnalytics.V1*\n",
    "2. Open source packages\n",
    "    * *Google.Protobuf.WellKnownTypes*\n",
    "    * *Google.Type*\n",
    "    * *Grpc.Net.Client*\n",
    "    * *Grpc.Core*\n",
    "    * *XPlot.Plotly* as per display package\n",
    "\n",
    "***"
   ]
  },
  {
   "cell_type": "markdown",
   "id": "paperback-mother",
   "metadata": {},
   "source": [
    "# Run daily SMA sample"
   ]
  },
  {
   "cell_type": "markdown",
   "id": "colonial-malta",
   "metadata": {},
   "source": [
    "### Step 1: Install packages"
   ]
  },
  {
   "cell_type": "code",
   "execution_count": null,
   "id": "cathedral-secretariat",
   "metadata": {
    "dotnet_interactive": {
     "language": "csharp"
    },
    "vscode": {
     "languageId": "dotnet-interactive.csharp"
    }
   },
   "outputs": [],
   "source": [
    "#i \"nuget: file:///home/jovyan/.nuget/packages/\"\n",
    "#i \"nuget: https://api.nuget.org/v3/index.json\"\n",
    "#r \"nuget: Systemathics.Apis, 2.32.*\"\n",
    "#r \"nuget: XPlot.Plotly.Interactive, 4.0.6\""
   ]
  },
  {
   "cell_type": "code",
   "execution_count": null,
   "id": "sixth-salmon",
   "metadata": {
    "dotnet_interactive": {
     "language": "csharp"
    },
    "vscode": {
     "languageId": "dotnet-interactive.csharp"
    }
   },
   "outputs": [],
   "source": [
    "using Systemathics.Apis.Helpers;\n",
    "using Systemathics.Apis.Type.Shared.V1;\n",
    "using Systemathics.Apis.Services.DailyAnalytics.V1;\n",
    "using Google.Protobuf.WellKnownTypes;\n",
    "using Google.Type;\n",
    "using Grpc.Net.Client;\n",
    "using Grpc.Core;\n",
    "using XPlot.Plotly;\n",
    "using XPlot.Plotly.Interactive;"
   ]
  },
  {
   "cell_type": "markdown",
   "id": "earlier-charter",
   "metadata": {},
   "source": [
    "### Step 2: Prepare API requests\n",
    "The following code snippets retrieve authentication token and prepare the API request by: opening the *channel* and adding the *token* to the request header:"
   ]
  },
  {
   "cell_type": "code",
   "execution_count": null,
   "id": "extended-wings",
   "metadata": {
    "dotnet_interactive": {
     "language": "csharp"
    },
    "vscode": {
     "languageId": "dotnet-interactive.csharp"
    }
   },
   "outputs": [],
   "source": [
    "// Get token as metadata\n",
    "var headers = TokenHelpers.GetTokenAsMetaData();\n",
    "\n",
    "// Create communication channel\n",
    "var channel = ChannelHelpers.GetChannel();"
   ]
  },
  {
   "cell_type": "markdown",
   "id": "irish-keeping",
   "metadata": {},
   "source": [
    "### Step 3: Retrieve data"
   ]
  },
  {
   "cell_type": "markdown",
   "id": "exclusive-sewing",
   "metadata": {},
   "source": [
    "To request *daily sma* service, we need to specify:\n",
    "* Instrument identifier\n",
    "* Time period selection: select start and end dates\n",
    "* The SMA parameters"
   ]
  },
  {
   "cell_type": "markdown",
   "id": "referenced-abraham",
   "metadata": {},
   "source": [
    "#### 3.1 Instrument selection"
   ]
  },
  {
   "cell_type": "code",
   "execution_count": null,
   "id": "located-woman",
   "metadata": {
    "dotnet_interactive": {
     "language": "csharp"
    },
    "vscode": {
     "languageId": "dotnet-interactive.csharp"
    }
   },
   "outputs": [],
   "source": [
    "// Set instrument\n",
    "var ticker = \"AAPL\";\n",
    "var exchange = \"XNGS\";"
   ]
  },
  {
   "cell_type": "markdown",
   "id": "external-leather",
   "metadata": {},
   "source": [
    "#### 3.2 SMA parameters"
   ]
  },
  {
   "cell_type": "code",
   "execution_count": null,
   "id": "committed-climate",
   "metadata": {
    "dotnet_interactive": {
     "language": "csharp"
    },
    "vscode": {
     "languageId": "dotnet-interactive.csharp"
    }
   },
   "outputs": [],
   "source": [
    "// Set SMAs lengths\n",
    "var longSma = 200;\n",
    "var shortSma = 50;"
   ]
  },
  {
   "cell_type": "markdown",
   "id": "robust-single",
   "metadata": {},
   "source": [
    "#### 3.3 Time period selection"
   ]
  },
  {
   "cell_type": "code",
   "execution_count": null,
   "id": "matched-remainder",
   "metadata": {
    "dotnet_interactive": {
     "language": "csharp"
    },
    "vscode": {
     "languageId": "dotnet-interactive.csharp"
    }
   },
   "outputs": [],
   "source": [
    "// Set data interval (we are using Google date time format)\n",
    "var dateInterval = new DateInterval()\n",
    "{\n",
    "  StartDate = new Date { Year = 2019, Month = 01, Day = 01 },\n",
    "  EndDate = new Date { Year = 2020, Month = 12, Day = 31 }\n",
    "};\n"
   ]
  },
  {
   "cell_type": "markdown",
   "id": "hired-wellington",
   "metadata": {},
   "source": [
    "#### 3.4 Create and process request\n",
    "The following code snippet creates *gRPC client*, process daily SMA requests and returns the reply."
   ]
  },
  {
   "cell_type": "code",
   "execution_count": null,
   "id": "pharmaceutical-search",
   "metadata": {
    "dotnet_interactive": {
     "language": "csharp"
    },
    "vscode": {
     "languageId": "dotnet-interactive.csharp"
    }
   },
   "outputs": [],
   "source": [
    "// Instantiate the daily SMA service\n",
    "var service = new DailySmaService.DailySmaServiceClient(channel);"
   ]
  },
  {
   "cell_type": "code",
   "execution_count": null,
   "id": "intelligent-palace",
   "metadata": {
    "dotnet_interactive": {
     "language": "csharp"
    },
    "vscode": {
     "languageId": "dotnet-interactive.csharp"
    }
   },
   "outputs": [],
   "source": [
    "// Create and process the daily long SMA request\n",
    "var dailyLongSmaRequest = new DailySmaRequest \n",
    "{ \n",
    "    Identifier = new Identifier { Exchange = exchange, Ticker = ticker }, \n",
    "    Length = longSma,\n",
    "    DateInterval = dateInterval\n",
    "};\n",
    "var dailyLongSmaReply = service.DailySma(dailyLongSmaRequest, headers);\n",
    "\n",
    "// Create and process the daily short SMA request\n",
    "var dailyShortSmaRequest = new DailySmaRequest \n",
    "{ \n",
    "    Identifier = new Identifier { Exchange = exchange, Ticker = ticker }, \n",
    "    Length = shortSma,\n",
    "    DateInterval = dateInterval\n",
    "};\n",
    "var dailyShortSmaReply = service.DailySma(dailyShortSmaRequest, headers);\n",
    "\n",
    "// Visualize requests' results\n",
    "//display(dailyLongSmaReply.Data.Count);\n",
    "//display(dailyShortSmaReply.Data.Count)"
   ]
  },
  {
   "cell_type": "markdown",
   "id": "quiet-river",
   "metadata": {},
   "source": [
    "### Step 4: Visualize data"
   ]
  },
  {
   "cell_type": "markdown",
   "id": "hindu-burst",
   "metadata": {},
   "source": [
    "#### 4.1 Select data"
   ]
  },
  {
   "cell_type": "code",
   "execution_count": null,
   "id": "streaming-elder",
   "metadata": {
    "dotnet_interactive": {
     "language": "csharp"
    },
    "vscode": {
     "languageId": "dotnet-interactive.csharp"
    }
   },
   "outputs": [],
   "source": [
    "// Extract the price and the SMAs\n",
    "var prices = dailyLongSmaReply.Data.Select(t => new Tuple<DateTime, double>(new DateTime(t.Date.Year, t.Date.Month, t.Date.Day), t.Value));\n",
    "var longSmaData = dailyLongSmaReply.Data.Select(t => new Tuple<DateTime, double?>(new DateTime(t.Date.Year, t.Date.Month, t.Date.Day), t.Average));\n",
    "var shortSmaData = dailyShortSmaReply.Data.Select(t => new Tuple<DateTime, double?>(new DateTime(t.Date.Year, t.Date.Month, t.Date.Day), t.Average));"
   ]
  },
  {
   "cell_type": "markdown",
   "id": "pharmaceutical-rachel",
   "metadata": {},
   "source": [
    "#### 4.2 Plot SMAs and daily prices\n",
    "Plot SMA request results with the package of your choice.<br>*`XPlot.Plotly`* is used as per open source display package. "
   ]
  },
  {
   "cell_type": "code",
   "execution_count": null,
   "id": "constant-interim",
   "metadata": {
    "dotnet_interactive": {
     "language": "csharp"
    },
    "vscode": {
     "languageId": "dotnet-interactive.csharp"
    }
   },
   "outputs": [],
   "source": [
    "var smaGraph = new List<Scattergl>\n",
    "{\n",
    "    new Scattergl\n",
    "    {\n",
    "        name = $\"{longSma}-days SMA\",\n",
    "        mode = \"lines\",\n",
    "        x = longSmaData.Select(c => c.Item1),\n",
    "        y = longSmaData.Select(c => c.Item2),\n",
    "    },\n",
    "    new Scattergl\n",
    "    {\n",
    "        name = $\"{shortSma}-days SMA\",\n",
    "        mode = \"lines\",\n",
    "        x = shortSmaData.Select(c => c.Item1),\n",
    "        y = shortSmaData.Select(c => c.Item2),\n",
    "    },\n",
    "    new Scattergl\n",
    "    {\n",
    "        name = \"Price\",\n",
    "        mode = \"lines\",\n",
    "        x = prices.Select(c => c.Item1),\n",
    "        y = prices.Select(c => c.Item2)\n",
    "    }\n",
    "};\n",
    "\n",
    "var chart = Chart.Plot(smaGraph);\n",
    "chart.WithTitle($\"Long & short SMAs and daily prices for {ticker}\");\n",
    "chart.WithXTitle($\"Date\");\n",
    "chart.Width = 1500;\n",
    "chart.Height = 800;\n",
    "display(chart);"
   ]
  }
 ],
 "metadata": {
  "kernelspec": {
   "display_name": ".NET (C#)",
   "language": "C#",
   "name": ".net-csharp"
  },
  "language_info": {
   "file_extension": ".cs",
   "mimetype": "text/x-csharp",
   "name": "C#",
   "pygments_lexer": "csharp",
   "version": "9.0"
  }
 },
 "nbformat": 4,
 "nbformat_minor": 5
}
