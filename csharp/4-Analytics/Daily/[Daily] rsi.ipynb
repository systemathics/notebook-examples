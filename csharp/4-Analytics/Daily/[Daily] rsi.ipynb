{
 "cells": [
  {
   "cell_type": "markdown",
   "id": "combined-rugby",
   "metadata": {},
   "source": [
    "# Generate RSI using daily data service - C#\n",
    "\n",
    "### Overview\n",
    "*The Relative Strength Index*, developed by J. Welles Wilder measures the speed and change of price movements. *RSI* oscillates between zero and 100. Traditionally the RSI is considered:\n",
    "* overbought when above 70\n",
    "* oversold when below 30\n",
    "\n",
    "This sample demonstrates how to request and plot **on-demand** *Relative Strength Index - RSI* from a daily data service.\n",
    "\n",
    "### Inputs/outputs\n",
    "RSI's request require instrument's identifier, date time intervals and number of periods as per inputs.\n",
    "\n",
    "$$ RSI = 100 - \\frac{100}{1 + RS} $$\n",
    "Where:\n",
    "* $RS = \\frac{AvgU}{AvgD}$ is the *relative strength*\n",
    "* *AvgU* average of last N *close prices* up moves\n",
    "* *AvgD* average of last N *close prices* down moves\n",
    "* *N* is the period of the RSI\n",
    "\n",
    "This sample shows how to plot a simple graph for basis technical analysis using an open source library. \n",
    "\n",
    "### Services used\n",
    "This sample uses *gRPC requests* in order to retrieve daily data from the hosted service. The queried endpoint in this script are:\n",
    "* *DailyRsiService*: to directly retrieve daily RSI data from the server\n",
    "\n",
    "### Packages required\n",
    "1. Systemathics packages:\n",
    "    * *Systemathics.Apis.Type.Shared.V1*\n",
    "    * *Systemathics.Apis.Services.DailyAnalytics.V1*\n",
    "2. Open source packages\n",
    "    * *Google.Protobuf.WellKnownTypes*\n",
    "    * *Google.Type*\n",
    "    * *Grpc.Net.Client*\n",
    "    * *Grpc.Core*\n",
    "    * *XPlot.Plotly* as per display package\n",
    "\n",
    "***"
   ]
  },
  {
   "cell_type": "markdown",
   "id": "gothic-mouse",
   "metadata": {},
   "source": [
    "# Run daily RSI sample"
   ]
  },
  {
   "cell_type": "markdown",
   "id": "egyptian-lighter",
   "metadata": {},
   "source": [
    "### Step 1: Install packages"
   ]
  },
  {
   "cell_type": "code",
   "execution_count": null,
   "id": "sporting-milton",
   "metadata": {
    "dotnet_interactive": {
     "language": "csharp"
    },
    "vscode": {
     "languageId": "dotnet-interactive.csharp"
    }
   },
   "outputs": [],
   "source": [
    "#i \"nuget: file:///home/jovyan/.nuget/packages/\"\n",
    "#i \"nuget: https://api.nuget.org/v3/index.json\"\n",
    "#r \"nuget: Systemathics.Apis, 2.38.*-pre*\"\n",
    "#r \"nuget: XPlot.Plotly.Interactive\""
   ]
  },
  {
   "cell_type": "code",
   "execution_count": null,
   "id": "antique-harris",
   "metadata": {
    "dotnet_interactive": {
     "language": "csharp"
    },
    "vscode": {
     "languageId": "dotnet-interactive.csharp"
    }
   },
   "outputs": [],
   "source": [
    "using Systemathics.Apis.Helpers;\n",
    "using Systemathics.Apis.Type.Shared.V1;\n",
    "using Systemathics.Apis.Services.DailyAnalytics.V1;\n",
    "using Google.Protobuf.WellKnownTypes;\n",
    "using Google.Type;\n",
    "using Grpc.Net.Client;\n",
    "using Grpc.Core;\n",
    "using XPlot.Plotly;\n",
    "using XPlot.Plotly.Interactive;"
   ]
  },
  {
   "cell_type": "markdown",
   "id": "narrow-vault",
   "metadata": {},
   "source": [
    "### Step 2: Prepare API requests\n",
    "The following code snippets retrieve authentication token and prepare the API request by: opening the *channel* and adding the *token* to the request header:"
   ]
  },
  {
   "cell_type": "code",
   "execution_count": null,
   "id": "whole-absorption",
   "metadata": {
    "dotnet_interactive": {
     "language": "csharp"
    },
    "vscode": {
     "languageId": "dotnet-interactive.csharp"
    }
   },
   "outputs": [],
   "source": [
    "// Get token as metadata\n",
    "var headers = TokenHelpers.GetTokenAsMetaData();\n",
    "\n",
    "// Create communication channel\n",
    "var channel = ChannelHelpers.GetChannel();"
   ]
  },
  {
   "cell_type": "markdown",
   "id": "functioning-webcam",
   "metadata": {},
   "source": [
    "### Step 3: Retrieve data"
   ]
  },
  {
   "cell_type": "markdown",
   "id": "virtual-lambda",
   "metadata": {},
   "source": [
    "#### 3.1 Request Parameters\n",
    "To request *daily rsi* service, we need to specify:\n",
    "* Instrument identifier\n",
    "* Time period selection: select start and end dates\n",
    "* The RSI parameters"
   ]
  },
  {
   "cell_type": "markdown",
   "id": "forward-rings",
   "metadata": {},
   "source": [
    "#### 3.1 Instrument selection"
   ]
  },
  {
   "cell_type": "code",
   "execution_count": null,
   "id": "labeled-murray",
   "metadata": {
    "dotnet_interactive": {
     "language": "csharp"
    },
    "vscode": {
     "languageId": "dotnet-interactive.csharp"
    }
   },
   "outputs": [],
   "source": [
    "// Set instrument\n",
    "var ticker = \"AAPL\";\n",
    "var exchange = \"XNGS\";"
   ]
  },
  {
   "cell_type": "markdown",
   "id": "previous-environment",
   "metadata": {},
   "source": [
    "#### 3.2 RSI parameters"
   ]
  },
  {
   "cell_type": "code",
   "execution_count": null,
   "id": "capital-socket",
   "metadata": {
    "dotnet_interactive": {
     "language": "csharp"
    },
    "vscode": {
     "languageId": "dotnet-interactive.csharp"
    }
   },
   "outputs": [],
   "source": [
    "// Set the RSI window length\n",
    "var length = 14;"
   ]
  },
  {
   "cell_type": "markdown",
   "id": "understanding-breeding",
   "metadata": {},
   "source": [
    "#### 3.3 Time period selection"
   ]
  },
  {
   "cell_type": "code",
   "execution_count": null,
   "id": "animal-police",
   "metadata": {
    "dotnet_interactive": {
     "language": "csharp"
    },
    "vscode": {
     "languageId": "dotnet-interactive.csharp"
    }
   },
   "outputs": [],
   "source": [
    "// Set data interval (we are using Google date time format)\n",
    "var dateInterval = new DateInterval()\n",
    "{\n",
    "  StartDate = new Date { Year = 2019, Month = 01, Day = 01 },\n",
    "  EndDate = new Date { Year = 2020, Month = 12, Day = 31 }\n",
    "};\n"
   ]
  },
  {
   "cell_type": "markdown",
   "id": "domestic-death",
   "metadata": {},
   "source": [
    "#### 3.4 RSI request creation\n",
    "The following code snippet creates *gRPC client*, process request daily RSI and ensure that the reply is not empty:"
   ]
  },
  {
   "cell_type": "code",
   "execution_count": null,
   "id": "excessive-gender",
   "metadata": {
    "dotnet_interactive": {
     "language": "csharp"
    },
    "vscode": {
     "languageId": "dotnet-interactive.csharp"
    }
   },
   "outputs": [],
   "source": [
    "// Instantiate the daily RSI service\n",
    "var service = new DailyRsiService.DailyRsiServiceClient(channel);\n",
    "\n",
    "// Create and process the daily RSI request\n",
    "var request = new DailyRsiRequest \n",
    "{ \n",
    "    Identifier = new Identifier { Exchange = exchange, Ticker = ticker }, \n",
    "    Length = length,\n",
    "    DateInterval = dateInterval\n",
    "};\n",
    "var reply = service.DailyRsi(request, headers);\n",
    "\n",
    "// Visualize requests' results\n",
    "//display(dailyRsiReply.Data)"
   ]
  },
  {
   "cell_type": "markdown",
   "id": "devoted-ozone",
   "metadata": {},
   "source": [
    "### Step 4: Visualize data"
   ]
  },
  {
   "cell_type": "markdown",
   "id": "clinical-spyware",
   "metadata": {},
   "source": [
    "#### 4.1 Select data"
   ]
  },
  {
   "cell_type": "code",
   "execution_count": null,
   "id": "hazardous-folks",
   "metadata": {
    "dotnet_interactive": {
     "language": "csharp"
    },
    "vscode": {
     "languageId": "dotnet-interactive.csharp"
    }
   },
   "outputs": [],
   "source": [
    "// Extract the price and the rsi\n",
    "var prices = reply.Data.Select(t => new Tuple<DateTime, double>(new DateTime(t.Date.Year, t.Date.Month, t.Date.Day), t.Value));\n",
    "var rsiData = reply.Data.Select(t => new Tuple<DateTime, double>(new DateTime(t.Date.Year, t.Date.Month, t.Date.Day), t.Rsi));"
   ]
  },
  {
   "cell_type": "code",
   "execution_count": null,
   "id": "monthly-finish",
   "metadata": {
    "dotnet_interactive": {
     "language": "csharp"
    },
    "vscode": {
     "languageId": "dotnet-interactive.csharp"
    }
   },
   "outputs": [],
   "source": [
    "var overbought = reply.Data.Select(t => new Tuple<DateTime, double>(new DateTime(t.Date.Year, t.Date.Month, t.Date.Day), 70));\n",
    "var oversold = reply.Data.Select(t => new Tuple<DateTime, double>(new DateTime(t.Date.Year, t.Date.Month, t.Date.Day), 30));"
   ]
  },
  {
   "cell_type": "markdown",
   "id": "seventh-harvey",
   "metadata": {},
   "source": [
    "#### 4.2 Plot RSI\n",
    "Plot RSI request results with the package of your choice.<br>*`XPlot.Plotly`* is used as per open source display package."
   ]
  },
  {
   "cell_type": "code",
   "execution_count": null,
   "id": "acceptable-bulletin",
   "metadata": {
    "dotnet_interactive": {
     "language": "csharp"
    },
    "vscode": {
     "languageId": "dotnet-interactive.csharp"
    }
   },
   "outputs": [],
   "source": [
    "var rsiGraph = new List<Scattergl>\n",
    "{\n",
    "    new Scattergl\n",
    "    {\n",
    "        name = $\"{length}-days RSI\",\n",
    "        mode = \"lines\",\n",
    "        x = rsiData.Select(c => c.Item1),\n",
    "        y = rsiData.Select(c => c.Item2),\n",
    "        yaxis = \"y2\"\n",
    "    },\n",
    "    new Scattergl\n",
    "    {\n",
    "        name = \"Price\",\n",
    "        mode = \"lines\",\n",
    "        x = prices.Select(c => c.Item1),\n",
    "        y = prices.Select(c => c.Item2)\n",
    "    },\n",
    "    new Scattergl\n",
    "    {\n",
    "        name = \"Overbought\",\n",
    "        mode = \"lines\",\n",
    "        x = overbought.Select(c => c.Item1),\n",
    "        y = overbought.Select(c => c.Item2),\n",
    "        yaxis = \"y2\"\n",
    "    },\n",
    "    new Scattergl\n",
    "    {\n",
    "        name = \"Oversold\",\n",
    "        mode = \"lines\",\n",
    "        x = oversold.Select(c => c.Item1),\n",
    "        y = oversold.Select(c => c.Item2),\n",
    "        yaxis = \"y2\"\n",
    "    }\n",
    "};\n",
    "\n",
    "var layout = new Layout.Layout{ \n",
    "    title = $\"RSI and daily prices for {ticker}-{exchange}\",\n",
    "    yaxis = new Yaxis {\n",
    "        title = \"Price\", \n",
    "        autorange = true,\n",
    "        side = \"left\",\n",
    "    },\n",
    "    yaxis2 = new Yaxis {\n",
    "        title = \"RSI\", \n",
    "        autorange = true,\n",
    "        side = \"right\",  \n",
    "    },\n",
    "};\n",
    "var chart = Chart.Plot(rsiGraph, layout);\n",
    "chart.WithXTitle($\"Date\");\n",
    "chart.Width = 1500;\n",
    "chart.Height = 800;\n",
    "display(chart);"
   ]
  }
 ],
 "metadata": {
  "kernelspec": {
   "display_name": ".NET (C#)",
   "language": "C#",
   "name": ".net-csharp"
  },
  "language_info": {
   "file_extension": ".cs",
   "mimetype": "text/x-csharp",
   "name": "C#",
   "pygments_lexer": "csharp",
   "version": "9.0"
  }
 },
 "nbformat": 4,
 "nbformat_minor": 5
}
