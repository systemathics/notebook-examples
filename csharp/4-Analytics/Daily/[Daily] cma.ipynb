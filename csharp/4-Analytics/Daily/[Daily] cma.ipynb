{
 "cells": [
  {
   "cell_type": "markdown",
   "id": "forbidden-athens",
   "metadata": {},
   "source": [
    "# Generate CMA using daily data service - C#\n",
    "\n",
    "### Overview\n",
    "Moving averages smooth the price movements by filtering out the \"noise\" caused by short-term price fluctuations.They also form the building blocks for a wide range of technical indicators.\n",
    "\n",
    "Computing moving averages over a defined number of time periods is useful to:\n",
    "* identify the trend direction\n",
    "* determine support and resistance levels\n",
    "\n",
    "This sample demonstrates how to request and plot **on-demand** *cumulative moving average - CMA* from a daily data service.\n",
    "\n",
    "### Inputs/outputs\n",
    "Cumulative moving averages' requests require instrument's identifier, date time intervals and number of periods as per inputs.\n",
    "\n",
    "CMA is the average of all the data points.\n",
    "\n",
    "This sample shows how to plot a simple graph for basis technical analysis using an open source library. \n",
    "\n",
    "### Services used\n",
    "This sample uses *gRPC requests* in order to retrieve daily data from the hosted service. The queried endpoint in this script are:\n",
    "* *DailyCmaService*: to directly retrieve daily cma data from the server\n",
    "\n",
    "### Packages required\n",
    "1. Systemathics packages:\n",
    "    * *Systemathics.Apis.Type.Shared.V1*\n",
    "    * *Systemathics.Apis.Services.DailyAnalytics.V1*\n",
    "2. Open source packages\n",
    "    * *Google.Protobuf.WellKnownTypes*\n",
    "    * *Google.Type*\n",
    "    * *Grpc.Net.Client*\n",
    "    * *Grpc.Core*\n",
    "    * *XPlot.Plotly* as per display package\n",
    "\n",
    "***"
   ]
  },
  {
   "cell_type": "markdown",
   "id": "seeing-headquarters",
   "metadata": {},
   "source": [
    "# Run daily CMA sample"
   ]
  },
  {
   "cell_type": "markdown",
   "id": "binding-yeast",
   "metadata": {},
   "source": [
    "### Step 1: Install packages"
   ]
  },
  {
   "cell_type": "code",
   "execution_count": null,
   "id": "increased-omega",
   "metadata": {
    "dotnet_interactive": {
     "language": "csharp"
    },
    "vscode": {
     "languageId": "dotnet-interactive.csharp"
    }
   },
   "outputs": [],
   "source": [
    "#i \"nuget: file:///home/jovyan/.nuget/packages/\"\n",
    "#i \"nuget: https://api.nuget.org/v3/index.json\"\n",
    "#r \"nuget: Systemathics.Apis, 2.32.*\"\n",
    "#r \"nuget: XPlot.Plotly.Interactive, 4.0.6\""
   ]
  },
  {
   "cell_type": "code",
   "execution_count": null,
   "id": "athletic-raleigh",
   "metadata": {
    "dotnet_interactive": {
     "language": "csharp"
    },
    "vscode": {
     "languageId": "dotnet-interactive.csharp"
    }
   },
   "outputs": [],
   "source": [
    "using Systemathics.Apis.Helpers;\n",
    "using Systemathics.Apis.Type.Shared.V1;\n",
    "using Systemathics.Apis.Services.DailyAnalytics.V1;\n",
    "using Google.Protobuf.WellKnownTypes;\n",
    "using Google.Type;\n",
    "using Grpc.Net.Client;\n",
    "using Grpc.Core;\n",
    "using XPlot.Plotly;\n",
    "using XPlot.Plotly.Interactive;"
   ]
  },
  {
   "cell_type": "markdown",
   "id": "changed-entity",
   "metadata": {},
   "source": [
    "### Step 2: Prepare API requests\n",
    "The following code snippets retrieve authentication token and prepare the API request by: opening the *channel* and adding the *token* to the request header:"
   ]
  },
  {
   "cell_type": "code",
   "execution_count": null,
   "id": "persistent-mechanics",
   "metadata": {
    "dotnet_interactive": {
     "language": "csharp"
    },
    "vscode": {
     "languageId": "dotnet-interactive.csharp"
    }
   },
   "outputs": [],
   "source": [
    "// Get token as metadata\n",
    "var headers = TokenHelpers.GetTokenAsMetaData();\n",
    "\n",
    "// Create communication channel\n",
    "var channel = ChannelHelpers.GetChannel();"
   ]
  },
  {
   "cell_type": "markdown",
   "id": "dominican-trance",
   "metadata": {},
   "source": [
    "### Step 3: Retrieve data\n",
    "To request *daily cma* service, we need to specify:\n",
    "* Instrument identifier\n",
    "* Time period selection: select start and end dates"
   ]
  },
  {
   "cell_type": "markdown",
   "id": "headed-charleston",
   "metadata": {},
   "source": [
    "#### 3.1 Instrument selection"
   ]
  },
  {
   "cell_type": "code",
   "execution_count": null,
   "id": "suspended-purchase",
   "metadata": {
    "dotnet_interactive": {
     "language": "csharp"
    },
    "vscode": {
     "languageId": "dotnet-interactive.csharp"
    }
   },
   "outputs": [],
   "source": [
    "// Set instrument\n",
    "var ticker = \"AAPL\";\n",
    "var exchange = \"XNGS\";"
   ]
  },
  {
   "cell_type": "markdown",
   "id": "departmental-strip",
   "metadata": {},
   "source": [
    "#### 3.2 Time period selection"
   ]
  },
  {
   "cell_type": "code",
   "execution_count": null,
   "id": "billion-musical",
   "metadata": {
    "dotnet_interactive": {
     "language": "csharp"
    },
    "vscode": {
     "languageId": "dotnet-interactive.csharp"
    }
   },
   "outputs": [],
   "source": [
    "// Set data interval (we are using Google date time format)\n",
    "var dateInterval = new DateInterval()\n",
    "{\n",
    "  StartDate = new Date { Year = 2019, Month = 01, Day = 01 },\n",
    "  EndDate = new Date { Year = 2020, Month = 12, Day = 31 }\n",
    "};\n"
   ]
  },
  {
   "cell_type": "markdown",
   "id": "unnecessary-tennessee",
   "metadata": {},
   "source": [
    "#### 3.3 CMA request creation\n",
    "The following code snippet creates *gRPC client*, process daily CMA requests and ensure that the reply is not empty:"
   ]
  },
  {
   "cell_type": "code",
   "execution_count": null,
   "id": "straight-niger",
   "metadata": {
    "dotnet_interactive": {
     "language": "csharp"
    },
    "vscode": {
     "languageId": "dotnet-interactive.csharp"
    }
   },
   "outputs": [],
   "source": [
    "// Instantiate the daily CMA service\n",
    "var service = new DailyCmaService.DailyCmaServiceClient(channel);"
   ]
  },
  {
   "cell_type": "code",
   "execution_count": null,
   "id": "opening-receptor",
   "metadata": {
    "dotnet_interactive": {
     "language": "csharp"
    },
    "vscode": {
     "languageId": "dotnet-interactive.csharp"
    }
   },
   "outputs": [],
   "source": [
    "// Create and process the daily long CMA request\n",
    "var request = new DailyCmaRequest\n",
    "{ \n",
    "    Identifier = new Identifier { Exchange = exchange, Ticker = ticker },\n",
    "    DateInterval = dateInterval \n",
    "};\n",
    "var reply = service.DailyCma(request, headers);\n",
    "\n",
    "// Visualize requests' results\n",
    "//display(reply.Data)"
   ]
  },
  {
   "cell_type": "markdown",
   "id": "demonstrated-runner",
   "metadata": {},
   "source": [
    "### Step 4: Visualize data"
   ]
  },
  {
   "cell_type": "markdown",
   "id": "complimentary-republican",
   "metadata": {},
   "source": [
    "#### 4.1 Select data"
   ]
  },
  {
   "cell_type": "code",
   "execution_count": null,
   "id": "false-exhibition",
   "metadata": {
    "dotnet_interactive": {
     "language": "csharp"
    },
    "vscode": {
     "languageId": "dotnet-interactive.csharp"
    }
   },
   "outputs": [],
   "source": [
    "// Extract the price and the volume\n",
    "var prices = reply.Data.Select(t => new Tuple<DateTime, double>(new DateTime(t.Date.Year, t.Date.Month, t.Date.Day), t.Value));\n",
    "var cmaData = reply.Data.Select(t => new Tuple<DateTime, double>(new DateTime(t.Date.Year, t.Date.Month, t.Date.Day), t.Average));"
   ]
  },
  {
   "cell_type": "markdown",
   "id": "smooth-personal",
   "metadata": {},
   "source": [
    "#### 4.2 Plot CMA and daily prices\n",
    "Plot CMA request results with the package of your choice.<br>*`XPlot.Plotly`* is used as per open source display package. "
   ]
  },
  {
   "cell_type": "code",
   "execution_count": null,
   "id": "civil-dragon",
   "metadata": {
    "dotnet_interactive": {
     "language": "csharp"
    },
    "vscode": {
     "languageId": "dotnet-interactive.csharp"
    }
   },
   "outputs": [],
   "source": [
    "var cmaGraph = new List<Scattergl>\n",
    "{\n",
    "    new Scattergl\n",
    "    {\n",
    "        name = \"CMA\",\n",
    "        mode = \"lines\",\n",
    "        x = cmaData.Select(c => c.Item1),\n",
    "        y = cmaData.Select(c => c.Item2),\n",
    "    },\n",
    "    new Scattergl\n",
    "    {\n",
    "        name = \"Price\",\n",
    "        mode = \"lines\",\n",
    "        x = prices.Select(c => c.Item1),\n",
    "        y = prices.Select(c => c.Item2)\n",
    "    }\n",
    "};\n",
    "\n",
    "var chart = Chart.Plot(cmaGraph);\n",
    "chart.WithTitle($\"CMA and daily prices for {ticker}\");\n",
    "chart.WithXTitle($\"Date\");\n",
    "chart.Width = 1500;\n",
    "chart.Height = 800;\n",
    "display(chart);"
   ]
  }
 ],
 "metadata": {
  "kernelspec": {
   "display_name": ".NET (C#)",
   "language": "C#",
   "name": ".net-csharp"
  },
  "language_info": {
   "file_extension": ".cs",
   "mimetype": "text/x-csharp",
   "name": "C#",
   "pygments_lexer": "csharp",
   "version": "9.0"
  }
 },
 "nbformat": 4,
 "nbformat_minor": 5
}
