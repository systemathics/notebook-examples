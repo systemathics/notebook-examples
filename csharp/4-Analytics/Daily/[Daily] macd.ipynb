{
 "cells": [
  {
   "cell_type": "markdown",
   "id": "collectible-stopping",
   "metadata": {},
   "source": [
    "# Generate MACD using daily data service - C#\n",
    "\n",
    "### Overview\n",
    "*Moving Average Convergence/Divergence Oscillator* was developed by Gerald Appel and represents the difference between two moving averages of different lengths.\n",
    "\n",
    "Commonly used MACD the 12-day EMA less the 26-day EMA, but the parameters can be adapted when required. As its name implies, MACD is all about convergence and divergence of the two moving averages\n",
    "\n",
    "MACD oscilaltes around the zero line as follows:\n",
    "* positive values increase as the shorter moving average diverges further from the longer one\n",
    "* negative values indicate that the shorter moving average is below the longer one\n",
    "\n",
    "This sample demonstrates how to request and plot **on-demand** *Moving Average Convergence/Divergence Oscillator - MACD* from a daily data service.\n",
    "\n",
    "### Inputs/outputs\n",
    "Moving Average Convergence/Divergence Oscillator's request require instrument's identifier, date time intervals and number of periods of each moving average as per inputs.\n",
    "\n",
    "*MACD* is computed as follows:\n",
    "\n",
    "$$ MACD = 12day,EMA - 26day,EMA $$\n",
    "\n",
    "This sample shows how to plot a simple graph for basis technical analysis using an open source library. \n",
    "\n",
    "### Services used\n",
    "This sample uses *gRPC requests* in order to retrieve MACD indicator from the hosted service. The queried endpoint in this script are:\n",
    "* *DailyMacdService*: to directly retrieve daily data from the server\n",
    "\n",
    "### Packages required\n",
    "1. Systemathics packages:\n",
    "    * *Systemathics.Apis.Type.Shared.V1*\n",
    "    * *Systemathics.Apis.Services.DailyAnalytics.V1*\n",
    "2. Open source packages\n",
    "    * *Google.Protobuf.WellKnownTypes*\n",
    "    * *Google.Type*\n",
    "    * *Grpc.Net.Client*\n",
    "    * *Grpc.Core*\n",
    "    * *XPlot.Plotly* as per display package\n",
    "\n",
    "***"
   ]
  },
  {
   "cell_type": "markdown",
   "id": "sweet-findings",
   "metadata": {},
   "source": [
    "# Run daily MACD sample"
   ]
  },
  {
   "cell_type": "markdown",
   "id": "planned-affairs",
   "metadata": {},
   "source": [
    "### Step 1: Install packages"
   ]
  },
  {
   "cell_type": "code",
   "execution_count": null,
   "id": "australian-cursor",
   "metadata": {
    "dotnet_interactive": {
     "language": "csharp"
    }
   },
   "outputs": [],
   "source": [
    "#i \"nuget: file:///home/jovyan/.nuget/packages/\"\n",
    "#i \"nuget: https://api.nuget.org/v3/index.json\"\n",
    "#r \"nuget: Systemathics.Apis\"\n",
    "#r \"nuget: XPlot.Plotly.Interactive\""
   ]
  },
  {
   "cell_type": "code",
   "execution_count": null,
   "id": "stylish-courage",
   "metadata": {
    "dotnet_interactive": {
     "language": "csharp"
    }
   },
   "outputs": [],
   "source": [
    "using Systemathics.Apis.Helpers;\n",
    "using Systemathics.Apis.Type.Shared.V1;\n",
    "using Systemathics.Apis.Services.DailyAnalytics.V1;\n",
    "using Google.Protobuf.WellKnownTypes;\n",
    "using Google.Type;\n",
    "using Grpc.Net.Client;\n",
    "using Grpc.Core;\n",
    "using XPlot.Plotly;\n",
    "using XPlot.Plotly.Interactive;"
   ]
  },
  {
   "cell_type": "markdown",
   "id": "tough-opinion",
   "metadata": {},
   "source": [
    "### Step 2: Prepare API requests\n",
    "The following code snippets retrieve authentication token and prepare the API request by: opening the *channel* and adding the *token* to the request header:"
   ]
  },
  {
   "cell_type": "code",
   "execution_count": null,
   "id": "commercial-index",
   "metadata": {
    "dotnet_interactive": {
     "language": "csharp"
    }
   },
   "outputs": [],
   "source": [
    "// Get token as metadata\n",
    "var headers = TokenHelpers.GetTokenAsMetaData();\n",
    "\n",
    "// Create communication channel\n",
    "var channel = ChannelHelpers.GetChannel();"
   ]
  },
  {
   "cell_type": "markdown",
   "id": "impaired-addition",
   "metadata": {},
   "source": [
    "### Step 3: Retrieve data"
   ]
  },
  {
   "cell_type": "markdown",
   "id": "designing-staff",
   "metadata": {},
   "source": [
    "#### 3.1 Request Parameters\n",
    "To request *daily MACD* service, we need to specify:\n",
    "* Instrument identifier\n",
    "* Time period selection: select start and end dates\n",
    "* The MACD parameters"
   ]
  },
  {
   "cell_type": "code",
   "execution_count": null,
   "id": "compatible-excellence",
   "metadata": {
    "dotnet_interactive": {
     "language": "csharp"
    }
   },
   "outputs": [],
   "source": [
    "// Set instrument\n",
    "var ticker = \"AAPL\";\n",
    "var exchange = \"XNGS\";"
   ]
  },
  {
   "cell_type": "markdown",
   "id": "multiple-punishment",
   "metadata": {},
   "source": [
    "#### 3.2 MACD parameters"
   ]
  },
  {
   "cell_type": "code",
   "execution_count": null,
   "id": "attached-speed",
   "metadata": {
    "dotnet_interactive": {
     "language": "csharp"
    }
   },
   "outputs": [],
   "source": [
    "// Set EMAs lengths\n",
    "var longEma = 26;\n",
    "var shortEma = 12;"
   ]
  },
  {
   "cell_type": "markdown",
   "id": "taken-garlic",
   "metadata": {},
   "source": [
    "#### 3.3 Time period selection"
   ]
  },
  {
   "cell_type": "code",
   "execution_count": null,
   "id": "manual-entry",
   "metadata": {
    "dotnet_interactive": {
     "language": "csharp"
    }
   },
   "outputs": [],
   "source": [
    "// Set data interval (we are using Google date time format)\n",
    "var dateIntervals = new DateInterval()\n",
    "{\n",
    "  StartDate = new Date { Year = 2019, Month = 01, Day = 01 },\n",
    "  EndDate = new Date { Year = 2020, Month = 12, Day = 31 }\n",
    "};\n",
    "\n",
    "// Generate constraints based on the previous date selection\n",
    "// Time constraints are not neeeded for the splits\n",
    "var constraints = new Constraints(); \n",
    "constraints.DateIntervals.Add(dateIntervals);"
   ]
  },
  {
   "cell_type": "markdown",
   "id": "forty-hundred",
   "metadata": {},
   "source": [
    "#### 3.4 MACD request creation\n",
    "The following code snippet creates *gRPC client*, process daily MACD requests and returns the reply."
   ]
  },
  {
   "cell_type": "code",
   "execution_count": null,
   "id": "passing-isolation",
   "metadata": {
    "dotnet_interactive": {
     "language": "csharp"
    }
   },
   "outputs": [],
   "source": [
    "// Instantiate the daily MACD service\n",
    "var service = new DailyMacdService.DailyMacdServiceClient(channel);\n",
    "\n",
    "// Create and process the daily MACD request\n",
    "var request = new DailyMacdRequest \n",
    "{ \n",
    "    Identifier = new Identifier { Exchange = exchange, Ticker = ticker }, \n",
    "    Short = shortEma, \n",
    "    Long = longEma,\n",
    "    Constraints = constraints\n",
    "};\n",
    "var reply = service.DailyMacd(request, headers);\n",
    "\n",
    "// Visualize requests' results\n",
    "//display(dailyMacdReply.Data)"
   ]
  },
  {
   "cell_type": "markdown",
   "id": "extended-internet",
   "metadata": {},
   "source": [
    "### Step 4: Visualize data"
   ]
  },
  {
   "cell_type": "markdown",
   "id": "surface-change",
   "metadata": {},
   "source": [
    "#### 4.1 Select data"
   ]
  },
  {
   "cell_type": "code",
   "execution_count": null,
   "id": "domestic-magic",
   "metadata": {
    "dotnet_interactive": {
     "language": "csharp"
    }
   },
   "outputs": [],
   "source": [
    "// Extract the price and the macd\n",
    "var prices = reply.Data.Select(t => new Tuple<DateTime, double>(new DateTime(t.Date.Year, t.Date.Month, t.Date.Day), t.Value));\n",
    "var macdData = reply.Data.Select(t => new Tuple<DateTime, double>(new DateTime(t.Date.Year, t.Date.Month, t.Date.Day), t.Macd));\n",
    "var longEma = reply.Data.Select(t => new Tuple<DateTime, double>(new DateTime(t.Date.Year, t.Date.Month, t.Date.Day), t.Long));\n",
    "var shortEma = reply.Data.Select(t => new Tuple<DateTime, double>(new DateTime(t.Date.Year, t.Date.Month, t.Date.Day), t.Short));"
   ]
  },
  {
   "cell_type": "markdown",
   "id": "pleased-parks",
   "metadata": {},
   "source": [
    "#### 4.2 Plot MACD and daily prices\n",
    "Plot MACD request results with the package of your choice.<br>*`XPlot.Plotly`* is used as per open source display package. "
   ]
  },
  {
   "cell_type": "code",
   "execution_count": null,
   "id": "magnetic-columbus",
   "metadata": {
    "dotnet_interactive": {
     "language": "csharp"
    }
   },
   "outputs": [],
   "source": [
    "var macdGraph = new List<Scattergl>\n",
    "{\n",
    "    new Scattergl\n",
    "    {\n",
    "        name = \"MACD\",\n",
    "        mode = \"lines\",\n",
    "        x = macdData.Select(c => c.Item1),\n",
    "        y = macdData.Select(c => c.Item2),\n",
    "        yaxis = \"y2\"\n",
    "    },\n",
    "    new Scattergl\n",
    "    {\n",
    "        name = \"Price\",\n",
    "        mode = \"lines\",\n",
    "        x = prices.Select(c => c.Item1),\n",
    "        y = prices.Select(c => c.Item2)\n",
    "    },\n",
    "    new Scattergl\n",
    "    {\n",
    "        name = \"Long EMA\",\n",
    "        mode = \"lines\",\n",
    "        x = longEma.Select(c => c.Item1),\n",
    "        y = longEma.Select(c => c.Item2)\n",
    "    },\n",
    "    new Scattergl\n",
    "    {\n",
    "        name = \"Short EMA\",\n",
    "        mode = \"lines\",\n",
    "        x = shortEma.Select(c => c.Item1),\n",
    "        y = shortEma.Select(c => c.Item2)\n",
    "    }\n",
    "};\n",
    "\n",
    "var layout = new Layout.Layout{ \n",
    "    title = $\"MACD and daily prices for {ticker}-{exchange}\",\n",
    "    yaxis = new Yaxis {\n",
    "        title = \"Price\", \n",
    "        autorange = true,\n",
    "        side = \"left\",\n",
    "    },\n",
    "    yaxis2 = new Yaxis {\n",
    "        title = \"MACD\", \n",
    "        autorange = true,\n",
    "        side = \"right\",  \n",
    "    },\n",
    "};\n",
    "var chart = Chart.Plot(macdGraph, layout);\n",
    "chart.WithXTitle($\"Date\");\n",
    "chart.Width = 1500;\n",
    "chart.Height = 800;\n",
    "display(chart);"
   ]
  }
 ],
 "metadata": {
  "kernelspec": {
   "display_name": ".NET (C#)",
   "language": "C#",
   "name": ".net-csharp"
  },
  "language_info": {
   "file_extension": ".cs",
   "mimetype": "text/x-csharp",
   "name": "C#",
   "pygments_lexer": "csharp",
   "version": "9.0"
  }
 },
 "nbformat": 4,
 "nbformat_minor": 5
}
