{
 "cells": [
  {
   "cell_type": "markdown",
   "id": "assisted-refrigerator",
   "metadata": {},
   "source": [
    "# Generate SMA using dedicated service - C#\n",
    "\n",
    "### Overview\n",
    "Moving averages smooth the price movements by filtering out the \"noise\" caused by short-term price fluctuations.They also form the building blocks for a wide range of technical indicators.\n",
    "\n",
    "Computing moving averages over a defined number of time periods is useful to:\n",
    "* identify the trend direction\n",
    "* determine support and resistance levels\n",
    "\n",
    "This sample demonstrates how to request and plot **on-demand** *simple moving average - SMA* from a dedicated data service.\n",
    "\n",
    "### Inputs/outputs\n",
    "Simple moving averages' requests require instrument's identifier, date time intervals and number of periods as per inputs.\n",
    "\n",
    "Basically, SMA is formed by computing the average price of a security over a specific number of points. As its name implies, simple moving average is an average that moves. Old data is dropped and new data becomes available, causing the average to move along the time.\n",
    "\n",
    "N-points SMA data point is computed by adding up the last N period's trade prices and then dividing by N as follows:\n",
    "\n",
    "$$ SMA = \\frac{\\Sigma Price n}{N} $$\n",
    "Where:\n",
    "* *Price n* is the trade price of the *period n*\n",
    "* *N* is the count of time periods\n",
    "\n",
    "This sample shows how to plot a simple graph for basis technical analysis using an open source library. \n",
    "\n",
    "### Services used\n",
    "This sample uses *gRPC requests* in order to retrieve SMA indicator from the hosted service. The queried endpoint in this script are:\n",
    "* *TickSmaService*: to directly retrieve SMA data from the server\n",
    "\n",
    "### Packages required\n",
    "1. Systemathics packages:\n",
    "    * *Systemathics.Apis.Type.Shared.V1*\n",
    "    * *Systemathics.Apis.Services.TickAnalytics.V1*\n",
    "2. Open source packages\n",
    "    * *Google.Protobuf.WellKnownTypes*\n",
    "    * *Google.Type*\n",
    "    * *Grpc.Net.Client*\n",
    "    * *Grpc.Core*\n",
    "    * *XPlot.Plotly* as per display package\n",
    "\n",
    "***"
   ]
  },
  {
   "cell_type": "markdown",
   "id": "olive-title",
   "metadata": {},
   "source": [
    "# Run SMA sample"
   ]
  },
  {
   "cell_type": "markdown",
   "id": "junior-elephant",
   "metadata": {},
   "source": [
    "### Step 1: Install packages"
   ]
  },
  {
   "cell_type": "code",
   "execution_count": null,
   "id": "union-terminology",
   "metadata": {
    "dotnet_interactive": {
     "language": "csharp"
    }
   },
   "outputs": [],
   "source": [
    "#i \"nuget: file:///home/jovyan/.nuget/packages/\"\n",
    "#i \"nuget: https://api.nuget.org/v3/index.json\"\n",
    "#r \"nuget: Systemathics.Apis\"\n",
    "#r \"nuget: XPlot.Plotly.Interactive\""
   ]
  },
  {
   "cell_type": "code",
   "execution_count": null,
   "id": "agreed-exchange",
   "metadata": {
    "dotnet_interactive": {
     "language": "csharp"
    }
   },
   "outputs": [],
   "source": [
    "using Systemathics.Apis.Helpers;\n",
    "using Systemathics.Apis.Type.Shared.V1;\n",
    "using Systemathics.Apis.Services.TickAnalytics.V1;\n",
    "using Google.Protobuf.WellKnownTypes;\n",
    "using Google.Type;\n",
    "using Grpc.Core;\n",
    "using Grpc.Net.Client;\n",
    "using XPlot.Plotly;\n",
    "using XPlot.Plotly.Interactive;"
   ]
  },
  {
   "cell_type": "markdown",
   "id": "liberal-density",
   "metadata": {},
   "source": [
    "### Step 2: Prepare API requests\n",
    "The following code snippets retrieve authentication token and prepare the API request by: opening the *channel* and adding the *token* to the request header:"
   ]
  },
  {
   "cell_type": "code",
   "execution_count": null,
   "id": "framed-champion",
   "metadata": {
    "dotnet_interactive": {
     "language": "csharp"
    }
   },
   "outputs": [],
   "source": [
    "// Get token as metadata\n",
    "var headers = TokenHelpers.GetTokenAsMetaData();\n",
    "\n",
    "// Create communication channel\n",
    "var channel = ChannelHelpers.GetChannel();"
   ]
  },
  {
   "cell_type": "markdown",
   "id": "fuzzy-cigarette",
   "metadata": {},
   "source": [
    "### Step 3: Create and process request\n",
    "To request *SMA* service, we need to specify:\n",
    "* Instrument identifier\n",
    "* Time period selection: select start and end dates\n",
    "* Simple moving average request parameters"
   ]
  },
  {
   "cell_type": "markdown",
   "id": "passive-cleaners",
   "metadata": {},
   "source": [
    "#### 3.1 Instrument selection"
   ]
  },
  {
   "cell_type": "code",
   "execution_count": null,
   "id": "manufactured-circus",
   "metadata": {
    "dotnet_interactive": {
     "language": "csharp"
    }
   },
   "outputs": [],
   "source": [
    "var ticker = \"AAPL\";\n",
    "var exchange = \"BATS\";"
   ]
  },
  {
   "cell_type": "markdown",
   "id": "wireless-lunch",
   "metadata": {},
   "source": [
    "#### 3.2 SMA parameters"
   ]
  },
  {
   "cell_type": "code",
   "execution_count": null,
   "id": "fundamental-heading",
   "metadata": {
    "dotnet_interactive": {
     "language": "csharp"
    }
   },
   "outputs": [],
   "source": [
    "var field = SmaPrice.Trade;\n",
    "var longSma = 200;\n",
    "var shortSma = 50;\n",
    "var sampling = new Duration { Seconds = 1 * 60 };"
   ]
  },
  {
   "cell_type": "markdown",
   "id": "aerial-activity",
   "metadata": {},
   "source": [
    "#### 3.3 Time period delimitation"
   ]
  },
  {
   "cell_type": "code",
   "execution_count": null,
   "id": "structured-providence",
   "metadata": {
    "dotnet_interactive": {
     "language": "csharp"
    }
   },
   "outputs": [],
   "source": [
    "var today = DateTime.Today;\n",
    "var dateIntervals = new DateInterval\n",
    "{\n",
    "    StartDate = new Date { Year = 2020, Month = 02, Day = 18 },\n",
    "    EndDate = new Date { Year = 2020, Month = 02, Day = 18 }\n",
    "};\n",
    "\n",
    "var timeInterval = new TimeInterval\n",
    "{\n",
    "    StartTime = new TimeOfDay { Hours = 08, Minutes = 00, Seconds = 00 },\n",
    "    EndTime = new TimeOfDay { Hours = 20, Minutes = 00, Seconds = 00 }\n",
    "};"
   ]
  },
  {
   "cell_type": "markdown",
   "id": "serial-conviction",
   "metadata": {},
   "source": [
    "#### 3.4 Request creation\n",
    "The following code snippets creates *gRPC client*, process request and returns the request reply:"
   ]
  },
  {
   "cell_type": "code",
   "execution_count": null,
   "id": "committed-translation",
   "metadata": {
    "dotnet_interactive": {
     "language": "csharp"
    }
   },
   "outputs": [],
   "source": [
    "// Generate constraints based on the previous time selection:\n",
    "var constraints = new Constraints();\n",
    "constraints.DateIntervals.Add(dateIntervals);\n",
    "constraints.TimeIntervals.Add(timeInterval);   "
   ]
  },
  {
   "cell_type": "markdown",
   "id": "recreational-column",
   "metadata": {},
   "source": [
    "The following code snippets create requests for: *Long SMA*, *Short SMA* and *Prices*:"
   ]
  },
  {
   "cell_type": "code",
   "execution_count": null,
   "id": "peaceful-portugal",
   "metadata": {
    "dotnet_interactive": {
     "language": "csharp"
    }
   },
   "outputs": [],
   "source": [
    "// Generate 200-points SMA request\n",
    "var smaLongRequest = new TickSmaRequest()\n",
    "{\n",
    "    Identifier = new Identifier { Exchange = exchange, Ticker = ticker}, \n",
    "    Constraints = constraints,  \n",
    "    Field = field,\n",
    "    Length = longSma, \n",
    "    Sampling = sampling\n",
    "};\n",
    "\n",
    "// Generate 50-points SMA request\n",
    "var smaShortRequest = new TickSmaRequest()\n",
    "{\n",
    "    Identifier = new Identifier { Exchange = exchange, Ticker = ticker}, \n",
    "    Constraints = constraints,  \n",
    "    Field = field,\n",
    "    Length = shortSma, \n",
    "    Sampling = sampling\n",
    "};\n",
    "\n",
    "// Instantiate the tick SMA service\n",
    "var service = new TickSmaService.TickSmaServiceClient(channel);"
   ]
  },
  {
   "cell_type": "markdown",
   "id": "accessible-present",
   "metadata": {},
   "source": [
    "### Step 4: Visualize data"
   ]
  },
  {
   "cell_type": "markdown",
   "id": "several-harris",
   "metadata": {},
   "source": [
    "#### 4.1 Retrieve long SMA data"
   ]
  },
  {
   "cell_type": "code",
   "execution_count": null,
   "id": "continuous-psychology",
   "metadata": {
    "dotnet_interactive": {
     "language": "csharp"
    }
   },
   "outputs": [],
   "source": [
    "// smalong includes long SMA data points\n",
    "var smalong = new List<TickSmaResponse>();\n",
    "\n",
    "var call = service.TickSma(smaLongRequest, headers);\n",
    "await foreach (var data in call.ResponseStream.ReadAllAsync())\n",
    "{\n",
    "    smalong.Add(data);\n",
    "}\n",
    "//display(smalong);"
   ]
  },
  {
   "cell_type": "markdown",
   "id": "liquid-design",
   "metadata": {},
   "source": [
    "#### 4.2 Retrieve short SMA data"
   ]
  },
  {
   "cell_type": "code",
   "execution_count": null,
   "id": "empty-ethernet",
   "metadata": {
    "dotnet_interactive": {
     "language": "csharp"
    }
   },
   "outputs": [],
   "source": [
    "// smashort includes short SMA data points\n",
    "var smashort = new List<TickSmaResponse>();\n",
    "\n",
    "var call = service.TickSma(smaShortRequest, headers);\n",
    "await foreach (var data in call.ResponseStream.ReadAllAsync())\n",
    "{\n",
    "    smashort.Add(data);\n",
    "}\n",
    "//display(smashort);"
   ]
  },
  {
   "cell_type": "markdown",
   "id": "charged-identifier",
   "metadata": {},
   "source": [
    "#### 4.4 Plot SMAs and prices\n",
    "Plot SMA and prices request' results with the package of your choice.<br>*`XPlot.Plotly`* is used as per open source display package. Plot a simple line graph with the SMA data points and prices: "
   ]
  },
  {
   "cell_type": "code",
   "execution_count": null,
   "id": "threaded-services",
   "metadata": {
    "dotnet_interactive": {
     "language": "csharp"
    }
   },
   "outputs": [],
   "source": [
    "// Plot simultaneously prices and simple moving averages\n",
    "var smaPlots = new List<Scattergl>\n",
    "{\n",
    "    new Scattergl\n",
    "    {\n",
    "        name = \"200-points SMA\",\n",
    "        mode = \"lines\",\n",
    "        x = smalong.Select(l => l.TimeStamp.ToDateTime()),\n",
    "        y = smalong.Select(l => l.Average)\n",
    "    },\n",
    "    new Scattergl\n",
    "    {\n",
    "        name = \"50-points SMA\",\n",
    "        mode = \"lines\",\n",
    "        x = smashort.Select(l => l.TimeStamp.ToDateTime()),\n",
    "        y = smashort.Select(l => l.Average)\n",
    "    },\n",
    "    new Scattergl\n",
    "    {\n",
    "        name = \"Prices\",\n",
    "        mode = \"lines\",\n",
    "        x = smashort.Select(l => l.TimeStamp.ToDateTime()),\n",
    "        y = smashort.Select(l => l.Value)\n",
    "    }\n",
    "};\n",
    "var chart = Chart.Plot(smaPlots);\n",
    "chart.WithTitle($\"SMAs and prices for {ticker}\");\n",
    "chart.WithXTitle($\"Time\");\n",
    "chart.WithYTitle($\"Price\");\n",
    "chart.Width = 1500;\n",
    "chart.Height = 800;\n",
    "display(chart);"
   ]
  }
 ],
 "metadata": {
  "kernelspec": {
   "display_name": ".NET (C#)",
   "language": "C#",
   "name": ".net-csharp"
  },
  "language_info": {
   "file_extension": ".cs",
   "mimetype": "text/x-csharp",
   "name": "C#",
   "pygments_lexer": "csharp",
   "version": "9.0"
  }
 },
 "nbformat": 4,
 "nbformat_minor": 5
}
