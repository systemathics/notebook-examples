{
 "cells": [
  {
   "cell_type": "markdown",
   "id": "unsigned-selection",
   "metadata": {},
   "source": [
    "# Generate Bollinger bands using dedicated service - C#\n",
    "\n",
    "### Overview\n",
    "Bollinger bands were created by John Bollinger, they are envelopes and plotted around the moving average. The width of the bands is based on the standard deviaton of the closing prices from a moving average. \n",
    "\n",
    "The purpose of Bollinger Bands is to provide a relative definition of high and low prices of a market. By definition, prices are high at the upper band and low at the lower band.\n",
    "\n",
    "This sample demonstrates how to request and plot from a dedicated data service **on-demand** Bollinger bands.\n",
    "\n",
    "### Inputs/outputs\n",
    "Bollinger bands indicator requires instrument's identifier,date time intervals and number of periods as per inputs and returns data points for the following components:\n",
    "1. *Middle band* = n-period moving average\n",
    "2. *Upper band* = Middle band + (k * n-period standard deviation)\n",
    "3. *Lower band* = Middle band - (k * n-period standard deviation)\n",
    "\n",
    "Where:\n",
    "* *n: number of periods*\n",
    "* *k: factor to apply to the standard deviation value, k=2 as default value*\n",
    "\n",
    "This sample shows how to request and plot a simple Bollinger bands graph for basis technical analysis using an open source library. \n",
    "\n",
    "### Services used\n",
    "This sample uses *gRPC requests* in order to retrieve Bollinger bands data from the hosted service. The queried endpoint in this script are:\n",
    "* *TickBollingerService*: to directly retrieve bollinger bands data reponse from the server\n",
    "\n",
    "### Packages required\n",
    "1. Systemathics packages:\n",
    "    * *Systemathics.Apis.Type.Shared.V1*\n",
    "    * *Systemathics.Apis.Services.TickAnalytics.V1*\n",
    "2. Open source packages\n",
    "    * *Google.Protobuf.WellKnownTypes*\n",
    "    * *Google.Type*\n",
    "    * *Grpc.Net.Client*\n",
    "    * *Grpc.Core*\n",
    "    * *XPlot.Plotly* as per display package\n",
    "\n",
    "***"
   ]
  },
  {
   "cell_type": "markdown",
   "id": "acoustic-faculty",
   "metadata": {},
   "source": [
    "# Run Bollinger bands sample\n",
    "### Step 1: Install packages"
   ]
  },
  {
   "cell_type": "code",
   "execution_count": 11,
   "id": "offensive-large",
   "metadata": {
    "dotnet_interactive": {
     "language": "csharp"
    }
   },
   "outputs": [
    {
     "data": {
      "text/html": [
       "<div><div><strong>Restore sources</strong><ul><li><span> file:///home/jovyan/.nuget/packages/</span></li><li><span> https://api.nuget.org/v3/index.json</span></li></ul></div><div></div><div></div></div>"
      ]
     },
     "metadata": {},
     "output_type": "display_data"
    },
    {
     "ename": "Unhandled exception",
     "evalue": "/tmp/nuget/1238--96bcf9f8-156e-4c23-9b3c-c749de97987d/Project.fsproj : error NU1102: Unable to find package Systemathics.Apis with version (>= 0.9.82)\n/tmp/nuget/1238--96bcf9f8-156e-4c23-9b3c-c749de97987d/Project.fsproj : error NU1102:   - Found 51 version(s) in nuget.org [ Nearest version: 0.9.81 ]\n/tmp/nuget/1238--96bcf9f8-156e-4c23-9b3c-c749de97987d/Project.fsproj : error NU1102:   - Found 0 version(s) in /home/jovyan/.nuget/packages/",
     "output_type": "error",
     "traceback": [
      "/tmp/nuget/1238--96bcf9f8-156e-4c23-9b3c-c749de97987d/Project.fsproj : error NU1102: Unable to find package Systemathics.Apis with version (>= 0.9.82)\n/tmp/nuget/1238--96bcf9f8-156e-4c23-9b3c-c749de97987d/Project.fsproj : error NU1102:   - Found 51 version(s) in nuget.org [ Nearest version: 0.9.81 ]\n/tmp/nuget/1238--96bcf9f8-156e-4c23-9b3c-c749de97987d/Project.fsproj : error NU1102:   - Found 0 version(s) in /home/jovyan/.nuget/packages/"
     ]
    }
   ],
   "source": [
    "#i \"nuget: file:///home/jovyan/.nuget/packages/\"\n",
    "#i \"nuget: https://api.nuget.org/v3/index.json\"\n",
    "#r \"nuget: Systemathics.Apis,0.9.82\"\n",
    "#r \"nuget: XPlot.Plotly.Interactive\""
   ]
  },
  {
   "cell_type": "code",
   "execution_count": 2,
   "id": "impossible-hospital",
   "metadata": {
    "dotnet_interactive": {
     "language": "csharp"
    }
   },
   "outputs": [
    {
     "name": "stderr",
     "output_type": "stream",
     "text": [
      "\n",
      "(1,7): error CS0246: The type or namespace name 'Systemathics' could not be found (are you missing a using directive or an assembly reference?)\n",
      "\n",
      "(2,7): error CS0246: The type or namespace name 'Systemathics' could not be found (are you missing a using directive or an assembly reference?)\n",
      "\n",
      "(3,7): error CS0246: The type or namespace name 'Systemathics' could not be found (are you missing a using directive or an assembly reference?)\n",
      "\n",
      "(4,7): error CS0246: The type or namespace name 'Google' could not be found (are you missing a using directive or an assembly reference?)\n",
      "\n",
      "(5,7): error CS0246: The type or namespace name 'Google' could not be found (are you missing a using directive or an assembly reference?)\n",
      "\n",
      "(6,7): error CS0246: The type or namespace name 'Grpc' could not be found (are you missing a using directive or an assembly reference?)\n",
      "\n",
      "(7,7): error CS0246: The type or namespace name 'Grpc' could not be found (are you missing a using directive or an assembly reference?)\n",
      "\n",
      "(8,7): error CS0246: The type or namespace name 'XPlot' could not be found (are you missing a using directive or an assembly reference?)\n",
      "\n",
      "(9,7): error CS0246: The type or namespace name 'XPlot' could not be found (are you missing a using directive or an assembly reference?)\n",
      "\n"
     ]
    },
    {
     "ename": "Cell not executed",
     "evalue": "compilation error",
     "output_type": "error",
     "traceback": []
    }
   ],
   "source": [
    "using Systemathics.Apis.Helpers;\n",
    "using Systemathics.Apis.Type.Shared.V1;\n",
    "using Systemathics.Apis.Services.TickAnalytics.V1;\n",
    "using Google.Protobuf.WellKnownTypes;\n",
    "using Google.Type;\n",
    "using Grpc.Core;\n",
    "using Grpc.Net.Client;\n",
    "using XPlot.Plotly;\n",
    "using XPlot.Plotly.Interactive;"
   ]
  },
  {
   "cell_type": "markdown",
   "id": "legendary-literacy",
   "metadata": {},
   "source": [
    "### Step 2: Prepare API requests\n",
    "The following code snippets retrieve authentication token and prepare the API request by: opening the *channel* and adding the *token* to the request header:"
   ]
  },
  {
   "cell_type": "code",
   "execution_count": 3,
   "id": "latest-casino",
   "metadata": {
    "dotnet_interactive": {
     "language": "csharp"
    }
   },
   "outputs": [
    {
     "name": "stderr",
     "output_type": "stream",
     "text": [
      "\n",
      "(2,15): error CS0103: The name 'TokenHelpers' does not exist in the current context\n",
      "\n",
      "(5,15): error CS0103: The name 'ChannelHelpers' does not exist in the current context\n",
      "\n"
     ]
    },
    {
     "ename": "Cell not executed",
     "evalue": "compilation error",
     "output_type": "error",
     "traceback": []
    }
   ],
   "source": [
    "// Get token as metadata\n",
    "var headers = TokenHelpers.GetTokenAsMetaData();\n",
    "\n",
    "// Create communication channel\n",
    "var channel = ChannelHelpers.GetChannel();"
   ]
  },
  {
   "cell_type": "markdown",
   "id": "incident-queensland",
   "metadata": {},
   "source": [
    "### Step 3: Create and process request\n",
    "To request *Bollinger bands* service, we need to specify:\n",
    "* Instrument identifier\n",
    "* Time period selection: select start and end dates\n",
    "* Bollinger bands request parameters"
   ]
  },
  {
   "cell_type": "markdown",
   "id": "hungarian-theorem",
   "metadata": {},
   "source": [
    "#### 3.1 Instrument selection"
   ]
  },
  {
   "cell_type": "code",
   "execution_count": 4,
   "id": "inclusive-rhythm",
   "metadata": {
    "dotnet_interactive": {
     "language": "csharp"
    }
   },
   "outputs": [],
   "source": [
    "var ticker = \"AAPL\";\n",
    "var exchange = \"BATS\";"
   ]
  },
  {
   "cell_type": "markdown",
   "id": "ranking-contribution",
   "metadata": {},
   "source": [
    "#### 3.2 Bollinger bands parameters"
   ]
  },
  {
   "cell_type": "code",
   "execution_count": 5,
   "id": "mobile-national",
   "metadata": {
    "dotnet_interactive": {
     "language": "csharp"
    }
   },
   "outputs": [
    {
     "name": "stderr",
     "output_type": "stream",
     "text": [
      "\n",
      "(1,13): error CS0103: The name 'BollingerPrice' does not exist in the current context\n",
      "\n",
      "(4,20): error CS0246: The type or namespace name 'Duration' could not be found (are you missing a using directive or an assembly reference?)\n",
      "\n"
     ]
    },
    {
     "ename": "Cell not executed",
     "evalue": "compilation error",
     "output_type": "error",
     "traceback": []
    }
   ],
   "source": [
    "var field = BollingerPrice.Trade;\n",
    "var length = 20;\n",
    "var deviation = 0.4;\n",
    "var sampling = new Duration { Seconds = 1 * 60 };"
   ]
  },
  {
   "cell_type": "markdown",
   "id": "burning-replication",
   "metadata": {},
   "source": [
    "#### 3.3 Time period delimitation"
   ]
  },
  {
   "cell_type": "code",
   "execution_count": 6,
   "id": "satisfactory-trade",
   "metadata": {
    "dotnet_interactive": {
     "language": "csharp"
    }
   },
   "outputs": [
    {
     "name": "stderr",
     "output_type": "stream",
     "text": [
      "\n",
      "(6,25): error CS0246: The type or namespace name 'DateInterval' could not be found (are you missing a using directive or an assembly reference?)\n",
      "\n",
      "(8,19): error CS0246: The type or namespace name 'Date' could not be found (are you missing a using directive or an assembly reference?)\n",
      "\n",
      "(9,17): error CS0246: The type or namespace name 'Date' could not be found (are you missing a using directive or an assembly reference?)\n",
      "\n",
      "(14,24): error CS0246: The type or namespace name 'TimeInterval' could not be found (are you missing a using directive or an assembly reference?)\n",
      "\n",
      "(16,18): error CS0246: The type or namespace name 'TimeOfDay' could not be found (are you missing a using directive or an assembly reference?)\n",
      "\n",
      "(17,16): error CS0246: The type or namespace name 'TimeOfDay' could not be found (are you missing a using directive or an assembly reference?)\n",
      "\n"
     ]
    },
    {
     "ename": "Cell not executed",
     "evalue": "compilation error",
     "output_type": "error",
     "traceback": []
    }
   ],
   "source": [
    "// Create time intervals\n",
    "var yesterday = DateTime.Today.AddDays(-1);\n",
    "var start = yesterday.AddDays(-50);\n",
    "\n",
    "// Build the bars request date interval (we are using Google date time format)\n",
    "var dateIntervals = new DateInterval()\n",
    "{\n",
    "  StartDate = new Date { Year = start.Year, Month = start.Month, Day = start.Day },\n",
    "  EndDate = new Date { Year = yesterday.Year, Month = yesterday.Month, Day = yesterday.Day }\n",
    "};\n",
    "\n",
    "// Build the bars request time interval (we are using Google date time format)\n",
    "// UTC time zone\n",
    "var timeInterval = new TimeInterval()\n",
    "{\n",
    " StartTime = new TimeOfDay { Hours = 14, Minutes = 00, Seconds = 00 },\n",
    " EndTime = new TimeOfDay { Hours = 17, Minutes = 00, Seconds = 00 } \n",
    "};"
   ]
  },
  {
   "cell_type": "markdown",
   "id": "overall-apparel",
   "metadata": {},
   "source": [
    "#### 3.4 Request creation\n",
    "The following code snippets creates *gRPC client*, process request and returns the request reply:"
   ]
  },
  {
   "cell_type": "code",
   "execution_count": 7,
   "id": "synthetic-toyota",
   "metadata": {
    "dotnet_interactive": {
     "language": "csharp"
    }
   },
   "outputs": [
    {
     "name": "stderr",
     "output_type": "stream",
     "text": [
      "\n",
      "(2,23): error CS0246: The type or namespace name 'Constraints' could not be found (are you missing a using directive or an assembly reference?)\n",
      "\n",
      "(3,31): error CS0103: The name 'dateIntervals' does not exist in the current context\n",
      "\n",
      "(4,31): error CS0103: The name 'timeInterval' does not exist in the current context\n",
      "\n"
     ]
    },
    {
     "ename": "Cell not executed",
     "evalue": "compilation error",
     "output_type": "error",
     "traceback": []
    }
   ],
   "source": [
    "// Generate constraints based on the previous time selection:\n",
    "var constraints = new Constraints();\n",
    "constraints.DateIntervals.Add(dateIntervals);\n",
    "constraints.TimeIntervals.Add(timeInterval);"
   ]
  },
  {
   "cell_type": "markdown",
   "id": "diverse-disaster",
   "metadata": {},
   "source": [
    "The following code snippets create requests for Bollinger bands:"
   ]
  },
  {
   "cell_type": "code",
   "execution_count": 8,
   "id": "prospective-initial",
   "metadata": {
    "dotnet_interactive": {
     "language": "csharp"
    }
   },
   "outputs": [
    {
     "name": "stderr",
     "output_type": "stream",
     "text": [
      "\n",
      "(2,19): error CS0246: The type or namespace name 'TickBollingerRequest' could not be found (are you missing a using directive or an assembly reference?)\n",
      "\n",
      "(4,22): error CS0246: The type or namespace name 'Identifier' could not be found (are you missing a using directive or an assembly reference?)\n",
      "\n",
      "(5,19): error CS0103: The name 'constraints' does not exist in the current context\n",
      "\n",
      "(6,13): error CS0103: The name 'field' does not exist in the current context\n",
      "\n",
      "(7,14): error CS0103: The name 'length' does not exist in the current context\n",
      "\n",
      "(8,17): error CS0103: The name 'deviation' does not exist in the current context\n",
      "\n",
      "(9,16): error CS0103: The name 'sampling' does not exist in the current context\n",
      "\n",
      "(13,19): error CS0246: The type or namespace name 'TickBollingerService' could not be found (are you missing a using directive or an assembly reference?)\n",
      "\n",
      "(13,67): error CS0103: The name 'channel' does not exist in the current context\n",
      "\n"
     ]
    },
    {
     "ename": "Cell not executed",
     "evalue": "compilation error",
     "output_type": "error",
     "traceback": []
    }
   ],
   "source": [
    "// Generate the tick Bollinger Bands request\n",
    "var request = new TickBollingerRequest  \n",
    "{ \n",
    "    Identifier = new Identifier { Exchange = exchange, Ticker = ticker}, \n",
    "    Constraints = constraints,  \n",
    "    Field = field,\n",
    "    Length = length, \n",
    "    Deviation = deviation,\n",
    "    Sampling = sampling\n",
    "};\n",
    "\n",
    "// Instantiate the tick Bollinger bands service\n",
    "var service = new TickBollingerService.TickBollingerServiceClient(channel);"
   ]
  },
  {
   "cell_type": "markdown",
   "id": "entertaining-azerbaijan",
   "metadata": {},
   "source": [
    "### Step 4: Visualize data"
   ]
  },
  {
   "cell_type": "markdown",
   "id": "recovered-absence",
   "metadata": {},
   "source": [
    "#### 4.1 Retrieve Bollinger bands data"
   ]
  },
  {
   "cell_type": "code",
   "execution_count": 9,
   "id": "excess-tablet",
   "metadata": {
    "dotnet_interactive": {
     "language": "csharp"
    }
   },
   "outputs": [
    {
     "name": "stderr",
     "output_type": "stream",
     "text": [
      "\n",
      "(1,31): error CS0246: The type or namespace name 'TickBollingerResponse' could not be found (are you missing a using directive or an assembly reference?)\n",
      "\n",
      "(2,12): error CS0103: The name 'service' does not exist in the current context\n",
      "\n",
      "(2,34): error CS0103: The name 'request' does not exist in the current context\n",
      "\n",
      "(2,43): error CS0103: The name 'headers' does not exist in the current context\n",
      "\n"
     ]
    },
    {
     "ename": "Cell not executed",
     "evalue": "compilation error",
     "output_type": "error",
     "traceback": []
    }
   ],
   "source": [
    "var bollingerBands = new List<TickBollingerResponse>();\n",
    "var call = service.TickBollinger(request, headers);\n",
    "await foreach (var data in call.ResponseStream.ReadAllAsync())\n",
    "{\n",
    "    bollingerBands.Add(data);\n",
    "}\n",
    "display(bollingerBands)"
   ]
  },
  {
   "cell_type": "markdown",
   "id": "recorded-hawaiian",
   "metadata": {},
   "source": [
    "#### 4.2 Plot Bollinger bands\n",
    "Display Bollinger bands over the look back period with the package of your choice.<br>*`XPlot.Plotly`* is used as per open source display package.\n",
    "Plot a simple line graph with the *Bollinger bands* as follows: "
   ]
  },
  {
   "cell_type": "code",
   "execution_count": 10,
   "id": "accepting-colors",
   "metadata": {
    "dotnet_interactive": {
     "language": "csharp"
    }
   },
   "outputs": [
    {
     "name": "stderr",
     "output_type": "stream",
     "text": [
      "\n",
      "(2,27): error CS0246: The type or namespace name 'Scattergl' could not be found (are you missing a using directive or an assembly reference?)\n",
      "\n",
      "(4,9): error CS0246: The type or namespace name 'Scattergl' could not be found (are you missing a using directive or an assembly reference?)\n",
      "\n",
      "(8,13): error CS0103: The name 'bollingerBands' does not exist in the current context\n",
      "\n",
      "(9,13): error CS0103: The name 'bollingerBands' does not exist in the current context\n",
      "\n",
      "(11,9): error CS0246: The type or namespace name 'Scattergl' could not be found (are you missing a using directive or an assembly reference?)\n",
      "\n",
      "(15,13): error CS0103: The name 'bollingerBands' does not exist in the current context\n",
      "\n",
      "(16,13): error CS0103: The name 'bollingerBands' does not exist in the current context\n",
      "\n",
      "(18,9): error CS0246: The type or namespace name 'Scattergl' could not be found (are you missing a using directive or an assembly reference?)\n",
      "\n",
      "(22,13): error CS0103: The name 'bollingerBands' does not exist in the current context\n",
      "\n",
      "(23,13): error CS0103: The name 'bollingerBands' does not exist in the current context\n",
      "\n",
      "(25,9): error CS0246: The type or namespace name 'Scattergl' could not be found (are you missing a using directive or an assembly reference?)\n",
      "\n",
      "(29,13): error CS0103: The name 'bollingerBands' does not exist in the current context\n",
      "\n",
      "(30,13): error CS0103: The name 'bollingerBands' does not exist in the current context\n",
      "\n",
      "(33,13): error CS0103: The name 'Chart' does not exist in the current context\n",
      "\n"
     ]
    },
    {
     "ename": "Cell not executed",
     "evalue": "compilation error",
     "output_type": "error",
     "traceback": []
    }
   ],
   "source": [
    "// Plot Bollinger bands\n",
    "var bandsPlots = new List<Scattergl>\n",
    "{\n",
    "    new Scattergl\n",
    "    {\n",
    "        name = \"Upper band\",\n",
    "        mode = \"lines\",\n",
    "        x = bollingerBands.Select(l => l.TimeStamp.ToDateTime()),\n",
    "        y = bollingerBands.Select(l => l.Upper)\n",
    "    },\n",
    "    new Scattergl\n",
    "    {\n",
    "        name = \"Middle band\",\n",
    "        mode = \"lines\",\n",
    "        x = bollingerBands.Select(l => l.TimeStamp.ToDateTime()),\n",
    "        y = bollingerBands.Select(l => l.Middle)\n",
    "    },\n",
    "    new Scattergl\n",
    "    {\n",
    "        name = \"Lower band\",\n",
    "        mode = \"lines\",\n",
    "        x = bollingerBands.Select(l => l.TimeStamp.ToDateTime()),\n",
    "        y = bollingerBands.Select(l => l.Lower)\n",
    "    },\n",
    "    new Scattergl\n",
    "    {\n",
    "        name = \"Price\",\n",
    "        mode = \"markers\",\n",
    "        x = bollingerBands.Select(l => l.TimeStamp.ToDateTime()),\n",
    "        y = bollingerBands.Select(l => l.Value)\n",
    "    }\n",
    "};\n",
    "var chart = Chart.Plot(bandsPlots);\n",
    "chart.WithTitle($\"Bollinger bands for {ticker}\");\n",
    "chart.WithXTitle($\"Time\");\n",
    "chart.WithYTitle($\"Price\");\n",
    "chart.Width = 1500;\n",
    "chart.Height = 800;\n",
    "display(chart);"
   ]
  }
 ],
 "metadata": {
  "kernelspec": {
   "display_name": ".NET (C#)",
   "language": "C#",
   "name": ".net-csharp"
  },
  "language_info": {
   "file_extension": ".cs",
   "mimetype": "text/x-csharp",
   "name": "C#",
   "pygments_lexer": "csharp",
   "version": "9.0"
  }
 },
 "nbformat": 4,
 "nbformat_minor": 5
}
