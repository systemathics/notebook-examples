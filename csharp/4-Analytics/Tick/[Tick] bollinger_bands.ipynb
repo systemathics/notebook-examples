{
 "cells": [
  {
   "cell_type": "markdown",
   "id": "apart-plane",
   "metadata": {},
   "source": [
    "# Generate Bollinger bands using dedicated service - C#\n",
    "\n",
    "### Overview\n",
    "Bollinger bands were created by John Bollinger, they are envelopes and plotted around the moving average. The width of the bands is based on the standard deviaton of the closing prices from a moving average. \n",
    "\n",
    "The purpose of Bollinger Bands is to provide a relative definition of high and low prices of a market. By definition, prices are high at the upper band and low at the lower band.\n",
    "\n",
    "This sample demonstrates how to request and plot from a dedicated data service **on-demand** Bollinger bands.\n",
    "\n",
    "### Inputs/outputs\n",
    "Bollinger bands indicator requires instrument's identifier,date time intervals and number of periods as per inputs and returns data points for the following components:\n",
    "1. *Middle band* = n-period moving average\n",
    "2. *Upper band* = Middle band + (k * n-period standard deviation)\n",
    "3. *Lower band* = Middle band - (k * n-period standard deviation)\n",
    "\n",
    "Where:\n",
    "* *n: number of periods*\n",
    "* *k: factor to apply to the standard deviation value, k=2 as default value*\n",
    "\n",
    "This sample shows how to request and plot a simple Bollinger bands graph for basis technical analysis using an open source library. \n",
    "\n",
    "### Services used\n",
    "This sample uses *gRPC requests* in order to retrieve Bollinger bands data from the hosted service. The queried endpoint in this script are:\n",
    "* *TickBollingerService*: to directly retrieve bollinger bands data reponse from the server\n",
    "\n",
    "### Packages required\n",
    "1. Systemathics packages:\n",
    "    * *Systemathics.Apis.Type.Shared.V1*\n",
    "    * *Systemathics.Apis.Services.TickAnalytics.V1*\n",
    "2. Open source packages\n",
    "    * *Google.Protobuf.WellKnownTypes*\n",
    "    * *Google.Type*\n",
    "    * *Grpc.Net.Client*\n",
    "    * *Grpc.Core*\n",
    "    * *XPlot.Plotly* as per display package\n",
    "\n",
    "***"
   ]
  },
  {
   "cell_type": "markdown",
   "id": "varied-boston",
   "metadata": {},
   "source": [
    "# Run Bollinger bands sample\n",
    "### Step 1: Install packages"
   ]
  },
  {
   "cell_type": "code",
   "execution_count": null,
   "id": "ultimate-festival",
   "metadata": {
    "dotnet_interactive": {
     "language": "csharp"
    },
    "vscode": {
     "languageId": "dotnet-interactive.csharp"
    }
   },
   "outputs": [],
   "source": [
    "#i \"nuget: file:///home/jovyan/.nuget/packages/\"\n",
    "#i \"nuget: https://api.nuget.org/v3/index.json\"\n",
    "#r \"nuget: Systemathics.Apis\"\n",
    "#r \"nuget: XPlot.Plotly.Interactive\""
   ]
  },
  {
   "cell_type": "code",
   "execution_count": null,
   "id": "worldwide-sunglasses",
   "metadata": {
    "dotnet_interactive": {
     "language": "csharp"
    },
    "vscode": {
     "languageId": "dotnet-interactive.csharp"
    }
   },
   "outputs": [],
   "source": [
    "using Systemathics.Apis.Helpers;\n",
    "using Systemathics.Apis.Type.Shared.V1;\n",
    "using Systemathics.Apis.Services.TickAnalytics.V1;\n",
    "using Google.Protobuf.WellKnownTypes;\n",
    "using Google.Type;\n",
    "using Grpc.Core;\n",
    "using Grpc.Net.Client;\n",
    "using XPlot.Plotly;\n",
    "using XPlot.Plotly.Interactive;"
   ]
  },
  {
   "cell_type": "markdown",
   "id": "outside-retention",
   "metadata": {},
   "source": [
    "### Step 2: Prepare API requests\n",
    "The following code snippets retrieve authentication token and prepare the API request by: opening the *channel* and adding the *token* to the request header:"
   ]
  },
  {
   "cell_type": "code",
   "execution_count": null,
   "id": "pharmaceutical-turkey",
   "metadata": {
    "dotnet_interactive": {
     "language": "csharp"
    },
    "vscode": {
     "languageId": "dotnet-interactive.csharp"
    }
   },
   "outputs": [],
   "source": [
    "// Get token as metadata\n",
    "var headers = TokenHelpers.GetTokenAsMetaData();\n",
    "\n",
    "// Create communication channel\n",
    "var channel = ChannelHelpers.GetChannel();"
   ]
  },
  {
   "cell_type": "markdown",
   "id": "north-physiology",
   "metadata": {},
   "source": [
    "### Step 3: Create and process request\n",
    "To request *Bollinger bands* service, we need to specify:\n",
    "* Instrument identifier\n",
    "* Time period selection: select start and end dates\n",
    "* Bollinger bands request parameters"
   ]
  },
  {
   "cell_type": "markdown",
   "id": "apparent-twenty",
   "metadata": {},
   "source": [
    "#### 3.1 Instrument selection"
   ]
  },
  {
   "cell_type": "code",
   "execution_count": null,
   "id": "under-mapping",
   "metadata": {
    "dotnet_interactive": {
     "language": "csharp"
    },
    "vscode": {
     "languageId": "dotnet-interactive.csharp"
    }
   },
   "outputs": [],
   "source": [
    "var ticker = \"AAPL\";\n",
    "var exchange = \"BATS\";"
   ]
  },
  {
   "cell_type": "markdown",
   "id": "difficult-migration",
   "metadata": {},
   "source": [
    "#### 3.2 Bollinger bands parameters"
   ]
  },
  {
   "cell_type": "code",
   "execution_count": null,
   "id": "handed-monitoring",
   "metadata": {
    "dotnet_interactive": {
     "language": "csharp"
    },
    "vscode": {
     "languageId": "dotnet-interactive.csharp"
    }
   },
   "outputs": [],
   "source": [
    "var field = BollingerPrice.Trade;\n",
    "var length = 20;\n",
    "var deviation = 0.4;\n",
    "var sampling = new Duration { Seconds = 1 * 60 };"
   ]
  },
  {
   "cell_type": "markdown",
   "id": "narrow-equation",
   "metadata": {},
   "source": [
    "#### 3.3 Time period delimitation"
   ]
  },
  {
   "cell_type": "code",
   "execution_count": null,
   "id": "overhead-stereo",
   "metadata": {
    "dotnet_interactive": {
     "language": "csharp"
    },
    "vscode": {
     "languageId": "dotnet-interactive.csharp"
    }
   },
   "outputs": [],
   "source": [
    "// Create time intervals\n",
    "var yesterday = DateTime.Today.AddDays(-1);\n",
    "var start = yesterday.AddDays(-50);\n",
    "\n",
    "// Build the bars request date interval (we are using Google date time format)\n",
    "var dateIntervals = new DateInterval()\n",
    "{\n",
    "  StartDate = new Date { Year = start.Year, Month = start.Month, Day = start.Day },\n",
    "  EndDate = new Date { Year = yesterday.Year, Month = yesterday.Month, Day = yesterday.Day }\n",
    "};\n",
    "\n",
    "// Build the bars request time interval (we are using Google date time format)\n",
    "// UTC time zone\n",
    "var timeInterval = new TimeInterval()\n",
    "{\n",
    " StartTime = new TimeOfDay { Hours = 14, Minutes = 00, Seconds = 00 },\n",
    " EndTime = new TimeOfDay { Hours = 17, Minutes = 00, Seconds = 00 } \n",
    "};"
   ]
  },
  {
   "cell_type": "markdown",
   "id": "ranging-pattern",
   "metadata": {},
   "source": [
    "#### 3.4 Request creation\n",
    "The following code snippets creates *gRPC client*, process request and returns the request reply:"
   ]
  },
  {
   "cell_type": "code",
   "execution_count": null,
   "id": "negative-electric",
   "metadata": {
    "dotnet_interactive": {
     "language": "csharp"
    },
    "vscode": {
     "languageId": "dotnet-interactive.csharp"
    }
   },
   "outputs": [],
   "source": [
    "// Generate constraints based on the previous time selection:\n",
    "var constraints = new Constraints();\n",
    "constraints.DateIntervals.Add(dateIntervals);\n",
    "constraints.TimeIntervals.Add(timeInterval);"
   ]
  },
  {
   "cell_type": "markdown",
   "id": "alone-manchester",
   "metadata": {},
   "source": [
    "The following code snippets create requests for Bollinger bands:"
   ]
  },
  {
   "cell_type": "code",
   "execution_count": null,
   "id": "human-freeware",
   "metadata": {
    "dotnet_interactive": {
     "language": "csharp"
    },
    "vscode": {
     "languageId": "dotnet-interactive.csharp"
    }
   },
   "outputs": [],
   "source": [
    "// Generate the tick Bollinger Bands request\n",
    "var request = new TickBollingerRequest  \n",
    "{ \n",
    "    Identifier = new Identifier { Exchange = exchange, Ticker = ticker}, \n",
    "    Constraints = constraints,  \n",
    "    Field = field,\n",
    "    Length = length, \n",
    "    Deviation = deviation,\n",
    "    Sampling = sampling\n",
    "};\n",
    "\n",
    "// Instantiate the tick Bollinger bands service\n",
    "var service = new TickBollingerService.TickBollingerServiceClient(channel);"
   ]
  },
  {
   "cell_type": "markdown",
   "id": "driven-division",
   "metadata": {},
   "source": [
    "### Step 4: Visualize data"
   ]
  },
  {
   "cell_type": "markdown",
   "id": "instrumental-saying",
   "metadata": {},
   "source": [
    "#### 4.1 Retrieve Bollinger bands data"
   ]
  },
  {
   "cell_type": "code",
   "execution_count": null,
   "id": "inclusive-detective",
   "metadata": {
    "dotnet_interactive": {
     "language": "csharp"
    },
    "vscode": {
     "languageId": "dotnet-interactive.csharp"
    }
   },
   "outputs": [],
   "source": [
    "var bollingerBands = new List<TickBollingerResponse>();\n",
    "var call = service.TickBollinger(request, headers);\n",
    "await foreach (var data in call.ResponseStream.ReadAllAsync())\n",
    "{\n",
    "    bollingerBands.Add(data);\n",
    "}\n"
   ]
  },
  {
   "cell_type": "code",
   "execution_count": null,
   "id": "lightweight-grace",
   "metadata": {
    "dotnet_interactive": {
     "language": "csharp"
    },
    "vscode": {
     "languageId": "dotnet-interactive.csharp"
    }
   },
   "outputs": [],
   "source": [
    "// Display the data\n",
    "//--> Note : the time stamp is displayed by default (using the unix format)\n",
    "//--> We can use other displayers for different output formats \n",
    "//--> For more details about the time stamp: https://developers.google.com/protocol-buffers/docs/reference/google.protobuf#google.protobuf.Timestamp \n",
    "//display(bollingerBands)"
   ]
  },
  {
   "cell_type": "markdown",
   "id": "difficult-bruce",
   "metadata": {},
   "source": [
    "#### 4.2 Plot Bollinger bands\n",
    "Display Bollinger bands over the look back period with the package of your choice.<br>*`XPlot.Plotly`* is used as per open source display package.\n",
    "Plot a simple line graph with the *Bollinger bands* as follows: "
   ]
  },
  {
   "cell_type": "code",
   "execution_count": null,
   "id": "entitled-muscle",
   "metadata": {
    "dotnet_interactive": {
     "language": "csharp"
    },
    "vscode": {
     "languageId": "dotnet-interactive.csharp"
    }
   },
   "outputs": [],
   "source": [
    "// Plot Bollinger bands\n",
    "var bandsPlots = new List<Scattergl>\n",
    "{\n",
    "    new Scattergl\n",
    "    {\n",
    "        name = \"Upper band\",\n",
    "        mode = \"lines\",\n",
    "        x = bollingerBands.Select(l => l.TimeStamp.ToDateTime()),\n",
    "        y = bollingerBands.Select(l => l.Upper)\n",
    "    },\n",
    "    new Scattergl\n",
    "    {\n",
    "        name = \"Middle band\",\n",
    "        mode = \"lines\",\n",
    "        x = bollingerBands.Select(l => l.TimeStamp.ToDateTime()),\n",
    "        y = bollingerBands.Select(l => l.Middle)\n",
    "    },\n",
    "    new Scattergl\n",
    "    {\n",
    "        name = \"Lower band\",\n",
    "        mode = \"lines\",\n",
    "        x = bollingerBands.Select(l => l.TimeStamp.ToDateTime()),\n",
    "        y = bollingerBands.Select(l => l.Lower)\n",
    "    },\n",
    "    new Scattergl\n",
    "    {\n",
    "        name = \"Price\",\n",
    "        mode = \"markers\",\n",
    "        x = bollingerBands.Select(l => l.TimeStamp.ToDateTime()),\n",
    "        y = bollingerBands.Select(l => l.Value)\n",
    "    }\n",
    "};\n",
    "var chart = Chart.Plot(bandsPlots);\n",
    "chart.WithTitle($\"Bollinger bands for {ticker}\");\n",
    "chart.WithXTitle($\"Time\");\n",
    "chart.WithYTitle($\"Price\");\n",
    "chart.Width = 1500;\n",
    "chart.Height = 800;\n",
    "display(chart);"
   ]
  }
 ],
 "metadata": {
  "kernelspec": {
   "display_name": ".NET (C#)",
   "language": "C#",
   "name": ".net-csharp"
  },
  "language_info": {
   "file_extension": ".cs",
   "mimetype": "text/x-csharp",
   "name": "C#",
   "pygments_lexer": "csharp",
   "version": "9.0"
  }
 },
 "nbformat": 4,
 "nbformat_minor": 5
}
