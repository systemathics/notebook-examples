{
 "cells": [
  {
   "cell_type": "markdown",
   "metadata": {},
   "source": [
    "## Compute execution ratio using dedicated service(C#)\n",
    "\n",
    "### Overview\n",
    "Tick count enriched with trade count can be used as an indicator to illustrate market activity and measure market quality by:\n",
    "* computing the technical transactions/transmissions count on a tick by tick basis, *tick count*,\n",
    "* comparing it to the total *trade count*\n",
    "\n",
    "Correlated with a set of other indicators such as traded volume and price volatility, over the same look back period and the same sampling granularity, it repserents a good measurement of the market quality.\n",
    "\n",
    "This samples enables to retrieve **on-demand** tick count data points (L1 and L1L2) by calling a dedicated service.\n",
    "\n",
    "### Inputs/outputs\n",
    "Execution ratio sample requires instrument's identifier, date time intervals and time granularity as per inputs. It returns the tick count Vs trade count sampled using the input time granularity.\n",
    "\n",
    "This sample also shows how to plot a simple graph for basis financial analysis using an open source library.\n",
    "\n",
    "<div class=\"alert alert-block alert-info\">\n",
    "    <b>Note:</b> Similar scenarios are available and enable to enrich tick count with price volatility or trade sizes.\n",
    "</div>\n",
    "\n",
    "### Services used\n",
    "This sample uses *gRPC requests* in order to retrieve tick by tick data from the dedicated hosted service. The queried endpoint in this script are:\n",
    "* *TopologiesService*: to directly retrieve tick by tick data data from the server.\n",
    "\n",
    "### Packages required\n",
    "1. Systemathics packages:\n",
    "    * *Systemathics.Apis.Type.Shared.V1*\n",
    "    * *Systemathics.Apis.Services.Topology.V1*\n",
    "2. Open source packages\n",
    "    * *Google.Protobuf.WellKnownTypes*\n",
    "    * *Google.Type*\n",
    "    * *Grpc.Net.Client*\n",
    "    * *Grpc.Core*\n",
    "    * *XPlot.Plotly* as per display package\n",
    "\n",
    "***"
   ]
  },
  {
   "cell_type": "markdown",
   "metadata": {},
   "source": [
    "# Run tick count sample"
   ]
  },
  {
   "cell_type": "markdown",
   "metadata": {},
   "source": [
    "### Step 1: Install packages"
   ]
  },
  {
   "cell_type": "code",
   "execution_count": null,
   "metadata": {
    "dotnet_interactive": {
     "language": "csharp"
    },
    "vscode": {
     "languageId": "csharp"
    }
   },
   "outputs": [],
   "source": [
    "#i \"nuget: file:///home/jovyan/.nuget/packages/\"\n",
    "#i \"nuget: https://api.nuget.org/v3/index.json\"\n",
    "#r \"nuget: Systemathics.Apis, 2.32.*\"\n",
    "#r \"nuget: XPlot.Plotly.Interactive, 4.0.6\""
   ]
  },
  {
   "cell_type": "code",
   "execution_count": null,
   "metadata": {
    "dotnet_interactive": {
     "language": "csharp"
    },
    "vscode": {
     "languageId": "csharp"
    }
   },
   "outputs": [],
   "source": [
    "using Systemathics.Apis.Helpers;\n",
    "using Systemathics.Apis.Type.Shared.V1;\n",
    "using Systemathics.Apis.Services.Topology.V1;\n",
    "using Google.Protobuf.WellKnownTypes;\n",
    "using Google.Type;\n",
    "using Grpc.Net.Client;\n",
    "using Grpc.Core;\n",
    "using XPlot.Plotly;\n",
    "using XPlot.Plotly.Interactive;"
   ]
  },
  {
   "cell_type": "markdown",
   "metadata": {},
   "source": [
    "### Step 2: Prepare API requests\n",
    "The following code snippets retrieve authentication token and prepare the API request by: opening the *channel* and adding the *token* to the request header:"
   ]
  },
  {
   "cell_type": "code",
   "execution_count": null,
   "metadata": {
    "dotnet_interactive": {
     "language": "csharp"
    },
    "vscode": {
     "languageId": "csharp"
    }
   },
   "outputs": [],
   "source": [
    "// Get token as metadata\n",
    "var headers = TokenHelpers.GetTokenAsMetaData();\n",
    "\n",
    "// Create communication channel\n",
    "var channel = ChannelHelpers.GetChannel();"
   ]
  },
  {
   "cell_type": "markdown",
   "metadata": {},
   "source": [
    "### Step 3: Create and process request\n",
    "To request *TopologiesService*, we need to specify:\n",
    "* Instrument identifier\n",
    "* Time period selection: select start and end dates\n",
    "* Topology request parameters"
   ]
  },
  {
   "cell_type": "markdown",
   "metadata": {},
   "source": [
    "#### 3.1 Instrument selection"
   ]
  },
  {
   "cell_type": "code",
   "execution_count": null,
   "metadata": {
    "dotnet_interactive": {
     "language": "csharp"
    },
    "vscode": {
     "languageId": "csharp"
    }
   },
   "outputs": [],
   "source": [
    "var ticker = \"AAPL\";\n",
    "var exchange = \"BATS\";"
   ]
  },
  {
   "cell_type": "markdown",
   "metadata": {},
   "source": [
    "#### 3.2 Execution ratio granularity"
   ]
  },
  {
   "cell_type": "code",
   "execution_count": null,
   "metadata": {
    "dotnet_interactive": {
     "language": "csharp"
    },
    "vscode": {
     "languageId": "csharp"
    }
   },
   "outputs": [],
   "source": [
    "var granularity = TopologyGranularity.Daily;"
   ]
  },
  {
   "cell_type": "markdown",
   "metadata": {},
   "source": [
    "#### 3.2 Request creation\n",
    "The following code snippet creates *gRPC client*, process request and returns the request reply:"
   ]
  },
  {
   "cell_type": "code",
   "execution_count": null,
   "metadata": {
    "dotnet_interactive": {
     "language": "csharp"
    },
    "vscode": {
     "languageId": "csharp"
    }
   },
   "outputs": [],
   "source": [
    "// Generate Trades request\n",
    "var requestL1 = new TopologiesRequest \n",
    "{ \n",
    "    Identifier = new Identifier { Exchange = exchange, Ticker = ticker}, \n",
    "    Granularity = granularity,\n",
    "    Level = Level.Trades\n",
    "};\n",
    "\n",
    "// Generate Trades and Book request\n",
    "var requestL2 = new TopologiesRequest \n",
    "{ \n",
    "    Identifier = new Identifier { Exchange = exchange, Ticker = ticker}, \n",
    "    Granularity = granularity,\n",
    "    Level = Level.TradesAndBook\n",
    "};"
   ]
  },
  {
   "cell_type": "code",
   "execution_count": null,
   "metadata": {
    "dotnet_interactive": {
     "language": "csharp"
    },
    "vscode": {
     "languageId": "csharp"
    }
   },
   "outputs": [],
   "source": [
    "// Instantiate the topologies service\n",
    "var service = new TopologiesService.TopologiesServiceClient(channel);        "
   ]
  },
  {
   "cell_type": "markdown",
   "metadata": {},
   "source": [
    "#### 3.3 Retrieve data"
   ]
  },
  {
   "cell_type": "code",
   "execution_count": null,
   "metadata": {
    "dotnet_interactive": {
     "language": "csharp"
    },
    "vscode": {
     "languageId": "csharp"
    }
   },
   "outputs": [],
   "source": [
    "// Process Trades request\n",
    "var replyL1 = service.Topologies(requestL1, headers);\n",
    " \n",
    "// Retrieve topologies service response for Trades\n",
    "var topologiesL1 = replyL1.Entries;\n",
    "var totalTicksL1 = topologiesL1.Sum(t=> (long)t.TicksCount);\n",
    "\n",
    "display(topologiesL1)\n",
    "// Store tick count starting from the date of your choice\n",
    "//var tickCountsL1 = topologiesL1.Where(t => t.Begin.Year >= 2020).Select(t => new Tuple<DateTime, ulong>(new DateTime(t.Begin.Year, t.Begin.Month, t.Begin.Day), t.TicksCount)).ToArray();"
   ]
  },
  {
   "cell_type": "code",
   "execution_count": null,
   "metadata": {
    "dotnet_interactive": {
     "language": "csharp"
    },
    "vscode": {
     "languageId": "csharp"
    }
   },
   "outputs": [],
   "source": [
    "// Process Trades and Book request\n",
    "var replyL2 = service.Topologies(requestL2, headers);\n",
    " \n",
    "// Retrieve topologies service response for Trades and Book\n",
    "var topologiesL2 = replyL2.Entries;\n",
    "var totalTicksL2 = topologiesL2.Sum(t=> (long)t.TicksCount);\n",
    "\n",
    "// Store tick count starting from the date of your choice\n",
    "// var tickCountsL2 = topologiesL2.Where(t => t.Begin.Year >= 2020).Select(t => new Tuple<DateTime, ulong>(new DateTime(t.Begin.Year, t.Begin.Month, t.Begin.Day), t.TicksCount)).ToArray();"
   ]
  },
  {
   "cell_type": "markdown",
   "metadata": {},
   "source": [
    "### Step4: Visualize data"
   ]
  },
  {
   "cell_type": "markdown",
   "metadata": {},
   "source": [
    "#### 4.1 Retrieve tick counts\n",
    "The following code snippet retrieves *Trades ticks* and *Trades and Book ticks* counts:"
   ]
  },
  {
   "cell_type": "code",
   "execution_count": null,
   "metadata": {
    "dotnet_interactive": {
     "language": "csharp"
    },
    "vscode": {
     "languageId": "csharp"
    }
   },
   "outputs": [],
   "source": [
    "// Extract ticks count for Trades\n",
    "var trades = topologiesL1.Select(t => new Tuple<DateTime, double>(new DateTime(t.Begin.Year, t.Begin.Month, t.Begin.Day), t.TicksCount));\n",
    "// Extract the price Trades and Book\n",
    "var tradesAndBook = topologiesL2.Select(t => new Tuple<DateTime, double>(new DateTime(t.Begin.Year, t.Begin.Month, t.Begin.Day), t.TicksCount));"
   ]
  },
  {
   "cell_type": "markdown",
   "metadata": {},
   "source": [
    "#### 4.2 Compute execution ratio\n",
    "The following code snippet computes execution ratio by dividing  *Trades ticks* and *Trades and Book ticks* counts:"
   ]
  },
  {
   "cell_type": "code",
   "execution_count": null,
   "metadata": {
    "dotnet_interactive": {
     "language": "csharp"
    },
    "vscode": {
     "languageId": "csharp"
    }
   },
   "outputs": [],
   "source": [
    "var executionRatio = new Dictionary<DateTime, double>();\n",
    "var i = 0;\n",
    "foreach (var elt in trades) {\n",
    "    executionRatio[elt.Item1] = 100 * elt.Item2 / topologiesL2[i].TicksCount;\n",
    "    i += 1;\n",
    "}\n",
    "\n",
    "//display(executionRatio)"
   ]
  },
  {
   "cell_type": "markdown",
   "metadata": {},
   "source": [
    "#### 4.2 Plot execution ratio"
   ]
  },
  {
   "cell_type": "code",
   "execution_count": null,
   "metadata": {
    "dotnet_interactive": {
     "language": "csharp"
    },
    "vscode": {
     "languageId": "csharp"
    }
   },
   "outputs": [],
   "source": [
    "var executionRatiochart = new List<Scattergl>\n",
    "{\n",
    "    new Scattergl\n",
    "    {\n",
    "        name = \"Trades ticks count\",\n",
    "        mode = \"lines\",\n",
    "        x = trades.Select(b => b.Item1),\n",
    "        y = trades.Select(b => b.Item2)\n",
    "    },\n",
    "    new Scattergl\n",
    "    {\n",
    "        name = \"Trades and Book ticks count\",\n",
    "        mode = \"lines\",\n",
    "        x = tradesAndBook.Select(b => b.Item1),\n",
    "        y = tradesAndBook.Select(b => b.Item2)\n",
    "    },\n",
    "    new Scattergl\n",
    "    {\n",
    "        name = \"Execution ratio\",\n",
    "        mode = \"lines\",\n",
    "        x = executionRatio.Keys,\n",
    "        y = executionRatio.Values,\n",
    "        yaxis = \"y2\"\n",
    "    }\n",
    "};\n",
    "\n",
    "\n",
    "var layout = new Layout.Layout{ \n",
    "    title = $\"Execution ratio for {ticker}\",\n",
    "    yaxis = new Yaxis {\n",
    "        title = \"Ticks count\", \n",
    "        autorange = true,\n",
    "        side = \"left\",\n",
    "    },\n",
    "    yaxis2 = new Yaxis {\n",
    "        title = \"Ratio\", \n",
    "        autorange = true,\n",
    "        side = \"right\",  \n",
    "    },\n",
    "};\n",
    "\n",
    "var chart = Chart.Plot(executionRatiochart, layout);\n",
    "chart.WithXTitle($\"Time\");\n",
    "chart.Width = 1500;\n",
    "chart.Height = 800;\n",
    "display(chart);"
   ]
  }
 ],
 "metadata": {
  "kernelspec": {
   "display_name": ".NET (C#)",
   "language": "C#",
   "name": ".net-csharp"
  },
  "language_info": {
   "file_extension": ".cs",
   "mimetype": "text/x-csharp",
   "name": "C#",
   "pygments_lexer": "csharp",
   "version": "9.0"
  }
 },
 "nbformat": 4,
 "nbformat_minor": 4
}
