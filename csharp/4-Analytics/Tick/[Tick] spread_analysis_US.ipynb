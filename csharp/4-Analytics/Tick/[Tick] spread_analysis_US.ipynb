{
 "cells": [
  {
   "cell_type": "markdown",
   "id": "considerable-portal",
   "metadata": {
    "tags": []
   },
   "source": [
    "# Spread Analysis - C#\n",
    "\n",
    "## I - Presentation\n",
    "### I.1 - Overview\n",
    "As the smallest trade unit in an exchange, understanding the tick size and its effects is important to building efficient and coherent trading strategies.\n",
    "\n",
    "Through this notebook, we will study the spread at the top of the book on the US market, Ask-Bid.\n",
    "The main objective is to visualize the bid-ask spread value and percentage based on the vwap price for every ticker studied.\n",
    "Our stock data will be restrained to the primary market XN and their equivalent in the secondary market BATS.\n",
    "\n",
    "### I.2 - Services used\n",
    "This sample uses gRPC requests in order to retrieve Spread data from the hosted service. The queried endpoint in this script are:\n",
    "* *TickSpreadService*: to directly retrieve spread data reponse from the server\n",
    "\n",
    "### I.3 - Packages required\n",
    "1. Systemathics packages:\n",
    "    * *Systemathics.Apis.Type.Shared.V1*\n",
    "    * *Systemathics.Apis.Services.TickAnalytics.V1*\n",
    "    * *Systemathics.Apis.Services.Indices.V1*\n",
    "    * *Systemathics.Apis.Services.StaticData.V1*\n",
    "2. Open source packages\n",
    "    * *Google.Protobuf.WellKnownTypes*\n",
    "    * *Google.Type*\n",
    "    * *Grpc.Net.Client*\n",
    "    * *Grpc.Core*\n",
    "    * *XPlot.Plotly* as per display package\n",
    "\n",
    "***"
   ]
  },
  {
   "cell_type": "markdown",
   "id": "rotary-precipitation",
   "metadata": {},
   "source": [
    "### I.4 - Notebook Preparations\n",
    "#### Packages and Import"
   ]
  },
  {
   "cell_type": "code",
   "execution_count": null,
   "id": "august-bradford",
   "metadata": {
    "dotnet_interactive": {
     "language": "csharp"
    }
   },
   "outputs": [],
   "source": [
    "#i \"nuget: file:///home/jovyan/.nuget/packages/\"\n",
    "#i \"nuget: https://api.nuget.org/v3/index.json\"\n",
    "#r \"nuget: Systemathics.Apis, 0.*-pre*\"\n",
    "#r \"nuget: XPlot.Plotly.Interactive\"\n",
    "#r \"nuget: CsvHelper\""
   ]
  },
  {
   "cell_type": "code",
   "execution_count": null,
   "id": "strategic-approach",
   "metadata": {
    "dotnet_interactive": {
     "language": "csharp"
    }
   },
   "outputs": [],
   "source": [
    "using Systemathics.Apis.Helpers;\n",
    "using Systemathics.Apis.Type.Shared.V1;\n",
    "using Systemathics.Apis.Services.TickAnalytics.V1;\n",
    "using Systemathics.Apis.Services.Indices.V1;\n",
    "using Systemathics.Apis.Services.StaticData.V1;\n",
    "using Google.Protobuf.WellKnownTypes;\n",
    "using Google.Type;\n",
    "using Grpc.Core;\n",
    "using Grpc.Net.Client;\n",
    "using XPlot.Plotly;\n",
    "using XPlot.Plotly.Interactive;\n",
    "// Import/export csv files\n",
    "using CsvHelper;\n",
    "using System.IO;\n",
    "using System.Globalization;"
   ]
  },
  {
   "cell_type": "markdown",
   "id": "celtic-garlic",
   "metadata": {},
   "source": [
    "#### Retreive Authentification Token\n",
    "The following code snippets retrieve authentication token and prepare the API request by: opening the *channel* and adding the *token* to the request header:"
   ]
  },
  {
   "cell_type": "code",
   "execution_count": null,
   "id": "official-private",
   "metadata": {
    "dotnet_interactive": {
     "language": "csharp"
    }
   },
   "outputs": [],
   "source": [
    "// Get token as metadata\n",
    "var headers = TokenHelpers.GetTokenAsMetaData();\n",
    "\n",
    "// Create communication channel\n",
    "var channel = ChannelHelpers.GetChannel();"
   ]
  },
  {
   "cell_type": "markdown",
   "id": "eb6045b2-9dbd-47f3-abbd-0fedf0f35d99",
   "metadata": {},
   "source": [
    "## II - Exchange Components"
   ]
  },
  {
   "cell_type": "markdown",
   "id": "722ac82a-1dd2-4a16-b9a1-fae83db3a2f8",
   "metadata": {},
   "source": [
    "### II.1 - Parameters"
   ]
  },
  {
   "cell_type": "code",
   "execution_count": null,
   "id": "ea77857c-b8a9-4c96-bc19-5834180396f5",
   "metadata": {
    "dotnet_interactive": {
     "language": "csharp"
    },
    "tags": []
   },
   "outputs": [],
   "source": [
    "// Set exchange\n",
    "var exchanges = new List<string>(){\"XNGS\",\"XNYS\",\"XNCM\",\"XNMS\"};\n",
    "var bats = false;\n",
    "\n",
    "var name = \"XN\";\n",
    "if (bats){name = \"BATS\";}"
   ]
  },
  {
   "cell_type": "code",
   "execution_count": null,
   "id": "86265dd3-9e64-4fde-b4c9-af6c9745913b",
   "metadata": {},
   "outputs": [],
   "source": [
    "public class Instrument\n",
    "{\n",
    "    public string Ticker{get; set;}\n",
    "    public string Exchange{get; set;}\n",
    "    public string Operating{get; set;}\n",
    "    public string Primary{get; set;}\n",
    "    public string Name{get; set;}\n",
    "    public string Isin{get; set;}\n",
    "}"
   ]
  },
  {
   "cell_type": "markdown",
   "id": "dda38d76-4656-4c0f-aeeb-1b1e1fafa574",
   "metadata": {},
   "source": [
    "### II.2 - Request"
   ]
  },
  {
   "cell_type": "code",
   "execution_count": null,
   "id": "26765dc7-3141-4b99-b314-e07650d80543",
   "metadata": {
    "dotnet_interactive": {
     "language": "csharp"
    }
   },
   "outputs": [],
   "source": [
    "// Create a class to handle the instrument's mapping codes\n",
    "var instruments = new List<Instrument>();\n",
    "var service = new StaticDataService.StaticDataServiceClient(channel);\n",
    "for (var i = 0; i < exchanges.Count ;i++) \n",
    "    {\n",
    "    // Generate request\n",
    "    var request = new StaticDataRequest { AssetType = AssetType.Equity, Exchange = exchanges[i], Count = 3000};\n",
    "\n",
    "    // Call the service\n",
    "    var reply = service.StaticData(request, headers);\n",
    "    // display(reply.Equities.Count);\n",
    "    // Get mapping codes for the requested instruments\n",
    "    foreach (var rep in reply.Equities) \n",
    "    {\n",
    "        // Get mapping codes\n",
    "        var ticker = rep.Identifier.Ticker;\n",
    "        rep.Mapping.TryGetValue(\"Bloomberg\", out var bloomberg);\n",
    "        \n",
    "        if (rep.Identifier.Exchange == \"BATS\")\n",
    "        {  \n",
    "            //instruments.Add(new Instrument(){Ticker = ticker,Exchange = rep.Identifier.Exchange,Operating = rep.Operating, Primary = rep.Primary, Name = rep.Name, Isin = rep.Isin});\n",
    "        }\n",
    "        else\n",
    "        {\n",
    "            instruments.Add(new Instrument(){Ticker = ticker,Exchange = rep.Identifier.Exchange,Operating = rep.Operating, Primary = rep.Primary, Name = rep.Name, Isin = rep.Isin});\n",
    "        }\n",
    "    };\n",
    "};"
   ]
  },
  {
   "cell_type": "markdown",
   "id": "c851f9fe-7e68-4097-9803-0be56ce8bced",
   "metadata": {},
   "source": [
    "### II.3 - Import / Export"
   ]
  },
  {
   "cell_type": "markdown",
   "id": "690f2044-c514-474a-8a67-fc05bb841e35",
   "metadata": {},
   "source": [
    "#### Export"
   ]
  },
  {
   "cell_type": "code",
   "execution_count": null,
   "id": "edfd6ae8-9320-426b-a404-38ff8c1ae69d",
   "metadata": {},
   "outputs": [],
   "source": [
    "using (var writer = new StreamWriter($\"US_{name}.csv\"))\n",
    "using (var csv = new CsvWriter(writer, CultureInfo.InvariantCulture))\n",
    "{\n",
    "    csv.WriteRecords(instruments);\n",
    "}"
   ]
  },
  {
   "cell_type": "markdown",
   "id": "f95ef248-bfd2-4f37-b770-2ac475bc230d",
   "metadata": {},
   "source": [
    "#### Import"
   ]
  },
  {
   "cell_type": "raw",
   "id": "33995d42-c810-41ad-8e29-f6f6453a0ba2",
   "metadata": {},
   "source": [
    "var instruments = new List<Instrument>();\n",
    "using (var streamReader = File.OpenText($\"US_{name}.csv\"))\n",
    "using (var csvReader = new CsvReader(streamReader, CultureInfo.InvariantCulture))\n",
    "\n",
    "while (csvReader.Read())\n",
    "{\n",
    "    if ( csvReader.GetField(0) == \"Ticker\") { continue; };\n",
    "    \n",
    "    instruments.Add(new Instrument(){\n",
    "        Ticker = csvReader.GetField(0),\n",
    "        Exchange = csvReader.GetField(1),\n",
    "        Operating = csvReader.GetField(2),\n",
    "        Primary = csvReader.GetField(3),\n",
    "        Name = csvReader.GetField(4),\n",
    "        Isin = csvReader.GetField(5)\n",
    "        });\n",
    "};"
   ]
  },
  {
   "cell_type": "markdown",
   "id": "monetary-speaker",
   "metadata": {},
   "source": [
    "## III - Spread Study"
   ]
  },
  {
   "cell_type": "markdown",
   "id": "champion-haiti",
   "metadata": {},
   "source": [
    "### III.1 - Parameters"
   ]
  },
  {
   "cell_type": "markdown",
   "id": "617a4f40-46b0-45d6-94e0-8082e54f4fab",
   "metadata": {},
   "source": [
    "#### Storage"
   ]
  },
  {
   "cell_type": "code",
   "execution_count": null,
   "id": "f51faaa1-4e0f-48ce-86df-78529a2f70de",
   "metadata": {},
   "outputs": [],
   "source": [
    "// Input trade to load from the csv file\n",
    "public class TickerData\n",
    "{\n",
    "    public string Ticker { get; set; }\n",
    "    public string Exchange { get; set; }\n",
    "    public string Operating { get; set; }\n",
    "    public string Primary { get; set; }\n",
    "    \n",
    "    public double BidLast { get; set; }\n",
    "    public double BidAverage { get; set; }\n",
    "    public double BidVwap { get; set; }\n",
    "    public double BidMin { get; set; }\n",
    "    public double BidMax { get; set; }\n",
    "    public long BidVolume { get; set; }\n",
    "    \n",
    "    public double AskLast { get; set; }\n",
    "    public double AskAverage { get; set; }\n",
    "    public double AskVwap { get; set; }\n",
    "    public double AskMin { get; set; }\n",
    "    public double AskMax { get; set; }\n",
    "    public long AskVolume { get; set; }\n",
    "    \n",
    "    public double Last { get; set; }\n",
    "    public double Average { get; set; }\n",
    "    public double Min { get; set; }\n",
    "    public double Max { get; set; }\n",
    "    public long Count { get; set; }\n",
    "    public long Skipped { get; set; }\n",
    "}"
   ]
  },
  {
   "cell_type": "markdown",
   "id": "supposed-fiber",
   "metadata": {},
   "source": [
    "#### Constraints"
   ]
  },
  {
   "cell_type": "code",
   "execution_count": null,
   "id": "sapphire-cleaner",
   "metadata": {
    "dotnet_interactive": {
     "language": "csharp"
    }
   },
   "outputs": [],
   "source": [
    "var today = DateTime.Today;\n",
    "var dateIntervals = new DateInterval\n",
    "{\n",
    "    StartDate = new Date { Year = 2022, Month = 02, Day = 18 },\n",
    "    EndDate = new Date { Year = 2022, Month = 02, Day = 18 }\n",
    "};\n",
    "\n",
    "var timeInterval = new TimeInterval\n",
    "{\n",
    "    StartTime = new TimeOfDay { Hours = 19, Minutes = 00, Seconds = 00 },\n",
    "    EndTime = new TimeOfDay { Hours = 20, Minutes = 00, Seconds = 00 }\n",
    "};"
   ]
  },
  {
   "cell_type": "code",
   "execution_count": null,
   "id": "departmental-nickname",
   "metadata": {
    "dotnet_interactive": {
     "language": "csharp"
    }
   },
   "outputs": [],
   "source": [
    "// Generate constraints based on the previous time selection:\n",
    "var my_constraints = new Constraints();\n",
    "my_constraints.DateIntervals.Add(dateIntervals);\n",
    "my_constraints.TimeIntervals.Add(timeInterval); "
   ]
  },
  {
   "cell_type": "markdown",
   "id": "earlier-resolution",
   "metadata": {},
   "source": [
    "### III.2 - Request"
   ]
  },
  {
   "cell_type": "code",
   "execution_count": null,
   "id": "99f962cf-6e82-43c9-8ec5-2292d34f330b",
   "metadata": {},
   "outputs": [],
   "source": [
    "// Instantiate tick VWAP service\n",
    "var service = new TickSpreadService.TickSpreadServiceClient(channel);"
   ]
  },
  {
   "cell_type": "code",
   "execution_count": null,
   "id": "82b016f6-df6a-4417-815b-61483073cbc1",
   "metadata": {
    "dotnet_interactive": {
     "language": "csharp"
    }
   },
   "outputs": [],
   "source": [
    "#!time\n",
    "using (var writer = new StreamWriter($\"spread_US_{name}_19002000.csv\"))\n",
    "using (var csv = new CsvWriter(writer, CultureInfo.InvariantCulture))\n",
    "{\n",
    "    foreach (var t in instruments)\n",
    "    {\n",
    "        var excluded = new List<string>(){\"FUNC\",\"TWOA\",\"LHC\", \"SPGS\", \"CCV\",\"HERA\",\"NYXH\"};\n",
    "        if (excluded.Contains(t.Ticker) && bats) {continue;}\n",
    "        \n",
    "        var request = new TickSpreadRequest() \n",
    "        { \n",
    "            Identifier = new Identifier { Exchange = t.Exchange, Ticker = t.Ticker}, \n",
    "            Constraints = my_constraints,\n",
    "            MinAccepted = 0,\n",
    "            MaxAccepted = 5\n",
    "        };\n",
    "\n",
    "        var call = service.TickSpread(request, headers);\n",
    "        var spreadData = new List<TickerData>{};\n",
    "        \n",
    "        await foreach (var data in call.ResponseStream.ReadAllAsync())\n",
    "        {\n",
    "            spreadData.Add(new TickerData{\n",
    "                Ticker = t.Ticker,\n",
    "                Exchange = t.Exchange,\n",
    "                Operating = t.Operating,\n",
    "                Primary = t.Primary,\n",
    "\n",
    "                BidLast = data.Bid.Last,\n",
    "                BidAverage = data.Bid.Average,\n",
    "                BidVwap = data.Bid.Vwap,\n",
    "                BidMin = data.Bid.Min,\n",
    "                BidMax = data.Bid.Max,\n",
    "                BidVolume = data.Bid.Volume,\n",
    "\n",
    "                AskLast = data.Ask.Last,\n",
    "                AskAverage = data.Ask.Average,\n",
    "                AskVwap = data.Ask.Vwap,\n",
    "                AskMin = data.Ask.Min,\n",
    "                AskMax = data.Ask.Max,\n",
    "                AskVolume = data.Ask.Volume,\n",
    "\n",
    "                Last = data.Last,\n",
    "                Average = data.Average,\n",
    "                Min = data.Min,\n",
    "                Max = data.Max,\n",
    "                Count = data.Count,\n",
    "                Skipped = data.Skipped\n",
    "                });\n",
    "        };\n",
    "        csv.WriteRecords(spreadData);\n",
    "    };\n",
    "};\n"
   ]
  },
  {
   "cell_type": "markdown",
   "id": "84602d89-5def-47be-bf41-b0cda60d87fb",
   "metadata": {},
   "source": [
    "### III.3 - Import"
   ]
  },
  {
   "cell_type": "raw",
   "id": "19184599-f8ce-4b7b-beca-8b08f6095e3d",
   "metadata": {},
   "source": [
    "var SpreadImport = New List<TickerData>{};\n",
    "using (var streamReader = File.OpenText(\"Path.csv\"))\n",
    "using (var csvReader = new CsvReader(streamReader, CultureInfo.InvariantCulture))\n",
    "\n",
    "while (csvReader.Read())\n",
    "{\n",
    "    if ( csvReader.GetField(0) == \"Ticker\") { continue; };\n",
    "    \n",
    "    spreadData.Add(new TickerData{\n",
    "        Ticker = csvReader.GetField(0),\n",
    "        Exchange = csvReader.GetField(1),\n",
    "        Operating = csvReader.GetField(2),\n",
    "        Primary = csvReader.GetField(3),\n",
    "\n",
    "        BidLast = csvReader.GetField(4),\n",
    "        BidAverage = csvReader.GetField(5),\n",
    "        BidVwap = csvReader.GetField(6),\n",
    "        BidMin = csvReader.GetField(7),\n",
    "        BidMax = csvReader.GetField(8),\n",
    "        BidVolume = csvReader.GetField(9),\n",
    "\n",
    "        AskLast = csvReader.GetField(10),\n",
    "        AskAverage = csvReader.GetField(11),\n",
    "        AskVwap = csvReader.GetField(12),\n",
    "        AskMin = csvReader.GetField(13),\n",
    "        AskMax = csvReader.GetField(14),\n",
    "        AskVolume = csvReader.GetField(15),\n",
    "\n",
    "        Last = csvReader.GetField(16),\n",
    "        Average = csvReader.GetField(17),\n",
    "        Min = csvReader.GetField(18),\n",
    "        Max = csvReader.GetField(19),\n",
    "        Count = csvReader.GetField(20),\n",
    "        Skipped = csvReader.GetField(21)\n",
    "        });\n",
    "};"
   ]
  }
 ],
 "metadata": {
  "kernelspec": {
   "display_name": ".NET (C#)",
   "language": "C#",
   "name": ".net-csharp"
  },
  "language_info": {
   "file_extension": ".cs",
   "mimetype": "text/x-csharp",
   "name": "C#",
   "pygments_lexer": "csharp",
   "version": "9.0"
  }
 },
 "nbformat": 4,
 "nbformat_minor": 5
}
