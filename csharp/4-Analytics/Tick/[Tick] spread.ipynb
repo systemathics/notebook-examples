{
 "cells": [
  {
   "cell_type": "markdown",
   "id": "federal-giant",
   "metadata": {},
   "source": [
    "# Generate Spread using dedicated service - C#\n",
    "\n",
    "### Overview\n",
    "Spread indicator is commonly used to provide midpoint value from two given inputs. \n",
    "\n",
    "Spread is generally impacted by two major factors: \n",
    "* *Volatility*: the more volatile an asset, the higher the spread\n",
    "* *Liquidity*: the more liquid an asset, the lower the spread\n",
    "\n",
    "When correlated with a range of indicators, it gives an idea about the market quality.\n",
    "\n",
    "This sample demonstrates how to request and plot the spread from a dedicated data service.\n",
    "\n",
    "### Inputs/outputs\n",
    "Spread indicator requires instrument's identifier and date time intervals as per inputs and returns the spread data points.\n",
    "\n",
    "For each timestamp, a spread data point is the difference between the bid and the ask prices. \n",
    "\n",
    "This sample shows how to plot a simple spread graph for basis technical analysis using an open source library. \n",
    "\n",
    "### Services used\n",
    "This sample uses *gRPC requests* in order to retrieve top of the book tick data from the hosted service. The queried endpoint in this script are:\n",
    "* *TickBookService*: to directly retrieve best Bid/Ask tick data from the server.\n",
    "\n",
    "### Packages required\n",
    "1. Systemathics packages:\n",
    "    * *Systemathics.Apis.Type.Shared.V1*\n",
    "    * *Systemathics.Apis.Services.Tick.V1*\n",
    "2. Open source packages\n",
    "    * *Google.Protobuf.WellKnownTypes*\n",
    "    * *Google.Type*\n",
    "    * *Grpc.Net.Client*\n",
    "    * *Grpc.Core*\n",
    "    * *XPlot.Plotly* as per display package\n",
    "\n",
    "***"
   ]
  },
  {
   "cell_type": "markdown",
   "id": "taken-ecology",
   "metadata": {},
   "source": [
    "# Run Spread sample"
   ]
  },
  {
   "cell_type": "markdown",
   "id": "focal-intro",
   "metadata": {},
   "source": [
    "### Step 1: Install packages"
   ]
  },
  {
   "cell_type": "code",
   "execution_count": null,
   "id": "innocent-guyana",
   "metadata": {
    "dotnet_interactive": {
     "language": "csharp"
    }
   },
   "outputs": [],
   "source": [
    "#i \"nuget: file:///home/jovyan/.nuget/packages/\"\n",
    "#i \"nuget: https://api.nuget.org/v3/index.json\"\n",
    "#r \"nuget: Systemathics.Apis\"\n",
    "#r \"nuget: XPlot.Plotly.Interactive\""
   ]
  },
  {
   "cell_type": "code",
   "execution_count": null,
   "id": "interior-income",
   "metadata": {
    "dotnet_interactive": {
     "language": "csharp"
    }
   },
   "outputs": [],
   "source": [
    "using Systemathics.Apis.Helpers;\n",
    "using Systemathics.Apis.Type.Shared.V1;\n",
    "using Systemathics.Apis.Services.Tick.V1;\n",
    "using Google.Protobuf.WellKnownTypes;\n",
    "using Google.Type;\n",
    "using Grpc.Core;\n",
    "using Grpc.Net.Client;\n",
    "using XPlot.Plotly;\n",
    "using XPlot.Plotly.Interactive;"
   ]
  },
  {
   "cell_type": "markdown",
   "id": "aerial-closer",
   "metadata": {},
   "source": [
    "### Step 2: Prepare API requests\n",
    "The following code snippets retrieve authentication token and prepare the API request by: opening the *channel* and adding the *token* to the request header:"
   ]
  },
  {
   "cell_type": "code",
   "execution_count": null,
   "id": "statewide-designation",
   "metadata": {
    "dotnet_interactive": {
     "language": "csharp"
    }
   },
   "outputs": [],
   "source": [
    "// Get token as metadata\n",
    "var headers = TokenHelpers.GetTokenAsMetaData();\n",
    "\n",
    "// Create communication channel\n",
    "var channel = ChannelHelpers.GetChannel();"
   ]
  },
  {
   "cell_type": "markdown",
   "id": "surface-referral",
   "metadata": {},
   "source": [
    "### Step 3: Retrieve data\n",
    "To request *tick data* service, we need to specify:\n",
    "* Instrument identifier\n",
    "* Time period selection: select start and end dates\n",
    "* Tick data request parameters"
   ]
  },
  {
   "cell_type": "markdown",
   "id": "medium-currency",
   "metadata": {},
   "source": [
    "#### 3.1 Instrument selection"
   ]
  },
  {
   "cell_type": "code",
   "execution_count": null,
   "id": "dangerous-tissue",
   "metadata": {
    "dotnet_interactive": {
     "language": "csharp"
    }
   },
   "outputs": [],
   "source": [
    "var ticker = \"AAPL\";\n",
    "var exchange = \"BATS\";"
   ]
  },
  {
   "cell_type": "markdown",
   "id": "fitting-helping",
   "metadata": {},
   "source": [
    "#### 3.2 Time period delimitation"
   ]
  },
  {
   "cell_type": "code",
   "execution_count": null,
   "id": "latest-principle",
   "metadata": {
    "dotnet_interactive": {
     "language": "csharp"
    }
   },
   "outputs": [],
   "source": [
    "// Create time intervals\n",
    "var start = new DateTime(2021, 03, 05);\n",
    "var end = new DateTime(2021, 03, 05);\n",
    "var dateIntervals = new DateInterval()\n",
    "{\n",
    "  StartDate = new Date { Year = start.Year, Month = start.Month, Day = start.Day },\n",
    "  EndDate = new Date { Year = end.Year, Month = end.Month, Day = end.Day }\n",
    "};\n",
    "\n",
    "// Build the market data request time interval (we are using Google date time format : we have to cast the dates)\n",
    "// UTC time zone\n",
    "var timeInterval = new TimeInterval()\n",
    "{\n",
    " StartTime = new TimeOfDay { Hours = 14, Minutes = 00, Seconds = 00 },\n",
    " EndTime = new TimeOfDay { Hours = 14, Minutes = 30, Seconds = 00 } \n",
    "};"
   ]
  },
  {
   "cell_type": "markdown",
   "id": "creative-effect",
   "metadata": {},
   "source": [
    "#### 3.3 Request creation\n",
    "The following code snippets creates *gRPC client*, process request and returns the request reply:"
   ]
  },
  {
   "cell_type": "code",
   "execution_count": null,
   "id": "several-remainder",
   "metadata": {
    "dotnet_interactive": {
     "language": "csharp"
    }
   },
   "outputs": [],
   "source": [
    "// Generate constraints based on the previous time selection:\n",
    "var constraints = new Constraints(); \n",
    "constraints.DateIntervals.Add(dateIntervals);\n",
    "constraints.TimeIntervals.Add(timeInterval);"
   ]
  },
  {
   "cell_type": "code",
   "execution_count": null,
   "id": "numeric-charles",
   "metadata": {
    "dotnet_interactive": {
     "language": "csharp"
    }
   },
   "outputs": [],
   "source": [
    "// Generate the tick book request\n",
    "var request = new TickBookRequest { Constraints = constraints };\n",
    "var identifier = new Identifier { Exchange = exchange, Ticker = ticker};\n",
    "request.Identifiers.Add(new [] {identifier}); "
   ]
  },
  {
   "cell_type": "code",
   "execution_count": null,
   "id": "short-plenty",
   "metadata": {
    "dotnet_interactive": {
     "language": "csharp"
    }
   },
   "outputs": [],
   "source": [
    "// Instantiate the tick book service\n",
    "var service = new TickBookService.TickBookServiceClient(channel);"
   ]
  },
  {
   "cell_type": "markdown",
   "id": "quiet-letters",
   "metadata": {},
   "source": [
    "### Step 4: Visualize data"
   ]
  },
  {
   "cell_type": "markdown",
   "id": "dress-justice",
   "metadata": {},
   "source": [
    "#### 4.1 Retrieve Spread data"
   ]
  },
  {
   "cell_type": "code",
   "execution_count": null,
   "id": "forbidden-consideration",
   "metadata": {
    "dotnet_interactive": {
     "language": "csharp"
    }
   },
   "outputs": [],
   "source": [
    "// Get the limits\n",
    "var limits = new List<BookLimit>();\n",
    "var call = service.TickBook(request, headers);\n",
    "await foreach (var book in call.ResponseStream.ReadAllAsync())\n",
    "{\n",
    "    if (book.Limit != null) \n",
    "    {\n",
    "        limits.Add(book.Limit);\n",
    "    } \n",
    "}\n",
    "\n",
    "// Display top of the book\n",
    "//display(limits);"
   ]
  },
  {
   "cell_type": "markdown",
   "id": "pacific-directive",
   "metadata": {},
   "source": [
    "#### 4.2 Plot Spread"
   ]
  },
  {
   "cell_type": "markdown",
   "id": "secondary-eating",
   "metadata": {},
   "source": [
    "Display *spread* over the look back period with the package of your choice.<br>*`XPlot.Plotly`* is used as per open source display package.\n",
    "Plot a simple line graphs for *spread* as follows:"
   ]
  },
  {
   "cell_type": "code",
   "execution_count": null,
   "id": "pending-recipient",
   "metadata": {
    "dotnet_interactive": {
     "language": "csharp"
    }
   },
   "outputs": [],
   "source": [
    "var spread = new Scattergl\n",
    "{\n",
    "    name = \"Spread\",\n",
    "    mode = \"lines\",\n",
    "    x = limits.Select(elt => elt.TimeStamp.ToDateTime()),\n",
    "    y = limits.Select(elt => elt.Ask.Price - elt.Bid.Price)\n",
    "};\n",
    "var chart = Chart.Plot(spread);\n",
    "chart.WithTitle($\"Spread for {ticker}\");\n",
    "chart.WithXTitle($\"Time\");\n",
    "chart.WithYTitle($\"Price\");\n",
    "chart.Width = 1500;\n",
    "chart.Height = 800;\n",
    "display(chart);"
   ]
  }
 ],
 "metadata": {
  "kernelspec": {
   "display_name": ".NET (C#)",
   "language": "C#",
   "name": ".net-csharp"
  },
  "language_info": {
   "file_extension": ".cs",
   "mimetype": "text/x-csharp",
   "name": "C#",
   "pygments_lexer": "csharp",
   "version": "9.0"
  }
 },
 "nbformat": 4,
 "nbformat_minor": 5
}
