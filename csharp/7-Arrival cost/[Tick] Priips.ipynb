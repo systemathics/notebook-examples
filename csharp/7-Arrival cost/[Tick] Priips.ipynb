{
 "cells": [
  {
   "cell_type": "markdown",
   "id": "individual-console",
   "metadata": {},
   "source": [
    "# 7 - Tick Priips (C#)"
   ]
  },
  {
   "cell_type": "markdown",
   "id": "acbdec09-9d53-4548-8a1b-b10a565787c3",
   "metadata": {},
   "source": [
    "This sample reads from a .csv file with a list of trades and returns a file with arrival cost."
   ]
  },
  {
   "cell_type": "markdown",
   "id": "integral-aside",
   "metadata": {},
   "source": [
    "### Setup and import packages"
   ]
  },
  {
   "cell_type": "code",
   "execution_count": null,
   "id": "theoretical-seller",
   "metadata": {
    "dotnet_interactive": {
     "language": "csharp"
    },
    "vscode": {
     "languageId": "dotnet-interactive.csharp"
    }
   },
   "outputs": [],
   "source": [
    "#i \"nuget: file:///home/jovyan/.nuget/packages/\"\n",
    "#i \"nuget: https://api.nuget.org/v3/index.json\"\n",
    "#r \"nuget: Systemathics.Apis, 2.32.*\"\n",
    "#r \"nuget: CsvHelper\""
   ]
  },
  {
   "cell_type": "code",
   "execution_count": null,
   "id": "geological-buying",
   "metadata": {
    "dotnet_interactive": {
     "language": "csharp"
    },
    "vscode": {
     "languageId": "dotnet-interactive.csharp"
    }
   },
   "outputs": [],
   "source": [
    "using Systemathics.Apis.Helpers;\n",
    "using Systemathics.Apis.Type.Shared.V1;\n",
    "using Systemathics.Apis.Services.TickAnalytics.V1;\n",
    "using TickTradesService = Systemathics.Apis.Services.Tick.V1.TickTradesService;\n",
    "using TickTradesRequest = Systemathics.Apis.Services.Tick.V1.TickTradesRequest;\n",
    "using TickTradesResponse = Systemathics.Apis.Services.Tick.V1.TickTradesResponse;\n",
    "using Trade = Systemathics.Apis.Type.Shared.V1.Trade;\n",
    "\n",
    "using Google.Protobuf.WellKnownTypes;\n",
    "using Google.Type;\n",
    "using Grpc.Net.Client;\n",
    "using Grpc.Core;\n",
    "// Import/export csv files \n",
    "using CsvHelper;\n",
    "using System.IO;\n",
    "using System.Threading;\n",
    "using System.Globalization;"
   ]
  },
  {
   "cell_type": "markdown",
   "id": "functioning-boston",
   "metadata": {},
   "source": [
    "### Retrieve the token"
   ]
  },
  {
   "cell_type": "code",
   "execution_count": null,
   "id": "victorian-beijing",
   "metadata": {
    "dotnet_interactive": {
     "language": "csharp"
    },
    "vscode": {
     "languageId": "dotnet-interactive.csharp"
    }
   },
   "outputs": [],
   "source": [
    "var headers = TokenHelpers.GetTokenAsMetaData();"
   ]
  },
  {
   "cell_type": "markdown",
   "id": "1df063fa-e430-4418-b04c-0010c5fff9fc",
   "metadata": {},
   "source": [
    "### Load inputs"
   ]
  },
  {
   "cell_type": "code",
   "execution_count": null,
   "id": "fa24b8d0-00c6-40a4-978f-89c17ec47321",
   "metadata": {
    "dotnet_interactive": {
     "language": "csharp"
    },
    "vscode": {
     "languageId": "dotnet-interactive.csharp"
    }
   },
   "outputs": [],
   "source": [
    "//var inputFilename = \"input/input20230307_564_787.csv\";\n",
    "var inputFilename = \"input/priips_sample_input.csv\";\n",
    "var outputFilename = \"output/priips_sample_output.csv\";\n",
    "var latency = new Duration { Seconds = 60 * 60 };\n",
    "var maxProcesses = 10000; // set a maximum number of rows to process"
   ]
  },
  {
   "cell_type": "code",
   "execution_count": null,
   "id": "f4bd9188-523c-43af-8731-584aa166fb50",
   "metadata": {
    "dotnet_interactive": {
     "language": "csharp"
    },
    "vscode": {
     "languageId": "dotnet-interactive.csharp"
    }
   },
   "outputs": [],
   "source": [
    "// Input trade structure to load from the csv file\n",
    "public class InputTrade\n",
    "{\n",
    "    public string GUID { get; set; }\n",
    "    public string ISIN { get; set; } \n",
    "    public string STOCK_EXCHANGE { get; set; } \n",
    "    public string INSTR_DESC { get; set; } \n",
    "    public string TRA_TYPE { get; set; }\n",
    "    public string EXECUTION_PRICE { get; set; }\n",
    "    public string ORDER_TIMESTAMP { get; set; }\n",
    "    public string EXECUTION_TIMESTAMP { get; set; }\n",
    "    public string Source { get; set; }\n",
    "    public string Symbol { get; set; }\n",
    "}"
   ]
  },
  {
   "cell_type": "code",
   "execution_count": null,
   "id": "f04fa8e0-bf53-4423-9747-da993cada295",
   "metadata": {
    "dotnet_interactive": {
     "language": "csharp"
    },
    "vscode": {
     "languageId": "dotnet-interactive.csharp"
    }
   },
   "outputs": [],
   "source": [
    "// Load the trades from the csv input file\n",
    "var records = new List<InputTrade>();\n",
    "using (var reader = new StreamReader(inputFilename))\n",
    "using (var csv = new CsvReader(reader, CultureInfo.InvariantCulture))\n",
    "{\n",
    "    records = csv.GetRecords<InputTrade>().ToList();\n",
    "}"
   ]
  },
  {
   "cell_type": "code",
   "execution_count": null,
   "id": "b28e218d-d2ca-435a-b7e4-adf85bf71a4a",
   "metadata": {},
   "outputs": [],
   "source": [
    "// display records content\n",
    "display(records)"
   ]
  },
  {
   "cell_type": "markdown",
   "id": "alternate-phone",
   "metadata": {},
   "source": [
    "### Process Request\n",
    "Read the input file, process the request for each row, and write results in the output file on the fly"
   ]
  },
  {
   "cell_type": "code",
   "execution_count": null,
   "id": "3b4f9f23-dc8b-42ce-9c4d-a0590e14365c",
   "metadata": {},
   "outputs": [],
   "source": [
    "#!time\n",
    "var d = new DirectoryInfo(\"output\"); if (!d.Exists) { d.Create(); }\n",
    "var field = PriipsPrice.Trade;\n",
    "using (var fs = new StreamWriter(File.Create(outputFilename))) \n",
    "{\n",
    "    // Write headers in output file\n",
    "    fs.WriteLine($\"Guid,Symbol,Source,Exchange,Isin,Instrument_descriptor,Type,ArrivalTime,ArrivalPrice,ArrivalCost,OpenTime,CloseTime,OrderTime,ExecutionTime,Duration (s),Latency (s),ExecutionPrice,Count,OpenPrice,HighPrice,LowPrice,ClosePrice,Vwap,Volume\");\n",
    "    \n",
    "    // prepare channel\n",
    "    var channel = ChannelHelpers.GetChannel();\n",
    "    var tickPriipsService = new TickPriipsService.TickPriipsServiceClient(channel);\n",
    "    \n",
    "    for (int i =0; i < Math.Min(maxProcesses,records.Count) ; i++) \n",
    "    {\n",
    "        var record = records[i];\n",
    "        var mappedExchange = record.Source;\n",
    "        var mappedTicker = record.Symbol;\n",
    "        var ot = DateTime.Parse(record.ORDER_TIMESTAMP).ToUniversalTime();\n",
    "        var et = DateTime.Parse(record.EXECUTION_TIMESTAMP).ToUniversalTime();\n",
    "        var tickPriipsRequest = new TickPriipsRequest \n",
    "                                                { \n",
    "                                                    Identifier = new Identifier { Exchange = mappedExchange , Ticker = mappedTicker},\n",
    "                                                    OrderTime = Timestamp.FromDateTime(ot),\n",
    "                                                    ExecutionTime = Timestamp.FromDateTime(et),\n",
    "                                                    ExecutionPrice = Double.Parse(record.EXECUTION_PRICE, System.Globalization.CultureInfo.InvariantCulture),\n",
    "                                                    Field = field,\n",
    "                                                    Latency = latency\n",
    "                                                };\n",
    "        \n",
    "        \n",
    "        // Fields from input .csv file \n",
    "        var guid = record.GUID;\n",
    "        var isin = record.ISIN;\n",
    "        var stockExchange = record.STOCK_EXCHANGE;\n",
    "        var instrDescriptor = record.INSTR_DESC;\n",
    "        var tradeType = record.TRA_TYPE;\n",
    "\n",
    "        \n",
    "        try \n",
    "        {\n",
    "            var tickPriipsCall = tickPriipsService.TickPriips(tickPriipsRequest, headers);\n",
    "            await foreach (var current in tickPriipsCall.ResponseStream.ReadAllAsync())\n",
    "            {\n",
    "                // Fields from Priips service response\n",
    "                var arrivalTime = current.ArrivalTime;\n",
    "                var arrivalPrice = current.ArrivalPrice;\n",
    "                var arrivalCost = current.ArrivalCost;\n",
    "                var openTime = current.OpenTime;\n",
    "                var closeTime = current.CloseTime;\n",
    "                var orderTime = current.OrderTime;\n",
    "                var executionTime = current.ExecutionTime;\n",
    "                var duration = current.Duration.Seconds;\n",
    "                var executionPrice = current.ExecutionPrice;\n",
    "                var count = current.Count;\n",
    "                var openPrice = current.OpenPrice;\n",
    "                var highPrice = current.HighPrice;\n",
    "                var lowPrice = current.LowPrice;\n",
    "                var closePrice = current.ClosePrice;\n",
    "                var vwap = current.Vwap;\n",
    "                var volume = current.Volume;\n",
    "                \n",
    "                // arrivalPeriod\n",
    "                var arrivalPeriod = orderTime - arrivalTime;\n",
    "                var arrivalPeriodStr = $\"{arrivalPeriod}\";\n",
    "                arrivalPeriodStr = arrivalPeriodStr.Replace(\"s\", string.Empty);  \n",
    "                \n",
    "                // Export\n",
    "                fs.WriteLine($\"{guid},{mappedTicker},{mappedExchange},{stockExchange},{isin},{instrDescriptor},{tradeType},{arrivalTime},{arrivalPrice},{arrivalCost},{openTime},{closeTime},{orderTime},{executionTime},{duration},{latency},{executionPrice},{count},{openPrice},{highPrice},{lowPrice},{closePrice},{vwap},{volume}\");\n",
    "\n",
    "            }   \n",
    "        } \n",
    "        catch \n",
    "        {\n",
    "            var inputOrderTime = $\"{record.ORDER_TIMESTAMP}\".Replace(\" \", \"T\").Replace(\".000\", \"Z\");\n",
    "            var inputExecutionTime = $\"{record.EXECUTION_TIMESTAMP}\".Replace(\" \", \"T\").Replace(\".000\", \"Z\");\n",
    "            fs.WriteLine($\"{guid},{mappedTicker},{mappedExchange},{stockExchange},{isin},{instrDescriptor},{tradeType},,,,,,{inputOrderTime},{inputExecutionTime},,{latency},,,,,,,,\");\n",
    "\n",
    "        }\n",
    "        \n",
    " \n",
    "    }\n",
    "    \n",
    "}\n",
    "Console.WriteLine($\"Done exporting data ({records.Count} records)\");"
   ]
  }
 ],
 "metadata": {
  "kernelspec": {
   "display_name": ".NET (C#)",
   "language": "C#",
   "name": ".net-csharp"
  },
  "language_info": {
   "file_extension": ".cs",
   "mimetype": "text/x-csharp",
   "name": "C#",
   "pygments_lexer": "csharp",
   "version": "10.0"
  }
 },
 "nbformat": 4,
 "nbformat_minor": 5
}
