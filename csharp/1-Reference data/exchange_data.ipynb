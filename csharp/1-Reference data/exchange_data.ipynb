{
 "cells": [
  {
   "cell_type": "markdown",
   "id": "sublime-brass",
   "metadata": {},
   "source": [
    "# Generate exchange data using dedicated service - C#\n",
    "\n",
    "### Overview\n",
    "Reference data encompasses a wide range of specification data about:\n",
    "* financial instrument such as asset class, symbol, maturity, etc.\n",
    "* counterparties such as issuer information.\n",
    "* pricing such as Open, high low and close prices.\n",
    "\n",
    "The challenge with reference data is that it tends to be sourced from multiple sources: internal, counterparties and providers.\n",
    "\n",
    "Reference data dedicated service is a result of various data sources and fields sourcing, validation, cross-checking and normalization.<br>\n",
    "\n",
    "This sample requests **on-demand** exchange data and enables fields mapping by calling a dedicated static data service, making available clean data.\n",
    "\n",
    "### Inputs/outputs\n",
    "Exchange data sample is designed to help you searching and requesting exchange reference data by using a wide range of commonly used fields.\n",
    "\n",
    "It takes exchange identifier as per input filter and returns the *entries* matching the *request*:\n",
    "* List of instruments' identifiers\n",
    "* Countries\n",
    "* Currencies \n",
    "* Tick size rules\n",
    "* etc. \n",
    "\n",
    "### Services used\n",
    "This sample uses *gRPC requests* in order to retrieve exchange reference data from the hosted service. The queried endpoint in this script are:\n",
    "* *StaticDataService*: to directly retrieve reference data objects from the server\n",
    "\n",
    "### Packages required\n",
    "1. Systemathics packages:\n",
    "    * *Systemathics.Apis.Type.Shared.V1*\n",
    "    * *Systemathics.Apis.Services.StaticData.V1*\n",
    "2. Open source packages\n",
    "    * *Google.Protobuf.WellKnownTypes*\n",
    "    * *Google.Type*\n",
    "    * *Grpc.Net.Client*\n",
    "    * *Grpc.Core*\n",
    "\n",
    "***"
   ]
  },
  {
   "cell_type": "markdown",
   "id": "continental-tissue",
   "metadata": {},
   "source": [
    "# Run Exchange data sample"
   ]
  },
  {
   "cell_type": "markdown",
   "id": "banned-obligation",
   "metadata": {},
   "source": [
    "### Step 1: Install packages"
   ]
  },
  {
   "cell_type": "code",
   "execution_count": null,
   "id": "vietnamese-affiliation",
   "metadata": {
    "dotnet_interactive": {
     "language": "csharp"
    }
   },
   "outputs": [],
   "source": [
    "#i \"nuget: file:///home/jovyan/.nuget/packages/\"\n",
    "#i \"nuget: https://api.nuget.org/v3/index.json\"\n",
    "#r \"nuget: Systemathics.Apis\"\n",
    "#r \"nuget: CsvHelper\""
   ]
  },
  {
   "cell_type": "code",
   "execution_count": null,
   "id": "chronic-penny",
   "metadata": {
    "dotnet_interactive": {
     "language": "csharp"
    }
   },
   "outputs": [],
   "source": [
    "using Systemathics.Apis.Helpers;\n",
    "using Systemathics.Apis.Type.Shared.V1;\n",
    "using Systemathics.Apis.Services.StaticData.V1;\n",
    "using Google.Protobuf.WellKnownTypes;\n",
    "using Google.Type;\n",
    "using Grpc.Net.Client;\n",
    "using Grpc.Core;\n",
    "// Import/export csv files\n",
    "using CsvHelper;\n",
    "using System.IO;\n",
    "using System.Globalization;"
   ]
  },
  {
   "cell_type": "markdown",
   "id": "available-stocks",
   "metadata": {},
   "source": [
    "### Step 2: Prepare API requests\n",
    "The following code snippets retrieve authentication token and prepare the API request by: opening the *channel* and adding the *token* to the request header:"
   ]
  },
  {
   "cell_type": "code",
   "execution_count": null,
   "id": "maritime-storage",
   "metadata": {
    "dotnet_interactive": {
     "language": "csharp"
    }
   },
   "outputs": [],
   "source": [
    "// Get token as metadata\n",
    "var headers = TokenHelpers.GetTokenAsMetaData();\n",
    "\n",
    "// Create communication channel\n",
    "var channel = ChannelHelpers.GetChannel();"
   ]
  },
  {
   "cell_type": "markdown",
   "id": "expensive-award",
   "metadata": {},
   "source": [
    "The following code snippet enables to select the **exchange** by its *Market Identifier Code*:"
   ]
  },
  {
   "cell_type": "code",
   "execution_count": null,
   "id": "endless-puzzle",
   "metadata": {
    "dotnet_interactive": {
     "language": "csharp"
    }
   },
   "outputs": [],
   "source": [
    "// Set exchange\n",
    "var exchange = \"XNGS\";"
   ]
  },
  {
   "cell_type": "markdown",
   "id": "brazilian-taiwan",
   "metadata": {},
   "source": [
    "The following code snippets call the service, generate the request and return the reply: "
   ]
  },
  {
   "cell_type": "code",
   "execution_count": null,
   "id": "colored-reflection",
   "metadata": {
    "dotnet_interactive": {
     "language": "csharp"
    }
   },
   "outputs": [],
   "source": [
    "// Instantiate the service\n",
    "var service = new StaticDataService.StaticDataServiceClient(channel);\n",
    "\n",
    "// Generate request\n",
    "var request = new StaticDataRequest { AssetType = AssetType.Equity, Exchange = exchange, Count = 100};\n",
    "\n",
    "// Call the service\n",
    "var reply = service.StaticData(request, headers);\n",
    "\n",
    "// Display the results\n",
    "//display(reply.Equities)"
   ]
  },
  {
   "cell_type": "markdown",
   "id": "modern-hands",
   "metadata": {},
   "source": [
    "### Step 4: Retrieve data"
   ]
  },
  {
   "cell_type": "markdown",
   "id": "lined-anchor",
   "metadata": {},
   "source": [
    "#### 4.1 Retrieve instruments' identifiers (mapping)"
   ]
  },
  {
   "cell_type": "code",
   "execution_count": null,
   "id": "expressed-liver",
   "metadata": {
    "dotnet_interactive": {
     "language": "csharp"
    }
   },
   "outputs": [],
   "source": [
    "// Create a class to handle the instrument's mapping codes\n",
    "public class Instrument\n",
    "{\n",
    "    public string Ticker{get; set;}\n",
    "    public string Name{get; set;}\n",
    "    public string Isin{get; set;}\n",
    "    public string Cusip{get; set;}\n",
    "    public string Sedol{get; set;}\n",
    "    public string Bloomberg{get; set;}\n",
    "}\n",
    "var instruments = new List<Instrument>();\n",
    "\n",
    "// Get mapping codes for the requested instruments\n",
    "foreach (var reply in reply.Equities) \n",
    "{\n",
    "    // Get mapping codes\n",
    "    var ticker = reply.Identifier.Ticker;\n",
    "    reply.Mapping.TryGetValue(\"Bloomberg\", out var bloomberg);\n",
    "    \n",
    "    // Add the instruments\n",
    "    instruments.Add(new Instrument(){Ticker = ticker, Name = reply.Name, Isin = reply.Isin, Cusip = reply.Cusip, Sedol = reply.Sedol, Bloomberg = bloomberg});\n",
    "}"
   ]
  },
  {
   "cell_type": "code",
   "execution_count": null,
   "id": "exceptional-webmaster",
   "metadata": {
    "dotnet_interactive": {
     "language": "csharp"
    }
   },
   "outputs": [],
   "source": [
    "display(instruments)"
   ]
  },
  {
   "cell_type": "markdown",
   "id": "weighted-wages",
   "metadata": {},
   "source": [
    "The following code snippet exports data to *csv* file:"
   ]
  },
  {
   "cell_type": "code",
   "execution_count": null,
   "id": "requested-corporation",
   "metadata": {
    "dotnet_interactive": {
     "language": "csharp"
    }
   },
   "outputs": [],
   "source": [
    "using (var writer = new StreamWriter($\"{exchange}.csv\"))\n",
    "using (var csv = new CsvWriter(writer, CultureInfo.InvariantCulture))\n",
    "{\n",
    "    csv.WriteRecords(instruments);\n",
    "}"
   ]
  },
  {
   "cell_type": "markdown",
   "id": "premium-client",
   "metadata": {},
   "source": [
    "#### 4.2 Retrieve countries"
   ]
  },
  {
   "cell_type": "code",
   "execution_count": null,
   "id": "lightweight-short",
   "metadata": {
    "dotnet_interactive": {
     "language": "csharp"
    }
   },
   "outputs": [],
   "source": [
    "var countries = reply.Equities.Select(r => r.Country).Distinct();\n",
    "display(countries)"
   ]
  },
  {
   "cell_type": "markdown",
   "id": "mysterious-school",
   "metadata": {},
   "source": [
    "#### 4.3 Retrieve currencies"
   ]
  },
  {
   "cell_type": "code",
   "execution_count": null,
   "id": "agricultural-replication",
   "metadata": {
    "dotnet_interactive": {
     "language": "csharp"
    }
   },
   "outputs": [],
   "source": [
    "var currencies = reply.Equities.Select(r => r.Currency).Distinct();\n",
    "display(currencies)"
   ]
  },
  {
   "cell_type": "markdown",
   "id": "retired-implementation",
   "metadata": {},
   "source": [
    "#### 4.4 Retrieve tick size rules"
   ]
  },
  {
   "cell_type": "code",
   "execution_count": null,
   "id": "residential-strain",
   "metadata": {
    "dotnet_interactive": {
     "language": "csharp"
    }
   },
   "outputs": [],
   "source": [
    "var tsr = reply.Equities.Select(r => r.TickSizeRule).Distinct();\n",
    "display(tsr)"
   ]
  },
  {
   "cell_type": "code",
   "execution_count": null,
   "id": "assured-contrast",
   "metadata": {
    "dotnet_interactive": {
     "language": "csharp"
    }
   },
   "outputs": [],
   "source": []
  }
 ],
 "metadata": {
  "interpreter": {
   "hash": "f92b2924b84ff19c1c3dc485f7644d4486f64738191026bf8e6de303969141b5"
  },
  "kernelspec": {
   "display_name": ".NET (C#)",
   "language": "C#",
   "name": ".net-csharp"
  },
  "language_info": {
   "file_extension": ".cs",
   "mimetype": "text/x-csharp",
   "name": "C#",
   "pygments_lexer": "csharp",
   "version": "9.0"
  }
 },
 "nbformat": 4,
 "nbformat_minor": 5
}
