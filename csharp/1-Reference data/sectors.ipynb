{
 "cells": [
  {
   "cell_type": "markdown",
   "metadata": {},
   "source": [
    "# Generate instrument sector information using dedicated service - C#\n",
    "\n",
    "### Overview\n",
    "Industrial sector is an important information when looking for referential data. One of the challenges with sectors data remains in the various available classifications.\n",
    "Sector classifications are organized in different levels to identify the different industries from the most general to the most specific.\n",
    "The sector classifications currenctly supported are ICB, GICS, TRBC and SIC.\n",
    "\n",
    "This sample requests **on-demand** sectors data by calling a dedicated service.\n",
    "\n",
    "### Inputs/outputs\n",
    "Sectors data sample is designed to help you requesting sectors data by using several classification types.\n",
    "There are two ways to use the static sectors data endpoint. In both cases one of the necessary input is the **classification type**. The other input depends on the use-case:\n",
    "* **code**: in order to check the meaning of a specific code (ex: '10101010')\n",
    "* **level**: in order to retrieve a view of the table from a specific level. These levels correspond to layers of details of the sector activity.\n",
    "\n",
    "The service returns the information in 3 different fields:\n",
    "* **description**: a brief description of the classification.\n",
    "* **count**: number of levels in the classification.\n",
    "* **data**: array containing the elements retrieved\n",
    "\n",
    "\n",
    "### Services used\n",
    "This sample uses *gRPC requests* in order to retrieve sectors reference data from the hosted service. The queried endpoint in this script are:\n",
    "* *StaticSectorService*: to directly retrieve sector information objects from the server\n",
    "\n",
    "### Modules required\n",
    "1. Systemathics packages:\n",
    "    * *Systemathics.Apis.Services.SectorData.V1*\n",
    "2. Open source packages\n",
    "    * *Google.Protobuf.WellKnownTypes*\n",
    "    * *Google.Type*\n",
    "    * *Grpc.Net.Client*\n",
    "    * *Grpc.Core*\n",
    "    \n",
    "***"
   ]
  },
  {
   "cell_type": "markdown",
   "metadata": {},
   "source": [
    "# Run Exchange data sample"
   ]
  },
  {
   "cell_type": "markdown",
   "metadata": {},
   "source": [
    "### Step 1: Install packages"
   ]
  },
  {
   "cell_type": "code",
   "execution_count": null,
   "metadata": {
    "dotnet_interactive": {
     "language": "csharp"
    }
   },
   "outputs": [],
   "source": [
    "#i \"nuget: file:///home/jovyan/.nuget/packages/\"\n",
    "#i \"nuget: https://api.nuget.org/v3/index.json\"\n",
    "#r \"nuget: Systemathics.Apis\""
   ]
  },
  {
   "cell_type": "code",
   "execution_count": null,
   "metadata": {
    "dotnet_interactive": {
     "language": "csharp"
    }
   },
   "outputs": [],
   "source": [
    "using Systemathics.Apis.Helpers;\n",
    "using Systemathics.Apis.Type.Shared.V1;\n",
    "using Systemathics.Apis.Services.StaticData.V1;\n",
    "using Google.Protobuf.WellKnownTypes;\n",
    "using Google.Type;\n",
    "using Grpc.Net.Client;\n",
    "using Grpc.Core;"
   ]
  },
  {
   "cell_type": "markdown",
   "metadata": {},
   "source": [
    "### Step 2: Prepare API requests\n",
    "The following code snippets retrieve authentication token and prepare the API request by: opening the *channel* and adding the *token* to the request header:"
   ]
  },
  {
   "cell_type": "code",
   "execution_count": null,
   "metadata": {
    "dotnet_interactive": {
     "language": "csharp"
    }
   },
   "outputs": [],
   "source": [
    "// Get token as metadata\n",
    "var headers = TokenHelpers.GetTokenAsMetaData();\n",
    "\n",
    "// Create communication channel\n",
    "var channel = ChannelHelpers.GetChannel();"
   ]
  },
  {
   "cell_type": "code",
   "execution_count": null,
   "metadata": {
    "dotnet_interactive": {
     "language": "csharp"
    }
   },
   "outputs": [],
   "source": [
    "// instantiate the service\n",
    "var service = new StaticSectorService.StaticSectorServiceClient(channel);"
   ]
  },
  {
   "cell_type": "markdown",
   "metadata": {},
   "source": [
    "### Step 3: Retrieve sector classification from a level\n",
    "In this sample we retrieve the classification for a specific level"
   ]
  },
  {
   "cell_type": "markdown",
   "metadata": {},
   "source": [
    "#### 3.1: First example: level 0 of ICB"
   ]
  },
  {
   "cell_type": "code",
   "execution_count": null,
   "metadata": {
    "dotnet_interactive": {
     "language": "csharp"
    }
   },
   "outputs": [],
   "source": [
    "var provider = \"ICB\";\n",
    "var level = 0;"
   ]
  },
  {
   "cell_type": "code",
   "execution_count": null,
   "metadata": {
    "dotnet_interactive": {
     "language": "csharp"
    }
   },
   "outputs": [],
   "source": [
    "// Generate request\n",
    "var request = new StaticSectorRequest\n",
    "{\n",
    "      Provider = provider,\n",
    "      Level = level\n",
    "};\n",
    "var reply = service.StaticSector(request, headers);\n",
    "display(reply)"
   ]
  },
  {
   "cell_type": "markdown",
   "metadata": {},
   "source": [
    "#### 3.2: Second example: level 3 of GICS"
   ]
  },
  {
   "cell_type": "code",
   "execution_count": null,
   "metadata": {
    "dotnet_interactive": {
     "language": "csharp"
    }
   },
   "outputs": [],
   "source": [
    "var provider = \"GICS\";\n",
    "var level = 3;"
   ]
  },
  {
   "cell_type": "code",
   "execution_count": null,
   "metadata": {
    "dotnet_interactive": {
     "language": "csharp"
    }
   },
   "outputs": [],
   "source": [
    "// Generate request\n",
    "var request = new StaticSectorRequest\n",
    "{\n",
    "      Provider = provider,\n",
    "      Level = level\n",
    "};\n",
    "var reply = service.StaticSector(request, headers);\n",
    "display(reply)"
   ]
  },
  {
   "cell_type": "markdown",
   "metadata": {},
   "source": [
    "### Step 4: Retrieve sectors data from a specific code\n",
    "In this part we assume we have the code for a specific classification and we want to get the corresponding sector "
   ]
  },
  {
   "cell_type": "markdown",
   "metadata": {},
   "source": [
    "#### 4.1: ICB"
   ]
  },
  {
   "cell_type": "code",
   "execution_count": null,
   "metadata": {
    "dotnet_interactive": {
     "language": "csharp"
    }
   },
   "outputs": [],
   "source": [
    "var provider = \"ICB\";\n",
    "var code = \"30201025\";"
   ]
  },
  {
   "cell_type": "code",
   "execution_count": null,
   "metadata": {
    "dotnet_interactive": {
     "language": "csharp"
    }
   },
   "outputs": [],
   "source": [
    "// Generate request\n",
    "var request = new StaticSectorRequest\n",
    "{\n",
    "      Provider = provider,\n",
    "      Code = code\n",
    "};\n",
    "var reply = service.StaticSector(request, headers);\n",
    "display(reply)"
   ]
  },
  {
   "cell_type": "code",
   "execution_count": null,
   "metadata": {
    "dotnet_interactive": {
     "language": "csharp"
    }
   },
   "outputs": [],
   "source": [
    "// Displaying only the data for this example and the other ones\n",
    "display(reply.Data)"
   ]
  },
  {
   "cell_type": "markdown",
   "metadata": {},
   "source": [
    "#### 4.2: SIC"
   ]
  },
  {
   "cell_type": "code",
   "execution_count": null,
   "metadata": {
    "dotnet_interactive": {
     "language": "csharp"
    }
   },
   "outputs": [],
   "source": [
    "var provider = \"SIC\";\n",
    "var code = \"3577\";"
   ]
  },
  {
   "cell_type": "code",
   "execution_count": null,
   "metadata": {
    "dotnet_interactive": {
     "language": "csharp"
    }
   },
   "outputs": [],
   "source": [
    "// Generate request\n",
    "var request = new StaticSectorRequest\n",
    "{\n",
    "      Provider = provider,\n",
    "      Code = code\n",
    "};\n",
    "var reply = service.StaticSector(request, headers);\n",
    "display(reply.Data)"
   ]
  },
  {
   "cell_type": "markdown",
   "metadata": {},
   "source": [
    "#### 4.3: GICS"
   ]
  },
  {
   "cell_type": "code",
   "execution_count": null,
   "metadata": {
    "dotnet_interactive": {
     "language": "csharp"
    }
   },
   "outputs": [],
   "source": [
    "var provider = \"GICS\";\n",
    "var code = \"10102010\";"
   ]
  },
  {
   "cell_type": "code",
   "execution_count": null,
   "metadata": {
    "dotnet_interactive": {
     "language": "csharp"
    }
   },
   "outputs": [],
   "source": [
    "// Generate request\n",
    "var request = new StaticSectorRequest\n",
    "{\n",
    "      Provider = provider,\n",
    "      Code = code\n",
    "};\n",
    "var reply = service.StaticSector(request, headers);\n",
    "display(reply.Data)"
   ]
  },
  {
   "cell_type": "markdown",
   "metadata": {},
   "source": [
    "#### 4.4: TRBC\n",
    "This classification is organized in 5 levels"
   ]
  },
  {
   "cell_type": "code",
   "execution_count": null,
   "metadata": {
    "dotnet_interactive": {
     "language": "csharp"
    }
   },
   "outputs": [],
   "source": [
    "var provider = \"TRBC\";\n",
    "var code = \"5020101010\";"
   ]
  },
  {
   "cell_type": "code",
   "execution_count": null,
   "metadata": {
    "dotnet_interactive": {
     "language": "csharp"
    }
   },
   "outputs": [],
   "source": [
    "// Generate request\n",
    "var request = new StaticSectorRequest\n",
    "{\n",
    "      Provider = provider,\n",
    "      Code = code\n",
    "};\n",
    "var reply = service.StaticSector(request, headers);\n",
    "display(reply.Data)"
   ]
  }
 ],
 "metadata": {
  "kernelspec": {
   "display_name": ".NET (C#)",
   "language": "C#",
   "name": ".net-csharp"
  },
  "language_info": {
   "file_extension": ".cs",
   "mimetype": "text/x-csharp",
   "name": "C#",
   "pygments_lexer": "csharp",
   "version": "9.0"
  }
 },
 "nbformat": 4,
 "nbformat_minor": 5
}
