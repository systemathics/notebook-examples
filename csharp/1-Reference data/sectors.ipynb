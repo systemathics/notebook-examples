{
 "cells": [
  {
   "cell_type": "markdown",
   "id": "b06b4628",
   "metadata": {},
   "source": [
    "# Generate instrument sector information using dedicated service - C#\n",
    "\n",
    "### Overview\n",
    "Industrial sector is an important information when looking for referential data. One of the challenges with sectors data remains in the various available classifications.\n",
    "Sector classifications are organized in different levels to identify the different industries from the most general to the most specific.\n",
    "The sector classifications currenctly supported are ICB, GICS, TRBC and SIC.\n",
    "\n",
    "This sample requests **on-demand** sectors data by calling a dedicated service.\n",
    "\n",
    "### Inputs/outputs\n",
    "Sectors data sample is designed to help you requesting sectors data by using several classification types.\n",
    "There are two ways to use the static sectors data endpoint. In both cases one of the necessary input is the **classification type**. The other input depends on the use-case:\n",
    "* **code**: in order to check the meaning of a specific code (ex: '10101010')\n",
    "* **level**: in order to retrieve a view of the table from a specific level. These levels correspond to layers of details of the sector activity.\n",
    "\n",
    "The service returns the information in 3 different fields:\n",
    "* **description**: a brief description of the classification.\n",
    "* **count**: number of levels in the classification.\n",
    "* **data**: array containing the elements retrieved\n",
    "\n",
    "\n",
    "### Services used\n",
    "This sample uses *gRPC requests* in order to retrieve sectors reference data from the hosted service. The queried endpoint in this script are:\n",
    "* *StaticSectorService*: to directly retrieve sector information objects from the server\n",
    "\n",
    "### Modules required\n",
    "1. Systemathics packages:\n",
    "    * *Systemathics.Apis.Services.SectorData.V1*\n",
    "2. Open source packages\n",
    "    * *Google.Protobuf.WellKnownTypes*\n",
    "    * *Google.Type*\n",
    "    * *Grpc.Net.Client*\n",
    "    * *Grpc.Core*\n",
    "    \n",
    "***"
   ]
  },
  {
   "cell_type": "markdown",
   "id": "a6deb694",
   "metadata": {},
   "source": [
    "# Run Exchange data sample"
   ]
  },
  {
   "cell_type": "markdown",
   "id": "3171c3c0",
   "metadata": {},
   "source": [
    "### Step 1: Install packages"
   ]
  },
  {
   "cell_type": "code",
   "execution_count": null,
   "id": "5556923b",
   "metadata": {
    "dotnet_interactive": {
     "language": "csharp"
    }
   },
   "outputs": [],
   "source": [
    "#i \"nuget: file:///home/jovyan/.nuget/packages/\"\n",
    "#i \"nuget: https://api.nuget.org/v3/index.json\"\n",
    "#r \"nuget: Systemathics.Apis, 0.9.*-pre*\""
   ]
  },
  {
   "cell_type": "code",
   "execution_count": null,
   "id": "57b9dd8c",
   "metadata": {
    "dotnet_interactive": {
     "language": "csharp"
    }
   },
   "outputs": [],
   "source": [
    "using Systemathics.Apis.Helpers;\n",
    "using Systemathics.Apis.Type.Shared.V1;\n",
    "using Systemathics.Apis.Services.StaticData.V1;\n",
    "using Google.Protobuf.WellKnownTypes;\n",
    "using Google.Type;\n",
    "using Grpc.Net.Client;\n",
    "using Grpc.Core;"
   ]
  },
  {
   "cell_type": "markdown",
   "id": "668b8f44",
   "metadata": {},
   "source": [
    "### Step 2: Prepare API requests\n",
    "The following code snippets retrieve authentication token and prepare the API request by: opening the *channel* and adding the *token* to the request header:"
   ]
  },
  {
   "cell_type": "code",
   "execution_count": null,
   "id": "eeb92a9f",
   "metadata": {
    "dotnet_interactive": {
     "language": "csharp"
    }
   },
   "outputs": [],
   "source": [
    "// Get token as metadata\n",
    "var headers = TokenHelpers.GetTokenAsMetaData();\n",
    "\n",
    "// Create communication channel\n",
    "var channel = ChannelHelpers.GetChannel();"
   ]
  },
  {
   "cell_type": "code",
   "execution_count": null,
   "id": "3aefa552",
   "metadata": {
    "dotnet_interactive": {
     "language": "csharp"
    }
   },
   "outputs": [],
   "source": [
    "// instantiate the service\n",
    "var service = new StaticSectorService.StaticSectorServiceClient(channel);"
   ]
  },
  {
   "cell_type": "markdown",
   "id": "5af09bab",
   "metadata": {},
   "source": [
    "### Step 3: Retrieve sector classification from a level\n",
    "In this sample we retrieve the classification for a specific level"
   ]
  },
  {
   "cell_type": "markdown",
   "id": "851109df-1faf-4671-834a-56799ead1f0f",
   "metadata": {},
   "source": [
    "#### 3.1: First example: level 0 of ICB"
   ]
  },
  {
   "cell_type": "code",
   "execution_count": null,
   "id": "aefd97e2-d8d2-49ef-aaf0-f9b824411cf1",
   "metadata": {
    "dotnet_interactive": {
     "language": "csharp"
    }
   },
   "outputs": [],
   "source": [
    "var provider = \"ICB\";\n",
    "var level = 0;"
   ]
  },
  {
   "cell_type": "code",
   "execution_count": null,
   "id": "04eccbe2",
   "metadata": {
    "dotnet_interactive": {
     "language": "csharp"
    }
   },
   "outputs": [],
   "source": [
    "// Generate request\n",
    "var request = new StaticSectorRequest\n",
    "{\n",
    "      Provider = provider,\n",
    "      Level = level\n",
    "};\n",
    "var reply = service.StaticSector(request, headers);\n",
    "display(reply)"
   ]
  },
  {
   "cell_type": "markdown",
   "id": "3a52682c-7cb9-4ab5-94af-7a94e9829229",
   "metadata": {},
   "source": [
    "#### 3.2: Second example: level 3 of GICS"
   ]
  },
  {
   "cell_type": "code",
   "execution_count": null,
   "id": "622df988-92c0-4ca7-88d7-52fee15a30b8",
   "metadata": {
    "dotnet_interactive": {
     "language": "csharp"
    }
   },
   "outputs": [],
   "source": [
    "var provider = \"GICS\";\n",
    "var level = 3;"
   ]
  },
  {
   "cell_type": "code",
   "execution_count": null,
   "id": "eb240e2b-0c3c-432d-bd7d-732494959d23",
   "metadata": {
    "dotnet_interactive": {
     "language": "csharp"
    }
   },
   "outputs": [],
   "source": [
    "// Generate request\n",
    "var request = new StaticSectorRequest\n",
    "{\n",
    "      Provider = provider,\n",
    "      Level = level\n",
    "};\n",
    "var reply = service.StaticSector(request, headers);\n",
    "display(reply)"
   ]
  },
  {
   "cell_type": "markdown",
   "id": "2020c623-52b4-47f6-80c2-154f7f3e30b7",
   "metadata": {},
   "source": [
    "### Step 4: Retrieve sectors data from a specific code\n",
    "In this part we assume we have the code for a specific classification and we want to get the corresponding sector "
   ]
  },
  {
   "cell_type": "markdown",
   "id": "173fc123-8298-4ade-b246-22751ff78564",
   "metadata": {},
   "source": [
    "#### 4.1: ICB"
   ]
  },
  {
   "cell_type": "code",
   "execution_count": null,
   "id": "a73f9e2e-b4e7-432c-a6fb-48198803119e",
   "metadata": {
    "dotnet_interactive": {
     "language": "csharp"
    }
   },
   "outputs": [],
   "source": [
    "var provider = \"ICB\";\n",
    "var code = \"30201025\";"
   ]
  },
  {
   "cell_type": "code",
   "execution_count": null,
   "id": "c9f656f8-0215-4ccb-9844-635dd3b9d282",
   "metadata": {
    "dotnet_interactive": {
     "language": "csharp"
    }
   },
   "outputs": [],
   "source": [
    "// Generate request\n",
    "var request = new StaticSectorRequest\n",
    "{\n",
    "      Provider = provider,\n",
    "      Code = code\n",
    "};\n",
    "var reply = service.StaticSector(request, headers);\n",
    "display(reply)"
   ]
  },
  {
   "cell_type": "code",
   "execution_count": null,
   "id": "f00c0b1a-145b-485d-a856-a5b98bc60385",
   "metadata": {
    "dotnet_interactive": {
     "language": "csharp"
    }
   },
   "outputs": [],
   "source": [
    "// Displaying only the data for this example and the other ones\n",
    "display(reply.Data)"
   ]
  },
  {
   "cell_type": "markdown",
   "id": "c2bd50ed-e864-4e41-83a8-264a35d56867",
   "metadata": {},
   "source": [
    "#### 4.2: SIC"
   ]
  },
  {
   "cell_type": "code",
   "execution_count": null,
   "id": "51fb5bc5-cac3-4e2d-909e-02e91bc1bf62",
   "metadata": {
    "dotnet_interactive": {
     "language": "csharp"
    }
   },
   "outputs": [],
   "source": [
    "var provider = \"SIC\";\n",
    "var code = \"3577\";"
   ]
  },
  {
   "cell_type": "code",
   "execution_count": null,
   "id": "0c855a4b-5173-4c7d-9436-375b10fff175",
   "metadata": {
    "dotnet_interactive": {
     "language": "csharp"
    }
   },
   "outputs": [],
   "source": [
    "// Generate request\n",
    "var request = new StaticSectorRequest\n",
    "{\n",
    "      Provider = provider,\n",
    "      Code = code\n",
    "};\n",
    "var reply = service.StaticSector(request, headers);\n",
    "display(reply.Data)"
   ]
  },
  {
   "cell_type": "markdown",
   "id": "19f32261-9dcb-4a86-a2e5-9000791e890c",
   "metadata": {},
   "source": [
    "#### 4.3: GICS"
   ]
  },
  {
   "cell_type": "code",
   "execution_count": null,
   "id": "2e84adcb-8ea3-41a1-8be8-66e1398e3f7e",
   "metadata": {
    "dotnet_interactive": {
     "language": "csharp"
    }
   },
   "outputs": [],
   "source": [
    "var provider = \"GICS\";\n",
    "var code = \"10102010\";"
   ]
  },
  {
   "cell_type": "code",
   "execution_count": null,
   "id": "b86fbfdb-1421-4cc6-be89-98b561b86bc0",
   "metadata": {
    "dotnet_interactive": {
     "language": "csharp"
    }
   },
   "outputs": [],
   "source": [
    "// Generate request\n",
    "var request = new StaticSectorRequest\n",
    "{\n",
    "      Provider = provider,\n",
    "      Code = code\n",
    "};\n",
    "var reply = service.StaticSector(request, headers);\n",
    "display(reply.Data)"
   ]
  },
  {
   "cell_type": "markdown",
   "id": "582b97f5-c2d1-4ec7-96ac-13ad1ffa02c3",
   "metadata": {},
   "source": [
    "#### 4.4: TRBC\n",
    "This classification is organized in 5 levels"
   ]
  },
  {
   "cell_type": "code",
   "execution_count": null,
   "id": "96546a19-74d1-4a2c-ac91-9c622f72cbad",
   "metadata": {
    "dotnet_interactive": {
     "language": "csharp"
    }
   },
   "outputs": [],
   "source": [
    "var provider = \"TRBC\";\n",
    "var code = \"5020101010\";"
   ]
  },
  {
   "cell_type": "code",
   "execution_count": null,
   "id": "a6ace0b1-1dda-4245-a3b7-a24a0f07f1f1",
   "metadata": {
    "dotnet_interactive": {
     "language": "csharp"
    }
   },
   "outputs": [],
   "source": [
    "// Generate request\n",
    "var request = new StaticSectorRequest\n",
    "{\n",
    "      Provider = provider,\n",
    "      Code = code\n",
    "};\n",
    "var reply = service.StaticSector(request, headers);\n",
    "display(reply.Data)"
   ]
  }
 ],
 "metadata": {
  "kernelspec": {
   "display_name": ".NET (C#)",
   "language": "C#",
   "name": ".net-csharp"
  },
  "language_info": {
   "file_extension": ".cs",
   "mimetype": "text/x-csharp",
   "name": "C#",
   "pygments_lexer": "csharp",
   "version": "9.0"
  }
 },
 "nbformat": 4,
 "nbformat_minor": 5
}
