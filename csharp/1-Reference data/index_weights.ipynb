{
 "cells": [
  {
   "cell_type": "markdown",
   "id": "mounted-ability",
   "metadata": {},
   "source": [
    "# Generate index weights using dedicated service - C#\n",
    "\n",
    "### Overview\n",
    "Reference data encompasses a wide range of specification data about:\n",
    "* financial instrument such as asset class, symbol, maturity, etc.\n",
    "* counterparties such as issuer information.\n",
    "* pricing such as Open, high low and close prices.\n",
    "\n",
    "The challenge with reference data is that it tends to be sourced from multiple sources: internal, counterparties and providers.\n",
    "\n",
    "Reference data dedicated service is a result of various data sources and fields sourcing, validation, cross-checking and normalization.<br>\n",
    "\n",
    "This sample requests **on-demand** exchange data and enables fields mapping by calling a dedicated static data service, making available clean data.\n",
    "\n",
    "### Inputs/outputs\n",
    "Index weights sample is designed to help you searching and requesting index components reference data by using a wide range of commonly used fields.\n",
    "\n",
    "It takes an index code as per input filter and returns index components and weights.\n",
    "\n",
    "### Services used\n",
    "This sample uses *gRPC requests* in order to retrieve index components and weights from the hosted service. The queried endpoint in this script are:\n",
    "* *ComponentsService*: to directly retrieve index data objects from the server\n",
    "\n",
    "### Packages required\n",
    "1. Systemathics packages:\n",
    "    * *Systemathics.Apis.Type.Shared.V1*\n",
    "    * *Systemathics.Apis.Services.Indices.V1*\n",
    "2. Open source packages\n",
    "    * *Google.Protobuf.WellKnownTypes*\n",
    "    * *Google.Type*\n",
    "    * *Grpc.Net.Client*\n",
    "    * *Grpc.Core*\n",
    "\n",
    "***"
   ]
  },
  {
   "cell_type": "markdown",
   "id": "union-junction",
   "metadata": {},
   "source": [
    "# Run Index weights sample"
   ]
  },
  {
   "cell_type": "markdown",
   "id": "willing-services",
   "metadata": {},
   "source": [
    "### Step 1: Install packages"
   ]
  },
  {
   "cell_type": "code",
   "execution_count": null,
   "id": "upper-meaning",
   "metadata": {
    "dotnet_interactive": {
     "language": "csharp"
    }
   },
   "outputs": [],
   "source": [
    "#i \"nuget: file:///home/jovyan/.nuget/packages/\"\n",
    "#i \"nuget: https://api.nuget.org/v3/index.json\"\n",
    "#r \"nuget: Systemathics.Apis\"\n",
    "#r \"nuget: CsvHelper\"\n",
    "#r \"nuget: XPlot.Plotly.Interactive\""
   ]
  },
  {
   "cell_type": "code",
   "execution_count": null,
   "id": "sonic-bonus",
   "metadata": {
    "dotnet_interactive": {
     "language": "csharp"
    }
   },
   "outputs": [],
   "source": [
    "using Systemathics.Apis.Helpers;\n",
    "using Systemathics.Apis.Type.Shared.V1;\n",
    "using Systemathics.Apis.Services.Indices.V1;\n",
    "using Google.Protobuf.WellKnownTypes;\n",
    "using Google.Type;\n",
    "using Grpc.Net.Client;\n",
    "using Grpc.Core;\n",
    "// Import/export csv files\n",
    "using CsvHelper;\n",
    "using System.IO;\n",
    "using System.Globalization;\n",
    "// Plot graphs\n",
    "using XPlot.Plotly;\n",
    "using XPlot.Plotly.Interactive;"
   ]
  },
  {
   "cell_type": "markdown",
   "id": "spare-password",
   "metadata": {},
   "source": [
    "### Step 2: Prepare API requests\n",
    "The following code snippets retrieve authentication token and prepare the API request by: opening the *channel* and adding the *token* to the request header:"
   ]
  },
  {
   "cell_type": "code",
   "execution_count": null,
   "id": "allied-diploma",
   "metadata": {
    "dotnet_interactive": {
     "language": "csharp"
    }
   },
   "outputs": [],
   "source": [
    "// Get token as metadata\n",
    "var headers = TokenHelpers.GetTokenAsMetaData();\n",
    "\n",
    "// Create communication channel\n",
    "var channel = ChannelHelpers.GetChannel();"
   ]
  },
  {
   "cell_type": "markdown",
   "id": "focused-evaluation",
   "metadata": {},
   "source": [
    "### Step 3: Request creation"
   ]
  },
  {
   "cell_type": "markdown",
   "id": "criminal-walnut",
   "metadata": {},
   "source": [
    "The following code snippet enables to select the **index** by its *Name*:"
   ]
  },
  {
   "cell_type": "code",
   "execution_count": null,
   "id": "frequent-still",
   "metadata": {
    "dotnet_interactive": {
     "language": "csharp"
    }
   },
   "outputs": [],
   "source": [
    "// Set index name\n",
    "var index = \"nasdaq 100\";"
   ]
  },
  {
   "cell_type": "markdown",
   "id": "composed-lucas",
   "metadata": {},
   "source": [
    "The following code snippets call the service, generate the request and return the reply: "
   ]
  },
  {
   "cell_type": "code",
   "execution_count": null,
   "id": "formal-rubber",
   "metadata": {
    "dotnet_interactive": {
     "language": "csharp"
    }
   },
   "outputs": [],
   "source": [
    "// Instantiate the indice components service\n",
    "var service = new ComponentsService.ComponentsServiceClient(channel);\n",
    "\n",
    "// Generate the indice components request\n",
    "var request = new ComponentsRequest { Identifier = index };\n",
    "\n",
    "// Process the indice components response\n",
    "var reply = service.Components(request, headers);\n",
    "\n",
    "// Display the results\n",
    "display(reply.Components)"
   ]
  },
  {
   "cell_type": "markdown",
   "id": "russian-heart",
   "metadata": {},
   "source": [
    "### Step 4: Retrieve index data"
   ]
  },
  {
   "cell_type": "markdown",
   "id": "aggregate-thailand",
   "metadata": {},
   "source": [
    "#### 4.1 Export index data"
   ]
  },
  {
   "cell_type": "markdown",
   "id": "maritime-surgeon",
   "metadata": {},
   "source": [
    "The following code snippet exports index data to a *csv file*:"
   ]
  },
  {
   "cell_type": "code",
   "execution_count": null,
   "id": "broke-england",
   "metadata": {
    "dotnet_interactive": {
     "language": "csharp"
    }
   },
   "outputs": [],
   "source": [
    "using (var writer = new StreamWriter($\"{index}.csv\"))\n",
    "using (var csv = new CsvWriter(writer, CultureInfo.InvariantCulture))\n",
    "{\n",
    "    csv.WriteRecords(reply.Components);\n",
    "}"
   ]
  },
  {
   "cell_type": "markdown",
   "id": "abandoned-bones",
   "metadata": {},
   "source": [
    "#### 4.2 Visualize index data"
   ]
  },
  {
   "cell_type": "markdown",
   "id": "essential-scanner",
   "metadata": {},
   "source": [
    "The following code snippet displays index components and weights. <br>*`XPlot.Plotly`* is used as per open source display package. "
   ]
  },
  {
   "cell_type": "code",
   "execution_count": null,
   "id": "isolated-maintenance",
   "metadata": {
    "dotnet_interactive": {
     "language": "csharp"
    }
   },
   "outputs": [],
   "source": [
    "var data = reply.Components.Select(elt => new Tuple<String, double>(elt.Identifier.Ticker, elt.Weight));"
   ]
  },
  {
   "cell_type": "code",
   "execution_count": null,
   "id": "maritime-network",
   "metadata": {
    "dotnet_interactive": {
     "language": "csharp"
    }
   },
   "outputs": [],
   "source": [
    "var chart = Chart.Pie(data);\n",
    "chart.WithTitle($\"{index} components and weights\");\n",
    "chart.Width = 1500;\n",
    "chart.Height = 800;\n",
    "display(chart);"
   ]
  }
 ],
 "metadata": {
  "kernelspec": {
   "display_name": ".NET (C#)",
   "language": "C#",
   "name": ".net-csharp"
  },
  "language_info": {
   "file_extension": ".cs",
   "mimetype": "text/x-csharp",
   "name": "C#",
   "pygments_lexer": "csharp",
   "version": "9.0"
  }
 },
 "nbformat": 4,
 "nbformat_minor": 5
}
