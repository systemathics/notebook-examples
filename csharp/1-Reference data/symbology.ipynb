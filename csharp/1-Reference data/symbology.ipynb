{
 "cells": [
  {
   "cell_type": "markdown",
   "id": "changed-stone",
   "metadata": {},
   "source": [
    "# Symbology mapping using dedicated service - C#\n",
    "\n",
    "### Overview\n",
    "Reference data encompasses a wide range of specification data about:\n",
    "* financial instrument such as asset class, symbol, maturity, etc.\n",
    "* counterparties such as issuer information.\n",
    "* pricing such as Open, high low and close prices.\n",
    "\n",
    "The challenge with reference data is that it tends to be sourced from multiple sources: internal, counterparties and providers.\n",
    "\n",
    "Reference data dedicated service is a result of various data sources and fields sourcing, validation, cross-checking and normalization.<br>\n",
    "\n",
    "This sample requests **on-demand** instrument's identifiers and enables fields mapping by calling a dedicated static data service, making available clean data.\n",
    "\n",
    "### Inputs/outputs\n",
    "Symbology mapping sample is designed to help you searching and requesting instrument's specification data by using a wide range of commonly used fields.\n",
    "* It takes instrument specification parameter(s) as per input filter and returns the *entries* matching the request.\n",
    "* The returned *entries* contain `instrument identifier` data\n",
    "\n",
    "The samples below expose several ways to query the reference data service in order to retrieve instrument identifier and fields. \n",
    "Please refer to any other scenario in order to discover how instrument identifier is used.\n",
    "\n",
    "### Services used\n",
    "This sample uses *gRPC requests* in order to retrieve reference data set of fields from the hosted service. The queried endpoint in this script are:\n",
    "* *StaticDataService*: to directly retrieve reference data objects from the server\n",
    "\n",
    "### Packages required\n",
    "1. Systemathics packages:\n",
    "    * *Systemathics.Apis.Type.Shared.V1*\n",
    "    * *Systemathics.Apis.Services.StaticData.V1*\n",
    "2. Open source packages\n",
    "    * *Google.Protobuf.WellKnownTypes*\n",
    "    * *Google.Type*\n",
    "    * *Grpc.Net.Client*\n",
    "    * *Grpc.Core*\n",
    "\n",
    "***"
   ]
  },
  {
   "cell_type": "markdown",
   "id": "directed-status",
   "metadata": {},
   "source": [
    "# Run reference data queries"
   ]
  },
  {
   "cell_type": "markdown",
   "id": "narrow-diabetes",
   "metadata": {},
   "source": [
    "### Step 1: Install packages"
   ]
  },
  {
   "cell_type": "code",
   "execution_count": null,
   "id": "infinite-boston",
   "metadata": {
    "dotnet_interactive": {
     "language": "csharp"
    },
    "vscode": {
     "languageId": "polyglot-notebook"
    }
   },
   "outputs": [],
   "source": [
    "#i \"nuget: file:///home/jovyan/.nuget/packages/\"\n",
    "#i \"nuget: https://api.nuget.org/v3/index.json\"\n",
    "#r \"nuget: Systemathics.Apis, 2.36.*-pre*\""
   ]
  },
  {
   "cell_type": "code",
   "execution_count": null,
   "id": "concerned-stocks",
   "metadata": {
    "dotnet_interactive": {
     "language": "csharp"
    },
    "vscode": {
     "languageId": "polyglot-notebook"
    }
   },
   "outputs": [],
   "source": [
    "using Systemathics.Apis.Type.Shared.V1;\n",
    "using Systemathics.Apis.Helpers;\n",
    "using Systemathics.Apis.Services.StaticData.V1;\n",
    "using Google.Protobuf.WellKnownTypes;\n",
    "using Google.Type;\n",
    "using Grpc.Net.Client;\n",
    "using Grpc.Core;"
   ]
  },
  {
   "cell_type": "markdown",
   "id": "printable-richardson",
   "metadata": {},
   "source": [
    "### Step 2: Prepare API requests\n",
    "The following code snippets retrieve authentication token and prepare the API request by: opening the *channel* and adding the *token* to the request header:"
   ]
  },
  {
   "cell_type": "code",
   "execution_count": null,
   "id": "aquatic-priest",
   "metadata": {
    "dotnet_interactive": {
     "language": "csharp"
    },
    "vscode": {
     "languageId": "polyglot-notebook"
    }
   },
   "outputs": [],
   "source": [
    "// Get token as metadata\n",
    "var headers = TokenHelpers.GetTokenAsMetaData();\n",
    "\n",
    "// Create communication channel\n",
    "var channel = ChannelHelpers.GetChannel(); "
   ]
  },
  {
   "cell_type": "markdown",
   "id": "first-villa",
   "metadata": {},
   "source": [
    "### Step 3: Call reference data service"
   ]
  },
  {
   "cell_type": "code",
   "execution_count": null,
   "id": "specialized-filing",
   "metadata": {
    "dotnet_interactive": {
     "language": "csharp"
    },
    "vscode": {
     "languageId": "polyglot-notebook"
    }
   },
   "outputs": [],
   "source": [
    "// instantiate the service\n",
    "var service = new StaticDataService.StaticDataServiceClient(channel);"
   ]
  },
  {
   "cell_type": "markdown",
   "id": "israeli-tuesday",
   "metadata": {},
   "source": [
    "### Step 4: Create and process request"
   ]
  },
  {
   "cell_type": "markdown",
   "id": "injured-kentucky",
   "metadata": {},
   "source": [
    "#### 4.1 Introduction\n",
    "The properties one can use as per filter field(s) in order to query the API for equities or futures are the following:\n",
    "* *Name*, *MIC*, *Ticker*, *Contract code*, *ISIN*, *Cusip*, *market data provider IDs*, etc.\n",
    "\n",
    "You can combine multiple filters in order to target more accurately your request. Combining filters act as a *AND* operator.\n",
    "\n",
    "The service returns *entries* matching the request filters.\n",
    "A reply contains two *arrays* dedicated for *futures* and *equities*. Keep in mind that these arrays might be empty depending on the query filters and the results.\n",
    "Other shared fields such as <i>`Name`</i> or <i>`Identifier`</i> are there to make it easier to identify the instrument needed (among possible other results).  \n",
    "Depending on the asset type, there might be additional fields for the aforementioned purpose.\n",
    "\n",
    "The following code snippets will expose the different ways to query for reference data, with different asset types and various parameters."
   ]
  },
  {
   "cell_type": "markdown",
   "id": "golden-ranch",
   "metadata": {},
   "source": [
    "#### 4.2 Retrieve reference data - Equities\n",
    "\n",
    "To request for equities, the user must specify the AssetType as <i>`AssetType.Equity`</i> in the static data request."
   ]
  },
  {
   "cell_type": "markdown",
   "id": "early-toolbox",
   "metadata": {},
   "source": [
    "##### 4.2.1 Equity - by Name"
   ]
  },
  {
   "cell_type": "code",
   "execution_count": null,
   "id": "engaging-adjustment",
   "metadata": {
    "dotnet_interactive": {
     "language": "csharp"
    },
    "vscode": {
     "languageId": "polyglot-notebook"
    }
   },
   "outputs": [],
   "source": [
    "// Generate request\n",
    "var request = new StaticDataRequest\n",
    "{\n",
    "  AssetType = AssetType.Equity,\n",
    "  Name = \"Apple\"\n",
    "};\n",
    "var reply = service.StaticData(request, headers);\n",
    "display(reply.Equity)"
   ]
  },
  {
   "cell_type": "markdown",
   "id": "uniform-damage",
   "metadata": {},
   "source": [
    "##### 4.2.2 Equity - by MIC code"
   ]
  },
  {
   "cell_type": "code",
   "execution_count": null,
   "id": "empty-price",
   "metadata": {
    "dotnet_interactive": {
     "language": "csharp"
    },
    "vscode": {
     "languageId": "polyglot-notebook"
    }
   },
   "outputs": [],
   "source": [
    "var request = new StaticDataRequest\n",
    "{\n",
    "  AssetType = AssetType.Equity,\n",
    "  Exchange = \"XNGS\", \n",
    "  Count = 3, // Select the first elements\n",
    "  Start = 2 // Starting from element index\n",
    "};\n",
    "\n",
    "var reply = service.StaticData(request, headers);\n",
    "display(reply.Equity)"
   ]
  },
  {
   "cell_type": "markdown",
   "id": "recorded-principal",
   "metadata": {},
   "source": [
    "##### 4.2.3 Equity - by Ticker"
   ]
  },
  {
   "cell_type": "code",
   "execution_count": null,
   "id": "running-legend",
   "metadata": {
    "dotnet_interactive": {
     "language": "csharp"
    },
    "vscode": {
     "languageId": "polyglot-notebook"
    }
   },
   "outputs": [],
   "source": [
    "var request = new StaticDataRequest\n",
    "{\n",
    "  AssetType = AssetType.Equity,\n",
    "  Ticker = \"AAPL\"\n",
    "};\n",
    "\n",
    "var reply = service.StaticData(request, headers);\n",
    "display(reply.Equity)"
   ]
  },
  {
   "cell_type": "markdown",
   "id": "surrounded-performer",
   "metadata": {},
   "source": [
    "##### 4.2.4 Equity - by Codes"
   ]
  },
  {
   "cell_type": "code",
   "execution_count": null,
   "id": "serial-martial",
   "metadata": {
    "dotnet_interactive": {
     "language": "csharp"
    },
    "vscode": {
     "languageId": "polyglot-notebook"
    }
   },
   "outputs": [],
   "source": [
    "var request = new StaticDataRequest\n",
    "{\n",
    "  AssetType = AssetType.Equity,\n",
    "  Code = \"US0378331005\" // ISIN code\n",
    "};\n",
    "\n",
    "var reply = service.StaticData(request, headers);\n",
    "display(reply.Equity)"
   ]
  },
  {
   "cell_type": "code",
   "execution_count": null,
   "id": "interracial-warehouse",
   "metadata": {
    "dotnet_interactive": {
     "language": "csharp"
    },
    "vscode": {
     "languageId": "polyglot-notebook"
    }
   },
   "outputs": [],
   "source": [
    "var request = new StaticDataRequest\n",
    "{\n",
    "  AssetType = AssetType.Equity,\n",
    "  Code = \"BBG000B9Y6P9\" // Bloomberg Figi code\n",
    "};\n",
    "\n",
    "var reply = service.StaticData(request, headers);\n",
    "display(reply.Equity)"
   ]
  },
  {
   "cell_type": "markdown",
   "id": "patient-issue",
   "metadata": {},
   "source": [
    "##### 4.2.5 Equity - by Ticker + MIC code"
   ]
  },
  {
   "cell_type": "code",
   "execution_count": null,
   "id": "french-roulette",
   "metadata": {
    "dotnet_interactive": {
     "language": "csharp"
    },
    "vscode": {
     "languageId": "polyglot-notebook"
    }
   },
   "outputs": [],
   "source": [
    "// The service also enables to query with multiple filters as follows\n",
    "var request = new StaticDataRequest\n",
    "{\n",
    "  AssetType = AssetType.Equity,\n",
    "  Ticker = \"AAPL\",\n",
    "  Exchange = \"BATS\"\n",
    "};\n",
    "\n",
    "var reply = service.StaticData(request, headers);\n",
    "display(reply.Equity)"
   ]
  },
  {
   "cell_type": "markdown",
   "id": "dirty-nomination",
   "metadata": {},
   "source": [
    "##### 4.2.6 Equity - index components"
   ]
  },
  {
   "cell_type": "code",
   "execution_count": null,
   "id": "israeli-citation",
   "metadata": {
    "dotnet_interactive": {
     "language": "csharp"
    },
    "vscode": {
     "languageId": "polyglot-notebook"
    }
   },
   "outputs": [],
   "source": [
    "// Get an  index components\n",
    "var request = new StaticDataRequest\n",
    "{\n",
    "  AssetType = AssetType.Equity,\n",
    "  Index = \"NASDAQ 100\",\n",
    "  Count = 10\n",
    "};\n",
    "\n",
    "var reply = service.StaticData(request, headers);\n",
    "display(reply.Equity)"
   ]
  },
  {
   "cell_type": "markdown",
   "id": "italian-contribution",
   "metadata": {},
   "source": [
    "##### 4.2.7 Equity - sectors"
   ]
  },
  {
   "cell_type": "code",
   "execution_count": null,
   "id": "celtic-rocket",
   "metadata": {
    "dotnet_interactive": {
     "language": "csharp"
    },
    "vscode": {
     "languageId": "polyglot-notebook"
    }
   },
   "outputs": [],
   "source": [
    "// Get equities by sectors\n",
    "var request = new StaticDataRequest\n",
    "{\n",
    "  AssetType = AssetType.Equity,\n",
    "  EquitySector = \"Electronic Computers\",\n",
    "  Count = 10\n",
    "};\n",
    "\n",
    "var reply = service.StaticData(request, headers);\n",
    "display(reply.Equity)"
   ]
  },
  {
   "cell_type": "markdown",
   "id": "olive-hunter",
   "metadata": {},
   "source": [
    "#### 4.3 Retrieve reference data - Futures\n",
    "\n",
    "To request for futures, the user must specify the AssetType as <i>`AssetType.Future`</i> in the static data request."
   ]
  },
  {
   "cell_type": "markdown",
   "id": "following-consideration",
   "metadata": {},
   "source": [
    "##### 4.3.1 Future - by Name"
   ]
  },
  {
   "cell_type": "code",
   "execution_count": null,
   "id": "yellow-mayor",
   "metadata": {
    "dotnet_interactive": {
     "language": "csharp"
    },
    "vscode": {
     "languageId": "polyglot-notebook"
    }
   },
   "outputs": [],
   "source": [
    "var request = new StaticDataRequest\n",
    "{\n",
    "  AssetType = AssetType.Future,\n",
    "  Name = \"WTI Crude Futures\"\n",
    "};\n",
    "\n",
    "var reply = service.StaticData(request, headers);\n",
    "display(reply.Future.Assets.OrderBy(future => future.Maturity.Year).ThenBy(future => future.Maturity.Month))"
   ]
  },
  {
   "cell_type": "markdown",
   "id": "several-fight",
   "metadata": {},
   "source": [
    "##### 4.3.2 Future - by Future contract"
   ]
  },
  {
   "cell_type": "code",
   "execution_count": null,
   "id": "inside-generic",
   "metadata": {
    "dotnet_interactive": {
     "language": "csharp"
    },
    "vscode": {
     "languageId": "polyglot-notebook"
    }
   },
   "outputs": [],
   "source": [
    "var request = new StaticDataRequest\n",
    "{\n",
    "  AssetType = AssetType.Future,\n",
    "  Contract = \"WBS\"\n",
    "};\n",
    "\n",
    "var reply = service.StaticData(request, headers);\n",
    "display(reply.Future.Assets.OrderBy(future => future.Maturity.Year).ThenBy(future => future.Maturity.Month))"
   ]
  },
  {
   "cell_type": "markdown",
   "id": "ancient-brazilian",
   "metadata": {},
   "source": [
    "##### 4.3.3 Future - by Ticker"
   ]
  },
  {
   "cell_type": "code",
   "execution_count": null,
   "id": "ideal-latest",
   "metadata": {
    "dotnet_interactive": {
     "language": "csharp"
    },
    "vscode": {
     "languageId": "polyglot-notebook"
    }
   },
   "outputs": [],
   "source": [
    "var request = new StaticDataRequest\n",
    "{\n",
    "  AssetType = AssetType.Future,\n",
    "  Ticker = \"WBSH20\"\n",
    "};\n",
    "\n",
    "var reply = service.StaticData(request, headers);\n",
    "display(reply.Future)"
   ]
  }
 ],
 "metadata": {
  "kernelspec": {
   "display_name": ".NET (C#)",
   "language": "C#",
   "name": ".net-csharp"
  },
  "language_info": {
   "file_extension": ".cs",
   "mimetype": "text/x-csharp",
   "name": "C#",
   "pygments_lexer": "csharp",
   "version": "9.0"
  }
 },
 "nbformat": 4,
 "nbformat_minor": 5
}
