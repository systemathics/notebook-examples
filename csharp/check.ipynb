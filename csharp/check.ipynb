{
 "cells": [
  {
   "cell_type": "code",
   "execution_count": null,
   "id": "78245d00-a086-4fed-8c7e-0c0d1479288f",
   "metadata": {
    "dotnet_interactive": {
     "language": "csharp"
    }
   },
   "outputs": [],
   "source": [
    "#r \"nuget: Systemathics.Apis\""
   ]
  },
  {
   "cell_type": "code",
   "execution_count": null,
   "id": "9239bf61",
   "metadata": {},
   "outputs": [],
   "source": [
    "Console.WriteLine(Environment.GetEnvironmentVariable(\"AUTH0_TOKEN\"))"
   ]
  },
  {
   "cell_type": "code",
   "execution_count": null,
   "id": "e0ed89c6-2932-4e89-a341-12a712cde9c4",
   "metadata": {
    "dotnet_interactive": {
     "language": "csharp"
    }
   },
   "outputs": [],
   "source": [
    "using Systemathics.Apis.Helpers;\n",
    "using Systemathics.Apis.Type.Shared.V1;\n",
    "using Systemathics.Apis.Services.StaticData.V1;\n",
    "using Systemathics.Apis.Helpers;\n",
    "using Google.Protobuf.WellKnownTypes;\n",
    "using Google.Type;\n",
    "using Grpc.Net.Client;\n",
    "using Grpc.Core;\n",
    "\n",
    "using(var channel = ChannelHelpers.GetChannel())\n",
    "{   \n",
    "    var client = new StaticDataService.StaticDataServiceClient(channel);\n",
    "    var request = new StaticDataRequest \n",
    "                    { \n",
    "                        AssetType = AssetType.Equity, \n",
    "                        Ticker = \"AAPL\" \n",
    "                    };    \n",
    "    try\n",
    "    {    \n",
    "        var reply = client.StaticData(request, TokenHelpers.GetTokenAsMetaData());\n",
    "        Console.WriteLine(\"Success ! Could call service\");\n",
    "    }\n",
    "    catch (Exception e)\n",
    "    {\n",
    "        Console.WriteLine($\"Failure !: {e}\");\n",
    "    }\n",
    "}\n"
   ]
  },
  {
   "cell_type": "code",
   "execution_count": null,
   "id": "859e7add",
   "metadata": {},
   "outputs": [],
   "source": [
    "Console.WriteLine(Environment.GetEnvironmentVariable(\"AUTH0_TOKEN\"))"
   ]
  }
 ],
 "metadata": {
  "interpreter": {
   "hash": "f92b2924b84ff19c1c3dc485f7644d4486f64738191026bf8e6de303969141b5"
  },
  "kernelspec": {
   "display_name": ".NET (C#)",
   "language": "C#",
   "name": ".net-csharp"
  },
  "language_info": {
   "file_extension": ".cs",
   "mimetype": "text/x-csharp",
   "name": "C#",
   "pygments_lexer": "csharp",
   "version": "9.0"
  }
 },
 "nbformat": 4,
 "nbformat_minor": 5
}
