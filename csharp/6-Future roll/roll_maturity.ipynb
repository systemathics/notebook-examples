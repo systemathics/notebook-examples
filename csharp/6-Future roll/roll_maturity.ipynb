{
 "cells": [
  {
   "cell_type": "markdown",
   "id": "optional-leather",
   "metadata": {},
   "source": [
    "# Future roll scenario : Maturity Approach - C#\n",
    "\n",
    "### Overview\n",
    "Future contracts are liquid and often used to gain exposure to a variety of asset classes. However they must be rolled on a periodic basis to avoid expiry or triggering delivery.\n",
    "\n",
    "The period surrounding contract rollover can be challenging time. Future roll strategies help to better prepare moves in the market and optimize trading positions.\n",
    "\n",
    "In order to identify future roll optimal dates, the following methods can be used:\n",
    "1. Maturity date\n",
    "2. Trading volume\n",
    "3. Market activity\n",
    "\n",
    "In this example, the strategy chosen to determine the future roll date  is based on the **maturity date**.\n",
    "\n",
    "This sample demonstrates how to request and plot from a dedicated data service **on-demand** bars for a <i>`given future, all maturities`</i>.\n",
    "\n",
    "### Inputs/outputs\n",
    "Future roll sample requires future contact's identifier and date time intervals as per inputs. It returns future's continuous price over the look back period.<br>\n",
    "The results is sampled using a one day delay until front's maturity to roll from front to back. \n",
    "\n",
    "This sample shows also how to plot the returned bars using an open source library.\n",
    "### Services used\n",
    "This sample uses *gRPC request*s in order to retrieve information from hosted services. The queried endpoint in this script are:\n",
    "* *StaticDataService*: to get the intrument identifier from the input\n",
    "* *TopologiesService*: to directly retrieve ticks objects from the server.\n",
    "* *TickBarsService*: to get tick bars data for each instrument\n",
    "\n",
    "### Packages required\n",
    "1. Systemathics packages:\n",
    "    * *Systemathics.Apis.Type.Shared.V1*\n",
    "    * *Systemathics.Apis.Services.StaticData.V1*\n",
    "    * *Systemathics.Apis.Services.TickAnalytics.V1*\n",
    "2. Open source packages\n",
    "    * *Google.Protobuf.WellKnownTypes*\n",
    "    * *Google.Type*\n",
    "    * *Grpc.Net.Client*\n",
    "    * *Grpc.Core*\n",
    "    * *XPlot.Plotly* as per display package\n",
    "\n",
    "***"
   ]
  },
  {
   "cell_type": "markdown",
   "id": "improving-advocacy",
   "metadata": {},
   "source": [
    "# Run future roll sample - maturity approach"
   ]
  },
  {
   "cell_type": "markdown",
   "id": "specified-instrumentation",
   "metadata": {},
   "source": [
    "### Step 1: Install packages"
   ]
  },
  {
   "cell_type": "code",
   "execution_count": null,
   "id": "industrial-honor",
   "metadata": {
    "dotnet_interactive": {
     "language": "csharp"
    },
    "vscode": {
     "languageId": "dotnet-interactive.csharp"
    }
   },
   "outputs": [],
   "source": [
    "#i \"nuget: file:///home/jovyan/.nuget/packages/\"\n",
    "#i \"nuget: https://api.nuget.org/v3/index.json\"\n",
    "#r \"nuget: Systemathics.Apis\"\n",
    "#r \"nuget: XPlot.Plotly.Interactive\""
   ]
  },
  {
   "cell_type": "code",
   "execution_count": null,
   "id": "preceding-theme",
   "metadata": {
    "dotnet_interactive": {
     "language": "csharp"
    },
    "vscode": {
     "languageId": "dotnet-interactive.csharp"
    }
   },
   "outputs": [],
   "source": [
    "using Systemathics.Apis.Helpers;\n",
    "using Systemathics.Apis.Type.Shared.V1;\n",
    "using Systemathics.Apis.Services.TickAnalytics.V1;\n",
    "using Systemathics.Apis.Services.StaticData.V1;\n",
    "using Google.Protobuf.WellKnownTypes;\n",
    "using Google.Protobuf;\n",
    "using Google.Type;\n",
    "using Grpc.Net.Client;\n",
    "using Grpc.Core;\n",
    "using System.Collections.Generic;\n",
    "using XPlot.Plotly;\n",
    "using XPlot.Plotly.Interactive;"
   ]
  },
  {
   "cell_type": "markdown",
   "id": "filled-happening",
   "metadata": {},
   "source": [
    "### Step 2: Prepare API requests\n",
    "The following code snippets retrieve authentication token and prepare the API request by: opening the *channel* and adding the *token* to the request header:"
   ]
  },
  {
   "cell_type": "code",
   "execution_count": null,
   "id": "completed-slovak",
   "metadata": {
    "dotnet_interactive": {
     "language": "csharp"
    },
    "vscode": {
     "languageId": "dotnet-interactive.csharp"
    }
   },
   "outputs": [],
   "source": [
    "// Get token as metadata\n",
    "var headers = TokenHelpers.GetTokenAsMetaData();\n",
    "\n",
    "// Create communication channel\n",
    "var channel = ChannelHelpers.GetChannel();"
   ]
  },
  {
   "cell_type": "markdown",
   "id": "centered-throw",
   "metadata": {},
   "source": [
    "### Step 3: Select futures scope"
   ]
  },
  {
   "cell_type": "markdown",
   "id": "documented-production",
   "metadata": {},
   "source": [
    "#### 3.1 Define inputs\n",
    "In a first time the user has to decide the lookup time span and the selected future contract."
   ]
  },
  {
   "cell_type": "code",
   "execution_count": null,
   "id": "parental-garage",
   "metadata": {
    "dotnet_interactive": {
     "language": "csharp"
    },
    "vscode": {
     "languageId": "dotnet-interactive.csharp"
    }
   },
   "outputs": [],
   "source": [
    "// Define start, end and future contract\n",
    "var start = new DateTime(2020,02, 01);\n",
    "var end = new DateTime(2020, 07, 31);\n",
    "var contract = \"WBS\"; // WTI Crude future"
   ]
  },
  {
   "cell_type": "markdown",
   "id": "simplified-perth",
   "metadata": {},
   "source": [
    "#### 3.2 Select future contracts"
   ]
  },
  {
   "cell_type": "code",
   "execution_count": null,
   "id": "green-spare",
   "metadata": {
    "dotnet_interactive": {
     "language": "csharp"
    },
    "vscode": {
     "languageId": "dotnet-interactive.csharp"
    }
   },
   "outputs": [],
   "source": [
    "// instantiate the static data service\n",
    "var service = new StaticDataService.StaticDataServiceClient(channel);"
   ]
  },
  {
   "cell_type": "code",
   "execution_count": null,
   "id": "curious-generation",
   "metadata": {
    "dotnet_interactive": {
     "language": "csharp"
    },
    "vscode": {
     "languageId": "dotnet-interactive.csharp"
    }
   },
   "outputs": [],
   "source": [
    "// Get futures from static data request\n",
    "// We chose to retrieve the selected instrument with its contract code.\n",
    "var request = new StaticDataRequest\n",
    "{\n",
    "    AssetType = AssetType.Future,\n",
    "    FutureContract = contract,\n",
    "    Count = 1000\n",
    "};\n",
    "\n",
    "// store futures and display results\n",
    "var reply = service.StaticData(request, headers);\n",
    "var futures = reply.Futures.OrderBy(future => future.Maturity.Year).ThenBy(future => future.Maturity.Month); "
   ]
  },
  {
   "cell_type": "code",
   "execution_count": null,
   "id": "local-process",
   "metadata": {
    "dotnet_interactive": {
     "language": "csharp"
    },
    "vscode": {
     "languageId": "dotnet-interactive.csharp"
    }
   },
   "outputs": [],
   "source": [
    "// Display results\n",
    "//display(futures)"
   ]
  },
  {
   "cell_type": "markdown",
   "id": "immune-sustainability",
   "metadata": {},
   "source": [
    "#### 3.3 Filter futures matching input period"
   ]
  },
  {
   "cell_type": "code",
   "execution_count": null,
   "id": "absent-coverage",
   "metadata": {
    "dotnet_interactive": {
     "language": "csharp"
    },
    "vscode": {
     "languageId": "dotnet-interactive.csharp"
    }
   },
   "outputs": [],
   "source": [
    "// Filter futures : select only futures with a maturity matching the selected period\n",
    "var tmpList = new List<FutureEntry>();\n",
    "var lastFuture = true; // we need this boolean to select one more future\n",
    "foreach (var future in futures) {\n",
    "    var maturity = new DateTime(future.Maturity.Year,future.Maturity.Month, future.Maturity.Day);\n",
    "    if (maturity > start) \n",
    "    {\n",
    "        if (maturity < end) {\n",
    "            tmpList.Add(future);\n",
    "        } \n",
    "        else \n",
    "        {\n",
    "            if (lastFuture == true) \n",
    "            {\n",
    "                tmpList.Add(future); // add the last contract\n",
    "                lastFuture = false;\n",
    "            } \n",
    "            else {\n",
    "                break;\n",
    "            }\n",
    "        }\n",
    "    }\n",
    "}\n",
    "var count = tmpList.Count;\n",
    "var selectedFutures = tmpList.ToArray();"
   ]
  },
  {
   "cell_type": "code",
   "execution_count": null,
   "id": "internal-portland",
   "metadata": {
    "dotnet_interactive": {
     "language": "csharp"
    },
    "vscode": {
     "languageId": "dotnet-interactive.csharp"
    }
   },
   "outputs": [],
   "source": [
    "// Display previously selected futures\n",
    "// display(selectedFutures)"
   ]
  },
  {
   "cell_type": "markdown",
   "id": "toxic-dryer",
   "metadata": {},
   "source": [
    "#### 3.4 Prepare bars request parameters\n",
    "Select start date, end date and instrument identifier for the previsouly selected futures."
   ]
  },
  {
   "cell_type": "code",
   "execution_count": null,
   "id": "dimensional-magic",
   "metadata": {
    "dotnet_interactive": {
     "language": "csharp"
    },
    "vscode": {
     "languageId": "dotnet-interactive.csharp"
    }
   },
   "outputs": [],
   "source": [
    "// Create a list of tuples containing the instrument identifier and date intervals for bars request\n",
    "var barsRequestData = new List<Tuple<Identifier, DateTime,DateTime>>();\n",
    "var beginDate = start;\n",
    "var endDate = start;\n",
    "\n",
    "var daysDelta = 1; // The days delta chosen here defines the delay until expiration before rolling\n",
    "\n",
    "for (int i = 0; i < count; i++)\n",
    "{\n",
    "    var currentFuture = selectedFutures[i];\n",
    "    var maturity = new DateTime(currentFuture.Maturity.Year,currentFuture.Maturity.Month, currentFuture.Maturity.Day);\n",
    "    \n",
    "    // We have to deal with the first (resp. last) futures differently since the start (resp. end) dates will be determined by the given time period\n",
    "    if (i == 0) {\n",
    "        // handle first future: specific beginDate\n",
    "        beginDate = start;\n",
    "        endDate = maturity.AddDays(-daysDelta);\n",
    "        var result = new Tuple<Identifier, DateTime,DateTime>(currentFuture.Identifier, beginDate, endDate);\n",
    "        barsRequestData.Add(result);\n",
    "        \n",
    "    } \n",
    "    else if (i == count-1) \n",
    "    {\n",
    "        // handle last future: specific endDate\n",
    "        beginDate = endDate.AddDays(1); // set the new beginDate for that future to the previous endDate + one day\n",
    "        endDate = end;\n",
    "        var result = new Tuple<Identifier, DateTime,DateTime>(currentFuture.Identifier, beginDate, endDate);\n",
    "        barsRequestData.Add(result);\n",
    "    } \n",
    "    else \n",
    "    {\n",
    "        // default case\n",
    "        beginDate = endDate.AddDays(1); // set the new beginDate for that future to the previous endDate + one day\n",
    "        endDate = maturity.AddDays(-daysDelta);\n",
    "        var result = new Tuple<Identifier, DateTime,DateTime>(currentFuture.Identifier, beginDate, endDate);\n",
    "        barsRequestData.Add(result);\n",
    "    }\n",
    "    \n",
    "}"
   ]
  },
  {
   "cell_type": "code",
   "execution_count": null,
   "id": "cognitive-religious",
   "metadata": {
    "dotnet_interactive": {
     "language": "csharp"
    },
    "vscode": {
     "languageId": "dotnet-interactive.csharp"
    }
   },
   "outputs": [],
   "source": [
    "// Display bars request parameters\n",
    "//display(barsRequestData)"
   ]
  },
  {
   "cell_type": "markdown",
   "id": "expensive-selection",
   "metadata": {},
   "source": [
    "### Step 4: Get bars to get a continuous price\n",
    "The previous bars request parameters ensure to get continious prices over the chosen look back period."
   ]
  },
  {
   "cell_type": "markdown",
   "id": "active-soundtrack",
   "metadata": {},
   "source": [
    "#### 4.1 Define bar request creation method\n",
    "The following code snippt defines a method that creates and handles *tick bars* requests: "
   ]
  },
  {
   "cell_type": "code",
   "execution_count": null,
   "id": "reduced-charleston",
   "metadata": {
    "dotnet_interactive": {
     "language": "csharp"
    },
    "vscode": {
     "languageId": "dotnet-interactive.csharp"
    }
   },
   "outputs": [],
   "source": [
    "public static TickBarsRequest GetBarsRequest(Identifier identifier, DateTime start, DateTime end)\n",
    "{\n",
    "    // Set the bar duration (1 hour bars in seconds)\n",
    "    var sampling = 60 * 60;\n",
    "\n",
    "    // Set the bar calculation field (Trade price)\n",
    "    var field = BarPrice.Trade; \n",
    "\n",
    "    // Begin\n",
    "    var beginTime = new TimeOfDay { Hours = 00, Minutes = 00, Seconds = 00 };\n",
    "\n",
    "    // Create bars request data intervals\n",
    "    var dateIntervals = new DateInterval()\n",
    "      {\n",
    "        StartDate = new Date { Year = start.Year, Month = start.Month, Day = start.Day },\n",
    "        EndDate = new Date { Year = end.Year, Month = end.Month, Day = end.Day }\n",
    "\n",
    "      };\n",
    "    \n",
    "    // Generate constraints based on the previous date selection\n",
    "    var constraints = new Constraints(); \n",
    "    constraints.DateIntervals.Add(dateIntervals);\n",
    "    \n",
    "    // Generate tick bars request\n",
    "    var request = new TickBarsRequest \n",
    "    {\n",
    "        Identifier = identifier, \n",
    "        Constraints = constraints,  \n",
    "        Sampling = new Duration {Seconds = sampling},\n",
    "        Field = field\n",
    "    };\n",
    "    return request;\n",
    "}"
   ]
  },
  {
   "cell_type": "markdown",
   "id": "activated-waters",
   "metadata": {},
   "source": [
    "#### 4.2 Process bars request for each future\n",
    "We have to use the previously defined  `GetBarsRequest` method to generate the request and process it. Results will be stored in a dictionary before being displayed."
   ]
  },
  {
   "cell_type": "code",
   "execution_count": null,
   "id": "accepted-camcorder",
   "metadata": {
    "dotnet_interactive": {
     "language": "csharp"
    },
    "vscode": {
     "languageId": "dotnet-interactive.csharp"
    }
   },
   "outputs": [],
   "source": [
    "// Intiate dictionary to handle bars data for each future contract\n",
    "var barsResponses = new Dictionary<string, List<TickBarsResponse>>();\n",
    "\n",
    "// Instantiate the tick bars service\n",
    "var barsService = new TickBarsService.TickBarsServiceClient(channel);\n",
    "\n",
    "// Process the tick bars reply: store tick bars for each future contract\n",
    "foreach (var elt in barsRequestData)\n",
    "{\n",
    "    // Generate tick bars request\n",
    "    var barsRequest = GetBarsRequest(elt.Item1, elt.Item2, elt.Item3);\n",
    "    \n",
    "    var key = elt.Item1.Ticker;\n",
    "    barsResponses[key] = new List<TickBarsResponse>();\n",
    "    \n",
    "    var call = barsService.TickBars(barsRequest, headers);\n",
    "    await foreach (var bar in call.ResponseStream.ReadAllAsync())\n",
    "    {\n",
    "        barsResponses[key].Add(bar);\n",
    "    }\n",
    "}"
   ]
  },
  {
   "cell_type": "markdown",
   "id": "national-pantyhose",
   "metadata": {},
   "source": [
    "### Step 5: Visualize data\n",
    "\n",
    "The following code snippets retrieve for each maturity, the *Close prices* over the look back period from the request result and plot them with the package of your choice.<br><i>`XPlot.Plotly`</i> is used as per open source display package."
   ]
  },
  {
   "cell_type": "code",
   "execution_count": null,
   "id": "bridal-monday",
   "metadata": {
    "dotnet_interactive": {
     "language": "csharp"
    },
    "vscode": {
     "languageId": "dotnet-interactive.csharp"
    }
   },
   "outputs": [],
   "source": [
    "// Define a method transforming a dictionary key/value pair to a graph content\n",
    "public static Scattergl ToGraph(KeyValuePair<string, List<TickBarsResponse>> kvp)\n",
    "{\n",
    "    return new Scattergl\n",
    "    {\n",
    "        name = kvp.Key,\n",
    "        x = kvp.Value.Select(b => b.TimeStamp.ToDateTime()).ToArray(),\n",
    "        y = kvp.Value.Select(b => b.Close).ToArray(),\n",
    "    };\n",
    "}"
   ]
  },
  {
   "cell_type": "code",
   "execution_count": null,
   "id": "measured-prisoner",
   "metadata": {
    "dotnet_interactive": {
     "language": "csharp"
    },
    "vscode": {
     "languageId": "dotnet-interactive.csharp"
    }
   },
   "outputs": [],
   "source": [
    "var chartContent = barsResponses.Select(ToGraph).ToArray();\n",
    "var chart = Chart.Plot(chartContent);\n",
    "var layout = new Layout.Layout(){barmode = \"group\" };\n",
    "chart.WithLayout(layout);\n",
    "chart.WithTitle($\"{contract} roll using maturity dates | 1-hour bars [{start:yyyy-MM-dd} - {end:yyyy-MM-dd}] \");\n",
    "chart.WithXTitle(\"Dates\");\n",
    "chart.WithYTitle(\"Close price\");\n",
    "chart.WithLegend(true);\n",
    "chart.Width = 1500;\n",
    "chart.Height = 800;\n",
    "display(chart);"
   ]
  }
 ],
 "metadata": {
  "kernelspec": {
   "display_name": ".NET (C#)",
   "language": "C#",
   "name": ".net-csharp"
  },
  "language_info": {
   "file_extension": ".cs",
   "mimetype": "text/x-csharp",
   "name": "C#",
   "pygments_lexer": "csharp",
   "version": "9.0"
  }
 },
 "nbformat": 4,
 "nbformat_minor": 5
}
