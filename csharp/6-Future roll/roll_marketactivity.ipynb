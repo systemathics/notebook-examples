{
 "cells": [
  {
   "cell_type": "markdown",
   "id": "revised-johnson",
   "metadata": {},
   "source": [
    "# Future roll scenario : Market Activity Approach - C#\n",
    "\n",
    "### Overview\n",
    "Future contracts are liquid and often used to gain exposure to a variety of asset classes. However they must be rolled on a periodic basis to avoid expiry or triggering delivery.\n",
    "\n",
    "The period surrounding contract rollover can be challenging time. Future roll strategies help to better prepare moves in the market and optimize trading positions.\n",
    "\n",
    "In order to identify future roll optimal dates, the following methods can be used:\n",
    "1. Maturity date\n",
    "2. Trading volume\n",
    "3. Market activity\n",
    "\n",
    "In this example, the strategy chosen to determine the future roll date  is based on the **market activity**. \n",
    "Indeed, as number of ticks within roll period are typically split between the expiring contract and the new contracts, it can used as an indicator to track market activity and large price swings and high spreads.\n",
    "\n",
    "This sample demonstrates how to request and plot from a dedicated data service **on-demand** bars for a <i>`given future, all maturities`</i>.\n",
    "\n",
    "### Inputs/outputs\n",
    "Future activity-based roll sample requires future contact's identifier and date time intervals as per inputs. It returns future's continuous price over the look back period.<br>\n",
    "\n",
    "This sample shows also how to plot the returned bars using an open source library.\n",
    "### Services used\n",
    "This sample uses gRPC requests in order to retrieve information from hosted services. The queried endpoint in this script are:\n",
    "* *StaticDataService*: to get the intrument identifier from the input\n",
    "* Topologies: in order to retrieve the market activity (daily tick count) for selected maturities\n",
    "* *TickBarsService*: to get tick bars data for each instrument\n",
    "\n",
    "### Packages required\n",
    "1. Systemathics packages:\n",
    "    * *Systemathics.Apis.Type.Shared.V1*\n",
    "    * *Systemathics.Apis.Services.Topology.V1*\n",
    "    * *Systemathics.Apis.Services.StaticData.V1*\n",
    "    * *Systemathics.Apis.Services.TickAnalytics.V1*\n",
    "2. Open source packages\n",
    "    * *Google.Protobuf.WellKnownTypes*\n",
    "    * *Google.Type*\n",
    "    * *Grpc.Net.Client*\n",
    "    * *Grpc.Core*\n",
    "    * *XPlot.Plotly* as per display package\n",
    "\n",
    "***"
   ]
  },
  {
   "cell_type": "markdown",
   "id": "first-enforcement",
   "metadata": {},
   "source": [
    "# Run future roll sample - market activity approach"
   ]
  },
  {
   "cell_type": "markdown",
   "id": "balanced-slope",
   "metadata": {},
   "source": [
    "### Step 1: Install packages"
   ]
  },
  {
   "cell_type": "code",
   "execution_count": null,
   "id": "toxic-burlington",
   "metadata": {
    "dotnet_interactive": {
     "language": "csharp"
    }
   },
   "outputs": [],
   "source": [
    "#i \"nuget: file:///home/jovyan/.nuget/packages/\"\n",
    "#i \"nuget: https://api.nuget.org/v3/index.json\"\n",
    "#r \"nuget: Systemathics.Apis\"\n",
    "#r \"nuget: XPlot.Plotly.Interactive\""
   ]
  },
  {
   "cell_type": "code",
   "execution_count": null,
   "id": "dominican-motivation",
   "metadata": {
    "dotnet_interactive": {
     "language": "csharp"
    }
   },
   "outputs": [],
   "source": [
    "using Systemathics.Apis.Helpers;\n",
    "using Systemathics.Apis.Type.Shared.V1;\n",
    "using Systemathics.Apis.Services.Topology.V1;\n",
    "using Systemathics.Apis.Services.TickAnalytics.V1;\n",
    "using Systemathics.Apis.Services.StaticData.V1;\n",
    "using Google.Protobuf.WellKnownTypes;\n",
    "using Google.Protobuf;\n",
    "using Google.Type;\n",
    "using Grpc.Net.Client;\n",
    "using Grpc.Core;\n",
    "using System.Collections.Generic;\n",
    "using XPlot.Plotly;\n",
    "using XPlot.Plotly.Interactive;"
   ]
  },
  {
   "cell_type": "markdown",
   "id": "sophisticated-dating",
   "metadata": {},
   "source": [
    "### Step 2: Prepare API requests\n",
    "The following code snippets retrieve authentication token and prepare the API request by: opening the *channel* and adding the *token* to the request header:"
   ]
  },
  {
   "cell_type": "code",
   "execution_count": null,
   "id": "quiet-phase",
   "metadata": {
    "dotnet_interactive": {
     "language": "csharp"
    }
   },
   "outputs": [],
   "source": [
    "// Get token as metadata\n",
    "var headers = TokenHelpers.GetTokenAsMetaData();\n",
    "\n",
    "// Create communication channel\n",
    "var channel = ChannelHelpers.GetChannel();"
   ]
  },
  {
   "cell_type": "markdown",
   "id": "static-victorian",
   "metadata": {},
   "source": [
    "### Step 3: Select futures scope"
   ]
  },
  {
   "cell_type": "markdown",
   "id": "minute-coating",
   "metadata": {},
   "source": [
    "#### 3.1 Define inputs\n",
    "In a first time the user has to decide the lookup time span and the selected future contract."
   ]
  },
  {
   "cell_type": "code",
   "execution_count": null,
   "id": "american-partition",
   "metadata": {
    "dotnet_interactive": {
     "language": "csharp"
    }
   },
   "outputs": [],
   "source": [
    "// Define start, end and future contract\n",
    "var start = new DateTime(2020,02, 01);\n",
    "var end = new DateTime(2020, 07, 31);\n",
    "var contract = \"WBS\"; // WTI Crude future"
   ]
  },
  {
   "cell_type": "markdown",
   "id": "sonic-broadcast",
   "metadata": {},
   "source": [
    "#### 3.2 Select future contracts"
   ]
  },
  {
   "cell_type": "code",
   "execution_count": null,
   "id": "political-environment",
   "metadata": {
    "dotnet_interactive": {
     "language": "csharp"
    }
   },
   "outputs": [],
   "source": [
    "// instantiate the static data service\n",
    "var service = new StaticDataService.StaticDataServiceClient(channel);"
   ]
  },
  {
   "cell_type": "code",
   "execution_count": null,
   "id": "lucky-batch",
   "metadata": {
    "dotnet_interactive": {
     "language": "csharp"
    }
   },
   "outputs": [],
   "source": [
    "// Get futures from static data request\n",
    "// We chose to retrieve the selected instrument with its contract code.\n",
    "var request = new StaticDataRequest\n",
    "{\n",
    "    AssetType = AssetType.Future,\n",
    "    FutureContract = contract,\n",
    "    Count = 1000\n",
    "};\n",
    "\n",
    "// store futures and display results\n",
    "var reply = service.StaticData(request, headers);\n",
    "var futures = reply.Futures.OrderBy(future => future.Maturity.Year).ThenBy(future => future.Maturity.Month); "
   ]
  },
  {
   "cell_type": "code",
   "execution_count": null,
   "id": "minor-promotion",
   "metadata": {
    "dotnet_interactive": {
     "language": "csharp"
    }
   },
   "outputs": [],
   "source": [
    "// Display results\n",
    "//display(futures)"
   ]
  },
  {
   "cell_type": "markdown",
   "id": "royal-syndrome",
   "metadata": {},
   "source": [
    "#### 3.3 Filter futures matching input period"
   ]
  },
  {
   "cell_type": "code",
   "execution_count": null,
   "id": "naked-alfred",
   "metadata": {
    "dotnet_interactive": {
     "language": "csharp"
    }
   },
   "outputs": [],
   "source": [
    "// Filter futures : select only futures with a maturity matching the selected period\n",
    "var tmpList = new List<FutureEntry>();\n",
    "var lastFuture = true; // we need this boolean to select one more future\n",
    "foreach (var future in futures) {\n",
    "    var maturity = new DateTime(future.Maturity.Year,future.Maturity.Month, future.Maturity.Day);\n",
    "    if (maturity > start) \n",
    "    {\n",
    "        if (maturity < end) {\n",
    "            tmpList.Add(future);\n",
    "        } \n",
    "        else \n",
    "        {\n",
    "            if (lastFuture == true) \n",
    "            {\n",
    "                tmpList.Add(future); // add the last contract\n",
    "                lastFuture = false;\n",
    "            } \n",
    "            else {\n",
    "                break;\n",
    "            }\n",
    "        }\n",
    "    }\n",
    "}\n",
    "var count = tmpList.Count;\n",
    "var selectedFutures = tmpList.ToArray();"
   ]
  },
  {
   "cell_type": "code",
   "execution_count": null,
   "id": "essential-monitor",
   "metadata": {
    "dotnet_interactive": {
     "language": "csharp"
    }
   },
   "outputs": [],
   "source": [
    "// Display previously selected futures\n",
    "// display(selectedFutures)"
   ]
  },
  {
   "cell_type": "markdown",
   "id": "missing-surname",
   "metadata": {},
   "source": [
    "### Step 4: Determine roll date based on market activity\n"
   ]
  },
  {
   "cell_type": "markdown",
   "id": "complimentary-benjamin",
   "metadata": {},
   "source": [
    "#### 4.1 Get market activity for each selected maturity\n",
    "Market activity is computed by calling the *tick topologies service* which returns the tick count for a chosen *time granularity*. The following code snippet is a method to handle *tick toplogies requests* creation to retrieve ticks count on daily basis."
   ]
  },
  {
   "cell_type": "code",
   "execution_count": null,
   "id": "confidential-motivation",
   "metadata": {
    "dotnet_interactive": {
     "language": "csharp"
    }
   },
   "outputs": [],
   "source": [
    "// Define a method that creates a topologies request for a given instrument to batch request later in the sample\n",
    "public static TopologiesRequest GetTopologiesRequest(Identifier identifier)\n",
    "{\n",
    "    return new TopologiesRequest \n",
    "    { \n",
    "        Identifier = identifier, \n",
    "        Granularity = TopologyGranularity.Daily,\n",
    "        Level = Systemathics.Apis.Type.Shared.V1.Level.TradesAndBook\n",
    "    };    \n",
    "}"
   ]
  },
  {
   "cell_type": "code",
   "execution_count": null,
   "id": "commercial-statistics",
   "metadata": {
    "dotnet_interactive": {
     "language": "csharp"
    }
   },
   "outputs": [],
   "source": [
    "// Define a method to handle tick toplogies reply and create a dictionary of tick count per date\n",
    "// Ex: 2016-06-18 | 55\n",
    "//     2016-06-19 | 35 \n",
    "public static Dictionary<string, double> GetTicks(IEnumerable<TopologyEntry> entries) \n",
    "{\n",
    "    var dict = new Dictionary<string, double>();\n",
    "    foreach (var entry in entries) {\n",
    "        var count = entry.TicksCount;\n",
    "        var time = new DateTime(entry.Begin.Year, entry.Begin.Month, entry.Begin.Day);\n",
    "        var key = time.ToString(\"yyyy-MM-dd\");\n",
    "        dict[key] = count;\n",
    "    }\n",
    "    return dict;\n",
    "}"
   ]
  },
  {
   "cell_type": "code",
   "execution_count": null,
   "id": "thick-produce",
   "metadata": {
    "dotnet_interactive": {
     "language": "csharp"
    }
   },
   "outputs": [],
   "source": [
    "// Intiate dictionary to handle ticks count for each future contract\n",
    "// Keys = tickers\n",
    "// Values = dictionaries of tick count per date\n",
    "var ticktionary = new Dictionary<string, Dictionary<string, double>>();\n",
    "\n",
    "// Instantiate the tick topoliges service\n",
    "var topologiesService = new TopologiesService.TopologiesServiceClient(channel);\n",
    "\n",
    "// Process the tick toplogies reply: store ticks count for each future contract\n",
    "foreach (var elt in selectedFutures)\n",
    "{\n",
    "    // Generate the tick topoliges request\n",
    "    var topologiesRequest = GetTopologiesRequest(elt.Identifier);\n",
    "    \n",
    "    var topologiesReply = topologiesService.Topologies(topologiesRequest, headers);\n",
    "    var key = elt.Identifier.Ticker;\n",
    "    ticktionary[key] = GetTicks(topologiesReply.Entries);\n",
    "}"
   ]
  },
  {
   "cell_type": "code",
   "execution_count": null,
   "id": "recovered-mills",
   "metadata": {
    "dotnet_interactive": {
     "language": "csharp"
    }
   },
   "outputs": [],
   "source": [
    "// Display ticktionary keys: selected future contacts' tickers\n",
    "var keys = ticktionary.Keys;\n",
    "//display(ticktionary.Keys)"
   ]
  },
  {
   "cell_type": "code",
   "execution_count": null,
   "id": "funny-effort",
   "metadata": {
    "dotnet_interactive": {
     "language": "csharp"
    }
   },
   "outputs": [],
   "source": [
    "// Display ticktionary 1st value: daily ticks count for the 1st future contract\n",
    "var sample = ticktionary[keys.First()];\n",
    "//display(sample)"
   ]
  },
  {
   "cell_type": "markdown",
   "id": "noted-companion",
   "metadata": {},
   "source": [
    "#### 4.2 Determine roll dates\n",
    "The following code snippets creates methods to determine *front and back* future contracts for a given date."
   ]
  },
  {
   "cell_type": "code",
   "execution_count": null,
   "id": "chronic-patio",
   "metadata": {
    "dotnet_interactive": {
     "language": "csharp"
    }
   },
   "outputs": [],
   "source": [
    "// Define a method that gets front ticker according to the given list of futures\n",
    "// Input: \n",
    "//   -Ticker/Maturity dictionary\n",
    "//   -current date\n",
    "// Output: \n",
    "//   -front ticker (can be null)\n",
    "public static string GetFrontTicker(Dictionary<string, DateTime> tickerMaturityPair, DateTime currentDate) \n",
    "{\n",
    "    foreach (var kvp in tickerMaturityPair) \n",
    "    {\n",
    "        // get maturity and compare to currentTime\n",
    "        var maturity = kvp.Value; \n",
    "        if (maturity> currentDate) {\n",
    "            return kvp.Key;\n",
    "        }\n",
    "    }\n",
    "    return null;\n",
    "}"
   ]
  },
  {
   "cell_type": "code",
   "execution_count": null,
   "id": "lesbian-probability",
   "metadata": {
    "dotnet_interactive": {
     "language": "csharp"
    }
   },
   "outputs": [],
   "source": [
    "// Define a method that gets back ticker according to the given list of futures\n",
    "// Input: \n",
    "//   -Ticker/Maturity dictionary\n",
    "//   -current date\n",
    "// Output: \n",
    "//   -back ticker (can be null)\n",
    "public static string GetBackTicker(Dictionary<string, DateTime> tickerMaturityPair, DateTime currentDate) \n",
    "{\n",
    "    var front = false; // check if we 'passed' front\n",
    "    foreach (var kvp in tickerMaturityPair) \n",
    "    {\n",
    "        // get maturity and compare to currentTime\n",
    "        var maturity = kvp.Value; \n",
    "        if (maturity> currentDate) {\n",
    "            if (front) {\n",
    "                return kvp.Key;\n",
    "            }\n",
    "            front = true;\n",
    "        }\n",
    "    }\n",
    "    return null;\n",
    "}"
   ]
  },
  {
   "cell_type": "markdown",
   "id": "european-marking",
   "metadata": {},
   "source": [
    "The following code snippet creates a dictionary of *ticker* and *future maturity* pairs. This represents the input of the previous methods."
   ]
  },
  {
   "cell_type": "code",
   "execution_count": null,
   "id": "forbidden-electronics",
   "metadata": {
    "dotnet_interactive": {
     "language": "csharp"
    }
   },
   "outputs": [],
   "source": [
    "// Store maturities in a ticker indexed dictionary\n",
    "var tickerMaturities = new Dictionary<string, DateTime>();\n",
    "foreach (var future in selectedFutures) {\n",
    "    var key = future.Identifier.Ticker;\n",
    "    var date = new DateTime(future.Maturity.Year,future.Maturity.Month,future.Maturity.Day,0,0,0 );\n",
    "    tickerMaturities[key]= date;\n",
    "}\n",
    "display(tickerMaturities)"
   ]
  },
  {
   "cell_type": "markdown",
   "id": "international-teacher",
   "metadata": {},
   "source": [
    "The following code snippet gives the *front and back future contracts* on daily basis over the chosen look back period."
   ]
  },
  {
   "cell_type": "code",
   "execution_count": null,
   "id": "sudden-developer",
   "metadata": {
    "dotnet_interactive": {
     "language": "csharp"
    }
   },
   "outputs": [],
   "source": [
    "var test = start;\n",
    "while (test < end) {\n",
    "    var d = test.ToString(\"yyyy-MM-dd\");\n",
    "    Console.WriteLine($\"{d} F: {GetFrontTicker(tickerMaturities,test)}, B {GetBackTicker(tickerMaturities,test)}\");\n",
    "    test = test.AddDays(1);\n",
    "}"
   ]
  },
  {
   "cell_type": "markdown",
   "id": "descending-graduate",
   "metadata": {},
   "source": [
    "#### 4.3 Prepare bars request parameters\n",
    "Select start date, end date and instrument identifier for the previsouly selected futures."
   ]
  },
  {
   "cell_type": "code",
   "execution_count": null,
   "id": "naked-amino",
   "metadata": {
    "dotnet_interactive": {
     "language": "csharp"
    }
   },
   "outputs": [],
   "source": [
    "// Prepare start and end dates for upcoming tick bars requests\n",
    "var barsStarts =  new Dictionary<string, DateTime>();\n",
    "var barsEnds = new Dictionary<string, DateTime>();"
   ]
  },
  {
   "cell_type": "markdown",
   "id": "original-flesh",
   "metadata": {},
   "source": [
    "The code snippet below generates, for each instrument included in the given period, the **start date** and **end date** necessary for upcoming bars request. Those are computed by comparing ticks count of *front* and *back* contract.\n",
    "\n",
    "Day after day, the algorithm retrieves, if any, the **number of ticks** for both back and front. \n",
    "\n",
    "Roll date is determined when **#ticks_front $\\le$ #ticks_back**. Start and end dates for bars request are then generated.\n"
   ]
  },
  {
   "cell_type": "code",
   "execution_count": null,
   "id": "junior-location",
   "metadata": {
    "dotnet_interactive": {
     "language": "csharp"
    }
   },
   "outputs": [],
   "source": [
    "// Initializing\n",
    "var currentDate = start;\n",
    "var previousFrontTicker = GetFrontTicker(tickerMaturities, currentDate);\n",
    "barsStarts[previousFrontTicker] = currentDate;\n",
    "\n",
    "// Increment for each date within the chosen period\n",
    "while(currentDate < end) {\n",
    "    var frontTicker = GetFrontTicker(tickerMaturities, currentDate);\n",
    "    if (frontTicker != previousFrontTicker) {\n",
    "        barsStarts[frontTicker] = currentDate;\n",
    "    }\n",
    "    previousFrontTicker = frontTicker;\n",
    "    var backTicker = GetBackTicker(tickerMaturities, currentDate);\n",
    "    if (frontTicker == null) {\n",
    "        Console.WriteLine($\"End: should not occur, handled in while loop\");\n",
    "        break;\n",
    "    }\n",
    "    if (backTicker == null) // Case where we reached end date\n",
    "    {\n",
    "        barsEnds[frontTicker] = end;\n",
    "        break;\n",
    "    }\n",
    "    \n",
    "    // Get ticks count dictionary for each ticker \n",
    "    var frontTopologies = ticktionary[frontTicker];\n",
    "    var backTopologies = ticktionary[backTicker];\n",
    "\n",
    "    // -->  Check if we have tick size for front and back\n",
    "    // Front    Back     Behavior\n",
    "    //   V       V    => compare sizes\n",
    "    //   V       X    => skip to next current date\n",
    "    //   X       V    => ROLL\n",
    "    //   X       X    => skip to next current date\n",
    "\n",
    "    var currentDateString = currentDate.ToString(\"yyyy-MM-dd\");\n",
    "    \n",
    "    // Both ticks => compare\n",
    "    if (frontTopologies.ContainsKey(currentDateString) && backTopologies.ContainsKey(currentDateString)) \n",
    "    {\n",
    "        var backSize = backTopologies[currentDateString];\n",
    "        var frontSize = frontTopologies[currentDateString];\n",
    "        if (frontSize < backSize) {\n",
    "            // ROLL\n",
    "            Console.WriteLine($\"Rolling from {frontTicker} to {backTicker}: {currentDate} - {frontSize} vs {backSize}\");\n",
    "            barsEnds[frontTicker] = tickerMaturities[frontTicker]; // Add end for bars request\n",
    "            currentDate = tickerMaturities[frontTicker].AddDays(1); // Skipping to another day\n",
    "            continue;\n",
    "        } else {\n",
    "            // SKIP\n",
    "            currentDate = currentDate.AddDays(1);// Skipping day to day\n",
    "        continue;\n",
    "        }\n",
    "    }\n",
    "    \n",
    "    // Only back ticks => roll\n",
    "    if (!frontTopologies.ContainsKey(currentDateString) && backTopologies.ContainsKey(currentDateString)) \n",
    "    {\n",
    "        // ROLL\n",
    "        Console.WriteLine($\"Rolling from {frontTicker} to {backTicker}: {currentDate} -  no more front ticks\");\n",
    "        barsEnds[frontTicker] = tickerMaturities[frontTicker]; // Add end for bars request\n",
    "        currentDate = tickerMaturities[frontTicker].AddDays(1); // Skipping to another day\n",
    "        continue;\n",
    "    }\n",
    "    \n",
    "    // Only front ticks => skip\n",
    "    if (frontTopologies.ContainsKey(currentDateString) && !backTopologies.ContainsKey(currentDateString)) \n",
    "    {\n",
    "        currentDate = currentDate.AddDays(1);// Skipping day to day\n",
    "        continue;\n",
    "    }\n",
    "    \n",
    "    // No front or back ticks => skip\n",
    "    if (!frontTopologies.ContainsKey(currentDateString) && !backTopologies.ContainsKey(currentDateString)) \n",
    "    {\n",
    "        currentDate = currentDate.AddDays(1); // Skipping day to day\n",
    "        continue;\n",
    "    }\n",
    "}"
   ]
  },
  {
   "cell_type": "code",
   "execution_count": null,
   "id": "talented-landscape",
   "metadata": {
    "dotnet_interactive": {
     "language": "csharp"
    }
   },
   "outputs": [],
   "source": [
    "foreach (var f in selectedFutures) {\n",
    "    display(f.Identifier.Ticker);\n",
    "}"
   ]
  },
  {
   "cell_type": "markdown",
   "id": "occupational-cartridge",
   "metadata": {},
   "source": [
    "The following code snippet generates *tick bars* requests' parameters:"
   ]
  },
  {
   "cell_type": "code",
   "execution_count": null,
   "id": "civic-honduras",
   "metadata": {
    "dotnet_interactive": {
     "language": "csharp"
    }
   },
   "outputs": [],
   "source": [
    "// Create a list of tuples containing the instrument identifier and date intervals for bars request\n",
    "// The days delta chosen here defines the delay until expiration before rolling\n",
    "var barsRequestData = new List<Tuple<Identifier, DateTime,DateTime>>();\n",
    "\n",
    "if (barsEnds.Keys.Count != barsStarts.Keys.Count) \n",
    "{\n",
    "    Console.WriteLine($\"Different start/end size\");\n",
    "}\n",
    "var count = barsEnds.Keys.Count;\n",
    "var keys = barsEnds.Keys.ToArray();\n",
    "for (var i =0; i< count; i++) {\n",
    "    var identifier = selectedFutures.Select(f => f.Identifier).Where(f=>f.Ticker == keys[i]).Single();\n",
    "    var start = barsStarts[keys[i]];\n",
    "    var end = barsEnds[keys[i]];\n",
    "    var data = new Tuple<Identifier, DateTime,DateTime>(identifier, start, end);\n",
    "    barsRequestData.Add(data);\n",
    "}"
   ]
  },
  {
   "cell_type": "code",
   "execution_count": null,
   "id": "inappropriate-bobby",
   "metadata": {
    "dotnet_interactive": {
     "language": "csharp"
    }
   },
   "outputs": [],
   "source": [
    "// Display bars request parameters\n",
    "//display(barsRequestData)"
   ]
  },
  {
   "cell_type": "markdown",
   "id": "grave-rwanda",
   "metadata": {},
   "source": [
    "### Step 5: Get bars to get a continuous price"
   ]
  },
  {
   "cell_type": "markdown",
   "id": "moving-diversity",
   "metadata": {},
   "source": [
    "#### 5.1 Define bar request creation method\n",
    "The following code snippt defines a method that creates and handles *tick bars* requests: "
   ]
  },
  {
   "cell_type": "code",
   "execution_count": null,
   "id": "infrared-editor",
   "metadata": {
    "dotnet_interactive": {
     "language": "csharp"
    }
   },
   "outputs": [],
   "source": [
    "public static TickBarsRequest GetBarsRequest(Identifier identifier, DateTime start, DateTime end)\n",
    "{\n",
    "    // Set the bar duration (1 hour bars in seconds)\n",
    "    var sampling = 60 * 60;\n",
    "\n",
    "    // Set the bar calculation field (Trade price)\n",
    "    var field = BarPrice.Trade; \n",
    "\n",
    "    // Begin\n",
    "    var beginTime = new TimeOfDay { Hours = 00, Minutes = 00, Seconds = 00 };\n",
    "\n",
    "    // Create bars request data intervals\n",
    "    var dateIntervals = new DateInterval()\n",
    "      {\n",
    "        StartDate = new Date { Year = start.Year, Month = start.Month, Day = start.Day },\n",
    "        EndDate = new Date { Year = end.Year, Month = end.Month, Day = end.Day }\n",
    "\n",
    "      };\n",
    "    \n",
    "    // Generate constraints based on the previous date selection\n",
    "    var constraints = new Constraints(); \n",
    "    constraints.DateIntervals.Add(dateIntervals);\n",
    "    \n",
    "    // Generate tick bars request\n",
    "    var request = new TickBarsRequest \n",
    "    {\n",
    "        Identifier = identifier, \n",
    "        Constraints = constraints,  \n",
    "        Sampling = new Duration {Seconds = sampling},\n",
    "        Field = field\n",
    "    };\n",
    "    return request;\n",
    "}"
   ]
  },
  {
   "cell_type": "markdown",
   "id": "flying-reasoning",
   "metadata": {},
   "source": [
    "#### 5.2 Process bars request for each future\n",
    "We have to use the previously defined  `GetBarsRequest` method to generate the request and process it. Results will be stored in a dictionary before being displayed."
   ]
  },
  {
   "cell_type": "code",
   "execution_count": null,
   "id": "mounted-briefs",
   "metadata": {
    "dotnet_interactive": {
     "language": "csharp"
    }
   },
   "outputs": [],
   "source": [
    "// Intiate dictionary to handle bars data for each future contract\n",
    "var barsResponses = new Dictionary<string, List<TickBarsResponse>>();\n",
    "\n",
    "// Instantiate the tick bars service\n",
    "var barsService = new TickBarsService.TickBarsServiceClient(channel);\n",
    "\n",
    "// Process the tick bars reply: store tick bars for each future contract\n",
    "foreach (var elt in barsRequestData)\n",
    "{\n",
    "    // Generate tick bars request\n",
    "    var barsRequest = GetBarsRequest(elt.Item1, elt.Item2, elt.Item3);\n",
    "    \n",
    "    var key = elt.Item1.Ticker;\n",
    "    barsResponses[key] = new List<TickBarsResponse>();\n",
    "    \n",
    "    var call = barsService.TickBars(barsRequest, headers);\n",
    "    await foreach (var bar in call.ResponseStream.ReadAllAsync())\n",
    "    {\n",
    "        barsResponses[key].Add(bar);\n",
    "    }\n",
    "}"
   ]
  },
  {
   "cell_type": "code",
   "execution_count": null,
   "id": "modern-detector",
   "metadata": {
    "dotnet_interactive": {
     "language": "csharp"
    }
   },
   "outputs": [],
   "source": [
    "// Verification: check first future bars\n",
    "//display(barsResponses[barsResponses.Keys.First()])"
   ]
  },
  {
   "cell_type": "markdown",
   "id": "intellectual-obligation",
   "metadata": {},
   "source": [
    "### Step 6: Visualize data\n",
    "\n",
    "The following code snippets retrieve for each maturity, the *Close prices* over the look back period from the request result and plot them with the package of your choice.<br><i>`XPlot.Plotly`</i> is used as per open source display package."
   ]
  },
  {
   "cell_type": "code",
   "execution_count": null,
   "id": "dental-victory",
   "metadata": {
    "dotnet_interactive": {
     "language": "csharp"
    }
   },
   "outputs": [],
   "source": [
    "// Define a method transforming a dictionary key/value pair to a graph content\n",
    "public static Scattergl ToGraph(KeyValuePair<string, List<TickBarsResponse>> kvp)\n",
    "{\n",
    "    return new Scattergl\n",
    "    {\n",
    "        name = kvp.Key,\n",
    "        x = kvp.Value.Select(b => b.TimeStamp.ToDateTime()).ToArray(),\n",
    "        y = kvp.Value.Select(b => b.Close).ToArray(),\n",
    "    };\n",
    "}"
   ]
  },
  {
   "cell_type": "code",
   "execution_count": null,
   "id": "transsexual-jonathan",
   "metadata": {
    "dotnet_interactive": {
     "language": "csharp"
    }
   },
   "outputs": [],
   "source": [
    "var chartContent = barsResponses.Select(ToGraph).ToArray();\n",
    "var chart = Chart.Plot(chartContent);\n",
    "var layout = new Layout.Layout(){barmode = \"group\" };\n",
    "chart.WithLayout(layout);\n",
    "chart.WithTitle($\"{contract} roll using market activity indicator | 1-hour bars [{start:yyyy-MM-dd} - {end:yyyy-MM-dd}] \");\n",
    "chart.WithXTitle(\"Dates\");\n",
    "chart.WithYTitle(\"Close price\");\n",
    "chart.WithLegend(true);\n",
    "chart.Width = 1500;\n",
    "chart.Height = 800;\n",
    "display(chart);"
   ]
  }
 ],
 "metadata": {
  "kernelspec": {
   "display_name": ".NET (C#)",
   "language": "C#",
   "name": ".net-csharp"
  },
  "language_info": {
   "file_extension": ".cs",
   "mimetype": "text/x-csharp",
   "name": "C#",
   "pygments_lexer": "csharp",
   "version": "9.0"
  }
 },
 "nbformat": 4,
 "nbformat_minor": 5
}
