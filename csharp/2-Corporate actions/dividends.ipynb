{
 "cells": [
  {
   "cell_type": "markdown",
   "id": "nervous-celebrity",
   "metadata": {},
   "source": [
    "# Dividends extraction using dedicated service - C#\n",
    "\n",
    "### Overview\n",
    "This sample requests **on-demand** dividends by calling a dedicated data service.\n",
    "\n",
    "### Inputs/outputs\n",
    "Dividends sample is designed to help you searching and requesting dividends for a given instrument.\n",
    "* It takes instrument specification parameter(s) as per input filter and returns *Dividends*\n",
    "\n",
    "### Services used\n",
    "This sample uses *gRPC requests* in order to retrieve dividends from the hosted service. The queried endpoint in this script are:\n",
    "* *DividendsService*: to directly retrieve dividends data objects from the server\n",
    "\n",
    "### Packages required\n",
    "1. Systemathics packages:\n",
    "    * *Systemathics.Apis.Type.Shared.V1*\n",
    "    * *Systemathics.Apis.Services.CorporateActions.V1*\n",
    "2. Open source packages\n",
    "    * *Google.Protobuf.WellKnownTypes*\n",
    "    * *Google.Type*\n",
    "    * *Grpc.Net.Client*\n",
    "    * *Grpc.Core*\n",
    "\n",
    "***"
   ]
  },
  {
   "cell_type": "markdown",
   "id": "satellite-charge",
   "metadata": {},
   "source": [
    "# Run dividends sample"
   ]
  },
  {
   "cell_type": "markdown",
   "id": "behind-container",
   "metadata": {},
   "source": [
    "### Step 1: Install packages"
   ]
  },
  {
   "cell_type": "code",
   "execution_count": null,
   "id": "muslim-encoding",
   "metadata": {
    "dotnet_interactive": {
     "language": "csharp"
    }
   },
   "outputs": [],
   "source": [
    "#i \"nuget: file:///home/jovyan/.nuget/packages/\"\n",
    "#i \"nuget: https://api.nuget.org/v3/index.json\"\n",
    "#r \"nuget: Systemathics.Apis, 0.*-pre*\""
   ]
  },
  {
   "cell_type": "code",
   "execution_count": null,
   "id": "technological-induction",
   "metadata": {
    "dotnet_interactive": {
     "language": "csharp"
    }
   },
   "outputs": [],
   "source": [
    "using Systemathics.Apis.Helpers;\n",
    "using Systemathics.Apis.Type.Shared.V1;\n",
    "using Systemathics.Apis.Services.CorporateActions.V1;\n",
    "using Google.Protobuf.WellKnownTypes;\n",
    "using Google.Type;\n",
    "using Grpc.Net.Client;\n",
    "using Grpc.Core;"
   ]
  },
  {
   "cell_type": "markdown",
   "id": "vertical-behalf",
   "metadata": {},
   "source": [
    "### Step 2: Prepare API requests\n",
    "The following code snippets retrieve authentication token and prepare the API request by: opening the *channel* and adding the *token* to the request header:"
   ]
  },
  {
   "cell_type": "code",
   "execution_count": null,
   "id": "patent-background",
   "metadata": {
    "dotnet_interactive": {
     "language": "csharp"
    }
   },
   "outputs": [],
   "source": [
    "// Get token as metadata\n",
    "var headers = TokenHelpers.GetTokenAsMetaData();\n",
    "\n",
    "// Create communication channel\n",
    "var channel = ChannelHelpers.GetChannel();"
   ]
  },
  {
   "cell_type": "markdown",
   "id": "infinite-finance",
   "metadata": {},
   "source": [
    "### Step 3: Retrieve dividends"
   ]
  },
  {
   "cell_type": "markdown",
   "id": "timely-serial",
   "metadata": {},
   "source": [
    "#### 3.1 Equity selection"
   ]
  },
  {
   "cell_type": "code",
   "execution_count": null,
   "id": "premium-settlement",
   "metadata": {
    "dotnet_interactive": {
     "language": "csharp"
    }
   },
   "outputs": [],
   "source": [
    "// Set the instrument identifier \n",
    "var ticker = \"AAPL\";\n",
    "var exchange = \"XNGS\";"
   ]
  },
  {
   "cell_type": "markdown",
   "id": "brown-shower",
   "metadata": {},
   "source": [
    "#### 3.2 Create and process request"
   ]
  },
  {
   "cell_type": "code",
   "execution_count": null,
   "id": "careful-horror",
   "metadata": {
    "dotnet_interactive": {
     "language": "csharp"
    }
   },
   "outputs": [],
   "source": [
    "// instantiate the dividends service\n",
    "var service = new DividendsService.DividendsServiceClient(channel);\n",
    "\n",
    "// Generate the dividends request\n",
    "var request = new DividendsRequest \n",
    "{ \n",
    "    Identifier = new Identifier { Exchange = exchange, Ticker = ticker} \n",
    "};\n",
    "\n",
    "// Get the dividends reply\n",
    "var reply = service.Dividends(request, headers);"
   ]
  },
  {
   "cell_type": "markdown",
   "id": "actual-gossip",
   "metadata": {},
   "source": [
    "#### 3.3 Retrieve dividends"
   ]
  },
  {
   "cell_type": "code",
   "execution_count": null,
   "id": "numerical-tiger",
   "metadata": {
    "dotnet_interactive": {
     "language": "csharp"
    }
   },
   "outputs": [],
   "source": [
    "// Visualize dividends results\n",
    "display(reply.Data)"
   ]
  },
  {
   "cell_type": "markdown",
   "id": "developmental-camel",
   "metadata": {},
   "source": [
    "#### 3.4 Add dates constraints"
   ]
  },
  {
   "cell_type": "code",
   "execution_count": null,
   "id": "economic-cylinder",
   "metadata": {
    "dotnet_interactive": {
     "language": "csharp"
    }
   },
   "outputs": [],
   "source": [
    "// Set data interval (we are using Google date time format)\n",
    "var dateIntervals = new DateInterval()\n",
    "{\n",
    "  StartDate = new Date { Year = 2020, Month = 01, Day = 01 },\n",
    "  EndDate = new Date { Year = 2021, Month = 03, Day = 31 }\n",
    "};\n",
    "\n",
    "// Generate constraints based on the previous date selection\n",
    "// Time constraints are not neeeded for the splits\n",
    "var constraints = new Constraints(); \n",
    "constraints.DateIntervals.Add(dateIntervals);"
   ]
  },
  {
   "cell_type": "code",
   "execution_count": null,
   "id": "moving-spectrum",
   "metadata": {
    "dotnet_interactive": {
     "language": "csharp"
    }
   },
   "outputs": [],
   "source": [
    "// Generate the dividends request with dates constraints\n",
    "var request = new DividendsRequest \n",
    "{ \n",
    "    Identifier = new Identifier { Exchange = exchange, Ticker = ticker},\n",
    "    Constraints = constraints\n",
    "};\n",
    "\n",
    "// Get the dividends reply with dates constraints\n",
    "var reply = service.Dividends(request, headers);"
   ]
  },
  {
   "cell_type": "markdown",
   "id": "genetic-marking",
   "metadata": {},
   "source": [
    "#### 3.5 Retrieve dividends"
   ]
  },
  {
   "cell_type": "code",
   "execution_count": null,
   "id": "alike-joyce",
   "metadata": {
    "dotnet_interactive": {
     "language": "csharp"
    }
   },
   "outputs": [],
   "source": [
    "// Visualize dividends results\n",
    "display(reply.Data)"
   ]
  }
 ],
 "metadata": {
  "kernelspec": {
   "display_name": ".NET (C#)",
   "language": "C#",
   "name": ".net-csharp"
  },
  "language_info": {
   "file_extension": ".cs",
   "mimetype": "text/x-csharp",
   "name": "C#",
   "pygments_lexer": "csharp",
   "version": "9.0"
  }
 },
 "nbformat": 4,
 "nbformat_minor": 5
}
