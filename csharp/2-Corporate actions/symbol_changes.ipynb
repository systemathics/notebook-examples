{
 "cells": [
  {
   "cell_type": "markdown",
   "id": "royal-halifax",
   "metadata": {},
   "source": [
    "# Symbol changes extraction using dedicated service - C#\n",
    "\n",
    "### Overview\n",
    "Name and ticker changes can be seen as a corporate actions event or a static data update. In this sample we are dealing with changes automated updates as a corporate actions event.\n",
    "\n",
    "A name change or a ticker change can be handled as a corporate actions event and occurs in various use-cases such as: \n",
    "* a company decide to change its name and the issued secuities from from an old name to a current name.\n",
    "* in mergers and acquisitions, old names are combined to a new one\n",
    "\n",
    "Symbol change should be spread all along the investment, risk and data management workflow. Here are few examples of immediate consequent symbol updates: \n",
    "* data collection robots\n",
    "* watchlists and analytics dahsboards\n",
    "* strategy building and simulation bots\n",
    "* indices components if the symbol belongs to one or more indices\n",
    "* risk models\n",
    "\n",
    "### Inputs/outputs\n",
    "Changes sample is designed to help you searching and requesting symbol changes for a given instrument.\n",
    "* It takes instrument specification parameter(s) as per input filter and returns *Changes*.\n",
    "\n",
    "### Services used\n",
    "This sample uses *gRPC requests* in order to retrieve the corporate actions changesfrom the hosted service. The queried endpoint in this script are:\n",
    "* *ChangesService*: to directly retrieve changes data objects from the server\n",
    "\n",
    "### Packages required\n",
    "1. Systemathics packages:\n",
    "    * *Systemathics.Apis.Type.Shared.V1*\n",
    "    * *Systemathics.Apis.Services.CorporateActions.V1*\n",
    "2. Open source packages\n",
    "    * *Google.Protobuf.WellKnownTypes*\n",
    "    * *Google.Type*\n",
    "    * *Grpc.Net.Client*\n",
    "    * *Grpc.Core*\n",
    "\n",
    "***"
   ]
  },
  {
   "cell_type": "markdown",
   "id": "matched-harvard",
   "metadata": {},
   "source": [
    "# Run symbol changes sample"
   ]
  },
  {
   "cell_type": "markdown",
   "id": "focal-supervision",
   "metadata": {},
   "source": [
    "### Step 1: Install packages"
   ]
  },
  {
   "cell_type": "code",
   "execution_count": null,
   "id": "brave-boards",
   "metadata": {
    "dotnet_interactive": {
     "language": "csharp"
    }
   },
   "outputs": [],
   "source": [
    "#i \"nuget: file:///home/jovyan/.nuget/packages/\"\n",
    "#i \"nuget: https://api.nuget.org/v3/index.json\"\n",
    "#r \"nuget: Systemathics.Apis, 0.*-pre*\""
   ]
  },
  {
   "cell_type": "code",
   "execution_count": null,
   "id": "available-pantyhose",
   "metadata": {
    "dotnet_interactive": {
     "language": "csharp"
    }
   },
   "outputs": [],
   "source": [
    "using Systemathics.Apis.Helpers;\n",
    "using Systemathics.Apis.Type.Shared.V1;\n",
    "using Systemathics.Apis.Services.CorporateActions.V1;\n",
    "using Google.Protobuf.WellKnownTypes;\n",
    "using Google.Type;\n",
    "using Grpc.Net.Client;\n",
    "using Grpc.Core;"
   ]
  },
  {
   "cell_type": "markdown",
   "id": "associate-ceramic",
   "metadata": {},
   "source": [
    "### Step 2: Prepare API requests\n",
    "The following code snippets retrieve authentication token and prepare the API request by: opening the *channel* and adding the *token* to the request header:"
   ]
  },
  {
   "cell_type": "code",
   "execution_count": null,
   "id": "handed-identity",
   "metadata": {
    "dotnet_interactive": {
     "language": "csharp"
    }
   },
   "outputs": [],
   "source": [
    "// Get token as metadata\n",
    "var headers = TokenHelpers.GetTokenAsMetaData();\n",
    "\n",
    "// Create communication channel\n",
    "var channel = ChannelHelpers.GetChannel();"
   ]
  },
  {
   "cell_type": "markdown",
   "id": "colonial-incident",
   "metadata": {},
   "source": [
    "### Step 3: Retrieve changes"
   ]
  },
  {
   "cell_type": "markdown",
   "id": "charged-innocent",
   "metadata": {},
   "source": [
    "#### 3.1 Equity selection"
   ]
  },
  {
   "cell_type": "code",
   "execution_count": null,
   "id": "recovered-notice",
   "metadata": {
    "dotnet_interactive": {
     "language": "csharp"
    }
   },
   "outputs": [],
   "source": [
    "// Set the instrument identifier \n",
    "var ticker = \"ISCB\";\n",
    "var exchange = \"XNYS\";"
   ]
  },
  {
   "cell_type": "markdown",
   "id": "valid-saturday",
   "metadata": {},
   "source": [
    "#### 3.2 Create and process request"
   ]
  },
  {
   "cell_type": "code",
   "execution_count": null,
   "id": "reduced-galaxy",
   "metadata": {
    "dotnet_interactive": {
     "language": "csharp"
    }
   },
   "outputs": [],
   "source": [
    "// instantiate the changes service\n",
    "var service = new ChangesService.ChangesServiceClient(channel);\n",
    "\n",
    "// Generate the changes request\n",
    "var request = new ChangesRequest \n",
    "{ \n",
    "    Identifier = new Identifier { Exchange = exchange, Ticker = ticker} \n",
    "};\n",
    "\n",
    "// Get the changes reply\n",
    "var reply = service.Changes(request, headers);"
   ]
  },
  {
   "cell_type": "markdown",
   "id": "convenient-while",
   "metadata": {},
   "source": [
    "#### 3.3 Retrieve changes"
   ]
  },
  {
   "cell_type": "code",
   "execution_count": null,
   "id": "compact-forth",
   "metadata": {
    "dotnet_interactive": {
     "language": "csharp"
    }
   },
   "outputs": [],
   "source": [
    "// Visualize changes results\n",
    "display(reply.Data)"
   ]
  }
 ],
 "metadata": {
  "kernelspec": {
   "display_name": ".NET (C#)",
   "language": "C#",
   "name": ".net-csharp"
  },
  "language_info": {
   "file_extension": ".cs",
   "mimetype": "text/x-csharp",
   "name": "C#",
   "pygments_lexer": "csharp",
   "version": "9.0"
  }
 },
 "nbformat": 4,
 "nbformat_minor": 5
}
