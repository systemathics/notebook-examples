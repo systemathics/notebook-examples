{
 "cells": [
  {
   "cell_type": "markdown",
   "id": "individual-console",
   "metadata": {},
   "source": [
    "# 9 - Tick Priips (C#)"
   ]
  },
  {
   "cell_type": "markdown",
   "id": "integral-aside",
   "metadata": {},
   "source": [
    "### Setup and import packages"
   ]
  },
  {
   "cell_type": "code",
   "execution_count": null,
   "id": "theoretical-seller",
   "metadata": {
    "dotnet_interactive": {
     "language": "csharp"
    },
    "vscode": {
     "languageId": "csharp"
    }
   },
   "outputs": [],
   "source": [
    "#i \"nuget: file:///home/jovyan/.nuget/packages/\"\n",
    "#i \"nuget: https://api.nuget.org/v3/index.json\"\n",
    "#r \"nuget: Systemathics.Apis, 2.32.*\""
   ]
  },
  {
   "cell_type": "code",
   "execution_count": null,
   "id": "geological-buying",
   "metadata": {
    "dotnet_interactive": {
     "language": "csharp"
    },
    "vscode": {
     "languageId": "csharp"
    }
   },
   "outputs": [],
   "source": [
    "using Systemathics.Apis.Helpers;\n",
    "using Systemathics.Apis.Type.Shared.V1;\n",
    "using Systemathics.Apis.Services.TickAnalytics.V1;\n",
    "using Google.Protobuf.WellKnownTypes;\n",
    "using Google.Type;\n",
    "using Grpc.Net.Client;\n",
    "using Grpc.Core;"
   ]
  },
  {
   "cell_type": "markdown",
   "id": "functioning-boston",
   "metadata": {},
   "source": [
    "### Retrieve the token"
   ]
  },
  {
   "cell_type": "code",
   "execution_count": null,
   "id": "victorian-beijing",
   "metadata": {
    "dotnet_interactive": {
     "language": "csharp"
    },
    "vscode": {
     "languageId": "csharp"
    }
   },
   "outputs": [],
   "source": [
    "var headers = TokenHelpers.GetTokenAsMetaData();"
   ]
  },
  {
   "cell_type": "markdown",
   "id": "alternate-phone",
   "metadata": {},
   "source": [
    "### Create the request / service"
   ]
  },
  {
   "cell_type": "code",
   "execution_count": null,
   "id": "arbitrary-citizenship",
   "metadata": {
    "dotnet_interactive": {
     "language": "csharp"
    },
    "vscode": {
     "languageId": "csharp"
    }
   },
   "outputs": [],
   "source": [
    "var identifier = new Identifier { Exchange = \"XPAR\", Ticker = \"SAVE\"};\n",
    "var ordertime     = Timestamp.FromDateTime(DateTime.Parse(\"2021-11-02 11:25:39.000\").ToUniversalTime());\n",
    "var executiontime = Timestamp.FromDateTime(DateTime.Parse(\"2021-11-02 16:35:13.000\").ToUniversalTime());\n",
    "var executionprice = 64.096;\n",
    "var field = PriipsPrice.Trade;\n",
    "var latency = new Duration { Seconds = 1 * 60 };"
   ]
  },
  {
   "cell_type": "code",
   "execution_count": null,
   "id": "interim-measurement",
   "metadata": {
    "dotnet_interactive": {
     "language": "csharp"
    },
    "vscode": {
     "languageId": "csharp"
    }
   },
   "outputs": [],
   "source": [
    "var channel = ChannelHelpers.GetChannel();\n",
    "var request = new TickPriipsRequest \n",
    "                                    { \n",
    "                                        Identifier = identifier,\n",
    "                                        OrderTime = ordertime,\n",
    "                                        ExecutionTime = executiontime,\n",
    "                                        ExecutionPrice = executionprice,\n",
    "                                        Field = field,\n",
    "                                        Latency = latency\n",
    "                                    };"
   ]
  },
  {
   "cell_type": "markdown",
   "id": "improved-anchor",
   "metadata": {},
   "source": [
    "### Retrieve the data"
   ]
  },
  {
   "cell_type": "code",
   "execution_count": null,
   "id": "obvious-generic",
   "metadata": {
    "dotnet_interactive": {
     "language": "csharp"
    },
    "vscode": {
     "languageId": "csharp"
    }
   },
   "outputs": [],
   "source": [
    "var service = new TickPriipsService.TickPriipsServiceClient(channel);"
   ]
  },
  {
   "cell_type": "markdown",
   "id": "stylish-canyon",
   "metadata": {},
   "source": [
    "### Display / Plot"
   ]
  },
  {
   "cell_type": "code",
   "execution_count": null,
   "id": "injured-economics",
   "metadata": {
    "dotnet_interactive": {
     "language": "csharp"
    },
    "vscode": {
     "languageId": "csharp"
    }
   },
   "outputs": [],
   "source": [
    "var call = service.TickPriips(request, headers);\n",
    "await foreach (var current in call.ResponseStream.ReadAllAsync())\n",
    "{\n",
    "    display(current);  \n",
    "}\n",
    "\n"
   ]
  }
 ],
 "metadata": {
  "kernelspec": {
   "display_name": ".NET (C#)",
   "language": "C#",
   "name": ".net-csharp"
  },
  "language_info": {
   "file_extension": ".cs",
   "mimetype": "text/x-csharp",
   "name": "C#",
   "pygments_lexer": "csharp",
   "version": "9.0"
  }
 },
 "nbformat": 4,
 "nbformat_minor": 5
}
