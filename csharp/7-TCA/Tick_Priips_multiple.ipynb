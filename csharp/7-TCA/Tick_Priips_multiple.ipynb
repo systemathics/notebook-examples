{
 "cells": [
  {
   "cell_type": "markdown",
   "id": "individual-console",
   "metadata": {},
   "source": [
    "# 9 - Tick Priips with inputs (C#)"
   ]
  },
  {
   "cell_type": "markdown",
   "id": "integral-aside",
   "metadata": {},
   "source": [
    "### Setup and import packages"
   ]
  },
  {
   "cell_type": "code",
   "execution_count": null,
   "id": "theoretical-seller",
   "metadata": {
    "dotnet_interactive": {
     "language": "csharp"
    }
   },
   "outputs": [],
   "source": [
    "#i \"nuget: file:///home/jovyan/.nuget/packages/\"\n",
    "#i \"nuget: https://api.nuget.org/v3/index.json\"\n",
    "#r \"nuget: Systemathics.Apis, 0.*-pre*\"\n",
    "#r \"nuget: CsvHelper\""
   ]
  },
  {
   "cell_type": "code",
   "execution_count": null,
   "id": "geological-buying",
   "metadata": {
    "dotnet_interactive": {
     "language": "csharp"
    }
   },
   "outputs": [],
   "source": [
    "using Systemathics.Apis.Helpers;\n",
    "using Systemathics.Apis.Type.Shared.V1;\n",
    "using Systemathics.Apis.Services.TickAnalytics.V1;\n",
    "using Google.Protobuf.WellKnownTypes;\n",
    "using Google.Type;\n",
    "using Grpc.Net.Client;\n",
    "using Grpc.Core;\n",
    "// Import/export csv files \n",
    "using CsvHelper;\n",
    "using System.IO;\n",
    "using System.Threading;\n",
    "using System.Globalization;"
   ]
  },
  {
   "cell_type": "markdown",
   "id": "functioning-boston",
   "metadata": {},
   "source": [
    "### Retrieve the token"
   ]
  },
  {
   "cell_type": "code",
   "execution_count": null,
   "id": "victorian-beijing",
   "metadata": {
    "dotnet_interactive": {
     "language": "csharp"
    }
   },
   "outputs": [],
   "source": [
    "var headers = TokenHelpers.GetTokenAsMetaData();"
   ]
  },
  {
   "cell_type": "markdown",
   "id": "1df063fa-e430-4418-b04c-0010c5fff9fc",
   "metadata": {},
   "source": [
    "### Load inputs"
   ]
  },
  {
   "cell_type": "code",
   "execution_count": null,
   "id": "fa24b8d0-00c6-40a4-978f-89c17ec47321",
   "metadata": {},
   "outputs": [],
   "source": [
    "var inputFilename = \"input_equities_filtered.csv\";"
   ]
  },
  {
   "cell_type": "code",
   "execution_count": null,
   "id": "f4bd9188-523c-43af-8731-584aa166fb50",
   "metadata": {},
   "outputs": [],
   "source": [
    "// Input trade structure to load from the csv file\n",
    "public class InputTrade\n",
    "{\n",
    "    public string GUID { get; set; } // Guid format doesn't work\n",
    "    public string ISIN { get; set; } \n",
    "    public string INSTR_DESC { get; set; } \n",
    "    public string TRA_TYPE { get; set; }\n",
    "    public double EXECUTION_PRICE { get; set; }\n",
    "    public string ORDER_TIMESTAMP { get; set; }\n",
    "    public string EXECUTION_TIMESTAMP { get; set; }\n",
    "    public string OUR_TICKER { get; set; }\n",
    "    public string OUR_EXCHANGE { get; set; }\n",
    "}"
   ]
  },
  {
   "cell_type": "code",
   "execution_count": null,
   "id": "f04fa8e0-bf53-4423-9747-da993cada295",
   "metadata": {},
   "outputs": [],
   "source": [
    "// Load the trades from the csv input file\n",
    "var records = new List<InputTrade>();\n",
    "using (var reader = new StreamReader(inputFilename))\n",
    "using (var csv = new CsvReader(reader, CultureInfo.InvariantCulture))\n",
    "{\n",
    "    records = csv.GetRecords<InputTrade>().ToList();\n",
    "}"
   ]
  },
  {
   "cell_type": "markdown",
   "id": "alternate-phone",
   "metadata": {},
   "source": [
    "### Process Request\n",
    "Read the input file, process the request for each row, and write results in the output file"
   ]
  },
  {
   "cell_type": "code",
   "execution_count": null,
   "id": "c57bccea-0829-4463-84e0-90234bf6d264",
   "metadata": {},
   "outputs": [],
   "source": [
    "#!time\n",
    "var outputFilename = \"equities_output.csv\";\n",
    "var field = PriipsPrice.Trade;\n",
    "var latency = new Duration { Seconds = 1 * 60 };\n",
    "\n",
    "using (var fs = new StreamWriter(File.Create(outputFilename))) \n",
    "{\n",
    "    fs.WriteLine($\"Guid,Isin,Instrument_descriptor,Type,ArrivalTime,ArrivalPrice,ArrivalCost,OpenTime,CloseTime,OrderTime,ExecutionTime,Duration (s),Latency (s),ExecutionPrice,Count,OpenPrice,HighPrice,LowPrice,ClosePrice,Vwap,Volume,Ticker,Exchange\");\n",
    "    var channel = ChannelHelpers.GetChannel();\n",
    "    foreach(var record in records)\n",
    "    {\n",
    "        \n",
    "        var ot = DateTime.Parse(record.ORDER_TIMESTAMP).ToUniversalTime();\n",
    "        var et = DateTime.Parse(record.EXECUTION_TIMESTAMP).ToUniversalTime();\n",
    "        if (ot.Day != et.Day || ot.TimeOfDay > et.TimeOfDay)\n",
    "        {\n",
    "            continue;\n",
    "        }\n",
    "        var request = new TickPriipsRequest \n",
    "                                        { \n",
    "                                            Identifier = new Identifier { Exchange = record.OUR_EXCHANGE , Ticker = record.OUR_TICKER},\n",
    "                                            OrderTime = Timestamp.FromDateTime(ot),\n",
    "                                            ExecutionTime = Timestamp.FromDateTime(et),\n",
    "                                            ExecutionPrice = record.EXECUTION_PRICE,\n",
    "                                            Field = field,\n",
    "                                            Latency = latency\n",
    "                                        };\n",
    "\n",
    "        var service = new TickPriipsService.TickPriipsServiceClient(channel);\n",
    "        var call = service.TickPriips(request, headers);\n",
    "        await foreach (var current in call.ResponseStream.ReadAllAsync())\n",
    "        {\n",
    "            var guid = record.GUID;\n",
    "            var ticker = record.OUR_TICKER;\n",
    "            var exchange = record.OUR_EXCHANGE;\n",
    "            var isin = record.ISIN;\n",
    "            var instr_descriptor = record.INSTR_DESC;\n",
    "            var trade_type = record.TRA_TYPE;\n",
    "            var arrivalTime = current.ArrivalTime;\n",
    "            var arrivalPrice = current.ArrivalPrice;\n",
    "            var arrivalCost = current.ArrivalCost;\n",
    "            var openTime = current.OpenTime;\n",
    "            var closeTime = current.CloseTime;\n",
    "            var orderTime = current.OrderTime;\n",
    "            var exectutionTime = current.ExecutionTime;\n",
    "            var duration = current.Duration.Seconds;\n",
    "            var latency = current.Latency.Seconds;\n",
    "            var executionPrice = current.ExecutionPrice;\n",
    "            var count = current.Count;\n",
    "            var openPrice = current.OpenPrice;\n",
    "            var highPrice = current.HighPrice;\n",
    "            var lowPrice = current.LowPrice;\n",
    "            var closePrice = current.ClosePrice;\n",
    "            var vwap = current.Vwap;\n",
    "            var volume = current.Volume;\n",
    "            \n",
    "            if (openPrice > 0) \n",
    "            {\n",
    "                fs.WriteLine($\"{guid},{isin},{instr_descriptor},{trade_type},{arrivalTime},{arrivalPrice},{arrivalCost},{openTime},{closeTime},{orderTime},{exectutionTime},{duration},{latency},{executionPrice},{count},{openPrice},{highPrice},{lowPrice},{closePrice},{vwap},{volume},{ticker},{exchange}\");\n",
    "\n",
    "            }\n",
    "        }\n",
    "    }\n",
    "}\n",
    "Console.WriteLine($\"Done exporting data ({records.Count} records)\");"
   ]
  }
 ],
 "metadata": {
  "kernelspec": {
   "display_name": ".NET (C#)",
   "language": "C#",
   "name": ".net-csharp"
  },
  "language_info": {
   "file_extension": ".cs",
   "mimetype": "text/x-csharp",
   "name": "C#",
   "pygments_lexer": "csharp",
   "version": "9.0"
  }
 },
 "nbformat": 4,
 "nbformat_minor": 5
}
