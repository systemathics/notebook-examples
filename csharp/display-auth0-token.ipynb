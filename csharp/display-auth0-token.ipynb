{
 "cells": [
  {
   "cell_type": "markdown",
   "id": "sublime-brass",
   "metadata": {},
   "source": [
    "# Displaying the auth0 token"
   ]
  },
  {
   "cell_type": "code",
   "execution_count": null,
   "id": "chronic-penny",
   "metadata": {
    "dotnet_interactive": {
     "language": "csharp"
    },
    "vscode": {
     "languageId": "dotnet-interactive.csharp"
    }
   },
   "outputs": [],
   "source": [
    "using System;\n",
    "var token = Environment.GetEnvironmentVariable(\"AUTH0_TOKEN\");\n",
    "display(token);"
   ]
  }
 ],
 "metadata": {
  "interpreter": {
   "hash": "f92b2924b84ff19c1c3dc485f7644d4486f64738191026bf8e6de303969141b5"
  },
  "kernelspec": {
   "display_name": ".NET (C#)",
   "language": "C#",
   "name": ".net-csharp"
  },
  "language_info": {
   "file_extension": ".cs",
   "mimetype": "text/x-csharp",
   "name": "C#",
   "pygments_lexer": "csharp",
   "version": "10.0"
  }
 },
 "nbformat": 4,
 "nbformat_minor": 5
}
