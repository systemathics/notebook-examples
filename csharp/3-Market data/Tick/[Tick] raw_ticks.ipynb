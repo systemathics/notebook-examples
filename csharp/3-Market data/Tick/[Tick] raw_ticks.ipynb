{
 "cells": [
  {
   "cell_type": "markdown",
   "metadata": {},
   "source": [
    "# Export raw tick data using dedicated service - C#\n",
    "\n",
    "### Overview\n",
    "This sample demonstrates how to request from a dedicated raw data service **on-demand** tick by tick data `for a given instrument or a given watchlist`. \n",
    "\n",
    "Raw tick by tick data is the primary data delivred by a specific data provider (exchange, third party, partner, in-house ...) and has not been processed or normalized yet.\n",
    "\n",
    "### Inputs/outputs\n",
    "Tick data extraction sample requires instrument's identifier, date time intervals as per inputs and exports tick by tick data file. \n",
    "\n",
    "### Services used\n",
    "This sample uses *gRPC requests* in order to retrieve tick by tick dataset from the hosted service. The queried endpoint in this script are:\n",
    "* *TickRawService*: to directly retrieve raw dataset from the server.\n",
    "\n",
    "### Packages required\n",
    "1. Systemathics packages:\n",
    "    * *Systemathics.Apis.Type.Shared.V1*\n",
    "    * *Systemathics.Apis.Services.Tick.V1*\n",
    "2. Open source packages\n",
    "    * *Google.Protobuf.WellKnownTypes*\n",
    "    * *Google.Type*\n",
    "    * *Grpc.Net.Client*\n",
    "    * *Grpc.Core*\n",
    "    \n",
    "***"
   ]
  },
  {
   "cell_type": "markdown",
   "metadata": {},
   "source": [
    "# Run tick by tick dataset extraction sample"
   ]
  },
  {
   "cell_type": "markdown",
   "metadata": {},
   "source": [
    "### Step 1: Install packages"
   ]
  },
  {
   "cell_type": "code",
   "execution_count": null,
   "metadata": {
    "dotnet_interactive": {
     "language": "csharp"
    },
    "vscode": {
     "languageId": "dotnet-interactive.csharp"
    }
   },
   "outputs": [],
   "source": [
    "#i \"nuget: file:///home/jovyan/.nuget/packages/\"\n",
    "#i \"nuget: https://api.nuget.org/v3/index.json\"\n",
    "#r \"nuget: Systemathics.Apis\""
   ]
  },
  {
   "cell_type": "code",
   "execution_count": null,
   "metadata": {
    "dotnet_interactive": {
     "language": "csharp"
    },
    "vscode": {
     "languageId": "dotnet-interactive.csharp"
    }
   },
   "outputs": [],
   "source": [
    "using Systemathics.Apis.Helpers;\n",
    "using Systemathics.Apis.Type.Shared.V1;\n",
    "using Google.Protobuf.WellKnownTypes;\n",
    "using Google.Type;\n",
    "using Grpc.Net.Client;\n",
    "using Grpc.Core;\n",
    "using System.IO;\n",
    "using System.Globalization;\n",
    "\n",
    "using TickRawService = Systemathics.Apis.Services.Tick.V1.TickRawService;\n",
    "using TickRawRequest = Systemathics.Apis.Services.Tick.V1.TickRawRequest;\n",
    "using TickRawResponse = Systemathics.Apis.Services.Tick.V1.TickRawResponse;"
   ]
  },
  {
   "cell_type": "markdown",
   "metadata": {},
   "source": [
    "### Step 2: Prepare API requests\n",
    "The following code snippets retrieve authentication token and prepare the API request by: opening the *channel* and adding the *token* to the request header:"
   ]
  },
  {
   "cell_type": "code",
   "execution_count": null,
   "metadata": {
    "dotnet_interactive": {
     "language": "csharp"
    },
    "vscode": {
     "languageId": "dotnet-interactive.csharp"
    }
   },
   "outputs": [],
   "source": [
    "// Get token as metadata\n",
    "var headers = new Grpc.Core.Metadata();\n",
    "try { headers = TokenHelpers.GetTokenAsMetaData(); } catch {}\n",
    "\n",
    "// Create communication channel\n",
    "var channel = ChannelHelpers.GetChannel();"
   ]
  },
  {
   "cell_type": "markdown",
   "metadata": {},
   "source": [
    "### Step 3: Create and process request\n",
    "To request *raw tick data* service, we need to specify instrument identifier and a period of time. The following code snippets ensure required objects are created and proceed to request instantiation."
   ]
  },
  {
   "cell_type": "markdown",
   "metadata": {},
   "source": [
    "#### 3.1 Instrument selection"
   ]
  },
  {
   "cell_type": "code",
   "execution_count": null,
   "metadata": {
    "dotnet_interactive": {
     "language": "csharp"
    },
    "vscode": {
     "languageId": "dotnet-interactive.csharp"
    }
   },
   "outputs": [],
   "source": [
    "var ticker = \"AAPL\";\n",
    "var exchange = \"BATS\";\n",
    "var level = Level.Trades;"
   ]
  },
  {
   "cell_type": "markdown",
   "metadata": {},
   "source": [
    "#### 3.2 Time period delimitation"
   ]
  },
  {
   "cell_type": "code",
   "execution_count": null,
   "metadata": {
    "dotnet_interactive": {
     "language": "csharp"
    },
    "vscode": {
     "languageId": "dotnet-interactive.csharp"
    }
   },
   "outputs": [],
   "source": [
    "// Create time intervals\n",
    "var start = new DateTime(2021, 11, 05);\n",
    "var end = new DateTime(2021, 11, 05);\n",
    "var dateIntervals = new DateInterval()\n",
    "{\n",
    "  StartDate = new Date { Year = start.Year, Month = start.Month, Day = start.Day },\n",
    "  EndDate = new Date { Year = end.Year, Month = end.Month, Day = end.Day }\n",
    "};\n",
    "\n",
    "// Build the market data request time interval (we are using Google date time format : we have to cast the dates)\n",
    "// UTC time zone\n",
    "var timeInterval = new TimeInterval()\n",
    "{\n",
    "     StartTime = new TimeOfDay { Hours = 14, Minutes = 00, Seconds = 00 },\n",
    "     EndTime = new TimeOfDay { Hours = 14, Minutes = 10, Seconds = 00 } \n",
    "};"
   ]
  },
  {
   "cell_type": "markdown",
   "metadata": {},
   "source": [
    "The following code snippets create the market data request and instantiate the service client:"
   ]
  },
  {
   "cell_type": "code",
   "execution_count": null,
   "metadata": {
    "dotnet_interactive": {
     "language": "csharp"
    },
    "vscode": {
     "languageId": "dotnet-interactive.csharp"
    }
   },
   "outputs": [],
   "source": [
    "// Generate constraints based on the previous space selection:\n",
    "var constraints = new Constraints(); \n",
    "constraints.DateIntervals.Add(dateIntervals);\n",
    "constraints.TimeIntervals.Add(timeInterval);\n",
    "\n",
    "// Generate raw tick data request\n",
    "var request = new TickRawRequest() \n",
    "{ \n",
    "    Constraints = constraints\n",
    "};\n",
    "\n",
    "request.Identifiers.Add(new IdentifierAndLevel{ Ticker = ticker, Exchange = exchange, Level = level });\n",
    "\n",
    "// Instantiate the raw tick data service\n",
    "var service = new TickRawService.TickRawServiceClient(channel);"
   ]
  },
  {
   "cell_type": "markdown",
   "metadata": {},
   "source": [
    "### Step 4: Retrieve tick by tick data"
   ]
  },
  {
   "cell_type": "markdown",
   "metadata": {},
   "source": [
    "Tick by tick data is sent through a *stream*, the following code snippet exports tick by tick dataset in a file in the same folder as this sample:"
   ]
  },
  {
   "cell_type": "code",
   "execution_count": null,
   "metadata": {
    "dotnet_interactive": {
     "language": "csharp"
    },
    "vscode": {
     "languageId": "dotnet-interactive.csharp"
    }
   },
   "outputs": [],
   "source": [
    "// Get the tick raw data\n",
    "var call = service.TickRaw(request, headers);\n",
    "\n",
    "// Export tick raw data to a txt file\n",
    "var ticksCount = 0;\n",
    "var d = new DirectoryInfo(\"output\"); if (!d.Exists) { d.Create(); }\n",
    "using (var fs = new StreamWriter(File.OpenWrite($\"output/{ticker}_raw_ticks.csv\")))\n",
    "await foreach (var tickRawResponse in call.ResponseStream.ReadAllAsync())\n",
    "{\n",
    "    if (tickRawResponse.Mapping != null)\n",
    "    {\n",
    "        fs.WriteLine(\"TimeStamp,RAW\");\n",
    "        continue;\n",
    "    }\n",
    "\n",
    "    var raw = tickRawResponse.Raw;\n",
    "    ticksCount++; \n",
    "    var ss = Encoding.ASCII.GetString(raw.Payload.ToByteArray()).Substring(2);\n",
    "    fs.WriteLine($\"{raw.TimeStamp.ToDateTime():O},{ss}\");\n",
    "}"
   ]
  },
  {
   "cell_type": "markdown",
   "metadata": {},
   "source": [
    "The following code snippet is a summary with some metrics about the dateset export: "
   ]
  },
  {
   "cell_type": "code",
   "execution_count": null,
   "metadata": {
    "dotnet_interactive": {
     "language": "csharp"
    },
    "vscode": {
     "languageId": "dotnet-interactive.csharp"
    }
   },
   "outputs": [],
   "source": [
    "Console.WriteLine($\"Start date: {start:yyyy-MM-dd}\");\n",
    "Console.WriteLine($\"Start date: {end:yyyy-MM-dd}\");\n",
    "Console.WriteLine($\"Total ticks retrieved for {ticker}: {ticksCount:N0}\");"
   ]
  }
 ],
 "metadata": {
  "kernelspec": {
   "display_name": ".NET (C#)",
   "language": "C#",
   "name": ".net-csharp"
  },
  "language_info": {
   "file_extension": ".cs",
   "mimetype": "text/x-csharp",
   "name": "C#",
   "pygments_lexer": "csharp",
   "version": "9.0"
  }
 },
 "nbformat": 4,
 "nbformat_minor": 4
}
