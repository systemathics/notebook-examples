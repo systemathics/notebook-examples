{
 "cells": [
  {
   "cell_type": "markdown",
   "metadata": {},
   "source": [
    "# Generate Market Book by Order (MBO) quotes using dedicated service - C#\n",
    "\n",
    "### Overview\n",
    "This sample is designed to request quotes and illustrate full order book messaging.\n",
    "\n",
    "The Market Book by Order (MBO) describes an order-based (or quote-based) data feed that provides the ability to view individual queue position, the full order book (all the depths) and the details of each individual order or quote at each price level.\n",
    "\n",
    "**Note : This sample is not about Market Book by Limit (MBL). For the MBL please refer the notebook [Tick] bbo10_and_trades**\n",
    "\n",
    "### Inputs/outputs\n",
    "Quotes extraction sample requires instrument's identifier, date time intervals as per inputs and returns the occured quotes information.\n",
    "\n",
    "### Services used\n",
    "This sample uses *gRPC requests* in order to retrieve quotes information from the hosted service. The queried endpoint in this script are:\n",
    "* *TickQuotesService*: to directly retrieve quotes data from the server.\n",
    "\n",
    "### Packages required\n",
    "1. Systemathics:\n",
    "    * *Systemathics.Apis.Type.Shared.V1*\n",
    "    * *Systemathics.Apis.Services.Tick.V1*\n",
    "2. Open source:\n",
    "    * *Google.Protobuf.WellKnownTypes*\n",
    "    * *Google.Type*\n",
    "    * *Grpc.Net.Client*\n",
    "    * *Grpc.Core*\n",
    "    \n",
    "***"
   ]
  },
  {
   "cell_type": "markdown",
   "metadata": {},
   "source": [
    "# Run Quotes sample"
   ]
  },
  {
   "cell_type": "markdown",
   "metadata": {},
   "source": [
    "### Step 1: Install packages"
   ]
  },
  {
   "cell_type": "code",
   "execution_count": null,
   "metadata": {
    "dotnet_interactive": {
     "language": "csharp"
    }
   },
   "outputs": [],
   "source": [
    "#r \"nuget: Systemathics.Apis, 0.9.*-pre*\""
   ]
  },
  {
   "cell_type": "code",
   "execution_count": null,
   "metadata": {
    "dotnet_interactive": {
     "language": "csharp"
    }
   },
   "outputs": [],
   "source": [
    "using System.IO;\n",
    "\n",
    "using Systemathics.Apis.Helpers;\n",
    "using Systemathics.Apis.Type.Shared.V1;\n",
    "using Google.Protobuf.WellKnownTypes;\n",
    "using Google.Type;\n",
    "using Grpc.Net.Client;\n",
    "using Grpc.Core;\n",
    "\n",
    "using TickQuotesService = Systemathics.Apis.Services.Tick.V1.TickQuotesService;\n",
    "using TickQuotesRequest = Systemathics.Apis.Services.Tick.V1.TickQuotesRequest;\n",
    "using TickQuotesResponse = Systemathics.Apis.Services.Tick.V1.TickQuotesResponse;\n",
    "using Quote = Systemathics.Apis.Type.Shared.V1.Quote;\n"
   ]
  },
  {
   "cell_type": "markdown",
   "metadata": {},
   "source": [
    "### Step 2: Prepare API requests\n",
    "The following code snippets retrieve authentication token and prepare the API request by: opening the *channel* and adding the *token* to the request header:"
   ]
  },
  {
   "cell_type": "code",
   "execution_count": null,
   "metadata": {
    "dotnet_interactive": {
     "language": "csharp"
    }
   },
   "outputs": [],
   "source": [
    "// Get token as metadata\n",
    "var headers = new Grpc.Core.Metadata();\n",
    "try { headers = TokenHelpers.GetTokenAsMetaData(); } catch {}\n",
    "\n",
    "// Create communication channel\n",
    "var channel = ChannelHelpers.GetChannel();"
   ]
  },
  {
   "cell_type": "markdown",
   "metadata": {},
   "source": [
    "### Step 3: Create and process request\n",
    "To request *tick quotes* service, we need to specify:\n",
    "* Instrument identifier : the ICE code and the source\n",
    "* Time period selection: select start and end dates and time intervals (Using UTC Time Zone)\n",
    "* Tick trades request parameters"
   ]
  },
  {
   "cell_type": "markdown",
   "metadata": {},
   "source": [
    "#### 3.1 Instrument selection"
   ]
  },
  {
   "cell_type": "code",
   "execution_count": null,
   "metadata": {
    "dotnet_interactive": {
     "language": "csharp"
    }
   },
   "outputs": [],
   "source": [
    "// Tha data is provided by ICE : let's use the ICE mapping codes to generate the identifier\n",
    "// The ICE ticker\n",
    "var ticker = \"E:BNP\";\n",
    "// The source for full order book : Euronext\n",
    "var source = \"EQUITY_L2_973\";"
   ]
  },
  {
   "cell_type": "markdown",
   "metadata": {},
   "source": [
    "#### 3.2 Time period delimitation"
   ]
  },
  {
   "cell_type": "code",
   "execution_count": null,
   "metadata": {
    "dotnet_interactive": {
     "language": "csharp"
    }
   },
   "outputs": [],
   "source": [
    "// Create time intervals\n",
    "// Full order book data avaialble (sample) : from 2021-11-01 to 2021-11-12\n",
    "var start = new DateTime(2021, 11, 01);\n",
    "var end = new DateTime(2021, 11, 01);\n",
    "var dateIntervals = new DateInterval()\n",
    "{\n",
    "  StartDate = new Date { Year = start.Year, Month = start.Month, Day = start.Day },\n",
    "  EndDate = new Date { Year = end.Year, Month = end.Month, Day = end.Day }\n",
    "};\n",
    "\n",
    "// Build the tick quotes request time interval (we are using Google date time format)\n",
    "// UTC time zone\n",
    "var timeInterval = new TimeInterval()\n",
    "{\n",
    " StartTime = new TimeOfDay { Hours = 12, Minutes = 00, Seconds = 00 },\n",
    " EndTime = new TimeOfDay { Hours = 20, Minutes = 30, Seconds = 00 } \n",
    "};"
   ]
  },
  {
   "cell_type": "markdown",
   "metadata": {},
   "source": [
    "#### 3.3 Request creation\n",
    "The following code snippet creates *gRPC client*, process request and returns the request reply:"
   ]
  },
  {
   "cell_type": "code",
   "execution_count": null,
   "metadata": {
    "dotnet_interactive": {
     "language": "csharp"
    }
   },
   "outputs": [],
   "source": [
    "// Generate constraints based on the previous time selection\n",
    "var constraints = new Constraints(); \n",
    "constraints.DateIntervals.Add(dateIntervals);\n",
    "constraints.TimeIntervals.Add(timeInterval);"
   ]
  },
  {
   "cell_type": "markdown",
   "metadata": {},
   "source": [
    "The following code snippets create requests for *quotes* and instantiate the service:"
   ]
  },
  {
   "cell_type": "code",
   "execution_count": null,
   "metadata": {
    "dotnet_interactive": {
     "language": "csharp"
    }
   },
   "outputs": [],
   "source": [
    "// Generate the tick quotes request\n",
    "var request = new TickQuotesRequest { Constraints = constraints };\n",
    "var identifier = new Identifier { Exchange = source, Ticker = ticker};\n",
    "request.Identifiers.Add(new [] {identifier}); "
   ]
  },
  {
   "cell_type": "code",
   "execution_count": null,
   "metadata": {
    "dotnet_interactive": {
     "language": "csharp"
    }
   },
   "outputs": [],
   "source": [
    "// Instantiate the tick quotes service client\n",
    "var service = new TickQuotesService.TickQuotesServiceClient(channel);"
   ]
  },
  {
   "cell_type": "markdown",
   "metadata": {},
   "source": [
    "### Step 4: Visualize data"
   ]
  },
  {
   "cell_type": "markdown",
   "metadata": {},
   "source": [
    "#### 4.1 Retrieve quotes data"
   ]
  },
  {
   "cell_type": "markdown",
   "metadata": {},
   "source": [
    "The following code exports quotes to some file"
   ]
  },
  {
   "cell_type": "code",
   "execution_count": null,
   "metadata": {
    "dotnet_interactive": {
     "language": "csharp"
    }
   },
   "outputs": [],
   "source": [
    "// Get the quotes and export data into csv file\n",
    "var call = service.TickQuotes(request, headers);\n",
    "using(var sw = File.CreateText($\"{ticker}_quotes.csv\"))\n",
    "await foreach (var current in call.ResponseStream.ReadAllAsync())\n",
    "{\n",
    "    if (current.Mapping != null)\n",
    "    {\n",
    "        sw.WriteLine(\"TimeStamp,Mapping,ID,Price,Size,Condition\");\n",
    "        foreach(var a in current.Mapping.Values)\n",
    "        {\n",
    "            var i = a.Identifier;\n",
    "            var m = a.Value;\n",
    "            sw.WriteLine($\",{m}=>{i.Provider}/{i.Exchange}/{i.Ticker},,,,\");\n",
    "        }\n",
    "\n",
    "        continue;\n",
    "    }\n",
    "\n",
    "    if (current.Data == null)\n",
    "    {\n",
    "        continue;\n",
    "    }\n",
    "    \n",
    "    // Quotes\n",
    "    var ts = current.Data.TimeStamp;\n",
    "    var mapping = current.Data.Mapping;\n",
    "    foreach (var quote in current.Data.Quotes) \n",
    "    {      \n",
    "        sw.WriteLine($\"{ts},{mapping},{quote.Id},{quote.Price},{quote.Size},{quote.Condition}\");\n",
    "    }\n",
    "}"
   ]
  }
 ],
 "metadata": {
  "kernelspec": {
   "display_name": ".NET (C#)",
   "language": "C#",
   "name": ".net-csharp"
  },
  "language_info": {
   "file_extension": ".cs",
   "mimetype": "text/x-csharp",
   "name": "C#",
   "pygments_lexer": "csharp",
   "version": "9.0"
  }
 },
 "nbformat": 4,
 "nbformat_minor": 4
}
