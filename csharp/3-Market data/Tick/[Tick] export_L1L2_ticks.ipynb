{
 "cells": [
  {
   "cell_type": "markdown",
   "metadata": {},
   "source": [
    "# Export top of the book & trades using dedicated service - C#\n",
    "\n",
    "### Overview\n",
    "Retrieving trades and top of the book data points over a look back period is a valuable indicator to highlight market activity. It can be correlated with a set of technical indicators to better analyze market movements and build a decision making parameter.\n",
    "\n",
    "This sample is designed to request simultaneously trades and top of the book and illustrate market activity over a look back period.\n",
    "\n",
    "<div class=\"alert alert-block alert-info\">\n",
    "    <b>Note:</b> To highlight individual tradres among market activity. Please refer to <i><a href=\"\">bestex-pointintime</a></i> and <i><a href=\"\">bestex-interval</a></i> notebooks.\n",
    "</div>\n",
    "\n",
    "This sample demonstrates how to request and plot from a dedicated data service **on-demand** trades over the time.\n",
    "\n",
    "### Inputs/outputs\n",
    "Trades and best Bid/Ask extraction sample requires instrument's identifier, date time intervals as per inputs and returns top fo the book the occured trades data points.\n",
    "\n",
    "### Services used\n",
    "This sample uses *gRPC requests* in order to retrieve trades and top of the book from the hosted service. The queried endpoint in this script are:\n",
    "* *TickTradesAndBookService*: to directly retrieve trades and top of the book data from the server.\n",
    "\n",
    "### Packages required\n",
    "1. Systemathics packages:\n",
    "    * *Systemathics.Apis.Type.Shared.V1*\n",
    "    * *Systemathics.Apis.Services.Tick.V1*\n",
    "2. Open source packages\n",
    "    * *Google.Protobuf.WellKnownTypes*\n",
    "    * *Google.Type*\n",
    "    * *Grpc.Net.Client*\n",
    "    * *Grpc.Core*\n",
    "    \n",
    "***"
   ]
  },
  {
   "cell_type": "markdown",
   "metadata": {},
   "source": [
    "# Run Top of the book & Trades extraction sample"
   ]
  },
  {
   "cell_type": "markdown",
   "metadata": {},
   "source": [
    "### Step 1: Install packages"
   ]
  },
  {
   "cell_type": "code",
   "execution_count": null,
   "metadata": {
    "dotnet_interactive": {
     "language": "csharp"
    }
   },
   "outputs": [],
   "source": [
    "#i \"nuget: file:///home/jovyan/.nuget/packages/\"\n",
    "#i \"nuget: https://api.nuget.org/v3/index.json\"\n",
    "#r \"nuget: Systemathics.Apis\"\n",
    "#r \"nuget:CsvHelper\""
   ]
  },
  {
   "cell_type": "code",
   "execution_count": null,
   "metadata": {
    "dotnet_interactive": {
     "language": "csharp"
    }
   },
   "outputs": [],
   "source": [
    "using Systemathics.Apis.Helpers;\n",
    "using Systemathics.Apis.Type.Shared.V1;\n",
    "using Systemathics.Apis.Services.Tick.V1;\n",
    "using Google.Protobuf.WellKnownTypes;\n",
    "using Google.Type;\n",
    "using Grpc.Net.Client;\n",
    "using Grpc.Core;\n",
    "// csv extraction\n",
    "using CsvHelper; \n",
    "using CsvHelper.Configuration;\n",
    "using System.IO;\n",
    "using System.Globalization;"
   ]
  },
  {
   "cell_type": "markdown",
   "metadata": {},
   "source": [
    "### Step 2: Prepare API requests\n",
    "The following code snippets retrieve authentication token and prepare the API request by: opening the *channel* and adding the *token* to the request header:"
   ]
  },
  {
   "cell_type": "code",
   "execution_count": null,
   "metadata": {
    "dotnet_interactive": {
     "language": "csharp"
    }
   },
   "outputs": [],
   "source": [
    "// Get token as metadata\n",
    "var headers = TokenHelpers.GetTokenAsMetaData();\n",
    "\n",
    "// Create communication channel\n",
    "var channel = ChannelHelpers.GetChannel();"
   ]
  },
  {
   "cell_type": "markdown",
   "metadata": {},
   "source": [
    "### Step 3: Create and process request\n",
    "To request *tick trades and book* service, we need to specify:\n",
    "* Instrument identifier\n",
    "* Time period selection: select start and end dates\n",
    "* Tick data request parameters"
   ]
  },
  {
   "cell_type": "markdown",
   "metadata": {},
   "source": [
    "#### 3.1 Instrument selection"
   ]
  },
  {
   "cell_type": "code",
   "execution_count": null,
   "metadata": {
    "dotnet_interactive": {
     "language": "csharp"
    }
   },
   "outputs": [],
   "source": [
    "var ticker = \"AAPL\";\n",
    "var exchange = \"BATS\";"
   ]
  },
  {
   "cell_type": "markdown",
   "metadata": {},
   "source": [
    "#### 3.2 Time period delimitation"
   ]
  },
  {
   "cell_type": "code",
   "execution_count": null,
   "metadata": {
    "dotnet_interactive": {
     "language": "csharp"
    }
   },
   "outputs": [],
   "source": [
    "// Create time intervals\n",
    "var start = new DateTime(2021, 03, 05);\n",
    "var end = new DateTime(2021, 03, 05);\n",
    "var dateIntervals = new DateInterval()\n",
    "{\n",
    "    StartDate = new Date { Year = start.Year, Month = start.Month, Day = start.Day },\n",
    "    EndDate = new Date { Year = end.Year, Month = end.Month, Day = end.Day }\n",
    "};\n",
    "\n",
    "// Build the market data request time interval (we are using Google date time format : we have to cast the dates)\n",
    "// UTC time zone\n",
    "var timeInterval = new TimeInterval()\n",
    "{\n",
    "    StartTime = new TimeOfDay { Hours = 14, Minutes = 00, Seconds = 00 },\n",
    "    EndTime = new TimeOfDay { Hours = 15, Minutes = 00, Seconds = 00 }    \n",
    "};"
   ]
  },
  {
   "cell_type": "markdown",
   "metadata": {},
   "source": [
    "#### 3.3 Request creation\n",
    "The following code snippet creates *gRPC client*, process request and returns the request reply:"
   ]
  },
  {
   "cell_type": "code",
   "execution_count": null,
   "metadata": {
    "dotnet_interactive": {
     "language": "csharp"
    }
   },
   "outputs": [],
   "source": [
    "// Generate constraints based on the previous time selection:\n",
    "var constraints = new Constraints(); \n",
    "constraints.DateIntervals.Add(dateIntervals);\n",
    "constraints.TimeIntervals.Add(timeInterval);"
   ]
  },
  {
   "cell_type": "markdown",
   "metadata": {},
   "source": [
    "The following code snippet create the market data request and instantiate the service:"
   ]
  },
  {
   "cell_type": "code",
   "execution_count": null,
   "metadata": {
    "dotnet_interactive": {
     "language": "csharp"
    }
   },
   "outputs": [],
   "source": [
    "// Generate the tick data request\n",
    "var request = new TickTradesAndBookRequest { Constraints = constraints };\n",
    "var identifier = new Identifier { Exchange = exchange, Ticker = ticker };\n",
    "request.Identifiers.Add(new [] {identifier}); \n",
    "\n",
    "// Instantiate the tick data service\n",
    "var service = new TickTradesAndBookService.TickTradesAndBookServiceClient(channel);"
   ]
  },
  {
   "cell_type": "markdown",
   "metadata": {},
   "source": [
    "### Step 4: Export data"
   ]
  },
  {
   "cell_type": "markdown",
   "metadata": {},
   "source": [
    "#### 4.1 Retrieve top of the book & trades"
   ]
  },
  {
   "cell_type": "markdown",
   "metadata": {},
   "source": [
    "The following code snippet set the header fields:"
   ]
  },
  {
   "cell_type": "markdown",
   "metadata": {},
   "source": [
    "The following code snippet stores data points for *trades*, *best bid* and *best ask*:"
   ]
  },
  {
   "cell_type": "code",
   "execution_count": null,
   "metadata": {
    "dotnet_interactive": {
     "language": "csharp"
    }
   },
   "outputs": [],
   "source": [
    "// Process tick data stream service: get price / size / timestamp\n",
    "var data = new List<TradeAndBook>();\n",
    "var call = service.TickTradesAndBook(request, headers);\n",
    "await foreach (var current in call.ResponseStream.ReadAllAsync())\n",
    "{\n",
    "    // Store data only (skip the mapping data)\n",
    "    if (current.Data != null) \n",
    "    {\n",
    "       data.Add(current.Data);\n",
    "    }   \n",
    "}\n",
    "display(data);"
   ]
  },
  {
   "cell_type": "markdown",
   "metadata": {},
   "source": [
    "The following code snippet displays request results count:"
   ]
  },
  {
   "cell_type": "code",
   "execution_count": null,
   "metadata": {
    "dotnet_interactive": {
     "language": "csharp"
    }
   },
   "outputs": [],
   "source": [
    "// Display trade and top the book data points\n",
    "Console.WriteLine($\"Total extracted data: {data.Count:N0} data points\");"
   ]
  },
  {
   "cell_type": "markdown",
   "metadata": {},
   "source": [
    "#### 4.2 Export top of the book & trades"
   ]
  },
  {
   "cell_type": "markdown",
   "metadata": {},
   "source": [
    "The following code snippets export results to *csv file*:"
   ]
  },
  {
   "cell_type": "code",
   "execution_count": null,
   "metadata": {
    "dotnet_interactive": {
     "language": "csharp"
    }
   },
   "outputs": [],
   "source": [
    "public sealed class DataMap : ClassMap<TradeAndBook>\n",
    "{\n",
    "    public DataMap()\n",
    "    {\n",
    "        var i = 0;\n",
    "        \n",
    "        Map(m => m.TimeStamp).Name(\"Timestamp\").Index(i++);\n",
    "    \n",
    "        Map(m => (m.Book != null) ? m.Book.Bid.Price : 0.0).Name(\"Bid Price\").Index(i++);\n",
    "        Map(m => (m.Book != null) ? m.Book.Bid.Size : 0).Name(\"Bid Size\").Index(i++);\n",
    "\n",
    "        Map(m => (m.Book != null) ? m.Book.Ask.Price : 0.0).Name(\"Ask Price\").Index(i++);\n",
    "        Map(m => (m.Book != null) ? m.Book.Ask.Size : 0).Name(\"Ask Size\").Index(i++);\n",
    "        \n",
    "        Map(m => (m.Trade != null) ? m.Trade.Price : 0.0).Name(\"Trade Price\").Index(i++);\n",
    "        Map(m => (m.Trade != null) ? m.Trade.Size : 0).Name(\"Trade Size\").Index(i++);\n",
    "         \n",
    "    }\n",
    "}"
   ]
  },
  {
   "cell_type": "code",
   "execution_count": null,
   "metadata": {
    "dotnet_interactive": {
     "language": "csharp"
    }
   },
   "outputs": [],
   "source": [
    "public sealed class DataMap : ClassMap<TradeAndBook>\n",
    "{\n",
    "    public DataMap()\n",
    "    {\n",
    "        var i = 0;\n",
    "        \n",
    "        Map(m => m.TimeStamp).Name(\"Timestamp\").Index(i++);\n",
    "    \n",
    "        Map(m => m.Book.Bid.Price)?.Name(\"Bid Price\").Index(i++);\n",
    "        Map(m => m.Book.Bid.Size)?.Name(\"Bid Size\").Index(i++);\n",
    "\n",
    "        Map(m => m.Book.Ask.Price)?.Name(\"Ask Price\").Index(i++);\n",
    "        Map(m => m.Book.Ask.Size)?.Name(\"Ask Size\").Index(i++);\n",
    "        \n",
    "        Map(m => m.Trade.Price)?.Name(\"Trade Price\").Index(i++);\n",
    "        Map(m => m.Trade.Size)?.Name(\"Trade Size\").Index(i++); \n",
    "    }\n",
    "}"
   ]
  },
  {
   "cell_type": "code",
   "execution_count": null,
   "metadata": {
    "dotnet_interactive": {
     "language": "csharp"
    }
   },
   "outputs": [],
   "source": [
    "using (var writer = new StreamWriter($\"L1L2_{ticker}.csv\"))\n",
    "using (var csv = new CsvWriter(writer, CultureInfo.InvariantCulture))\n",
    "{\n",
    "    csv.Context.RegisterClassMap<DataMap>();\n",
    "    csv.WriteRecords(data);\n",
    "}"
   ]
  }
 ],
 "metadata": {
  "kernelspec": {
   "display_name": ".NET (C#)",
   "language": "C#",
   "name": ".net-csharp"
  },
  "language_info": {
   "file_extension": ".cs",
   "mimetype": "text/x-csharp",
   "name": "C#",
   "pygments_lexer": "csharp",
   "version": "9.0"
  }
 },
 "nbformat": 4,
 "nbformat_minor": 4
}
