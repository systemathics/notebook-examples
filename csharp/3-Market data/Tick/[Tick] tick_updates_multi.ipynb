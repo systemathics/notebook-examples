{
 "cells": [
  {
   "cell_type": "markdown",
   "metadata": {},
   "source": [
    "# Export tick updates using dedicated service - C#\n",
    "\n",
    "### Overview\n",
    "This sample demonstrates how to request from a dedicated raw data service **on-demand** tick by tick data `for a given instrument on multiple data sources`. \n",
    "\n",
    "### Inputs/outputs\n",
    "Tick data extraction sample requires instrument's identifier, date time intervals as per inputs and exports tick by tick data file. \n",
    "\n",
    "### Services used\n",
    "This sample uses *gRPC requests* in order to retrieve tick by tick dataset from the hosted service. The queried endpoint in this script are:\n",
    "* *TickRawService*: to directly retrieve raw dataset from the server.\n",
    "\n",
    "### Packages required\n",
    "1. Systemathics packages:\n",
    "    * *Systemathics.Apis.Type.Shared.V1*\n",
    "    * *Systemathics.Apis.Services.Tick.V1*\n",
    "2. Open source packages\n",
    "    * *Google.Protobuf.WellKnownTypes*\n",
    "    * *Google.Type*\n",
    "    * *Grpc.Net.Client*\n",
    "    * *Grpc.Core*\n",
    "    \n",
    "***"
   ]
  },
  {
   "cell_type": "markdown",
   "metadata": {},
   "source": [
    "# Run the tick updates extract"
   ]
  },
  {
   "cell_type": "markdown",
   "metadata": {},
   "source": [
    "### Step 1: Install packages"
   ]
  },
  {
   "cell_type": "code",
   "execution_count": null,
   "metadata": {
    "dotnet_interactive": {
     "language": "csharp"
    },
    "vscode": {
     "languageId": "dotnet-interactive.csharp"
    }
   },
   "outputs": [],
   "source": [
    "#i \"nuget: file:///home/jovyan/.nuget/packages/\"\n",
    "#i \"nuget: https://api.nuget.org/v3/index.json\"\n",
    "#r \"nuget: Systemathics.Apis, 2.33.*-pre*\""
   ]
  },
  {
   "cell_type": "code",
   "execution_count": null,
   "metadata": {
    "dotnet_interactive": {
     "language": "csharp"
    },
    "vscode": {
     "languageId": "dotnet-interactive.csharp"
    }
   },
   "outputs": [],
   "source": [
    "using Systemathics.Apis.Helpers;\n",
    "using Systemathics.Apis.Type.Shared.V1;\n",
    "using Google.Protobuf.WellKnownTypes;\n",
    "using Google.Type;\n",
    "using Grpc.Net.Client;\n",
    "using Grpc.Core;\n",
    "using System.IO;\n",
    "using System.Globalization;\n",
    "\n",
    "using MarketFieldUpdate = Systemathics.Apis.Type.Shared.V1.MarketFieldUpdate;\n",
    "using TickUpdatesService = Systemathics.Apis.Services.Tick.V1.TickUpdatesService;\n",
    "using TickUpdatesRequest = Systemathics.Apis.Services.Tick.V1.TickUpdatesRequest;\n",
    "using TickUpdatesResponse = Systemathics.Apis.Services.Tick.V1.TickUpdatesResponse;"
   ]
  },
  {
   "cell_type": "markdown",
   "metadata": {},
   "source": [
    "### Step 2: Prepare API requests\n",
    "The following code snippets retrieve authentication token and prepare the API request by: opening the *channel* and adding the *token* to the request header:"
   ]
  },
  {
   "cell_type": "code",
   "execution_count": null,
   "metadata": {
    "dotnet_interactive": {
     "language": "csharp"
    },
    "vscode": {
     "languageId": "dotnet-interactive.csharp"
    }
   },
   "outputs": [],
   "source": [
    "// Get token as metadata\n",
    "var headers = new Grpc.Core.Metadata();\n",
    "try { headers = TokenHelpers.GetTokenAsMetaData(); } catch {}\n",
    "\n",
    "// Create communication channel\n",
    "var channel = ChannelHelpers.GetChannel();"
   ]
  },
  {
   "cell_type": "markdown",
   "metadata": {},
   "source": [
    "### Step 3: Create and process request\n",
    "To request *raw tick data* service, we need to specify instrument identifier and a period of time. The following code snippets ensure required objects are created and proceed to request instantiation."
   ]
  },
  {
   "cell_type": "markdown",
   "metadata": {},
   "source": [
    "#### 3.1 Instrument selection"
   ]
  },
  {
   "cell_type": "code",
   "execution_count": null,
   "metadata": {
    "dotnet_interactive": {
     "language": "csharp"
    },
    "vscode": {
     "languageId": "dotnet-interactive.csharp"
    }
   },
   "outputs": [],
   "source": [
    "// Tha data is provided by ICE : let's use the ICE mapping codes to generate the identifier\n",
    "// The ICE ticker\n",
    "var ticker = \"E:BNP\";"
   ]
  },
  {
   "cell_type": "markdown",
   "metadata": {},
   "source": [
    "#### 3.2 Time period delimitation"
   ]
  },
  {
   "cell_type": "markdown",
   "metadata": {},
   "source": [
    "The following code setups time constraints"
   ]
  },
  {
   "cell_type": "code",
   "execution_count": null,
   "metadata": {
    "dotnet_interactive": {
     "language": "csharp"
    },
    "vscode": {
     "languageId": "dotnet-interactive.csharp"
    }
   },
   "outputs": [],
   "source": [
    "// Create time intervals\n",
    "// Full order book data avaialble (sample) : from 2021-11-01 to 2021-11-12\n",
    "var start = new DateTime(2021, 11, 01);\n",
    "var end = new DateTime(2021, 11, 01);\n",
    "var dateIntervals = new DateInterval()\n",
    "{\n",
    "  StartDate = new Date { Year = start.Year, Month = start.Month, Day = start.Day },\n",
    "  EndDate = new Date { Year = end.Year, Month = end.Month, Day = end.Day }\n",
    "};\n",
    "\n",
    "// Build the tick quotes request time interval (we are using Google date time format)\n",
    "// UTC time zone\n",
    "var timeInterval = new TimeInterval()\n",
    "{ \n",
    " StartTime = new TimeOfDay { Hours = 12, Minutes = 00, Seconds = 00 },\n",
    " EndTime = new TimeOfDay { Hours = 20, Minutes = 30, Seconds = 00 } \n",
    "};"
   ]
  },
  {
   "cell_type": "markdown",
   "metadata": {},
   "source": [
    "The following code creates the market data request and service client:"
   ]
  },
  {
   "cell_type": "code",
   "execution_count": null,
   "metadata": {
    "dotnet_interactive": {
     "language": "csharp"
    },
    "vscode": {
     "languageId": "dotnet-interactive.csharp"
    }
   },
   "outputs": [],
   "source": [
    "// Generate constraints based on the previous space selection:\n",
    "var constraints = new Constraints(); \n",
    "constraints.DateIntervals.Add(dateIntervals);\n",
    "constraints.TimeIntervals.Add(timeInterval);\n",
    "\n",
    "// Generate raw tick data request\n",
    "var request = new TickUpdatesRequest { Constraints = constraints, Adjustment = false };\n",
    "\n",
    "// We want to stream the ticks from those two Euronext sources (specific to provider \"ICE\")\n",
    "request.Identifiers.Add(new IdentifierAndLevel { Provider = \"ICE\", Ticker = ticker, Exchange = \"EQUITY_L2_973\", Level = Level.TradesAndBook });\n",
    "request.Identifiers.Add(new IdentifierAndLevel { Provider = \"ICE\", Ticker = ticker, Exchange = \"787\", Level = Level.Trades });\n",
    "\n",
    "var serviceClient = new TickUpdatesService.TickUpdatesServiceClient(channel);\n"
   ]
  },
  {
   "cell_type": "markdown",
   "metadata": {},
   "source": [
    "### Step 4: Retrieve tick by tick data"
   ]
  },
  {
   "cell_type": "markdown",
   "metadata": {},
   "source": [
    "Tick by tick data is sent through a *stream*, the following code snippet exports tick by tick dataset in a file in the same folder as this sample:"
   ]
  },
  {
   "cell_type": "code",
   "execution_count": null,
   "metadata": {
    "dotnet_interactive": {
     "language": "csharp"
    },
    "vscode": {
     "languageId": "dotnet-interactive.csharp"
    }
   },
   "outputs": [],
   "source": [
    "// Get the tick raw data\n",
    "var call = serviceClient.TickUpdates(request, headers);\n",
    "\n",
    "// Export tick raw data to a txt file\n",
    "const string Header = \"TimeStamp,Type,Mapping,Action,Side,Price,Size,Depth,OrderId,Condition,Reset,FieldName,FiedType,FieldValue,MessageNumber\";     \n",
    "var messageNumber = 0;\n",
    "var ticksCount = 0;\n",
    "var d = new DirectoryInfo(\"output\"); if (!d.Exists) { d.Create(); }\n",
    "using (var fs = new StreamWriter(File.OpenWrite($\"output/{ticker}_tick_updates_multi.csv\")))\n",
    "await foreach (var item in call.ResponseStream.ReadAllAsync())\n",
    "{\n",
    "    ++messageNumber;\n",
    "\n",
    "    if (item.Mapping != null)\n",
    "    {\n",
    "        await fs.WriteLineAsync(Header);\n",
    "        continue;\n",
    "    }\n",
    "\n",
    "    if (item.MblBookUpdates != null)\n",
    "    {\n",
    "        var itemMblBookUpdates = item.MblBookUpdates;\n",
    "        foreach (var mblMarketBookUpdate in item.MblBookUpdates.Updates)\n",
    "        {\n",
    "            ticksCount++;\n",
    "            await fs.WriteLineAsync($\"{itemMblBookUpdates.TimeStamp.ToDateTime():O},MBL,{itemMblBookUpdates.Mapping},{mblMarketBookUpdate.Action},{mblMarketBookUpdate.Side},{mblMarketBookUpdate.Price},{mblMarketBookUpdate.Size},{mblMarketBookUpdate.Depth},,,{(itemMblBookUpdates.Reset ? \"true\" : string.Empty)},,,,{messageNumber}\");\n",
    "        }\n",
    "    }\n",
    "\n",
    "    if (item.MboBookUpdates != null)\n",
    "    {\n",
    "        var itemMboBookUpdates = item.MboBookUpdates;\n",
    "        foreach (var mboMarketBookUpdate in item.MboBookUpdates.Updates)\n",
    "        {\n",
    "            ticksCount++;\n",
    "            await fs.WriteLineAsync($\"{itemMboBookUpdates.TimeStamp.ToDateTime():O},MBO,{itemMboBookUpdates.Mapping},{mboMarketBookUpdate.Action},{mboMarketBookUpdate.Side},{mboMarketBookUpdate.Price},{mboMarketBookUpdate.Size},,{mboMarketBookUpdate.OrderId},{mboMarketBookUpdate.Condition},{(itemMboBookUpdates.Reset ? \"true\" : string.Empty)},,,,{messageNumber}\");\n",
    "        }\n",
    "    }\n",
    "\n",
    "    if (item.FieldsUpdates != null)\n",
    "    {\n",
    "        var itemFieldsUpdates = item.FieldsUpdates;\n",
    "        foreach (var marketFieldUpdate in item.FieldsUpdates.Updates)\n",
    "        {\n",
    "            ticksCount++;\n",
    "            object fieldValue = null;\n",
    "            var fieldType = string.Empty;\n",
    "            switch (marketFieldUpdate.ValueCase)\n",
    "            {\n",
    "                case MarketFieldUpdate.ValueOneofCase.StringValue:\n",
    "                    fieldType = \"string\";\n",
    "                    fieldValue = marketFieldUpdate.StringValue;\n",
    "                    break;\n",
    "\n",
    "                case MarketFieldUpdate.ValueOneofCase.LongValue:\n",
    "                    fieldType = \"long\";\n",
    "                    fieldValue = marketFieldUpdate.LongValue;\n",
    "                    break;\n",
    "\n",
    "                case MarketFieldUpdate.ValueOneofCase.DoubleValue:\n",
    "                    fieldType = \"double\";\n",
    "                    fieldValue = marketFieldUpdate.DoubleValue;\n",
    "                    break;\n",
    "            }\n",
    "\n",
    "            await fs.WriteLineAsync($\"{itemFieldsUpdates.TimeStamp.ToDateTime():O},FLD,{itemFieldsUpdates.Mapping},{marketFieldUpdate.Action},,,,,,,{(itemFieldsUpdates.Reset ? \"true\" : string.Empty)},{marketFieldUpdate.Field},{fieldType},{fieldValue},{messageNumber}\");\n",
    "        }\n",
    "    }\n",
    "}"
   ]
  },
  {
   "cell_type": "markdown",
   "metadata": {},
   "source": [
    "The following code snippet is a summary with some metrics about the dateset export: "
   ]
  },
  {
   "cell_type": "code",
   "execution_count": null,
   "metadata": {
    "dotnet_interactive": {
     "language": "csharp"
    },
    "vscode": {
     "languageId": "dotnet-interactive.csharp"
    }
   },
   "outputs": [],
   "source": [
    "Console.WriteLine($\"Start date: {start:yyyy-MM-dd}\");\n",
    "Console.WriteLine($\"Start date: {end:yyyy-MM-dd}\");\n",
    "Console.WriteLine($\"Total messages retrieved for {ticker}: {messageNumber:N0}\");\n",
    "Console.WriteLine($\"Total ticks retrieved for {ticker}: {ticksCount:N0}\");"
   ]
  }
 ],
 "metadata": {
  "kernelspec": {
   "display_name": ".NET (C#)",
   "language": "C#",
   "name": ".net-csharp"
  },
  "language_info": {
   "file_extension": ".cs",
   "mimetype": "text/x-csharp",
   "name": "C#",
   "pygments_lexer": "csharp",
   "version": "9.0"
  }
 },
 "nbformat": 4,
 "nbformat_minor": 4
}
