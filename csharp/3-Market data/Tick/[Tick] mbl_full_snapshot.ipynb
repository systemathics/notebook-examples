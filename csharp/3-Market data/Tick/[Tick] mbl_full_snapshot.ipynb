{
 "cells": [
  {
   "cell_type": "markdown",
   "metadata": {},
   "source": [
    "# Generate Market Book by Limit (MBL) limits and trades using dedicated service [Full Snapshot]  - C#\n",
    "\n",
    "### Overview\n",
    "Market Book by Price (MBP) also known as Market Book by Limit (MBL), is the price-based data of the book.\n",
    "MBL restricts updates to a maximum of specified depth price levels and consolidates all the quantity (size) into a single update for each price level, which includes the total quantity (size).\n",
    "\n",
    "**Note : This sample is not about Market Book by Order (MBO). For the MBO please refer the notebook [Tick] quotes**\n",
    "\n",
    "Ganymede can translate streams in the MBO (Market By Order) format to MBL/MBP (Market By Limit, or Market By Price) order book data. \n",
    "In this example we use two well known ICE data sources for Euronext\n",
    "1. One contributes full order book in MBO format (e.g: flat quotes)\n",
    "2. The other contributes trades\n",
    "\n",
    "The MBO flat quoted data is on-the-fly translated to the more easily usable MBL/MBP data (matrix)\n",
    "\n",
    "For more information on MBL/MBP and MBO you can for example read [here](https://www.cmegroup.com/education/market-by-order-mbo.html)\n",
    "\n",
    "### Inputs/outputs\n",
    "Trades and book extraction sample requires several inputs :\n",
    "* instrument identifier\n",
    "* book depth \n",
    "* book update type: in this use-case, the update type is **snapshot only**.\n",
    "* date and time constraints\n",
    "\n",
    "### Services used\n",
    "This sample uses *gRPC requests* in order to retrieve trades and book from the hosted service. The queried endpoint in this script are:\n",
    "* *TickTradesAndBookService*: to directly retrieve trades and book tick data from the server.\n",
    "\n",
    "### Packages required\n",
    "1. Systemathics packages:\n",
    "    * *Systemathics.Apis.Type.Shared.V1*\n",
    "    * *Systemathics.Apis.Services.Tick.V1*\n",
    "2. Open source packages\n",
    "    * *Google.Protobuf.WellKnownTypes*\n",
    "    * *Google.Type*\n",
    "    * *Grpc.Net.Client*\n",
    "    * *Grpc.Core*\n",
    "    \n",
    "***"
   ]
  },
  {
   "cell_type": "markdown",
   "metadata": {},
   "source": [
    "# Run the MBL full snapshot sample"
   ]
  },
  {
   "cell_type": "markdown",
   "metadata": {},
   "source": [
    "### Step 1: Install packages"
   ]
  },
  {
   "cell_type": "code",
   "execution_count": 1,
   "metadata": {
    "dotnet_interactive": {
     "language": "csharp"
    }
   },
   "outputs": [
    {
     "data": {
      "text/html": [
       "\r\n",
       "<div>\r\n",
       "    <div id='dotnet-interactive-this-cell-862.Microsoft.DotNet.Interactive.Http.HttpPort' style='display: none'>\r\n",
       "        The below script needs to be able to find the current output cell; this is an easy method to get it.\r\n",
       "    </div>\r\n",
       "    <script type='text/javascript'>\r\n",
       "async function probeAddresses(probingAddresses) {\r\n",
       "    function timeout(ms, promise) {\r\n",
       "        return new Promise(function (resolve, reject) {\r\n",
       "            setTimeout(function () {\r\n",
       "                reject(new Error('timeout'))\r\n",
       "            }, ms)\r\n",
       "            promise.then(resolve, reject)\r\n",
       "        })\r\n",
       "    }\r\n",
       "\r\n",
       "    if (Array.isArray(probingAddresses)) {\r\n",
       "        for (let i = 0; i < probingAddresses.length; i++) {\r\n",
       "\r\n",
       "            let rootUrl = probingAddresses[i];\r\n",
       "\r\n",
       "            if (!rootUrl.endsWith('/')) {\r\n",
       "                rootUrl = `${rootUrl}/`;\r\n",
       "            }\r\n",
       "\r\n",
       "            try {\r\n",
       "                let response = await timeout(1000, fetch(`${rootUrl}discovery`, {\r\n",
       "                    method: 'POST',\r\n",
       "                    cache: 'no-cache',\r\n",
       "                    mode: 'cors',\r\n",
       "                    timeout: 1000,\r\n",
       "                    headers: {\r\n",
       "                        'Content-Type': 'text/plain'\r\n",
       "                    },\r\n",
       "                    body: probingAddresses[i]\r\n",
       "                }));\r\n",
       "\r\n",
       "                if (response.status == 200) {\r\n",
       "                    return rootUrl;\r\n",
       "                }\r\n",
       "            }\r\n",
       "            catch (e) { }\r\n",
       "        }\r\n",
       "    }\r\n",
       "}\r\n",
       "\r\n",
       "function loadDotnetInteractiveApi() {\r\n",
       "    probeAddresses([\"http://100.64.5.6:1025/\", \"http://127.0.0.1:1025/\"])\r\n",
       "        .then((root) => {\r\n",
       "        // use probing to find host url and api resources\r\n",
       "        // load interactive helpers and language services\r\n",
       "        let dotnetInteractiveRequire = require.config({\r\n",
       "        context: '862.Microsoft.DotNet.Interactive.Http.HttpPort',\r\n",
       "                paths:\r\n",
       "            {\r\n",
       "                'dotnet-interactive': `${root}resources`\r\n",
       "                }\r\n",
       "        }) || require;\r\n",
       "\r\n",
       "            window.dotnetInteractiveRequire = dotnetInteractiveRequire;\r\n",
       "\r\n",
       "            window.configureRequireFromExtension = function(extensionName, extensionCacheBuster) {\r\n",
       "                let paths = {};\r\n",
       "                paths[extensionName] = `${root}extensions/${extensionName}/resources/`;\r\n",
       "                \r\n",
       "                let internalRequire = require.config({\r\n",
       "                    context: extensionCacheBuster,\r\n",
       "                    paths: paths,\r\n",
       "                    urlArgs: `cacheBuster=${extensionCacheBuster}`\r\n",
       "                    }) || require;\r\n",
       "\r\n",
       "                return internalRequire\r\n",
       "            };\r\n",
       "        \r\n",
       "            dotnetInteractiveRequire([\r\n",
       "                    'dotnet-interactive/dotnet-interactive'\r\n",
       "                ],\r\n",
       "                function (dotnet) {\r\n",
       "                    dotnet.init(window);\r\n",
       "                },\r\n",
       "                function (error) {\r\n",
       "                    console.log(error);\r\n",
       "                }\r\n",
       "            );\r\n",
       "        })\r\n",
       "        .catch(error => {console.log(error);});\r\n",
       "    }\r\n",
       "\r\n",
       "// ensure `require` is available globally\r\n",
       "if ((typeof(require) !==  typeof(Function)) || (typeof(require.config) !== typeof(Function))) {\r\n",
       "    let require_script = document.createElement('script');\r\n",
       "    require_script.setAttribute('src', 'https://cdnjs.cloudflare.com/ajax/libs/require.js/2.3.6/require.min.js');\r\n",
       "    require_script.setAttribute('type', 'text/javascript');\r\n",
       "    \r\n",
       "    \r\n",
       "    require_script.onload = function() {\r\n",
       "        loadDotnetInteractiveApi();\r\n",
       "    };\r\n",
       "\r\n",
       "    document.getElementsByTagName('head')[0].appendChild(require_script);\r\n",
       "}\r\n",
       "else {\r\n",
       "    loadDotnetInteractiveApi();\r\n",
       "}\r\n",
       "\r\n",
       "    </script>\r\n",
       "</div>"
      ]
     },
     "metadata": {},
     "output_type": "display_data"
    },
    {
     "data": {
      "text/html": [
       "<div><div></div><div></div><div><strong>Installed Packages</strong><ul><li><span>Systemathics.Apis, 0.9.96-pre</span></li></ul></div></div>"
      ]
     },
     "metadata": {},
     "output_type": "display_data"
    }
   ],
   "source": [
    "#r \"nuget: Systemathics.Apis, 0.9.*-pre*\""
   ]
  },
  {
   "cell_type": "code",
   "execution_count": 2,
   "metadata": {
    "dotnet_interactive": {
     "language": "csharp"
    }
   },
   "outputs": [],
   "source": [
    "using System.IO;\n",
    "using Systemathics.Apis.Helpers;\n",
    "using Systemathics.Apis.Type.Shared.V1;\n",
    "using Google.Protobuf.WellKnownTypes;\n",
    "using Google.Type;\n",
    "using Grpc.Net.Client;\n",
    "using Grpc.Core;\n",
    "\n",
    "using TickTradesAndBookService = Systemathics.Apis.Services.Tick.V1.TickTradesAndBookService;\n",
    "using TickTradesAndBookRequest = Systemathics.Apis.Services.Tick.V1.TickTradesAndBookRequest;\n",
    "using TickTradesAndBookResponse = Systemathics.Apis.Services.Tick.V1.TickTradesAndBookResponse;\n",
    "using Trade = Systemathics.Apis.Type.Shared.V1.Trade;\n",
    "using Book = Systemathics.Apis.Type.Shared.V1.Book;\n",
    "using BookUpdates = Systemathics.Apis.Type.Shared.V1.BookUpdates;"
   ]
  },
  {
   "cell_type": "markdown",
   "metadata": {},
   "source": [
    "### Step 2: Prepare API requests\n",
    "The following code snippets retrieve authentication token and prepare the API request by: opening the *channel* and adding the *token* to the request header:"
   ]
  },
  {
   "cell_type": "code",
   "execution_count": 3,
   "metadata": {
    "dotnet_interactive": {
     "language": "csharp"
    }
   },
   "outputs": [],
   "source": [
    "// Get token as metadata\n",
    "var headers = new Grpc.Core.Metadata();\n",
    "try { headers = TokenHelpers.GetTokenAsMetaData(); } catch {}\n",
    "\n",
    "// Create communication channel\n",
    "var channel = ChannelHelpers.GetChannel();"
   ]
  },
  {
   "cell_type": "markdown",
   "metadata": {},
   "source": [
    "### Step 3: Create and process request\n",
    "To request *tick trades and book* service, we need to specify:\n",
    "* Instrument identifier\n",
    "* Time period selection\n",
    "* Depth\n",
    "* Book update type"
   ]
  },
  {
   "cell_type": "markdown",
   "metadata": {},
   "source": [
    "#### 3.1 Instrument and max depth selection"
   ]
  },
  {
   "cell_type": "code",
   "execution_count": null,
   "metadata": {
    "dotnet_interactive": {
     "language": "csharp"
    }
   },
   "outputs": [],
   "source": [
    "// Tha data is provided by ICE : let's use the ICE mapping codes to generate the identifier\n",
    "// The ICE ticker\n",
    "var ticker = \"E:BNP\";\n",
    "// The book limit : get the top 10 best limits\n",
    "var maxDepth = 100;\n",
    "// The book update type: snapshot only or first snapshot then incremental\n",
    "var updatesType = BookUpdates.SnapshotsOnly;"
   ]
  },
  {
   "cell_type": "markdown",
   "metadata": {},
   "source": [
    "#### 3.2 Time period delimitation"
   ]
  },
  {
   "cell_type": "markdown",
   "metadata": {},
   "source": [
    "Here we select a day and an intraday window of 1 minute width"
   ]
  },
  {
   "cell_type": "code",
   "execution_count": null,
   "metadata": {
    "dotnet_interactive": {
     "language": "csharp"
    }
   },
   "outputs": [],
   "source": [
    "// Create time intervals\n",
    "// Full order book data avaialble (sample) : from 2021-11-01 to 2021-11-12\n",
    "var start = new DateTime(2021, 11, 01);\n",
    "var end = new DateTime(2021, 11, 01);\n",
    "var dateIntervals = new DateInterval()\n",
    "{\n",
    "  StartDate = new Date { Year = start.Year, Month = start.Month, Day = start.Day },\n",
    "  EndDate = new Date { Year = end.Year, Month = end.Month, Day = end.Day }\n",
    "};\n",
    "\n",
    "// Build the tick quotes request time interval (we are using Google date time format)\n",
    "// UTC time zone\n",
    "var timeInterval = new TimeInterval()\n",
    "{\n",
    "     StartTime = new TimeOfDay { Hours = 14, Minutes = 00, Seconds = 51 },\n",
    "     EndTime = new TimeOfDay { Hours = 14, Minutes = 01, Seconds = 00 } \n",
    "};"
   ]
  },
  {
   "cell_type": "markdown",
   "metadata": {},
   "source": [
    "The following code snippet create request for *trades* and *book* data and instantiates the service client"
   ]
  },
  {
   "cell_type": "code",
   "execution_count": null,
   "metadata": {
    "dotnet_interactive": {
     "language": "csharp"
    }
   },
   "outputs": [],
   "source": [
    "// Generate constraints based on the previous time selection\n",
    "var constraints = new Constraints(); \n",
    "constraints.DateIntervals.Add(dateIntervals);\n",
    "constraints.TimeIntervals.Add(timeInterval);\n",
    "\n",
    "// Generate the tick and book request\n",
    "var request = new TickTradesAndBookRequest { \n",
    "    Constraints = constraints, \n",
    "    MaxDepth = maxDepth, \n",
    "    BookUpdates = updatesType,\n",
    "    Adjustment = false\n",
    " };\n",
    "\n",
    "// We want to stream the ticks from those two Euronext sources (specific to provider \"ICE\")\n",
    "request.Identifiers.Add(new IdentifierAndLevel { Provider = \"ICE\", Ticker = ticker, Exchange = \"EQUITY_L2_973\" /* this source is MBO/FOB Euronext */, Level = Level.TradesAndBook });\n",
    "request.Identifiers.Add(new IdentifierAndLevel { Provider = \"ICE\", Ticker = ticker, Exchange = \"787\" /* this source is trades only Euronext */, Level = Level.Trades });\n",
    "\n",
    "// Instantiate the tick quotes service client\n",
    "var serviceClient = new TickTradesAndBookService.TickTradesAndBookServiceClient(channel);"
   ]
  },
  {
   "cell_type": "markdown",
   "metadata": {},
   "source": [
    "### Step 4: Retrieve data"
   ]
  },
  {
   "cell_type": "markdown",
   "metadata": {},
   "source": [
    "#### 4.1 Retrieve book & trades"
   ]
  },
  {
   "cell_type": "markdown",
   "metadata": {},
   "source": [
    "We basically receive 2 types of data in the reponse\n",
    "1. Trade data (price, size, trade id and trade condition)\n",
    "2. Book data (a list of up to *maxDepth* limits on booth Bid and Ask sides of the book)\n",
    "\n",
    "The following code exports to a file the time increasing trade (scalar) or book data (matrix)"
   ]
  },
  {
   "cell_type": "code",
   "execution_count": null,
   "metadata": {
    "dotnet_interactive": {
     "language": "csharp"
    }
   },
   "outputs": [],
   "source": [
    "// Get the book and trades and export data into text file\n",
    "var call = serviceClient.TickTradesAndBook(request, headers);\n",
    "using (var t = new StreamWriter(File.OpenWrite($\"{ticker}_mbl_full_snapshot.txt\")))\n",
    "await foreach (var item in call.ResponseStream.ReadAllAsync())\n",
    "{\n",
    "    if (item.Mapping != null)\n",
    "    {\n",
    "        var mapping = item.Mapping;\n",
    "        foreach(var a in mapping.Values)\n",
    "        {\n",
    "            t.WriteLine($\"# {a.Value} => {a.Identifier.Provider}/{a.Identifier.Exchange}/{a.Identifier.Ticker}\");\n",
    "        }\n",
    "\n",
    "        continue;\n",
    "    }\n",
    "\n",
    "    var ts = item.Data.TimeStamp.ToDateTime();\n",
    "\n",
    "    if (item.Data.Book != null)\n",
    "    {\n",
    "        var book = item.Data.Book;   \n",
    "        var header = $\"{ts:O} [{item.Data.Mapping}] [BOOK]\";\n",
    "        t.WriteLine();\n",
    "        t.WriteLine(header);\n",
    "        var maxDepth = Math.Max(book.Bid.Count, book.Ask.Count);\n",
    "        for (var depth = 0; depth < maxDepth; depth++)\n",
    "        {\n",
    "            var bidPrice = depth < book.Bid.Count ? $\"{book.Bid[depth].Price:N4}\" : string.Empty;\n",
    "            var bidSize = depth < book.Bid.Count ? $\"{book.Bid[depth].Size:N0}\" : string.Empty;\n",
    "            var askPrice = depth < book.Ask.Count ? $\"{book.Ask[depth].Price:N4}\" : string.Empty;\n",
    "            var askSize = depth < book.Ask.Count ? $\"{book.Ask[depth].Size:N0}\" : string.Empty;\n",
    "            var f = $\"{bidSize, 10} {bidPrice, 10} {askPrice, 10} {askSize, 10}\";\n",
    "            t.WriteLine(f);\n",
    "        }\n",
    "\n",
    "        continue;\n",
    "    }\n",
    "\n",
    "    if (item.Data.Trade != null)\n",
    "    {\n",
    "        var trade = item.Data.Trade;\n",
    "        var header = $\"{ts:O} [{item.Data.Mapping}] [TRADE]\";\n",
    "        t.WriteLine();\n",
    "        t.WriteLine(header);\n",
    "        t.WriteLine($\"{trade.Size}@{trade.Price} Id={trade.Id} Condition={trade.Condition}\");\n",
    "        continue;\n",
    "    }\n",
    "}"
   ]
  }
 ],
 "metadata": {
  "kernelspec": {
   "display_name": ".NET (C#)",
   "language": "C#",
   "name": ".net-csharp"
  },
  "language_info": {
   "file_extension": ".cs",
   "mimetype": "text/x-csharp",
   "name": "C#",
   "pygments_lexer": "csharp",
   "version": "9.0"
  }
 },
 "nbformat": 4,
 "nbformat_minor": 4
}
