{
 "cells": [
  {
   "cell_type": "markdown",
   "metadata": {},
   "source": [
    "# Full order book and trades - C#\n",
    "\n",
    "### Overview\n",
    "Ganymede can translate streams in the MBO (Market By Order) format to MBL/MBP (Market By Limit, or Market By Price) order book data. \n",
    "In this example we use two well known ICE data sources for Euronext\n",
    "1. One contributes full order book in MBO format (e.g: flat quotes)\n",
    "2. The other contributes trades\n",
    "\n",
    "The MBO flat quoted data is on-the-fly translated to the more easily usable MBL/MBP data (matrix)\n",
    "\n",
    "For more information on MBL/MBP and MBO you can for example read [here](https://www.cmegroup.com/education/market-by-order-mbo.html)\n",
    "\n",
    "### Services used\n",
    "This sample uses *gRPC requests* in order to retrieve trades and book from the hosted service. The queried endpoint in this script are:\n",
    "* *TickTradesAndBookService*: to directly retrieve trades and book tick data from the server.\n",
    "\n",
    "### Packages required\n",
    "1. Systemathics packages:\n",
    "    * *Systemathics.Apis.Type.Shared.V1*\n",
    "    * *Systemathics.Apis.Services.Tick.V2*\n",
    "2. Open source packages\n",
    "    * *Google.Protobuf.WellKnownTypes*\n",
    "    * *Google.Type*\n",
    "    * *Grpc.Net.Client*\n",
    "    * *Grpc.Core*\n",
    "    * *XPlot.Plotly* as per display package\n",
    "    \n",
    "***"
   ]
  },
  {
   "cell_type": "markdown",
   "metadata": {},
   "source": [
    "# Run the sample"
   ]
  },
  {
   "cell_type": "markdown",
   "metadata": {},
   "source": [
    "### Step 1: Install packages"
   ]
  },
  {
   "cell_type": "code",
   "execution_count": null,
   "metadata": {
    "dotnet_interactive": {
     "language": "csharp"
    }
   },
   "outputs": [],
   "source": [
    "#r \"nuget: Systemathics.Apis\""
   ]
  },
  {
   "cell_type": "code",
   "execution_count": null,
   "metadata": {
    "dotnet_interactive": {
     "language": "csharp"
    }
   },
   "outputs": [],
   "source": [
    "using System.IO;\n",
    "using Systemathics.Apis.Helpers;\n",
    "using Systemathics.Apis.Type.Shared.V1;\n",
    "using Google.Protobuf.WellKnownTypes;\n",
    "using Google.Type;\n",
    "using Grpc.Net.Client;\n",
    "using Grpc.Core;\n",
    "\n",
    "using TickTradesAndBookService = Systemathics.Apis.Services.Tick.V2.TickTradesAndBookService;\n",
    "using TickTradesAndBookRequest = Systemathics.Apis.Services.Tick.V2.TickTradesAndBookRequest;\n",
    "using TickTradesAndBookResponse = Systemathics.Apis.Services.Tick.V2.TickTradesAndBookResponse;\n",
    "using Trade = Systemathics.Apis.Type.Shared.V2.Trade;\n",
    "using Book = Systemathics.Apis.Type.Shared.V2.Book;\n",
    "using BookUpdates = Systemathics.Apis.Type.Shared.V2.BookUpdates;"
   ]
  },
  {
   "cell_type": "markdown",
   "metadata": {},
   "source": [
    "### Step 2: Prepare API requests\n",
    "The following code snippets retrieve authentication token and prepare the API request by: opening the *channel* and adding the *token* to the request header:"
   ]
  },
  {
   "cell_type": "code",
   "execution_count": null,
   "metadata": {
    "dotnet_interactive": {
     "language": "csharp"
    }
   },
   "outputs": [],
   "source": [
    "// Get token as metadata\n",
    "var headers = new Grpc.Core.Metadata();\n",
    "try { headers = TokenHelpers.GetTokenAsMetaData(); } catch {}\n",
    "\n",
    "// Create communication channel\n",
    "var channel = ChannelHelpers.GetChannel();"
   ]
  },
  {
   "cell_type": "markdown",
   "metadata": {},
   "source": [
    "### Step 3: Create and process request\n",
    "To request *tick trades and book* service, we need to specify:\n",
    "* Instrument identifier\n",
    "* Time period selection: select start and end dates\n",
    "* Tick data request parameters"
   ]
  },
  {
   "cell_type": "markdown",
   "metadata": {},
   "source": [
    "#### 3.1 Instrument and max depth selection"
   ]
  },
  {
   "cell_type": "code",
   "execution_count": null,
   "metadata": {
    "dotnet_interactive": {
     "language": "csharp"
    }
   },
   "outputs": [],
   "source": [
    "var ticker = \"E:BNP\";\n",
    "var maxDepth = 10; // Instruct the book builder to only deliver the 10 topmost limits on each side of the book (parameter)"
   ]
  },
  {
   "cell_type": "markdown",
   "metadata": {},
   "source": [
    "#### 3.2 Time period delimitation"
   ]
  },
  {
   "cell_type": "markdown",
   "metadata": {},
   "source": [
    "Here we select a day and an intraday window of 1 minute width"
   ]
  },
  {
   "cell_type": "code",
   "execution_count": null,
   "metadata": {
    "dotnet_interactive": {
     "language": "csharp"
    }
   },
   "outputs": [],
   "source": [
    "var start = new DateTime(2021, 11, 01);\n",
    "var end = new DateTime(2021, 11, 01);\n",
    "var dateIntervals = new DateInterval()\n",
    "{\n",
    "  StartDate = new Date { Year = start.Year, Month = start.Month, Day = start.Day },\n",
    "  EndDate = new Date { Year = end.Year, Month = end.Month, Day = end.Day }\n",
    "};\n",
    "\n",
    "var timeInterval = new TimeInterval()\n",
    "{\n",
    "     StartTime = new TimeOfDay { Hours = 14, Minutes = 00, Seconds = 51 },\n",
    "     EndTime = new TimeOfDay { Hours = 14, Minutes = 01, Seconds = 00 } \n",
    "};"
   ]
  },
  {
   "cell_type": "markdown",
   "metadata": {},
   "source": [
    "The following code snippet create request for *trades* and *book* data and instantiates the service client"
   ]
  },
  {
   "cell_type": "code",
   "execution_count": null,
   "metadata": {
    "dotnet_interactive": {
     "language": "csharp"
    }
   },
   "outputs": [],
   "source": [
    "var constraints = new Constraints(); \n",
    "constraints.DateIntervals.Add(dateIntervals);\n",
    "constraints.TimeIntervals.Add(timeInterval);\n",
    "\n",
    "var request = new TickTradesAndBookRequest { \n",
    "    Constraints = constraints, \n",
    "    MaxDepth = maxDepth, \n",
    "    BookUpdates = BookUpdates.SnapshotsOnly,\n",
    "    Adjustment = false\n",
    " };\n",
    "\n",
    "// We want to stream the ticks from those two Euronext sources (specific to provider \"ICE\")\n",
    "request.Identifiers.Add(new IdentifierAndLevel { Provider = \"ICE\", Ticker = ticker, Exchange = \"EQUITY_L2_973\" /* this source is MBO/FOB Euronext */, Level = Level.TradesAndBook });\n",
    "request.Identifiers.Add(new IdentifierAndLevel { Provider = \"ICE\", Ticker = ticker, Exchange = \"787\" /* this source is trades only Euronext */, Level = Level.Trades });\n",
    "\n",
    "var serviceClient = new TickTradesAndBookService.TickTradesAndBookServiceClient(channel);"
   ]
  },
  {
   "cell_type": "markdown",
   "metadata": {},
   "source": [
    "### Step 4: Retrieve data"
   ]
  },
  {
   "cell_type": "markdown",
   "metadata": {},
   "source": [
    "#### 4.1 Retrieve book & trades"
   ]
  },
  {
   "cell_type": "markdown",
   "metadata": {},
   "source": [
    "We basically receive 2 types of data in the reponse\n",
    "1. Trade data (price, size, trade id and trade condition)\n",
    "2. Book data (a list of up to *maxDepth* limits on booth Bid and Ask sides of the book)\n",
    "\n",
    "The following code exports to a file the time increasing trade (scalar) or book data (matrix)"
   ]
  },
  {
   "cell_type": "code",
   "execution_count": null,
   "metadata": {
    "dotnet_interactive": {
     "language": "csharp"
    }
   },
   "outputs": [],
   "source": [
    "var call = serviceClient.TickTradesAndBook(request, headers);\n",
    "using (var t = new StreamWriter(File.OpenWrite($\"{ticker}_bbo{maxDepth}_and_trades.txt\")))\n",
    "await foreach (var item in call.ResponseStream.ReadAllAsync())\n",
    "{\n",
    "    if (item.Mapping != null)\n",
    "    {\n",
    "        var mapping = item.Mapping;\n",
    "        foreach(var a in mapping.Values)\n",
    "        {\n",
    "            t.WriteLine($\"# {a.Value} => {a.Identifier.Provider}/{a.Identifier.Exchange}/{a.Identifier.Ticker}\");\n",
    "        }\n",
    "\n",
    "        continue;\n",
    "    }\n",
    "\n",
    "    var ts = item.Data.TimeStamp.ToDateTime();\n",
    "\n",
    "    if (item.Data.Book != null)\n",
    "    {\n",
    "        var book = item.Data.Book;   \n",
    "        var header = $\"{ts:O} [{item.Data.Mapping}] [BOOK]\";\n",
    "        t.WriteLine();\n",
    "        t.WriteLine(header);\n",
    "        var maxDepth = Math.Max(book.Bid.Count, book.Ask.Count);\n",
    "        for (var depth = 0; depth < maxDepth; depth++)\n",
    "        {\n",
    "            var bidPrice = depth < book.Bid.Count ? $\"{book.Bid[depth].Price:N4}\" : string.Empty;\n",
    "            var bidSize = depth < book.Bid.Count ? $\"{book.Bid[depth].Size:N0}\" : string.Empty;\n",
    "            var askPrice = depth < book.Ask.Count ? $\"{book.Ask[depth].Price:N4}\" : string.Empty;\n",
    "            var askSize = depth < book.Ask.Count ? $\"{book.Ask[depth].Size:N0}\" : string.Empty;\n",
    "            var f = $\"{bidSize, 10} {bidPrice, 10} {askPrice, 10} {askSize, 10}\";\n",
    "            t.WriteLine(f);\n",
    "        }\n",
    "\n",
    "        continue;\n",
    "    }\n",
    "\n",
    "    if (item.Data.Trade != null)\n",
    "    {\n",
    "        var trade = item.Data.Trade;\n",
    "        var header = $\"{ts:O} [{item.Data.Mapping}] [TRADE]\";\n",
    "        t.WriteLine();\n",
    "        t.WriteLine(header);\n",
    "        t.WriteLine($\"{trade.Size}@{trade.Price} Id={trade.Id} Condition={trade.Condition}\");\n",
    "        continue;\n",
    "    }\n",
    "}"
   ]
  }
 ],
 "metadata": {
  "kernelspec": {
   "display_name": ".NET (C#)",
   "language": "C#",
   "name": ".net-csharp"
  },
  "language_info": {
   "file_extension": ".cs",
   "mimetype": "text/x-csharp",
   "name": "C#",
   "pygments_lexer": "csharp",
   "version": "9.0"
  }
 },
 "nbformat": 4,
 "nbformat_minor": 4
}
