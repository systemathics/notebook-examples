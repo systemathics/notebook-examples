{
 "cells": [
  {
   "cell_type": "markdown",
   "metadata": {},
   "source": [
    "# Generate top of the book & trades using dedicated service - C#\n",
    "\n",
    "### Overview\n",
    "Retrieving trades and top of the book data points over a look back period is a valuable indicator to highlight market activity. It can be correlated with a set of technical indicators to better analyze market movements and build a decision making parameter.\n",
    "\n",
    "This sample is designed to request simultaneously trades and top of the book and illustrate market activity over a look back period.\n",
    "\n",
    "This sample demonstrates how to request and plot from a dedicated data service **on-demand** trades and best bid/ask over the time.\n",
    "\n",
    "### Inputs/outputs\n",
    "Trades and best Bid/Ask extraction sample requires instrument's identifier, date time intervals as per inputs and returns top fo the book the occured trades data points.\n",
    "\n",
    "### Services used\n",
    "This sample uses *gRPC requests* in order to retrieve trades and top of the book from the hosted service. The queried endpoint in this script are:\n",
    "* *TickTradesAndBookService*: to directly retrieve trades and top of the book tick data from the server.\n",
    "\n",
    "### Packages required\n",
    "1. Systemathics packages:\n",
    "    * *Systemathics.Apis.Type.Shared.V1*\n",
    "    * *Systemathics.Apis.Services.Tick.V1*\n",
    "2. Open source packages\n",
    "    * *Google.Protobuf.WellKnownTypes*\n",
    "    * *Google.Type*\n",
    "    * *Grpc.Net.Client*\n",
    "    * *Grpc.Core*\n",
    "    * *XPlot.Plotly* as per display package\n",
    "    \n",
    "***"
   ]
  },
  {
   "cell_type": "markdown",
   "metadata": {},
   "source": [
    "# Run Top of the book & Trades sample"
   ]
  },
  {
   "cell_type": "markdown",
   "metadata": {},
   "source": [
    "### Step 1: Install packages"
   ]
  },
  {
   "cell_type": "code",
   "execution_count": null,
   "metadata": {
    "dotnet_interactive": {
     "language": "csharp"
    }
   },
   "outputs": [],
   "source": [
    "#i \"nuget: file:///home/jovyan/.nuget/packages/\"\n",
    "#i \"nuget: https://api.nuget.org/v3/index.json\"\n",
    "#r \"nuget: Systemathics.Apis\"\n",
    "#r \"nuget: XPlot.Plotly.Interactive\""
   ]
  },
  {
   "cell_type": "code",
   "execution_count": null,
   "metadata": {
    "dotnet_interactive": {
     "language": "csharp"
    }
   },
   "outputs": [],
   "source": [
    "using Systemathics.Apis.Helpers;\n",
    "using Systemathics.Apis.Type.Shared.V1;\n",
    "using Systemathics.Apis.Services.Tick.V1;\n",
    "using Google.Protobuf.WellKnownTypes;\n",
    "using Google.Type;\n",
    "using Grpc.Net.Client;\n",
    "using Grpc.Core;\n",
    "using XPlot.Plotly;\n",
    "using XPlot.Plotly.Interactive;"
   ]
  },
  {
   "cell_type": "markdown",
   "metadata": {},
   "source": [
    "### Step 2: Prepare API requests\n",
    "The following code snippets retrieve authentication token and prepare the API request by: opening the *channel* and adding the *token* to the request header:"
   ]
  },
  {
   "cell_type": "code",
   "execution_count": null,
   "metadata": {
    "dotnet_interactive": {
     "language": "csharp"
    }
   },
   "outputs": [],
   "source": [
    "// Get token as metadata\n",
    "var headers = TokenHelpers.GetTokenAsMetaData();\n",
    "\n",
    "// Create communication channel\n",
    "var channel = ChannelHelpers.GetChannel();"
   ]
  },
  {
   "cell_type": "markdown",
   "metadata": {},
   "source": [
    "### Step 3: Create and process request\n",
    "To request *tick trades and book* service, we need to specify:\n",
    "* Instrument identifier\n",
    "* Time period selection: select start and end dates\n",
    "* Tick data request parameters"
   ]
  },
  {
   "cell_type": "markdown",
   "metadata": {},
   "source": [
    "#### 3.1 Instrument selection"
   ]
  },
  {
   "cell_type": "code",
   "execution_count": null,
   "metadata": {
    "dotnet_interactive": {
     "language": "csharp"
    }
   },
   "outputs": [],
   "source": [
    "var ticker = \"AAPL\";\n",
    "var exchange = \"BATS\";"
   ]
  },
  {
   "cell_type": "markdown",
   "metadata": {},
   "source": [
    "#### 3.2 Time period delimitation"
   ]
  },
  {
   "cell_type": "code",
   "execution_count": null,
   "metadata": {
    "dotnet_interactive": {
     "language": "csharp"
    }
   },
   "outputs": [],
   "source": [
    "// Create time intervals\n",
    "var start = new DateTime(2021, 03, 05);\n",
    "var end = new DateTime(2021, 03, 05);\n",
    "var dateIntervals = new DateInterval()\n",
    "{\n",
    "  StartDate = new Date { Year = start.Year, Month = start.Month, Day = start.Day },\n",
    "  EndDate = new Date { Year = end.Year, Month = end.Month, Day = end.Day }\n",
    "};\n",
    "\n",
    "// Build the market data request time interval (we are using Google date time format : we have to cast the dates)\n",
    "// UTC time zone\n",
    "var timeInterval = new TimeInterval()\n",
    "{\n",
    "     StartTime = new TimeOfDay { Hours = 14, Minutes = 00, Seconds = 00 },\n",
    "     EndTime = new TimeOfDay { Hours = 14, Minutes = 30, Seconds = 00 } \n",
    "};"
   ]
  },
  {
   "cell_type": "markdown",
   "metadata": {},
   "source": [
    "#### 3.3 Request creation\n",
    "The following code snippet creates *gRPC client*, process request and returns the request reply:"
   ]
  },
  {
   "cell_type": "code",
   "execution_count": null,
   "metadata": {
    "dotnet_interactive": {
     "language": "csharp"
    }
   },
   "outputs": [],
   "source": [
    "// Generate constraints based on the previous time selection:\n",
    "var constraints = new Constraints(); \n",
    "constraints.DateIntervals.Add(dateIntervals);\n",
    "constraints.TimeIntervals.Add(timeInterval);"
   ]
  },
  {
   "cell_type": "markdown",
   "metadata": {},
   "source": [
    "The following code snippets create requests for *trades* and *top of the book* data and instantiates the service:"
   ]
  },
  {
   "cell_type": "code",
   "execution_count": null,
   "metadata": {
    "dotnet_interactive": {
     "language": "csharp"
    }
   },
   "outputs": [],
   "source": [
    "// Generate the tick trades and book request\n",
    "var request = new TickTradesAndBookRequest{ Constraints = constraints };\n",
    "var identifier = new Identifier { Exchange = exchange, Ticker = ticker};\n",
    "request.Identifiers.Add(new [] {identifier}); "
   ]
  },
  {
   "cell_type": "code",
   "execution_count": null,
   "metadata": {
    "dotnet_interactive": {
     "language": "csharp"
    }
   },
   "outputs": [],
   "source": [
    "// Instantiate the tick trades and book service\n",
    "var service = new TickTradesAndBookService.TickTradesAndBookServiceClient(channel);"
   ]
  },
  {
   "cell_type": "markdown",
   "metadata": {},
   "source": [
    "### Step 4: Visualize data"
   ]
  },
  {
   "cell_type": "markdown",
   "metadata": {},
   "source": [
    "#### 4.1 Retrieve top of the book & trades"
   ]
  },
  {
   "cell_type": "code",
   "execution_count": null,
   "metadata": {
    "dotnet_interactive": {
     "language": "csharp"
    }
   },
   "outputs": [],
   "source": [
    "// Get the trades and the book limits\n",
    "var trades = new List<Trade>();\n",
    "var book = new List<BookLimit>();\n",
    "\n",
    "var call = service.TickTradesAndBook(request, headers);\n",
    "await foreach (var current in call.ResponseStream.ReadAllAsync())\n",
    "{\n",
    "    if(current.Data == null)\n",
    "    {\n",
    "        // Skip the mapping data\n",
    "        continue;\n",
    "    }\n",
    "    // Trade\n",
    "    if (current.Data.Trade != null) \n",
    "    {      \n",
    "       trades.Add(current.Data.Trade);\n",
    "    }\n",
    "    \n",
    "    if (current.Data.Book != null) \n",
    "    {      \n",
    "       book.Add(current.Data.Book);\n",
    "    }\n",
    "}\n",
    "// Display data\n",
    "//display(trades);\n",
    "//display(book);"
   ]
  },
  {
   "cell_type": "markdown",
   "metadata": {},
   "source": [
    "#### 4.2 Plot top of the book & trade prices\n",
    "Display *best bid*, *best ask* and *trade prices* over the look back period with the package of your choice.<br>*`XPlot.Plotly`* is used as per open source display package.\n",
    "Plot a simple line graph with the prices as follows: "
   ]
  },
  {
   "cell_type": "code",
   "execution_count": null,
   "metadata": {
    "dotnet_interactive": {
     "language": "csharp"
    }
   },
   "outputs": [],
   "source": [
    "// Plot simultaneously Bid, Ask and trade prices\n",
    "var bidAskTradePrices = new List<Scattergl>\n",
    "{\n",
    "    new Scattergl\n",
    "    {\n",
    "        name = \"AskPrice\",\n",
    "        mode = \"lines\",\n",
    "        x = book.Select(elt => elt.TimeStamp.ToDateTime()),\n",
    "        y = book.Select(elt => elt.Ask.Price)\n",
    "    },\n",
    "    new Scattergl\n",
    "    {\n",
    "        name = \"BidPrice\",\n",
    "        mode = \"lines\",\n",
    "        x = book.Select(elt => elt.TimeStamp.ToDateTime()),\n",
    "        y = book.Select(elt => elt.Bid.Price)\n",
    "    },\n",
    "    new Scattergl\n",
    "    {\n",
    "        name = \"TradePrice\",\n",
    "        mode = \"lines\",\n",
    "        x = trades.Select(elt => elt.TimeStamp.ToDateTime()),\n",
    "        y = trades.Select(elt => elt.Price)\n",
    "    }\n",
    "};\n",
    "var chart = Chart.Plot(bidAskTradePrices);\n",
    "chart.WithTitle($\"Bid/Ask and trade prices for {ticker}\");\n",
    "chart.WithXTitle($\"Time\");\n",
    "chart.WithYTitle($\"Price\");\n",
    "chart.Width = 1500;\n",
    "chart.Height = 800;\n",
    "display(chart);"
   ]
  },
  {
   "cell_type": "code",
   "execution_count": null,
   "metadata": {
    "dotnet_interactive": {
     "language": "csharp"
    }
   },
   "outputs": [],
   "source": [
    "// Plot simultaneously Bid, Ask and trade sizes\n",
    "var bidAskTradeSizes = new List<Scattergl>\n",
    "{\n",
    "    new Scattergl\n",
    "    {\n",
    "        name = \"AskSize\",\n",
    "        mode = \"lines\",\n",
    "        x = book.Select(elt => elt.TimeStamp.ToDateTime()),\n",
    "        y = book.Select(elt => -elt.Ask.Size)\n",
    "    },\n",
    "    new Scattergl\n",
    "    {\n",
    "        name = \"BidSize\",\n",
    "        mode = \"lines\",\n",
    "        x = book.Select(elt => elt.TimeStamp.ToDateTime()),\n",
    "        y = book.Select(elt => elt.Bid.Size)\n",
    "    },\n",
    "    new Scattergl\n",
    "    {\n",
    "        name = \"TradeSize\",\n",
    "        mode = \"markers\",\n",
    "        x = trades.Select(elt => elt.TimeStamp.ToDateTime()),\n",
    "        y = trades.Select(elt => elt.Size)\n",
    "    }\n",
    "};\n",
    "var chart = Chart.Plot(bidAskTradeSizes);\n",
    "chart.WithTitle($\"Bid/Ask and trade sizes for {ticker}\");\n",
    "chart.WithXTitle($\"Time\");\n",
    "chart.WithYTitle($\"Size\");\n",
    "chart.Width = 1500;\n",
    "chart.Height = 800;\n",
    "display(chart);"
   ]
  }
 ],
 "metadata": {
  "kernelspec": {
   "display_name": ".NET (C#)",
   "language": "C#",
   "name": ".net-csharp"
  },
  "language_info": {
   "file_extension": ".cs",
   "mimetype": "text/x-csharp",
   "name": "C#",
   "pygments_lexer": "csharp",
   "version": "9.0"
  }
 },
 "nbformat": 4,
 "nbformat_minor": 4
}
