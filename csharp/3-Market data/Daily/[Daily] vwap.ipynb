{
 "cells": [
  {
   "cell_type": "markdown",
   "metadata": {},
   "source": [
    "# Generate daily VWAP using dedicated service - C#\n",
    "\n",
    "### Overview\n",
    "The Volume Weighted Average price is similar to a moving average, except volume is included to weight the average price over a one trading day period.\n",
    "\n",
    "It serves as a reference point for one trading day prices. Comparing current prices with the VWAP values enables to:\n",
    "* mesure trading efficiency by comparing individual trades to VWAP\n",
    "* highlight liquidity points as vwap reflects prices levels weighted by volume\n",
    "* determine the intraday trend\n",
    "* etc.\n",
    "\n",
    "This sample demonstrates how to request and plot from a dedicated data service **on-demand** `daily` VWAP price.\n",
    "\n",
    "### Inputs/outputs\n",
    "Daily VWAP indicator requires instrument's identifier, date time intervals and time range as per inputs and returns the daily VWAP data points.\n",
    "\n",
    "VWAP is a cumulative indicator which means the number of data points progressively increases throughtout the day.\n",
    "\n",
    "This sample shows how to plot a simple daily vwap for basis technical analysis using an open source library. \n",
    "\n",
    "### Services used\n",
    "This sample uses gRPC requests in order to retrieve VWAP indicator from the hosted service. The queried endpoint in this script are:\n",
    "* *DailyVwapsService*: to directly retrieve daily VWAP objects from the server\n",
    "\n",
    "### Packages required\n",
    "1. Systemathics packages:\n",
    "    * *Systemathics.Apis.Type.Shared.V1*\n",
    "    * *Systemathics.Apis.Services.Daily.V1*\n",
    "2. Open source packages\n",
    "    * *Google.Protobuf.WellKnownTypes*\n",
    "    * *Google.Type*\n",
    "    * *Grpc.Net.Client*\n",
    "    * *Grpc.Core*\n",
    "    * *XPlot.Plotly* as per display package\n",
    "\n",
    "***"
   ]
  },
  {
   "cell_type": "markdown",
   "metadata": {},
   "source": [
    "# Run daily VWAP sample"
   ]
  },
  {
   "cell_type": "markdown",
   "metadata": {},
   "source": [
    "### Step 1: Install packages"
   ]
  },
  {
   "cell_type": "code",
   "execution_count": null,
   "metadata": {
    "dotnet_interactive": {
     "language": "csharp"
    },
    "vscode": {
     "languageId": "polyglot-notebook"
    }
   },
   "outputs": [],
   "source": [
    "#i \"nuget: file:///home/jovyan/.nuget/packages/\"\n",
    "#i \"nuget: https://api.nuget.org/v3/index.json\"\n",
    "#r \"nuget: Systemathics.Apis, 2.32.*\"\n",
    "#r \"nuget: XPlot.Plotly.Interactive, 4.0.6\""
   ]
  },
  {
   "cell_type": "code",
   "execution_count": null,
   "metadata": {
    "dotnet_interactive": {
     "language": "csharp"
    },
    "vscode": {
     "languageId": "polyglot-notebook"
    }
   },
   "outputs": [],
   "source": [
    "using Systemathics.Apis.Helpers;\n",
    "using Systemathics.Apis.Type.Shared.V1;\n",
    "using Systemathics.Apis.Services.Daily.V1;\n",
    "using Google.Protobuf.WellKnownTypes;\n",
    "using Google.Type;\n",
    "using Grpc.Net.Client;\n",
    "using Grpc.Core;\n",
    "using XPlot.Plotly;\n",
    "using XPlot.Plotly.Interactive;"
   ]
  },
  {
   "cell_type": "markdown",
   "metadata": {},
   "source": [
    "### Step 2: Prepare API requests\n",
    "The following code snippets retrieve authentication token and prepare the API request by: opening the *channel* and adding the *token* to the request header:"
   ]
  },
  {
   "cell_type": "code",
   "execution_count": null,
   "metadata": {
    "dotnet_interactive": {
     "language": "csharp"
    },
    "vscode": {
     "languageId": "polyglot-notebook"
    }
   },
   "outputs": [],
   "source": [
    "// Get token as metadata\n",
    "var headers = TokenHelpers.GetTokenAsMetaData();\n",
    "\n",
    "// Create communication channel\n",
    "var channel = ChannelHelpers.GetChannel();"
   ]
  },
  {
   "cell_type": "markdown",
   "metadata": {},
   "source": [
    "### Step 3: Create and process request"
   ]
  },
  {
   "cell_type": "markdown",
   "metadata": {},
   "source": [
    "#### 3.1 Request Parameters\n",
    "To request *daily vwap* service, we need to specify:\n",
    "* Instrument identifier\n",
    "* Time period selection: select start and end dates\n",
    "* Service called: *DailyVwapsService* in order to retrieve daily data"
   ]
  },
  {
   "cell_type": "code",
   "execution_count": null,
   "metadata": {
    "dotnet_interactive": {
     "language": "csharp"
    },
    "vscode": {
     "languageId": "polyglot-notebook"
    }
   },
   "outputs": [],
   "source": [
    "// Set instrument\n",
    "var ticker = \"ACA\";\n",
    "var exchange = \"XPAR\";"
   ]
  },
  {
   "cell_type": "markdown",
   "metadata": {},
   "source": [
    "#### 3.2 Request creation\n",
    "The following code snippet creates *gRPC client*, process request and returns request reply."
   ]
  },
  {
   "cell_type": "code",
   "execution_count": null,
   "metadata": {
    "dotnet_interactive": {
     "language": "csharp"
    },
    "vscode": {
     "languageId": "polyglot-notebook"
    }
   },
   "outputs": [],
   "source": [
    "// Instantiate the daily vwap service\n",
    "var service = new DailyVwapsService.DailyVwapsServiceClient(channel);\n",
    "\n",
    "// Create and process daily vwap request\n",
    "var request = new DailyVwapsRequest \n",
    "{ \n",
    "    Identifier = new Identifier { Exchange = exchange, Ticker = ticker}\n",
    "};\n",
    "var reply = service.DailyVwaps(request, headers);"
   ]
  },
  {
   "cell_type": "markdown",
   "metadata": {},
   "source": [
    "The following code snippet displays the *daily vwap* data points:"
   ]
  },
  {
   "cell_type": "code",
   "execution_count": null,
   "metadata": {
    "dotnet_interactive": {
     "language": "csharp"
    },
    "vscode": {
     "languageId": "polyglot-notebook"
    }
   },
   "outputs": [],
   "source": [
    "display(reply.Data)"
   ]
  },
  {
   "cell_type": "markdown",
   "metadata": {},
   "source": [
    "### Step 4: Visualize data"
   ]
  },
  {
   "cell_type": "markdown",
   "metadata": {},
   "source": [
    "#### 4.1 Plot vwap and volume\n",
    "The following code snippets retrive *Close prices* over the look back period from the request result and plot them with the package of your choice.<br><i>`XPlot.Plotly`</i> is used as per open source display package."
   ]
  },
  {
   "cell_type": "code",
   "execution_count": null,
   "metadata": {
    "dotnet_interactive": {
     "language": "csharp"
    },
    "vscode": {
     "languageId": "polyglot-notebook"
    }
   },
   "outputs": [],
   "source": [
    "// Extract the daily vwap and the volume\n",
    "var vwaps = reply.Data.Select(t => new Tuple<DateTime, double>(new DateTime(t.Date.Year, t.Date.Month, t.Date.Day), t.Price));\n",
    "var volumes = reply.Data.Select(t => new Tuple<DateTime, double>(new DateTime(t.Date.Year, t.Date.Month, t.Date.Day), t.Volume));"
   ]
  },
  {
   "cell_type": "code",
   "execution_count": null,
   "metadata": {
    "dotnet_interactive": {
     "language": "csharp"
    },
    "vscode": {
     "languageId": "polyglot-notebook"
    }
   },
   "outputs": [],
   "source": [
    "// Create the graph\n",
    "var vwapGraph = new List<Scattergl>\n",
    "{\n",
    "    new Scattergl\n",
    "    {\n",
    "        name = \"Vwap\",\n",
    "        mode = \"lines\",\n",
    "        x = vwaps.Select(c => c.Item1),\n",
    "        y = vwaps.Select(c => c.Item2)\n",
    "    },\n",
    "    new Scattergl\n",
    "    {\n",
    "        name = \"Volume\",\n",
    "        mode = \"bar\",\n",
    "        x = volumes.Select(v => v.Item1),\n",
    "        y = volumes.Select(v => v.Item2),\n",
    "        yaxis = \"y2\"\n",
    "    } \n",
    "};\n",
    "\n",
    "\n",
    "var layout = new Layout.Layout{ \n",
    "    title = $\"Vwap & Volume for {ticker}\",\n",
    "    yaxis = new Yaxis {\n",
    "        title = \"Price\", \n",
    "        autorange = true,\n",
    "        side = \"left\",\n",
    "    },\n",
    "    yaxis2 = new Yaxis {\n",
    "        title = \"Volume\", \n",
    "        autorange = true,\n",
    "        side = \"right\",  \n",
    "    },\n",
    "};\n",
    "\n",
    "var chart = Chart.Plot(vwapGraph, layout);\n",
    "chart.WithXTitle($\"Time\");\n",
    "chart.Width = 1500;\n",
    "chart.Height = 800;\n",
    "display(chart);"
   ]
  }
 ],
 "metadata": {
  "kernelspec": {
   "display_name": ".NET (C#)",
   "language": "C#",
   "name": ".net-csharp"
  },
  "language_info": {
   "file_extension": ".cs",
   "mimetype": "text/x-csharp",
   "name": "C#",
   "pygments_lexer": "csharp",
   "version": "9.0"
  }
 },
 "nbformat": 4,
 "nbformat_minor": 4
}
