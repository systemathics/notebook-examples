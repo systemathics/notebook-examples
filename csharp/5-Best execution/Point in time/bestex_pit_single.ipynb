{
 "cells": [
  {
   "cell_type": "markdown",
   "id": "individual-console",
   "metadata": {},
   "source": [
    "# Generate point-in-time best execution data using dedicated service - C#\n",
    "\n",
    "### Overview\n",
    "Best execution aims to measure the performance of executed trades, an execution algorithm or an execution venue.\n",
    "\n",
    "This sample is based on an `point-in-time` approach and designed to highlight individual trades within market activity over a look back period. \n",
    "\n",
    "<div class=\"alert alert-block alert-info\">\n",
    "    <b>Note:</b> To explore the interval approach, suitable to analyze market activity over a look back period. Please refer to <i>bestex-interval</i> notebooks.\n",
    "</div>\n",
    "\n",
    "This sample demonstrates how to request and plot from a dedicated data service **on-demand** best execution *point-in-time* results.\n",
    "\n",
    "### Inputs/outputs\n",
    "Best execution PIT sample requires instrument's identifier, **single trade** and time window as per inputs. Results are as follows:\n",
    "* a snapshot of occured trades around the given trade based on the input time window\n",
    "\n",
    "### Services used\n",
    "This sample uses *gRPC requests* in order to retrieve trades information from the hosted service. The queried endpoint in this script are:\n",
    "* *TickTradesService*: to directly retrieve trades data from the server.\n",
    "\n",
    "### Packages required\n",
    "1. Systemathics:\n",
    "    * *Systemathics.Apis.Type.Shared.V1*\n",
    "    * *Systemathics.Apis.Services.Tick.V1*\n",
    "2. Open source:\n",
    "    * *Google.Protobuf.WellKnownTypes*\n",
    "    * *Google.Type*\n",
    "    * *Grpc.Net.Client*\n",
    "    * *Grpc.Core*\n",
    "    * *XPlot.Plotly* as per display package\n",
    "    \n",
    "***\n"
   ]
  },
  {
   "cell_type": "markdown",
   "id": "editorial-brazil",
   "metadata": {},
   "source": [
    "# Run BestEx Point-in-time sample"
   ]
  },
  {
   "cell_type": "markdown",
   "id": "integral-aside",
   "metadata": {},
   "source": [
    "### Step 1: Install packages"
   ]
  },
  {
   "cell_type": "code",
   "execution_count": null,
   "id": "theoretical-seller",
   "metadata": {
    "dotnet_interactive": {
     "language": "csharp"
    }
   },
   "outputs": [],
   "source": [
    "#i \"nuget: file:///home/jovyan/.nuget/packages/\"\n",
    "#i \"nuget: https://api.nuget.org/v3/index.json\"\n",
    "#r \"nuget: Systemathics.Apis, 0.*-pre*\"\n",
    "#r \"nuget: XPlot.Plotly.Interactive\""
   ]
  },
  {
   "cell_type": "code",
   "execution_count": null,
   "id": "geological-buying",
   "metadata": {
    "dotnet_interactive": {
     "language": "csharp"
    }
   },
   "outputs": [],
   "source": [
    "using Systemathics.Apis.Helpers;\n",
    "using Systemathics.Apis.Type.Shared.V1;\n",
    "using Systemathics.Apis.Services.Tick.V1;\n",
    "using Google.Protobuf.WellKnownTypes;\n",
    "using Google.Type;\n",
    "using Grpc.Net.Client;\n",
    "using Grpc.Core;\n",
    "using XPlot.Plotly;\n",
    "using XPlot.Plotly.Interactive;"
   ]
  },
  {
   "cell_type": "markdown",
   "id": "functioning-boston",
   "metadata": {},
   "source": [
    "### Step 2: Prepare API requests\n",
    "The following code snippets retrieve authentication token and prepare the API request by: opening the *channel* and adding the *token* to the request header:"
   ]
  },
  {
   "cell_type": "code",
   "execution_count": null,
   "id": "victorian-beijing",
   "metadata": {
    "dotnet_interactive": {
     "language": "csharp"
    }
   },
   "outputs": [],
   "source": [
    "// Get token as metadata\n",
    "var headers = TokenHelpers.GetTokenAsMetaData();\n",
    "\n",
    "// Create communication channel\n",
    "var channel = ChannelHelpers.GetChannel();"
   ]
  },
  {
   "cell_type": "markdown",
   "id": "alternate-phone",
   "metadata": {},
   "source": [
    "### Step 3: Create and process request"
   ]
  },
  {
   "cell_type": "markdown",
   "id": "metallic-discovery",
   "metadata": {},
   "source": [
    "#### 3.1 Instrument selection"
   ]
  },
  {
   "cell_type": "code",
   "execution_count": null,
   "id": "sized-threshold",
   "metadata": {
    "dotnet_interactive": {
     "language": "csharp"
    }
   },
   "outputs": [],
   "source": [
    "// Set the instrument  identifier: a ticker and an exchange code\n",
    "var ticker = \"AAPL\";\n",
    "var exchange = \"BATS\";\n",
    "\n",
    "// Set the time window to delimit the input trade\n",
    "var window = TimeSpan.FromMinutes(15);"
   ]
  },
  {
   "cell_type": "markdown",
   "id": "front-motor",
   "metadata": {},
   "source": [
    "#### 3.2 Trade parameters"
   ]
  },
  {
   "cell_type": "markdown",
   "id": "ready-billion",
   "metadata": {},
   "source": [
    "We assume our trade is the following:"
   ]
  },
  {
   "cell_type": "code",
   "execution_count": null,
   "id": "arbitrary-citizenship",
   "metadata": {
    "dotnet_interactive": {
     "language": "csharp"
    }
   },
   "outputs": [],
   "source": [
    "var timestamp = Convert.ToDateTime(\"2021-03-05T12:13:21.877300Z\");\n",
    "var price = 119.81;\n",
    "var size = 100;"
   ]
  },
  {
   "cell_type": "markdown",
   "id": "armed-sunday",
   "metadata": {},
   "source": [
    "#### 3.3 Time period delimitation"
   ]
  },
  {
   "cell_type": "code",
   "execution_count": null,
   "id": "interim-measurement",
   "metadata": {
    "dotnet_interactive": {
     "language": "csharp"
    }
   },
   "outputs": [],
   "source": [
    "// Build the tick trades request date interval (we are using Google date time format)\n",
    "var dateIntervals = new DateInterval(){ \n",
    "    StartDate = new Date { Year = timestamp.Year, Month = timestamp.Month, Day = timestamp.Day },\n",
    "    EndDate = new Date { Year = timestamp.Year, Month = timestamp.Month, Day = timestamp.Day } \n",
    "};\n",
    "\n",
    "// Get the first and the last times from the input trade\n",
    "var firstTime = timestamp.TimeOfDay.Add(-window);\n",
    "var lastTime = timestamp.TimeOfDay.Add(window);\n",
    "\n",
    "// Build the tick trades request time interval (we are using Google date time format)\n",
    "// UTC time zone\n",
    "var timeInterval = new TimeInterval() { \n",
    "    StartTime = new TimeOfDay { Hours = firstTime.Hours, Minutes = firstTime.Minutes, Seconds = firstTime.Seconds }, \n",
    "    EndTime = new TimeOfDay { Hours = lastTime.Hours, Minutes = lastTime.Minutes, Seconds = lastTime.Seconds }\n",
    "};"
   ]
  },
  {
   "cell_type": "markdown",
   "id": "improved-anchor",
   "metadata": {},
   "source": [
    "#### 3.4 Request creation\n",
    "The following code snippet creates *gRPC client*, process request and returns request reply."
   ]
  },
  {
   "cell_type": "code",
   "execution_count": null,
   "id": "together-shell",
   "metadata": {
    "dotnet_interactive": {
     "language": "csharp"
    }
   },
   "outputs": [],
   "source": [
    "// Generate constraints based on the previous time selection\n",
    "var constraints = new Constraints(); \n",
    "constraints.DateIntervals.Add(dateIntervals);\n",
    "constraints.TimeIntervals.Add(timeInterval);"
   ]
  },
  {
   "cell_type": "code",
   "execution_count": null,
   "id": "constant-tongue",
   "metadata": {
    "dotnet_interactive": {
     "language": "csharp"
    }
   },
   "outputs": [],
   "source": [
    "// Generate the tick trades request\n",
    "var request = new TickTradesRequest { Constraints = constraints };\n",
    "var identifier = new Identifier { Exchange = exchange, Ticker = ticker};\n",
    "request.Identifiers.Add(new [] {identifier}); "
   ]
  },
  {
   "cell_type": "code",
   "execution_count": null,
   "id": "obvious-generic",
   "metadata": {
    "dotnet_interactive": {
     "language": "csharp"
    }
   },
   "outputs": [],
   "source": [
    "// Instantiate the tick trades service\n",
    "var service = new TickTradesService.TickTradesServiceClient(channel);"
   ]
  },
  {
   "cell_type": "markdown",
   "id": "stylish-canyon",
   "metadata": {},
   "source": [
    "### Step 4: Visualize data"
   ]
  },
  {
   "cell_type": "markdown",
   "id": "hollywood-courtesy",
   "metadata": {},
   "source": [
    "#### 4.1 Retrive trades"
   ]
  },
  {
   "cell_type": "code",
   "execution_count": null,
   "id": "injured-economics",
   "metadata": {
    "dotnet_interactive": {
     "language": "csharp"
    }
   },
   "outputs": [],
   "source": [
    "// Get the trades \n",
    "// store the list of trades\n",
    "var trades = new List<Tuple<Timestamp, Trade>>();\n",
    "\n",
    "// Call the service\n",
    "var call = service.TickTrades(request, headers);\n",
    "\n",
    "// Process the responses\n",
    "await foreach (var current in call.ResponseStream.ReadAllAsync())\n",
    "{\n",
    "    if(current.Mapping != null)\n",
    "    {\n",
    "        // First response contains the mapping fields\n",
    "        // Skip the mapping data\n",
    "        continue;\n",
    "    }\n",
    "\n",
    "    // Get the time stamp for the current trade\n",
    "    var ts = current.Data.TimeStamp;\n",
    "\n",
    "    // Trade\n",
    "    if (current.Data.Trade != null) \n",
    "    {      \n",
    "        trades.Add(new Tuple<Timestamp, Trade>(ts, current.Data.Trade));\n",
    "    }\n",
    "}"
   ]
  },
  {
   "cell_type": "markdown",
   "id": "driving-final",
   "metadata": {},
   "source": [
    "The following code snippet displays request results:"
   ]
  },
  {
   "cell_type": "code",
   "execution_count": null,
   "id": "forced-rebel",
   "metadata": {
    "dotnet_interactive": {
     "language": "csharp"
    }
   },
   "outputs": [],
   "source": [
    "// Display the trades\n",
    "//--> Note : the time stamp is displayed by default (using the unix format)\n",
    "//--> We can use other displayers for different output formats \n",
    "//--> For more details about the time stamp: https://developers.google.com/protocol-buffers/docs/reference/google.protobuf#google.protobuf.Timestamp \n",
    "//display(trades);"
   ]
  },
  {
   "cell_type": "markdown",
   "id": "proved-battle",
   "metadata": {},
   "source": [
    "#### 4.2 Plot individual trade within market snapshot\n",
    "Display trade prices and highlight the individual trade over the look back period with the package of your choice.<br>*`XPlot.Plotly`* is used as per open source display package.\n",
    "Plot a simple line graph with the trade prices and mark out the individual trade as follows: "
   ]
  },
  {
   "cell_type": "code",
   "execution_count": null,
   "id": "single-vacuum",
   "metadata": {
    "dotnet_interactive": {
     "language": "csharp"
    }
   },
   "outputs": [],
   "source": [
    "// Create Trade class to handle the input trades\n",
    "public class Input\n",
    "{\n",
    "    public DateTime Timestamp { get; set; }\n",
    "    public double Price { get; set; }\n",
    "    public long Size { get; set; }\n",
    "}\n",
    "\n",
    "// Input trade : trade to validate\n",
    "var input = new Input() { Timestamp = timestamp, Price = price, Size = size };\n",
    "var inputs = new List<Input>(){input};"
   ]
  },
  {
   "cell_type": "code",
   "execution_count": null,
   "id": "clear-engagement",
   "metadata": {
    "dotnet_interactive": {
     "language": "csharp"
    }
   },
   "outputs": [],
   "source": [
    "var bestexPit = new List<Scattergl>\n",
    "{\n",
    "    new Scattergl\n",
    "    { name = \"Price\", x = trades.Select(elt => elt.Item1.ToDateTime()), y = trades.Select(elt => elt.Item2.Price), mode = \"lines\" },\n",
    "    new Scattergl\n",
    "    { name = \"Input trade price\", x = inputs.Select(t => t.Timestamp), y = inputs.Select(t => t.Price), mode = \"markers\" },\n",
    "    new Scattergl\n",
    "    { name = \"Input trade size\", x = inputs.Select(t => t.Timestamp), y = inputs.Select(t => t.Size), mode = \"markers\", yaxis = \"y2\" },\n",
    "    new Scattergl\n",
    "    { name = \"Size\", mode = \"lines\", x = trades.Select(elt => elt.Item1.ToDateTime()), y = trades.Select(elt => elt.Item2.Size), yaxis = \"y2\"}\n",
    "};\n",
    "\n",
    "var layout = new Layout.Layout\n",
    "{ \n",
    "    title = $\"Input trade within market snapshot for {ticker}-{exchange}\",\n",
    "    yaxis = new Yaxis { title = \"Price\", autorange = true, side = \"left\"},\n",
    "    yaxis2 = new Yaxis { title = \"Size\", autorange = true, side = \"right\"}\n",
    "};\n",
    "\n",
    "var chart = Chart.Plot(bestexPit, layout);\n",
    "chart.WithXTitle(\"Time\");\n",
    "chart.Width = 1500;\n",
    "chart.Height = 800;\n",
    "display(chart);"
   ]
  },
  {
   "cell_type": "code",
   "execution_count": null,
   "id": "sitting-syndrome",
   "metadata": {},
   "outputs": [],
   "source": []
  }
 ],
 "metadata": {
  "kernelspec": {
   "display_name": ".NET (C#)",
   "language": "C#",
   "name": ".net-csharp"
  },
  "language_info": {
   "file_extension": ".cs",
   "mimetype": "text/x-csharp",
   "name": "C#",
   "pygments_lexer": "csharp",
   "version": "9.0"
  }
 },
 "nbformat": 4,
 "nbformat_minor": 5
}
