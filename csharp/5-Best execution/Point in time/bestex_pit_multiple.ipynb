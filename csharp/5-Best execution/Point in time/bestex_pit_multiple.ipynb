{
 "cells": [
  {
   "cell_type": "markdown",
   "id": "suffering-garage",
   "metadata": {},
   "source": [
    "# Generate point-in-time best execution data using dedicated service - C#\n",
    "\n",
    "### Overview\n",
    "Best execution aims to measure the performance of executed trades, an execution algorithm or an execution venue.\n",
    "\n",
    "This sample is based on an `point-in-time` approach and designed to highlight individual trades within market activity over a look back period. \n",
    "\n",
    "<div class=\"alert alert-block alert-info\">\n",
    "    <b>Note:</b> To explore the interval approach, suitable to analyze market activity over a look back period. Please refer to <i>bestex-interval</i> notebooks.\n",
    "</div>\n",
    "\n",
    "This sample demonstrates how to request and plot from a dedicated data service **on-demand** best execution *point-in-time* results.\n",
    "\n",
    "### Inputs/outputs\n",
    "Best execution PIT sample requires instrument's identifier, **a list of trades** and time window as per inputs. Results are as follows:\n",
    "* a snapshot of occured trades around the given trade based on the input time window\n",
    "* plot the request result and export data\n",
    "\n",
    "### Services used\n",
    "This sample uses *gRPC requests* in order to retrieve trades information from the hosted service. The queried endpoint in this script are:\n",
    "* *TickTradesService*: to directly retrieve trades data from the server.\n",
    "\n",
    "### Packages required\n",
    "1. Systemathics:\n",
    "    * *Systemathics.Apis.Type.Shared.V1*\n",
    "    * *Systemathics.Apis.Services.Tick.V1*\n",
    "2. Open source:\n",
    "    * *Google.Protobuf.WellKnownTypes*\n",
    "    * *Google.Type*\n",
    "    * *Grpc.Net.Client*\n",
    "    * *Grpc.Core*\n",
    "    * *XPlot.Plotly* as per display package\n",
    "    \n",
    "***\n"
   ]
  },
  {
   "cell_type": "markdown",
   "id": "personalized-earthquake",
   "metadata": {},
   "source": [
    "# Run BestEx Point-in-time sample"
   ]
  },
  {
   "cell_type": "markdown",
   "id": "forced-jonathan",
   "metadata": {},
   "source": [
    "### Step 1: Install packages"
   ]
  },
  {
   "cell_type": "code",
   "execution_count": null,
   "id": "fatal-defeat",
   "metadata": {
    "dotnet_interactive": {
     "language": "csharp"
    },
    "vscode": {
     "languageId": "dotnet-interactive.csharp"
    }
   },
   "outputs": [],
   "source": [
    "#i \"nuget: file:///home/jovyan/.nuget/packages/\"\n",
    "#i \"nuget: https://api.nuget.org/v3/index.json\"\n",
    "#r \"nuget: Systemathics.Apis, 2.33.*-pre*\"\n",
    "#r \"nuget: XPlot.Plotly.Interactive\"\n",
    "#r \"nuget: CsvHelper\""
   ]
  },
  {
   "cell_type": "code",
   "execution_count": null,
   "id": "stopped-showcase",
   "metadata": {
    "dotnet_interactive": {
     "language": "csharp"
    },
    "vscode": {
     "languageId": "dotnet-interactive.csharp"
    }
   },
   "outputs": [],
   "source": [
    "using Systemathics.Apis.Helpers;\n",
    "using Systemathics.Apis.Type.Shared.V1;\n",
    "using Systemathics.Apis.Services.Tick.V1;\n",
    "using Google.Protobuf.WellKnownTypes;\n",
    "using Google.Type;\n",
    "using Grpc.Net.Client;\n",
    "using Grpc.Core;\n",
    "// Plot charts\n",
    "using XPlot.Plotly;\n",
    "using XPlot.Plotly.Interactive;\n",
    "// Import/export csv files \n",
    "using CsvHelper;\n",
    "using System.IO;\n",
    "using System.Globalization;"
   ]
  },
  {
   "cell_type": "markdown",
   "id": "commercial-irrigation",
   "metadata": {},
   "source": [
    "### Step 2: Prepare API requests\n",
    "The following code snippets retrieve authentication token and prepare the API request by: opening the *channel* and adding the *token* to the request header:"
   ]
  },
  {
   "cell_type": "code",
   "execution_count": null,
   "id": "asian-mumbai",
   "metadata": {
    "dotnet_interactive": {
     "language": "csharp"
    },
    "vscode": {
     "languageId": "dotnet-interactive.csharp"
    }
   },
   "outputs": [],
   "source": [
    "// Get token as metadata\n",
    "var headers = TokenHelpers.GetTokenAsMetaData();\n",
    "\n",
    "// Create communication channel\n",
    "var channel = ChannelHelpers.GetChannel();"
   ]
  },
  {
   "cell_type": "markdown",
   "id": "numerous-sunglasses",
   "metadata": {},
   "source": [
    "### Step 3: Retrieve data"
   ]
  },
  {
   "cell_type": "markdown",
   "id": "educated-arctic",
   "metadata": {},
   "source": [
    "#### 3.1 Input trades import\n",
    "We assume our trades are in a *csv file* that we imported in the same folder as the current data sample.\n",
    "\n",
    "We aim to to ensure that it was the best possible execution for each and every trade. To do so, we have to retrieve the *trades as a market snapshot* and mark out the *individual trades*.\n",
    "\n",
    "The following code snippets import *individual trades* from the *csv file*:"
   ]
  },
  {
   "cell_type": "code",
   "execution_count": null,
   "id": "dominant-opening",
   "metadata": {
    "dotnet_interactive": {
     "language": "csharp"
    },
    "vscode": {
     "languageId": "dotnet-interactive.csharp"
    }
   },
   "outputs": [],
   "source": [
    "// Input trade to load from the csv file\n",
    "public class InputTrade\n",
    "{\n",
    "    public DateTime Timestamp { get; set; }\n",
    "    public double Price { get; set; }\n",
    "    public long Size { get; set; }\n",
    "    public string Flag { get; set; }\n",
    "}"
   ]
  },
  {
   "cell_type": "code",
   "execution_count": null,
   "id": "native-reasoning",
   "metadata": {
    "dotnet_interactive": {
     "language": "csharp"
    },
    "vscode": {
     "languageId": "dotnet-interactive.csharp"
    }
   },
   "outputs": [],
   "source": [
    "// Load the trades from the csv input file\n",
    "var records = new List<InputTrade>();\n",
    "using (var reader = new StreamReader(\"input/input_trades.csv\"))\n",
    "using (var csv = new CsvReader(reader, CultureInfo.InvariantCulture))\n",
    "{\n",
    "    records = csv.GetRecords<InputTrade>().ToList();\n",
    "}\n",
    "\n",
    "// Sort the trades by time stamp\n",
    "var inputTrades = records.OrderBy(t => t.Timestamp).ToArray();\n",
    "\n",
    "// Display the loaded trades\n",
    "display(inputTrades); "
   ]
  },
  {
   "cell_type": "markdown",
   "id": "norman-dallas",
   "metadata": {},
   "source": [
    "### Step 3: Create and process request\n",
    "To request *tick trades* service, we need to specify:\n",
    "* Instrument identifier\n",
    "* Time period selection: select start and end dates\n",
    "* Tick trades request parameters"
   ]
  },
  {
   "cell_type": "markdown",
   "id": "medium-format",
   "metadata": {},
   "source": [
    "#### 3.1 Instrument selection"
   ]
  },
  {
   "cell_type": "code",
   "execution_count": null,
   "id": "homeless-torture",
   "metadata": {
    "dotnet_interactive": {
     "language": "csharp"
    },
    "vscode": {
     "languageId": "dotnet-interactive.csharp"
    }
   },
   "outputs": [],
   "source": [
    "// Set the instrument  identifier: a ticker and an exchange code\n",
    "var ticker = \"AAPL\";\n",
    "var exchange = \"BATS\";"
   ]
  },
  {
   "cell_type": "markdown",
   "id": "unnecessary-hopkins",
   "metadata": {},
   "source": [
    "#### 3.2 Best execution interval selection"
   ]
  },
  {
   "cell_type": "code",
   "execution_count": null,
   "id": "pointed-manor",
   "metadata": {
    "dotnet_interactive": {
     "language": "csharp"
    },
    "vscode": {
     "languageId": "dotnet-interactive.csharp"
    }
   },
   "outputs": [],
   "source": [
    "// Set the time window to delimit the input trade in seconds\n",
    "var window = TimeSpan.FromSeconds(5 * 60);"
   ]
  },
  {
   "cell_type": "markdown",
   "id": "current-merchandise",
   "metadata": {},
   "source": [
    "#### 3.3 Time period delimitation"
   ]
  },
  {
   "cell_type": "markdown",
   "id": "balanced-cornell",
   "metadata": {},
   "source": [
    "The following code snippets delimits the best execution time interval around each input trade based on the previously chosen time window."
   ]
  },
  {
   "cell_type": "code",
   "execution_count": null,
   "id": "natural-darkness",
   "metadata": {
    "dotnet_interactive": {
     "language": "csharp"
    },
    "vscode": {
     "languageId": "dotnet-interactive.csharp"
    }
   },
   "outputs": [],
   "source": [
    "// Get the first and the last dates from the input trades\n",
    "var firstDate = inputTrades.First().Timestamp.Date;\n",
    "var lastDate = inputTrades.Last().Timestamp.Date;\n",
    "\n",
    "// Build the tick trades date interval (we are using Google date time format)\n",
    "var dateIntervals = new DateInterval()\n",
    "{ \n",
    "    StartDate = new Date { Year = firstDate.Year, Month = firstDate.Month, Day = firstDate.Day },\n",
    "    EndDate = new Date { Year = lastDate.Year, Month = lastDate.Month, Day = lastDate.Day }\n",
    "};\n",
    "\n",
    "// Get the first and the last timestamps from the input trades\n",
    "var firstTime = inputTrades.Min(t => t.Timestamp.TimeOfDay).Add(-window);\n",
    "var lastTime = inputTrades.Max(t => t.Timestamp.TimeOfDay).Add(window);\n",
    "\n",
    "// Build the tick trades time interval (we are using Google date time format)\n",
    "var timeInterval = new TimeInterval() \n",
    "{ \n",
    "    StartTime = new TimeOfDay { Hours = firstTime.Hours, Minutes = firstTime.Minutes, Seconds = firstTime.Seconds },\n",
    "    EndTime = new TimeOfDay { Hours = lastTime.Hours, Minutes = lastTime.Minutes, Seconds = lastTime.Seconds }\n",
    "};"
   ]
  },
  {
   "cell_type": "markdown",
   "id": "canadian-plane",
   "metadata": {},
   "source": [
    "#### 3.4 Request creation\n",
    "The following code snippet creates *gRPC client*, process request and returns request reply."
   ]
  },
  {
   "cell_type": "code",
   "execution_count": null,
   "id": "recognized-scout",
   "metadata": {
    "dotnet_interactive": {
     "language": "csharp"
    },
    "vscode": {
     "languageId": "dotnet-interactive.csharp"
    }
   },
   "outputs": [],
   "source": [
    "// Generate constraints based on the previous time selection\n",
    "var constraints = new Constraints(); \n",
    "constraints.DateIntervals.Add(dateIntervals);\n",
    "constraints.TimeIntervals.Add(timeInterval);"
   ]
  },
  {
   "cell_type": "code",
   "execution_count": null,
   "id": "selective-portugal",
   "metadata": {
    "dotnet_interactive": {
     "language": "csharp"
    },
    "vscode": {
     "languageId": "dotnet-interactive.csharp"
    }
   },
   "outputs": [],
   "source": [
    "// Generate the tick trades request\n",
    "var request = new TickTradesRequest { Constraints = constraints };\n",
    "var identifier = new Identifier { Exchange = exchange, Ticker = ticker};\n",
    "request.Identifiers.Add(new [] {identifier}); "
   ]
  },
  {
   "cell_type": "code",
   "execution_count": null,
   "id": "understood-current",
   "metadata": {
    "dotnet_interactive": {
     "language": "csharp"
    },
    "vscode": {
     "languageId": "dotnet-interactive.csharp"
    }
   },
   "outputs": [],
   "source": [
    "// Instantiate the tick trades service\n",
    "var service = new TickTradesService.TickTradesServiceClient(channel);"
   ]
  },
  {
   "cell_type": "markdown",
   "id": "bibliographic-fundamental",
   "metadata": {},
   "source": [
    "### Step 4: Visualize data"
   ]
  },
  {
   "cell_type": "markdown",
   "id": "abroad-annual",
   "metadata": {},
   "source": [
    "#### 4.1 Retrieve occured trades"
   ]
  },
  {
   "cell_type": "code",
   "execution_count": null,
   "id": "postal-investigation",
   "metadata": {
    "dotnet_interactive": {
     "language": "csharp"
    },
    "vscode": {
     "languageId": "dotnet-interactive.csharp"
    }
   },
   "outputs": [],
   "source": [
    "// Get the trades \n",
    "// store the list of trades\n",
    "var trades = new List<Tuple<Timestamp, Trade>>();\n",
    "\n",
    "// Call the service\n",
    "var call = service.TickTrades(request, headers);\n",
    "\n",
    "// Process the responses\n",
    "await foreach (var current in call.ResponseStream.ReadAllAsync())\n",
    "{\n",
    "    if(current.Mapping != null)\n",
    "    {\n",
    "        // First response contains the mapping fields\n",
    "        // Skip the mapping data\n",
    "        continue;\n",
    "    }\n",
    "\n",
    "    // Get the time stamp for the current trade\n",
    "    var ts = current.Data.TimeStamp;\n",
    "\n",
    "    // Trade\n",
    "    if (current.Data.Trade != null) \n",
    "    {      \n",
    "        trades.Add(new Tuple<Timestamp, Trade>(ts, current.Data.Trade));\n",
    "    }\n",
    "}"
   ]
  },
  {
   "cell_type": "code",
   "execution_count": null,
   "id": "solved-atmosphere",
   "metadata": {
    "dotnet_interactive": {
     "language": "csharp"
    },
    "vscode": {
     "languageId": "dotnet-interactive.csharp"
    }
   },
   "outputs": [],
   "source": [
    "// Display the trades\n",
    "//--> Note : the time stamp is displayed by default (using the unix format)\n",
    "//--> We can use other displayers for different output formats \n",
    "//--> For more details about the time stamp: https://developers.google.com/protocol-buffers/docs/reference/google.protobuf#google.protobuf.Timestamp \n",
    "//display(trades);"
   ]
  },
  {
   "cell_type": "markdown",
   "id": "alive-efficiency",
   "metadata": {},
   "source": [
    "#### 4.3 Plot individual trades within market snapshot\n",
    "Display trade prices and highlight the individual trades over the look back period with the package of your choice.<br>*`XPlot.Plotly`* is used as per open source display package.\n",
    "Plot a simple line graph with the trade prices and mark out the individual trades as follows: "
   ]
  },
  {
   "cell_type": "code",
   "execution_count": null,
   "id": "martial-plumbing",
   "metadata": {
    "dotnet_interactive": {
     "language": "csharp"
    },
    "vscode": {
     "languageId": "dotnet-interactive.csharp"
    }
   },
   "outputs": [],
   "source": [
    "// Create the time series for the graph\n",
    "var market = new Dictionary<DateTime, double>();\n",
    "foreach (var trade in trades) \n",
    "{\n",
    "    market[trade.Item1.ToDateTime()] = trade.Item2.Price;\n",
    "}\n",
    "\n",
    "var input = new Dictionary<DateTime, double>();\n",
    "foreach (var inputTrade in inputTrades) \n",
    "{\n",
    "    input[inputTrade.Timestamp] = inputTrade.Price;\n",
    "}"
   ]
  },
  {
   "cell_type": "code",
   "execution_count": null,
   "id": "assumed-brick",
   "metadata": {
    "dotnet_interactive": {
     "language": "csharp"
    },
    "vscode": {
     "languageId": "dotnet-interactive.csharp"
    }
   },
   "outputs": [],
   "source": [
    "// Create the graph\n",
    "var bestexPitList = new List<Scattergl>\n",
    "{\n",
    "    new Scattergl\n",
    "    { name = \"Market trades\", x = market.Keys, y = market.Values},\n",
    "    new Scattergl\n",
    "    { name = \"Input trades\", x = input.Keys, y = input.Values, mode=\"markers\"}\n",
    "};\n",
    "var chart = Chart.Plot(bestexPitList);\n",
    "chart.WithTitle($\"Market snapshot and input trades for {ticker}\");\n",
    "chart.WithXTitle($\"Time\");\n",
    "chart.WithYTitle($\"Price\");\n",
    "chart.Width = 1500;\n",
    "chart.Height = 800;\n",
    "display(chart);"
   ]
  },
  {
   "cell_type": "markdown",
   "id": "executed-chair",
   "metadata": {},
   "source": [
    "#### 4.4 Export market snapshot file"
   ]
  },
  {
   "cell_type": "code",
   "execution_count": null,
   "id": "comfortable-nomination",
   "metadata": {
    "dotnet_interactive": {
     "language": "csharp"
    },
    "vscode": {
     "languageId": "dotnet-interactive.csharp"
    }
   },
   "outputs": [],
   "source": [
    "// Export market and input trades to a csv file\n",
    "var d = new DirectoryInfo(\"output\"); if (!d.Exists) { d.Create(); }\n",
    "using (var writer = new StreamWriter($\"output/{ticker}_bestex_pit.csv\"))\n",
    "using (var csv = new CsvWriter(writer, CultureInfo.InvariantCulture))\n",
    "{\n",
    "    // Store the market and input data into the snapshot list\n",
    "    var snapshot = new List<InputTrade>();\n",
    "\n",
    "    // First loop all market trades\n",
    "    foreach (var trade in trades)\n",
    "    {\n",
    "        var flag = string.Empty;\n",
    "        var keep = false;\n",
    "        var time = trade.Item1.ToDateTime();\n",
    "        \n",
    "        // Check if the current market trade belongs to the interval (window)\n",
    "        // Then check if the trade is our input trade\n",
    "        foreach (var inputTrade in inputTrades)\n",
    "        {\n",
    "            var start = inputTrade.Timestamp.Add(-window);\n",
    "            var end = inputTrade.Timestamp.Add(window);\n",
    "            \n",
    "            if (time > start && time < end)\n",
    "            {\n",
    "                keep = true;\n",
    "                \n",
    "                // Check if the trade is our input trade\n",
    "                if((time == inputTrade.Timestamp) && (trade.Item2.Price == inputTrade.Price) && (trade.Item2.Size == inputTrade.Size)) \n",
    "                {\n",
    "                    flag = \"INPUT\";\n",
    "                    goto store; \n",
    "                }  \n",
    "            }   \n",
    "        }\n",
    "        \n",
    "        store:\n",
    "        if(keep)\n",
    "        {\n",
    "            snapshot.Add(new InputTrade(){Timestamp = time,Price = trade.Item2.Price, Size = trade.Item2.Size,Flag = flag });\n",
    "        }\n",
    "    }\n",
    "    \n",
    "    // Save csv file\n",
    "    csv.WriteRecords(snapshot);\n",
    "}"
   ]
  }
 ],
 "metadata": {
  "kernelspec": {
   "display_name": ".NET (C#)",
   "language": "C#",
   "name": ".net-csharp"
  },
  "language_info": {
   "file_extension": ".cs",
   "mimetype": "text/x-csharp",
   "name": "C#",
   "pygments_lexer": "csharp",
   "version": "9.0"
  }
 },
 "nbformat": 4,
 "nbformat_minor": 5
}
