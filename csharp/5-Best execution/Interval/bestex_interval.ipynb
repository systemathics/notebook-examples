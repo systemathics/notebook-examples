{
 "cells": [
  {
   "cell_type": "markdown",
   "id": "organic-nurse",
   "metadata": {},
   "source": [
    "# Generate interval best execution benchmarks using dedicated service - C#\n",
    "\n",
    "### Overview\n",
    "Best execution aims to measure the performance of executed trades, an execution algorithm or an execution venue.\n",
    "\n",
    "This sample is based on an `interval` approach and designed to illustrate market activity over a look back period.\n",
    "\n",
    "<div class=\"alert alert-block alert-info\">\n",
    "    <b>Note:</b> To explore the point-in-time approach, suitable to highlight individual tradres among market activity. Please refer to <i>bestex-pointintime</i> notebooks.\n",
    "</div>\n",
    "\n",
    "This sample demonstrates how to request and plot from a dedicated data service **on-demand** best execution *interval* benchmarks.\n",
    "\n",
    "### Inputs/outputs\n",
    "Best execution interval sample requires instrument's identifier, date time intervals as per inputs. Results are as follows:\n",
    "* a snapshot of occured trades\n",
    "* a set of computed benchmarks based on the occured trades\n",
    "\n",
    "### Services used\n",
    "This sample uses *gRPC requests* in order to retrieve trades information from the hosted service. The queried endpoint in this script are:\n",
    "* *TickTradesService*: to directly retrieve trades data from the server.\n",
    "\n",
    "### Packages required\n",
    "1. Systemathics:\n",
    "    * *Systemathics.Apis.Type.Shared.V1*\n",
    "    * *Systemathics.Apis.Services.Tick.V1*\n",
    "2. Open source:\n",
    "    * *Google.Protobuf.WellKnownTypes*\n",
    "    * *Google.Type*\n",
    "    * *Grpc.Net.Client*\n",
    "    * *Grpc.Core*\n",
    "    * *XPlot.Plotly* as per display package\n",
    "    \n",
    "***"
   ]
  },
  {
   "cell_type": "markdown",
   "id": "configured-samoa",
   "metadata": {},
   "source": [
    "# Run BestEx interval sample"
   ]
  },
  {
   "cell_type": "markdown",
   "id": "compact-novel",
   "metadata": {},
   "source": [
    "### Step 1: Install packages"
   ]
  },
  {
   "cell_type": "code",
   "execution_count": null,
   "id": "robust-university",
   "metadata": {
    "dotnet_interactive": {
     "language": "csharp"
    },
    "vscode": {
     "languageId": "dotnet-interactive.csharp"
    }
   },
   "outputs": [],
   "source": [
    "#i \"nuget: file:///home/jovyan/.nuget/packages/\"\n",
    "#i \"nuget: https://api.nuget.org/v3/index.json\"\n",
    "#r \"nuget: Systemathics.Apis, 2.32.*\"\n",
    "#r \"nuget: XPlot.Plotly.Interactive, 4.0.6\"\n",
    "#r \"nuget: CsvHelper\""
   ]
  },
  {
   "cell_type": "code",
   "execution_count": null,
   "id": "bibliographic-retail",
   "metadata": {
    "dotnet_interactive": {
     "language": "csharp"
    },
    "vscode": {
     "languageId": "dotnet-interactive.csharp"
    }
   },
   "outputs": [],
   "source": [
    "using Systemathics.Apis.Helpers;\n",
    "using Systemathics.Apis.Type.Shared.V1;\n",
    "using Systemathics.Apis.Services.Tick.V1;\n",
    "using Google.Protobuf.WellKnownTypes;\n",
    "using Google.Type;\n",
    "using Grpc.Net.Client;\n",
    "using Grpc.Core;\n",
    "// Plot charts\n",
    "using XPlot.Plotly; \n",
    "// Import/export csv files \n",
    "using CsvHelper;\n",
    "using System.IO;\n",
    "using System.Globalization;"
   ]
  },
  {
   "cell_type": "markdown",
   "id": "sought-geneva",
   "metadata": {},
   "source": [
    "### Step 2: Prepare API requests\n",
    "The following code snippets retrieve authentication token and prepare the API request by: opening the *channel* and adding the *token* to the request header:"
   ]
  },
  {
   "cell_type": "code",
   "execution_count": null,
   "id": "expired-store",
   "metadata": {
    "dotnet_interactive": {
     "language": "csharp"
    },
    "vscode": {
     "languageId": "dotnet-interactive.csharp"
    }
   },
   "outputs": [],
   "source": [
    "// Get token as metadata\n",
    "var headers = TokenHelpers.GetTokenAsMetaData();\n",
    "\n",
    "// Create communication channel\n",
    "var channel = ChannelHelpers.GetChannel();"
   ]
  },
  {
   "cell_type": "markdown",
   "id": "creative-humor",
   "metadata": {},
   "source": [
    "### Step 3: Create and process request\n",
    "To request *tick data* service, we need to specify:\n",
    "* Instrument identifier\n",
    "* Time period selection: select start and end dates\n",
    "* Tick data request parameters"
   ]
  },
  {
   "cell_type": "markdown",
   "id": "familiar-things",
   "metadata": {},
   "source": [
    "#### 3.1 Instrument selection"
   ]
  },
  {
   "cell_type": "code",
   "execution_count": null,
   "id": "descending-religion",
   "metadata": {
    "dotnet_interactive": {
     "language": "csharp"
    },
    "vscode": {
     "languageId": "dotnet-interactive.csharp"
    }
   },
   "outputs": [],
   "source": [
    "// Instrument\n",
    "var ticker = \"AAPL\";\n",
    "var exchange = \"BATS\";"
   ]
  },
  {
   "cell_type": "markdown",
   "id": "tropical-cologne",
   "metadata": {},
   "source": [
    "#### 3.2 Time period delimitation"
   ]
  },
  {
   "cell_type": "code",
   "execution_count": null,
   "id": "taken-grave",
   "metadata": {
    "dotnet_interactive": {
     "language": "csharp"
    },
    "vscode": {
     "languageId": "dotnet-interactive.csharp"
    }
   },
   "outputs": [],
   "source": [
    "// Create the date interval (we are using Google date time format)\n",
    "var day = new DateTime(2021, 03, 15);\n",
    "var dateIntervals = new DateInterval()\n",
    "{\n",
    "    StartDate = new Date { Year = 2021, Month = 11, Day = 15 },\n",
    "    EndDate = new Date { Year = 2021, Month =11, Day = 15 }\n",
    "};\n",
    "\n",
    "// Create the time interval (we are using Google date time format)\n",
    "// UTC time zone\n",
    "var timeInterval = new TimeInterval()\n",
    "{\n",
    "    StartTime = new TimeOfDay { Hours = 16, Minutes = 20, Seconds = 00 },\n",
    "    EndTime = new TimeOfDay { Hours = 16, Minutes = 30, Seconds = 00 } \n",
    "};"
   ]
  },
  {
   "cell_type": "markdown",
   "id": "single-championship",
   "metadata": {},
   "source": [
    "#### 3.3 Request creation\n",
    "The following code snippet creates *gRPC client*, process request and returns request reply."
   ]
  },
  {
   "cell_type": "code",
   "execution_count": null,
   "id": "incorporated-referral",
   "metadata": {
    "dotnet_interactive": {
     "language": "csharp"
    },
    "vscode": {
     "languageId": "dotnet-interactive.csharp"
    }
   },
   "outputs": [],
   "source": [
    "// Generate constraints based on the previous time selection:\n",
    "var constraints = new Constraints(); \n",
    "constraints.DateIntervals.Add(dateIntervals);\n",
    "constraints.TimeIntervals.Add(timeInterval);"
   ]
  },
  {
   "cell_type": "markdown",
   "id": "critical-baseline",
   "metadata": {},
   "source": [
    "The following code snippets create request and instantiate the service:"
   ]
  },
  {
   "cell_type": "code",
   "execution_count": null,
   "id": "lasting-large",
   "metadata": {
    "dotnet_interactive": {
     "language": "csharp"
    },
    "vscode": {
     "languageId": "dotnet-interactive.csharp"
    }
   },
   "outputs": [],
   "source": [
    "// Generate the tick trades request\n",
    "var request = new TickTradesRequest { Constraints = constraints };\n",
    "var identifier = new Identifier { Exchange = exchange, Ticker = ticker};\n",
    "request.Identifiers.Add(new [] {identifier}); "
   ]
  },
  {
   "cell_type": "code",
   "execution_count": null,
   "id": "elder-toddler",
   "metadata": {
    "dotnet_interactive": {
     "language": "csharp"
    },
    "vscode": {
     "languageId": "dotnet-interactive.csharp"
    }
   },
   "outputs": [],
   "source": [
    "// Instantiate the tick trades service\n",
    "var service = new TickTradesService.TickTradesServiceClient(channel);"
   ]
  },
  {
   "cell_type": "markdown",
   "id": "controversial-burden",
   "metadata": {},
   "source": [
    "### Step 4: Visualize data"
   ]
  },
  {
   "cell_type": "markdown",
   "id": "supreme-resource",
   "metadata": {},
   "source": [
    "#### 4.1 Retrieve trade prices and volumes"
   ]
  },
  {
   "cell_type": "code",
   "execution_count": null,
   "id": "confirmed-bullet",
   "metadata": {
    "dotnet_interactive": {
     "language": "csharp"
    },
    "vscode": {
     "languageId": "dotnet-interactive.csharp"
    }
   },
   "outputs": [],
   "source": [
    "// Get the trades \n",
    "// store the list of trades\n",
    "var trades = new List<Tuple<Timestamp, Trade>>();\n",
    "\n",
    "// Call the service\n",
    "var call = service.TickTrades(request, headers);\n",
    "\n",
    "// Process the responses\n",
    "await foreach (var current in call.ResponseStream.ReadAllAsync())\n",
    "{\n",
    "    if(current.Mapping != null)\n",
    "    {\n",
    "        // First response contains the mapping fields\n",
    "        // Skip the mapping data\n",
    "        continue;\n",
    "    }\n",
    "\n",
    "    // Get the time stamp for the current trade\n",
    "    var ts = current.Data.TimeStamp;\n",
    "\n",
    "    // Trade\n",
    "    if (current.Data.Trade != null) \n",
    "    {      \n",
    "        trades.Add(new Tuple<Timestamp, Trade>(ts, current.Data.Trade));\n",
    "    }\n",
    "}"
   ]
  },
  {
   "cell_type": "markdown",
   "id": "filled-grade",
   "metadata": {},
   "source": [
    "The following code snippet displays request results:"
   ]
  },
  {
   "cell_type": "code",
   "execution_count": null,
   "id": "played-billy",
   "metadata": {
    "dotnet_interactive": {
     "language": "csharp"
    },
    "vscode": {
     "languageId": "dotnet-interactive.csharp"
    }
   },
   "outputs": [],
   "source": [
    "// Display the trades\n",
    "//--> Note : the time stamp is displayed by default (using the unix format)\n",
    "//--> We can use other displayers for different output formats \n",
    "//--> For more details about the time stamp: https://developers.google.com/protocol-buffers/docs/reference/google.protobuf#google.protobuf.Timestamp \n",
    "//display(trades);"
   ]
  },
  {
   "cell_type": "markdown",
   "id": "combined-aurora",
   "metadata": {},
   "source": [
    "#### 4.2 Retrieve interval benchmarks"
   ]
  },
  {
   "cell_type": "code",
   "execution_count": null,
   "id": "documented-schema",
   "metadata": {
    "dotnet_interactive": {
     "language": "csharp"
    },
    "vscode": {
     "languageId": "dotnet-interactive.csharp"
    }
   },
   "outputs": [],
   "source": [
    "// Get bestex time interval\n",
    "var intervalStart = new DateTime(dateIntervals.StartDate.Year, dateIntervals.StartDate.Month, dateIntervals.StartDate.Day, timeInterval.StartTime.Hours, timeInterval.StartTime.Minutes, timeInterval.StartTime.Seconds);\n",
    "var intervalEnd = new DateTime(dateIntervals.EndDate.Year, dateIntervals.EndDate.Month, dateIntervals.EndDate.Day, timeInterval.EndTime.Hours, timeInterval.EndTime.Minutes, timeInterval.EndTime.Seconds);\n",
    "\n",
    "// Get first and last trades' timestamps\n",
    "var firstTimestamp = trades.Select(elt => elt.Item1.ToDateTime()).First();\n",
    "var lastTimestamp = trades.Select(elt => elt.Item1.ToDateTime()).Last();\n",
    "\n",
    "// Get a set of benchmarks\n",
    "var totalTrades = trades.Count;\n",
    "var totalSizes = trades.Sum(trade => trade.Item2.Size);\n",
    "var avgPrice = trades.Select(elt => elt.Item2.Price).Average();\n",
    "var avgSize = trades.Select(elt => elt.Item2.Size).Average();\n",
    "var maxPrice = trades.Max(trade => trade.Item2.Price);\n",
    "var minPrice = trades.Min(trade => trade.Item2.Price);\n",
    "var maxSize = trades.Max(trade => trade.Item2.Size);\n",
    "var minSize = trades.Min(trade => trade.Item2.Size);\n",
    "var vwap = trades.Sum(trade => trade.Item2.Price * trade.Item2.Size ) / totalSizes;"
   ]
  },
  {
   "cell_type": "code",
   "execution_count": null,
   "id": "spare-company",
   "metadata": {
    "dotnet_interactive": {
     "language": "csharp"
    },
    "vscode": {
     "languageId": "dotnet-interactive.csharp"
    }
   },
   "outputs": [],
   "source": [
    "// Display results\n",
    "Console.WriteLine($\"Interval start time \\t: {intervalStart:yyyy-MM-dd HH:mm:ss}\");\n",
    "Console.WriteLine($\"Interval end time\\t: {intervalEnd:yyyy-MM-dd HH:mm:ss}\");\n",
    "Console.WriteLine($\"First trade occured at\\t: {firstTimestamp:yyyy-MM-dd HH:mm:ss}\");\n",
    "Console.WriteLine($\"Last trade occured at\\t: {lastTimestamp:yyyy-MM-dd HH:mm:ss}\");\n",
    "Console.WriteLine($\"Total trades retrieved\\t: {trades.Count:N0}\");\n",
    "Console.WriteLine($\"Cumulated trade sizes\\t: {totalSizes:N0}\");\n",
    "Console.WriteLine($\"Average trade price\\t: {avgPrice:F3}\");\n",
    "Console.WriteLine($\"Average trade size\\t: {avgSize:N0}\");\n",
    "Console.WriteLine($\"Max trade price\\t\\t: {maxPrice:F3}\");\n",
    "Console.WriteLine($\"Min trade price\\t\\t: {minPrice:F3}\");\n",
    "Console.WriteLine($\"Max trade size\\t\\t: {maxSize:N0}\");\n",
    "Console.WriteLine($\"Min trade size\\t\\t: {minSize:N0}\");\n",
    "Console.WriteLine($\"Vwap\\t\\t\\t: {vwap:F3}\");"
   ]
  },
  {
   "cell_type": "markdown",
   "id": "native-cooperation",
   "metadata": {},
   "source": [
    "#### 4.3 Plot the interval trades\n",
    "Display trade prices and sizes over the look back period with the package of your choice.<br>*`XPlot.Plotly`* is used as per open source display package."
   ]
  },
  {
   "cell_type": "code",
   "execution_count": null,
   "id": "bibliographic-evanescence",
   "metadata": {
    "dotnet_interactive": {
     "language": "csharp"
    },
    "vscode": {
     "languageId": "dotnet-interactive.csharp"
    }
   },
   "outputs": [],
   "source": [
    "var pricesAndVolumes = new List<Scattergl>\n",
    "{ \n",
    "    new Scattergl\n",
    "    {\n",
    "        name = \"Tradeprice\",\n",
    "        mode = \"lines\",\n",
    "        x = trades.Select(elt => elt.Item1.ToDateTime()),\n",
    "        y = trades.Select(elt => elt.Item2.Price)\n",
    "    },\n",
    "    new Scattergl\n",
    "    {\n",
    "        name = \"Tradesize\",\n",
    "        x = trades.Select(elt => elt.Item1.ToDateTime()),\n",
    "        y = trades.Select(elt => elt.Item2.Size),\n",
    "        yaxis = \"y2\"\n",
    "    }\n",
    "};\n",
    "\n",
    "\n",
    "var layout = new Layout.Layout{ \n",
    "    title = $\"Interval trades for {ticker}-{exchange} | Trades count: {totalTrades} | Toal traded volume: {totalSizes} \",\n",
    "    yaxis = new Yaxis {\n",
    "        title = \"Price\", \n",
    "        autorange = true,\n",
    "        side = \"left\",\n",
    "    },\n",
    "    yaxis2 = new Yaxis {\n",
    "        title = \"Size\", \n",
    "        autorange = true,\n",
    "        side = \"right\",  \n",
    "    },\n",
    "};\n",
    "\n",
    "var chart = Chart.Plot(pricesAndVolumes, layout);\n",
    "chart.WithXTitle($\"Time\");\n",
    "chart.Width = 1500;\n",
    "chart.Height = 800;\n",
    "display(chart);"
   ]
  }
 ],
 "metadata": {
  "kernelspec": {
   "display_name": ".NET (C#)",
   "language": "C#",
   "name": ".net-csharp"
  },
  "language_info": {
   "file_extension": ".cs",
   "mimetype": "text/x-csharp",
   "name": "C#",
   "pygments_lexer": "csharp",
   "version": "9.0"
  }
 },
 "nbformat": 4,
 "nbformat_minor": 5
}
