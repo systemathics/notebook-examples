{
 "cells": [
  {
   "cell_type": "markdown",
   "id": "sublime-brass",
   "metadata": {},
   "source": [
    "# Displaying the auth0 token"
   ]
  },
  {
   "cell_type": "code",
   "execution_count": null,
   "id": "chronic-penny",
   "metadata": {
    "dotnet_interactive": {
     "language": "fsharp"
    },
    "vscode": {
     "languageId": "dotnet-interactive.fsharp"
    }
   },
   "outputs": [],
   "source": [
    "open System;\n",
    "let token = Environment.GetEnvironmentVariable(\"AUTH0_TOKEN\");\n",
    "display(token);"
   ]
  }
 ],
 "metadata": {
  "kernelspec": {
   "display_name": ".NET (F#)",
   "language": "F#",
   "name": ".net-fsharp"
  },
  "language_info": {
   "file_extension": ".fs",
   "mimetype": "text/x-fsharp",
   "name": "F#",
   "pygments_lexer": "fsharp",
   "version": "6.0"
  }
 },
 "nbformat": 4,
 "nbformat_minor": 5
}
