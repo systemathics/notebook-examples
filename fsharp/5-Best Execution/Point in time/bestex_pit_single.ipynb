{
 "cells": [
  {
   "cell_type": "markdown",
   "id": "0593e8fe",
   "metadata": {},
   "source": [
    "# Generate point-in-time best execution data using dedicated service - F#\n",
    "\n",
    "### Overview\n",
    "Best execution aims to measure the performance of executed trades, an execution algorithm or an execution venue.\n",
    "\n",
    "This sample is based on an `point-in-time` approach and designed to highlight individual trades within market activity over a look back period. \n",
    "\n",
    "<div class=\"alert alert-block alert-info\">\n",
    "    <b>Note:</b> To explore the interval approach, suitable to analyze market activity over a look back period. Please refer to <i>bestex-interval</i> notebooks.\n",
    "</div>\n",
    "\n",
    "This sample demonstrates how to request and plot from a dedicated data service **on-demand** best execution *point-in-time* results.\n",
    "\n",
    "### Inputs/outputs\n",
    "Best execution PIT sample requires instrument's identifier, **single trade** and time window as per inputs. Results are as follows:\n",
    "* a snapshot of occured trades around the given trade based on the input time window\n",
    "\n",
    "### Services used\n",
    "This sample uses *gRPC requests* in order to retrieve trades information from the hosted service. The queried endpoint in this script are:\n",
    "* *TickTradesService*: to directly retrieve trades data from the server.\n",
    "\n",
    "### Packages required\n",
    "1. Systemathics:\n",
    "    * *Systemathics.Apis.Type.Shared.V1*\n",
    "    * *Systemathics.Apis.Services.Tick.V1*\n",
    "2. Open source:\n",
    "    * *Google.Protobuf.WellKnownTypes*\n",
    "    * *Google.Type*\n",
    "    * *Grpc.Net.Client*\n",
    "    * *Grpc.Core*\n",
    "    * *XPlot.Plotly* as per display package\n",
    "    \n",
    "***\n"
   ]
  },
  {
   "cell_type": "markdown",
   "id": "02fc7570",
   "metadata": {},
   "source": [
    "# Run BestEx Point-in-time sample"
   ]
  },
  {
   "cell_type": "markdown",
   "id": "11cfd4eb",
   "metadata": {},
   "source": [
    "### Step 1: Install packages"
   ]
  },
  {
   "cell_type": "code",
   "execution_count": null,
   "id": "4e66f5e3",
   "metadata": {
    "dotnet_interactive": {
     "language": "fsharp"
    }
   },
   "outputs": [],
   "source": [
    "#i \"nuget: file:///home/jovyan/.nuget/packages/\"\n",
    "#i \"nuget: https://api.nuget.org/v3/index.json\"\n",
    "#r \"nuget: Systemathics.Apis\"\n",
    "#r \"nuget: XPlot.Plotly.Interactive\"\n",
    "#r \"nuget: TaskBuilder.fs\""
   ]
  },
  {
   "cell_type": "code",
   "execution_count": null,
   "id": "0c322b3e",
   "metadata": {
    "dotnet_interactive": {
     "language": "fsharp"
    }
   },
   "outputs": [],
   "source": [
    "open Systemathics.Apis.Helpers\n",
    "open Systemathics.Apis.Type.Shared.V1\n",
    "open Systemathics.Apis.Services.Tick.V1\n",
    "open Google.Protobuf.WellKnownTypes\n",
    "open Google.Type\n",
    "open Grpc.Net.Client\n",
    "open Grpc.Core\n",
    "open XPlot.Plotly\n",
    "open XPlot.Plotly.Interactive"
   ]
  },
  {
   "cell_type": "markdown",
   "id": "75e5be96",
   "metadata": {},
   "source": [
    "### Step 2: Prepare API requests\n",
    "The following code snippets retrieve authentication token and prepare the API request by: opening the *channel* and adding the *token* to the request header:"
   ]
  },
  {
   "cell_type": "code",
   "execution_count": null,
   "id": "e4187a76",
   "metadata": {
    "dotnet_interactive": {
     "language": "fsharp"
    }
   },
   "outputs": [],
   "source": [
    "// Get token as metadata\n",
    "let headers = TokenHelpers.GetTokenAsMetaData();\n",
    "\n",
    "// Create communication channel\n",
    "let channel = ChannelHelpers.GetChannel();"
   ]
  },
  {
   "cell_type": "markdown",
   "id": "ecb362a5",
   "metadata": {},
   "source": [
    "### Step 3: Create and process request"
   ]
  },
  {
   "cell_type": "markdown",
   "id": "e9304996",
   "metadata": {},
   "source": [
    "#### 3.1 Instrument selection"
   ]
  },
  {
   "cell_type": "code",
   "execution_count": null,
   "id": "b0865d0e",
   "metadata": {
    "dotnet_interactive": {
     "language": "fsharp"
    }
   },
   "outputs": [],
   "source": [
    "// Set the instrument  identifier: a ticker and an exchange code\n",
    "let ticker = \"AAPL\"\n",
    "let exchange = \"BATS\"\n",
    "\n",
    "// Set the time window to delimit the input trade\n",
    "let window = TimeSpan.FromMinutes(15.)"
   ]
  },
  {
   "cell_type": "markdown",
   "id": "80433f1e",
   "metadata": {},
   "source": [
    "#### 3.2 Trade parameters"
   ]
  },
  {
   "cell_type": "markdown",
   "id": "6b473e2e",
   "metadata": {},
   "source": [
    "We assume our trade is the following:"
   ]
  },
  {
   "cell_type": "code",
   "execution_count": null,
   "id": "b90efd8d",
   "metadata": {
    "dotnet_interactive": {
     "language": "fsharp"
    }
   },
   "outputs": [],
   "source": [
    "let timestamp = Convert.ToDateTime(\"2021-03-05T12:13:21.877300Z\")\n",
    "let price = 119.81\n",
    "let size = 100"
   ]
  },
  {
   "cell_type": "markdown",
   "id": "cc8a56cf",
   "metadata": {},
   "source": [
    "#### 3.3 Time period delimitation"
   ]
  },
  {
   "cell_type": "code",
   "execution_count": null,
   "id": "5c411afd",
   "metadata": {
    "dotnet_interactive": {
     "language": "fsharp"
    }
   },
   "outputs": [],
   "source": [
    "// Build the tick trades request date interval (we are using Google date time format)\n",
    "let dateIntervals = \n",
    "    new DateInterval(\n",
    "        StartDate = new Date ( Year = timestamp.Year, Month = timestamp.Month, Day = timestamp.Day ),\n",
    "        EndDate = new Date ( Year = timestamp.Year, Month = timestamp.Month, Day = timestamp.Day ) \n",
    "    )\n",
    "\n",
    "// Get the first and the last times from the input trade\n",
    "let firstTime = timestamp.TimeOfDay.Add(-window)\n",
    "let lastTime = timestamp.TimeOfDay.Add(window)\n",
    "\n",
    "// Build the tick trades request time interval (we are using Google date time format)\n",
    "// UTC time zone\n",
    "let timeInterval = \n",
    "    new TimeInterval(\n",
    "        StartTime = new TimeOfDay ( Hours = firstTime.Hours, Minutes = firstTime.Minutes, Seconds = firstTime.Seconds ), \n",
    "        EndTime = new TimeOfDay ( Hours = lastTime.Hours, Minutes = lastTime.Minutes, Seconds = lastTime.Seconds )\n",
    "    )"
   ]
  },
  {
   "cell_type": "markdown",
   "id": "017d3ffe",
   "metadata": {},
   "source": [
    "#### 3.4 Request creation\n",
    "The following code snippet creates *gRPC client*, process request and returns request reply."
   ]
  },
  {
   "cell_type": "code",
   "execution_count": null,
   "id": "f0f88db1",
   "metadata": {
    "dotnet_interactive": {
     "language": "fsharp"
    }
   },
   "outputs": [],
   "source": [
    "// Generate constraints based on the previous time selection\n",
    "let constraints = new Constraints() \n",
    "constraints.DateIntervals.Add(dateIntervals)\n",
    "constraints.TimeIntervals.Add(timeInterval)"
   ]
  },
  {
   "cell_type": "code",
   "execution_count": null,
   "id": "da35402d",
   "metadata": {
    "dotnet_interactive": {
     "language": "fsharp"
    }
   },
   "outputs": [],
   "source": [
    "// Generate the tick trades request\n",
    "let request = new TickTradesRequest ( Constraints = constraints )\n",
    "let identifier = new Identifier ( Exchange = exchange, Ticker = ticker)\n",
    "request.Identifiers.Add( [| identifier |] ) "
   ]
  },
  {
   "cell_type": "code",
   "execution_count": null,
   "id": "38b07cbf",
   "metadata": {
    "dotnet_interactive": {
     "language": "fsharp"
    }
   },
   "outputs": [],
   "source": [
    "// Instantiate the tick trades service\n",
    "let service = new TickTradesService.TickTradesServiceClient(channel)"
   ]
  },
  {
   "cell_type": "markdown",
   "id": "d93512a9",
   "metadata": {},
   "source": [
    "### Step 4: Visualize data"
   ]
  },
  {
   "cell_type": "markdown",
   "id": "928d4fc3",
   "metadata": {},
   "source": [
    "#### 4.1 Retrive trades"
   ]
  },
  {
   "cell_type": "code",
   "execution_count": null,
   "id": "ed853c18",
   "metadata": {
    "dotnet_interactive": {
     "language": "fsharp"
    }
   },
   "outputs": [],
   "source": [
    "open FSharp.Control.Tasks.V2\n",
    "open System.Collections.Generic\n",
    "\n",
    "let iterAsync (t: IAsyncEnumerable<'T>) (f : 'T -> unit) =\n",
    "    let task = \n",
    "        task {\n",
    "            let e = t.GetAsyncEnumerator()\n",
    "            let mutable go = true\n",
    "            try\n",
    "                let! step = e.MoveNextAsync()\n",
    "                go <- step\n",
    "                while go do \n",
    "                    f e.Current\n",
    "                    let! step = e.MoveNextAsync()\n",
    "                    go <- step\n",
    "            finally\n",
    "                e.DisposeAsync().AsTask().Wait()\n",
    "        }\n",
    "    task.Wait()\n",
    "\n",
    "let add (collection : List<Trade>) (item : TickTradesResponse) =\n",
    "    if( item |> isNull |> not && item.Trade |> isNull |> not ) then\n",
    "        collection.Add item.Trade\n"
   ]
  },
  {
   "cell_type": "code",
   "execution_count": null,
   "id": "9541b567",
   "metadata": {
    "dotnet_interactive": {
     "language": "fsharp"
    }
   },
   "outputs": [],
   "source": [
    "// Get the trades\n",
    "let trades = new List<Trade>()\n",
    "\n",
    "let call = service.TickTrades(request, headers)\n",
    "let e = call.ResponseStream.ReadAllAsync()\n",
    "\n",
    "iterAsync e (add trades)\n"
   ]
  },
  {
   "cell_type": "markdown",
   "id": "6db4258a",
   "metadata": {},
   "source": [
    "The following code snippet displays request results:"
   ]
  },
  {
   "cell_type": "code",
   "execution_count": null,
   "id": "9b1ccf31",
   "metadata": {
    "dotnet_interactive": {
     "language": "fsharp"
    }
   },
   "outputs": [],
   "source": [
    "trades |> display"
   ]
  },
  {
   "cell_type": "markdown",
   "id": "e5dad73b",
   "metadata": {},
   "source": [
    "#### 4.2 Plot individual trade within market snapshot\n",
    "Display trade prices and highlight the individual trade over the look back period with the package of your choice.<br>*`XPlot.Plotly`* is used as per open source display package.\n",
    "Plot a simple line graph with the trade prices and mark out the individual trade as follows: "
   ]
  },
  {
   "cell_type": "code",
   "execution_count": null,
   "id": "a7bfd412",
   "metadata": {
    "dotnet_interactive": {
     "language": "fsharp"
    }
   },
   "outputs": [],
   "source": [
    "// Create Trade class to handle the input trades\n",
    "public class Input\n",
    "(\n",
    "    public DateTime Timestamp ( get set )\n",
    "    public double Price ( get set )\n",
    "    public long Size ( get set )\n",
    ")\n",
    "\n",
    "// Input trade : trade to validate\n",
    "let input = new Input() ( Timestamp = timestamp, Price = price, Size = size )\n",
    "let inputs = new List<Input>()(input)"
   ]
  },
  {
   "cell_type": "code",
   "execution_count": null,
   "id": "bf2206bf",
   "metadata": {
    "dotnet_interactive": {
     "language": "fsharp"
    }
   },
   "outputs": [],
   "source": [
    "let bestexPit = \n",
    "    [\n",
    "        new Scattergl (name = \"Price\", x = (trades |> Seq.map (fun elt -> elt.TimeStamp.ToDateTime())), y = (trades |> Seq.map (fun elt -> elt.Price)), mode = \"lines\" )\n",
    "        new Scattergl (name = \"Input trade price\", x = [ timestamp ], y = [ price ], mode = \"markers\" )\n",
    "        new Scattergl (name = \"Input trade size\", x = [ timestamp ], y = [size ], mode = \"markers\", yaxis = \"y2\" )\n",
    "        new Scattergl (name = \"Size\", mode = \"lines\", x = (trades |> Seq.map (fun elt -> elt.TimeStamp.ToDateTime())), y = (trades |> Seq.map (fun elt -> elt.Size)), yaxis = \"y2\")\n",
    "    ]\n",
    "\n",
    "let layout = \n",
    "    new Layout.Layout( \n",
    "        title = $\"Input trade within market snapshot for (ticker)-(exchange)\",\n",
    "        xaxis = new Xaxis (title = \"Time\" ),\n",
    "        yaxis = new Yaxis ( title = \"Price\", autorange = true, side = \"left\"),\n",
    "        yaxis2 = new Yaxis ( title = \"Size\", autorange = true, side = \"right\")\n",
    "    )\n",
    "\n",
    "Chart.Plot(bestexPit, layout)\n",
    "|> Chart.WithWidth 1500\n",
    "|> Chart.WithHeight 800\n",
    "|> display"
   ]
  }
 ],
 "metadata": {
  "kernelspec": {
   "display_name": ".NET (F#)",
   "language": "F#",
   "name": ".net-fsharp"
  },
  "language_info": {
   "file_extension": ".fs",
   "mimetype": "text/x-fsharp",
   "name": "F#",
   "pygments_lexer": "fsharp",
   "version": "5.0"
  }
 },
 "nbformat": 4,
 "nbformat_minor": 5
}
