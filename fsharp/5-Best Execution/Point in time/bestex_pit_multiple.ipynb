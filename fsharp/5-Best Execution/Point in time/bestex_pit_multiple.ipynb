{
 "cells": [
  {
   "cell_type": "markdown",
   "id": "political-number",
   "metadata": {},
   "source": [
    "# Generate point-in-time best execution data using dedicated service - F#\n",
    "\n",
    "### Overview\n",
    "Best execution aims to measure the performance of executed trades, an execution algorithm or an execution venue.\n",
    "\n",
    "This sample is based on an `point-in-time` approach and designed to highlight individual trades within market activity over a look back period. \n",
    "\n",
    "<div class=\"alert alert-block alert-info\">\n",
    "    <b>Note:</b> To explore the interval approach, suitable to analyze market activity over a look back period. Please refer to <i>bestex-interval</i> notebooks.\n",
    "</div>\n",
    "\n",
    "This sample demonstrates how to request and plot from a dedicated data service **on-demand** best execution *point-in-time* results.\n",
    "\n",
    "### Inputs/outputs\n",
    "Best execution PIT sample requires instrument's identifier, **a list of trades** and time window as per inputs. Results are as follows:\n",
    "* a snapshot of occured trades around the given trade based on the input time window\n",
    "* plot the request result and export data\n",
    "\n",
    "### Services used\n",
    "This sample uses *gRPC requests* in order to retrieve trades information from the hosted service. The queried endpoint in this script are:\n",
    "* *TickTradesService*: to directly retrieve trades data from the server.\n",
    "\n",
    "### Packages required\n",
    "1. Systemathics:\n",
    "    * *Systemathics.Apis.Type.Shared.V1*\n",
    "    * *Systemathics.Apis.Services.Tick.V1*\n",
    "2. Open source:\n",
    "    * *Google.Protobuf.WellKnownTypes*\n",
    "    * *Google.Type*\n",
    "    * *Grpc.Net.Client*\n",
    "    * *Grpc.Core*\n",
    "    * *XPlot.Plotly* as per display package\n",
    "    \n",
    "***\n"
   ]
  },
  {
   "cell_type": "markdown",
   "id": "monetary-newton",
   "metadata": {},
   "source": [
    "# Run BestEx Point-in-time sample"
   ]
  },
  {
   "cell_type": "markdown",
   "id": "private-client",
   "metadata": {},
   "source": [
    "### Step 1: Install packages"
   ]
  },
  {
   "cell_type": "code",
   "execution_count": null,
   "id": "continuous-bunch",
   "metadata": {
    "dotnet_interactive": {
     "language": "fsharp"
    }
   },
   "outputs": [],
   "source": [
    "#i \"nuget: file:///home/jovyan/.nuget/packages/\"\n",
    "#i \"nuget: https://api.nuget.org/v3/index.json\"\n",
    "#r \"nuget: Systemathics.Apis, 0.9.*-pre*\"\n",
    "#r \"nuget: XPlot.Plotly.Interactive\"\n",
    "#r \"nuget: FSharp.Data\"\n",
    "#r \"nuget: TaskBuilder.fs\""
   ]
  },
  {
   "cell_type": "code",
   "execution_count": null,
   "id": "british-trail",
   "metadata": {
    "dotnet_interactive": {
     "language": "fsharp"
    }
   },
   "outputs": [],
   "source": [
    "open Systemathics.Apis.Helpers\n",
    "open Systemathics.Apis.Type.Shared.V1\n",
    "open Systemathics.Apis.Services.Tick.V1\n",
    "open Google.Protobuf.WellKnownTypes\n",
    "open Google.Type\n",
    "open Grpc.Net.Client\n",
    "open Grpc.Core\n",
    "// Plot charts\n",
    "open XPlot.Plotly\n",
    "open XPlot.Plotly.Interactive"
   ]
  },
  {
   "cell_type": "markdown",
   "id": "purple-journey",
   "metadata": {},
   "source": [
    "### Step 2: Prepare API requests\n",
    "The following code snippets retrieve authentication token and prepare the API request by: opening the *channel* and adding the *token* to the request header:"
   ]
  },
  {
   "cell_type": "code",
   "execution_count": null,
   "id": "certified-obligation",
   "metadata": {
    "dotnet_interactive": {
     "language": "fsharp"
    }
   },
   "outputs": [],
   "source": [
    "// Get token as metadata\n",
    "let headers = TokenHelpers.GetTokenAsMetaData();\n",
    "\n",
    "// Create communication channel\n",
    "let channel = ChannelHelpers.GetChannel();"
   ]
  },
  {
   "cell_type": "markdown",
   "id": "thrown-sector",
   "metadata": {},
   "source": [
    "### Step 3: Retrieve data"
   ]
  },
  {
   "cell_type": "markdown",
   "id": "ahead-crowd",
   "metadata": {},
   "source": [
    "#### 3.1 Input trades import\n",
    "We assume our trades are in a *csv file* that we imported in the same folder as the current data sample.\n",
    "\n",
    "We aim to to ensure that it was the best possible execution for each and every trade. To do so, we have to retrieve the *trades as a market snapshot* and mark out the *individual trades*.\n",
    "\n",
    "The following code snippets import *individual trades* from the *csv file*:"
   ]
  },
  {
   "cell_type": "code",
   "execution_count": null,
   "id": "occupational-crash",
   "metadata": {
    "dotnet_interactive": {
     "language": "fsharp"
    }
   },
   "outputs": [],
   "source": [
    "// Load the trades from the csv input file\n",
    "open FSharp.Data\n",
    "\n",
    "type InputTrades = CsvProvider<\"input_trades.csv\">\n",
    "let inputTrades = \n",
    "    (new InputTrades ()).Rows\n",
    "    |> Seq.map (fun i -> { Timestamp = i.Timestamp.DateTime; Price = double i.Price; Size = int64 i.Size; Flag = i.Flag })\n",
    "    |> Seq.sortBy (fun i -> i.Timestamp)\n",
    "    |> Seq.toArray\n",
    "\n",
    "\n",
    "// Display the loaded trades\n",
    "inputTrades\n",
    "|> display\n"
   ]
  },
  {
   "cell_type": "markdown",
   "id": "hollow-isolation",
   "metadata": {},
   "source": [
    "### Step 3: Create and process request\n",
    "To request *tick trades* service, we need to specify:\n",
    "* Instrument identifier\n",
    "* Time period selection: select start and end dates\n",
    "* Tick trades request parameters"
   ]
  },
  {
   "cell_type": "markdown",
   "id": "described-paradise",
   "metadata": {},
   "source": [
    "#### 3.1 Instrument selection"
   ]
  },
  {
   "cell_type": "code",
   "execution_count": null,
   "id": "configured-north",
   "metadata": {
    "dotnet_interactive": {
     "language": "fsharp"
    }
   },
   "outputs": [],
   "source": [
    "// Set the instrument  identifier: a ticker and an exchange code\n",
    "let ticker = \"AAPL\"\n",
    "let exchange = \"BATS\""
   ]
  },
  {
   "cell_type": "markdown",
   "id": "loving-homework",
   "metadata": {},
   "source": [
    "#### 3.2 Best execution interval selection"
   ]
  },
  {
   "cell_type": "code",
   "execution_count": null,
   "id": "descending-fleece",
   "metadata": {
    "dotnet_interactive": {
     "language": "fsharp"
    }
   },
   "outputs": [],
   "source": [
    "// Set the time window to delimit the input trade in seconds\n",
    "let window = TimeSpan.FromSeconds(5. * 60.)"
   ]
  },
  {
   "cell_type": "markdown",
   "id": "operational-belize",
   "metadata": {},
   "source": [
    "#### 3.3 Time period delimitation"
   ]
  },
  {
   "cell_type": "markdown",
   "id": "romantic-owner",
   "metadata": {},
   "source": [
    "The following code snippets delimits the best execution time interval around each input trade based on the previously chosen time window."
   ]
  },
  {
   "cell_type": "code",
   "execution_count": null,
   "id": "deluxe-france",
   "metadata": {
    "dotnet_interactive": {
     "language": "fsharp"
    }
   },
   "outputs": [],
   "source": [
    "// Get the first and the last dates from the input trades\n",
    "\n",
    "\n",
    "let firstDate = (inputTrades |> Array.head).Timestamp.Date\n",
    "let lastDate = (inputTrades |> Array.last).Timestamp.Date\n",
    "\n",
    "// Build the tick trades date interval (we are using Google date time format)\n",
    "let dateIntervals = \n",
    "    new DateInterval(\n",
    "        StartDate = new Date ( Year = firstDate.Year, Month = firstDate.Month, Day = firstDate.Day ),\n",
    "        EndDate = new Date ( Year = lastDate.Year, Month = lastDate.Month, Day = lastDate.Day )\n",
    "    )\n",
    "\n",
    "// Get the first and the last timestamps from the input trades\n",
    "let firstTime = (inputTrades |> Array.minBy (fun t -> t.Timestamp.TimeOfDay)).Timestamp.TimeOfDay.Add(-window)\n",
    "let lastTime = (inputTrades |> Array.maxBy( fun t -> t.Timestamp.TimeOfDay)).Timestamp.TimeOfDay.Add(window)\n",
    "\n",
    "// Build the tick trades time interval (we are using Google date time format)\n",
    "let timeInterval = \n",
    "    new TimeInterval( \n",
    "        StartTime = new TimeOfDay ( Hours = firstTime.Hours, Minutes = firstTime.Minutes, Seconds = firstTime.Seconds ),\n",
    "        EndTime = new TimeOfDay ( Hours = lastTime.Hours, Minutes = lastTime.Minutes, Seconds = lastTime.Seconds )\n",
    "    )"
   ]
  },
  {
   "cell_type": "markdown",
   "id": "crude-protest",
   "metadata": {},
   "source": [
    "#### 3.4 Request creation\n",
    "The following code snippet creates *gRPC client*, process request and returns request reply."
   ]
  },
  {
   "cell_type": "code",
   "execution_count": null,
   "id": "interpreted-midnight",
   "metadata": {
    "dotnet_interactive": {
     "language": "fsharp"
    }
   },
   "outputs": [],
   "source": [
    "// Generate constraints based on the previous time selection\n",
    "let constraints = new Constraints() \n",
    "constraints.DateIntervals.Add(dateIntervals)\n",
    "constraints.TimeIntervals.Add(timeInterval)"
   ]
  },
  {
   "cell_type": "code",
   "execution_count": null,
   "id": "chicken-collapse",
   "metadata": {
    "dotnet_interactive": {
     "language": "fsharp"
    }
   },
   "outputs": [],
   "source": [
    "// Generate the tick trades request\n",
    "let request = new TickTradesRequest ( Constraints = constraints )\n",
    "let identifier = new Identifier ( Exchange = exchange, Ticker = ticker)\n",
    "request.Identifiers.Add([| identifier |]) "
   ]
  },
  {
   "cell_type": "code",
   "execution_count": null,
   "id": "happy-pilot",
   "metadata": {
    "dotnet_interactive": {
     "language": "fsharp"
    }
   },
   "outputs": [],
   "source": [
    "// Instantiate the tick trades service\n",
    "let service = new TickTradesService.TickTradesServiceClient(channel)"
   ]
  },
  {
   "cell_type": "markdown",
   "id": "congressional-criterion",
   "metadata": {},
   "source": [
    "### Step 4: Visualize data"
   ]
  },
  {
   "cell_type": "markdown",
   "id": "ultimate-contrary",
   "metadata": {},
   "source": [
    "#### 4.1 Retrieve occured trades"
   ]
  },
  {
   "cell_type": "code",
   "execution_count": null,
   "id": "twenty-third",
   "metadata": {
    "dotnet_interactive": {
     "language": "fsharp"
    }
   },
   "outputs": [],
   "source": [
    "// Get the trades\n",
    "open FSharp.Control.Tasks.V2\n",
    "open System.Collections.Generic\n",
    "\n",
    "let iterAsync (t: IAsyncEnumerable<'T>) (f : 'T -> unit) =\n",
    "    let task = \n",
    "        task {\n",
    "            let e = t.GetAsyncEnumerator()\n",
    "            let mutable go = true\n",
    "            try\n",
    "                let! step = e.MoveNextAsync()\n",
    "                go <- step\n",
    "                while go do \n",
    "                    f e.Current\n",
    "                    let! step = e.MoveNextAsync()\n",
    "                    go <- step\n",
    "            finally\n",
    "                e.DisposeAsync().AsTask().Wait()\n",
    "        }\n",
    "    task.Wait()"
   ]
  },
  {
   "cell_type": "code",
   "execution_count": null,
   "id": "agreed-mounting",
   "metadata": {
    "dotnet_interactive": {
     "language": "fsharp"
    }
   },
   "outputs": [],
   "source": []
  },
  {
   "cell_type": "code",
   "execution_count": null,
   "id": "thousand-insurance",
   "metadata": {
    "dotnet_interactive": {
     "language": "fsharp"
    }
   },
   "outputs": [],
   "source": [
    "// Get the trades\n",
    "let trades = new List<Trade>()\n",
    "\n",
    "let call = service.TickTrades(request, headers)\n",
    "let e = call.ResponseStream.ReadAllAsync()\n",
    "\n",
    "let add (collection : List<Trade>) (item : TickTradesResponse) =\n",
    "    if( item |> isNull |> not && item.Trade |> isNull |> not ) then\n",
    "        collection.Add item.Trade\n",
    "    \n",
    "iterAsync e (add trades)\n"
   ]
  },
  {
   "cell_type": "code",
   "execution_count": null,
   "id": "greater-template",
   "metadata": {
    "dotnet_interactive": {
     "language": "fsharp"
    }
   },
   "outputs": [],
   "source": [
    "// Display trades\n",
    "//trades |> display\n",
    "let split (t: List<Trade>) = \n",
    "    t\n",
    "    |> Seq.toList\n",
    "    |> List.map (fun t -> (t.TimeStamp.ToDateTime(), t.Price))\n",
    "    |> List.unzip\n",
    "\n",
    "let split' (t: InputTrade []) = \n",
    "    t\n",
    "    |> Array.map (fun t -> (t.Timestamp, t.Price))\n",
    "    |> Array.unzip\n",
    "\n",
    "let (mktKeys, mktValues) = split trades\n",
    "let (inputKeys, inputValues) = split' inputTrades\n"
   ]
  },
  {
   "cell_type": "markdown",
   "id": "fleet-retrieval",
   "metadata": {},
   "source": [
    "#### 4.3 Plot individual trades within market snapshot\n",
    "Display trade prices and highlight the individual trades over the look back period with the package of your choice.<br>*`XPlot.Plotly`* is used as per open source display package.\n",
    "Plot a simple line graph with the trade prices and mark out the individual trades as follows: "
   ]
  },
  {
   "cell_type": "code",
   "execution_count": null,
   "id": "clinical-arizona",
   "metadata": {
    "dotnet_interactive": {
     "language": "fsharp"
    }
   },
   "outputs": [],
   "source": [
    "// Create the graph\n",
    "[\n",
    "    new Scattergl(\n",
    "        name = \"Market trades\", \n",
    "        x = mktKeys, \n",
    "        y = mktValues\n",
    "        )\n",
    "    new Scattergl(\n",
    "        name = \"Input trades\", \n",
    "        x = inputKeys, \n",
    "        y = inputValues, \n",
    "        mode=\"markers\"\n",
    "        )\n",
    "]\n",
    "|> Chart.Plot\n",
    "|> Chart.WithTitle $\"Market snapshot and input trades for {ticker}\"\n",
    "|> Chart.WithXTitle \"Time\"\n",
    "|> Chart.WithYTitle \"Price\"\n",
    "|> Chart.WithWidth  1500\n",
    "|> Chart.WithHeight  800\n",
    "|> display"
   ]
  }
 ],
 "metadata": {
  "kernelspec": {
   "display_name": ".NET (F#)",
   "language": "F#",
   "name": ".net-fsharp"
  },
  "language_info": {
   "file_extension": ".fs",
   "mimetype": "text/x-fsharp",
   "name": "F#",
   "pygments_lexer": "fsharp",
   "version": "5.0"
  }
 },
 "nbformat": 4,
 "nbformat_minor": 5
}
