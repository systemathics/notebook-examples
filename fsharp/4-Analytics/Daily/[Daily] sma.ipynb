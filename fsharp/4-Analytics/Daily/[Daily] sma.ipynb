{
 "cells": [
  {
   "cell_type": "markdown",
   "id": "spread-track",
   "metadata": {},
   "source": [
    "# Generate SMA using daily data service - F#\n",
    "\n",
    "### Overview\n",
    "Moving averages smooth the price movements by filtering out the \"noise\" caused by short-term price fluctuations.They also form the building blocks for a wide range of technical indicators.\n",
    "\n",
    "Computing moving averages over a defined number of time periods is useful to:\n",
    "* identify the trend direction\n",
    "* determine support and resistance levels\n",
    "\n",
    "This sample demonstrates how to request and plot **on-demand** *simple moving average - SMA* from a daily data service.\n",
    "\n",
    "### Inputs/outputs\n",
    "Simple moving averages' requests require instrument's identifier, date time intervals and number of periods as per inputs.\n",
    "\n",
    "Basically, SMA is formed by computing the average price of a security over a specific number of points. As its name implies, simple moving average is an average that moves. Old data is dropped and new data becomes available, causing the average to move along the time.\n",
    "\n",
    "N-points SMA data point is computed by adding up the last N period's prices and then dividing by N as follows:\n",
    "\n",
    "$$ SMA = \\frac{\\Sigma Close_n}{N} $$\n",
    "Where:\n",
    "* *$Close_n$* is the close price of the *period n*\n",
    "* *N* is the count of time periods\n",
    "\n",
    "This sample shows how to plot a simple graph for basis technical analysis using an open source library. \n",
    "\n",
    "### Services used\n",
    "This sample uses *gRPC requests* in order to retrieve daily data from the hosted service. The queried endpoint in this script are:\n",
    "* *DailySmaService*: to directly retrieve daily SMA data from the server\n",
    "\n",
    "### Packages required\n",
    "1. Systemathics packages:\n",
    "    * *Systemathics.Apis.Type.Shared.V1*\n",
    "    * *Systemathics.Apis.Services.DailyAnalytics.V1*\n",
    "2. Open source packages\n",
    "    * *Google.Protobuf.WellKnownTypes*\n",
    "    * *Google.Type*\n",
    "    * *Grpc.Net.Client*\n",
    "    * *Grpc.Core*\n",
    "    * *XPlot.Plotly* as per display package\n",
    "\n",
    "***"
   ]
  },
  {
   "cell_type": "markdown",
   "id": "waiting-unemployment",
   "metadata": {},
   "source": [
    "# Run daily SMA sample"
   ]
  },
  {
   "cell_type": "markdown",
   "id": "varying-china",
   "metadata": {},
   "source": [
    "### Step 1: Install packages"
   ]
  },
  {
   "cell_type": "code",
   "execution_count": null,
   "id": "reported-plant",
   "metadata": {
    "dotnet_interactive": {
     "language": "fsharp"
    }
   },
   "outputs": [],
   "source": [
    "#i \"nuget: file:///home/jovyan/.nuget/packages/\"\n",
    "#i \"nuget: https://api.nuget.org/v3/index.json\"\n",
    "#r \"nuget: Systemathics.Apis, 0.*-pre*\"\n",
    "#r \"nuget: XPlot.Plotly.Interactive\""
   ]
  },
  {
   "cell_type": "code",
   "execution_count": null,
   "id": "rapid-fluid",
   "metadata": {
    "dotnet_interactive": {
     "language": "fsharp"
    }
   },
   "outputs": [],
   "source": [
    "open Systemathics.Apis.Helpers\n",
    "open Systemathics.Apis.Type.Shared.V1\n",
    "open Systemathics.Apis.Services.DailyAnalytics.V1\n",
    "open Google.Protobuf.WellKnownTypes\n",
    "open Google.Type\n",
    "open Grpc.Net.Client\n",
    "open Grpc.Core\n",
    "open XPlot.Plotly\n",
    "open XPlot.Plotly.Interactive"
   ]
  },
  {
   "cell_type": "markdown",
   "id": "afraid-horse",
   "metadata": {},
   "source": [
    "### Step 2: Prepare API requests\n",
    "The following code snippets retrieve authentication token and prepare the API request by: opening the *channel* and adding the *token* to the request header:"
   ]
  },
  {
   "cell_type": "code",
   "execution_count": null,
   "id": "honey-extraction",
   "metadata": {
    "dotnet_interactive": {
     "language": "fsharp"
    }
   },
   "outputs": [],
   "source": [
    "// Get token as metadata\n",
    "let headers = TokenHelpers.GetTokenAsMetaData();\n",
    "\n",
    "// Create communication channel\n",
    "let channel = ChannelHelpers.GetChannel();"
   ]
  },
  {
   "cell_type": "markdown",
   "id": "minute-aluminum",
   "metadata": {},
   "source": [
    "### Step 3: Retrieve data"
   ]
  },
  {
   "cell_type": "markdown",
   "id": "organized-temperature",
   "metadata": {},
   "source": [
    "To request *daily sma* service, we need to specify:\n",
    "* Instrument identifier\n",
    "* Time period selection: select start and end dates\n",
    "* The SMA parameters"
   ]
  },
  {
   "cell_type": "markdown",
   "id": "expensive-terrorism",
   "metadata": {},
   "source": [
    "#### 3.1 Instrument selection"
   ]
  },
  {
   "cell_type": "code",
   "execution_count": null,
   "id": "classical-peter",
   "metadata": {
    "dotnet_interactive": {
     "language": "fsharp"
    }
   },
   "outputs": [],
   "source": [
    "// Set instrument\n",
    "let ticker = \"AAPL\"\n",
    "let exchange = \"XNGS\""
   ]
  },
  {
   "cell_type": "markdown",
   "id": "heated-locator",
   "metadata": {},
   "source": [
    "#### 3.2 SMA parameters"
   ]
  },
  {
   "cell_type": "code",
   "execution_count": null,
   "id": "middle-cursor",
   "metadata": {
    "dotnet_interactive": {
     "language": "fsharp"
    }
   },
   "outputs": [],
   "source": [
    "// Set SMAs lengths\n",
    "let longSma = 200\n",
    "let shortSma = 50"
   ]
  },
  {
   "cell_type": "markdown",
   "id": "responsible-northeast",
   "metadata": {},
   "source": [
    "#### 3.3 Time period selection"
   ]
  },
  {
   "cell_type": "code",
   "execution_count": null,
   "id": "prostate-distinction",
   "metadata": {
    "dotnet_interactive": {
     "language": "fsharp"
    }
   },
   "outputs": [],
   "source": [
    "// Set data interval (we are using Google date time format)\n",
    "let dateIntervals = \n",
    "  new DateInterval(\n",
    "    StartDate = new Date ( Year = 2019, Month = 01, Day = 01 ),\n",
    "    EndDate = new Date ( Year = 2020, Month = 12, Day = 31 )\n",
    "  )\n",
    "\n",
    "// Generate constraints based on the previous date selection\n",
    "// Time constraints are not neeeded for the splits\n",
    "let constraints = new Constraints() \n",
    "constraints.DateIntervals.Add(dateIntervals)"
   ]
  },
  {
   "cell_type": "markdown",
   "id": "accurate-carolina",
   "metadata": {},
   "source": [
    "#### 3.4 Create and process request\n",
    "The following code snippet creates *gRPC client*, process daily SMA requests and returns the reply."
   ]
  },
  {
   "cell_type": "code",
   "execution_count": null,
   "id": "worse-starter",
   "metadata": {
    "dotnet_interactive": {
     "language": "fsharp"
    }
   },
   "outputs": [],
   "source": [
    "// Instantiate the daily SMA service\n",
    "let service = new DailySmaService.DailySmaServiceClient(channel)"
   ]
  },
  {
   "cell_type": "code",
   "execution_count": null,
   "id": "cellular-occupation",
   "metadata": {
    "dotnet_interactive": {
     "language": "fsharp"
    }
   },
   "outputs": [],
   "source": [
    "// Create and process the daily long SMA request\n",
    "let dailyLongSmaRequest = \n",
    "    new DailySmaRequest( \n",
    "        Identifier = new Identifier ( Exchange = exchange, Ticker = ticker ), \n",
    "        Length = longSma,\n",
    "        Constraints = constraints\n",
    "    )\n",
    "let dailyLongSmaReply = service.DailySma(dailyLongSmaRequest, headers)\n",
    "\n",
    "// Create and process the daily short SMA request\n",
    "let dailyShortSmaRequest = \n",
    "    new DailySmaRequest ( \n",
    "        Identifier = new Identifier ( Exchange = exchange, Ticker = ticker ), \n",
    "        Length = shortSma,\n",
    "        Constraints = constraints\n",
    "    )\n",
    "let dailyShortSmaReply = service.DailySma(dailyShortSmaRequest, headers)\n",
    "\n",
    "// Visualize requests' results\n",
    "//dailyLongSmaReply.Data.Count |> display\n",
    "//dailyShortSmaReply.Data.Count |> display"
   ]
  },
  {
   "cell_type": "markdown",
   "id": "blessed-network",
   "metadata": {},
   "source": [
    "### Step 4: Visualize data"
   ]
  },
  {
   "cell_type": "markdown",
   "id": "adjacent-procurement",
   "metadata": {},
   "source": [
    "#### 4.1 Select data"
   ]
  },
  {
   "cell_type": "code",
   "execution_count": null,
   "id": "loose-plant",
   "metadata": {
    "dotnet_interactive": {
     "language": "fsharp"
    }
   },
   "outputs": [],
   "source": [
    "// Extract the price and the SMAs\n",
    "let prices = dailyLongSmaReply.Data |> Seq.map (fun t -> (new DateTime(t.Date.Year, t.Date.Month, t.Date.Day), t.Value))\n",
    "let longSmaData = dailyLongSmaReply.Data |> Seq.map (fun t -> (new DateTime(t.Date.Year, t.Date.Month, t.Date.Day), t.Average))\n",
    "let shortSmaData = dailyShortSmaReply.Data |> Seq.map (fun t -> (new DateTime(t.Date.Year, t.Date.Month, t.Date.Day), t.Average))"
   ]
  },
  {
   "cell_type": "markdown",
   "id": "medium-badge",
   "metadata": {},
   "source": [
    "#### 4.2 Plot SMAs and daily prices\n",
    "Plot SMA request results with the package of your choice.<br>*`XPlot.Plotly`* is used as per open source display package. "
   ]
  },
  {
   "cell_type": "code",
   "execution_count": null,
   "id": "better-equipment",
   "metadata": {
    "dotnet_interactive": {
     "language": "fsharp"
    }
   },
   "outputs": [],
   "source": [
    "[\n",
    "    new Scattergl(\n",
    "        name = $\"{longSma}-days SMA\",\n",
    "        mode = \"lines\",\n",
    "        x = (longSmaData |> Seq.map fst),\n",
    "        y = (longSmaData |> Seq.map snd)\n",
    "    )\n",
    "    new Scattergl(\n",
    "        name = $\"{shortSma}-days SMA\",\n",
    "        mode = \"lines\",\n",
    "        x = (shortSmaData |> Seq.map fst),\n",
    "        y = (shortSmaData |> Seq.map snd)\n",
    "    )\n",
    "    new Scattergl(\n",
    "        name = \"Price\",\n",
    "        mode = \"lines\",\n",
    "        x = (prices |> Seq.map fst),\n",
    "        y = (prices |> Seq.map snd)\n",
    "    )\n",
    "]\n",
    "|> Chart.Plot\n",
    "|> Chart.WithTitle $\"Long & short SMAs and daily prices for {ticker}\"\n",
    "|> Chart.WithXTitle \"Date\"\n",
    "|> Chart.WithWidth 1500\n",
    "|> Chart.WithHeight 800\n",
    "|> display"
   ]
  }
 ],
 "metadata": {
  "kernelspec": {
   "display_name": ".NET (F#)",
   "language": "F#",
   "name": ".net-fsharp"
  },
  "language_info": {
   "file_extension": ".fs",
   "mimetype": "text/x-fsharp",
   "name": "F#",
   "pygments_lexer": "fsharp",
   "version": "5.0"
  }
 },
 "nbformat": 4,
 "nbformat_minor": 5
}
