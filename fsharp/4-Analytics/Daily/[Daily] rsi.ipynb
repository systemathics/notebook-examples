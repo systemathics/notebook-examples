{
 "cells": [
  {
   "cell_type": "markdown",
   "id": "optimum-forum",
   "metadata": {},
   "source": [
    "# Generate RSI using daily data service - F#\n",
    "\n",
    "### Overview\n",
    "*The Relative Strength Index*, developed by J. Welles Wilder measures the speed and change of price movements. *RSI* oscillates between zero and 100. Traditionally the RSI is considered:\n",
    "* overbought when above 70\n",
    "* oversold when below 30\n",
    "\n",
    "This sample demonstrates how to request and plot **on-demand** *Relative Strength Index - RSI* from a daily data service.\n",
    "\n",
    "### Inputs/outputs\n",
    "RSI's request require instrument's identifier, date time intervals and number of periods as per inputs.\n",
    "\n",
    "$$ RSI = 100 - \\frac{100}{1 + RS} $$\n",
    "Where:\n",
    "* $RS = \\frac{AvgU}{AvgD}$ is the *relative strength*\n",
    "* *AvgU* average of last N *close prices* up moves\n",
    "* *AvgD* average of last N *close prices* down moves\n",
    "* *N* is the period of the RSI\n",
    "\n",
    "This sample shows how to plot a simple graph for basis technical analysis using an open source library. \n",
    "\n",
    "### Services used\n",
    "This sample uses *gRPC requests* in order to retrieve daily data from the hosted service. The queried endpoint in this script are:\n",
    "* *DailyRsiService*: to directly retrieve daily RSI data from the server\n",
    "\n",
    "### Packages required\n",
    "1. Systemathics packages:\n",
    "    * *Systemathics.Apis.Type.Shared.V1*\n",
    "    * *Systemathics.Apis.Services.DailyAnalytics.V1*\n",
    "2. Open source packages\n",
    "    * *Google.Protobuf.WellKnownTypes*\n",
    "    * *Google.Type*\n",
    "    * *Grpc.Net.Client*\n",
    "    * *Grpc.Core*\n",
    "    * *XPlot.Plotly* as per display package\n",
    "\n",
    "***"
   ]
  },
  {
   "cell_type": "markdown",
   "id": "gorgeous-hypothetical",
   "metadata": {},
   "source": [
    "# Run daily RSI sample"
   ]
  },
  {
   "cell_type": "markdown",
   "id": "identical-storage",
   "metadata": {},
   "source": [
    "### Step 1: Install packages"
   ]
  },
  {
   "cell_type": "code",
   "execution_count": null,
   "id": "enclosed-japanese",
   "metadata": {
    "dotnet_interactive": {
     "language": "fsharp"
    }
   },
   "outputs": [],
   "source": [
    "#i \"nuget: file:///home/jovyan/.nuget/packages/\"\n",
    "#i \"nuget: https://api.nuget.org/v3/index.json\"\n",
    "#r \"nuget: Systemathics.Apis, 2.32.*\"\n",
    "#r \"nuget: XPlot.Plotly.Interactive\""
   ]
  },
  {
   "cell_type": "code",
   "execution_count": null,
   "id": "minimal-pharmacology",
   "metadata": {
    "dotnet_interactive": {
     "language": "fsharp"
    }
   },
   "outputs": [],
   "source": [
    "open Systemathics.Apis.Helpers\n",
    "open Systemathics.Apis.Type.Shared.V1\n",
    "open Systemathics.Apis.Services.DailyAnalytics.V1\n",
    "open Google.Protobuf.WellKnownTypes\n",
    "open Google.Type\n",
    "open Grpc.Net.Client\n",
    "open Grpc.Core\n",
    "open XPlot.Plotly\n",
    "open XPlot.Plotly.Interactive"
   ]
  },
  {
   "cell_type": "markdown",
   "id": "stylish-acquisition",
   "metadata": {},
   "source": [
    "### Step 2: Prepare API requests\n",
    "The following code snippets retrieve authentication token and prepare the API request by: opening the *channel* and adding the *token* to the request header:"
   ]
  },
  {
   "cell_type": "code",
   "execution_count": null,
   "id": "simple-england",
   "metadata": {
    "dotnet_interactive": {
     "language": "fsharp"
    }
   },
   "outputs": [],
   "source": [
    "// Get token as metadata\n",
    "let headers = TokenHelpers.GetTokenAsMetaData();\n",
    "\n",
    "// Create communication channel\n",
    "let channel = ChannelHelpers.GetChannel();"
   ]
  },
  {
   "cell_type": "markdown",
   "id": "green-victim",
   "metadata": {},
   "source": [
    "### Step 3: Retrieve data"
   ]
  },
  {
   "cell_type": "markdown",
   "id": "breeding-cornell",
   "metadata": {},
   "source": [
    "#### 3.1 Request Parameters\n",
    "To request *daily rsi* service, we need to specify:\n",
    "* Instrument identifier\n",
    "* Time period selection: select start and end dates\n",
    "* The RSI parameters"
   ]
  },
  {
   "cell_type": "markdown",
   "id": "formed-duration",
   "metadata": {},
   "source": [
    "#### 3.1 Instrument selection"
   ]
  },
  {
   "cell_type": "code",
   "execution_count": null,
   "id": "subtle-allen",
   "metadata": {
    "dotnet_interactive": {
     "language": "fsharp"
    }
   },
   "outputs": [],
   "source": [
    "// Set instrument\n",
    "let ticker = \"AAPL\"\n",
    "let exchange = \"XNGS\""
   ]
  },
  {
   "cell_type": "markdown",
   "id": "permanent-victim",
   "metadata": {},
   "source": [
    "#### 3.2 RSI parameters"
   ]
  },
  {
   "cell_type": "code",
   "execution_count": null,
   "id": "crude-scholar",
   "metadata": {
    "dotnet_interactive": {
     "language": "fsharp"
    }
   },
   "outputs": [],
   "source": [
    "// Set the RSI window length\n",
    "let length = 14"
   ]
  },
  {
   "cell_type": "markdown",
   "id": "exciting-appendix",
   "metadata": {},
   "source": [
    "#### 3.3 Time period selection"
   ]
  },
  {
   "cell_type": "code",
   "execution_count": null,
   "id": "strategic-thirty",
   "metadata": {
    "dotnet_interactive": {
     "language": "fsharp"
    }
   },
   "outputs": [],
   "source": [
    "// Set data interval (we are using Google date time format)\n",
    "let dateIntervals = \n",
    "  new DateInterval(\n",
    "    StartDate = new Date ( Year = 2019, Month = 01, Day = 01 ),\n",
    "    EndDate = new Date ( Year = 2020, Month = 12, Day = 31 )\n",
    "  )\n",
    "\n",
    "// Generate constraints based on the previous date selection\n",
    "// Time constraints are not neeeded for the splits\n",
    "let constraints = new Constraints() \n",
    "constraints.DateIntervals.Add(dateIntervals)"
   ]
  },
  {
   "cell_type": "markdown",
   "id": "third-galaxy",
   "metadata": {},
   "source": [
    "#### 3.4 RSI request creation\n",
    "The following code snippet creates *gRPC client*, process request daily RSI and ensure that the reply is not empty:"
   ]
  },
  {
   "cell_type": "code",
   "execution_count": null,
   "id": "quality-yemen",
   "metadata": {
    "dotnet_interactive": {
     "language": "fsharp"
    }
   },
   "outputs": [],
   "source": [
    "// Instantiate the daily RSI service\n",
    "let service = new DailyRsiService.DailyRsiServiceClient(channel)\n",
    "\n",
    "// Create and process the daily RSI request\n",
    "let request = \n",
    "    new DailyRsiRequest ( \n",
    "        Identifier = new Identifier ( Exchange = exchange, Ticker = ticker ), \n",
    "        Length = length,\n",
    "        Constraints = constraints\n",
    "    )\n",
    "let reply = service.DailyRsi(request, headers)\n",
    "\n",
    "// Visualize requests' results\n",
    "//display(dailyRsiReply.Data)"
   ]
  },
  {
   "cell_type": "markdown",
   "id": "dependent-hearts",
   "metadata": {},
   "source": [
    "### Step 4: Visualize data"
   ]
  },
  {
   "cell_type": "markdown",
   "id": "dimensional-douglas",
   "metadata": {},
   "source": [
    "#### 4.1 Select data"
   ]
  },
  {
   "cell_type": "code",
   "execution_count": null,
   "id": "bridal-regression",
   "metadata": {
    "dotnet_interactive": {
     "language": "fsharp"
    }
   },
   "outputs": [],
   "source": [
    "// Extract the price and the rsi\n",
    "let prices  = reply.Data |> Seq.map (fun t -> (new DateTime(t.Date.Year, t.Date.Month, t.Date.Day), t.Value))\n",
    "let rsiData = reply.Data |> Seq.map (fun t -> (new DateTime(t.Date.Year, t.Date.Month, t.Date.Day), t.Rsi))"
   ]
  },
  {
   "cell_type": "code",
   "execution_count": null,
   "id": "formed-copper",
   "metadata": {
    "dotnet_interactive": {
     "language": "fsharp"
    }
   },
   "outputs": [],
   "source": [
    "let overbought = reply.Data |> Seq.map (fun t -> (new DateTime(t.Date.Year, t.Date.Month, t.Date.Day), 70))\n",
    "let oversold   = reply.Data |> Seq.map (fun t -> (new DateTime(t.Date.Year, t.Date.Month, t.Date.Day), 30))"
   ]
  },
  {
   "cell_type": "markdown",
   "id": "passing-stations",
   "metadata": {},
   "source": [
    "#### 4.2 Plot RSI\n",
    "Plot RSI request results with the package of your choice.<br>*`XPlot.Plotly`* is used as per open source display package."
   ]
  },
  {
   "cell_type": "code",
   "execution_count": null,
   "id": "palestinian-candle",
   "metadata": {
    "dotnet_interactive": {
     "language": "fsharp"
    }
   },
   "outputs": [],
   "source": [
    "let rsiGraph = \n",
    "    [\n",
    "        new Scattergl(\n",
    "            name = $\"{length}-days RSI\",\n",
    "            mode = \"lines\",\n",
    "            x = (rsiData |> Seq.map fst),\n",
    "            y = (rsiData |> Seq.map snd),\n",
    "            yaxis = \"y2\"\n",
    "        )\n",
    "        new Scattergl(\n",
    "            name = \"Price\",\n",
    "            mode = \"lines\",\n",
    "            x = (prices |> Seq.map fst),\n",
    "            y = (prices |> Seq.map snd)\n",
    "        )\n",
    "        new Scattergl(\n",
    "            name = \"Overbought\",\n",
    "            mode = \"lines\",\n",
    "            x = (overbought |> Seq.map fst),\n",
    "            y = (overbought |> Seq.map snd),\n",
    "            yaxis = \"y2\"\n",
    "        )\n",
    "        new Scattergl(\n",
    "            name = \"Oversold\",\n",
    "            mode = \"lines\",\n",
    "            x = (oversold |> Seq.map fst),\n",
    "            y = (oversold |> Seq.map snd),\n",
    "            yaxis = \"y2\"\n",
    "        )\n",
    "    ]\n",
    "\n",
    "let layout = \n",
    "    new Layout.Layout( \n",
    "        title = $\"RSI and daily prices for {ticker}-{exchange}\",\n",
    "        xaxis = new Xaxis( title = \"Date\"),\n",
    "        yaxis = new Yaxis (\n",
    "            title = \"Price\", \n",
    "            autorange = true,\n",
    "            side = \"left\"\n",
    "        ),\n",
    "        yaxis2 = new Yaxis (\n",
    "            title = \"RSI\", \n",
    "            autorange = true,\n",
    "            side = \"right\"\n",
    "        )\n",
    "    )\n",
    "\n",
    "Chart.Plot(rsiGraph, layout)\n",
    "|> Chart.WithWidth 1500\n",
    "|> Chart.WithHeight 800\n",
    "|> display"
   ]
  }
 ],
 "metadata": {
  "kernelspec": {
   "display_name": ".NET (F#)",
   "language": "F#",
   "name": ".net-fsharp"
  },
  "language_info": {
   "file_extension": ".fs",
   "mimetype": "text/x-fsharp",
   "name": "F#",
   "pygments_lexer": "fsharp",
   "version": "5.0"
  }
 },
 "nbformat": 4,
 "nbformat_minor": 5
}
