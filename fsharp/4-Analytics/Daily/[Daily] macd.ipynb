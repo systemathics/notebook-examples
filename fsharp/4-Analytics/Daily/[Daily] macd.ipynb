{
 "cells": [
  {
   "cell_type": "markdown",
   "id": "public-lawsuit",
   "metadata": {},
   "source": [
    "# Generate MACD using daily data service - F#\n",
    "\n",
    "### Overview\n",
    "*Moving Average Convergence/Divergence Oscillator* was developed by Gerald Appel and represents the difference between two moving averages of different lengths.\n",
    "\n",
    "Commonly used MACD the 12-day EMA less the 26-day EMA, but the parameters can be adapted when required. As its name implies, MACD is all about convergence and divergence of the two moving averages\n",
    "\n",
    "MACD oscilaltes around the zero line as follows:\n",
    "* positive values increase as the shorter moving average diverges further from the longer one\n",
    "* negative values indicate that the shorter moving average is below the longer one\n",
    "\n",
    "This sample demonstrates how to request and plot **on-demand** *Moving Average Convergence/Divergence Oscillator - MACD* from a daily data service.\n",
    "\n",
    "### Inputs/outputs\n",
    "Moving Average Convergence/Divergence Oscillator's request require instrument's identifier, date time intervals and number of periods of each moving average as per inputs.\n",
    "\n",
    "*MACD* is computed as follows:\n",
    "\n",
    "$$ MACD = 12day,EMA - 26day,EMA $$\n",
    "\n",
    "This sample shows how to plot a simple graph for basis technical analysis using an open source library. \n",
    "\n",
    "### Services used\n",
    "This sample uses *gRPC requests* in order to retrieve MACD indicator from the hosted service. The queried endpoint in this script are:\n",
    "* *DailyMacdService*: to directly retrieve daily data from the server\n",
    "\n",
    "### Packages required\n",
    "1. Systemathics packages:\n",
    "    * *Systemathics.Apis.Type.Shared.V1*\n",
    "    * *Systemathics.Apis.Services.DailyAnalytics.V1*\n",
    "2. Open source packages\n",
    "    * *Google.Protobuf.WellKnownTypes*\n",
    "    * *Google.Type*\n",
    "    * *Grpc.Net.Client*\n",
    "    * *Grpc.Core*\n",
    "    * *XPlot.Plotly* as per display package\n",
    "\n",
    "***"
   ]
  },
  {
   "cell_type": "markdown",
   "id": "selective-headset",
   "metadata": {},
   "source": [
    "# Run daily MACD sample"
   ]
  },
  {
   "cell_type": "markdown",
   "id": "cooperative-spread",
   "metadata": {},
   "source": [
    "### Step 1: Install packages"
   ]
  },
  {
   "cell_type": "code",
   "execution_count": null,
   "id": "indoor-bristol",
   "metadata": {
    "dotnet_interactive": {
     "language": "fsharp"
    }
   },
   "outputs": [],
   "source": [
    "#i \"nuget: file:///home/jovyan/.nuget/packages/\"\n",
    "#i \"nuget: https://api.nuget.org/v3/index.json\"\n",
    "#r \"nuget: Systemathics.Apis, 2.32.*\"\n",
    "#r \"nuget: XPlot.Plotly.Interactive\""
   ]
  },
  {
   "cell_type": "code",
   "execution_count": null,
   "id": "clinical-richards",
   "metadata": {
    "dotnet_interactive": {
     "language": "fsharp"
    }
   },
   "outputs": [],
   "source": [
    "open Systemathics.Apis.Helpers\n",
    "open Systemathics.Apis.Type.Shared.V1\n",
    "open Systemathics.Apis.Services.DailyAnalytics.V1\n",
    "open Google.Protobuf.WellKnownTypes\n",
    "open Google.Type\n",
    "open Grpc.Net.Client\n",
    "open Grpc.Core\n",
    "open XPlot.Plotly\n",
    "open XPlot.Plotly.Interactive"
   ]
  },
  {
   "cell_type": "markdown",
   "id": "aging-boutique",
   "metadata": {},
   "source": [
    "### Step 2: Prepare API requests\n",
    "The following code snippets retrieve authentication token and prepare the API request by: opening the *channel* and adding the *token* to the request header:"
   ]
  },
  {
   "cell_type": "code",
   "execution_count": null,
   "id": "spiritual-mailing",
   "metadata": {
    "dotnet_interactive": {
     "language": "fsharp"
    }
   },
   "outputs": [],
   "source": [
    "// Get token as metadata\n",
    "let headers = TokenHelpers.GetTokenAsMetaData();\n",
    "\n",
    "// Create communication channel\n",
    "let channel = ChannelHelpers.GetChannel();"
   ]
  },
  {
   "cell_type": "markdown",
   "id": "assured-puppy",
   "metadata": {},
   "source": [
    "### Step 3: Retrieve data"
   ]
  },
  {
   "cell_type": "markdown",
   "id": "solar-zoning",
   "metadata": {},
   "source": [
    "#### 3.1 Request Parameters\n",
    "To request *daily MACD* service, we need to specify:\n",
    "* Instrument identifier\n",
    "* Time period selection: select start and end dates\n",
    "* The MACD parameters"
   ]
  },
  {
   "cell_type": "code",
   "execution_count": null,
   "id": "sweet-blake",
   "metadata": {
    "dotnet_interactive": {
     "language": "fsharp"
    }
   },
   "outputs": [],
   "source": [
    "// Set instrument\n",
    "let ticker = \"AAPL\"\n",
    "let exchange = \"XNGS\""
   ]
  },
  {
   "cell_type": "markdown",
   "id": "intensive-directive",
   "metadata": {},
   "source": [
    "#### 3.2 MACD parameters"
   ]
  },
  {
   "cell_type": "code",
   "execution_count": null,
   "id": "dense-hudson",
   "metadata": {
    "dotnet_interactive": {
     "language": "fsharp"
    }
   },
   "outputs": [],
   "source": [
    "// Set EMAs lengths\n",
    "let longMacd = 26\n",
    "let shortMacd = 12"
   ]
  },
  {
   "cell_type": "markdown",
   "id": "outer-program",
   "metadata": {},
   "source": [
    "#### 3.3 Time period selection"
   ]
  },
  {
   "cell_type": "code",
   "execution_count": null,
   "id": "casual-rhythm",
   "metadata": {
    "dotnet_interactive": {
     "language": "fsharp"
    }
   },
   "outputs": [],
   "source": [
    "// Set data interval (we are using Google date time format)\n",
    "let dateIntervals = \n",
    "  new DateInterval(\n",
    "    StartDate = new Date ( Year = 2019, Month = 01, Day = 01 ),\n",
    "    EndDate = new Date ( Year = 2020, Month = 12, Day = 31 )\n",
    "  )\n",
    "\n",
    "// Generate constraints based on the previous date selection\n",
    "// Time constraints are not neeeded for the splits\n",
    "let constraints = new Constraints() \n",
    "constraints.DateIntervals.Add(dateIntervals)"
   ]
  },
  {
   "cell_type": "markdown",
   "id": "billion-thinking",
   "metadata": {},
   "source": [
    "#### 3.4 MACD request creation\n",
    "The following code snippet creates *gRPC client*, process daily MACD requests and returns the reply."
   ]
  },
  {
   "cell_type": "code",
   "execution_count": null,
   "id": "super-december",
   "metadata": {
    "dotnet_interactive": {
     "language": "fsharp"
    }
   },
   "outputs": [],
   "source": [
    "// Instantiate the daily MACD service\n",
    "let service = new DailyMacdService.DailyMacdServiceClient(channel)\n",
    "\n",
    "// Create and process the daily MACD request\n",
    "let request = \n",
    "    new DailyMacdRequest( \n",
    "        Identifier = new Identifier ( Exchange = exchange, Ticker = ticker ), \n",
    "        Short = shortMacd, \n",
    "        Long = longMacd,\n",
    "        Constraints = constraints\n",
    "    )\n",
    "let reply = service.DailyMacd(request, headers)\n",
    "\n",
    "// Visualize requests' results\n",
    "//display(dailyMacdReply.Data)"
   ]
  },
  {
   "cell_type": "markdown",
   "id": "final-cornwall",
   "metadata": {},
   "source": [
    "### Step 4: Visualize data"
   ]
  },
  {
   "cell_type": "markdown",
   "id": "capital-habitat",
   "metadata": {},
   "source": [
    "#### 4.1 Select data"
   ]
  },
  {
   "cell_type": "code",
   "execution_count": null,
   "id": "positive-waters",
   "metadata": {
    "dotnet_interactive": {
     "language": "fsharp"
    }
   },
   "outputs": [],
   "source": [
    "// Extract the price and the macd\n",
    "let prices    = (reply.Data |> Seq.map (fun t -> (new DateTime(t.Date.Year, t.Date.Month, t.Date.Day), t.Value)))\n",
    "let macdData  = (reply.Data |> Seq.map (fun t -> (new DateTime(t.Date.Year, t.Date.Month, t.Date.Day), t.Macd)))\n",
    "let longMacd  = (reply.Data |> Seq.map (fun t -> (new DateTime(t.Date.Year, t.Date.Month, t.Date.Day), t.Long)))\n",
    "let shortMacd = (reply.Data |> Seq.map (fun t -> (new DateTime(t.Date.Year, t.Date.Month, t.Date.Day), t.Short)))"
   ]
  },
  {
   "cell_type": "markdown",
   "id": "welcome-julian",
   "metadata": {},
   "source": [
    "#### 4.2 Plot MACD and daily prices\n",
    "Plot MACD request results with the package of your choice.<br>*`XPlot.Plotly`* is used as per open source display package. "
   ]
  },
  {
   "cell_type": "code",
   "execution_count": null,
   "id": "bulgarian-element",
   "metadata": {
    "dotnet_interactive": {
     "language": "fsharp"
    }
   },
   "outputs": [],
   "source": [
    "let macdGraph = \n",
    "    [\n",
    "        new Scattergl(\n",
    "            name = \"MACD\",\n",
    "            mode = \"lines\",\n",
    "            x = (macdData |> Seq.map fst),\n",
    "            y = (macdData |> Seq.map snd),\n",
    "            yaxis = \"y2\"\n",
    "        )\n",
    "        new Scattergl(\n",
    "            name = \"Price\",\n",
    "            mode = \"lines\",\n",
    "            x = (prices |> Seq.map fst),\n",
    "            y = (prices |> Seq.map snd)\n",
    "        )\n",
    "        new Scattergl(\n",
    "            name = \"Long EMA\",\n",
    "            mode = \"lines\",\n",
    "            x = (longMacd |> Seq.map fst),\n",
    "            y = (longMacd |> Seq.map snd)\n",
    "        )\n",
    "        new Scattergl(\n",
    "            name = \"Short EMA\",\n",
    "            mode = \"lines\",\n",
    "            x = (shortMacd |> Seq.map fst),\n",
    "            y = (shortMacd |> Seq.map snd)\n",
    "        )\n",
    "    ]\n",
    "\n",
    "let layout = \n",
    "    new Layout.Layout( \n",
    "        title = $\"MACD and daily prices for {ticker}-{exchange}\",\n",
    "        xaxis = new Xaxis (title = \"Date\"),\n",
    "        yaxis = new Yaxis (\n",
    "            title = \"Price\", \n",
    "            autorange = true,\n",
    "            side = \"left\"\n",
    "        ),\n",
    "        yaxis2 = new Yaxis (\n",
    "            title = \"MACD\", \n",
    "            autorange = true,\n",
    "            side = \"right\"\n",
    "        )\n",
    "    )\n",
    "\n",
    "Chart.Plot(macdGraph, layout)\n",
    "|> Chart.WithWidth 1500\n",
    "|> Chart.WithHeight 800\n",
    "|> display"
   ]
  }
 ],
 "metadata": {
  "kernelspec": {
   "display_name": ".NET (F#)",
   "language": "F#",
   "name": ".net-fsharp"
  },
  "language_info": {
   "file_extension": ".fs",
   "mimetype": "text/x-fsharp",
   "name": "F#",
   "pygments_lexer": "fsharp",
   "version": "5.0"
  }
 },
 "nbformat": 4,
 "nbformat_minor": 5
}
