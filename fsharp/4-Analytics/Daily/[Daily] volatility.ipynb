{
 "cells": [
  {
   "cell_type": "markdown",
   "metadata": {},
   "source": [
    "# Generate daily volatility using dedicated service - F#\n",
    "\n",
    "### Overview\n",
    "\n",
    "This sample demonstrates how to request and plot from a dedicated data service **on-demand** `daily` volatility.\n",
    "\n",
    "### Inputs/outputs\n",
    "Volatility indicator requires instrument's identifier, date time intervals and time range as per inputs and returns the daily volatility.\n",
    "\n",
    "N-points volatility is computed as follows:\n",
    "\n",
    "$$ Volatility_N = \\sqrt \\frac{\\sum_{i=1}^N(P_a - P_i)^2}{N}$$\n",
    "Where:\n",
    "* *$P_a$* is the average price of the *N prices*\n",
    "* *$P_i$* is price i\n",
    "\n",
    "This sample shows how to plot a simple daily vwap for basis technical analysis using an open source library. \n",
    "\n",
    "### Services used\n",
    "This sample uses gRPC requests in order to retrieve daily volatility indicator from the hosted service. The queried endpoint in this script are:\n",
    "* *DailyVolatilityService *: to directly retrieve daily volatility objects from the server\n",
    "\n",
    "### Packages required\n",
    "1. Systemathics packages:\n",
    "    * *Systemathics.Apis.Type.Shared.V1*\n",
    "    * *Systemathics.Apis.Services.DailyAnalytics.V1*\n",
    "2. Open source packages\n",
    "    * *Google.Protobuf.WellKnownTypes*\n",
    "    * *Google.Type*\n",
    "    * *Grpc.Net.Client*\n",
    "    * *Grpc.Core*\n",
    "\n",
    "***"
   ]
  },
  {
   "cell_type": "markdown",
   "metadata": {},
   "source": [
    "# Run daily VWAP sample"
   ]
  },
  {
   "cell_type": "markdown",
   "metadata": {},
   "source": [
    "### Step 1: Install packages"
   ]
  },
  {
   "cell_type": "code",
   "execution_count": null,
   "metadata": {
    "dotnet_interactive": {
     "language": "fsharp"
    }
   },
   "outputs": [],
   "source": [
    "#i \"nuget: file:///home/jovyan/.nuget/packages/\"\n",
    "#i \"nuget: https://api.nuget.org/v3/index.json\"\n",
    "#r \"nuget: Systemathics.Apis, 0.9.*-pre*\""
   ]
  },
  {
   "cell_type": "code",
   "execution_count": null,
   "metadata": {
    "dotnet_interactive": {
     "language": "fsharp"
    }
   },
   "outputs": [],
   "source": [
    "open Systemathics.Apis.Helpers\n",
    "open Systemathics.Apis.Type.Shared.V1\n",
    "open Systemathics.Apis.Services.DailyAnalytics.V1\n",
    "open Google.Protobuf.WellKnownTypes\n",
    "open Google.Type\n",
    "open Grpc.Net.Client\n",
    "open Grpc.Core"
   ]
  },
  {
   "cell_type": "markdown",
   "metadata": {},
   "source": [
    "### Step 2: Prepare API requests\n",
    "The following code snippets retrieve authentication token and prepare the API request by: opening the *channel* and adding the *token* to the request header:"
   ]
  },
  {
   "cell_type": "code",
   "execution_count": null,
   "metadata": {
    "dotnet_interactive": {
     "language": "fsharp"
    }
   },
   "outputs": [],
   "source": [
    "// Get token as metadata\n",
    "let headers = TokenHelpers.GetTokenAsMetaData();\n",
    "\n",
    "// Create communication channel\n",
    "let channel = ChannelHelpers.GetChannel();"
   ]
  },
  {
   "cell_type": "markdown",
   "metadata": {},
   "source": [
    "### Step 3: Create and process request"
   ]
  },
  {
   "cell_type": "markdown",
   "metadata": {},
   "source": [
    "#### 3.1 Request Parameters\n",
    "To request *daily volatility* service, we need to specify:\n",
    "* Instrument identifier\n",
    "* Time period selection: select start and end dates"
   ]
  },
  {
   "cell_type": "code",
   "execution_count": null,
   "metadata": {
    "dotnet_interactive": {
     "language": "fsharp"
    }
   },
   "outputs": [],
   "source": [
    "// Set instrument\n",
    "let ticker = \"AAPL\"\n",
    "let exchange = \"XNGS\""
   ]
  },
  {
   "cell_type": "code",
   "execution_count": null,
   "metadata": {
    "dotnet_interactive": {
     "language": "fsharp"
    }
   },
   "outputs": [],
   "source": [
    "// Set data interval (we are using Google date time format)\n",
    "let dateIntervals = \n",
    "  new DateInterval(\n",
    "    StartDate = new Date ( Year = 2019, Month = 01, Day = 01 ),\n",
    "    EndDate = new Date ( Year = 2020, Month = 12, Day = 31 )\n",
    "  )\n",
    "\n",
    "// Generate constraints based on the previous date selection\n",
    "// Time constraints are not neeeded for the splits\n",
    "let constraints = new Constraints() \n",
    "constraints.DateIntervals.Add(dateIntervals)"
   ]
  },
  {
   "cell_type": "markdown",
   "metadata": {},
   "source": [
    "#### 3.2 Request creation\n",
    "The following code snippet creates *gRPC client*, process request and returns request reply."
   ]
  },
  {
   "cell_type": "code",
   "execution_count": null,
   "metadata": {
    "dotnet_interactive": {
     "language": "fsharp"
    }
   },
   "outputs": [],
   "source": [
    "// Instantiate the daily volatility service\n",
    "let service = new DailyVolatilityService.DailyVolatilityServiceClient(channel)\n",
    "\n",
    "// Create and process daily volatility request\n",
    "let request = \n",
    "    new DailyVolatilityRequest( \n",
    "        Identifier = new Identifier ( Exchange = exchange, Ticker = ticker),\n",
    "        Constraints = constraints\n",
    "    )\n",
    "let reply = service.DailyVolatility(request, headers)"
   ]
  },
  {
   "cell_type": "markdown",
   "metadata": {},
   "source": [
    "The following code snippet displays the *daily bars* data points:"
   ]
  },
  {
   "cell_type": "code",
   "execution_count": null,
   "metadata": {
    "dotnet_interactive": {
     "language": "fsharp"
    }
   },
   "outputs": [],
   "source": [
    "reply.Value |> display"
   ]
  }
 ],
 "metadata": {
  "kernelspec": {
   "display_name": ".NET (F#)",
   "language": "F#",
   "name": ".net-fsharp"
  },
  "language_info": {
   "file_extension": ".fs",
   "mimetype": "text/x-fsharp",
   "name": "F#",
   "pygments_lexer": "fsharp",
   "version": "5.0"
  }
 },
 "nbformat": 4,
 "nbformat_minor": 4
}
