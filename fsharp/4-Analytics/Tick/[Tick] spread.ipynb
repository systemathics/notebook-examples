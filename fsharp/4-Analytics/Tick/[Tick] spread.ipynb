{
 "cells": [
  {
   "cell_type": "markdown",
   "id": "overall-position",
   "metadata": {},
   "source": [
    "# Generate Spread using dedicated service - F#\n",
    "\n",
    "### Overview\n",
    "Spread indicator is commonly used to provide midpoint value from two given inputs. \n",
    "\n",
    "Spread is generally impacted by two major factors: \n",
    "* *Volatility*: the more volatile an asset, the higher the spread\n",
    "* *Liquidity*: the more liquid an asset, the lower the spread\n",
    "\n",
    "When correlated with a range of indicators, it gives an idea about the market quality.\n",
    "\n",
    "This sample demonstrates how to request and plot the spread from a dedicated data service.\n",
    "\n",
    "### Inputs/outputs\n",
    "Spread indicator requires instrument's identifier and date time intervals as per inputs and returns the spread data points.\n",
    "\n",
    "For each timestamp, a spread data point is the difference between the bid and the ask prices. \n",
    "\n",
    "This sample shows how to plot a simple spread graph for basis technical analysis using an open source library. \n",
    "\n",
    "### Services used\n",
    "This sample uses *gRPC requests* in order to retrieve top of the book tick data from the hosted service. The queried endpoint in this script are:\n",
    "* *TickBookService*: to directly retrieve best Bid/Ask tick data from the server.\n",
    "\n",
    "### Packages required\n",
    "1. Systemathics packages:\n",
    "    * *Systemathics.Apis.Type.Shared.V1*\n",
    "    * *Systemathics.Apis.Services.Tick.V1*\n",
    "2. Open source packages\n",
    "    * *Google.Protobuf.WellKnownTypes*\n",
    "    * *Google.Type*\n",
    "    * *Grpc.Net.Client*\n",
    "    * *Grpc.Core*\n",
    "    * *XPlot.Plotly* as per display package\n",
    "\n",
    "***"
   ]
  },
  {
   "cell_type": "markdown",
   "id": "royal-philip",
   "metadata": {},
   "source": [
    "# Run Spread sample"
   ]
  },
  {
   "cell_type": "markdown",
   "id": "environmental-weapon",
   "metadata": {},
   "source": [
    "### Step 1: Install packages"
   ]
  },
  {
   "cell_type": "code",
   "execution_count": null,
   "id": "scenic-processing",
   "metadata": {
    "dotnet_interactive": {
     "language": "fsharp"
    }
   },
   "outputs": [],
   "source": [
    "#i \"nuget: file:///home/jovyan/.nuget/packages/\"\n",
    "#i \"nuget: https://api.nuget.org/v3/index.json\"\n",
    "#r \"nuget: Systemathics.Apis, 2.32.*\"\n",
    "#r \"nuget: XPlot.Plotly.Interactive, 4.0.6\"\n",
    "#r \"nuget: TaskBuilder.fs\""
   ]
  },
  {
   "cell_type": "code",
   "execution_count": null,
   "id": "obvious-yacht",
   "metadata": {
    "dotnet_interactive": {
     "language": "fsharp"
    }
   },
   "outputs": [],
   "source": [
    "open Systemathics.Apis.Helpers\n",
    "open Systemathics.Apis.Type.Shared.V1\n",
    "open Systemathics.Apis.Services.Tick.V1\n",
    "open Google.Protobuf.WellKnownTypes\n",
    "open Google.Type\n",
    "open Grpc.Core\n",
    "open Grpc.Net.Client\n",
    "open XPlot.Plotly\n",
    "open XPlot.Plotly.Interactive"
   ]
  },
  {
   "cell_type": "markdown",
   "id": "liked-charger",
   "metadata": {},
   "source": [
    "### Step 2: Prepare API requests\n",
    "The following code snippets retrieve authentication token and prepare the API request by: opening the *channel* and adding the *token* to the request header:"
   ]
  },
  {
   "cell_type": "code",
   "execution_count": null,
   "id": "smart-institution",
   "metadata": {
    "dotnet_interactive": {
     "language": "fsharp"
    }
   },
   "outputs": [],
   "source": [
    "// Get token as metadata\n",
    "let headers = TokenHelpers.GetTokenAsMetaData();\n",
    "\n",
    "// Create communication channel\n",
    "let channel = ChannelHelpers.GetChannel();"
   ]
  },
  {
   "cell_type": "markdown",
   "id": "single-hurricane",
   "metadata": {},
   "source": [
    "### Step 3: Retrieve data\n",
    "To request *tick data* service, we need to specify:\n",
    "* Instrument identifier\n",
    "* Time period selection: select start and end dates\n",
    "* Tick data request parameters"
   ]
  },
  {
   "cell_type": "markdown",
   "id": "empty-right",
   "metadata": {},
   "source": [
    "#### 3.1 Instrument selection"
   ]
  },
  {
   "cell_type": "code",
   "execution_count": null,
   "id": "concerned-letter",
   "metadata": {
    "dotnet_interactive": {
     "language": "fsharp"
    }
   },
   "outputs": [],
   "source": [
    "let ticker = \"AAPL\"\n",
    "let exchange = \"BATS\""
   ]
  },
  {
   "cell_type": "markdown",
   "id": "wrong-guinea",
   "metadata": {},
   "source": [
    "#### 3.2 Time period delimitation"
   ]
  },
  {
   "cell_type": "code",
   "execution_count": null,
   "id": "coupled-channels",
   "metadata": {
    "dotnet_interactive": {
     "language": "fsharp"
    }
   },
   "outputs": [],
   "source": [
    "// Build the bars request date interval (we are using Google date time format : we have to cast the dates)\n",
    "let dateIntervals = \n",
    "  new DateInterval(\n",
    "    StartDate = new Date ( Year = 2021, Month = 03, Day = 05 ),\n",
    "    EndDate = new Date ( Year = 2021, Month = 03, Day = 05 )\n",
    "  )\n",
    "\n",
    "// Build the bars request time interval (we are using Google date time format : we have to cast the dates)\n",
    "// UTC time zone\n",
    "let timeInterval = \n",
    "  new TimeInterval(\n",
    "    StartTime = new TimeOfDay ( Hours = 16, Minutes = 00, Seconds = 00 ),\n",
    "    EndTime = new TimeOfDay ( Hours = 16, Minutes = 30, Seconds = 00 ) \n",
    "  )"
   ]
  },
  {
   "cell_type": "markdown",
   "id": "cloudy-panama",
   "metadata": {},
   "source": [
    "#### 3.3 Request creation\n",
    "The following code snippets creates *gRPC client*, process request and returns the request reply:"
   ]
  },
  {
   "cell_type": "code",
   "execution_count": null,
   "id": "liable-camping",
   "metadata": {
    "dotnet_interactive": {
     "language": "fsharp"
    }
   },
   "outputs": [],
   "source": [
    "// Generate constraints based on the previous time selection:\n",
    "let constraints = new Constraints() \n",
    "constraints.DateIntervals.Add(dateIntervals)\n",
    "constraints.TimeIntervals.Add(timeInterval)"
   ]
  },
  {
   "cell_type": "code",
   "execution_count": null,
   "id": "aggressive-biography",
   "metadata": {
    "dotnet_interactive": {
     "language": "fsharp"
    }
   },
   "outputs": [],
   "source": [
    "// Generate the tick book request\n",
    "let request = new TickBookRequest ( Constraints = constraints )\n",
    "let identifier = new Identifier ( Exchange = exchange, Ticker = ticker)\n",
    "request.Identifiers.Add([| identifier |]) "
   ]
  },
  {
   "cell_type": "code",
   "execution_count": null,
   "id": "adequate-concentration",
   "metadata": {
    "dotnet_interactive": {
     "language": "fsharp"
    }
   },
   "outputs": [],
   "source": [
    "// Instantiate the tick book service\n",
    "let service = new TickBookService.TickBookServiceClient(channel)"
   ]
  },
  {
   "cell_type": "markdown",
   "id": "romantic-architecture",
   "metadata": {},
   "source": [
    "### Step 4: Visualize data"
   ]
  },
  {
   "cell_type": "markdown",
   "id": "excited-boring",
   "metadata": {},
   "source": [
    "#### 4.1 Retrieve Spread data"
   ]
  },
  {
   "cell_type": "code",
   "execution_count": null,
   "id": "viral-carter",
   "metadata": {
    "dotnet_interactive": {
     "language": "fsharp"
    }
   },
   "outputs": [],
   "source": [
    "open FSharp.Control.Tasks.V2\n",
    "open System.Collections.Generic\n",
    "\n",
    "let iterAsync (t: IAsyncEnumerable<'T>) (f : 'T -> unit) =\n",
    "    let task = \n",
    "        task {\n",
    "            let e = t.GetAsyncEnumerator()\n",
    "            let mutable go = true\n",
    "            try\n",
    "                let! step = e.MoveNextAsync()\n",
    "                go <- step\n",
    "                while go do \n",
    "                    f e.Current\n",
    "                    let! step = e.MoveNextAsync()\n",
    "                    go <- step\n",
    "            finally\n",
    "                e.DisposeAsync().AsTask().Wait()\n",
    "        }\n",
    "    task.Wait()"
   ]
  },
  {
   "cell_type": "code",
   "execution_count": null,
   "id": "finished-orbit",
   "metadata": {
    "dotnet_interactive": {
     "language": "fsharp"
    }
   },
   "outputs": [],
   "source": [
    "// Get the limits\n",
    "let limits = new List<BookLimit>()\n",
    "let call = service.TickBook(request, headers)\n",
    "let e = call.ResponseStream.ReadAllAsync()\n",
    "\n",
    "let add (collection : List<BookLimit>) (r : TickBookResponse) =\n",
    "    if( r |> isNull |> not && r.Limit |> isNull |> not) then\n",
    "        collection.Add r.Limit\n",
    "\n",
    "iterAsync e (add limits)\n",
    "\n",
    "// Display top of the book\n",
    "// limits |> display"
   ]
  },
  {
   "cell_type": "markdown",
   "id": "mounted-riding",
   "metadata": {},
   "source": [
    "#### 4.2 Plot Spread"
   ]
  },
  {
   "cell_type": "markdown",
   "id": "republican-bowling",
   "metadata": {},
   "source": [
    "Display *spread* over the look back period with the package of your choice.<br>*`XPlot.Plotly`* is used as per open source display package.\n",
    "Plot a simple line graphs for *spread* as follows:"
   ]
  },
  {
   "cell_type": "code",
   "execution_count": null,
   "id": "dying-metabolism",
   "metadata": {
    "dotnet_interactive": {
     "language": "fsharp"
    }
   },
   "outputs": [],
   "source": [
    "new Scattergl(\n",
    "    name = \"Spread\",\n",
    "    mode = \"lines\",\n",
    "    x = (limits |> Seq.map (fun elt -> elt.TimeStamp.ToDateTime())),\n",
    "    y = (limits |> Seq.map (fun elt -> elt.Ask.Price - elt.Bid.Price))\n",
    ")\n",
    "|> Chart.Plot\n",
    "|> Chart.WithTitle $\"Spread for {ticker}\"\n",
    "|> Chart.WithXTitle \"Time\"\n",
    "|> Chart.WithYTitle \"Price\"\n",
    "|> Chart.WithWidth 1500\n",
    "|> Chart.WithHeight 800\n",
    "|> display"
   ]
  }
 ],
 "metadata": {
  "kernelspec": {
   "display_name": ".NET (F#)",
   "language": "F#",
   "name": ".net-fsharp"
  },
  "language_info": {
   "file_extension": ".fs",
   "mimetype": "text/x-fsharp",
   "name": "F#",
   "pygments_lexer": "fsharp",
   "version": "5.0"
  }
 },
 "nbformat": 4,
 "nbformat_minor": 5
}
