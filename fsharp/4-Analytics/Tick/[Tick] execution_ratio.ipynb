{
 "cells": [
  {
   "cell_type": "markdown",
   "metadata": {},
   "source": [
    "## Compute execution ratio using dedicated service(F#)\n",
    "\n",
    "### Overview\n",
    "Tick count enriched with trade count can be used as an indicator to illustrate market activity and measure market quality by:\n",
    "* computing the technical transactions/transmissions count on a tick by tick basis, *tick count*,\n",
    "* comparing it to the total *trade count*\n",
    "\n",
    "Correlated with a set of other indicators such as traded volume and price volatility, over the same look back period and the same sampling granularity, it repserents a good measurement of the market quality.\n",
    "\n",
    "This samples enables to retrieve **on-demand** tick count data points (L1 and L1L2) by calling a dedicated service.\n",
    "\n",
    "### Inputs/outputs\n",
    "Execution ratio sample requires instrument's identifier, date time intervals and time granularity as per inputs. It returns the tick count Vs trade count sampled using the input time granularity.\n",
    "\n",
    "This sample also shows how to plot a simple graph for basis financial analysis using an open source library.\n",
    "\n",
    "<div class=\"alert alert-block alert-info\">\n",
    "    <b>Note:</b> Similar scenarios are available and enable to enrich tick count with price volatility or trade sizes.\n",
    "</div>\n",
    "\n",
    "### Services used\n",
    "This sample uses *gRPC requests* in order to retrieve tick by tick data from the dedicated hosted service. The queried endpoint in this script are:\n",
    "* *TopologiesService*: to directly retrieve tick by tick data data from the server.\n",
    "\n",
    "### Packages required\n",
    "1. Systemathics packages:\n",
    "    * *Systemathics.Apis.Type.Shared.V1*\n",
    "    * *Systemathics.Apis.Services.Topology.V1*\n",
    "2. Open source packages\n",
    "    * *Google.Protobuf.WellKnownTypes*\n",
    "    * *Google.Type*\n",
    "    * *Grpc.Net.Client*\n",
    "    * *Grpc.Core*\n",
    "    * *XPlot.Plotly* as per display package\n",
    "\n",
    "***"
   ]
  },
  {
   "cell_type": "markdown",
   "metadata": {},
   "source": [
    "# Run tick count sample"
   ]
  },
  {
   "cell_type": "markdown",
   "metadata": {},
   "source": [
    "### Step 1: Install packages"
   ]
  },
  {
   "cell_type": "code",
   "execution_count": null,
   "metadata": {
    "dotnet_interactive": {
     "language": "fsharp"
    }
   },
   "outputs": [],
   "source": [
    "#i \"nuget: file:///home/jovyan/.nuget/packages/\"\n",
    "#i \"nuget: https://api.nuget.org/v3/index.json\"\n",
    "#r \"nuget: Systemathics.Apis, 2.38.*-pre*\"\n",
    "#r \"nuget: XPlot.Plotly.Interactive\"\n",
    "#r \"nuget: TaskBuilder.fs\""
   ]
  },
  {
   "cell_type": "code",
   "execution_count": null,
   "metadata": {
    "dotnet_interactive": {
     "language": "fsharp"
    }
   },
   "outputs": [],
   "source": [
    "open Systemathics.Apis.Helpers\n",
    "open Systemathics.Apis.Type.Shared.V1\n",
    "open Systemathics.Apis.Services.Topology.V1\n",
    "open Google.Protobuf.WellKnownTypes\n",
    "open Google.Type\n",
    "open Grpc.Net.Client\n",
    "open Grpc.Core\n",
    "open XPlot.Plotly\n",
    "open XPlot.Plotly.Interactive"
   ]
  },
  {
   "cell_type": "markdown",
   "metadata": {},
   "source": [
    "### Step 2: Prepare API requests\n",
    "The following code snippets retrieve authentication token and prepare the API request by: opening the *channel* and adding the *token* to the request header:"
   ]
  },
  {
   "cell_type": "code",
   "execution_count": null,
   "metadata": {
    "dotnet_interactive": {
     "language": "fsharp"
    }
   },
   "outputs": [],
   "source": [
    "// Get token as metadata\n",
    "let headers = TokenHelpers.GetTokenAsMetaData();\n",
    "\n",
    "// Create communication channel\n",
    "let channel = ChannelHelpers.GetChannel();"
   ]
  },
  {
   "cell_type": "markdown",
   "metadata": {},
   "source": [
    "### Step 3: Create and process request\n",
    "To request *TopologiesService*, we need to specify:\n",
    "* Instrument identifier\n",
    "* Time period selection: select start and end dates\n",
    "* Topology request parameters"
   ]
  },
  {
   "cell_type": "markdown",
   "metadata": {},
   "source": [
    "#### 3.1 Instrument selection"
   ]
  },
  {
   "cell_type": "code",
   "execution_count": null,
   "metadata": {
    "dotnet_interactive": {
     "language": "fsharp"
    }
   },
   "outputs": [],
   "source": [
    "let ticker = \"AAPL\"\n",
    "let exchange = \"BATS\""
   ]
  },
  {
   "cell_type": "markdown",
   "metadata": {},
   "source": [
    "#### 3.2 Execution ratio granularity"
   ]
  },
  {
   "cell_type": "code",
   "execution_count": null,
   "metadata": {
    "dotnet_interactive": {
     "language": "fsharp"
    }
   },
   "outputs": [],
   "source": [
    "let granularity = TopologyGranularity.Daily"
   ]
  },
  {
   "cell_type": "markdown",
   "metadata": {},
   "source": [
    "#### 3.2 Request creation\n",
    "The following code snippet creates *gRPC client*, process request and returns the request reply:"
   ]
  },
  {
   "cell_type": "code",
   "execution_count": null,
   "metadata": {
    "dotnet_interactive": {
     "language": "fsharp"
    }
   },
   "outputs": [],
   "source": [
    "// Generate Trades request\n",
    "let requestL1 = \n",
    "    new TopologiesRequest(\n",
    "        Identifier = new Identifier ( Exchange = exchange, Ticker = ticker), \n",
    "        Granularity = granularity,\n",
    "        Level = Level.Trades\n",
    "    )\n",
    "\n",
    "// Generate Trades and Book request\n",
    "let requestL2 = \n",
    "    new TopologiesRequest (\n",
    "        Identifier = new Identifier ( Exchange = exchange, Ticker = ticker), \n",
    "        Granularity = granularity,\n",
    "        Level = Level.TradesAndBook\n",
    "    )"
   ]
  },
  {
   "cell_type": "code",
   "execution_count": null,
   "metadata": {
    "dotnet_interactive": {
     "language": "fsharp"
    }
   },
   "outputs": [],
   "source": [
    "// Instantiate the topologies service\n",
    "let service = new TopologiesService.TopologiesServiceClient(channel)        "
   ]
  },
  {
   "cell_type": "markdown",
   "metadata": {},
   "source": [
    "#### 3.3 Retrieve data"
   ]
  },
  {
   "cell_type": "code",
   "execution_count": null,
   "metadata": {
    "dotnet_interactive": {
     "language": "fsharp"
    }
   },
   "outputs": [],
   "source": [
    "// Process Trades request\n",
    "let replyL1 = service.Topologies(requestL1, headers)\n",
    " \n",
    "// Retrieve topologies service response for Trades\n",
    "let topologiesL1 = replyL1.Entries\n",
    "let totalTicksL1 = topologiesL1 |> Seq.sumBy (fun t -> t.TicksCount)\n",
    "\n",
    "topologiesL1 |> display"
   ]
  },
  {
   "cell_type": "code",
   "execution_count": null,
   "metadata": {
    "dotnet_interactive": {
     "language": "fsharp"
    }
   },
   "outputs": [],
   "source": [
    "// Process Trades and Book request\n",
    "let replyL2 = service.Topologies(requestL2, headers)\n",
    " \n",
    "// Retrieve topologies service response for Trades and Book\n",
    "let topologiesL2 = replyL2.Entries\n",
    "let totalTicksL2 = topologiesL2 |> Seq.sumBy (fun t -> t.TicksCount)\n",
    "\n",
    "// Store tick count starting from the date of your choice\n",
    "topologiesL2 |> display"
   ]
  },
  {
   "cell_type": "markdown",
   "metadata": {},
   "source": [
    "### Step4: Visualize data"
   ]
  },
  {
   "cell_type": "markdown",
   "metadata": {},
   "source": [
    "#### 4.1 Retrieve tick counts\n",
    "The following code snippet retrieves *Trades ticks* and *Trades and Book ticks* counts:"
   ]
  },
  {
   "cell_type": "code",
   "execution_count": null,
   "metadata": {
    "dotnet_interactive": {
     "language": "fsharp"
    }
   },
   "outputs": [],
   "source": [
    "// Extract ticks count for Trades\n",
    "let trades        = topologiesL1 |> Seq.map (fun t -> (new DateTime(t.Begin.Year, t.Begin.Month, t.Begin.Day), t.TicksCount))\n",
    "// Extract the price Trades and Book\n",
    "let tradesAndBook = topologiesL2 |> Seq.map (fun t -> (new DateTime(t.Begin.Year, t.Begin.Month, t.Begin.Day), t.TicksCount))"
   ]
  },
  {
   "cell_type": "markdown",
   "metadata": {},
   "source": [
    "#### 4.2 Compute execution ratio\n",
    "The following code snippet computes execution ratio by dividing  *Trades ticks* and *Trades and Book ticks* counts:"
   ]
  },
  {
   "cell_type": "code",
   "execution_count": null,
   "metadata": {
    "dotnet_interactive": {
     "language": "fsharp"
    }
   },
   "outputs": [],
   "source": [
    "let computeExecutionRatioPercent (d1,tradeCount) (d2,tickCount) =\n",
    "    (d1, (double tradeCount ) / (double tickCount) * 100.)\n",
    "\n",
    "let executionRatio = Seq.map2 computeExecutionRatioPercent trades tradesAndBook\n"
   ]
  },
  {
   "cell_type": "markdown",
   "metadata": {},
   "source": [
    "#### 4.2 Plot execution ratio"
   ]
  },
  {
   "cell_type": "code",
   "execution_count": null,
   "metadata": {
    "dotnet_interactive": {
     "language": "fsharp"
    }
   },
   "outputs": [],
   "source": [
    "let executionRatiochart =\n",
    "    [\n",
    "        new Scattergl(\n",
    "            name = \"Trades ticks count\",\n",
    "            mode = \"lines\",\n",
    "            x = (trades |> Seq.map fst),\n",
    "            y = (trades |> Seq.map snd)\n",
    "        )\n",
    "        new Scattergl(\n",
    "            name = \"Trades and Book ticks count\",\n",
    "            mode = \"lines\",\n",
    "            x = (tradesAndBook |> Seq.map fst),\n",
    "            y = (tradesAndBook |> Seq.map snd)\n",
    "        )\n",
    "        new Scattergl(\n",
    "            name = \"Execution ratio Percent\",\n",
    "            mode = \"lines\",\n",
    "            x = (executionRatio |> Seq.map fst),\n",
    "            y = (executionRatio |> Seq.map snd),\n",
    "            yaxis = \"y2\"\n",
    "        )\n",
    "    ]\n",
    "\n",
    "\n",
    "let layout = \n",
    "    new Layout.Layout( \n",
    "        title = $\"Execution ratio for {ticker}\",\n",
    "        xaxis = new Xaxis( title = \"Time\"),\n",
    "        yaxis = new Yaxis (\n",
    "            title = \"Ticks count\", \n",
    "            autorange = true,\n",
    "            side = \"left\"\n",
    "        ),\n",
    "        yaxis2 = new Yaxis (\n",
    "            title = \"Ratio\", \n",
    "            autorange = true,\n",
    "            side = \"right\"\n",
    "        )\n",
    "    )\n",
    "\n",
    "Chart.Plot(executionRatiochart, layout)\n",
    "|> Chart.WithWidth 1500\n",
    "|> Chart.WithHeight 800\n",
    "|> display"
   ]
  }
 ],
 "metadata": {
  "kernelspec": {
   "display_name": ".NET (F#)",
   "language": "F#",
   "name": ".net-fsharp"
  },
  "language_info": {
   "file_extension": ".fs",
   "mimetype": "text/x-fsharp",
   "name": "F#",
   "pygments_lexer": "fsharp",
   "version": "5.0"
  }
 },
 "nbformat": 4,
 "nbformat_minor": 4
}
