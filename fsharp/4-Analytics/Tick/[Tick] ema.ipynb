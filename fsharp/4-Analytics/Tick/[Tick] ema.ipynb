{
 "cells": [
  {
   "cell_type": "markdown",
   "id": "622eceeb",
   "metadata": {},
   "source": [
    "# Generate EMA using dedicated service - F#\n",
    "\n",
    "### Overview\n",
    "Moving averages smooth the price movements by filtering out the \"noise\" caused by short-term price fluctuations.They also form the building blocks for a wide range of technical indicators.\n",
    "\n",
    "Computing moving averages over a defined number of time periods is useful to:\n",
    "* identify the trend direction\n",
    "* determine support and resistance levels\n",
    "\n",
    "This sample demonstrates how to request and plot **on-demand** *exponential moving average - EMA* from a dedicated data service.\n",
    "\n",
    "### Inputs/outputs\n",
    "Exponential moving averages' requests require instrument's identifier, date time intervals and number of points as per inputs.\n",
    "\n",
    "EMA reduces the lag by applying greater weight to recent data points.The weighting applied to the most recent price depends on the number of points in the moving average The smaller the point count is, the more weight is applied to the most recent price.\n",
    "\n",
    "N-points EMA data point is computed using the previous' *EMA* value and the wighting multiplier as follows:\n",
    "\n",
    "$$ EMA = (Price-EMAp)*k+EMAp $$\n",
    "\n",
    "Where:\n",
    "* *Price* is the trade price\n",
    "* *EMAp* is the previous points' *EMA* value, *SMA* is used as the EMAp in the first calculation\n",
    "* *N* is the count of points\n",
    "* *$ k = \\frac{2}{N+1} $* is the *Weighting Multiplier*\n",
    "\n",
    "<div class=\"alert alert-block alert-info\">\n",
    "    <b>Note:</b> <i>EMA</i> adapts quickly to price changes than the <i>SMA</i>, when a price reverses direction, the <i>EMA</i> will reverse direction quicker than the <i>SMA</i> dur to the weighting \n",
    "</div>\n",
    "\n",
    "This sample shows how to plot a simple graph for basis technical analysis using an open source library. \n",
    "\n",
    "### Services used\n",
    "This sample uses *gRPC requests* in order to retrieve EMA indicator from the hosted service. The queried endpoint in this script are:\n",
    "* *TickEmaService*: to directly retrieve EMA data from the server\n",
    "\n",
    "### Packages required\n",
    "1. Systemathics packages:\n",
    "    * *Systemathics.Apis.Type.Shared.V1*\n",
    "    * *Systemathics.Apis.Services.TickAnalytics.V1*\n",
    "2. Open source packages\n",
    "    * *Google.Protobuf.WellKnownTypes*\n",
    "    * *Google.Type*\n",
    "    * *Grpc.Net.Client*\n",
    "    * *Grpc.Core*\n",
    "    * *XPlot.Plotly* as per display package\n",
    "\n",
    "***"
   ]
  },
  {
   "cell_type": "markdown",
   "id": "ba44db25",
   "metadata": {},
   "source": [
    "# Run EMA sample"
   ]
  },
  {
   "cell_type": "markdown",
   "id": "68b1a607",
   "metadata": {},
   "source": [
    "### Step 1: Install packages"
   ]
  },
  {
   "cell_type": "code",
   "execution_count": null,
   "id": "ac61a0ad",
   "metadata": {
    "dotnet_interactive": {
     "language": "fsharp"
    }
   },
   "outputs": [],
   "source": [
    "#i \"nuget: file:///home/jovyan/.nuget/packages/\"\n",
    "#i \"nuget: https://api.nuget.org/v3/index.json\"\n",
    "#r \"nuget: Systemathics.Apis\"\n",
    "#r \"nuget: XPlot.Plotly.Interactive\"\n",
    "#r \"nuget: TaskBuilder.fs\""
   ]
  },
  {
   "cell_type": "code",
   "execution_count": null,
   "id": "0407da9f",
   "metadata": {
    "dotnet_interactive": {
     "language": "fsharp"
    }
   },
   "outputs": [],
   "source": [
    "open Systemathics.Apis.Helpers\n",
    "open Systemathics.Apis.Type.Shared.V1\n",
    "open Systemathics.Apis.Services.TickAnalytics.V1\n",
    "open Google.Protobuf.WellKnownTypes\n",
    "open Google.Type\n",
    "open Grpc.Core\n",
    "open Grpc.Net.Client\n",
    "open XPlot.Plotly\n",
    "open XPlot.Plotly.Interactive"
   ]
  },
  {
   "cell_type": "markdown",
   "id": "fbf507c2",
   "metadata": {},
   "source": [
    "### Step 2: Prepare API requests\n",
    "The following code snippets retrieve authentication token and prepare the API request by: opening the *channel* and adding the *token* to the request header:"
   ]
  },
  {
   "cell_type": "code",
   "execution_count": null,
   "id": "36e9557e",
   "metadata": {
    "dotnet_interactive": {
     "language": "fsharp"
    }
   },
   "outputs": [],
   "source": [
    "// Get token as metadata\n",
    "let headers = TokenHelpers.GetTokenAsMetaData();\n",
    "\n",
    "// Create communication channel\n",
    "let channel = ChannelHelpers.GetChannel();"
   ]
  },
  {
   "cell_type": "markdown",
   "id": "3f95ec55",
   "metadata": {},
   "source": [
    "### Step 3: Create and process request\n",
    "To request *EMA* service, we need to specify:\n",
    "* Instrument identifier\n",
    "* Time period selection: select start and end dates\n",
    "* Exponential moving average request parameters"
   ]
  },
  {
   "cell_type": "markdown",
   "id": "f47deca3",
   "metadata": {},
   "source": [
    "#### 3.1 Instrument selection"
   ]
  },
  {
   "cell_type": "code",
   "execution_count": null,
   "id": "0c8250c3",
   "metadata": {
    "dotnet_interactive": {
     "language": "fsharp"
    }
   },
   "outputs": [],
   "source": [
    "let ticker = \"AAPL\"\n",
    "let exchange = \"BATS\""
   ]
  },
  {
   "cell_type": "markdown",
   "id": "f8da29a9",
   "metadata": {},
   "source": [
    "#### 3.2 EMA parameters"
   ]
  },
  {
   "cell_type": "code",
   "execution_count": null,
   "id": "ee16d947",
   "metadata": {
    "dotnet_interactive": {
     "language": "fsharp"
    }
   },
   "outputs": [],
   "source": [
    "let field = EmaPrice.Trade\n",
    "let longEma = 200\n",
    "let shortEma = 50\n",
    "let sampling = new Duration ( Seconds = 60L )"
   ]
  },
  {
   "cell_type": "markdown",
   "id": "ddf55289",
   "metadata": {},
   "source": [
    "#### 3.2 Time period delimitation"
   ]
  },
  {
   "cell_type": "code",
   "execution_count": null,
   "id": "1accc860",
   "metadata": {
    "dotnet_interactive": {
     "language": "fsharp"
    }
   },
   "outputs": [],
   "source": [
    "// Build the bars request date interval (we are using Google date time format : we have to cast the dates)\n",
    "let dateIntervals = \n",
    "  new DateInterval(\n",
    "    StartDate = new Date ( Year = 2020, Month = 02, Day = 18 ),\n",
    "    EndDate = new Date ( Year = 2020, Month = 02, Day = 18 )\n",
    "  )\n",
    "\n",
    "// Build the bars request time interval (we are using Google date time format : we have to cast the dates)\n",
    "// UTC time zone\n",
    "let timeInterval = \n",
    "  new TimeInterval(\n",
    "    StartTime = new TimeOfDay ( Hours = 08, Minutes = 00, Seconds = 00 ),\n",
    "    EndTime = new TimeOfDay ( Hours = 20, Minutes = 00, Seconds = 00 ) \n",
    "  )"
   ]
  },
  {
   "cell_type": "markdown",
   "id": "9757582a",
   "metadata": {},
   "source": [
    "#### 3.3 Request creation\n",
    "The following code snippets creates *gRPC client*, process request and returns the request reply:"
   ]
  },
  {
   "cell_type": "code",
   "execution_count": null,
   "id": "faba1e93",
   "metadata": {
    "dotnet_interactive": {
     "language": "fsharp"
    }
   },
   "outputs": [],
   "source": [
    "// Generate constraints based on the previous space selection:\n",
    "let constraints = new Constraints()\n",
    "constraints.DateIntervals.Add(dateIntervals)\n",
    "constraints.TimeIntervals.Add(timeInterval)   "
   ]
  },
  {
   "cell_type": "markdown",
   "id": "f0856f0c",
   "metadata": {},
   "source": [
    "The following code snippets create requests for: *Long EMA*, *Short EMA* and *Prices*:"
   ]
  },
  {
   "cell_type": "code",
   "execution_count": null,
   "id": "2f59b4b1",
   "metadata": {
    "dotnet_interactive": {
     "language": "fsharp"
    }
   },
   "outputs": [],
   "source": [
    "// Generate 200-points EMA request\n",
    "let emaLongRequest = \n",
    "    new TickEmaRequest(\n",
    "        Identifier = new Identifier ( Exchange = exchange, Ticker = ticker), \n",
    "        Constraints = constraints,  \n",
    "        Field = field,\n",
    "        Length = longEma, \n",
    "        Sampling = sampling\n",
    "    )\n",
    "\n",
    "// Generate 50-points EMA request\n",
    "let emaShortRequest = \n",
    "    new TickEmaRequest(\n",
    "        Identifier = new Identifier ( Exchange = exchange, Ticker = ticker), \n",
    "        Constraints = constraints,  \n",
    "        Field = field,\n",
    "        Length = shortEma, \n",
    "        Sampling = sampling\n",
    "    )\n",
    "\n",
    "// Instantiate the tick EMA service\n",
    "let service = new TickEmaService.TickEmaServiceClient(channel)"
   ]
  },
  {
   "cell_type": "markdown",
   "id": "3c3f2473",
   "metadata": {},
   "source": [
    "### Step 4: Visualize data"
   ]
  },
  {
   "cell_type": "markdown",
   "id": "5c52c8ee",
   "metadata": {},
   "source": [
    "#### 4.1 Retrieve long EMA data"
   ]
  },
  {
   "cell_type": "code",
   "execution_count": null,
   "id": "44fd5c56",
   "metadata": {
    "dotnet_interactive": {
     "language": "fsharp"
    }
   },
   "outputs": [],
   "source": [
    "open FSharp.Control.Tasks.V1\n",
    "open System.Collections.Generic\n",
    "\n",
    "let iterAsync (t: IAsyncEnumerable<'T>) (f : 'T -> unit) =\n",
    "    let task = \n",
    "        task {\n",
    "            let e = t.GetAsyncEnumerator()\n",
    "            let mutable go = true\n",
    "            try\n",
    "                let! step = e.MoveNextAsync()\n",
    "                go <- step\n",
    "                while go do \n",
    "                    f e.Current\n",
    "                    let! step = e.MoveNextAsync()\n",
    "                    go <- step\n",
    "            finally\n",
    "                e.DisposeAsync().AsTask().Wait()\n",
    "        }\n",
    "    task.Wait()\n",
    "\n",
    "let emalong = new List<TickEmaResponse>()\n",
    "let call = service.TickEma(emaLongRequest, headers)\n",
    "let e = call.ResponseStream.ReadAllAsync()\n",
    "\n",
    "iterAsync e emalong.Add\n",
    "\n",
    "//emalong |> display"
   ]
  },
  {
   "cell_type": "markdown",
   "id": "bc82e971",
   "metadata": {},
   "source": [
    "#### 4.2 Retrieve short EMA data"
   ]
  },
  {
   "cell_type": "code",
   "execution_count": null,
   "id": "4910b274",
   "metadata": {
    "dotnet_interactive": {
     "language": "fsharp"
    }
   },
   "outputs": [],
   "source": [
    "open FSharp.Control.Tasks.V1\n",
    "open System.Collections.Generic\n",
    "\n",
    "let iterAsync (t: IAsyncEnumerable<'T>) (f : 'T -> unit) =\n",
    "    let task = \n",
    "        task {\n",
    "            let e = t.GetAsyncEnumerator()\n",
    "            let mutable go = true\n",
    "            try\n",
    "                let! step = e.MoveNextAsync()\n",
    "                go <- step\n",
    "                while go do \n",
    "                    f e.Current\n",
    "                    let! step = e.MoveNextAsync()\n",
    "                    go <- step\n",
    "            finally\n",
    "                e.DisposeAsync().AsTask().Wait()\n",
    "        }\n",
    "    task.Wait()\n",
    "\n",
    "let emashort = new List<TickEmaResponse>()\n",
    "let call = service.TickEma(emaShortRequest, headers)\n",
    "let e = call.ResponseStream.ReadAllAsync()\n",
    "\n",
    "iterAsync e emalong.Add\n",
    "\n",
    "//emashort |> display"
   ]
  },
  {
   "cell_type": "markdown",
   "id": "479f48ea",
   "metadata": {},
   "source": [
    "#### 4.1 Plot EMA and prices\n",
    "Plot the EMA and prices request' results with the package of your choice.<br>*`XPlot.Plotly`* is used as per open source display package. Plot a simple line graph with the EMA and prices data points: "
   ]
  },
  {
   "cell_type": "code",
   "execution_count": null,
   "id": "8868f252",
   "metadata": {
    "dotnet_interactive": {
     "language": "fsharp"
    }
   },
   "outputs": [],
   "source": [
    "[\n",
    "    new Scattergl(\n",
    "        name = \"200-points EMA\",\n",
    "        mode = \"lines\",\n",
    "        x = (emalong |> Seq.map (fun l -> l.TimeStamp.ToDateTime())),\n",
    "        y = (emalong |> Seq.map (fun l -> l.Average))\n",
    "    )\n",
    "    new Scattergl(\n",
    "        name = \"50-points EMA\",\n",
    "        mode = \"lines\",\n",
    "        x = (emashort |> Seq.map ( fun l -> l.TimeStamp.ToDateTime())),\n",
    "        y = (emashort |> Seq.map ( fun l -> l.Average))\n",
    "    )\n",
    "    new Scattergl(\n",
    "        name = \"Prices\",\n",
    "        mode = \"lines\",\n",
    "        x = (emalong |> Seq.map (fun l -> l.TimeStamp.ToDateTime())),\n",
    "        y = (emalong |> Seq.map (fun l -> l.Value))\n",
    "    )\n",
    "]\n",
    "|> Chart.Plot\n",
    "|> Chart.WithTitle $\"EMAs and prices for {ticker}\"\n",
    "|> Chart.WithXTitle \"Time\"\n",
    "|> Chart.WithYTitle \"Price\"\n",
    "|> Chart.WithWidth 1500\n",
    "|> Chart.WithHeight 800\n",
    "|> display"
   ]
  }
 ],
 "metadata": {
  "kernelspec": {
   "display_name": ".NET (F#)",
   "language": "F#",
   "name": ".net-fsharp"
  },
  "language_info": {
   "file_extension": ".fs",
   "mimetype": "text/x-fsharp",
   "name": "F#",
   "pygments_lexer": "fsharp",
   "version": "5.0"
  }
 },
 "nbformat": 4,
 "nbformat_minor": 5
}
