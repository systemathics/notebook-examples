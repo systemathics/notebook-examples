{
 "cells": [
  {
   "cell_type": "markdown",
   "metadata": {},
   "source": [
    "# Generate intraday bars using bars data service - F#\n",
    "\n",
    "### Overview\n",
    "Bars are widely used to illustrate price movements for an instrument over a look back period. Commonly used in financial analysis and trading strategies as per a deicion making technical indicator.<br>\n",
    "\n",
    "This sample demonstrates how to directly request and plot `intraday bars` with a **customizable** time range sampling.<br>\n",
    "\n",
    "It enables to retrieve **on-demand** data by calling a dedicated bars service on a tick by tick data store. \n",
    "\n",
    "### Inputs/outputs\n",
    "Bars sample requires instrument's identifier, date time intervals as per inputs. It returns open-high-low-close (OHLC) and volume.\n",
    "This sample also shows how to plot a simple graph for basis financial analysis using an open source library.\n",
    "\n",
    "### Services used\n",
    "This sample uses *gRPC requests* in order to retrieve bars from the dedicated hosted service. The queried endpoint in this script are:\n",
    "* *TickBarsService*: to directly retrieve bars objects from the server\n",
    "\n",
    "### Packages required\n",
    "1. Systemathics packages:\n",
    "    * *Systemathics.Apis.Type.Shared.V1*\n",
    "    * *Systemathics.Apis.Services.TickAnalytics.V1*\n",
    "2. Open source packages\n",
    "    * *Google.Protobuf.WellKnownTypes*\n",
    "    * *Google.Type*\n",
    "    * *Grpc.Net.Client*\n",
    "    * *Grpc.Core*\n",
    "    * *XPlot.Plotly* as per display package\n",
    "\n",
    "***"
   ]
  },
  {
   "cell_type": "markdown",
   "metadata": {},
   "source": [
    "# Run bars sample"
   ]
  },
  {
   "cell_type": "markdown",
   "metadata": {},
   "source": [
    "### Step 1: Install packages"
   ]
  },
  {
   "cell_type": "code",
   "execution_count": null,
   "metadata": {
    "dotnet_interactive": {
     "language": "fsharp"
    }
   },
   "outputs": [],
   "source": [
    "#i \"nuget: file:///home/jovyan/.nuget/packages/\"\n",
    "#i \"nuget: https://api.nuget.org/v3/index.json\"\n",
    "#r \"nuget: Systemathics.Apis, 2.32.*\"\n",
    "#r \"nuget: XPlot.Plotly.Interactive, 4.0.6\"\n",
    "#r \"nuget: TaskBuilder.fs\""
   ]
  },
  {
   "cell_type": "code",
   "execution_count": null,
   "metadata": {
    "dotnet_interactive": {
     "language": "fsharp"
    }
   },
   "outputs": [],
   "source": [
    "open Systemathics.Apis.Helpers\n",
    "open Systemathics.Apis.Type.Shared.V1\n",
    "open Systemathics.Apis.Services.TickAnalytics.V1\n",
    "open Google.Protobuf.WellKnownTypes\n",
    "open Google.Type\n",
    "open Grpc.Net.Client\n",
    "open Grpc.Core\n",
    "open XPlot.Plotly\n",
    "open XPlot.Plotly.Interactive"
   ]
  },
  {
   "cell_type": "markdown",
   "metadata": {},
   "source": [
    "### Step 2: Prepare API requests\n",
    "The following code snippets retrieve authentication token and prepare the API request by: opening the *channel* and adding the *token* to the request header:"
   ]
  },
  {
   "cell_type": "code",
   "execution_count": null,
   "metadata": {
    "dotnet_interactive": {
     "language": "fsharp"
    }
   },
   "outputs": [],
   "source": [
    "// Get token as metadata\n",
    "let headers = TokenHelpers.GetTokenAsMetaData();\n",
    "\n",
    "// Create communication channel\n",
    "let channel = ChannelHelpers.GetChannel();"
   ]
  },
  {
   "cell_type": "markdown",
   "metadata": {},
   "source": [
    "### Step 3: Create and process request\n",
    "To request *tick bars service*, we need to specify:\n",
    "* Instrument identifier\n",
    "* Time period selection: select start and end dates\n",
    "* Bars request parameters"
   ]
  },
  {
   "cell_type": "markdown",
   "metadata": {},
   "source": [
    "#### 3.1 Instrument selection"
   ]
  },
  {
   "cell_type": "code",
   "execution_count": null,
   "metadata": {
    "dotnet_interactive": {
     "language": "fsharp"
    }
   },
   "outputs": [],
   "source": [
    "let ticker = \"AAPL\"\n",
    "let exchange = \"BATS\""
   ]
  },
  {
   "cell_type": "markdown",
   "metadata": {},
   "source": [
    "#### 3.2 Bars calculation parameters"
   ]
  },
  {
   "cell_type": "code",
   "execution_count": null,
   "metadata": {
    "dotnet_interactive": {
     "language": "fsharp"
    }
   },
   "outputs": [],
   "source": [
    "// Set the bar duration\n",
    "let sampling = 5L * 60L\n",
    "\n",
    "// Set the bar calculation field\n",
    "let field = BarPrice.Trade "
   ]
  },
  {
   "cell_type": "markdown",
   "metadata": {},
   "source": [
    "#### 3.3 Time period delimitation"
   ]
  },
  {
   "cell_type": "code",
   "execution_count": null,
   "metadata": {
    "dotnet_interactive": {
     "language": "fsharp"
    }
   },
   "outputs": [],
   "source": [
    "// Create time intervals\n",
    "let yesterday = DateTime.Today.AddDays(-1.)\n",
    "let start = yesterday.AddDays(-50.)\n",
    "\n",
    "// Build the bars request date interval (we are using Google date time format : we have to cast the dates)\n",
    "let dateIntervals = \n",
    "  new DateInterval(\n",
    "    StartDate = new Date ( Year = start.Year, Month = start.Month, Day = start.Day ),\n",
    "    EndDate = new Date ( Year = yesterday.Year, Month = yesterday.Month, Day = yesterday.Day )\n",
    "  )\n",
    "\n",
    "// Build the bars request time interval (we are using Google date time format : we have to cast the dates)\n",
    "// UTC time zone\n",
    "let timeInterval = \n",
    "  new TimeInterval(\n",
    "    StartTime = new TimeOfDay ( Hours = 15, Minutes = 00, Seconds = 00 ),\n",
    "    EndTime = new TimeOfDay ( Hours = 16, Minutes = 00, Seconds = 00 ) \n",
    "  )"
   ]
  },
  {
   "cell_type": "markdown",
   "metadata": {},
   "source": [
    "#### 3.4 Request creation\n",
    "The following code snippet creates *gRPC client*, process request and returns the request reply:"
   ]
  },
  {
   "cell_type": "code",
   "execution_count": null,
   "metadata": {
    "dotnet_interactive": {
     "language": "fsharp"
    }
   },
   "outputs": [],
   "source": [
    "// Generate constraints based on the previous space selection:\n",
    "let constraints = new Constraints() \n",
    "constraints.DateIntervals.Add(dateIntervals)\n",
    "constraints.TimeIntervals.Add(timeInterval)"
   ]
  },
  {
   "cell_type": "code",
   "execution_count": null,
   "metadata": {
    "dotnet_interactive": {
     "language": "fsharp"
    }
   },
   "outputs": [],
   "source": [
    "// Generate intraday bars request\n",
    "let request = \n",
    "    new TickBarsRequest(\n",
    "        Identifier = new Identifier ( Exchange = exchange, Ticker = ticker), \n",
    "        Constraints = constraints,  \n",
    "        Sampling = new Duration (Seconds = sampling),\n",
    "        Field = field\n",
    "    )"
   ]
  },
  {
   "cell_type": "code",
   "execution_count": null,
   "metadata": {
    "dotnet_interactive": {
     "language": "fsharp"
    }
   },
   "outputs": [],
   "source": [
    "// Instantiate the intraday bars service\n",
    "let service = new TickBarsService.TickBarsServiceClient(channel)"
   ]
  },
  {
   "cell_type": "code",
   "execution_count": null,
   "metadata": {
    "dotnet_interactive": {
     "language": "fsharp"
    }
   },
   "outputs": [],
   "source": [
    "// Process intraday bars request\n",
    "open FSharp.Control.Tasks.V2\n",
    "open System.Collections.Generic\n",
    "\n",
    "let bars = new List<TickBarsResponse>()\n",
    "\n",
    "let iterAsync (t: IAsyncEnumerable<'T>) (f : 'T -> unit) =\n",
    "    let task = \n",
    "        task {\n",
    "            let e = t.GetAsyncEnumerator()\n",
    "            let mutable go = true\n",
    "            try\n",
    "                let! step = e.MoveNextAsync()\n",
    "                go <- step\n",
    "                while go do \n",
    "                    f e.Current\n",
    "                    let! step = e.MoveNextAsync()\n",
    "                    go <- step\n",
    "            finally\n",
    "                e.DisposeAsync().AsTask().Wait()\n",
    "        }\n",
    "    task.Wait()\n",
    "    \n",
    "let call = service.TickBars(request, headers)\n",
    "let e = call.ResponseStream.ReadAllAsync()\n",
    "\n",
    "iterAsync e bars.Add\n"
   ]
  },
  {
   "cell_type": "code",
   "execution_count": null,
   "metadata": {
    "dotnet_interactive": {
     "language": "fsharp"
    }
   },
   "outputs": [],
   "source": [
    "// Calculate the total ticks inside all the bars we received\n",
    "let ticks = bars |> Seq.sumBy (fun bar -> bar.Count)\n",
    "\n",
    "// Display\n",
    "Console.WriteLine($\"Fetched {bars.Count:N0} bars from (Total trades={ticks:N0})\")\n",
    "display(bars)"
   ]
  },
  {
   "cell_type": "markdown",
   "metadata": {},
   "source": [
    "### Step 4: Visualize data"
   ]
  },
  {
   "cell_type": "markdown",
   "metadata": {},
   "source": [
    "#### 4.1 Plot the bars Chart\n",
    "Plot the bars request result and plot them with the package of your choice.<br>*`XPlot.Plotly`* is used as per open source display package. "
   ]
  },
  {
   "cell_type": "code",
   "execution_count": null,
   "metadata": {
    "dotnet_interactive": {
     "language": "fsharp"
    }
   },
   "outputs": [],
   "source": [
    "// Plot selected bars\n",
    "bars \n",
    "|> Seq.map (fun b -> (b.TimeStamp.ToDateTime(), b.Open, b.High, b.Low, b.Close))\n",
    "|> Chart.Candlestick\n",
    "|> Chart.WithTitle $\"{sampling/60L}-min Bars for {ticker}\"\n",
    "|> Chart.WithXTitle \"Time\"\n",
    "|> Chart.WithYTitle \"OHLC\"\n",
    "|> Chart.WithWidth 1500\n",
    "|> Chart.WithHeight 800\n",
    "|> display"
   ]
  }
 ],
 "metadata": {
  "kernelspec": {
   "display_name": ".NET (F#)",
   "language": "F#",
   "name": ".net-fsharp"
  },
  "language_info": {
   "file_extension": ".fs",
   "mimetype": "text/x-fsharp",
   "name": "F#",
   "pygments_lexer": "fsharp",
   "version": "5.0"
  }
 },
 "nbformat": 4,
 "nbformat_minor": 4
}
