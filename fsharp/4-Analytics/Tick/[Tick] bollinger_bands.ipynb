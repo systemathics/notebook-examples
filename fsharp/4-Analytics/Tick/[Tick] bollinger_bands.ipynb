{
 "cells": [
  {
   "cell_type": "markdown",
   "id": "micro-karen",
   "metadata": {},
   "source": [
    "# Generate Bollinger bands using dedicated service - F#\n",
    "\n",
    "### Overview\n",
    "Bollinger bands were created by John Bollinger, they are envelopes and plotted around the moving average. The width of the bands is based on the standard deviaton of the closing prices from a moving average. \n",
    "\n",
    "The purpose of Bollinger Bands is to provide a relative definition of high and low prices of a market. By definition, prices are high at the upper band and low at the lower band.\n",
    "\n",
    "This sample demonstrates how to request and plot from a dedicated data service **on-demand** Bollinger bands.\n",
    "\n",
    "### Inputs/outputs\n",
    "Bollinger bands indicator requires instrument's identifier,date time intervals and number of periods as per inputs and returns data points for the following components:\n",
    "1. *Middle band* = n-period moving average\n",
    "2. *Upper band* = Middle band + (k * n-period standard deviation)\n",
    "3. *Lower band* = Middle band - (k * n-period standard deviation)\n",
    "\n",
    "Where:\n",
    "* *n: number of periods*\n",
    "* *k: factor to apply to the standard deviation value, k=2 as default value*\n",
    "\n",
    "This sample shows how to request and plot a simple Bollinger bands graph for basis technical analysis using an open source library. \n",
    "\n",
    "### Services used\n",
    "This sample uses *gRPC requests* in order to retrieve Bollinger bands data from the hosted service. The queried endpoint in this script are:\n",
    "* *TickBollingerService*: to directly retrieve bollinger bands data reponse from the server\n",
    "\n",
    "### Packages required\n",
    "1. Systemathics packages:\n",
    "    * *Systemathics.Apis.Type.Shared.V1*\n",
    "    * *Systemathics.Apis.Services.TickAnalytics.V1*\n",
    "2. Open source packages\n",
    "    * *Google.Protobuf.WellKnownTypes*\n",
    "    * *Google.Type*\n",
    "    * *Grpc.Net.Client*\n",
    "    * *Grpc.Core*\n",
    "    * *XPlot.Plotly* as per display package\n",
    "\n",
    "***"
   ]
  },
  {
   "cell_type": "markdown",
   "id": "acute-angel",
   "metadata": {},
   "source": [
    "# Run Bollinger bands sample\n",
    "### Step 1: Install packages"
   ]
  },
  {
   "cell_type": "code",
   "execution_count": null,
   "id": "radio-immigration",
   "metadata": {
    "dotnet_interactive": {
     "language": "fsharp"
    }
   },
   "outputs": [],
   "source": [
    "#i \"nuget: file:///home/jovyan/.nuget/packages/\"\n",
    "#i \"nuget: https://api.nuget.org/v3/index.json\"\n",
    "#r \"nuget: Systemathics.Apis, 2.36.*-pre*\"\n",
    "#r \"nuget: XPlot.Plotly.Interactive\"\n",
    "#r \"nuget: TaskBuilder.fs\""
   ]
  },
  {
   "cell_type": "code",
   "execution_count": null,
   "id": "missing-texture",
   "metadata": {
    "dotnet_interactive": {
     "language": "fsharp"
    }
   },
   "outputs": [],
   "source": [
    "open Systemathics.Apis.Helpers\n",
    "open Systemathics.Apis.Type.Shared.V1\n",
    "open Systemathics.Apis.Services.TickAnalytics.V1\n",
    "open Google.Protobuf.WellKnownTypes\n",
    "open Google.Type\n",
    "open Grpc.Core\n",
    "open Grpc.Net.Client\n",
    "open XPlot.Plotly\n",
    "open XPlot.Plotly.Interactive"
   ]
  },
  {
   "cell_type": "markdown",
   "id": "incomplete-tradition",
   "metadata": {},
   "source": [
    "### Step 2: Prepare API requests\n",
    "The following code snippets retrieve authentication token and prepare the API request by: opening the *channel* and adding the *token* to the request header:"
   ]
  },
  {
   "cell_type": "code",
   "execution_count": null,
   "id": "sapphire-majority",
   "metadata": {
    "dotnet_interactive": {
     "language": "fsharp"
    }
   },
   "outputs": [],
   "source": [
    "// Get token as metadata\n",
    "let headers = TokenHelpers.GetTokenAsMetaData();\n",
    "\n",
    "// Create communication channel\n",
    "let channel = ChannelHelpers.GetChannel();"
   ]
  },
  {
   "cell_type": "markdown",
   "id": "bridal-victoria",
   "metadata": {},
   "source": [
    "### Step 3: Create and process request\n",
    "To request *Bollinger bands* service, we need to specify:\n",
    "* Instrument identifier\n",
    "* Time period selection: select start and end dates\n",
    "* Bollinger bands request parameters"
   ]
  },
  {
   "cell_type": "markdown",
   "id": "fundamental-think",
   "metadata": {},
   "source": [
    "#### 3.1 Instrument selection"
   ]
  },
  {
   "cell_type": "code",
   "execution_count": null,
   "id": "breeding-jenny",
   "metadata": {
    "dotnet_interactive": {
     "language": "fsharp"
    }
   },
   "outputs": [],
   "source": [
    "let ticker = \"AAPL\"\n",
    "let exchange = \"BATS\""
   ]
  },
  {
   "cell_type": "markdown",
   "id": "diverse-colonial",
   "metadata": {},
   "source": [
    "#### 3.2 Bollinger bands parameters"
   ]
  },
  {
   "cell_type": "code",
   "execution_count": null,
   "id": "simple-match",
   "metadata": {
    "dotnet_interactive": {
     "language": "fsharp"
    }
   },
   "outputs": [],
   "source": [
    "let field = BollingerPrice.Trade\n",
    "let length = 20\n",
    "let deviation = 0.4\n",
    "let sampling = new Duration ( Seconds = 60L )"
   ]
  },
  {
   "cell_type": "markdown",
   "id": "smoking-bullet",
   "metadata": {},
   "source": [
    "#### 3.3 Time period delimitation"
   ]
  },
  {
   "cell_type": "code",
   "execution_count": null,
   "id": "current-compensation",
   "metadata": {
    "dotnet_interactive": {
     "language": "fsharp"
    }
   },
   "outputs": [],
   "source": [
    "// Create time intervals\n",
    "let yesterday = DateTime.Today.AddDays(-1.)\n",
    "let start = yesterday.AddDays(-50.)\n",
    "// Build the bars request date interval (we are using Google date time format : we have to cast the dates)\n",
    "let dateIntervals = \n",
    "  new DateInterval(\n",
    "    StartDate = new Date ( Year = start.Year, Month = start.Month, Day = start.Day ),\n",
    "    EndDate = new Date ( Year = yesterday.Year, Month = yesterday.Month, Day = yesterday.Day )\n",
    "  )\n",
    "\n",
    "// Build the bars request time interval (we are using Google date time format : we have to cast the dates)\n",
    "// UTC time zone\n",
    "let timeInterval = \n",
    "  new TimeInterval(\n",
    "    StartTime = new TimeOfDay ( Hours = 15, Minutes = 00, Seconds = 00 ),\n",
    "    EndTime = new TimeOfDay ( Hours = 16, Minutes = 00, Seconds = 00 ) \n",
    "  )"
   ]
  },
  {
   "cell_type": "markdown",
   "id": "expressed-green",
   "metadata": {},
   "source": [
    "#### 3.4 Request creation\n",
    "The following code snippets creates *gRPC client*, process request and returns the request reply:"
   ]
  },
  {
   "cell_type": "code",
   "execution_count": null,
   "id": "uniform-wyoming",
   "metadata": {
    "dotnet_interactive": {
     "language": "fsharp"
    }
   },
   "outputs": [],
   "source": [
    "// Generate constraints based on the previous time selection:\n",
    "let constraints = new Constraints()\n",
    "constraints.DateIntervals.Add(dateIntervals)\n",
    "constraints.TimeIntervals.Add(timeInterval)"
   ]
  },
  {
   "cell_type": "markdown",
   "id": "welsh-wheel",
   "metadata": {},
   "source": [
    "The following code snippets create requests for Bollinger bands:"
   ]
  },
  {
   "cell_type": "code",
   "execution_count": null,
   "id": "appointed-assumption",
   "metadata": {
    "dotnet_interactive": {
     "language": "fsharp"
    }
   },
   "outputs": [],
   "source": [
    "// Generate the tick Bollinger Bands request\n",
    "let request = \n",
    "    new TickBollingerRequest(\n",
    "        Identifier = new Identifier ( Exchange = exchange, Ticker = ticker), \n",
    "        Constraints = constraints,  \n",
    "        Field = field,\n",
    "        Length = length, \n",
    "        Deviation = deviation,\n",
    "        Sampling = sampling\n",
    "    )\n",
    "\n",
    "// Instantiate the tick Bollinger bands service\n",
    "let service = new TickBollingerService.TickBollingerServiceClient(channel)"
   ]
  },
  {
   "cell_type": "markdown",
   "id": "pregnant-milwaukee",
   "metadata": {},
   "source": [
    "### Step 4: Visualize data"
   ]
  },
  {
   "cell_type": "markdown",
   "id": "coordinate-literacy",
   "metadata": {},
   "source": [
    "#### 4.1 Retrieve Bollinger bands data"
   ]
  },
  {
   "cell_type": "code",
   "execution_count": null,
   "id": "fossil-stock",
   "metadata": {
    "dotnet_interactive": {
     "language": "fsharp"
    }
   },
   "outputs": [],
   "source": [
    "open FSharp.Control.Tasks.V2\n",
    "open System.Collections.Generic\n",
    "\n",
    "let iterAsync (t: IAsyncEnumerable<'T>) (f : 'T -> unit) =\n",
    "    let task = \n",
    "        task {\n",
    "            let e = t.GetAsyncEnumerator()\n",
    "            let mutable go = true\n",
    "            try\n",
    "                let! step = e.MoveNextAsync()\n",
    "                go <- step\n",
    "                while go do \n",
    "                    f e.Current\n",
    "                    let! step = e.MoveNextAsync()\n",
    "                    go <- step\n",
    "            finally\n",
    "                e.DisposeAsync().AsTask().Wait()\n",
    "        }\n",
    "    task.Wait()\n",
    "\n",
    "\n",
    "\n",
    "let bollingerBands = new List<TickBollingerResponse>()\n",
    "let call = service.TickBollinger(request, headers)\n",
    "let e = call.ResponseStream.ReadAllAsync()\n",
    "iterAsync e bollingerBands.Add\n",
    "\n",
    "bollingerBands\n",
    "|> display"
   ]
  },
  {
   "cell_type": "markdown",
   "id": "faced-dynamics",
   "metadata": {},
   "source": [
    "#### 4.2 Plot Bollinger bands\n",
    "Display Bollinger bands over the look back period with the package of your choice.<br>*`XPlot.Plotly`* is used as per open source display package.\n",
    "Plot a simple line graph with the *Bollinger bands* as follows: "
   ]
  },
  {
   "cell_type": "code",
   "execution_count": null,
   "id": "initial-boxing",
   "metadata": {
    "dotnet_interactive": {
     "language": "fsharp"
    }
   },
   "outputs": [],
   "source": [
    "// Plot Bollinger bands\n",
    "[\n",
    "    new Scattergl(\n",
    "        name = \"Upper band\",\n",
    "        mode = \"lines\",\n",
    "        x = (bollingerBands |> Seq.map (fun l -> l.TimeStamp.ToDateTime())),\n",
    "        y = (bollingerBands |> Seq.map (fun l -> l.Upper))\n",
    "    )\n",
    "    new Scattergl(\n",
    "        name = \"Middle band\",\n",
    "        mode = \"lines\",\n",
    "        x = (bollingerBands |> Seq.map (fun l -> l.TimeStamp.ToDateTime())),\n",
    "        y = (bollingerBands |> Seq.map (fun l -> l.Middle))\n",
    "    )\n",
    "    new Scattergl(\n",
    "        name = \"Lower band\",\n",
    "        mode = \"lines\",\n",
    "        x = (bollingerBands |> Seq.map (fun l -> l.TimeStamp.ToDateTime())),\n",
    "        y = (bollingerBands |> Seq.map (fun l -> l.Lower))\n",
    "    )\n",
    "    new Scattergl(\n",
    "        name = \"Price\",\n",
    "        mode = \"markers\",\n",
    "        x = (bollingerBands |> Seq.map (fun l -> l.TimeStamp.ToDateTime())),\n",
    "        y = (bollingerBands |> Seq.map (fun l -> l.Value))\n",
    "    )\n",
    "]\n",
    "|> Chart.Plot\n",
    "|> Chart.WithTitle $\"Bollinger bands for {ticker}\"\n",
    "|> Chart.WithXTitle \"Time\"\n",
    "|> Chart.WithYTitle \"Price\"\n",
    "|> Chart.WithWidth 1500\n",
    "|> Chart.WithHeight 800\n",
    "|> display"
   ]
  }
 ],
 "metadata": {
  "kernelspec": {
   "display_name": ".NET (F#)",
   "language": "F#",
   "name": ".net-fsharp"
  },
  "language_info": {
   "file_extension": ".fs",
   "mimetype": "text/x-fsharp",
   "name": "F#",
   "pygments_lexer": "fsharp",
   "version": "5.0"
  }
 },
 "nbformat": 4,
 "nbformat_minor": 5
}
