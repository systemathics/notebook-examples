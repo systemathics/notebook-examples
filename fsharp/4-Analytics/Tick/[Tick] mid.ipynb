{
 "cells": [
  {
   "cell_type": "markdown",
   "id": "aef3477e",
   "metadata": {},
   "source": [
    "# Generate Mid using dedicated service - F#\n",
    "\n",
    "### Overview\n",
    "Mid indicators are a commonly used to provide midpoint value from two given inputs.\n",
    "\n",
    "This sample demonstrates how to request and plot from a dedicated data service the following midpoints:\n",
    "1. Midprice\n",
    "2. Midsize\n",
    "\n",
    "When correlated with a range of indicators, it gives an idea about the market quality.\n",
    "\n",
    "### Inputs/outputs\n",
    "Mid indicator requires instrument's identifier and date time intervals as per inputs and returns the midpoints' values.\n",
    "\n",
    "For each timestamp, the midpoint's value is an average of:\n",
    "* bid and ask prices for midprice\n",
    "* bid and ask sizes for midsize\n",
    "\n",
    "This sample shows how to plot a simple mid graph for basis technical analysis using an open source library. \n",
    "\n",
    "### Services used\n",
    "This sample uses *gRPC requests* in order to retrieve top of the book tick data from the hosted service. The queried endpoint in this script are:\n",
    "* *TickBookService*: to directly retrieve best Bid/Ask tick data from the server.\n",
    "\n",
    "### Packages required\n",
    "1. Systemathics packages:\n",
    "    * *Systemathics.Apis.Type.Shared.V1*\n",
    "    * *Systemathics.Apis.Services.Tick.V1*\n",
    "2. Open source packages\n",
    "    * *Google.Protobuf.WellKnownTypes*\n",
    "    * *Google.Type*\n",
    "    * *Grpc.Net.Client*\n",
    "    * *Grpc.Core*\n",
    "    * *XPlot.Plotly* as per display package\n",
    "\n",
    "***"
   ]
  },
  {
   "cell_type": "markdown",
   "id": "ec8eed7e",
   "metadata": {},
   "source": [
    "# Run Mid sample"
   ]
  },
  {
   "cell_type": "markdown",
   "id": "c0853ea9",
   "metadata": {},
   "source": [
    "### Step 1: Install packages"
   ]
  },
  {
   "cell_type": "code",
   "execution_count": null,
   "id": "483359eb",
   "metadata": {
    "dotnet_interactive": {
     "language": "fsharp"
    }
   },
   "outputs": [],
   "source": [
    "#i \"nuget: file:///home/jovyan/.nuget/packages/\"\n",
    "#i \"nuget: https://api.nuget.org/v3/index.json\"\n",
    "#r \"nuget: Systemathics.Apis\"\n",
    "#r \"nuget: XPlot.Plotly.Interactive\"\n",
    "#r \"nuget: TaskBuilder.fs\""
   ]
  },
  {
   "cell_type": "code",
   "execution_count": null,
   "id": "26094eed",
   "metadata": {
    "dotnet_interactive": {
     "language": "fsharp"
    }
   },
   "outputs": [],
   "source": [
    "open Systemathics.Apis.Helpers\n",
    "open Systemathics.Apis.Type.Shared.V1\n",
    "open Systemathics.Apis.Services.Tick.V1\n",
    "open Google.Protobuf.WellKnownTypes\n",
    "open Google.Type\n",
    "open Grpc.Core\n",
    "open Grpc.Net.Client\n",
    "open XPlot.Plotly\n",
    "open XPlot.Plotly.Interactive"
   ]
  },
  {
   "cell_type": "markdown",
   "id": "a8908504",
   "metadata": {},
   "source": [
    "### Step 2: Prepare API requests\n",
    "The following code snippets retrieve authentication token and prepare the API request by: opening the *channel* and adding the *token* to the request header:"
   ]
  },
  {
   "cell_type": "code",
   "execution_count": null,
   "id": "7c016f2d",
   "metadata": {
    "dotnet_interactive": {
     "language": "fsharp"
    }
   },
   "outputs": [],
   "source": [
    "// Get token as metadata\n",
    "let headers = TokenHelpers.GetTokenAsMetaData();\n",
    "\n",
    "// Create communication channel\n",
    "let channel = ChannelHelpers.GetChannel();"
   ]
  },
  {
   "cell_type": "markdown",
   "id": "38dacf1e",
   "metadata": {},
   "source": [
    "### Step 3: Retrieve data\n",
    "To request *tick data* service, we need to specify:\n",
    "* Instrument identifier\n",
    "* Time period selection: select start and end dates\n",
    "* Tick data request parameters"
   ]
  },
  {
   "cell_type": "markdown",
   "id": "d6d420b7",
   "metadata": {},
   "source": [
    "#### 3.1 Instrument selection"
   ]
  },
  {
   "cell_type": "code",
   "execution_count": null,
   "id": "b1dbfe8e",
   "metadata": {
    "dotnet_interactive": {
     "language": "fsharp"
    }
   },
   "outputs": [],
   "source": [
    "let ticker = \"AAPL\"\n",
    "let exchange = \"BATS\""
   ]
  },
  {
   "cell_type": "markdown",
   "id": "0d5514ad",
   "metadata": {},
   "source": [
    "#### 3.2 Time period delimitation"
   ]
  },
  {
   "cell_type": "code",
   "execution_count": null,
   "id": "3fc37419",
   "metadata": {
    "dotnet_interactive": {
     "language": "fsharp"
    }
   },
   "outputs": [],
   "source": [
    "// Create time intervals\n",
    "let start = new DateTime(2021, 03, 05)\n",
    "let end' = new DateTime(2021, 03, 05)\n",
    "\n",
    "\n",
    "// Build the bars request date interval (we are using Google date time format : we have to cast the dates)\n",
    "let dateIntervals = \n",
    "  new DateInterval(\n",
    "    StartDate = new Date ( Year = start.Year, Month = start.Month, Day = start.Day ),\n",
    "    EndDate = new Date ( Year = end'.Year, Month = end'.Month, Day = end'.Day )\n",
    "  )\n",
    "\n",
    "// Build the bars request time interval (we are using Google date time format : we have to cast the dates)\n",
    "// UTC time zone\n",
    "let timeInterval = \n",
    "  new TimeInterval(\n",
    "    StartTime = new TimeOfDay ( Hours = 15, Minutes = 00, Seconds = 00 ),\n",
    "    EndTime = new TimeOfDay ( Hours = 16, Minutes = 00, Seconds = 00 ) \n",
    "  )"
   ]
  },
  {
   "cell_type": "markdown",
   "id": "f80bb681",
   "metadata": {},
   "source": [
    "#### 3.3 Request creation\n",
    "The following code snippets creates *gRPC client*, process request and returns the request reply:"
   ]
  },
  {
   "cell_type": "code",
   "execution_count": null,
   "id": "42a4c48d",
   "metadata": {
    "dotnet_interactive": {
     "language": "fsharp"
    }
   },
   "outputs": [],
   "source": [
    "// Generate constraints based on the previous time selection:\n",
    "let constraints = new Constraints() \n",
    "constraints.DateIntervals.Add(dateIntervals)\n",
    "constraints.TimeIntervals.Add(timeInterval)"
   ]
  },
  {
   "cell_type": "code",
   "execution_count": null,
   "id": "6adf0e0d",
   "metadata": {
    "dotnet_interactive": {
     "language": "fsharp"
    }
   },
   "outputs": [],
   "source": [
    "// Generate the tick book request\n",
    "let request = new TickBookRequest ( Constraints = constraints )\n",
    "let identifier = new Identifier ( Exchange = exchange, Ticker = ticker)\n",
    "request.Identifiers.Add [| identifier |]"
   ]
  },
  {
   "cell_type": "code",
   "execution_count": null,
   "id": "d3eeacf8",
   "metadata": {
    "dotnet_interactive": {
     "language": "fsharp"
    }
   },
   "outputs": [],
   "source": [
    "// Instantiate the tick book service\n",
    "let service = new TickBookService.TickBookServiceClient(channel)"
   ]
  },
  {
   "cell_type": "markdown",
   "id": "4cdc8c5f",
   "metadata": {},
   "source": [
    "### Step 4: Visualize data"
   ]
  },
  {
   "cell_type": "markdown",
   "id": "0ed00857",
   "metadata": {},
   "source": [
    "#### 4.1 Retrieve Mid data"
   ]
  },
  {
   "cell_type": "code",
   "execution_count": null,
   "id": "f87dff7a",
   "metadata": {
    "dotnet_interactive": {
     "language": "fsharp"
    }
   },
   "outputs": [],
   "source": [
    "open FSharp.Control.Tasks.V2\n",
    "open System.Collections.Generic\n",
    "\n",
    "let iterAsync (t: IAsyncEnumerable<'T>) (f : 'T -> unit) =\n",
    "    let task = \n",
    "        task {\n",
    "            let e = t.GetAsyncEnumerator()\n",
    "            let mutable go = true\n",
    "            try\n",
    "                let! step = e.MoveNextAsync()\n",
    "                go <- step\n",
    "                while go do \n",
    "                    f e.Current\n",
    "                    let! step = e.MoveNextAsync()\n",
    "                    go <- step\n",
    "            finally\n",
    "                e.DisposeAsync().AsTask().Wait()\n",
    "        }\n",
    "    task.Wait()\n",
    "\n",
    "// Get the limits\n",
    "let limits = new List<BookLimit>()\n",
    "let call = service.TickBook(request, headers)\n",
    "let e = call.ResponseStream.ReadAllAsync()\n",
    "\n",
    "let add (t : TickBookResponse ) =\n",
    "    if (t |> isNull |> not && t.Limit |> isNull |> not) then\n",
    "        limits.Add t.Limit\n",
    "\n",
    "iterAsync e add\n",
    "\n",
    "// Display top of the book\n",
    "//limits |> display"
   ]
  },
  {
   "cell_type": "markdown",
   "id": "d0c58fca",
   "metadata": {},
   "source": [
    "#### 4.2 Plot Mid"
   ]
  },
  {
   "cell_type": "markdown",
   "id": "96271e05",
   "metadata": {},
   "source": [
    "Display Mid over the look back period with the package of your choice.<br><i>`XPlot.Plotly`</i> is used as per open source display package.\n",
    "Plot a simple line graphs for *midprice* and *midsize* as follows: "
   ]
  },
  {
   "cell_type": "code",
   "execution_count": null,
   "id": "e1961b3a",
   "metadata": {
    "dotnet_interactive": {
     "language": "fsharp"
    }
   },
   "outputs": [],
   "source": [
    "new Scattergl(\n",
    "    name = \"Mid\",\n",
    "    mode = \"lines\",\n",
    "    x = (limits |> Seq.map (fun elt -> elt.TimeStamp.ToDateTime())),\n",
    "    y = (limits |> Seq.map (fun elt -> (elt.Ask.Price + elt.Bid.Price) / 2.))\n",
    ")\n",
    "|> Chart.Plot\n",
    "|> Chart.WithTitle $\"Mid for {ticker}\"\n",
    "|> Chart.WithXTitle \"Time\"\n",
    "|> Chart.WithYTitle \"Price\"\n",
    "|> Chart.WithWidth 1500\n",
    "|> Chart.WithHeight 800\n",
    "|> display"
   ]
  }
 ],
 "metadata": {
  "kernelspec": {
   "display_name": ".NET (F#)",
   "language": "F#",
   "name": ".net-fsharp"
  },
  "language_info": {
   "file_extension": ".fs",
   "mimetype": "text/x-fsharp",
   "name": "F#",
   "pygments_lexer": "fsharp",
   "version": "5.0"
  }
 },
 "nbformat": 4,
 "nbformat_minor": 5
}
