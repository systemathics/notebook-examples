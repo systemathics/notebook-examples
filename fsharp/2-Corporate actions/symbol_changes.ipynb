{
 "cells": [
  {
   "cell_type": "markdown",
   "id": "pursuant-latvia",
   "metadata": {},
   "source": [
    "# Symbol changes extraction using dedicated service - F#\n",
    "\n",
    "### Overview\n",
    "Name and ticker changes can be seen as a corporate actions event or a static data update. In this sample we are dealing with changes automated updates as a corporate actions event.\n",
    "\n",
    "A name change or a ticker change can be handled as a corporate actions event and occurs in various use-cases such as: \n",
    "* a company decide to change its name and the issued secuities from from an old name to a current name.\n",
    "* in mergers and acquisitions, old names are combined to a new one\n",
    "\n",
    "Symbol change should be spread all along the investment, risk and data management workflow. Here are few examples of immediate consequent symbol updates: \n",
    "* data collection robots\n",
    "* watchlists and analytics dahsboards\n",
    "* strategy building and simulation bots\n",
    "* indices components if the symbol belongs to one or more indices\n",
    "* risk models\n",
    "\n",
    "### Inputs/outputs\n",
    "Changes sample is designed to help you searching and requesting symbol changes for a given instrument.\n",
    "* It takes instrument specification parameter(s) as per input filter and returns *Changes*.\n",
    "\n",
    "### Services used\n",
    "This sample uses *gRPC requests* in order to retrieve the corporate actions changesfrom the hosted service. The queried endpoint in this script are:\n",
    "* *ChangesService*: to directly retrieve changes data objects from the server\n",
    "\n",
    "### Packages required\n",
    "1. Systemathics packages:\n",
    "    * *Systemathics.Apis.Type.Shared.V1*\n",
    "    * *Systemathics.Apis.Services.CorporateActions.V1*\n",
    "2. Open source packages\n",
    "    * *Google.Protobuf.WellKnownTypes*\n",
    "    * *Google.Type*\n",
    "    * *Grpc.Net.Client*\n",
    "    * *Grpc.Core*\n",
    "\n",
    "***"
   ]
  },
  {
   "cell_type": "markdown",
   "id": "clear-cricket",
   "metadata": {},
   "source": [
    "# Run symbol changes sample"
   ]
  },
  {
   "cell_type": "markdown",
   "id": "everyday-smooth",
   "metadata": {},
   "source": [
    "### Step 1: Install packages"
   ]
  },
  {
   "cell_type": "code",
   "execution_count": null,
   "id": "orange-gather",
   "metadata": {
    "dotnet_interactive": {
     "language": "fsharp"
    },
    "vscode": {
     "languageId": "polyglot-notebook"
    }
   },
   "outputs": [],
   "source": [
    "#i \"nuget: file:///home/jovyan/.nuget/packages/\"\n",
    "#i \"nuget: https://api.nuget.org/v3/index.json\"\n",
    "#r \"nuget: Systemathics.Apis, 2.32.*\""
   ]
  },
  {
   "cell_type": "code",
   "execution_count": null,
   "id": "spectacular-garden",
   "metadata": {
    "dotnet_interactive": {
     "language": "fsharp"
    },
    "vscode": {
     "languageId": "polyglot-notebook"
    }
   },
   "outputs": [],
   "source": [
    "open Systemathics.Apis.Helpers\n",
    "open Systemathics.Apis.Type.Shared.V1\n",
    "open Systemathics.Apis.Services.CorporateActions.V1\n",
    "open Google.Protobuf.WellKnownTypes\n",
    "open Google.Type\n",
    "open Grpc.Net.Client\n",
    "open Grpc.Core"
   ]
  },
  {
   "cell_type": "markdown",
   "id": "engaging-circuit",
   "metadata": {},
   "source": [
    "### Step 2: Prepare API requests\n",
    "The following code snippets retrieve authentication token and prepare the API request by: opening the *channel* and adding the *token* to the request header:"
   ]
  },
  {
   "cell_type": "code",
   "execution_count": null,
   "id": "social-wrist",
   "metadata": {
    "dotnet_interactive": {
     "language": "fsharp"
    },
    "vscode": {
     "languageId": "polyglot-notebook"
    }
   },
   "outputs": [],
   "source": [
    "// Get token as metadata\n",
    "let headers = TokenHelpers.GetTokenAsMetaData();\n",
    "\n",
    "// Create communication channel\n",
    "let channel = ChannelHelpers.GetChannel();"
   ]
  },
  {
   "cell_type": "markdown",
   "id": "informative-microphone",
   "metadata": {},
   "source": [
    "### Step 3: Retrieve changes"
   ]
  },
  {
   "cell_type": "markdown",
   "id": "resistant-blood",
   "metadata": {},
   "source": [
    "#### 3.1 Equity selection"
   ]
  },
  {
   "cell_type": "code",
   "execution_count": null,
   "id": "tough-making",
   "metadata": {
    "dotnet_interactive": {
     "language": "fsharp"
    },
    "vscode": {
     "languageId": "polyglot-notebook"
    }
   },
   "outputs": [],
   "source": [
    "// Set the instrument identifier \n",
    "let ticker = \"ISCB\"\n",
    "let exchange = \"XNYS\""
   ]
  },
  {
   "cell_type": "markdown",
   "id": "according-notice",
   "metadata": {},
   "source": [
    "#### 3.2 Create and process request"
   ]
  },
  {
   "cell_type": "code",
   "execution_count": null,
   "id": "secure-contract",
   "metadata": {
    "dotnet_interactive": {
     "language": "fsharp"
    },
    "vscode": {
     "languageId": "polyglot-notebook"
    }
   },
   "outputs": [],
   "source": [
    "// instantiate the changes service\n",
    "let service = new ChangesService.ChangesServiceClient(channel)\n",
    "\n",
    "// Generate the changes request\n",
    "let request = \n",
    "    new ChangesRequest(\n",
    "        Identifier = new Identifier(Exchange = exchange, Ticker = ticker)\n",
    "    )\n",
    "\n",
    "// Get the changes reply\n",
    "let reply = service.Changes(request, headers)"
   ]
  },
  {
   "cell_type": "markdown",
   "id": "perceived-apache",
   "metadata": {},
   "source": [
    "#### 3.3 Retrieve changes"
   ]
  },
  {
   "cell_type": "code",
   "execution_count": null,
   "id": "civilian-charles",
   "metadata": {
    "dotnet_interactive": {
     "language": "html"
    },
    "vscode": {
     "languageId": "dotnet-interactive.html"
    }
   },
   "outputs": [],
   "source": [
    "// Visualize changes results\n",
    "reply.Data\n",
    "|> display"
   ]
  }
 ],
 "metadata": {
  "kernelspec": {
   "display_name": ".NET (F#)",
   "language": "F#",
   "name": ".net-fsharp"
  },
  "language_info": {
   "file_extension": ".fs",
   "mimetype": "text/x-fsharp",
   "name": "F#",
   "pygments_lexer": "fsharp",
   "version": "5.0"
  }
 },
 "nbformat": 4,
 "nbformat_minor": 5
}
