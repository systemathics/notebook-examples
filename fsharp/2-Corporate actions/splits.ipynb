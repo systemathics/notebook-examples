{
 "cells": [
  {
   "cell_type": "markdown",
   "id": "b18b90bb",
   "metadata": {},
   "source": [
    "# Splits extraction using dedicated service - F#\n",
    "\n",
    "### Overview\n",
    "This sample requests **on-demand** splits by calling a dedicated data service.\n",
    "\n",
    "### Inputs/outputs\n",
    "Splits sample is designed to help you searching and requesting dividends for a given instrument.\n",
    "* It takes instrument specification parameter(s) as per input filter and returns *Dividends*\n",
    "\n",
    "### Services used\n",
    "This sample uses *gRPC requests* in order to retrieve splits data from the hosted service. The queried endpoint in this script are:\n",
    "* *SplitsService*: to directly retrieve splits data objects from the server\n",
    "\n",
    "### Packages required\n",
    "1. Systemathics packages:\n",
    "    * *Systemathics.Apis.Type.Shared.V1*\n",
    "    * *Systemathics.Apis.Services.CorporateActions.V1*\n",
    "2. Open source packages\n",
    "    * *Google.Protobuf.WellKnownTypes*\n",
    "    * *Google.Type*\n",
    "    * *Grpc.Net.Client*\n",
    "    * *Grpc.Core*\n",
    "\n",
    "***"
   ]
  },
  {
   "cell_type": "markdown",
   "id": "5e99fa70",
   "metadata": {},
   "source": [
    "# Run splits sample"
   ]
  },
  {
   "cell_type": "markdown",
   "id": "efcf1172",
   "metadata": {},
   "source": [
    "### Step 1: Install packages"
   ]
  },
  {
   "cell_type": "code",
   "execution_count": null,
   "id": "b2e91c9e",
   "metadata": {
    "dotnet_interactive": {
     "language": "fsharp"
    }
   },
   "outputs": [],
   "source": [
    "#i \"nuget: file:///home/jovyan/.nuget/packages/\"\n",
    "#i \"nuget: https://api.nuget.org/v3/index.json\"\n",
    "#r \"nuget: Systemathics.Apis\""
   ]
  },
  {
   "cell_type": "code",
   "execution_count": null,
   "id": "e4e21b8b",
   "metadata": {
    "dotnet_interactive": {
     "language": "fsharp"
    }
   },
   "outputs": [],
   "source": [
    "open Systemathics.Apis.Helpers\n",
    "open Systemathics.Apis.Type.Shared.V1\n",
    "open Systemathics.Apis.Services.CorporateActions.V1\n",
    "open Google.Protobuf.WellKnownTypes\n",
    "open Google.Type\n",
    "open Grpc.Net.Client\n",
    "open Grpc.Core"
   ]
  },
  {
   "cell_type": "markdown",
   "id": "a7a21e67",
   "metadata": {},
   "source": [
    "### Step 2: Prepare API requests\n",
    "The following code snippets retrieve authentication token and prepare the API request by: opening the *channel* and adding the *token* to the request header:"
   ]
  },
  {
   "cell_type": "code",
   "execution_count": null,
   "id": "31e1e199",
   "metadata": {
    "dotnet_interactive": {
     "language": "fsharp"
    }
   },
   "outputs": [],
   "source": [
    "// Get token as metadata\n",
    "let headers = TokenHelpers.GetTokenAsMetaData();\n",
    "\n",
    "// Create communication channel\n",
    "let channel = ChannelHelpers.GetChannel();"
   ]
  },
  {
   "cell_type": "markdown",
   "id": "3428b937",
   "metadata": {},
   "source": [
    "### Step 3: Retrieve splits"
   ]
  },
  {
   "cell_type": "markdown",
   "id": "c9d9c65e",
   "metadata": {},
   "source": [
    "#### 3.1 Equity selection"
   ]
  },
  {
   "cell_type": "code",
   "execution_count": null,
   "id": "ddc3ed37",
   "metadata": {
    "dotnet_interactive": {
     "language": "fsharp"
    }
   },
   "outputs": [],
   "source": [
    "// Set the instrument identifier \n",
    "let ticker = \"AAPL\"\n",
    "let exchange = \"XNGS\""
   ]
  },
  {
   "cell_type": "markdown",
   "id": "fe95fb87",
   "metadata": {},
   "source": [
    "#### 3.2 Create and process request"
   ]
  },
  {
   "cell_type": "code",
   "execution_count": null,
   "id": "8cb4f9ba",
   "metadata": {
    "dotnet_interactive": {
     "language": "fsharp"
    }
   },
   "outputs": [],
   "source": [
    "// instantiate the splits service\n",
    "let service = new SplitsService.SplitsServiceClient(channel)\n",
    "\n",
    "// Generate the splits request\n",
    "let request = \n",
    "    new SplitsRequest (\n",
    "        Identifier = new Identifier ( Exchange = exchange, Ticker = ticker )\n",
    "    )\n",
    "\n",
    "// Get the splits reply\n",
    "let reply = service.Splits(request, headers)"
   ]
  },
  {
   "cell_type": "markdown",
   "id": "d913f11a",
   "metadata": {},
   "source": [
    "#### 3.3 Retrieve splits"
   ]
  },
  {
   "cell_type": "code",
   "execution_count": null,
   "id": "21ff97fe",
   "metadata": {
    "dotnet_interactive": {
     "language": "fsharp"
    }
   },
   "outputs": [],
   "source": [
    "// Visualize splits results\n",
    "reply.Data\n",
    "|> display"
   ]
  },
  {
   "cell_type": "markdown",
   "id": "4835f4fe",
   "metadata": {},
   "source": [
    "#### 3.4 Add dates constraints"
   ]
  },
  {
   "cell_type": "code",
   "execution_count": null,
   "id": "2e438cca",
   "metadata": {
    "dotnet_interactive": {
     "language": "fsharp"
    }
   },
   "outputs": [],
   "source": [
    "// Set data interval (we are using Google date time format)\n",
    "let dateIntervals = \n",
    "  new DateInterval(\n",
    "    StartDate = new Date(Year = 2020, Month = 01, Day = 01),\n",
    "    EndDate = new Date(Year = 2021, Month = 03, Day = 31)\n",
    "  )\n",
    "\n",
    "// Generate constraints based on the previous date selection\n",
    "// Time constraints are not neeeded for the splits\n",
    "let constraints = new Constraints(); \n",
    "constraints.DateIntervals.Add(dateIntervals);"
   ]
  },
  {
   "cell_type": "code",
   "execution_count": null,
   "id": "8e552f26",
   "metadata": {
    "dotnet_interactive": {
     "language": "fsharp"
    }
   },
   "outputs": [],
   "source": [
    "// Generate the splits request with dates constraints\n",
    "let request = \n",
    "    new SplitsRequest( \n",
    "        Identifier = new Identifier( Exchange = exchange, Ticker = ticker),\n",
    "        Constraints = constraints\n",
    "    )\n",
    "\n",
    "// Get the splits reply with dates constraints\n",
    "let reply = service.Splits(request, headers)"
   ]
  },
  {
   "cell_type": "markdown",
   "id": "10b436bf",
   "metadata": {},
   "source": [
    "#### 3.5 Retrieve splits"
   ]
  },
  {
   "cell_type": "code",
   "execution_count": null,
   "id": "4ea6c14f",
   "metadata": {
    "dotnet_interactive": {
     "language": "fsharp"
    }
   },
   "outputs": [],
   "source": [
    "// Visualize splits results\n",
    "reply.Data\n",
    "|> display"
   ]
  }
 ],
 "metadata": {
  "kernelspec": {
   "display_name": ".NET (F#)",
   "language": "F#",
   "name": ".net-fsharp"
  },
  "language_info": {
   "file_extension": ".fs",
   "mimetype": "text/x-fsharp",
   "name": "F#",
   "pygments_lexer": "fsharp",
   "version": "5.0"
  }
 },
 "nbformat": 4,
 "nbformat_minor": 5
}
