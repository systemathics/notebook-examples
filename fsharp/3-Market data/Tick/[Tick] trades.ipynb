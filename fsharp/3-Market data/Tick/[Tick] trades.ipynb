{
 "cells": [
  {
   "cell_type": "markdown",
   "metadata": {},
   "source": [
    "# Generate trades using dedicated service - F#\n",
    "\n",
    "### Overview\n",
    "Retrieving trades over a look back period is a valuable indicator to highlight market activity. It can be correlated with a set of technical indicators to better analyze market movements and build a decision making parameter.\n",
    "\n",
    "This sample is designed to request trades and illustrate market activity over a look back period.\n",
    "\n",
    "This sample demonstrates how to request and plot from a dedicated data service **on-demand** trades over the time.\n",
    "\n",
    "### Inputs/outputs\n",
    "Trades extraction sample requires instrument's identifier, date time intervals as per inputs and returns the occured trades information.\n",
    "\n",
    "### Services used\n",
    "This sample uses *gRPC requests* in order to retrieve trades information from the hosted service. The queried endpoint in this script are:\n",
    "* *TickTradesService*: to directly retrieve trades data from the server.\n",
    "\n",
    "### Packages required\n",
    "1. Systemathics:\n",
    "    * *Systemathics.Apis.Type.Shared.V1*\n",
    "    * *Systemathics.Apis.Services.Tick.V1*\n",
    "2. Open source:\n",
    "    * *Google.Protobuf.WellKnownTypes*\n",
    "    * *Google.Type*\n",
    "    * *Grpc.Net.Client*\n",
    "    * *Grpc.Core*\n",
    "    * *XPlot.Plotly* as per display package\n",
    "    \n",
    "***"
   ]
  },
  {
   "cell_type": "markdown",
   "metadata": {},
   "source": [
    "# Run Trades sample"
   ]
  },
  {
   "cell_type": "markdown",
   "metadata": {},
   "source": [
    "### Step 1: Install packages"
   ]
  },
  {
   "cell_type": "code",
   "execution_count": null,
   "metadata": {
    "dotnet_interactive": {
     "language": "fsharp"
    }
   },
   "outputs": [],
   "source": [
    "#i \"nuget: file:///home/jovyan/.nuget/packages/\"\n",
    "#i \"nuget: https://api.nuget.org/v3/index.json\"\n",
    "#r \"nuget: Systemathics.Apis\"\n",
    "#r \"nuget: XPlot.Plotly.Interactive\"\n",
    "#r \"nuget: TaskBuilder.fs\""
   ]
  },
  {
   "cell_type": "code",
   "execution_count": null,
   "metadata": {
    "dotnet_interactive": {
     "language": "fsharp"
    }
   },
   "outputs": [],
   "source": [
    "open Systemathics.Apis.Helpers\n",
    "open Systemathics.Apis.Type.Shared.V1\n",
    "open Systemathics.Apis.Services.Tick.V1\n",
    "open Google.Protobuf.WellKnownTypes\n",
    "open Google.Type\n",
    "open Grpc.Net.Client\n",
    "open Grpc.Core\n",
    "open XPlot.Plotly\n",
    "open XPlot.Plotly.Interactive"
   ]
  },
  {
   "cell_type": "markdown",
   "metadata": {},
   "source": [
    "### Step 2: Prepare API requests\n",
    "The following code snippets retrieve authentication token and prepare the API request by: opening the *channel* and adding the *token* to the request header:"
   ]
  },
  {
   "cell_type": "code",
   "execution_count": null,
   "metadata": {
    "dotnet_interactive": {
     "language": "fsharp"
    }
   },
   "outputs": [],
   "source": [
    "// Get token as metadata\n",
    "let headers = TokenHelpers.GetTokenAsMetaData();\n",
    "\n",
    "// Create communication channel\n",
    "let channel = ChannelHelpers.GetChannel();"
   ]
  },
  {
   "cell_type": "markdown",
   "metadata": {},
   "source": [
    "### Step 3: Create and process request\n",
    "To request *tick trades* service, we need to specify:\n",
    "* Instrument identifier\n",
    "* Time period selection: select start and end dates\n",
    "* Tick trades request parameters"
   ]
  },
  {
   "cell_type": "markdown",
   "metadata": {},
   "source": [
    "#### 3.1 Instrument selection"
   ]
  },
  {
   "cell_type": "code",
   "execution_count": null,
   "metadata": {
    "dotnet_interactive": {
     "language": "fsharp"
    }
   },
   "outputs": [],
   "source": [
    "let ticker = \"AAPL\"\n",
    "let exchange = \"BATS\""
   ]
  },
  {
   "cell_type": "markdown",
   "metadata": {},
   "source": [
    "#### 3.2 Time period delimitation"
   ]
  },
  {
   "cell_type": "code",
   "execution_count": null,
   "metadata": {
    "dotnet_interactive": {
     "language": "fsharp"
    }
   },
   "outputs": [],
   "source": [
    "// Create time intervals\n",
    "let start = new DateTime(2021, 03, 05)\n",
    "let end' = new DateTime(2021, 03, 05)\n",
    "let dateIntervals = \n",
    "  new DateInterval(\n",
    "    StartDate = new Date ( Year = start.Year, Month = start.Month, Day = start.Day ),\n",
    "    EndDate = new Date ( Year = end'.Year, Month = end'.Month, Day = end'.Day )\n",
    "  )\n",
    "\n",
    "// Build the tick trades request time interval (we are using Google date time format)\n",
    "// UTC time zone\n",
    "let timeInterval = \n",
    "  new TimeInterval(\n",
    "    StartTime = new TimeOfDay ( Hours = 12, Minutes = 00, Seconds = 00 ),\n",
    "    EndTime = new TimeOfDay ( Hours = 20, Minutes = 30, Seconds = 00 ) \n",
    "  )"
   ]
  },
  {
   "cell_type": "markdown",
   "metadata": {},
   "source": [
    "#### 3.3 Request creation\n",
    "The following code snippet creates *gRPC client*, process request and returns the request reply:"
   ]
  },
  {
   "cell_type": "code",
   "execution_count": null,
   "metadata": {
    "dotnet_interactive": {
     "language": "fsharp"
    }
   },
   "outputs": [],
   "source": [
    "// Generate constraints based on the previous time selection\n",
    "let constraints = new Constraints() \n",
    "constraints.DateIntervals.Add(dateIntervals)\n",
    "constraints.TimeIntervals.Add(timeInterval)"
   ]
  },
  {
   "cell_type": "markdown",
   "metadata": {},
   "source": [
    "The following code snippets create requests for *trades* and instantiate the service:"
   ]
  },
  {
   "cell_type": "code",
   "execution_count": null,
   "metadata": {
    "dotnet_interactive": {
     "language": "fsharp"
    }
   },
   "outputs": [],
   "source": [
    "// Generate the tick trades request\n",
    "let request = new TickTradesRequest ( Constraints = constraints )\n",
    "let identifier = new Identifier ( Exchange = exchange, Ticker = ticker )\n",
    "request.Identifiers.Add( [| identifier |]) "
   ]
  },
  {
   "cell_type": "code",
   "execution_count": null,
   "metadata": {
    "dotnet_interactive": {
     "language": "fsharp"
    }
   },
   "outputs": [],
   "source": [
    "// Instantiate the tick trades service\n",
    "let service = new TickTradesService.TickTradesServiceClient(channel)"
   ]
  },
  {
   "cell_type": "markdown",
   "metadata": {},
   "source": [
    "### Step 4: Visualize data"
   ]
  },
  {
   "cell_type": "markdown",
   "metadata": {},
   "source": [
    "#### 4.1 Retrieve trades data"
   ]
  },
  {
   "cell_type": "markdown",
   "metadata": {},
   "source": [
    "The following code snippets retrieves trades data points:"
   ]
  },
  {
   "cell_type": "code",
   "execution_count": null,
   "metadata": {
    "dotnet_interactive": {
     "language": "fsharp"
    }
   },
   "outputs": [],
   "source": [
    "// Get the trades\n",
    "open FSharp.Control.Tasks.V1\n",
    "open System.Collections.Generic\n",
    "\n",
    "let trades = List<Trade>()\n",
    "\n",
    "let isNotNull obj =\n",
    "    obj |> isNull |> not\n",
    "\n",
    "let iterAsync (t: IAsyncEnumerable<'T>) (f : 'T -> unit) =\n",
    "    let task = \n",
    "        task {\n",
    "            let e = t.GetAsyncEnumerator()\n",
    "            let mutable go = true\n",
    "            try\n",
    "                let! step = e.MoveNextAsync()\n",
    "                go <- step\n",
    "                while go do \n",
    "                    f e.Current\n",
    "                    let! step = e.MoveNextAsync()\n",
    "                    go <- step\n",
    "            finally\n",
    "                e.DisposeAsync().AsTask().Wait()\n",
    "        }\n",
    "    task.Wait()\n",
    "\n",
    "let add (ttr : TickTradesResponse) =\n",
    "    if(ttr |> isNotNull && ttr.Trade |> isNotNull) then\n",
    "        trades.Add ttr.Trade\n",
    "\n",
    "let call = service.TickTrades(request, headers)\n",
    "let e = call.ResponseStream.ReadAllAsync()\n",
    "\n",
    "iterAsync e add"
   ]
  },
  {
   "cell_type": "markdown",
   "metadata": {},
   "source": [
    "The following code snippet displays request results:"
   ]
  },
  {
   "cell_type": "code",
   "execution_count": null,
   "metadata": {
    "dotnet_interactive": {
     "language": "fsharp"
    }
   },
   "outputs": [],
   "source": [
    "trades\n",
    "|> Seq.length\n",
    "|> display"
   ]
  },
  {
   "cell_type": "markdown",
   "metadata": {},
   "source": [
    "#### 4.2 Plot the trade price\n",
    "Display trades data over the look back period with the package of your choice.<br><i>`XPlot.Plotly`</i> is used as per open source display package.\n",
    "Plot a simple line graph with the trade prices and volumes as follows: "
   ]
  },
  {
   "cell_type": "code",
   "execution_count": null,
   "metadata": {
    "dotnet_interactive": {
     "language": "fsharp"
    }
   },
   "outputs": [],
   "source": [
    "let tradesGraph = \n",
    "    [\n",
    "        new Scattergl(\n",
    "            name = \"Price\",\n",
    "            mode = \"lines\",\n",
    "            x = (trades |> Seq.map (fun elt -> elt.TimeStamp.ToDateTime())),\n",
    "            y = (trades |> Seq.map (fun elt -> elt.Price))\n",
    "        )\n",
    "        new Scattergl(\n",
    "            name = \"Size\",\n",
    "            mode = \"lines\",\n",
    "            x = (trades |> Seq.map (fun elt -> elt.TimeStamp.ToDateTime())),\n",
    "            y = (trades |> Seq.map (fun elt -> elt.Size)),\n",
    "            yaxis = \"y2\"\n",
    "        )\n",
    "    ]\n",
    "\n",
    "let layout = \n",
    "    new Layout.Layout( \n",
    "        title = $\"Trades for {ticker}\",\n",
    "        xaxis = new Xaxis(title = \"Time\"),\n",
    "        yaxis = new Yaxis (\n",
    "            title = \"Price\", \n",
    "            autorange = true,\n",
    "            side = \"left\"\n",
    "        ),\n",
    "        yaxis2 = new Yaxis (\n",
    "            title = \"Size\", \n",
    "            autorange = true,\n",
    "            side = \"right\"  \n",
    "        )\n",
    "    )\n",
    "\n",
    "Chart.Plot(tradesGraph, layout)\n",
    "|> Chart.WithWidth 1500\n",
    "|> Chart.WithHeight 800\n",
    "|> display"
   ]
  }
 ],
 "metadata": {
  "kernelspec": {
   "display_name": ".NET (F#)",
   "language": "F#",
   "name": ".net-fsharp"
  },
  "language_info": {
   "file_extension": ".fs",
   "mimetype": "text/x-fsharp",
   "name": "F#",
   "pygments_lexer": "fsharp",
   "version": "5.0"
  }
 },
 "nbformat": 4,
 "nbformat_minor": 4
}
