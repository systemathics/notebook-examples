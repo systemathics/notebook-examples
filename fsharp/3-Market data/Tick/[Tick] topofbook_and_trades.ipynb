{
 "cells": [
  {
   "cell_type": "markdown",
   "metadata": {},
   "source": [
    "# Generate top of the book & trades using dedicated service - F#\n",
    "\n",
    "### Overview\n",
    "Retrieving trades and top of the book data points over a look back period is a valuable indicator to highlight market activity. It can be correlated with a set of technical indicators to better analyze market movements and build a decision making parameter.\n",
    "\n",
    "This sample is designed to request simultaneously trades and top of the book and illustrate market activity over a look back period.\n",
    "\n",
    "This sample demonstrates how to request and plot from a dedicated data service **on-demand** trades and best bid/ask over the time.\n",
    "\n",
    "### Inputs/outputs\n",
    "Trades and best Bid/Ask extraction sample requires instrument's identifier, date time intervals as per inputs and returns top fo the book the occured trades data points.\n",
    "\n",
    "### Services used\n",
    "This sample uses *gRPC requests* in order to retrieve trades and top of the book from the hosted service. The queried endpoint in this script are:\n",
    "* *TickTradesAndBookService*: to directly retrieve trades and top of the book tick data from the server.\n",
    "\n",
    "### Packages required\n",
    "1. Systemathics packages:\n",
    "    * *Systemathics.Apis.Type.Shared.V1*\n",
    "    * *Systemathics.Apis.Services.Tick.V1*\n",
    "2. Open source packages\n",
    "    * *Google.Protobuf.WellKnownTypes*\n",
    "    * *Google.Type*\n",
    "    * *Grpc.Net.Client*\n",
    "    * *Grpc.Core*\n",
    "    * *XPlot.Plotly* as per display package\n",
    "    \n",
    "***"
   ]
  },
  {
   "cell_type": "markdown",
   "metadata": {},
   "source": [
    "# Run Top of the book & Trades sample"
   ]
  },
  {
   "cell_type": "markdown",
   "metadata": {},
   "source": [
    "### Step 1: Install packages"
   ]
  },
  {
   "cell_type": "code",
   "execution_count": null,
   "metadata": {
    "dotnet_interactive": {
     "language": "fsharp"
    }
   },
   "outputs": [],
   "source": [
    "#i \"nuget: file:///home/jovyan/.nuget/packages/\"\n",
    "#i \"nuget: https://api.nuget.org/v3/index.json\"\n",
    "#r \"nuget: Systemathics.Apis, 0.9.*-pre*\"\n",
    "#r \"nuget: XPlot.Plotly.Interactive\"\n",
    "#r \"nuget: TaskBuilder.fs\""
   ]
  },
  {
   "cell_type": "code",
   "execution_count": null,
   "metadata": {
    "dotnet_interactive": {
     "language": "fsharp"
    }
   },
   "outputs": [],
   "source": [
    "open Systemathics.Apis.Helpers\n",
    "open Systemathics.Apis.Type.Shared.V1\n",
    "open Systemathics.Apis.Services.Tick.V1\n",
    "open Google.Protobuf.WellKnownTypes\n",
    "open Google.Type\n",
    "open Grpc.Net.Client\n",
    "open Grpc.Core\n",
    "open XPlot.Plotly\n",
    "open XPlot.Plotly.Interactive"
   ]
  },
  {
   "cell_type": "markdown",
   "metadata": {},
   "source": [
    "### Step 2: Prepare API requests\n",
    "The following code snippets retrieve authentication token and prepare the API request by: opening the *channel* and adding the *token* to the request header:"
   ]
  },
  {
   "cell_type": "code",
   "execution_count": null,
   "metadata": {
    "dotnet_interactive": {
     "language": "fsharp"
    }
   },
   "outputs": [],
   "source": [
    "// Get token as metadata\n",
    "let headers = TokenHelpers.GetTokenAsMetaData();\n",
    "\n",
    "// Create communication channel\n",
    "let channel = ChannelHelpers.GetChannel();"
   ]
  },
  {
   "cell_type": "markdown",
   "metadata": {},
   "source": [
    "### Step 3: Create and process request\n",
    "To request *tick trades and book* service, we need to specify:\n",
    "* Instrument identifier\n",
    "* Time period selection: select start and end dates\n",
    "* Tick data request parameters"
   ]
  },
  {
   "cell_type": "markdown",
   "metadata": {},
   "source": [
    "#### 3.1 Instrument selection"
   ]
  },
  {
   "cell_type": "code",
   "execution_count": null,
   "metadata": {
    "dotnet_interactive": {
     "language": "fsharp"
    }
   },
   "outputs": [],
   "source": [
    "let ticker = \"AAPL\"\n",
    "let exchange = \"BATS\""
   ]
  },
  {
   "cell_type": "markdown",
   "metadata": {},
   "source": [
    "#### 3.2 Time period delimitation"
   ]
  },
  {
   "cell_type": "code",
   "execution_count": null,
   "metadata": {
    "dotnet_interactive": {
     "language": "fsharp"
    }
   },
   "outputs": [],
   "source": [
    "// Create time intervals\n",
    "let start = new DateTime(2021, 03, 05)\n",
    "let end' = new DateTime(2021, 03, 05)\n",
    "let dateIntervals = \n",
    "  new DateInterval(\n",
    "    StartDate = new Date ( Year = start.Year, Month = start.Month, Day = start.Day ),\n",
    "    EndDate = new Date ( Year = end'.Year, Month = end'.Month, Day = end'.Day )\n",
    "  )\n",
    "\n",
    "// Build the market data request time interval (we are using Google date time format : we have to cast the dates)\n",
    "// UTC time zone\n",
    "let timeInterval = \n",
    "  new TimeInterval(\n",
    "     StartTime = new TimeOfDay ( Hours = 14, Minutes = 00, Seconds = 00 ),\n",
    "     EndTime = new TimeOfDay ( Hours = 14, Minutes = 30, Seconds = 00 )\n",
    "  )"
   ]
  },
  {
   "cell_type": "markdown",
   "metadata": {},
   "source": [
    "#### 3.3 Request creation\n",
    "The following code snippet creates *gRPC client*, process request and returns the request reply:"
   ]
  },
  {
   "cell_type": "code",
   "execution_count": null,
   "metadata": {
    "dotnet_interactive": {
     "language": "fsharp"
    }
   },
   "outputs": [],
   "source": [
    "// Generate constraints based on the previous time selection:\n",
    "let constraints = new Constraints() \n",
    "constraints.DateIntervals.Add(dateIntervals)\n",
    "constraints.TimeIntervals.Add(timeInterval)"
   ]
  },
  {
   "cell_type": "markdown",
   "metadata": {},
   "source": [
    "The following code snippets create requests for *trades* and *top of the book* data and instantiates the service:"
   ]
  },
  {
   "cell_type": "code",
   "execution_count": null,
   "metadata": {
    "dotnet_interactive": {
     "language": "fsharp"
    }
   },
   "outputs": [],
   "source": [
    "// Generate the tick trades and book request\n",
    "let request = new TickTradesAndBookRequest( Constraints = constraints )\n",
    "let identifier = new Identifier ( Exchange = exchange, Ticker = ticker )\n",
    "request.Identifiers.Add( [| identifier |]) "
   ]
  },
  {
   "cell_type": "code",
   "execution_count": null,
   "metadata": {
    "dotnet_interactive": {
     "language": "fsharp"
    }
   },
   "outputs": [],
   "source": [
    "// Instantiate the tick trades and book service\n",
    "let service = new TickTradesAndBookService.TickTradesAndBookServiceClient(channel)"
   ]
  },
  {
   "cell_type": "markdown",
   "metadata": {},
   "source": [
    "### Step 4: Visualize data"
   ]
  },
  {
   "cell_type": "markdown",
   "metadata": {},
   "source": [
    "#### 4.1 Retrieve top of the book & trades"
   ]
  },
  {
   "cell_type": "code",
   "execution_count": null,
   "metadata": {
    "dotnet_interactive": {
     "language": "fsharp"
    }
   },
   "outputs": [],
   "source": [
    "// Get the trades and the book limits\n",
    "open FSharp.Control.Tasks.V1\n",
    "open System.Collections.Generic\n",
    "\n",
    "let trades = List<Trade>()\n",
    "let book = List<BookLimit>()\n",
    "\n",
    "let isNotNull obj =\n",
    "    obj |> isNull |> not\n",
    "\n",
    "let iterAsync (t: IAsyncEnumerable<'T>) (f : 'T -> unit) =\n",
    "    let task = \n",
    "        task {\n",
    "            let e = t.GetAsyncEnumerator()\n",
    "            let mutable go = true\n",
    "            try\n",
    "                let! step = e.MoveNextAsync()\n",
    "                go <- step\n",
    "                while go do \n",
    "                    f e.Current\n",
    "                    let! step = e.MoveNextAsync()\n",
    "                    go <- step\n",
    "            finally\n",
    "                e.DisposeAsync().AsTask().Wait()\n",
    "        }\n",
    "    task.Wait()\n",
    "\n",
    "let split (ttb: TickTradesAndBookResponse) =\n",
    "    if(ttb |> isNotNull && ttb.Data |> isNotNull) then\n",
    "        if (ttb.Data.Book |> isNotNull) then\n",
    "            book.Add ttb.Data.Book\n",
    "        else if (ttb.Data.Trade |> isNotNull) then\n",
    "            trades.Add ttb.Data.Trade\n",
    "\n",
    "let call = service.TickTradesAndBook(request, headers)\n",
    "let enumerator = call.ResponseStream.ReadAllAsync()\n",
    "\n",
    "iterAsync enumerator split\n",
    "\n",
    "// Display data\n",
    "trades\n",
    "|> display\n",
    "book\n",
    "|> display"
   ]
  },
  {
   "cell_type": "markdown",
   "metadata": {},
   "source": [
    "#### 4.2 Plot top of the book & trade prices\n",
    "Display *best bid*, *best ask* and *trade prices* over the look back period with the package of your choice.<br>*`XPlot.Plotly`* is used as per open source display package.\n",
    "Plot a simple line graph with the prices as follows: "
   ]
  },
  {
   "cell_type": "code",
   "execution_count": null,
   "metadata": {
    "dotnet_interactive": {
     "language": "fsharp"
    }
   },
   "outputs": [],
   "source": [
    "// Plot simultaneously Bid, Ask and trade prices\n",
    "let layout = \n",
    "    new Layout.Layout(\n",
    "        title = $\"Best Bid/Ask prices and size for {ticker}\",\n",
    "        xaxis = new Xaxis(title = \"Time\"),\n",
    "        yaxis = new Yaxis(\n",
    "            title = \"Price\", \n",
    "            range = [ 118; 122],\n",
    "            side = \"left\"\n",
    "        ),\n",
    "        yaxis2 = new Yaxis (\n",
    "            title = \"Volume\",\n",
    "            range =  [0 ; 12000],\n",
    "            side = \"right\"\n",
    "        )\n",
    "    )\n",
    "\n",
    "let data = \n",
    "    [\n",
    "        new Scattergl(\n",
    "            name = \"AskPrice\",\n",
    "            mode = \"lines\",\n",
    "            x = (book |> Seq.map (fun elt -> elt.TimeStamp.ToDateTime())),\n",
    "            y = (book |> Seq.map (fun elt -> elt.Ask.Price))\n",
    "        )\n",
    "        new Scattergl(\n",
    "            name = \"BidPrice\",\n",
    "            mode = \"lines\",\n",
    "            x = (book |> Seq.map (fun elt -> elt.TimeStamp.ToDateTime())),\n",
    "            y = (book |> Seq.map (fun elt ->  elt.Bid.Price))\n",
    "        )\n",
    "        new Scattergl(\n",
    "            name = \"TradePrice\",\n",
    "            mode = \"lines\",\n",
    "            x = (trades |> Seq.map (fun elt -> elt.TimeStamp.ToDateTime())),\n",
    "            y = (trades |> Seq.map (fun elt -> elt.Price))\n",
    "        )\n",
    "        new Scattergl(\n",
    "            name = \"AskSize\",\n",
    "            mode = \"bars\",\n",
    "            x = (book |> Seq.map (fun elt -> elt.TimeStamp.ToDateTime())),\n",
    "            y = (book |> Seq.map (fun elt -> elt.Ask.Size)),\n",
    "            yaxis = \"y2\"\n",
    "        )\n",
    "        new Scattergl(\n",
    "            name = \"BidSize\",\n",
    "            mode = \"bars\",\n",
    "            x = (book |> Seq.map (fun elt -> elt.TimeStamp.ToDateTime())),\n",
    "            y = (book |> Seq.map (fun elt -> elt.Bid.Size)),\n",
    "            yaxis = \"y2\"\n",
    "        )\n",
    "        new Scattergl(\n",
    "            name = \"TradeSize\",\n",
    "            mode = \"markers\",\n",
    "            x = (trades |> Seq.map (fun elt -> elt.TimeStamp.ToDateTime())),\n",
    "            y = (trades |> Seq.map (fun elt ->  elt.Size)),\n",
    "            yaxis = \"y2\"\n",
    "        )\n",
    "    ]\n",
    "\n",
    "Chart.Plot(data, layout)\n",
    "|> Chart.WithWidth 1500\n",
    "|> Chart.WithHeight 800\n",
    "|> display\n"
   ]
  }
 ],
 "metadata": {
  "kernelspec": {
   "display_name": ".NET (F#)",
   "language": "F#",
   "name": ".net-fsharp"
  },
  "language_info": {
   "file_extension": ".fs",
   "mimetype": "text/x-fsharp",
   "name": "F#",
   "pygments_lexer": "fsharp",
   "version": "5.0"
  }
 },
 "nbformat": 4,
 "nbformat_minor": 4
}
