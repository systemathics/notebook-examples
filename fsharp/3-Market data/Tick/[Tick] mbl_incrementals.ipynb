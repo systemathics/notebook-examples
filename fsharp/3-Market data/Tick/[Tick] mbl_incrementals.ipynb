{
 "cells": [
  {
   "cell_type": "markdown",
   "metadata": {},
   "source": [
    "# Export top of the book & trades using dedicated service - F#\n",
    "\n",
    "### Overview\n",
    "Retrieving trades and top of the book data points over a look back period is a valuable indicator to highlight market activity. It can be correlated with a set of technical indicators to better analyze market movements and build a decision making parameter.\n",
    "\n",
    "This sample is designed to request simultaneously trades and top of the book and illustrate market activity over a look back period.\n",
    "\n",
    "<div class=\"alert alert-block alert-info\">\n",
    "    <b>Note:</b> To highlight individual tradres among market activity. Please refer to <i><a href=\"\">bestex-pointintime</a></i> and <i><a href=\"\">bestex-interval</a></i> notebooks.\n",
    "</div>\n",
    "\n",
    "This sample demonstrates how to request and plot from a dedicated data service **on-demand** trades over the time.\n",
    "\n",
    "### Inputs/outputs\n",
    "Trades and best Bid/Ask extraction sample requires instrument's identifier, date time intervals as per inputs and returns top fo the book the occured trades data points.\n",
    "\n",
    "### Services used\n",
    "This sample uses *gRPC requests* in order to retrieve trades and top of the book from the hosted service. The queried endpoint in this script are:\n",
    "* *TickTradesAndBookService*: to directly retrieve trades and top of the book data from the server.\n",
    "\n",
    "### Packages required\n",
    "1. Systemathics packages:\n",
    "    * *Systemathics.Apis.Type.Shared.V1*\n",
    "    * *Systemathics.Apis.Services.Tick.V1*\n",
    "2. Open source packages\n",
    "    * *Google.Protobuf.WellKnownTypes*\n",
    "    * *Google.Type*\n",
    "    * *Grpc.Net.Client*\n",
    "    * *Grpc.Core*\n",
    "    \n",
    "***"
   ]
  },
  {
   "cell_type": "markdown",
   "metadata": {},
   "source": [
    "# Run Top of the book & Trades extraction sample"
   ]
  },
  {
   "cell_type": "markdown",
   "metadata": {},
   "source": [
    "### Step 1: Install packages"
   ]
  },
  {
   "cell_type": "code",
   "execution_count": null,
   "metadata": {
    "dotnet_interactive": {
     "language": "fsharp"
    },
    "vscode": {
     "languageId": "dotnet-interactive.fsharp"
    }
   },
   "outputs": [],
   "source": [
    "#r \"nuget: Systemathics.Apis, 2.32.*\""
   ]
  },
  {
   "cell_type": "code",
   "execution_count": null,
   "metadata": {
    "dotnet_interactive": {
     "language": "fsharp"
    },
    "vscode": {
     "languageId": "dotnet-interactive.fsharp"
    }
   },
   "outputs": [],
   "source": [
    "open Systemathics.Apis.Helpers\n",
    "open Systemathics.Apis.Type.Shared.V1\n",
    "open Systemathics.Apis.Services.Tick.V1\n",
    "open Google.Protobuf.WellKnownTypes\n",
    "open Google.Type\n",
    "open Grpc.Net.Client\n",
    "open Grpc.Core\n",
    "open type Systemathics.Apis.Services.Tick.V1.TickTradesAndBookService\n",
    "open type Systemathics.Apis.Services.Tick.V1.TickTradesAndBookRequest\n",
    "open type Systemathics.Apis.Services.Tick.V1.TickTradesAndBookResponse\n",
    "open type Systemathics.Apis.Type.Shared.V1.Trade\n",
    "open type Systemathics.Apis.Type.Shared.V1.Book\n",
    "open type Systemathics.Apis.Type.Shared.V1.BookUpdates"
   ]
  },
  {
   "cell_type": "markdown",
   "metadata": {},
   "source": [
    "### Step 2: Prepare API requests\n",
    "The following code snippets retrieve authentication token and prepare the API request by: opening the *channel* and adding the *token* to the request header:"
   ]
  },
  {
   "cell_type": "code",
   "execution_count": null,
   "metadata": {
    "dotnet_interactive": {
     "language": "fsharp"
    },
    "vscode": {
     "languageId": "dotnet-interactive.fsharp"
    }
   },
   "outputs": [],
   "source": [
    "// Get token as metadata\n",
    "let headers = TokenHelpers.GetTokenAsMetaData()\n",
    "\n",
    "// Create communication channel\n",
    "let channel = ChannelHelpers.GetChannel()"
   ]
  },
  {
   "cell_type": "markdown",
   "metadata": {},
   "source": [
    "### Step 3: Create and process request\n",
    "To request *tick trades and book* service, we need to specify:\n",
    "* Instrument identifier\n",
    "* Time period selection: select start and end dates\n",
    "* Tick data request parameters"
   ]
  },
  {
   "cell_type": "markdown",
   "metadata": {},
   "source": [
    "#### 3.1 Instrument selection"
   ]
  },
  {
   "cell_type": "code",
   "execution_count": null,
   "metadata": {
    "dotnet_interactive": {
     "language": "fsharp"
    },
    "vscode": {
     "languageId": "dotnet-interactive.fsharp"
    }
   },
   "outputs": [],
   "source": [
    "// Tha data is provided by ICE : let's use the ICE mapping codes to generate the identifier\n",
    "// The ICE ticker\n",
    "let ticker = \"E:BNP\"\n",
    "// The book limit : get the top 10 best limits\n",
    "let maxDepth = 10\n",
    "// The book update type: snapshot only or first snapshot then incremental\n",
    "let updatesType = BookUpdates.Incrementals"
   ]
  },
  {
   "cell_type": "markdown",
   "metadata": {},
   "source": [
    "#### 3.2 Time period delimitation"
   ]
  },
  {
   "cell_type": "code",
   "execution_count": null,
   "metadata": {
    "dotnet_interactive": {
     "language": "fsharp"
    },
    "vscode": {
     "languageId": "dotnet-interactive.fsharp"
    }
   },
   "outputs": [],
   "source": [
    "// Create time intervals\n",
    "let start = new DateTime(2021, 11, 01)\n",
    "let end' = new DateTime(2021, 11, 01)\n",
    "let dateIntervals = \n",
    "    new DateInterval(\n",
    "        StartDate = new Date ( Year = start.Year, Month = start.Month, Day = start.Day ),\n",
    "        EndDate = new Date ( Year = end'.Year, Month = end'.Month, Day = end'.Day )\n",
    "    )\n",
    "\n",
    "// Build the market data request time interval (we are using Google date time format : we have to cast the dates)\n",
    "// UTC time zone\n",
    "let timeInterval = \n",
    "    new TimeInterval(\n",
    "        StartTime = new TimeOfDay ( Hours = 14, Minutes = 00, Seconds = 51 ),\n",
    "        EndTime = new TimeOfDay ( Hours = 14, Minutes = 01, Seconds = 00)\n",
    "    )"
   ]
  },
  {
   "cell_type": "markdown",
   "metadata": {},
   "source": [
    "#### 3.3 Request creation\n",
    "The following code snippet creates *gRPC client*, process request and returns the request reply:"
   ]
  },
  {
   "cell_type": "code",
   "execution_count": null,
   "metadata": {
    "dotnet_interactive": {
     "language": "fsharp"
    },
    "vscode": {
     "languageId": "dotnet-interactive.fsharp"
    }
   },
   "outputs": [],
   "source": [
    "// Generate constraints based on the previous time selection:\n",
    "let constraints = new Constraints() \n",
    "constraints.DateIntervals.Add(dateIntervals)\n",
    "constraints.TimeIntervals.Add(timeInterval)"
   ]
  },
  {
   "cell_type": "markdown",
   "metadata": {},
   "source": [
    "The following code snippet create the market data request and instantiate the service:"
   ]
  },
  {
   "cell_type": "code",
   "execution_count": null,
   "metadata": {
    "dotnet_interactive": {
     "language": "fsharp"
    },
    "vscode": {
     "languageId": "dotnet-interactive.fsharp"
    }
   },
   "outputs": [],
   "source": [
    "// Generate the tick data request\n",
    "let request = new TickTradesAndBookRequest ( Constraints = constraints, BookUpdates = updatesType, MaxDepth = maxDepth, Adjustment = false )\n",
    "let identifier1 = new IdentifierAndLevel ( Provider = \"ICE\", Exchange = \"EQUITY_L2_973\", Ticker = ticker, Level = Level.TradesAndBook)\n",
    "request.Identifiers.Add([| identifier1 |]) \n",
    "let identifier2 = new IdentifierAndLevel ( Provider = \"ICE\", Exchange = \"787\", Ticker = ticker, Level = Level.Trades)\n",
    "request.Identifiers.Add([| identifier2 |])\n",
    "\n",
    "// Instantiate the tick data service client\n",
    "let service = new TickTradesAndBookService.TickTradesAndBookServiceClient(channel)"
   ]
  },
  {
   "cell_type": "markdown",
   "metadata": {},
   "source": [
    "### Step 4: Export data"
   ]
  },
  {
   "cell_type": "markdown",
   "metadata": {},
   "source": [
    "#### 4.1 Retrieve top of the book & trades"
   ]
  },
  {
   "cell_type": "markdown",
   "metadata": {},
   "source": [
    "We basically receive 2 types of data in the reponse\n",
    "1. Trade data (price, size, trade id and trade condition)\n",
    "2. Book data (a list of up to *maxDepth* limits on booth Bid and Ask sides of the book)\n",
    "\n",
    "The following code exports to a file the time increasing trade (scalar) or book data (matrix)"
   ]
  },
  {
   "cell_type": "code",
   "execution_count": null,
   "metadata": {
    "dotnet_interactive": {
     "language": "fsharp"
    },
    "vscode": {
     "languageId": "dotnet-interactive.fsharp"
    }
   },
   "outputs": [],
   "source": [
    "// Process tick data stream service: get price / size / timestamp\n",
    "open System.Collections.Generic\n",
    "\n",
    "\n",
    "// Used to process IAsyncEnumerable with F# along with a function f returning unit to process data\n",
    "let iterAsync (t: IAsyncEnumerable<'T>) (f : 'T -> unit) =\n",
    "    let task = \n",
    "        task {\n",
    "            let e = t.GetAsyncEnumerator()\n",
    "            let mutable go = true\n",
    "            try\n",
    "                let! step = e.MoveNextAsync()\n",
    "                go <- step\n",
    "                while go do \n",
    "                    f e.Current\n",
    "                    let! step = e.MoveNextAsync()\n",
    "                    go <- step\n",
    "            finally\n",
    "                e.DisposeAsync().AsTask().Wait()\n",
    "\n",
    "        }\n",
    "    task.Wait()\n",
    "\n",
    "// Function used to process data from stream\n",
    "let displayResponse (t : StreamWriter) (item: TickTradesAndBookResponse)  =\n",
    "    if not (isNull item.Mapping) then\n",
    "        let mapping = item.Mapping\n",
    "        mapping.Values\n",
    "        |> Seq.iter(fun a ->  t.WriteLine($\"# {a.Value} => {a.Identifier.Provider}/{a.Identifier.Exchange}/{a.Identifier.Ticker}\"))\n",
    "    else\n",
    "        let ts = item.Data.TimeStamp.ToDateTime()\n",
    "\n",
    "        if not (isNull item.Data.Book) then\n",
    "            let book = item.Data.Book\n",
    "            let header = $\"{ts:O} [{item.Data.Mapping}] [BOOK]\"\n",
    "            t.WriteLine()\n",
    "            t.WriteLine(header)\n",
    "            // In snapshot mode, the book limits are sorted in the natural order\n",
    "            // This code leverage the fact we know that bids/asks always come complete/ordered, it wouldn't work in incremental updates mode\n",
    "            let maxDepth = Math.Max(book.Bid.Count, book.Ask.Count)\n",
    "            for i = 0 to (maxDepth - 1) do \n",
    "                let bidPrice = if i < book.Bid.Count then $\"{book.Bid[i].Price:N4}\" else String.Empty\n",
    "                let bidSize  = if i < book.Bid.Count then $\"{book.Bid[i].Size:N0}\"  else String.Empty\n",
    "                let bidDepth = if i < book.Bid.Count then $\"{book.Bid[i].Depth:N0}\" else String.Empty\n",
    "                let askPrice = if i < book.Ask.Count then $\"{book.Ask[i].Price:N4}\" else String.Empty\n",
    "                let askSize  = if i < book.Ask.Count then $\"{book.Ask[i].Size:N0}\"  else String.Empty\n",
    "                let askDepth = if i < book.Ask.Count then $\"{book.Ask[i].Depth:N0}\" else String.Empty\n",
    "                let f = $\"{bidDepth, 10} {bidSize, 10} {bidPrice, 10} {askPrice, 10} {askSize, 10} {askDepth, 10}\"\n",
    "                t.WriteLine(f)\n",
    "\n",
    "        if not (isNull item.Data.Trade) then\n",
    "            let trade = item.Data.Trade\n",
    "            let header = $\"{ts:O} [{item.Data.Mapping}] [TRADE]\"\n",
    "            t.WriteLine()\n",
    "            t.WriteLine(header)\n",
    "            t.WriteLine($\"{trade.Size}@{trade.Price} Id={trade.Id} Condition={trade.Condition}\")\n",
    "\n",
    "\n",
    "let d = new DirectoryInfo(\"output\")\n",
    "if (not d.Exists) then d.Create()\n",
    "let t = new StreamWriter(File.OpenWrite(\"output/mbl_incrementals.txt\"))\n",
    "let call = service.TickTradesAndBook(request, headers)\n",
    "iterAsync (call.ResponseStream.ReadAllAsync()) (displayResponse t)\n",
    "t.Close()"
   ]
  }
 ],
 "metadata": {
  "kernelspec": {
   "display_name": ".NET (F#)",
   "language": "F#",
   "name": ".net-fsharp"
  },
  "language_info": {
   "file_extension": ".fs",
   "mimetype": "text/x-fsharp",
   "name": "F#",
   "pygments_lexer": "fsharp",
   "version": "5.0"
  }
 },
 "nbformat": 4,
 "nbformat_minor": 4
}
