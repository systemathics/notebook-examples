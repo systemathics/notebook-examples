{
 "cells": [
  {
   "cell_type": "markdown",
   "id": "decreased-checkout",
   "metadata": {},
   "source": [
    "# Generate interval best execution benchmarks using dedicated service - F#\n",
    "\n",
    "### Overview\n",
    "Best execution aims to measure the performance of executed trades, an execution algorithm or an execution venue.\n",
    "\n",
    "This sample is based on an `interval` approach and designed to illustrate market activity over a look back period.\n",
    "\n",
    "<div class=\"alert alert-block alert-info\">\n",
    "    <b>Note:</b> To explore the point-in-time approach, suitable to highlight individual tradres among market activity. Please refer to <i>bestex-pointintime</i> notebooks.\n",
    "</div>\n",
    "\n",
    "This sample demonstrates how to request and plot from a dedicated data service **on-demand** best execution *interval* benchmarks.\n",
    "\n",
    "### Inputs/outputs\n",
    "Best execution interval sample requires instrument's identifier, date time intervals as per inputs. Results are as follows:\n",
    "* a snapshot of occured trades\n",
    "* a set of computed benchmarks based on the occured trades\n",
    "\n",
    "### Services used\n",
    "This sample uses *gRPC requests* in order to retrieve trades information from the hosted service. The queried endpoint in this script are:\n",
    "* *TickTradesService*: to directly retrieve trades data from the server.\n",
    "\n",
    "### Packages required\n",
    "1. Systemathics:\n",
    "    * *Systemathics.Apis.Type.Shared.V1*\n",
    "    * *Systemathics.Apis.Services.Tick.V1*\n",
    "2. Open source:\n",
    "    * *Google.Protobuf.WellKnownTypes*\n",
    "    * *Google.Type*\n",
    "    * *Grpc.Net.Client*\n",
    "    * *Grpc.Core*\n",
    "    * *XPlot.Plotly* as per display package\n",
    "    \n",
    "***"
   ]
  },
  {
   "cell_type": "markdown",
   "id": "written-consistency",
   "metadata": {},
   "source": [
    "# Run BestEx interval sample"
   ]
  },
  {
   "cell_type": "markdown",
   "id": "certain-sunglasses",
   "metadata": {},
   "source": [
    "### Step 1: Install packages"
   ]
  },
  {
   "cell_type": "code",
   "execution_count": null,
   "id": "italic-studio",
   "metadata": {
    "dotnet_interactive": {
     "language": "fsharp"
    }
   },
   "outputs": [],
   "source": [
    "#i \"nuget: file:///home/jovyan/.nuget/packages/\"\n",
    "#i \"nuget: https://api.nuget.org/v3/index.json\"\n",
    "#r \"nuget: Systemathics.Apis, 2.38.*-pre*\"\n",
    "#r \"nuget: XPlot.Plotly.Interactive\"\n",
    "#r \"nuget: CsvHelper\"\n",
    "#r \"nuget: TaskBuilder.fs\""
   ]
  },
  {
   "cell_type": "code",
   "execution_count": null,
   "id": "announced-sessions",
   "metadata": {
    "dotnet_interactive": {
     "language": "fsharp"
    }
   },
   "outputs": [],
   "source": [
    "open Systemathics.Apis.Helpers\n",
    "open Systemathics.Apis.Type.Shared.V1\n",
    "open Systemathics.Apis.Services.Tick.V1\n",
    "open Google.Protobuf.WellKnownTypes\n",
    "open Google.Type\n",
    "open Grpc.Net.Client\n",
    "open Grpc.Core\n",
    "// Plot charts\n",
    "open XPlot.Plotly \n",
    "// Import/export csv files \n",
    "open CsvHelper\n",
    "open System.IO\n",
    "open System.Globalization"
   ]
  },
  {
   "cell_type": "markdown",
   "id": "electrical-technical",
   "metadata": {},
   "source": [
    "### Step 2: Prepare API requests\n",
    "The following code snippets retrieve authentication token and prepare the API request by: opening the *channel* and adding the *token* to the request header:"
   ]
  },
  {
   "cell_type": "code",
   "execution_count": null,
   "id": "practical-salem",
   "metadata": {
    "dotnet_interactive": {
     "language": "fsharp"
    }
   },
   "outputs": [],
   "source": [
    "// Get token as metadata\n",
    "let headers = TokenHelpers.GetTokenAsMetaData();\n",
    "\n",
    "// Create communication channel\n",
    "let channel = ChannelHelpers.GetChannel();"
   ]
  },
  {
   "cell_type": "markdown",
   "id": "automated-order",
   "metadata": {},
   "source": [
    "### Step 3: Create and process request\n",
    "To request *tick data* service, we need to specify:\n",
    "* Instrument identifier\n",
    "* Time period selection: select start and end dates\n",
    "* Tick data request parameters"
   ]
  },
  {
   "cell_type": "markdown",
   "id": "marine-characteristic",
   "metadata": {},
   "source": [
    "#### 3.1 Instrument selection"
   ]
  },
  {
   "cell_type": "code",
   "execution_count": null,
   "id": "coastal-mattress",
   "metadata": {
    "dotnet_interactive": {
     "language": "fsharp"
    }
   },
   "outputs": [],
   "source": [
    "let  ticker = \"AAPL\"\n",
    "let  exchange = \"BATS\""
   ]
  },
  {
   "cell_type": "markdown",
   "id": "published-account",
   "metadata": {},
   "source": [
    "#### 3.2 Time period delimitation"
   ]
  },
  {
   "cell_type": "code",
   "execution_count": null,
   "id": "guilty-efficiency",
   "metadata": {
    "dotnet_interactive": {
     "language": "fsharp"
    }
   },
   "outputs": [],
   "source": [
    "// Create the date interval (we are using Google date time format)\n",
    "let  day = new DateTime(2021, 03, 15)\n",
    "let  dateIntervals = \n",
    "    new DateInterval(\n",
    "        StartDate = new Date ( Year = 2021, Month = 03, Day = 15 ),\n",
    "        EndDate = new Date ( Year = 2021, Month = 03, Day = 15 )\n",
    "    )\n",
    "\n",
    "// Create the time interval (we are using Google date time format)\n",
    "// UTC time zone\n",
    "let  timeInterval = \n",
    "    new TimeInterval(\n",
    "        StartTime = new TimeOfDay ( Hours = 16, Minutes = 20, Seconds = 00 ),\n",
    "        EndTime = new TimeOfDay ( Hours = 16, Minutes = 30, Seconds = 00 ) \n",
    "    )"
   ]
  },
  {
   "cell_type": "markdown",
   "id": "useful-robert",
   "metadata": {},
   "source": [
    "#### 3.3 Request creation\n",
    "The following code snippet creates *gRPC client*, process request and returns request reply."
   ]
  },
  {
   "cell_type": "code",
   "execution_count": null,
   "id": "adjusted-alignment",
   "metadata": {
    "dotnet_interactive": {
     "language": "fsharp"
    }
   },
   "outputs": [],
   "source": [
    "// Generate constraints based on the previous time selection:\n",
    "let  constraints = new Constraints() \n",
    "constraints.DateIntervals.Add(dateIntervals)\n",
    "constraints.TimeIntervals.Add(timeInterval)"
   ]
  },
  {
   "cell_type": "markdown",
   "id": "proprietary-declaration",
   "metadata": {},
   "source": [
    "The following code snippets create request and instantiate the service:"
   ]
  },
  {
   "cell_type": "code",
   "execution_count": null,
   "id": "chubby-proceeding",
   "metadata": {
    "dotnet_interactive": {
     "language": "fsharp"
    }
   },
   "outputs": [],
   "source": [
    "// Generate the tick trades request\n",
    "let  request = new TickTradesRequest ( Constraints = constraints )\n",
    "let  identifier = new Identifier ( Exchange = exchange, Ticker = ticker)\n",
    "request.Identifiers.Add [| identifier |]"
   ]
  },
  {
   "cell_type": "code",
   "execution_count": null,
   "id": "consistent-species",
   "metadata": {
    "dotnet_interactive": {
     "language": "fsharp"
    }
   },
   "outputs": [],
   "source": [
    "// Instantiate the tick trades service\n",
    "let  service = new TickTradesService.TickTradesServiceClient(channel)"
   ]
  },
  {
   "cell_type": "markdown",
   "id": "regular-intranet",
   "metadata": {},
   "source": [
    "### Step 4: Visualize data"
   ]
  },
  {
   "cell_type": "markdown",
   "id": "statistical-shore",
   "metadata": {},
   "source": [
    "#### 4.1 Retrieve trade prices and volumes"
   ]
  },
  {
   "cell_type": "code",
   "execution_count": null,
   "id": "wooden-afternoon",
   "metadata": {
    "dotnet_interactive": {
     "language": "fsharp"
    }
   },
   "outputs": [],
   "source": [
    "// Get the trades\n",
    "open FSharp.Control.Tasks.V2\n",
    "open System.Collections.Generic\n",
    "\n",
    "let  trades = new List<Trade>()\n",
    "\n",
    "let iterAsync (t: IAsyncEnumerable<'T>) (f : 'T -> unit) =\n",
    "    let task = \n",
    "        task {\n",
    "            let e = t.GetAsyncEnumerator()\n",
    "            let mutable go = true\n",
    "            try\n",
    "                let! step = e.MoveNextAsync()\n",
    "                go <- step\n",
    "                while go do \n",
    "                    f e.Current\n",
    "                    let! step = e.MoveNextAsync()\n",
    "                    go <- step\n",
    "            finally\n",
    "                e.DisposeAsync().AsTask().Wait()\n",
    "        }\n",
    "    task.Wait()\n",
    "\n",
    "let add (collection : List<Trade>) (item : TickTradesResponse) =\n",
    "    if( item |> isNull |> not && item.Trade |> isNull |> not ) then\n",
    "        collection.Add item.Trade\n",
    "\n",
    "let  call = service.TickTrades(request, headers)\n",
    "let e = call.ResponseStream.ReadAllAsync()\n",
    "\n",
    "iterAsync e (add trades)\n"
   ]
  },
  {
   "cell_type": "markdown",
   "id": "hispanic-sheep",
   "metadata": {},
   "source": [
    "The following code snippet displays request results:"
   ]
  },
  {
   "cell_type": "code",
   "execution_count": null,
   "id": "accessible-unknown",
   "metadata": {
    "dotnet_interactive": {
     "language": "fsharp"
    }
   },
   "outputs": [],
   "source": [
    "trades |> display"
   ]
  },
  {
   "cell_type": "markdown",
   "id": "precious-squad",
   "metadata": {},
   "source": [
    "#### 4.2 Retrieve interval benchmarks"
   ]
  },
  {
   "cell_type": "code",
   "execution_count": null,
   "id": "endless-thumbnail",
   "metadata": {
    "dotnet_interactive": {
     "language": "fsharp"
    }
   },
   "outputs": [],
   "source": [
    "//Get bestex time interval\n",
    "//dateIntervals.StartDate.Year\n",
    "let  intervalStart = new DateTime(dateIntervals.StartDate.Year, dateIntervals.StartDate.Month, dateIntervals.StartDate.Day, timeInterval.StartTime.Hours, timeInterval.StartTime.Minutes, timeInterval.StartTime.Seconds)\n",
    "let  intervalEnd = new DateTime(dateIntervals.EndDate.Year, dateIntervals.EndDate.Month, dateIntervals.EndDate.Day, timeInterval.EndTime.Hours, timeInterval.EndTime.Minutes, timeInterval.EndTime.Seconds)\n"
   ]
  },
  {
   "cell_type": "code",
   "execution_count": null,
   "id": "separated-prerequisite",
   "metadata": {
    "dotnet_interactive": {
     "language": "fsharp"
    }
   },
   "outputs": [],
   "source": [
    "// Get bestex time interval\n",
    "let  intervalStart = new DateTime(dateIntervals.StartDate.Year, dateIntervals.StartDate.Month, dateIntervals.StartDate.Day, timeInterval.StartTime.Hours, timeInterval.StartTime.Minutes, timeInterval.StartTime.Seconds)\n",
    "let  intervalEnd = new DateTime(dateIntervals.EndDate.Year, dateIntervals.EndDate.Month, dateIntervals.EndDate.Day, timeInterval.EndTime.Hours, timeInterval.EndTime.Minutes, timeInterval.EndTime.Seconds)\n",
    "\n",
    "let getTime (t : Trade) =\n",
    "    t.TimeStamp.ToDateTime()\n",
    "\n",
    "// Get first and last trades' timestamps\n",
    "let  firstTimestamp =  trades |> Seq.head |> getTime\n",
    "let  lastTimestamp = trades |> Seq.last |> getTime\n",
    "\n",
    "// Get a set of benchmarks\n",
    "let  totalTrades = trades.Count\n",
    "let  totalSizes = trades |> Seq.sumBy (fun trade -> trade.Size)\n",
    "let  avgPrice = trades |> Seq.averageBy (fun elt -> elt.Price)\n",
    "let  avgSize = trades |> Seq.averageBy (fun elt -> (double elt.Size))\n",
    "let  maxPrice = trades |> Seq.maxBy (fun trade -> trade.Price)\n",
    "let  minPrice = trades |> Seq.minBy (fun trade -> trade.Price)\n",
    "let  maxSize = trades |> Seq.maxBy ( fun trade -> trade.Size)\n",
    "let  minSize = trades |> Seq.minBy (fun trade -> trade.Size)\n",
    "let  vwap = (trades |> Seq.sumBy ( fun trade -> trade.Price * (float trade.Size))) / (float totalSizes)"
   ]
  },
  {
   "cell_type": "code",
   "execution_count": null,
   "id": "continuing-yukon",
   "metadata": {
    "dotnet_interactive": {
     "language": "fsharp"
    }
   },
   "outputs": [],
   "source": [
    "// Display results\n",
    "$\"Interval start time \\t: {intervalStart:s}\" |> display\n",
    "$\"Interval end time\\t: {intervalEnd:s}\" |> display\n",
    "$\"First trade occured at\\t: {firstTimestamp:s}\" |> display\n",
    "$\"Last trade occured at\\t: {lastTimestamp:s}\" |> display\n",
    "$\"Total trades retrieved\\t: {trades.Count:N0}\" |> display\n",
    "$\"Cumulated trade sizes\\t: {totalSizes:N0}\" |> display\n",
    "$\"Average trade price\\t: {avgPrice:F3}\" |> display\n",
    "$\"Average trade size\\t: {avgSize:N0}\" |> display\n",
    "$\"Max trade price\\t\\t: {maxPrice:F3}\" |> display\n",
    "$\"Min trade price\\t\\t: {minPrice:F3}\" |> display\n",
    "$\"Max trade size\\t\\t: {maxSize:N0}\" |> display\n",
    "$\"Min trade size\\t\\t: {minSize:N0}\" |> display\n",
    "$\"Vwap\\t\\t\\t: {vwap:F3}\" |> display"
   ]
  },
  {
   "cell_type": "markdown",
   "id": "veterinary-maldives",
   "metadata": {},
   "source": [
    "#### 4.3 Plot the interval trades\n",
    "Display trade prices and sizes over the look back period with the package of your choice.<br>*`XPlot.Plotly`* is used as per open source display package."
   ]
  },
  {
   "cell_type": "code",
   "execution_count": null,
   "id": "related-quebec",
   "metadata": {
    "dotnet_interactive": {
     "language": "fsharp"
    }
   },
   "outputs": [],
   "source": [
    "let  pricesAndVolumes = \n",
    "    [\n",
    "        new Scattergl(\n",
    "            name = \"Tradeprice\",\n",
    "            mode = \"lines\",\n",
    "            x = (trades |> Seq.map (fun elt -> elt.TimeStamp.ToDateTime())),\n",
    "            y = (trades |> Seq.map (fun elt -> elt.Price))\n",
    "        )\n",
    "        new Scattergl(\n",
    "            name = \"Tradesize\",\n",
    "            x = (trades |> Seq.map (fun elt -> elt.TimeStamp.ToDateTime())),\n",
    "            y = (trades |> Seq.map (fun elt -> elt.Size)),\n",
    "            yaxis = \"y2\"\n",
    "        )\n",
    "    ]\n",
    "\n",
    "\n",
    "let  layout = \n",
    "    new Layout.Layout( \n",
    "        title = $\"Interval trades for (ticker)-(exchange) | Trades count: (totalTrades) | Toal traded volume: (totalSizes) \",\n",
    "        xaxis = new Xaxis (title = \"Time\"),\n",
    "        yaxis = new Yaxis (\n",
    "            title = \"Price\", \n",
    "            autorange = true,\n",
    "            side = \"left\"\n",
    "        ),\n",
    "        yaxis2 = new Yaxis (\n",
    "            title = \"Size\", \n",
    "            autorange = true,\n",
    "            side = \"right\"\n",
    "        )\n",
    "    )\n",
    "\n",
    "Chart.Plot(pricesAndVolumes, layout)\n",
    "|> Chart.WithWidth  1500\n",
    "|> Chart.WithHeight  800\n",
    "|> display"
   ]
  }
 ],
 "metadata": {
  "kernelspec": {
   "display_name": ".NET (F#)",
   "language": "F#",
   "name": ".net-fsharp"
  },
  "language_info": {
   "file_extension": ".fs",
   "mimetype": "text/x-fsharp",
   "name": "F#",
   "pygments_lexer": "fsharp",
   "version": "5.0"
  }
 },
 "nbformat": 4,
 "nbformat_minor": 5
}
