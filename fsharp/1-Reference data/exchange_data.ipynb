{
 "cells": [
  {
   "cell_type": "markdown",
   "id": "eight-cocktail",
   "metadata": {},
   "source": [
    "# Generate exchange data using dedicated service - F#\n",
    "\n",
    "### Overview\n",
    "Reference data encompasses a wide range of specification data about:\n",
    "* financial instrument such as asset class, symbol, maturity, etc.\n",
    "* counterparties such as issuer information.\n",
    "* pricing such as Open, high low and close prices.\n",
    "\n",
    "The challenge with reference data is that it tends to be sourced from multiple sources: internal, counterparties and providers.\n",
    "\n",
    "Reference data dedicated service is a result of various data sources and fields sourcing, validation, cross-checking and normalization.<br>\n",
    "\n",
    "This sample requests **on-demand** exchange data and enables fields mapping by calling a dedicated static data service, making available clean data.\n",
    "\n",
    "### Inputs/outputs\n",
    "Exchange data sample is designed to help you searching and requesting exchange reference data by using a wide range of commonly used fields.\n",
    "\n",
    "It takes exchange identifier as per input filter and returns the *entries* matching the *request*:\n",
    "* List of instruments' identifiers\n",
    "* Countries\n",
    "* Currencies \n",
    "* Tick size rules\n",
    "* etc. \n",
    "\n",
    "### Services used\n",
    "This sample uses *gRPC requests* in order to retrieve exchange reference data from the hosted service. The queried endpoint in this script are:\n",
    "* *StaticDataService*: to directly retrieve reference data objects from the server\n",
    "\n",
    "### Packages required\n",
    "1. Systemathics packages:\n",
    "    * *Systemathics.Apis.Type.Shared.V1*\n",
    "    * *Systemathics.Apis.Services.StaticData.V1*\n",
    "2. Open source packages\n",
    "    * *Google.Protobuf.WellKnownTypes*\n",
    "    * *Google.Type*\n",
    "    * *Grpc.Net.Client*\n",
    "    * *Grpc.Core*\n"
   ]
  },
  {
   "cell_type": "markdown",
   "id": "appropriate-mayor",
   "metadata": {},
   "source": [
    "# Run Exchange data sample"
   ]
  },
  {
   "cell_type": "markdown",
   "id": "marked-feeding",
   "metadata": {},
   "source": [
    "### Step 1: Install packages"
   ]
  },
  {
   "cell_type": "code",
   "execution_count": null,
   "id": "musical-remainder",
   "metadata": {
    "dotnet_interactive": {
     "language": "fsharp"
    },
    "vscode": {
     "languageId": "fsharp"
    }
   },
   "outputs": [],
   "source": [
    "#i \"nuget: file:///home/jovyan/.nuget/packages/\"\n",
    "#i \"nuget: https://api.nuget.org/v3/index.json\"\n",
    "#r \"nuget: Systemathics.Apis, 2.33.*-pre*\"\n",
    "#r \"nuget: CsvHelper\""
   ]
  },
  {
   "cell_type": "code",
   "execution_count": null,
   "id": "chemical-strength",
   "metadata": {
    "dotnet_interactive": {
     "language": "fsharp"
    },
    "vscode": {
     "languageId": "fsharp"
    }
   },
   "outputs": [],
   "source": [
    "open Systemathics.Apis.Helpers\n",
    "open Systemathics.Apis.Type.Shared.V1\n",
    "open Systemathics.Apis.Services.StaticData.V1\n",
    "open Google.Protobuf.WellKnownTypes\n",
    "open Google.Type\n",
    "open Grpc.Net.Client\n",
    "open Grpc.Core\n",
    "// Import/export csv files\n",
    "open CsvHelper\n",
    "open System.IO\n",
    "open System.Globalization"
   ]
  },
  {
   "cell_type": "markdown",
   "id": "desirable-owner",
   "metadata": {},
   "source": [
    "### Step 2: Prepare API requests\n",
    "The following code snippets retrieve authentication token and prepare the API request by: opening the *channel* and adding the *token* to the request header:"
   ]
  },
  {
   "cell_type": "code",
   "execution_count": null,
   "id": "therapeutic-sending",
   "metadata": {
    "dotnet_interactive": {
     "language": "fsharp"
    },
    "vscode": {
     "languageId": "fsharp"
    }
   },
   "outputs": [],
   "source": [
    "// Get token as metadata\n",
    "let headers = TokenHelpers.GetTokenAsMetaData();\n",
    "\n",
    "// Create communication channel\n",
    "let channel = ChannelHelpers.GetChannel();"
   ]
  },
  {
   "cell_type": "markdown",
   "id": "activated-affect",
   "metadata": {},
   "source": [
    "### Step 3: Request creation"
   ]
  },
  {
   "cell_type": "markdown",
   "id": "korean-click",
   "metadata": {},
   "source": [
    "The following code snippet enables to select the **exchange** by its *Market Identifier Code*:"
   ]
  },
  {
   "cell_type": "code",
   "execution_count": null,
   "id": "fitting-commission",
   "metadata": {
    "dotnet_interactive": {
     "language": "fsharp"
    },
    "vscode": {
     "languageId": "fsharp"
    }
   },
   "outputs": [],
   "source": [
    "// Set exchange\n",
    "let exchange = \"XNGS\""
   ]
  },
  {
   "cell_type": "markdown",
   "id": "neither-austria",
   "metadata": {},
   "source": [
    "The following code snippets call the service, generate the request and return the reply: "
   ]
  },
  {
   "cell_type": "code",
   "execution_count": null,
   "id": "nasty-dover",
   "metadata": {
    "dotnet_interactive": {
     "language": "fsharp"
    },
    "vscode": {
     "languageId": "fsharp"
    }
   },
   "outputs": [],
   "source": [
    "// Instantiate the service\n",
    "let service = new StaticDataService.StaticDataServiceClient(channel)\n",
    "\n",
    "// Generate request\n",
    "let request = new StaticDataRequest ( AssetType = AssetType.Equity, Exchange = exchange, Count = 100 )\n",
    "\n",
    "// Call the service\n",
    "let reply = service.StaticData(request, headers);\n",
    "\n",
    "// Display the results\n",
    "//display(reply.Equities)"
   ]
  },
  {
   "cell_type": "markdown",
   "id": "spiritual-monaco",
   "metadata": {},
   "source": [
    "### Step 4: Retrieve data"
   ]
  },
  {
   "cell_type": "markdown",
   "id": "controlling-crowd",
   "metadata": {},
   "source": [
    "#### 4.1 Retrieve instruments' identifiers (mapping)"
   ]
  },
  {
   "cell_type": "code",
   "execution_count": null,
   "id": "fewer-perspective",
   "metadata": {
    "dotnet_interactive": {
     "language": "fsharp"
    },
    "vscode": {
     "languageId": "fsharp"
    }
   },
   "outputs": [],
   "source": [
    "type Instrument = \n",
    "    {\n",
    "        Ticker: string\n",
    "        Name : string\n",
    "        Isin : string\n",
    "        Cusip : string\n",
    "        Sedol : string\n",
    "        Bloomberg : string\n",
    "    }\n",
    "\n",
    "let instruments = reply.Equities |> Seq.map (fun e -> { Ticker = e.Identifier.Ticker; Name = e.Name; Isin = e.Isin; Cusip = e.Cusip; Sedol = e.Sedol; Bloomberg = if e.Mapping.ContainsKey(\"Bloomberg\") then e.Mapping.[\"Bloomberg\"] else String.Empty })"
   ]
  },
  {
   "cell_type": "code",
   "execution_count": null,
   "id": "blank-projector",
   "metadata": {
    "dotnet_interactive": {
     "language": "fsharp"
    },
    "vscode": {
     "languageId": "fsharp"
    }
   },
   "outputs": [],
   "source": [
    "display(instruments)"
   ]
  },
  {
   "cell_type": "markdown",
   "id": "complex-courage",
   "metadata": {},
   "source": [
    "The following code snippet exports data to *csv* file:"
   ]
  },
  {
   "cell_type": "code",
   "execution_count": null,
   "id": "thermal-release",
   "metadata": {
    "dotnet_interactive": {
     "language": "fsharp"
    },
    "vscode": {
     "languageId": "fsharp"
    }
   },
   "outputs": [],
   "source": [
    "let d = new DirectoryInfo(\"output\") \n",
    "d.Create()\n",
    "let writer = new StreamWriter($\"output/{exchange}.csv\")\n",
    "let csv = new CsvWriter(writer, CultureInfo.InvariantCulture)\n",
    "csv.WriteRecords(instruments)\n"
   ]
  },
  {
   "cell_type": "markdown",
   "id": "directed-gates",
   "metadata": {},
   "source": [
    "#### 4.2 Retrieve countries"
   ]
  },
  {
   "cell_type": "code",
   "execution_count": null,
   "id": "backed-arizona",
   "metadata": {
    "dotnet_interactive": {
     "language": "fsharp"
    },
    "vscode": {
     "languageId": "fsharp"
    }
   },
   "outputs": [],
   "source": [
    "reply.Equities |> Seq.map (fun e -> e.Country) |> Seq.distinct"
   ]
  },
  {
   "cell_type": "markdown",
   "id": "recorded-deviation",
   "metadata": {
    "dotnet_interactive": {
     "language": "fsharp"
    }
   },
   "source": [
    "#### 4.3 Retrieve currencies"
   ]
  },
  {
   "cell_type": "code",
   "execution_count": null,
   "id": "assured-initial",
   "metadata": {
    "dotnet_interactive": {
     "language": "fsharp"
    },
    "vscode": {
     "languageId": "fsharp"
    }
   },
   "outputs": [],
   "source": [
    "reply.Equities |> Seq.map (fun e -> e.Currency) |> Seq.distinct"
   ]
  },
  {
   "cell_type": "markdown",
   "id": "limiting-charter",
   "metadata": {},
   "source": [
    "#### 4.4 Retrieve tick size rules"
   ]
  },
  {
   "cell_type": "code",
   "execution_count": null,
   "id": "editorial-consolidation",
   "metadata": {
    "dotnet_interactive": {
     "language": "fsharp"
    },
    "vscode": {
     "languageId": "fsharp"
    }
   },
   "outputs": [],
   "source": [
    "reply.Equities |> Seq.map (fun e -> e.TickSizeRule) |> Seq.distinct"
   ]
  }
 ],
 "metadata": {
  "kernelspec": {
   "display_name": ".NET (F#)",
   "language": "F#",
   "name": ".net-fsharp"
  },
  "language_info": {
   "file_extension": ".fs",
   "mimetype": "text/x-fsharp",
   "name": "F#",
   "pygments_lexer": "fsharp",
   "version": "6.0"
  }
 },
 "nbformat": 4,
 "nbformat_minor": 5
}
