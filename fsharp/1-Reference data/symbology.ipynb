{
 "cells": [
  {
   "cell_type": "markdown",
   "id": "77876901",
   "metadata": {},
   "source": [
    "# Symbology mapping using dedicated service - F#\n",
    "\n",
    "### Overview\n",
    "Reference data encompasses a wide range of specification data about:\n",
    "* financial instrument such as asset class, symbol, maturity, etc.\n",
    "* counterparties such as issuer information.\n",
    "* pricing such as Open, high low and close prices.\n",
    "\n",
    "The challenge with reference data is that it tends to be sourced from multiple sources: internal, counterparties and providers.\n",
    "\n",
    "Reference data dedicated service is a result of various data sources and fields sourcing, validation, cross-checking and normalization.<br>\n",
    "\n",
    "This sample requests **on-demand** instrument's identifiers and enables fields mapping by calling a dedicated static data service, making available clean data.\n",
    "\n",
    "### Inputs/outputs\n",
    "Symbology mapping sample is designed to help you searching and requesting instrument's specification data by using a wide range of commonly used fields.\n",
    "* It takes instrument specification parameter(s) as per input filter and returns the *entries* matching the request.\n",
    "* The returned *entries* contain `instrument identifier` data\n",
    "\n",
    "The samples below expose several ways to query the reference data service in order to retrieve instrument identifier and fields. \n",
    "Please refer to any other scenario in order to discover how instrument identifier is used.\n",
    "\n",
    "### Services used\n",
    "This sample uses *gRPC requests* in order to retrieve reference data set of fields from the hosted service. The queried endpoint in this script are:\n",
    "* *StaticDataService*: to directly retrieve reference data objects from the server\n",
    "\n",
    "### Packages required\n",
    "1. Systemathics packages:\n",
    "    * *Systemathics.Apis.Type.Shared.V1*\n",
    "    * *Systemathics.Apis.Services.StaticData.V1*\n",
    "2. Open source packages\n",
    "    * *Google.Protobuf.WellKnownTypes*\n",
    "    * *Google.Type*\n",
    "    * *Grpc.Net.Client*\n",
    "    * *Grpc.Core*\n",
    "\n",
    "***"
   ]
  },
  {
   "cell_type": "markdown",
   "id": "f8f5c9f9",
   "metadata": {},
   "source": [
    "# Run reference data queries"
   ]
  },
  {
   "cell_type": "markdown",
   "id": "be780646",
   "metadata": {},
   "source": [
    "### Step 1: Install packages"
   ]
  },
  {
   "cell_type": "code",
   "execution_count": null,
   "id": "516a392a",
   "metadata": {
    "dotnet_interactive": {
     "language": "fsharp"
    }
   },
   "outputs": [],
   "source": [
    "//#i \"nuget: file:///home/jovyan/.nuget/packages/\"\n",
    "#i \"nuget: https://api.nuget.org/v3/index.json\"\n",
    "#r \"nuget: Systemathics.Apis, 0.9.*-pre*\""
   ]
  },
  {
   "cell_type": "code",
   "execution_count": null,
   "id": "4d61bb07",
   "metadata": {
    "dotnet_interactive": {
     "language": "fsharp"
    }
   },
   "outputs": [],
   "source": [
    "open Systemathics.Apis.Helpers\n",
    "open Systemathics.Apis.Type.Shared.V1\n",
    "open Systemathics.Apis.Services.StaticData.V1\n",
    "open Google.Protobuf.WellKnownTypes\n",
    "open Google.Type\n",
    "open Grpc.Net.Client\n",
    "open Grpc.Core"
   ]
  },
  {
   "cell_type": "markdown",
   "id": "500add9d",
   "metadata": {},
   "source": [
    "### Step 2: Prepare API requests\n",
    "The following code snippets retrieve authentication token and prepare the API request by: opening the *channel* and adding the *token* to the request header:"
   ]
  },
  {
   "cell_type": "code",
   "execution_count": null,
   "id": "f08006cd",
   "metadata": {
    "dotnet_interactive": {
     "language": "fsharp"
    }
   },
   "outputs": [],
   "source": [
    "// Get token as metadata\n",
    "let headers = TokenHelpers.GetTokenAsMetaData();\n",
    "\n",
    "// Create communication channel\n",
    "let channel = ChannelHelpers.GetChannel();"
   ]
  },
  {
   "cell_type": "markdown",
   "id": "748691b7",
   "metadata": {},
   "source": [
    "### Step 3: Call reference data service"
   ]
  },
  {
   "cell_type": "code",
   "execution_count": null,
   "id": "7a70c05f",
   "metadata": {
    "dotnet_interactive": {
     "language": "fsharp"
    }
   },
   "outputs": [],
   "source": [
    "// instantiate the service\n",
    "let service = new StaticDataService.StaticDataServiceClient(channel)"
   ]
  },
  {
   "cell_type": "markdown",
   "id": "6ef6910f",
   "metadata": {},
   "source": [
    "### Step 4: Create and process request"
   ]
  },
  {
   "cell_type": "markdown",
   "id": "76e29eb1",
   "metadata": {},
   "source": [
    "#### 4.1 Introduction\n",
    "The properties one can use as per filter field(s) in order to query the API for equities or futures are the following:\n",
    "* *Name*, *MIC*, *Ticker*, *Contract code*, *ISIN*, *Cusip*, *market data provider IDs*, etc.\n",
    "\n",
    "You can combine multiple filters in order to target more accurately your request. Combining filters act as a *AND* operator.\n",
    "\n",
    "The service returns *entries* matching the request filters.\n",
    "A reply contains two *arrays* dedicated for *futures* and *equities*. Keep in mind that these arrays might be empty depending on the query filters and the results.\n",
    "Other shared fields such as <i>`Name`</i> or <i>`Identifier`</i> are there to make it easier to identify the instrument needed (among possible other results).  \n",
    "Depending on the asset type, there might be additional fields for the aforementioned purpose.\n",
    "\n",
    "The following code snippets will expose the different ways to query for reference data, with different asset types and various parameters."
   ]
  },
  {
   "cell_type": "markdown",
   "id": "e292c2bf",
   "metadata": {},
   "source": [
    "#### 4.2 Retrieve reference data - Equities\n",
    "\n",
    "To request for equities, the user must specify the AssetType as <i>`AssetType.Equity`</i> in the static data request."
   ]
  },
  {
   "cell_type": "markdown",
   "id": "67a56923",
   "metadata": {},
   "source": [
    "##### 4.2.1 Equity - by Name"
   ]
  },
  {
   "cell_type": "code",
   "execution_count": null,
   "id": "803ae020",
   "metadata": {
    "dotnet_interactive": {
     "language": "fsharp"
    }
   },
   "outputs": [],
   "source": [
    "// Generate request\n",
    "let request = new StaticDataRequest(AssetType = AssetType.Equity, Name = \"Apple\")\n",
    "\n",
    "let reply = service.StaticData(request, headers)\n",
    "display(reply.Equities)"
   ]
  },
  {
   "cell_type": "markdown",
   "id": "41baac3b",
   "metadata": {},
   "source": [
    "##### 4.2.2 Equity - by MIC code"
   ]
  },
  {
   "cell_type": "code",
   "execution_count": null,
   "id": "c83ac539",
   "metadata": {
    "dotnet_interactive": {
     "language": "fsharp"
    }
   },
   "outputs": [],
   "source": [
    "let request = \n",
    "  new StaticDataRequest(\n",
    "    AssetType = AssetType.Equity,\n",
    "    Exchange = \"XNGS\", \n",
    "    Count = 3, // Select the first elements\n",
    "    Start = 2 // Starting from element index\n",
    "  )\n",
    "\n",
    "let reply = service.StaticData(request, headers)\n",
    "display(reply.Equities)"
   ]
  },
  {
   "cell_type": "markdown",
   "id": "4aafdce3",
   "metadata": {},
   "source": [
    "##### 4.2.3 Equity - by Ticker"
   ]
  },
  {
   "cell_type": "code",
   "execution_count": null,
   "id": "820ac9bc",
   "metadata": {
    "dotnet_interactive": {
     "language": "fsharp"
    }
   },
   "outputs": [],
   "source": [
    "let request = \n",
    "  new StaticDataRequest(\n",
    "    AssetType = AssetType.Equity,\n",
    "    Ticker = \"AAPL\"\n",
    "  )\n",
    "\n",
    "let reply = service.StaticData(request, headers)\n",
    "display(reply.Equities)"
   ]
  },
  {
   "cell_type": "markdown",
   "id": "bd80cf9e",
   "metadata": {},
   "source": [
    "##### 4.2.4 Equity - by Codes"
   ]
  },
  {
   "cell_type": "code",
   "execution_count": null,
   "id": "7e8600a2",
   "metadata": {
    "dotnet_interactive": {
     "language": "fsharp"
    }
   },
   "outputs": [],
   "source": [
    "let request = \n",
    "  new StaticDataRequest(\n",
    "    AssetType = AssetType.Equity,\n",
    "    Code = \"US0378331005\" // ISIN code\n",
    "  )\n",
    "let reply = service.StaticData(request, headers)\n",
    "display(reply.Equities)"
   ]
  },
  {
   "cell_type": "code",
   "execution_count": null,
   "id": "03b83206",
   "metadata": {
    "dotnet_interactive": {
     "language": "fsharp"
    }
   },
   "outputs": [],
   "source": [
    "let request = \n",
    "  new StaticDataRequest(\n",
    "    AssetType = AssetType.Equity,\n",
    "    Code = \"BBG000B9Y6P9\" // Bloomberg Figi code\n",
    "  )\n",
    "\n",
    "let reply = service.StaticData(request, headers)\n",
    "display(reply.Equities)"
   ]
  },
  {
   "cell_type": "markdown",
   "id": "605bf4c5",
   "metadata": {},
   "source": [
    "##### 4.2.5 Equity - by Ticker + MIC code"
   ]
  },
  {
   "cell_type": "code",
   "execution_count": null,
   "id": "28eed69c",
   "metadata": {
    "dotnet_interactive": {
     "language": "fsharp"
    }
   },
   "outputs": [],
   "source": [
    "// The service also enables to query with multiple filters as follows\n",
    "let request = \n",
    "  new StaticDataRequest(\n",
    "    AssetType = AssetType.Equity,\n",
    "    Ticker = \"AAPL\",\n",
    "    Exchange = \"BATS\"\n",
    "  )\n",
    "\n",
    "let reply = service.StaticData(request, headers)\n",
    "display(reply.Equities)"
   ]
  },
  {
   "cell_type": "markdown",
   "id": "d6f41bb7",
   "metadata": {},
   "source": [
    "##### 4.2.6 Equity - index components"
   ]
  },
  {
   "cell_type": "code",
   "execution_count": null,
   "id": "61fff4c6",
   "metadata": {
    "dotnet_interactive": {
     "language": "fsharp"
    }
   },
   "outputs": [],
   "source": [
    "// Get an  index components\n",
    "let request = \n",
    "  new StaticDataRequest(\n",
    "    AssetType = AssetType.Equity,\n",
    "    Index = \"NASDAQ 100\",\n",
    "    Count = 10\n",
    "  )\n",
    "\n",
    "let reply = service.StaticData(request, headers)\n",
    "display(reply.Equities)"
   ]
  },
  {
   "cell_type": "markdown",
   "id": "78726025",
   "metadata": {},
   "source": [
    "##### 4.2.7 Equity - sectors"
   ]
  },
  {
   "cell_type": "code",
   "execution_count": null,
   "id": "f90d2775",
   "metadata": {
    "dotnet_interactive": {
     "language": "fsharp"
    }
   },
   "outputs": [],
   "source": [
    "// Get equities by sectors\n",
    "let request = \n",
    "  new StaticDataRequest(\n",
    "    AssetType = AssetType.Equity,\n",
    "    EquitySector = \"Electronic Computers\",\n",
    "    Count = 10\n",
    "  )\n",
    "\n",
    "let reply = service.StaticData(request, headers)\n",
    "display(reply.Equities)"
   ]
  },
  {
   "cell_type": "markdown",
   "id": "4f3990ab",
   "metadata": {},
   "source": [
    "#### 4.3 Retrieve reference data - Futures\n",
    "\n",
    "To request for futures, the user must specify the AssetType as <i>`AssetType.Future`</i> in the static data request."
   ]
  },
  {
   "cell_type": "markdown",
   "id": "3fd9f809",
   "metadata": {},
   "source": [
    "##### 4.3.1 Future - by Name"
   ]
  },
  {
   "cell_type": "code",
   "execution_count": null,
   "id": "6d49ab10",
   "metadata": {
    "dotnet_interactive": {
     "language": "fsharp"
    }
   },
   "outputs": [],
   "source": [
    "let request = \n",
    "  new StaticDataRequest(\n",
    "    AssetType = AssetType.Future,\n",
    "    Name = \"WTI Crude Futures\"\n",
    "  )\n",
    "\n",
    "let reply = service.StaticData(request, headers)\n",
    "reply.Futures\n",
    "|> Seq.sortBy (fun f -> f.Maturity.Year * 16 + f.Maturity.Month )\n",
    "|> display"
   ]
  },
  {
   "cell_type": "markdown",
   "id": "40127ed3",
   "metadata": {},
   "source": [
    "##### 4.3.2 Future - by Future contract"
   ]
  },
  {
   "cell_type": "code",
   "execution_count": null,
   "id": "4f2ed731",
   "metadata": {
    "dotnet_interactive": {
     "language": "fsharp"
    }
   },
   "outputs": [],
   "source": [
    "let request = \n",
    "  new StaticDataRequest(\n",
    "    AssetType = AssetType.Future,\n",
    "    FutureContract = \"WBS\"\n",
    "  )\n",
    "\n",
    "let reply = service.StaticData(request, headers)\n",
    "reply.Futures\n",
    "|> Seq.sortBy (fun f -> f.Maturity.Year * 16 + f.Maturity.Month)\n",
    "|> display"
   ]
  },
  {
   "cell_type": "markdown",
   "id": "1e6ea682",
   "metadata": {},
   "source": [
    "##### 4.3.3 Future - by Ticker"
   ]
  },
  {
   "cell_type": "code",
   "execution_count": null,
   "id": "a4862c20",
   "metadata": {
    "dotnet_interactive": {
     "language": "fsharp"
    }
   },
   "outputs": [],
   "source": [
    "let request = \n",
    "  new StaticDataRequest(\n",
    "    AssetType = AssetType.Future,\n",
    "    Ticker = \"WBSH20\"\n",
    "  )\n",
    "\n",
    "let reply = service.StaticData(request, headers)\n",
    "reply.Futures\n",
    "|> display"
   ]
  },
  {
   "cell_type": "markdown",
   "id": "b9310595",
   "metadata": {},
   "source": [
    "##### 4.3.4 Future - by Category"
   ]
  },
  {
   "cell_type": "code",
   "execution_count": null,
   "id": "19e7511d",
   "metadata": {
    "dotnet_interactive": {
     "language": "fsharp"
    }
   },
   "outputs": [],
   "source": [
    "let request = \n",
    "  new StaticDataRequest(\n",
    "    AssetType = AssetType.Future,\n",
    "    FutureCategory = \"Crude Oil\",\n",
    "    Count = 3\n",
    "  )\n",
    "\n",
    "let reply = service.StaticData(request, headers)\n",
    "reply.Futures\n",
    "|> display"
   ]
  }
 ],
 "metadata": {
  "kernelspec": {
   "display_name": ".NET (F#)",
   "language": "F#",
   "name": ".net-fsharp"
  },
  "language_info": {
   "file_extension": ".fs",
   "mimetype": "text/x-fsharp",
   "name": "F#",
   "pygments_lexer": "fsharp",
   "version": "5.0"
  }
 },
 "nbformat": 4,
 "nbformat_minor": 5
}
