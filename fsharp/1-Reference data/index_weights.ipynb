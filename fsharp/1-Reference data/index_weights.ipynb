{
 "cells": [
  {
   "cell_type": "markdown",
   "id": "direct-stamp",
   "metadata": {},
   "source": [
    "# Generate index weights open dedicated service - F#\n",
    "\n",
    "### Overview\n",
    "Reference data encompasses a wide range of specification data about:\n",
    "* financial instrument such as asset class, symbol, maturity, etc.\n",
    "* counterparties such as issuer information.\n",
    "* pricing such as Open, high low and close prices.\n",
    "\n",
    "The challenge with reference data is that it tends to be sourced from multiple sources: internal, counterparties and providers.\n",
    "\n",
    "Reference data dedicated service is a result of various data sources and fields sourcing, validation, cross-checking and normalization.<br>\n",
    "\n",
    "This sample requests **on-demand** exchange data and enables fields mapping by calling a dedicated static data service, making available clean data.\n",
    "\n",
    "### Inputs/outputs\n",
    "Index weights sample is designed to help you searching and requesting index components reference data by using a wide range of commonly used fields.\n",
    "\n",
    "It takes an index code as per input filter and returns index components and weights.\n",
    "\n",
    "### Services used\n",
    "This sample uses *gRPC requests* in order to retrieve index components and weights from the hosted service. The queried endpoint in this script are:\n",
    "* *ComponentsService*: to directly retrieve index data objects from the server\n",
    "\n",
    "### Packages required\n",
    "1. Systemathics packages:\n",
    "    * *Systemathics.Apis.Type.Shared.V1*\n",
    "    * *Systemathics.Apis.Services.Indices.V1*\n",
    "2. Open source packages\n",
    "    * *Google.Protobuf.WellKnownTypes*\n",
    "    * *Google.Type*\n",
    "    * *Grpc.Net.Client*\n",
    "    * *Grpc.Core*\n",
    "\n",
    "***"
   ]
  },
  {
   "cell_type": "markdown",
   "id": "quarterly-orientation",
   "metadata": {},
   "source": [
    "# Run Index weights sample"
   ]
  },
  {
   "cell_type": "markdown",
   "id": "norwegian-indonesia",
   "metadata": {},
   "source": [
    "### Step 1: Install packages"
   ]
  },
  {
   "cell_type": "code",
   "execution_count": null,
   "id": "permanent-opinion",
   "metadata": {
    "dotnet_interactive": {
     "language": "fsharp"
    },
    "vscode": {
     "languageId": "polyglot-notebook"
    }
   },
   "outputs": [],
   "source": [
    "#i \"nuget: file:///home/jovyan/.nuget/packages/\"\n",
    "#i \"nuget: https://api.nuget.org/v3/index.json\"\n",
    "#r \"nuget: Systemathics.Apis, 2.32.*\"\n",
    "#r \"nuget: CsvHelper\"\n",
    "#r \"nuget: XPlot.Plotly.Interactive, 4.0.6\""
   ]
  },
  {
   "cell_type": "code",
   "execution_count": null,
   "id": "still-arrest",
   "metadata": {
    "dotnet_interactive": {
     "language": "fsharp"
    },
    "vscode": {
     "languageId": "polyglot-notebook"
    }
   },
   "outputs": [],
   "source": [
    "open Systemathics.Apis.Helpers\n",
    "open Systemathics.Apis.Type.Shared.V1\n",
    "open Systemathics.Apis.Services.Indices.V1\n",
    "open Google.Protobuf.WellKnownTypes\n",
    "open Google.Type\n",
    "open Grpc.Net.Client\n",
    "open Grpc.Core\n",
    "// Import/export csv files\n",
    "open CsvHelper\n",
    "open System.IO\n",
    "open System.Globalization\n",
    "// Plot graphs\n",
    "open XPlot.Plotly\n",
    "open XPlot.Plotly.Interactive"
   ]
  },
  {
   "cell_type": "markdown",
   "id": "minimal-partition",
   "metadata": {},
   "source": [
    "### Step 2: Prepare API requests\n",
    "The following code snippets retrieve authentication token and prepare the API request by: opening the *channel* and adding the *token* to the request header:"
   ]
  },
  {
   "cell_type": "code",
   "execution_count": null,
   "id": "endless-mother",
   "metadata": {
    "dotnet_interactive": {
     "language": "fsharp"
    },
    "vscode": {
     "languageId": "polyglot-notebook"
    }
   },
   "outputs": [],
   "source": [
    "// Get token as metadata\n",
    "let headers = TokenHelpers.GetTokenAsMetaData();\n",
    "\n",
    "// Create communication channel\n",
    "let channel = ChannelHelpers.GetChannel();"
   ]
  },
  {
   "cell_type": "markdown",
   "id": "coastal-tanzania",
   "metadata": {},
   "source": [
    "### Step 3: Request creation"
   ]
  },
  {
   "cell_type": "markdown",
   "id": "pleased-career",
   "metadata": {},
   "source": [
    "The following code snippet enables to select the **index** by its *Name*:"
   ]
  },
  {
   "cell_type": "code",
   "execution_count": null,
   "id": "incident-pollution",
   "metadata": {
    "dotnet_interactive": {
     "language": "fsharp"
    },
    "vscode": {
     "languageId": "polyglot-notebook"
    }
   },
   "outputs": [],
   "source": [
    "// Set index name\n",
    "let index = \"nasdaq 100\""
   ]
  },
  {
   "cell_type": "markdown",
   "id": "prospective-constitutional",
   "metadata": {},
   "source": [
    "The following code snippets call the service, generate the request and return the reply: "
   ]
  },
  {
   "cell_type": "code",
   "execution_count": null,
   "id": "incredible-farming",
   "metadata": {
    "dotnet_interactive": {
     "language": "fsharp"
    },
    "vscode": {
     "languageId": "polyglot-notebook"
    }
   },
   "outputs": [],
   "source": [
    "// Instantiate the indice components service\n",
    "let service = new ComponentsService.ComponentsServiceClient(channel)\n",
    "\n",
    "// Generate the indice components request\n",
    "let request = new ComponentsRequest( Identifier = index )\n",
    "\n",
    "// Process the indice components response\n",
    "let reply = service.Components(request, headers)\n",
    "\n",
    "// Display the results\n",
    "display(reply.Components)"
   ]
  },
  {
   "cell_type": "markdown",
   "id": "intermediate-humanitarian",
   "metadata": {},
   "source": [
    "### Step 4: Retrieve index data"
   ]
  },
  {
   "cell_type": "markdown",
   "id": "metric-trash",
   "metadata": {},
   "source": [
    "#### 4.1 Export index data"
   ]
  },
  {
   "cell_type": "markdown",
   "id": "binding-detail",
   "metadata": {},
   "source": [
    "The following code snippet exports index data to a *csv file*:"
   ]
  },
  {
   "cell_type": "code",
   "execution_count": null,
   "id": "neither-inspection",
   "metadata": {
    "dotnet_interactive": {
     "language": "fsharp"
    },
    "vscode": {
     "languageId": "polyglot-notebook"
    }
   },
   "outputs": [],
   "source": [
    "let d = new DirectoryInfo(\"output\") \n",
    "d.Create()\n",
    "let write instruments =\n",
    "    let writeRecords (csv : CsvWriter) i =\n",
    "        csv.WriteRecords(i)\n",
    "    let write' (writer : StreamWriter )  i =\n",
    "        using (new CsvWriter(writer, CultureInfo.InvariantCulture)) (fun csv -> writeRecords csv i )\n",
    "    using (new StreamWriter($\"output/{index}.csv\")) (fun writer -> write' writer instruments)\n",
    "\n",
    "\n",
    "reply.Components\n",
    "|> write"
   ]
  },
  {
   "cell_type": "markdown",
   "id": "presidential-economy",
   "metadata": {},
   "source": [
    "#### 4.2 Visualize index data"
   ]
  },
  {
   "cell_type": "markdown",
   "id": "progressive-requirement",
   "metadata": {},
   "source": [
    "The following code snippet displays index components and weights. <br>*`XPlot.Plotly`* is used as per open source display package. "
   ]
  },
  {
   "cell_type": "code",
   "execution_count": null,
   "id": "quick-visiting",
   "metadata": {
    "dotnet_interactive": {
     "language": "fsharp"
    },
    "vscode": {
     "languageId": "polyglot-notebook"
    }
   },
   "outputs": [],
   "source": [
    "reply.Components\n",
    "|> Seq.map (fun elt -> (elt.Identifier.Ticker, elt.Weight))\n",
    "|> Chart.Pie\n",
    "|> Chart.WithTitle $\"{index} components and weights\"\n",
    "|> Chart.WithWidth 1500\n",
    "|> Chart.WithHeight 800\n",
    "|> display\n",
    "\n"
   ]
  }
 ],
 "metadata": {
  "kernelspec": {
   "display_name": ".NET (F#)",
   "language": "F#",
   "name": ".net-fsharp"
  },
  "language_info": {
   "name": "F#"
  }
 },
 "nbformat": 4,
 "nbformat_minor": 5
}
