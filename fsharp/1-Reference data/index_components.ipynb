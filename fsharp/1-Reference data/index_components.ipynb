{
 "cells": [
  {
   "cell_type": "markdown",
   "id": "vietnamese-access",
   "metadata": {},
   "source": [
    "# Generate index components using dedicated service - F#\n",
    "\n",
    "### Overview\n",
    "Reference data encompasses a wide range of specification data about:\n",
    "* financial instrument such as asset class, symbol, maturity, etc.\n",
    "* counterparties such as issuer information.\n",
    "* pricing such as Open, high low and close prices.\n",
    "\n",
    "The challenge with reference data is that it tends to be sourced from multiple sources: internal, counterparties and providers.\n",
    "\n",
    "Reference data dedicated service is a result of various data sources and fields sourcing, validation, cross-checking and normalization.<br>\n",
    "\n",
    "This sample requests **on-demand** exchange data and enables fields mapping by calling a dedicated static data service, making available clean data.\n",
    "\n",
    "### Inputs/outputs\n",
    "Index sample is designed to help you searching and requesting index components reference data by using a wide range of commonly used fields.\n",
    "\n",
    "It takes an index code as per input filter and returns the *entries* matching the request.\n",
    "\n",
    "### Services used\n",
    "This sample uses *gRPC requests* in order to retrieve index components reference data from the hosted service. The queried endpoint in this script are:\n",
    "* *StaticDataService*: to directly retrieve reference data objects from the server\n",
    "\n",
    "### Packages required\n",
    "1. Systemathics packages:\n",
    "    * *Systemathics.Apis.Type.Shared.V1*\n",
    "    * *Systemathics.Apis.Services.StaticData.V1*\n",
    "2. Open source packages\n",
    "    * *Google.Protobuf.WellKnownTypes*\n",
    "    * *Google.Type*\n",
    "    * *Grpc.Net.Client*\n",
    "    * *Grpc.Core*\n",
    "\n",
    "***"
   ]
  },
  {
   "cell_type": "markdown",
   "id": "paperback-deficit",
   "metadata": {},
   "source": [
    "# Run Index components sample"
   ]
  },
  {
   "cell_type": "markdown",
   "id": "cultural-bloom",
   "metadata": {},
   "source": [
    "### Step 1: Install packages"
   ]
  },
  {
   "cell_type": "code",
   "execution_count": null,
   "id": "curious-happening",
   "metadata": {
    "dotnet_interactive": {
     "language": "fsharp"
    },
    "vscode": {
     "languageId": "dotnet-interactive.fsharp"
    }
   },
   "outputs": [],
   "source": [
    "#i \"nuget: file:///home/jovyan/.nuget/packages/\"\n",
    "#i \"nuget: https://api.nuget.org/v3/index.json\"\n",
    "#r \"nuget: Systemathics.Apis, 2.33.*-pre*\"\n",
    "#r \"nuget: CsvHelper\""
   ]
  },
  {
   "cell_type": "code",
   "execution_count": null,
   "id": "double-position",
   "metadata": {
    "dotnet_interactive": {
     "language": "fsharp"
    },
    "vscode": {
     "languageId": "dotnet-interactive.fsharp"
    }
   },
   "outputs": [],
   "source": [
    "open Systemathics.Apis.Helpers\n",
    "open Systemathics.Apis.Type.Shared.V1\n",
    "open Systemathics.Apis.Services.StaticData.V1\n",
    "open Google.Protobuf.WellKnownTypes\n",
    "open Google.Type\n",
    "open Grpc.Net.Client\n",
    "open Grpc.Core\n",
    "// Import/export csv files\n",
    "open CsvHelper\n",
    "open System.IO\n",
    "open System.Globalization"
   ]
  },
  {
   "cell_type": "markdown",
   "id": "entire-founder",
   "metadata": {},
   "source": [
    "### Step 2: Prepare API requests\n",
    "The following code snippets retrieve authentication token and prepare the API request by: opening the *channel* and adding the *token* to the request header:"
   ]
  },
  {
   "cell_type": "code",
   "execution_count": null,
   "id": "accomplished-identification",
   "metadata": {
    "dotnet_interactive": {
     "language": "fsharp"
    },
    "vscode": {
     "languageId": "dotnet-interactive.fsharp"
    }
   },
   "outputs": [],
   "source": [
    "// Get token as metadata\n",
    "let headers = TokenHelpers.GetTokenAsMetaData();\n",
    "\n",
    "// Create communication channel\n",
    "let channel = ChannelHelpers.GetChannel();"
   ]
  },
  {
   "cell_type": "markdown",
   "id": "excellent-berry",
   "metadata": {},
   "source": [
    "### Step 3: Request creation"
   ]
  },
  {
   "cell_type": "markdown",
   "id": "about-period",
   "metadata": {},
   "source": [
    "The following code snippet enables to select the **index** by its *Name/code*:"
   ]
  },
  {
   "cell_type": "code",
   "execution_count": null,
   "id": "closing-designer",
   "metadata": {
    "dotnet_interactive": {
     "language": "fsharp"
    },
    "vscode": {
     "languageId": "dotnet-interactive.fsharp"
    }
   },
   "outputs": [],
   "source": [
    "// Set index and exchange codes\n",
    "let index = \"Nasdaq 100\"\n",
    "let exchange = \"XNGS\""
   ]
  },
  {
   "cell_type": "markdown",
   "id": "sapphire-cherry",
   "metadata": {},
   "source": [
    "The following code snippets call the service, generate the request and return the reply: "
   ]
  },
  {
   "cell_type": "code",
   "execution_count": null,
   "id": "norman-phrase",
   "metadata": {
    "dotnet_interactive": {
     "language": "fsharp"
    },
    "vscode": {
     "languageId": "dotnet-interactive.fsharp"
    }
   },
   "outputs": [],
   "source": [
    "// Instantiate the service\n",
    "let service = new StaticDataService.StaticDataServiceClient(channel)\n",
    "\n",
    "let request = new StaticDataRequest(AssetType = AssetType.Equity, Index = index,  Count = 1000 )// By default the count is set to 100, make sure to retrieve all the components\n",
    "\n",
    "// Call the service\n",
    "let reply = service.StaticData(request, headers)\n",
    "\n",
    "// Display the results\n",
    "display(reply.Equities.Count)"
   ]
  },
  {
   "cell_type": "markdown",
   "id": "electrical-victor",
   "metadata": {},
   "source": [
    "### Step 4: Retrieve data"
   ]
  },
  {
   "cell_type": "markdown",
   "id": "novel-cartridge",
   "metadata": {},
   "source": [
    "#### 4.1 Retrieve instruments' identifiers (mapping)"
   ]
  },
  {
   "cell_type": "code",
   "execution_count": null,
   "id": "cubic-government",
   "metadata": {
    "dotnet_interactive": {
     "language": "fsharp"
    },
    "vscode": {
     "languageId": "dotnet-interactive.fsharp"
    }
   },
   "outputs": [],
   "source": [
    "// Create a class to handle the instrument's mapping codes\n",
    "type Instrument =\n",
    "    {\n",
    "        Ticker: string\n",
    "        Exchange: string\n",
    "        Name: string\n",
    "        Isin: string\n",
    "        Cusip: string\n",
    "        Sedol: string\n",
    "        Bloomberg: string\n",
    "    }\n",
    "\n",
    "let instruments =\n",
    "    reply.Equities\n",
    "    |> Seq.filter (fun e -> e.Identifier.Exchange = exchange )\n",
    "    |> Seq.map(fun e -> { Ticker = e.Identifier.Ticker; Exchange = e.Identifier.Exchange; Name = e.Name; Isin = e.Isin; Cusip = e.Cusip; Sedol = e.Sedol; Bloomberg = if e.Mapping.ContainsKey(\"Bloomberg\") then e.Mapping.[\"Bloomberg\"] else String.Empty })"
   ]
  },
  {
   "cell_type": "code",
   "execution_count": null,
   "id": "sharing-corner",
   "metadata": {
    "dotnet_interactive": {
     "language": "fsharp"
    },
    "vscode": {
     "languageId": "dotnet-interactive.fsharp"
    }
   },
   "outputs": [],
   "source": [
    "display(instruments)"
   ]
  },
  {
   "cell_type": "markdown",
   "id": "aging-beijing",
   "metadata": {},
   "source": [
    "The following code snippet exports data to *csv* file:"
   ]
  },
  {
   "cell_type": "code",
   "execution_count": null,
   "id": "sporting-drive",
   "metadata": {
    "dotnet_interactive": {
     "language": "fsharp"
    },
    "vscode": {
     "languageId": "dotnet-interactive.fsharp"
    }
   },
   "outputs": [],
   "source": [
    "let d = new DirectoryInfo(\"output\") \n",
    "d.Create()\n",
    "let write instruments =\n",
    "    let writeRecords (csv : CsvWriter) i =\n",
    "        csv.WriteRecords(i)\n",
    "    let write' (writer : StreamWriter )  i =\n",
    "        using (new CsvWriter(writer, CultureInfo.InvariantCulture)) (fun csv -> writeRecords csv i )\n",
    "    using (new StreamWriter($\"output/{index}.csv\")) (fun writer -> write' writer instruments)\n",
    "\n",
    "instruments\n",
    "|> write"
   ]
  }
 ],
 "metadata": {
  "kernelspec": {
   "display_name": ".NET (F#)",
   "language": "F#",
   "name": ".net-fsharp"
  },
  "language_info": {
   "name": "F#"
  }
 },
 "nbformat": 4,
 "nbformat_minor": 5
}
