{
 "cells": [
  {
   "cell_type": "markdown",
   "metadata": {},
   "source": [
    "# Generate daily prices using daily data service with or without corporate actions adjustments - Python\n",
    "\n",
    "### Overview\n",
    "Daily prices is designed to illustrate price movements for an instrument over a look back period.\n",
    "\n",
    "This sample demonstrates how to directly request and plot daily prices.<br>\n",
    "\n",
    "It enables to retrieve **on-demand** daily prices data by calling a dedicated service on a `daily data store`. \n",
    "\n",
    "### Inputs/outputs\n",
    "Daily prices sample requires instrument's identifier as per input. It returns daily prices and volumes.\n",
    "This sample shows the differences when adjusting the prices with corporate actions.\n",
    "\n",
    "### Services used\n",
    "This sample uses *gRPC requests* in order to retrieve daily bars from the dedicated hosted service. The queried endpoint in this script are:\n",
    "* *DailyPricesService*: to directly retrieve daily price objects from the server\n",
    "\n",
    "### Modules required\n",
    "1. Systemathics:\n",
    "    * *systemathics.apis.type.shared.v1*\n",
    "    * *systemathics.apis.services.daily.v1*\n",
    "2. Open source:\n",
    "    * *googleapis-common-protos*\n",
    "    * *protobuf*\n",
    "    * *grpcio*\n",
    "    * *pandas*\n",
    "    * *plotly* and *matplotlib* as per display package\n",
    "\n",
    "***"
   ]
  },
  {
   "cell_type": "markdown",
   "metadata": {},
   "source": [
    "# Run intraday bars sample"
   ]
  },
  {
   "cell_type": "markdown",
   "metadata": {},
   "source": [
    "### Step 1: Install packages and import them"
   ]
  },
  {
   "cell_type": "code",
   "execution_count": null,
   "metadata": {},
   "outputs": [],
   "source": [
    "pip install googleapis-common-protos protobuf grpcio pandas mplfinance plotly systemathics.apis"
   ]
  },
  {
   "cell_type": "code",
   "execution_count": null,
   "metadata": {},
   "outputs": [],
   "source": [
    "import os\n",
    "import csv\n",
    "import grpc\n",
    "import pandas as pd\n",
    "from datetime import datetime\n",
    "import systemathics.apis.type.shared.v1.identifier_pb2 as identifier\n",
    "import systemathics.apis.services.daily.v1.daily_prices_pb2 as daily_prices\n",
    "import systemathics.apis.services.daily.v1.daily_prices_pb2_grpc as daily_prices_service\n",
    "import systemathics.apis.helpers.token_helpers as token_helpers\n",
    "import systemathics.apis.helpers.channel_helpers as channel_helpers"
   ]
  },
  {
   "cell_type": "markdown",
   "metadata": {},
   "source": [
    "### Step 2: Retrieve authentication token\n",
    "The following code snippet sends authentication request and print token to console output in order to process the upcomming *gRPC queries*."
   ]
  },
  {
   "cell_type": "code",
   "execution_count": null,
   "metadata": {},
   "outputs": [],
   "source": [
    "token = token_helpers.get_token()\n",
    "display(token)"
   ]
  },
  {
   "cell_type": "markdown",
   "metadata": {},
   "source": [
    "### Step 3: Create and process request"
   ]
  },
  {
   "cell_type": "markdown",
   "metadata": {},
   "source": [
    "#### 3.1 Request Parameters\n",
    "To request *daily prices* service, we need to specify:\n",
    "* Instrument identifier\n",
    "* Time period selection: select start and end dates\n",
    "* Service called: *DailyPricesService* in order to retrieve daily data"
   ]
  },
  {
   "cell_type": "code",
   "execution_count": null,
   "metadata": {},
   "outputs": [],
   "source": [
    "# set the instrument\n",
    "ticker = 'AAPL'\n",
    "exchange = 'XNGS'"
   ]
  },
  {
   "cell_type": "markdown",
   "metadata": {},
   "source": [
    "#### 3.2 Request creation\n",
    "The following code snippet creates *gRPC client*, process request and returns request reply."
   ]
  },
  {
   "cell_type": "code",
   "execution_count": null,
   "metadata": {},
   "outputs": [],
   "source": [
    "# Non adjusted\n",
    "request = daily_prices.DailyPricesRequest(\n",
    "    identifier = identifier.Identifier(exchange = exchange, ticker = ticker),\n",
    "    adjustment = False\n",
    ")"
   ]
  },
  {
   "cell_type": "code",
   "execution_count": null,
   "metadata": {},
   "outputs": [],
   "source": [
    "try:\n",
    "    # open a gRPC channel\n",
    "    with channel_helpers.get_grpc_channel() as channel:  \n",
    "        \n",
    "        # instantiate the daily prices service\n",
    "        service = daily_prices_service.DailyPricesServiceStub(channel)\n",
    "        \n",
    "        # process the daily prices request\n",
    "        response = service.DailyPrices(\n",
    "            request = request, \n",
    "            metadata = [('authorization', token)]\n",
    "        )\n",
    "except grpc.RpcError as e:\n",
    "    display(e.code().name)\n",
    "    display(e.details())"
   ]
  },
  {
   "cell_type": "code",
   "execution_count": null,
   "metadata": {},
   "outputs": [],
   "source": [
    "# With adjustments\n",
    "request_adjusted = daily_prices.DailyPricesRequest(\n",
    "    identifier = identifier.Identifier(exchange = exchange, ticker = ticker),\n",
    "    adjustment = True\n",
    ")"
   ]
  },
  {
   "cell_type": "code",
   "execution_count": null,
   "metadata": {},
   "outputs": [],
   "source": [
    "try:\n",
    "    # open a gRPC channel\n",
    "    with channel_helpers.get_grpc_channel() as channel:  \n",
    "        \n",
    "        # instantiate the daily prices service\n",
    "        service = daily_prices_service.DailyPricesServiceStub(channel)\n",
    "        \n",
    "        # process the daily prices request\n",
    "        response_adjusted = service.DailyPrices(\n",
    "            request = request_adjusted, \n",
    "            metadata = [('authorization', token)]\n",
    "        )\n",
    "except grpc.RpcError as e:\n",
    "    display(e.code().name)\n",
    "    display(e.details())"
   ]
  },
  {
   "cell_type": "code",
   "execution_count": null,
   "metadata": {},
   "outputs": [],
   "source": [
    "print(\"Total bars retrieved without adjustments: \", len(response.data))\n",
    "print(\"Total bars retrieved with adjustments: \", len(response_adjusted.data))"
   ]
  },
  {
   "cell_type": "markdown",
   "metadata": {},
   "source": [
    "### Step 4: Export data\n",
    "In the following code snippets, the reply is reprocessed in a data frame in order to visualize the results with ease:"
   ]
  },
  {
   "cell_type": "code",
   "execution_count": null,
   "metadata": {},
   "outputs": [],
   "source": [
    "#pPrepare the data frame content\n",
    "dates=[datetime(p.date.year, p.date.month, p.date.day) for p in response.data]\n",
    "prices = [p.price for p in response.data]\n",
    "volumes = [p.volume for p in response.data]\n",
    "scores = [p.score for p in response.data]\n",
    "\n",
    "prices_adjusted = [p.price for p in response_adjusted.data]\n",
    "volumes_adjusted = [p.volume for p in response_adjusted.data]\n",
    "scores_adjusted = [p.score for p in response_adjusted.data]\n",
    "\n",
    "d = {'Date': dates, 'Price': prices,'Volume': volumes, 'Score': scores, 'Price_adjusted': prices_adjusted, 'Volume_adjusted':volumes_adjusted, 'Score_adjusted': scores_adjusted}"
   ]
  },
  {
   "cell_type": "code",
   "execution_count": null,
   "metadata": {},
   "outputs": [],
   "source": [
    "# create pandas dataframe\n",
    "df = pd.DataFrame(data=d)\n",
    "df"
   ]
  },
  {
   "cell_type": "code",
   "execution_count": null,
   "metadata": {},
   "outputs": [],
   "source": [
    "filename = 'Export/{0}-{1}-dailyprices-comparison.csv'.format(ticker, exchange)\n",
    "df.to_csv(filename, index=False)"
   ]
  },
  {
   "cell_type": "markdown",
   "metadata": {},
   "source": [
    "### 5 Plot prices in both cases\n",
    "The following code snippets display daily bars' request results with the package of your choice.<br>*`plotly`* is used as per open source display package."
   ]
  },
  {
   "cell_type": "markdown",
   "metadata": {},
   "source": [
    "#### 5.1 Plot non adjusted daily prices"
   ]
  },
  {
   "cell_type": "code",
   "execution_count": null,
   "metadata": {},
   "outputs": [],
   "source": [
    "import plotly.graph_objects as go\n",
    "from plotly.subplots import make_subplots"
   ]
  },
  {
   "cell_type": "code",
   "execution_count": null,
   "metadata": {},
   "outputs": [],
   "source": [
    "# Set date as index\n",
    "#df = df.set_index('Date')\n",
    "#df"
   ]
  },
  {
   "cell_type": "code",
   "execution_count": null,
   "metadata": {},
   "outputs": [],
   "source": [
    "# Create figure with secondary y-axis\n",
    "fig = make_subplots(specs=[[{\"secondary_y\": True}]])\n",
    "\n",
    "fig.add_trace(go.Scatter(x=df['Date'], y=df['Price'], name='Price'), secondary_y=True)\n",
    "fig.add_trace(go.Bar(x=df['Date'], y=df['Volume'], name=\"Size\"), secondary_y=False)\n",
    "\n",
    "fig.update_xaxes(title_text = 'Date')\n",
    "fig.update_layout(title = 'Daily prices and sizes for {0}-{1} without corporate actions adjustments'.format(ticker,exchange))\n",
    "fig.layout.yaxis2.showgrid=False\n",
    "fig.show()"
   ]
  },
  {
   "cell_type": "markdown",
   "metadata": {},
   "source": [
    "#### 5.2 Plot daily prices adjusted with corporate actions"
   ]
  },
  {
   "cell_type": "code",
   "execution_count": null,
   "metadata": {},
   "outputs": [],
   "source": [
    "# Create figure with secondary y-axis\n",
    "fig = make_subplots(specs=[[{\"secondary_y\": True}]])\n",
    "\n",
    "fig.add_trace(go.Scatter(x=df['Date'], y=df['Price_adjusted'], name='Price_adjusted'), secondary_y=True)\n",
    "fig.add_trace(go.Bar(x=df['Date'], y=df['Volume_adjusted'], name=\"Size_adjusted\"), secondary_y=False)\n",
    "\n",
    "fig.update_xaxes(title_text = 'Date')\n",
    "fig.update_layout(title = 'Daily prices and sizes for {0}-{1} with corporate actions adjustments'.format(ticker,exchange))\n",
    "fig.layout.yaxis2.showgrid=False\n",
    "fig.show()"
   ]
  },
  {
   "cell_type": "markdown",
   "metadata": {},
   "source": []
  }
 ],
 "metadata": {
  "kernelspec": {
   "display_name": "Python 3 (ipykernel)",
   "language": "python",
   "name": "python3"
  },
  "language_info": {
   "codemirror_mode": {
    "name": "ipython",
    "version": 3
   },
   "file_extension": ".py",
   "mimetype": "text/x-python",
   "name": "python",
   "nbconvert_exporter": "python",
   "pygments_lexer": "ipython3",
   "version": "3.9.7"
  }
 },
 "nbformat": 4,
 "nbformat_minor": 4
}
