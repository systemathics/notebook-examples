{
 "cells": [
  {
   "cell_type": "markdown",
   "metadata": {},
   "source": [
    "# Generate daily VWAP using dedicated service with or without corporate actions adjustments - Python\n",
    "\n",
    "### Overview\n",
    "The Volume Weighted Average price is similar to a moving average, except volume is included to weight the average price over a one trading day period.\n",
    "\n",
    "It serves as a reference point for one trading day prices. Comparing current prices with the VWAP values enables to:\n",
    "* mesure trading efficiency by comparing individual trades to VWAP\n",
    "* highlight liquidity points as vwap reflects prices levels weighted by volume\n",
    "* determine the intraday trend\n",
    "* etc.\n",
    "\n",
    "This sample demonstrates how to request and plot **on-demand** VWAP price from a dedicated `daily data store`.\n",
    "\n",
    "### Inputs/outputs\n",
    "Daily VWAP indicator requires instrument's identifier, date time intervals and time range as per inputs and returns the daily VWAP data points.\n",
    "\n",
    "VWAP is a cumulative indicator which means the number of data points progressively increases throughtout the day.\n",
    "\n",
    "This sample shows the differences when adjusting the bars with corporate actions.\n",
    "\n",
    "### Services used\n",
    "This sample uses gRPC requests in order to retrieve VWAP indicator from the hosted service. The queried endpoint in this script are:\n",
    "* *DailyVwapsService*: to directly retrieve daily VWAP objects from the server\n",
    "\n",
    "### Modules required\n",
    "1. Systemathics:\n",
    "    * *systemathics.apis.type.shared.v1*\n",
    "    * *systemathics.apis.services.daily.v1*\n",
    "2. Open source:\n",
    "    * *googleapis-common-protos*\n",
    "    * *protobuf*\n",
    "    * *grpcio*\n",
    "    * *pandas*\n",
    "    * *plotly* and *matplotlib* as per display package\n",
    "\n",
    "***"
   ]
  },
  {
   "cell_type": "markdown",
   "metadata": {},
   "source": [
    "# Run intraday bars sample"
   ]
  },
  {
   "cell_type": "markdown",
   "metadata": {},
   "source": [
    "### Step 1: Install packages and import them"
   ]
  },
  {
   "cell_type": "code",
   "execution_count": null,
   "metadata": {},
   "outputs": [],
   "source": [
    "pip install googleapis-common-protos protobuf grpcio pandas mplfinance plotly"
   ]
  },
  {
   "cell_type": "code",
   "execution_count": null,
   "metadata": {},
   "outputs": [],
   "source": [
    "pip install systemathics.apis==2.32.*"
   ]
  },
  {
   "cell_type": "code",
   "execution_count": null,
   "metadata": {},
   "outputs": [],
   "source": [
    "import os\n",
    "import csv\n",
    "import grpc\n",
    "import pandas as pd\n",
    "from datetime import datetime\n",
    "import systemathics.apis.type.shared.v1.identifier_pb2 as identifier\n",
    "import systemathics.apis.services.daily.v1.daily_vwap_pb2 as daily_vwap\n",
    "import systemathics.apis.services.daily.v1.daily_vwap_pb2_grpc as daily_vwap_service\n",
    "import systemathics.apis.helpers.token_helpers as token_helpers\n",
    "import systemathics.apis.helpers.channel_helpers as channel_helpers"
   ]
  },
  {
   "cell_type": "markdown",
   "metadata": {},
   "source": [
    "### Step 2: Retrieve authentication token\n",
    "The following code snippet sends authentication request and print token to console output in order to process the upcomming *gRPC queries*."
   ]
  },
  {
   "cell_type": "code",
   "execution_count": null,
   "metadata": {},
   "outputs": [],
   "source": [
    "token = token_helpers.get_token()\n",
    "display(token)"
   ]
  },
  {
   "cell_type": "markdown",
   "metadata": {},
   "source": [
    "### Step 3: Create and process request"
   ]
  },
  {
   "cell_type": "markdown",
   "metadata": {},
   "source": [
    "#### 3.1 Request Parameters\n",
    "To request *daily prices* service, we need to specify:\n",
    "* Instrument identifier\n",
    "* Time period selection: select start and end dates\n",
    "* Service called: *DailyPricesService* in order to retrieve daily data"
   ]
  },
  {
   "cell_type": "code",
   "execution_count": null,
   "metadata": {},
   "outputs": [],
   "source": [
    "# set the instrument\n",
    "ticker = 'ACA'\n",
    "exchange = 'XPAR'"
   ]
  },
  {
   "cell_type": "markdown",
   "metadata": {},
   "source": [
    "#### 3.2 Request creation\n",
    "The following code snippet creates *gRPC client*, process request and returns request reply."
   ]
  },
  {
   "cell_type": "code",
   "execution_count": null,
   "metadata": {},
   "outputs": [],
   "source": [
    "# Non adjusted\n",
    "request = daily_vwap.DailyVwapsRequest(\n",
    "    identifier = identifier.Identifier(exchange = exchange, ticker = ticker),\n",
    "    adjustment = False\n",
    ")"
   ]
  },
  {
   "cell_type": "code",
   "execution_count": null,
   "metadata": {},
   "outputs": [],
   "source": [
    "try:\n",
    "    # open a gRPC channel\n",
    "    with channel_helpers.get_grpc_channel() as channel:  \n",
    "        \n",
    "        # instantiate the daily prices service\n",
    "        service = daily_vwap_service.DailyVwapsServiceStub(channel)\n",
    "        \n",
    "        # process the daily prices request\n",
    "        response = service.DailyVwaps(\n",
    "            request = request, \n",
    "            metadata = [('authorization', token)]\n",
    "        )\n",
    "        print(\"Total daily prices retrieved: \",len(response.data))\n",
    "except grpc.RpcError as e:\n",
    "    display(e.code().name)\n",
    "    display(e.details())"
   ]
  },
  {
   "cell_type": "code",
   "execution_count": null,
   "metadata": {},
   "outputs": [],
   "source": [
    "# With adjustments\n",
    "request_adjusted = daily_vwap.DailyVwapsRequest(\n",
    "    identifier = identifier.Identifier(exchange = exchange, ticker = ticker),\n",
    "    adjustment = True\n",
    ")"
   ]
  },
  {
   "cell_type": "code",
   "execution_count": null,
   "metadata": {},
   "outputs": [],
   "source": [
    "try:\n",
    "    # open a gRPC channel\n",
    "    with channel_helpers.get_grpc_channel() as channel:  \n",
    "        \n",
    "        # instantiate the daily prices service\n",
    "        service = daily_vwap_service.DailyVwapsServiceStub(channel)\n",
    "        \n",
    "        # process the daily prices request\n",
    "        response_adjusted = service.DailyVwaps(\n",
    "            request = request_adjusted, \n",
    "            metadata = [('authorization', token)]\n",
    "        )\n",
    "except grpc.RpcError as e:\n",
    "    display(e.code().name)\n",
    "    display(e.details())"
   ]
  },
  {
   "cell_type": "code",
   "execution_count": null,
   "metadata": {},
   "outputs": [],
   "source": [
    "print(\"Total vwaps retrieved without adjustments: \", len(response.data))\n",
    "print(\"Total vwaps retrieved with adjustments: \", len(response_adjusted.data))"
   ]
  },
  {
   "cell_type": "markdown",
   "metadata": {},
   "source": [
    "### Step 4: Export data\n",
    "In the following code snippets, the reply is reprocessed in a data frame in order to visualize the results with ease:"
   ]
  },
  {
   "cell_type": "code",
   "execution_count": null,
   "metadata": {},
   "outputs": [],
   "source": [
    "#pPrepare the data frame content\n",
    "dates=[datetime(v.date.year, v.date.month, v.date.day) for v in response.data]\n",
    "vwaps = [v.price for v in response.data]\n",
    "volumes = [v.volume for v in response.data]\n",
    "scores = [v.score for v in response.data]\n",
    "\n",
    "vwaps_adjusted = [v.price for v in response_adjusted.data]\n",
    "volumes_adjusted = [v.volume for v in response_adjusted.data]\n",
    "scores_adjusted = [v.score for v in response_adjusted.data]\n",
    "\n",
    "d = {'Date': dates, 'Vwap': vwaps,'Volume': volumes,'Score': scores, 'Vwap_adjusted': vwaps_adjusted, 'Volume_adjusted':volumes_adjusted,'Score_adjusted': scores_adjusted}"
   ]
  },
  {
   "cell_type": "code",
   "execution_count": null,
   "metadata": {},
   "outputs": [],
   "source": [
    "# create pandas dataframe\n",
    "df = pd.DataFrame(data=d)\n",
    "df"
   ]
  },
  {
   "cell_type": "code",
   "execution_count": null,
   "metadata": {},
   "outputs": [],
   "source": [
    "os.makedirs('output', exist_ok=True)\n",
    "filename = 'output/{0}-{1}-dailyvwaps-comparison.csv'.format(ticker, exchange)\n",
    "df.to_csv(filename, index=False)"
   ]
  },
  {
   "cell_type": "markdown",
   "metadata": {},
   "source": [
    "### 5 Plot prices in both cases\n",
    "The following code snippets display daily bars' request results with the package of your choice.<br>*`plotly`* is used as per open source display package."
   ]
  },
  {
   "cell_type": "markdown",
   "metadata": {},
   "source": [
    "#### 5.1 Plot non adjusted daily prices"
   ]
  },
  {
   "cell_type": "code",
   "execution_count": null,
   "metadata": {},
   "outputs": [],
   "source": [
    "import plotly.graph_objects as go\n",
    "from plotly.subplots import make_subplots"
   ]
  },
  {
   "cell_type": "code",
   "execution_count": null,
   "metadata": {},
   "outputs": [],
   "source": [
    "# Set date as index\n",
    "#df = df.set_index('Date')\n",
    "#df"
   ]
  },
  {
   "cell_type": "code",
   "execution_count": null,
   "metadata": {},
   "outputs": [],
   "source": [
    "# Create figure with secondary y-axis\n",
    "fig = make_subplots(specs=[[{\"secondary_y\": True}]])\n",
    "\n",
    "fig.add_trace(go.Scatter(x=df['Date'], y=df['Vwap'], name='Vwap'), secondary_y=True)\n",
    "fig.add_trace(go.Bar(x=df['Date'], y=df['Volume'], name=\"Size\"), secondary_y=False)\n",
    "\n",
    "fig.update_xaxes(title_text = 'Date')\n",
    "fig.update_layout(title = 'Daily prices and sizes for {0}-{1} without corporate actions adjustments'.format(ticker,exchange))\n",
    "fig.layout.yaxis2.showgrid=False\n",
    "fig.show()"
   ]
  },
  {
   "cell_type": "markdown",
   "metadata": {},
   "source": [
    "#### 5.2 Plot daily prices adjusted with corporate actions"
   ]
  },
  {
   "cell_type": "code",
   "execution_count": null,
   "metadata": {},
   "outputs": [],
   "source": [
    "# Create figure with secondary y-axis\n",
    "fig = make_subplots(specs=[[{\"secondary_y\": True}]])\n",
    "\n",
    "fig.add_trace(go.Scatter(x=df['Date'], y=df['Vwap_adjusted'], name='Vwap_adjusted'), secondary_y=True)\n",
    "fig.add_trace(go.Bar(x=df['Date'], y=df['Volume_adjusted'], name=\"Size_adjusted\"), secondary_y=False)\n",
    "\n",
    "fig.update_xaxes(title_text = 'Date')\n",
    "fig.update_layout(title = 'Daily Vwap and sizes for {0}-{1} with corporate actions adjustments'.format(ticker,exchange))\n",
    "fig.layout.yaxis2.showgrid=False\n",
    "fig.show()"
   ]
  }
 ],
 "metadata": {
  "kernelspec": {
   "display_name": "Python 3.10.4 64-bit",
   "language": "python",
   "name": "python3"
  },
  "language_info": {
   "codemirror_mode": {
    "name": "ipython",
    "version": 3
   },
   "file_extension": ".py",
   "mimetype": "text/x-python",
   "name": "python",
   "nbconvert_exporter": "python",
   "pygments_lexer": "ipython3",
   "version": "3.10.4"
  },
  "vscode": {
   "interpreter": {
    "hash": "916dbcbb3f70747c44a77c7bcd40155683ae19c65e1c03b4aa3499c5328201f1"
   }
  }
 },
 "nbformat": 4,
 "nbformat_minor": 4
}
