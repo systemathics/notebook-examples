{
 "cells": [
  {
   "cell_type": "markdown",
   "id": "noble-excess",
   "metadata": {
    "jp-MarkdownHeadingCollapsed": true,
    "tags": []
   },
   "source": [
    "# Generate Market Book by Order (MBO) quotes using dedicated service - Python\n",
    "\n",
    "### Overview\n",
    "This sample is designed to request quotes and illustrate full order book messaging.\n",
    "\n",
    "The Market Book by Order (MBO) describes an order-based (or quote-based) data feed that provides the ability to view individual queue position, the full order book (all the depths) and the details of each individual order or quote at each price level.\n",
    "\n",
    "**Note : This sample is not about Market Book by Limit (MBL). For the MBL please refer the notebook [Tick] bbo10_and_trades**\n",
    "\n",
    "### Inputs/outputs\n",
    "Quotes extraction sample requires instrument's identifier, date time intervals as per inputs and returns the occured quotes information.\n",
    "\n",
    "### Services used\n",
    "This sample uses *gRPC requests* in order to retrieve quotes information from the hosted service. The queried endpoint in this script are:\n",
    "* *TickQuotesService*: to directly retrieve quotes data from the server.\n",
    "\n",
    "### Modules required\n",
    "1. Systemathics:\n",
    "    * *systemathics.apis.services.tick.v1*\n",
    "    * *systemathics.apis.type.shared.v1*\n",
    "    * *google.type*\n",
    "2. Open source:\n",
    "    * *googleapis-common-protos*\n",
    "    * *protobuf*\n",
    "    * *grpcio*\n",
    "    \n",
    "***"
   ]
  },
  {
   "cell_type": "markdown",
   "id": "agreed-memphis",
   "metadata": {},
   "source": [
    "# Run MBO Quotes sample"
   ]
  },
  {
   "cell_type": "markdown",
   "id": "grateful-procurement",
   "metadata": {},
   "source": [
    "### Step 1: Install packages and import them"
   ]
  },
  {
   "cell_type": "code",
   "execution_count": null,
   "id": "posted-updating",
   "metadata": {},
   "outputs": [],
   "source": [
    "pip install googleapis-common-protos protobuf grpcio pandas matplotlib plotly"
   ]
  },
  {
   "cell_type": "code",
   "execution_count": null,
   "id": "unsigned-ecology",
   "metadata": {},
   "outputs": [],
   "source": [
    "pip install systemathics.apis==2.36.* --pre"
   ]
  },
  {
   "cell_type": "code",
   "execution_count": null,
   "id": "collaborative-supervisor",
   "metadata": {},
   "outputs": [],
   "source": [
    "import os\n",
    "import grpc\n",
    "import pandas as pd\n",
    "from datetime import datetime\n",
    "import google.type.date_pb2 as date\n",
    "import google.type.timeofday_pb2 as timeofday\n",
    "import google.type.dayofweek_pb2 as dayofweek\n",
    "import google.protobuf.duration_pb2 as duration\n",
    "import systemathics.apis.type.shared.v1.identifier_pb2 as identifier\n",
    "import systemathics.apis.type.shared.v1.constraints_pb2 as constraints\n",
    "import systemathics.apis.type.shared.v1.date_interval_pb2 as dateinterval\n",
    "import systemathics.apis.type.shared.v1.time_interval_pb2 as timeinterval\n",
    "import systemathics.apis.services.tick.v1.tick_quotes_pb2 as tick_quotes\n",
    "import systemathics.apis.services.tick.v1.tick_quotes_pb2_grpc as tick_quotes_service\n",
    "import systemathics.apis.helpers.token_helpers as token_helpers\n",
    "import systemathics.apis.helpers.channel_helpers as channel_helpers"
   ]
  },
  {
   "cell_type": "markdown",
   "id": "adult-contemporary",
   "metadata": {},
   "source": [
    "### Step 2: Retrieve authentication token\n",
    "The following code snippet sends authentication request and print token to console output in order to process the upcomming *gRPC queries*."
   ]
  },
  {
   "cell_type": "code",
   "execution_count": null,
   "id": "occupational-picking",
   "metadata": {},
   "outputs": [],
   "source": [
    "token = token_helpers.get_token()\n",
    "display(token)"
   ]
  },
  {
   "cell_type": "markdown",
   "id": "according-language",
   "metadata": {},
   "source": [
    "### Step 3: Retrieve data\n",
    "To request *tick trades* service, we need to specify:\n",
    "* Instrument identifier\n",
    "* Time period selection: select start and end dates\n",
    "* Tick trades request parameters"
   ]
  },
  {
   "cell_type": "markdown",
   "id": "rough-inquiry",
   "metadata": {},
   "source": [
    "#### 3.1 Instrument selection"
   ]
  },
  {
   "cell_type": "code",
   "execution_count": null,
   "id": "genuine-missile",
   "metadata": {},
   "outputs": [],
   "source": [
    "# Tha data is provided by ICE : let's use the ICE mapping codes to generate the identifier\n",
    "# The ICE ticker\n",
    "ticker = 'E:BNP'\n",
    "# The source for full order book : Euronext\n",
    "source = 'EQUITY_L2_973'"
   ]
  },
  {
   "cell_type": "markdown",
   "id": "previous-postage",
   "metadata": {},
   "source": [
    "#### 3.2 Time period delimitation"
   ]
  },
  {
   "cell_type": "code",
   "execution_count": null,
   "id": "talented-connection",
   "metadata": {},
   "outputs": [],
   "source": [
    "# Create time intervals (we are using Google date format)\n",
    "# Full order book data avaialble (sample) : from 2021-11-01 to 2021-11-12\n",
    "date_interval = dateinterval.DateInterval(\n",
    "    start_date = date.Date(year = 2021, month = 11, day = 1), \n",
    "    end_date = date.Date(year = 2021, month = 11, day = 1)\n",
    ")\n",
    "\n",
    "# Build the tick quotes request time interval (we are using Google date time format)\n",
    "# UTC time zone\n",
    "time_interval = timeinterval.TimeInterval(\n",
    "    start_time = timeofday.TimeOfDay(hours = 12, minutes = 0, seconds = 0), \n",
    "    end_time = timeofday.TimeOfDay(hours = 12, minutes = 30, seconds = 0)\n",
    ")"
   ]
  },
  {
   "cell_type": "code",
   "execution_count": null,
   "id": "executed-timeline",
   "metadata": {},
   "outputs": [],
   "source": [
    "# generate constraints based on the previous time selection\n",
    "my_constraints = constraints.Constraints(\n",
    "    date_intervals = [date_interval],\n",
    "    time_intervals = [time_interval],\n",
    ")"
   ]
  },
  {
   "cell_type": "markdown",
   "id": "substantial-collectible",
   "metadata": {},
   "source": [
    "#### 3.3 Request creation"
   ]
  },
  {
   "cell_type": "code",
   "execution_count": null,
   "id": "crazy-aircraft",
   "metadata": {},
   "outputs": [],
   "source": [
    "# generate the tick trades request\n",
    "my_identifier = identifier.Identifier(exchange = source, ticker = ticker)\n",
    "request = tick_quotes.TickQuotesRequest(\n",
    "    identifiers = [my_identifier],\n",
    "    constraints = my_constraints\n",
    ")"
   ]
  },
  {
   "cell_type": "markdown",
   "id": "assisted-audio",
   "metadata": {},
   "source": [
    "#### 3.4 Request processing and result export\n"
   ]
  },
  {
   "cell_type": "markdown",
   "id": "deluxe-chile",
   "metadata": {},
   "source": [
    "In the following code snippet, we request quotes for the given instrument.\n",
    "The streamed response is exported on the fly in a file."
   ]
  },
  {
   "cell_type": "code",
   "execution_count": null,
   "id": "democratic-hearing",
   "metadata": {},
   "outputs": [],
   "source": [
    "# small method to convert the side\n",
    "def prettyprint(side):\n",
    "    if side == 1:\n",
    "        return \"Bid\"\n",
    "    else:\n",
    "        return 'Ask'"
   ]
  },
  {
   "cell_type": "code",
   "execution_count": null,
   "id": "closed-amplifier",
   "metadata": {},
   "outputs": [],
   "source": [
    "import csv\n",
    "from datetime import timedelta\n",
    "\n",
    "os.makedirs('output', exist_ok=True)\n",
    "filename = 'output/{0}_quotes.csv'.format(ticker)\n",
    "quotes_count = 0\n",
    "quotes_count_intern = 0\n",
    "\n",
    "with open(filename, mode='w') as quotes_file:\n",
    "    quotes_writer = csv.writer(quotes_file, delimiter=',', quotechar='\"', quoting=csv.QUOTE_MINIMAL)\n",
    "\n",
    "    # write 1rst row\n",
    "    quotes_writer.writerow(['Timestamp', 'ID', 'Side', 'Price', 'Size', 'Condition'])\n",
    "    try:\n",
    "        # open a gRPC channel\n",
    "        with channel_helpers.get_grpc_channel() as channel:  \n",
    "\n",
    "            # instantiate the tick quotes service\n",
    "            service = tick_quotes_service.TickQuotesServiceStub(channel)\n",
    "\n",
    "            # process the tick quotes request\n",
    "            metadata = [('authorization', token)]\n",
    "            for current in service.TickQuotes(request=request, metadata=metadata):\n",
    "                \n",
    "                # filter 1rst line = mapping (not used here since we are using only one instrument in request)\n",
    "                if current.data.time_stamp.seconds > 0:\n",
    "                    quotes_count +=1\n",
    "                    \n",
    "                    time =datetime.fromtimestamp(current.data.time_stamp.seconds) + timedelta(microseconds = current.data.time_stamp.nanos/1000)\n",
    "                    for quote in current.data.quotes:\n",
    "                        quotes_count_intern +=1\n",
    "                        my_id = quote.id\n",
    "                        my_side = quote.side\n",
    "                        my_price= quote.price.value\n",
    "                        my_size= quote.size.value\n",
    "                        my_condition= quote.condition.value\n",
    "                        quotes_writer.writerow([time, my_id, prettyprint(my_side), my_price, my_size, my_condition])\n",
    "\n",
    "    except grpc.RpcError as e:\n",
    "        display(e.code().name)\n",
    "        display(e.details())"
   ]
  },
  {
   "cell_type": "markdown",
   "id": "useful-cleaners",
   "metadata": {},
   "source": [
    "The following code snippet displays the total retrieved quotes count:"
   ]
  },
  {
   "cell_type": "code",
   "execution_count": null,
   "id": "dramatic-momentum",
   "metadata": {},
   "outputs": [],
   "source": [
    "print('Total quotes retrieved: {0}'.format(quotes_count))"
   ]
  }
 ],
 "metadata": {
  "kernelspec": {
   "display_name": "Python 3.10.4 64-bit",
   "language": "python",
   "name": "python3"
  },
  "language_info": {
   "codemirror_mode": {
    "name": "ipython",
    "version": 3
   },
   "file_extension": ".py",
   "mimetype": "text/x-python",
   "name": "python",
   "nbconvert_exporter": "python",
   "pygments_lexer": "ipython3",
   "version": "3.10.4"
  },
  "vscode": {
   "interpreter": {
    "hash": "916dbcbb3f70747c44a77c7bcd40155683ae19c65e1c03b4aa3499c5328201f1"
   }
  }
 },
 "nbformat": 4,
 "nbformat_minor": 5
}
