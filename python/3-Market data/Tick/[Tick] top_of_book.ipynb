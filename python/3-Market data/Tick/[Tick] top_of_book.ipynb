{
 "cells": [
  {
   "cell_type": "markdown",
   "id": "responsible-format",
   "metadata": {},
   "source": [
    "# Generate top of the book using dedicated service - Python\n",
    "\n",
    "### Overview\n",
    "Retrieving best bid/ask over a look back period is a valuable indicator to highlight market activity. It can be correlated with a set of technical indicators to better analyze market movements and build a decision making parameters.\n",
    "\n",
    "This sample is designed to request top of the book prices and sizes and illustrate market activity over a look back period.\n",
    "\n",
    "This sample demonstrates how to request and plot from a dedicated data service **on-demand** Bid/Ask information over the time.\n",
    "\n",
    "### Inputs/outputs\n",
    "Trades extraction sample requires instrument's identifier, date time intervals as per inputs and returns the best bid/ask prices and sizes.\n",
    "\n",
    "### Services used\n",
    "This sample uses *gRPC requests* in order to retrieve top of the book tick data from the hosted service. The queried endpoint in this script are:\n",
    "* *TickBookService*: to directly retrieve best Bid/Ask tick data from the server.\n",
    "\n",
    "### Modules required\n",
    "1. Systemathics:\n",
    "    * *systemathics.apis.services.tick.v1*\n",
    "    * *systemathics.apis.type.shared.v1*\n",
    "    * *google.type*\n",
    "2. Open source:\n",
    "    * *googleapis-common-protos*\n",
    "    * *protobuf*\n",
    "    * *grpcio*\n",
    "    * *pandas*\n",
    "    * *plotly* and *matpotlib* as per display packages\n",
    "    \n",
    "***"
   ]
  },
  {
   "cell_type": "markdown",
   "id": "developmental-jamaica",
   "metadata": {},
   "source": [
    "# Run Top of book sample"
   ]
  },
  {
   "cell_type": "markdown",
   "id": "environmental-resistance",
   "metadata": {},
   "source": [
    "### Step 1: Install packages and import them"
   ]
  },
  {
   "cell_type": "code",
   "execution_count": null,
   "id": "assured-henry",
   "metadata": {},
   "outputs": [],
   "source": [
    "pip install googleapis-common-protos protobuf grpcio pandas matplotlib plotly"
   ]
  },
  {
   "cell_type": "code",
   "execution_count": null,
   "id": "improved-essay",
   "metadata": {},
   "outputs": [],
   "source": [
    "pip install systemathics.apis --pre"
   ]
  },
  {
   "cell_type": "code",
   "execution_count": null,
   "id": "guilty-ultimate",
   "metadata": {},
   "outputs": [],
   "source": [
    "import os\n",
    "import grpc\n",
    "import pandas as pd\n",
    "from datetime import datetime\n",
    "import google.type.date_pb2 as date\n",
    "import google.type.timeofday_pb2 as timeofday\n",
    "import google.type.dayofweek_pb2 as dayofweek\n",
    "import google.protobuf.duration_pb2 as duration\n",
    "import systemathics.apis.type.shared.v1.identifier_pb2 as identifier\n",
    "import systemathics.apis.type.shared.v1.constraints_pb2 as constraints\n",
    "import systemathics.apis.type.shared.v1.date_interval_pb2 as dateinterval\n",
    "import systemathics.apis.type.shared.v1.time_interval_pb2 as timeinterval\n",
    "import systemathics.apis.type.shared.v1.book_updates_pb2 as book_updates\n",
    "import systemathics.apis.services.tick.v1.tick_book_pb2 as tick_book\n",
    "import systemathics.apis.services.tick.v1.tick_book_pb2_grpc as tick_book_service\n",
    "import systemathics.apis.helpers.token_helpers as token_helpers\n",
    "import systemathics.apis.helpers.channel_helpers as channel_helpers"
   ]
  },
  {
   "cell_type": "markdown",
   "id": "brave-moldova",
   "metadata": {},
   "source": [
    "### Step 2: Retrieve authentication token\n",
    "The following code snippet sends authentication request and print token to console output in order to process the upcomming *gRPC queries*."
   ]
  },
  {
   "cell_type": "code",
   "execution_count": null,
   "id": "dominant-gossip",
   "metadata": {},
   "outputs": [],
   "source": [
    "token = token_helpers.get_token()\n",
    "display(token)"
   ]
  },
  {
   "cell_type": "markdown",
   "id": "robust-dispatch",
   "metadata": {},
   "source": [
    "### Step 3: Retrieve data\n",
    "To request *tick book* service, we need to specify:\n",
    "* Instrument identifier\n",
    "* Time period selection: select start and end dates\n",
    "* Tick book request parameters"
   ]
  },
  {
   "cell_type": "markdown",
   "id": "daily-sister",
   "metadata": {},
   "source": [
    "#### 3.1 Instrument selection"
   ]
  },
  {
   "cell_type": "code",
   "execution_count": null,
   "id": "integral-departure",
   "metadata": {},
   "outputs": [],
   "source": [
    "# set instrument identifier: exchange + ticker\n",
    "ticker = 'AAPL'\n",
    "exchange = 'BATS'"
   ]
  },
  {
   "cell_type": "markdown",
   "id": "approximate-force",
   "metadata": {},
   "source": [
    "#### 3.2 Time period delimitation"
   ]
  },
  {
   "cell_type": "code",
   "execution_count": null,
   "id": "paperback-maximum",
   "metadata": {},
   "outputs": [],
   "source": [
    "# create time intervals (we are using Google date format)\n",
    "date_interval = dateinterval.DateInterval(\n",
    "    start_date = date.Date(year = 2021, month = 11, day = 5), \n",
    "    end_date = date.Date(year = 2021, month = 11, day = 5)\n",
    ")\n",
    "\n",
    "# build the market data request time interval (we are using Google time format)\n",
    "# UTC time zone\n",
    "time_interval = timeinterval.TimeInterval(\n",
    "    start_time = timeofday.TimeOfDay(hours = 14, minutes = 0, seconds = 0), \n",
    "    end_time = timeofday.TimeOfDay(hours = 14, minutes = 30, seconds = 0)\n",
    ")"
   ]
  },
  {
   "cell_type": "markdown",
   "id": "nuclear-diamond",
   "metadata": {},
   "source": [
    "#### 3.3 Request creation\n",
    "The following code snippet creates *gRPC client*, process request and returns the request reply:"
   ]
  },
  {
   "cell_type": "code",
   "execution_count": null,
   "id": "stopped-marriage",
   "metadata": {},
   "outputs": [],
   "source": [
    "# generate constraints based on the previous time selection\n",
    "my_constraints = constraints.Constraints(\n",
    "    date_intervals = [date_interval],\n",
    "    time_intervals = [time_interval],\n",
    ")"
   ]
  },
  {
   "cell_type": "code",
   "execution_count": null,
   "id": "polyphonic-incidence",
   "metadata": {},
   "outputs": [],
   "source": [
    "# generate tick book request\n",
    "my_identifier = identifier.Identifier(exchange = exchange, ticker = ticker)\n",
    "request = tick_book.TickBookRequest(\n",
    "    identifiers = [my_identifier],\n",
    "    constraints = my_constraints,\n",
    "    book_updates = book_updates.BOOK_UPDATES_SNAPSHOTS_ONLY \n",
    ")"
   ]
  },
  {
   "cell_type": "code",
   "execution_count": null,
   "id": "casual-photography",
   "metadata": {},
   "outputs": [],
   "source": [
    "try:\n",
    "    # open a gRPC channel\n",
    "    with channel_helpers.get_grpc_channel() as channel:  \n",
    "        \n",
    "        # instantiate the tick book service\n",
    "        service = tick_book_service.TickBookServiceStub(channel)\n",
    "        \n",
    "        # process the tick trades request\n",
    "        limits_data = []\n",
    "        metadata = [('authorization', token)]\n",
    "        for book in service.TickBook(request=request, metadata=metadata):\n",
    "            if book.data:\n",
    "                limits_data.append(book.data)\n",
    "\n",
    "    # keep only limits, delete instrument mapping (1st element retrieved)\n",
    "    # mapping is not used as only one instrument identifier is requested\n",
    "    del limits_data[0]\n",
    "except grpc.RpcError as e:\n",
    "    display(e.code().name)\n",
    "    display(e.details())"
   ]
  },
  {
   "cell_type": "markdown",
   "id": "complete-exchange",
   "metadata": {},
   "source": [
    "The following code snippet displays the total retrieved top of the book limits count:"
   ]
  },
  {
   "cell_type": "code",
   "execution_count": null,
   "id": "horizontal-paris",
   "metadata": {},
   "outputs": [],
   "source": [
    "print('Total top of the book limits retrieved: {0}'.format(len(limits_data)))"
   ]
  },
  {
   "cell_type": "markdown",
   "id": "caring-thirty",
   "metadata": {},
   "source": [
    "### Step 4: Visualize data"
   ]
  },
  {
   "cell_type": "markdown",
   "id": "bacterial-advance",
   "metadata": {},
   "source": [
    "#### 4.1 Retrieve data\n",
    "In the following code snippets, the reply is reprocessed in a data frame in order to visualize the results with ease:"
   ]
  },
  {
   "cell_type": "code",
   "execution_count": null,
   "id": "undefined-feeling",
   "metadata": {},
   "outputs": [],
   "source": [
    "# prepare the dataframe content\n",
    "dates = [datetime.fromtimestamp(l.time_stamp.seconds) for l in limits_data]\n",
    "bid_prices = [l.book.bid[0].price for l in limits_data]\n",
    "bid_sizes = [l.book.bid[0].size for l in limits_data]\n",
    "ask_prices = [l.book.ask[0].price for l in limits_data]\n",
    "ask_sizes = [- l.book.ask[0].size for l in limits_data]"
   ]
  },
  {
   "cell_type": "code",
   "execution_count": null,
   "id": "ambient-elements",
   "metadata": {},
   "outputs": [],
   "source": [
    "# create a pandas dataframe with: dates, top of the book prices and sizes\n",
    "d = {'Date': dates, 'Bid size': bid_sizes, 'Bid price': bid_prices, 'Ask price': ask_prices, 'Ask size': ask_sizes}\n",
    "df = pd.DataFrame(data=d)\n",
    "df"
   ]
  },
  {
   "cell_type": "markdown",
   "id": "classified-accounting",
   "metadata": {},
   "source": [
    "#### 4.2 Plot top of the book with matplotlib"
   ]
  },
  {
   "cell_type": "code",
   "execution_count": null,
   "id": "behavioral-burden",
   "metadata": {},
   "outputs": [],
   "source": [
    "import matplotlib.pyplot as plt\n",
    "\n",
    "# plot top of the book prices\n",
    "fig,ax = plt.subplots(1,1,figsize=(25,10))\n",
    "ax.plot( 'Date', 'Bid price', data=df, marker='', color='green', linewidth=1, label=\"Bid price\")\n",
    "ax.plot( 'Date', 'Ask price', data=df, marker='', color='red', linewidth=1, label=\"Ask price\")\n",
    "ax.set_xlabel(\"Date\",fontsize=14)\n",
    "ax.set_ylabel(\"Price\",color=\"black\",fontsize=14)\n",
    "plt.legend()\n",
    "plt.title('Best Bid/Ask prices {0}-{1}'.format(ticker, exchange))\n",
    "plt.show()\n",
    "\n",
    "# plot top of the book sizes\n",
    "fig,ax = plt.subplots(1,1,figsize=(25,10))\n",
    "ax.plot( 'Date', 'Bid size', data=df, marker='', color='green', linewidth=1, label=\"Bid size\")\n",
    "ax.plot( 'Date', 'Ask size', data=df, marker='', color='red', linewidth=1, label=\"Ask size\")\n",
    "ax.set_xlabel(\"Date\",fontsize=14)\n",
    "ax.set_ylabel(\"Price\",color=\"black\",fontsize=14)\n",
    "plt.legend()\n",
    "plt.title('Best Bid/Ask sizes {0}-{1}'.format(ticker, exchange))\n",
    "plt.show()"
   ]
  },
  {
   "cell_type": "markdown",
   "id": "crude-moore",
   "metadata": {},
   "source": [
    "#### 4.2 Plot top of the book with plotly"
   ]
  },
  {
   "cell_type": "code",
   "execution_count": null,
   "id": "hidden-ready",
   "metadata": {},
   "outputs": [],
   "source": [
    "import plotly.graph_objects as go\n",
    "from plotly.subplots import make_subplots\n",
    "\n",
    "# plot top of the book prices\n",
    "fig = make_subplots()\n",
    "fig.add_trace(go.Scatter(x=df['Date'], y=df['Bid price'], name='Bid price', marker_color ='green'))\n",
    "fig.add_trace(go.Scatter(x=df['Date'], y=df['Ask price'], name='Ask price', marker_color ='red'))\n",
    "fig.update_xaxes(title_text = 'Date')\n",
    "fig.update_layout(title = 'Best Bid/Ask sizes for {0}-{1}'.format(ticker,exchange))\n",
    "fig.show()\n",
    "\n",
    "# plot top of the book sizes\n",
    "fig = make_subplots()\n",
    "fig.add_trace(go.Scatter(x=df['Date'], y=df['Bid size'], name='Bid size', marker_color ='green'))\n",
    "fig.add_trace(go.Scatter(x=df['Date'], y=df['Ask size'], name='Ask size', marker_color ='red'))\n",
    "fig.update_xaxes(title_text = 'Date')\n",
    "fig.update_layout(title = 'Best Bid/Ask sizes for {0}-{1}'.format(ticker,exchange))\n",
    "fig.show()"
   ]
  }
 ],
 "metadata": {
  "kernelspec": {
   "display_name": "Python 3 (ipykernel)",
   "language": "python",
   "name": "python3"
  },
  "language_info": {
   "codemirror_mode": {
    "name": "ipython",
    "version": 3
   },
   "file_extension": ".py",
   "mimetype": "text/x-python",
   "name": "python",
   "nbconvert_exporter": "python",
   "pygments_lexer": "ipython3",
   "version": "3.9.7"
  }
 },
 "nbformat": 4,
 "nbformat_minor": 5
}
