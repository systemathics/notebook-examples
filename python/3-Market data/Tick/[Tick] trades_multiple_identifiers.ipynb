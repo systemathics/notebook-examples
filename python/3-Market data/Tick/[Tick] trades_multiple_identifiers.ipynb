{
 "cells": [
  {
   "cell_type": "markdown",
   "id": "technical-rugby",
   "metadata": {
    "tags": []
   },
   "source": [
    "# Generate trades for multi identifiers using dedicated service - Python\n",
    "\n",
    "### Overview\n",
    "Retrieving trades over a look back period is a valuable indicator to highlight market activity. It can be correlated with a set of technical indicators to better analyze market movements and build a decision making parameter.\n",
    "\n",
    "This sample is designed to request trades and illustrate for many assets at once.\n",
    "\n",
    "This sample demonstrates how to request and plot from a dedicated data service **on-demand** trades over the time.\n",
    "\n",
    "### Inputs/outputs\n",
    "Trades extraction sample requires instrument's identifier, date time intervals as per inputs and returns the occured trades information.\n",
    "\n",
    "### Services used\n",
    "This sample uses *gRPC requests* in order to retrieve trades information from the hosted service. The queried endpoint in this script are:\n",
    "* *TickTradesService*: to directly retrieve trades data from the server.\n",
    "\n",
    "### Modules required\n",
    "1. Systemathics:\n",
    "    * *systemathics.apis.services.tick.v1*\n",
    "    * *systemathics.apis.type.shared.v1*\n",
    "    * *google.type*\n",
    "2. Open source:\n",
    "    * *googleapis-common-protos*\n",
    "    * *protobuf*\n",
    "    * *grpcio*\n",
    "    * *pandas*\n",
    "    * *plotly* and *matpotlib* as per display packages\n",
    "    \n",
    "***"
   ]
  },
  {
   "cell_type": "markdown",
   "id": "varied-spotlight",
   "metadata": {},
   "source": [
    "# Run Trades sample for multiple identifiers"
   ]
  },
  {
   "cell_type": "markdown",
   "id": "talented-absolute",
   "metadata": {},
   "source": [
    "### Step 1: Install packages and import them"
   ]
  },
  {
   "cell_type": "code",
   "execution_count": null,
   "id": "naked-adventure",
   "metadata": {},
   "outputs": [],
   "source": [
    "pip install googleapis-common-protos protobuf grpcio pandas matplotlib plotly"
   ]
  },
  {
   "cell_type": "code",
   "execution_count": null,
   "id": "bottom-corner",
   "metadata": {},
   "outputs": [],
   "source": [
    "pip install systemathics.apis --pre"
   ]
  },
  {
   "cell_type": "code",
   "execution_count": null,
   "id": "terminal-government",
   "metadata": {},
   "outputs": [],
   "source": [
    "import os\n",
    "import grpc\n",
    "import pandas as pd\n",
    "from datetime import datetime\n",
    "import google.type.date_pb2 as date\n",
    "import google.type.timeofday_pb2 as timeofday\n",
    "import google.type.dayofweek_pb2 as dayofweek\n",
    "import google.protobuf.duration_pb2 as duration\n",
    "import systemathics.apis.type.shared.v1.identifier_pb2 as identifier\n",
    "import systemathics.apis.type.shared.v1.constraints_pb2 as constraints\n",
    "import systemathics.apis.type.shared.v1.date_interval_pb2 as dateinterval\n",
    "import systemathics.apis.type.shared.v1.time_interval_pb2 as timeinterval\n",
    "import systemathics.apis.services.tick.v1.tick_trades_pb2 as tick_trades\n",
    "import systemathics.apis.services.tick.v1.tick_trades_pb2_grpc as tick_trades_service\n",
    "import systemathics.apis.helpers.token_helpers as token_helpers\n",
    "import systemathics.apis.helpers.channel_helpers as channel_helpers"
   ]
  },
  {
   "cell_type": "markdown",
   "id": "electronic-chemical",
   "metadata": {},
   "source": [
    "### Step 2: Retrieve authentication token\n",
    "The following code snippet sends authentication request and print token to console output in order to process the upcomming *gRPC queries*."
   ]
  },
  {
   "cell_type": "code",
   "execution_count": null,
   "id": "aging-creature",
   "metadata": {},
   "outputs": [],
   "source": [
    "token = token_helpers.get_token()\n",
    "display(token)"
   ]
  },
  {
   "cell_type": "markdown",
   "id": "intense-innocent",
   "metadata": {},
   "source": [
    "### Step 3: Retrieve data\n",
    "To request *tick trades* service, we need to specify:\n",
    "* Instrument identifiers\n",
    "* Time period selection: select start and end dates\n",
    "* Tick trades request parameters"
   ]
  },
  {
   "cell_type": "markdown",
   "id": "paperback-climate",
   "metadata": {},
   "source": [
    "#### 3.1 Instrument selection"
   ]
  },
  {
   "cell_type": "code",
   "execution_count": null,
   "id": "connected-explosion",
   "metadata": {},
   "outputs": [],
   "source": [
    "# generate the tick trades request for the different assets\n",
    "aapl_bats = identifier.Identifier(exchange = \"BATS\", ticker = \"AAPL\")\n",
    "aapl_xngs = identifier.Identifier(exchange = \"XNGS\", ticker = \"AAPL\")"
   ]
  },
  {
   "cell_type": "markdown",
   "id": "empty-unknown",
   "metadata": {},
   "source": [
    "#### 3.2 Time period delimitation"
   ]
  },
  {
   "cell_type": "code",
   "execution_count": null,
   "id": "alike-milwaukee",
   "metadata": {},
   "outputs": [],
   "source": [
    "# create time intervals (we are using Google date format)\n",
    "date_interval = dateinterval.DateInterval(\n",
    "    start_date = date.Date(year = 2021, month = 1, day = 5), \n",
    "    end_date = date.Date(year = 2021, month = 1, day = 5)\n",
    ")\n",
    "\n",
    "# build the market data request time interval (we are using Google time format)\n",
    "# UTC time zone\n",
    "time_interval = timeinterval.TimeInterval(\n",
    "    start_time = timeofday.TimeOfDay(hours = 12, minutes = 0, seconds = 3), \n",
    "    end_time = timeofday.TimeOfDay(hours = 12, minutes = 0, seconds = 10)\n",
    ")"
   ]
  },
  {
   "cell_type": "markdown",
   "id": "distant-joint",
   "metadata": {},
   "source": [
    "#### 3.3 Request creation\n",
    "The following code snippet creates *gRPC client*, process request and returns the request reply:"
   ]
  },
  {
   "cell_type": "code",
   "execution_count": null,
   "id": "flexible-cyprus",
   "metadata": {},
   "outputs": [],
   "source": [
    "# generate constraints based on the previous time selection\n",
    "my_constraints = constraints.Constraints(\n",
    "    date_intervals = [date_interval],\n",
    "    time_intervals = [time_interval],\n",
    ")"
   ]
  },
  {
   "cell_type": "code",
   "execution_count": null,
   "id": "stylish-movie",
   "metadata": {},
   "outputs": [],
   "source": [
    "# generate the tick trades request with multiple identifiers\n",
    "request = tick_trades.TickTradesRequest(\n",
    "    identifiers = [aapl_bats,aapl_xngs],\n",
    "    constraints = my_constraints\n",
    ")"
   ]
  },
  {
   "cell_type": "code",
   "execution_count": null,
   "id": "tribal-forest",
   "metadata": {},
   "outputs": [],
   "source": [
    "try:\n",
    "    # open a gRPC channel\n",
    "    with channel_helpers.get_grpc_channel() as channel:\n",
    "        \n",
    "        # instantiate the tick trades service\n",
    "        service = tick_trades_service.TickTradesServiceStub(channel)\n",
    "        \n",
    "        # process the tick trades request\n",
    "        trades = []\n",
    "        metadata = [('authorization', token)]\n",
    "        for trade in service.TickTrades(request=request, metadata=metadata):\n",
    "            if trade.data.time_stamp.seconds > 0:\n",
    "                trades.append(trade)\n",
    "            else:\n",
    "                mappings = trade.mapping\n",
    "\n",
    "except grpc.RpcError as e:\n",
    "    display(e.code().name)\n",
    "    display(e.details())"
   ]
  },
  {
   "cell_type": "markdown",
   "id": "cheap-lighter",
   "metadata": {},
   "source": [
    "The following code snippet displays the total retrieved trades count:"
   ]
  },
  {
   "cell_type": "code",
   "execution_count": null,
   "id": "capital-former",
   "metadata": {},
   "outputs": [],
   "source": [
    "print('Total trades retrieved: {0}'.format(len(trades)))"
   ]
  },
  {
   "cell_type": "code",
   "execution_count": null,
   "id": "standard-ridge",
   "metadata": {},
   "outputs": [],
   "source": [
    "# Display how the mapping is organized\n",
    "providers = [m.identifier.provider.value for m in mappings.values]\n",
    "tickers = [m.identifier.ticker for m in mappings.values]\n",
    "exchanges = [m.identifier.exchange for m in mappings.values]\n",
    "maps = [m.value for m in mappings.values]\n",
    "\n",
    "d = {'Providers': providers, 'Tickers': tickers, 'Exchanges': exchanges, 'Mappings': maps}\n",
    "\n",
    "mappingsdf = pd.DataFrame(data=d)\n",
    "mappingsdf"
   ]
  },
  {
   "cell_type": "markdown",
   "id": "after-summary",
   "metadata": {
    "tags": []
   },
   "source": [
    "### Step 4: Visualize data"
   ]
  },
  {
   "cell_type": "markdown",
   "id": "distributed-indication",
   "metadata": {},
   "source": [
    "#### 4.1 Retrieve data\n",
    "In the following code snippets, the reply is reprocessed in a data frame in order to visualize the results with ease:"
   ]
  },
  {
   "cell_type": "code",
   "execution_count": null,
   "id": "foreign-style",
   "metadata": {},
   "outputs": [],
   "source": [
    "# small method to get a better display of the identifiers\n",
    "def prettyprint(identifier):\n",
    "  return identifier.provider.value + \">\" + identifier.exchange + \">\" + identifier.ticker"
   ]
  },
  {
   "cell_type": "code",
   "execution_count": null,
   "id": "legal-charter",
   "metadata": {},
   "outputs": [],
   "source": [
    "from datetime import timedelta\n",
    "\n",
    "# prepare the dataframe content\n",
    "dates = [(datetime.fromtimestamp(t.data.time_stamp.seconds) + timedelta(microseconds = t.data.time_stamp.nanos/1000))  for t in trades]\n",
    "prices = [t.data.trade.price for t in trades]\n",
    "sizes = [t.data.trade.size for t in trades]\n",
    "maps = [t.data.mapping for t in trades]\n",
    "identifiers = [prettyprint(mappings.values[t.data.mapping].identifier) for t in trades]\n",
    "#identifiers = [t.data.mapping for t in trades]\n",
    "\n",
    "# create a pandas dataframe with: dates, eventsources, identifiers, trades prices and sizes\n",
    "d = {'Date': dates, 'Mappings': maps, 'Identifier': identifiers, 'Price': prices, 'Size': sizes}\n",
    "#d = {'Date': dates, 'Mappings': maps, 'Price': prices, 'Size': sizes}\n",
    "df = pd.DataFrame(data=d)\n",
    "pd.set_option('display.max_rows', None)"
   ]
  },
  {
   "cell_type": "code",
   "execution_count": null,
   "id": "infectious-finnish",
   "metadata": {},
   "outputs": [],
   "source": [
    "df"
   ]
  },
  {
   "cell_type": "code",
   "execution_count": null,
   "id": "muslim-aspect",
   "metadata": {},
   "outputs": [],
   "source": []
  }
 ],
 "metadata": {
  "kernelspec": {
   "display_name": "Python 3 (ipykernel)",
   "language": "python",
   "name": "python3"
  },
  "language_info": {
   "codemirror_mode": {
    "name": "ipython",
    "version": 3
   },
   "file_extension": ".py",
   "mimetype": "text/x-python",
   "name": "python",
   "nbconvert_exporter": "python",
   "pygments_lexer": "ipython3",
   "version": "3.9.7"
  }
 },
 "nbformat": 4,
 "nbformat_minor": 5
}
