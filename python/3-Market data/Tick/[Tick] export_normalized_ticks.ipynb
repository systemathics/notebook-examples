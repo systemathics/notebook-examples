{
 "cells": [
  {
   "cell_type": "markdown",
   "metadata": {},
   "source": [
    "# Export top of the book & trades using dedicated service - Python\n",
    "\n",
    "### Overview\n",
    "Retrieving trades and top of the book data points over a look back period is a valuable indicator to highlight market activity. It can be correlated with a set of technical indicators to better analyze market movements and build a decision making parameter.\n",
    "\n",
    "This sample is designed to request simultaneously trades and top of the book and illustrate market activity over a look back period.\n",
    "\n",
    "<div class=\"alert alert-block alert-info\">\n",
    "    <b>Note:</b> To highlight individual tradres among market activity. Please refer to <i><a href=\"\">bestex-pointintime</a></i> and <i><a href=\"\">bestex-interval</a></i> notebooks.\n",
    "</div>\n",
    "\n",
    "This sample demonstrates how to request and plot from a dedicated data service **on-demand** trades over the time.\n",
    "\n",
    "### Inputs/outputs\n",
    "Trades and best Bid/Ask extraction sample requires instrument's identifier, date time intervals as per inputs and returns top fo the book the occured trades data points.\n",
    "\n",
    "### Services used\n",
    "This sample uses *gRPC requests* in order to retrieve trades and top of the book from the hosted service. The queried endpoint in this script are:\n",
    "* *TickTradesAndBookService*: to directly retrieve trades and top of the book data from the server.\n",
    "\n",
    "### Modules required\n",
    "1. Systemathics:\n",
    "    * *systemathics.apis.services.tick.v1*\n",
    "    * *systemathics.apis.type.shared.v1*\n",
    "    * *google.type*\n",
    "2. Open source:\n",
    "    * *googleapis-common-protos*\n",
    "    * *protobuf*\n",
    "    * *grpcio*\n",
    "    * *pandas*\n",
    "    \n",
    "***"
   ]
  },
  {
   "cell_type": "markdown",
   "metadata": {},
   "source": [
    "# Run Top of the book & Trades extraction sample"
   ]
  },
  {
   "cell_type": "markdown",
   "metadata": {},
   "source": [
    "### Step 1: Install packages"
   ]
  },
  {
   "cell_type": "code",
   "execution_count": null,
   "metadata": {},
   "outputs": [],
   "source": [
    "pip install googleapis-common-protos protobuf grpcio pandas systemathics.apis"
   ]
  },
  {
   "cell_type": "code",
   "execution_count": null,
   "metadata": {},
   "outputs": [],
   "source": [
    "import os\n",
    "import grpc\n",
    "import pandas as pd\n",
    "from datetime import datetime\n",
    "import google.type.date_pb2 as date\n",
    "import google.type.timeofday_pb2 as timeofday\n",
    "import google.type.dayofweek_pb2 as dayofweek\n",
    "import google.protobuf.duration_pb2 as duration\n",
    "import systemathics.apis.type.shared.v1.identifier_pb2 as identifier\n",
    "import systemathics.apis.type.shared.v1.constraints_pb2 as constraints\n",
    "import systemathics.apis.type.shared.v1.date_interval_pb2 as dateinterval\n",
    "import systemathics.apis.type.shared.v1.time_interval_pb2 as timeinterval\n",
    "import systemathics.apis.services.tick.v1.tick_trades_and_book_pb2 as tick_trades_and_book\n",
    "import systemathics.apis.services.tick.v1.tick_trades_and_book_pb2_grpc as tick_trades_and_book_service\n",
    "import systemathics.apis.helpers.token_helpers as token_helpers\n",
    "import systemathics.apis.helpers.channel_helpers as channel_helpers"
   ]
  },
  {
   "cell_type": "markdown",
   "metadata": {},
   "source": [
    "### Step 2: Retrieve authentication token\n",
    "The following code snippet sends authentication request and print token to console output in order to process the upcomming *gRPC queries*."
   ]
  },
  {
   "cell_type": "code",
   "execution_count": null,
   "metadata": {},
   "outputs": [],
   "source": [
    "token = token_helpers.get_token()\n",
    "display(token)"
   ]
  },
  {
   "cell_type": "markdown",
   "metadata": {},
   "source": [
    "### Step 3: Retrieve data\n",
    "To request *tick trades and book* service, we need to specify:\n",
    "* Instrument identifier\n",
    "* Time period selection: select start and end dates\n",
    "* Tick raw request parameters"
   ]
  },
  {
   "cell_type": "markdown",
   "metadata": {},
   "source": [
    "#### 3.1 Instrument selection"
   ]
  },
  {
   "cell_type": "code",
   "execution_count": null,
   "metadata": {},
   "outputs": [],
   "source": [
    "# set instrument identifier: exchange + ticker\n",
    "ticker = 'AAPL'\n",
    "exchange = 'BATS'"
   ]
  },
  {
   "cell_type": "markdown",
   "metadata": {},
   "source": [
    "#### 3.2 Time period delimitation"
   ]
  },
  {
   "cell_type": "code",
   "execution_count": null,
   "metadata": {},
   "outputs": [],
   "source": [
    "# create time intervals (we are using Google date format)\n",
    "date_interval = dateinterval.DateInterval(\n",
    "    start_date = date.Date(year = 2021, month = 3, day = 5), \n",
    "    end_date = date.Date(year = 2021, month = 3, day = 5)\n",
    ")\n",
    "\n",
    "# build the market data request time interval (we are using Google time format)\n",
    "# UTC time zone\n",
    "time_interval = timeinterval.TimeInterval(\n",
    "    start_time = timeofday.TimeOfDay(hours = 14, minutes = 0, seconds = 0), \n",
    "    end_time = timeofday.TimeOfDay(hours = 15, minutes = 0, seconds = 0)\n",
    ")"
   ]
  },
  {
   "cell_type": "markdown",
   "metadata": {},
   "source": [
    "#### 3.3 Request creation\n",
    "The following code snippet creates *gRPC client*, process request and returns the request reply:"
   ]
  },
  {
   "cell_type": "code",
   "execution_count": null,
   "metadata": {},
   "outputs": [],
   "source": [
    "# generate constraints based on the previous time selection\n",
    "constraints = constraints.Constraints(\n",
    "    date_intervals = [date_interval],\n",
    "    time_intervals = [time_interval],\n",
    ")"
   ]
  },
  {
   "cell_type": "markdown",
   "metadata": {},
   "source": [
    "The following code snippets create the market data request and instantiate the service:"
   ]
  },
  {
   "cell_type": "code",
   "execution_count": null,
   "metadata": {},
   "outputs": [],
   "source": [
    "# generate the tick trades and book request\n",
    "identifier = identifier.Identifier(exchange = exchange, ticker = ticker)\n",
    "request = tick_trades_and_book.TickTradesAndBookRequest(\n",
    "    identifiers = [identifier],\n",
    "    constraints = constraints\n",
    ")"
   ]
  },
  {
   "cell_type": "markdown",
   "metadata": {},
   "source": [
    "#### 3.4 Export data\n",
    "Tick by tick data is sent through a *stream*, the following code snippet exports tick by tick dataset in a file in the same folder as this sample:"
   ]
  },
  {
   "cell_type": "code",
   "execution_count": null,
   "metadata": {},
   "outputs": [],
   "source": [
    "import csv\n",
    "from datetime import timedelta\n",
    "\n",
    "filename = 'normalized_ticks_{0}-{1}.csv'.format(ticker, exchange)\n",
    "\n",
    "with open(filename, mode='w') as normalized_ticks_file:\n",
    "    normalized_ticks_writer = csv.writer(normalized_ticks_file, delimiter=',', quotechar='\"', quoting=csv.QUOTE_MINIMAL)\n",
    "\n",
    "    # write 1rst row, header line\n",
    "    normalized_ticks_writer.writerow(['Timestamp', 'Bid price', 'Bid price', 'Ask size', 'Ask price', 'Trade price', 'Trade size'])\n",
    "    try:\n",
    "        # open a gRPC channel\n",
    "        with channel_helpers.get_grpc_channel() as channel:\n",
    "\n",
    "            # instantiate the tick trades and book service\n",
    "            service = tick_trades_and_book_service.TickTradesAndBookServiceStub(channel)\n",
    "\n",
    "            limits_count, trades_count = 0, 0\n",
    "\n",
    "            for current in service.TickTradesAndBook(request = request, metadata = [('authorization', token)]):\n",
    "                # get book limits and set trade fields to nan\n",
    "                if current.data.time_stamp.seconds > 0:\n",
    "                    time = datetime.fromtimestamp(current.data.time_stamp.seconds) + timedelta(microseconds = current.data.time_stamp.nanos/1000)\n",
    "                    bid_price = current.data.book.bid.price\n",
    "                    bid_size = current.data.book.bid.size\n",
    "                    ask_price = current.data.book.ask.price\n",
    "                    ask_size = current.data.book.ask.size\n",
    "                    trade_price = current.data.trade.price\n",
    "                    trade_size = current.data.trade.size\n",
    "                    normalized_ticks_writer.writerow([time, bid_price, bid_size, ask_price, ask_size, trade_price, trade_size])\n",
    "    except grpc.RpcError as e:\n",
    "        display(e.code().name)\n",
    "        display(e.details())"
   ]
  }
 ],
 "metadata": {
  "kernelspec": {
   "display_name": "Python 3",
   "language": "python",
   "name": "python3"
  },
  "language_info": {
   "codemirror_mode": {
    "name": "ipython",
    "version": 3
   },
   "file_extension": ".py",
   "mimetype": "text/x-python",
   "name": "python",
   "nbconvert_exporter": "python",
   "pygments_lexer": "ipython3",
   "version": "3.9.5"
  }
 },
 "nbformat": 4,
 "nbformat_minor": 4
}
