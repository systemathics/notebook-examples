{
 "cells": [
  {
   "cell_type": "markdown",
   "id": "auburn-extraction",
   "metadata": {},
   "source": [
    "# Generate top of the book & trades using dedicated service - Python\n",
    "\n",
    "### Overview\n",
    "Retrieving trades and top of the book data points over a look back period is a valuable indicator to highlight market activity. It can be correlated with a set of technical indicators to better analyze market movements and build a decision making parameter.\n",
    "\n",
    "This sample is designed to request simultaneously trades and top of the book and illustrate market activity over a look back period.\n",
    "\n",
    "This sample demonstrates how to request and plot from a dedicated tick data service **on-demand** trades and best bid/ask over the time.\n",
    "\n",
    "### Inputs/outputs\n",
    "Trades and best Bid/Ask tick data extraction sample requires instrument's identifier, date time intervals as per inputs and returns top fo the book the occured trades data points.\n",
    "\n",
    "### Services used\n",
    "This sample uses *gRPC requests* in order to retrieve trades and top of the book from the hosted service. The queried endpoint in this script are:\n",
    "* *TickTradesAndBookService*: to directly retrieve trades and top of the book tick data from the server.\n",
    "\n",
    "### Modules required\n",
    "1. Systemathics:\n",
    "    * *systemathics.apis.services.tick.v1*\n",
    "    * *systemathics.apis.type.shared.v1*\n",
    "    * *google.type*\n",
    "2. Open source:\n",
    "    * *googleapis-common-protos*\n",
    "    * *protobuf*\n",
    "    * *grpcio*\n",
    "    * *pandas*\n",
    "    * *matpotlib* and *plotly* as per display packages\n",
    "    \n",
    "***"
   ]
  },
  {
   "cell_type": "markdown",
   "id": "integral-classroom",
   "metadata": {},
   "source": [
    "# Run Top of the book & Trades sample"
   ]
  },
  {
   "cell_type": "markdown",
   "id": "frequent-oasis",
   "metadata": {},
   "source": [
    "### Step 1: Install packages and import them"
   ]
  },
  {
   "cell_type": "code",
   "execution_count": null,
   "id": "wicked-joint",
   "metadata": {},
   "outputs": [],
   "source": [
    "pip install googleapis-common-protos protobuf grpcio pandas matplotlib plotly"
   ]
  },
  {
   "cell_type": "code",
   "execution_count": null,
   "id": "demographic-canyon",
   "metadata": {},
   "outputs": [],
   "source": [
    "pip install systemathics.apis==2.36.* --pre"
   ]
  },
  {
   "cell_type": "code",
   "execution_count": null,
   "id": "separated-naples",
   "metadata": {},
   "outputs": [],
   "source": [
    "import os\n",
    "import grpc\n",
    "import pandas as pd\n",
    "from datetime import datetime\n",
    "import google.type.date_pb2 as date\n",
    "import google.type.timeofday_pb2 as timeofday\n",
    "import google.type.dayofweek_pb2 as dayofweek\n",
    "import google.protobuf.duration_pb2 as duration\n",
    "import systemathics.apis.type.shared.v1.identifier_pb2 as identifier\n",
    "import systemathics.apis.type.shared.v1.identifier_and_level_pb2 as identifier_and_level\n",
    "import systemathics.apis.type.shared.v1.level_pb2 as level\n",
    "import systemathics.apis.type.shared.v1.constraints_pb2 as constraints\n",
    "import systemathics.apis.type.shared.v1.date_interval_pb2 as dateinterval\n",
    "import systemathics.apis.type.shared.v1.time_interval_pb2 as timeinterval\n",
    "import systemathics.apis.type.shared.v1.book_updates_pb2 as book_updates\n",
    "import systemathics.apis.services.tick.v1.tick_trades_and_book_pb2 as tick_trades_and_book\n",
    "import systemathics.apis.services.tick.v1.tick_trades_and_book_pb2_grpc as tick_trades_and_book_service\n",
    "import systemathics.apis.helpers.token_helpers as token_helpers\n",
    "import systemathics.apis.helpers.channel_helpers as channel_helpers"
   ]
  },
  {
   "cell_type": "markdown",
   "id": "adequate-circumstances",
   "metadata": {},
   "source": [
    "### Step 2: Retrieve authentication token\n",
    "The following code snippet sends authentication request and print token to console output in order to process the upcomming *gRPC queries*."
   ]
  },
  {
   "cell_type": "code",
   "execution_count": null,
   "id": "obvious-taiwan",
   "metadata": {},
   "outputs": [],
   "source": [
    "token = token_helpers.get_token()\n",
    "display(token)"
   ]
  },
  {
   "cell_type": "markdown",
   "id": "polar-cache",
   "metadata": {},
   "source": [
    "### Step 3: Retrieve data\n",
    "To request *tick trades and book* service, we need to specify:\n",
    "* Instrument identifier\n",
    "* Time period selection: select start and end dates\n",
    "* Tick trades and book request parameters"
   ]
  },
  {
   "cell_type": "markdown",
   "id": "toxic-particle",
   "metadata": {},
   "source": [
    "#### 3.1 Instrument selection"
   ]
  },
  {
   "cell_type": "code",
   "execution_count": null,
   "id": "anonymous-trustee",
   "metadata": {},
   "outputs": [],
   "source": [
    "# set instrument identifier: exchange + ticker\n",
    "ticker = 'AAPL'\n",
    "exchange = 'BATS'"
   ]
  },
  {
   "cell_type": "markdown",
   "id": "thousand-authentication",
   "metadata": {},
   "source": [
    "#### 3.2 Time period delimitation"
   ]
  },
  {
   "cell_type": "code",
   "execution_count": null,
   "id": "collected-generator",
   "metadata": {},
   "outputs": [],
   "source": [
    "# create time intervals (we are using Google date format)\n",
    "date_interval = dateinterval.DateInterval(\n",
    "    start_date = date.Date(year = 2021, month = 11, day = 5), \n",
    "    end_date = date.Date(year = 2021, month = 11, day = 5)\n",
    ")\n",
    "\n",
    "# build the market data request time interval (we are using Google time format)\n",
    "# UTC time zone\n",
    "time_interval = timeinterval.TimeInterval(\n",
    "    start_time = timeofday.TimeOfDay(hours = 14, minutes = 0, seconds = 0), \n",
    "    end_time = timeofday.TimeOfDay(hours = 14, minutes = 30, seconds = 0)\n",
    ")"
   ]
  },
  {
   "cell_type": "markdown",
   "id": "alternate-future",
   "metadata": {},
   "source": [
    "#### 3.3 Request creation\n",
    "The following code snippet creates *gRPC client*, process request and returns the request reply:"
   ]
  },
  {
   "cell_type": "code",
   "execution_count": null,
   "id": "structured-terrorism",
   "metadata": {},
   "outputs": [],
   "source": [
    "# generate constraints based on the previous time selection\n",
    "my_constraints = constraints.Constraints(\n",
    "    date_intervals = [date_interval],\n",
    "    time_intervals = [time_interval],\n",
    ")"
   ]
  },
  {
   "cell_type": "code",
   "execution_count": null,
   "id": "radical-porter",
   "metadata": {},
   "outputs": [],
   "source": [
    "# generate the tick trades and book request\n",
    "my_identifier = identifier_and_level.IdentifierAndLevel(exchange = exchange, ticker = ticker, level = level.LEVEL_TRADES_AND_BOOK)\n",
    "request = tick_trades_and_book.TickTradesAndBookRequest(\n",
    "    identifiers = [my_identifier],\n",
    "    constraints = my_constraints,\n",
    "    book_updates = book_updates.BOOK_UPDATES_SNAPSHOTS_ONLY \n",
    ")"
   ]
  },
  {
   "cell_type": "code",
   "execution_count": null,
   "id": "outstanding-birmingham",
   "metadata": {},
   "outputs": [],
   "source": [
    "try:\n",
    "    # open a gRPC channel\n",
    "    with channel_helpers.get_grpc_channel() as channel:  \n",
    "        \n",
    "        # instantiate the tick trades and book service\n",
    "        service = tick_trades_and_book_service.TickTradesAndBookServiceStub(channel)\n",
    "        \n",
    "        # process the tick trades and book request\n",
    "        time_stamps, trade_prices, trade_sizes, bid_prices, bid_sizes, ask_prices, ask_sizes  = [], [], [],[], [], [], []\n",
    "        timestamp_count, limits_count, trades_count = 0, 0, 0\n",
    "\n",
    "        for current in service.TickTradesAndBook(request = request, metadata = [('authorization', token)]):\n",
    "            # get timestamps\n",
    "            if current.data.time_stamp.seconds > 0:\n",
    "                timestamp_count += 1\n",
    "                time_stamps.append(current.data.time_stamp)\n",
    "            \n",
    "            # get book limits and set trade fields to nan\n",
    "            if len(current.data.book.bid) > 0 or len(current.data.book.ask) > 0:\n",
    "                bid_prices.append(current.data.book.bid[0].price)\n",
    "                bid_sizes.append(current.data.book.bid[0].size)\n",
    "                ask_prices.append(current.data.book.ask[0].price)\n",
    "                ask_sizes.append(- current.data.book.ask[0].size)\n",
    "                trade_prices.append(None)\n",
    "                trade_sizes.append(None)\n",
    "                limits_count += 1\n",
    "            \n",
    "            # get trades and set book limits fields to nan\n",
    "            if current.data.trade.price > 0:\n",
    "                trade_prices.append(current.data.trade.price)\n",
    "                trade_sizes.append(current.data.trade.size)\n",
    "                bid_prices.append(None)\n",
    "                bid_sizes.append(None)\n",
    "                ask_prices.append(None)\n",
    "                ask_sizes.append(None)\n",
    "                trades_count += 1\n",
    "            \n",
    "except grpc.RpcError as e:\n",
    "    display(e.code().name)\n",
    "    display(e.details())"
   ]
  },
  {
   "cell_type": "markdown",
   "id": "above-joshua",
   "metadata": {},
   "source": [
    "The following code snippet displays the total retrieved trades and book limits counts:"
   ]
  },
  {
   "cell_type": "code",
   "execution_count": null,
   "id": "solar-maker",
   "metadata": {},
   "outputs": [],
   "source": [
    "print('Total time stamps retrieved: {0}'.format(timestamp_count))\n",
    "print('Total trades retrieved: {0}'.format(trades_count))\n",
    "print('Total book limits retrieved: {0}'.format(limits_count))"
   ]
  },
  {
   "cell_type": "markdown",
   "id": "american-harris",
   "metadata": {},
   "source": [
    "### Step 4: Visualize data"
   ]
  },
  {
   "cell_type": "markdown",
   "id": "duplicate-sunrise",
   "metadata": {},
   "source": [
    "#### 4.1 Retrieve data\n",
    "In the following code snippets, the reply is reprocessed in a data frame in order to visualize the results with ease:"
   ]
  },
  {
   "cell_type": "code",
   "execution_count": null,
   "id": "authorized-hungary",
   "metadata": {},
   "outputs": [],
   "source": [
    "# prepare the dataframe content for trades and book limits\n",
    "dates = [datetime.fromtimestamp(ts.seconds) for ts in time_stamps]\n",
    "# create a pandas dataframe with: dates, trades and limits\n",
    "d = {'Date': dates, 'Trade price': trade_prices, 'Trade size': trade_sizes, 'Bid size': bid_sizes, 'Bid price': bid_prices, 'Ask price': ask_prices, 'Ask size': ask_sizes}\n",
    "df = pd.DataFrame(data=d)\n",
    "df"
   ]
  },
  {
   "cell_type": "markdown",
   "id": "infinite-farmer",
   "metadata": {},
   "source": [
    "#### 4.2 Plot trades and top of the book with matplotlib"
   ]
  },
  {
   "cell_type": "code",
   "execution_count": null,
   "id": "painful-pattern",
   "metadata": {},
   "outputs": [],
   "source": [
    "import matplotlib.pyplot as plt\n",
    "\n",
    "# plot trades and top of the book prices\n",
    "fig,ax = plt.subplots(1,1,figsize=(25,10))\n",
    "ax.plot( 'Date', 'Bid price', data=df, marker='', color='green', linewidth=1, label=\"Bid price\")\n",
    "ax.plot( 'Date', 'Ask price', data=df, marker='', color='red', linewidth=1, label=\"Ask price\")\n",
    "ax.plot( 'Date', 'Trade price', data=df, marker='', color='blue', linewidth=1, label=\"Trade price\")\n",
    "ax.set_xlabel(\"Date\",fontsize=14)\n",
    "ax.set_ylabel(\"Price\",color=\"black\",fontsize=14)\n",
    "plt.legend()\n",
    "plt.title('Best Bid/Ask and Trade prices {0}-{1}'.format(ticker, exchange))\n",
    "plt.show()\n",
    "\n",
    "# plot trades and top of the book sizes\n",
    "fig,ax = plt.subplots(1,1,figsize=(25,10))\n",
    "ax.plot( 'Date', 'Bid size', data=df, marker='', color='green', linewidth=1, label=\"Bid size\")\n",
    "ax.plot( 'Date', 'Ask size', data=df, marker='', color='red', linewidth=1, label=\"Ask size\")\n",
    "ax.plot( 'Date', 'Trade size', data=df, marker='', color='blue', linewidth=1, label=\"Trade size\")\n",
    "ax.set_xlabel(\"Date\",fontsize=14)\n",
    "ax.set_ylabel(\"Price\",color=\"black\",fontsize=14)\n",
    "plt.legend()\n",
    "plt.title('Best Bid/Ask and Trade sizes {0}-{1}'.format(ticker, exchange))\n",
    "plt.show()"
   ]
  },
  {
   "cell_type": "markdown",
   "id": "addressed-expansion",
   "metadata": {},
   "source": [
    "#### 4.3 Plot trades and top of the book with plotly"
   ]
  },
  {
   "cell_type": "code",
   "execution_count": null,
   "id": "vocal-demographic",
   "metadata": {},
   "outputs": [],
   "source": [
    "import plotly.graph_objects as go\n",
    "from plotly.subplots import make_subplots\n",
    "\n",
    "# plot trades and top of the book prices\n",
    "fig = make_subplots()\n",
    "fig.add_trace(go.Scatter(x=df['Date'], y=df['Bid price'], name='Bid price', marker_color ='green'))\n",
    "fig.add_trace(go.Scatter(x=df['Date'], y=df['Ask price'], name='Ask price', marker_color ='red'))\n",
    "fig.add_trace(go.Scatter(x=df['Date'], y=df['Trade price'], name='Trade price', marker_color ='blue'))\n",
    "fig.update_xaxes(title_text = 'Date')\n",
    "fig.update_layout(title = 'Tick trades and best bid/ask prices for {0}-{1}'.format(ticker,exchange))\n",
    "fig.show()\n",
    "\n",
    "# plot trades and top of the book sizes\n",
    "fig = make_subplots()\n",
    "fig.add_trace(go.Scatter(x=df['Date'], y=df['Bid size'], name='Bid size', marker_color ='green'))\n",
    "fig.add_trace(go.Scatter(x=df['Date'], y=df['Ask size'], name='Ask size', marker_color ='red'))\n",
    "fig.add_trace(go.Scatter(x=df['Date'], y=df['Trade size'], name='Ask size', marker_color ='blue', mode='markers'))\n",
    "fig.update_xaxes(title_text = 'Date')\n",
    "fig.update_layout(title = 'Tick trades and best bid/ask sizes for {0}-{1}'.format(ticker,exchange))\n",
    "fig.show()\n"
   ]
  }
 ],
 "metadata": {
  "kernelspec": {
   "display_name": "Python 3.10.4 64-bit",
   "language": "python",
   "name": "python3"
  },
  "language_info": {
   "codemirror_mode": {
    "name": "ipython",
    "version": 3
   },
   "file_extension": ".py",
   "mimetype": "text/x-python",
   "name": "python",
   "nbconvert_exporter": "python",
   "pygments_lexer": "ipython3",
   "version": "3.10.4"
  },
  "vscode": {
   "interpreter": {
    "hash": "916dbcbb3f70747c44a77c7bcd40155683ae19c65e1c03b4aa3499c5328201f1"
   }
  }
 },
 "nbformat": 4,
 "nbformat_minor": 5
}
