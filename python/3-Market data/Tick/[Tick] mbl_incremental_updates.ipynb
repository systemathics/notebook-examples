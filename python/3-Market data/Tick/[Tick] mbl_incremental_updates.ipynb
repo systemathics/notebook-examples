{
 "cells": [
  {
   "cell_type": "markdown",
   "id": "3119e231",
   "metadata": {
    "tags": []
   },
   "source": [
    "# Generate Market Book by Limit (MBL) limits and trades using dedicated service [Incremental Updates] - Python\n",
    "\n",
    "### Overview\n",
    "Market Book by Price (MBP) also known as Market Book by Limit (MBL), is the price-based data of the book.\n",
    "MBL restricts updates to a maximum of specified depth price levels and consolidates all the quantity (size) into a single update for each price level, which includes the total quantity (size).\n",
    "\n",
    "**Note** : This sample is not about Market Book by Order (MBO). For the MBO please refer the notebook **[Tick] mbo_quotes**\n",
    "\n",
    "Ganymede can translate streams in the MBO (Market By Order) format to MBL/MBP (Market By Limit, or Market By Price) order book data. \n",
    "In this example we use two well known ICE data sources for Euronext\n",
    "1. One contributes full order book in MBO format (e.g: flat quotes)\n",
    "2. The other contributes trades\n",
    "\n",
    "The MBO flat quoted data is on-the-fly translated to the more easily usable MBL/MBP data (matrix)\n",
    "\n",
    "For more information on MBL/MBP and MBO you can for example read [here](https://www.cmegroup.com/education/market-by-order-mbo.html)\n",
    "\n",
    "### Inputs/outputs\n",
    "Trades and book extraction sample requires several inputs :\n",
    "* instrument identifier\n",
    "* book depth \n",
    "* book update type: in this use-case, the update type is **first snapshot then incremental updates**.\n",
    "* date and time constraints\n",
    "\n",
    "The service returns the trades and books for the given instrument.\n",
    "\n",
    "### Services used\n",
    "This sample uses *gRPC requests* in order to retrieve trades and book from the hosted service. The queried endpoint in this script are:\n",
    "* *TickTradesAndBookService*: to directly retrieve trades and book tick data from the server.\n",
    "\n",
    "### Modules required\n",
    "1. Systemathics:\n",
    "    * *systemathics.apis.services.tick.v1*\n",
    "    * *systemathics.apis.type.shared.v1*\n",
    "    * *google.type*\n",
    "2. Open source:\n",
    "    * *googleapis-common-protos*\n",
    "    * *protobuf*\n",
    "    * *grpcio*\n",
    "    \n",
    "***"
   ]
  },
  {
   "cell_type": "markdown",
   "id": "cb1f6032",
   "metadata": {},
   "source": [
    "# Run MBL incremental updates sample"
   ]
  },
  {
   "cell_type": "markdown",
   "id": "753379ba",
   "metadata": {},
   "source": [
    "### Step 1: Install packages and import them"
   ]
  },
  {
   "cell_type": "code",
   "execution_count": null,
   "id": "2e439131",
   "metadata": {},
   "outputs": [],
   "source": [
    "pip install googleapis-common-protos protobuf grpcio pandas matplotlib plotly"
   ]
  },
  {
   "cell_type": "code",
   "execution_count": null,
   "id": "e1ddf751",
   "metadata": {},
   "outputs": [],
   "source": [
    "pip install systemathics.apis --pre"
   ]
  },
  {
   "cell_type": "code",
   "execution_count": null,
   "id": "523049a6",
   "metadata": {},
   "outputs": [],
   "source": [
    "import os\n",
    "import grpc\n",
    "import pandas as pd\n",
    "from datetime import datetime\n",
    "import google.type.date_pb2 as date\n",
    "import google.type.timeofday_pb2 as timeofday\n",
    "import google.type.dayofweek_pb2 as dayofweek\n",
    "import google.protobuf.duration_pb2 as duration\n",
    "import google.protobuf.wrappers_pb2 as wrappers\n",
    "import systemathics.apis.type.shared.v1.identifier_pb2 as identifier\n",
    "import systemathics.apis.type.shared.v1.identifier_and_level_pb2 as identifier_and_level\n",
    "import systemathics.apis.type.shared.v1.constraints_pb2 as constraints\n",
    "import systemathics.apis.type.shared.v1.date_interval_pb2 as dateinterval\n",
    "import systemathics.apis.type.shared.v1.time_interval_pb2 as timeinterval\n",
    "import systemathics.apis.type.shared.v1.book_updates_pb2 as book_updates\n",
    "import systemathics.apis.type.shared.v1.level_pb2 as level\n",
    "import systemathics.apis.services.tick.v1.tick_trades_and_book_pb2 as tick_trades_and_book\n",
    "import systemathics.apis.services.tick.v1.tick_trades_and_book_pb2_grpc as tick_trades_and_book_service\n",
    "import systemathics.apis.helpers.token_helpers as token_helpers\n",
    "import systemathics.apis.helpers.channel_helpers as channel_helpers"
   ]
  },
  {
   "cell_type": "markdown",
   "id": "c9fce84c",
   "metadata": {},
   "source": [
    "### Step 2: Retrieve authentication token\n",
    "The following code snippet sends authentication request and print token to console output in order to process the upcomming *gRPC queries*."
   ]
  },
  {
   "cell_type": "code",
   "execution_count": null,
   "id": "8e856185",
   "metadata": {},
   "outputs": [],
   "source": [
    "token = token_helpers.get_token()\n",
    "display(token)"
   ]
  },
  {
   "cell_type": "markdown",
   "id": "064adf12",
   "metadata": {},
   "source": [
    "### Step 3: Retrieve data\n",
    "To request *tick trades and book* service, we need to specify:\n",
    "* Instrument identifier\n",
    "* Time period selection\n",
    "* Depth\n",
    "* Book update type"
   ]
  },
  {
   "cell_type": "markdown",
   "id": "b9d7ac6a",
   "metadata": {},
   "source": [
    "#### 3.1 Instrument selection"
   ]
  },
  {
   "cell_type": "code",
   "execution_count": null,
   "id": "8b27b908",
   "metadata": {},
   "outputs": [],
   "source": [
    "# Tha data is provided by ICE : let's use the ICE mapping codes to generate the identifier\n",
    "# The ICE ticker\n",
    "ticker = 'E:BNP'\n",
    "\n",
    "# The book limit : get the top 10 best limits\n",
    "my_max_depth = 10\n",
    "\n",
    "# Select bookupdates type  BOOK_UPDATES_SNAPSHOTS_ONLY or BOOK_UPDATES_INCREMENTALS\n",
    "book_updates_type = book_updates.BOOK_UPDATES_INCREMENTALS"
   ]
  },
  {
   "cell_type": "markdown",
   "id": "320f81b1",
   "metadata": {},
   "source": [
    "#### 3.2 Time period delimitation"
   ]
  },
  {
   "cell_type": "code",
   "execution_count": null,
   "id": "b8225d7a",
   "metadata": {},
   "outputs": [],
   "source": [
    "# Create time intervals (we are using Google date format)\n",
    "# Full order book data avaialble (sample) : from 2021-11-01 to 2021-11-12\n",
    "date_interval = dateinterval.DateInterval(\n",
    "    start_date = date.Date(year = 2021, month = 11, day = 1), \n",
    "    end_date = date.Date(year = 2021, month = 11, day = 1)\n",
    ")\n",
    "\n",
    "# Build the tick quotes request time interval (we are using Google date time format)\n",
    "# UTC time zone\n",
    "time_interval = timeinterval.TimeInterval(\n",
    "    start_time = timeofday.TimeOfDay(hours = 12, minutes = 0, seconds = 0), \n",
    "    end_time = timeofday.TimeOfDay(hours = 20, minutes = 30, seconds = 0)\n",
    ")"
   ]
  },
  {
   "cell_type": "code",
   "execution_count": null,
   "id": "4c0ada16",
   "metadata": {},
   "outputs": [],
   "source": [
    "# generate constraints based on the previous time selection\n",
    "my_constraints = constraints.Constraints(\n",
    "    date_intervals = [date_interval],\n",
    "    time_intervals = [time_interval],\n",
    ")"
   ]
  },
  {
   "cell_type": "markdown",
   "id": "4a305820-75da-4a69-bd24-070b48b4b996",
   "metadata": {},
   "source": [
    "#### 3.3 Request creation"
   ]
  },
  {
   "cell_type": "code",
   "execution_count": null,
   "id": "1ccb9ced",
   "metadata": {},
   "outputs": [],
   "source": [
    "#this source is trades only Euronext\n",
    "# this source is MBO/FOB Euronext\n",
    "my_provider = 'ICE'\n",
    "identifier_1 = identifier_and_level.IdentifierAndLevel(ticker = ticker,exchange = '787',level = level.LEVEL_TRADES, provider = wrappers.StringValue(value=my_provider)  )\n",
    "identifier_2 = identifier_and_level.IdentifierAndLevel(ticker = ticker, exchange = 'EQUITY_L2_973', level = level.LEVEL_TRADES_AND_BOOK, provider = wrappers.StringValue(value=my_provider) )\n",
    "my_identifiers = [identifier_1, identifier_2]\n"
   ]
  },
  {
   "cell_type": "code",
   "execution_count": null,
   "id": "d028fbd7-e28a-454c-9390-5b7f8a846a67",
   "metadata": {},
   "outputs": [],
   "source": [
    "# generate the tick trades and book request\n",
    "request = tick_trades_and_book.TickTradesAndBookRequest(\n",
    "    identifiers = my_identifiers,\n",
    "    constraints = my_constraints,\n",
    "    book_updates = book_updates_type,\n",
    "    max_depth = wrappers.Int32Value(value = my_max_depth),\n",
    "    adjustment = False\n",
    ")"
   ]
  },
  {
   "cell_type": "markdown",
   "id": "e6ce6587-53ee-4b7d-8cc2-ce24b2b1ace1",
   "metadata": {},
   "source": [
    "#### 3.4 Request processing and result export\n"
   ]
  },
  {
   "cell_type": "markdown",
   "id": "4e2516b2-0fd3-4316-83e3-2bb06db023a0",
   "metadata": {},
   "source": [
    "In the following code snippet, we request trades and book for the given instrument.\n",
    "The streamed response is exported on the fly in a file."
   ]
  },
  {
   "cell_type": "code",
   "execution_count": null,
   "id": "ff11e050",
   "metadata": {},
   "outputs": [],
   "source": [
    "from datetime import timedelta\n",
    "\n",
    "books_count,trades_count,mappings_count = 0,0,0\n",
    "filename = '{0}_mbl_incremental_updates.txt'.format(ticker)\n",
    "with open(filename, mode='w') as file:\n",
    "    try:\n",
    "        # open a gRPC channel\n",
    "        with channel_helpers.get_grpc_channel() as channel:  \n",
    "\n",
    "            # instantiate the tick quotes service\n",
    "            service = tick_trades_and_book_service.TickTradesAndBookServiceStub(channel)\n",
    "\n",
    "            # process the request\n",
    "            metadata = [('authorization', token)]\n",
    "            for current in service.TickTradesAndBook(request=request, metadata=metadata):\n",
    "                \n",
    "                if current.data.time_stamp.seconds > 0: # handling books/trades separately from first line (asset mapping)\n",
    "                    time =datetime.fromtimestamp(current.data.time_stamp.seconds) + timedelta(microseconds = current.data.time_stamp.nanos/1000)\n",
    "                    \n",
    "                    if len(current.data.book.bid) > 0 or len(current.data.book.ask) > 0: # handling books\n",
    "                        books_count+=1\n",
    "                        book = current.data.book\n",
    "                        str_mapping = current.data.mapping\n",
    "                        file.write(('[BOOK]  {0} [{1}]'.format(time, str_mapping))+'\\n')\n",
    "                        book_max = max(len(book.bid), len(book.ask))\n",
    "                        for i in range(0,book_max):\n",
    "                            bid_depth,ask_depth,bid_price,ask_price,bid_size,ask_size = '','','','','',''\n",
    "                            if i< len(book.bid):\n",
    "                                bid_price = book.bid[i].price\n",
    "                                bid_size = book.bid[i].size\n",
    "                                bid_depth = book.bid[i].depth\n",
    "                            if i< len(book.ask):\n",
    "                                ask_price = book.ask[i].price\n",
    "                                ask_size = book.ask[i].size\n",
    "                                ask_depth = book.ask[i].depth\n",
    "                            my_str = '{0:10} {1:10} {2:10} {3:10} {4:10} {5:10}'.format(bid_depth, bid_size, bid_price, ask_price, ask_size, ask_depth)\n",
    "                            file.write((my_str)+'\\n')\n",
    "                        file.write('\\n')\n",
    "\n",
    "                    else: # handling trade\n",
    "                        trades_count+=1\n",
    "                        trade = current.data.trade\n",
    "                        str_mapping = current.data.mapping\n",
    "                        time =datetime.fromtimestamp(current.data.time_stamp.seconds) + timedelta(microseconds = current.data.time_stamp.nanos/1000)\n",
    "                        str_price = trade.price\n",
    "                        str_size = trade.size\n",
    "                        str_condition = trade.condition\n",
    "                        str_id = trade.id\n",
    "                        file.write(('[TRADE] {0} [{1}]'.format(time, str_mapping))+'\\n')\n",
    "                        file.write(('{0}@{1} Id={2} Condition={3}'.format(str_size, str_price, str_id, str_condition))+'\\n\\n')\n",
    "                    \n",
    "                else:  \n",
    "                    mappings_count+=1\n",
    "                    file.write(('[MAPPING]')+'\\n')\n",
    "                    for i in range(len(current.mapping.values)):\n",
    "                        str_provider = current.mapping.values[i].identifier.provider.value\n",
    "                        str_exchange = current.mapping.values[i].identifier.exchange\n",
    "                        str_ticker = current.mapping.values[i].identifier.ticker\n",
    "                        my_str = '# [{0}] => {1}/{2}/{3}'.format(i, str_provider, str_exchange, str_ticker)\n",
    "                        file.write((my_str)+'\\n')\n",
    "                    file.write('\\n')\n",
    "                    \n",
    "                    \n",
    "                    \n",
    "    except grpc.RpcError as e:\n",
    "        display(e.code().name)\n",
    "        display(e.details())\n",
    "        \n",
    "# Some display\n",
    "print('----- Done exporting ----- ')\n",
    "print('Mappings: {}'.format(mappings_count))\n",
    "print('Trades: {}'.format(trades_count))\n",
    "print('Books: {}'.format(books_count))\n",
    "print('Check export in {}'.format(filename)) "
   ]
  }
 ],
 "metadata": {
  "kernelspec": {
   "display_name": "Python 3 (ipykernel)",
   "language": "python",
   "name": "python3"
  },
  "language_info": {
   "codemirror_mode": {
    "name": "ipython",
    "version": 3
   },
   "file_extension": ".py",
   "mimetype": "text/x-python",
   "name": "python",
   "nbconvert_exporter": "python",
   "pygments_lexer": "ipython3",
   "version": "3.9.7"
  }
 },
 "nbformat": 4,
 "nbformat_minor": 5
}
