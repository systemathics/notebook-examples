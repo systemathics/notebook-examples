{
 "cells": [
  {
   "cell_type": "markdown",
   "id": "3119e231",
   "metadata": {
    "jp-MarkdownHeadingCollapsed": true,
    "tags": []
   },
   "source": [
    "# Market by Order (MBO) vs Market by Limit (MBL) - Python\n",
    "\n",
    "## Overview\n",
    "This sample is designed to illustrate the difference between **Market by Order (MBO)** and **Market by Limit (MBL)**.\n",
    "\n",
    "### Order Book\n",
    "The Order Book contains the list of orders (or quotes) to record the interest of buyers (bid side) and sellers (ask side) in a particular financial instrument.\n",
    "Then, the matching engine (specific to each exchange or broker) uses the book to determine which orders can be fully or partially executed (trades). \n",
    "\n",
    "### Market by Order (MBO)\n",
    "The **Market by Order (MBO)** is the simple view of the Order Book. It describes an order-based (or quote-based) data feed that provides the ability to view individual queue position, the full order book and the details of each individual order or quote at each price level.\n",
    "\n",
    "The order or quote contains :\n",
    "* TimeStamp : date and time of the order\n",
    "* Identifier : unique identifier of the order\n",
    "* Price : limit price to buy or sell\n",
    "* Size : quantity to buy or sell\n",
    "* Condition : trading condition (the order type : limit, market ...)\n",
    "* Side : Bid or Ask\n",
    "\n",
    "### Market by Limit (MBL)\n",
    "**Market by Limit (MBL)**, also known as **Market by Price (MBP)**, is the price-based data of the book.\n",
    "It is built using the MBO. It restricts updates for a given side (bid or ask) to a maximum of specified depth price levels and consolidates all the quantity (size) into a single level (or limit) for each price level, which includes the total quantity (size).\n",
    "\n",
    "i.e. When several orders contain the same price, they are referred as a price level, meaning that if, for example, a bid comes at that price level, all the sell orders (ask) on that price level could potentially fulfill the order. \n",
    "\n",
    "Then the list of consolidated buy orders and sell orders are sorted : the highest bid price is on top of bids list and the lowest ask price is on top of the asks list.\n",
    "The highest bid and the lowest ask are referred to as the **Top of the Book** (depth = 0). \n",
    "\n",
    "The level (or limit) contains :\n",
    "* Depth : the index of price on the list\n",
    "* Price : the price level\n",
    "* Size : the total quantity\n",
    "* Side : Bid or Ask\n",
    "\n",
    "## Run the sample\n",
    "### Inputs/outputs\n",
    "The sample requires instrument's identifier, date time intervals as per inputs and returns the occured data information.\n",
    "\n",
    "### Services used\n",
    "This sample uses *gRPC requests* in order to retrieve MBO and MBL information from the hosted service. The queried endpoint in this script are:\n",
    "* *TickQuotesService*: to directly retrieve MBO quotes data from the server.\n",
    "* *TickTradesAndBookService*: to directly retrieve MBL levels data from the server.\n",
    "\n",
    "### Packages required\n",
    "1. Systemathics:\n",
    "    * *systemathics.apis.services.tick.v1*\n",
    "    * *systemathics.apis.type.shared.v1*\n",
    "    *  *google.type*\n",
    "2. Open source:\n",
    "    * *googleapis-common-protos*\n",
    "    * *protobuf*\n",
    "    * *grpcio*\n",
    "    \n",
    "***"
   ]
  },
  {
   "cell_type": "markdown",
   "id": "cb1f6032",
   "metadata": {},
   "source": [
    "# Run MBO vs MBL sample"
   ]
  },
  {
   "cell_type": "markdown",
   "id": "753379ba",
   "metadata": {},
   "source": [
    "### Step 1: Install packages and import them"
   ]
  },
  {
   "cell_type": "code",
   "execution_count": null,
   "id": "2e439131",
   "metadata": {},
   "outputs": [],
   "source": [
    "pip install googleapis-common-protos protobuf grpcio pandas matplotlib plotly"
   ]
  },
  {
   "cell_type": "code",
   "execution_count": null,
   "id": "e1ddf751",
   "metadata": {},
   "outputs": [],
   "source": [
    "pip install systemathics.apis --pre"
   ]
  },
  {
   "cell_type": "code",
   "execution_count": null,
   "id": "523049a6",
   "metadata": {},
   "outputs": [],
   "source": [
    "import os\n",
    "import grpc\n",
    "import csv\n",
    "import pandas as pd\n",
    "from datetime import datetime\n",
    "import google.type.date_pb2 as date\n",
    "import google.type.timeofday_pb2 as timeofday\n",
    "import google.type.dayofweek_pb2 as dayofweek\n",
    "import google.protobuf.duration_pb2 as duration\n",
    "import google.protobuf.wrappers_pb2 as wrappers\n",
    "import systemathics.apis.type.shared.v1.identifier_pb2 as identifier\n",
    "import systemathics.apis.type.shared.v1.identifier_and_level_pb2 as identifier_and_level\n",
    "import systemathics.apis.type.shared.v1.level_pb2 as level\n",
    "import systemathics.apis.type.shared.v1.constraints_pb2 as constraints\n",
    "import systemathics.apis.type.shared.v1.date_interval_pb2 as dateinterval\n",
    "import systemathics.apis.type.shared.v1.time_interval_pb2 as timeinterval\n",
    "import systemathics.apis.type.shared.v1.book_updates_pb2 as book_updates\n",
    "import systemathics.apis.services.tick.v1.tick_trades_and_book_pb2 as tick_trades_and_book\n",
    "import systemathics.apis.services.tick.v1.tick_trades_and_book_pb2_grpc as tick_trades_and_book_service\n",
    "import systemathics.apis.services.tick.v1.tick_quotes_pb2 as tick_quotes\n",
    "import systemathics.apis.services.tick.v1.tick_quotes_pb2_grpc as tick_quotes_service\n",
    "import systemathics.apis.helpers.token_helpers as token_helpers\n",
    "import systemathics.apis.helpers.channel_helpers as channel_helpers"
   ]
  },
  {
   "cell_type": "markdown",
   "id": "c9fce84c",
   "metadata": {},
   "source": [
    "### Step 2: Retrieve authentication token\n",
    "The following code snippet sends authentication request and print token to console output in order to process the upcomming *gRPC queries*."
   ]
  },
  {
   "cell_type": "code",
   "execution_count": null,
   "id": "8e856185",
   "metadata": {},
   "outputs": [],
   "source": [
    "token = token_helpers.get_token()\n",
    "display(token)"
   ]
  },
  {
   "cell_type": "markdown",
   "id": "064adf12",
   "metadata": {},
   "source": [
    "### Step 3: Retrieve data\n",
    "To request *tick trades* service, we need to specify:\n",
    "* Instrument identifier\n",
    "* Time period selection: select start and end dates\n",
    "* Tick trades request parameters"
   ]
  },
  {
   "cell_type": "markdown",
   "id": "b9d7ac6a",
   "metadata": {},
   "source": [
    "#### 3.1 Instrument selection"
   ]
  },
  {
   "cell_type": "code",
   "execution_count": null,
   "id": "8b27b908",
   "metadata": {},
   "outputs": [],
   "source": [
    "# Tha data is provided by ICE : let's use the ICE mapping codes to generate the identifier\n",
    "# The ICE ticker\n",
    "ticker = 'E:BNP'\n",
    "provider = 'ICE'\n",
    "\n",
    "# The source for full order book : Euronext\n",
    "source = 'EQUITY_L2_973'\n",
    "\n",
    "# Bokk depth\n",
    "my_book_depth = 10"
   ]
  },
  {
   "cell_type": "markdown",
   "id": "320f81b1",
   "metadata": {},
   "source": [
    "#### 3.2 Time period delimitation"
   ]
  },
  {
   "cell_type": "code",
   "execution_count": null,
   "id": "b8225d7a",
   "metadata": {},
   "outputs": [],
   "source": [
    "# Create time intervals (we are using Google date format)\n",
    "# Full order book data avaialble (sample) : from 2021-11-01 to 2021-11-12\n",
    "date_interval = dateinterval.DateInterval(\n",
    "    start_date = date.Date(year = 2021, month = 11, day = 1), \n",
    "    end_date = date.Date(year = 2021, month = 11, day = 1)\n",
    ")\n",
    "\n",
    "# Build the tick quotes request time interval (we are using Google date time format)\n",
    "# UTC time zone\n",
    "time_interval = timeinterval.TimeInterval(\n",
    "    start_time = timeofday.TimeOfDay(hours = 12, minutes = 0, seconds = 0), \n",
    "    end_time = timeofday.TimeOfDay(hours = 12, minutes = 30, seconds = 0)\n",
    ")"
   ]
  },
  {
   "cell_type": "code",
   "execution_count": null,
   "id": "4c0ada16",
   "metadata": {},
   "outputs": [],
   "source": [
    "# generate constraints based on the previous time selection\n",
    "my_constraints = constraints.Constraints(\n",
    "    date_intervals = [date_interval],\n",
    "    time_intervals = [time_interval],\n",
    ")"
   ]
  },
  {
   "cell_type": "markdown",
   "id": "4a305820-75da-4a69-bd24-070b48b4b996",
   "metadata": {},
   "source": [
    "#### 3.3 Request creation"
   ]
  },
  {
   "cell_type": "markdown",
   "id": "6d22df7a-867e-418c-948a-54c6a7a6ea82",
   "metadata": {},
   "source": [
    "##### 3.3.1 Market by Order (MBO)\n",
    "The following code snippet create request for `quotes` data."
   ]
  },
  {
   "cell_type": "code",
   "execution_count": null,
   "id": "9e96ec89-4304-491a-8db2-ac2b59e21012",
   "metadata": {},
   "outputs": [],
   "source": [
    "# generate the quotes request\n",
    "mbo_identifier = identifier.Identifier(exchange = source, ticker = ticker)\n",
    "mbo_request = tick_quotes.TickQuotesRequest(\n",
    "    identifiers = [mbo_identifier],\n",
    "    constraints = my_constraints\n",
    ")"
   ]
  },
  {
   "cell_type": "markdown",
   "id": "3f66c26d-e09e-4ac3-8bad-1f48e56761f2",
   "metadata": {},
   "source": [
    "##### 3.3.1 Market by Limit (MBL)\n",
    "The following code snippet create request for `trades and book` data."
   ]
  },
  {
   "cell_type": "code",
   "execution_count": null,
   "id": "1ccb9ced",
   "metadata": {},
   "outputs": [],
   "source": [
    "# generate the tick trades request\n",
    "mbl_identifier = identifier_and_level.IdentifierAndLevel(exchange = source, ticker = ticker, level = level.LEVEL_TRADES_AND_BOOK)\n",
    "mbl_request = tick_trades_and_book.TickTradesAndBookRequest(\n",
    "    identifiers = [mbl_identifier],\n",
    "    constraints = my_constraints,\n",
    "    book_updates = book_updates.BOOK_UPDATES_SNAPSHOTS_ONLY,\n",
    "    max_depth = wrappers.Int32Value(value = my_book_depth),\n",
    "    contributors = True\n",
    ")"
   ]
  },
  {
   "cell_type": "markdown",
   "id": "e6ce6587-53ee-4b7d-8cc2-ce24b2b1ace1",
   "metadata": {},
   "source": [
    "#### 3.4 Request processing\n"
   ]
  },
  {
   "cell_type": "markdown",
   "id": "4e2516b2-0fd3-4316-83e3-2bb06db023a0",
   "metadata": {},
   "source": [
    "In the following code snippet, we request quotes for the given instrument.\n",
    "The streamed response is exported on the fly in a file."
   ]
  },
  {
   "cell_type": "markdown",
   "id": "725b1075-ccd3-4e5e-bf95-d08999ed8532",
   "metadata": {},
   "source": [
    "##### 3.4.1 Processing TickQuotes (MBO)"
   ]
  },
  {
   "cell_type": "code",
   "execution_count": null,
   "id": "ff11e050",
   "metadata": {},
   "outputs": [],
   "source": [
    "import csv\n",
    "from datetime import timedelta\n",
    "\n",
    "quotes = []\n",
    "quotes_count = 0\n",
    "quotes_count_intern = 0\n",
    "\n",
    "try:\n",
    "    # open a gRPC channel\n",
    "    with channel_helpers.get_grpc_channel() as channel:  \n",
    "\n",
    "        # instantiate the tick quotes service\n",
    "        mbo_service = tick_quotes_service.TickQuotesServiceStub(channel)\n",
    "\n",
    "        # process the tick quotes request\n",
    "        metadata = [('authorization', token)]\n",
    "        for current_mbo in mbo_service.TickQuotes(request=mbo_request, metadata=metadata):\n",
    "\n",
    "            # filter 1rst line = mapping (not used here since we are using only one instrument in request)\n",
    "            if current_mbo.data.time_stamp.seconds > 0:\n",
    "                quotes_count +=1\n",
    "                \n",
    "                            # store some quotes for the article:\n",
    "                if quotes_count > 0 and quotes_count < 10:\n",
    "                    quotes.append(current_mbo)\n",
    "\n",
    "                time =datetime.fromtimestamp(current_mbo.data.time_stamp.seconds) + timedelta(microseconds = current_mbo.data.time_stamp.nanos/1000)\n",
    "                for quote in current_mbo.data.quotes:\n",
    "                    quotes_count_intern +=1\n",
    "                    my_id = quote.id\n",
    "                    my_side = quote.side\n",
    "                    my_price= quote.price.value\n",
    "                    my_size= quote.size.value\n",
    "                    my_condition= quote.condition.value\n",
    "                    \n",
    "except grpc.RpcError as e:\n",
    "    display(e.code().name)\n",
    "    display(e.details())\n",
    "    \n",
    "print('Total quotes retrieved: {0}'.format(quotes_count))"
   ]
  },
  {
   "cell_type": "markdown",
   "id": "4a8e4be1-38db-4cf2-961a-7b680d3d78bc",
   "metadata": {},
   "source": [
    "##### 3.4.2 Processing TickTradesAndBook (MBL)"
   ]
  },
  {
   "cell_type": "code",
   "execution_count": null,
   "id": "767fd238-7a94-4242-95ea-9bea968770f4",
   "metadata": {},
   "outputs": [],
   "source": [
    "try:\n",
    "    \n",
    "    # open a gRPC channel\n",
    "    with channel_helpers.get_grpc_channel() as channel:  \n",
    "        \n",
    "        # instantiate the tick trades and book service\n",
    "        mbl_service = tick_trades_and_book_service.TickTradesAndBookServiceStub(channel)\n",
    "        \n",
    "        # process the tick trades and book request\n",
    "        time_stamps, trade_prices, trade_sizes, bid_prices, bid_sizes, ask_prices, ask_sizes  = [], [], [],[], [], [], []\n",
    "        timestamp_count, limits_count, trades_count = 0, 0, 0\n",
    "\n",
    "        for current_mbl in mbl_service.TickTradesAndBook(request = mbl_request, metadata = [('authorization', token)]):\n",
    "            \n",
    "            # get timestamps\n",
    "            if current_mbl.data.time_stamp.seconds > 0:\n",
    "                timestamp_count += 1\n",
    "                time_stamps.append(current_mbl.data.time_stamp)\n",
    "            \n",
    "            # get book limits and set trade fields to nan\n",
    "            if len(current_mbl.data.book.bid) > 0 or len(current_mbl.data.book.ask) > 0:\n",
    "                bid_prices.append(current_mbl.data.book.bid[0].price)\n",
    "                bid_sizes.append(current_mbl.data.book.bid[0].size)\n",
    "                ask_prices.append(current_mbl.data.book.ask[0].price)\n",
    "                ask_sizes.append(- current_mbl.data.book.ask[0].size)\n",
    "                trade_prices.append(None)\n",
    "                trade_sizes.append(None)\n",
    "                limits_count += 1\n",
    "            \n",
    "            # get trades and set book limits fields to nan\n",
    "            if current_mbl.data.trade.price > 0:\n",
    "                trade_prices.append(current_mbl.data.trade.price)\n",
    "                trade_sizes.append(current_mbl.data.trade.size)\n",
    "                bid_prices.append(None)\n",
    "                bid_sizes.append(None)\n",
    "                ask_prices.append(None)\n",
    "                ask_sizes.append(None)\n",
    "                trades_count += 1\n",
    "            \n",
    "except grpc.RpcError as e:\n",
    "    display(e.code().name)\n",
    "    display(e.details())\n",
    "    \n",
    "print('Total time stamps retrieved: {0}'.format(timestamp_count))\n",
    "print('Total trades retrieved: {0}'.format(trades_count))\n",
    "print('Total book limits retrieved: {0}'.format(limits_count))    "
   ]
  },
  {
   "cell_type": "markdown",
   "id": "809390c2-25ff-4167-8069-1e106b854a43",
   "metadata": {},
   "source": [
    "### 4 Visualize results\n"
   ]
  },
  {
   "cell_type": "markdown",
   "id": "fc581dc6-8817-4468-a5d2-c05a8e2f62f2",
   "metadata": {},
   "source": [
    "#### 4.1 Market by Order (MBO)"
   ]
  },
  {
   "cell_type": "markdown",
   "id": "010d7f3c-b90e-40f5-9500-b5b9d9f8c3f7",
   "metadata": {},
   "source": [
    "The Market by order display type does not allow one to visualize the book completely for a given time stamp. The TickQuotes services only returns a series of quotes.\n",
    "In the snippets below, we decide to visualize the first quotes returned in the response"
   ]
  },
  {
   "cell_type": "code",
   "execution_count": null,
   "id": "be963a03-1def-4531-a026-2f5ea7e2bf0a",
   "metadata": {},
   "outputs": [],
   "source": [
    "# small method to convert the side\n",
    "def prettyprint(side):\n",
    "    if side == 1:\n",
    "        return \"Bid\"\n",
    "    else:\n",
    "        return 'Ask'"
   ]
  },
  {
   "cell_type": "code",
   "execution_count": null,
   "id": "2a3a32dd-b265-48d2-a5f0-fda6e53d422d",
   "metadata": {},
   "outputs": [],
   "source": [
    "quotes_id = [quotes[x].data.quotes[0].id for x in range(len(quotes))]\n",
    "quotes_side = [prettyprint(quotes[x].data.quotes[0].side) for x in range(len(quotes))]\n",
    "quotes_price = [quotes[x].data.quotes[0].price.value for x in range(len(quotes))]\n",
    "quotes_size = [quotes[x].data.quotes[0].size.value for x in range(len(quotes))]\n",
    "quotes_condition = [quotes[x].data.quotes[0].condition.value for x in range(len(quotes))]\n",
    "time_stamps = [(datetime.fromtimestamp(quotes[x].data.time_stamp.seconds) + timedelta(microseconds = quotes[x].data.time_stamp.nanos/1000)) for x in range(len(quotes))]\n",
    "\n",
    "# create a pandas dataframe with: dates, trades prices and sizes\n",
    "d_mbo = {'TimeStamp': time_stamps, 'Id': quotes_id,'Side': quotes_side, 'Price': quotes_price, 'Size': quotes_size, 'Condition': quotes_condition}\n",
    "df_mbo = pd.DataFrame(data=d_mbo)\n",
    "df_mbo.to_csv('mbo_example_array.csv', index = False) # exporting if required\n",
    "\n",
    "# Display quotes\n",
    "df_mbo"
   ]
  },
  {
   "cell_type": "markdown",
   "id": "e31d6170-6798-40ab-b312-e04ec3deb5cb",
   "metadata": {},
   "source": [
    "From the list of quotes, it is possible to rebuild the full order book as we will see in the next part"
   ]
  },
  {
   "cell_type": "markdown",
   "id": "c04f5f2c-d8de-45ab-9ebc-6376ac0f0572",
   "metadata": {},
   "source": [
    "#### 4.2 Market by Limit (MBL)"
   ]
  },
  {
   "cell_type": "markdown",
   "id": "c4848978-f89a-4b1a-a367-8e9bc2a3c7fd",
   "metadata": {},
   "source": [
    "In the Market by Limit Book display type now appears the notion of depth. As the list of quotes are also returned for each limit, we can display the market for the selected depth."
   ]
  },
  {
   "cell_type": "markdown",
   "id": "fbbfb2e5-3182-45fc-96ae-6e2bae3e0e6f",
   "metadata": {},
   "source": [
    "##### 4.2.1 Visualize MBL in a dataframe"
   ]
  },
  {
   "cell_type": "code",
   "execution_count": null,
   "id": "674caaa4-f66f-45f8-973d-537f4016e354",
   "metadata": {},
   "outputs": [],
   "source": [
    "# We will work on the last response\n",
    "data = current_mbl.data\n",
    "\n",
    "mbl_time_stamp = datetime.fromtimestamp(data.time_stamp.seconds) + timedelta(microseconds = data.time_stamp.nanos/1000)\n",
    "book_max = max(len(data.book.bid), len(data.book.ask))\n",
    "bid_prices = [data.book.bid[x].price for x in range(book_max)]\n",
    "bid_sizes = [data.book.bid[x].size for x in range(book_max)]\n",
    "bid_counts = [len(data.book.bid[x].quotes) for x in range(book_max)]\n",
    "bid_details_joined = ['|'.join(['{}'.format(quote.size.value) for quote in current_mbl.data.book.bid[x].quotes]) for x in range(book_max)]\n",
    "ask_prices = [data.book.ask[x].price for x in range(book_max)]\n",
    "ask_sizes = [data.book.ask[x].size for x in range(book_max)]\n",
    "ask_counts = [len(data.book.ask[x].quotes) for x in range(book_max)]\n",
    "ask_details_joined = ['|'.join(['{}'.format(quote.size.value) for quote in current_mbl.data.book.ask[x].quotes]) for x in range(book_max)]"
   ]
  },
  {
   "cell_type": "code",
   "execution_count": null,
   "id": "2bd76b36-84b2-4a93-8b54-e2f1ec05c9ec",
   "metadata": {},
   "outputs": [],
   "source": [
    "# create a pandas dataframe with: dates, trades prices and sizes\n",
    "d_mbl = {'Bid_Details': bid_details_joined,'Bid_#Quotes': bid_counts, 'Bid_Size': bid_sizes, 'Bid_Price': bid_prices, 'Ask_Price': ask_prices,  'Ask_Size': ask_sizes, 'Ask_#Quotes': ask_counts,'Ask_Details': ask_details_joined}\n",
    "df_mbl = pd.DataFrame(data=d_mbl)\n",
    "df_mbl.to_csv('mbl_example_array.csv', index = False) # exporting if required\n",
    "df_mbl"
   ]
  },
  {
   "cell_type": "markdown",
   "id": "cc1e36ed-112e-4deb-b146-d100673a9331",
   "metadata": {},
   "source": [
    "##### 4.2.2 Visualize MBL in a bar chart\n",
    "In a first step we have to define some functions to help us display the order sizes."
   ]
  },
  {
   "cell_type": "code",
   "execution_count": null,
   "id": "e3a63daf-cc53-49bc-ba4b-1c4e6e9a67ac",
   "metadata": {},
   "outputs": [],
   "source": [
    "# Gets the maximum size of list in a given list of list\n",
    "# [[3,2,1,3,6],         \n",
    "#  [4],         ====> returns 5\n",
    "#  [5,12]],\n",
    "def get_max_count(my_arrays):\n",
    "    my_max = 0\n",
    "    for array in my_arrays:\n",
    "        if len(array) > my_max:\n",
    "            my_max = len(array)\n",
    "    return my_max\n",
    "\n",
    "\n",
    "\n",
    "# Reverts an array of size i*various_size to an array of size max(various_size)*i where any new entry are zeros \n",
    "# [[3,2,1],          [[3,4,5],\n",
    "#  [4],         ==>   [2,0,0],\n",
    "#  [5,12]],           [5,12,0],\n",
    "def reverse_details_array_and_fill(my_arrays):\n",
    "    new_arrays = []\n",
    "    my_max = get_max_count(my_arrays)\n",
    "    for i in range(my_max):\n",
    "        tmp = []\n",
    "        for j in range(len(my_arrays)):\n",
    "            if len(my_arrays[j]) < i+1:\n",
    "                tmp.append(0)\n",
    "            else:\n",
    "                tmp.append(my_arrays[j][i])\n",
    "        new_arrays.append(tmp)\n",
    "    return new_arrays  "
   ]
  },
  {
   "cell_type": "code",
   "execution_count": null,
   "id": "d58da7b6-e2d2-41c3-8d4c-c4526323c6d1",
   "metadata": {},
   "outputs": [],
   "source": [
    "# prepare data\n",
    "bid_details = [[quote.size.value for quote in current_mbl.data.book.bid[x].quotes] for x in range(book_max)]\n",
    "ask_details = [[quote.size.value for quote in current_mbl.data.book.ask[x].quotes] for x in range(book_max)]\n",
    "bid_max_counts= get_max_count(bid_details)\n",
    "ask_max_counts= get_max_count(ask_details)\n",
    "print('Max order counts:')\n",
    "print('--> Bid: {}'.format(bid_max_counts))\n",
    "print('--> Ask: {}'.format(ask_max_counts))"
   ]
  },
  {
   "cell_type": "code",
   "execution_count": null,
   "id": "16216909-a8eb-4196-b51f-59e61452d75d",
   "metadata": {},
   "outputs": [],
   "source": [
    "# reprocess the details of order counts in order to plot the result\n",
    "reversed_bid_sizes = reverse_details_array_and_fill(bid_details)\n",
    "reversed_ask_sizes = reverse_details_array_and_fill(ask_details)"
   ]
  },
  {
   "cell_type": "code",
   "execution_count": 43,
   "id": "d69990f0-e688-475d-8dfc-3d7363d92c6a",
   "metadata": {},
   "outputs": [
    {
     "name": "stdout",
     "output_type": "stream",
     "text": [
      "Requirement already satisfied: colour in /opt/conda/lib/python3.9/site-packages (0.1.5)\n",
      "Note: you may need to restart the kernel to use updated packages.\n"
     ]
    }
   ],
   "source": [
    "pip install colour"
   ]
  },
  {
   "cell_type": "code",
   "execution_count": 44,
   "id": "1082675f-cd06-4458-a48d-a3627a0e4037",
   "metadata": {},
   "outputs": [],
   "source": [
    "from colour import Color\n",
    "\n",
    "ask_start = Color(\"#e40000\")\n",
    "ask_end = Color(\"#f69b9b\")\n",
    "ask_colors = list(ask_start.range_to(ask_end,ask_max_counts))\n",
    "\n",
    "bid_start = Color(\"#48b300\")\n",
    "bid_end = Color(\"#aff69b\")\n",
    "bid_colors = list(bid_start.range_to(bid_end,bid_max_counts))"
   ]
  },
  {
   "cell_type": "markdown",
   "id": "9a0e058d-bebd-453b-b63b-876affb22af4",
   "metadata": {},
   "source": [
    "We can now display the book by limit using `matplotlib` package"
   ]
  },
  {
   "cell_type": "code",
   "execution_count": 45,
   "id": "415c914d-c826-4d98-b77c-f8d226181072",
   "metadata": {},
   "outputs": [
    {
     "data": {
      "text/plain": [
       "[]"
      ]
     },
     "execution_count": 45,
     "metadata": {},
     "output_type": "execute_result"
    },
    {
     "data": {
      "image/png": "[encoded data removed]",
      "text/plain": [
       "<Figure size 1224x576 with 2 Axes>"
      ]
     },
     "metadata": {
      "needs_background": "light"
     },
     "output_type": "display_data"
    }
   ],
   "source": [
    "import matplotlib.pyplot as plt\n",
    "\n",
    "bid_colors = ['#1fff00','#1bd606','#19c808','#18ba0a','#15a30d','#13910f','#117f12','#0f6d15','#0d5e17','#0c5119','#0c5119', '#0c5119']\n",
    "ask_colors = ['#88251e','#92221c','#9c1f19','#a51c17','#ac1a15','#b51713','#bf1411','#c8110f','#cf0f0d','#d90c0a','#e30907','#ea0705','#f30403','#ff0000']\n",
    "fig,ax = plt.subplots(1,1, figsize=(17,8))\n",
    "# bid\n",
    "ax.bar(bid_prices, reversed_bid_sizes[0], color = bid_colors[0], edgecolor = 'black', width= 0.005, label = 'test')\n",
    "for i_bid in range(1,bid_max_counts):\n",
    "    ax.bar(bid_prices, reversed_bid_sizes[i_bid], bottom=reversed_bid_sizes[i_bid-1], color = bid_colors[i_bid], edgecolor = 'black', width= 0.005)\n",
    "\n",
    "ax.set_xlabel(\"Price\",fontsize=14)\n",
    "ax.set_ylabel(\"Bid\",color=\"green\",fontsize=16)    \n",
    "ax2 = ax.twinx()\n",
    "ax2.bar(ask_prices, reversed_ask_sizes[0], color = ask_colors[0], edgecolor = 'black', width= 0.005)\n",
    "for i_ask in range(1,ask_max_counts):\n",
    "    ax2.bar(ask_prices, reversed_ask_sizes[i_ask], bottom=reversed_ask_sizes[i_ask-1], color = ask_colors[i_ask], edgecolor = 'black', width= 0.005)\n",
    "\n",
    "\n",
    "ax2.set_ylabel(\"Ask\",color=\"Red\",fontsize=16)\n",
    "    \n",
    "# set the spacing between subplots\n",
    "plt.subplots_adjust(left=0.1, bottom=0.1, right=0.9, top=0.9, wspace=0.2, hspace=0.8)\n",
    "# add subtitle\n",
    "plt.suptitle('Book by Limit for {0} : {1}'.format(ticker,mbl_time_stamp), size=20)\n",
    "# plot\n",
    "plt.plot()"
   ]
  },
  {
   "cell_type": "code",
   "execution_count": null,
   "id": "3d6d2a41-8354-4e7f-b448-aa1211dad406",
   "metadata": {},
   "outputs": [],
   "source": []
  }
 ],
 "metadata": {
  "kernelspec": {
   "display_name": "Python 3 (ipykernel)",
   "language": "python",
   "name": "python3"
  },
  "language_info": {
   "codemirror_mode": {
    "name": "ipython",
    "version": 3
   },
   "file_extension": ".py",
   "mimetype": "text/x-python",
   "name": "python",
   "nbconvert_exporter": "python",
   "pygments_lexer": "ipython3",
   "version": "3.9.7"
  }
 },
 "nbformat": 4,
 "nbformat_minor": 5
}
