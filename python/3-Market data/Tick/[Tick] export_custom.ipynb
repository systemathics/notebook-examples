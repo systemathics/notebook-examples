{
 "cells": [
  {
   "cell_type": "markdown",
   "metadata": {},
   "source": [
    "# Export trades ticks and immediately preceding book ticks using dedicated service - Python\n",
    "\n",
    "### Overview\n",
    "Here we want to extract trade ticks and also know about the state of the book immediately before each trade.\n",
    "\n",
    "This sample is designed to request simultaneously trades and top of the book and illustrate market activity over a look back period.\n",
    "\n",
    "### Inputs/outputs\n",
    "Extraction sample requires instrument's identifier, date time intervals as per inputs and returns top fo the book the occured trades data points.\n",
    "\n",
    "### Services used\n",
    "This sample uses *gRPC requests* in order to retrieve trades and top of the book from the hosted service. The queried endpoint in this script are:\n",
    "* *TickTradesAndBookService*: to directly retrieve trades and top of the book data from the server.\n",
    "\n",
    "### Modules required\n",
    "1. Systemathics:\n",
    "    * *systemathics.apis.services.tick.v1*\n",
    "    * *systemathics.apis.type.shared.v1*\n",
    "    * *google.type*\n",
    "2. Open source:\n",
    "    * *googleapis-common-protos*\n",
    "    * *protobuf*\n",
    "    * *grpcio*\n",
    "    \n",
    "***"
   ]
  },
  {
   "cell_type": "markdown",
   "metadata": {},
   "source": [
    "### Step 1: Install packages"
   ]
  },
  {
   "cell_type": "code",
   "execution_count": null,
   "metadata": {},
   "outputs": [],
   "source": [
    "pip install googleapis-common-protos protobuf grpcio systemathics.apis"
   ]
  },
  {
   "cell_type": "code",
   "execution_count": null,
   "metadata": {},
   "outputs": [],
   "source": [
    "import grpc\n",
    "from datetime import datetime\n",
    "import google.type.date_pb2 as date\n",
    "import google.type.timeofday_pb2 as timeofday\n",
    "import systemathics.apis.type.shared.v1.identifier_pb2 as identifier\n",
    "import systemathics.apis.type.shared.v1.constraints_pb2 as constraints\n",
    "import systemathics.apis.type.shared.v1.date_interval_pb2 as dateinterval\n",
    "import systemathics.apis.type.shared.v1.time_interval_pb2 as timeinterval\n",
    "import systemathics.apis.services.tick.v1.tick_trades_and_book_pb2 as tick_trades_and_book\n",
    "import systemathics.apis.services.tick.v1.tick_trades_and_book_pb2_grpc as tick_trades_and_book_service\n",
    "import systemathics.apis.helpers.token_helpers as token_helpers\n",
    "import systemathics.apis.helpers.channel_helpers as channel_helpers"
   ]
  },
  {
   "cell_type": "markdown",
   "metadata": {},
   "source": [
    "### Step 2: Retrieve authentication token\n",
    "The following code snippet sends authentication request and print token to console output in order to process the upcomming *gRPC queries*."
   ]
  },
  {
   "cell_type": "code",
   "execution_count": null,
   "metadata": {},
   "outputs": [],
   "source": [
    "token = token_helpers.get_token()\n",
    "display(token)"
   ]
  },
  {
   "cell_type": "markdown",
   "metadata": {},
   "source": [
    "### Step 3: Retrieve data\n",
    "To request *tick trades and book* service, we need to specify:\n",
    "* Instrument identifier\n",
    "* Time period selection: select start and end dates"
   ]
  },
  {
   "cell_type": "markdown",
   "metadata": {},
   "source": [
    "#### 3.1 Instrument selection"
   ]
  },
  {
   "cell_type": "code",
   "execution_count": null,
   "metadata": {},
   "outputs": [],
   "source": [
    "# set instrument identifier: exchange + ticker\n",
    "ticker = 'INTC' # 'AMD'\n",
    "exchange = 'XNGS' # 'BATS'"
   ]
  },
  {
   "cell_type": "markdown",
   "metadata": {},
   "source": [
    "#### 3.2 Time period delimitation"
   ]
  },
  {
   "cell_type": "code",
   "execution_count": null,
   "metadata": {},
   "outputs": [],
   "source": [
    "# create time intervals (we are using Google date format)\n",
    "date_interval = dateinterval.DateInterval(\n",
    "    start_date = date.Date(year = 2022, month = 1, day = 14), \n",
    "    end_date = date.Date(year = 2022, month = 1, day = 14)\n",
    ")\n",
    "\n",
    "# build the market data request time interval (we are using Google time format)\n",
    "# UTC time zone\n",
    "time_interval = timeinterval.TimeInterval(\n",
    "    start_time = timeofday.TimeOfDay(hours = 14, minutes = 0, seconds = 0), \n",
    "    end_time = timeofday.TimeOfDay(hours = 23, minutes = 0, seconds = 0)\n",
    ")"
   ]
  },
  {
   "cell_type": "markdown",
   "metadata": {},
   "source": [
    "#### 3.3 Request creation\n",
    "The following code snippet creates *gRPC client*, process request and returns the request reply:"
   ]
  },
  {
   "cell_type": "code",
   "execution_count": null,
   "metadata": {},
   "outputs": [],
   "source": [
    "# generate constraints based on the previous time selection\n",
    "constraints = constraints.Constraints(\n",
    "    date_intervals = [date_interval],\n",
    "    time_intervals = [time_interval],\n",
    ")"
   ]
  },
  {
   "cell_type": "markdown",
   "metadata": {},
   "source": [
    "The following code snippets create the market data request and instantiate the service:"
   ]
  },
  {
   "cell_type": "code",
   "execution_count": null,
   "metadata": {},
   "outputs": [],
   "source": [
    "# generate the tick trades and book request\n",
    "identifier = identifier.Identifier(exchange = exchange, ticker = ticker)\n",
    "request = tick_trades_and_book.TickTradesAndBookRequest(\n",
    "    identifiers = [identifier],\n",
    "    constraints = constraints\n",
    ")"
   ]
  },
  {
   "cell_type": "markdown",
   "metadata": {},
   "source": [
    "#### 3.4 Export data\n",
    "Tick by tick data is sent through a *stream*, the following code snippet iterates ticks and keep trades ticks and their immediately preceding book tick (if any)\n",
    "\n",
    "Output the results to CSV\n"
   ]
  },
  {
   "cell_type": "code",
   "execution_count": null,
   "metadata": {},
   "outputs": [],
   "source": [
    "import csv\n",
    "import systemathics.apis.type.shared.v1.trade_and_book_pb2 as trade_and_book_pb2\n",
    "filename = 'trades_and_immediately_preceding_bbo_{0}-{1}.csv'.format(ticker, exchange)\n",
    "\n",
    "\n",
    "with open(filename, mode='w') as normalized_ticks_file:\n",
    "    normalized_ticks_writer = csv.writer(normalized_ticks_file, delimiter=',', quotechar='\"', quoting=csv.QUOTE_MINIMAL)\n",
    "    normalized_ticks_writer.writerow([\"time_stamp\", \"datetime.seconds\", \"datetime.nanos\", \"bid_size\", \"bid_price\", \"ask_price\", \"ask_size\", \"trade_price\", \"trade_size\", \"not_shown_book_ticks_before\"])\n",
    "\n",
    "    csv_lines_count = 0\n",
    "    csv_book_lines_count = 0\n",
    "    csv_trade_lines_count = 0\n",
    "\n",
    "    previous = trade_and_book_pb2.TradeAndBook()\n",
    "    not_shown_book_ticks_before = 0\n",
    "    total_ticks = 0\n",
    "    total_trade_ticks = 0\n",
    "    total_book_ticks = 0\n",
    "\n",
    "\n",
    "    try:\n",
    "        # open a gRPC channel\n",
    "        with channel_helpers.get_grpc_channel() as channel:  \n",
    "                \n",
    "            # instantiate the tick trades and book service\n",
    "            service = tick_trades_and_book_service.TickTradesAndBookServiceStub(channel)\n",
    "            for current in service.TickTradesAndBook(request = request, metadata = [('authorization', token)]):\n",
    "                if (current.data.trade.time_stamp.seconds > 0):\n",
    "                    total_ticks += 1 \n",
    "                    total_trade_ticks += 1\n",
    "                \n",
    "                if (current.data.book.time_stamp.seconds > 0): \n",
    "                    total_ticks += 1\n",
    "                    total_book_ticks += 1\n",
    "\n",
    "                if (current.data.trade.time_stamp.seconds > 0):     \n",
    "                    if (previous.data.book.time_stamp.seconds > 0):\n",
    "                        seconds = previous.data.book.time_stamp.seconds\n",
    "                        nanos = previous.data.book.time_stamp.nanos\n",
    "                        book_time = datetime.fromtimestamp(seconds)\n",
    "                        book_time_ms = round(nanos/1000000)\n",
    "                        bid_size = previous.data.book.bid.size\n",
    "                        bid_price = previous.data.book.bid.price\n",
    "                        ask_price = previous.data.book.ask.price\n",
    "                        ask_size = previous.data.book.ask.size\n",
    "                        csv_lines_count += 1\n",
    "                        csv_book_lines_count += 1\n",
    "                        normalized_ticks_writer.writerow([f\"{book_time}.{book_time_ms}\", seconds, nanos,  bid_size, bid_price, ask_price, ask_size, \"\", \"\", not_shown_book_ticks_before - 1 if not_shown_book_ticks_before > 0 else \"\"])\n",
    "  \n",
    "                    seconds = current.data.trade.time_stamp.seconds\n",
    "                    nanos = current.data.trade.time_stamp.nanos\n",
    "                    trade_time = datetime.fromtimestamp(seconds)\n",
    "                    trade_time_ms = round(nanos/1000000)\n",
    "                    trade_price = current.data.trade.price\n",
    "                    trade_size = current.data.trade.size\n",
    "                    csv_lines_count += 1\n",
    "                    csv_trade_lines_count += 1\n",
    "                    normalized_ticks_writer.writerow([f\"{trade_time}.{trade_time_ms}\", seconds, nanos, \"\", \"\", \"\", \"\", trade_price, trade_size, \"\"])\n",
    "                    last_is_trade = True\n",
    "                    not_shown_book_ticks_before = 0\n",
    "                else:\n",
    "                    last_is_trade = False\n",
    "                    not_shown_book_ticks_before += 1\n",
    "                    \n",
    "                previous = current    \n",
    "\n",
    "    except grpc.RpcError as e:\n",
    "        print(e.code().name)\n",
    "        print(e.details())\n",
    "\n",
    "print(f\"#total_ticks={total_ticks:,} #total_book_ticks={total_book_ticks:,} #total_trade_ticks={total_trade_ticks:,}\")\n",
    "print(f\"#csv_lines_count={csv_lines_count:,} #csv_book_lines_count={csv_book_lines_count:,} #csv_trade_lines_count={csv_trade_lines_count:,} [{filename}]\")"
   ]
  }
 ],
 "metadata": {
  "kernelspec": {
   "display_name": "Python 3 (ipykernel)",
   "language": "python",
   "name": "python3"
  },
  "language_info": {
   "codemirror_mode": {
    "name": "ipython",
    "version": 3
   },
   "file_extension": ".py",
   "mimetype": "text/x-python",
   "name": "python",
   "nbconvert_exporter": "python",
   "pygments_lexer": "ipython3",
   "version": "3.9.7"
  }
 },
 "nbformat": 4,
 "nbformat_minor": 4
}
