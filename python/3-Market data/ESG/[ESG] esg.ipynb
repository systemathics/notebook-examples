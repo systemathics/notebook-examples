{
 "cells": [
  {
   "cell_type": "markdown",
   "metadata": {},
   "source": [
    "# Generate esg data using dedicated data service - Python\n",
    "\n",
    "### Overview\n",
    "ESG data is a set of scores designed to objectively measure a company’s relative performance to Environment, Social and Corporate Governance. This score is defined from publicly-reported data relative to 10 main themes (emissions, environmental product innovation, human rights, shareholders, etc.).<br>\n",
    "\n",
    "This sample demonstrates how to directly request *`sustainability data`* endpoint to retrieve detailled ESG data for a given instrument.<br>\n",
    "\n",
    "### Inputs/outputs\n",
    "Sustainability sample requires instrument's identifier as per input. It returns the sustainability data organized in several levels.\n",
    "\n",
    "### Services used\n",
    "This sample uses *gRPC requests* in order to retrieve esg information from the dedicated hosted service. The queried endpoint in this script are:\n",
    "* *SustainabilityService*: to directly retrieve the data from the server\n",
    "\n",
    "### Modules required\n",
    "1. Systemathics:\n",
    "    * *systemathics.apis.type.shared.v1*\n",
    "    * *systemathics.apis.services.sustainability.v1*\n",
    "2. Open source:\n",
    "    * *googleapis-common-protos*\n",
    "    * *protobuf*\n",
    "    * *grpcio*\n",
    "    * *pandas*\n",
    "    * *plotly* and *mplfinance* as per display package\n",
    "\n",
    "***"
   ]
  },
  {
   "cell_type": "markdown",
   "metadata": {},
   "source": [
    "# Run ESG sample"
   ]
  },
  {
   "cell_type": "markdown",
   "metadata": {},
   "source": [
    "### Step 1: Install packages and import them"
   ]
  },
  {
   "cell_type": "code",
   "execution_count": null,
   "metadata": {},
   "outputs": [],
   "source": [
    "pip install googleapis-common-protos protobuf grpcio pandas mplfinance plotly"
   ]
  },
  {
   "cell_type": "code",
   "execution_count": null,
   "metadata": {},
   "outputs": [],
   "source": [
    "pip install systemathics.apis==2.38.* --pre"
   ]
  },
  {
   "cell_type": "code",
   "execution_count": null,
   "metadata": {},
   "outputs": [],
   "source": [
    "import os\n",
    "import grpc\n",
    "import pandas as pd\n",
    "import numpy as np\n",
    "import matplotlib.pyplot as plt\n",
    "from datetime import datetime\n",
    "import systemathics.apis.type.shared.v1.identifier_pb2 as identifier\n",
    "import systemathics.apis.services.sustainability.v1.sustainability_pb2 as sustainability\n",
    "import systemathics.apis.services.sustainability.v1.sustainability_pb2_grpc as sustainability_service\n",
    "import systemathics.apis.helpers.token_helpers as token_helpers\n",
    "import systemathics.apis.helpers.channel_helpers as channel_helpers"
   ]
  },
  {
   "cell_type": "markdown",
   "metadata": {},
   "source": [
    "### Step 2: Retrieve authentication token\n",
    "The following code snippet sends authentication request and print token to console output in order to process the upcomming *gRPC queries*."
   ]
  },
  {
   "cell_type": "code",
   "execution_count": null,
   "metadata": {},
   "outputs": [],
   "source": [
    "token = token_helpers.get_token()\n",
    "display(token)"
   ]
  },
  {
   "cell_type": "markdown",
   "metadata": {},
   "source": [
    "### Step 3: Create and process request"
   ]
  },
  {
   "cell_type": "markdown",
   "metadata": {},
   "source": [
    "#### 3.1 Request Parameters\n",
    "To request *sustainability* service, we need to specify an instrument identifier:\n",
    "* ticker\n",
    "* exchange\n",
    "* source [Optionnal]"
   ]
  },
  {
   "cell_type": "code",
   "execution_count": null,
   "metadata": {},
   "outputs": [],
   "source": [
    "# set the instrument\n",
    "ticker = 'ATVI'\n",
    "exchange = 'XNGS'"
   ]
  },
  {
   "cell_type": "markdown",
   "metadata": {},
   "source": [
    "#### 3.2 Request creation\n",
    "The following code snippet creates *gRPC client*, process request and returns request reply."
   ]
  },
  {
   "cell_type": "code",
   "execution_count": null,
   "metadata": {},
   "outputs": [],
   "source": [
    "# create the sustainability request\n",
    "request = sustainability.SustainabilityRequest(\n",
    "    identifier = identifier.Identifier(exchange = exchange, ticker = ticker)\n",
    ")"
   ]
  },
  {
   "cell_type": "code",
   "execution_count": null,
   "metadata": {},
   "outputs": [],
   "source": [
    "try:\n",
    "    # open a gRPC channel\n",
    "    with channel_helpers.get_grpc_channel() as channel:  \n",
    "        \n",
    "        # instantiate the daily prices service\n",
    "        service = sustainability_service.SustainabilityServiceStub(channel)\n",
    "        \n",
    "        # process the request\n",
    "        response = service.Sustainability(\n",
    "            request = request, \n",
    "            metadata = [('authorization', token)]\n",
    "        )\n",
    "        \n",
    "except grpc.RpcError as e:\n",
    "    display(e.code().name)\n",
    "    display(e.details())"
   ]
  },
  {
   "cell_type": "markdown",
   "metadata": {},
   "source": [
    "### Step 4: Visualize data"
   ]
  },
  {
   "cell_type": "markdown",
   "metadata": {},
   "source": [
    "#### 4.1 Retrieve esg data\n",
    "In the following code snippets, the reply is reprocessed in a data frame in order to visualize the results with ease:"
   ]
  },
  {
   "cell_type": "code",
   "execution_count": null,
   "metadata": {},
   "outputs": [],
   "source": [
    "# Helper method to define colors for level\n",
    "def get_color(parent):\n",
    "    if parent == '3': #Controversy\n",
    "        return \"red\"\n",
    "    elif parent == '4': #Environment\n",
    "        return \"orange\"\n",
    "    elif parent == '5': #Social\n",
    "        return \"purple\"\n",
    "    elif parent == '6': #Governance\n",
    "        return \"green\"\n",
    "    else:\n",
    "        return \"\""
   ]
  },
  {
   "cell_type": "code",
   "execution_count": null,
   "metadata": {},
   "outputs": [],
   "source": [
    "#pPrepare the data frame content\n",
    "values = [d.value for d in response.data]\n",
    "names = [d.name for d in response.data]\n",
    "ids = [d.id for d in response.data]\n",
    "parents = [d.parent for d in response.data]\n",
    "\n",
    "colors = [get_color(d.parent) for d in response.data]\n",
    "\n",
    "d = {'Names': names, 'Values': values, 'Id': ids, 'Parents' : parents, 'Colors' : colors }\n",
    "# create pandas dataframe\n",
    "df = pd.DataFrame(data=d)\n",
    "df = df.sort_values(by='Parents')\n",
    "df"
   ]
  },
  {
   "cell_type": "markdown",
   "metadata": {},
   "source": [
    "#### 4.2 Plot esg data in a circular barplot\n",
    "The following code snippets display esg data in a circular barplot diagram using *`matplotlib`* open source package."
   ]
  },
  {
   "cell_type": "code",
   "execution_count": null,
   "metadata": {},
   "outputs": [],
   "source": [
    "def get_label_rotation(angle, offset):\n",
    "    # Rotation must be specified in degrees :(\n",
    "    rotation = np.rad2deg(angle + offset)\n",
    "    if angle <= np.pi:\n",
    "        alignment = \"right\"\n",
    "        rotation = rotation + 180\n",
    "    else: \n",
    "        alignment = \"left\"\n",
    "    return rotation, alignment"
   ]
  },
  {
   "cell_type": "code",
   "execution_count": null,
   "metadata": {},
   "outputs": [],
   "source": [
    "def add_labels(angles, values, labels, offset, ax):\n",
    "    \n",
    "    # This is the space between the end of the bar and the label\n",
    "    padding = 4\n",
    "    \n",
    "    # Iterate over angles, values, and labels, to add all of them.\n",
    "    for angle, value, label, in zip(angles, values, labels):\n",
    "        angle = angle\n",
    "        \n",
    "        # Obtain text rotation and alignment\n",
    "        rotation, alignment = get_label_rotation(angle, offset)\n",
    "\n",
    "        # And finally add the text\n",
    "        ax.text(\n",
    "            x=angle, \n",
    "            y=value + padding, \n",
    "            s=label, \n",
    "            ha=alignment, \n",
    "            va=\"center\", \n",
    "            rotation=rotation, \n",
    "            rotation_mode=\"anchor\"\n",
    "        ) "
   ]
  },
  {
   "cell_type": "code",
   "execution_count": null,
   "metadata": {},
   "outputs": [],
   "source": [
    "# Filter groups: we choose only the most detailled level\n",
    "df_filtered = df[df['Parents'].isin(['3', '4','5','6'])]\n",
    "df_filtered"
   ]
  },
  {
   "cell_type": "code",
   "execution_count": null,
   "metadata": {},
   "outputs": [],
   "source": [
    "ANGLES = np.linspace(0, 2 * np.pi, len(df_filtered), endpoint=False)\n",
    "VALUES = df_filtered[\"Values\"].values\n",
    "LABELS = df_filtered[\"Names\"].values\n",
    "COLORS = df_filtered[\"Colors\"].values\n",
    "\n",
    "# Determine the width of each bar. \n",
    "# The circumference is '2 * pi', so we divide that total width over the number of bars.\n",
    "WIDTH = 2 * np.pi / len(VALUES)\n",
    "\n",
    "# Determines where to place the first bar. \n",
    "# By default, matplotlib starts at 0 (the first bar is horizontal)\n",
    "# but here we say we want to start at pi/2 (90 deg)\n",
    "OFFSET = np.pi / 2\n",
    "\n",
    "# Initialize Figure and Axis\n",
    "fig, ax = plt.subplots(figsize=(20, 10), subplot_kw={\"projection\": \"polar\"})\n",
    "\n",
    "# Specify offset\n",
    "ax.set_theta_offset(OFFSET)\n",
    "\n",
    "# Set limits for radial (y) axis. The negative lower bound creates the whole in the middle.\n",
    "ax.set_ylim(-100, 100)\n",
    "\n",
    "# Remove all spines\n",
    "ax.set_frame_on(False)\n",
    "\n",
    "# Remove grid and tick marks\n",
    "ax.xaxis.grid(False)\n",
    "ax.yaxis.grid(False)\n",
    "ax.set_xticks([])\n",
    "ax.set_yticks([])\n",
    "\n",
    "ax.set_title('ESG data for {0}-{1}'.format(ticker,exchange), size = 20)\n",
    "\n",
    "# Add bars\n",
    "ax.bar(\n",
    "    ANGLES, VALUES, width=WIDTH, color = COLORS, linewidth=2, edgecolor=\"white\"\n",
    ")\n",
    "\n",
    "# Add labels\n",
    "add_labels(ANGLES, VALUES, LABELS, OFFSET, ax)"
   ]
  },
  {
   "cell_type": "markdown",
   "metadata": {},
   "source": [
    "#### 4.3 Plot esg data in a kriviat diagram\n",
    "The following code snippets display esg data in a kriviat diagram using *`matplotlib`* open source package."
   ]
  },
  {
   "cell_type": "code",
   "execution_count": null,
   "metadata": {},
   "outputs": [],
   "source": [
    "# As in previous examples, we work only with the subcategories\n",
    "names = df_filtered['Names'].tolist()\n",
    "values = df_filtered['Values'].tolist()"
   ]
  },
  {
   "cell_type": "code",
   "execution_count": null,
   "metadata": {},
   "outputs": [],
   "source": [
    "# number of variable\n",
    "N = len(names)\n",
    "\n",
    "# We are going to plot the first line of the data frame.\n",
    "# But we need to repeat the first value to close the circular graph:\n",
    "my_plot_values = []\n",
    "my_plot_values += values\n",
    "my_plot_values += values[:1]\n",
    "\n",
    "# What will be the angle of each axis in the plot? (we divide the plot / number of variable)\n",
    "my_plot_angles = [n / float(N) * 2 * np.pi for n in range(N)]\n",
    "my_plot_angles += my_plot_angles[:1]"
   ]
  },
  {
   "cell_type": "code",
   "execution_count": null,
   "metadata": {},
   "outputs": [],
   "source": [
    "# Initialise the spider plot\n",
    "plt.figure(figsize=(25, 10))\n",
    "ax = plt.subplot(111, polar=True)\n",
    " \n",
    "# Draw one axe per variable + add labels\n",
    "plt.xticks(my_plot_angles[:-1], names, color='black', size=10)\n",
    " \n",
    "# Draw ylabels\n",
    "ax.set_rlabel_position(0)\n",
    "plt.yticks([20,40,60, 80], [\"20\",\"40\",\"60\",\"80\"], color=\"grey\", size=8)\n",
    "plt.ylim(0,100)\n",
    "##plt.yticks([10,20,30], [\"10\",\"20\",\"30\"], color=\"grey\", size=7)\n",
    "##plt.ylim(0,40)\n",
    " \n",
    "# Plot data\n",
    "ax.plot(my_plot_angles, my_plot_values, linewidth=1, linestyle='solid')\n",
    " \n",
    "# Fill area\n",
    "ax.fill(my_plot_angles, my_plot_values, 'b', alpha=0.1)\n",
    "\n",
    "# Show the graph\n",
    "plt.title('ESG data for {0}-{1}'.format(ticker,exchange), size = 25)\n",
    "plt.show()"
   ]
  }
 ],
 "metadata": {
  "kernelspec": {
   "display_name": "Python 3.10.4 64-bit",
   "language": "python",
   "name": "python3"
  },
  "language_info": {
   "codemirror_mode": {
    "name": "ipython",
    "version": 3
   },
   "file_extension": ".py",
   "mimetype": "text/x-python",
   "name": "python",
   "nbconvert_exporter": "python",
   "pygments_lexer": "ipython3",
   "version": "3.10.4"
  },
  "vscode": {
   "interpreter": {
    "hash": "916dbcbb3f70747c44a77c7bcd40155683ae19c65e1c03b4aa3499c5328201f1"
   }
  }
 },
 "nbformat": 4,
 "nbformat_minor": 4
}
