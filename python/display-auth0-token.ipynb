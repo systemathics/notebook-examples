{
 "cells": [
  {
   "cell_type": "markdown",
   "id": "af576d70-aa6b-48a2-890f-4aabbf4ba062",
   "metadata": {},
   "source": [
    "# Displaying the auth0 token"
   ]
  },
  {
   "cell_type": "code",
   "execution_count": null,
   "id": "magnetic-invalid",
   "metadata": {},
   "outputs": [],
   "source": [
    "import os\n",
    "token = os.environ.get(\"AUTH0_TOKEN\")\n",
    "display(token)"
   ]
  }
 ],
 "metadata": {
  "kernelspec": {
   "display_name": "Python 3.10.4 64-bit",
   "language": "python",
   "name": "python3"
  },
  "language_info": {
   "codemirror_mode": {
    "name": "ipython",
    "version": 3
   },
   "file_extension": ".py",
   "mimetype": "text/x-python",
   "name": "python",
   "nbconvert_exporter": "python",
   "pygments_lexer": "ipython3",
   "version": "3.10.4"
  },
  "vscode": {
   "interpreter": {
    "hash": "916dbcbb3f70747c44a77c7bcd40155683ae19c65e1c03b4aa3499c5328201f1"
   }
  }
 },
 "nbformat": 4,
 "nbformat_minor": 5
}
