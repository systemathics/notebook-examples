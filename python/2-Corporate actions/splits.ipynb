{
 "cells": [
  {
   "cell_type": "markdown",
   "id": "civil-russia",
   "metadata": {},
   "source": [
    "# Splits extraction using dedicated service - Python\n",
    "\n",
    "### Overview\n",
    "This sample requests **on-demand** splits by calling a dedicated data service.\n",
    "\n",
    "### Inputs/outputs\n",
    "Splits sample is designed to help you searching and requesting dividends for a given instrument.\n",
    "* It takes instrument specification parameter(s) as per input filter and returns *Dividends*\n",
    "\n",
    "### Services used\n",
    "This sample uses *gRPC requests* in order to retrieve splits data from the hosted service. The queried endpoint in this script are:\n",
    "* *SplitsService*: to directly retrieve splits data objects from the server\n",
    "\n",
    "### Modules required\n",
    "1. Systemathics packages:\n",
    "    * *systemathics.apis.services.corporate_actions.v1*\n",
    "    * *systemathics.apis.type.shared.v1*\n",
    "    * *google.type*\n",
    "2. Open source packages\n",
    "    * *googleapis-common-protos*\n",
    "    * *protobuf*\n",
    "    * *grpcio*\n",
    "    * *pandas*\n",
    "    \n",
    "***"
   ]
  },
  {
   "cell_type": "markdown",
   "id": "broad-defeat",
   "metadata": {},
   "source": [
    "# Run splits queries"
   ]
  },
  {
   "cell_type": "markdown",
   "id": "alike-agriculture",
   "metadata": {},
   "source": [
    "### Step 1: Install packages and import them"
   ]
  },
  {
   "cell_type": "code",
   "execution_count": null,
   "id": "responsible-brake",
   "metadata": {},
   "outputs": [],
   "source": [
    "pip install googleapis-common-protos protobuf grpcio pandas"
   ]
  },
  {
   "cell_type": "code",
   "execution_count": null,
   "id": "robust-solomon",
   "metadata": {},
   "outputs": [],
   "source": [
    "pip install systemathics.apis==2.32.*"
   ]
  },
  {
   "cell_type": "code",
   "execution_count": null,
   "id": "legendary-substitute",
   "metadata": {},
   "outputs": [],
   "source": [
    "import os\n",
    "import grpc\n",
    "import pandas as pd\n",
    "from datetime import datetime\n",
    "from datetime import timedelta\n",
    "import google.type.date_pb2 as date\n",
    "import systemathics.apis.type.shared.v1.identifier_pb2 as identifier\n",
    "import systemathics.apis.type.shared.v1.date_interval_pb2 as dateinterval\n",
    "import systemathics.apis.services.corporate_actions.v1.splits_pb2 as splits\n",
    "import systemathics.apis.services.corporate_actions.v1.splits_pb2_grpc as splits_service\n",
    "import systemathics.apis.helpers.token_helpers as token_helpers\n",
    "import systemathics.apis.helpers.channel_helpers as channel_helpers"
   ]
  },
  {
   "cell_type": "markdown",
   "id": "parallel-anxiety",
   "metadata": {},
   "source": [
    "### Step 2: Prepare API requests\n",
    "The following code snippets retrieve authentication token to be used in upcomming API requests:"
   ]
  },
  {
   "cell_type": "code",
   "execution_count": null,
   "id": "composite-realtor",
   "metadata": {},
   "outputs": [],
   "source": [
    "token = token_helpers.get_token()\n",
    "display(token)"
   ]
  },
  {
   "cell_type": "markdown",
   "id": "committed-counter",
   "metadata": {},
   "source": [
    "### Step 3: Retrieve splits"
   ]
  },
  {
   "cell_type": "markdown",
   "id": "informational-tennessee",
   "metadata": {},
   "source": [
    "#### 3.1 Equity selection"
   ]
  },
  {
   "cell_type": "code",
   "execution_count": null,
   "id": "unauthorized-borough",
   "metadata": {},
   "outputs": [],
   "source": [
    "ticker = 'AMZN'\n",
    "exchange = 'XNGS'"
   ]
  },
  {
   "cell_type": "markdown",
   "id": "empirical-birth",
   "metadata": {},
   "source": [
    "#### 3.2 Create and process request"
   ]
  },
  {
   "cell_type": "code",
   "execution_count": null,
   "id": "entire-prairie",
   "metadata": {},
   "outputs": [],
   "source": [
    "# create the splits request\n",
    "request = splits.SplitsRequest(\n",
    "    identifier = identifier.Identifier(exchange = exchange, ticker = ticker)\n",
    ")"
   ]
  },
  {
   "cell_type": "code",
   "execution_count": null,
   "id": "modified-contamination",
   "metadata": {},
   "outputs": [],
   "source": [
    "try:\n",
    "    # open a gRPC channel\n",
    "    with channel_helpers.get_grpc_channel() as channel:  \n",
    "        \n",
    "        #instantiate the splits service\n",
    "        service = splits_service.SplitsServiceStub(channel)\n",
    "        \n",
    "        # process the request\n",
    "        response = service.Splits(\n",
    "            request = request, \n",
    "            metadata = [('authorization', token)]\n",
    "        )\n",
    "except grpc.RpcError as e:\n",
    "    display(e.code().name)\n",
    "    display(e.details())"
   ]
  },
  {
   "cell_type": "markdown",
   "id": "narrative-characterization",
   "metadata": {},
   "source": [
    "#### 3.3 Retrieve splits"
   ]
  },
  {
   "cell_type": "code",
   "execution_count": null,
   "id": "sixth-claim",
   "metadata": {},
   "outputs": [],
   "source": [
    "# prepare the splits data frame content\n",
    "dates = [datetime(d.date.year, d.date.month, d.date.day) for d in response.data]\n",
    "old_shares = [d.old_shares for d in response.data]\n",
    "new_shares = [d.new_shares for d in response.data]\n",
    "\n",
    "# create pandas dataframe\n",
    "d = {'Date': dates, 'New shares': new_shares, 'Old shares': old_shares}\n",
    "df = pd.DataFrame(data=d)"
   ]
  },
  {
   "cell_type": "code",
   "execution_count": null,
   "id": "knowing-mileage",
   "metadata": {},
   "outputs": [],
   "source": [
    "# display splits\n",
    "df"
   ]
  },
  {
   "cell_type": "markdown",
   "id": "apart-inquiry",
   "metadata": {},
   "source": [
    "#### 3.4 Add dates constraints"
   ]
  },
  {
   "cell_type": "code",
   "execution_count": null,
   "id": "minimal-frederick",
   "metadata": {},
   "outputs": [],
   "source": [
    "# create the splits request with dates constraints\n",
    "request = splits.SplitsRequest(\n",
    "    identifier = identifier.Identifier(exchange = exchange, ticker = ticker),\n",
    "    date_interval = dateinterval.DateInterval(\n",
    "        start_date = date.Date(year = 1999, month = 1, day = 1),\n",
    "        end_date = date.Date(year = 2022, month = 6, day = 8)\n",
    "    )\n",
    ")"
   ]
  },
  {
   "cell_type": "code",
   "execution_count": null,
   "id": "executed-transportation",
   "metadata": {},
   "outputs": [],
   "source": [
    "try:\n",
    "    # open a gRPC channel\n",
    "    with channel_helpers.get_grpc_channel() as channel:  \n",
    "        \n",
    "        #instantiate the dividends service\n",
    "        service = splits_service.SplitsServiceStub(channel)\n",
    "        \n",
    "        # process the request\n",
    "        response = service.Splits(\n",
    "            request = request, \n",
    "            metadata = [('authorization', token)]\n",
    "        )\n",
    "except grpc.RpcError as e:\n",
    "    display(e.code().name)\n",
    "    display(e.details())"
   ]
  },
  {
   "cell_type": "markdown",
   "id": "civil-depth",
   "metadata": {},
   "source": [
    "#### 3.5 Retrieve splits with date constraints"
   ]
  },
  {
   "cell_type": "code",
   "execution_count": null,
   "id": "south-boost",
   "metadata": {},
   "outputs": [],
   "source": [
    "# prepare the splits data frame content\n",
    "dates = [datetime(d.date.year, d.date.month, d.date.day) for d in response.data]\n",
    "old_shares = [d.old_shares for d in response.data]\n",
    "new_shares = [d.new_shares for d in response.data]\n",
    "\n",
    "# create pandas dataframe\n",
    "d = {'Date': dates, 'New shares': new_shares, 'Old shares': old_shares}\n",
    "df = pd.DataFrame(data=d)"
   ]
  },
  {
   "cell_type": "code",
   "execution_count": null,
   "id": "exceptional-contrary",
   "metadata": {},
   "outputs": [],
   "source": [
    "# display splits\n",
    "df"
   ]
  }
 ],
 "metadata": {
  "kernelspec": {
   "display_name": "Python 3.10.4 64-bit",
   "language": "python",
   "name": "python3"
  },
  "language_info": {
   "codemirror_mode": {
    "name": "ipython",
    "version": 3
   },
   "file_extension": ".py",
   "mimetype": "text/x-python",
   "name": "python",
   "nbconvert_exporter": "python",
   "pygments_lexer": "ipython3",
   "version": "3.10.4"
  },
  "vscode": {
   "interpreter": {
    "hash": "916dbcbb3f70747c44a77c7bcd40155683ae19c65e1c03b4aa3499c5328201f1"
   }
  }
 },
 "nbformat": 4,
 "nbformat_minor": 5
}
