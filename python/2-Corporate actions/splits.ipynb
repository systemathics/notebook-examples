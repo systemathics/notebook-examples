{
 "cells": [
  {
   "cell_type": "markdown",
   "id": "civil-russia",
   "metadata": {},
   "source": [
    "# Splits extraction using dedicated service - Python\n",
    "\n",
    "### Overview\n",
    "This sample requests **on-demand** splits by calling a dedicated data service.\n",
    "\n",
    "### Inputs/outputs\n",
    "Splits sample is designed to help you searching and requesting dividends for a given instrument.\n",
    "* It takes instrument specification parameter(s) as per input filter and returns *Dividends*\n",
    "\n",
    "### Services used\n",
    "This sample uses *gRPC requests* in order to retrieve splits data from the hosted service. The queried endpoint in this script are:\n",
    "* *SplitsService*: to directly retrieve splits data objects from the server\n",
    "\n",
    "### Modules required\n",
    "1. Systemathics packages:\n",
    "    * *systemathics.apis.services.corporate_actions.v1*\n",
    "    * *systemathics.apis.type.shared.v1*\n",
    "    * *google.type*\n",
    "2. Open source packages\n",
    "    * *googleapis-common-protos*\n",
    "    * *protobuf*\n",
    "    * *grpcio*\n",
    "    * *pandas*\n",
    "    \n",
    "***"
   ]
  },
  {
   "cell_type": "markdown",
   "id": "broad-defeat",
   "metadata": {},
   "source": [
    "# Run splits queries"
   ]
  },
  {
   "cell_type": "markdown",
   "id": "alike-agriculture",
   "metadata": {},
   "source": [
    "### Step 1: Install packages and import them"
   ]
  },
  {
   "cell_type": "code",
   "execution_count": 1,
   "id": "responsible-brake",
   "metadata": {},
   "outputs": [
    {
     "name": "stdout",
     "output_type": "stream",
     "text": [
      "Requirement already satisfied: googleapis-common-protos in /opt/conda/lib/python3.9/site-packages (1.56.0)\n",
      "Requirement already satisfied: protobuf in /opt/conda/lib/python3.9/site-packages (3.20.0)\n",
      "Requirement already satisfied: grpcio in /opt/conda/lib/python3.9/site-packages (1.44.0)\n",
      "Requirement already satisfied: pandas in /opt/conda/lib/python3.9/site-packages (1.4.2)\n",
      "Requirement already satisfied: six>=1.5.2 in /opt/conda/lib/python3.9/site-packages (from grpcio) (1.16.0)\n",
      "Requirement already satisfied: numpy>=1.18.5 in /opt/conda/lib/python3.9/site-packages (from pandas) (1.22.3)\n",
      "Requirement already satisfied: python-dateutil>=2.8.1 in /opt/conda/lib/python3.9/site-packages (from pandas) (2.8.2)\n",
      "Requirement already satisfied: pytz>=2020.1 in /opt/conda/lib/python3.9/site-packages (from pandas) (2021.3)\n",
      "Note: you may need to restart the kernel to use updated packages.\n"
     ]
    }
   ],
   "source": [
    "pip install googleapis-common-protos protobuf grpcio pandas"
   ]
  },
  {
   "cell_type": "code",
   "execution_count": 2,
   "id": "robust-solomon",
   "metadata": {},
   "outputs": [
    {
     "name": "stdout",
     "output_type": "stream",
     "text": [
      "Requirement already satisfied: systemathics.apis in /opt/conda/lib/python3.9/site-packages (0.10.10rc0)\n",
      "Requirement already satisfied: googleapis-common-protos in /opt/conda/lib/python3.9/site-packages (from systemathics.apis) (1.56.0)\n",
      "Requirement already satisfied: grpcio in /opt/conda/lib/python3.9/site-packages (from systemathics.apis) (1.44.0)\n",
      "Requirement already satisfied: protobuf in /opt/conda/lib/python3.9/site-packages (from systemathics.apis) (3.20.0)\n",
      "Requirement already satisfied: six>=1.5.2 in /opt/conda/lib/python3.9/site-packages (from grpcio->systemathics.apis) (1.16.0)\n",
      "Note: you may need to restart the kernel to use updated packages.\n"
     ]
    }
   ],
   "source": [
    "pip install systemathics.apis"
   ]
  },
  {
   "cell_type": "code",
   "execution_count": 3,
   "id": "legendary-substitute",
   "metadata": {},
   "outputs": [],
   "source": [
    "import os\n",
    "import grpc\n",
    "import pandas as pd\n",
    "from datetime import datetime\n",
    "import google.type.date_pb2 as date\n",
    "import systemathics.apis.type.shared.v1.identifier_pb2 as identifier\n",
    "import systemathics.apis.type.shared.v1.constraints_pb2 as constraints\n",
    "import systemathics.apis.type.shared.v1.date_interval_pb2 as dateinterval\n",
    "import systemathics.apis.services.corporate_actions.v1.splits_pb2 as splits\n",
    "import systemathics.apis.services.corporate_actions.v1.splits_pb2_grpc as splits_service\n",
    "import systemathics.apis.helpers.token_helpers as token_helpers\n",
    "import systemathics.apis.helpers.channel_helpers as channel_helpers"
   ]
  },
  {
   "cell_type": "markdown",
   "id": "parallel-anxiety",
   "metadata": {},
   "source": [
    "### Step 2: Prepare API requests\n",
    "The following code snippets retrieve authentication token to be used in upcomming API requests:"
   ]
  },
  {
   "cell_type": "code",
   "execution_count": 4,
   "id": "composite-realtor",
   "metadata": {},
   "outputs": [
    {
     "data": {
      "text/plain": [
       "'Bearer eyJhbGciOiJSUzI1NiIsInR5cCI6IkpXVCIsImtpZCI6IlpBV05FbDJfMF9zTDNUTklIdlN3SiJ9.eyJodHRwOi8vc2NoZW1hcy54bWxzb2FwLm9yZy93cy8yMDA1LzA1L2lkZW50aXR5L2NsYWltcy9lbWFpbGFkZHJlc3MiOiJvY3RhdmUuYmVsb3RAc3lzdGVtYXRoaWNzLmNvbSIsImlzcyI6Imh0dHBzOi8vZ2FueW1lZGUtZGV2LmV1LmF1dGgwLmNvbS8iLCJzdWIiOiJhdXRoMHw2MjgxZjk3ZmM0ZWE4ZjAwNjkwMDUyMDMiLCJhdWQiOlsiaHR0cHM6Ly9kZXYuZ2FueW1lZGUtZGV2IiwiaHR0cHM6Ly9nYW55bWVkZS1kZXYuZXUuYXV0aDAuY29tL3VzZXJpbmZvIl0sImlhdCI6MTY1MjY4NjY5OSwiZXhwIjoxNjU1Mjc4Njk5LCJhenAiOiJrTnNhak50d3ZyblU1bVZCa0c5ZnZIbVdNU1NJMFN5TyIsInNjb3BlIjoib3BlbmlkIHByb2ZpbGUgZW1haWwiLCJwZXJtaXNzaW9ucyI6WyJhZG1pbiIsImFydGVmYWN0cyIsImNoYW5nZXMiLCJjb21wb25lbnRzIiwiZGFpbHlfYmFycyIsImRhaWx5X2JvbGxpbmdlciIsImRhaWx5X2NtYSIsImRhaWx5X2VtYSIsImRhaWx5X21hY2QiLCJkYWlseV9wcmljZXMiLCJkYWlseV9yc2kiLCJkYWlseV9zbWEiLCJkYWlseV92b2xhdGlsaXR5IiwiZGFpbHlfdndhcHMiLCJkaXZpZGVuZHMiLCJpZGVudGlmaWVyX21hcHBpbmciLCJpbnRyYWRheV9iYXJzIiwiaW50cmFkYXlfYm9sbGluZ2VyIiwiaW50cmFkYXlfY21hIiwiaW50cmFkYXlfZW1hIiwiaW50cmFkYXlfbWFjZCIsImludHJhZGF5X3ByaWNlcyIsImludHJhZGF5X3JzaSIsImludHJhZGF5X3NtYSIsImludHJhZGF5X3ZvbGF0aWxpdHkiLCJpbnRyYWRheV92d2FwcyIsIm1lbW9zIiwic3BsaXRzIiwic3RhdGljX2RhdGEiLCJzdGF0aWNfc2VjdG9yIiwic3VzdGFpbmFiaWxpdHkiLCJ0aWNrX2JhcnMiLCJ0aWNrX2JvbGxpbmdlciIsInRpY2tfYm9vayIsInRpY2tfY21hIiwidGlja19jb25kaXRpb25zIiwidGlja19lbWEiLCJ0aWNrX3F1b3RlcyIsInRpY2tfcmF3IiwidGlja19zbWEiLCJ0aWNrX3RyYWRlX2NvbmRpdGlvbnMiLCJ0aWNrX3RyYWRlX2NvbmRpdGlvbl9zdGF0aXN0aWNzIiwidGlja190cmFkZXMiLCJ0aWNrX3RyYWRlc19hbmRfYm9vayIsInRpY2tfdXBkYXRlcyIsInRpY2tfdndhcCIsInRvcG9sb2dpZXMiXX0.fg4Z1kj4QA3yzOpZifcAFLuk5IgQBmpgvR_58BlTqvEY5E_vxlMn3khwHNxX1HrFvT6LT4HcWLQwfVjQeEksUu_wVNoDiJsayaikVIIi3qwGxb9N-Hnu2RZCgBEE6sVVs5AAlIWNbFX2M6ocmmTjYywAm81AG5udSqGTy-WT2VypB9VImiqqjePADhQa8E3Bn3xCqnQyrYBud9CQPBAxEUKwTkYlxZblEadBlMDLiBXiubj5eTdAc3quLiebqCcww94LcPn1uRSCaIq0j99vxLo2lToFznegVwXk8tjXgJUYk7J_SNUg_KNeLyRH9yGNiLF5nOiMayIbbALGpiXDXA'"
      ]
     },
     "metadata": {},
     "output_type": "display_data"
    }
   ],
   "source": [
    "token = token_helpers.get_token()\n",
    "display(token)"
   ]
  },
  {
   "cell_type": "markdown",
   "id": "committed-counter",
   "metadata": {},
   "source": [
    "### Step 3: Retrieve splits"
   ]
  },
  {
   "cell_type": "markdown",
   "id": "informational-tennessee",
   "metadata": {},
   "source": [
    "#### 3.1 Equity selection"
   ]
  },
  {
   "cell_type": "code",
   "execution_count": 5,
   "id": "unauthorized-borough",
   "metadata": {},
   "outputs": [],
   "source": [
    "ticker = 'AAPL'\n",
    "exchange = 'XNGS'"
   ]
  },
  {
   "cell_type": "markdown",
   "id": "empirical-birth",
   "metadata": {},
   "source": [
    "#### 3.2 Create and process request"
   ]
  },
  {
   "cell_type": "code",
   "execution_count": 6,
   "id": "entire-prairie",
   "metadata": {},
   "outputs": [],
   "source": [
    "# create the splits request\n",
    "request = splits.SplitsRequest(\n",
    "    identifier = identifier.Identifier(exchange = exchange, ticker = ticker)\n",
    ")"
   ]
  },
  {
   "cell_type": "code",
   "execution_count": 7,
   "id": "modified-contamination",
   "metadata": {},
   "outputs": [],
   "source": [
    "try:\n",
    "    # open a gRPC channel\n",
    "    with channel_helpers.get_grpc_channel() as channel:  \n",
    "        \n",
    "        #instantiate the splits service\n",
    "        service = splits_service.SplitsServiceStub(channel)\n",
    "        \n",
    "        # process the request\n",
    "        response = service.Splits(\n",
    "            request = request, \n",
    "            metadata = [('authorization', token)]\n",
    "        )\n",
    "except grpc.RpcError as e:\n",
    "    display(e.code().name)\n",
    "    display(e.details())"
   ]
  },
  {
   "cell_type": "markdown",
   "id": "narrative-characterization",
   "metadata": {},
   "source": [
    "#### 3.3 Retrieve splits"
   ]
  },
  {
   "cell_type": "code",
   "execution_count": 8,
   "id": "sixth-claim",
   "metadata": {},
   "outputs": [],
   "source": [
    "# prepare the splits data frame content\n",
    "dates = [datetime(d.date.year, d.date.month, d.date.day) for d in response.data]\n",
    "old_shares = [d.old_shares for d in response.data]\n",
    "new_shares = [d.new_shares for d in response.data]\n",
    "\n",
    "# create pandas dataframe\n",
    "d = {'Date': dates, 'New shares': new_shares, 'Old shares': old_shares}\n",
    "df = pd.DataFrame(data=d)"
   ]
  },
  {
   "cell_type": "code",
   "execution_count": 9,
   "id": "knowing-mileage",
   "metadata": {},
   "outputs": [
    {
     "data": {
      "text/html": [
       "<div>\n",
       "<style scoped>\n",
       "    .dataframe tbody tr th:only-of-type {\n",
       "        vertical-align: middle;\n",
       "    }\n",
       "\n",
       "    .dataframe tbody tr th {\n",
       "        vertical-align: top;\n",
       "    }\n",
       "\n",
       "    .dataframe thead th {\n",
       "        text-align: right;\n",
       "    }\n",
       "</style>\n",
       "<table border=\"1\" class=\"dataframe\">\n",
       "  <thead>\n",
       "    <tr style=\"text-align: right;\">\n",
       "      <th></th>\n",
       "      <th>Date</th>\n",
       "      <th>New shares</th>\n",
       "      <th>Old shares</th>\n",
       "    </tr>\n",
       "  </thead>\n",
       "  <tbody>\n",
       "    <tr>\n",
       "      <th>0</th>\n",
       "      <td>2014-06-09</td>\n",
       "      <td>1.0</td>\n",
       "      <td>7.0</td>\n",
       "    </tr>\n",
       "    <tr>\n",
       "      <th>1</th>\n",
       "      <td>2020-08-31</td>\n",
       "      <td>1.0</td>\n",
       "      <td>4.0</td>\n",
       "    </tr>\n",
       "  </tbody>\n",
       "</table>\n",
       "</div>"
      ],
      "text/plain": [
       "        Date  New shares  Old shares\n",
       "0 2014-06-09         1.0         7.0\n",
       "1 2020-08-31         1.0         4.0"
      ]
     },
     "execution_count": 9,
     "metadata": {},
     "output_type": "execute_result"
    }
   ],
   "source": [
    "# display splits\n",
    "df"
   ]
  },
  {
   "cell_type": "markdown",
   "id": "apart-inquiry",
   "metadata": {},
   "source": [
    "#### 3.4 Add dates constraints"
   ]
  },
  {
   "cell_type": "code",
   "execution_count": 10,
   "id": "loved-justice",
   "metadata": {},
   "outputs": [],
   "source": [
    "# set data interval (we are using Google date time format) \n",
    "date_interval = dateinterval.DateInterval(\n",
    "    start_date = date.Date(year = 2020, month = 1, day = 1),\n",
    "    end_date = date.Date(year = 2021, month = 3, day = 31)\n",
    ")\n",
    "\n",
    "# generate constraints based on the previous date selection\n",
    "# time constraints are not neeeded for the dividends\n",
    "my_constraints = constraints.Constraints(\n",
    "    date_intervals = [date_interval]\n",
    ")"
   ]
  },
  {
   "cell_type": "code",
   "execution_count": 11,
   "id": "minimal-frederick",
   "metadata": {},
   "outputs": [],
   "source": [
    "# create the splits request with dates constraints\n",
    "request = splits.SplitsRequest(\n",
    "    identifier = identifier.Identifier(exchange = exchange, ticker = ticker),\n",
    "    constraints = my_constraints\n",
    ")"
   ]
  },
  {
   "cell_type": "code",
   "execution_count": 12,
   "id": "executed-transportation",
   "metadata": {},
   "outputs": [],
   "source": [
    "try:\n",
    "    # open a gRPC channel\n",
    "    with channel_helpers.get_grpc_channel() as channel:  \n",
    "        \n",
    "        #instantiate the dividends service\n",
    "        service = splits_service.SplitsServiceStub(channel)\n",
    "        \n",
    "        # process the request\n",
    "        response = service.Splits(\n",
    "            request = request, \n",
    "            metadata = [('authorization', token)]\n",
    "        )\n",
    "except grpc.RpcError as e:\n",
    "    display(e.code().name)\n",
    "    display(e.details())"
   ]
  },
  {
   "cell_type": "markdown",
   "id": "civil-depth",
   "metadata": {},
   "source": [
    "#### 3.5 Retrieve splits with date constraints"
   ]
  },
  {
   "cell_type": "code",
   "execution_count": 13,
   "id": "south-boost",
   "metadata": {},
   "outputs": [],
   "source": [
    "# prepare the splits data frame content\n",
    "dates = [datetime(d.date.year, d.date.month, d.date.day) for d in response.data]\n",
    "old_shares = [d.old_shares for d in response.data]\n",
    "new_shares = [d.new_shares for d in response.data]\n",
    "\n",
    "# create pandas dataframe\n",
    "d = {'Date': dates, 'New shares': new_shares, 'Old shares': old_shares}\n",
    "df = pd.DataFrame(data=d)"
   ]
  },
  {
   "cell_type": "code",
   "execution_count": 14,
   "id": "exceptional-contrary",
   "metadata": {},
   "outputs": [
    {
     "data": {
      "text/html": [
       "<div>\n",
       "<style scoped>\n",
       "    .dataframe tbody tr th:only-of-type {\n",
       "        vertical-align: middle;\n",
       "    }\n",
       "\n",
       "    .dataframe tbody tr th {\n",
       "        vertical-align: top;\n",
       "    }\n",
       "\n",
       "    .dataframe thead th {\n",
       "        text-align: right;\n",
       "    }\n",
       "</style>\n",
       "<table border=\"1\" class=\"dataframe\">\n",
       "  <thead>\n",
       "    <tr style=\"text-align: right;\">\n",
       "      <th></th>\n",
       "      <th>Date</th>\n",
       "      <th>New shares</th>\n",
       "      <th>Old shares</th>\n",
       "    </tr>\n",
       "  </thead>\n",
       "  <tbody>\n",
       "    <tr>\n",
       "      <th>0</th>\n",
       "      <td>2020-08-31</td>\n",
       "      <td>1.0</td>\n",
       "      <td>4.0</td>\n",
       "    </tr>\n",
       "  </tbody>\n",
       "</table>\n",
       "</div>"
      ],
      "text/plain": [
       "        Date  New shares  Old shares\n",
       "0 2020-08-31         1.0         4.0"
      ]
     },
     "execution_count": 14,
     "metadata": {},
     "output_type": "execute_result"
    }
   ],
   "source": [
    "# display splits\n",
    "df"
   ]
  }
 ],
 "metadata": {
  "kernelspec": {
   "display_name": "Python 3 (ipykernel)",
   "language": "python",
   "name": "python3"
  },
  "language_info": {
   "codemirror_mode": {
    "name": "ipython",
    "version": 3
   },
   "file_extension": ".py",
   "mimetype": "text/x-python",
   "name": "python",
   "nbconvert_exporter": "python",
   "pygments_lexer": "ipython3",
   "version": "3.9.7"
  }
 },
 "nbformat": 4,
 "nbformat_minor": 5
}
