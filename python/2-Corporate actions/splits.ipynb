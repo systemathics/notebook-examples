{
 "cells": [
  {
   "cell_type": "markdown",
   "id": "c5625565",
   "metadata": {},
   "source": [
    "# Splits extraction using dedicated service - Python\n",
    "\n",
    "### Overview\n",
    "This sample requests **on-demand** splits by calling a dedicated data service.\n",
    "\n",
    "### Inputs/outputs\n",
    "Splits sample is designed to help you searching and requesting dividends for a given instrument.\n",
    "* It takes instrument specification parameter(s) as per input filter and returns *Dividends*\n",
    "\n",
    "### Services used\n",
    "This sample uses *gRPC requests* in order to retrieve splits data from the hosted service. The queried endpoint in this script are:\n",
    "* *SplitsService*: to directly retrieve splits data objects from the server\n",
    "\n",
    "### Modules required\n",
    "1. Systemathics packages:\n",
    "    * *systemathics.apis.services.corporate_actions.v1*\n",
    "    * *systemathics.apis.type.shared.v1*\n",
    "    * *google.type*\n",
    "2. Open source packages\n",
    "    * *googleapis-common-protos*\n",
    "    * *protobuf*\n",
    "    * *grpcio*\n",
    "    * *pandas*\n",
    "    \n",
    "***"
   ]
  },
  {
   "cell_type": "markdown",
   "id": "a6963755",
   "metadata": {},
   "source": [
    "# Run splits queries"
   ]
  },
  {
   "cell_type": "markdown",
   "id": "ab879f63",
   "metadata": {},
   "source": [
    "### Step 1: Install packages and import them"
   ]
  },
  {
   "cell_type": "code",
   "execution_count": null,
   "id": "355fba4d",
   "metadata": {},
   "outputs": [],
   "source": [
    "pip install googleapis-common-protos protobuf grpcio pandas systemathics.apis"
   ]
  },
  {
   "cell_type": "code",
   "execution_count": null,
   "id": "06dc4df0",
   "metadata": {},
   "outputs": [],
   "source": [
    "import os\n",
    "import grpc\n",
    "import pandas as pd\n",
    "from datetime import datetime\n",
    "import google.type.date_pb2 as date\n",
    "import systemathics.apis.type.shared.v1.identifier_pb2 as identifier\n",
    "import systemathics.apis.type.shared.v1.constraints_pb2 as constraints\n",
    "import systemathics.apis.type.shared.v1.date_interval_pb2 as dateinterval\n",
    "import systemathics.apis.services.corporate_actions.v1.splits_pb2 as splits\n",
    "import systemathics.apis.services.corporate_actions.v1.splits_pb2_grpc as splits_service\n",
    "import systemathics.apis.helpers.token_helpers as token_helpers\n",
    "import systemathics.apis.helpers.channel_helpers as channel_helpers"
   ]
  },
  {
   "cell_type": "markdown",
   "id": "3bb3cb9d",
   "metadata": {},
   "source": [
    "### Step 2: Prepare API requests\n",
    "The following code snippets retrieve authentication token to be used in upcomming API requests:"
   ]
  },
  {
   "cell_type": "code",
   "execution_count": null,
   "id": "5818efa8",
   "metadata": {},
   "outputs": [],
   "source": [
    "token = token_helpers.get_token()\n",
    "display(token)"
   ]
  },
  {
   "cell_type": "markdown",
   "id": "e59389df",
   "metadata": {},
   "source": [
    "### Step 3: Retrieve splits"
   ]
  },
  {
   "cell_type": "markdown",
   "id": "80023fef",
   "metadata": {},
   "source": [
    "#### 3.1 Equity selection"
   ]
  },
  {
   "cell_type": "code",
   "execution_count": null,
   "id": "40952427",
   "metadata": {},
   "outputs": [],
   "source": [
    "ticker = 'AAPL'\n",
    "exchange = 'XNGS'"
   ]
  },
  {
   "cell_type": "markdown",
   "id": "5ee6c558",
   "metadata": {},
   "source": [
    "#### 3.2 Create and process request"
   ]
  },
  {
   "cell_type": "code",
   "execution_count": null,
   "id": "748b7c60",
   "metadata": {},
   "outputs": [],
   "source": [
    "# create the splits request\n",
    "request = splits.SplitsRequest(\n",
    "    identifier = identifier.Identifier(exchange = exchange, ticker = ticker)\n",
    ")"
   ]
  },
  {
   "cell_type": "code",
   "execution_count": null,
   "id": "75feff8b",
   "metadata": {},
   "outputs": [],
   "source": [
    "try:\n",
    "    # open a gRPC channel\n",
    "    with channel_helpers.get_grpc_channel() as channel:  \n",
    "        \n",
    "        #instantiate the splits service\n",
    "        service = splits_service.SplitsServiceStub(channel)\n",
    "        \n",
    "        # process the request\n",
    "        response = service.Splits(\n",
    "            request = request, \n",
    "            metadata = [('authorization', token)]\n",
    "        )\n",
    "except grpc.RpcError as e:\n",
    "    display(e.code().name)\n",
    "    display(e.details())"
   ]
  },
  {
   "cell_type": "markdown",
   "id": "be806dc7",
   "metadata": {},
   "source": [
    "#### 3.3 Retrieve splits"
   ]
  },
  {
   "cell_type": "code",
   "execution_count": null,
   "id": "cec3e85c",
   "metadata": {},
   "outputs": [],
   "source": [
    "# prepare the splits data frame content\n",
    "dates = [datetime(d.date.year, d.date.month, d.date.day) for d in response.data]\n",
    "old_shares = [d.old_shares for d in response.data]\n",
    "new_shares = [d.new_shares for d in response.data]\n",
    "\n",
    "# create pandas dataframe\n",
    "d = {'Date': dates, 'New shares': new_shares, 'Old shares': old_shares}\n",
    "df = pd.DataFrame(data=d)"
   ]
  },
  {
   "cell_type": "code",
   "execution_count": null,
   "id": "3465b19d",
   "metadata": {},
   "outputs": [],
   "source": [
    "# display splits\n",
    "df"
   ]
  },
  {
   "cell_type": "markdown",
   "id": "76560497",
   "metadata": {},
   "source": [
    "#### 3.4 Add dates constraints"
   ]
  },
  {
   "cell_type": "code",
   "execution_count": null,
   "id": "46bbb552",
   "metadata": {},
   "outputs": [],
   "source": [
    "# set data interval (we are using Google date time format) \n",
    "date_interval = dateinterval.DateInterval(\n",
    "    start_date = date.Date(year = 2020, month = 1, day = 1),\n",
    "    end_date = date.Date(year = 2021, month = 3, day = 31)\n",
    ")\n",
    "\n",
    "# generate constraints based on the previous date selection\n",
    "# time constraints are not neeeded for the dividends\n",
    "constraints = constraints.Constraints(\n",
    "    date_intervals = [date_interval]\n",
    ")"
   ]
  },
  {
   "cell_type": "code",
   "execution_count": null,
   "id": "149e4051",
   "metadata": {},
   "outputs": [],
   "source": [
    "# create the splits request with dates constraints\n",
    "request = splits.SplitsRequest(\n",
    "    identifier = identifier.Identifier(exchange = exchange, ticker = ticker),\n",
    "    constraints = constraints\n",
    ")"
   ]
  },
  {
   "cell_type": "code",
   "execution_count": null,
   "id": "f0661fa6",
   "metadata": {},
   "outputs": [],
   "source": [
    "try:\n",
    "    # open a gRPC channel\n",
    "    with channel_helpers.get_grpc_channel() as channel:  \n",
    "        \n",
    "        #instantiate the dividends service\n",
    "        service = splits_service.SplitsServiceStub(channel)\n",
    "        \n",
    "        # process the request\n",
    "        response = service.Splits(\n",
    "            request = request, \n",
    "            metadata = [('authorization', token)]\n",
    "        )\n",
    "except grpc.RpcError as e:\n",
    "    display(e.code().name)\n",
    "    display(e.details())"
   ]
  },
  {
   "cell_type": "markdown",
   "id": "abe6fd42",
   "metadata": {},
   "source": [
    "#### 3.5 Retrieve splits with date constraints"
   ]
  },
  {
   "cell_type": "code",
   "execution_count": null,
   "id": "78a320fa",
   "metadata": {},
   "outputs": [],
   "source": [
    "# prepare the splits data frame content\n",
    "dates = [datetime(d.date.year, d.date.month, d.date.day) for d in response.data]\n",
    "old_shares = [d.old_shares for d in response.data]\n",
    "new_shares = [d.new_shares for d in response.data]\n",
    "\n",
    "# create pandas dataframe\n",
    "d = {'Date': dates, 'New shares': new_shares, 'Old shares': old_shares}\n",
    "df = pd.DataFrame(data=d)"
   ]
  },
  {
   "cell_type": "code",
   "execution_count": null,
   "id": "35cfcb17",
   "metadata": {},
   "outputs": [],
   "source": [
    "# display splits\n",
    "df"
   ]
  }
 ],
 "metadata": {
  "kernelspec": {
   "display_name": "Python 3",
   "language": "python",
   "name": "python3"
  },
  "language_info": {
   "codemirror_mode": {
    "name": "ipython",
    "version": 3
   },
   "file_extension": ".py",
   "mimetype": "text/x-python",
   "name": "python",
   "nbconvert_exporter": "python",
   "pygments_lexer": "ipython3",
   "version": "3.9.2"
  }
 },
 "nbformat": 4,
 "nbformat_minor": 5
}
