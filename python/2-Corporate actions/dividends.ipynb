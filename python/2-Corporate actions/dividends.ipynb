{
 "cells": [
  {
   "cell_type": "markdown",
   "id": "critical-delicious",
   "metadata": {},
   "source": [
    "# Dividends extraction using dedicated service - Python\n",
    "\n",
    "### Overview\n",
    "This sample requests **on-demand** dividends by calling a dedicated data service.\n",
    "\n",
    "### Inputs/outputs\n",
    "Dividends sample is designed to help you searching and requesting dividends for a given instrument.\n",
    "* It takes instrument specification parameter(s) as per input filter and returns *Dividends*\n",
    "\n",
    "### Services used\n",
    "This sample uses *gRPC requests* in order to retrieve dividends from the hosted service. The queried endpoint in this script are:\n",
    "* *DividendsService*: to directly retrieve dividends data objects from the server\n",
    "\n",
    "### Modules required\n",
    "1. Systemathics packages:\n",
    "    * *systemathics.apis.services.corporate_actions.v1*\n",
    "    * *systemathics.apis.type.shared.v1*\n",
    "    * *google.type*\n",
    "2. Open source packages\n",
    "    * *googleapis-common-protos*\n",
    "    * *protobuf*\n",
    "    * *grpcio*\n",
    "    * *pandas*\n",
    "    \n",
    "***"
   ]
  },
  {
   "cell_type": "markdown",
   "id": "radical-jenny",
   "metadata": {},
   "source": [
    "# Run dividends queries"
   ]
  },
  {
   "cell_type": "markdown",
   "id": "mediterranean-paris",
   "metadata": {},
   "source": [
    "### Step 1: Install packages and import them"
   ]
  },
  {
   "cell_type": "code",
   "execution_count": null,
   "id": "velvet-fence",
   "metadata": {},
   "outputs": [],
   "source": [
    "pip install googleapis-common-protos protobuf grpcio pandas"
   ]
  },
  {
   "cell_type": "code",
   "execution_count": null,
   "id": "informed-burner",
   "metadata": {},
   "outputs": [],
   "source": [
    "pip install systemathics.apis --pre"
   ]
  },
  {
   "cell_type": "code",
   "execution_count": null,
   "id": "floppy-moral",
   "metadata": {},
   "outputs": [],
   "source": [
    "import os\n",
    "import grpc\n",
    "import pandas as pd\n",
    "from datetime import datetime\n",
    "import google.type.date_pb2 as date\n",
    "import systemathics.apis.type.shared.v1.identifier_pb2 as identifier\n",
    "import systemathics.apis.type.shared.v1.constraints_pb2 as constraints\n",
    "import systemathics.apis.type.shared.v1.date_interval_pb2 as dateinterval\n",
    "import systemathics.apis.services.corporate_actions.v1.dividends_pb2 as dividends\n",
    "import systemathics.apis.services.corporate_actions.v1.dividends_pb2_grpc as dividends_service\n",
    "import systemathics.apis.helpers.token_helpers as token_helpers\n",
    "import systemathics.apis.helpers.channel_helpers as channel_helpers"
   ]
  },
  {
   "cell_type": "markdown",
   "id": "varying-spokesman",
   "metadata": {},
   "source": [
    "### Step 2: Prepare API requests\n",
    "The following code snippets retrieve authentication token to be used in upcomming API requests:"
   ]
  },
  {
   "cell_type": "code",
   "execution_count": null,
   "id": "deluxe-builder",
   "metadata": {},
   "outputs": [],
   "source": [
    "token = token_helpers.get_token()\n",
    "display(token)"
   ]
  },
  {
   "cell_type": "markdown",
   "id": "veterinary-filling",
   "metadata": {},
   "source": [
    "### Step 3: Retrieve dividends"
   ]
  },
  {
   "cell_type": "markdown",
   "id": "challenging-disposition",
   "metadata": {},
   "source": [
    "#### 3.1 Equity selection"
   ]
  },
  {
   "cell_type": "code",
   "execution_count": null,
   "id": "ordinary-adrian",
   "metadata": {},
   "outputs": [],
   "source": [
    "ticker = 'AAPL'\n",
    "exchange = 'XNGS'"
   ]
  },
  {
   "cell_type": "markdown",
   "id": "intensive-profile",
   "metadata": {},
   "source": [
    "#### 3.2 Create and process request"
   ]
  },
  {
   "cell_type": "code",
   "execution_count": null,
   "id": "suspended-dutch",
   "metadata": {},
   "outputs": [],
   "source": [
    "# create the dividends request\n",
    "request = dividends.DividendsRequest(\n",
    "    identifier = identifier.Identifier(exchange = exchange, ticker = ticker)\n",
    ")"
   ]
  },
  {
   "cell_type": "code",
   "execution_count": null,
   "id": "embedded-auckland",
   "metadata": {},
   "outputs": [],
   "source": [
    "try:\n",
    "    # open a gRPC channel\n",
    "    with channel_helpers.get_grpc_channel() as channel:  \n",
    "        \n",
    "        #instantiate the dividends service\n",
    "        service = dividends_service.DividendsServiceStub(channel)\n",
    "        \n",
    "        # process the request\n",
    "        response = service.Dividends(\n",
    "            request = request, \n",
    "            metadata = [('authorization', token)]\n",
    "        )\n",
    "except grpc.RpcError as e:\n",
    "    display(e.code().name)\n",
    "    display(e.details())"
   ]
  },
  {
   "cell_type": "markdown",
   "id": "endangered-vitamin",
   "metadata": {},
   "source": [
    "#### 3.3 Retrieve dividends"
   ]
  },
  {
   "cell_type": "code",
   "execution_count": null,
   "id": "signal-packing",
   "metadata": {},
   "outputs": [],
   "source": [
    "# prepare the dividends data frame content\n",
    "dates = [datetime(d.date.year, d.date.month, d.date.day) for d in response.data]\n",
    "types = [d.type for d in response.data]\n",
    "amounts = [d.amount for d in response.data]\n",
    "\n",
    "# Create pandas dataframe\n",
    "d = {'Date': dates, 'Type': types, 'Amount': amounts}\n",
    "df = pd.DataFrame(data=d)"
   ]
  },
  {
   "cell_type": "code",
   "execution_count": null,
   "id": "short-tribe",
   "metadata": {},
   "outputs": [],
   "source": [
    "# display dividends\n",
    "df"
   ]
  },
  {
   "cell_type": "markdown",
   "id": "absent-kinase",
   "metadata": {},
   "source": [
    "#### 3.4 Add dates constraints"
   ]
  },
  {
   "cell_type": "code",
   "execution_count": null,
   "id": "configured-albany",
   "metadata": {},
   "outputs": [],
   "source": [
    "# set data interval (we are using Google date time format) \n",
    "date_interval = dateinterval.DateInterval(\n",
    "    start_date = date.Date(year = 2020, month = 1, day = 1),\n",
    "    end_date = date.Date(year = 2021, month = 3, day = 31)\n",
    ")\n",
    "\n",
    "# generate constraints based on the previous date selection\n",
    "# time constraints are not neeeded for the dividends\n",
    "constraints = constraints.Constraints(\n",
    "    date_intervals = [date_interval]\n",
    ")"
   ]
  },
  {
   "cell_type": "code",
   "execution_count": null,
   "id": "minimal-trainer",
   "metadata": {},
   "outputs": [],
   "source": [
    "# create the dividends request with dates constraints\n",
    "request = dividends.DividendsRequest(\n",
    "    identifier = identifier.Identifier(exchange = exchange, ticker = ticker),\n",
    "    constraints = constraints\n",
    ")"
   ]
  },
  {
   "cell_type": "code",
   "execution_count": null,
   "id": "continued-tattoo",
   "metadata": {},
   "outputs": [],
   "source": [
    "try:\n",
    "    # open a gRPC channel\n",
    "    with channel_helpers.get_grpc_channel() as channel:  \n",
    "        \n",
    "        #instantiate the dividends service\n",
    "        service = dividends_service.DividendsServiceStub(channel)\n",
    "        \n",
    "        # process the request\n",
    "        response = service.Dividends(\n",
    "            request = request, \n",
    "            metadata = [('authorization', token)]\n",
    "        )\n",
    "except grpc.RpcError as e:\n",
    "    display(e.code().name)\n",
    "    display(e.details())"
   ]
  },
  {
   "cell_type": "markdown",
   "id": "detected-reference",
   "metadata": {},
   "source": [
    "#### 3.5 Retrieve dividends with date constraints"
   ]
  },
  {
   "cell_type": "code",
   "execution_count": null,
   "id": "bulgarian-auction",
   "metadata": {},
   "outputs": [],
   "source": [
    "# prepare the dividends data frame content\n",
    "dates = [datetime(d.date.year, d.date.month, d.date.day) for d in response.data]\n",
    "types = [d.type for d in response.data]\n",
    "amounts = [d.amount for d in response.data]\n",
    "\n",
    "# Create pandas dataframe\n",
    "d = {'Date': dates, 'Type': types, 'Amount': amounts}\n",
    "df = pd.DataFrame(data=d)"
   ]
  },
  {
   "cell_type": "code",
   "execution_count": null,
   "id": "wrong-career",
   "metadata": {},
   "outputs": [],
   "source": [
    "# display dividends\n",
    "df"
   ]
  }
 ],
 "metadata": {
  "language_info": {
   "name": "python",
   "pygments_lexer": "ipython3"
  }
 },
 "nbformat": 4,
 "nbformat_minor": 5
}
