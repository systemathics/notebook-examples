{
 "cells": [
  {
   "cell_type": "markdown",
   "metadata": {},
   "source": [
    "## Monitor data normalization since reference date (EQUITIES) - Python\n",
    "\n",
    "### Overview\n",
    "Tick count indicator enables to monitor data collection, normalization and storage. Coupled with other monitoring metrics, tick count represents a rich monitoring tool to ensure data completion and storage quality.\n",
    "\n",
    "### Inputs/outputs\n",
    "Data normalization monitoring sample takes a list of instrument identifiers (equities) a sper input and returns a set of metrics such as:\n",
    "* Total tick cout for each instrument\n",
    "* Total entries used to compute tick count based on the chosen time granularity\n",
    "* First tick date\n",
    "* Last tick date\n",
    "* Missing days: today - last tick date\n",
    "\n",
    "### Services used\n",
    "This sample uses *gRPC requests* in order to retrieve ticks from the dedicated hosted service. The queried endpoint in this script are:\n",
    "* *TopologiesService*: to directly retrieve ticks objects from the server.\n",
    "\n",
    "### Modules required\n",
    "1. Systemathics packages:\n",
    "    * *systemathics.apis.services.topology.v1*\n",
    "    * *systemathics.apis.type.shared.v1*\n",
    "    * *google.type*\n",
    "2. Open source packages\n",
    "    * *googleapis-common-protos*\n",
    "    * *protobuf*\n",
    "    * *grpcio*\n",
    "    * *pandas*\n",
    "    * *matpotlib* as per display package\n",
    "\n",
    "***"
   ]
  },
  {
   "cell_type": "markdown",
   "metadata": {},
   "source": [
    "# Run equities data normalization sample"
   ]
  },
  {
   "cell_type": "markdown",
   "metadata": {},
   "source": [
    "### Step 1: Install packages"
   ]
  },
  {
   "cell_type": "code",
   "execution_count": null,
   "metadata": {},
   "outputs": [],
   "source": [
    "pip install googleapis-common-protos protobuf grpcio pandas matplotlib"
   ]
  },
  {
   "cell_type": "code",
   "execution_count": null,
   "metadata": {},
   "outputs": [],
   "source": [
    "pip install systemathics.apis --pre"
   ]
  },
  {
   "cell_type": "code",
   "execution_count": null,
   "metadata": {},
   "outputs": [],
   "source": [
    "import os\n",
    "import grpc\n",
    "import pandas as pd\n",
    "import matplotlib.pyplot as plt\n",
    "from datetime import date\n",
    "from datetime import datetime\n",
    "import google.type.date_pb2 as date\n",
    "import systemathics.apis.type.shared.v1.level_pb2 as level\n",
    "import systemathics.apis.type.shared.v1.identifier_pb2 as identifier\n",
    "import systemathics.apis.services.topology.v1.topologies_pb2 as topologies\n",
    "import systemathics.apis.services.topology.v1.topologies_pb2_grpc as topologies_service\n",
    "import systemathics.apis.helpers.token_helpers as token_helpers\n",
    "import systemathics.apis.helpers.channel_helpers as channel_helpers"
   ]
  },
  {
   "cell_type": "markdown",
   "metadata": {},
   "source": [
    "### Step 2: Retrieve authentication token\n",
    "The following code snippet sends authentication request and print token to console output in order to process the upcomming *gRPC queries*."
   ]
  },
  {
   "cell_type": "code",
   "execution_count": null,
   "metadata": {},
   "outputs": [],
   "source": [
    "token = token_helpers.get_token()\n",
    "display(token)"
   ]
  },
  {
   "cell_type": "markdown",
   "metadata": {},
   "source": [
    "### Step 3: Create and process request\n",
    "To request *TopologiesService*, we need to specify:\n",
    "* Instrument identifier\n",
    "* Time period selection: select start and end dates\n",
    "* Topology request parameters"
   ]
  },
  {
   "cell_type": "markdown",
   "metadata": {},
   "source": [
    "#### 3.1 Reference date specification"
   ]
  },
  {
   "cell_type": "code",
   "execution_count": null,
   "metadata": {},
   "outputs": [],
   "source": [
    "# reference date (tick data availability)\n",
    "reference_date = datetime(2020, 1, 1)"
   ]
  },
  {
   "cell_type": "markdown",
   "metadata": {},
   "source": [
    "#### 3.2 Instrument selection"
   ]
  },
  {
   "cell_type": "code",
   "execution_count": null,
   "metadata": {},
   "outputs": [],
   "source": [
    "# set instrument identifier: exchange + ticker + sources\n",
    "tickerexchange_array = [['AAPL', 'XNGS',564],\n",
    "                        ['AMZN', 'XNGS',564],\n",
    "                        ['MSFT', 'XNGS',564],\n",
    "                        ['MSFT', 'BATS',729],\n",
    "                        ['AAPL', 'BATS',729],\n",
    "                        ['AMZN', 'BATS',729],\n",
    "                        ['ASML', 'XAMS', 787],\n",
    "                        ['ABI', 'XBRU',787],\n",
    "                        ['UNA', 'XAMS',787],\n",
    "                        ['RDSA', 'XAMS',787],\n",
    "                        ['ARGX', 'XBRU',787],\n",
    "                        ['MC', 'XPAR',787],\n",
    "                        ['SAN', 'XPAR',787],\n",
    "                        ['TTE', 'XPAR',787],\n",
    "                        ['JMT', 'XLIS',787],\n",
    "                        ['EDPR', 'XLIS',787],\n",
    "                        ['EDP', 'XLIS',787],\n",
    "                        ['KBC', 'XBRU',787],\n",
    "                        ['EDP', 'CHIX',794],\n",
    "                        ['ASML', 'CHIX',794],\n",
    "                        ['ABI', 'CHIX',794],\n",
    "                        ['KBC', 'CHIX',794],\n",
    "                        ['ARGX', 'CHIX',794],\n",
    "                        ['MC', 'CHIX',794],\n",
    "                        ['SAN', 'CHIX',794],\n",
    "                        ['JMT', 'CHIX',794],\n",
    "                        ['EDPR', 'CHIX',794],\n",
    "                       ]\n",
    "length = len(tickerexchange_array)\n",
    "colors = {\n",
    "  564: \"green\",\n",
    "  729 : \"blue\",\n",
    "  787: \"purple\",\n",
    "    794 : \"brown\" \n",
    "}"
   ]
  },
  {
   "cell_type": "markdown",
   "metadata": {},
   "source": [
    "#### 3.3 Topology parameters"
   ]
  },
  {
   "cell_type": "code",
   "execution_count": null,
   "metadata": {},
   "outputs": [],
   "source": [
    "# set topology time granularity (daily, weekly...)\n",
    "granularity = topologies.TOPOLOGY_GRANULARITY_DAILY\n",
    "\n",
    "# set level: Trades or Trades and Book\n",
    "level = level.LEVEL_TRADES_AND_BOOK"
   ]
  },
  {
   "cell_type": "markdown",
   "metadata": {},
   "source": [
    "#### 3.4 Request creation\n",
    "The following code snippet creates *gRPC client*, process request and ensure that the reply is not empty:"
   ]
  },
  {
   "cell_type": "code",
   "execution_count": null,
   "metadata": {},
   "outputs": [],
   "source": [
    "# define method to handle topologies request creation for each instrument\n",
    "def get_topologies_request(ticker, exchange, granularity, level):\n",
    "    request = topologies.TopologiesRequest(identifier = identifier.Identifier(exchange = exchange, ticker = ticker),\n",
    "                                           granularity = granularity,\n",
    "                                           level = level)\n",
    "    return request"
   ]
  },
  {
   "cell_type": "code",
   "execution_count": null,
   "metadata": {},
   "outputs": [],
   "source": [
    "# process all topologies requests\n",
    "credentials = grpc.ssl_channel_credentials()\n",
    "equities_responses =[]\n",
    "today = datetime.today()\n",
    "      \n",
    "# iterate all instrument identifiers: exhange/ticker pairs\n",
    "for i in range(length):\n",
    "    try:\n",
    "        # open a gRPC channel\n",
    "        with channel_helpers.get_grpc_channel() as channel:\n",
    "\n",
    "            # instantiate the topologies service\n",
    "            ticker = tickerexchange_array[i][0]\n",
    "            exchange = tickerexchange_array[i][1]\n",
    "            request = get_topologies_request(ticker, exchange, granularity, level)\n",
    "            service = topologies_service.TopologiesServiceStub(channel)\n",
    "\n",
    "            # process the topologies request\n",
    "            response = service.Topologies(request=request, metadata = [('authorization', token)])\n",
    "            \n",
    "            # store responses after reference date\n",
    "            filtered_responses = []      \n",
    "            for elt in response.entries:\n",
    "                if elt.begin.year >= reference_date.year:\n",
    "                    filtered_responses.append(elt)\n",
    "            equities_responses.append(filtered_responses)\n",
    "    except grpc.RpcError as e:\n",
    "        display(e.code().name)\n",
    "        display(e.details())\n",
    "        \n",
    "# get tick count data\n",
    "print(\"Total asset requests: \", length)"
   ]
  },
  {
   "cell_type": "markdown",
   "metadata": {},
   "source": [
    "### Step 4: Retreive data\n",
    "The first code snippet allows to get the expected number of entries (daily)"
   ]
  },
  {
   "cell_type": "code",
   "execution_count": null,
   "metadata": {},
   "outputs": [],
   "source": [
    "# Find number of days (expected entries)\n",
    "def get_expected_entry_numbers(start_date, end_date):\n",
    "    if start_date > end_date:\n",
    "        return 0\n",
    "    else:\n",
    "        current_date = start_date\n",
    "        cpt =0\n",
    "        while (current_date < today):\n",
    "            current_date = current_date + timedelta(days=1)\n",
    "            if current_date.weekday() < 5:\n",
    "                cpt+=1\n",
    "        return cpt\n"
   ]
  },
  {
   "cell_type": "code",
   "execution_count": null,
   "metadata": {},
   "outputs": [],
   "source": [
    "from datetime import timedelta \n",
    "today = datetime.today()\n",
    "expected_entries = get_expected_entry_numbers(reference_date, today)\n",
    "print(\"Expected entries: {}\".format(expected_entries))"
   ]
  },
  {
   "cell_type": "markdown",
   "metadata": {},
   "source": [
    "The following code snippet enables to export computed metrics to *csv file*:"
   ]
  },
  {
   "cell_type": "code",
   "execution_count": null,
   "metadata": {},
   "outputs": [],
   "source": [
    "import csv\n",
    "\n",
    "# process all topologies responses\n",
    "filename = 'reference_equities_dashboard_{0:%Y%m%d}.csv'.format(today)\n",
    "\n",
    "with open(filename, mode='w') as topologies_equities_file:\n",
    "    topologies_equities_writer = csv.writer(topologies_equities_file, delimiter=',', quotechar='\"', quoting=csv.QUOTE_MINIMAL)\n",
    "\n",
    "    # write 1rst row\n",
    "    topologies_equities_writer.writerow(['Ticker', 'Exchange', 'Source', 'Entries' ,'Total_ticks', 'First_tick', 'Last_tick', 'Missing_days'])\n",
    "    \n",
    "    # Iterate all exhange/ticker pairs\n",
    "    for i in range(length):\n",
    "\n",
    "        response = equities_responses[i]    \n",
    "        # instantiate the topologies service\n",
    "        ticker = tickerexchange_array[i][0]\n",
    "        exchange = tickerexchange_array[i][1]\n",
    "        entries_count = len(response)\n",
    "        tick_counts = sum([entry.ticks_count for entry in response])\n",
    "        first_date = datetime(response[0].begin.year, response[0].begin.month, response[0].begin.day)\n",
    "        last_date = datetime(response[-1].end.year, response[-1].end.month, response[-1].end.day)\n",
    "        missing_days = expected_entries-entries_count\n",
    "        source = tickerexchange_array[i][2]\n",
    "        print(\"Total entries for {0}-{1} ({2}) \\t: {3} \\t| total ticks count: {4} | b: {5:%Y/%m/%d} - {6:%Y/%m/%d} \\t| Missing days: {7}\".format(ticker, exchange, source ,entries_count, tick_counts, first_date, last_date,missing_days))\n",
    "        topologies_equities_writer.writerow([ticker,exchange, source, entries_count, tick_counts, '{0:%Y/%m/%d}'.format(first_date), '{0:%Y/%m/%d}'.format(last_date), missing_days])"
   ]
  },
  {
   "cell_type": "markdown",
   "metadata": {},
   "source": [
    "### Step 5: Visualize data"
   ]
  },
  {
   "cell_type": "markdown",
   "metadata": {},
   "source": [
    "#### 5.1 Plot data normalization overview\n",
    "The following code snippet enables to plot data normalization metrics per instrument in a single window to give an overview:"
   ]
  },
  {
   "cell_type": "code",
   "execution_count": null,
   "metadata": {},
   "outputs": [],
   "source": [
    "num_rows = 7\n",
    "num_cols = 4\n",
    "fig,axs = plt.subplots(num_rows,num_cols, figsize=(30,10))\n",
    "for i in range(length):\n",
    "    ticker = tickerexchange_array[i][0]\n",
    "    exchange = tickerexchange_array[i][1]\n",
    "    source = tickerexchange_array[i][2]\n",
    "    counts = [entry.ticks_count for entry in equities_responses[i]]\n",
    "    dates = [datetime(year=entry.begin.year,day=entry.begin.day, month=entry.begin.month) for entry in equities_responses[i]]\n",
    "    col = i//num_rows\n",
    "    row = i%num_rows\n",
    "    axs[row, col].bar(dates, counts, color = colors[source])\n",
    "    axs[row, col].set_xlim([datetime(reference_date.year, reference_date.month, reference_date.day), datetime(today.year, today.month, today.day)])\n",
    "    axs[row, col].set_title('{0}-{1} ({2})'.format(ticker, exchange, source))\n",
    "    \n",
    "# set the spacing between subplots\n",
    "plt.subplots_adjust(left=0.1, bottom=0.1, right=0.9, top=0.9, wspace=0.4, hspace=0.8)\n",
    "\n",
    "# add subtitle\n",
    "plt.suptitle(\"Tick counts for all selected equities from {0:%Y/%m/%d} to {1:%Y/%m/%d}\".format(reference_date, today), size=\"20\")\n",
    "\n",
    "# plot\n",
    "plt.plot()"
   ]
  },
  {
   "cell_type": "markdown",
   "metadata": {},
   "source": [
    "#### 5.2 Plot data normalization details\n",
    "The following code snippet enables to plot data normalization metrics per instrument in a multiple windows:"
   ]
  },
  {
   "cell_type": "code",
   "execution_count": null,
   "metadata": {},
   "outputs": [],
   "source": [
    "# One figure for each asset\n",
    "for i in range(length):\n",
    "    ticker = tickerexchange_array[i][0]\n",
    "    exchange = tickerexchange_array[i][1]\n",
    "    source = tickerexchange_array[i][2]\n",
    "    counts = [entry.ticks_count for entry in equities_responses[i]]\n",
    "    dates = [datetime(year=entry.begin.year,day=entry.begin.day, month=entry.begin.month) for entry in equities_responses[i]]\n",
    "    \n",
    "    # plot\n",
    "    fig,ax = plt.subplots(1,1,figsize=(25,10))\n",
    "    ax.bar(dates,counts, color = colors[source])\n",
    "    ax.set_xlim([datetime(reference_date.year, reference_date.month, reference_date.day), datetime(today.year, today.month, today.day)])\n",
    "    plt.xlabel(\"Date\",size=\"20\")\n",
    "    plt.ylabel(\"Tick count\",size=\"20\")\n",
    "    plt.title(\"Tick count for {0}-{1} | source: {2}\".format(ticker,exchange, source),size=\"20\")\n",
    "    plt.show()"
   ]
  }
 ],
 "metadata": {
  "kernelspec": {
   "display_name": "Python 3",
   "language": "python",
   "name": "python3"
  },
  "language_info": {
   "codemirror_mode": {
    "name": "ipython",
    "version": 3
   },
   "file_extension": ".py",
   "mimetype": "text/x-python",
   "name": "python",
   "nbconvert_exporter": "python",
   "pygments_lexer": "ipython3",
   "version": "3.9.2"
  }
 },
 "nbformat": 4,
 "nbformat_minor": 4
}
