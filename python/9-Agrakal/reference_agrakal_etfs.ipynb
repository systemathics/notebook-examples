{
 "cells": [
  {
   "cell_type": "markdown",
   "metadata": {},
   "source": [
    "## Monitor agrakal daily data (ETFS) - Python\n",
    "\n",
    "### Overview\n",
    "\n",
    "This sample makes the inventory of the reference etfs for agrakal\n",
    "\n",
    "### Services used\n",
    "This sample uses *gRPC requests* in order to retrieve daily data from the dedicated hosted service. The queried endpoint in this script are:\n",
    "* *DailyPricesService*: to directly retrieve daily price objects from the server\n",
    "* *DailyBarsService*: to directly retrieve daily bars objects from the server\n",
    "\n",
    "### Modules required\n",
    "1. Systemathics packages:\n",
    "    * *systemathics.apis.services.topology.v1*\n",
    "    * *systemathics.apis.type.shared.v1*\n",
    "    * *google.type*\n",
    "2. Open source packages\n",
    "    * *googleapis-common-protos*\n",
    "    * *protobuf*\n",
    "    * *grpcio*\n",
    "    * *pandas*\n",
    "\n",
    "***"
   ]
  },
  {
   "cell_type": "markdown",
   "metadata": {},
   "source": [
    "# Run etf agrakal daily reference data sample"
   ]
  },
  {
   "cell_type": "markdown",
   "metadata": {},
   "source": [
    "### Step 1: Install packages"
   ]
  },
  {
   "cell_type": "code",
   "execution_count": null,
   "metadata": {},
   "outputs": [],
   "source": [
    "pip install googleapis-common-protos protobuf grpcio pandas"
   ]
  },
  {
   "cell_type": "code",
   "execution_count": null,
   "metadata": {},
   "outputs": [],
   "source": [
    "pip install systemathics.apis"
   ]
  },
  {
   "cell_type": "code",
   "execution_count": null,
   "metadata": {},
   "outputs": [],
   "source": [
    "import os\n",
    "import grpc\n",
    "import pandas as pd\n",
    "from datetime import date\n",
    "from datetime import datetime\n",
    "import google.type.date_pb2 as date\n",
    "import systemathics.apis.type.shared.v1.level_pb2 as level\n",
    "import systemathics.apis.type.shared.v1.identifier_pb2 as identifier\n",
    "import systemathics.apis.services.daily.v1.daily_bars_pb2 as daily_bars\n",
    "import systemathics.apis.services.daily.v1.daily_bars_pb2_grpc as daily_bars_service\n",
    "import systemathics.apis.services.daily.v1.daily_prices_pb2 as daily_prices\n",
    "import systemathics.apis.services.daily.v1.daily_prices_pb2_grpc as daily_prices_service\n",
    "import systemathics.apis.helpers.token_helpers as token_helpers\n",
    "import systemathics.apis.helpers.channel_helpers as channel_helpers"
   ]
  },
  {
   "cell_type": "markdown",
   "metadata": {},
   "source": [
    "### Step 2: Retrieve authentication token\n",
    "The following code snippet sends authentication request and print token to console output in order to process the upcomming *gRPC queries*."
   ]
  },
  {
   "cell_type": "code",
   "execution_count": null,
   "metadata": {},
   "outputs": [],
   "source": [
    "token = token_helpers.get_token()\n",
    "display(token)"
   ]
  },
  {
   "cell_type": "markdown",
   "metadata": {},
   "source": [
    "### Step 3: Create and process request\n",
    "To request *DailyBarsService* and *DailyPricesService*, we need to specify the **Instrument identifier**:"
   ]
  },
  {
   "cell_type": "markdown",
   "metadata": {},
   "source": [
    "#### 3.1 Instrument selection"
   ]
  },
  {
   "cell_type": "code",
   "execution_count": null,
   "metadata": {},
   "outputs": [],
   "source": [
    "# set instrument identifier: exchange + ticker\n",
    "tickerexchange_array = [['HYG', 'XNYS'],\n",
    "                        ['XLF', 'XNYS'],\n",
    "                        ['XLU', 'XNYS'],\n",
    "                        ['XLE', 'XNYS'],\n",
    "                        ['IYT', 'BATS'],\n",
    "                        ['IBB', 'XNMS'],\n",
    "                        ['XLV', 'XNYS'],\n",
    "                       ]\n",
    "is_adjusted = False\n",
    "length = len(tickerexchange_array)\n"
   ]
  },
  {
   "cell_type": "markdown",
   "metadata": {},
   "source": [
    "#### 3.2 Define necessary methods\n",
    "The following code snippets allows the user to generate a *DailyBarsRequest* or a *DailyPricesRequest* for the given ticker/exchange pair"
   ]
  },
  {
   "cell_type": "code",
   "execution_count": null,
   "metadata": {},
   "outputs": [],
   "source": [
    "# define method to handle dailyprices request creation for each instrument\n",
    "def get_dailyprices_request(ticker, exchange, is_adjusted):\n",
    "    request = daily_bars.DailyBarsRequest(identifier = identifier.Identifier(exchange = exchange, ticker = ticker), adjustment = is_adjusted)\n",
    "    return request"
   ]
  },
  {
   "cell_type": "code",
   "execution_count": null,
   "metadata": {},
   "outputs": [],
   "source": [
    "# define method to handle dailyprices request creation for each instrument\n",
    "def get_dailybars_request(ticker, exchange, is_adjusted):\n",
    "    request = daily_prices.DailyPricesRequest(identifier = identifier.Identifier(exchange = exchange, ticker = ticker), adjustment = is_adjusted)\n",
    "    return request"
   ]
  },
  {
   "cell_type": "markdown",
   "metadata": {},
   "source": [
    "#### 3.3 Process daily requests\n",
    "The following code snippet creates *gRPC client*, process daily bars and prices requests for each ticker/exchange pair:"
   ]
  },
  {
   "cell_type": "code",
   "execution_count": null,
   "metadata": {},
   "outputs": [],
   "source": [
    "# process all topologies requests\n",
    "credentials = grpc.ssl_channel_credentials()\n",
    "prices, bars =[],[] # prepare storage for responses\n",
    "today = datetime.today()\n",
    "      \n",
    "# iterate all instrument identifiers: exhange/ticker pairs\n",
    "for i in range(length):\n",
    "    try:\n",
    "        # open a gRPC channel\n",
    "        with channel_helpers.get_grpc_channel() as channel:\n",
    "\n",
    "            ticker = tickerexchange_array[i][0]\n",
    "            exchange = tickerexchange_array[i][1]\n",
    "            \n",
    "            # --> prices\n",
    "            prices_request = get_dailyprices_request(ticker, exchange, is_adjusted)\n",
    "            prices_service = daily_prices_service.DailyPricesServiceStub(channel)\n",
    "\n",
    "            # process the daily prices request\n",
    "            prices_response = prices_service.DailyPrices(request=prices_request, metadata = [('authorization', token)])\n",
    "            prices.append(prices_response)\n",
    "            \n",
    "            # --> bars\n",
    "            bars_request = get_dailybars_request(ticker, exchange, is_adjusted)\n",
    "            bars_service = daily_bars_service.DailyBarsServiceStub(channel)\n",
    "\n",
    "            # process the daily bars request\n",
    "            bars_response = bars_service.DailyBars(request=bars_request, metadata = [('authorization', token)])\n",
    "            bars.append(bars_response)\n",
    "    except grpc.RpcError as e:\n",
    "        display(e.code().name)\n",
    "        display(e.details())\n",
    "\n",
    "        \n",
    "# get tick count data\n",
    "print(\"Total asset requests: \", length)"
   ]
  },
  {
   "cell_type": "markdown",
   "metadata": {},
   "source": [
    "Make sure we have as many responses for each data type than the number of inputs"
   ]
  },
  {
   "cell_type": "code",
   "execution_count": null,
   "metadata": {},
   "outputs": [],
   "source": [
    "print(\"Total daily prices responses: \", len(prices))\n",
    "print(\"Total daily bars responses: \", len(bars))"
   ]
  },
  {
   "cell_type": "markdown",
   "metadata": {},
   "source": [
    "### Step 4: Export data\n",
    "The 3 codes snippets below respectively export:\n",
    "* a dashboard revealing for each instrument the **first date** and the **last date**\n",
    "* **daily prices** (for each instrument)\n",
    "* **daily bars** (for each instrument)"
   ]
  },
  {
   "cell_type": "markdown",
   "metadata": {},
   "source": [
    "Export dashboard"
   ]
  },
  {
   "cell_type": "code",
   "execution_count": null,
   "metadata": {},
   "outputs": [],
   "source": [
    "import csv\n",
    "\n",
    "\n",
    "# process all daily responses\n",
    "today = datetime.today()\n",
    "filename = 'reference_agrakal_etfs_{0:%Y%m%d}.csv'.format(today)\n",
    "\n",
    "with open(filename, mode='w') as dashboard_etfs_file:\n",
    "    dashboard_etfs_writer = csv.writer(dashboard_etfs_file, delimiter=',', quotechar='\"', quoting=csv.QUOTE_MINIMAL)\n",
    "\n",
    "    # write 1rst row\n",
    "    dashboard_etfs_writer.writerow(['Ticker', 'Exchange','Type', 'First Date', 'Last Date'])\n",
    "    \n",
    "    # Prices\n",
    "    for i in range(length):\n",
    "        tpm_price = prices[i].data\n",
    "        ticker = tickerexchange_array[i][0]\n",
    "        exchange = tickerexchange_array[i][1]\n",
    "        if len(tpm_price) > 0:\n",
    "            first_price, last_price = tpm_price[0], tpm_price[-1]\n",
    "            first_date = datetime(first_price.date.year, first_price.date.month, first_price.date.day)\n",
    "            last_date = datetime(last_price.date.year, last_price.date.month, last_price.date.day)\n",
    "            dashboard_etfs_writer.writerow([ticker,exchange, 'PRICE', '{0:%Y/%m/%d}'.format(first_date), '{0:%Y/%m/%d}'.format(last_date)])\n",
    "        else: \n",
    "            print(\"Empty prices for {0}-{1}\".format(ticker,exchange))\n",
    "        \n",
    "    # Bars\n",
    "    for i in range(length):\n",
    "        tpm_bar = bars[i].data   \n",
    "        ticker = tickerexchange_array[i][0]\n",
    "        exchange = tickerexchange_array[i][1]\n",
    "        if len(tpm_bar) > 0:\n",
    "            first_bar, last_bar = tpm_bar[0], tpm_bar[-1]\n",
    "            first_date = datetime(first_bar.date.year, first_bar.date.month, first_bar.date.day)\n",
    "            last_date = datetime(last_bar.date.year, last_bar.date.month, last_bar.date.day)\n",
    "            dashboard_etfs_writer.writerow([ticker,exchange, 'BAR', '{0:%Y/%m/%d}'.format(first_date), '{0:%Y/%m/%d}'.format(last_date)])\n",
    "        else: \n",
    "            print(\"Empty bars for {0}-{1}\".format(ticker,exchange))"
   ]
  },
  {
   "cell_type": "markdown",
   "metadata": {},
   "source": [
    "Export every prices in a csv"
   ]
  },
  {
   "cell_type": "code",
   "execution_count": null,
   "metadata": {},
   "outputs": [],
   "source": [
    "suffix =''\n",
    "if is_adjusted:\n",
    "    suffix = '_adj_'"
   ]
  },
  {
   "cell_type": "code",
   "execution_count": null,
   "metadata": {},
   "outputs": [],
   "source": [
    "for i in range(length):\n",
    "    tpm_price = prices[i].data   \n",
    "    my_dates=[datetime(p.date.year, p.date.month, p.date.day) for p in tpm_price]\n",
    "    my_prices = [p.price for p in tpm_price]\n",
    "    my_volumes = [p.volume for p in tpm_price]\n",
    "    \n",
    "    \n",
    "    d = {'Date': my_dates, 'Price': my_prices, 'Volume': my_volumes } # create dictonary\n",
    "    df = pd.DataFrame(data=d) # visualize dataframe\n",
    "    \n",
    "    filename = 'Export/Etf/{0}-{1}_dailyprices{2}.csv'.format(tickerexchange_array[i][0],tickerexchange_array[i][1],suffix)\n",
    "    df.to_csv(filename, index=False)\n",
    "    print(\"Exporting prices to {} ...\".format(filename))"
   ]
  },
  {
   "cell_type": "markdown",
   "metadata": {},
   "source": [
    "Export every bars in a csv"
   ]
  },
  {
   "cell_type": "code",
   "execution_count": null,
   "metadata": {},
   "outputs": [],
   "source": [
    "for i in range(length):\n",
    "    tpm_bar = bars[i].data   \n",
    "    my_dates=[datetime(p.date.year, p.date.month, p.date.day) for p in tpm_bar]\n",
    "    my_opens = [b.open for b in tpm_bar]\n",
    "    my_highs = [b.high for b in tpm_bar]\n",
    "    my_lows = [b.low for b in tpm_bar]\n",
    "    my_closes = [b.close for b in tpm_bar]\n",
    "    my_volumes = [b.volume for b in tpm_bar]\n",
    "    \n",
    "    \n",
    "    d = {'Date': my_dates, 'Open': my_opens, 'High': my_highs, 'Low' : my_lows,'Close': my_closes, 'Volume': my_volumes }\n",
    "    df = pd.DataFrame(data=d)\n",
    "    \n",
    "    filename = 'Export/Etf/{0}-{1}_dailybars{2}.csv'.format(tickerexchange_array[i][0],tickerexchange_array[i][1],suffix)\n",
    "    df.to_csv(filename, index=False)\n",
    "    print(\"Exporting bars to {} ...\".format(filename))"
   ]
  }
 ],
 "metadata": {
  "kernelspec": {
   "display_name": "Python 3 (ipykernel)",
   "language": "python",
   "name": "python3"
  },
  "language_info": {
   "codemirror_mode": {
    "name": "ipython",
    "version": 3
   },
   "file_extension": ".py",
   "mimetype": "text/x-python",
   "name": "python",
   "nbconvert_exporter": "python",
   "pygments_lexer": "ipython3",
   "version": "3.9.7"
  }
 },
 "nbformat": 4,
 "nbformat_minor": 4
}
