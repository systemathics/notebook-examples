{
 "cells": [
  {
   "cell_type": "markdown",
   "metadata": {},
   "source": [
    "# Generate MACD using daily data service - Python\n",
    "\n",
    "### Overview\n",
    "*Moving Average Convergence/Divergence Oscillator* was developed by Gerald Appel and represents the difference between two moving averages of different lengths.\n",
    "\n",
    "Commonly used MACD the 12-day EMA less the 26-day EMA, but the parameters can be adapted when required. As its name implies, MACD is all about convergence and divergence of the two moving averages\n",
    "\n",
    "MACD oscilaltes around the zero line as follows:\n",
    "* positive values increase as the shorter moving average diverges further from the longer one\n",
    "* negative values indicate that the shorter moving average is below the longer one\n",
    "\n",
    "This sample demonstrates how to request and plot **on-demand** *Moving Average Convergence/Divergence Oscillator - MACD* from a daily data service.\n",
    "\n",
    "### Inputs/outputs\n",
    "Moving Average Convergence/Divergence Oscillator's request require instrument's identifier, date time intervals and number of periods of each moving average as per inputs.\n",
    "\n",
    "*MACD* is computed as follows:\n",
    "\n",
    "$$ MACD = 12day,EMA - 26day,EMA $$\n",
    "\n",
    "This sample shows how to plot a simple graph for basis technical analysis using an open source library. \n",
    "\n",
    "### Services used\n",
    "This sample uses *gRPC requests* in order to retrieve MACD indicator from the hosted service. The queried endpoint in this script are:\n",
    "* *DailyMacdService*: to directly retrieve daily MACD data from the server\n",
    "\n",
    "### Modules required\n",
    "1. Systemathics:\n",
    "    * *systemathics.apis.services.daily_analytics.v1*\n",
    "    * *systemathics.apis.type.shared.v1*\n",
    "    * *google.type*\n",
    "2. Open source:\n",
    "    * *googleapis-common-protos*\n",
    "    * *protobuf*\n",
    "    * *grpcio*\n",
    "    * *pandas*\n",
    "    * *plotly* and *matplotlib* as per display package\n",
    "\n",
    "***"
   ]
  },
  {
   "cell_type": "markdown",
   "metadata": {},
   "source": [
    "# Run daily MACD sample"
   ]
  },
  {
   "cell_type": "markdown",
   "metadata": {},
   "source": [
    "### Step 1: Install packages and import them"
   ]
  },
  {
   "cell_type": "code",
   "execution_count": null,
   "metadata": {},
   "outputs": [],
   "source": [
    "pip install googleapis-common-protos protobuf grpcio pandas plotly matplotlib"
   ]
  },
  {
   "cell_type": "code",
   "execution_count": null,
   "metadata": {},
   "outputs": [],
   "source": [
    "pip install systemathics.apis"
   ]
  },
  {
   "cell_type": "code",
   "execution_count": null,
   "metadata": {},
   "outputs": [],
   "source": [
    "import os\n",
    "import grpc\n",
    "import pandas as pd\n",
    "from datetime import datetime\n",
    "import google.type.date_pb2 as date\n",
    "import systemathics.apis.type.shared.v1.identifier_pb2 as identifier\n",
    "import systemathics.apis.type.shared.v1.constraints_pb2 as constraints\n",
    "import systemathics.apis.type.shared.v1.date_interval_pb2 as dateinterval\n",
    "import systemathics.apis.services.daily_analytics.v1.daily_macd_pb2 as daily_macd\n",
    "import systemathics.apis.services.daily_analytics.v1.daily_macd_pb2_grpc as daily_macd_service\n",
    "import systemathics.apis.helpers.token_helpers as token_helpers\n",
    "import systemathics.apis.helpers.channel_helpers as channel_helpers"
   ]
  },
  {
   "cell_type": "markdown",
   "metadata": {},
   "source": [
    "### Step 2: Retrieve authentication token\n",
    "The following code snippet sends authentication request and print token to console output in order to process the upcomming *gRPC queries*."
   ]
  },
  {
   "cell_type": "code",
   "execution_count": null,
   "metadata": {},
   "outputs": [],
   "source": [
    "token = token_helpers.get_token()\n",
    "display(token)"
   ]
  },
  {
   "cell_type": "markdown",
   "metadata": {},
   "source": [
    "### Step 3: Retrieve data\n",
    "To request *daily macd* service, we need to specify:\n",
    "* Instrument identifier\n",
    "* Time period selection: select start and end dates\n",
    "* The MACD parameters"
   ]
  },
  {
   "cell_type": "markdown",
   "metadata": {},
   "source": [
    "#### 3.1 Instrument selection"
   ]
  },
  {
   "cell_type": "code",
   "execution_count": null,
   "metadata": {},
   "outputs": [],
   "source": [
    "# set instrument identifier: exchange + ticker\n",
    "ticker = \"AAPL\"\n",
    "exchange = \"XNGS\""
   ]
  },
  {
   "cell_type": "markdown",
   "metadata": {},
   "source": [
    "#### 3.2 MACD parameters"
   ]
  },
  {
   "cell_type": "code",
   "execution_count": null,
   "metadata": {},
   "outputs": [],
   "source": [
    "# set EMAs lengths\n",
    "long_ema = 26;\n",
    "short_ema = 12;"
   ]
  },
  {
   "cell_type": "markdown",
   "metadata": {},
   "source": [
    "#### 3.3 Time period selection"
   ]
  },
  {
   "cell_type": "code",
   "execution_count": null,
   "metadata": {},
   "outputs": [],
   "source": [
    "# set data interval (we are using Google date time format) \n",
    "date_interval = dateinterval.DateInterval(\n",
    "    start_date = date.Date(year = 2019, month = 1, day = 1),\n",
    "    end_date = date.Date(year = 2020, month = 12, day = 31)\n",
    ")\n",
    "\n",
    "# generate constraints based on the previous date selection\n",
    "# time constraints are not neeeded for the dividends\n",
    "my_constraints = constraints.Constraints(\n",
    "    date_intervals = [date_interval]\n",
    ")"
   ]
  },
  {
   "cell_type": "markdown",
   "metadata": {},
   "source": [
    "#### 3.4 MACD request creation\n",
    "The following code snippet creates *gRPC client*, process daily MACD requests and returns the reply."
   ]
  },
  {
   "cell_type": "code",
   "execution_count": null,
   "metadata": {},
   "outputs": [],
   "source": [
    "# generate daily macd request\n",
    "request = daily_macd.DailyMacdRequest(\n",
    "    identifier = identifier.Identifier(exchange = exchange, ticker = ticker), \n",
    "    short = short_ema,\n",
    "    long = long_ema,\n",
    "    constraints = my_constraints\n",
    ")"
   ]
  },
  {
   "cell_type": "code",
   "execution_count": null,
   "metadata": {},
   "outputs": [],
   "source": [
    "try:\n",
    "    # open a gRPC channel\n",
    "    with channel_helpers.get_grpc_channel() as channel:  \n",
    "        \n",
    "        # instantiate the daily macd service\n",
    "        service = daily_macd_service.DailyMacdServiceStub(channel)\n",
    "        \n",
    "        # Process the daily long macd request\n",
    "        response = service.DailyMacd(\n",
    "            request = request, \n",
    "            metadata = [('authorization', token)]\n",
    "        )\n",
    "except grpc.RpcError as e:\n",
    "    display(e.code().name)\n",
    "    display(e.details())"
   ]
  },
  {
   "cell_type": "markdown",
   "metadata": {},
   "source": [
    "### Step 4: Visualize data"
   ]
  },
  {
   "cell_type": "markdown",
   "metadata": {},
   "source": [
    "#### 4.1 Retrieve MACD and daily prices data\n",
    "In the following code snippets, the daily MACD and daily prices replies are reprocessed in a dataframe in order to visualize the results:"
   ]
  },
  {
   "cell_type": "code",
   "execution_count": null,
   "metadata": {},
   "outputs": [],
   "source": [
    "# prepare the MACD dataframe\n",
    "dates=[datetime(m.date.year, m.date.month, m.date.day) for m in response.data]\n",
    "prices = [m.value for m in response.data]\n",
    "macd_data = [m.macd for m in response.data]\n",
    "short_data = [m.short for m in response.data]\n",
    "long_data = [m.long for m in response.data]"
   ]
  },
  {
   "cell_type": "code",
   "execution_count": null,
   "metadata": {},
   "outputs": [],
   "source": [
    "# create a pandas dataframe with dates, prices, RSIs, short and long EMAs\n",
    "d = {'Date': dates, 'Macd': macd_data, 'Short': short_data, 'Long': long_data, 'Price': prices}\n",
    "df = pd.DataFrame(data=d)\n",
    "df"
   ]
  },
  {
   "cell_type": "markdown",
   "metadata": {},
   "source": [
    "#### 4.2 Plot MACD and daily prices with matplotlib"
   ]
  },
  {
   "cell_type": "code",
   "execution_count": null,
   "metadata": {},
   "outputs": [],
   "source": [
    "import matplotlib.pyplot as plt\n",
    "\n",
    "# create figure and axis objects with subplots()\n",
    "fig,ax = plt.subplots(1,1,figsize=(25,10))\n",
    "ax.plot('Date', 'Macd', data=df, marker='', color='purple', linewidth=2, label=\"Macd\")\n",
    "ax.plot('Date', 'Long', data=df, marker='', color='orange', linewidth=2, label=\"Long EMA\")\n",
    "ax.plot('Date', 'Short', data=df, marker='', color='green', linewidth=2, label=\"Short EMA\")\n",
    "ax.plot('Date', 'Price', data=df, marker='', color='blue', linewidth=2, label=\"Price\")\n",
    "\n",
    "ax.set_xlabel(\"Date\",fontsize=14)\n",
    "ax.set_ylabel(\"Price\",color=\"black\",fontsize=14)\n",
    "plt.legend()\n",
    "plt.title('MACD and daily prices for {0}-{1}'.format(ticker,exchange))\n",
    "plt.show()"
   ]
  },
  {
   "cell_type": "code",
   "execution_count": null,
   "metadata": {},
   "outputs": [],
   "source": [
    "import matplotlib.pyplot as plt\n",
    "\n",
    "fig,ax = plt.subplots(1,1,figsize=(25,10))\n",
    "long = ax.plot('Date', 'Long', data=df, marker='', color='orange', linewidth=2, label=\"Long EMA\")\n",
    "short = ax.plot('Date', 'Short', data=df, marker='', color='green', linewidth=2, label=\"Short EMA\")\n",
    "price = ax.plot('Date', 'Price', data=df, marker='', color='blue', linewidth=2, label=\"Price\")\n",
    "\n",
    "# twin x-axis for two different y-axis\n",
    "ax2=ax.twinx()\n",
    "macd = ax2.plot('Date', 'Macd', data=df, marker='', color='purple', linewidth=2)\n",
    "\n",
    "# build common legend including all graphs\n",
    "graphs = long + short + price + macd\n",
    "labels = [g.get_label() for g in graphs]\n",
    "ax.legend(graphs, labels)\n",
    "\n",
    "# set graph title and axis label\n",
    "ax.set_xlabel(\"Date\",fontsize=14)\n",
    "ax.set_ylabel(\"Price\",color=\"blue\",fontsize=14)\n",
    "ax2.set_ylabel(\"Macd\",color=\"purple\",fontsize=14)\n",
    "plt.title('MACD and daily prices for {0}-{1}'.format(ticker, exchange))\n",
    "plt.show()"
   ]
  },
  {
   "cell_type": "markdown",
   "metadata": {},
   "source": [
    "#### 4.3 Plot MACD and daily prices with plotly"
   ]
  },
  {
   "cell_type": "code",
   "execution_count": null,
   "metadata": {},
   "outputs": [],
   "source": [
    "import plotly.graph_objects as go\n",
    "from plotly.subplots import make_subplots\n",
    "\n",
    "# create figure with secondary y-axis\n",
    "fig = make_subplots(specs=[[{\"secondary_y\": True}]])\n",
    "\n",
    "# add MACD and prices traces\n",
    "fig.add_trace(go.Scatter(x=df['Date'], y=df['Macd'], name='Macd'), secondary_y=False,)\n",
    "fig.add_trace(go.Scatter(x=df['Date'], y=df['Price'], name='Price'), secondary_y=True,)\n",
    "fig.add_trace(go.Scatter(x=df['Date'], y=df['Short'], name='Short EMA'), secondary_y=True,)\n",
    "fig.add_trace(go.Scatter(x=df['Date'], y=df['Long'], name='Long EMA'), secondary_y=True,)\n",
    "\n",
    "# add figure title and legend\n",
    "fig.update_layout(title = 'MACD and daily prices for {0}-{1}'.format(ticker,exchange))\n",
    "fig.update_xaxes(title_text = 'Date')\n",
    "fig.update_yaxes(title_text = 'Macd', secondary_y=False)\n",
    "fig.update_yaxes(title_text = 'Price', secondary_y=True)\n",
    "\n",
    "fig.show()"
   ]
  }
 ],
 "metadata": {
  "kernelspec": {
   "display_name": "Python 3",
   "language": "python",
   "name": "python3"
  },
  "language_info": {
   "codemirror_mode": {
    "name": "ipython",
    "version": 3
   },
   "file_extension": ".py",
   "mimetype": "text/x-python",
   "name": "python",
   "nbconvert_exporter": "python",
   "pygments_lexer": "ipython3",
   "version": "3.9.2"
  }
 },
 "nbformat": 4,
 "nbformat_minor": 4
}
