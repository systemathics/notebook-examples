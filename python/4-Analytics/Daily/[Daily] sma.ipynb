{
 "cells": [
  {
   "cell_type": "markdown",
   "metadata": {},
   "source": [
    "# Generate SMA using daily data service - Python\n",
    "\n",
    "### Overview\n",
    "Moving averages smooth the price movements by filtering out the \"noise\" caused by short-term price fluctuations.They also form the building blocks for a wide range of technical indicators.\n",
    "\n",
    "Computing moving averages over a defined number of time periods is useful to:\n",
    "* identify the trend direction\n",
    "* determine support and resistance levels\n",
    "\n",
    "This sample demonstrates how to request and plot **on-demand** *simple moving average - SMA* from a `daily data service`.\n",
    "\n",
    "### Inputs/outputs\n",
    "Simple moving averages' requests require instrument's identifier, date time intervals and number of periods as per inputs.\n",
    "\n",
    "Basically, SMA is formed by computing the average price of a security over a specific number of points. As its name implies, simple moving average is an average that moves. Old data is dropped and new data becomes available, causing the average to move along the time.\n",
    "\n",
    "N-points SMA data point is computed by adding up the last N period's trade prices and then dividing by N as follows:\n",
    "\n",
    "$$ SMA = \\frac{\\Sigma Close_n}{N} $$\n",
    "Where:\n",
    "* *$Close_n$* is the close price of the *period n*\n",
    "* *N* is the count of time periods\n",
    "\n",
    "This sample shows how to plot a simple graph for basis technical analysis using an open source library. \n",
    "\n",
    "### Services used\n",
    "This sample uses *gRPC requests* in order to retrieve daily data from the hosted service. The queried endpoint in this script are:\n",
    "* *DailySmaService*: to directly retrieve daily SMA data from the server\n",
    "\n",
    "### Modules required\n",
    "1. Systemathics:\n",
    "    * *systemathics.apis.services.daily_analytics.v1*\n",
    "    * *systemathics.apis.type.shared.v1*\n",
    "    * *google.type*\n",
    "2. Open source:\n",
    "    * *googleapis-common-protos*\n",
    "    * *protobuf*\n",
    "    * *grpcio*\n",
    "    * *pandas*\n",
    "    * *plotly* and *matplotlib* as per display package\n",
    "\n",
    "***"
   ]
  },
  {
   "cell_type": "markdown",
   "metadata": {},
   "source": [
    "# Run daily SMA sample"
   ]
  },
  {
   "cell_type": "markdown",
   "metadata": {},
   "source": [
    "### Step 1: Install packages and import them"
   ]
  },
  {
   "cell_type": "code",
   "execution_count": null,
   "metadata": {},
   "outputs": [],
   "source": [
    "pip install googleapis-common-protos protobuf grpcio pandas plotly matplotlib systemathics.apis"
   ]
  },
  {
   "cell_type": "code",
   "execution_count": null,
   "metadata": {},
   "outputs": [],
   "source": [
    "import os\n",
    "import grpc\n",
    "import pandas as pd\n",
    "from datetime import datetime\n",
    "import google.type.date_pb2 as date\n",
    "import systemathics.apis.type.shared.v1.identifier_pb2 as identifier\n",
    "import systemathics.apis.type.shared.v1.constraints_pb2 as constraints\n",
    "import systemathics.apis.type.shared.v1.date_interval_pb2 as dateinterval\n",
    "import systemathics.apis.services.daily_analytics.v1.daily_sma_pb2 as daily_sma\n",
    "import systemathics.apis.services.daily_analytics.v1.daily_sma_pb2_grpc as daily_sma_service\n",
    "import systemathics.apis.helpers.token_helpers as token_helpers\n",
    "import systemathics.apis.helpers.channel_helpers as channel_helpers"
   ]
  },
  {
   "cell_type": "markdown",
   "metadata": {},
   "source": [
    "### Step 2: Retrieve authentication token\n",
    "The following code snippet sends authentication request and print token to console output in order to process the upcomming *gRPC queries*."
   ]
  },
  {
   "cell_type": "code",
   "execution_count": null,
   "metadata": {},
   "outputs": [],
   "source": [
    "token = token_helpers.get_token()\n",
    "display(token)"
   ]
  },
  {
   "cell_type": "markdown",
   "metadata": {},
   "source": [
    "### Step 3: Retrieve data\n",
    "To request *daily sma* service, we need to specify:\n",
    "* Instrument identifier\n",
    "* Time period selection: select start and end dates\n",
    "* The SMA parameters"
   ]
  },
  {
   "cell_type": "markdown",
   "metadata": {},
   "source": [
    "#### 3.1 Request Parameters"
   ]
  },
  {
   "cell_type": "code",
   "execution_count": null,
   "metadata": {},
   "outputs": [],
   "source": [
    "# set instrument identifier: exchange + ticker\n",
    "ticker = 'AAPL'\n",
    "exchange = 'XNGS'"
   ]
  },
  {
   "cell_type": "markdown",
   "metadata": {},
   "source": [
    "#### 3.2 SMA parameters"
   ]
  },
  {
   "cell_type": "code",
   "execution_count": null,
   "metadata": {},
   "outputs": [],
   "source": [
    "# set SMAs lengths\n",
    "long_sma = 200;\n",
    "short_sma = 50;"
   ]
  },
  {
   "cell_type": "markdown",
   "metadata": {},
   "source": [
    "#### 3.3 Time period selection"
   ]
  },
  {
   "cell_type": "code",
   "execution_count": null,
   "metadata": {},
   "outputs": [],
   "source": [
    "# set data interval (we are using Google date time format) \n",
    "date_interval = dateinterval.DateInterval(\n",
    "    start_date = date.Date(year = 2019, month = 1, day = 1),\n",
    "    end_date = date.Date(year = 2020, month = 12, day = 31)\n",
    ")\n",
    "\n",
    "# generate constraints based on the previous date selection\n",
    "# time constraints are not neeeded for the dividends\n",
    "constraints = constraints.Constraints(\n",
    "    date_intervals = [date_interval]\n",
    ")"
   ]
  },
  {
   "cell_type": "markdown",
   "metadata": {},
   "source": [
    "#### 3.4 EMAs request creation\n",
    "The following code snippet creates *gRPC client*, process daily SMA requests and returns the reply."
   ]
  },
  {
   "cell_type": "code",
   "execution_count": null,
   "metadata": {},
   "outputs": [],
   "source": [
    "# generate daily long sma request\n",
    "long_sma_request = daily_sma.DailySmaRequest(\n",
    "    identifier = identifier.Identifier(exchange = exchange, ticker = ticker), \n",
    "    length = long_sma,\n",
    "    constraints = constraints\n",
    ")\n",
    "\n",
    "# generate daily short sma request\n",
    "short_sma_request = daily_sma.DailySmaRequest(\n",
    "    identifier = identifier.Identifier(exchange = exchange, ticker = ticker),\n",
    "    length = short_sma,\n",
    "    constraints = constraints\n",
    ")"
   ]
  },
  {
   "cell_type": "code",
   "execution_count": null,
   "metadata": {},
   "outputs": [],
   "source": [
    "try:\n",
    "    # open a gRPC channel\n",
    "    with channel_helpers.get_grpc_channel() as channel:  \n",
    "        \n",
    "        # instantiate the daily sma service\n",
    "        service = daily_sma_service.DailySmaServiceStub(channel)\n",
    "        \n",
    "        # Process the daily long SMA request\n",
    "        long_sma_response = service.DailySma(\n",
    "            request = long_sma_request, \n",
    "            metadata = [('authorization', token)]\n",
    "        )\n",
    "        \n",
    "        # process the daily short SMA request\n",
    "        short_sma_response = service.DailySma(\n",
    "            request = short_sma_request, \n",
    "            metadata = [('authorization', token)]\n",
    "        )\n",
    "except grpc.RpcError as e:\n",
    "    display(e.code().name)\n",
    "    display(e.details())"
   ]
  },
  {
   "cell_type": "markdown",
   "metadata": {},
   "source": [
    "The following code snippet displays total data points count:"
   ]
  },
  {
   "cell_type": "code",
   "execution_count": null,
   "metadata": {},
   "outputs": [],
   "source": [
    "print(\"Total data points retrieved for long SMA: \", len(long_sma_response.data))\n",
    "print(\"Total data points retrieved for short SMA: \", len(short_sma_response.data))"
   ]
  },
  {
   "cell_type": "markdown",
   "metadata": {},
   "source": [
    "### Step 4: Visualize data"
   ]
  },
  {
   "cell_type": "markdown",
   "metadata": {},
   "source": [
    "#### 4.1 Retrieve SMAs data\n",
    "In the following code snippets, the daily SMA reply is reprocessed in a dataframe in order to visualize the results:"
   ]
  },
  {
   "cell_type": "code",
   "execution_count": null,
   "metadata": {},
   "outputs": [],
   "source": [
    "# create sma values list, set nan null values to avoid zero-values plot\n",
    "length = len(long_sma_response.data)\n",
    "shorts, longs= [None]*length, [None]*length\n",
    "\n",
    "for i in range(length):\n",
    "    # get non null sma values\n",
    "    long = long_sma_response.data[i].average.value\n",
    "    short = short_sma_response.data[i].average.value\n",
    "    \n",
    "    # store non null sma values \n",
    "    if  long != 0:\n",
    "        longs[i] = long\n",
    "    if short != 0:\n",
    "        shorts[i] = short"
   ]
  },
  {
   "cell_type": "code",
   "execution_count": null,
   "metadata": {},
   "outputs": [],
   "source": [
    "# retrieve dates and daily prices\n",
    "dates = [datetime(l.date.year, l.date.month, l.date.day) for l in long_sma_response.data]\n",
    "prices = [l.value for l in long_sma_response.data]"
   ]
  },
  {
   "cell_type": "code",
   "execution_count": null,
   "metadata": {},
   "outputs": [],
   "source": [
    "# create a pandas dataframe with dates, prices and smas\n",
    "d = {'Date': dates, 'Short sma': shorts, 'Long sma': longs, 'Price': prices}\n",
    "df = pd.DataFrame(data=d)\n",
    "df"
   ]
  },
  {
   "cell_type": "markdown",
   "metadata": {},
   "source": [
    "#### 4.2 Plot SMAs and daily prices with matplotlib"
   ]
  },
  {
   "cell_type": "code",
   "execution_count": null,
   "metadata": {},
   "outputs": [],
   "source": [
    "import matplotlib.pyplot as plt\n",
    "\n",
    "# create figure and axis objects with subplots()\n",
    "fig,ax = plt.subplots(1,1,figsize=(25,10))\n",
    "ax.plot('Date', 'Long sma', data=df, marker='', color='orange', linewidth=2, label=\"Long SMA\")\n",
    "ax.plot('Date', 'Short sma', data=df, marker='', color='green', linewidth=2, label=\"Short SMA\")\n",
    "ax.plot('Date', 'Price', data=df, marker='', color='blue', linewidth=2, label=\"Price\")\n",
    "\n",
    "ax.set_xlabel(\"Date\",fontsize=14)\n",
    "ax.set_ylabel(\"Price\",color=\"black\",fontsize=14)\n",
    "plt.legend()\n",
    "plt.title('Long & short daily SMA for {0}-{1}'.format(ticker,exchange))\n",
    "plt.show()"
   ]
  },
  {
   "cell_type": "markdown",
   "metadata": {},
   "source": [
    "#### 4.3 Plot SMAs and daily prices with plotly"
   ]
  },
  {
   "cell_type": "code",
   "execution_count": null,
   "metadata": {},
   "outputs": [],
   "source": [
    "import plotly.graph_objects as go\n",
    "\n",
    "fig = go.Figure()\n",
    "\n",
    "fig.add_trace(go.Scatter(x=df['Date'], y=df['Long sma'],mode='lines', name='{0}-days SMA'.format(long_sma)))\n",
    "fig.add_trace(go.Scatter(x=df['Date'], y=df['Short sma'],mode='lines',name='{0}-days SMA'.format(short_sma)))\n",
    "fig.add_trace(go.Scatter(x=df['Date'], y=df['Price'],mode='lines',name='Price'))\n",
    "\n",
    "fig.update_layout(title = 'Long & short SMA for {0}-{1}'.format(ticker,exchange))\n",
    "fig.update_xaxes(title_text = 'Date')\n",
    "fig.update_yaxes(title_text = 'Price')\n",
    "fig.show()"
   ]
  }
 ],
 "metadata": {
  "kernelspec": {
   "display_name": "Python 3",
   "language": "python",
   "name": "python3"
  },
  "language_info": {
   "codemirror_mode": {
    "name": "ipython",
    "version": 3
   },
   "file_extension": ".py",
   "mimetype": "text/x-python",
   "name": "python",
   "nbconvert_exporter": "python",
   "pygments_lexer": "ipython3",
   "version": "3.9.2"
  }
 },
 "nbformat": 4,
 "nbformat_minor": 4
}
