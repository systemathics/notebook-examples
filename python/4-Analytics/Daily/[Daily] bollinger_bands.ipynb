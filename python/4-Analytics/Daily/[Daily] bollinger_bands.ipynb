{
 "cells": [
  {
   "cell_type": "markdown",
   "metadata": {},
   "source": [
    "# Generate Bollinger bands using daily dedicated service - Python\n",
    "\n",
    "### Overview\n",
    "Bollinger bands were created by John Bollinger, they are envelopes and plotted around the moving average. The width of the bands is based on the standard deviaton of the closing prices from a moving average. \n",
    "\n",
    "The purpose of Bollinger Bands is to provide a relative definition of high and low prices of a market. By definition, prices are high at the upper band and low at the lower band.\n",
    "\n",
    "This sample demonstrates how to request and plot **on-demand** Bollinger bands from a `daily data service`.\n",
    "\n",
    "### Inputs/outputs\n",
    "Bollinger bands indicator requires instrument's identifier,date time intervals and number of periods as per inputs and returns data points for the following components:\n",
    "1. *Middle band* = n-period moving average\n",
    "2. *Upper band* = Middle band + (k * n-period standard deviation)\n",
    "3. *Lower band* = Middle band - (k * n-period standard deviation)\n",
    "\n",
    "Where:\n",
    "* *n: number of periods*\n",
    "* *k: factor to apply to the standard deviation value, k=2 as default value*\n",
    "\n",
    "This sample shows how to request and plot a simple Bollinger bands graph for basis technical analysis using an open source library. \n",
    "\n",
    "### Services used\n",
    "This sample uses *gRPC requests* in order to retrieve Bollinger bands daily data from the hosted service. The queried endpoint in this script are:\n",
    "* *DailyBollingerService*: to directly retrieve bollinger bands daily data reponse from the server\n",
    "\n",
    "### Modules required\n",
    "1. Systemathics:\n",
    "     * *systemathics.apis.services.daily_analytics.v1*\n",
    "    * *systemathics.apis.type.shared.v1*\n",
    "    * *google.type*\n",
    "2. Open source:\n",
    "    * *googleapis-common-protos*\n",
    "    * *protobuf*\n",
    "    * *grpcio*\n",
    "    * *pandas*\n",
    "    * *plotly* and *matplotlib* as per display package\n",
    "\n",
    "***"
   ]
  },
  {
   "cell_type": "markdown",
   "metadata": {},
   "source": [
    "# Run daily Bollinger bands sample"
   ]
  },
  {
   "cell_type": "markdown",
   "metadata": {},
   "source": [
    "### Step 1: Install packages and import them"
   ]
  },
  {
   "cell_type": "code",
   "execution_count": null,
   "metadata": {},
   "outputs": [],
   "source": [
    "pip install googleapis-common-protos protobuf grpcio pandas plotly matplotlib"
   ]
  },
  {
   "cell_type": "code",
   "execution_count": null,
   "metadata": {},
   "outputs": [],
   "source": [
    "pip install systemathics.apis==2.32.*"
   ]
  },
  {
   "cell_type": "code",
   "execution_count": null,
   "metadata": {},
   "outputs": [],
   "source": [
    "import os\n",
    "import grpc\n",
    "import pandas as pd\n",
    "from datetime import datetime\n",
    "import google.type.date_pb2 as date\n",
    "import systemathics.apis.type.shared.v1.identifier_pb2 as identifier\n",
    "import systemathics.apis.type.shared.v1.date_interval_pb2 as dateinterval\n",
    "import systemathics.apis.services.daily_analytics.v1.daily_bollinger_pb2 as daily_bollinger\n",
    "import systemathics.apis.services.daily_analytics.v1.daily_bollinger_pb2_grpc as daily_bollinger_service\n",
    "import systemathics.apis.helpers.token_helpers as token_helpers\n",
    "import systemathics.apis.helpers.channel_helpers as channel_helpers"
   ]
  },
  {
   "cell_type": "markdown",
   "metadata": {},
   "source": [
    "### Step 2: Retrieve authentication token\n",
    "The following code snippet sends authentication request and print token to console output in order to process the upcomming *gRPC queries*."
   ]
  },
  {
   "cell_type": "code",
   "execution_count": null,
   "metadata": {},
   "outputs": [],
   "source": [
    "token = token_helpers.get_token()\n",
    "display(token)"
   ]
  },
  {
   "cell_type": "markdown",
   "metadata": {},
   "source": [
    "### Step 3: Retrieve data\n",
    "To request *daily Bollinger bands* service, we need to specify:\n",
    "* Instrument identifier\n",
    "* Time period selection: select start and end dates\n",
    "* The Bollinger bands parameters"
   ]
  },
  {
   "cell_type": "markdown",
   "metadata": {},
   "source": [
    "#### 3.1 Instrument selection"
   ]
  },
  {
   "cell_type": "code",
   "execution_count": null,
   "metadata": {},
   "outputs": [],
   "source": [
    "# set instrument\n",
    "ticker = \"AAPL\";\n",
    "exchange = \"XNGS\";"
   ]
  },
  {
   "cell_type": "markdown",
   "metadata": {},
   "source": [
    "#### 3.2 Bollinger bands parameters"
   ]
  },
  {
   "cell_type": "code",
   "execution_count": null,
   "metadata": {},
   "outputs": [],
   "source": [
    "# set length and deviation parameters\n",
    "length = 100;\n",
    "deviation = 0.4;"
   ]
  },
  {
   "cell_type": "markdown",
   "metadata": {},
   "source": [
    "#### 3.3 Time period selection"
   ]
  },
  {
   "cell_type": "code",
   "execution_count": null,
   "metadata": {},
   "outputs": [],
   "source": [
    "# set data interval (we are using Google date time format) \n",
    "my_date_interval = dateinterval.DateInterval(\n",
    "    start_date = date.Date(year = 2019, month = 1, day = 1),\n",
    "    end_date = date.Date(year = 2020, month = 12, day = 31)\n",
    ")"
   ]
  },
  {
   "cell_type": "markdown",
   "metadata": {},
   "source": [
    "#### 3.4 Request creation\n",
    "The following code snippets creates *gRPC client*, process daily Bollinger bands request and returns the request reply:"
   ]
  },
  {
   "cell_type": "code",
   "execution_count": null,
   "metadata": {},
   "outputs": [],
   "source": [
    "# generate daily rsi request\n",
    "request = daily_bollinger.DailyBollingerRequest(\n",
    "    identifier = identifier.Identifier(exchange = exchange, ticker = ticker), \n",
    "    length = length,\n",
    "    deviation = deviation,\n",
    "    date_interval = my_date_interval\n",
    ")"
   ]
  },
  {
   "cell_type": "code",
   "execution_count": null,
   "metadata": {},
   "outputs": [],
   "source": [
    "try:\n",
    "    # open a gRPC channel\n",
    "    with channel_helpers.get_grpc_channel() as channel:  \n",
    "        \n",
    "        # instantiate the daily Bollinger bands service\n",
    "        service = daily_bollinger_service.DailyBollingerServiceStub(channel)\n",
    "        \n",
    "        # Process the daily Bollinger bands request\n",
    "        response = service.DailyBollinger(\n",
    "            request = request, \n",
    "            metadata = [('authorization', token)])\n",
    "        \n",
    "except grpc.RpcError as e:\n",
    "    display(e.code().name)\n",
    "    display(e.details())"
   ]
  },
  {
   "cell_type": "markdown",
   "metadata": {},
   "source": [
    "### Step 4: Visualize data"
   ]
  },
  {
   "cell_type": "markdown",
   "metadata": {},
   "source": [
    "#### 4.1 Retrieve Bollinger bands data\n",
    "In the following code snippets, the daily Bollinger bands reply is reprocessed in a dataframe in order to visualize the results:"
   ]
  },
  {
   "cell_type": "code",
   "execution_count": null,
   "metadata": {},
   "outputs": [],
   "source": [
    "# create bollinger bands list, set nan null values to avoid zero-values plot\n",
    "length = len(response.data)\n",
    "uppers, lowers, middles = [None]*length, [None]*length, [None]*length\n",
    "\n",
    "for i in range(length):\n",
    "    # get non null bollinger bands values\n",
    "    upper = response.data[i].upper.value\n",
    "    middle = response.data[i].middle.value\n",
    "    lower = response.data[i].lower.value\n",
    "    \n",
    "    # store non null bollinger bands values \n",
    "    if  upper != 0:\n",
    "        uppers[i] = upper\n",
    "    if middle != 0:\n",
    "        middles[i] = middle\n",
    "    if lower != 0:\n",
    "        lowers[i] = lower"
   ]
  },
  {
   "cell_type": "code",
   "execution_count": null,
   "metadata": {},
   "outputs": [],
   "source": [
    "# retrieve dates and daily prices\n",
    "dates = [datetime(bb.date.year, bb.date.month, bb.date.day) for bb in response.data]\n",
    "prices = [bb.value for bb in response.data]"
   ]
  },
  {
   "cell_type": "code",
   "execution_count": null,
   "metadata": {},
   "outputs": [],
   "source": [
    "# create a pandas dataframe with dates, prices and bollinger bands\n",
    "d = {'Date': dates, 'Upper': uppers, 'Middle': middles, 'Lower': lowers, 'Price': prices}\n",
    "df = pd.DataFrame(data=d)\n",
    "df"
   ]
  },
  {
   "cell_type": "markdown",
   "metadata": {},
   "source": [
    "#### 4.2 Plot Bollinger bands with matplotlib"
   ]
  },
  {
   "cell_type": "code",
   "execution_count": null,
   "metadata": {},
   "outputs": [],
   "source": [
    "import matplotlib.pyplot as plt\n",
    "\n",
    "# create figure and axis objects with subplots()\n",
    "fig,ax = plt.subplots(1,1,figsize=(25,10))\n",
    "ax.plot('Date', 'Upper', data=df, marker='', color='purple', linewidth=2, label=\"Upper\")\n",
    "ax.plot('Date', 'Middle', data=df, marker='', color='orange', linewidth=2, label=\"Middle\")\n",
    "ax.plot('Date', 'Lower', data=df, marker='', color='green', linewidth=2, label=\"Lower\")\n",
    "ax.plot('Date', 'Price', data=df, marker='', color='blue', linewidth=2, label=\"Price\")\n",
    "\n",
    "ax.set_xlabel(\"Date\",fontsize=14)\n",
    "ax.set_ylabel(\"Price\",color=\"black\",fontsize=14)\n",
    "plt.legend()\n",
    "plt.title('Daily Bollinger bands and prices for {0}-{1}: deviation = {2} | length = {3}'.format(ticker,exchange,deviation,length))\n",
    "plt.show()"
   ]
  },
  {
   "cell_type": "markdown",
   "metadata": {},
   "source": [
    "#### 4.3 Plot Bollinger bands with plotly"
   ]
  },
  {
   "cell_type": "code",
   "execution_count": null,
   "metadata": {},
   "outputs": [],
   "source": [
    "import plotly.graph_objects as go\n",
    "from plotly.subplots import make_subplots\n",
    "\n",
    "# create figure with secondary y-axis\n",
    "fig = make_subplots(specs=[[{\"secondary_y\": True}]])\n",
    "\n",
    "# add Bollinger bands and daily prices traces\n",
    "fig.add_trace(go.Scatter(x=df['Date'], y=df['Upper'],mode='lines', name='Upper band'), secondary_y=False)\n",
    "fig.add_trace(go.Scatter(x=df['Date'], y=df['Middle'], mode='lines', name='Middle band'), secondary_y=False)\n",
    "fig.add_trace(go.Scatter(x=df['Date'], y=df['Lower'], mode='lines', name='Lower band'), secondary_y=False)\n",
    "fig.add_trace(go.Scatter(x=df['Date'], y=df['Price'], mode='lines', name='Price'), secondary_y=True)\n",
    "\n",
    "# add figure title and legend\n",
    "fig.update_layout(title = 'Bollinger bands and daily prices for {0}-{1}'.format(ticker,exchange))\n",
    "fig.update_xaxes(title_text = 'Date')\n",
    "fig.update_yaxes(title_text = 'Bollinger band', secondary_y=False)\n",
    "fig.update_yaxes(title_text = 'Price', secondary_y=True)\n",
    "fig.show()"
   ]
  }
 ],
 "metadata": {
  "kernelspec": {
   "display_name": "Python 3.10.4 64-bit",
   "language": "python",
   "name": "python3"
  },
  "language_info": {
   "codemirror_mode": {
    "name": "ipython",
    "version": 3
   },
   "file_extension": ".py",
   "mimetype": "text/x-python",
   "name": "python",
   "nbconvert_exporter": "python",
   "pygments_lexer": "ipython3",
   "version": "3.10.4"
  },
  "vscode": {
   "interpreter": {
    "hash": "916dbcbb3f70747c44a77c7bcd40155683ae19c65e1c03b4aa3499c5328201f1"
   }
  }
 },
 "nbformat": 4,
 "nbformat_minor": 4
}
