{
 "cells": [
  {
   "cell_type": "markdown",
   "metadata": {},
   "source": [
    "# Compute trade conditions proportions using the dedicated service - Python\n",
    "\n",
    "### Overview\n",
    "\n",
    "A trade is often given a trade condition tag to give information on that trade such as the marketplace where it happened, the type of trade, etc. Standard/Regular trades and Off-Market trades are the two mainly used trading conditions.\n",
    "\n",
    "This sample enables to retrieve **on-demand** data by calling a dedicated tick trade condition service on a tick by tick data store. \n",
    "\n",
    "### Inputs/outputs\n",
    "The sample requires instrument's identifier, date time intervals as per inputs. It returns the trade condition values, their quantities, their percents and the total number of trades.\n",
    "\n",
    "### Services used\n",
    "This sample uses *gRPC requests* in order to retrieve tick trade condition from the dedicated hosted service. The queried endpoint in this script are:\n",
    "* *TickTradeConditionService*: to directly retrieve tick trade condition objects from the server\n",
    "\n",
    "### Modules required\n",
    "1. Systemathics:\n",
    "    * *systemathics.apis.services.tick_analytics.v1*\n",
    "    * *systemathics.apis.type.shared.v1*\n",
    "    * *google.type*\n",
    "2. Open source:\n",
    "    * *googleapis-common-protos*\n",
    "    * *protobuf*\n",
    "    * *grpcio*\n",
    "    * *pandas*\n",
    "    * *plotly* as per display package\n",
    "***"
   ]
  },
  {
   "cell_type": "markdown",
   "metadata": {},
   "source": [
    "# Run trade conditions proportions sample"
   ]
  },
  {
   "cell_type": "markdown",
   "metadata": {},
   "source": [
    "### Step 1: Install packages and import them"
   ]
  },
  {
   "cell_type": "code",
   "execution_count": null,
   "metadata": {},
   "outputs": [],
   "source": [
    "pip install googleapis-common-protos protobuf grpcio pandas plotly mplfinance"
   ]
  },
  {
   "cell_type": "code",
   "execution_count": null,
   "metadata": {},
   "outputs": [],
   "source": [
    "pip install systemathics.apis==2.33.* --pre"
   ]
  },
  {
   "cell_type": "code",
   "execution_count": null,
   "metadata": {},
   "outputs": [],
   "source": [
    "import os\n",
    "import grpc\n",
    "import pandas as pd\n",
    "from datetime import datetime\n",
    "from datetime import timedelta\n",
    "import google.type.date_pb2 as date\n",
    "import google.type.timeofday_pb2 as timeofday\n",
    "import google.type.dayofweek_pb2 as dayofweek\n",
    "import google.protobuf.duration_pb2 as duration\n",
    "import systemathics.apis.type.shared.v1.identifier_pb2 as identifier\n",
    "import systemathics.apis.type.shared.v1.constraints_pb2 as constraints\n",
    "import systemathics.apis.type.shared.v1.date_interval_pb2 as dateinterval\n",
    "import systemathics.apis.type.shared.v1.time_interval_pb2 as timeinterval\n",
    "import systemathics.apis.services.tick_analytics.v1.tick_trade_condition_statistics_pb2 as tick_trade_condition_statistics\n",
    "import systemathics.apis.services.tick_analytics.v1.tick_trade_condition_statistics_pb2_grpc as tick_trade_condition_statistics_service\n",
    "import systemathics.apis.helpers.token_helpers as token_helpers\n",
    "import systemathics.apis.helpers.channel_helpers as channel_helpers"
   ]
  },
  {
   "cell_type": "markdown",
   "metadata": {},
   "source": [
    "### Step 2: Retrieve authentication token\n",
    "The following code snippet sends authentication request and print token to console output in order to process the upcomming *gRPC queries*."
   ]
  },
  {
   "cell_type": "code",
   "execution_count": null,
   "metadata": {},
   "outputs": [],
   "source": [
    "token = token_helpers.get_token()\n",
    "display(token)"
   ]
  },
  {
   "cell_type": "markdown",
   "metadata": {},
   "source": [
    "### Step 3: Create and process request\n",
    "To request *TickTradeConditionService*, we need to specify:\n",
    "* Instrument identifier\n",
    "* Time period selection: select start and end dates"
   ]
  },
  {
   "cell_type": "markdown",
   "metadata": {},
   "source": [
    "#### 3.1 Instrument selection"
   ]
  },
  {
   "cell_type": "code",
   "execution_count": null,
   "metadata": {},
   "outputs": [],
   "source": [
    "# set instrument identifier: exchange + ticker\n",
    "my_ticker = 'AAPL'\n",
    "my_exchange = 'XNGS'"
   ]
  },
  {
   "cell_type": "markdown",
   "metadata": {},
   "source": [
    "#### 3.2 Time period delimitation"
   ]
  },
  {
   "cell_type": "code",
   "execution_count": null,
   "metadata": {},
   "outputs": [],
   "source": [
    "# create time intervals (we are using Google date format)\n",
    "today = datetime.today()\n",
    "start = today - timedelta(days=5)\n",
    "\n",
    "date_interval = dateinterval.DateInterval(\n",
    "    start_date = date.Date(year = 2021, month = 11, day =3), \n",
    "    end_date = date.Date(year = 2021, month = 11, day = 8)\n",
    ")\n",
    "\n",
    "# build the market data request time interval (we are using Google time format)\n",
    "# UTC time zone\n",
    "time_interval = timeinterval.TimeInterval(\n",
    "    start_time = timeofday.TimeOfDay(hours = 14, minutes = 30, seconds = 0), \n",
    "    end_time = timeofday.TimeOfDay(hours = 21, minutes = 0, seconds = 0)\n",
    ")"
   ]
  },
  {
   "cell_type": "markdown",
   "metadata": {},
   "source": [
    "#### 3.3 Request creation\n",
    "The following code snippet creates *gRPC client*, process request and ensure that the reply is not empty:"
   ]
  },
  {
   "cell_type": "code",
   "execution_count": null,
   "metadata": {},
   "outputs": [],
   "source": [
    "# generate constraints based on the previous time selection\n",
    "my_constraints = constraints.Constraints(\n",
    "    date_intervals = [date_interval],\n",
    "    time_intervals = [time_interval]\n",
    ")"
   ]
  },
  {
   "cell_type": "code",
   "execution_count": null,
   "metadata": {},
   "outputs": [],
   "source": [
    "# generate tick bars request\n",
    "my_request = tick_trade_condition_statistics.TickTradeConditionStatisticsRequest(\n",
    "    identifier = identifier.Identifier(exchange = my_exchange, ticker = my_ticker),\n",
    "    constraints = my_constraints\n",
    ")"
   ]
  },
  {
   "cell_type": "code",
   "execution_count": null,
   "metadata": {},
   "outputs": [],
   "source": [
    "try:\n",
    "    # open a gRPC channel\n",
    "    with channel_helpers.get_grpc_channel() as channel:  \n",
    "        \n",
    "        # instantiate the tick bars service\n",
    "        service = tick_trade_condition_statistics_service.TickTradeConditionStatisticsServiceStub(channel)\n",
    "        \n",
    "        # process the tick bars request\n",
    "        statistics = []\n",
    "        my_metadata = [('authorization', token)]\n",
    "        for stat in service.TickTradeConditionStatistics(request=my_request, metadata=my_metadata):\n",
    "                statistics.append(stat)\n",
    "except grpc.RpcError as e:\n",
    "    display(e.code().name)\n",
    "    display(e.details())"
   ]
  },
  {
   "cell_type": "markdown",
   "metadata": {},
   "source": [
    "### Step 4: Visualize  data"
   ]
  },
  {
   "cell_type": "markdown",
   "metadata": {},
   "source": [
    "#### 4.1 Retrieve trade condition data"
   ]
  },
  {
   "cell_type": "code",
   "execution_count": null,
   "metadata": {},
   "outputs": [],
   "source": [
    "# create the pandas dataframe for indices' components and weights\n",
    "trade_conditions = [tc.value for tc in statistics]\n",
    "counts =[tc.count for tc in statistics]\n",
    "percentages = [tc.percentage*100 for tc in statistics]\n",
    "\n",
    "d = {'Trading Condition': trade_conditions, 'Count': counts, 'Percentage': percentages }\n",
    "df = pd.DataFrame(data=d)\n",
    "df = df.sort_values(by = 'Count', ascending = False)\n",
    "df.style.set_table_attributes(\"style='display:inline'\").set_caption((\"{0}-{1} Trading Conditions\").format(my_ticker,my_exchange))"
   ]
  },
  {
   "cell_type": "markdown",
   "metadata": {},
   "source": [
    "You can then use the `TickConditions` service to map each trading condition value to its description (*[Tick] conditions.ipynb* notebook).\n",
    "\n",
    "In our case it appears the main trade conditions on this specific exchange and period are divided as follows:\n",
    "* **9** (52%) : Odd Lot Trade\n",
    "* **0** (28%) : Regular sale\n",
    "* **6** (20%) : Intermarket Sweep"
   ]
  },
  {
   "cell_type": "markdown",
   "metadata": {},
   "source": [
    "#### 4.2 Plot trade conditions with plotly"
   ]
  },
  {
   "cell_type": "code",
   "execution_count": null,
   "metadata": {
    "tags": []
   },
   "outputs": [],
   "source": [
    "import plotly.express as px\n",
    "\n",
    "fig = px.pie(df, values='Percentage', names='Trading Condition',\n",
    "             title = ('Trading Conditions Proportion for {0}-{1} ({2} trades between {3} and {4})').format(my_ticker,my_exchange,statistics[0].total,start.date(),today.date()))\n",
    "fig.update_traces(textposition='inside')\n",
    "fig.update_layout(uniformtext_minsize=12, uniformtext_mode='hide', width=1000, height=500)\n",
    "fig.show()"
   ]
  }
 ],
 "metadata": {
  "kernelspec": {
   "display_name": "Python 3.10.4 64-bit",
   "language": "python",
   "name": "python3"
  },
  "language_info": {
   "codemirror_mode": {
    "name": "ipython",
    "version": 3
   },
   "file_extension": ".py",
   "mimetype": "text/x-python",
   "name": "python",
   "nbconvert_exporter": "python",
   "pygments_lexer": "ipython3",
   "version": "3.10.4"
  },
  "vscode": {
   "interpreter": {
    "hash": "916dbcbb3f70747c44a77c7bcd40155683ae19c65e1c03b4aa3499c5328201f1"
   }
  }
 },
 "nbformat": 4,
 "nbformat_minor": 4
}
