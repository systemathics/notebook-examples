{
 "cells": [
  {
   "cell_type": "markdown",
   "id": "atmospheric-gregory",
   "metadata": {},
   "source": [
    "# Generate CMA using tick data service - Python\n",
    "\n",
    "### Overview\n",
    "Moving averages smooth the price movements by filtering out the \"noise\" caused by short-term price fluctuations.They also form the building blocks for a wide range of technical indicators.\n",
    "\n",
    "Computing moving averages over a defined number of time periods is useful to:\n",
    "* identify the trend direction\n",
    "* determine support and resistance levels\n",
    "\n",
    "This sample demonstrates how to request and plot **on-demand** *cumulative moving average - CMA* from a tick data service.\n",
    "\n",
    "### Inputs/outputs\n",
    "Cumulative moving averages' requests require instrument's identifier, date time intervals and number of periods as per inputs.\n",
    "\n",
    "CMA is the average of all the data points.\n",
    "\n",
    "This sample shows how to plot a simple graph for basis technical analysis using an open source library. \n",
    "\n",
    "### Services used\n",
    "This sample uses *gRPC requests* in order to retrieve tick data from the hosted service. The queried endpoint in this script are:\n",
    "* *TickCmaService *: to directly retrieve tick cma data from the server\n",
    "\n",
    "### Modules required\n",
    "1. Systemathics:\n",
    "    * *systemathics.apis.services.tick_analytics.v1*\n",
    "    * *systemathics.apis.type.shared.v1*\n",
    "    * *google.type*\n",
    "2. Open source:\n",
    "    * *googleapis-common-protos*\n",
    "    * *protobuf*\n",
    "    * *grpcio*\n",
    "    * *pandas*\n",
    "    * *plotly* and *matplotlib* as per display packages\n",
    "\n",
    "***"
   ]
  },
  {
   "cell_type": "markdown",
   "id": "scenic-indie",
   "metadata": {},
   "source": [
    "# Run CMA sample"
   ]
  },
  {
   "cell_type": "markdown",
   "id": "jewish-color",
   "metadata": {},
   "source": [
    "### Step 1: Install packages"
   ]
  },
  {
   "cell_type": "code",
   "execution_count": null,
   "id": "reserved-vaccine",
   "metadata": {},
   "outputs": [],
   "source": [
    "pip install googleapis-common-protos protobuf grpcio pandas plotly matplotlib"
   ]
  },
  {
   "cell_type": "code",
   "execution_count": null,
   "id": "regulated-solomon",
   "metadata": {},
   "outputs": [],
   "source": [
    "pip install systemathics.apis==2.32.*"
   ]
  },
  {
   "cell_type": "code",
   "execution_count": null,
   "id": "improved-patio",
   "metadata": {},
   "outputs": [],
   "source": [
    "import os\n",
    "import grpc\n",
    "import pandas as pd\n",
    "from datetime import datetime\n",
    "from datetime import timedelta\n",
    "import google.type.date_pb2 as date\n",
    "import google.type.timeofday_pb2 as timeofday\n",
    "import google.type.dayofweek_pb2 as dayofweek\n",
    "import google.protobuf.duration_pb2 as duration\n",
    "import systemathics.apis.type.shared.v1.identifier_pb2 as identifier\n",
    "import systemathics.apis.type.shared.v1.constraints_pb2 as constraints\n",
    "import systemathics.apis.type.shared.v1.date_interval_pb2 as dateinterval\n",
    "import systemathics.apis.type.shared.v1.time_interval_pb2 as timeinterval\n",
    "import systemathics.apis.services.tick_analytics.v1.tick_cma_pb2 as tick_cma\n",
    "import systemathics.apis.services.tick_analytics.v1.tick_cma_pb2_grpc as tick_cma_service\n",
    "import systemathics.apis.helpers.token_helpers as token_helpers\n",
    "import systemathics.apis.helpers.channel_helpers as channel_helpers"
   ]
  },
  {
   "cell_type": "markdown",
   "id": "forward-involvement",
   "metadata": {},
   "source": [
    "### Step 2: Retrieve authentication token\n",
    "The following code snippet sends authentication request and print token to console output in order to process the upcomming *gRPC queries*."
   ]
  },
  {
   "cell_type": "code",
   "execution_count": null,
   "id": "automated-third",
   "metadata": {},
   "outputs": [],
   "source": [
    "token = token_helpers.get_token()\n"
   ]
  },
  {
   "cell_type": "markdown",
   "id": "general-cheat",
   "metadata": {},
   "source": [
    "### Step 3: Create and process request\n",
    "To request *CMA* service, we need to specify:\n",
    "* Instrument identifier\n",
    "* Time period selection: select start and end dates\n",
    "* Cumulative moving average request parameters"
   ]
  },
  {
   "cell_type": "markdown",
   "id": "loved-kentucky",
   "metadata": {},
   "source": [
    "#### 3.1 Instrument selection"
   ]
  },
  {
   "cell_type": "code",
   "execution_count": null,
   "id": "alert-glance",
   "metadata": {},
   "outputs": [],
   "source": [
    "# set instrument identifier: exchange + ticker\n",
    "ticker = 'AAPL'\n",
    "exchange = 'BATS'"
   ]
  },
  {
   "cell_type": "markdown",
   "id": "formed-windows",
   "metadata": {},
   "source": [
    "#### 3.2 CMA parameters"
   ]
  },
  {
   "cell_type": "code",
   "execution_count": null,
   "id": "touched-double",
   "metadata": {},
   "outputs": [],
   "source": [
    "field = tick_cma.CMA_PRICE_TRADE; # set the SMA calculation field\n",
    "sampling = 1 * 60"
   ]
  },
  {
   "cell_type": "markdown",
   "id": "silent-prague",
   "metadata": {},
   "source": [
    "#### 3.3 Time period delimitation"
   ]
  },
  {
   "cell_type": "code",
   "execution_count": null,
   "id": "found-disposition",
   "metadata": {},
   "outputs": [],
   "source": [
    "# create time intervals (we are using Google date format)\n",
    "date_interval = dateinterval.DateInterval(\n",
    "    start_date = date.Date(year = 2021, month = 11, day = 18), \n",
    "    end_date = date.Date(year = 2021, month =11, day = 18)\n",
    ")\n",
    "\n",
    "# build the market data request time interval (we are using Google time format)\n",
    "# UTC time zone\n",
    "time_interval = timeinterval.TimeInterval(\n",
    "    start_time = timeofday.TimeOfDay(hours = 8, minutes = 0, seconds = 0), \n",
    "    end_time = timeofday.TimeOfDay(hours = 20, minutes = 0, seconds = 0)\n",
    ")"
   ]
  },
  {
   "cell_type": "code",
   "execution_count": null,
   "id": "apparent-determination",
   "metadata": {},
   "outputs": [],
   "source": [
    "# generate constraints based on the previous time selection\n",
    "my_constraints = constraints.Constraints(\n",
    "    date_intervals = [date_interval],\n",
    "    time_intervals = [time_interval],\n",
    ")"
   ]
  },
  {
   "cell_type": "markdown",
   "id": "excellent-marble",
   "metadata": {},
   "source": [
    "#### 3.4 CMA request creation\n",
    "The following code snippets creates *gRPC client*, process *CMA* request and returns the request reply:"
   ]
  },
  {
   "cell_type": "code",
   "execution_count": null,
   "id": "exceptional-reproduction",
   "metadata": {},
   "outputs": [],
   "source": [
    "# generate the tick long CMA request\n",
    "long_request = tick_cma.TickCmaRequest(\n",
    "    identifier = identifier.Identifier(exchange = exchange, ticker = ticker),\n",
    "    constraints = my_constraints,\n",
    "    field = field,\n",
    "    sampling = duration.Duration(seconds = sampling)\n",
    ")"
   ]
  },
  {
   "cell_type": "code",
   "execution_count": null,
   "id": "revised-commercial",
   "metadata": {},
   "outputs": [],
   "source": [
    "try:\n",
    "    # open a gRPC channel\n",
    "    with channel_helpers.get_grpc_channel() as channel:  \n",
    "        \n",
    "        # instantiate the tick CMA service\n",
    "        service = tick_cma_service.TickCmaServiceStub(channel)\n",
    "        \n",
    "        averages, prices, time_stamps = [], [], []\n",
    "        # process the tick CMA request\n",
    "        for c in service.TickCma(request = long_request, metadata = [('authorization', token)]):\n",
    "            time_stamps.append(c.time_stamp)\n",
    "            prices.append(c.value)\n",
    "            averages.append(c.average.value)\n",
    "except grpc.RpcError as e:\n",
    "    display(e.code().name)\n",
    "    display(e.details())"
   ]
  },
  {
   "cell_type": "markdown",
   "id": "close-slovenia",
   "metadata": {},
   "source": [
    "The following code snippet displays the total retrieved CMA data points count:"
   ]
  },
  {
   "cell_type": "code",
   "execution_count": null,
   "id": "british-martial",
   "metadata": {},
   "outputs": [],
   "source": [
    "print('Total CMA data points retrived: {0}'.format(len(averages)))"
   ]
  },
  {
   "cell_type": "markdown",
   "id": "future-wallace",
   "metadata": {},
   "source": [
    "### Step 4: Visualize data"
   ]
  },
  {
   "cell_type": "markdown",
   "id": "transsexual-coffee",
   "metadata": {},
   "source": [
    "#### 4.1 Retrieve CMA data"
   ]
  },
  {
   "cell_type": "code",
   "execution_count": null,
   "id": "strong-dietary",
   "metadata": {},
   "outputs": [],
   "source": [
    "# create the SMAs dataframe\n",
    "dates=[datetime.fromtimestamp(ts.seconds) for ts in time_stamps]\n",
    "d = {'Date': dates, 'Cma': averages, 'Price': prices}\n",
    "df = pd.DataFrame(data=d)\n",
    "df"
   ]
  },
  {
   "cell_type": "markdown",
   "id": "traditional-custody",
   "metadata": {},
   "source": [
    "#### 4.2 Plot tick CMA and prices with matplotlib"
   ]
  },
  {
   "cell_type": "code",
   "execution_count": null,
   "id": "located-logan",
   "metadata": {},
   "outputs": [],
   "source": [
    "import matplotlib.pyplot as plt\n",
    "\n",
    "# create figure and axis objects with subplots()\n",
    "fig,ax = plt.subplots(1,1,figsize=(25,10))\n",
    "ax.plot('Date', 'Cma', data=df, marker='', color='orange', linewidth=2, label=\"CMA\")\n",
    "ax.plot('Date', 'Price', data=df, marker='', color='blue', linewidth=2, label=\"Price\")\n",
    "\n",
    "ax.set_xlabel(\"Date\",fontsize=14)\n",
    "ax.set_ylabel(\"Price\",color=\"black\",fontsize=14)\n",
    "plt.legend()\n",
    "plt.title('Tick CMA and prices bars for {0}-{1}'.format(ticker,exchange))\n",
    "plt.show()"
   ]
  },
  {
   "cell_type": "markdown",
   "id": "undefined-saver",
   "metadata": {},
   "source": [
    "#### 4.3 Plot tick CMA and prices with plotly"
   ]
  },
  {
   "cell_type": "code",
   "execution_count": null,
   "id": "induced-episode",
   "metadata": {},
   "outputs": [],
   "source": [
    "import plotly.graph_objects as go\n",
    "from plotly.subplots import make_subplots\n",
    "\n",
    "fig = make_subplots()\n",
    "fig.add_trace(go.Scatter(x=df['Date'], y=df['Cma'], name='Cma', marker_color ='orange'))\n",
    "fig.add_trace(go.Scatter(x=df['Date'], y=df['Price'], name='Price', marker_color ='blue'))\n",
    "fig.update_xaxes(title_text = 'Date')\n",
    "fig.update_layout(title = 'Tick Cma prices for {0}-{1}'.format(ticker,exchange))\n",
    "fig.show()"
   ]
  }
 ],
 "metadata": {
  "kernelspec": {
   "display_name": "Python 3.10.4 64-bit",
   "language": "python",
   "name": "python3"
  },
  "language_info": {
   "codemirror_mode": {
    "name": "ipython",
    "version": 3
   },
   "file_extension": ".py",
   "mimetype": "text/x-python",
   "name": "python",
   "nbconvert_exporter": "python",
   "pygments_lexer": "ipython3",
   "version": "3.10.4"
  },
  "vscode": {
   "interpreter": {
    "hash": "916dbcbb3f70747c44a77c7bcd40155683ae19c65e1c03b4aa3499c5328201f1"
   }
  }
 },
 "nbformat": 4,
 "nbformat_minor": 5
}
