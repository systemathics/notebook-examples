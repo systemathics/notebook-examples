{
 "cells": [
  {
   "cell_type": "markdown",
   "metadata": {},
   "source": [
    "# Apply adjustments - Python\n",
    "\n",
    "### Overview\n",
    "Adjusted prices and analytics are commonly used in technical and financial analysis.\n",
    "\n",
    "This sample demonstrates how to directly request and plot `intraday bars` with a **customizable** time range sampling.<br>\n",
    "\n",
    "It enables to retrieve **on-demand** data by calling a dedicated bars service on a tick by tick data store. \n",
    "\n",
    "### Inputs/outputs\n",
    "Apply adjustments to tick analytics samples using the request parameter **adjustment** to request:\n",
    "* Adjusted analytics: set *adjustment* to *True*\n",
    "* Non-adjusted analytics: set *adjustment* to *False*\n",
    "\n",
    "To illustrate adjustment application we chose *Tick bars service*. The workflow wi be the same for the other tick analytics services. \n",
    "\n",
    "### Services used\n",
    "This sample uses *gRPC requests* in order to retrieve intraday bars from the dedicated hosted service. The queried endpoint in this script are:\n",
    "* *TickBarsService*: to directly retrieve tick bars objects from the server\n",
    "\n",
    "### Modules required\n",
    "1. Systemathics:\n",
    "    * *systemathics.apis.services.tick_analytics.v1*\n",
    "    * *systemathics.apis.type.shared.v1*\n",
    "    * *google.type*\n",
    "2. Open source:\n",
    "    * *googleapis-common-protos*\n",
    "    * *protobuf*\n",
    "    * *grpcio*\n",
    "    * *pandas*\n",
    "    * *plotly* and *mplfinance* as per display packages\n",
    "***"
   ]
  },
  {
   "cell_type": "markdown",
   "metadata": {},
   "source": [
    "# Run intraday bars sample with adjustments"
   ]
  },
  {
   "cell_type": "markdown",
   "metadata": {},
   "source": [
    "### Step 1: Install packages and import them"
   ]
  },
  {
   "cell_type": "code",
   "execution_count": null,
   "metadata": {},
   "outputs": [],
   "source": [
    "pip install googleapis-common-protos protobuf grpcio pandas plotly mplfinance"
   ]
  },
  {
   "cell_type": "code",
   "execution_count": null,
   "metadata": {},
   "outputs": [],
   "source": [
    "pip install systemathics.apis --pre"
   ]
  },
  {
   "cell_type": "code",
   "execution_count": null,
   "metadata": {},
   "outputs": [],
   "source": [
    "import os\n",
    "import grpc\n",
    "import pandas as pd\n",
    "from datetime import datetime\n",
    "from datetime import timedelta\n",
    "import google.type.date_pb2 as date\n",
    "import google.type.timeofday_pb2 as timeofday\n",
    "import google.type.dayofweek_pb2 as dayofweek\n",
    "import google.protobuf.duration_pb2 as duration\n",
    "import systemathics.apis.type.shared.v1.identifier_pb2 as identifier\n",
    "import systemathics.apis.type.shared.v1.constraints_pb2 as constraints\n",
    "import systemathics.apis.type.shared.v1.date_interval_pb2 as dateinterval\n",
    "import systemathics.apis.type.shared.v1.time_interval_pb2 as timeinterval\n",
    "import systemathics.apis.services.tick_analytics.v1.tick_bars_pb2 as tick_bars\n",
    "import systemathics.apis.services.tick_analytics.v1.tick_bars_pb2_grpc as tick_bars_service\n",
    "import systemathics.apis.helpers.token_helpers as token_helpers\n",
    "import systemathics.apis.helpers.channel_helpers as channel_helpers"
   ]
  },
  {
   "cell_type": "markdown",
   "metadata": {},
   "source": [
    "### Step 2: Retrieve authentication token\n",
    "The following code snippet sends authentication request and print token to console output in order to process the upcomming *gRPC queries*."
   ]
  },
  {
   "cell_type": "code",
   "execution_count": null,
   "metadata": {},
   "outputs": [],
   "source": [
    "token = token_helpers.get_token()\n",
    "display(token)"
   ]
  },
  {
   "cell_type": "markdown",
   "metadata": {},
   "source": [
    "### Step 3: Create and process request\n",
    "To request *tick bars service*, we need to specify:\n",
    "* Instrument identifier\n",
    "* Time period selection: select start and end dates\n",
    "* Bars request parameters"
   ]
  },
  {
   "cell_type": "markdown",
   "metadata": {},
   "source": [
    "#### 3.1 Instrument selection"
   ]
  },
  {
   "cell_type": "code",
   "execution_count": null,
   "metadata": {},
   "outputs": [],
   "source": [
    "# set instrument identifier: exchange + ticker\n",
    "ticker = 'AMZN'\n",
    "exchange = 'XNGS'"
   ]
  },
  {
   "cell_type": "markdown",
   "metadata": {},
   "source": [
    "#### 3.2 Bars calculation parameters"
   ]
  },
  {
   "cell_type": "code",
   "execution_count": null,
   "metadata": {},
   "outputs": [],
   "source": [
    "# set the bar duration\n",
    "sampling = 5 * 60\n",
    "\n",
    "# set the bar calculation field\n",
    "field = tick_bars.BAR_PRICE_TRADE "
   ]
  },
  {
   "cell_type": "markdown",
   "metadata": {},
   "source": [
    "#### 3.3 Time period delimitation"
   ]
  },
  {
   "cell_type": "code",
   "execution_count": null,
   "metadata": {},
   "outputs": [],
   "source": [
    "# create time intervals (we are using Google date format)\n",
    "# There is a split (1:20) on 2022-06-06\n",
    "# So lets choose a date interval to include the split date\n",
    "today = date.Date(year = 2022, month = 6, day = 7)\n",
    "start = date.Date(year = 2022, month = 6, day = 3)\n",
    "\n",
    "date_interval = dateinterval.DateInterval(\n",
    "    start_date = date.Date(year = start.year, month = start.month, day = start.day), \n",
    "    end_date = date.Date(year = today.year, month = today.month, day = today.day)\n",
    ")\n",
    "\n",
    "# build the market data request time interval (we are using Google time format)\n",
    "# UTC time zone\n",
    "time_interval = timeinterval.TimeInterval(\n",
    "    start_time = timeofday.TimeOfDay(hours = 15, minutes = 0, seconds = 0), \n",
    "    end_time = timeofday.TimeOfDay(hours = 20, minutes = 0, seconds = 0)\n",
    ")"
   ]
  },
  {
   "cell_type": "code",
   "execution_count": null,
   "metadata": {},
   "outputs": [],
   "source": [
    "# generate constraints based on the previous time selection\n",
    "my_constraints = constraints.Constraints(\n",
    "    date_intervals = [date_interval],\n",
    "    time_intervals = [time_interval],\n",
    ")"
   ]
  },
  {
   "cell_type": "markdown",
   "metadata": {},
   "source": [
    "#### 3.4 Unadjusted bars request creation\n",
    "The following code snippet creates *gRPC client*, process request and ensure that the reply is not empty:"
   ]
  },
  {
   "cell_type": "code",
   "execution_count": null,
   "metadata": {},
   "outputs": [],
   "source": [
    "# generate tick bars request\n",
    "requestUnadjusted = tick_bars.TickBarsRequest(\n",
    "    identifier = identifier.Identifier(exchange = exchange, ticker = ticker),\n",
    "    constraints = my_constraints,\n",
    "    sampling = duration.Duration(seconds = sampling),\n",
    "    field = field,\n",
    "    adjustment = False # do not adjust data (split)\n",
    ")"
   ]
  },
  {
   "cell_type": "code",
   "execution_count": null,
   "metadata": {},
   "outputs": [],
   "source": [
    "try:\n",
    "    # open a gRPC channel\n",
    "    with channel_helpers.get_grpc_channel() as channel:  \n",
    "        \n",
    "        # instantiate the tick bars service\n",
    "        service = tick_bars_service.TickBarsServiceStub(channel)\n",
    "        \n",
    "        # process the tick bars request (unadjusted)\n",
    "        barsUnadjusted = []\n",
    "        metadata = [('authorization', token)]\n",
    "        for bar in service.TickBars(request=requestUnadjusted, metadata=metadata):\n",
    "                barsUnadjusted.append(bar)\n",
    "except grpc.RpcError as e:\n",
    "    display(e.code().name)\n",
    "    display(e.details())"
   ]
  },
  {
   "cell_type": "code",
   "execution_count": null,
   "metadata": {},
   "outputs": [],
   "source": [
    "ticks_count = 0\n",
    "for b in barsUnadjusted:\n",
    "    ticks_count += b.count\n",
    "    \n",
    "print('{0} tick unadjusted bars retrieved from {1}'.format(len(barsUnadjusted), ticks_count))"
   ]
  },
  {
   "cell_type": "markdown",
   "metadata": {},
   "source": [
    "#### 3.5 Adjusted bars request creation\n",
    "The following code snippet creates *gRPC client*, process request and ensure that the reply is not empty:"
   ]
  },
  {
   "cell_type": "code",
   "execution_count": null,
   "metadata": {},
   "outputs": [],
   "source": [
    "# generate tick bars request\n",
    "requestAdjusted = tick_bars.TickBarsRequest(\n",
    "    identifier = identifier.Identifier(exchange = exchange, ticker = ticker),\n",
    "    constraints = my_constraints,\n",
    "    sampling = duration.Duration(seconds = sampling),\n",
    "    field = field,\n",
    "    adjustment = True # adjust data (split)\n",
    ")"
   ]
  },
  {
   "cell_type": "code",
   "execution_count": null,
   "metadata": {},
   "outputs": [],
   "source": [
    "try:\n",
    "    # open a gRPC channel\n",
    "    with channel_helpers.get_grpc_channel() as channel:  \n",
    "        \n",
    "        # instantiate the tick bars service\n",
    "        service = tick_bars_service.TickBarsServiceStub(channel)\n",
    "                \n",
    "        # process the tick bars request (adjusted)\n",
    "        barsAdjusted = []\n",
    "        metadata = [('authorization', token)]\n",
    "        for bar in service.TickBars(request=requestAdjusted, metadata=metadata):\n",
    "                barsAdjusted.append(bar)\n",
    "except grpc.RpcError as e:\n",
    "    display(e.code().name)\n",
    "    display(e.details())"
   ]
  },
  {
   "cell_type": "markdown",
   "metadata": {},
   "source": [
    "The following code snippet displays the total retrieved bars count:"
   ]
  },
  {
   "cell_type": "code",
   "execution_count": null,
   "metadata": {},
   "outputs": [],
   "source": [
    "ticks_count = 0\n",
    "for b in barsAdjusted:\n",
    "    ticks_count += b.count\n",
    "    \n",
    "print('{0} tick adjusted bars retrieved from {1}'.format(len(barsUnadjusted), ticks_count))"
   ]
  },
  {
   "cell_type": "markdown",
   "metadata": {},
   "source": [
    "### Step 4: Retrieve data"
   ]
  },
  {
   "cell_type": "markdown",
   "metadata": {},
   "source": [
    "#### 4.1 Retrieve intraday unadjusted bars\n",
    "In the following code snippets, the reply is reprocessed in a data frame in order to visualize the results with ease:"
   ]
  },
  {
   "cell_type": "code",
   "execution_count": null,
   "metadata": {},
   "outputs": [],
   "source": [
    "# prepare the dataframe content (Unadjusted)\n",
    "datesUnadjusted=[datetime.fromtimestamp(b.time_stamp.seconds) for b in barsUnadjusted]\n",
    "opensUnadjusted = [b.open for b in barsUnadjusted]\n",
    "highsUnadjusted = [b.high for b in barsUnadjusted]\n",
    "lowsUnadjusted = [b.low for b in barsUnadjusted]\n",
    "closesUnadjusted = [b.close for b in barsUnadjusted]\n",
    "volumesUnadjusted = [ts.volume for ts in barsUnadjusted]\n",
    "countsUnadjusted = [ts.count for ts in barsUnadjusted]"
   ]
  },
  {
   "cell_type": "code",
   "execution_count": null,
   "metadata": {},
   "outputs": [],
   "source": [
    "# create a pandas dataframe with: dates, bars and ticks count used for each bar\n",
    "d = {'Date': datesUnadjusted, 'Open': opensUnadjusted, 'High': highsUnadjusted, 'Low' : lowsUnadjusted,'Close': closesUnadjusted, 'Volume': volumesUnadjusted, 'Count': countsUnadjusted}\n",
    "df = pd.DataFrame(data=d)\n",
    "df = df.set_index('Date')\n",
    "df"
   ]
  },
  {
   "cell_type": "markdown",
   "metadata": {},
   "source": [
    "#### 4.2 Retrieve intraday adjusted bars\n",
    "In the following code snippets, the reply is reprocessed in a data frame in order to visualize the results with ease:"
   ]
  },
  {
   "cell_type": "code",
   "execution_count": null,
   "metadata": {},
   "outputs": [],
   "source": [
    "# prepare the dataframe content\n",
    "datesAdjusted=[datetime.fromtimestamp(b.time_stamp.seconds) for b in barsAdjusted]\n",
    "opensAdjusted = [b.open for b in barsAdjusted]\n",
    "highsAdjusted = [b.high for b in barsAdjusted]\n",
    "lowsAdjusted = [b.low for b in barsAdjusted]\n",
    "closesAdjusted = [b.close for b in barsAdjusted]\n",
    "volumesAdjusted = [ts.volume for ts in barsAdjusted]\n",
    "countsAdjusted = [ts.count for ts in barsAdjusted]"
   ]
  },
  {
   "cell_type": "code",
   "execution_count": null,
   "metadata": {},
   "outputs": [],
   "source": [
    "da = {'Date': datesAdjusted, 'Open': opensAdjusted, 'High': highsAdjusted, 'Low' : lowsAdjusted,'Close': closesAdjusted, 'Volume': volumesAdjusted, 'Count': countsAdjusted}\n",
    "dfa = pd.DataFrame(data=da)\n",
    "dfa = dfa.set_index('Date')\n",
    "dfa"
   ]
  },
  {
   "cell_type": "markdown",
   "metadata": {},
   "source": [
    "### Step 5: Visualize data with mplfinance"
   ]
  },
  {
   "cell_type": "markdown",
   "metadata": {},
   "source": [
    "#### 5.1 Plot unadjusted intraday bars"
   ]
  },
  {
   "cell_type": "code",
   "execution_count": null,
   "metadata": {},
   "outputs": [],
   "source": [
    "import mplfinance as mpf\n",
    "\n",
    "mpf.plot(df, figratio=(40,15),\n",
    "         type = 'candle', \n",
    "         title=('{0}-min tick bars for {1}-{2} | Before adjustments'.format(int(sampling/60),ticker,exchange)),\n",
    "         volume = True, \n",
    "         tight_layout = True,\n",
    "         style='yahoo'\n",
    "        )"
   ]
  },
  {
   "cell_type": "markdown",
   "metadata": {},
   "source": [
    "#### 5.2 Plot adjusted intraday bars"
   ]
  },
  {
   "cell_type": "code",
   "execution_count": null,
   "metadata": {},
   "outputs": [],
   "source": [
    "import mplfinance as mpf\n",
    "\n",
    "mpf.plot(dfa, figratio=(40,15),\n",
    "         type = 'candle', \n",
    "         title=('{0}-min tick bars for {1}-{2} | After adjustments'.format(int(sampling/60),ticker,exchange)),\n",
    "         volume = True, \n",
    "         tight_layout = True,\n",
    "         style='yahoo'\n",
    "        )"
   ]
  },
  {
   "cell_type": "markdown",
   "metadata": {},
   "source": [
    "### Step 6: Visualize data with plotly"
   ]
  },
  {
   "cell_type": "markdown",
   "metadata": {},
   "source": [
    "#### 6.1 Plot unadjusted intraday bars"
   ]
  },
  {
   "cell_type": "code",
   "execution_count": null,
   "metadata": {},
   "outputs": [],
   "source": [
    "import plotly.graph_objects as go\n",
    "from plotly.subplots import make_subplots\n",
    "\n",
    "# Create figure with secondary y-axis\n",
    "fig = make_subplots(specs=[[{\"secondary_y\": True}]])\n",
    "\n",
    "fig.add_trace(go.Candlestick(x=df.index, open=df['Open'], high=df['High'], low=df['Low'], close=df['Close'], name=\"Bars\"), secondary_y=True)\n",
    "fig.add_trace(go.Bar(x=df.index, y=df['Volume'], name=\"Volume\"), secondary_y=False)\n",
    "\n",
    "fig.update_layout(title = 'Unadjusted {0}-min bars for {1}-{2}'.format(int(sampling/60), ticker, exchange))\n",
    "fig.update_xaxes(title_text = 'Date')\n",
    "fig.layout.yaxis2.showgrid=False\n",
    "fig.show()"
   ]
  },
  {
   "cell_type": "markdown",
   "metadata": {},
   "source": [
    "#### 6.2 Plot adjusted intraday bars"
   ]
  },
  {
   "cell_type": "code",
   "execution_count": null,
   "metadata": {},
   "outputs": [],
   "source": [
    "import plotly.graph_objects as go\n",
    "from plotly.subplots import make_subplots\n",
    "\n",
    "# Create figure with secondary y-axis\n",
    "fig = make_subplots(specs=[[{\"secondary_y\": True}]])\n",
    "\n",
    "fig.add_trace(go.Candlestick(x=dfa.index, open=dfa['Open'], high=dfa['High'], low=dfa['Low'], close=dfa['Close'], name=\"Bars\"), secondary_y=True)\n",
    "fig.add_trace(go.Bar(x=dfa.index, y=dfa['Volume'], name=\"Volume\"), secondary_y=False)\n",
    "\n",
    "fig.update_layout(title = 'Adjusted {0}-min bars for {1}-{2}'.format(int(sampling/60), ticker, exchange))\n",
    "fig.update_xaxes(title_text = 'Date')\n",
    "fig.layout.yaxis2.showgrid=False\n",
    "fig.show()"
   ]
  },
  {
   "cell_type": "markdown",
   "metadata": {},
   "source": [
    "### Step 7: Export data"
   ]
  },
  {
   "cell_type": "code",
   "execution_count": null,
   "metadata": {},
   "outputs": [],
   "source": [
    "dtot = {'Date': datesUnadjusted, 'Open': opensUnadjusted, 'High': highsUnadjusted, 'Low' : lowsUnadjusted,'Close': closesUnadjusted, 'Volume': volumesUnadjusted, 'Count': countsUnadjusted, 'Open_Adj': opensAdjusted, 'High_Adj': highsAdjusted, 'Low_Adj' : lowsAdjusted,'Close_Adj': closesAdjusted, 'Volume_Adj': volumesAdjusted, 'Count_Adj': countsAdjusted}\n",
    "dftot = pd.DataFrame(data=dtot)\n",
    "dftot = dftot.set_index('Date')\n",
    "dftot"
   ]
  },
  {
   "cell_type": "code",
   "execution_count": null,
   "metadata": {},
   "outputs": [],
   "source": [
    "# export csv file\n",
    "os.makedirs('output', exist_ok=True)\n",
    "dftot.to_csv('output/{0}-{1}_adjustments.csv'.format(ticker,exchange), index=True)"
   ]
  }
 ],
 "metadata": {
  "kernelspec": {
   "display_name": "Python 3.10.4 64-bit",
   "language": "python",
   "name": "python3"
  },
  "language_info": {
   "codemirror_mode": {
    "name": "ipython",
    "version": 3
   },
   "file_extension": ".py",
   "mimetype": "text/x-python",
   "name": "python",
   "nbconvert_exporter": "python",
   "pygments_lexer": "ipython3",
   "version": "3.10.4"
  },
  "vscode": {
   "interpreter": {
    "hash": "916dbcbb3f70747c44a77c7bcd40155683ae19c65e1c03b4aa3499c5328201f1"
   }
  }
 },
 "nbformat": 4,
 "nbformat_minor": 4
}
