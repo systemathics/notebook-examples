{
 "cells": [
  {
   "cell_type": "markdown",
   "id": "822bc508-c952-456e-a1b9-2f795b388038",
   "metadata": {
    "tags": []
   },
   "source": [
    "# Impact of Trading Conditions"
   ]
  },
  {
   "cell_type": "markdown",
   "id": "8e1316b1-ae5f-4134-8846-6d2fa38c2ee9",
   "metadata": {
    "tags": []
   },
   "source": [
    "## I - Presentation\n",
    "###   I.1 - Overview\n",
    "Intraday or Ticks financial data can be visualized using plenty different manner (graphs, apple_bars, etc…). These visualisations will mostly focus on the size or the price of the trades on the timeline studied.\n",
    "\n",
    "But what about the trading conditions of these trades ? Is there a difference if we study one or all trading conditions ?\n",
    "\n",
    "This sample will demonstrate the impact of these trading conditions on the visualization of market ticks data.\n",
    "First it will show the difference of trading conditions between two exchanges (Nasdaq and EuroNext Paris).\n",
    "Then a specific study of the 'Nasdaq 100' exchange and the Apple 'AAPL' ticker will allow us to observe the proportion of each type of trades.\n",
    "Finally it will try to observe ticks bars graphs of the 'AAPL' ticker and determine if accepting or rejecting parts of the trading conditions impact the analysis of the bars graphs.\n",
    "\n",
    "###   I.2 - Services Used\n",
    "This sample uses *gRPC requests* in order to retrieve data from the dedicated hosted service. The queried endpoints in this script are:\n",
    "* *TickConditionsService*: used to get the raw data of the trading conditions informations of a specific exchange\n",
    "* *TickTradeConditionService*: to retrieve the trades conditions data (quantity, volume, percentage) of an exchange or a ticker \n",
    "* *TickBarsService*: to directly retrieve tick bars objects from the server.\n",
    "* *StaticDataService*: to retrieve reference data objects from the server (components and weights for a given exchange in our case)\n",
    "\n",
    "###   I.3 Modules Required\n",
    "1. Systemathics:\n",
    "    * *systemathics.apis.services.tick_conditions.v1*\n",
    "    * *systemathics.apis.services.tick.v1*\n",
    "    * *systemathics.apis.services.tick_analytics.v1*\n",
    "    * *systemathics.apis.type.shared.v1*\n",
    "    * *systemathics.apis.services.static_data.v1*\n",
    "    * *google.type*\n",
    "    \n",
    "2. Open source:\n",
    "    * *googleapis-common-protos*\n",
    "    * *protobuf*\n",
    "    * *grpcio*\n",
    "    * *pandas*\n",
    "    * *plotly*, *matpotlib* and *mplfinance* as per display packages\n",
    "    \n",
    "###   I.4 Notebook Prepartion\n",
    "#### Packages and Import\n"
   ]
  },
  {
   "cell_type": "code",
   "execution_count": null,
   "id": "bac47eaa-5116-410f-993f-7cdb653f311c",
   "metadata": {},
   "outputs": [],
   "source": [
    "pip install googleapis-common-protos protobuf grpcio pandas plotly mplfinance matplotlib"
   ]
  },
  {
   "cell_type": "code",
   "execution_count": null,
   "id": "c533fdd6-3d9f-44de-b74a-e0d8a2ff68d8",
   "metadata": {},
   "outputs": [],
   "source": [
    "pip install systemathics.apis --pre"
   ]
  },
  {
   "cell_type": "code",
   "execution_count": null,
   "id": "ee7edbdc-1581-4ed8-b7ef-be8dee3430c3",
   "metadata": {},
   "outputs": [],
   "source": [
    "import os\n",
    "import grpc\n",
    "import numpy as np\n",
    "import pandas as pd\n",
    "import mplfinance as mpf\n",
    "import plotly.express as px\n",
    "from datetime import datetime\n",
    "from datetime import timedelta\n",
    "import matplotlib.pyplot as plt\n",
    "import matplotlib.dates as mdates\n",
    "import google.type.date_pb2 as date\n",
    "import google.type.timeofday_pb2 as timeofday\n",
    "import google.type.dayofweek_pb2 as dayofweek\n",
    "import google.protobuf.duration_pb2 as duration\n",
    "import systemathics.apis.type.shared.v1.identifier_pb2 as identifier\n",
    "import systemathics.apis.type.shared.v1.constraints_pb2 as constraints\n",
    "import systemathics.apis.type.shared.v1.date_interval_pb2 as dateinterval\n",
    "import systemathics.apis.type.shared.v1.time_interval_pb2 as timeinterval\n",
    "import systemathics.apis.services.indices.v1.components_pb2 as indices\n",
    "import systemathics.apis.services.indices.v1.components_pb2_grpc as indices_service\n",
    "import systemathics.apis.services.tick_conditions.v1.tick_conditions_pb2 as tick_conditions\n",
    "import systemathics.apis.services.tick_conditions.v1.tick_conditions_pb2_grpc as tick_conditions_service\n",
    "import systemathics.apis.services.tick_analytics.v1.tick_trade_conditions_pb2 as tick_trade_conditions\n",
    "import systemathics.apis.services.tick_analytics.v1.tick_trade_conditions_pb2_grpc as tick_trade_conditions_service\n",
    "import systemathics.apis.services.tick_analytics.v1.tick_trade_condition_statistics_pb2 as tick_trade_condition_statistics\n",
    "import systemathics.apis.services.tick_analytics.v1.tick_trade_condition_statistics_pb2_grpc as tick_trade_condition_statistics_service\n",
    "import systemathics.apis.services.tick_analytics.v1.tick_vwap_pb2 as tick_vwap\n",
    "import systemathics.apis.services.tick_analytics.v1.tick_vwap_pb2_grpc as tick_vwap_service\n",
    "import systemathics.apis.services.tick_analytics.v1.tick_bars_pb2 as tick_bars\n",
    "import systemathics.apis.services.tick_analytics.v1.tick_bars_pb2_grpc as tick_bars_service\n",
    "import systemathics.apis.helpers.token_helpers as token_helpers\n",
    "import systemathics.apis.helpers.channel_helpers as channel_helpers"
   ]
  },
  {
   "cell_type": "markdown",
   "id": "59fa5ddb-bdf2-4141-a5f2-df9e1a9bd0fe",
   "metadata": {
    "tags": []
   },
   "source": [
    "#### Retrieve Authentification token"
   ]
  },
  {
   "cell_type": "code",
   "execution_count": null,
   "id": "db78f2dd-cdcd-4701-9642-17c5a61fe7ad",
   "metadata": {},
   "outputs": [],
   "source": [
    "token = token_helpers.get_token()\n",
    "display(token)"
   ]
  },
  {
   "cell_type": "markdown",
   "id": "76a47c97-a8fa-42bf-886b-7e89814566d2",
   "metadata": {
    "tags": []
   },
   "source": [
    "***\n",
    "## II - Trade condition\n",
    "###   II.1 - Definition\n",
    "A trade occurs when a buyer (bid side) and a seller (ask side) match their interest on the market. The unique identity of the trade is given by at least six properties:\n",
    "•\tThe counterparts: buyer and seller\n",
    "•\tThe execution unique identifier\n",
    "•\tThe timestamp of trade\n",
    "•\tThe execution price\n",
    "•\tThe size: total executed shares\n",
    "•\tThe trading condition\n",
    "\n",
    "More notably, the trading condition is determined by the market and represents how the trade happened and its type. The most common trading conditions are “Regular Trade”, “Auction Trade”, and “Over The Counter (OTC)”.\n",
    "\n",
    "###   II.2 - Un-normalized trading conditions between financial markets\n",
    "Even if all marketplaces used these trading conditions, there isn’t a common definition between them. Each Marketplace has their own trading conditions, name and value.\n",
    "\n",
    "Let’s study XNGS and XPAR exchanges trading conditions :\n"
   ]
  },
  {
   "cell_type": "markdown",
   "id": "bde98392-5852-4c44-a59e-7b602b09c19e",
   "metadata": {},
   "source": [
    "#### Retrieve trade conditions"
   ]
  },
  {
   "cell_type": "code",
   "execution_count": null,
   "id": "3e4d8ccd-3856-4664-a0d2-347043a996d0",
   "metadata": {
    "tags": []
   },
   "outputs": [],
   "source": [
    "# set inputs\n",
    "exchange_xngs = 'XNGS'\n",
    "exchange_xpar = 'XPAR'"
   ]
  },
  {
   "cell_type": "code",
   "execution_count": null,
   "id": "7d76f233-25ff-4abc-9aca-ebcaa6abaa25",
   "metadata": {},
   "outputs": [],
   "source": [
    "# generate tick conditions request\n",
    "request_xngs = tick_conditions.TickConditionsRequest(exchange = exchange_xngs)\n",
    "request_xpar = tick_conditions.TickConditionsRequest(exchange = exchange_xpar)"
   ]
  },
  {
   "cell_type": "code",
   "execution_count": null,
   "id": "ac589328-8c61-4d52-a08a-d4ca6410e807",
   "metadata": {},
   "outputs": [],
   "source": [
    "%%time\n",
    "try:\n",
    "    # open a gRPC channel\n",
    "    with channel_helpers.get_grpc_channel() as channel:  \n",
    "        \n",
    "        # instantiate the tick condition service\n",
    "        service = tick_conditions_service.TickConditionsServiceStub(channel)\n",
    "        \n",
    "        # process the tick condition requests\n",
    "        response_xngs = service.TickConditions(\n",
    "            request=request_xngs, \n",
    "            metadata = [('authorization', token)]\n",
    "        )\n",
    "        response_xpar = service.TickConditions(\n",
    "            request=request_xpar, \n",
    "            metadata = [('authorization', token)]\n",
    "        )\n",
    "        \n",
    "except grpc.RpcError as e:\n",
    "    display(e.code().name)\n",
    "    display(e.details())"
   ]
  },
  {
   "cell_type": "markdown",
   "id": "d24ffc66-87e0-469a-9899-14ca88deeb5e",
   "metadata": {},
   "source": [
    "DataFrame creation"
   ]
  },
  {
   "cell_type": "code",
   "execution_count": null,
   "id": "e2a4a267-4191-40f2-bb61-89d7ce7a9362",
   "metadata": {},
   "outputs": [],
   "source": [
    "# Retrieve data from resquests responses\n",
    "# for xngs\n",
    "value_xngs = [d.value for d in response_xngs.data]\n",
    "description_xngs = [d.description for d in response_xngs.data]\n",
    "comment_xngs = [d.comment for d in response_xngs.data]\n",
    "isregular_xngs = [d.regular for d in response_xngs.data]\n",
    "isauction_xngs = [d.auction for d in response_xngs.data]\n",
    "\n",
    "# for xpar\n",
    "value_xpar = [d.value for d in response_xpar.data]\n",
    "description_xpar = [d.description for d in response_xpar.data]\n",
    "comment_xpar = [d.comment for d in response_xpar.data]\n",
    "isregular_xpar = [d.regular for d in response_xpar.data]\n",
    "isauction_xpar = [d.auction for d in response_xpar.data]\n",
    "    \n",
    "# Create the corresponding pandas dataframe\n",
    "d_xngs = {'Value': value_xngs, 'Description': description_xngs, 'Comment': comment_xngs, 'IsRegular': isregular_xngs, 'IsAuction': isauction_xngs}\n",
    "df_xngs = pd.DataFrame(data=d_xngs)\n",
    "\n",
    "d_xpar = {'Value': value_xpar, 'Description': description_xpar, 'Comment': comment_xpar, 'IsRegular': isregular_xpar, 'IsAuction': isauction_xpar}\n",
    "df_xpar = pd.DataFrame(data=d_xpar)"
   ]
  },
  {
   "cell_type": "markdown",
   "id": "7019296a-76ff-4541-aa14-a2a8fd1a0e66",
   "metadata": {},
   "source": [
    "#### XNGS Trading Conditions"
   ]
  },
  {
   "cell_type": "code",
   "execution_count": null,
   "id": "cb42f74c-cab9-4524-bbc0-55ed4d09da48",
   "metadata": {},
   "outputs": [],
   "source": [
    "df_xngs.style.set_table_attributes(\"style='display:inline'\").set_caption(exchange_xngs + \" Trading Conditions\")"
   ]
  },
  {
   "cell_type": "markdown",
   "id": "4aa7c54d-7ab2-4395-a8a4-5ae64b193772",
   "metadata": {},
   "source": [
    "#### XPAR Trading Conditions"
   ]
  },
  {
   "cell_type": "code",
   "execution_count": null,
   "id": "c63c0a42-1724-423e-b0dd-96b5a65a84cf",
   "metadata": {},
   "outputs": [],
   "source": [
    "df_xpar.style.set_table_attributes(\"style='display:inline'\").set_caption(exchange_xpar + \" Trading Conditions\")"
   ]
  },
  {
   "cell_type": "markdown",
   "id": "7a8ca452-c572-464e-8c40-f4fc64afa807",
   "metadata": {},
   "source": [
    "Some observations can be made : \n",
    "-\tXNGS has 34 trading conditions with value between 0 and 57 whereas XPAR has only 20 trading conditions with value between 0 and 23\n",
    "-\tIf we choose the ‘Cross trade’ trading conditions, on XNGS it has the value 24 and on XPAR the value 2.\n",
    "-\tThe value 17 is corresponding to the 'Market Center Open Price' trade for XNGS and 'Odd Lot' Trades for XPAR.\n",
    "\n",
    "These observations are proof that one need to be careful of these differences when using trading conditions.\n",
    "After a close study of these trading confitions, there may be similiraties between some of them. This could probably allow one to build clusters of trading conditions."
   ]
  },
  {
   "cell_type": "markdown",
   "id": "7dab2eeb-1f82-406b-8f31-cc69fa817bb0",
   "metadata": {},
   "source": [
    "***\n",
    "We have demonstrated that trading conditions are different between exchanges.\n",
    "Now we are going to study one exchange and the proportion of each trading conditions.\n",
    "***"
   ]
  },
  {
   "cell_type": "markdown",
   "id": "7e1b63aa-41be-4d72-9a7e-a1a14aabc63f",
   "metadata": {
    "tags": []
   },
   "source": [
    "## III - Proportion of trading condition - Study on the Nasdaq 100 exchange\n",
    "After one got the trading conditions of the studied market, it is preferrable to find the proportion of each one of them in the market, and for each equity of the market.\n",
    "\n",
    "Let’s study the XNGS exchanges group, especialy the 'Nasdaq 100' exchange.\n",
    "\n",
    "First we need to get the 'Nasdaq 100' components. We are retrieving them with a request allowing us to have the weight of each equity in the exchange."
   ]
  },
  {
   "cell_type": "markdown",
   "id": "efc5fa40-973c-45f5-93ac-a0dcd15ff62d",
   "metadata": {
    "tags": []
   },
   "source": [
    "### Step 1: Create and process request"
   ]
  },
  {
   "cell_type": "code",
   "execution_count": null,
   "id": "886a288c-abf0-4169-a10a-cd3420d3adf1",
   "metadata": {},
   "outputs": [],
   "source": [
    "# which market place we want to study\n",
    "market_place = 'nasdaq 100'\n",
    "\n",
    "# generate the indices request\n",
    "request_nsdq = indices.ComponentsRequest( \n",
    "    identifier = market_place\n",
    ")"
   ]
  },
  {
   "cell_type": "code",
   "execution_count": null,
   "id": "f8584be1-6a89-4176-b987-68900d0676be",
   "metadata": {},
   "outputs": [],
   "source": [
    "%%time\n",
    "try:\n",
    "    # open a gRPC channel\n",
    "    with channel_helpers.get_grpc_channel() as channel:  \n",
    "        \n",
    "        # instantiate the indices service\n",
    "        service = indices_service.ComponentsServiceStub(channel)\n",
    "        \n",
    "        # process the indices request\n",
    "        response_nsdq = service.Components(\n",
    "            request = request_nsdq, \n",
    "            metadata = [('authorization', token)]\n",
    "        )\n",
    "except grpc.RpcError as e:\n",
    "    display(e.code().name)\n",
    "    display(e.details())"
   ]
  },
  {
   "cell_type": "markdown",
   "id": "2aae4173-127c-45b8-8974-011eea8db875",
   "metadata": {
    "tags": []
   },
   "source": [
    "### Step 2 Retrieve components and weights"
   ]
  },
  {
   "cell_type": "code",
   "execution_count": null,
   "id": "f229800f-7124-4e2e-a69d-fda258c7f118",
   "metadata": {},
   "outputs": [],
   "source": [
    "# retrieve data from resquest response\n",
    "tickers = [c.identifier.ticker for c in response_nsdq.components]\n",
    "exchanges =[c.identifier.exchange for c in response_nsdq.components]\n",
    "weights = [c.weight for c in response_nsdq.components]\n",
    "\n",
    "# create the dataframe\n",
    "d = {'Ticker': tickers, 'Exchange': exchanges, 'Weight': weights }\n",
    "NSD = pd.DataFrame(data=d)\n",
    "NSD = NSD.sort_values(by = 'Weight')\n",
    "NSD.sort_values(by=['Weight'], inplace=True, ascending = False)\n",
    "NSD.head(10)"
   ]
  },
  {
   "cell_type": "markdown",
   "id": "902c76bf-7b2a-48de-9483-40dcaa58fb5d",
   "metadata": {},
   "source": [
    "Now that's we have the components, we can retrieves the trades condtitions datas for each one of them"
   ]
  },
  {
   "cell_type": "markdown",
   "id": "dd3173ec-63cf-4bae-aa77-6952c6fe3b6f",
   "metadata": {
    "tags": []
   },
   "source": [
    "### Step 3 Retreiving Trading Conditions Data\n",
    "#### Token Selection"
   ]
  },
  {
   "cell_type": "code",
   "execution_count": null,
   "id": "39fb202a-b57e-46be-8ad3-4bd23f4dc34b",
   "metadata": {},
   "outputs": [],
   "source": [
    "# generate the tick conditions request for the different assets\n",
    "my_identifiers = []\n",
    "for row in NSD.itertuples():\n",
    "    my_identifier = identifier.Identifier(exchange = row.Exchange, ticker = row.Ticker)\n",
    "    my_identifiers.append(my_identifier)"
   ]
  },
  {
   "cell_type": "markdown",
   "id": "215f460d-461d-4692-8fea-844bf5afbd50",
   "metadata": {},
   "source": [
    "#### Time period selection\n",
    "Note that we will keep this time interval for the entire notebook"
   ]
  },
  {
   "cell_type": "code",
   "execution_count": null,
   "id": "5d7deecb-f1ad-445b-b647-bf808b53bf81",
   "metadata": {},
   "outputs": [],
   "source": [
    "# create time intervals (we are using Google date format)\n",
    "today = datetime.today()\n",
    "my_days = 100 # time interval of study\n",
    "start = today - timedelta(days=my_days)\n",
    "\n",
    "date_interval_nsdq = dateinterval.DateInterval(\n",
    "    start_date = date.Date(year = 2022, month = 2, day = 9), \n",
    "    end_date = date.Date(year = 2022, month = 5, day = 22)\n",
    ")"
   ]
  },
  {
   "cell_type": "markdown",
   "id": "c0628ce8-24d3-4ac8-a846-5514540b5f1f",
   "metadata": {
    "tags": []
   },
   "source": [
    "#### Request"
   ]
  },
  {
   "cell_type": "code",
   "execution_count": null,
   "id": "f47b5926-37cc-4444-af3c-11d6707438a6",
   "metadata": {},
   "outputs": [],
   "source": [
    "# generate constraints based on the previous time selection\n",
    "constraints_nsdq = constraints.Constraints(\n",
    "    date_intervals = [date_interval_nsdq]\n",
    ")"
   ]
  },
  {
   "cell_type": "markdown",
   "id": "59c1024d-c2f3-4410-9be9-a2477f3d240e",
   "metadata": {},
   "source": [
    "Tick trades conditions request"
   ]
  },
  {
   "cell_type": "code",
   "execution_count": null,
   "id": "abf1a587-ff9e-4115-a594-6b9b03bd8f2f",
   "metadata": {},
   "outputs": [],
   "source": [
    "%%time\n",
    "# generate the tick trades request for all the nasdaq 100 tickers\n",
    "xngs_trades = {}\n",
    "for id in my_identifiers:\n",
    "    \n",
    "    request_tcs = tick_trade_condition_statistics.TickTradeConditionStatisticsRequest(\n",
    "        identifier = id,\n",
    "        constraints = constraints_nsdq\n",
    "    )\n",
    "\n",
    "    try:\n",
    "        # open a gRPC channel\n",
    "        with channel_helpers.get_grpc_channel() as channel:  \n",
    "        \n",
    "            # instantiate the tick apple_bars service\n",
    "            service = tick_trade_condition_statistics_service.TickTradeConditionStatisticsServiceStub(channel)\n",
    "        \n",
    "            # process the tick apple_bars request\n",
    "            statistics = []\n",
    "            my_metadata = [('authorization', token)]\n",
    "            for stat in service.TickTradeConditionStatistics(request=request_tcs, metadata=my_metadata):\n",
    "                statistics.append(stat)\n",
    "    except grpc.RpcError as e:\n",
    "        display(e.code().name)\n",
    "        display(e.details())\n",
    "        display(id)\n",
    "    \n",
    "    xngs_trades[id.ticker] = statistics\n"
   ]
  },
  {
   "cell_type": "markdown",
   "id": "893d3688-cbe9-47a7-b06e-6d028f8c31ad",
   "metadata": {
    "tags": []
   },
   "source": [
    "### Step 4 Calculating Trading Conditions proportions"
   ]
  },
  {
   "cell_type": "markdown",
   "id": "cf734d68-baea-4614-b2c0-ac2e3e6dca4d",
   "metadata": {},
   "source": [
    "#### Trading Conditions Quantities based on trades volumes"
   ]
  },
  {
   "cell_type": "code",
   "execution_count": null,
   "id": "30924f78-673f-4f3a-aa9d-983abeee1b78",
   "metadata": {},
   "outputs": [],
   "source": [
    "TC_QuantityV = df_xngs.iloc[:, 0:2].copy()\n",
    "for xngs_ticker in xngs_trades: #Trading conditions from Nsdq 100\n",
    "    for tc in range(len(xngs_trades[xngs_ticker])):\n",
    "        TC_QuantityV.loc[TC_QuantityV.Value == xngs_trades[xngs_ticker][tc].value, xngs_ticker] = int(xngs_trades[xngs_ticker][tc].volume)\n",
    "TC_QuantityV['Total'] = TC_QuantityV.iloc[:, 2:].sum(axis=1) #give the quantity of each trades conditions for all the exchange\n",
    "TC_QuantityV= TC_QuantityV[TC_QuantityV['Total'] != 0].fillna(0)\n",
    "TC_QuantityV.style.set_table_attributes(\"style='display:inline'\").set_caption(\"Trading Conditions Quantities (nb of trades)\").format(precision = 0).background_gradient(axis=None, vmin=0, vmax=max(TC_QuantityV.iloc[:,2:-1].max()), cmap=\"Blues\", subset=TC_QuantityV.columns[2:-1])"
   ]
  },
  {
   "cell_type": "markdown",
   "id": "016220a0-34d7-44f2-a4a5-8d831b4b94d9",
   "metadata": {},
   "source": [
    "#### Trading Conditions Quantities based on trades counts"
   ]
  },
  {
   "cell_type": "code",
   "execution_count": null,
   "id": "d7c9cb44-324d-477c-8282-b943bb187764",
   "metadata": {},
   "outputs": [],
   "source": [
    "TC_QuantityC = df_xngs.iloc[:, 0:2].copy()\n",
    "for xngs_ticker in xngs_trades: #Trading conditions from Nsdq 100\n",
    "    for tc in range(len(xngs_trades[xngs_ticker])):\n",
    "        TC_QuantityC.loc[TC_QuantityC.Value == xngs_trades[xngs_ticker][tc].value, xngs_ticker] = int(xngs_trades[xngs_ticker][tc].count)\n",
    "TC_QuantityC['Total'] = TC_QuantityC.iloc[:, 2:].sum(axis=1) #give the quantity of each trades conditions for all the exchange\n",
    "TC_QuantityC= TC_QuantityC[TC_QuantityC['Total'] != 0].fillna(0)\n",
    "TC_QuantityC.style.set_table_attributes(\"style='display:inline'\").format(precision = 0).background_gradient(axis=None, vmin=0, vmax=max(TC_QuantityC.iloc[:,2:-1].max()), cmap=\"Blues\", subset=TC_QuantityC.columns[2:-1]).set_caption(\"Trading Conditions Quantities (nb of trades)\")"
   ]
  },
  {
   "cell_type": "markdown",
   "id": "d25d62a4-e7cc-4137-b6b4-86fa68df8255",
   "metadata": {},
   "source": [
    "### Step 5 Visualisation of the trading conditions distributions"
   ]
  },
  {
   "cell_type": "code",
   "execution_count": null,
   "id": "551a338d-2eb9-4d48-ac23-54052ace22a6",
   "metadata": {},
   "outputs": [],
   "source": [
    "fig = px.pie(TC_QuantityC.sort_index(), values='Total', names='Description',\n",
    "            title = ('Trading Conditions Count Proportion for {0} ({1} trades between {2} and {3})').format('Nasdaq 100',round(TC_QuantityC['Total'].sum(),0),start.date(),today.date()),\n",
    "            color='Value')\n",
    "fig.update_traces(textposition='inside')\n",
    "fig.update_layout(uniformtext_minsize=12, uniformtext_mode='hide', width=1500, height=500)\n",
    "fig.show()"
   ]
  },
  {
   "cell_type": "code",
   "execution_count": null,
   "id": "09eec0ad-c9a0-43e8-9703-eb3bf87c2ce7",
   "metadata": {},
   "outputs": [],
   "source": [
    "fig = px.pie(TC_QuantityV.sort_index(), values='Total', names='Description',\n",
    "            title = ('Trading Conditions Volumes Proportion for {0} ({1} trades between {2} and {3})').format('Nasdaq 100',round(TC_QuantityV['Total'].sum(),0),start.date(),today.date()),\n",
    "            color='Value')\n",
    "fig.update_traces(textposition='inside')\n",
    "fig.update_layout(uniformtext_minsize=12, uniformtext_mode='hide', width=1500, height=500)\n",
    "fig.show()"
   ]
  },
  {
   "cell_type": "markdown",
   "id": "60290def-a97c-4bc4-b8c0-e0146e634168",
   "metadata": {},
   "source": [
    "Observations : \n",
    "- 3 mainly used trading conditions (Odd Lot, Regular sale, Intermarketsweep) for 99.6% of the trades in the exchange but for nearly 84% of the total volume traded\n",
    "- Odd Lot Trade : 72.2% of the trades but only 18.1% of the volume traded\n",
    "- Closing Prints and Form T : less than 0.5 % of the trades but more than 12% of the volume traded"
   ]
  },
  {
   "cell_type": "markdown",
   "id": "924c43a3-fb28-4eac-8764-73dd163cdfae",
   "metadata": {
    "tags": []
   },
   "source": [
    "### Export / Import\n",
    "Export"
   ]
  },
  {
   "cell_type": "code",
   "execution_count": null,
   "id": "3468d702-77a2-486e-a15f-eaf42de43bff",
   "metadata": {
    "tags": []
   },
   "outputs": [],
   "source": [
    "#TC_QuantityC.to_csv(('TC_QuantityC({0}d).csv').format(my_days), index=True)\n",
    "#TC_QuantityV.to_csv(('TC_QuantityV({0}d).csv').format(my_days), index=True)"
   ]
  },
  {
   "cell_type": "markdown",
   "id": "dba19373-7310-466a-a591-b743b27b2d46",
   "metadata": {
    "tags": []
   },
   "source": [
    "Import\n",
    "if you already have exported csv files"
   ]
  },
  {
   "cell_type": "code",
   "execution_count": null,
   "id": "d30a8817-4f1e-4f0f-b324-e7f3d80ef8a7",
   "metadata": {
    "tags": []
   },
   "outputs": [],
   "source": [
    "#TC_QuantityC = pd.read_csv (r'TC_QuantityC(*d).csv')\n",
    "#TC_QuantityV = pd.read_csv (r'TC_QuantityV(*d).csv')"
   ]
  },
  {
   "cell_type": "markdown",
   "id": "eff79e50-74ec-4851-b5e4-52ab10791e55",
   "metadata": {},
   "source": [
    "***\n",
    "\n",
    "We have analyse the Nasdaq 100 behaviour in front of the trading conditions. The next step is to determine if the same analysis can be made for the tickers in the Nasdaq 100.\n",
    "For that we are now going to study the biggest ticker, by far Apple - 'AAPL', for a macroscopic view, and the one of the smallest for a microscopic view.\n",
    "\n",
    "***"
   ]
  },
  {
   "cell_type": "markdown",
   "id": "d968cea1-189f-4fca-8e80-daacccf119e0",
   "metadata": {
    "tags": []
   },
   "source": [
    "\n",
    "## IV - Daily study\n",
    "\n"
   ]
  },
  {
   "cell_type": "code",
   "execution_count": null,
   "id": "b7140713-d2fe-4765-a56d-1a937f8112c9",
   "metadata": {
    "tags": []
   },
   "outputs": [],
   "source": [
    "# create time intervals (we are using Google date format)\n",
    "today = datetime.today()\n",
    "my_days = 100\n",
    "start = today - timedelta(days=my_days)"
   ]
  },
  {
   "cell_type": "code",
   "execution_count": null,
   "id": "798ad45d-2f71-4fc4-8051-363237a14638",
   "metadata": {},
   "outputs": [],
   "source": [
    "date_interval_daily = dateinterval.DateInterval(\n",
    "    start_date = date.Date(year = 2022, month = 2, day = 18), \n",
    "    end_date = date.Date(year = 2022, month = 5, day = 19)\n",
    ")\n",
    "\n",
    "my_constraints_daily = constraints.Constraints(\n",
    "    date_intervals = [date_interval_daily],\n",
    "    excluded_days = [dayofweek.SUNDAY, dayofweek.SATURDAY]\n",
    ")"
   ]
  },
  {
   "cell_type": "markdown",
   "id": "e27ce738-a600-4539-be40-45635e93cf0b",
   "metadata": {
    "tags": []
   },
   "source": [
    "### Apple (AAPL)\n",
    "Let's analyse Apple trades behaviour in front of the trading conditions."
   ]
  },
  {
   "cell_type": "markdown",
   "id": "9fbd4981-6629-4dd9-a315-9cb296b0c2c6",
   "metadata": {},
   "source": [
    "#### Request"
   ]
  },
  {
   "cell_type": "code",
   "execution_count": null,
   "id": "838b4628-acd1-4358-b108-83563c174b0e",
   "metadata": {},
   "outputs": [],
   "source": [
    "request_daily = tick_trade_conditions.TickTradeConditionsRequest(\n",
    "    identifier = identifier.Identifier(exchange = 'XNGS', ticker = 'AAPL'),\n",
    "    constraints = my_constraints_daily,\n",
    "    sampling = duration.Duration(seconds = 1 * 60 * 60 * 24),\n",
    ")"
   ]
  },
  {
   "cell_type": "code",
   "execution_count": null,
   "id": "14ba54d6-9b53-4f48-a901-08931532f7f8",
   "metadata": {},
   "outputs": [],
   "source": [
    "%%time\n",
    "try:\n",
    "    # open a gRPC channel\n",
    "    with channel_helpers.get_grpc_channel() as channel:  \n",
    "        \n",
    "        # instantiate the tick apple_bars service\n",
    "        service = tick_trade_conditions_service.TickTradeConditionsServiceStub(channel)\n",
    "        \n",
    "        # process the tick apple_bars request\n",
    "        apple_daily = []\n",
    "        my_metadata = [('authorization', token)]\n",
    "        for stat in service.TickTradeConditions(request=request_daily, metadata=my_metadata):\n",
    "            apple_daily.append(stat)\n",
    "except grpc.RpcError as e:\n",
    "    display(e.code().name)\n",
    "    display(e.details())"
   ]
  },
  {
   "cell_type": "markdown",
   "id": "ee1295d9-4918-4225-bc9d-f2ebd0d8f0c3",
   "metadata": {},
   "source": [
    "#### Percentage of Trading Condition - Daily"
   ]
  },
  {
   "cell_type": "markdown",
   "id": "3b29bd7e-aa3c-4d4a-89d6-6f0c2a1d196a",
   "metadata": {},
   "source": [
    "##### Percentage based on trades counts"
   ]
  },
  {
   "cell_type": "markdown",
   "id": "af907e75-1b53-4eef-a0fc-21bb00a31b0e",
   "metadata": {},
   "source": [
    "DataFrame Creation"
   ]
  },
  {
   "cell_type": "code",
   "execution_count": null,
   "id": "75719d19-2ac1-48c3-8850-6a24edf5085e",
   "metadata": {},
   "outputs": [],
   "source": [
    "dates = [datetime.fromtimestamp(t.time_stamp.seconds) for t in apple_daily]\n",
    "d = {'Date': dates}\n",
    "df_apple_daily_proC= pd.DataFrame(data = d)"
   ]
  },
  {
   "cell_type": "code",
   "execution_count": null,
   "id": "4e5164f1-b14e-4f40-8c57-084bd835b57a",
   "metadata": {},
   "outputs": [],
   "source": [
    "for daily in  apple_daily:\n",
    "    for index in range(len(daily.data)):\n",
    "        if str(daily.data[index].value) in df_apple_daily_proC:\n",
    "            df_apple_daily_proC.iat[df_apple_daily_proC.index[df_apple_daily_proC['Date'] == datetime.fromtimestamp(daily.time_stamp.seconds)].tolist()[0], df_apple_daily_proC.columns.get_loc(str(daily.data[index].value))] = daily.data[index].percentage * 100\n",
    "        else:\n",
    "            df_apple_daily_proC[str(daily.data[index].value)] = 0.0\n",
    "            df_apple_daily_proC.iat[df_apple_daily_proC.index[df_apple_daily_proC['Date'] == datetime.fromtimestamp(daily.time_stamp.seconds)].tolist()[0], df_apple_daily_proC.columns.get_loc(str(daily.data[index].value))] = daily.data[index].percentage * 100\n",
    "            \n",
    "df_apple_daily_proC = df_apple_daily_proC.set_index('Date')          "
   ]
  },
  {
   "cell_type": "code",
   "execution_count": null,
   "id": "6a9904d6-6d30-47ed-af39-5e28c2ae779e",
   "metadata": {},
   "outputs": [],
   "source": [
    "df_apple_daily_proC = df_apple_daily_proC[(df_apple_daily_proC.T != 0.).any()]\n",
    "df_apple_daily_proC.style.format(precision = 5).background_gradient(axis=None, vmin=0, vmax=max(df_apple_daily_proC.max()), cmap=\"Blues\")"
   ]
  },
  {
   "cell_type": "markdown",
   "id": "35f866fb-8591-4651-92ed-ff77828696ec",
   "metadata": {},
   "source": [
    "##### Percentage based on trades volumes"
   ]
  },
  {
   "cell_type": "markdown",
   "id": "9e177465-7309-4200-9f6c-a86fb8de68b4",
   "metadata": {},
   "source": [
    "DataFrame Creation"
   ]
  },
  {
   "cell_type": "code",
   "execution_count": null,
   "id": "de8f1c40-8562-42db-908d-d30e552ad06d",
   "metadata": {},
   "outputs": [],
   "source": [
    "dates = [datetime.fromtimestamp(t.time_stamp.seconds) for t in apple_daily]\n",
    "d = {'Date': dates}\n",
    "df_apple_daily_proV= pd.DataFrame(data = d)"
   ]
  },
  {
   "cell_type": "code",
   "execution_count": null,
   "id": "ebebde98-0838-4b32-87ed-2382989b0e68",
   "metadata": {},
   "outputs": [],
   "source": [
    "for daily in  apple_daily:\n",
    "    for index in range(len(daily.data)):\n",
    "        if str(daily.data[index].value) in df_apple_daily_proV:\n",
    "            df_apple_daily_proV.iat[df_apple_daily_proV.index[df_apple_daily_proV['Date'] == datetime.fromtimestamp(daily.time_stamp.seconds)].tolist()[0], df_apple_daily_proV.columns.get_loc(str(daily.data[index].value))] = daily.data[index].volume_percentage * 100\n",
    "        else:\n",
    "            df_apple_daily_proV[str(daily.data[index].value)] = 0.0\n",
    "            df_apple_daily_proV.iat[df_apple_daily_proV.index[df_apple_daily_proV['Date'] == datetime.fromtimestamp(daily.time_stamp.seconds)].tolist()[0], df_apple_daily_proV.columns.get_loc(str(daily.data[index].value))] = daily.data[index].volume_percentage * 100\n",
    "            \n",
    "df_apple_daily_proV = df_apple_daily_proV.set_index('Date')          "
   ]
  },
  {
   "cell_type": "code",
   "execution_count": null,
   "id": "1924fc82-b322-48f8-b15a-219859f9ca40",
   "metadata": {},
   "outputs": [],
   "source": [
    "df_apple_daily_proV = df_apple_daily_proV[(df_apple_daily_proV.T != 0.).any()]\n",
    "df_apple_daily_proV.style.format(precision = 5).background_gradient(axis=None, vmin=0, vmax=max(df_apple_daily_proV.max()), cmap=\"Blues\")"
   ]
  },
  {
   "cell_type": "markdown",
   "id": "70a77fec-0422-4c87-9444-ad43b25ab998",
   "metadata": {},
   "source": [
    "##### Visualisation "
   ]
  },
  {
   "cell_type": "code",
   "execution_count": null,
   "id": "2cea6ec5-df27-45d6-8de3-0da834bbb550",
   "metadata": {},
   "outputs": [],
   "source": [
    "fig,(axC,axV) = plt.subplots(2,1,figsize=(25,10))\n",
    "for col in df_apple_daily_proV.columns:\n",
    "    if not col == 'Date':\n",
    "        lab = df_xngs.loc[df_xngs.Value==col, 'Description'].values[0]\n",
    "        axV.plot(df_apple_daily_proV[col], label=lab)\n",
    "        axC.plot(df_apple_daily_proC[col])\n",
    "        \n",
    "fig.suptitle(('Trading Conditions Daily Proportions of Apple (AAPL-XNGS) for {0} days').format(my_days), fontsize=20)\n",
    "\n",
    "axC.set_xlabel(\"Date\",fontsize=14)\n",
    "axC.set_ylabel(\"Count (%)\",color=\"blue\",fontsize=14)\n",
    "\n",
    "axV.set_xlabel(\"Date\",fontsize=14)\n",
    "axV.set_ylabel(\"Volume (%)\",color=\"blue\",fontsize=14)\n",
    "\n",
    "# Highlight weekends based on the x-axis units\n",
    "xmin, xmax = axC.get_xlim()\n",
    "days = np.arange(np.floor(xmin), np.ceil(xmax)+2) # range of days in date units\n",
    "weekends = [(dt.weekday()>=5)|(dt.weekday()==0) for dt in mdates.num2date(days)]\n",
    "axC.fill_between(days, *axC.get_ylim(), where=weekends, alpha=.1)\n",
    "axC.set_xlim(xmin, xmax) # set limits back to default values\n",
    "axV.fill_between(days, *axV.get_ylim(), where=weekends, alpha=.1)\n",
    "axV.set_xlim(xmin, xmax) # set limits back to default values\n",
    "\n",
    "fig.legend()\n",
    "fig.show()"
   ]
  },
  {
   "cell_type": "markdown",
   "id": "0b1fc9df-ca85-4f68-b583-22f741f1ce9f",
   "metadata": {},
   "source": [
    "#### Quantities of Trading Conditions - Daily"
   ]
  },
  {
   "cell_type": "markdown",
   "id": "02085854-da3d-43ac-9471-fc338d7d194e",
   "metadata": {},
   "source": [
    "##### Quantities based on trades counts"
   ]
  },
  {
   "cell_type": "markdown",
   "id": "9faf6308-2446-4337-8b6d-6aa5ee6af246",
   "metadata": {},
   "source": [
    "DataFrame creation"
   ]
  },
  {
   "cell_type": "code",
   "execution_count": null,
   "id": "954f8eb2-5405-4e41-bbb7-2603bfcc2039",
   "metadata": {},
   "outputs": [],
   "source": [
    "dates = [datetime.fromtimestamp(t.time_stamp.seconds) for t in apple_daily]\n",
    "d = {'Date': dates}\n",
    "df_apple_daily_quaC= pd.DataFrame(data = d)"
   ]
  },
  {
   "cell_type": "code",
   "execution_count": null,
   "id": "bcdb9d2b-1cac-452b-b3a8-0bf81e4a1aee",
   "metadata": {},
   "outputs": [],
   "source": [
    "for daily in  apple_daily:\n",
    "    for index in range(len(daily.data)):\n",
    "        if str(daily.data[index].value) in df_apple_daily_quaC:\n",
    "            df_apple_daily_quaC.iat[df_apple_daily_quaC.index[df_apple_daily_quaC['Date'] == datetime.fromtimestamp(daily.time_stamp.seconds)].tolist()[0], df_apple_daily_quaC.columns.get_loc(str(daily.data[index].value))] = daily.data[index].count\n",
    "        else:\n",
    "            df_apple_daily_quaC[str(daily.data[index].value)] = 0.0\n",
    "            df_apple_daily_quaC.iat[df_apple_daily_quaC.index[df_apple_daily_quaC['Date'] == datetime.fromtimestamp(daily.time_stamp.seconds)].tolist()[0], df_apple_daily_quaC.columns.get_loc(str(daily.data[index].value))] = daily.data[index].count\n",
    "            \n",
    "df_apple_daily_quaC = df_apple_daily_quaC.set_index('Date')          "
   ]
  },
  {
   "cell_type": "code",
   "execution_count": null,
   "id": "63138835-627a-46e4-bdca-2e3d36856fb4",
   "metadata": {},
   "outputs": [],
   "source": [
    "df_apple_daily_quaC = df_apple_daily_quaC[(df_apple_daily_quaC.T != 0.).any()]\n",
    "df_apple_daily_quaC.style.format(precision = 0).background_gradient(axis=None, vmin=0, vmax=max(df_apple_daily_quaC.max()), cmap=\"Blues\")"
   ]
  },
  {
   "cell_type": "markdown",
   "id": "4e8932e2-f8ac-4a66-9419-26dec3030487",
   "metadata": {},
   "source": [
    "##### Quantities based on trades volumes"
   ]
  },
  {
   "cell_type": "markdown",
   "id": "eee95ee0-6a33-4383-a319-aafc16d196bc",
   "metadata": {},
   "source": [
    "DataFrame creation"
   ]
  },
  {
   "cell_type": "code",
   "execution_count": null,
   "id": "4fb4774e-2f8c-40ab-b3fa-6eac0ffc54ff",
   "metadata": {},
   "outputs": [],
   "source": [
    "dates = [datetime.fromtimestamp(t.time_stamp.seconds) for t in apple_daily]\n",
    "d = {'Date': dates}\n",
    "df_apple_daily_quaV= pd.DataFrame(data = d)"
   ]
  },
  {
   "cell_type": "code",
   "execution_count": null,
   "id": "81c4b20c-e1b1-4a9a-af87-2fe636237420",
   "metadata": {},
   "outputs": [],
   "source": [
    "for daily in  apple_daily:\n",
    "    for index in range(len(daily.data)):\n",
    "        if str(daily.data[index].value) in df_apple_daily_quaV:\n",
    "            df_apple_daily_quaV.iat[df_apple_daily_quaV.index[df_apple_daily_quaV['Date'] == datetime.fromtimestamp(daily.time_stamp.seconds)].tolist()[0], df_apple_daily_quaV.columns.get_loc(str(daily.data[index].value))] = daily.data[index].volume\n",
    "        else:\n",
    "            df_apple_daily_quaV[str(daily.data[index].value)] = 0.0\n",
    "            df_apple_daily_quaV.iat[df_apple_daily_quaV.index[df_apple_daily_quaV['Date'] == datetime.fromtimestamp(daily.time_stamp.seconds)].tolist()[0], df_apple_daily_quaV.columns.get_loc(str(daily.data[index].value))] = daily.data[index].volume\n",
    "            \n",
    "df_apple_daily_quaV = df_apple_daily_quaV.set_index('Date')          "
   ]
  },
  {
   "cell_type": "code",
   "execution_count": null,
   "id": "ef35bddc-cb4f-4ab8-ab91-ade23416b79e",
   "metadata": {},
   "outputs": [],
   "source": [
    "df_apple_daily_quaV = df_apple_daily_quaV[(df_apple_daily_quaV.T != 0.).any()]\n",
    "df_apple_daily_quaV.style.format(precision = 0).background_gradient(axis=None, vmin=0, vmax=max(df_apple_daily_quaV.max()), cmap=\"Blues\")"
   ]
  },
  {
   "cell_type": "markdown",
   "id": "6bd0b0ed-228d-4ae8-ab3e-e90d79ba829a",
   "metadata": {},
   "source": [
    "##### Visualisation"
   ]
  },
  {
   "cell_type": "code",
   "execution_count": null,
   "id": "ae8ecaaa-0813-4132-b1d0-593827f64421",
   "metadata": {},
   "outputs": [],
   "source": [
    "fig,(axC,axV) = plt.subplots(2,1,figsize=(25,10))\n",
    "for col in df_apple_daily_quaV.columns:\n",
    "    if not col == 'Date':\n",
    "        lab = df_xngs.loc[df_xngs.Value==col, 'Description'].values[0]\n",
    "        axV.plot(df_apple_daily_quaV[col], label=lab)\n",
    "        axC.plot(df_apple_daily_quaC[col])\n",
    "        \n",
    "fig.suptitle('Trading Conditions Daily Quantities of Apple (AAPL-XNGS) 100 days', fontsize=20)\n",
    "\n",
    "axC.set_xlabel(\"Date\",fontsize=14)\n",
    "axC.set_ylabel(\"Count\",color=\"blue\",fontsize=14)\n",
    "\n",
    "axV.set_xlabel(\"Date\",fontsize=14)\n",
    "axV.set_ylabel(\"Volume\",color=\"blue\",fontsize=14)\n",
    "\n",
    "# Highlight weekends based on the x-axis units\n",
    "xmin, xmax = axC.get_xlim()\n",
    "days = np.arange(np.floor(xmin), np.ceil(xmax)+2) # range of days in date units\n",
    "weekends = [(dt.weekday()>=5)|(dt.weekday()==0) for dt in mdates.num2date(days)]\n",
    "axC.fill_between(days, *axC.get_ylim(), where=weekends, alpha=.1)\n",
    "axC.set_xlim(xmin, xmax) # set limits back to default values\n",
    "axV.fill_between(days, *axV.get_ylim(), where=weekends, alpha=.1)\n",
    "axV.set_xlim(xmin, xmax) # set limits back to default values\n",
    "\n",
    "fig.legend()\n",
    "fig.show()"
   ]
  },
  {
   "cell_type": "markdown",
   "id": "31913f34-6bf9-4c33-84aa-eb3170cf402e",
   "metadata": {},
   "source": [
    "#### Export / Import\n",
    "\n",
    "Export"
   ]
  },
  {
   "cell_type": "code",
   "execution_count": null,
   "id": "3defde26-af9f-4c0e-b756-b908680290b3",
   "metadata": {},
   "outputs": [],
   "source": [
    "#df_apple_daily_quaC.to_csv('apple_daily_quaC.csv', index=True)\n",
    "#df_apple_daily_quaV.to_csv('apple_daily_quaV.csv', index=True)\n",
    "#df_apple_daily_proC.to_csv('apple_daily_proC.csv', index=True)\n",
    "#df_apple_daily_proV.to_csv('apple_daily_proV.csv', index=True)"
   ]
  },
  {
   "cell_type": "markdown",
   "id": "068b83c6-703b-4f74-97a2-a5932e0e7ccf",
   "metadata": {},
   "source": [
    "Import"
   ]
  },
  {
   "cell_type": "code",
   "execution_count": null,
   "id": "d294c8d9-1413-43fb-ac46-22fd8bc8cbab",
   "metadata": {},
   "outputs": [],
   "source": [
    "#df_apple_daily_quaC = pd.read_csv (r'Path.csv')\n",
    "#df_apple_daily_quaV = pd.read_csv (r'Path.csv')\n",
    "#df_apple_daily_proC = pd.read_csv (r'Path.csv')\n",
    "#df_apple_daily_proV = pd.read_csv (r'Path.csv')"
   ]
  },
  {
   "cell_type": "markdown",
   "id": "4498cb37-add6-4c48-a59f-b85f75db3dcc",
   "metadata": {},
   "source": [
    "***\n",
    "### Air BNB (ABNB)\n",
    "\n",
    "Let's analyse Air BNB trades behaviour in front of the trading conditions.\n"
   ]
  },
  {
   "cell_type": "markdown",
   "id": "8e766079-91fe-40b7-b630-0e47f58d6e05",
   "metadata": {},
   "source": [
    "#### Request"
   ]
  },
  {
   "cell_type": "code",
   "execution_count": null,
   "id": "974268a4-7a2e-4960-82c8-5610f853d3fe",
   "metadata": {},
   "outputs": [],
   "source": [
    "request_daily_abnb = tick_trade_conditions.TickTradeConditionsRequest(\n",
    "    identifier = identifier.Identifier(exchange = 'XNGS', ticker = 'ABNB'),\n",
    "    constraints = my_constraints_daily,\n",
    "    sampling = duration.Duration(seconds = 1 * 60 * 60 * 24)\n",
    ")"
   ]
  },
  {
   "cell_type": "code",
   "execution_count": null,
   "id": "5e375a34-7b65-4191-9ea6-c2b9628d5613",
   "metadata": {},
   "outputs": [],
   "source": [
    "%%time\n",
    "try:\n",
    "    # open a gRPC channel\n",
    "    with channel_helpers.get_grpc_channel() as channel:  \n",
    "        \n",
    "        # instantiate the tick apple_bars service\n",
    "        service = tick_trade_conditions_service.TickTradeConditionsServiceStub(channel)\n",
    "        \n",
    "        # process the tick apple_bars request\n",
    "        abnb_daily = []\n",
    "        my_metadata = [('authorization', token)]\n",
    "        for stat in service.TickTradeConditions(request=request_daily_abnb, metadata=my_metadata):\n",
    "            abnb_daily.append(stat)\n",
    "except grpc.RpcError as e:\n",
    "    display(e.code().name)\n",
    "    display(e.details())"
   ]
  },
  {
   "cell_type": "markdown",
   "id": "865c954a-d878-40e2-97f7-659c1ca521a6",
   "metadata": {},
   "source": [
    "#### Percentage of Trading Condition - Daily"
   ]
  },
  {
   "cell_type": "markdown",
   "id": "cc61ded5-e5fa-4df6-8f02-e7cad11e30d7",
   "metadata": {},
   "source": [
    "##### Percentage based on trades counts"
   ]
  },
  {
   "cell_type": "markdown",
   "id": "b318b23b-87bf-43e0-bc0d-e4c767d896d4",
   "metadata": {
    "tags": []
   },
   "source": [
    "DataFrame Creation"
   ]
  },
  {
   "cell_type": "code",
   "execution_count": null,
   "id": "2c8dc9e0-80d3-4b16-9502-b522d4f65878",
   "metadata": {
    "tags": []
   },
   "outputs": [],
   "source": [
    "dates = [datetime.fromtimestamp(t.time_stamp.seconds) for t in abnb_daily]\n",
    "d = {'Date': dates}\n",
    "df_abnb_daily_proC= pd.DataFrame(data = d)"
   ]
  },
  {
   "cell_type": "code",
   "execution_count": null,
   "id": "fb7a3f93-77ba-489b-84fe-2ecf4f68551c",
   "metadata": {},
   "outputs": [],
   "source": [
    "for daily in  abnb_daily:\n",
    "    for index in range(len(daily.data)):\n",
    "        if str(daily.data[index].value) in df_abnb_daily_proC:\n",
    "            df_abnb_daily_proC.iat[df_abnb_daily_proC.index[df_abnb_daily_proC['Date'] == datetime.fromtimestamp(daily.time_stamp.seconds)].tolist()[0], df_abnb_daily_proC.columns.get_loc(str(daily.data[index].value))] = daily.data[index].percentage * 100\n",
    "        else:\n",
    "            df_abnb_daily_proC[str(daily.data[index].value)] = 0.0\n",
    "            df_abnb_daily_proC.iat[df_abnb_daily_proC.index[df_abnb_daily_proC['Date'] == datetime.fromtimestamp(daily.time_stamp.seconds)].tolist()[0], df_abnb_daily_proC.columns.get_loc(str(daily.data[index].value))] = daily.data[index].percentage * 100\n",
    "            \n",
    "df_abnb_daily_proC = df_abnb_daily_proC.set_index('Date')          "
   ]
  },
  {
   "cell_type": "code",
   "execution_count": null,
   "id": "b08bbdbd-42ee-4fc5-87d3-e992a5fe1a1a",
   "metadata": {
    "tags": []
   },
   "outputs": [],
   "source": [
    "df_abnb_daily_proC = df_abnb_daily_proC[(df_abnb_daily_proC.T != 0.).any()]\n",
    "df_abnb_daily_proC.style.format(precision = 5).background_gradient(axis=None, vmin=0, vmax=max(df_abnb_daily_proC.max()), cmap=\"Blues\")"
   ]
  },
  {
   "cell_type": "markdown",
   "id": "b7b1da35-24aa-4dd8-8fc1-78da5debe73d",
   "metadata": {},
   "source": [
    "##### Percentage based on trades volumes"
   ]
  },
  {
   "cell_type": "markdown",
   "id": "3f489c1b-c536-4987-a5ab-a6dfae51c8b7",
   "metadata": {
    "tags": []
   },
   "source": [
    "DataFrame Creation"
   ]
  },
  {
   "cell_type": "code",
   "execution_count": null,
   "id": "c52881bb-3671-401d-8ad0-50e22ea48b98",
   "metadata": {
    "tags": []
   },
   "outputs": [],
   "source": [
    "dates = [datetime.fromtimestamp(t.time_stamp.seconds) for t in abnb_daily]\n",
    "d = {'Date': dates}\n",
    "df_abnb_daily_proV= pd.DataFrame(data = d)"
   ]
  },
  {
   "cell_type": "code",
   "execution_count": null,
   "id": "e9c45766-a59f-4de8-b41c-c8c156783548",
   "metadata": {},
   "outputs": [],
   "source": [
    "for daily in  abnb_daily:\n",
    "    for index in range(len(daily.data)):\n",
    "        if str(daily.data[index].value) in df_abnb_daily_proV:\n",
    "            df_abnb_daily_proV.iat[df_abnb_daily_proV.index[df_abnb_daily_proV['Date'] == datetime.fromtimestamp(daily.time_stamp.seconds)].tolist()[0], df_abnb_daily_proV.columns.get_loc(str(daily.data[index].value))] = daily.data[index].volume_percentage * 100\n",
    "        else:\n",
    "            df_abnb_daily_proV[str(daily.data[index].value)] = 0.0\n",
    "            df_abnb_daily_proV.iat[df_abnb_daily_proV.index[df_abnb_daily_proV['Date'] == datetime.fromtimestamp(daily.time_stamp.seconds)].tolist()[0], df_abnb_daily_proV.columns.get_loc(str(daily.data[index].value))] = daily.data[index].volume_percentage * 100\n",
    "            \n",
    "df_abnb_daily_proV = df_abnb_daily_proV.set_index('Date')          "
   ]
  },
  {
   "cell_type": "code",
   "execution_count": null,
   "id": "1306a923-4245-4c42-ba95-de48fd09ef35",
   "metadata": {
    "tags": []
   },
   "outputs": [],
   "source": [
    "df_abnb_daily_proV = df_abnb_daily_proV[(df_abnb_daily_proV.T != 0.).any()]\n",
    "df_abnb_daily_proV.style.format(precision = 5).background_gradient(axis=None, vmin=0, vmax=max(df_abnb_daily_proV.max()), cmap=\"Blues\")"
   ]
  },
  {
   "cell_type": "markdown",
   "id": "c8c343f1-d9a6-4ef8-bc1a-f0ad84fcdb14",
   "metadata": {},
   "source": [
    "##### Visualisation "
   ]
  },
  {
   "cell_type": "code",
   "execution_count": null,
   "id": "c032f9fb-9b88-4a0e-b14e-3025cf9192a9",
   "metadata": {},
   "outputs": [],
   "source": [
    "fig,(axC,axV) = plt.subplots(2,1,figsize=(25,10))\n",
    "for col in df_abnb_daily_proV.columns:\n",
    "    if not col == 'Date':\n",
    "        lab = df_xngs.loc[df_xngs.Value==col, 'Description'].values[0]\n",
    "        axV.plot(df_abnb_daily_proV[col], label=lab)\n",
    "        axC.plot(df_abnb_daily_proC[col])\n",
    "        \n",
    "fig.suptitle(('Trading Conditions Daily Proportions of Air BNB (ABNB-XNGS) for {0} days').format(my_days), fontsize=20)\n",
    "\n",
    "axC.set_xlabel(\"Date\",fontsize=14)\n",
    "axC.set_ylabel(\"Count (%)\",color=\"blue\",fontsize=14)\n",
    "\n",
    "axV.set_xlabel(\"Date\",fontsize=14)\n",
    "axV.set_ylabel(\"Volume (%)\",color=\"blue\",fontsize=14)\n",
    "\n",
    "# Highlight weekends based on the x-axis units\n",
    "xmin, xmax = axC.get_xlim()\n",
    "days = np.arange(np.floor(xmin), np.ceil(xmax)+2) # range of days in date units\n",
    "weekends = [(dt.weekday()>=5)|(dt.weekday()==0) for dt in mdates.num2date(days)]\n",
    "axC.fill_between(days, *axC.get_ylim(), where=weekends, alpha=.1)\n",
    "axC.set_xlim(xmin, xmax) # set limits back to default values\n",
    "axV.fill_between(days, *axV.get_ylim(), where=weekends, alpha=.1)\n",
    "axV.set_xlim(xmin, xmax) # set limits back to default values\n",
    "\n",
    "fig.legend()\n",
    "fig.show()"
   ]
  },
  {
   "cell_type": "markdown",
   "id": "7da70c57-3ae5-47ca-a392-9b4719046517",
   "metadata": {},
   "source": [
    "#### Quantities of Trading Conditions - Daily"
   ]
  },
  {
   "cell_type": "markdown",
   "id": "4fe98aef-0485-43cf-a575-8639e14b65bc",
   "metadata": {},
   "source": [
    "##### Quantities based on trades counts"
   ]
  },
  {
   "cell_type": "markdown",
   "id": "55179122-c430-4af3-87bf-c5c25f000d9a",
   "metadata": {},
   "source": [
    "DataFrame creation"
   ]
  },
  {
   "cell_type": "code",
   "execution_count": null,
   "id": "b04c0023-9d49-41e4-9d4f-9f9127d7a345",
   "metadata": {
    "tags": []
   },
   "outputs": [],
   "source": [
    "dates = [datetime.fromtimestamp(t.time_stamp.seconds) for t in abnb_daily]\n",
    "d = {'Date': dates}\n",
    "df_abnb_daily_quaC= pd.DataFrame(data = d)"
   ]
  },
  {
   "cell_type": "code",
   "execution_count": null,
   "id": "ebe740f6-bb6b-4ffb-9545-d66113de646d",
   "metadata": {},
   "outputs": [],
   "source": [
    "for daily in  abnb_daily:\n",
    "    for index in range(len(daily.data)):\n",
    "        if str(daily.data[index].value) in df_abnb_daily_quaC:\n",
    "            df_abnb_daily_quaC.iat[df_abnb_daily_quaC.index[df_abnb_daily_quaC['Date'] == datetime.fromtimestamp(daily.time_stamp.seconds)].tolist()[0], df_abnb_daily_quaC.columns.get_loc(str(daily.data[index].value))] = daily.data[index].count\n",
    "        else:\n",
    "            df_abnb_daily_quaC[str(daily.data[index].value)] = 0.0\n",
    "            df_abnb_daily_quaC.iat[df_abnb_daily_quaC.index[df_abnb_daily_quaC['Date'] == datetime.fromtimestamp(daily.time_stamp.seconds)].tolist()[0], df_abnb_daily_quaC.columns.get_loc(str(daily.data[index].value))] = daily.data[index].count\n",
    "            \n",
    "df_abnb_daily_quaC = df_abnb_daily_quaC.set_index('Date')          "
   ]
  },
  {
   "cell_type": "code",
   "execution_count": null,
   "id": "389d8ae2-732e-4d93-9b1d-d5983fcc46a2",
   "metadata": {
    "tags": []
   },
   "outputs": [],
   "source": [
    "df_abnb_daily_quaC = df_abnb_daily_quaC[(df_abnb_daily_quaC.T != 0.).any()]\n",
    "df_abnb_daily_quaC.style.format(precision = 0).background_gradient(axis=None, vmin=0, vmax=max(df_abnb_daily_quaC.max()), cmap=\"Blues\")"
   ]
  },
  {
   "cell_type": "markdown",
   "id": "826a43e4-6652-4b0f-85fe-e880a933d06b",
   "metadata": {},
   "source": [
    "##### Quantities based on trades volumes"
   ]
  },
  {
   "cell_type": "markdown",
   "id": "d910caa0-520f-484b-bfbd-df1b802a9d19",
   "metadata": {},
   "source": [
    "DataFrame creation"
   ]
  },
  {
   "cell_type": "code",
   "execution_count": null,
   "id": "e4f884f3-e014-4650-bb7a-206cb7f50259",
   "metadata": {
    "tags": []
   },
   "outputs": [],
   "source": [
    "dates = [datetime.fromtimestamp(t.time_stamp.seconds) for t in abnb_daily]\n",
    "d = {'Date': dates}\n",
    "df_abnb_daily_quaV= pd.DataFrame(data = d)"
   ]
  },
  {
   "cell_type": "code",
   "execution_count": null,
   "id": "43cdb8d3-caaa-44e4-8381-410534b94caa",
   "metadata": {},
   "outputs": [],
   "source": [
    "for daily in  abnb_daily:\n",
    "    for index in range(len(daily.data)):\n",
    "        if str(daily.data[index].value) in df_abnb_daily_quaV:\n",
    "            df_abnb_daily_quaV.iat[df_abnb_daily_quaV.index[df_abnb_daily_quaV['Date'] == datetime.fromtimestamp(daily.time_stamp.seconds)].tolist()[0], df_abnb_daily_quaV.columns.get_loc(str(daily.data[index].value))] = daily.data[index].volume\n",
    "        else:\n",
    "            df_abnb_daily_quaV[str(daily.data[index].value)] = 0.0\n",
    "            df_abnb_daily_quaV.iat[df_abnb_daily_quaV.index[df_abnb_daily_quaV['Date'] == datetime.fromtimestamp(daily.time_stamp.seconds)].tolist()[0], df_abnb_daily_quaV.columns.get_loc(str(daily.data[index].value))] = daily.data[index].volume\n",
    "            \n",
    "df_abnb_daily_quaV = df_abnb_daily_quaV.set_index('Date')          "
   ]
  },
  {
   "cell_type": "code",
   "execution_count": null,
   "id": "3b04a25b-1a45-47b4-81b9-473b613e5c88",
   "metadata": {
    "tags": []
   },
   "outputs": [],
   "source": [
    "df_abnb_daily_quaV = df_abnb_daily_quaV[(df_abnb_daily_quaV.T != 0.).any()]\n",
    "df_abnb_daily_quaV.style.format(precision = 0).background_gradient(axis=None, vmin=0, vmax=max(df_abnb_daily_quaV.max()), cmap=\"Blues\")"
   ]
  },
  {
   "cell_type": "markdown",
   "id": "3a2bd389-423c-484d-abdd-4843068bdf29",
   "metadata": {
    "tags": []
   },
   "source": [
    "##### Visualisation"
   ]
  },
  {
   "cell_type": "code",
   "execution_count": null,
   "id": "65e6ef04-f549-4d30-a18d-d8a879908fd2",
   "metadata": {},
   "outputs": [],
   "source": [
    "fig,(axC,axV) = plt.subplots(2,1,figsize=(25,10))\n",
    "for col in df_abnb_daily_quaV.columns:\n",
    "    if not col == 'Date':\n",
    "        lab = df_xngs.loc[df_xngs.Value==col, 'Description'].values[0]\n",
    "        axV.plot(df_abnb_daily_quaV[col], label=lab)\n",
    "        axC.plot(df_abnb_daily_quaC[col])\n",
    "        \n",
    "fig.suptitle('Trading Conditions Daily Quantities of Air BNB (ABNB-XNGS) 30 days', fontsize=20)\n",
    "\n",
    "axC.set_xlabel(\"Date\",fontsize=14)\n",
    "axC.set_ylabel(\"Count\",color=\"blue\",fontsize=14)\n",
    "\n",
    "axV.set_xlabel(\"Date\",fontsize=14)\n",
    "axV.set_ylabel(\"Volume\",color=\"blue\",fontsize=14)\n",
    "\n",
    "# Highlight weekends based on the x-axis units\n",
    "xmin, xmax = axC.get_xlim()\n",
    "days = np.arange(np.floor(xmin), np.ceil(xmax)+2) # range of days in date units\n",
    "weekends = [(dt.weekday()>=5)|(dt.weekday()==0) for dt in mdates.num2date(days)]\n",
    "axC.fill_between(days, *axC.get_ylim(), where=weekends, alpha=.1)\n",
    "axC.set_xlim(xmin, xmax) # set limits back to default values\n",
    "axV.fill_between(days, *axV.get_ylim(), where=weekends, alpha=.1)\n",
    "axV.set_xlim(xmin, xmax) # set limits back to default values\n",
    "\n",
    "fig.legend()\n",
    "fig.show()"
   ]
  },
  {
   "cell_type": "markdown",
   "id": "b36fcb36-fb3d-4628-a566-e8694df1ad92",
   "metadata": {
    "tags": []
   },
   "source": [
    "#### Export / Import\n",
    "\n",
    "Export"
   ]
  },
  {
   "cell_type": "code",
   "execution_count": null,
   "id": "0141c07d-5d78-42af-94fe-45a3fb83cc02",
   "metadata": {},
   "outputs": [],
   "source": [
    "#df_abnb_daily_quaC.to_csv('abnb_daily_quaC.csv', index=True)\n",
    "#df_abnb_daily_quaV.to_csv('abnb_daily_quaV.csv', index=True)\n",
    "#df_abnb_daily_proC.to_csv('abnb_daily_proC.csv', index=True)\n",
    "#df_abnb_daily_proV.to_csv('abnb_daily_proV.csv', index=True)"
   ]
  },
  {
   "cell_type": "markdown",
   "id": "d1b688a6-1984-4a81-a7bc-e2d11ab90370",
   "metadata": {},
   "source": [
    "Import"
   ]
  },
  {
   "cell_type": "code",
   "execution_count": null,
   "id": "72c43bdd-ab90-4303-b7b4-4f36e212cef6",
   "metadata": {},
   "outputs": [],
   "source": [
    "#df_abnb_daily_quaC = pd.read_csv (r'Path.csv')\n",
    "#df_abnb_daily_quaV = pd.read_csv (r'Path.csv')\n",
    "#df_abnb_daily_proC = pd.read_csv (r'Path.csv')\n",
    "#df_abnb_daily_proV = pd.read_csv (r'Path.csv')"
   ]
  },
  {
   "cell_type": "markdown",
   "id": "eae28c8d-70a6-43f9-b411-7ff4b1eca464",
   "metadata": {
    "tags": []
   },
   "source": [
    "### DocuSign (Docu)\n",
    "Let's analyse Docusign trades behaviour in front of the trading conditions."
   ]
  },
  {
   "cell_type": "markdown",
   "id": "f845d4aa-bb5c-4f99-8785-38222e66827e",
   "metadata": {},
   "source": [
    "#### Request"
   ]
  },
  {
   "cell_type": "code",
   "execution_count": null,
   "id": "b6805cf5-e65b-4746-bcae-e57635a3e52a",
   "metadata": {},
   "outputs": [],
   "source": [
    "request_docu_daily = tick_trade_conditions.TickTradeConditionsRequest(\n",
    "    identifier = identifier.Identifier(exchange = 'XNGS', ticker = 'DOCU'),\n",
    "    constraints = my_constraints_daily,\n",
    "    sampling = duration.Duration(seconds = 1 * 60 * 60 * 24),\n",
    ")"
   ]
  },
  {
   "cell_type": "code",
   "execution_count": null,
   "id": "96a604d5-a459-45cb-9d30-2f4094565fcc",
   "metadata": {},
   "outputs": [],
   "source": [
    "%%time\n",
    "try:\n",
    "    # open a gRPC channel\n",
    "    with channel_helpers.get_grpc_channel() as channel:  \n",
    "        \n",
    "        # instantiate the tick bars service\n",
    "        service = tick_trade_conditions_service.TickTradeConditionsServiceStub(channel)\n",
    "        \n",
    "        # process the tick bars request\n",
    "        docu_daily = []\n",
    "        my_metadata = [('authorization', token)]\n",
    "        for stat in service.TickTradeConditions(request=request_docu_daily, metadata=my_metadata):\n",
    "            docu_daily.append(stat)\n",
    "except grpc.RpcError as e:\n",
    "    display(e.code().name)\n",
    "    display(e.details())"
   ]
  },
  {
   "cell_type": "markdown",
   "id": "b64a3692-316e-4c00-8693-42d8ed5a5df5",
   "metadata": {},
   "source": [
    "#### Percentage of Trading Condition - Daily"
   ]
  },
  {
   "cell_type": "markdown",
   "id": "9d556d76-39c8-4893-8724-aa450f6da640",
   "metadata": {},
   "source": [
    "##### Percentage based on trades counts"
   ]
  },
  {
   "cell_type": "markdown",
   "id": "85ab8294-e67e-4ea3-96ac-7763aecd607a",
   "metadata": {},
   "source": [
    "DataFrame Creation"
   ]
  },
  {
   "cell_type": "code",
   "execution_count": null,
   "id": "a3faabbc-812f-4dcf-b231-5887fb4035c7",
   "metadata": {},
   "outputs": [],
   "source": [
    "dates = [datetime.fromtimestamp(t.time_stamp.seconds) for t in docu_daily]\n",
    "d = {'Date': dates}\n",
    "df_docu_daily_proC= pd.DataFrame(data = d)"
   ]
  },
  {
   "cell_type": "code",
   "execution_count": null,
   "id": "b5071031-c238-40c0-8f65-ecfc138f5020",
   "metadata": {},
   "outputs": [],
   "source": [
    "for daily in  docu_daily:\n",
    "    for index in range(len(daily.data)):\n",
    "        if str(daily.data[index].value) in df_docu_daily_proC:\n",
    "            df_docu_daily_proC.iat[df_docu_daily_proC.index[df_docu_daily_proC['Date'] == datetime.fromtimestamp(daily.time_stamp.seconds)].tolist()[0], df_docu_daily_proC.columns.get_loc(str(daily.data[index].value))] = daily.data[index].percentage * 100\n",
    "        else:\n",
    "            df_docu_daily_proC[str(daily.data[index].value)] = 0.0\n",
    "            df_docu_daily_proC.iat[df_docu_daily_proC.index[df_docu_daily_proC['Date'] == datetime.fromtimestamp(daily.time_stamp.seconds)].tolist()[0], df_docu_daily_proC.columns.get_loc(str(daily.data[index].value))] = daily.data[index].percentage * 100\n",
    "            \n",
    "df_docu_daily_proC = df_docu_daily_proC.set_index('Date')          "
   ]
  },
  {
   "cell_type": "code",
   "execution_count": null,
   "id": "8dd62f09-4da4-4335-823b-aca498b7297c",
   "metadata": {},
   "outputs": [],
   "source": [
    "df_docu_daily_proC = df_docu_daily_proC[(df_docu_daily_proC.T != 0.).any()]\n",
    "df_docu_daily_proC.style.format(precision = 5).background_gradient(axis=None, vmin=0, vmax=max(df_docu_daily_proC.max()), cmap=\"Blues\")"
   ]
  },
  {
   "cell_type": "markdown",
   "id": "6aec8436-b85b-4825-9337-322f01c19c41",
   "metadata": {},
   "source": [
    "##### Percentage based on trades volumes"
   ]
  },
  {
   "cell_type": "markdown",
   "id": "14e5cd16-6b8f-4762-a902-55300a9d36f4",
   "metadata": {},
   "source": [
    "DataFrame Creation"
   ]
  },
  {
   "cell_type": "code",
   "execution_count": null,
   "id": "5351f77f-4734-43ca-a084-f9b4326a3152",
   "metadata": {},
   "outputs": [],
   "source": [
    "dates = [datetime.fromtimestamp(t.time_stamp.seconds) for t in docu_daily]\n",
    "d = {'Date': dates}\n",
    "df_docu_daily_proV= pd.DataFrame(data = d)"
   ]
  },
  {
   "cell_type": "code",
   "execution_count": null,
   "id": "432bc41f-ae9c-419f-938e-fa356da4a83d",
   "metadata": {},
   "outputs": [],
   "source": [
    "for daily in  docu_daily:\n",
    "    for index in range(len(daily.data)):\n",
    "        if str(daily.data[index].value) in df_docu_daily_proV:\n",
    "            df_docu_daily_proV.iat[df_docu_daily_proV.index[df_docu_daily_proV['Date'] == datetime.fromtimestamp(daily.time_stamp.seconds)].tolist()[0], df_docu_daily_proV.columns.get_loc(str(daily.data[index].value))] = daily.data[index].volume_percentage * 100\n",
    "        else:\n",
    "            df_docu_daily_proV[str(daily.data[index].value)] = 0.0\n",
    "            df_docu_daily_proV.iat[df_docu_daily_proV.index[df_docu_daily_proV['Date'] == datetime.fromtimestamp(daily.time_stamp.seconds)].tolist()[0], df_docu_daily_proV.columns.get_loc(str(daily.data[index].value))] = daily.data[index].volume_percentage * 100\n",
    "            \n",
    "df_docu_daily_proV = df_docu_daily_proV.set_index('Date')          "
   ]
  },
  {
   "cell_type": "code",
   "execution_count": null,
   "id": "99995f04-2d6a-4e2c-9f91-1905a1799790",
   "metadata": {},
   "outputs": [],
   "source": [
    "\n",
    "df_docu_daily_proV = df_docu_daily_proV[(df_docu_daily_proV.T != 0.).any()]\n",
    "df_docu_daily_proV.style.format(precision = 5).background_gradient(axis=None, vmin=0, vmax=max(df_docu_daily_proV.max()), cmap=\"Blues\")"
   ]
  },
  {
   "cell_type": "markdown",
   "id": "df28f200-3698-4294-b97e-4fa8d3da8b7c",
   "metadata": {},
   "source": [
    "##### Visualisation "
   ]
  },
  {
   "cell_type": "code",
   "execution_count": null,
   "id": "b1959f48-0dec-477f-b79b-9f51c6ccad81",
   "metadata": {},
   "outputs": [],
   "source": [
    "fig,(axC,axV) = plt.subplots(2,1,figsize=(25,10))\n",
    "for col in df_docu_daily_proV.columns:\n",
    "    if not col == 'Date':\n",
    "        lab = df_xngs.loc[df_xngs.Value==col, 'Description'].values[0]\n",
    "        axV.plot(df_docu_daily_proV[col], label=lab)\n",
    "        axC.plot(df_docu_daily_proC[col])\n",
    "        \n",
    "fig.suptitle(('Trading Conditions Daily Proportions of docu (AAPL-XNGS) for {0} days').format(my_days), fontsize=20)\n",
    "\n",
    "axC.set_xlabel(\"Date\",fontsize=14)\n",
    "axC.set_ylabel(\"Count (%)\",color=\"blue\",fontsize=14)\n",
    "\n",
    "axV.set_xlabel(\"Date\",fontsize=14)\n",
    "axV.set_ylabel(\"Volume (%)\",color=\"blue\",fontsize=14)\n",
    "\n",
    "# Highlight weekends based on the x-axis units\n",
    "xmin, xmax = axC.get_xlim()\n",
    "days = np.arange(np.floor(xmin), np.ceil(xmax)+2) # range of days in date units\n",
    "weekends = [(dt.weekday()>=5)|(dt.weekday()==0) for dt in mdates.num2date(days)]\n",
    "axC.fill_between(days, *axC.get_ylim(), where=weekends, alpha=.1)\n",
    "axC.set_xlim(xmin, xmax) # set limits back to default values\n",
    "axV.fill_between(days, *axV.get_ylim(), where=weekends, alpha=.1)\n",
    "axV.set_xlim(xmin, xmax) # set limits back to default values\n",
    "\n",
    "fig.legend()\n",
    "fig.show()"
   ]
  },
  {
   "cell_type": "markdown",
   "id": "f4d5b101-1a34-42c0-93b4-4e4abc626523",
   "metadata": {},
   "source": [
    "#### Quantities of Trading Conditions - Daily"
   ]
  },
  {
   "cell_type": "markdown",
   "id": "62c911f2-fa1b-4687-8f68-bdd7c588bc36",
   "metadata": {},
   "source": [
    "##### Quantities based on trades counts"
   ]
  },
  {
   "cell_type": "markdown",
   "id": "41f2489b-b956-4e35-862a-c743f33b7102",
   "metadata": {},
   "source": [
    "DataFrame creation"
   ]
  },
  {
   "cell_type": "code",
   "execution_count": null,
   "id": "7978a89e-aa86-4725-b741-b4f19b9612af",
   "metadata": {},
   "outputs": [],
   "source": [
    "dates = [datetime.fromtimestamp(t.time_stamp.seconds) for t in docu_daily]\n",
    "d = {'Date': dates}\n",
    "df_docu_daily_quaC= pd.DataFrame(data = d)"
   ]
  },
  {
   "cell_type": "code",
   "execution_count": null,
   "id": "f47d55a3-9772-44f5-9c62-02bd7827b307",
   "metadata": {},
   "outputs": [],
   "source": [
    "for daily in  docu_daily:\n",
    "    for index in range(len(daily.data)):\n",
    "        if str(daily.data[index].value) in df_docu_daily_quaC:\n",
    "            df_docu_daily_quaC.iat[df_docu_daily_quaC.index[df_docu_daily_quaC['Date'] == datetime.fromtimestamp(daily.time_stamp.seconds)].tolist()[0], df_docu_daily_quaC.columns.get_loc(str(daily.data[index].value))] = daily.data[index].count\n",
    "        else:\n",
    "            df_docu_daily_quaC[str(daily.data[index].value)] = 0.0\n",
    "            df_docu_daily_quaC.iat[df_docu_daily_quaC.index[df_docu_daily_quaC['Date'] == datetime.fromtimestamp(daily.time_stamp.seconds)].tolist()[0], df_docu_daily_quaC.columns.get_loc(str(daily.data[index].value))] = daily.data[index].count\n",
    "            \n",
    "df_docu_daily_quaC = df_docu_daily_quaC.set_index('Date')          "
   ]
  },
  {
   "cell_type": "code",
   "execution_count": null,
   "id": "0fab4f35-fd7a-484d-b456-e14bdf4d1f8a",
   "metadata": {},
   "outputs": [],
   "source": [
    "df_docu_daily_quaC = df_docu_daily_quaC[(df_docu_daily_quaC.T != 0.).any()]\n",
    "df_docu_daily_quaC.style.format(precision = 0).background_gradient(axis=None, vmin=0, vmax=max(df_docu_daily_quaC.max()), cmap=\"Blues\")"
   ]
  },
  {
   "cell_type": "markdown",
   "id": "0cdf9223-4bfd-49e2-a486-8cb038d7e3dc",
   "metadata": {},
   "source": [
    "##### Quantities based on trades volumes"
   ]
  },
  {
   "cell_type": "markdown",
   "id": "c0830b6c-8a01-4882-b2a4-e35598d8480f",
   "metadata": {},
   "source": [
    "DataFrame creation"
   ]
  },
  {
   "cell_type": "code",
   "execution_count": null,
   "id": "77119788-0273-4921-b958-1a0dc20af5d5",
   "metadata": {},
   "outputs": [],
   "source": [
    "dates = [datetime.fromtimestamp(t.time_stamp.seconds) for t in docu_daily]\n",
    "d = {'Date': dates}\n",
    "df_docu_daily_quaV= pd.DataFrame(data = d)"
   ]
  },
  {
   "cell_type": "code",
   "execution_count": null,
   "id": "12957b5c-b63f-4d5c-be6c-108e76a60db7",
   "metadata": {},
   "outputs": [],
   "source": [
    "for daily in  docu_daily:\n",
    "    for index in range(len(daily.data)):\n",
    "        if str(daily.data[index].value) in df_docu_daily_quaV:\n",
    "            df_docu_daily_quaV.iat[df_docu_daily_quaV.index[df_docu_daily_quaV['Date'] == datetime.fromtimestamp(daily.time_stamp.seconds)].tolist()[0], df_docu_daily_quaV.columns.get_loc(str(daily.data[index].value))] = daily.data[index].volume\n",
    "        else:\n",
    "            df_docu_daily_quaV[str(daily.data[index].value)] = 0.0\n",
    "            df_docu_daily_quaV.iat[df_docu_daily_quaV.index[df_docu_daily_quaV['Date'] == datetime.fromtimestamp(daily.time_stamp.seconds)].tolist()[0], df_docu_daily_quaV.columns.get_loc(str(daily.data[index].value))] = daily.data[index].volume\n",
    "            \n",
    "df_docu_daily_quaV = df_docu_daily_quaV.set_index('Date')          "
   ]
  },
  {
   "cell_type": "code",
   "execution_count": null,
   "id": "9a9ee30b-9813-4631-a8ed-677cf24efee7",
   "metadata": {},
   "outputs": [],
   "source": [
    "df_docu_daily_quaV = df_docu_daily_quaV[(df_docu_daily_quaV.T != 0.).any()]\n",
    "df_docu_daily_quaV.style.format(precision = 0).background_gradient(axis=None, vmin=0, vmax=max(df_docu_daily_quaV.max()), cmap=\"Blues\")"
   ]
  },
  {
   "cell_type": "markdown",
   "id": "77d93fe1-951e-4967-bbdb-6decf2abf685",
   "metadata": {},
   "source": [
    "##### Visualisation"
   ]
  },
  {
   "cell_type": "code",
   "execution_count": null,
   "id": "04c06588-f25a-456a-a753-7eec77efab1b",
   "metadata": {},
   "outputs": [],
   "source": [
    "fig,(axC,axV) = plt.subplots(2,1,figsize=(25,10))\n",
    "for col in df_docu_daily_quaV.columns:\n",
    "    if not col == 'Date':\n",
    "        lab = df_xngs.loc[df_xngs.Value==col, 'Description'].values[0]\n",
    "        axV.plot(df_docu_daily_quaV[col], label=lab)\n",
    "        axC.plot(df_docu_daily_quaC[col])\n",
    "        \n",
    "fig.suptitle('Trading Conditions Daily Quantities of docu (AAPL-XNGS) 100 days', fontsize=20)\n",
    "\n",
    "axC.set_xlabel(\"Date\",fontsize=14)\n",
    "axC.set_ylabel(\"Count\",color=\"blue\",fontsize=14)\n",
    "\n",
    "axV.set_xlabel(\"Date\",fontsize=14)\n",
    "axV.set_ylabel(\"Volume\",color=\"blue\",fontsize=14)\n",
    "\n",
    "# Highlight weekends based on the x-axis units\n",
    "xmin, xmax = axC.get_xlim()\n",
    "days = np.arange(np.floor(xmin), np.ceil(xmax)+2) # range of days in date units\n",
    "weekends = [(dt.weekday()>=5)|(dt.weekday()==0) for dt in mdates.num2date(days)]\n",
    "axC.fill_between(days, *axC.get_ylim(), where=weekends, alpha=.1)\n",
    "axC.set_xlim(xmin, xmax) # set limits back to default values\n",
    "axV.fill_between(days, *axV.get_ylim(), where=weekends, alpha=.1)\n",
    "axV.set_xlim(xmin, xmax) # set limits back to default values\n",
    "\n",
    "fig.legend()\n",
    "fig.show()"
   ]
  },
  {
   "cell_type": "markdown",
   "id": "a3121ab0-3a7a-4298-9518-c9ded52bf4c2",
   "metadata": {},
   "source": [
    "#### Export / Import\n",
    "\n",
    "Export"
   ]
  },
  {
   "cell_type": "code",
   "execution_count": null,
   "id": "4a0304e2-a66b-4446-98e2-deb7a40c7ace",
   "metadata": {},
   "outputs": [],
   "source": [
    "#df_docu_daily_quaC.to_csv('docu_daily_quaC.csv', index=True)\n",
    "#df_docu_daily_quaV.to_csv('docu_daily_quaV.csv', index=True)\n",
    "#df_docu_daily_proC.to_csv('docu_daily_proC.csv', index=True)\n",
    "#df_docu_daily_proV.to_csv('docu_daily_proV.csv', index=True)"
   ]
  },
  {
   "cell_type": "markdown",
   "id": "9495d716-7afc-4417-a3ed-0cba1bba6e16",
   "metadata": {},
   "source": [
    "Import"
   ]
  },
  {
   "cell_type": "code",
   "execution_count": null,
   "id": "1f14d3bb-8c58-40e8-9dde-fd72c7359ab4",
   "metadata": {},
   "outputs": [],
   "source": [
    "#df_docu_daily_quaC = pd.read_csv (r'Path.csv')\n",
    "#df_docu_daily_quaV = pd.read_csv (r'Path.csv')\n",
    "#df_docu_daily_proC = pd.read_csv (r'Path.csv')\n",
    "#df_docu_daily_proV = pd.read_csv (r'Path.csv')"
   ]
  },
  {
   "cell_type": "markdown",
   "id": "b984cf70-f935-4937-956d-a6d5e02240c4",
   "metadata": {
    "tags": []
   },
   "source": [
    "***\n",
    "\n",
    "## V - Intraday Study"
   ]
  },
  {
   "cell_type": "code",
   "execution_count": null,
   "id": "bae199e8-2508-48b1-9170-24cd3fd6cf27",
   "metadata": {},
   "outputs": [],
   "source": [
    "today = datetime.today()\n",
    "\n",
    "my_intervals_days = 0 # last x days for the study\n",
    "my_sampling = duration.Duration(seconds = 1 * 60 * 5) # time interval for the intraday study in sec\n",
    "\n",
    "#start = today - timedelta(days=my_intervals)\n",
    "start = datetime(year = 2022, month = 4, day = 18)\n",
    "end = start + timedelta(days=my_intervals_days)\n",
    "\n",
    "date_interval_intraday = dateinterval.DateInterval(\n",
    "    start_date = date.Date(year = start.year, month = start.month, day = start.day), \n",
    "    end_date = date.Date(year = end.year, month = end.month, day = end.day)\n",
    ")\n",
    "\n",
    "# build the market data request time interval (we are using Google time format)\n",
    "# UTC time zone\n",
    "time_interval_intraday = timeinterval.TimeInterval(\n",
    "    start_time = timeofday.TimeOfDay(hours = 10, minutes = 30, seconds = 0), \n",
    "    end_time = timeofday.TimeOfDay(hours = 23, minutes = 59, seconds = 59)\n",
    ")\n",
    "\n",
    "my_constraints_intraday = constraints.Constraints(\n",
    "    date_intervals = [date_interval_intraday],\n",
    "    #time_intervals = [time_interval_intraday],\n",
    "    excluded_days = [dayofweek.SUNDAY, dayofweek.SATURDAY]\n",
    ")"
   ]
  },
  {
   "cell_type": "markdown",
   "id": "3a1fb88c-a49d-4efe-8d8e-499df2a14cec",
   "metadata": {
    "tags": []
   },
   "source": [
    "***\n",
    "### Apple (AAPL)"
   ]
  },
  {
   "cell_type": "markdown",
   "id": "6202e485-bc25-47a1-94dc-afccc8fef92c",
   "metadata": {},
   "source": [
    "#### Request"
   ]
  },
  {
   "cell_type": "code",
   "execution_count": null,
   "id": "a61826c6-e8d5-44cb-b88b-c636d385569d",
   "metadata": {},
   "outputs": [],
   "source": [
    "request_intraday_apple = tick_trade_conditions.TickTradeConditionsRequest(\n",
    "    identifier = identifier.Identifier(exchange = 'XNGS', ticker = 'AAPL'),\n",
    "    constraints = my_constraints_intraday,\n",
    "    sampling = my_sampling\n",
    ")"
   ]
  },
  {
   "cell_type": "code",
   "execution_count": null,
   "id": "b05bb463-8bf8-44df-8152-337c5ada2965",
   "metadata": {},
   "outputs": [],
   "source": [
    "%%time\n",
    "try:\n",
    "    # open a gRPC channel\n",
    "    with channel_helpers.get_grpc_channel() as channel:  \n",
    "        \n",
    "        # instantiate the tick apple_bars service\n",
    "        service = tick_trade_conditions_service.TickTradeConditionsServiceStub(channel)\n",
    "        \n",
    "        # process the tick apple_bars request\n",
    "        apple_intradays = []\n",
    "        my_metadata = [('authorization', token)]\n",
    "        for stat in service.TickTradeConditions(request=request_intraday_apple, metadata=my_metadata):\n",
    "            apple_intradays.append(stat)\n",
    "except grpc.RpcError as e:\n",
    "    display(e.code().name)\n",
    "    display(e.details())"
   ]
  },
  {
   "cell_type": "markdown",
   "id": "8e3a7ffd-c17e-477d-87f3-39b214076532",
   "metadata": {
    "tags": []
   },
   "source": [
    "#### Percentage of Trading Condition - Intraday"
   ]
  },
  {
   "cell_type": "markdown",
   "id": "7747fe05-3614-4a15-9d5e-6b33dd9ef52d",
   "metadata": {
    "tags": []
   },
   "source": [
    "##### Percentage based on Trades counts\n",
    "DataFrame Creation"
   ]
  },
  {
   "cell_type": "code",
   "execution_count": null,
   "id": "e667f79d-8235-4449-85d9-5acfc39e0dd9",
   "metadata": {
    "tags": []
   },
   "outputs": [],
   "source": [
    "dates = [datetime.fromtimestamp(t.time_stamp.seconds) for t in apple_intradays]\n",
    "d_apple_intraday_proC = {'Date': dates}\n",
    "df_apple_intraday_proC= pd.DataFrame(data = d_apple_intraday_proC)"
   ]
  },
  {
   "cell_type": "code",
   "execution_count": null,
   "id": "2f08af4d-b632-4744-af3f-d8b8f7fca981",
   "metadata": {},
   "outputs": [],
   "source": [
    "for intraday in  apple_intradays:\n",
    "    for index in range(len(intraday.data)):\n",
    "        if str(intraday.data[index].value) in df_apple_intraday_proC:\n",
    "            df_apple_intraday_proC.iat[df_apple_intraday_proC.index[df_apple_intraday_proC['Date'] == datetime.fromtimestamp(intraday.time_stamp.seconds)].tolist()[0], df_apple_intraday_proC.columns.get_loc(str(intraday.data[index].value))] = intraday.data[index].percentage * 100\n",
    "        else:\n",
    "            df_apple_intraday_proC[str(intraday.data[index].value)] = 0.0\n",
    "            df_apple_intraday_proC.iat[df_apple_intraday_proC.index[df_apple_intraday_proC['Date'] == datetime.fromtimestamp(intraday.time_stamp.seconds)].tolist()[0], df_apple_intraday_proC.columns.get_loc(str(intraday.data[index].value))] = intraday.data[index].percentage * 100\n",
    "            \n",
    "df_apple_intraday_proC = df_apple_intraday_proC.set_index('Date')          "
   ]
  },
  {
   "cell_type": "code",
   "execution_count": null,
   "id": "e72e1c17-fd67-4f16-b199-c1b4ee060961",
   "metadata": {
    "tags": []
   },
   "outputs": [],
   "source": [
    "df_apple_intraday_proC = df_apple_intraday_proC[(df_apple_intraday_proC.T != 0.).any()]\n",
    "df_apple_intraday_proC.head(10).style.format(precision = 5).background_gradient(axis=None, vmin=0, vmax=max(df_apple_intraday_proC.max()), cmap=\"Blues\")"
   ]
  },
  {
   "cell_type": "markdown",
   "id": "c6480e56-10b0-420e-9599-9c66a9505b3e",
   "metadata": {
    "tags": []
   },
   "source": [
    "##### Percentage based on trades volumes\n",
    "\n",
    "DataFrame Creation"
   ]
  },
  {
   "cell_type": "code",
   "execution_count": null,
   "id": "71af8984-0ddc-487e-ae9a-9c03e8b6a408",
   "metadata": {},
   "outputs": [],
   "source": [
    "dates = [datetime.fromtimestamp(t.time_stamp.seconds) for t in apple_intradays]\n",
    "d_apple_intraday_proV = {'Date': dates}\n",
    "df_apple_intraday_proV= pd.DataFrame(data = d_apple_intraday_proV)"
   ]
  },
  {
   "cell_type": "code",
   "execution_count": null,
   "id": "160bcc73-9a3e-4528-85f8-10106b5ae107",
   "metadata": {},
   "outputs": [],
   "source": [
    "for intraday in  apple_intradays:\n",
    "    for index in range(len(intraday.data)):\n",
    "        if str(intraday.data[index].value) in df_apple_intraday_proV:\n",
    "            df_apple_intraday_proV.iat[df_apple_intraday_proV.index[df_apple_intraday_proV['Date'] == datetime.fromtimestamp(intraday.time_stamp.seconds)].tolist()[0], df_apple_intraday_proV.columns.get_loc(str(intraday.data[index].value))] = intraday.data[index].volume_percentage * 100\n",
    "        else:\n",
    "            df_apple_intraday_proV[str(intraday.data[index].value)] = 0.0\n",
    "            df_apple_intraday_proV.iat[df_apple_intraday_proV.index[df_apple_intraday_proV['Date'] == datetime.fromtimestamp(intraday.time_stamp.seconds)].tolist()[0], df_apple_intraday_proV.columns.get_loc(str(intraday.data[index].value))] = intraday.data[index].volume_percentage * 100\n",
    "            \n",
    "df_apple_intraday_proV = df_apple_intraday_proV.set_index('Date')          "
   ]
  },
  {
   "cell_type": "code",
   "execution_count": null,
   "id": "e569b298-ee4e-4a2c-93aa-60fcdc6d9184",
   "metadata": {},
   "outputs": [],
   "source": [
    "df_apple_intraday_proV = df_apple_intraday_proV[(df_apple_intraday_proV.T != 0.).any()]\n",
    "df_apple_intraday_proV.head(10).style.format(precision = 5).background_gradient(axis=None, vmin=0, vmax=max(df_apple_intraday_proV.max()), cmap=\"Blues\")"
   ]
  },
  {
   "cell_type": "markdown",
   "id": "d214275d-cae3-448f-8233-879d0a86a43a",
   "metadata": {},
   "source": [
    "##### Visualisation "
   ]
  },
  {
   "cell_type": "code",
   "execution_count": null,
   "id": "8bf09e9a-f461-488b-b077-62e6f4701b1f",
   "metadata": {},
   "outputs": [],
   "source": [
    "fig,(axC,axV) = plt.subplots(2,1,figsize=(25,10))\n",
    "for col in df_apple_intraday_proV.columns:\n",
    "    if not col == 'Date':\n",
    "        lab = df_xngs.loc[df_xngs.Value==col, 'Description'].values[0]\n",
    "        axV.plot(df_apple_intraday_proV[col], label=lab)\n",
    "        axC.plot(df_apple_intraday_proC[col])\n",
    "        \n",
    "axC.set_xlabel(\"Date\",fontsize=14)\n",
    "axC.set_ylabel(\"Count (%)\",color=\"blue\",fontsize=14) \n",
    "axV.set_xlabel(\"Date\",fontsize=14)\n",
    "axV.set_ylabel(\"Volume (%)\",color=\"blue\",fontsize=14)\n",
    "       \n",
    "\n",
    "\n",
    "fig.suptitle('Trading Conditions Intraday Proportions of Apple (AAPL-XNGS) for intradays data', fontsize=20)\n",
    "fig.legend()\n",
    "plt.show()"
   ]
  },
  {
   "cell_type": "markdown",
   "id": "79ad63d6-2672-45aa-a75a-01c8fc474c86",
   "metadata": {
    "tags": []
   },
   "source": [
    "#### Quantities of Trading Conditions - Intraday"
   ]
  },
  {
   "cell_type": "markdown",
   "id": "c797c36c-c7ab-4597-bdf1-ca097d643848",
   "metadata": {},
   "source": [
    "##### Quantities based on trades counts"
   ]
  },
  {
   "cell_type": "markdown",
   "id": "232ea36d-6541-404a-977e-c37b89b460b8",
   "metadata": {},
   "source": [
    "DataFrame creation"
   ]
  },
  {
   "cell_type": "code",
   "execution_count": null,
   "id": "ffe5ddbc-be9f-4a2b-92e5-678da6f13709",
   "metadata": {},
   "outputs": [],
   "source": [
    "dates = [datetime.fromtimestamp(t.time_stamp.seconds) for t in apple_intradays]\n",
    "d_apple_intraday_quaC = {'Date': dates}\n",
    "df_apple_intraday_quaC= pd.DataFrame(data = d_apple_intraday_quaC)"
   ]
  },
  {
   "cell_type": "code",
   "execution_count": null,
   "id": "24f5008b-622b-4171-a3ef-f1801e7f163d",
   "metadata": {},
   "outputs": [],
   "source": [
    "for intraday in  apple_intradays:\n",
    "    for index in range(len(intraday.data)):\n",
    "        if str(intraday.data[index].value) in df_apple_intraday_quaC:\n",
    "            df_apple_intraday_quaC.iat[df_apple_intraday_quaC.index[df_apple_intraday_quaC['Date'] == datetime.fromtimestamp(intraday.time_stamp.seconds)].tolist()[0], df_apple_intraday_quaC.columns.get_loc(str(intraday.data[index].value))] = intraday.data[index].count\n",
    "        else:\n",
    "            df_apple_intraday_quaC[str(intraday.data[index].value)] = 0.0\n",
    "            df_apple_intraday_quaC.iat[df_apple_intraday_quaC.index[df_apple_intraday_quaC['Date'] == datetime.fromtimestamp(intraday.time_stamp.seconds)].tolist()[0], df_apple_intraday_quaC.columns.get_loc(str(intraday.data[index].value))] = intraday.data[index].count\n",
    "            \n",
    "df_apple_intraday_quaC = df_apple_intraday_quaC.set_index('Date')          "
   ]
  },
  {
   "cell_type": "code",
   "execution_count": null,
   "id": "d5bb37ea-f519-40f5-ac37-1be2a25f73e4",
   "metadata": {
    "tags": []
   },
   "outputs": [],
   "source": [
    "df_apple_intraday_quaC = df_apple_intraday_quaC[(df_apple_intraday_quaC.T != 0.).any()]\n",
    "df_apple_intraday_quaC.head(10).style.format(precision = 0).background_gradient(axis=None, vmin=0, vmax=max(df_apple_intraday_quaC.max()), cmap=\"Blues\")"
   ]
  },
  {
   "cell_type": "markdown",
   "id": "6f8245a6-735a-4a67-8005-ee4710dd53b4",
   "metadata": {
    "tags": []
   },
   "source": [
    "##### Quantities based on trades volumes"
   ]
  },
  {
   "cell_type": "markdown",
   "id": "00a11ba5-8d71-420a-a5ac-c7d0a3e8dbdd",
   "metadata": {},
   "source": [
    "DataFrame creation"
   ]
  },
  {
   "cell_type": "code",
   "execution_count": null,
   "id": "80fd9df6-4a32-4724-975a-e5476cbadbc4",
   "metadata": {},
   "outputs": [],
   "source": [
    "dates = [datetime.fromtimestamp(t.time_stamp.seconds) for t in apple_intradays]\n",
    "d_apple_intraday_quaV = {'Date': dates}\n",
    "df_apple_intraday_quaV= pd.DataFrame(data = d_apple_intraday_quaV)"
   ]
  },
  {
   "cell_type": "code",
   "execution_count": null,
   "id": "465eab34-e7cc-4de0-b582-b818f7227952",
   "metadata": {},
   "outputs": [],
   "source": [
    "for intraday in  apple_intradays:\n",
    "    for index in range(len(intraday.data)):\n",
    "        if str(intraday.data[index].value) in df_apple_intraday_quaV:\n",
    "            df_apple_intraday_quaV.iat[df_apple_intraday_quaV.index[df_apple_intraday_quaV['Date'] == datetime.fromtimestamp(intraday.time_stamp.seconds)].tolist()[0], df_apple_intraday_quaV.columns.get_loc(str(intraday.data[index].value))] = intraday.data[index].volume\n",
    "        else:\n",
    "            df_apple_intraday_quaV[str(intraday.data[index].value)] = 0.0\n",
    "            df_apple_intraday_quaV.iat[df_apple_intraday_quaV.index[df_apple_intraday_quaV['Date'] == datetime.fromtimestamp(intraday.time_stamp.seconds)].tolist()[0], df_apple_intraday_quaV.columns.get_loc(str(intraday.data[index].value))] = intraday.data[index].volume\n",
    "            \n",
    "df_apple_intraday_quaV = df_apple_intraday_quaV.set_index('Date')          "
   ]
  },
  {
   "cell_type": "code",
   "execution_count": null,
   "id": "bf3e71a6-42cf-4390-bd3c-d0991a855259",
   "metadata": {
    "tags": []
   },
   "outputs": [],
   "source": [
    "df_apple_intraday_quaV = df_apple_intraday_quaV[(df_apple_intraday_quaV.T != 0.).any()]\n",
    "df_apple_intraday_quaV.head(10).style.format(precision = 0).background_gradient(axis=None, vmin=0, vmax=max(df_apple_intraday_quaV.max()), cmap=\"Blues\")"
   ]
  },
  {
   "cell_type": "markdown",
   "id": "f1184557-52f6-448c-9980-b0dd535121e1",
   "metadata": {},
   "source": [
    "##### Visualisation"
   ]
  },
  {
   "cell_type": "code",
   "execution_count": null,
   "id": "0d00972f-22d3-4a15-9b6c-00f5a43686cd",
   "metadata": {},
   "outputs": [],
   "source": [
    "fig,(axC,axV) = plt.subplots(2,1,figsize=(25,10))\n",
    "for col in df_apple_intraday_quaV.columns:\n",
    "    if not col == 'Date':\n",
    "        lab = df_xngs.loc[df_xngs.Value==col, 'Description'].values[0]\n",
    "        axV.plot(df_apple_intraday_quaV[col], label=lab)\n",
    "        axC.plot(df_apple_intraday_quaC[col])\n",
    "\n",
    "axC.set_xlabel(\"Date\",fontsize=14)\n",
    "axC.set_ylabel(\"Count\",color=\"blue\",fontsize=14)\n",
    "axV.set_xlabel(\"Date\",fontsize=14)\n",
    "axV.set_ylabel(\"Volume\",color=\"blue\",fontsize=14)\n",
    "\n",
    "fig.suptitle('Trading Conditions Intraday Quantities of Apple (AAPL-XNGS) for intradays', fontsize=20)\n",
    "fig.legend(fontsize=14)\n",
    "plt.show()"
   ]
  },
  {
   "cell_type": "markdown",
   "id": "11f67632-d422-44ee-9dba-3f5c46124a3d",
   "metadata": {
    "tags": [],
    "toc-hr-collapsed": true
   },
   "source": [
    "#### Export / Import\n",
    "\n",
    "Export"
   ]
  },
  {
   "cell_type": "code",
   "execution_count": null,
   "id": "1b8517b3-a903-4292-ae6e-17a2dbcf0629",
   "metadata": {},
   "outputs": [],
   "source": [
    "#df_apple_intraday_quaC.to_csv('apple_intradays_quaC.csv', index=True)\n",
    "#df_apple_intraday_quaV.to_csv('apple_intradays_quaV.csv', index=True)\n",
    "#df_apple_intraday_proC.to_csv('apple_intradays_proC.csv', index=True)\n",
    "#df_apple_intraday_proV.to_csv('apple_intradays_proV.csv', index=True)"
   ]
  },
  {
   "cell_type": "markdown",
   "id": "585bbba4-3c64-4ff9-a610-4cf8d8ab88ae",
   "metadata": {},
   "source": [
    "Import"
   ]
  },
  {
   "cell_type": "code",
   "execution_count": null,
   "id": "5a896ab9-bb6c-47c3-8a7d-8b3d75de5448",
   "metadata": {
    "tags": []
   },
   "outputs": [],
   "source": [
    "#df_apple_intraday_quaC = pd.read_csv (r'Path.csv')\n",
    "#df_apple_intraday_quaV = pd.read_csv (r'Path.csv')\n",
    "#df_apple_intradays_proC = pd.read_csv (r'Path.csv')\n",
    "#df_apple_intradays_proV = pd.read_csv (r'Path.csv')"
   ]
  },
  {
   "cell_type": "markdown",
   "id": "818800a3-2a16-4baf-877c-58a460329dcb",
   "metadata": {
    "tags": []
   },
   "source": [
    "***\n",
    "\n",
    "### Air BNB (ABNB)\n"
   ]
  },
  {
   "cell_type": "markdown",
   "id": "0118d70c-3f77-4c09-9e94-05855289e0d4",
   "metadata": {},
   "source": [
    "#### Request"
   ]
  },
  {
   "cell_type": "code",
   "execution_count": null,
   "id": "cdc13c1b-2fa1-48db-b845-90ee9f097492",
   "metadata": {},
   "outputs": [],
   "source": [
    "request_intraday_abnb = tick_trade_conditions.TickTradeConditionsRequest(\n",
    "    identifier = identifier.Identifier(exchange = 'XNGS', ticker = 'ABNB'),\n",
    "    constraints = my_constraints_intraday,\n",
    "    sampling = my_sampling\n",
    ")"
   ]
  },
  {
   "cell_type": "code",
   "execution_count": null,
   "id": "ecbdbe82-75c2-460e-87a6-0e25281fa96d",
   "metadata": {},
   "outputs": [],
   "source": [
    "%%time\n",
    "try:\n",
    "    # open a gRPC channel\n",
    "    with channel_helpers.get_grpc_channel() as channel:  \n",
    "        \n",
    "        # instantiate the tick apple_bars service\n",
    "        service = tick_trade_conditions_service.TickTradeConditionsServiceStub(channel)\n",
    "        \n",
    "        # process the tick apple_bars request\n",
    "        abnb_intraday = []\n",
    "        my_metadata = [('authorization', token)]\n",
    "        for stat in service.TickTradeConditions(request=request_intraday_abnb, metadata=my_metadata):\n",
    "            abnb_intraday.append(stat)\n",
    "except grpc.RpcError as e:\n",
    "    display(e.code().name)\n",
    "    display(e.details())"
   ]
  },
  {
   "cell_type": "markdown",
   "id": "7272ffe3-68f2-4a28-85f7-101cb69ee9af",
   "metadata": {
    "tags": []
   },
   "source": [
    "#### Percentage of Trading Condition - Intraday"
   ]
  },
  {
   "cell_type": "markdown",
   "id": "ae8e6754-856c-4f68-8a84-51e3679aee23",
   "metadata": {
    "tags": []
   },
   "source": [
    "##### Percentage based on Trades counts\n",
    "DataFrame Creation"
   ]
  },
  {
   "cell_type": "code",
   "execution_count": null,
   "id": "f50b8791-08f2-4f04-8e0c-80a699efb389",
   "metadata": {
    "tags": []
   },
   "outputs": [],
   "source": [
    "dates = [datetime.fromtimestamp(t.time_stamp.seconds) for t in abnb_intraday]\n",
    "d_abnb_intraday_proC = {'Date': dates}\n",
    "df_abnb_intraday_proC= pd.DataFrame(data = d_abnb_intraday_proC)"
   ]
  },
  {
   "cell_type": "code",
   "execution_count": null,
   "id": "6ee3c287-3bc1-482c-94ed-f51b888b938b",
   "metadata": {},
   "outputs": [],
   "source": [
    "for intraday in  abnb_intraday:\n",
    "    for index in range(len(intraday.data)):\n",
    "        if str(intraday.data[index].value) in df_abnb_intraday_proC:\n",
    "            df_abnb_intraday_proC.iat[df_abnb_intraday_proC.index[df_abnb_intraday_proC['Date'] == datetime.fromtimestamp(intraday.time_stamp.seconds)].tolist()[0], df_abnb_intraday_proC.columns.get_loc(str(intraday.data[index].value))] = intraday.data[index].percentage * 100\n",
    "        else:\n",
    "            df_abnb_intraday_proC[str(intraday.data[index].value)] = 0.0\n",
    "            df_abnb_intraday_proC.iat[df_abnb_intraday_proC.index[df_abnb_intraday_proC['Date'] == datetime.fromtimestamp(intraday.time_stamp.seconds)].tolist()[0], df_abnb_intraday_proC.columns.get_loc(str(intraday.data[index].value))] = intraday.data[index].percentage * 100\n",
    "            \n",
    "df_abnb_intraday_proC = df_abnb_intraday_proC.set_index('Date')          "
   ]
  },
  {
   "cell_type": "code",
   "execution_count": null,
   "id": "28269317-3e40-4dcf-92bd-1152eb14bd6b",
   "metadata": {
    "tags": []
   },
   "outputs": [],
   "source": [
    "df_abnb_intraday_proC = df_abnb_intraday_proC[(df_abnb_intraday_proC.T != 0.).any()]\n",
    "df_abnb_intraday_proC.head(10).style.format(precision = 5).background_gradient(axis=None, vmin=0, vmax=max(df_abnb_intraday_proC.max()), cmap=\"Blues\")"
   ]
  },
  {
   "cell_type": "markdown",
   "id": "65c8f61e-e301-4a9f-b7e2-0e8f04d3d6ed",
   "metadata": {
    "tags": []
   },
   "source": [
    "##### Percentage based on trades volumes\n",
    "\n",
    "DataFrame Creation"
   ]
  },
  {
   "cell_type": "code",
   "execution_count": null,
   "id": "eb1b659f-daa0-4f27-824a-305e1f9f21d1",
   "metadata": {},
   "outputs": [],
   "source": [
    "dates = [datetime.fromtimestamp(t.time_stamp.seconds) for t in abnb_intraday]\n",
    "d_abnb_intraday_proC = {'Date': dates}\n",
    "df_abnb_intraday_proV= pd.DataFrame(data = d_abnb_intraday_proC)"
   ]
  },
  {
   "cell_type": "code",
   "execution_count": null,
   "id": "f2b86c10-1854-490a-a401-8584242c68e4",
   "metadata": {},
   "outputs": [],
   "source": [
    "for intraday in  abnb_intraday:\n",
    "    for index in range(len(intraday.data)):\n",
    "        if str(intraday.data[index].value) in df_abnb_intraday_proV:\n",
    "            df_abnb_intraday_proV.iat[df_abnb_intraday_proV.index[df_abnb_intraday_proV['Date'] == datetime.fromtimestamp(intraday.time_stamp.seconds)].tolist()[0], df_abnb_intraday_proV.columns.get_loc(str(intraday.data[index].value))] = intraday.data[index].volume_percentage * 100\n",
    "        else:\n",
    "            df_abnb_intraday_proV[str(intraday.data[index].value)] = 0.0\n",
    "            df_abnb_intraday_proV.iat[df_abnb_intraday_proV.index[df_abnb_intraday_proV['Date'] == datetime.fromtimestamp(intraday.time_stamp.seconds)].tolist()[0], df_abnb_intraday_proV.columns.get_loc(str(intraday.data[index].value))] = intraday.data[index].volume_percentage * 100\n",
    "            \n",
    "df_abnb_intraday_proV = df_abnb_intraday_proV.set_index('Date')          "
   ]
  },
  {
   "cell_type": "code",
   "execution_count": null,
   "id": "d92ab1e4-0831-4137-8513-d9501cf69d2f",
   "metadata": {},
   "outputs": [],
   "source": [
    "df_abnb_intraday_proV = df_abnb_intraday_proV[(df_abnb_intraday_proV.T != 0.).any()]\n",
    "df_abnb_intraday_proV.head(10).style.format(precision = 5).background_gradient(axis=None, vmin=0, vmax=max(df_abnb_intraday_proV.max()), cmap=\"Blues\")"
   ]
  },
  {
   "cell_type": "markdown",
   "id": "47576a9a-486e-4320-b1dc-b4b6b006c37a",
   "metadata": {},
   "source": [
    "##### Visualisation "
   ]
  },
  {
   "cell_type": "code",
   "execution_count": null,
   "id": "da6b159f-1658-4a5a-a53d-57ae17d31027",
   "metadata": {},
   "outputs": [],
   "source": [
    "fig,(axC,axV) = plt.subplots(2,1,figsize=(25,10))\n",
    "for col in df_abnb_intraday_proV.columns:\n",
    "    if not col == 'Date':\n",
    "        lab = df_xngs.loc[df_xngs.Value==col, 'Description'].values[0]\n",
    "        axV.plot(df_abnb_intraday_proV[col], label=lab)\n",
    "        axC.plot(df_abnb_intraday_proC[col])\n",
    "\n",
    "axV.set_xlabel(\"Date\",fontsize=14)\n",
    "axV.set_ylabel(\"Volume (%)\",color=\"blue\",fontsize=14)\n",
    "axC.set_xlabel(\"Date\",fontsize=14)\n",
    "axC.set_ylabel(\"Count (%)\",color=\"blue\",fontsize=14) \n",
    "\n",
    "       \n",
    "\n",
    "\n",
    "fig.suptitle('Trading Conditions Intraday Proportions of Air BNB (ABNB-XNGS) for intradays data', fontsize=20)\n",
    "fig.legend()\n",
    "plt.show()"
   ]
  },
  {
   "cell_type": "markdown",
   "id": "52d1e503-4733-4e53-84e1-05dc89c66419",
   "metadata": {
    "tags": []
   },
   "source": [
    "#### Quantities of Trading Conditions - Intraday"
   ]
  },
  {
   "cell_type": "markdown",
   "id": "ae6a894f-bb58-49f9-ae38-d91c412dc703",
   "metadata": {},
   "source": [
    "##### Quantities based on trades counts"
   ]
  },
  {
   "cell_type": "markdown",
   "id": "56c2892f-5473-47e1-b60a-b74f2338c0f2",
   "metadata": {},
   "source": [
    "DataFrame creation"
   ]
  },
  {
   "cell_type": "code",
   "execution_count": null,
   "id": "a1677b23-8fe3-480a-9c75-f2aa304d96de",
   "metadata": {},
   "outputs": [],
   "source": [
    "dates = [datetime.fromtimestamp(t.time_stamp.seconds) for t in abnb_intraday]\n",
    "d = {'Date': dates}\n",
    "df_abnb_intraday_quaC= pd.DataFrame(data = d)"
   ]
  },
  {
   "cell_type": "code",
   "execution_count": null,
   "id": "eba80069-a3d9-4111-beb9-8f256102d1ea",
   "metadata": {},
   "outputs": [],
   "source": [
    "for intraday in  abnb_intraday:\n",
    "    for index in range(len(intraday.data)):\n",
    "        if str(intraday.data[index].value) in df_abnb_intraday_quaC:\n",
    "            df_abnb_intraday_quaC.iat[df_abnb_intraday_quaC.index[df_abnb_intraday_quaC['Date'] == datetime.fromtimestamp(intraday.time_stamp.seconds)].tolist()[0], df_abnb_intraday_quaC.columns.get_loc(str(intraday.data[index].value))] = intraday.data[index].count\n",
    "        else:\n",
    "            df_abnb_intraday_quaC[str(intraday.data[index].value)] = 0.0\n",
    "            df_abnb_intraday_quaC.iat[df_abnb_intraday_quaC.index[df_abnb_intraday_quaC['Date'] == datetime.fromtimestamp(intraday.time_stamp.seconds)].tolist()[0], df_abnb_intraday_quaC.columns.get_loc(str(intraday.data[index].value))] = intraday.data[index].count\n",
    "            \n",
    "df_abnb_intraday_quaC = df_abnb_intraday_quaC.set_index('Date')          "
   ]
  },
  {
   "cell_type": "code",
   "execution_count": null,
   "id": "ded99a67-3c81-408b-bba6-d3bbdccd268a",
   "metadata": {
    "tags": []
   },
   "outputs": [],
   "source": [
    "df_abnb_intraday_quaC = df_abnb_intraday_quaC[(df_abnb_intraday_quaC.T != 0.).any()]\n",
    "df_abnb_intraday_quaC.head(10).style.format(precision = 0).background_gradient(axis=None, vmin=0, vmax=max(df_abnb_intraday_quaC.max()), cmap=\"Blues\")"
   ]
  },
  {
   "cell_type": "markdown",
   "id": "644d38ac-5a9d-4f24-8943-252bfde367f3",
   "metadata": {
    "tags": []
   },
   "source": [
    "##### Quantities based on trades volumes"
   ]
  },
  {
   "cell_type": "markdown",
   "id": "5d40846f-ef18-4d8d-b9d2-c13e5f009d65",
   "metadata": {},
   "source": [
    "DataFrame creation"
   ]
  },
  {
   "cell_type": "code",
   "execution_count": null,
   "id": "c69a7637-6d10-4577-833c-3818b55c0376",
   "metadata": {},
   "outputs": [],
   "source": [
    "dates = [datetime.fromtimestamp(t.time_stamp.seconds) for t in abnb_intraday]\n",
    "d = {'Date': dates}\n",
    "df_abnb_intraday_quaV= pd.DataFrame(data = d)"
   ]
  },
  {
   "cell_type": "code",
   "execution_count": null,
   "id": "7329c267-ffd3-4148-b0b2-88e4f6d00548",
   "metadata": {},
   "outputs": [],
   "source": [
    "for intraday in  abnb_intraday:\n",
    "    for index in range(len(intraday.data)):\n",
    "        if str(intraday.data[index].value) in df_abnb_intraday_quaV:\n",
    "            df_abnb_intraday_quaV.iat[df_abnb_intraday_quaV.index[df_abnb_intraday_quaV['Date'] == datetime.fromtimestamp(intraday.time_stamp.seconds)].tolist()[0], df_abnb_intraday_quaV.columns.get_loc(str(intraday.data[index].value))] = intraday.data[index].volume\n",
    "        else:\n",
    "            df_abnb_intraday_quaV[str(intraday.data[index].value)] = 0.0\n",
    "            df_abnb_intraday_quaV.iat[df_abnb_intraday_quaV.index[df_abnb_intraday_quaV['Date'] == datetime.fromtimestamp(intraday.time_stamp.seconds)].tolist()[0], df_abnb_intraday_quaV.columns.get_loc(str(intraday.data[index].value))] = intraday.data[index].volume\n",
    "            \n",
    "df_abnb_intraday_quaV = df_abnb_intraday_quaV.set_index('Date')          "
   ]
  },
  {
   "cell_type": "code",
   "execution_count": null,
   "id": "634824b8-d681-4d93-97eb-d951489c5a67",
   "metadata": {
    "tags": []
   },
   "outputs": [],
   "source": [
    "df_abnb_intraday_quaV = df_abnb_intraday_quaV[(df_abnb_intraday_quaV.T != 0.).any()]\n",
    "df_abnb_intraday_quaV.head(10).style.format(precision = 0).background_gradient(axis=None, vmin=0, vmax=max(df_abnb_intraday_quaV.max()), cmap=\"Blues\")"
   ]
  },
  {
   "cell_type": "markdown",
   "id": "bbe98407-2979-4126-863b-cbda866f1a18",
   "metadata": {},
   "source": [
    "##### Visualisation"
   ]
  },
  {
   "cell_type": "code",
   "execution_count": null,
   "id": "f1bc4672-12d5-4e41-a898-3ec8804814f7",
   "metadata": {},
   "outputs": [],
   "source": [
    "fig,(axC,axV) = plt.subplots(2,1,figsize=(25,10))\n",
    "for col in df_abnb_intraday_quaV.columns:\n",
    "    if not col == 'Date':\n",
    "        lab = df_xngs.loc[df_xngs.Value==col, 'Description'].values[0]\n",
    "        axV.plot(df_abnb_intraday_quaV[col], label=lab)\n",
    "        axC.plot(df_abnb_intraday_quaC[col])\n",
    "\n",
    "axC.set_xlabel(\"Date\",fontsize=14)\n",
    "axC.set_ylabel(\"Count\",color=\"blue\",fontsize=14)\n",
    "axV.set_xlabel(\"Date\",fontsize=14)\n",
    "axV.set_ylabel(\"Volume\",color=\"blue\",fontsize=14)\n",
    "\n",
    "fig.suptitle('Trading Conditions Intraday Quantities of Air BNB (ABNB-XNGS) for intradays data', fontsize=20)\n",
    "fig.legend(fontsize=14)\n",
    "plt.show()"
   ]
  },
  {
   "cell_type": "markdown",
   "id": "8ed33e62-a866-4fd7-807a-11e45b2550d0",
   "metadata": {
    "tags": [],
    "toc-hr-collapsed": true
   },
   "source": [
    "#### Export / Import\n",
    "\n",
    "Export"
   ]
  },
  {
   "cell_type": "code",
   "execution_count": null,
   "id": "9fe2d950-a4ab-47d6-9a65-ac558587825b",
   "metadata": {},
   "outputs": [],
   "source": [
    "#df_abnb_intraday_quaC.to_csv('abnb_intraday_quaC.csv', index=True)\n",
    "#df_abnb_intraday_quaV.to_csv('abnb_intraday_quaV.csv', index=True)\n",
    "#df_abnb_intraday_proC.to_csv('abnb_intraday_proC.csv', index=True)\n",
    "#df_abnb_intraday_proV.to_csv('abnb_intraday_proV.csv', index=True)"
   ]
  },
  {
   "cell_type": "markdown",
   "id": "d271c116-da01-479f-a8c3-0c41b47ebeec",
   "metadata": {},
   "source": [
    "Import"
   ]
  },
  {
   "cell_type": "code",
   "execution_count": null,
   "id": "4d41d849-7873-4563-aa4d-804fe2a78d18",
   "metadata": {
    "tags": []
   },
   "outputs": [],
   "source": [
    "#df_abnb_intraday_quaC = pd.read_csv (r'Path.csv')\n",
    "#df_abnb_intraday_quaV = pd.read_csv (r'Path.csv')\n",
    "#df_abnb_intradays_proC = pd.read_csv (r'Path.csv')\n",
    "#df_abnb_intradays_proV = pd.read_csv (r'Path.csv')"
   ]
  },
  {
   "cell_type": "markdown",
   "id": "765fa75c-2025-4c8d-888a-13a93ad0ea4d",
   "metadata": {
    "tags": []
   },
   "source": [
    "***\n",
    "### Docusign (DOCU)"
   ]
  },
  {
   "cell_type": "markdown",
   "id": "5c1c8cd3-77a8-4df6-9153-90bf57ac6a65",
   "metadata": {},
   "source": [
    "#### Request"
   ]
  },
  {
   "cell_type": "code",
   "execution_count": null,
   "id": "91559aa8-d9c0-4319-a7fe-48c9df67ee13",
   "metadata": {},
   "outputs": [],
   "source": [
    "request_intraday_docu = tick_trade_conditions.TickTradeConditionsRequest(\n",
    "    identifier = identifier.Identifier(exchange = 'XNGS', ticker = 'DOCU'),\n",
    "    constraints = my_constraints_intraday,\n",
    "    sampling = my_sampling\n",
    ")"
   ]
  },
  {
   "cell_type": "code",
   "execution_count": null,
   "id": "4eb0c71a-61c5-47b6-9919-cfd3e313b508",
   "metadata": {},
   "outputs": [],
   "source": [
    "%%time\n",
    "try:\n",
    "    # open a gRPC channel\n",
    "    with channel_helpers.get_grpc_channel() as channel:  \n",
    "        \n",
    "        # instantiate the tick bars service\n",
    "        service = tick_trade_conditions_service.TickTradeConditionsServiceStub(channel)\n",
    "        \n",
    "        # process the tick bars request\n",
    "        docu_intradays = []\n",
    "        my_metadata = [('authorization', token)]\n",
    "        for stat in service.TickTradeConditions(request=request_intraday_docu, metadata=my_metadata):\n",
    "            docu_intradays.append(stat)\n",
    "except grpc.RpcError as e:\n",
    "    display(e.code().name)\n",
    "    display(e.details())"
   ]
  },
  {
   "cell_type": "markdown",
   "id": "19d23e06-edb3-40b4-a3d4-f39713227c66",
   "metadata": {
    "tags": []
   },
   "source": [
    "#### Percentage of Trading Condition - Intraday"
   ]
  },
  {
   "cell_type": "markdown",
   "id": "aa924874-2762-4f69-8aa4-da23659988b8",
   "metadata": {
    "tags": []
   },
   "source": [
    "##### Percentage based on Trades counts\n",
    "DataFrame Creation"
   ]
  },
  {
   "cell_type": "code",
   "execution_count": null,
   "id": "ec09d79c-0f68-4c2f-a1cf-6b7112b943cf",
   "metadata": {
    "tags": []
   },
   "outputs": [],
   "source": [
    "dates = [datetime.fromtimestamp(t.time_stamp.seconds) for t in docu_intradays]\n",
    "d_docu_intraday_proC = {'Date': dates}\n",
    "df_docu_intraday_proC= pd.DataFrame(data = d_docu_intraday_proC)"
   ]
  },
  {
   "cell_type": "code",
   "execution_count": null,
   "id": "0f25ada7-9ae4-4e22-a766-5fe7e8845303",
   "metadata": {},
   "outputs": [],
   "source": [
    "for intraday in  docu_intradays:\n",
    "    for index in range(len(intraday.data)):\n",
    "        if str(intraday.data[index].value) in df_docu_intraday_proC:\n",
    "            df_docu_intraday_proC.iat[df_docu_intraday_proC.index[df_docu_intraday_proC['Date'] == datetime.fromtimestamp(intraday.time_stamp.seconds)].tolist()[0], df_docu_intraday_proC.columns.get_loc(str(intraday.data[index].value))] = intraday.data[index].percentage * 100\n",
    "        else:\n",
    "            df_docu_intraday_proC[str(intraday.data[index].value)] = 0.0\n",
    "            df_docu_intraday_proC.iat[df_docu_intraday_proC.index[df_docu_intraday_proC['Date'] == datetime.fromtimestamp(intraday.time_stamp.seconds)].tolist()[0], df_docu_intraday_proC.columns.get_loc(str(intraday.data[index].value))] = intraday.data[index].percentage * 100\n",
    "            \n",
    "df_docu_intraday_proC = df_docu_intraday_proC.set_index('Date')          "
   ]
  },
  {
   "cell_type": "code",
   "execution_count": null,
   "id": "367a592c-226c-48ef-8893-b74c14129b9c",
   "metadata": {
    "tags": []
   },
   "outputs": [],
   "source": [
    "df_docu_intraday_proC = df_docu_intraday_proC[(df_docu_intraday_proC.T != 0.).any()]\n",
    "df_docu_intraday_proC.head(10).style.format(precision = 5).background_gradient(axis=None, vmin=0, vmax=max(df_docu_intraday_proC.max()), cmap=\"Blues\")"
   ]
  },
  {
   "cell_type": "markdown",
   "id": "fde609fd-5254-4f59-9d09-06dcdb336026",
   "metadata": {
    "tags": []
   },
   "source": [
    "##### Percentage based on trades volumes\n",
    "\n",
    "DataFrame Creation"
   ]
  },
  {
   "cell_type": "code",
   "execution_count": null,
   "id": "75a6863e-43f6-4eff-8751-bb67de5ca77d",
   "metadata": {},
   "outputs": [],
   "source": [
    "dates = [datetime.fromtimestamp(t.time_stamp.seconds) for t in docu_intradays]\n",
    "d_docu_intraday_proV = {'Date': dates}\n",
    "df_docu_intraday_proV= pd.DataFrame(data = d_docu_intraday_proV)"
   ]
  },
  {
   "cell_type": "code",
   "execution_count": null,
   "id": "7b137d56-3cae-4e6c-bde2-effdf0be89a4",
   "metadata": {},
   "outputs": [],
   "source": [
    "for intraday in  docu_intradays:\n",
    "    for index in range(len(intraday.data)):\n",
    "        if str(intraday.data[index].value) in df_docu_intraday_proV:\n",
    "            df_docu_intraday_proV.iat[df_docu_intraday_proV.index[df_docu_intraday_proV['Date'] == datetime.fromtimestamp(intraday.time_stamp.seconds)].tolist()[0], df_docu_intraday_proV.columns.get_loc(str(intraday.data[index].value))] = intraday.data[index].volume_percentage * 100\n",
    "        else:\n",
    "            df_docu_intraday_proV[str(intraday.data[index].value)] = 0.0\n",
    "            df_docu_intraday_proV.iat[df_docu_intraday_proV.index[df_docu_intraday_proV['Date'] == datetime.fromtimestamp(intraday.time_stamp.seconds)].tolist()[0], df_docu_intraday_proV.columns.get_loc(str(intraday.data[index].value))] = intraday.data[index].volume_percentage * 100\n",
    "            \n",
    "df_docu_intraday_proV = df_docu_intraday_proV.set_index('Date')          "
   ]
  },
  {
   "cell_type": "code",
   "execution_count": null,
   "id": "419d1289-2806-4344-b275-d05392040acc",
   "metadata": {},
   "outputs": [],
   "source": [
    "df_docu_intraday_proV = df_docu_intraday_proV[(df_docu_intraday_proV.T != 0.).any()]\n",
    "df_docu_intraday_proV.head(10).style.format(precision = 5).background_gradient(axis=None, vmin=0, vmax=max(df_docu_intraday_proV.max()), cmap=\"Blues\")"
   ]
  },
  {
   "cell_type": "markdown",
   "id": "9daf8528-94e3-4aee-be7f-a3518882bfb6",
   "metadata": {},
   "source": [
    "##### Visualisation "
   ]
  },
  {
   "cell_type": "code",
   "execution_count": null,
   "id": "b695094d-bc1d-4b33-82e6-0afc15257b1a",
   "metadata": {},
   "outputs": [],
   "source": [
    "fig,(axC,axV) = plt.subplots(2,1,figsize=(25,10))\n",
    "for col in df_docu_intraday_proV.columns:\n",
    "    if not col == 'Date':\n",
    "        lab = df_xngs.loc[df_xngs.Value==col, 'Description'].values[0]\n",
    "        axV.plot(df_docu_intraday_proV[col], label=lab)\n",
    "        axC.plot(df_docu_intraday_proC[col])\n",
    "        \n",
    "axC.set_xlabel(\"Date\",fontsize=14)\n",
    "axC.set_ylabel(\"Count (%)\",color=\"blue\",fontsize=14) \n",
    "axV.set_xlabel(\"Date\",fontsize=14)\n",
    "axV.set_ylabel(\"Volume (%)\",color=\"blue\",fontsize=14)\n",
    "       \n",
    "\n",
    "\n",
    "fig.suptitle('Trading Conditions Intraday Proportions of docu (AAPL-XNGS) for intradays data', fontsize=20)\n",
    "fig.legend()\n",
    "plt.show()"
   ]
  },
  {
   "cell_type": "markdown",
   "id": "eb4dd4e7-8ff2-4a83-9e42-7cb0a2c88032",
   "metadata": {
    "tags": []
   },
   "source": [
    "#### Quantities of Trading Conditions - Intraday"
   ]
  },
  {
   "cell_type": "markdown",
   "id": "75df1087-24bc-41b3-a2bc-813de6bd372b",
   "metadata": {},
   "source": [
    "##### Quantities based on trades counts"
   ]
  },
  {
   "cell_type": "markdown",
   "id": "f4a3ce8d-cf2b-4f67-9177-6df5d88e9bc3",
   "metadata": {},
   "source": [
    "DataFrame creation"
   ]
  },
  {
   "cell_type": "code",
   "execution_count": null,
   "id": "9178ddc5-db6f-445e-9f56-d6684bde0611",
   "metadata": {},
   "outputs": [],
   "source": [
    "dates = [datetime.fromtimestamp(t.time_stamp.seconds) for t in docu_intradays]\n",
    "d_docu_intraday_quaC = {'Date': dates}\n",
    "df_docu_intraday_quaC= pd.DataFrame(data = d_docu_intraday_quaC)"
   ]
  },
  {
   "cell_type": "code",
   "execution_count": null,
   "id": "0ecd7124-e599-4958-8d40-70b31461d1cc",
   "metadata": {},
   "outputs": [],
   "source": [
    "for intraday in  docu_intradays:\n",
    "    for index in range(len(intraday.data)):\n",
    "        if str(intraday.data[index].value) in df_docu_intraday_quaC:\n",
    "            df_docu_intraday_quaC.iat[df_docu_intraday_quaC.index[df_docu_intraday_quaC['Date'] == datetime.fromtimestamp(intraday.time_stamp.seconds)].tolist()[0], df_docu_intraday_quaC.columns.get_loc(str(intraday.data[index].value))] = intraday.data[index].count\n",
    "        else:\n",
    "            df_docu_intraday_quaC[str(intraday.data[index].value)] = 0.0\n",
    "            df_docu_intraday_quaC.iat[df_docu_intraday_quaC.index[df_docu_intraday_quaC['Date'] == datetime.fromtimestamp(intraday.time_stamp.seconds)].tolist()[0], df_docu_intraday_quaC.columns.get_loc(str(intraday.data[index].value))] = intraday.data[index].count\n",
    "            \n",
    "df_docu_intraday_quaC = df_docu_intraday_quaC.set_index('Date')          "
   ]
  },
  {
   "cell_type": "code",
   "execution_count": null,
   "id": "2162e978-a102-45eb-908b-c183ff2be216",
   "metadata": {
    "tags": []
   },
   "outputs": [],
   "source": [
    "df_docu_intraday_quaC = df_docu_intraday_quaC[(df_docu_intraday_quaC.T != 0.).any()]\n",
    "df_docu_intraday_quaC.head(10).style.format(precision = 0).background_gradient(axis=None, vmin=0, vmax=max(df_docu_intraday_quaC.max()), cmap=\"Blues\")"
   ]
  },
  {
   "cell_type": "markdown",
   "id": "3fb55068-8502-485f-94c1-7cca597c26ff",
   "metadata": {
    "tags": []
   },
   "source": [
    "##### Quantities based on trades volumes"
   ]
  },
  {
   "cell_type": "markdown",
   "id": "bb2b91b2-12b0-4850-8b2b-db1581e1ff46",
   "metadata": {},
   "source": [
    "DataFrame creation"
   ]
  },
  {
   "cell_type": "code",
   "execution_count": null,
   "id": "577f4232-7267-44f9-a660-4d3e18efd977",
   "metadata": {},
   "outputs": [],
   "source": [
    "dates = [datetime.fromtimestamp(t.time_stamp.seconds) for t in docu_intradays]\n",
    "d_docu_intraday_quaV = {'Date': dates}\n",
    "df_docu_intraday_quaV= pd.DataFrame(data = d_docu_intraday_quaV)"
   ]
  },
  {
   "cell_type": "code",
   "execution_count": null,
   "id": "cdeae6b0-244b-4cf3-83f5-df9c9f3c1ba2",
   "metadata": {},
   "outputs": [],
   "source": [
    "for intraday in  docu_intradays:\n",
    "    for index in range(len(intraday.data)):\n",
    "        if str(intraday.data[index].value) in df_docu_intraday_quaV:\n",
    "            df_docu_intraday_quaV.iat[df_docu_intraday_quaV.index[df_docu_intraday_quaV['Date'] == datetime.fromtimestamp(intraday.time_stamp.seconds)].tolist()[0], df_docu_intraday_quaV.columns.get_loc(str(intraday.data[index].value))] = intraday.data[index].volume\n",
    "        else:\n",
    "            df_docu_intraday_quaV[str(intraday.data[index].value)] = 0.0\n",
    "            df_docu_intraday_quaV.iat[df_docu_intraday_quaV.index[df_docu_intraday_quaV['Date'] == datetime.fromtimestamp(intraday.time_stamp.seconds)].tolist()[0], df_docu_intraday_quaV.columns.get_loc(str(intraday.data[index].value))] = intraday.data[index].volume\n",
    "            \n",
    "df_docu_intraday_quaV = df_docu_intraday_quaV.set_index('Date')          "
   ]
  },
  {
   "cell_type": "code",
   "execution_count": null,
   "id": "b10b6221-0102-46eb-80ec-4955e67bc90d",
   "metadata": {
    "tags": []
   },
   "outputs": [],
   "source": [
    "df_docu_intraday_quaV = df_docu_intraday_quaV[(df_docu_intraday_quaV.T != 0.).any()]\n",
    "df_docu_intraday_quaV.head(10).style.format(precision = 0).background_gradient(axis=None, vmin=0, vmax=max(df_docu_intraday_quaV.max()), cmap=\"Blues\")"
   ]
  },
  {
   "cell_type": "markdown",
   "id": "7b900a38-65ea-4376-9688-b80b26593422",
   "metadata": {},
   "source": [
    "##### Visualisation"
   ]
  },
  {
   "cell_type": "code",
   "execution_count": null,
   "id": "f9c1467c-cb18-494f-b2d0-47e96c5d6c68",
   "metadata": {},
   "outputs": [],
   "source": [
    "fig,(axC,axV) = plt.subplots(2,1,figsize=(25,10))\n",
    "for col in df_docu_intraday_quaV.columns:\n",
    "    if not col == 'Date':\n",
    "        lab = df_xngs.loc[df_xngs.Value==col, 'Description'].values[0]\n",
    "        axV.plot(df_docu_intraday_quaV[col], label=lab)\n",
    "        axC.plot(df_docu_intraday_quaC[col])\n",
    "\n",
    "axC.set_xlabel(\"Date\",fontsize=14)\n",
    "axC.set_ylabel(\"Count\",color=\"blue\",fontsize=14)\n",
    "axV.set_xlabel(\"Date\",fontsize=14)\n",
    "axV.set_ylabel(\"Volume\",color=\"blue\",fontsize=14)\n",
    "\n",
    "fig.suptitle('Trading Conditions Intraday Quantities of docu (AAPL-XNGS) for intradays', fontsize=20)\n",
    "fig.legend(fontsize=14)\n",
    "plt.show()"
   ]
  },
  {
   "cell_type": "markdown",
   "id": "37a05466-3d7b-45af-9bec-c99b2e88783a",
   "metadata": {
    "tags": [],
    "toc-hr-collapsed": true
   },
   "source": [
    "#### Export / Import\n",
    "\n",
    "Export"
   ]
  },
  {
   "cell_type": "code",
   "execution_count": null,
   "id": "0967b0c2-c526-446f-8eec-bee8f7807882",
   "metadata": {},
   "outputs": [],
   "source": [
    "#df_docu_intraday_quaC.to_csv('docu_intradays_quaC.csv', index=True)\n",
    "#df_docu_intraday_quaV.to_csv('docu_intradays_quaV.csv', index=True)\n",
    "#df_docu_intraday_proC.to_csv('docu_intradays_proC.csv', index=True)\n",
    "#df_docu_intraday_proV.to_csv('docu_intradays_proV.csv', index=True)"
   ]
  },
  {
   "cell_type": "markdown",
   "id": "2f33f867-e402-480b-b469-d005b094642a",
   "metadata": {},
   "source": [
    "Import"
   ]
  },
  {
   "cell_type": "code",
   "execution_count": null,
   "id": "678f2bd0-e861-4a48-a60d-621957f3b9d8",
   "metadata": {
    "tags": []
   },
   "outputs": [],
   "source": [
    "#df_docu_intraday_quaC = pd.read_csv (r'Path.csv')\n",
    "#df_docu_intraday_quaV = pd.read_csv (r'Path.csv')\n",
    "#df_docu_intradays_proC = pd.read_csv (r'Path.csv')\n",
    "#df_docu_intradays_proV = pd.read_csv (r'Path.csv')"
   ]
  },
  {
   "cell_type": "markdown",
   "id": "a36b0f89-2b69-4400-b8d7-9417e11fd5e3",
   "metadata": {},
   "source": [
    "***\n",
    "## IV - VWAP\n",
    "Let's study the vwap indicators of our three tickers for a random market day.\n",
    "\n",
    "We are going to focus on 6 different combinations in a time interval of one day:\n",
    "-\tAll the trading conditions: everything is kept.\n",
    "-\tThe three main trading conditions (Odd Lot Trade, Regular Sale, Intermarket Sweep): we keep the main three trading conditions and reject all the others.\n",
    "-\tAll the others: the main three trading conditions are rejected and the rest is kept.\n",
    "-\tIndividual Analysis: Odd Lot Trade condition, Regular Sale condition and Intermarket Sweep condition\n"
   ]
  },
  {
   "cell_type": "markdown",
   "id": "4127e7b8-333b-4172-83a0-f1194d0782ea",
   "metadata": {},
   "source": [
    "### Parameters"
   ]
  },
  {
   "cell_type": "code",
   "execution_count": null,
   "id": "2ffd54f2-48cc-4ffc-b48d-f7572fbbe5bc",
   "metadata": {
    "tags": []
   },
   "outputs": [],
   "source": [
    "# create time intervals (we are using Google date format)\n",
    "date_interval_vwap = dateinterval.DateInterval(\n",
    "    start_date = date.Date(year = 2022, month = 1, day = 5), \n",
    "    end_date = date.Date(year = 2022, month = 1, day = 5)\n",
    ")\n",
    "\n",
    "# build the market data request time interval (we are using Google time format)\n",
    "# UTC time zone\n",
    "time_interval_vwap = timeinterval.TimeInterval(\n",
    "    start_time = timeofday.TimeOfDay(hours = 14, minutes = 30, seconds = 0), \n",
    "    end_time = timeofday.TimeOfDay(hours = 21, minutes = 0, seconds = 0)\n",
    ")"
   ]
  },
  {
   "cell_type": "code",
   "execution_count": null,
   "id": "a66baab8-20fb-4a9a-8985-87276bb3ba42",
   "metadata": {
    "tags": []
   },
   "outputs": [],
   "source": [
    "# generate constraints based on the previous time selection\n",
    "my_constraints_vwap = constraints.Constraints(\n",
    "    date_intervals = [date_interval_vwap],\n",
    "    time_intervals = [time_interval_vwap],\n",
    ")"
   ]
  },
  {
   "cell_type": "markdown",
   "id": "232bfc0f-cb6b-4dca-a951-e12fd5783612",
   "metadata": {
    "tags": []
   },
   "source": [
    "### Apple"
   ]
  },
  {
   "cell_type": "markdown",
   "id": "5ed16944-355e-46db-94ca-1b2185c6ef78",
   "metadata": {
    "tags": []
   },
   "source": [
    "#### Request"
   ]
  },
  {
   "cell_type": "code",
   "execution_count": null,
   "id": "289a92de-c85b-47e5-bc35-14d3f175279f",
   "metadata": {},
   "outputs": [],
   "source": [
    "# generate the tick vwap request\n",
    "request_apple_vwap = tick_vwap.TickVwapRequest(\n",
    "    identifier = identifier.Identifier(exchange = 'XNGS', ticker = 'AAPL'),\n",
    "    constraints = my_constraints_vwap\n",
    ")\n",
    "\n",
    "request_apple_vwap_069 = tick_vwap.TickVwapRequest(\n",
    "    identifier = identifier.Identifier(exchange = 'XNGS', ticker = 'AAPL'),\n",
    "    constraints = my_constraints_vwap,\n",
    "    accept = ['0','6','9'] # keep only the trading conditions with these values\n",
    ")\n",
    "\n",
    "request_apple_vwap_no069 = tick_vwap.TickVwapRequest(\n",
    "    identifier = identifier.Identifier(exchange = 'XNGS', ticker = 'AAPL'),\n",
    "    constraints = my_constraints_vwap,\n",
    "    reject = ['0','6','9'] # keep all the trading conditions except these values\n",
    ")\n",
    "\n",
    "request_apple_vwap_0 = tick_vwap.TickVwapRequest(\n",
    "    identifier = identifier.Identifier(exchange = 'XNGS', ticker = 'AAPL'),\n",
    "    constraints = my_constraints_vwap,\n",
    "    accept = ['0']\n",
    ")\n",
    "\n",
    "request_apple_vwap_6 = tick_vwap.TickVwapRequest(\n",
    "    identifier = identifier.Identifier(exchange = 'XNGS', ticker = 'AAPL'),\n",
    "    constraints = my_constraints_vwap,\n",
    "    accept = ['6']\n",
    ")\n",
    "\n",
    "request_apple_vwap_9 = tick_vwap.TickVwapRequest(\n",
    "    identifier = identifier.Identifier(exchange = 'XNGS', ticker = 'AAPL'),\n",
    "    constraints = my_constraints_vwap,\n",
    "    accept = ['9']\n",
    ")"
   ]
  },
  {
   "cell_type": "code",
   "execution_count": null,
   "id": "4ea26990-7078-4211-aaa5-10d1b9bd7a8a",
   "metadata": {},
   "outputs": [],
   "source": [
    "%%time\n",
    "try:\n",
    "    # open a gRPC channel\n",
    "    with channel_helpers.get_grpc_channel() as channel:  \n",
    "        \n",
    "        # instantiate the tick vwap service\n",
    "        service = tick_vwap_service.TickVwapServiceStub(channel)\n",
    "        \n",
    "        # process the tick vwap request\n",
    "        time_stamps_apple, trades_apple, vwaps_apple = [], [], []\n",
    "        metadata = [('authorization', token)]\n",
    "        for v in service.TickVwap(request=request_apple_vwap, metadata=metadata):\n",
    "            time_stamps_apple.append(v.time_stamp)\n",
    "            trades_apple.append(v.trade)\n",
    "            vwaps_apple.append(v.vwap)\n",
    "            \n",
    "except grpc.RpcError as e:\n",
    "    display(e.code().name)\n",
    "    display(e.details())"
   ]
  },
  {
   "cell_type": "code",
   "execution_count": null,
   "id": "a8a3792c-2cbd-4042-98cb-5111c4abd7e1",
   "metadata": {},
   "outputs": [],
   "source": [
    "%%time\n",
    "try:\n",
    "    # open a gRPC channel\n",
    "    with channel_helpers.get_grpc_channel() as channel:  \n",
    "        \n",
    "        # instantiate the tick vwap service\n",
    "        service = tick_vwap_service.TickVwapServiceStub(channel)\n",
    "        \n",
    "        # process the tick vwap request\n",
    "        time_stamps_apple_069, trades_apple_069, vwaps_apple_069 = [], [], []\n",
    "        metadata = [('authorization', token)]\n",
    "        for v in service.TickVwap(request=request_apple_vwap_069, metadata=metadata):\n",
    "            time_stamps_apple_069.append(v.time_stamp)\n",
    "            trades_apple_069.append(v.trade)\n",
    "            vwaps_apple_069.append(v.vwap)\n",
    "except grpc.RpcError as e:\n",
    "    display(e.code().name)\n",
    "    display(e.details())"
   ]
  },
  {
   "cell_type": "code",
   "execution_count": null,
   "id": "419878b8-9d92-4cae-b996-0cfba55b2df0",
   "metadata": {},
   "outputs": [],
   "source": [
    "%%time\n",
    "try:\n",
    "    # open a gRPC channel\n",
    "    with channel_helpers.get_grpc_channel() as channel:  \n",
    "        \n",
    "        # instantiate the tick vwap service\n",
    "        service = tick_vwap_service.TickVwapServiceStub(channel)\n",
    "        \n",
    "        # process the tick vwap request\n",
    "        time_stamps_apple_no069, trades_apple_no069, vwaps_apple_no069 = [], [], []\n",
    "        metadata = [('authorization', token)]\n",
    "        for v in service.TickVwap(request=request_apple_vwap_no069, metadata=metadata):\n",
    "            time_stamps_apple_no069.append(v.time_stamp)\n",
    "            trades_apple_no069.append(v.trade)\n",
    "            vwaps_apple_no069.append(v.vwap)\n",
    "except grpc.RpcError as e:\n",
    "    display(e.code().name)\n",
    "    display(e.details())"
   ]
  },
  {
   "cell_type": "code",
   "execution_count": null,
   "id": "2406dc43-7fa1-4d48-83cb-779ca40cf680",
   "metadata": {},
   "outputs": [],
   "source": [
    "%%time\n",
    "try:\n",
    "    # open a gRPC channel\n",
    "    with channel_helpers.get_grpc_channel() as channel:  \n",
    "        \n",
    "        # instantiate the tick vwap service\n",
    "        service = tick_vwap_service.TickVwapServiceStub(channel)\n",
    "        \n",
    "        # process the tick vwap request\n",
    "        time_stamps_apple_0, trades_apple_0, vwaps_apple_0 = [], [], []\n",
    "        metadata = [('authorization', token)]\n",
    "        for v in service.TickVwap(request=request_apple_vwap_0, metadata=metadata):\n",
    "            time_stamps_apple_0.append(v.time_stamp)\n",
    "            trades_apple_0.append(v.trade)\n",
    "            vwaps_apple_0.append(v.vwap)\n",
    "except grpc.RpcError as e:\n",
    "    display(e.code().name)\n",
    "    display(e.details())"
   ]
  },
  {
   "cell_type": "code",
   "execution_count": null,
   "id": "92911192-11cd-41c9-9fce-03565945071b",
   "metadata": {},
   "outputs": [],
   "source": [
    "%%time\n",
    "try:\n",
    "    # open a gRPC channel\n",
    "    with channel_helpers.get_grpc_channel() as channel:  \n",
    "        \n",
    "        # instantiate the tick vwap service\n",
    "        service = tick_vwap_service.TickVwapServiceStub(channel)\n",
    "        \n",
    "        # process the tick vwap request\n",
    "        time_stamps_apple_6, trades_apple_6, vwaps_apple_6 = [], [], []\n",
    "        metadata = [('authorization', token)]\n",
    "        for v in service.TickVwap(request=request_apple_vwap_6, metadata=metadata):\n",
    "            time_stamps_apple_6.append(v.time_stamp)\n",
    "            trades_apple_6.append(v.trade)\n",
    "            vwaps_apple_6.append(v.vwap)\n",
    "except grpc.RpcError as e:\n",
    "    display(e.code().name)\n",
    "    display(e.details())"
   ]
  },
  {
   "cell_type": "code",
   "execution_count": null,
   "id": "b420766e-211e-4ef9-9616-4d11798a67c1",
   "metadata": {},
   "outputs": [],
   "source": [
    "%%time\n",
    "try:\n",
    "    # open a gRPC channel\n",
    "    with channel_helpers.get_grpc_channel() as channel:  \n",
    "        \n",
    "        # instantiate the tick vwap service\n",
    "        service = tick_vwap_service.TickVwapServiceStub(channel)\n",
    "        \n",
    "        # process the tick vwap request\n",
    "        time_stamps_apple_9, trades_apple_9, vwaps_apple_9 = [], [], []\n",
    "        metadata = [('authorization', token)]\n",
    "        for v in service.TickVwap(request=request_apple_vwap_9, metadata=metadata):\n",
    "            time_stamps_apple_9.append(v.time_stamp)\n",
    "            trades_apple_9.append(v.trade)\n",
    "            vwaps_apple_9.append(v.vwap)\n",
    "except grpc.RpcError as e:\n",
    "    display(e.code().name)\n",
    "    display(e.details())"
   ]
  },
  {
   "cell_type": "markdown",
   "id": "3738ff7e-8ec7-4b01-979a-21eb494a5537",
   "metadata": {
    "tags": []
   },
   "source": [
    "#### Dataframes Creation"
   ]
  },
  {
   "cell_type": "code",
   "execution_count": null,
   "id": "7d65c8c1-e16b-4608-b897-ee9583fbe737",
   "metadata": {},
   "outputs": [],
   "source": [
    "# create the vwap dataframe\n",
    "dates_apple=[datetime.fromtimestamp(ts.seconds) for ts in time_stamps_apple]\n",
    "d_apple_vwap = {'Date': dates_apple, 'Trade': trades_apple, 'Vwap': vwaps_apple}\n",
    "df_apple_vwap_all = pd.DataFrame(data=d_apple_vwap)\n",
    "df_apple_vwap_all.head(10)"
   ]
  },
  {
   "cell_type": "code",
   "execution_count": null,
   "id": "c4a899e8-3599-42c5-bceb-99047233d424",
   "metadata": {},
   "outputs": [],
   "source": [
    "# create the vwap dataframe\n",
    "dates_apple_069=[datetime.fromtimestamp(ts.seconds) for ts in time_stamps_apple_069]\n",
    "d_apple_vwap_069 = {'Date': dates_apple_069, 'Trade': trades_apple_069, 'Vwap': vwaps_apple_069}\n",
    "df_apple_vwap_069 = pd.DataFrame(data=d_apple_vwap_069)\n",
    "df_apple_vwap_069.head(10)"
   ]
  },
  {
   "cell_type": "code",
   "execution_count": null,
   "id": "a12d9c52-645c-491e-99eb-6ac2dee1f28d",
   "metadata": {},
   "outputs": [],
   "source": [
    "# create the vwap dataframe\n",
    "dates_apple_no069=[datetime.fromtimestamp(ts.seconds) for ts in time_stamps_apple_no069]\n",
    "d_apple_vwap_no069 = {'Date': dates_apple_no069, 'Trade': trades_apple_no069, 'Vwap': vwaps_apple_no069}\n",
    "df_apple_vwap_no069 = pd.DataFrame(data=d_apple_vwap_no069)\n",
    "df_apple_vwap_no069.head(10)"
   ]
  },
  {
   "cell_type": "code",
   "execution_count": null,
   "id": "94499d15-3deb-4836-86e7-a9524e0533c2",
   "metadata": {},
   "outputs": [],
   "source": [
    "# create the vwap dataframe\n",
    "dates_apple_0=[datetime.fromtimestamp(ts.seconds) for ts in time_stamps_apple_0]\n",
    "d_apple_vwap_0 = {'Date': dates_apple_0, 'Trade': trades_apple_0, 'Vwap': vwaps_apple_0}\n",
    "df_apple_vwap_0 = pd.DataFrame(data=d_apple_vwap_0)\n",
    "df_apple_vwap_0.head(10)"
   ]
  },
  {
   "cell_type": "code",
   "execution_count": null,
   "id": "2b42a269-4fca-4ff1-922f-7718ca702d8b",
   "metadata": {},
   "outputs": [],
   "source": [
    "# create the vwap dataframe\n",
    "dates_apple_6=[datetime.fromtimestamp(ts.seconds) for ts in time_stamps_apple_6]\n",
    "d_apple_vwap_6 = {'Date': dates_apple_6, 'Trade': trades_apple_6, 'Vwap': vwaps_apple_6}\n",
    "df_apple_vwap_6 = pd.DataFrame(data=d_apple_vwap_6)\n",
    "df_apple_vwap_6.head(10)"
   ]
  },
  {
   "cell_type": "code",
   "execution_count": null,
   "id": "753baeb7-0b8a-4f90-b53c-a80bbceac2f1",
   "metadata": {},
   "outputs": [],
   "source": [
    "# create the vwap dataframe\n",
    "dates_apple_9=[datetime.fromtimestamp(ts.seconds) for ts in time_stamps_apple_9]\n",
    "d_apple_vwap_9 = {'Date': dates_apple_9, 'Trade': trades_apple_9, 'Vwap': vwaps_apple_9}\n",
    "df_apple_vwap_9 = pd.DataFrame(data=d_apple_vwap_9)\n",
    "df_apple_vwap_9.head(10)"
   ]
  },
  {
   "cell_type": "markdown",
   "id": "d31ae7e8-0edd-4f89-b87b-85538a25fb7d",
   "metadata": {
    "tags": []
   },
   "source": [
    "#### Visualisation"
   ]
  },
  {
   "cell_type": "code",
   "execution_count": null,
   "id": "4cacf1f0-b3c1-442b-8ac4-d71039d51034",
   "metadata": {},
   "outputs": [],
   "source": [
    "# create figure and axis objects with subplots()\n",
    "fig, ax = plt.subplots(1,1,figsize=(25,13))\n",
    "\n",
    "ax.plot('Date', 'Trade', data=df_apple_vwap_all, marker='', color='blue', linewidth=1, label=\"Trades\")\n",
    "\n",
    "ax.plot('Date', 'Vwap', data=df_apple_vwap_all, marker='', color='orange', linewidth=1, label=\"VWAP\")\n",
    "ax.plot('Date', 'Vwap', data=df_apple_vwap_069, marker='', color='red', linewidth=1, label=\"VWAP_069\")\n",
    "ax.plot('Date', 'Vwap', data=df_apple_vwap_no069, marker='', color='green', linewidth=1, label=\"VWAP_no069\")\n",
    "ax.plot('Date', 'Vwap', data=df_apple_vwap_0, marker='', color='black', linewidth=1, label=\"VWAP_0\")\n",
    "ax.plot('Date', 'Vwap', data=df_apple_vwap_6, marker='', color='purple', linewidth=1, label=\"VWAP_6\")\n",
    "ax.plot('Date', 'Vwap', data=df_apple_vwap_9, marker='', color='yellow', linewidth=1, label=\"VWAP_9\")\n",
    "\n",
    "ax.set_xlabel(\"Date\",fontsize=14)\n",
    "ax.set_ylabel(\"Price\",color=\"black\",fontsize=14)\n",
    "plt.legend()\n",
    "plt.title('Tick Vwap and Trades for {0}-{1}'.format('AAPL', 'XNGS'),fontsize=20)\n",
    "plt.show()"
   ]
  },
  {
   "cell_type": "markdown",
   "id": "02e76393-eb2e-4332-9144-0196d2542b63",
   "metadata": {
    "tags": []
   },
   "source": [
    "### ABNB"
   ]
  },
  {
   "cell_type": "markdown",
   "id": "1d4a77fa-639e-4baf-a006-ca5f1ccae2f8",
   "metadata": {
    "tags": []
   },
   "source": [
    "#### Request"
   ]
  },
  {
   "cell_type": "code",
   "execution_count": null,
   "id": "e3313deb-98f0-43de-a2f6-654b11bf0493",
   "metadata": {},
   "outputs": [],
   "source": [
    "# generate the tick vwap request\n",
    "request_abnb_vwap = tick_vwap.TickVwapRequest(\n",
    "    identifier = identifier.Identifier(exchange = 'XNGS', ticker = 'ABNB'),\n",
    "    constraints = my_constraints_vwap\n",
    ")\n",
    "\n",
    "request_abnb_vwap_069 = tick_vwap.TickVwapRequest(\n",
    "    identifier = identifier.Identifier(exchange = 'XNGS', ticker = 'ABNB'),\n",
    "    constraints = my_constraints_vwap,\n",
    "    accept = ['0','6','9'] # keep only the trading conditions with these values\n",
    ")\n",
    "\n",
    "request_abnb_vwap_no069 = tick_vwap.TickVwapRequest(\n",
    "    identifier = identifier.Identifier(exchange = 'XNGS', ticker = 'ABNB'),\n",
    "    constraints = my_constraints_vwap,\n",
    "    reject = ['0','6','9'] # keep all the trading conditions except these values\n",
    ")\n",
    "\n",
    "request_abnb_vwap_0 = tick_vwap.TickVwapRequest(\n",
    "    identifier = identifier.Identifier(exchange = 'XNGS', ticker = 'ABNB'),\n",
    "    constraints = my_constraints_vwap,\n",
    "    accept = ['0']\n",
    ")\n",
    "\n",
    "request_abnb_vwap_6 = tick_vwap.TickVwapRequest(\n",
    "    identifier = identifier.Identifier(exchange = 'XNGS', ticker = 'ABNB'),\n",
    "    constraints = my_constraints_vwap,\n",
    "    accept = ['6']\n",
    ")\n",
    "\n",
    "request_abnb_vwap_9 = tick_vwap.TickVwapRequest(\n",
    "    identifier = identifier.Identifier(exchange = 'XNGS', ticker = 'ABNB'),\n",
    "    constraints = my_constraints_vwap,\n",
    "    accept = ['9']\n",
    ")"
   ]
  },
  {
   "cell_type": "code",
   "execution_count": null,
   "id": "c4856971-b852-4c81-a19f-d3d0f72bd702",
   "metadata": {},
   "outputs": [],
   "source": [
    "%%time\n",
    "try:\n",
    "    # open a gRPC channel\n",
    "    with channel_helpers.get_grpc_channel() as channel:  \n",
    "        \n",
    "        # instantiate the tick vwap service\n",
    "        service = tick_vwap_service.TickVwapServiceStub(channel)\n",
    "        \n",
    "        # process the tick vwap request\n",
    "        time_stamps_abnb, trades_abnb, vwaps_abnb = [], [], []\n",
    "        metadata = [('authorization', token)]\n",
    "        for v in service.TickVwap(request=request_abnb_vwap, metadata=metadata):\n",
    "            time_stamps_abnb.append(v.time_stamp)\n",
    "            trades_abnb.append(v.trade)\n",
    "            vwaps_abnb.append(v.vwap)\n",
    "            \n",
    "except grpc.RpcError as e:\n",
    "    display(e.code().name)\n",
    "    display(e.details())"
   ]
  },
  {
   "cell_type": "code",
   "execution_count": null,
   "id": "28176a2f-97db-4b90-99e9-a93f5ea64cf5",
   "metadata": {},
   "outputs": [],
   "source": [
    "%%time\n",
    "try:\n",
    "    # open a gRPC channel\n",
    "    with channel_helpers.get_grpc_channel() as channel:  \n",
    "        \n",
    "        # instantiate the tick vwap service\n",
    "        service = tick_vwap_service.TickVwapServiceStub(channel)\n",
    "        \n",
    "        # process the tick vwap request\n",
    "        time_stamps_abnb_069, trades_abnb_069, vwaps_abnb_069 = [], [], []\n",
    "        metadata = [('authorization', token)]\n",
    "        for v in service.TickVwap(request=request_abnb_vwap_069, metadata=metadata):\n",
    "            time_stamps_abnb_069.append(v.time_stamp)\n",
    "            trades_abnb_069.append(v.trade)\n",
    "            vwaps_abnb_069.append(v.vwap)\n",
    "except grpc.RpcError as e:\n",
    "    display(e.code().name)\n",
    "    display(e.details())"
   ]
  },
  {
   "cell_type": "code",
   "execution_count": null,
   "id": "3eb6732c-4e88-43a5-aaeb-8ec6ffc08c6a",
   "metadata": {},
   "outputs": [],
   "source": [
    "%%time\n",
    "try:\n",
    "    # open a gRPC channel\n",
    "    with channel_helpers.get_grpc_channel() as channel:  \n",
    "        \n",
    "        # instantiate the tick vwap service\n",
    "        service = tick_vwap_service.TickVwapServiceStub(channel)\n",
    "        \n",
    "        # process the tick vwap request\n",
    "        time_stamps_abnb_no069, trades_abnb_no069, vwaps_abnb_no069 = [], [], []\n",
    "        metadata = [('authorization', token)]\n",
    "        for v in service.TickVwap(request=request_abnb_vwap_no069, metadata=metadata):\n",
    "            time_stamps_abnb_no069.append(v.time_stamp)\n",
    "            trades_abnb_no069.append(v.trade)\n",
    "            vwaps_abnb_no069.append(v.vwap)\n",
    "except grpc.RpcError as e:\n",
    "    display(e.code().name)\n",
    "    display(e.details())"
   ]
  },
  {
   "cell_type": "code",
   "execution_count": null,
   "id": "8a010f31-134b-44ab-a4ac-d7641dbc2f80",
   "metadata": {},
   "outputs": [],
   "source": [
    "%%time\n",
    "try:\n",
    "    # open a gRPC channel\n",
    "    with channel_helpers.get_grpc_channel() as channel:  \n",
    "        \n",
    "        # instantiate the tick vwap service\n",
    "        service = tick_vwap_service.TickVwapServiceStub(channel)\n",
    "        \n",
    "        # process the tick vwap request\n",
    "        time_stamps_abnb_0, trades_abnb_0, vwaps_abnb_0 = [], [], []\n",
    "        metadata = [('authorization', token)]\n",
    "        for v in service.TickVwap(request=request_abnb_vwap_0, metadata=metadata):\n",
    "            time_stamps_abnb_0.append(v.time_stamp)\n",
    "            trades_abnb_0.append(v.trade)\n",
    "            vwaps_abnb_0.append(v.vwap)\n",
    "except grpc.RpcError as e:\n",
    "    display(e.code().name)\n",
    "    display(e.details())"
   ]
  },
  {
   "cell_type": "code",
   "execution_count": null,
   "id": "77ee3598-f4cb-4571-a989-c64ef99eaabb",
   "metadata": {},
   "outputs": [],
   "source": [
    "%%time\n",
    "try:\n",
    "    # open a gRPC channel\n",
    "    with channel_helpers.get_grpc_channel() as channel:  \n",
    "        \n",
    "        # instantiate the tick vwap service\n",
    "        service = tick_vwap_service.TickVwapServiceStub(channel)\n",
    "        \n",
    "        # process the tick vwap request\n",
    "        time_stamps_abnb_6, trades_abnb_6, vwaps_abnb_6 = [], [], []\n",
    "        metadata = [('authorization', token)]\n",
    "        for v in service.TickVwap(request=request_abnb_vwap_6, metadata=metadata):\n",
    "            time_stamps_abnb_6.append(v.time_stamp)\n",
    "            trades_abnb_6.append(v.trade)\n",
    "            vwaps_abnb_6.append(v.vwap)\n",
    "except grpc.RpcError as e:\n",
    "    display(e.code().name)\n",
    "    display(e.details())"
   ]
  },
  {
   "cell_type": "code",
   "execution_count": null,
   "id": "7f40d2aa-b2df-4b45-85c2-bc9a4bdd8f0d",
   "metadata": {},
   "outputs": [],
   "source": [
    "%%time\n",
    "try:\n",
    "    # open a gRPC channel\n",
    "    with channel_helpers.get_grpc_channel() as channel:  \n",
    "        \n",
    "        # instantiate the tick vwap service\n",
    "        service = tick_vwap_service.TickVwapServiceStub(channel)\n",
    "        \n",
    "        # process the tick vwap request\n",
    "        time_stamps_abnb_9, trades_abnb_9, vwaps_abnb_9 = [], [], []\n",
    "        metadata = [('authorization', token)]\n",
    "        for v in service.TickVwap(request=request_abnb_vwap_9, metadata=metadata):\n",
    "            time_stamps_abnb_9.append(v.time_stamp)\n",
    "            trades_abnb_9.append(v.trade)\n",
    "            vwaps_abnb_9.append(v.vwap)\n",
    "except grpc.RpcError as e:\n",
    "    display(e.code().name)\n",
    "    display(e.details())"
   ]
  },
  {
   "cell_type": "markdown",
   "id": "64a82fae-6ad5-4ed4-be40-cf983a4d1389",
   "metadata": {
    "tags": []
   },
   "source": [
    "#### Dataframes Creation"
   ]
  },
  {
   "cell_type": "code",
   "execution_count": null,
   "id": "09c98207-af7c-4ddf-bf8b-c814e25cd94d",
   "metadata": {},
   "outputs": [],
   "source": [
    "# create the vwap dataframe\n",
    "dates_abnb=[datetime.fromtimestamp(ts.seconds) for ts in time_stamps_abnb]\n",
    "d_abnb_vwap = {'Date': dates_abnb, 'Trade': trades_abnb, 'Vwap': vwaps_abnb}\n",
    "df_abnb_vwap_all = pd.DataFrame(data=d_abnb_vwap)\n",
    "df_abnb_vwap_all.head(10)"
   ]
  },
  {
   "cell_type": "code",
   "execution_count": null,
   "id": "6eb5fac1-1394-48f8-9c24-6f9ca70caf03",
   "metadata": {},
   "outputs": [],
   "source": [
    "# create the vwap dataframe\n",
    "dates_abnb_069=[datetime.fromtimestamp(ts.seconds) for ts in time_stamps_abnb_069]\n",
    "d_vwap_abnb_069 = {'Date': dates_abnb_069, 'Trade': trades_abnb_069, 'Vwap': vwaps_abnb_069}\n",
    "df_abnb_vwap_069 = pd.DataFrame(data=d_vwap_abnb_069)\n",
    "df_abnb_vwap_069.head(10)"
   ]
  },
  {
   "cell_type": "code",
   "execution_count": null,
   "id": "22ecf789-c82c-48dc-beab-d71b3c9691c0",
   "metadata": {},
   "outputs": [],
   "source": [
    "# create the vwap dataframe\n",
    "dates_abnb_no069=[datetime.fromtimestamp(ts.seconds) for ts in time_stamps_abnb_no069]\n",
    "d_vwap_abnb_no069 = {'Date': dates_abnb_no069, 'Trade': trades_abnb_no069, 'Vwap': vwaps_abnb_no069}\n",
    "df_abnb_vwap_no069 = pd.DataFrame(data=d_vwap_abnb_no069)\n",
    "df_abnb_vwap_no069.head(10)"
   ]
  },
  {
   "cell_type": "code",
   "execution_count": null,
   "id": "d2bfcf2b-305a-476a-9baf-45d6f2302604",
   "metadata": {},
   "outputs": [],
   "source": [
    "# create the vwap dataframe\n",
    "dates_abnb_0=[datetime.fromtimestamp(ts.seconds) for ts in time_stamps_abnb_0]\n",
    "d_vwap_abnb_0 = {'Date': dates_abnb_0, 'Trade': trades_abnb_0, 'Vwap': vwaps_abnb_0}\n",
    "df_abnb_vwap_0 = pd.DataFrame(data=d_vwap_abnb_0)\n",
    "df_abnb_vwap_0.head(10)"
   ]
  },
  {
   "cell_type": "code",
   "execution_count": null,
   "id": "9a2ffe40-51d0-4530-8986-554e76e0af6c",
   "metadata": {},
   "outputs": [],
   "source": [
    "# create the vwap dataframe\n",
    "dates_abnb_6=[datetime.fromtimestamp(ts.seconds) for ts in time_stamps_abnb_6]\n",
    "d_vwap_abnb_6 = {'Date': dates_abnb_6, 'Trade': trades_abnb_6, 'Vwap': vwaps_abnb_6}\n",
    "df_abnb_vwap_6 = pd.DataFrame(data=d_vwap_abnb_6)\n",
    "df_abnb_vwap_6.head(10)"
   ]
  },
  {
   "cell_type": "code",
   "execution_count": null,
   "id": "ec391d17-de0d-4a3f-baef-a80fa0494a66",
   "metadata": {},
   "outputs": [],
   "source": [
    "# create the vwap dataframe\n",
    "dates_abnb_9=[datetime.fromtimestamp(ts.seconds) for ts in time_stamps_abnb_9]\n",
    "d_vwap_abnb_9 = {'Date': dates_abnb_9, 'Trade': trades_abnb_9, 'Vwap': vwaps_abnb_9}\n",
    "df_abnb_vwap_9 = pd.DataFrame(data=d_vwap_abnb_9)\n",
    "df_abnb_vwap_9.head(10)"
   ]
  },
  {
   "cell_type": "markdown",
   "id": "36be482c-b821-4997-bec3-9231e4510716",
   "metadata": {
    "tags": []
   },
   "source": [
    "#### Visualisation"
   ]
  },
  {
   "cell_type": "code",
   "execution_count": null,
   "id": "46ee66b5-040a-4f65-896b-46b363fea8a1",
   "metadata": {},
   "outputs": [],
   "source": [
    "# create figure and axis objects with subplots()\n",
    "fig, ax = plt.subplots(1,1,figsize=(25,13))\n",
    "\n",
    "ax.plot('Date', 'Trade', data=df_abnb_vwap_all, marker='', color='blue', linewidth=1, label=\"Trades\")\n",
    "\n",
    "ax.plot('Date', 'Vwap', data=df_abnb_vwap_all, marker='', color='orange', linewidth=1, label=\"VWAP\")\n",
    "ax.plot('Date', 'Vwap', data=df_abnb_vwap_069, marker='', color='red', linewidth=1, label=\"VWAP_069\")\n",
    "ax.plot('Date', 'Vwap', data=df_abnb_vwap_no069, marker='', color='green', linewidth=1, label=\"VWAP_no069\")\n",
    "ax.plot('Date', 'Vwap', data=df_abnb_vwap_0, marker='', color='black', linewidth=1, label=\"VWAP_0\")\n",
    "ax.plot('Date', 'Vwap', data=df_abnb_vwap_6, marker='', color='purple', linewidth=1, label=\"VWAP_6\")\n",
    "ax.plot('Date', 'Vwap', data=df_abnb_vwap_9, marker='', color='yellow', linewidth=1, label=\"VWAP_9\")\n",
    "\n",
    "ax.set_xlabel(\"Date\",fontsize=14)\n",
    "ax.set_ylabel(\"Price\",color=\"black\",fontsize=14)\n",
    "plt.legend()\n",
    "plt.title('Tick Vwap and Trades for {0}-{1}'.format('ABNB', 'XNGS'),fontsize=20)\n",
    "plt.show()"
   ]
  },
  {
   "cell_type": "markdown",
   "id": "c6a4f55b-78f1-4ab7-9360-b5ad04b75213",
   "metadata": {
    "tags": []
   },
   "source": [
    "### Docusign"
   ]
  },
  {
   "cell_type": "markdown",
   "id": "0cbde51b-832c-4db2-ad6a-045815f0b6e6",
   "metadata": {
    "tags": []
   },
   "source": [
    "#### Request"
   ]
  },
  {
   "cell_type": "code",
   "execution_count": null,
   "id": "6d8b4cc2-8e2b-4df5-b6dc-f8ce3fed3994",
   "metadata": {},
   "outputs": [],
   "source": [
    "# generate the tick vwap request\n",
    "request_docu_vwap = tick_vwap.TickVwapRequest(\n",
    "    identifier = identifier.Identifier(exchange = 'XNGS', ticker = 'DOCU'),\n",
    "    constraints = my_constraints_vwap\n",
    ")\n",
    "\n",
    "request_docu_vwap_069 = tick_vwap.TickVwapRequest(\n",
    "    identifier = identifier.Identifier(exchange = 'XNGS', ticker = 'DOCU'),\n",
    "    constraints = my_constraints_vwap,\n",
    "    accept = ['0','6','9'] # keep only the trading conditions with these values\n",
    ")\n",
    "\n",
    "request_docu_vwap_no069 = tick_vwap.TickVwapRequest(\n",
    "    identifier = identifier.Identifier(exchange = 'XNGS', ticker = 'DOCU'),\n",
    "    constraints = my_constraints_vwap,\n",
    "    reject = ['0','6','9'] # keep all the trading conditions except these values\n",
    ")\n",
    "\n",
    "request_docu_vwap_0 = tick_vwap.TickVwapRequest(\n",
    "    identifier = identifier.Identifier(exchange = 'XNGS', ticker = 'DOCU'),\n",
    "    constraints = my_constraints_vwap,\n",
    "    accept = ['0']\n",
    ")\n",
    "\n",
    "request_docu_vwap_6 = tick_vwap.TickVwapRequest(\n",
    "    identifier = identifier.Identifier(exchange = 'XNGS', ticker = 'DOCU'),\n",
    "    constraints = my_constraints_vwap,\n",
    "    accept = ['6']\n",
    ")\n",
    "\n",
    "request_docu_vwap_9 = tick_vwap.TickVwapRequest(\n",
    "    identifier = identifier.Identifier(exchange = 'XNGS', ticker = 'DOCU'),\n",
    "    constraints = my_constraints_vwap,\n",
    "    accept = ['9']\n",
    ")"
   ]
  },
  {
   "cell_type": "code",
   "execution_count": null,
   "id": "3699da3e-912d-42cf-b9a1-2a6bd79ccec9",
   "metadata": {},
   "outputs": [],
   "source": [
    "%%time\n",
    "try:\n",
    "    # open a gRPC channel\n",
    "    with channel_helpers.get_grpc_channel() as channel:  \n",
    "        \n",
    "        # instantiate the tick vwap service\n",
    "        service = tick_vwap_service.TickVwapServiceStub(channel)\n",
    "        \n",
    "        # process the tick vwap request\n",
    "        time_stamps_docu, trades_docu, vwaps_docu = [], [], []\n",
    "        metadata = [('authorization', token)]\n",
    "        for v in service.TickVwap(request=request_docu_vwap, metadata=metadata):\n",
    "            time_stamps_docu.append(v.time_stamp)\n",
    "            trades_docu.append(v.trade)\n",
    "            vwaps_docu.append(v.vwap)\n",
    "            \n",
    "except grpc.RpcError as e:\n",
    "    display(e.code().name)\n",
    "    display(e.details())"
   ]
  },
  {
   "cell_type": "code",
   "execution_count": null,
   "id": "4f370dcb-3a70-4ab7-b2b2-b18f1e25f5a8",
   "metadata": {},
   "outputs": [],
   "source": [
    "%%time\n",
    "try:\n",
    "    # open a gRPC channel\n",
    "    with channel_helpers.get_grpc_channel() as channel:  \n",
    "        \n",
    "        # instantiate the tick vwap service\n",
    "        service = tick_vwap_service.TickVwapServiceStub(channel)\n",
    "        \n",
    "        # process the tick vwap request\n",
    "        time_stamps_docu_069, trades_docu_069, vwaps_docu_069 = [], [], []\n",
    "        metadata = [('authorization', token)]\n",
    "        for v in service.TickVwap(request=request_docu_vwap_069, metadata=metadata):\n",
    "            time_stamps_docu_069.append(v.time_stamp)\n",
    "            trades_docu_069.append(v.trade)\n",
    "            vwaps_docu_069.append(v.vwap)\n",
    "except grpc.RpcError as e:\n",
    "    display(e.code().name)\n",
    "    display(e.details())"
   ]
  },
  {
   "cell_type": "code",
   "execution_count": null,
   "id": "4687f6bd-f635-4a93-ac1e-25443d085c7f",
   "metadata": {},
   "outputs": [],
   "source": [
    "%%time\n",
    "try:\n",
    "    # open a gRPC channel\n",
    "    with channel_helpers.get_grpc_channel() as channel:  \n",
    "        \n",
    "        # instantiate the tick vwap service\n",
    "        service = tick_vwap_service.TickVwapServiceStub(channel)\n",
    "        \n",
    "        # process the tick vwap request\n",
    "        time_stamps_docu_no069, trades_docu_no069, vwaps_docu_no069 = [], [], []\n",
    "        metadata = [('authorization', token)]\n",
    "        for v in service.TickVwap(request=request_docu_vwap_no069, metadata=metadata):\n",
    "            time_stamps_docu_no069.append(v.time_stamp)\n",
    "            trades_docu_no069.append(v.trade)\n",
    "            vwaps_docu_no069.append(v.vwap)\n",
    "except grpc.RpcError as e:\n",
    "    display(e.code().name)\n",
    "    display(e.details())"
   ]
  },
  {
   "cell_type": "code",
   "execution_count": null,
   "id": "7ecfbbf3-e91f-4351-be94-672ddfb35e3c",
   "metadata": {},
   "outputs": [],
   "source": [
    "%%time\n",
    "try:\n",
    "    # open a gRPC channel\n",
    "    with channel_helpers.get_grpc_channel() as channel:  \n",
    "        \n",
    "        # instantiate the tick vwap service\n",
    "        service = tick_vwap_service.TickVwapServiceStub(channel)\n",
    "        \n",
    "        # process the tick vwap request\n",
    "        time_stamps_docu_0, trades_docu_0, vwaps_docu_0 = [], [], []\n",
    "        metadata = [('authorization', token)]\n",
    "        for v in service.TickVwap(request=request_docu_vwap_0, metadata=metadata):\n",
    "            time_stamps_docu_0.append(v.time_stamp)\n",
    "            trades_docu_0.append(v.trade)\n",
    "            vwaps_docu_0.append(v.vwap)\n",
    "except grpc.RpcError as e:\n",
    "    display(e.code().name)\n",
    "    display(e.details())"
   ]
  },
  {
   "cell_type": "code",
   "execution_count": null,
   "id": "b2af09fa-ab96-41ee-8352-f6dc9a161624",
   "metadata": {},
   "outputs": [],
   "source": [
    "%%time\n",
    "try:\n",
    "    # open a gRPC channel\n",
    "    with channel_helpers.get_grpc_channel() as channel:  \n",
    "        \n",
    "        # instantiate the tick vwap service\n",
    "        service = tick_vwap_service.TickVwapServiceStub(channel)\n",
    "        \n",
    "        # process the tick vwap request\n",
    "        time_stamps_docu_6, trades_docu_6, vwaps_docu_6 = [], [], []\n",
    "        metadata = [('authorization', token)]\n",
    "        for v in service.TickVwap(request=request_docu_vwap_6, metadata=metadata):\n",
    "            time_stamps_docu_6.append(v.time_stamp)\n",
    "            trades_docu_6.append(v.trade)\n",
    "            vwaps_docu_6.append(v.vwap)\n",
    "except grpc.RpcError as e:\n",
    "    display(e.code().name)\n",
    "    display(e.details())"
   ]
  },
  {
   "cell_type": "code",
   "execution_count": null,
   "id": "257ccdb5-8bed-4d5d-ac5d-4958eb883c51",
   "metadata": {},
   "outputs": [],
   "source": [
    "%%time\n",
    "try:\n",
    "    # open a gRPC channel\n",
    "    with channel_helpers.get_grpc_channel() as channel:  \n",
    "        \n",
    "        # instantiate the tick vwap service\n",
    "        service = tick_vwap_service.TickVwapServiceStub(channel)\n",
    "        \n",
    "        # process the tick vwap request\n",
    "        time_stamps_docu_9, trades_docu_9, vwaps_docu_9 = [], [], []\n",
    "        metadata = [('authorization', token)]\n",
    "        for v in service.TickVwap(request=request_docu_vwap_9, metadata=metadata):\n",
    "            time_stamps_docu_9.append(v.time_stamp)\n",
    "            trades_docu_9.append(v.trade)\n",
    "            vwaps_docu_9.append(v.vwap)\n",
    "except grpc.RpcError as e:\n",
    "    display(e.code().name)\n",
    "    display(e.details())"
   ]
  },
  {
   "cell_type": "markdown",
   "id": "1f3cefe4-230c-4b09-b66e-03f5ea17bccd",
   "metadata": {
    "tags": []
   },
   "source": [
    "#### Dataframes Creation"
   ]
  },
  {
   "cell_type": "code",
   "execution_count": null,
   "id": "add92642-7f4c-4aad-bf7c-db065e130cea",
   "metadata": {},
   "outputs": [],
   "source": [
    "# create the vwap dataframe\n",
    "dates_docu=[datetime.fromtimestamp(ts.seconds) for ts in time_stamps_docu]\n",
    "d_docu_vwap = {'Date': dates_docu, 'Trade': trades_docu, 'Vwap': vwaps_docu}\n",
    "df_docu_vwap_all = pd.DataFrame(data=d_docu_vwap)\n",
    "df_docu_vwap_all.head(10)"
   ]
  },
  {
   "cell_type": "code",
   "execution_count": null,
   "id": "fcb13eb7-f107-44c2-b183-a51129567184",
   "metadata": {},
   "outputs": [],
   "source": [
    "# create the vwap dataframe\n",
    "dates_docu_069=[datetime.fromtimestamp(ts.seconds) for ts in time_stamps_docu_069]\n",
    "d_docu_vwap_069 = {'Date': dates_docu_069, 'Trade': trades_docu_069, 'Vwap': vwaps_docu_069}\n",
    "df_docu_vwap_069 = pd.DataFrame(data=d_docu_vwap_069)\n",
    "df_docu_vwap_069.head(10)"
   ]
  },
  {
   "cell_type": "code",
   "execution_count": null,
   "id": "983055e6-fca2-4089-8426-bde9842f0a47",
   "metadata": {},
   "outputs": [],
   "source": [
    "# create the vwap dataframe\n",
    "dates_docu_no069=[datetime.fromtimestamp(ts.seconds) for ts in time_stamps_docu_no069]\n",
    "d_docu_vwap_no069 = {'Date': dates_docu_no069, 'Trade': trades_docu_no069, 'Vwap': vwaps_docu_no069}\n",
    "df_docu_vwap_no069 = pd.DataFrame(data=d_docu_vwap_no069)\n",
    "df_docu_vwap_no069.head(10)"
   ]
  },
  {
   "cell_type": "code",
   "execution_count": null,
   "id": "66aa0d00-0daf-4b5e-be91-53b1541bf722",
   "metadata": {},
   "outputs": [],
   "source": [
    "# create the vwap dataframe\n",
    "dates_docu_0=[datetime.fromtimestamp(ts.seconds) for ts in time_stamps_docu_0]\n",
    "d_docu_vwap_0 = {'Date': dates_docu_0, 'Trade': trades_docu_0, 'Vwap': vwaps_docu_0}\n",
    "df_docu_vwap_0 = pd.DataFrame(data=d_docu_vwap_0)\n",
    "df_docu_vwap_0.head(10)"
   ]
  },
  {
   "cell_type": "code",
   "execution_count": null,
   "id": "5bf05d84-d53f-41fc-b696-c30ad3ed77da",
   "metadata": {},
   "outputs": [],
   "source": [
    "# create the vwap dataframe\n",
    "dates_docu_6=[datetime.fromtimestamp(ts.seconds) for ts in time_stamps_docu_6]\n",
    "d_docu_vwap_6 = {'Date': dates_docu_6, 'Trade': trades_docu_6, 'Vwap': vwaps_docu_6}\n",
    "df_docu_vwap_6 = pd.DataFrame(data=d_docu_vwap_6)\n",
    "df_docu_vwap_6.head(10)"
   ]
  },
  {
   "cell_type": "code",
   "execution_count": null,
   "id": "5aa290bd-fa83-4962-bb07-5415aad15cda",
   "metadata": {},
   "outputs": [],
   "source": [
    "# create the vwap dataframe\n",
    "dates_docu_9=[datetime.fromtimestamp(ts.seconds) for ts in time_stamps_docu_9]\n",
    "d_docu_vwap_9 = {'Date': dates_docu_9, 'Trade': trades_docu_9, 'Vwap': vwaps_docu_9}\n",
    "df_docu_vwap_9 = pd.DataFrame(data=d_docu_vwap_9)\n",
    "df_docu_vwap_9.head(10)"
   ]
  },
  {
   "cell_type": "markdown",
   "id": "36094a28-7187-4e8b-b321-36b210454943",
   "metadata": {
    "tags": []
   },
   "source": [
    "#### Visualisation"
   ]
  },
  {
   "cell_type": "code",
   "execution_count": null,
   "id": "640dc5c7-2571-463f-a43f-f8767253ca8e",
   "metadata": {},
   "outputs": [],
   "source": [
    "# create figure and axis objects with subplots()\n",
    "fig, ax = plt.subplots(1,1,figsize=(25,13))\n",
    "\n",
    "ax.plot('Date', 'Trade', data=df_docu_vwap_all, marker='', color='blue', linewidth=1, label=\"Trades\")\n",
    "\n",
    "ax.plot('Date', 'Vwap', data=df_docu_vwap_all, marker='', color='orange', linewidth=1, label=\"VWAP\")\n",
    "ax.plot('Date', 'Vwap', data=df_docu_vwap_069, marker='', color='red', linewidth=1, label=\"VWAP_069\")\n",
    "ax.plot('Date', 'Vwap', data=df_docu_vwap_no069, marker='', color='green', linewidth=1, label=\"VWAP_no069\")\n",
    "ax.plot('Date', 'Vwap', data=df_docu_vwap_0, marker='', color='black', linewidth=1, label=\"VWAP_0\")\n",
    "ax.plot('Date', 'Vwap', data=df_docu_vwap_6, marker='', color='purple', linewidth=1, label=\"VWAP_6\")\n",
    "ax.plot('Date', 'Vwap', data=df_docu_vwap_9, marker='', color='yellow', linewidth=1, label=\"VWAP_9\")\n",
    "\n",
    "ax.set_xlabel(\"Date\",fontsize=14)\n",
    "ax.set_ylabel(\"Price\",color=\"black\",fontsize=14)\n",
    "plt.legend()\n",
    "plt.title('Tick Vwap and Trades for {0}-{1}'.format('DOCU', 'XNGS'),fontsize=20)\n",
    "plt.show()"
   ]
  },
  {
   "cell_type": "markdown",
   "id": "aa2e9dcf-8dda-4cbf-9466-1a149d33e869",
   "metadata": {},
   "source": [
    "***\n",
    "## V - Candlestick/Bars graph\n",
    "We are now going to see on our chosen equities, candlestick grpah visualisation differs with or without some trading conditions."
   ]
  },
  {
   "cell_type": "markdown",
   "id": "f99a2e26-e782-4500-b9ed-fe61c4d457b4",
   "metadata": {},
   "source": [
    "### Parameters"
   ]
  },
  {
   "cell_type": "code",
   "execution_count": null,
   "id": "7bb37fb1-e292-4247-9f66-0bfece0036ea",
   "metadata": {},
   "outputs": [],
   "source": [
    "# set the bar duration\n",
    "sampling = 1 * 60 * 10 # 10 min bars graph\n",
    "\n",
    "# set the bar calculation field\n",
    "field = tick_bars.BAR_PRICE_TRADE "
   ]
  },
  {
   "cell_type": "code",
   "execution_count": null,
   "id": "9f1cb080-e5bc-4fc8-8062-81c69ab16ddb",
   "metadata": {
    "tags": []
   },
   "outputs": [],
   "source": [
    "# create time intervals (we are using Google date format)\n",
    "date_interval_bars = dateinterval.DateInterval(\n",
    "    start_date = date.Date(year = 2022, month = 1, day = 5), \n",
    "    end_date = date.Date(year = 2022, month = 1, day = 5)\n",
    ")\n",
    "\n",
    "# build the market data request time interval (we are using Google time format)\n",
    "# UTC time zone\n",
    "time_interval_bars = timeinterval.TimeInterval(\n",
    "    start_time = timeofday.TimeOfDay(hours = 14, minutes = 30, seconds = 0), \n",
    "    end_time = timeofday.TimeOfDay(hours = 21, minutes = 0, seconds = 0)\n",
    ")"
   ]
  },
  {
   "cell_type": "code",
   "execution_count": null,
   "id": "5cd9f14f-e0cb-4a21-89b7-157e4a2db9a4",
   "metadata": {
    "tags": []
   },
   "outputs": [],
   "source": [
    "# generate constraints based on the previous time selection\n",
    "my_constraints_bars = constraints.Constraints(\n",
    "    date_intervals = [date_interval_bars],\n",
    "    time_intervals = [time_interval_bars],\n",
    ")"
   ]
  },
  {
   "cell_type": "code",
   "execution_count": null,
   "id": "c75fb3de-8f08-4bda-bb8b-80d4e7384f45",
   "metadata": {},
   "outputs": [],
   "source": [
    "def highlight(s):\n",
    "    if s.Open > s.Close:\n",
    "        return ['background-color: red; opacity: 0.5; color:white '] * len(s)\n",
    "    else:\n",
    "        return ['background-color: green; opacity: 0.5; color:white'] * len(s)"
   ]
  },
  {
   "cell_type": "markdown",
   "id": "b6df6f4d-4605-4ee9-9450-fbba27800aef",
   "metadata": {
    "tags": []
   },
   "source": [
    "### Apple\n"
   ]
  },
  {
   "cell_type": "markdown",
   "id": "8c37d994-2aab-446b-af5d-a229ecfe6337",
   "metadata": {
    "tags": []
   },
   "source": [
    "#### Request"
   ]
  },
  {
   "cell_type": "code",
   "execution_count": null,
   "id": "d3d48129-bae5-4280-b1a8-6086714f23fe",
   "metadata": {},
   "outputs": [],
   "source": [
    "# generate the tick_bars request\n",
    "request_apple_bars = tick_bars.TickBarsRequest(\n",
    "    identifier = identifier.Identifier(exchange = 'XNGS', ticker = 'AAPL'),\n",
    "    constraints = my_constraints_bars,\n",
    "    sampling = duration.Duration(seconds = sampling),\n",
    "    field = field\n",
    ")\n",
    "\n",
    "request_apple_bars_069 = tick_bars.TickBarsRequest(\n",
    "    identifier = identifier.Identifier(exchange = 'XNGS', ticker = 'AAPL'),\n",
    "    constraints = my_constraints_bars,\n",
    "    sampling = duration.Duration(seconds = sampling),\n",
    "    field = field,\n",
    "    accept = ['0','6','9']\n",
    ")\n",
    "\n",
    "request_apple_bars_no069 = tick_bars.TickBarsRequest(\n",
    "    identifier = identifier.Identifier(exchange = 'XNGS', ticker = 'AAPL'),\n",
    "    constraints = my_constraints_bars,\n",
    "    sampling = duration.Duration(seconds = sampling),\n",
    "    field = field,\n",
    "    reject = ['0','6','9']\n",
    ")\n",
    "\n",
    "request_apple_bars_0 = tick_bars.TickBarsRequest(\n",
    "    identifier = identifier.Identifier(exchange = 'XNGS', ticker = 'AAPL'),\n",
    "    constraints = my_constraints_bars,\n",
    "    sampling = duration.Duration(seconds = sampling),\n",
    "    field = field,\n",
    "    accept = ['0']\n",
    ")\n",
    "\n",
    "request_apple_bars_6 = tick_bars.TickBarsRequest(\n",
    "    identifier = identifier.Identifier(exchange = 'XNGS', ticker = 'AAPL'),\n",
    "    constraints = my_constraints_bars,\n",
    "    sampling = duration.Duration(seconds = sampling),\n",
    "    field = field,\n",
    "    accept = ['6']\n",
    ")\n",
    "\n",
    "request_apple_bars_9 = tick_bars.TickBarsRequest(\n",
    "    identifier = identifier.Identifier(exchange = 'XNGS', ticker = 'AAPL'),\n",
    "    constraints = my_constraints_bars,\n",
    "    sampling = duration.Duration(seconds = sampling),\n",
    "    field = field,\n",
    "    accept = ['9']\n",
    ")"
   ]
  },
  {
   "cell_type": "code",
   "execution_count": null,
   "id": "27fdaceb-c66d-456e-8a43-4421b6add92f",
   "metadata": {},
   "outputs": [],
   "source": [
    "%%time\n",
    "try:\n",
    "    # open a gRPC channel\n",
    "    with channel_helpers.get_grpc_channel() as channel:  \n",
    "        \n",
    "        # instantiate the tick apple_bars service\n",
    "        service = tick_bars_service.TickBarsServiceStub(channel)\n",
    "        \n",
    "        # process the tick apple_bars requests\n",
    "        apple_bars_all = []\n",
    "        metadata = [('authorization', token)]\n",
    "        for bar in service.TickBars(request=request_apple_bars, metadata=metadata):\n",
    "                apple_bars_all.append(bar)\n",
    "        \n",
    "        apple_bars_069 = []\n",
    "        metadata = [('authorization', token)]\n",
    "        for bar in service.TickBars(request=request_apple_bars_069, metadata=metadata):\n",
    "                apple_bars_069.append(bar)\n",
    "                \n",
    "        apple_bars_no069 = []\n",
    "        metadata = [('authorization', token)]\n",
    "        for bar in service.TickBars(request=request_apple_bars_no069, metadata=metadata):\n",
    "                apple_bars_no069.append(bar)\n",
    "        \n",
    "        apple_bars_0 = []\n",
    "        metadata = [('authorization', token)]\n",
    "        for bar in service.TickBars(request=request_apple_bars_0, metadata=metadata):\n",
    "                apple_bars_0.append(bar)\n",
    "        \n",
    "        apple_bars_6 = []\n",
    "        metadata = [('authorization', token)]\n",
    "        for bar in service.TickBars(request=request_apple_bars_6, metadata=metadata):\n",
    "                apple_bars_6.append(bar)\n",
    "        \n",
    "        apple_bars_9 = []\n",
    "        metadata = [('authorization', token)]\n",
    "        for bar in service.TickBars(request=request_apple_bars_9, metadata=metadata):\n",
    "                apple_bars_9.append(bar)\n",
    "        \n",
    "except grpc.RpcError as e:\n",
    "    display(e.code().name)\n",
    "    display(e.details())"
   ]
  },
  {
   "cell_type": "markdown",
   "id": "5b34a74a-5c9f-47bf-8ce9-6272ba9434c2",
   "metadata": {
    "tags": []
   },
   "source": [
    "#### Datesframes Creation"
   ]
  },
  {
   "cell_type": "code",
   "execution_count": null,
   "id": "03944181-cc40-4a9e-8df4-864717655c77",
   "metadata": {},
   "outputs": [],
   "source": [
    "# prepare the dataframe content\n",
    "dates_apple_bars_all=[datetime.fromtimestamp(b.time_stamp.seconds) for b in apple_bars_all]\n",
    "opens_apple_bars_all = [b.open for b in apple_bars_all]\n",
    "highs_apple_bars_all = [b.high for b in apple_bars_all]\n",
    "lows_apple_bars_all = [b.low for b in apple_bars_all]\n",
    "closes_apple_bars_all = [b.close for b in apple_bars_all]\n",
    "volumes_apple_bars_all = [ts.volume for ts in apple_bars_all]\n",
    "counts_apple_bars_all = [ts.count for ts in apple_bars_all]\n",
    "bars_apple_bars_all = [ts.vwap for ts in apple_bars_all]\n",
    "\n",
    "# create a pandas dataframe with: dates, apple_bars and ticks count used for each bar\n",
    "d_apple_bars_all = {'Date': dates_apple_bars_all, 'Open': opens_apple_bars_all, 'High': highs_apple_bars_all, 'Low' : lows_apple_bars_all,'Close': closes_apple_bars_all, 'Volume': volumes_apple_bars_all, 'Count': counts_apple_bars_all, 'Vwap': bars_apple_bars_all}\n",
    "df_apple_bars_all = pd.DataFrame(data=d_apple_bars_all)\n",
    "df_apple_bars_all = df_apple_bars_all.set_index('Date')\n",
    "df_apple_bars_all.head(5).style.apply(highlight, axis=1)"
   ]
  },
  {
   "cell_type": "code",
   "execution_count": null,
   "id": "27485b17-f719-4e8b-b1b0-a70f86133eed",
   "metadata": {},
   "outputs": [],
   "source": [
    "# prepare the dataframe content\n",
    "dates_apple_bars_069=[datetime.fromtimestamp(b.time_stamp.seconds) for b in apple_bars_069]\n",
    "opens_apple_bars_069 = [b.open for b in apple_bars_069]\n",
    "highs_apple_bars_069 = [b.high for b in apple_bars_069]\n",
    "lows_apple_bars_069 = [b.low for b in apple_bars_069]\n",
    "closes_apple_bars_069 = [b.close for b in apple_bars_069]\n",
    "volumes_apple_bars_069 = [ts.volume for ts in apple_bars_069]\n",
    "counts_apple_bars_069 = [ts.count for ts in apple_bars_069]\n",
    "bars_apple_bars_069 = [ts.vwap for ts in apple_bars_069]\n",
    "\n",
    "# create a pandas dataframe with: dates, apple_bars and ticks count used for each bar\n",
    "d_apple_bars_069 = {'Date': dates_apple_bars_069, 'Open': opens_apple_bars_069, 'High': highs_apple_bars_069, 'Low' : lows_apple_bars_069,'Close': closes_apple_bars_069, 'Volume': volumes_apple_bars_069, 'Count': counts_apple_bars_069, 'Vwap': bars_apple_bars_069}\n",
    "df_apple_bars_069 = pd.DataFrame(data=d_apple_bars_069)\n",
    "df_apple_bars_069 = df_apple_bars_069.set_index('Date')\n",
    "df_apple_bars_069.head(5).style.apply(highlight, axis=1)"
   ]
  },
  {
   "cell_type": "code",
   "execution_count": null,
   "id": "61e1f61d-5ecd-4eb2-8e62-c3f8a730b7c3",
   "metadata": {},
   "outputs": [],
   "source": [
    "# prepare the dataframe content\n",
    "dates_apple_bars_no069=[datetime.fromtimestamp(b.time_stamp.seconds) for b in apple_bars_no069]\n",
    "opens_apple_bars_no069 = [b.open for b in apple_bars_no069]\n",
    "highs_apple_bars_no069 = [b.high for b in apple_bars_no069]\n",
    "lows_apple_bars_no069 = [b.low for b in apple_bars_no069]\n",
    "closes_apple_bars_no069 = [b.close for b in apple_bars_no069]\n",
    "volumes_apple_bars_no069 = [ts.volume for ts in apple_bars_no069]\n",
    "counts_apple_bars_no069 = [ts.count for ts in apple_bars_no069]\n",
    "bars_apple_bars_no069 = [ts.vwap for ts in apple_bars_no069]\n",
    "\n",
    "# create a pandas dataframe with: dates, apple_bars and ticks count used for each bar\n",
    "d_apple_bars_no069 = {'Date': dates_apple_bars_no069, 'Open': opens_apple_bars_no069, 'High': highs_apple_bars_no069, 'Low' : lows_apple_bars_no069,'Close': closes_apple_bars_no069, 'Volume': volumes_apple_bars_no069, 'Count': counts_apple_bars_no069, 'Vwap': bars_apple_bars_no069}\n",
    "df_apple_bars_no069 = pd.DataFrame(data=d_apple_bars_no069)\n",
    "df_apple_bars_no069 = df_apple_bars_no069.set_index('Date')\n",
    "df_apple_bars_no069.head(5).style.apply(highlight, axis=1)"
   ]
  },
  {
   "cell_type": "code",
   "execution_count": null,
   "id": "a49a4429-712a-447f-b112-3c3bb668667d",
   "metadata": {},
   "outputs": [],
   "source": [
    "# prepare the dataframe content\n",
    "dates_apple_bars_0=[datetime.fromtimestamp(b.time_stamp.seconds) for b in apple_bars_0]\n",
    "opens_apple_bars_0 = [b.open for b in apple_bars_0]\n",
    "highs_apple_bars_0 = [b.high for b in apple_bars_0]\n",
    "lows_apple_bars_0 = [b.low for b in apple_bars_0]\n",
    "closes_apple_bars_0 = [b.close for b in apple_bars_0]\n",
    "volumes_apple_bars_0 = [ts.volume for ts in apple_bars_0]\n",
    "counts_apple_bars_0 = [ts.count for ts in apple_bars_0]\n",
    "bars_apple_bars_0 = [ts.vwap for ts in apple_bars_0]\n",
    "\n",
    "# create a pandas dataframe with: dates, apple_bars and ticks count used for each bar\n",
    "d_apple_bars_0 = {'Date': dates_apple_bars_0, 'Open': opens_apple_bars_0, 'High': highs_apple_bars_0, 'Low' : lows_apple_bars_0,'Close': closes_apple_bars_0, 'Volume': volumes_apple_bars_0, 'Count': counts_apple_bars_0, 'Vwap': bars_apple_bars_0}\n",
    "df_apple_bars_0 = pd.DataFrame(data=d_apple_bars_0)\n",
    "df_apple_bars_0 = df_apple_bars_0.set_index('Date')\n",
    "df_apple_bars_0.head(5).style.apply(highlight, axis=1)"
   ]
  },
  {
   "cell_type": "code",
   "execution_count": null,
   "id": "3e006b03-397e-49eb-8850-ac0bc11a4fe9",
   "metadata": {},
   "outputs": [],
   "source": [
    "# prepare the dataframe content\n",
    "dates_apple_bars_6=[datetime.fromtimestamp(b.time_stamp.seconds) for b in apple_bars_6]\n",
    "opens_apple_bars_6 = [b.open for b in apple_bars_6]\n",
    "highs_apple_bars_6 = [b.high for b in apple_bars_6]\n",
    "lows_apple_bars_6 = [b.low for b in apple_bars_6]\n",
    "closes_apple_bars_6 = [b.close for b in apple_bars_6]\n",
    "volumes_apple_bars_6 = [ts.volume for ts in apple_bars_6]\n",
    "counts_apple_bars_6 = [ts.count for ts in apple_bars_6]\n",
    "bars_apple_bars_6 = [ts.vwap for ts in apple_bars_6]\n",
    "\n",
    "# create a pandas dataframe with: dates, apple_bars and ticks count used for each bar\n",
    "d_apple_bars_6 = {'Date': dates_apple_bars_6, 'Open': opens_apple_bars_6, 'High': highs_apple_bars_6, 'Low' : lows_apple_bars_6,'Close': closes_apple_bars_6, 'Volume': volumes_apple_bars_6, 'Count': counts_apple_bars_6, 'Vwap': bars_apple_bars_6}\n",
    "df_apple_bars_6 = pd.DataFrame(data=d_apple_bars_6)\n",
    "df_apple_bars_6 = df_apple_bars_6.set_index('Date')\n",
    "df_apple_bars_6.head(5).style.apply(highlight, axis=1)"
   ]
  },
  {
   "cell_type": "code",
   "execution_count": null,
   "id": "8a922bad-2da9-45d7-b982-54cda11a6202",
   "metadata": {},
   "outputs": [],
   "source": [
    "# prepare the dataframe content\n",
    "dates_apple_bars_9=[datetime.fromtimestamp(b.time_stamp.seconds) for b in apple_bars_9]\n",
    "opens_apple_bars_9 = [b.open for b in apple_bars_9]\n",
    "highs_apple_bars_9 = [b.high for b in apple_bars_9]\n",
    "lows_apple_bars_9 = [b.low for b in apple_bars_9]\n",
    "closes_apple_bars_9 = [b.close for b in apple_bars_9]\n",
    "volumes_apple_bars_9 = [ts.volume for ts in apple_bars_9]\n",
    "counts_apple_bars_9 = [ts.count for ts in apple_bars_9]\n",
    "bars_apple_bars_9 = [ts.vwap for ts in apple_bars_9]\n",
    "\n",
    "# create a pandas dataframe with: dates, apple_bars and ticks count used for each bar\n",
    "d_apple_bars_9 = {'Date': dates_apple_bars_9, 'Open': opens_apple_bars_9, 'High': highs_apple_bars_9, 'Low' : lows_apple_bars_9,'Close': closes_apple_bars_9, 'Volume': volumes_apple_bars_9, 'Count': counts_apple_bars_9, 'Vwap': bars_apple_bars_9}\n",
    "df_apple_bars_9 = pd.DataFrame(data=d_apple_bars_9)\n",
    "df_apple_bars_9 = df_apple_bars_9.set_index('Date')\n",
    "df_apple_bars_9.head(5).style.apply(highlight, axis=1)"
   ]
  },
  {
   "cell_type": "markdown",
   "id": "e1d661d0-e377-44b2-87ef-a1eefa5b7dd6",
   "metadata": {
    "tags": []
   },
   "source": [
    "#### Visualisation"
   ]
  },
  {
   "cell_type": "code",
   "execution_count": null,
   "id": "a0488e2a-c22e-4eb8-8b0d-4fa529250c32",
   "metadata": {
    "tags": []
   },
   "outputs": [],
   "source": [
    "mpf.plot(df_apple_bars_all, figratio=(40,15),\n",
    "         type = 'candle', \n",
    "         title=('All Trading Conditions'),\n",
    "         volume = True, \n",
    "         tight_layout = True,\n",
    "         style='yahoo'\n",
    "        )\n",
    "\n",
    "mpf.plot(df_apple_bars_069, figratio=(40,15),\n",
    "         type = 'candle', \n",
    "         title=('The Three Main Trading Conditions'),\n",
    "         volume = True, \n",
    "         tight_layout = True,\n",
    "         style='yahoo'\n",
    "        )\n",
    "\n",
    "mpf.plot(df_apple_bars_no069, figratio=(40,15),\n",
    "         type = 'candle', \n",
    "         title=('All the Others'),\n",
    "         volume = True, \n",
    "         tight_layout = True,\n",
    "         style='yahoo'\n",
    "        )\n",
    "\n",
    "mpf.plot(df_apple_bars_0, figratio=(40,15),\n",
    "         type = 'candle', \n",
    "         title=('Regular Trades'),\n",
    "         volume = True, \n",
    "         tight_layout = True,\n",
    "         style='yahoo'\n",
    "        )\n",
    "\n",
    "mpf.plot(df_apple_bars_6, figratio=(40,15),\n",
    "         type = 'candle', \n",
    "         title=('Intermarket Sweep'),\n",
    "         volume = True, \n",
    "         tight_layout = True,\n",
    "         style='yahoo'\n",
    "        )\n",
    "\n",
    "mpf.plot(df_apple_bars_9, figratio=(40,15),\n",
    "         type = 'candle', \n",
    "         title=('Odd Lot Trades'),\n",
    "         volume = True, \n",
    "         tight_layout = True,\n",
    "         style='yahoo'\n",
    "        ) "
   ]
  },
  {
   "cell_type": "markdown",
   "id": "913fc5dd-7514-4d7e-9173-8431eb8d63ec",
   "metadata": {
    "tags": []
   },
   "source": [
    "### Air BNB\n"
   ]
  },
  {
   "cell_type": "markdown",
   "id": "4fc7a343-cff0-4c5c-8b15-6c8640fa5a7a",
   "metadata": {
    "tags": []
   },
   "source": [
    "#### Request"
   ]
  },
  {
   "cell_type": "code",
   "execution_count": null,
   "id": "aeefa1d0-cb0d-42e8-bf58-673dc19929bf",
   "metadata": {},
   "outputs": [],
   "source": [
    "# generate the tick _bars request\n",
    "request_abnb_bars = tick_bars.TickBarsRequest(\n",
    "    identifier = identifier.Identifier(exchange = 'XNGS', ticker = 'ABNB'),\n",
    "    constraints = my_constraints_bars,\n",
    "    sampling = duration.Duration(seconds = sampling),\n",
    "    field = field\n",
    ")\n",
    "\n",
    "request_abnb_bars_069 = tick_bars.TickBarsRequest(\n",
    "    identifier = identifier.Identifier(exchange = 'XNGS', ticker = 'ABNB'),\n",
    "    constraints = my_constraints_bars,\n",
    "    sampling = duration.Duration(seconds = sampling),\n",
    "    field = field,\n",
    "    accept = ['0','6','9']\n",
    ")\n",
    "\n",
    "request_abnb_bars_no069 = tick_bars.TickBarsRequest(\n",
    "    identifier = identifier.Identifier(exchange = 'XNGS', ticker = 'ABNB'),\n",
    "    constraints = my_constraints_bars,\n",
    "    sampling = duration.Duration(seconds = sampling),\n",
    "    field = field,\n",
    "    reject = ['0','6','9']\n",
    ")\n",
    "\n",
    "request_abnb_bars_0 = tick_bars.TickBarsRequest(\n",
    "    identifier = identifier.Identifier(exchange = 'XNGS', ticker = 'ABNB'),\n",
    "    constraints = my_constraints_bars,\n",
    "    sampling = duration.Duration(seconds = sampling),\n",
    "    field = field,\n",
    "    accept = ['0']\n",
    ")\n",
    "\n",
    "request_abnb_bars_6 = tick_bars.TickBarsRequest(\n",
    "    identifier = identifier.Identifier(exchange = 'XNGS', ticker = 'ABNB'),\n",
    "    constraints = my_constraints_bars,\n",
    "    sampling = duration.Duration(seconds = sampling),\n",
    "    field = field,\n",
    "    accept = ['6']\n",
    ")\n",
    "\n",
    "request_abnb_bars_9 = tick_bars.TickBarsRequest(\n",
    "    identifier = identifier.Identifier(exchange = 'XNGS', ticker = 'ABNB'),\n",
    "    constraints = my_constraints_bars,\n",
    "    sampling = duration.Duration(seconds = sampling),\n",
    "    field = field,\n",
    "    accept = ['9']\n",
    ")"
   ]
  },
  {
   "cell_type": "code",
   "execution_count": null,
   "id": "c2f1052c-570a-44b0-a949-757121433308",
   "metadata": {},
   "outputs": [],
   "source": [
    "%%time\n",
    "try:\n",
    "    # open a gRPC channel\n",
    "    with channel_helpers.get_grpc_channel() as channel:  \n",
    "        \n",
    "        # instantiate the tick bars service\n",
    "        service = tick_bars_service.TickBarsServiceStub(channel)\n",
    "        \n",
    "        # process the tick bars requests\n",
    "        abnb_bars_all = []\n",
    "        metadata = [('authorization', token)]\n",
    "        for bar in service.TickBars(request=request_abnb_bars, metadata=metadata):\n",
    "                abnb_bars_all.append(bar)\n",
    "        \n",
    "        abnb_bars_069 = []\n",
    "        metadata = [('authorization', token)]\n",
    "        for bar in service.TickBars(request=request_abnb_bars_069, metadata=metadata):\n",
    "                abnb_bars_069.append(bar)\n",
    "                \n",
    "        abnb_bars_no069 = []\n",
    "        metadata = [('authorization', token)]\n",
    "        for bar in service.TickBars(request=request_abnb_bars_no069, metadata=metadata):\n",
    "                abnb_bars_no069.append(bar)\n",
    "        \n",
    "        abnb_bars_0 = []\n",
    "        metadata = [('authorization', token)]\n",
    "        for bar in service.TickBars(request=request_abnb_bars_0, metadata=metadata):\n",
    "                abnb_bars_0.append(bar)\n",
    "        \n",
    "        abnb_bars_6 = []\n",
    "        metadata = [('authorization', token)]\n",
    "        for bar in service.TickBars(request=request_abnb_bars_6, metadata=metadata):\n",
    "                abnb_bars_6.append(bar)\n",
    "        \n",
    "        abnb_bars_9 = []\n",
    "        metadata = [('authorization', token)]\n",
    "        for bar in service.TickBars(request=request_abnb_bars_9, metadata=metadata):\n",
    "                abnb_bars_9.append(bar)\n",
    "        \n",
    "except grpc.RpcError as e:\n",
    "    display(e.code().name)\n",
    "    display(e.details())"
   ]
  },
  {
   "cell_type": "markdown",
   "id": "d774fb21-6ea7-4962-abb6-61bd570ce6ab",
   "metadata": {
    "tags": []
   },
   "source": [
    "#### Datesframes Creation"
   ]
  },
  {
   "cell_type": "code",
   "execution_count": null,
   "id": "42380ffb-79d1-47b6-97a5-980e5627ba01",
   "metadata": {},
   "outputs": [],
   "source": [
    "# prepare the dataframe content\n",
    "dates_abnb_bars_all=[datetime.fromtimestamp(b.time_stamp.seconds) for b in abnb_bars_all]\n",
    "opens_abnb_bars_all = [b.open for b in abnb_bars_all]\n",
    "highs_abnb_bars_all = [b.high for b in abnb_bars_all]\n",
    "lows_abnb_bars_all = [b.low for b in abnb_bars_all]\n",
    "closes_abnb_bars_all = [b.close for b in abnb_bars_all]\n",
    "volumes_abnb_bars_all = [ts.volume for ts in abnb_bars_all]\n",
    "counts_abnb_bars_all = [ts.count for ts in abnb_bars_all]\n",
    "bars_abnb_bars_all = [ts.vwap for ts in abnb_bars_all]\n",
    "\n",
    "# create a pandas dataframe with: dates, bars and ticks count used for each bar\n",
    "d_abnb_bars_all = {'Date': dates_abnb_bars_all, 'Open': opens_abnb_bars_all, 'High': highs_abnb_bars_all, 'Low' : lows_abnb_bars_all,'Close': closes_abnb_bars_all, 'Volume': volumes_abnb_bars_all, 'Count': counts_abnb_bars_all, 'Vwap': bars_abnb_bars_all}\n",
    "df_abnb_bars_all = pd.DataFrame(data=d_abnb_bars_all)\n",
    "df_abnb_bars_all = df_abnb_bars_all.set_index('Date')\n",
    "df_abnb_bars_all.head(5).style.apply(highlight, axis=1)"
   ]
  },
  {
   "cell_type": "code",
   "execution_count": null,
   "id": "2e56e1f4-e20b-4536-904e-373306bea0fd",
   "metadata": {},
   "outputs": [],
   "source": [
    "# prepare the dataframe content\n",
    "dates_abnb_bars_069=[datetime.fromtimestamp(b.time_stamp.seconds) for b in abnb_bars_069]\n",
    "opens_abnb_bars_069 = [b.open for b in abnb_bars_069]\n",
    "highs_abnb_bars_069 = [b.high for b in abnb_bars_069]\n",
    "lows_abnb_bars_069 = [b.low for b in abnb_bars_069]\n",
    "closes_abnb_bars_069 = [b.close for b in abnb_bars_069]\n",
    "volumes_abnb_bars_069 = [ts.volume for ts in abnb_bars_069]\n",
    "counts_abnb_bars_069 = [ts.count for ts in abnb_bars_069]\n",
    "bars_abnb_bars_069 = [ts.vwap for ts in abnb_bars_069]\n",
    "\n",
    "# create a pandas dataframe with: dates, abnb_bars and ticks count used for each bar\n",
    "d_abnb_bars_069 = {'Date': dates_abnb_bars_069, 'Open': opens_abnb_bars_069, 'High': highs_abnb_bars_069, 'Low' : lows_abnb_bars_069,'Close': closes_abnb_bars_069, 'Volume': volumes_abnb_bars_069, 'Count': counts_abnb_bars_069, 'Vwap': bars_abnb_bars_069}\n",
    "df_abnb_bars_069 = pd.DataFrame(data=d_abnb_bars_069)\n",
    "df_abnb_bars_069 = df_abnb_bars_069.set_index('Date')\n",
    "df_abnb_bars_069.head(5).style.apply(highlight, axis=1)"
   ]
  },
  {
   "cell_type": "code",
   "execution_count": null,
   "id": "24fa28b1-2ae5-490b-8a7d-7257b325cf63",
   "metadata": {},
   "outputs": [],
   "source": [
    "# prepare the dataframe content\n",
    "dates_abnb_bars_no069=[datetime.fromtimestamp(b.time_stamp.seconds) for b in abnb_bars_no069]\n",
    "opens_abnb_bars_no069 = [b.open for b in abnb_bars_no069]\n",
    "highs_abnb_bars_no069 = [b.high for b in abnb_bars_no069]\n",
    "lows_abnb_bars_no069 = [b.low for b in abnb_bars_no069]\n",
    "closes_abnb_bars_no069 = [b.close for b in abnb_bars_no069]\n",
    "volumes_abnb_bars_no069 = [ts.volume for ts in abnb_bars_no069]\n",
    "counts_abnb_bars_no069 = [ts.count for ts in abnb_bars_no069]\n",
    "bars_abnb_bars_no069 = [ts.vwap for ts in abnb_bars_no069]\n",
    "\n",
    "# create a pandas dataframe with: dates, abnb_bars and ticks count used for each bar\n",
    "d_abnb_bars_no069 = {'Date': dates_abnb_bars_no069, 'Open': opens_abnb_bars_no069, 'High': highs_abnb_bars_no069, 'Low' : lows_abnb_bars_no069,'Close': closes_abnb_bars_no069, 'Volume': volumes_abnb_bars_no069, 'Count': counts_abnb_bars_no069, 'Vwap': bars_abnb_bars_no069}\n",
    "df_abnb_bars_no069 = pd.DataFrame(data=d_abnb_bars_no069)\n",
    "df_abnb_bars_no069 = df_abnb_bars_no069.set_index('Date')\n",
    "df_abnb_bars_no069.head(5).style.apply(highlight, axis=1)"
   ]
  },
  {
   "cell_type": "code",
   "execution_count": null,
   "id": "b1e127dc-681b-4d55-8670-7ba1031eac78",
   "metadata": {},
   "outputs": [],
   "source": [
    "# prepare the dataframe content\n",
    "dates_abnb_bars_0=[datetime.fromtimestamp(b.time_stamp.seconds) for b in abnb_bars_0]\n",
    "opens_abnb_bars_0 = [b.open for b in abnb_bars_0]\n",
    "highs_abnb_bars_0 = [b.high for b in abnb_bars_0]\n",
    "lows_abnb_bars_0 = [b.low for b in abnb_bars_0]\n",
    "closes_abnb_bars_0 = [b.close for b in abnb_bars_0]\n",
    "volumes_abnb_bars_0 = [ts.volume for ts in abnb_bars_0]\n",
    "counts_abnb_bars_0 = [ts.count for ts in abnb_bars_0]\n",
    "bars_abnb_bars_0 = [ts.vwap for ts in abnb_bars_0]\n",
    "\n",
    "# create a pandas dataframe with: dates, abnb_bars and ticks count used for each bar\n",
    "d_abnb_bars_0 = {'Date': dates_abnb_bars_0, 'Open': opens_abnb_bars_0, 'High': highs_abnb_bars_0, 'Low' : lows_abnb_bars_0,'Close': closes_abnb_bars_0, 'Volume': volumes_abnb_bars_0, 'Count': counts_abnb_bars_0, 'Vwap': bars_abnb_bars_0}\n",
    "df_abnb_bars_0 = pd.DataFrame(data=d_abnb_bars_0)\n",
    "df_abnb_bars_0 = df_abnb_bars_0.set_index('Date')\n",
    "df_abnb_bars_0.head(5).style.apply(highlight, axis=1)"
   ]
  },
  {
   "cell_type": "code",
   "execution_count": null,
   "id": "a9ce3382-f9f6-4712-b062-51c9a4070859",
   "metadata": {},
   "outputs": [],
   "source": [
    "# prepare the dataframe content\n",
    "dates_abnb_bars_6=[datetime.fromtimestamp(b.time_stamp.seconds) for b in abnb_bars_6]\n",
    "opens_abnb_bars_6 = [b.open for b in abnb_bars_6]\n",
    "highs_abnb_bars_6 = [b.high for b in abnb_bars_6]\n",
    "lows_abnb_bars_6 = [b.low for b in abnb_bars_6]\n",
    "closes_abnb_bars_6 = [b.close for b in abnb_bars_6]\n",
    "volumes_abnb_bars_6 = [ts.volume for ts in abnb_bars_6]\n",
    "counts_abnb_bars_6 = [ts.count for ts in abnb_bars_6]\n",
    "bars_abnb_bars_6 = [ts.vwap for ts in abnb_bars_6]\n",
    "\n",
    "# create a pandas dataframe with: dates, abnb_bars and ticks count used for each bar\n",
    "d_abnb_bars_6 = {'Date': dates_abnb_bars_6, 'Open': opens_abnb_bars_6, 'High': highs_abnb_bars_6, 'Low' : lows_abnb_bars_6,'Close': closes_abnb_bars_6, 'Volume': volumes_abnb_bars_6, 'Count': counts_abnb_bars_6, 'Vwap': bars_abnb_bars_6}\n",
    "df_abnb_bars_6 = pd.DataFrame(data=d_abnb_bars_6)\n",
    "df_abnb_bars_6 = df_abnb_bars_6.set_index('Date')\n",
    "df_abnb_bars_6.head(5).style.apply(highlight, axis=1)"
   ]
  },
  {
   "cell_type": "code",
   "execution_count": null,
   "id": "56f9d836-49ca-445c-bf1c-b27cd947802d",
   "metadata": {},
   "outputs": [],
   "source": [
    "# prepare the dataframe content\n",
    "dates_abnb_bars_9=[datetime.fromtimestamp(b.time_stamp.seconds) for b in abnb_bars_9]\n",
    "opens_abnb_bars_9 = [b.open for b in abnb_bars_9]\n",
    "highs_abnb_bars_9 = [b.high for b in abnb_bars_9]\n",
    "lows_abnb_bars_9 = [b.low for b in abnb_bars_9]\n",
    "closes_abnb_bars_9 = [b.close for b in abnb_bars_9]\n",
    "volumes_abnb_bars_9 = [ts.volume for ts in abnb_bars_9]\n",
    "counts_abnb_bars_9 = [ts.count for ts in abnb_bars_9]\n",
    "bars_abnb_bars_9 = [ts.vwap for ts in abnb_bars_9]\n",
    "\n",
    "# create a pandas dataframe with: dates, abnb_bars and ticks count used for each bar\n",
    "d_abnb_bars_9 = {'Date': dates_abnb_bars_9, 'Open': opens_abnb_bars_9, 'High': highs_abnb_bars_9, 'Low' : lows_abnb_bars_9,'Close': closes_abnb_bars_9, 'Volume': volumes_abnb_bars_9, 'Count': counts_abnb_bars_9, 'Vwap': bars_abnb_bars_9}\n",
    "df_abnb_bars_9 = pd.DataFrame(data=d_abnb_bars_9)\n",
    "df_abnb_bars_9 = df_abnb_bars_9.set_index('Date')\n",
    "df_abnb_bars_9.head(5).style.apply(highlight, axis=1)"
   ]
  },
  {
   "cell_type": "markdown",
   "id": "b0fc676b-0dda-4aa1-80c5-5a19062377d8",
   "metadata": {
    "tags": []
   },
   "source": [
    "#### Visualisation"
   ]
  },
  {
   "cell_type": "code",
   "execution_count": null,
   "id": "af8bcfa1-5fb9-4a5b-b538-90e356b10fc8",
   "metadata": {
    "tags": []
   },
   "outputs": [],
   "source": [
    "mpf.plot(df_abnb_bars_all, figratio=(40,15),\n",
    "         type = 'candle', \n",
    "         title=('All Trading Conditions'),\n",
    "         volume = True, \n",
    "         tight_layout = True,\n",
    "         style='yahoo'\n",
    "        )\n",
    "\n",
    "mpf.plot(df_abnb_bars_069, figratio=(40,15),\n",
    "         type = 'candle', \n",
    "         title=('The Three Main Trading Conditions'),\n",
    "         volume = True, \n",
    "         tight_layout = True,\n",
    "         style='yahoo'\n",
    "        )\n",
    "\n",
    "mpf.plot(df_abnb_bars_no069, figratio=(40,15),\n",
    "         type = 'candle', \n",
    "         title=('All the Others'),\n",
    "         volume = True, \n",
    "         tight_layout = True,\n",
    "         style='yahoo'\n",
    "        )\n",
    "\n",
    "mpf.plot(df_abnb_bars_0, figratio=(40,15),\n",
    "         type = 'candle', \n",
    "         title=('Regular Trades'),\n",
    "         volume = True, \n",
    "         tight_layout = True,\n",
    "         style='yahoo'\n",
    "        )\n",
    "\n",
    "mpf.plot(df_abnb_bars_6, figratio=(40,15),\n",
    "         type = 'candle', \n",
    "         title=('Intermarket Sweep'),\n",
    "         volume = True, \n",
    "         tight_layout = True,\n",
    "         style='yahoo'\n",
    "        )\n",
    "\n",
    "mpf.plot(df_abnb_bars_9, figratio=(40,15),\n",
    "         type = 'candle', \n",
    "         title=('Odd Lot Trades'),\n",
    "         volume = True, \n",
    "         tight_layout = True,\n",
    "         style='yahoo'\n",
    "        )   "
   ]
  },
  {
   "cell_type": "markdown",
   "id": "7d43115c-296e-4bec-a033-d0f579295523",
   "metadata": {
    "tags": []
   },
   "source": [
    "### DocuSign\n"
   ]
  },
  {
   "cell_type": "markdown",
   "id": "b9ff0eb4-44f4-4a48-a123-25529cf5fb5c",
   "metadata": {
    "tags": []
   },
   "source": [
    "#### Request"
   ]
  },
  {
   "cell_type": "code",
   "execution_count": null,
   "id": "496a09ec-e83b-4c80-b12c-c39b25f8771d",
   "metadata": {},
   "outputs": [],
   "source": [
    "# generate the tick_bars request\n",
    "request_docu_bars = tick_bars.TickBarsRequest(\n",
    "    identifier = identifier.Identifier(exchange = 'XNGS', ticker = 'DOCU'),\n",
    "    constraints = my_constraints_bars,\n",
    "    sampling = duration.Duration(seconds = sampling),\n",
    "    field = field\n",
    ")\n",
    "\n",
    "request_docu_bars_069 = tick_bars.TickBarsRequest(\n",
    "    identifier = identifier.Identifier(exchange = 'XNGS', ticker = 'DOCU'),\n",
    "    constraints = my_constraints_bars,\n",
    "    sampling = duration.Duration(seconds = sampling),\n",
    "    field = field,\n",
    "    accept = ['0','6','9']\n",
    ")\n",
    "\n",
    "request_docu_bars_no069 = tick_bars.TickBarsRequest(\n",
    "    identifier = identifier.Identifier(exchange = 'XNGS', ticker = 'DOCU'),\n",
    "    constraints = my_constraints_bars,\n",
    "    sampling = duration.Duration(seconds = sampling),\n",
    "    field = field,\n",
    "    reject = ['0','6','9']\n",
    ")\n",
    "\n",
    "request_docu_bars_0 = tick_bars.TickBarsRequest(\n",
    "    identifier = identifier.Identifier(exchange = 'XNGS', ticker = 'DOCU'),\n",
    "    constraints = my_constraints_bars,\n",
    "    sampling = duration.Duration(seconds = sampling),\n",
    "    field = field,\n",
    "    accept = ['0']\n",
    ")\n",
    "\n",
    "request_docu_bars_6 = tick_bars.TickBarsRequest(\n",
    "    identifier = identifier.Identifier(exchange = 'XNGS', ticker = 'DOCU'),\n",
    "    constraints = my_constraints_bars,\n",
    "    sampling = duration.Duration(seconds = sampling),\n",
    "    field = field,\n",
    "    accept = ['6']\n",
    ")\n",
    "\n",
    "request_docu_bars_9 = tick_bars.TickBarsRequest(\n",
    "    identifier = identifier.Identifier(exchange = 'XNGS', ticker = 'DOCU'),\n",
    "    constraints = my_constraints_bars,\n",
    "    sampling = duration.Duration(seconds = sampling),\n",
    "    field = field,\n",
    "    accept = ['9']\n",
    ")"
   ]
  },
  {
   "cell_type": "code",
   "execution_count": null,
   "id": "e233a531-2ea8-4e4c-9dcb-53ff38e92f7f",
   "metadata": {},
   "outputs": [],
   "source": [
    "%%time\n",
    "try:\n",
    "    # open a gRPC channel\n",
    "    with channel_helpers.get_grpc_channel() as channel:  \n",
    "        \n",
    "        # instantiate the tick bars service\n",
    "        service = tick_bars_service.TickBarsServiceStub(channel)\n",
    "        \n",
    "        # process the tick bars requests\n",
    "        docu_bars_all = []\n",
    "        metadata = [('authorization', token)]\n",
    "        for bar in service.TickBars(request=request_docu_bars, metadata=metadata):\n",
    "                docu_bars_all.append(bar)\n",
    "        \n",
    "        docu_bars_069 = []\n",
    "        metadata = [('authorization', token)]\n",
    "        for bar in service.TickBars(request=request_docu_bars_069, metadata=metadata):\n",
    "                docu_bars_069.append(bar)\n",
    "                \n",
    "        docu_bars_no069 = []\n",
    "        metadata = [('authorization', token)]\n",
    "        for bar in service.TickBars(request=request_docu_bars_no069, metadata=metadata):\n",
    "                docu_bars_no069.append(bar)\n",
    "        \n",
    "        docu_bars_0 = []\n",
    "        metadata = [('authorization', token)]\n",
    "        for bar in service.TickBars(request=request_docu_bars_0, metadata=metadata):\n",
    "                docu_bars_0.append(bar)\n",
    "        \n",
    "        docu_bars_6 = []\n",
    "        metadata = [('authorization', token)]\n",
    "        for bar in service.TickBars(request=request_docu_bars_6, metadata=metadata):\n",
    "                docu_bars_6.append(bar)\n",
    "        \n",
    "        docu_bars_9 = []\n",
    "        metadata = [('authorization', token)]\n",
    "        for bar in service.TickBars(request=request_docu_bars_9, metadata=metadata):\n",
    "                docu_bars_9.append(bar)\n",
    "        \n",
    "except grpc.RpcError as e:\n",
    "    display(e.code().name)\n",
    "    display(e.details())"
   ]
  },
  {
   "cell_type": "markdown",
   "id": "0d13a412-bfd8-45cf-a69c-008a875e00dd",
   "metadata": {
    "tags": []
   },
   "source": [
    "#### Datesframes Creation"
   ]
  },
  {
   "cell_type": "code",
   "execution_count": null,
   "id": "af42ca2b-6f08-4ef5-8977-dd0add1a3732",
   "metadata": {},
   "outputs": [],
   "source": [
    "# prepare the dataframe content\n",
    "dates_docu_bars_all=[datetime.fromtimestamp(b.time_stamp.seconds) for b in docu_bars_all]\n",
    "opens_docu_bars_all = [b.open for b in docu_bars_all]\n",
    "highs_docu_bars_all = [b.high for b in docu_bars_all]\n",
    "lows_docu_bars_all = [b.low for b in docu_bars_all]\n",
    "closes_docu_bars_all = [b.close for b in docu_bars_all]\n",
    "volumes_docu_bars_all = [ts.volume for ts in docu_bars_all]\n",
    "counts_docu_bars_all = [ts.count for ts in docu_bars_all]\n",
    "bars_docu_bars_all = [ts.vwap for ts in docu_bars_all]\n",
    "\n",
    "# create a pandas dataframe with: dates, docu_bars and ticks count used for each bar\n",
    "d_docu_bars_all = {'Date': dates_docu_bars_all, 'Open': opens_docu_bars_all, 'High': highs_docu_bars_all, 'Low' : lows_docu_bars_all,'Close': closes_docu_bars_all, 'Volume': volumes_docu_bars_all, 'Count': counts_docu_bars_all, 'Vwap': bars_docu_bars_all}\n",
    "df_docu_bars_all = pd.DataFrame(data=d_docu_bars_all)\n",
    "df_docu_bars_all = df_docu_bars_all.set_index('Date')\n",
    "df_docu_bars_all.head(5).style.apply(highlight, axis=1)"
   ]
  },
  {
   "cell_type": "code",
   "execution_count": null,
   "id": "d79a2ea2-db4d-43e6-88af-dd67fe5e59eb",
   "metadata": {},
   "outputs": [],
   "source": [
    "# prepare the dataframe content\n",
    "dates_docu_bars_069=[datetime.fromtimestamp(b.time_stamp.seconds) for b in docu_bars_069]\n",
    "opens_docu_bars_069 = [b.open for b in docu_bars_069]\n",
    "highs_docu_bars_069 = [b.high for b in docu_bars_069]\n",
    "lows_docu_bars_069 = [b.low for b in docu_bars_069]\n",
    "closes_docu_bars_069 = [b.close for b in docu_bars_069]\n",
    "volumes_docu_bars_069 = [ts.volume for ts in docu_bars_069]\n",
    "counts_docu_bars_069 = [ts.count for ts in docu_bars_069]\n",
    "bars_docu_bars_069 = [ts.vwap for ts in docu_bars_069]\n",
    "\n",
    "# create a pandas dataframe with: dates, docu_bars and ticks count used for each bar\n",
    "d_docu_bars_069 = {'Date': dates_docu_bars_069, 'Open': opens_docu_bars_069, 'High': highs_docu_bars_069, 'Low' : lows_docu_bars_069,'Close': closes_docu_bars_069, 'Volume': volumes_docu_bars_069, 'Count': counts_docu_bars_069, 'Vwap': bars_docu_bars_069}\n",
    "df_docu_bars_069 = pd.DataFrame(data=d_docu_bars_069)\n",
    "df_docu_bars_069 = df_docu_bars_069.set_index('Date')\n",
    "df_docu_bars_069.head(5).style.apply(highlight, axis=1)"
   ]
  },
  {
   "cell_type": "code",
   "execution_count": null,
   "id": "53d5d4e0-30e1-4830-b375-b9c1ab0f3e91",
   "metadata": {},
   "outputs": [],
   "source": [
    "# prepare the dataframe content\n",
    "dates_docu_bars_no069=[datetime.fromtimestamp(b.time_stamp.seconds) for b in docu_bars_no069]\n",
    "opens_docu_bars_no069 = [b.open for b in docu_bars_no069]\n",
    "highs_docu_bars_no069 = [b.high for b in docu_bars_no069]\n",
    "lows_docu_bars_no069 = [b.low for b in docu_bars_no069]\n",
    "closes_docu_bars_no069 = [b.close for b in docu_bars_no069]\n",
    "volumes_docu_bars_no069 = [ts.volume for ts in docu_bars_no069]\n",
    "counts_docu_bars_no069 = [ts.count for ts in docu_bars_no069]\n",
    "bars_docu_bars_no069 = [ts.vwap for ts in docu_bars_no069]\n",
    "\n",
    "# create a pandas dataframe with: dates, docu_bars and ticks count used for each bar\n",
    "d_docu_bars_no069 = {'Date': dates_docu_bars_no069, 'Open': opens_docu_bars_no069, 'High': highs_docu_bars_no069, 'Low' : lows_docu_bars_no069,'Close': closes_docu_bars_no069, 'Volume': volumes_docu_bars_no069, 'Count': counts_docu_bars_no069, 'Vwap': bars_docu_bars_no069}\n",
    "df_docu_bars_no069 = pd.DataFrame(data=d_docu_bars_no069)\n",
    "df_docu_bars_no069 = df_docu_bars_no069.set_index('Date')\n",
    "df_docu_bars_no069.head(5).style.apply(highlight, axis=1)"
   ]
  },
  {
   "cell_type": "code",
   "execution_count": null,
   "id": "6625e5a9-b378-48d0-b82c-4d3c89888dc1",
   "metadata": {},
   "outputs": [],
   "source": [
    "# prepare the dataframe content\n",
    "dates_docu_bars_0=[datetime.fromtimestamp(b.time_stamp.seconds) for b in docu_bars_0]\n",
    "opens_docu_bars_0 = [b.open for b in docu_bars_0]\n",
    "highs_docu_bars_0 = [b.high for b in docu_bars_0]\n",
    "lows_docu_bars_0 = [b.low for b in docu_bars_0]\n",
    "closes_docu_bars_0 = [b.close for b in docu_bars_0]\n",
    "volumes_docu_bars_0 = [ts.volume for ts in docu_bars_0]\n",
    "counts_docu_bars_0 = [ts.count for ts in docu_bars_0]\n",
    "bars_docu_bars_0 = [ts.vwap for ts in docu_bars_0]\n",
    "\n",
    "# create a pandas dataframe with: dates, docu_bars and ticks count used for each bar\n",
    "d_docu_bars_0 = {'Date': dates_docu_bars_0, 'Open': opens_docu_bars_0, 'High': highs_docu_bars_0, 'Low' : lows_docu_bars_0,'Close': closes_docu_bars_0, 'Volume': volumes_docu_bars_0, 'Count': counts_docu_bars_0, 'Vwap': bars_docu_bars_0}\n",
    "df_docu_bars_0 = pd.DataFrame(data=d_docu_bars_0)\n",
    "df_docu_bars_0 = df_docu_bars_0.set_index('Date')\n",
    "df_docu_bars_0.head(5).style.apply(highlight, axis=1)"
   ]
  },
  {
   "cell_type": "code",
   "execution_count": null,
   "id": "ce25c390-ad17-4997-a462-8d7a36d2409b",
   "metadata": {},
   "outputs": [],
   "source": [
    "# prepare the dataframe content\n",
    "dates_docu_bars_6=[datetime.fromtimestamp(b.time_stamp.seconds) for b in docu_bars_6]\n",
    "opens_docu_bars_6 = [b.open for b in docu_bars_6]\n",
    "highs_docu_bars_6 = [b.high for b in docu_bars_6]\n",
    "lows_docu_bars_6 = [b.low for b in docu_bars_6]\n",
    "closes_docu_bars_6 = [b.close for b in docu_bars_6]\n",
    "volumes_docu_bars_6 = [ts.volume for ts in docu_bars_6]\n",
    "counts_docu_bars_6 = [ts.count for ts in docu_bars_6]\n",
    "bars_docu_bars_6 = [ts.vwap for ts in docu_bars_6]\n",
    "\n",
    "# create a pandas dataframe with: dates, docu_bars and ticks count used for each bar\n",
    "d_docu_bars_6 = {'Date': dates_docu_bars_6, 'Open': opens_docu_bars_6, 'High': highs_docu_bars_6, 'Low' : lows_docu_bars_6,'Close': closes_docu_bars_6, 'Volume': volumes_docu_bars_6, 'Count': counts_docu_bars_6, 'Vwap': bars_docu_bars_6}\n",
    "df_docu_bars_6 = pd.DataFrame(data=d_docu_bars_6)\n",
    "df_docu_bars_6 = df_docu_bars_6.set_index('Date')\n",
    "df_docu_bars_6.head(5).style.apply(highlight, axis=1)"
   ]
  },
  {
   "cell_type": "code",
   "execution_count": null,
   "id": "02d1bc80-b4d6-4a36-b05f-c3f921683623",
   "metadata": {},
   "outputs": [],
   "source": [
    "# prepare the dataframe content\n",
    "dates_docu_bars_9=[datetime.fromtimestamp(b.time_stamp.seconds) for b in docu_bars_9]\n",
    "opens_docu_bars_9 = [b.open for b in docu_bars_9]\n",
    "highs_docu_bars_9 = [b.high for b in docu_bars_9]\n",
    "lows_docu_bars_9 = [b.low for b in docu_bars_9]\n",
    "closes_docu_bars_9 = [b.close for b in docu_bars_9]\n",
    "volumes_docu_bars_9 = [ts.volume for ts in docu_bars_9]\n",
    "counts_docu_bars_9 = [ts.count for ts in docu_bars_9]\n",
    "bars_docu_bars_9 = [ts.vwap for ts in docu_bars_9]\n",
    "\n",
    "# create a pandas dataframe with: dates, docu_bars and ticks count used for each bar\n",
    "d_docu_bars_9 = {'Date': dates_docu_bars_9, 'Open': opens_docu_bars_9, 'High': highs_docu_bars_9, 'Low' : lows_docu_bars_9,'Close': closes_docu_bars_9, 'Volume': volumes_docu_bars_9, 'Count': counts_docu_bars_9, 'Vwap': bars_docu_bars_9}\n",
    "df_docu_bars_9 = pd.DataFrame(data=d_docu_bars_9)\n",
    "df_docu_bars_9 = df_docu_bars_9.set_index('Date')\n",
    "df_docu_bars_9.head(5).style.apply(highlight, axis=1)"
   ]
  },
  {
   "cell_type": "markdown",
   "id": "29e2a5ee-52d7-4a9d-bc67-ac0755218192",
   "metadata": {
    "tags": []
   },
   "source": [
    "#### Visualisation"
   ]
  },
  {
   "cell_type": "code",
   "execution_count": null,
   "id": "5b9ba0b4-b0c8-48c0-bd54-533c879a5753",
   "metadata": {
    "tags": []
   },
   "outputs": [],
   "source": [
    "mpf.plot(df_docu_bars_all, figratio=(40,15),\n",
    "         type = 'candle', \n",
    "         title=('ALL'),\n",
    "         volume = True, \n",
    "         tight_layout = True,\n",
    "         style='yahoo'\n",
    "        )\n",
    "\n",
    "mpf.plot(df_docu_bars_069, figratio=(40,15),\n",
    "         type = 'candle', \n",
    "         title=('069'),\n",
    "         volume = True, \n",
    "         tight_layout = True,\n",
    "         style='yahoo'\n",
    "        )\n",
    "\n",
    "mpf.plot(df_docu_bars_no069, figratio=(40,15),\n",
    "         type = 'candle', \n",
    "         title=('no069'),\n",
    "         volume = True, \n",
    "         tight_layout = True,\n",
    "         style='yahoo'\n",
    "        )\n",
    "\n",
    "mpf.plot(df_docu_bars_0, figratio=(40,15),\n",
    "         type = 'candle', \n",
    "         title=('0'),\n",
    "         volume = True, \n",
    "         tight_layout = True,\n",
    "         style='yahoo'\n",
    "        )\n",
    "\n",
    "mpf.plot(df_docu_bars_6, figratio=(40,15),\n",
    "         type = 'candle', \n",
    "         title=('6'),\n",
    "         volume = True, \n",
    "         tight_layout = True,\n",
    "         style='yahoo'\n",
    "        )\n",
    "\n",
    "mpf.plot(df_docu_bars_9, figratio=(40,15),\n",
    "         type = 'candle', \n",
    "         title=('9'),\n",
    "         volume = True, \n",
    "         tight_layout = True,\n",
    "         style='yahoo'\n",
    "        ) "
   ]
  }
 ],
 "metadata": {
  "kernelspec": {
   "display_name": "Python 3 (ipykernel)",
   "language": "python",
   "name": "python3"
  },
  "language_info": {
   "codemirror_mode": {
    "name": "ipython",
    "version": 3
   },
   "file_extension": ".py",
   "mimetype": "text/x-python",
   "name": "python",
   "nbconvert_exporter": "python",
   "pygments_lexer": "ipython3",
   "version": "3.9.7"
  }
 },
 "nbformat": 4,
 "nbformat_minor": 5
}
