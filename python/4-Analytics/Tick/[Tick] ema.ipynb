{
 "cells": [
  {
   "cell_type": "markdown",
   "id": "d009a0ca",
   "metadata": {},
   "source": [
    "# Generate EMA using dedicated service - Python\n",
    "\n",
    "### Overview\n",
    "Moving averages smooth the price movements by filtering out the \"noise\" caused by short-term price fluctuations.They also form the building blocks for a wide range of technical indicators.\n",
    "\n",
    "Computing moving averages over a defined number of time periods is useful to:\n",
    "* identify the trend direction\n",
    "* determine support and resistance levels\n",
    "\n",
    "This sample demonstrates how to request and plot **on-demand** *exponential moving average - EMA* from a dedicated data service.\n",
    "\n",
    "### Inputs/outputs\n",
    "Exponential moving averages' requests require instrument's identifier, date time intervals and number of points as per inputs.\n",
    "\n",
    "EMA reduces the lag by applying greater weight to recent data points.The weighting applied to the most recent price depends on the number of points in the moving average; The smaller the point count is, the more weight is applied to the most recent price.\n",
    "\n",
    "N-points EMA data point is computed using the previous' *EMA* value and the wighting multiplier as follows:\n",
    "\n",
    "$$ EMA = (Price-EMAp)*k+EMAp $$\n",
    "\n",
    "Where:\n",
    "* *Price* is the trade price\n",
    "* *EMAp* is the previous points' *EMA* value, *SMA* is used as the EMAp in the first calculation\n",
    "* *N* is the count of points\n",
    "* *$ k = \\frac{2}{N+1} $* is the *Weighting Multiplier*\n",
    "\n",
    "<div class=\"alert alert-block alert-info\">\n",
    "    <b>Note:</b> <i>EMA</i> adapts quickly to price changes than the <i>SMA</i>, when a price reverses direction, the <i>EMA</i> will reverse direction quicker than the <i>SMA</i> dur to the weighting \n",
    "</div>\n",
    "\n",
    "This sample shows how to plot a simple graph for basis technical analysis using an open source library. \n",
    "\n",
    "### Services used\n",
    "This sample uses *gRPC requests* in order to retrieve EMA indicator from the hosted service. The queried endpoint in this script are:\n",
    "* *TickEmaService*: to directly retrieve EMA data from the server\n",
    "\n",
    "### Modules required\n",
    "1. Systemathics:\n",
    "    * *systemathics.apis.services.tick_analytics.v1*\n",
    "    * *systemathics.apis.type.shared.v1*\n",
    "    * *google.type*\n",
    "2. Open source:\n",
    "    * *googleapis-common-protos*\n",
    "    * *protobuf*\n",
    "    * *grpcio*\n",
    "    * *pandas*\n",
    "    * *plotly* and *matplotlib* as per display packages\n",
    "\n",
    "***"
   ]
  },
  {
   "cell_type": "markdown",
   "id": "1b664728",
   "metadata": {},
   "source": [
    "# Run EMA sample"
   ]
  },
  {
   "cell_type": "markdown",
   "id": "d2cd2497",
   "metadata": {},
   "source": [
    "### Step 1: Install packages"
   ]
  },
  {
   "cell_type": "code",
   "execution_count": null,
   "id": "530f4b04",
   "metadata": {},
   "outputs": [],
   "source": [
    "pip install googleapis-common-protos protobuf grpcio pandas plotly matplotlib"
   ]
  },
  {
   "cell_type": "code",
   "execution_count": null,
   "id": "84b30ec1",
   "metadata": {},
   "outputs": [],
   "source": [
    "pip install systemathics.apis --pre"
   ]
  },
  {
   "cell_type": "code",
   "execution_count": null,
   "id": "f93bcdfa",
   "metadata": {},
   "outputs": [],
   "source": [
    "import os\n",
    "import grpc\n",
    "import pandas as pd\n",
    "from datetime import datetime\n",
    "import google.type.date_pb2 as date\n",
    "import google.type.timeofday_pb2 as timeofday\n",
    "import google.type.dayofweek_pb2 as dayofweek\n",
    "import google.protobuf.duration_pb2 as duration\n",
    "import systemathics.apis.type.shared.v1.identifier_pb2 as identifier\n",
    "import systemathics.apis.type.shared.v1.constraints_pb2 as constraints\n",
    "import systemathics.apis.type.shared.v1.date_interval_pb2 as dateinterval\n",
    "import systemathics.apis.type.shared.v1.time_interval_pb2 as timeinterval\n",
    "import systemathics.apis.services.tick_analytics.v1.tick_ema_pb2 as tick_ema\n",
    "import systemathics.apis.services.tick_analytics.v1.tick_ema_pb2_grpc as tick_ema_service\n",
    "import systemathics.apis.helpers.token_helpers as token_helpers\n",
    "import systemathics.apis.helpers.channel_helpers as channel_helpers"
   ]
  },
  {
   "cell_type": "markdown",
   "id": "b4c5a6e4",
   "metadata": {},
   "source": [
    "### Step 2: Retrieve authentication token\n",
    "The following code snippet sends authentication request and print token to console output in order to process the upcomming *gRPC queries*."
   ]
  },
  {
   "cell_type": "code",
   "execution_count": null,
   "id": "352c2cb6",
   "metadata": {},
   "outputs": [],
   "source": [
    "token = token_helpers.get_token()\n",
    "display(token)"
   ]
  },
  {
   "cell_type": "markdown",
   "id": "b56eefc1",
   "metadata": {},
   "source": [
    "### Step 3: Create and process request\n",
    "To request *Tick EMA* service, we need to specify:\n",
    "* Instrument identifier\n",
    "* Time period selection: select start and end dates\n",
    "* Exponential moving average request parameters"
   ]
  },
  {
   "cell_type": "markdown",
   "id": "cdbe1745",
   "metadata": {},
   "source": [
    "#### 3.1 Instrument selection"
   ]
  },
  {
   "cell_type": "code",
   "execution_count": null,
   "id": "2b950e8a",
   "metadata": {},
   "outputs": [],
   "source": [
    "# set instrument identifier: exchange + ticker\n",
    "ticker = 'AAPL'\n",
    "exchange = 'BATS'"
   ]
  },
  {
   "cell_type": "markdown",
   "id": "b6f568aa",
   "metadata": {},
   "source": [
    "#### 3.2 EMA parameters"
   ]
  },
  {
   "cell_type": "code",
   "execution_count": null,
   "id": "459d1163",
   "metadata": {},
   "outputs": [],
   "source": [
    "field = tick_ema.EMA_PRICE_TRADE; # set the EMA calculation field\n",
    "long_ema = 200; # set the long EMA length\n",
    "short_ema = 50; # set the short EMA length\n",
    "sampling = 1 * 60"
   ]
  },
  {
   "cell_type": "markdown",
   "id": "7ea055d4",
   "metadata": {},
   "source": [
    "#### 3.3 Time period delimitation"
   ]
  },
  {
   "cell_type": "code",
   "execution_count": null,
   "id": "e8252344",
   "metadata": {},
   "outputs": [],
   "source": [
    "# create time intervals (we are using Google date format)\n",
    "date_interval = dateinterval.DateInterval(\n",
    "    start_date = date.Date(year = 2020, month = 2, day = 18), \n",
    "    end_date = date.Date(year = 2020, month = 2, day = 18)\n",
    ")\n",
    "\n",
    "# build the market data request time interval (we are using Google time format)\n",
    "# UTC time zone\n",
    "time_interval = timeinterval.TimeInterval(\n",
    "    start_time = timeofday.TimeOfDay(hours = 8, minutes = 0, seconds = 0), \n",
    "    end_time = timeofday.TimeOfDay(hours = 20, minutes = 0, seconds = 0)\n",
    ")"
   ]
  },
  {
   "cell_type": "code",
   "execution_count": null,
   "id": "200f0888",
   "metadata": {},
   "outputs": [],
   "source": [
    "# generate constraints based on the previous time selection\n",
    "constraints = constraints.Constraints(\n",
    "    date_intervals = [date_interval],\n",
    "    time_intervals = [time_interval],\n",
    ")"
   ]
  },
  {
   "cell_type": "markdown",
   "id": "1631c210",
   "metadata": {},
   "source": [
    "#### 3.4 Long EMA request creation\n",
    "The following code snippets creates *gRPC client*, process *long EMA* request and returns the request reply:"
   ]
  },
  {
   "cell_type": "code",
   "execution_count": null,
   "id": "8ad86d48",
   "metadata": {},
   "outputs": [],
   "source": [
    "# generate the tick long EMA request\n",
    "long_request = tick_ema.TickEmaRequest(\n",
    "    identifier = identifier.Identifier(exchange = exchange, ticker = ticker),\n",
    "    constraints = constraints,\n",
    "    field = field,\n",
    "    length = long_ema,\n",
    "    sampling = duration.Duration(seconds = sampling)\n",
    ")"
   ]
  },
  {
   "cell_type": "code",
   "execution_count": null,
   "id": "6347672e",
   "metadata": {},
   "outputs": [],
   "source": [
    "try:\n",
    "    # open a gRPC channel\n",
    "    with channel_helpers.get_grpc_channel() as channel:  \n",
    "        \n",
    "        # instantiate the tick EMA service\n",
    "        service = tick_ema_service.TickEmaServiceStub(channel)\n",
    "        \n",
    "        long_averages = []\n",
    "        # process the tick long EMA request\n",
    "        for l in service.TickEma(request = long_request, metadata = [('authorization', token)]):\n",
    "            if l.average.value > 0:  # we have an average\n",
    "                long_averages.append(l.average.value)\n",
    "            else: \n",
    "                long_averages.append(None)\n",
    "except grpc.RpcError as e:\n",
    "    display(e.code().name)\n",
    "    display(e.details())"
   ]
  },
  {
   "cell_type": "markdown",
   "id": "8bcdf04b",
   "metadata": {},
   "source": [
    "#### 3.4 Short EMA request creation\n",
    "The following code snippets creates *gRPC client*, process *short EMA* request and returns the request reply:"
   ]
  },
  {
   "cell_type": "code",
   "execution_count": null,
   "id": "6e41316e",
   "metadata": {},
   "outputs": [],
   "source": [
    "# generate the tick short EMA request\n",
    "short_request = tick_ema.TickEmaRequest(\n",
    "    identifier = identifier.Identifier(exchange = exchange, ticker = ticker),\n",
    "    constraints = constraints,\n",
    "    field = field,\n",
    "    length = short_ema,\n",
    "    sampling = duration.Duration(seconds = sampling)\n",
    ")"
   ]
  },
  {
   "cell_type": "code",
   "execution_count": null,
   "id": "9565381b",
   "metadata": {},
   "outputs": [],
   "source": [
    "try:\n",
    "    # open a gRPC channel\n",
    "    with channel_helpers.get_grpc_channel() as channel:  \n",
    "        \n",
    "        # instantiate the tick EMA service\n",
    "        service = tick_ema_service.TickEmaServiceStub(channel)\n",
    "        \n",
    "        time_stamps, short_averages, prices = [], [], []\n",
    "        # process the tick short SMA request\n",
    "        for s in service.TickEma(request = short_request, metadata = [('authorization', token)]):\n",
    "            time_stamps.append(s.time_stamp)\n",
    "            prices.append(s.value)\n",
    "            if s.average.value > 0:  # we have an average\n",
    "                short_averages.append(s.average.value)\n",
    "            else: \n",
    "                short_averages.append(None)\n",
    "except grpc.RpcError as e:\n",
    "    display(e.code().name)\n",
    "    display(e.details())"
   ]
  },
  {
   "cell_type": "markdown",
   "id": "0c80b3cf",
   "metadata": {},
   "source": [
    "### Step 4: Visualize data"
   ]
  },
  {
   "cell_type": "markdown",
   "id": "bd8d3c93",
   "metadata": {},
   "source": [
    "#### 4.1 Retrieve EMAs data"
   ]
  },
  {
   "cell_type": "code",
   "execution_count": null,
   "id": "0e55ebf7",
   "metadata": {},
   "outputs": [],
   "source": [
    "# create the SMAs dataframe\n",
    "dates=[datetime.fromtimestamp(ts.seconds) for ts in time_stamps]\n",
    "d = {'Date': dates, 'Long Ema': long_averages, 'Short Ema': short_averages, 'Price': prices}\n",
    "df = pd.DataFrame(data=d)\n",
    "df"
   ]
  },
  {
   "cell_type": "markdown",
   "id": "38f877ff-bba0-4ca2-bbff-aa2aefab88b1",
   "metadata": {},
   "source": [
    "#### 4.2 Plot tick EMAs and prices with matplotlib"
   ]
  },
  {
   "cell_type": "code",
   "execution_count": null,
   "id": "fe1488c7-90b0-4076-a873-29f30a847a8c",
   "metadata": {},
   "outputs": [],
   "source": [
    "import matplotlib.pyplot as plt\n",
    "\n",
    "# create figure and axis objects with subplots()\n",
    "fig,ax = plt.subplots(1,1,figsize=(25,10))\n",
    "ax.plot('Date', 'Long Ema', data=df, marker='', color='orange', linewidth=2, label=\"Long EMA\")\n",
    "ax.plot('Date', 'Short Ema', data=df, marker='', color='green', linewidth=2, label=\"Short EMA\")\n",
    "ax.plot('Date', 'Price', data=df, marker='', color='blue', linewidth=2, label=\"Price\")\n",
    "\n",
    "ax.set_xlabel(\"Date\",fontsize=14)\n",
    "ax.set_ylabel(\"Price\",color=\"black\",fontsize=14)\n",
    "plt.legend()\n",
    "plt.title('Long & short tick EMA for {0}-{1}'.format(ticker,exchange))\n",
    "plt.show()"
   ]
  },
  {
   "cell_type": "markdown",
   "id": "7b3ea958",
   "metadata": {},
   "source": [
    "#### 4.3 Plot tick EMAs and prices with plotly"
   ]
  },
  {
   "cell_type": "code",
   "execution_count": null,
   "id": "81f976a5",
   "metadata": {},
   "outputs": [],
   "source": [
    "import plotly.graph_objects as go\n",
    "from plotly.subplots import make_subplots\n",
    "\n",
    "fig = make_subplots()\n",
    "fig.add_trace(go.Scatter(x=df['Date'], y=df['Short Ema'], name='Short Ema', marker_color ='green'))\n",
    "fig.add_trace(go.Scatter(x=df['Date'], y=df['Long Ema'], name='Long Ema', marker_color ='red'))\n",
    "fig.add_trace(go.Scatter(x=df['Date'], y=df['Price'], name='Price', marker_color ='blue'))\n",
    "fig.update_xaxes(title_text = 'Date')\n",
    "fig.update_layout(title = 'Tick EMAs and prices for {0}-{1}'.format(ticker,exchange))\n",
    "fig.show()"
   ]
  }
 ],
 "metadata": {
  "kernelspec": {
   "display_name": "Python 3",
   "language": "python",
   "name": "python3"
  },
  "language_info": {
   "codemirror_mode": {
    "name": "ipython",
    "version": 3
   },
   "file_extension": ".py",
   "mimetype": "text/x-python",
   "name": "python",
   "nbconvert_exporter": "python",
   "pygments_lexer": "ipython3",
   "version": "3.9.2"
  }
 },
 "nbformat": 4,
 "nbformat_minor": 5
}
