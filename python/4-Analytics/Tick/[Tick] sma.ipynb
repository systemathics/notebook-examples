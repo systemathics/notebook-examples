{
 "cells": [
  {
   "cell_type": "markdown",
   "id": "da3d1b8b",
   "metadata": {},
   "source": [
    "# Generate SMA using dedicated service - Python\n",
    "\n",
    "### Overview\n",
    "Moving averages smooth the price movements by filtering out the \"noise\" caused by short-term price fluctuations.They also form the building blocks for a wide range of technical indicators.\n",
    "\n",
    "Computing moving averages over a defined number of time periods is useful to:\n",
    "* identify the trend direction\n",
    "* determine support and resistance levels\n",
    "\n",
    "This sample demonstrates how to request and plot **on-demand** *simple moving average - SMA* from a dedicated data service.\n",
    "\n",
    "### Inputs/outputs\n",
    "Simple moving averages' requests require instrument's identifier, date time intervals and number of periods as per inputs.\n",
    "\n",
    "Basically, SMA is formed by computing the average price of a security over a specific number of points. As its name implies, simple moving average is an average that moves. Old data is dropped and new data becomes available, causing the average to move along the time.\n",
    "\n",
    "N-points SMA data point is computed by adding up the last N period's trade prices and then dividing by N as follows:\n",
    "\n",
    "$$ SMA = \\frac{\\Sigma Price n}{N} $$\n",
    "Where:\n",
    "* *Price n* is the trade price of the *period n*\n",
    "* *N* is the count of time periods\n",
    "\n",
    "This sample shows how to plot a simple graph for basis technical analysis using an open source library. \n",
    "\n",
    "### Services used\n",
    "This sample uses *gRPC requests* in order to retrieve SMA indicator from the hosted service. The queried endpoint in this script are:\n",
    "* *TickSmaService*: to directly retrieve SMA data from the server\n",
    "\n",
    "### Modules required\n",
    "1. Systemathics:\n",
    "    * *systemathics.apis.services.tick_analytics.v1*\n",
    "    * *systemathics.apis.type.shared.v1*\n",
    "    * *google.type*\n",
    "2. Open source:\n",
    "    * *googleapis-common-protos*\n",
    "    * *protobuf*\n",
    "    * *grpcio*\n",
    "    * *pandas*\n",
    "    * *plotly* and *matplotlib* as per display packages\n",
    "\n",
    "***"
   ]
  },
  {
   "cell_type": "markdown",
   "id": "bf93726c",
   "metadata": {},
   "source": [
    "# Run SMA sample"
   ]
  },
  {
   "cell_type": "markdown",
   "id": "974be3ea",
   "metadata": {},
   "source": [
    "### Step 1: Install packages"
   ]
  },
  {
   "cell_type": "code",
   "execution_count": null,
   "id": "8063eae6",
   "metadata": {},
   "outputs": [],
   "source": [
    "pip install googleapis-common-protos protobuf grpcio pandas plotly matplotlib"
   ]
  },
  {
   "cell_type": "code",
   "execution_count": null,
   "id": "bc564875",
   "metadata": {},
   "outputs": [],
   "source": [
    "pip install systemathics.apis --pre"
   ]
  },
  {
   "cell_type": "code",
   "execution_count": null,
   "id": "bb4e3bb5",
   "metadata": {},
   "outputs": [],
   "source": [
    "import os\n",
    "import grpc\n",
    "import pandas as pd\n",
    "from datetime import datetime\n",
    "import google.type.date_pb2 as date\n",
    "import google.type.timeofday_pb2 as timeofday\n",
    "import google.type.dayofweek_pb2 as dayofweek\n",
    "import google.protobuf.duration_pb2 as duration\n",
    "import systemathics.apis.type.shared.v1.identifier_pb2 as identifier\n",
    "import systemathics.apis.type.shared.v1.constraints_pb2 as constraints\n",
    "import systemathics.apis.type.shared.v1.date_interval_pb2 as dateinterval\n",
    "import systemathics.apis.type.shared.v1.time_interval_pb2 as timeinterval\n",
    "import systemathics.apis.services.tick_analytics.v1.tick_sma_pb2 as tick_sma\n",
    "import systemathics.apis.services.tick_analytics.v1.tick_sma_pb2_grpc as tick_sma_service\n",
    "import systemathics.apis.helpers.token_helpers as token_helpers\n",
    "import systemathics.apis.helpers.channel_helpers as channel_helpers"
   ]
  },
  {
   "cell_type": "markdown",
   "id": "2d1cbd7f",
   "metadata": {},
   "source": [
    "### Step 2: Retrieve authentication token\n",
    "The following code snippet sends authentication request and print token to console output in order to process the upcomming *gRPC queries*."
   ]
  },
  {
   "cell_type": "code",
   "execution_count": null,
   "id": "3f2688b2",
   "metadata": {},
   "outputs": [],
   "source": [
    "token = token_helpers.get_token()\n",
    "display(token)"
   ]
  },
  {
   "cell_type": "markdown",
   "id": "7df1dabd",
   "metadata": {},
   "source": [
    "### Step 3: Create and process request\n",
    "To request *Tick SMA* service, we need to specify:\n",
    "* Instrument identifier\n",
    "* Time period selection: select start and end dates\n",
    "* Simple moving average request parameters"
   ]
  },
  {
   "cell_type": "markdown",
   "id": "ca2b0745",
   "metadata": {},
   "source": [
    "#### 3.1 Instrument selection"
   ]
  },
  {
   "cell_type": "code",
   "execution_count": null,
   "id": "744ffd57",
   "metadata": {},
   "outputs": [],
   "source": [
    "# set instrument identifier: exchange + ticker\n",
    "ticker = 'AAPL'\n",
    "exchange = 'BATS'"
   ]
  },
  {
   "cell_type": "markdown",
   "id": "3a95d963",
   "metadata": {},
   "source": [
    "#### 3.2 SMA parameters"
   ]
  },
  {
   "cell_type": "code",
   "execution_count": null,
   "id": "136765b1",
   "metadata": {},
   "outputs": [],
   "source": [
    "field = tick_sma.SMA_PRICE_TRADE; # set the SMA calculation field\n",
    "long_sma = 200; # set the long SMA length\n",
    "short_sma = 50; # set the short SMA length\n",
    "sampling = 1 * 60"
   ]
  },
  {
   "cell_type": "markdown",
   "id": "6f40b45d",
   "metadata": {},
   "source": [
    "#### 3.3 Time period delimitation"
   ]
  },
  {
   "cell_type": "code",
   "execution_count": null,
   "id": "3aca81a8",
   "metadata": {},
   "outputs": [],
   "source": [
    "# create time intervals (we are using Google date format)\n",
    "date_interval = dateinterval.DateInterval(\n",
    "    start_date = date.Date(year = 2020, month = 2, day = 18), \n",
    "    end_date = date.Date(year = 2020, month = 2, day = 18)\n",
    ")\n",
    "\n",
    "# build the market data request time interval (we are using Google time format)\n",
    "# UTC time zone\n",
    "time_interval = timeinterval.TimeInterval(\n",
    "    start_time = timeofday.TimeOfDay(hours = 8, minutes = 0, seconds = 0), \n",
    "    end_time = timeofday.TimeOfDay(hours = 20, minutes = 0, seconds = 0)\n",
    ")"
   ]
  },
  {
   "cell_type": "code",
   "execution_count": null,
   "id": "576472d5",
   "metadata": {},
   "outputs": [],
   "source": [
    "# generate constraints based on the previous time selection\n",
    "constraints = constraints.Constraints(\n",
    "    date_intervals = [date_interval],\n",
    "    time_intervals = [time_interval],\n",
    ")"
   ]
  },
  {
   "cell_type": "markdown",
   "id": "70b4510b",
   "metadata": {},
   "source": [
    "#### 3.4 Long SMA request creation\n",
    "The following code snippets creates *gRPC client*, process *long SMA* request and returns the request reply:"
   ]
  },
  {
   "cell_type": "code",
   "execution_count": null,
   "id": "7912430e",
   "metadata": {},
   "outputs": [],
   "source": [
    "# generate the tick long SMA request\n",
    "long_request = tick_sma.TickSmaRequest(\n",
    "    identifier = identifier.Identifier(exchange = exchange, ticker = ticker),\n",
    "    constraints = constraints,\n",
    "    field = field,\n",
    "    length = long_sma,\n",
    "    sampling = duration.Duration(seconds = sampling)\n",
    ")"
   ]
  },
  {
   "cell_type": "code",
   "execution_count": null,
   "id": "9a1af780",
   "metadata": {},
   "outputs": [],
   "source": [
    "try:\n",
    "    # open a gRPC channel\n",
    "    with channel_helpers.get_grpc_channel() as channel:  \n",
    "        \n",
    "        # instantiate the tick SMA service\n",
    "        service = tick_sma_service.TickSmaServiceStub(channel)\n",
    "        \n",
    "        long_averages = []\n",
    "        # process the tick long SMA request\n",
    "        for l in service.TickSma(request = long_request, metadata = [('authorization', token)]):\n",
    "            if l.average.value > 0:  # we have an average\n",
    "                long_averages.append(l.average.value)\n",
    "            else: \n",
    "                long_averages.append(None)\n",
    "except grpc.RpcError as e:\n",
    "    display(e.code().name)\n",
    "    display(e.details())"
   ]
  },
  {
   "cell_type": "markdown",
   "id": "37a1f9ed",
   "metadata": {},
   "source": [
    "#### 3.4 Short SMA request creation\n",
    "The following code snippets creates *gRPC client*, process *short SMA* request and returns the request reply:"
   ]
  },
  {
   "cell_type": "code",
   "execution_count": null,
   "id": "087eefab",
   "metadata": {},
   "outputs": [],
   "source": [
    "# generate the tick short SMA request\n",
    "short_request = tick_sma.TickSmaRequest(\n",
    "    identifier = identifier.Identifier(exchange = exchange, ticker = ticker),\n",
    "    constraints = constraints,\n",
    "    field = field,\n",
    "    length = short_sma,\n",
    "    sampling = duration.Duration(seconds = sampling)\n",
    ")"
   ]
  },
  {
   "cell_type": "code",
   "execution_count": null,
   "id": "da5c1efb",
   "metadata": {},
   "outputs": [],
   "source": [
    "try:\n",
    "    # open a gRPC channel\n",
    "    with channel_helpers.get_grpc_channel() as channel:  \n",
    "        \n",
    "        # instantiate the tick SMA service\n",
    "        service = tick_sma_service.TickSmaServiceStub(channel)\n",
    "        \n",
    "        time_stamps, short_averages, prices = [], [], []\n",
    "        # process the tick short SMA request\n",
    "        for s in service.TickSma(request = short_request, metadata = [('authorization', token)]):\n",
    "            time_stamps.append(s.time_stamp)\n",
    "            prices.append(s.value)\n",
    "            if s.average.value > 0:  #we have an average\n",
    "                short_averages.append(s.average.value)\n",
    "            else: \n",
    "                short_averages.append(None)\n",
    "except grpc.RpcError as e:\n",
    "    display(e.code().name)\n",
    "    display(e.details())"
   ]
  },
  {
   "cell_type": "markdown",
   "id": "ae1b26ee",
   "metadata": {},
   "source": [
    "### Step 4: Visualize data"
   ]
  },
  {
   "cell_type": "markdown",
   "id": "9c30e912",
   "metadata": {},
   "source": [
    "#### 4.1 Retrieve SMAs data"
   ]
  },
  {
   "cell_type": "code",
   "execution_count": null,
   "id": "474ab414",
   "metadata": {},
   "outputs": [],
   "source": [
    "# create the SMAs dataframe\n",
    "dates=[datetime.fromtimestamp(ts.seconds) for ts in time_stamps]\n",
    "d = {'Date': dates, 'Long Sma': long_averages, 'Short Sma': short_averages, 'Price': prices}\n",
    "df = pd.DataFrame(data=d)\n",
    "df"
   ]
  },
  {
   "cell_type": "markdown",
   "id": "fe0b4e70-1568-47d8-8107-bbe1fc696d69",
   "metadata": {},
   "source": [
    "#### 4.2 Plot tick SMAs and prices with matplotlib"
   ]
  },
  {
   "cell_type": "code",
   "execution_count": null,
   "id": "ad0367be-9e4b-455e-98f6-e9ee2678d547",
   "metadata": {},
   "outputs": [],
   "source": [
    "import matplotlib.pyplot as plt\n",
    "\n",
    "# create figure and axis objects with subplots()\n",
    "fig,ax = plt.subplots(1,1,figsize=(25,10))\n",
    "ax.plot('Date', 'Long Sma', data=df, marker='', color='orange', linewidth=2, label=\"Long SMA\")\n",
    "ax.plot('Date', 'Short Sma', data=df, marker='', color='green', linewidth=2, label=\"Short SMA\")\n",
    "ax.plot('Date', 'Price', data=df, marker='', color='blue', linewidth=2, label=\"Price\")\n",
    "\n",
    "ax.set_xlabel(\"Date\",fontsize=14)\n",
    "ax.set_ylabel(\"Price\",color=\"black\",fontsize=14)\n",
    "plt.legend()\n",
    "plt.title('Long & short tick SMA for {0}-{1}'.format(ticker,exchange))\n",
    "plt.show()"
   ]
  },
  {
   "cell_type": "markdown",
   "id": "7469952c",
   "metadata": {},
   "source": [
    "#### 4.3 Plot tick SMAs and prices with plotly"
   ]
  },
  {
   "cell_type": "code",
   "execution_count": null,
   "id": "01380b2a",
   "metadata": {},
   "outputs": [],
   "source": [
    "import plotly.graph_objects as go\n",
    "from plotly.subplots import make_subplots\n",
    "\n",
    "fig = make_subplots()\n",
    "fig.add_trace(go.Scatter(x=df['Date'], y=df['Short Sma'], name='Short Sma', marker_color ='green'))\n",
    "fig.add_trace(go.Scatter(x=df['Date'], y=df['Long Sma'], name='Long Sma', marker_color ='red'))\n",
    "fig.add_trace(go.Scatter(x=df['Date'], y=df['Price'], name='Price', marker_color ='blue'))\n",
    "fig.update_xaxes(title_text = 'Date')\n",
    "fig.update_layout(title = 'Tick SMAs and prices for {0}-{1}'.format(ticker,exchange))\n",
    "fig.show()"
   ]
  }
 ],
 "metadata": {
  "kernelspec": {
   "display_name": "Python 3",
   "language": "python",
   "name": "python3"
  },
  "language_info": {
   "codemirror_mode": {
    "name": "ipython",
    "version": 3
   },
   "file_extension": ".py",
   "mimetype": "text/x-python",
   "name": "python",
   "nbconvert_exporter": "python",
   "pygments_lexer": "ipython3",
   "version": "3.9.2"
  }
 },
 "nbformat": 4,
 "nbformat_minor": 5
}
