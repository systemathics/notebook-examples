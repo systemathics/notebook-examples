{
 "cells": [
  {
   "cell_type": "markdown",
   "metadata": {},
   "source": [
    "# Retrieve trade conditions using tick conditions service - Python\n",
    "\n",
    "### Overview\n",
    "This sample demonstrates how to directly request and plot `trade conditions` either from the **source** or from the **mic code**.<br>\n",
    "\n",
    "### Inputs/outputs\n",
    "Tick conditions sample requires either an identifier, a source, or a mic code. It returns the list of trade conditions (code, brief description, regular or not, auction or not) as defined in the provider's documentation.\n",
    "\n",
    "### Services used\n",
    "This sample uses *gRPC requests* in order to retrieve tick trade conditions from the dedicated hosted service. The queried endpoint in this script are:\n",
    "* *TickConditionsService*: to directly retrieve tick conditions objects from the server\n",
    "\n",
    "### Modules required\n",
    "1. Systemathics:\n",
    "    * *systemathics.apis.services.tick_conditions.v1*\n",
    "    * *systemathics.apis.type.shared.v1*\n",
    "    * *google.type*\n",
    "2. Open source:\n",
    "    * *googleapis-common-protos*\n",
    "    * *protobuf*\n",
    "    * *grpcio*\n",
    "    * *pandas*\n",
    "\n",
    "***"
   ]
  },
  {
   "cell_type": "markdown",
   "metadata": {},
   "source": [
    "# Run tick conditions sample"
   ]
  },
  {
   "cell_type": "markdown",
   "metadata": {},
   "source": [
    "### Step 1: Install packages and import them"
   ]
  },
  {
   "cell_type": "code",
   "execution_count": null,
   "metadata": {},
   "outputs": [],
   "source": [
    "pip install googleapis-common-protos protobuf grpcio pandas"
   ]
  },
  {
   "cell_type": "code",
   "execution_count": null,
   "metadata": {},
   "outputs": [],
   "source": [
    "pip install systemathics.apis"
   ]
  },
  {
   "cell_type": "code",
   "execution_count": null,
   "metadata": {},
   "outputs": [],
   "source": [
    "import os\n",
    "import grpc\n",
    "import pandas as pd\n",
    "from datetime import datetime\n",
    "from datetime import timedelta\n",
    "import google.type.date_pb2 as date\n",
    "import google.type.timeofday_pb2 as timeofday\n",
    "import google.type.dayofweek_pb2 as dayofweek\n",
    "import google.protobuf.duration_pb2 as duration\n",
    "import systemathics.apis.type.shared.v1.identifier_pb2 as identifier\n",
    "import systemathics.apis.services.tick_conditions.v1.tick_conditions_pb2 as tick_conditions\n",
    "import systemathics.apis.services.tick_conditions.v1.tick_conditions_pb2_grpc as tick_conditions_service\n",
    "import systemathics.apis.helpers.token_helpers as token_helpers\n",
    "import systemathics.apis.helpers.channel_helpers as channel_helpers"
   ]
  },
  {
   "cell_type": "markdown",
   "metadata": {},
   "source": [
    "### Step 2: Retrieve authentication token\n",
    "The following code snippet sends authentication request and print token to console output in order to process the upcomming *gRPC queries*."
   ]
  },
  {
   "cell_type": "code",
   "execution_count": null,
   "metadata": {},
   "outputs": [],
   "source": [
    "token = token_helpers.get_token()\n",
    "display(token)"
   ]
  },
  {
   "cell_type": "markdown",
   "metadata": {},
   "source": [
    "### Step 3: Retrieve trade conditions\n",
    "To request *tick conditions service*, we need to specify one of those:\n",
    "* Instrument identifier\n",
    "* Source id\n",
    "* Exchange"
   ]
  },
  {
   "cell_type": "markdown",
   "metadata": {},
   "source": [
    "#### 3.1 Retrieve trade conditions : with exchange (MIC code)"
   ]
  },
  {
   "cell_type": "code",
   "execution_count": null,
   "metadata": {},
   "outputs": [],
   "source": [
    "# set inputs\n",
    "exchange = 'XNYS'"
   ]
  },
  {
   "cell_type": "code",
   "execution_count": null,
   "metadata": {},
   "outputs": [],
   "source": [
    "# generate tick bars request\n",
    "request = tick_conditions.TickConditionsRequest(exchange = exchange)"
   ]
  },
  {
   "cell_type": "code",
   "execution_count": null,
   "metadata": {},
   "outputs": [],
   "source": [
    "try:\n",
    "    # open a gRPC channel\n",
    "    with channel_helpers.get_grpc_channel() as channel:  \n",
    "        \n",
    "        # instantiate the topologies service\n",
    "        service = tick_conditions_service.TickConditionsServiceStub(channel)\n",
    "        \n",
    "        # process the topologies request\n",
    "        response = service.TickConditions(\n",
    "            request=request, \n",
    "            metadata = [('authorization', token)]\n",
    "        )\n",
    "except grpc.RpcError as e:\n",
    "    display(e.code().name)\n",
    "    display(e.details())"
   ]
  },
  {
   "cell_type": "markdown",
   "metadata": {},
   "source": [
    "The following code snippet displays in a dataframe the retrieved trade conditions"
   ]
  },
  {
   "cell_type": "code",
   "execution_count": null,
   "metadata": {},
   "outputs": [],
   "source": [
    "value = [d.value for d in response.data]\n",
    "description = [d.description for d in response.data]\n",
    "comment = [d.comment for d in response.data]\n",
    "isregular = [d.regular for d in response.data]\n",
    "isauction = [d.auction for d in response.data]\n",
    "    \n",
    "# Create pandas dataframe\n",
    "d = {'Value': value, 'Description': description, 'Comment': comment, 'IsRegular': isregular, 'IsAuction': isauction}\n",
    "df = pd.DataFrame(data=d)\n",
    "df"
   ]
  },
  {
   "cell_type": "markdown",
   "metadata": {},
   "source": [
    "#### 3.2 Retrieve trade conditions : with source ID"
   ]
  },
  {
   "cell_type": "code",
   "execution_count": null,
   "metadata": {},
   "outputs": [],
   "source": [
    "# set inputs\n",
    "source = 787 # Euronext"
   ]
  },
  {
   "cell_type": "code",
   "execution_count": null,
   "metadata": {},
   "outputs": [],
   "source": [
    "# generate tick bars request\n",
    "request = tick_conditions.TickConditionsRequest(source = source)"
   ]
  },
  {
   "cell_type": "code",
   "execution_count": null,
   "metadata": {},
   "outputs": [],
   "source": [
    "try:\n",
    "    # open a gRPC channel\n",
    "    with channel_helpers.get_grpc_channel() as channel:  \n",
    "        \n",
    "        # instantiate the topologies service\n",
    "        service = tick_conditions_service.TickConditionsServiceStub(channel)\n",
    "        \n",
    "        # process the topologies request\n",
    "        response = service.TickConditions(\n",
    "            request=request, \n",
    "            metadata = [('authorization', token)]\n",
    "        )\n",
    "except grpc.RpcError as e:\n",
    "    display(e.code().name)\n",
    "    display(e.details())"
   ]
  },
  {
   "cell_type": "markdown",
   "metadata": {},
   "source": [
    "The following code snippet displays in a dataframe the retrieved trade conditions"
   ]
  },
  {
   "cell_type": "code",
   "execution_count": null,
   "metadata": {},
   "outputs": [],
   "source": [
    "value = [d.value for d in response.data]\n",
    "description = [d.description for d in response.data]\n",
    "comment = [d.comment for d in response.data]\n",
    "isregular = [d.regular for d in response.data]\n",
    "isauction = [d.auction for d in response.data]\n",
    "    \n",
    "# Create pandas dataframe\n",
    "d = {'Value': value, 'Description': description, 'Comment': comment, 'IsRegular': isregular, 'IsAuction': isauction}\n",
    "df = pd.DataFrame(data=d)\n",
    "df"
   ]
  },
  {
   "cell_type": "markdown",
   "metadata": {},
   "source": [
    "#### 3.3 Retrieve trade conditions : with identifier"
   ]
  },
  {
   "cell_type": "code",
   "execution_count": null,
   "metadata": {},
   "outputs": [],
   "source": [
    "# set inputs\n",
    "identifier = identifier.Identifier(exchange = 'XNGS', ticker = 'AAPL')"
   ]
  },
  {
   "cell_type": "code",
   "execution_count": null,
   "metadata": {},
   "outputs": [],
   "source": [
    "# generate tick bars request\n",
    "request = tick_conditions.TickConditionsRequest(identifier = identifier)"
   ]
  },
  {
   "cell_type": "code",
   "execution_count": null,
   "metadata": {},
   "outputs": [],
   "source": [
    "try:\n",
    "    # open a gRPC channel\n",
    "    with channel_helpers.get_grpc_channel() as channel:  \n",
    "        \n",
    "        # instantiate the topologies service\n",
    "        service = tick_conditions_service.TickConditionsServiceStub(channel)\n",
    "        \n",
    "        # process the topologies request\n",
    "        response = service.TickConditions(\n",
    "            request=request, \n",
    "            metadata = [('authorization', token)]\n",
    "        )\n",
    "except grpc.RpcError as e:\n",
    "    display(e.code().name)\n",
    "    display(e.details())"
   ]
  },
  {
   "cell_type": "markdown",
   "metadata": {},
   "source": [
    "The following code snippet displays in a dataframe the retrieved trade conditions"
   ]
  },
  {
   "cell_type": "code",
   "execution_count": null,
   "metadata": {},
   "outputs": [],
   "source": [
    "value = [d.value for d in response.data]\n",
    "description = [d.description for d in response.data]\n",
    "comment = [d.comment for d in response.data]\n",
    "isregular = [d.regular for d in response.data]\n",
    "isauction = [d.auction for d in response.data]\n",
    "    \n",
    "# Create pandas dataframe\n",
    "d = {'Value': value, 'Description': description, 'Comment': comment, 'IsRegular': isregular, 'IsAuction': isauction}\n",
    "df = pd.DataFrame(data=d)\n",
    "df"
   ]
  }
 ],
 "metadata": {
  "kernelspec": {
   "display_name": "Python 3 (ipykernel)",
   "language": "python",
   "name": "python3"
  },
  "language_info": {
   "codemirror_mode": {
    "name": "ipython",
    "version": 3
   },
   "file_extension": ".py",
   "mimetype": "text/x-python",
   "name": "python",
   "nbconvert_exporter": "python",
   "pygments_lexer": "ipython3",
   "version": "3.9.7"
  }
 },
 "nbformat": 4,
 "nbformat_minor": 4
}
