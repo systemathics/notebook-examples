{
 "cells": [
  {
   "cell_type": "code",
   "execution_count": null,
   "id": "identical-television",
   "metadata": {},
   "outputs": [],
   "source": [
    "pip install systemathics.apis --pre"
   ]
  },
  {
   "cell_type": "code",
   "execution_count": null,
   "id": "objective-elder",
   "metadata": {},
   "outputs": [],
   "source": [
    "import os\n",
    "print(os.environ.get('AUTH0_TOKEN',''))"
   ]
  },
  {
   "cell_type": "code",
   "execution_count": null,
   "id": "premier-provision",
   "metadata": {},
   "outputs": [],
   "source": [
    "import systemathics.apis.services.static_data.v1.static_data_pb2_grpc as static_data_service_stub\n",
    "import systemathics.apis.services.static_data.v1.static_data_pb2 as static_data\n",
    "import systemathics.apis.helpers.token_helpers as token_helpers\n",
    "import systemathics.apis.helpers.channel_helpers as channel_helpers\n",
    "import google.protobuf.wrappers_pb2 as wrappers\n",
    "\n",
    "with channel_helpers.get_grpc_channel() as channel:\n",
    "    stub = static_data_service_stub.StaticDataServiceStub(channel)\n",
    "    request = static_data.StaticDataRequest(\n",
    "        asset_type = static_data.AssetType.ASSET_TYPE_EQUITY, \n",
    "        ticker = wrappers.StringValue(value='AAPL')\n",
    "    )\n",
    "    try:\n",
    "        response = stub.StaticData(request = request, metadata = token_helpers.get_token_as_metadata())\n",
    "        print(\"Success ! Could call service\")\n",
    "    except Exception as e:\n",
    "        print(f\"Failure !: {e}\")"
   ]
  },
  {
   "cell_type": "code",
   "execution_count": null,
   "id": "overhead-mechanism",
   "metadata": {},
   "outputs": [],
   "source": [
    "import os\n",
    "print(os.environ.get('AUTH0_TOKEN',''))"
   ]
  }
 ],
 "metadata": {
  "kernelspec": {
   "display_name": "Python 3 (ipykernel)",
   "language": "python",
   "name": "python3"
  },
  "language_info": {
   "codemirror_mode": {
    "name": "ipython",
    "version": 3
   },
   "file_extension": ".py",
   "mimetype": "text/x-python",
   "name": "python",
   "nbconvert_exporter": "python",
   "pygments_lexer": "ipython3",
   "version": "3.8.10"
  }
 },
 "nbformat": 4,
 "nbformat_minor": 5
}
