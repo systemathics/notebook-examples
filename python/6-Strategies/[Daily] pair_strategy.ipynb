{
 "cells": [
  {
   "cell_type": "markdown",
   "metadata": {},
   "source": [
    "# Pair strategy using daily data - Python\n",
    "\n",
    "### Overview\n",
    "The Pair Trading Strategy is a standard mean reversion model; two stocks that normally trade in the same direction become temporally uncorrelated and eventually will revert to the mean.\n",
    "\n",
    "Assume that the strategy will trade pairs of equities of the same industrial sector that are historically highly correlated.\n",
    "\n",
    "### Indicator\n",
    "Pairs trading is a market-neutral strategy, when we identify a deviation in the price relationship of these instruments, we expect a mean reversion.\n",
    "We buy the underperforming instrument and simultaneously sell the outperforming one.\n",
    "\n",
    "To illustrate the price relationship between pair instruements and to generate trading signals as explained above, we use the:\n",
    "\n",
    "$$ Ratio = \\frac{Last_1}{Last_2} $$\n",
    "Where:\n",
    "- $Last_1$ is the Last price of the instrument 1\n",
    "- $Last_2$ is the Last price of the instrument 2\n",
    "\n",
    "### Services used\n",
    "This sample uses *gRPC requests* in order to retrieve bars from the dedicated hosted service. The queried endpoint in this script are:\n",
    "* DailyBars: to directly retrieve bars objects from the server\n",
    "\n",
    "### Modules required\n",
    "1. Systemathics packages:\n",
    "    * *systemathics.apis*\n",
    "2. Open source packages\n",
    "    * *googleapis-common-protos*\n",
    "    * *protobuf*\n",
    "    * *grpcio*\n",
    "    * *pandas*\n",
    "    * *matpotlib* as per display package\n",
    "\n",
    "***"
   ]
  },
  {
   "cell_type": "markdown",
   "metadata": {},
   "source": [
    "# Run Pair strategy using daily data"
   ]
  },
  {
   "cell_type": "markdown",
   "metadata": {},
   "source": [
    "### Step 1: Install packages and import them"
   ]
  },
  {
   "cell_type": "code",
   "execution_count": null,
   "metadata": {},
   "outputs": [],
   "source": [
    "pip install googleapis-common-protos protobuf grpcio pandas matplotlib"
   ]
  },
  {
   "cell_type": "code",
   "execution_count": null,
   "metadata": {},
   "outputs": [],
   "source": [
    "pip install systemathics.apis"
   ]
  },
  {
   "cell_type": "code",
   "execution_count": null,
   "metadata": {},
   "outputs": [],
   "source": [
    "import os\n",
    "import grpc\n",
    "import pandas as pd\n",
    "from datetime import datetime\n",
    "import google.type.date_pb2 as date\n",
    "import google.type.dayofweek_pb2 as dayofweek\n",
    "import google.type.timeofday_pb2 as timeofday\n",
    "import google.protobuf.duration_pb2 as duration\n",
    "import systemathics.apis.type.shared.v1.identifier_pb2 as identifier\n",
    "import systemathics.apis.services.daily.v1.daily_bars_pb2 as daily_bars\n",
    "import systemathics.apis.services.daily.v1.daily_bars_pb2_grpc as daily_bars_service\n",
    "import systemathics.apis.helpers.token_helpers as token_helpers\n",
    "import systemathics.apis.helpers.channel_helpers as channel_helpers"
   ]
  },
  {
   "cell_type": "markdown",
   "metadata": {},
   "source": [
    "### Step 2: Retrieve authentication token\n",
    "The following code snippet sends authentication request and print token to console output in order to process the upcomming *gRPC queries*."
   ]
  },
  {
   "cell_type": "code",
   "execution_count": null,
   "metadata": {},
   "outputs": [],
   "source": [
    "token = token_helpers.get_token()\n",
    "display(token)"
   ]
  },
  {
   "cell_type": "markdown",
   "metadata": {},
   "source": [
    "### Step 3: Retrieve prices"
   ]
  },
  {
   "cell_type": "markdown",
   "metadata": {},
   "source": [
    "#### 3.1 Instrument selection"
   ]
  },
  {
   "cell_type": "code",
   "execution_count": null,
   "metadata": {},
   "outputs": [],
   "source": [
    "# set the instruments identifiers: tickers and exchange\n",
    "exchange = \"XNGS\"\n",
    "ticker_1 = \"AAPL\"\n",
    "ticker_2 = \"MSFT\""
   ]
  },
  {
   "cell_type": "markdown",
   "metadata": {},
   "source": [
    "#### 3.2 Request creation\n",
    "The following code snippets create *gRPC client*, process the *daily bars* request and stream the replies:"
   ]
  },
  {
   "cell_type": "code",
   "execution_count": null,
   "metadata": {},
   "outputs": [],
   "source": [
    "# create daily bars requests for the pair instruments\n",
    "daily_request_1 = daily_bars.DailyBarsRequest(identifier = identifier.Identifier(exchange = exchange, ticker = ticker_1))\n",
    "daily_request_2 = daily_bars.DailyBarsRequest(identifier = identifier.Identifier(exchange = exchange, ticker = ticker_2))"
   ]
  },
  {
   "cell_type": "code",
   "execution_count": null,
   "metadata": {},
   "outputs": [],
   "source": [
    "try:\n",
    "    # open a gRPC channel, instantiate the daily bars service and get the reply for the 1st instrument\n",
    "    with channel_helpers.get_grpc_channel() as channel:  \n",
    "        daily_service = daily_bars_service.DailyBarsServiceStub(channel)\n",
    "        response_1 = daily_service.DailyBars(request = daily_request_1, metadata = [('authorization', token)])\n",
    "        \n",
    "    print(\"Total bars retrieved: \",len(response_1.data))\n",
    "except grpc.RpcError as e:\n",
    "    display(e.code().name)\n",
    "    display(e.details())"
   ]
  },
  {
   "cell_type": "code",
   "execution_count": null,
   "metadata": {},
   "outputs": [],
   "source": [
    "try:\n",
    "    # open a gRPC channel, instantiate the daily bars service and get the reply for the 2nd instrument\n",
    "    with channel_helpers.get_grpc_channel() as channel:  \n",
    "        daily_service = daily_bars_service.DailyBarsServiceStub(channel)\n",
    "        response_2 = daily_service.DailyBars(request = daily_request_2, metadata = [('authorization', token)])\n",
    "        \n",
    "    print(\"Total bars retrieved: \",len(response_2.data))\n",
    "except grpc.RpcError as e:\n",
    "    display(e.code().name)\n",
    "    display(e.details())"
   ]
  },
  {
   "cell_type": "markdown",
   "metadata": {},
   "source": [
    "#### 3.3 Store prices and timestamps\n",
    "The following code snippet reprocess the outputs of the requests and store them in a *pandas* dataframe:"
   ]
  },
  {
   "cell_type": "code",
   "execution_count": null,
   "metadata": {},
   "outputs": [],
   "source": [
    "# create pandas dataframe to store close prices for the pair instruments\n",
    "length = 500 # keep last 500 points\n",
    "dates = [datetime(ts.date.year,ts.date.month, ts.date.day ) for ts in response_2.data[-length:]]\n",
    "prices1 = [ts.close for ts in response_1.data[-length:]]\n",
    "prices2 = [ts.close for ts in response_2.data[-length:]]\n",
    "data = {'Date': dates, 'Price_1': prices1, 'Price_2': prices2}\n",
    "df = pd.DataFrame(data=data)"
   ]
  },
  {
   "cell_type": "markdown",
   "metadata": {},
   "source": [
    "#### 3.4 Visualize retrieved prices"
   ]
  },
  {
   "cell_type": "code",
   "execution_count": null,
   "metadata": {},
   "outputs": [],
   "source": [
    "import matplotlib.pyplot as plt"
   ]
  },
  {
   "cell_type": "code",
   "execution_count": null,
   "metadata": {},
   "outputs": [],
   "source": [
    "plt.figure(figsize=(25, 10))\n",
    "plt.plot( 'Date', 'Price_1', data=df, marker='', color='orange', linewidth=1, label=\"{}\".format(ticker_1))\n",
    "plt.plot( 'Date', 'Price_2', data=df, marker='', color='purple', linewidth=1, label=\"{}\".format(ticker_2))\n",
    "plt.xlabel(\"Date\")\n",
    "plt.ylabel(\"Price\")\n",
    "plt.title(\"{0} & {1} price over time\".format(ticker_1, ticker_2))\n",
    "plt.legend()"
   ]
  },
  {
   "cell_type": "markdown",
   "metadata": {},
   "source": [
    "### Step 4: Generate buy/sell signals"
   ]
  },
  {
   "cell_type": "markdown",
   "metadata": {},
   "source": [
    "#### 4.1 Compute ratio"
   ]
  },
  {
   "cell_type": "code",
   "execution_count": null,
   "metadata": {},
   "outputs": [],
   "source": [
    "import math\n",
    "# define the strategy ratio, equals Price1/Price2\n",
    "def get_ratio(p1,p2):\n",
    "    if p2 == 0:\n",
    "        return 0\n",
    "    else:\n",
    "        return p1/p2"
   ]
  },
  {
   "cell_type": "code",
   "execution_count": null,
   "metadata": {},
   "outputs": [],
   "source": [
    "# Compute ratio and add to the dataframe\n",
    "ratios = [get_ratio(p1,p2) for p1,p2 in zip(prices1,prices2)]\n",
    "df['Ratio'] = ratios\n",
    "df"
   ]
  },
  {
   "cell_type": "code",
   "execution_count": null,
   "metadata": {},
   "outputs": [],
   "source": [
    "# display the ratio and its mean over the time\n",
    "ratio_mean = [df.mean().Ratio for t in df['Date']]\n",
    "plt.figure(figsize=(25, 10))\n",
    "plt.plot('Date', 'Ratio', data=df, marker='', color='blue', linewidth=1, label=\"Ratio\")\n",
    "plt.plot(df['Date'], ratio_mean, marker='', color='black', linewidth=1, label=\"Average ratio\")\n",
    "plt.xlabel(\"Date\")\n",
    "plt.ylabel(\"Ratio\")\n",
    "plt.title(\"{0} & {1} ratio\".format(ticker_1,ticker_2))\n",
    "plt.legend()\n",
    "plt.show()"
   ]
  },
  {
   "cell_type": "markdown",
   "metadata": {},
   "source": [
    "#### 4.2 Compute ratio Z-score\n",
    "A *z-score* is the number of standard deviations a datapoint is from the mean. In the following code snippets, we will compute the *z-score* for the strategy ratio. "
   ]
  },
  {
   "cell_type": "code",
   "execution_count": null,
   "metadata": {},
   "outputs": [],
   "source": [
    "# define a method to compute z-score\n",
    "def get_zscore(value,std,mean):\n",
    "    return (value - mean) / std"
   ]
  },
  {
   "cell_type": "code",
   "execution_count": null,
   "metadata": {},
   "outputs": [],
   "source": [
    "# compute the z-score for the strategy indicator\n",
    "zscores = [get_zscore(i, df.std().Ratio, df.mean().Ratio) for i in ratios]\n",
    "df['Zscore'] = zscores\n",
    "df"
   ]
  },
  {
   "cell_type": "markdown",
   "metadata": {},
   "source": [
    "In the following code snippet, we plot the *z-score*. We notice that it reverts the mean as as soon as it is higher or lower than the thresholds: +1 and -1."
   ]
  },
  {
   "cell_type": "code",
   "execution_count": null,
   "metadata": {},
   "outputs": [],
   "source": [
    "# display zscore and zscore_mean\n",
    "zscore_means = [df.mean().Zscore for t in df['Date']]\n",
    "plt.figure(figsize=(25, 10))\n",
    "plt.plot('Date', 'Zscore', data=df, marker='', color='blue', linewidth=1, label=\"Z-score\")\n",
    "plt.plot(df['Date'],zscore_means, marker='', color='black', linewidth=1, label=\"Average Z-score\")\n",
    "plt.axhline(1.0, color='red')\n",
    "plt.axhline(-1.0, color='green')\n",
    "plt.xlabel(\"Date\")\n",
    "plt.ylabel(\"Z-score\")\n",
    "plt.title(\"{0} & {1} Z-score\".format(ticker_1,ticker_2))\n",
    "plt.legend()"
   ]
  },
  {
   "cell_type": "markdown",
   "metadata": {},
   "source": [
    "#### 4.3 Compute indicator moving averages Z-score"
   ]
  },
  {
   "cell_type": "markdown",
   "metadata": {},
   "source": [
    "To generate **trading signals**, we will track indicator movements and identify points where it reverts the mean. \n",
    "\n",
    "To that end, we will compute a specific *z-score* on top of the indicator metrics related to the mean:\n",
    "* 60 day Moving Average of Indicator\n",
    "* 5 day Moving Average of Indicator"
   ]
  },
  {
   "cell_type": "code",
   "execution_count": null,
   "metadata": {},
   "outputs": [],
   "source": [
    "# Set moving average windows\n",
    "long_window = 60\n",
    "short_window = 5"
   ]
  },
  {
   "cell_type": "code",
   "execution_count": null,
   "metadata": {},
   "outputs": [],
   "source": [
    "# compute long moving average\n",
    "long_ma_rolling = df['Ratio'].rolling(window=long_window, center=False)\n",
    "long_mas = long_ma_rolling.mean()\n",
    "long_ma_std = long_ma_rolling.std()\n",
    "\n",
    "# compute short moving average\n",
    "short_ma_rolling = df['Ratio'].rolling(window=short_window, center=False)\n",
    "short_mas = short_ma_rolling.mean()\n",
    "\n",
    "# add the strategy indicator long and short moving averages\n",
    "df['Ratio_long_ma'],df['Ratio_short_ma'] = long_mas, short_mas "
   ]
  },
  {
   "cell_type": "code",
   "execution_count": null,
   "metadata": {},
   "outputs": [],
   "source": [
    "# comptue zscore\n",
    "zscore_mas = (short_mas -long_mas)/long_ma_std\n",
    "df['Zscore_ma'] = zscore_mas\n",
    "df"
   ]
  },
  {
   "cell_type": "markdown",
   "metadata": {},
   "source": [
    "The following code snippets displays the strategy ratio and its long/short moving averages:"
   ]
  },
  {
   "cell_type": "code",
   "execution_count": null,
   "metadata": {},
   "outputs": [],
   "source": [
    "plt.figure(figsize=(25, 10))\n",
    "plt.plot('Date', 'Ratio', data=df, marker='', color='blue', linewidth=1, alpha = 0.6, label=\"Ratio\")\n",
    "plt.plot('Date', 'Ratio_long_ma', data=df, marker='', color='red', linewidth=1, label=\"Ratio long-ma\")\n",
    "plt.plot('Date', 'Ratio_short_ma', data=df, marker='', color='green', linewidth=1, label=\"Ratio short-ma\")\n",
    "plt.legend(['Ratio', 'Ratio long-ma', 'Ratio short-ma'])\n",
    "plt.ylabel('Ratio')\n",
    "plt.xlabel('Date')\n",
    "plt.title(' {0} & {1} Ratio with long/short moving averages: last {2} points'.format(ticker_1,ticker_2,length))\n",
    "plt.show()"
   ]
  },
  {
   "cell_type": "markdown",
   "metadata": {},
   "source": [
    "The following code snippets displays the strategy ratio z-score previously computed using the long/short indicator moving averages."
   ]
  },
  {
   "cell_type": "code",
   "execution_count": null,
   "metadata": {},
   "outputs": [],
   "source": [
    "plt.figure(figsize=(25, 10))\n",
    "plt.plot('Date', 'Zscore_ma', data=df, marker='', color='blue', linewidth=1, label=\"Ratio z-score\")\n",
    "plt.axhline(0, color='black')\n",
    "plt.axhline(1.0, color='red', linestyle='--')\n",
    "plt.axhline(-1.0, color='green', linestyle='--')\n",
    "plt.legend(['Ratio z-score', 'Mean', '+1', '-1'])\n",
    "plt.ylabel('Z-score')\n",
    "plt.title(' {0} & {1} ratio Z-Score from moving averages: last {2} points'.format(ticker_1,ticker_2,length))\n",
    "plt.xlabel('Date')\n",
    "plt.show()"
   ]
  },
  {
   "cell_type": "markdown",
   "metadata": {},
   "source": [
    "#### 4.4 Generate trading signals"
   ]
  },
  {
   "cell_type": "markdown",
   "metadata": {},
   "source": [
    "We now generate **buy/sell trading signals** based on *z-score* movements:\n",
    "* if *z-score* < -1 : we *buy* the ratio  \n",
    "* if *z-score* > 1 : we *sell* the ratio  "
   ]
  },
  {
   "cell_type": "code",
   "execution_count": null,
   "metadata": {},
   "outputs": [],
   "source": [
    "buys = [None] * length\n",
    "sells = [None] * length\n",
    "\n",
    "# customize sell and buy signals\n",
    "for i in range(len(buys)):\n",
    "    if zscore_mas[i] <= -1:\n",
    "        buys[i] = ratios[i]\n",
    "    if zscore_mas[i] >= 1:\n",
    "        sells[i] = ratios[i]\n",
    "\n",
    "df['Buy'],df['Sell'] = buys, sells\n",
    "df"
   ]
  },
  {
   "cell_type": "markdown",
   "metadata": {},
   "source": [
    "### Step 5: Plot buy / sell signals"
   ]
  },
  {
   "cell_type": "markdown",
   "metadata": {},
   "source": [
    "#### 5.1 Plot buy / sell signals on ratio"
   ]
  },
  {
   "cell_type": "code",
   "execution_count": null,
   "metadata": {},
   "outputs": [],
   "source": [
    "plt.figure(figsize=(25, 10))\n",
    "plt.plot('Date', 'Ratio', data=df, marker='', color='blue', linewidth=1, label=\"Ratio z-Score\")\n",
    "plt.plot('Date', 'Buy', data=df, color='green', linestyle='None', marker='^')\n",
    "plt.plot('Date', 'Sell', data=df, color='red', linestyle='None', marker='v')\n",
    "plt.legend(['Ratio', 'Buy Signal', 'Sell Signal'])\n",
    "plt.ylabel('Z-Score Rolling Ratio')\n",
    "plt.title('{0} & {1} Buy/sell signals on the ratio: last {2} points'.format(ticker_1,ticker_2,length))\n",
    "plt.xlabel('Date')\n",
    "plt.show()"
   ]
  },
  {
   "cell_type": "markdown",
   "metadata": {},
   "source": [
    "#### 5.2 Plot buy & sell signals on respective instruments\n",
    "We previously identified the trading signals based on the ratio. We now have to match signals in order to determine which instrument to buy/sell in each case.\n",
    "Since the ratio was previously defined as Price1/Price2, the decision will be made following the rules below:\n",
    "* When buying the ratio, you **buy** Instrument 1 and **sell** Instrument 2\n",
    "* When selling the ratio, you **sell** Instrument 1 and **buy** Instrument 2"
   ]
  },
  {
   "cell_type": "code",
   "execution_count": null,
   "metadata": {},
   "outputs": [],
   "source": [
    "# match b/s signals on the corresponding instruments\n",
    "buy_signal = [None] * length\n",
    "sell_signal= [None] * length\n",
    "\n",
    "for i in range(length):\n",
    "    if buys[i] != None:  # buying the ratio\n",
    "        buy_signal[i] = prices1[i]    #buy instrument1\n",
    "        sell_signal[i] = prices2[i]   #sell instrument2\n",
    "    if sells[i] != None: # selling the ratio\n",
    "        sell_signal[i] = prices1[i]   #sell instrument1\n",
    "        buy_signal[i] = prices2[i]    #buy instrument2\n",
    "\n",
    "df['Buy_signal'], df['Sell_signal'] = buy_signal, sell_signal"
   ]
  },
  {
   "cell_type": "code",
   "execution_count": null,
   "metadata": {},
   "outputs": [],
   "source": [
    "plt.figure(figsize=(25, 10))\n",
    "plt.plot('Date', 'Price_1', data=df, marker='', color='orange', linewidth=1, label=\"{}\".format(ticker_1))\n",
    "plt.plot('Date', 'Price_2', data=df, marker='', color='purple', linewidth=1, label=\"{}\".format(ticker_1))\n",
    "plt.plot('Date', 'Buy_signal', data=df, color='green', linestyle='None', marker='^', label=\"Buy signal\")\n",
    "plt.plot('Date', 'Sell_signal', data=df, color='red', linestyle='None', marker='v', label=\"Sell signal\")\n",
    "plt.title('{0} & {1} Buy/sell signals on the pair instruments: last {2} points'.format(ticker_1,ticker_2,length))\n",
    "plt.xlabel('Date')\n",
    "plt.legend()\n",
    "plt.show()"
   ]
  },
  {
   "cell_type": "markdown",
   "metadata": {},
   "source": [
    "### 6 Estimate profit\n",
    "We want to apply this strategy to a sample to estimate the profit."
   ]
  },
  {
   "cell_type": "markdown",
   "metadata": {},
   "source": [
    "#### 6.1 Prepare the dataset\n",
    "Repeat the same steps explained in the process above."
   ]
  },
  {
   "cell_type": "code",
   "execution_count": null,
   "metadata": {},
   "outputs": [],
   "source": [
    "# Define our data sample : -1000 to -500 points\n",
    "length = 500 \n",
    "dates = [datetime(ts.date.year,ts.date.month, ts.date.day ) for ts in response_2.data[-2*length:-length]]\n",
    "prices1 = [ts.close for ts in response_1.data[-2*length:-length]]\n",
    "prices2 = [ts.close for ts in response_2.data[-2*length:-length]]\n",
    "data = {'Date': dates, 'Price_1': prices1, 'Price_2': prices2}\n",
    "df_test = pd.DataFrame(data=data)"
   ]
  },
  {
   "cell_type": "code",
   "execution_count": null,
   "metadata": {},
   "outputs": [],
   "source": [
    "plt.figure(figsize=(15, 8))\n",
    "plt.plot( 'Date', 'Price_1', data=df_test, marker='', color='orange', linewidth=1, label=\"{}\".format(ticker_1))\n",
    "plt.plot( 'Date', 'Price_2', data=df_test, marker='', color='purple', linewidth=1, label=\"{}\".format(ticker_2))\n",
    "plt.xlabel(\"Date\")\n",
    "plt.ylabel(\"Price\")\n",
    "plt.title(\"{0} & {1} price over time\".format(ticker_1, ticker_2))\n",
    "plt.legend()\n",
    "plt.show()"
   ]
  },
  {
   "cell_type": "code",
   "execution_count": null,
   "metadata": {},
   "outputs": [],
   "source": [
    "# compute ratio and add to the dataframe\n",
    "ratios = [get_ratio(p1,p2) for p1,p2 in zip(prices1,prices2)]\n",
    "df_test['Ratio'] = ratios\n",
    "\n",
    "# compute score and add to the dataframe\n",
    "long_ma_rolling = df_test['Ratio'].rolling(window=long_window, center=False)\n",
    "long_mas = long_ma_rolling.mean()\n",
    "\n",
    "# compute short moving average\n",
    "short_ma_rolling = df_test['Ratio'].rolling(window=short_window, center=False)\n",
    "short_mas = short_ma_rolling.mean()\n",
    "short_ma_std = short_ma_rolling.std()\n",
    "\n",
    "# add the strategy ratio long and short moving averages\n",
    "df_test['Ratio_long_ma'],df_test['Ratio_short_ma'] = long_mas, short_mas \n",
    "\n",
    "# comptue zscore\n",
    "zscore_mas = (long_mas - short_mas)/short_ma_std\n",
    "df_test['Zscore_ma'] = zscore_mas\n",
    "df_test"
   ]
  },
  {
   "cell_type": "markdown",
   "metadata": {},
   "source": [
    "#### 6.2 Run the strategy\n",
    "The following code snippet runs the decision algorithm and exports the result of the strategy in a csv file."
   ]
  },
  {
   "cell_type": "code",
   "execution_count": null,
   "metadata": {},
   "outputs": [],
   "source": [
    "import csv\n",
    "\n",
    "empty_entries = False # determines whether or not we show the empty entries in the csv export\n",
    "filename = 'output/daily_export.csv'\n",
    "os.makedirs('output', exist_ok=True)\n",
    "with open(filename, mode='w') as export_file:\n",
    "    writer = csv.writer(export_file, delimiter=',', quotechar='\"', quoting=csv.QUOTE_MINIMAL)\n",
    "    \n",
    "    # write 1rst row\n",
    "    writer.writerow(['Date', 'Ratio', 'Action' ,'Instr1_position', 'Instr2_position', 'Profit'])\n",
    "    \n",
    "    # initialize parameters:\n",
    "    total, instr1_count, instr2_count = 0,0,0\n",
    "    clear_threshold = 0.5\n",
    "\n",
    "    # iterate the selected sample and apply the pair strategy algorithm\n",
    "    for i in range(len(ratios)):\n",
    "        ratio = ratios[i]\n",
    "\n",
    "        if zscore_mas[i] <-1: \n",
    "            # we sell the ratio: \n",
    "            #  -buying 1 instr1\n",
    "            #  -selling indicators[i] instr2\n",
    "            total += prices1[i] - prices2[i] *ratio\n",
    "            instr1_count -= 1\n",
    "            instr2_count += ratio\n",
    "            writer.writerow(['{0:%Y/%m/%d}'.format(dates[i]), '{0:.3g}'.format(ratio), 'Sold', instr1_count,'{0:.3g}'.format(instr2_count) , '{0:.3g}'.format(total) ])\n",
    "        elif zscore_mas[i] >1: \n",
    "            # we buy the ratio: \n",
    "            #  -selling 1 instr1\n",
    "            #  -buying indicators[i] instr2\n",
    "            total +=  - prices1[i] + prices2[i] *ratio\n",
    "            instr1_count += 1\n",
    "            instr2_count -= ratio\n",
    "            writer.writerow(['{0:%Y/%m/%d}'.format(dates[i]), '{0:.3g}'.format(ratio), 'Bought', instr1_count, '{0:.3g}'.format(instr2_count), '{0:.3g}'.format(total) ])\n",
    "        elif abs(zscore_mas[i]) < clear_threshold:\n",
    "            # clear our current position\n",
    "            total +=  instr1_count * prices1[i] + instr2_count * prices2[i]\n",
    "            instr1_count = 0\n",
    "            instr2_count = 0\n",
    "            writer.writerow(['{0:%Y/%m/%d}'.format(dates[i]), '{0:.3g}'.format(ratio), 'Cleared', instr1_count, '{0:.3g}'.format(instr2_count), '{0:.3g}'.format(total) ])\n",
    "        else:\n",
    "            if empty_entries:\n",
    "                writer.writerow(['{0:%Y/%m/%d}'.format(dates[i]), '{0:.3g}'.format(ratio), '', instr1_count, '{0:.3g}'.format(instr2_count), '{0:.3g}'.format(total) ])"
   ]
  }
 ],
 "metadata": {
  "kernelspec": {
   "display_name": "Python 3.10.4 64-bit",
   "language": "python",
   "name": "python3"
  },
  "language_info": {
   "codemirror_mode": {
    "name": "ipython",
    "version": 3
   },
   "file_extension": ".py",
   "mimetype": "text/x-python",
   "name": "python",
   "nbconvert_exporter": "python",
   "pygments_lexer": "ipython3",
   "version": "3.10.4"
  },
  "vscode": {
   "interpreter": {
    "hash": "916dbcbb3f70747c44a77c7bcd40155683ae19c65e1c03b4aa3499c5328201f1"
   }
  }
 },
 "nbformat": 4,
 "nbformat_minor": 4
}
