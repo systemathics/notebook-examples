{
 "cells": [
  {
   "cell_type": "markdown",
   "id": "af576d70-aa6b-48a2-890f-4aabbf4ba062",
   "metadata": {},
   "source": [
    "# Symbology mapping : Crypto - Python"
   ]
  },
  {
   "cell_type": "markdown",
   "id": "1d7175ab-3a47-4b6e-a92f-0a24380d20c5",
   "metadata": {
    "tags": []
   },
   "source": [
    "### Setup and import packages"
   ]
  },
  {
   "cell_type": "code",
   "execution_count": null,
   "id": "induced-india",
   "metadata": {},
   "outputs": [],
   "source": [
    "pip install googleapis-common-protos protobuf grpcio"
   ]
  },
  {
   "cell_type": "code",
   "execution_count": null,
   "id": "00c215f3-c8b3-41c6-a149-1321bdee79d3",
   "metadata": {},
   "outputs": [],
   "source": [
    "pip install systemathics.apis"
   ]
  },
  {
   "cell_type": "code",
   "execution_count": null,
   "id": "increased-universal",
   "metadata": {},
   "outputs": [],
   "source": [
    "import os\n",
    "import grpc\n",
    "import google.protobuf as pb\n",
    "import systemathics.apis.services.static_data.v1.static_data_pb2 as static_data\n",
    "import systemathics.apis.services.static_data.v1.static_data_pb2_grpc as static_data_service\n",
    "import systemathics.apis.helpers.token_helpers as token_helpers\n",
    "import systemathics.apis.helpers.channel_helpers as channel_helpers"
   ]
  },
  {
   "cell_type": "markdown",
   "id": "d31a32ee-7fc3-4e2e-ab8f-d972e72a50be",
   "metadata": {
    "tags": []
   },
   "source": [
    "### Retrieve the token"
   ]
  },
  {
   "cell_type": "code",
   "execution_count": null,
   "id": "magnetic-invalid",
   "metadata": {},
   "outputs": [],
   "source": [
    "token = token_helpers.get_token()\n",
    "display(token)"
   ]
  },
  {
   "cell_type": "markdown",
   "id": "732d1f3d-91d7-4d92-b102-6425f1a77ea8",
   "metadata": {},
   "source": [
    "### Create the request"
   ]
  },
  {
   "cell_type": "code",
   "execution_count": null,
   "id": "refined-cherry",
   "metadata": {},
   "outputs": [],
   "source": [
    "request = static_data.StaticDataRequest(asset_type = static_data.AssetType.ASSET_TYPE_CRYPTO)\n",
    "request.ticker.value = 'BTCUSDT'\n",
    "#request.exchange.value = 'Binance'"
   ]
  },
  {
   "cell_type": "markdown",
   "id": "41bc3118-aa9a-4f88-839b-559a51238e69",
   "metadata": {
    "tags": []
   },
   "source": [
    "### Retrieve the data"
   ]
  },
  {
   "cell_type": "code",
   "execution_count": null,
   "id": "complex-davis",
   "metadata": {},
   "outputs": [],
   "source": [
    "try:\n",
    "    with channel_helpers.get_grpc_channel() as channel:  \n",
    "        service = static_data_service.StaticDataServiceStub(channel)\n",
    "        response = service.StaticData(request = request, metadata = [('authorization', token)])\n",
    "except grpc.RpcError as e:\n",
    "    display(e.code().name)\n",
    "    display(e.details())"
   ]
  },
  {
   "cell_type": "markdown",
   "id": "8c04a691-7b06-4a6b-9db1-6a5e5dc121dd",
   "metadata": {},
   "source": [
    "### Export"
   ]
  },
  {
   "cell_type": "code",
   "execution_count": null,
   "id": "07443913",
   "metadata": {},
   "outputs": [],
   "source": [
    "os.makedirs('output', exist_ok=True)\n",
    "with open(\"output/crypto.json\", 'w', encoding='utf-8') as fw:\n",
    "    fw.write(str(response))"
   ]
  },
  {
   "cell_type": "markdown",
   "id": "1906f8f7",
   "metadata": {},
   "source": [
    "See the resulting [output/crypto.json](output/crypto.json)"
   ]
  },
  {
   "cell_type": "markdown",
   "id": "efa9495c",
   "metadata": {},
   "source": [
    "### Display"
   ]
  },
  {
   "cell_type": "code",
   "execution_count": null,
   "id": "ethical-communication",
   "metadata": {},
   "outputs": [],
   "source": [
    "display(response)"
   ]
  }
 ],
 "metadata": {
  "kernelspec": {
   "display_name": "Python 3.10.4 64-bit",
   "language": "python",
   "name": "python3"
  },
  "language_info": {
   "codemirror_mode": {
    "name": "ipython",
    "version": 3
   },
   "file_extension": ".py",
   "mimetype": "text/x-python",
   "name": "python",
   "nbconvert_exporter": "python",
   "pygments_lexer": "ipython3",
   "version": "3.10.4"
  },
  "vscode": {
   "interpreter": {
    "hash": "916dbcbb3f70747c44a77c7bcd40155683ae19c65e1c03b4aa3499c5328201f1"
   }
  }
 },
 "nbformat": 4,
 "nbformat_minor": 5
}
