{
 "cells": [
  {
   "cell_type": "markdown",
   "id": "af576d70-aa6b-48a2-890f-4aabbf4ba062",
   "metadata": {},
   "source": [
    "# Symbology mapping : Crypto - Python"
   ]
  },
  {
   "cell_type": "markdown",
   "id": "1d7175ab-3a47-4b6e-a92f-0a24380d20c5",
   "metadata": {
    "tags": []
   },
   "source": [
    "### Setup and import packages"
   ]
  },
  {
   "cell_type": "code",
   "execution_count": 1,
   "id": "induced-india",
   "metadata": {},
   "outputs": [
    {
     "name": "stdout",
     "output_type": "stream",
     "text": [
      "Requirement already satisfied: googleapis-common-protos in /opt/conda/lib/python3.9/site-packages (1.56.0)\n",
      "Requirement already satisfied: protobuf in /opt/conda/lib/python3.9/site-packages (3.20.0)\n",
      "Requirement already satisfied: grpcio in /opt/conda/lib/python3.9/site-packages (1.44.0)\n",
      "Requirement already satisfied: six>=1.5.2 in /opt/conda/lib/python3.9/site-packages (from grpcio) (1.16.0)\n",
      "Note: you may need to restart the kernel to use updated packages.\n"
     ]
    }
   ],
   "source": [
    "pip install googleapis-common-protos protobuf grpcio"
   ]
  },
  {
   "cell_type": "code",
   "execution_count": 2,
   "id": "00c215f3-c8b3-41c6-a149-1321bdee79d3",
   "metadata": {},
   "outputs": [
    {
     "name": "stdout",
     "output_type": "stream",
     "text": [
      "Requirement already satisfied: systemathics.apis in /opt/conda/lib/python3.9/site-packages (0.10.10rc0)\n",
      "Requirement already satisfied: grpcio in /opt/conda/lib/python3.9/site-packages (from systemathics.apis) (1.44.0)\n",
      "Requirement already satisfied: googleapis-common-protos in /opt/conda/lib/python3.9/site-packages (from systemathics.apis) (1.56.0)\n",
      "Requirement already satisfied: protobuf in /opt/conda/lib/python3.9/site-packages (from systemathics.apis) (3.20.0)\n",
      "Requirement already satisfied: six>=1.5.2 in /opt/conda/lib/python3.9/site-packages (from grpcio->systemathics.apis) (1.16.0)\n",
      "Note: you may need to restart the kernel to use updated packages.\n"
     ]
    }
   ],
   "source": [
    "pip install systemathics.apis --pre"
   ]
  },
  {
   "cell_type": "code",
   "execution_count": 3,
   "id": "increased-universal",
   "metadata": {},
   "outputs": [],
   "source": [
    "import os\n",
    "import grpc\n",
    "import google.protobuf as pb\n",
    "import systemathics.apis.services.static_data.v1.static_data_pb2 as static_data\n",
    "import systemathics.apis.services.static_data.v1.static_data_pb2_grpc as static_data_service\n",
    "import systemathics.apis.helpers.token_helpers as token_helpers\n",
    "import systemathics.apis.helpers.channel_helpers as channel_helpers"
   ]
  },
  {
   "cell_type": "markdown",
   "id": "d31a32ee-7fc3-4e2e-ab8f-d972e72a50be",
   "metadata": {
    "tags": []
   },
   "source": [
    "### Retrieve the token"
   ]
  },
  {
   "cell_type": "code",
   "execution_count": 4,
   "id": "magnetic-invalid",
   "metadata": {},
   "outputs": [],
   "source": [
    "token = token_helpers.get_token()\n",
    "#display(token)"
   ]
  },
  {
   "cell_type": "markdown",
   "id": "732d1f3d-91d7-4d92-b102-6425f1a77ea8",
   "metadata": {},
   "source": [
    "### Create the request"
   ]
  },
  {
   "cell_type": "code",
   "execution_count": 5,
   "id": "refined-cherry",
   "metadata": {},
   "outputs": [],
   "source": [
    "request = static_data.StaticDataRequest(asset_type = static_data.AssetType.ASSET_TYPE_CRYPTO)\n",
    "request.ticker.value = 'BTCUSDT'\n",
    "#request.exchange.value = 'Binance'"
   ]
  },
  {
   "cell_type": "markdown",
   "id": "41bc3118-aa9a-4f88-839b-559a51238e69",
   "metadata": {
    "tags": []
   },
   "source": [
    "### Retrieve the data"
   ]
  },
  {
   "cell_type": "code",
   "execution_count": 6,
   "id": "complex-davis",
   "metadata": {},
   "outputs": [],
   "source": [
    "try:\n",
    "    with channel_helpers.get_grpc_channel() as channel:  \n",
    "        service = static_data_service.StaticDataServiceStub(channel)\n",
    "        response = service.StaticData(request = request, metadata = [('authorization', token)])\n",
    "except grpc.RpcError as e:\n",
    "    display(e.code().name)\n",
    "    display(e.details())"
   ]
  },
  {
   "cell_type": "markdown",
   "id": "8c04a691-7b06-4a6b-9db1-6a5e5dc121dd",
   "metadata": {},
   "source": [
    "### Display"
   ]
  },
  {
   "cell_type": "code",
   "execution_count": 7,
   "id": "ethical-communication",
   "metadata": {},
   "outputs": [
    {
     "data": {
      "text/plain": [
       "cryptos {\n",
       "  identifier {\n",
       "    exchange: \"Kraken\"\n",
       "    ticker: \"BTCUSDT\"\n",
       "  }\n",
       "  type: \"Crypto\"\n",
       "  primary: \"Kraken\"\n",
       "  operating: \"Crypto\"\n",
       "  name: \"Bitcoin - Tether\"\n",
       "  base_currency: \"BTC\"\n",
       "  open {\n",
       "  }\n",
       "  close {\n",
       "  }\n",
       "  lot_size: 1\n",
       "  point_value: 1.0\n",
       "  price {\n",
       "    value: 39420.7\n",
       "  }\n",
       "  volume {\n",
       "    value: 10367829\n",
       "  }\n",
       "  time {\n",
       "    year: 2022\n",
       "    month: 5\n",
       "    day: 11\n",
       "  }\n",
       "  sources: 1\n",
       "  mapping {\n",
       "    key: \"Idc|9999\"\n",
       "    value: \"9999|BTCUSDT-Kraken\"\n",
       "  }\n",
       "  quote_currency: \"USDT\"\n",
       "  consensus: \"mining-zone\"\n",
       "  consensus: \"pow\"\n",
       "  description: \"General Data and InformationThe theory behind Bitcoin was first described by Satoshi Nakamoto in a paper \\342\\200\\234Bitcoin: A Peer to Peer Electronic Cash System\\342\\200\\235published to a cryptographic mailing list on the 31st of October 2008. In this paper Satoshi described the protocol (Proof of Work) that would solve the \\342\\200\\234double-spend\\342\\200\\235problem inherent in non-physical (digital) forms of currency. The first or Genesis block was mined by Satoshi on the 3rd of January 2009 with the text \\342\\200\\234The Times 03/Jan/2009 Chancellor on brink of second bailout for banks\\342\\200\\235 written into the coinbase of the block to act both as a timestamp and a rebuke to the economic instability caused by the widespread practice of fractional reserve banking. The total supply of Bitcoins is capped at 21 million coins (roughly 18 million are currently in circulation) with each coin being divisible to the 8th decimal place with a single unit of the smallest division (0.00000001 BTC) being known colloquially as a Satoshi (or sat). The software to run miners and wallets is open source and decentralized meaning that the network is accessible to anyone with a computer and an internet connection. Transactions are validated and written into the blockchain by miners selected via the Proof of Work (SHA-256) protocol. The difficulty of the Proof of Work algorithm is adjusted every 2016 blocks (roughly 2 weeks) to maintain an average block time of roughly 10 minutes. New Bitcoins are created (minted) as a reward to the miner that mined the valid block with the reward currently sitting at 12.5 Bitcoins per block. This block reward is halved every 210000 blocks (roughly 4 years) until it reaches zero. This block reward serves as an economic incentive for the miners to continue securing the Bitcoin network. Milestones31st October 2008 - White paper released by Satoshi Nakamoto.3rd January 2009 - Genesis block mined by Satoshi Nakamoto.12th January 2009  -First transaction using Bitcoin; Satoshi Nakamoto sends 10 BTC to Hal Finney.22nd May 2010 - First recorded commercial transaction using Bitcoin; aka Pizza Day.14th January 2016 - Lightning Network white paper a Layer-2 solution to scaling Bitcoin. 1st August 2017 - Bitcoin Cash (BCH) hard fork.23rd August 2017 - Segregated Witness (SegWit) implemented.UtilityAs the flagship cryptocurrency Bitcoin maintains the largest market capitalization and liquidity making it the \\342\\200\\234reserve\\342\\200\\235 currency against which all other crypto-currencies trade against. This means that crypto exchanges are obliged to offer BTC trading pairs ahead of any other pairing.This reserve status combined with the widespread availability of trading pairs gives Bitcoin a special status as a store of value in the crypto-currency ecosystem; trading between two alternative cryptocurrencies will often require Bitcoin as a bridge currency to facilitate the exchange. In addition the widespread brand recognition of Bitcoin makes it is the first port of call for most newcomers to the crypto-currency space and it\\342\\200\\231s name is often considered by the wider public to be synonymous with the entire crypto-currency ecosystem. Although the acceptance of Bitcoin by vendors in the developed nations is not on the level of established fiat currencies Bitcoin is finding more traction in developing countries where the existing fiat currencies are not able to properly function as stores of value over time. Significant Features- Decentralized access allowing any party with the open-source software and internet access to send and receive Bitcoin irreversibly without third party interference or trust. - Decentralized governance via open-source development and forking. - Relatively slow block times in comparison to other crypto-currencies although there are solutions in development such as the Lightning Network aiming to solve the problem of scaling.- Largest hashrate (ensuring the security and resilience of the blockchain) and largest liquidity. - Most common currency for crypto-currency exchange pairing- The hard coded scarcity (maximum 21 million coins) has led to comparisons to traditional physical scarce resources like gold. - Transactions are pseduo-anonymous. Funds are sent address to address but an owner identity can eventually attributed to an address given enough data and analysis.- Average blocktime of 10 minutes; Total supply of 21 million BTC; Consensus via Proof of Work (SHA-256). References: https://bitcoin.org/bitcoin.pdfhttps://en.wikipedia.org/wiki/Bitcoinhttps://en.wikipedia.org/wiki/Satoshi_Nakamotohttps://en.wikipedia.org/wiki/Double-spendinghttps://en.wikipedia.org/wiki/Proof_of_workhttps://www.blockchain.com/en/charts/total-bitcoins\"\n",
       "  issue_date {\n",
       "    year: 2008\n",
       "    month: 11\n",
       "    day: 1\n",
       "  }\n",
       "  capitalization {\n",
       "    value: 736636268120.2075\n",
       "  }\n",
       "  circulating_supply: 19023850\n",
       "  max_supply: 21000000\n",
       "  total_supply: 19023850\n",
       "}\n",
       "cryptos {\n",
       "  identifier {\n",
       "    exchange: \"Ftx\"\n",
       "    ticker: \"BTCUSDT\"\n",
       "  }\n",
       "  type: \"Crypto\"\n",
       "  primary: \"Ftx\"\n",
       "  operating: \"Crypto\"\n",
       "  name: \"Bitcoin - Tether\"\n",
       "  base_currency: \"BTC\"\n",
       "  tick_size_rule {\n",
       "    tick: 1.0\n",
       "  }\n",
       "  open {\n",
       "  }\n",
       "  close {\n",
       "  }\n",
       "  lot_size: 1\n",
       "  point_value: 1.0\n",
       "  price {\n",
       "    value: 38836.0\n",
       "  }\n",
       "  volume {\n",
       "    value: 103842143\n",
       "  }\n",
       "  time {\n",
       "    year: 2022\n",
       "    month: 5\n",
       "    day: 11\n",
       "  }\n",
       "  sources: 1\n",
       "  mapping {\n",
       "    key: \"Idc|9999\"\n",
       "    value: \"9999|BTCUSDT-Ftx\"\n",
       "  }\n",
       "  quote_currency: \"USDT\"\n",
       "  consensus: \"mining-zone\"\n",
       "  consensus: \"pow\"\n",
       "  description: \"General Data and InformationThe theory behind Bitcoin was first described by Satoshi Nakamoto in a paper \\342\\200\\234Bitcoin: A Peer to Peer Electronic Cash System\\342\\200\\235published to a cryptographic mailing list on the 31st of October 2008. In this paper Satoshi described the protocol (Proof of Work) that would solve the \\342\\200\\234double-spend\\342\\200\\235problem inherent in non-physical (digital) forms of currency. The first or Genesis block was mined by Satoshi on the 3rd of January 2009 with the text \\342\\200\\234The Times 03/Jan/2009 Chancellor on brink of second bailout for banks\\342\\200\\235 written into the coinbase of the block to act both as a timestamp and a rebuke to the economic instability caused by the widespread practice of fractional reserve banking. The total supply of Bitcoins is capped at 21 million coins (roughly 18 million are currently in circulation) with each coin being divisible to the 8th decimal place with a single unit of the smallest division (0.00000001 BTC) being known colloquially as a Satoshi (or sat). The software to run miners and wallets is open source and decentralized meaning that the network is accessible to anyone with a computer and an internet connection. Transactions are validated and written into the blockchain by miners selected via the Proof of Work (SHA-256) protocol. The difficulty of the Proof of Work algorithm is adjusted every 2016 blocks (roughly 2 weeks) to maintain an average block time of roughly 10 minutes. New Bitcoins are created (minted) as a reward to the miner that mined the valid block with the reward currently sitting at 12.5 Bitcoins per block. This block reward is halved every 210000 blocks (roughly 4 years) until it reaches zero. This block reward serves as an economic incentive for the miners to continue securing the Bitcoin network. Milestones31st October 2008 - White paper released by Satoshi Nakamoto.3rd January 2009 - Genesis block mined by Satoshi Nakamoto.12th January 2009  -First transaction using Bitcoin; Satoshi Nakamoto sends 10 BTC to Hal Finney.22nd May 2010 - First recorded commercial transaction using Bitcoin; aka Pizza Day.14th January 2016 - Lightning Network white paper a Layer-2 solution to scaling Bitcoin. 1st August 2017 - Bitcoin Cash (BCH) hard fork.23rd August 2017 - Segregated Witness (SegWit) implemented.UtilityAs the flagship cryptocurrency Bitcoin maintains the largest market capitalization and liquidity making it the \\342\\200\\234reserve\\342\\200\\235 currency against which all other crypto-currencies trade against. This means that crypto exchanges are obliged to offer BTC trading pairs ahead of any other pairing.This reserve status combined with the widespread availability of trading pairs gives Bitcoin a special status as a store of value in the crypto-currency ecosystem; trading between two alternative cryptocurrencies will often require Bitcoin as a bridge currency to facilitate the exchange. In addition the widespread brand recognition of Bitcoin makes it is the first port of call for most newcomers to the crypto-currency space and it\\342\\200\\231s name is often considered by the wider public to be synonymous with the entire crypto-currency ecosystem. Although the acceptance of Bitcoin by vendors in the developed nations is not on the level of established fiat currencies Bitcoin is finding more traction in developing countries where the existing fiat currencies are not able to properly function as stores of value over time. Significant Features- Decentralized access allowing any party with the open-source software and internet access to send and receive Bitcoin irreversibly without third party interference or trust. - Decentralized governance via open-source development and forking. - Relatively slow block times in comparison to other crypto-currencies although there are solutions in development such as the Lightning Network aiming to solve the problem of scaling.- Largest hashrate (ensuring the security and resilience of the blockchain) and largest liquidity. - Most common currency for crypto-currency exchange pairing- The hard coded scarcity (maximum 21 million coins) has led to comparisons to traditional physical scarce resources like gold. - Transactions are pseduo-anonymous. Funds are sent address to address but an owner identity can eventually attributed to an address given enough data and analysis.- Average blocktime of 10 minutes; Total supply of 21 million BTC; Consensus via Proof of Work (SHA-256). References: https://bitcoin.org/bitcoin.pdfhttps://en.wikipedia.org/wiki/Bitcoinhttps://en.wikipedia.org/wiki/Satoshi_Nakamotohttps://en.wikipedia.org/wiki/Double-spendinghttps://en.wikipedia.org/wiki/Proof_of_workhttps://www.blockchain.com/en/charts/total-bitcoins\"\n",
       "  issue_date {\n",
       "    year: 2008\n",
       "    month: 11\n",
       "    day: 1\n",
       "  }\n",
       "  capitalization {\n",
       "    value: 736636268120.2075\n",
       "  }\n",
       "  circulating_supply: 19023850\n",
       "  max_supply: 21000000\n",
       "  total_supply: 19023850\n",
       "}\n",
       "cryptos {\n",
       "  identifier {\n",
       "    exchange: \"Coinbase\"\n",
       "    ticker: \"BTCUSDT\"\n",
       "  }\n",
       "  type: \"Crypto\"\n",
       "  primary: \"Coinbase\"\n",
       "  operating: \"Crypto\"\n",
       "  name: \"Bitcoin - Tether\"\n",
       "  base_currency: \"BTC\"\n",
       "  tick_size_rule {\n",
       "    tick: 0.01\n",
       "  }\n",
       "  open {\n",
       "  }\n",
       "  close {\n",
       "  }\n",
       "  lot_size: 1\n",
       "  point_value: 1.0\n",
       "  time {\n",
       "    year: 2022\n",
       "    month: 5\n",
       "    day: 11\n",
       "  }\n",
       "  sources: 1\n",
       "  mapping {\n",
       "    key: \"Idc|9999\"\n",
       "    value: \"9999|BTCUSDT-Coinbase\"\n",
       "  }\n",
       "  quote_currency: \"USDT\"\n",
       "  consensus: \"mining-zone\"\n",
       "  consensus: \"pow\"\n",
       "  description: \"General Data and InformationThe theory behind Bitcoin was first described by Satoshi Nakamoto in a paper \\342\\200\\234Bitcoin: A Peer to Peer Electronic Cash System\\342\\200\\235published to a cryptographic mailing list on the 31st of October 2008. In this paper Satoshi described the protocol (Proof of Work) that would solve the \\342\\200\\234double-spend\\342\\200\\235problem inherent in non-physical (digital) forms of currency. The first or Genesis block was mined by Satoshi on the 3rd of January 2009 with the text \\342\\200\\234The Times 03/Jan/2009 Chancellor on brink of second bailout for banks\\342\\200\\235 written into the coinbase of the block to act both as a timestamp and a rebuke to the economic instability caused by the widespread practice of fractional reserve banking. The total supply of Bitcoins is capped at 21 million coins (roughly 18 million are currently in circulation) with each coin being divisible to the 8th decimal place with a single unit of the smallest division (0.00000001 BTC) being known colloquially as a Satoshi (or sat). The software to run miners and wallets is open source and decentralized meaning that the network is accessible to anyone with a computer and an internet connection. Transactions are validated and written into the blockchain by miners selected via the Proof of Work (SHA-256) protocol. The difficulty of the Proof of Work algorithm is adjusted every 2016 blocks (roughly 2 weeks) to maintain an average block time of roughly 10 minutes. New Bitcoins are created (minted) as a reward to the miner that mined the valid block with the reward currently sitting at 12.5 Bitcoins per block. This block reward is halved every 210000 blocks (roughly 4 years) until it reaches zero. This block reward serves as an economic incentive for the miners to continue securing the Bitcoin network. Milestones31st October 2008 - White paper released by Satoshi Nakamoto.3rd January 2009 - Genesis block mined by Satoshi Nakamoto.12th January 2009  -First transaction using Bitcoin; Satoshi Nakamoto sends 10 BTC to Hal Finney.22nd May 2010 - First recorded commercial transaction using Bitcoin; aka Pizza Day.14th January 2016 - Lightning Network white paper a Layer-2 solution to scaling Bitcoin. 1st August 2017 - Bitcoin Cash (BCH) hard fork.23rd August 2017 - Segregated Witness (SegWit) implemented.UtilityAs the flagship cryptocurrency Bitcoin maintains the largest market capitalization and liquidity making it the \\342\\200\\234reserve\\342\\200\\235 currency against which all other crypto-currencies trade against. This means that crypto exchanges are obliged to offer BTC trading pairs ahead of any other pairing.This reserve status combined with the widespread availability of trading pairs gives Bitcoin a special status as a store of value in the crypto-currency ecosystem; trading between two alternative cryptocurrencies will often require Bitcoin as a bridge currency to facilitate the exchange. In addition the widespread brand recognition of Bitcoin makes it is the first port of call for most newcomers to the crypto-currency space and it\\342\\200\\231s name is often considered by the wider public to be synonymous with the entire crypto-currency ecosystem. Although the acceptance of Bitcoin by vendors in the developed nations is not on the level of established fiat currencies Bitcoin is finding more traction in developing countries where the existing fiat currencies are not able to properly function as stores of value over time. Significant Features- Decentralized access allowing any party with the open-source software and internet access to send and receive Bitcoin irreversibly without third party interference or trust. - Decentralized governance via open-source development and forking. - Relatively slow block times in comparison to other crypto-currencies although there are solutions in development such as the Lightning Network aiming to solve the problem of scaling.- Largest hashrate (ensuring the security and resilience of the blockchain) and largest liquidity. - Most common currency for crypto-currency exchange pairing- The hard coded scarcity (maximum 21 million coins) has led to comparisons to traditional physical scarce resources like gold. - Transactions are pseduo-anonymous. Funds are sent address to address but an owner identity can eventually attributed to an address given enough data and analysis.- Average blocktime of 10 minutes; Total supply of 21 million BTC; Consensus via Proof of Work (SHA-256). References: https://bitcoin.org/bitcoin.pdfhttps://en.wikipedia.org/wiki/Bitcoinhttps://en.wikipedia.org/wiki/Satoshi_Nakamotohttps://en.wikipedia.org/wiki/Double-spendinghttps://en.wikipedia.org/wiki/Proof_of_workhttps://www.blockchain.com/en/charts/total-bitcoins\"\n",
       "  issue_date {\n",
       "    year: 2008\n",
       "    month: 11\n",
       "    day: 1\n",
       "  }\n",
       "  capitalization {\n",
       "    value: 736636268120.2075\n",
       "  }\n",
       "  circulating_supply: 19023850\n",
       "  max_supply: 21000000\n",
       "  total_supply: 19023850\n",
       "}\n",
       "cryptos {\n",
       "  identifier {\n",
       "    exchange: \"Binance\"\n",
       "    ticker: \"BTCUSDT\"\n",
       "  }\n",
       "  type: \"Crypto\"\n",
       "  primary: \"Binance\"\n",
       "  operating: \"Crypto\"\n",
       "  name: \"Bitcoin - Tetherus\"\n",
       "  base_currency: \"BTC\"\n",
       "  tick_size_rule {\n",
       "    tick: 0.01\n",
       "  }\n",
       "  open {\n",
       "  }\n",
       "  close {\n",
       "  }\n",
       "  lot_size: 1\n",
       "  point_value: 1.0\n",
       "  price {\n",
       "    value: 39241.48\n",
       "  }\n",
       "  volume {\n",
       "    value: 56669\n",
       "  }\n",
       "  time {\n",
       "    year: 2022\n",
       "    month: 5\n",
       "    day: 11\n",
       "  }\n",
       "  sources: 1\n",
       "  mapping {\n",
       "    key: \"Idc|9999\"\n",
       "    value: \"9999|BTCUSDT-Binance\"\n",
       "  }\n",
       "  quote_currency: \"USDT\"\n",
       "  consensus: \"mining-zone\"\n",
       "  consensus: \"pow\"\n",
       "  description: \"General Data and InformationThe theory behind Bitcoin was first described by Satoshi Nakamoto in a paper \\342\\200\\234Bitcoin: A Peer to Peer Electronic Cash System\\342\\200\\235published to a cryptographic mailing list on the 31st of October 2008. In this paper Satoshi described the protocol (Proof of Work) that would solve the \\342\\200\\234double-spend\\342\\200\\235problem inherent in non-physical (digital) forms of currency. The first or Genesis block was mined by Satoshi on the 3rd of January 2009 with the text \\342\\200\\234The Times 03/Jan/2009 Chancellor on brink of second bailout for banks\\342\\200\\235 written into the coinbase of the block to act both as a timestamp and a rebuke to the economic instability caused by the widespread practice of fractional reserve banking. The total supply of Bitcoins is capped at 21 million coins (roughly 18 million are currently in circulation) with each coin being divisible to the 8th decimal place with a single unit of the smallest division (0.00000001 BTC) being known colloquially as a Satoshi (or sat). The software to run miners and wallets is open source and decentralized meaning that the network is accessible to anyone with a computer and an internet connection. Transactions are validated and written into the blockchain by miners selected via the Proof of Work (SHA-256) protocol. The difficulty of the Proof of Work algorithm is adjusted every 2016 blocks (roughly 2 weeks) to maintain an average block time of roughly 10 minutes. New Bitcoins are created (minted) as a reward to the miner that mined the valid block with the reward currently sitting at 12.5 Bitcoins per block. This block reward is halved every 210000 blocks (roughly 4 years) until it reaches zero. This block reward serves as an economic incentive for the miners to continue securing the Bitcoin network. Milestones31st October 2008 - White paper released by Satoshi Nakamoto.3rd January 2009 - Genesis block mined by Satoshi Nakamoto.12th January 2009  -First transaction using Bitcoin; Satoshi Nakamoto sends 10 BTC to Hal Finney.22nd May 2010 - First recorded commercial transaction using Bitcoin; aka Pizza Day.14th January 2016 - Lightning Network white paper a Layer-2 solution to scaling Bitcoin. 1st August 2017 - Bitcoin Cash (BCH) hard fork.23rd August 2017 - Segregated Witness (SegWit) implemented.UtilityAs the flagship cryptocurrency Bitcoin maintains the largest market capitalization and liquidity making it the \\342\\200\\234reserve\\342\\200\\235 currency against which all other crypto-currencies trade against. This means that crypto exchanges are obliged to offer BTC trading pairs ahead of any other pairing.This reserve status combined with the widespread availability of trading pairs gives Bitcoin a special status as a store of value in the crypto-currency ecosystem; trading between two alternative cryptocurrencies will often require Bitcoin as a bridge currency to facilitate the exchange. In addition the widespread brand recognition of Bitcoin makes it is the first port of call for most newcomers to the crypto-currency space and it\\342\\200\\231s name is often considered by the wider public to be synonymous with the entire crypto-currency ecosystem. Although the acceptance of Bitcoin by vendors in the developed nations is not on the level of established fiat currencies Bitcoin is finding more traction in developing countries where the existing fiat currencies are not able to properly function as stores of value over time. Significant Features- Decentralized access allowing any party with the open-source software and internet access to send and receive Bitcoin irreversibly without third party interference or trust. - Decentralized governance via open-source development and forking. - Relatively slow block times in comparison to other crypto-currencies although there are solutions in development such as the Lightning Network aiming to solve the problem of scaling.- Largest hashrate (ensuring the security and resilience of the blockchain) and largest liquidity. - Most common currency for crypto-currency exchange pairing- The hard coded scarcity (maximum 21 million coins) has led to comparisons to traditional physical scarce resources like gold. - Transactions are pseduo-anonymous. Funds are sent address to address but an owner identity can eventually attributed to an address given enough data and analysis.- Average blocktime of 10 minutes; Total supply of 21 million BTC; Consensus via Proof of Work (SHA-256). References: https://bitcoin.org/bitcoin.pdfhttps://en.wikipedia.org/wiki/Bitcoinhttps://en.wikipedia.org/wiki/Satoshi_Nakamotohttps://en.wikipedia.org/wiki/Double-spendinghttps://en.wikipedia.org/wiki/Proof_of_workhttps://www.blockchain.com/en/charts/total-bitcoins\"\n",
       "  issue_date {\n",
       "    year: 2008\n",
       "    month: 11\n",
       "    day: 1\n",
       "  }\n",
       "  capitalization {\n",
       "    value: 736636268120.2075\n",
       "  }\n",
       "  circulating_supply: 19023850\n",
       "  max_supply: 21000000\n",
       "  total_supply: 19023850\n",
       "}"
      ]
     },
     "metadata": {},
     "output_type": "display_data"
    }
   ],
   "source": [
    "display(response)"
   ]
  }
 ],
 "metadata": {
  "kernelspec": {
   "display_name": "Python 3 (ipykernel)",
   "language": "python",
   "name": "python3"
  },
  "language_info": {
   "codemirror_mode": {
    "name": "ipython",
    "version": 3
   },
   "file_extension": ".py",
   "mimetype": "text/x-python",
   "name": "python",
   "nbconvert_exporter": "python",
   "pygments_lexer": "ipython3",
   "version": "3.9.7"
  }
 },
 "nbformat": 4,
 "nbformat_minor": 5
}
