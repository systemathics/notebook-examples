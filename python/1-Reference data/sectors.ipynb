{
 "cells": [
  {
   "cell_type": "markdown",
   "id": "contrary-universal",
   "metadata": {},
   "source": [
    "# Generate instrument sector information using dedicated service - Python\n",
    "\n",
    "### Overview\n",
    "Industrial sector is an important information when looking for referential data. One of the challenges with sectors data remains in the various available classifications.\n",
    "Sector classifications are organized in different levels to identify the different industries from the most general to the most specific.\n",
    "The sector classifications currenctly supported are ICB, GICS, TRBC and SIC.\n",
    "\n",
    "This sample requests **on-demand** sectors data by calling a dedicated service.\n",
    "\n",
    "### Inputs/outputs\n",
    "Sectors data sample is designed to help you requesting sectors data by using several classification types.\n",
    "There are two ways to use the static sectors data endpoint. In both cases one of the necessary input is the **classification type**. The other input depends on the use-case:\n",
    "* **code**: in order to check the meaning of a specific code (ex: '10101010')\n",
    "* **level**: in order to retrieve a view of the table from a specific level. These levels correspond to layers of details of the sector activity.\n",
    "\n",
    "The service returns the information in 3 different fields:\n",
    "* **description**: a brief description of the classification.\n",
    "* **count**: number of levels in the classification.\n",
    "* **data**: array containing the elements retrieved\n",
    "\n",
    "\n",
    "### Services used\n",
    "This sample uses *gRPC requests* in order to retrieve sectors reference data from the hosted service. The queried endpoint in this script are:\n",
    "* *StaticSectorService*: to directly retrieve sector information objects from the server\n",
    "\n",
    "### Modules required\n",
    "1. Systemathics packages:\n",
    "    * *systemathics.apis.services.sector_data.v1*\n",
    "2. Open source packages\n",
    "    * *googleapis-common-protos*\n",
    "    * *protobuf*\n",
    "    * *grpcio*\n",
    "    * *pandas*\n",
    "    \n",
    "***"
   ]
  },
  {
   "cell_type": "markdown",
   "id": "extended-tulsa",
   "metadata": {},
   "source": [
    "# Run Exchange data sample"
   ]
  },
  {
   "cell_type": "markdown",
   "id": "negative-sunday",
   "metadata": {},
   "source": [
    "### Step 1: Install packages and import them"
   ]
  },
  {
   "cell_type": "code",
   "execution_count": null,
   "id": "willing-narrow",
   "metadata": {},
   "outputs": [],
   "source": [
    "pip install googleapis-common-protos protobuf grpcio pandas"
   ]
  },
  {
   "cell_type": "code",
   "execution_count": null,
   "id": "comparative-spyware",
   "metadata": {},
   "outputs": [],
   "source": [
    "pip install systemathics.apis --pre"
   ]
  },
  {
   "cell_type": "code",
   "execution_count": null,
   "id": "individual-alexander",
   "metadata": {},
   "outputs": [],
   "source": [
    "import os\n",
    "import grpc\n",
    "import pandas as pd\n",
    "import google.protobuf as pb\n",
    "import systemathics.apis.services.static_data.v1.static_sector_pb2 as static_sector\n",
    "import systemathics.apis.services.static_data.v1.static_sector_pb2_grpc as static_sector_service\n",
    "import systemathics.apis.helpers.token_helpers as token_helpers\n",
    "import systemathics.apis.helpers.channel_helpers as channel_helpers"
   ]
  },
  {
   "cell_type": "markdown",
   "id": "honest-virginia",
   "metadata": {},
   "source": [
    "### Step 2: Prepare API requests\n",
    "The following code snippets retrieve authentication token to be used in upcomming API requests:"
   ]
  },
  {
   "cell_type": "code",
   "execution_count": null,
   "id": "direct-winning",
   "metadata": {},
   "outputs": [],
   "source": [
    "token = token_helpers.get_token()\n",
    "display(token)"
   ]
  },
  {
   "cell_type": "markdown",
   "id": "binary-weekly",
   "metadata": {},
   "source": [
    "### Step 3: Define necessary functions\n",
    "In this part we define the functions dedicated to retrieve **sectors data**.\n",
    "These snippets will be used in the next paragraphs for examples"
   ]
  },
  {
   "cell_type": "code",
   "execution_count": null,
   "id": "published-saint",
   "metadata": {},
   "outputs": [],
   "source": [
    "#define a method to get sectors information for a specific code\n",
    "def get_sector_data_code(provider, code):\n",
    "    \n",
    "    # generate sector data request\n",
    "    request = static_sector.StaticSectorRequest( \n",
    "        provider = provider,\n",
    "        code = code\n",
    "    )\n",
    "    \n",
    "    try:\n",
    "        # open a gRPC channel\n",
    "        with channel_helpers.get_grpc_channel() as channel:  \n",
    "\n",
    "            # instantiate the sector data service\n",
    "            service = static_sector_service.StaticSectorServiceStub(channel)\n",
    "\n",
    "            # process the request\n",
    "            response = service.StaticSector(\n",
    "                request = request, \n",
    "                metadata = [('authorization', token)]\n",
    "            )\n",
    "        return response\n",
    "    except grpc.RpcError as e:\n",
    "        display(e.code().name)\n",
    "        display(e.details())"
   ]
  },
  {
   "cell_type": "code",
   "execution_count": null,
   "id": "polished-highlight",
   "metadata": {},
   "outputs": [],
   "source": [
    "#define a method to get sectors information for a level\n",
    "def get_sector_data_level(provider, level):\n",
    "    \n",
    "    # generate sector data request\n",
    "    request = static_sector.StaticSectorRequest( \n",
    "        provider = provider,\n",
    "        level = level\n",
    "    )\n",
    "    try:\n",
    "        # open a gRPC channel\n",
    "        with channel_helpers.get_grpc_channel() as channel:  \n",
    "\n",
    "            # instantiate the sector data service\n",
    "            service = static_sector_service.StaticSectorServiceStub(channel)\n",
    "\n",
    "            # process the request\n",
    "            response = service.StaticSector(\n",
    "                request = request, \n",
    "                metadata = [('authorization', token)]\n",
    "            )\n",
    "        return response\n",
    "    except grpc.RpcError as e:\n",
    "        display(e.code().name)\n",
    "        display(e.details())    "
   ]
  },
  {
   "cell_type": "markdown",
   "id": "exterior-talent",
   "metadata": {},
   "source": [
    "### Step 4: Retrieve sector classification from a level\n",
    "In this sample we retrieve the classification for a specific level"
   ]
  },
  {
   "cell_type": "markdown",
   "id": "floral-wagner",
   "metadata": {},
   "source": [
    "#### 4.1: First example: level 0 of ICB"
   ]
  },
  {
   "cell_type": "code",
   "execution_count": null,
   "id": "corporate-elephant",
   "metadata": {},
   "outputs": [],
   "source": [
    "provider = 'ICB'\n",
    "level = 0\n",
    "data = get_sector_data_level(provider, level)"
   ]
  },
  {
   "cell_type": "code",
   "execution_count": null,
   "id": "japanese-destination",
   "metadata": {},
   "outputs": [],
   "source": [
    "print(data.description)\n",
    "print(\"Number of levels: {}\".format(data.count))"
   ]
  },
  {
   "cell_type": "code",
   "execution_count": null,
   "id": "sensitive-delicious",
   "metadata": {},
   "outputs": [],
   "source": [
    "#pPrepare the data frame content\n",
    "names = [b.name for b in data.data]\n",
    "codes = [b.code for b in data.data]\n",
    "labels = [b.label for b in data.data]\n",
    "\n",
    "d = {'Names': names, 'Codes': codes, 'Labels': labels}\n",
    "df = pd.DataFrame(data=d)\n",
    "df"
   ]
  },
  {
   "cell_type": "markdown",
   "id": "binding-example",
   "metadata": {},
   "source": [
    "#### 4.2: Second example: level 3 of GICS"
   ]
  },
  {
   "cell_type": "code",
   "execution_count": null,
   "id": "comparable-vessel",
   "metadata": {},
   "outputs": [],
   "source": [
    "provider = 'GICS'\n",
    "level = 3\n",
    "data = get_sector_data_level(provider, level)"
   ]
  },
  {
   "cell_type": "code",
   "execution_count": null,
   "id": "conditional-table",
   "metadata": {},
   "outputs": [],
   "source": [
    "print(data.description)\n",
    "print(\"Number of levels: {}\".format(data.count))"
   ]
  },
  {
   "cell_type": "code",
   "execution_count": null,
   "id": "virgin-tuner",
   "metadata": {},
   "outputs": [],
   "source": [
    "#pPrepare the data frame content\n",
    "names = [b.name for b in data.data]\n",
    "codes = [b.code for b in data.data]\n",
    "labels = [b.label for b in data.data]\n",
    "\n",
    "d = {'Names': names, 'Codes': codes, 'Labels': labels}\n",
    "df = pd.DataFrame(data=d)\n",
    "df"
   ]
  },
  {
   "cell_type": "markdown",
   "id": "assured-egyptian",
   "metadata": {},
   "source": [
    "### Step 5: Retrieve sectors data from a specific code\n",
    "In this part we assume we have the code for a specific classification and we want to get the corresponding sector "
   ]
  },
  {
   "cell_type": "markdown",
   "id": "through-profession",
   "metadata": {},
   "source": [
    "#### 5.1: ICB"
   ]
  },
  {
   "cell_type": "code",
   "execution_count": null,
   "id": "single-silver",
   "metadata": {},
   "outputs": [],
   "source": [
    "# set the exchange to retrieve equities data\n",
    "provider = 'ICB'\n",
    "code = '30201025'"
   ]
  },
  {
   "cell_type": "code",
   "execution_count": null,
   "id": "nutritional-experiment",
   "metadata": {},
   "outputs": [],
   "source": [
    "icb = get_sector_data_code(provider, code)\n",
    "icb.data"
   ]
  },
  {
   "cell_type": "markdown",
   "id": "outer-amendment",
   "metadata": {},
   "source": [
    "#### 5.2: SIC"
   ]
  },
  {
   "cell_type": "code",
   "execution_count": null,
   "id": "brief-treaty",
   "metadata": {},
   "outputs": [],
   "source": [
    "# set the exchange to retrieve equities data\n",
    "provider = 'SIC'\n",
    "code = '3577'"
   ]
  },
  {
   "cell_type": "code",
   "execution_count": null,
   "id": "multiple-volleyball",
   "metadata": {},
   "outputs": [],
   "source": [
    "sic = get_sector_data_code(provider, code)\n",
    "sic.data"
   ]
  },
  {
   "cell_type": "markdown",
   "id": "rough-jamaica",
   "metadata": {},
   "source": [
    "#### 5.3: GICS"
   ]
  },
  {
   "cell_type": "code",
   "execution_count": null,
   "id": "korean-burns",
   "metadata": {},
   "outputs": [],
   "source": [
    "# set the exchange to retrieve equities data\n",
    "provider = 'GICS'\n",
    "code = '10102010'"
   ]
  },
  {
   "cell_type": "code",
   "execution_count": null,
   "id": "stable-antigua",
   "metadata": {},
   "outputs": [],
   "source": [
    "gics = get_sector_data_code(provider, code)\n",
    "gics.data"
   ]
  },
  {
   "cell_type": "markdown",
   "id": "executive-italic",
   "metadata": {},
   "source": [
    "#### 5.4: TRBC"
   ]
  },
  {
   "cell_type": "code",
   "execution_count": null,
   "id": "successful-return",
   "metadata": {},
   "outputs": [],
   "source": [
    "# set the exchange to retrieve equities data\n",
    "provider = 'TRBC'\n",
    "code = '5020101010'"
   ]
  },
  {
   "cell_type": "code",
   "execution_count": null,
   "id": "extended-magazine",
   "metadata": {},
   "outputs": [],
   "source": [
    "trbc = get_sector_data_code(provider, code)\n",
    "trbc.data"
   ]
  }
 ],
 "metadata": {
  "kernelspec": {
   "display_name": "Python 3 (ipykernel)",
   "language": "python",
   "name": "python3"
  },
  "language_info": {
   "codemirror_mode": {
    "name": "ipython",
    "version": 3
   },
   "file_extension": ".py",
   "mimetype": "text/x-python",
   "name": "python",
   "nbconvert_exporter": "python",
   "pygments_lexer": "ipython3",
   "version": "3.9.7"
  }
 },
 "nbformat": 4,
 "nbformat_minor": 5
}
