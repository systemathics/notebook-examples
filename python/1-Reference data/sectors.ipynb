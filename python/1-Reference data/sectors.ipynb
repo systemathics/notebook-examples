{
 "cells": [
  {
   "cell_type": "markdown",
   "id": "a5a6e32a",
   "metadata": {},
   "source": [
    "# Generate instrument sector information using dedicated service - Python\n",
    "\n",
    "### Overview\n",
    "Industrial sector is an important information when looking for referential data. One of the challenges with sectors data remains in the various available classifications.\n",
    "Sector classifications are organized in different levels to identify the different industries from the most general to the most specific.\n",
    "The sector classifications currenctly supported are ICB, GICS, TRBC and SIC.\n",
    "\n",
    "This sample requests **on-demand** sectors data by calling a dedicated service.\n",
    "\n",
    "### Inputs/outputs\n",
    "Sectors data sample is designed to help you requesting sectors data by using several classification types.\n",
    "There are two ways to use the static sectors data endpoint. In both cases one of the necessary input is the **classification type**. The other input depends on the use-case:\n",
    "* **code**: in order to check the meaning of a specific code (ex: '10101010')\n",
    "* **level**: in order to retrieve a view of the table from a specific level. These levels correspond to layers of details of the sector activity.\n",
    "\n",
    "The service returns the information in 3 different fields:\n",
    "* **description**: a brief description of the classification.\n",
    "* **count**: number of levels in the classification.\n",
    "* **data**: array containing the elements retrieved\n",
    "\n",
    "\n",
    "### Services used\n",
    "This sample uses *gRPC requests* in order to retrieve sectors reference data from the hosted service. The queried endpoint in this script are:\n",
    "* *StaticSectorService*: to directly retrieve sector information objects from the server\n",
    "\n",
    "### Modules required\n",
    "1. Systemathics packages:\n",
    "    * *systemathics.apis.services.sector_data.v1*\n",
    "2. Open source packages\n",
    "    * *googleapis-common-protos*\n",
    "    * *protobuf*\n",
    "    * *grpcio*\n",
    "    * *pandas*\n",
    "    \n",
    "***"
   ]
  },
  {
   "cell_type": "markdown",
   "id": "9807f625",
   "metadata": {},
   "source": [
    "# Run Exchange data sample"
   ]
  },
  {
   "cell_type": "markdown",
   "id": "6e0ef061",
   "metadata": {},
   "source": [
    "### Step 1: Install packages and import them"
   ]
  },
  {
   "cell_type": "code",
   "execution_count": null,
   "id": "156ec1fa",
   "metadata": {},
   "outputs": [],
   "source": [
    "pip install googleapis-common-protos protobuf grpcio pandas"
   ]
  },
  {
   "cell_type": "code",
   "execution_count": null,
   "id": "24aa6b5f",
   "metadata": {},
   "outputs": [],
   "source": [
    "pip install systemathics.apis --pre"
   ]
  },
  {
   "cell_type": "code",
   "execution_count": null,
   "id": "faadc167",
   "metadata": {},
   "outputs": [],
   "source": [
    "import os\n",
    "import grpc\n",
    "import pandas as pd\n",
    "import google.protobuf as pb\n",
    "import systemathics.apis.services.static_data.v1.static_sector_pb2 as static_sector\n",
    "import systemathics.apis.services.static_data.v1.static_sector_pb2_grpc as static_sector_service\n",
    "import systemathics.apis.helpers.token_helpers as token_helpers\n",
    "import systemathics.apis.helpers.channel_helpers as channel_helpers"
   ]
  },
  {
   "cell_type": "markdown",
   "id": "fedb8e97",
   "metadata": {},
   "source": [
    "### Step 2: Prepare API requests\n",
    "The following code snippets retrieve authentication token to be used in upcomming API requests:"
   ]
  },
  {
   "cell_type": "code",
   "execution_count": null,
   "id": "37f2b42f",
   "metadata": {},
   "outputs": [],
   "source": [
    "token = token_helpers.get_token()\n",
    "display(token)"
   ]
  },
  {
   "cell_type": "markdown",
   "id": "9de9cf3c-091b-41fe-a3ec-d2b3cb7ff99f",
   "metadata": {},
   "source": [
    "### Step 3: Define necessary functions\n",
    "In this part we define the functions dedicated to retrieve **sectors data**.\n",
    "These snippets will be used in the next paragraphs for examples"
   ]
  },
  {
   "cell_type": "code",
   "execution_count": null,
   "id": "4fc73063-5024-49fc-8236-4e610d879d63",
   "metadata": {},
   "outputs": [],
   "source": [
    "#define a method to get sectors information for a specific code\n",
    "def get_sector_data_code(provider, code):\n",
    "    \n",
    "    # generate sector data request\n",
    "    request = static_sector.StaticSectorRequest( \n",
    "        provider = provider,\n",
    "        code = code\n",
    "    )\n",
    "    \n",
    "    try:\n",
    "        # open a gRPC channel\n",
    "        with channel_helpers.get_grpc_channel() as channel:  \n",
    "\n",
    "            # instantiate the sector data service\n",
    "            service = static_sector_service.StaticSectorServiceStub(channel)\n",
    "\n",
    "            # process the request\n",
    "            response = service.StaticSector(\n",
    "                request = request, \n",
    "                metadata = [('authorization', token)]\n",
    "            )\n",
    "        return response\n",
    "    except grpc.RpcError as e:\n",
    "        display(e.code().name)\n",
    "        display(e.details())"
   ]
  },
  {
   "cell_type": "code",
   "execution_count": null,
   "id": "322da758-97ea-488b-9584-8283cd3d5416",
   "metadata": {},
   "outputs": [],
   "source": [
    "#define a method to get sectors information for a level\n",
    "def get_sector_data_level(provider, level):\n",
    "    \n",
    "    # generate sector data request\n",
    "    request = static_sector.StaticSectorRequest( \n",
    "        provider = provider,\n",
    "        level = level\n",
    "    )\n",
    "    try:\n",
    "        # open a gRPC channel\n",
    "        with channel_helpers.get_grpc_channel() as channel:  \n",
    "\n",
    "            # instantiate the sector data service\n",
    "            service = static_sector_service.StaticSectorServiceStub(channel)\n",
    "\n",
    "            # process the request\n",
    "            response = service.StaticSector(\n",
    "                request = request, \n",
    "                metadata = [('authorization', token)]\n",
    "            )\n",
    "        return response\n",
    "    except grpc.RpcError as e:\n",
    "        display(e.code().name)\n",
    "        display(e.details())    "
   ]
  },
  {
   "cell_type": "markdown",
   "id": "512eae73-847a-4827-9981-f6c7a87807f2",
   "metadata": {},
   "source": [
    "### Step 4: Retrieve sector classification from a level\n",
    "In this sample we retrieve the classification for a specific level"
   ]
  },
  {
   "cell_type": "markdown",
   "id": "81a045cb-ef6e-426f-b61f-a148b3dbffeb",
   "metadata": {},
   "source": [
    "#### 4.1: First example: level 0 of ICB"
   ]
  },
  {
   "cell_type": "code",
   "execution_count": null,
   "id": "69363c24-1569-42de-98c6-223edd975a84",
   "metadata": {},
   "outputs": [],
   "source": [
    "provider = 'ICB'\n",
    "level = 0\n",
    "data = get_sector_data_level(provider, level)"
   ]
  },
  {
   "cell_type": "code",
   "execution_count": null,
   "id": "1622ad47-1df1-48ea-a34b-426433e580c3",
   "metadata": {},
   "outputs": [],
   "source": [
    "print(data.description)\n",
    "print(\"Number of levels: {}\".format(data.count))"
   ]
  },
  {
   "cell_type": "code",
   "execution_count": null,
   "id": "11ebd0d1-515a-4bbf-b891-5231454283bf",
   "metadata": {},
   "outputs": [],
   "source": [
    "#pPrepare the data frame content\n",
    "names = [b.Name for b in data.data]\n",
    "codes = [b.Code for b in data.data]\n",
    "labels = [b.label for b in data.data]\n",
    "\n",
    "d = {'Names': names, 'Codes': codes, 'Labels': labels}\n",
    "df = pd.DataFrame(data=d)\n",
    "df"
   ]
  },
  {
   "cell_type": "markdown",
   "id": "b132acc2-6af4-4cbb-bafc-eabcf4eab849",
   "metadata": {},
   "source": [
    "#### 4.2: Second example: level 3 of GICS"
   ]
  },
  {
   "cell_type": "code",
   "execution_count": null,
   "id": "c6feab37-3113-483b-92c2-3a756c684397",
   "metadata": {},
   "outputs": [],
   "source": [
    "provider = 'GICS'\n",
    "level = 3\n",
    "data = get_sector_data_level(provider, level)"
   ]
  },
  {
   "cell_type": "code",
   "execution_count": null,
   "id": "a32a2c07-1f88-4671-b64c-4e65bd8a5c40",
   "metadata": {},
   "outputs": [],
   "source": [
    "print(data.description)\n",
    "print(\"Number of levels: {}\".format(data.count))"
   ]
  },
  {
   "cell_type": "code",
   "execution_count": null,
   "id": "a79cd03a-6f1d-49a8-ac3b-a27e3c172490",
   "metadata": {},
   "outputs": [],
   "source": [
    "#pPrepare the data frame content\n",
    "names = [b.Name for b in data.data]\n",
    "codes = [b.Code for b in data.data]\n",
    "labels = [b.label for b in data.data]\n",
    "\n",
    "d = {'Names': names, 'Codes': codes, 'Labels': labels}\n",
    "df = pd.DataFrame(data=d)\n",
    "df"
   ]
  },
  {
   "cell_type": "markdown",
   "id": "682512cc-6e58-4358-9b3a-528a9fbd025f",
   "metadata": {},
   "source": [
    "### Step 5: Retrieve sectors data from a specific code\n",
    "In this part we assume we have the code for a specific classification and we want to get the corresponding sector "
   ]
  },
  {
   "cell_type": "markdown",
   "id": "bd6dd2ce-b703-4a7c-bd0f-b16720f09fc4",
   "metadata": {},
   "source": [
    "#### 5.1: ICB"
   ]
  },
  {
   "cell_type": "code",
   "execution_count": null,
   "id": "862e78d7-bdbd-4a4f-8b93-a780ffaa4763",
   "metadata": {},
   "outputs": [],
   "source": [
    "# set the exchange to retrieve equities data\n",
    "provider = 'ICB'\n",
    "code = '30201025'"
   ]
  },
  {
   "cell_type": "code",
   "execution_count": null,
   "id": "ca4d4811-ca70-47a2-873d-58309cfa3c55",
   "metadata": {},
   "outputs": [],
   "source": [
    "icb = get_sector_data_code(provider, code)\n",
    "icb.data"
   ]
  },
  {
   "cell_type": "markdown",
   "id": "e26d1b64-d794-4c2f-8e90-3e8ab879f855",
   "metadata": {},
   "source": [
    "#### 5.2: SIC"
   ]
  },
  {
   "cell_type": "code",
   "execution_count": null,
   "id": "07a6c83e-bb10-413b-b99a-966cd3c74bf7",
   "metadata": {},
   "outputs": [],
   "source": [
    "# set the exchange to retrieve equities data\n",
    "provider = 'SIC'\n",
    "code = '3577'"
   ]
  },
  {
   "cell_type": "code",
   "execution_count": null,
   "id": "1fcaf379-ecc7-4e4d-962c-95edc61c1f9b",
   "metadata": {},
   "outputs": [],
   "source": [
    "sic = get_sector_data_code(provider, code)\n",
    "sic.data"
   ]
  },
  {
   "cell_type": "markdown",
   "id": "8dfc8613-f4a2-4b3c-88ee-02477148be97",
   "metadata": {},
   "source": [
    "#### 5.3: GICS"
   ]
  },
  {
   "cell_type": "code",
   "execution_count": null,
   "id": "8a508829-db4e-4ea9-9e9e-5f2980129741",
   "metadata": {},
   "outputs": [],
   "source": [
    "# set the exchange to retrieve equities data\n",
    "provider = 'GICS'\n",
    "code = '10102010'"
   ]
  },
  {
   "cell_type": "code",
   "execution_count": null,
   "id": "9be9b3fe-46a4-476e-99e9-dd90849d407a",
   "metadata": {},
   "outputs": [],
   "source": [
    "gics = get_sector_data_code(provider, code)\n",
    "gics.data"
   ]
  },
  {
   "cell_type": "markdown",
   "id": "36ccc578-b847-4538-8d2a-7584bfdfa06b",
   "metadata": {},
   "source": [
    "#### 5.4: TRBC"
   ]
  },
  {
   "cell_type": "code",
   "execution_count": null,
   "id": "22e5e7d3-8f1d-4565-9d58-3ea3e48b0bbf",
   "metadata": {},
   "outputs": [],
   "source": [
    "# set the exchange to retrieve equities data\n",
    "provider = 'TRBC'\n",
    "code = '5020101010'"
   ]
  },
  {
   "cell_type": "code",
   "execution_count": null,
   "id": "33603c21-8ede-41b3-ae6b-26ad5bce3c6f",
   "metadata": {},
   "outputs": [],
   "source": [
    "trbc = get_sector_data_code(provider, code)\n",
    "trbc.data"
   ]
  }
 ],
 "metadata": {
  "kernelspec": {
   "display_name": "Python 3 (ipykernel)",
   "language": "python",
   "name": "python3"
  },
  "language_info": {
   "codemirror_mode": {
    "name": "ipython",
    "version": 3
   },
   "file_extension": ".py",
   "mimetype": "text/x-python",
   "name": "python",
   "nbconvert_exporter": "python",
   "pygments_lexer": "ipython3",
   "version": "3.9.7"
  }
 },
 "nbformat": 4,
 "nbformat_minor": 5
}
