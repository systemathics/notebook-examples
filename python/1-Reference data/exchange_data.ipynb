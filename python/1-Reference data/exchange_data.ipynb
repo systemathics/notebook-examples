{
 "cells": [
  {
   "cell_type": "markdown",
   "id": "prepared-carolina",
   "metadata": {},
   "source": [
    "# Generate exchange data using dedicated service - Python\n",
    "\n",
    "### Overview\n",
    "Reference data encompasses a wide range of specification data about:\n",
    "* financial instrument such as asset class, symbol, maturity, etc.\n",
    "* counterparties such as issuer information.\n",
    "* pricing such as Open, high low and close prices.\n",
    "\n",
    "The challenge with reference data is that it tends to be sourced from multiple sources: internal, counterparties and providers.\n",
    "\n",
    "Reference data dedicated service is a result of various data sources and fields sourcing, validation, cross-checking and normalization.<br>\n",
    "\n",
    "This sample requests **on-demand** exchange data and enables fields mapping by calling a dedicated static data service, making available clean data.\n",
    "\n",
    "### Inputs/outputs\n",
    "Exchange data sample is designed to help you searching and requesting exchange reference data by using a wide range of commonly used fields.\n",
    "\n",
    "It takes exchange identifier as per input filter and returns the *entries* matching the request:\n",
    "* List of instruments' identifiers\n",
    "* Countries\n",
    "* Currencies \n",
    "* Tick size rules\n",
    "* etc. \n",
    "\n",
    "### Services used\n",
    "This sample uses *gRPC requests* in order to retrieve exchange reference data from the hosted service. The queried endpoint in this script are:\n",
    "* *StaticDataService*: to directly retrieve reference data objects from the server\n",
    "\n",
    "### Modules required\n",
    "1. Systemathics packages:\n",
    "    * *systemathics.apis.services.static_data.v1*\n",
    "2. Open source packages\n",
    "    * *googleapis-common-protos*\n",
    "    * *protobuf*\n",
    "    * *grpcio*\n",
    "    * *pandas*\n",
    "    \n",
    "***"
   ]
  },
  {
   "cell_type": "markdown",
   "id": "computational-austria",
   "metadata": {},
   "source": [
    "# Run Exchange data sample"
   ]
  },
  {
   "cell_type": "markdown",
   "id": "expensive-playlist",
   "metadata": {},
   "source": [
    "### Step 1: Install packages and import them"
   ]
  },
  {
   "cell_type": "code",
   "execution_count": 1,
   "id": "immune-credits",
   "metadata": {},
   "outputs": [
    {
     "name": "stdout",
     "output_type": "stream",
     "text": [
      "Defaulting to user installation because normal site-packages is not writeable\n",
      "Requirement already satisfied: googleapis-common-protos in /home/david/.local/lib/python3.10/site-packages (1.56.4)\n",
      "Requirement already satisfied: protobuf in /home/david/.local/lib/python3.10/site-packages (4.21.5)\n",
      "Requirement already satisfied: grpcio in /home/david/.local/lib/python3.10/site-packages (1.48.1)\n",
      "Requirement already satisfied: pandas in /home/david/.local/lib/python3.10/site-packages (1.4.4)\n",
      "Requirement already satisfied: six>=1.5.2 in /usr/lib/python3/dist-packages (from grpcio) (1.16.0)\n",
      "Requirement already satisfied: python-dateutil>=2.8.1 in /usr/local/lib/python3.10/dist-packages (from pandas) (2.8.2)\n",
      "Requirement already satisfied: pytz>=2020.1 in /usr/lib/python3/dist-packages (from pandas) (2022.1)\n",
      "Requirement already satisfied: numpy>=1.21.0 in /home/david/.local/lib/python3.10/site-packages (from pandas) (1.23.3)\n",
      "Note: you may need to restart the kernel to use updated packages.\n"
     ]
    }
   ],
   "source": [
    "pip install googleapis-common-protos protobuf grpcio pandas"
   ]
  },
  {
   "cell_type": "code",
   "execution_count": 2,
   "id": "constant-terrain",
   "metadata": {},
   "outputs": [
    {
     "name": "stdout",
     "output_type": "stream",
     "text": [
      "Defaulting to user installation because normal site-packages is not writeable\n",
      "Requirement already satisfied: systemathics.apis in /home/david/.local/lib/python3.10/site-packages (0.11.1)\n",
      "Requirement already satisfied: protobuf in /home/david/.local/lib/python3.10/site-packages (from systemathics.apis) (4.21.5)\n",
      "Requirement already satisfied: googleapis-common-protos in /home/david/.local/lib/python3.10/site-packages (from systemathics.apis) (1.56.4)\n",
      "Requirement already satisfied: grpcio in /home/david/.local/lib/python3.10/site-packages (from systemathics.apis) (1.48.1)\n",
      "Requirement already satisfied: six>=1.5.2 in /usr/lib/python3/dist-packages (from grpcio->systemathics.apis) (1.16.0)\n",
      "Note: you may need to restart the kernel to use updated packages.\n"
     ]
    }
   ],
   "source": [
    "pip install systemathics.apis"
   ]
  },
  {
   "cell_type": "code",
   "execution_count": 3,
   "id": "suburban-unknown",
   "metadata": {},
   "outputs": [],
   "source": [
    "import os\n",
    "import grpc\n",
    "import pandas as pd\n",
    "import google.protobuf as pb\n",
    "import systemathics.apis.services.static_data.v1.static_data_pb2 as static_data\n",
    "import systemathics.apis.services.static_data.v1.static_data_pb2_grpc as static_data_service\n",
    "import systemathics.apis.helpers.token_helpers as token_helpers\n",
    "import systemathics.apis.helpers.channel_helpers as channel_helpers"
   ]
  },
  {
   "cell_type": "markdown",
   "id": "awful-forum",
   "metadata": {},
   "source": [
    "### Step 2: Prepare API requests\n",
    "The following code snippets retrieve authentication token to be used in upcomming API requests:"
   ]
  },
  {
   "cell_type": "code",
   "execution_count": 4,
   "id": "opening-sampling",
   "metadata": {},
   "outputs": [
    {
     "data": {
      "text/plain": [
       "'Bearer eyJhbGciOiJSUzI1NiIsInR5cCI6IkpXVCIsImtpZCI6ImpwZDhjS2Z5Zi13QXkzOURpNENqWSJ9.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.ZQlJoCxNfD8MIi1bEB64FGgT5BSpJhGBWWdAvtjfkMYaaU78z1Nfjzlv5Mz16oaaDfYVwG-h7WTel_IK2dmk4zLGHeBiVj1ipPNSijfbPdSoiCpHogqky9vUlRlngQPd9AVKbSEdot_Uk4T0MudYHRfyt5xLdEiO2rABKGIdS9C10vctDjBEJRpCL7NwUn8UpeD7I1FzKFUTkiKyla1-gCODOYZO9ErBF2fnPrAmU3ob8S5iecI69IPzr53bf5PYHgD_NwP59p9GN02e_n6u-_E-v5yE0AqQXSXQEVZAhKInqmuhk3HJ8w-TwgQ5tcUHocDUE_vDZlr0dFIt4FmsHw'"
      ]
     },
     "metadata": {},
     "output_type": "display_data"
    }
   ],
   "source": [
    "token = token_helpers.get_token()\n",
    "display(token)"
   ]
  },
  {
   "cell_type": "markdown",
   "id": "north-rhythm",
   "metadata": {},
   "source": [
    "### Step 3: Create and process request"
   ]
  },
  {
   "cell_type": "markdown",
   "id": "miniature-binary",
   "metadata": {},
   "source": [
    "### 3.1 Introduction\n",
    "In order to get data for a given exchange, we need to select the **exchange** by its *Market Identifier Code*. Then, we instantiate the **StaticDataService** to request the required data:\n",
    "* List of exchange instruments\n",
    "* List of exchange currencies\n",
    "* List of exchnage tick size rules\n",
    "* etc."
   ]
  },
  {
   "cell_type": "markdown",
   "id": "administrative-edinburgh",
   "metadata": {},
   "source": [
    "### 3.2 Retrieve equities data for an exchange\n",
    "This part is dedicated to retrieve **equities data for a given exchange**."
   ]
  },
  {
   "cell_type": "code",
   "execution_count": 5,
   "id": "steady-sword",
   "metadata": {},
   "outputs": [],
   "source": [
    "# define a method to handle the equities reponse using a Pandas dataframe\n",
    "def get_equities_dataframe(response):\n",
    "    mic = [equity.identifier.exchange for equity in response.equities]\n",
    "    ticker = [equity.identifier.ticker for equity in response.equities]\n",
    "    name = [equity.name for equity in response.equities]\n",
    "    primary = [equity.primary for equity in response.equities]\n",
    "    index = [equity.index for equity in response.equities]\n",
    "    isin = [equity.isin for equity in response.equities]\n",
    "    cusip = [equity.cusip for equity in response.equities]\n",
    "    sedol = [equity.sedol for equity in response.equities]\n",
    "    \n",
    "    # Create pandas dataframe\n",
    "    d = {'Name': name, 'Ticker': ticker, 'Exchange': mic, 'Primary':primary, 'Index': index, 'Isin': isin, 'Cusip': cusip, 'Sedol': sedol}\n",
    "    df = pd.DataFrame(data=d)\n",
    "    return df"
   ]
  },
  {
   "cell_type": "code",
   "execution_count": 6,
   "id": "disciplinary-estate",
   "metadata": {},
   "outputs": [],
   "source": [
    "# set the exchange to retrieve equities data\n",
    "exchange = 'XPAR'"
   ]
  },
  {
   "cell_type": "markdown",
   "id": "attached-batch",
   "metadata": {},
   "source": [
    "The following code snippets call the service, generate the request and return the reply: "
   ]
  },
  {
   "cell_type": "code",
   "execution_count": 7,
   "id": "greenhouse-catalyst",
   "metadata": {},
   "outputs": [],
   "source": [
    "# generate zquities static data request\n",
    "request = static_data.StaticDataRequest( \n",
    "    asset_type = static_data.AssetType.ASSET_TYPE_EQUITY\n",
    ")\n",
    "\n",
    "request.exchange.value = exchange # add name as per filter value\n",
    "request.count.value = 1000 # get all the values, by  default count is set to 100"
   ]
  },
  {
   "cell_type": "code",
   "execution_count": 8,
   "id": "listed-routine",
   "metadata": {},
   "outputs": [],
   "source": [
    "try:\n",
    "    with channel_helpers.get_grpc_channel() as channel:  \n",
    "        \n",
    "        # instantiate the static data service\n",
    "        service = static_data_service.StaticDataServiceStub(channel)\n",
    "        \n",
    "        # process the request\n",
    "        response = service.StaticData(\n",
    "            request = request, \n",
    "            metadata = [('authorization', token)]\n",
    "        )\n",
    "except grpc.RpcError as e:\n",
    "    display(e.code().name)\n",
    "    display(e.details())\n"
   ]
  },
  {
   "cell_type": "code",
   "execution_count": 9,
   "id": "occasional-retro",
   "metadata": {},
   "outputs": [
    {
     "data": {
      "text/html": [
       "<div>\n",
       "<style scoped>\n",
       "    .dataframe tbody tr th:only-of-type {\n",
       "        vertical-align: middle;\n",
       "    }\n",
       "\n",
       "    .dataframe tbody tr th {\n",
       "        vertical-align: top;\n",
       "    }\n",
       "\n",
       "    .dataframe thead th {\n",
       "        text-align: right;\n",
       "    }\n",
       "</style>\n",
       "<table border=\"1\" class=\"dataframe\">\n",
       "  <thead>\n",
       "    <tr style=\"text-align: right;\">\n",
       "      <th></th>\n",
       "      <th>Name</th>\n",
       "      <th>Ticker</th>\n",
       "      <th>Exchange</th>\n",
       "      <th>Primary</th>\n",
       "      <th>Index</th>\n",
       "      <th>Isin</th>\n",
       "      <th>Cusip</th>\n",
       "      <th>Sedol</th>\n",
       "    </tr>\n",
       "  </thead>\n",
       "  <tbody>\n",
       "    <tr>\n",
       "      <th>0</th>\n",
       "      <td>Credit Agricole Brie Picardie</td>\n",
       "      <td>CRBP2</td>\n",
       "      <td>XPAR</td>\n",
       "      <td>XPAR</td>\n",
       "      <td>[]</td>\n",
       "      <td>FR0010483768</td>\n",
       "      <td>F1439Z113</td>\n",
       "      <td>B1YGZL6</td>\n",
       "    </tr>\n",
       "    <tr>\n",
       "      <th>1</th>\n",
       "      <td>Paragon Id Sa</td>\n",
       "      <td>PID</td>\n",
       "      <td>XPAR</td>\n",
       "      <td>XPAR</td>\n",
       "      <td>[]</td>\n",
       "      <td>FR0013318813</td>\n",
       "      <td>F6957K117</td>\n",
       "      <td>BG0SZP5</td>\n",
       "    </tr>\n",
       "    <tr>\n",
       "      <th>2</th>\n",
       "      <td>Sanofi Sa</td>\n",
       "      <td>SAN</td>\n",
       "      <td>XPAR</td>\n",
       "      <td>XPAR</td>\n",
       "      <td>[Cac 40, Euro Stoxx 50, Euro Stoxx 600]</td>\n",
       "      <td>FR0000120578</td>\n",
       "      <td>F5548N101</td>\n",
       "      <td>5671735</td>\n",
       "    </tr>\n",
       "    <tr>\n",
       "      <th>3</th>\n",
       "      <td>X-Fab Silicon Foundries Se</td>\n",
       "      <td>XFAB</td>\n",
       "      <td>XPAR</td>\n",
       "      <td>XPAR</td>\n",
       "      <td>[]</td>\n",
       "      <td>BE0974310428</td>\n",
       "      <td>B9901Z101</td>\n",
       "      <td>BD97P41</td>\n",
       "    </tr>\n",
       "    <tr>\n",
       "      <th>4</th>\n",
       "      <td>Nrj Group Sa</td>\n",
       "      <td>NRG</td>\n",
       "      <td>XPAR</td>\n",
       "      <td>XPAR</td>\n",
       "      <td>[]</td>\n",
       "      <td>FR0000121691</td>\n",
       "      <td>F6637Z112</td>\n",
       "      <td>5996126</td>\n",
       "    </tr>\n",
       "    <tr>\n",
       "      <th>...</th>\n",
       "      <td>...</td>\n",
       "      <td>...</td>\n",
       "      <td>...</td>\n",
       "      <td>...</td>\n",
       "      <td>...</td>\n",
       "      <td>...</td>\n",
       "      <td>...</td>\n",
       "      <td>...</td>\n",
       "    </tr>\n",
       "    <tr>\n",
       "      <th>620</th>\n",
       "      <td>Ovh Groupe Sas</td>\n",
       "      <td>OVHp</td>\n",
       "      <td>CHIX</td>\n",
       "      <td>XPAR</td>\n",
       "      <td>[]</td>\n",
       "      <td>FR0014005HJ9</td>\n",
       "      <td>F97637106</td>\n",
       "      <td>BLPLBD4</td>\n",
       "    </tr>\n",
       "    <tr>\n",
       "      <th>621</th>\n",
       "      <td>Publicis Groupe Sa</td>\n",
       "      <td>PUBp</td>\n",
       "      <td>CHIX</td>\n",
       "      <td>XPAR</td>\n",
       "      <td>[Cac 40, Euro Stoxx 600]</td>\n",
       "      <td>FR0000130577</td>\n",
       "      <td>F7607Z165</td>\n",
       "      <td>4380429</td>\n",
       "    </tr>\n",
       "    <tr>\n",
       "      <th>622</th>\n",
       "      <td>Verimatrix Sa</td>\n",
       "      <td>VMXp</td>\n",
       "      <td>CHIX</td>\n",
       "      <td>XPAR</td>\n",
       "      <td>[]</td>\n",
       "      <td>FR0010291245</td>\n",
       "      <td></td>\n",
       "      <td>B7H4WQ3</td>\n",
       "    </tr>\n",
       "    <tr>\n",
       "      <th>623</th>\n",
       "      <td>Groupe Flo</td>\n",
       "      <td>FLOp</td>\n",
       "      <td>CHIX</td>\n",
       "      <td>XPAR</td>\n",
       "      <td>[Russell 1000, Russell 3000]</td>\n",
       "      <td>FR0014004X25</td>\n",
       "      <td>F4604L117</td>\n",
       "      <td>BMT9P40</td>\n",
       "    </tr>\n",
       "    <tr>\n",
       "      <th>624</th>\n",
       "      <td>Claranova Se</td>\n",
       "      <td>CLAp</td>\n",
       "      <td>CHIX</td>\n",
       "      <td>XPAR</td>\n",
       "      <td>[]</td>\n",
       "      <td>FR0013426004</td>\n",
       "      <td>F05524107</td>\n",
       "      <td>BKDWSH5</td>\n",
       "    </tr>\n",
       "  </tbody>\n",
       "</table>\n",
       "<p>625 rows × 8 columns</p>\n",
       "</div>"
      ],
      "text/plain": [
       "                              Name Ticker Exchange Primary  \\\n",
       "0    Credit Agricole Brie Picardie  CRBP2     XPAR    XPAR   \n",
       "1                    Paragon Id Sa    PID     XPAR    XPAR   \n",
       "2                        Sanofi Sa    SAN     XPAR    XPAR   \n",
       "3       X-Fab Silicon Foundries Se   XFAB     XPAR    XPAR   \n",
       "4                     Nrj Group Sa    NRG     XPAR    XPAR   \n",
       "..                             ...    ...      ...     ...   \n",
       "620                 Ovh Groupe Sas   OVHp     CHIX    XPAR   \n",
       "621             Publicis Groupe Sa   PUBp     CHIX    XPAR   \n",
       "622                  Verimatrix Sa   VMXp     CHIX    XPAR   \n",
       "623                     Groupe Flo   FLOp     CHIX    XPAR   \n",
       "624                   Claranova Se   CLAp     CHIX    XPAR   \n",
       "\n",
       "                                       Index          Isin      Cusip    Sedol  \n",
       "0                                         []  FR0010483768  F1439Z113  B1YGZL6  \n",
       "1                                         []  FR0013318813  F6957K117  BG0SZP5  \n",
       "2    [Cac 40, Euro Stoxx 50, Euro Stoxx 600]  FR0000120578  F5548N101  5671735  \n",
       "3                                         []  BE0974310428  B9901Z101  BD97P41  \n",
       "4                                         []  FR0000121691  F6637Z112  5996126  \n",
       "..                                       ...           ...        ...      ...  \n",
       "620                                       []  FR0014005HJ9  F97637106  BLPLBD4  \n",
       "621                 [Cac 40, Euro Stoxx 600]  FR0000130577  F7607Z165  4380429  \n",
       "622                                       []  FR0010291245             B7H4WQ3  \n",
       "623             [Russell 1000, Russell 3000]  FR0014004X25  F4604L117  BMT9P40  \n",
       "624                                       []  FR0013426004  F05524107  BKDWSH5  \n",
       "\n",
       "[625 rows x 8 columns]"
      ]
     },
     "metadata": {},
     "output_type": "display_data"
    }
   ],
   "source": [
    "# visualize equities request results\n",
    "data = get_equities_dataframe(response)\n",
    "display(data)"
   ]
  },
  {
   "cell_type": "markdown",
   "id": "direct-making",
   "metadata": {},
   "source": [
    "The following code snippet exports **equities data** to a *csv file*:"
   ]
  },
  {
   "cell_type": "code",
   "execution_count": 10,
   "id": "fatty-spectrum",
   "metadata": {},
   "outputs": [],
   "source": [
    "os.makedirs(\"Export\", exist_ok=True)\n",
    "data.to_csv('Export/{0} instruments.csv'.format(exchange), index=False)"
   ]
  },
  {
   "cell_type": "markdown",
   "id": "suspended-denmark",
   "metadata": {},
   "source": [
    "### 3.2 Retrieve ETFs data for an exchange\n",
    "This part is dedicated to retrieve **ETFs data for a given exchange**."
   ]
  },
  {
   "cell_type": "code",
   "execution_count": 11,
   "id": "living-apache",
   "metadata": {},
   "outputs": [],
   "source": [
    "# define a method to handle the ETFs reponse using a Pandas dataframe\n",
    "def get_etfs_dataframe(response):\n",
    "    name = [etf.name for etf in response.etfs]\n",
    "    ticker = [etf.identifier.ticker for etf in response.etfs]\n",
    "    mic = [etf.identifier.exchange for etf in response.etfs]\n",
    "    primary = [etf.primary for etf in response.etfs]\n",
    "    country = [etf.country for etf in response.etfs]\n",
    "    currency = [etf.currency for etf in response.etfs]\n",
    "    \n",
    "    # Create pandas dataframe\n",
    "    d = {'Name': name, 'Ticker': ticker, 'Exchange': mic , 'Primary':primary, 'Country': country, 'Currency': currency}\n",
    "    df = pd.DataFrame(data=d)\n",
    "    return df"
   ]
  },
  {
   "cell_type": "code",
   "execution_count": 12,
   "id": "unknown-disclosure",
   "metadata": {},
   "outputs": [],
   "source": [
    "# set the exchange to retrieve ETFs data\n",
    "exchange = 'XNYS'"
   ]
  },
  {
   "cell_type": "markdown",
   "id": "faced-michigan",
   "metadata": {},
   "source": [
    "The following code snippets call the service, generate the request and return the reply: "
   ]
  },
  {
   "cell_type": "code",
   "execution_count": 13,
   "id": "human-painting",
   "metadata": {},
   "outputs": [],
   "source": [
    "# generate static data request\n",
    "request = static_data.StaticDataRequest( \n",
    "    asset_type = static_data.AssetType.ASSET_TYPE_ETF\n",
    ")\n",
    "\n",
    "request.exchange.value = exchange # add exchange Code as per filter value\n",
    "request.count.value = 1000 # get all the values, by  default count is set to 100"
   ]
  },
  {
   "cell_type": "code",
   "execution_count": 14,
   "id": "aboriginal-laptop",
   "metadata": {},
   "outputs": [],
   "source": [
    "# open a gRPC channel\n",
    "try:\n",
    "    with channel_helpers.get_grpc_channel() as channel:  \n",
    "        \n",
    "        # instantiate the static data service\n",
    "        service = static_data_service.StaticDataServiceStub(channel)\n",
    "        \n",
    "        # process the request\n",
    "        response = service.StaticData(request = request, metadata = [('authorization', token)])\n",
    "except grpc.RpcError as e:\n",
    "    display(e.code().name)\n",
    "    display(e.details())\n"
   ]
  },
  {
   "cell_type": "code",
   "execution_count": 15,
   "id": "incorporated-ottawa",
   "metadata": {},
   "outputs": [
    {
     "data": {
      "text/html": [
       "<div>\n",
       "<style scoped>\n",
       "    .dataframe tbody tr th:only-of-type {\n",
       "        vertical-align: middle;\n",
       "    }\n",
       "\n",
       "    .dataframe tbody tr th {\n",
       "        vertical-align: top;\n",
       "    }\n",
       "\n",
       "    .dataframe thead th {\n",
       "        text-align: right;\n",
       "    }\n",
       "</style>\n",
       "<table border=\"1\" class=\"dataframe\">\n",
       "  <thead>\n",
       "    <tr style=\"text-align: right;\">\n",
       "      <th></th>\n",
       "      <th>Name</th>\n",
       "      <th>Ticker</th>\n",
       "      <th>Exchange</th>\n",
       "      <th>Primary</th>\n",
       "      <th>Country</th>\n",
       "      <th>Currency</th>\n",
       "    </tr>\n",
       "  </thead>\n",
       "  <tbody>\n",
       "    <tr>\n",
       "      <th>0</th>\n",
       "      <td>Jp Morgan Etf Trust Corporate Bond Research En...</td>\n",
       "      <td>JIGB</td>\n",
       "      <td>BATS</td>\n",
       "      <td>XNYS</td>\n",
       "      <td>US</td>\n",
       "      <td>USD</td>\n",
       "    </tr>\n",
       "    <tr>\n",
       "      <th>1</th>\n",
       "      <td>Fidelity Merrimack Street Trust Ltd Term Bf Etf</td>\n",
       "      <td>FLTB</td>\n",
       "      <td>BATS</td>\n",
       "      <td>XNYS</td>\n",
       "      <td>US</td>\n",
       "      <td>USD</td>\n",
       "    </tr>\n",
       "    <tr>\n",
       "      <th>2</th>\n",
       "      <td>Simplify Us Equity Plus Convexity Etf</td>\n",
       "      <td>SPYC</td>\n",
       "      <td>BATS</td>\n",
       "      <td>XNYS</td>\n",
       "      <td>US</td>\n",
       "      <td>USD</td>\n",
       "    </tr>\n",
       "    <tr>\n",
       "      <th>3</th>\n",
       "      <td>Spdr Bloomberg Convertible Securities Etf</td>\n",
       "      <td>CWB</td>\n",
       "      <td>BATS</td>\n",
       "      <td>XNYS</td>\n",
       "      <td>US</td>\n",
       "      <td>USD</td>\n",
       "    </tr>\n",
       "    <tr>\n",
       "      <th>4</th>\n",
       "      <td>Ishares Trust Msci China Small-Cap Etf</td>\n",
       "      <td>ECNS</td>\n",
       "      <td>BATS</td>\n",
       "      <td>XNYS</td>\n",
       "      <td>US</td>\n",
       "      <td>USD</td>\n",
       "    </tr>\n",
       "    <tr>\n",
       "      <th>...</th>\n",
       "      <td>...</td>\n",
       "      <td>...</td>\n",
       "      <td>...</td>\n",
       "      <td>...</td>\n",
       "      <td>...</td>\n",
       "      <td>...</td>\n",
       "    </tr>\n",
       "    <tr>\n",
       "      <th>995</th>\n",
       "      <td>Vanguard World Fund Mega Cap Growth Etf</td>\n",
       "      <td>MGK</td>\n",
       "      <td>BATS</td>\n",
       "      <td>XNYS</td>\n",
       "      <td>US</td>\n",
       "      <td>USD</td>\n",
       "    </tr>\n",
       "    <tr>\n",
       "      <th>996</th>\n",
       "      <td>Spdr SP 500 Etf Trust</td>\n",
       "      <td>SPY</td>\n",
       "      <td>BATS</td>\n",
       "      <td>XNYS</td>\n",
       "      <td>US</td>\n",
       "      <td>USD</td>\n",
       "    </tr>\n",
       "    <tr>\n",
       "      <th>997</th>\n",
       "      <td>Direxion Shares Etf Trust Daily SP 500 Bear 1X...</td>\n",
       "      <td>SPDN</td>\n",
       "      <td>BATS</td>\n",
       "      <td>XNYS</td>\n",
       "      <td>US</td>\n",
       "      <td>USD</td>\n",
       "    </tr>\n",
       "    <tr>\n",
       "      <th>998</th>\n",
       "      <td>Fis Knights Of Columbus Global Belief Etf</td>\n",
       "      <td>KOCG</td>\n",
       "      <td>BATS</td>\n",
       "      <td>XNYS</td>\n",
       "      <td>US</td>\n",
       "      <td>USD</td>\n",
       "    </tr>\n",
       "    <tr>\n",
       "      <th>999</th>\n",
       "      <td>The Future Fund Active Etf</td>\n",
       "      <td>FFND</td>\n",
       "      <td>BATS</td>\n",
       "      <td>XNYS</td>\n",
       "      <td>US</td>\n",
       "      <td>USD</td>\n",
       "    </tr>\n",
       "  </tbody>\n",
       "</table>\n",
       "<p>1000 rows × 6 columns</p>\n",
       "</div>"
      ],
      "text/plain": [
       "                                                  Name Ticker Exchange  \\\n",
       "0    Jp Morgan Etf Trust Corporate Bond Research En...   JIGB     BATS   \n",
       "1      Fidelity Merrimack Street Trust Ltd Term Bf Etf   FLTB     BATS   \n",
       "2                Simplify Us Equity Plus Convexity Etf   SPYC     BATS   \n",
       "3            Spdr Bloomberg Convertible Securities Etf    CWB     BATS   \n",
       "4               Ishares Trust Msci China Small-Cap Etf   ECNS     BATS   \n",
       "..                                                 ...    ...      ...   \n",
       "995            Vanguard World Fund Mega Cap Growth Etf    MGK     BATS   \n",
       "996                              Spdr SP 500 Etf Trust    SPY     BATS   \n",
       "997  Direxion Shares Etf Trust Daily SP 500 Bear 1X...   SPDN     BATS   \n",
       "998          Fis Knights Of Columbus Global Belief Etf   KOCG     BATS   \n",
       "999                         The Future Fund Active Etf   FFND     BATS   \n",
       "\n",
       "    Primary Country Currency  \n",
       "0      XNYS      US      USD  \n",
       "1      XNYS      US      USD  \n",
       "2      XNYS      US      USD  \n",
       "3      XNYS      US      USD  \n",
       "4      XNYS      US      USD  \n",
       "..      ...     ...      ...  \n",
       "995    XNYS      US      USD  \n",
       "996    XNYS      US      USD  \n",
       "997    XNYS      US      USD  \n",
       "998    XNYS      US      USD  \n",
       "999    XNYS      US      USD  \n",
       "\n",
       "[1000 rows x 6 columns]"
      ]
     },
     "metadata": {},
     "output_type": "display_data"
    }
   ],
   "source": [
    "# visualize ETFs data results\n",
    "data = get_etfs_dataframe(response)\n",
    "display(data)"
   ]
  },
  {
   "cell_type": "markdown",
   "id": "numerical-packet",
   "metadata": {},
   "source": [
    "The following code snippet exports **equities data** to a *csv file*:"
   ]
  },
  {
   "cell_type": "code",
   "execution_count": 16,
   "id": "amateur-doctor",
   "metadata": {},
   "outputs": [],
   "source": [
    "os.makedirs(\"Export\", exist_ok=True)\n",
    "data.to_csv('Export/{0} instruments.csv'.format(exchange), index=False)"
   ]
  }
 ],
 "metadata": {
  "kernelspec": {
   "display_name": "Python 3.10.4 64-bit",
   "language": "python",
   "name": "python3"
  },
  "language_info": {
   "codemirror_mode": {
    "name": "ipython",
    "version": 3
   },
   "file_extension": ".py",
   "mimetype": "text/x-python",
   "name": "python",
   "nbconvert_exporter": "python",
   "pygments_lexer": "ipython3",
   "version": "3.10.4"
  },
  "vscode": {
   "interpreter": {
    "hash": "e7370f93d1d0cde622a1f8e1c04877d8463912d04d973331ad4851f04de6915a"
   }
  }
 },
 "nbformat": 4,
 "nbformat_minor": 5
}
