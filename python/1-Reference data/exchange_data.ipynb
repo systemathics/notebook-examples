{
 "cells": [
  {
   "cell_type": "markdown",
   "id": "a5a6e32a",
   "metadata": {},
   "source": [
    "# Generate exchange data using dedicated service - Python\n",
    "\n",
    "### Overview\n",
    "Reference data encompasses a wide range of specification data about:\n",
    "* financial instrument such as asset class, symbol, maturity, etc.\n",
    "* counterparties such as issuer information.\n",
    "* pricing such as Open, high low and close prices.\n",
    "\n",
    "The challenge with reference data is that it tends to be sourced from multiple sources: internal, counterparties and providers.\n",
    "\n",
    "Reference data dedicated service is a result of various data sources and fields sourcing, validation, cross-checking and normalization.<br>\n",
    "\n",
    "This sample requests **on-demand** exchange data and enables fields mapping by calling a dedicated static data service, making available clean data.\n",
    "\n",
    "### Inputs/outputs\n",
    "Exchange data sample is designed to help you searching and requesting exchange reference data by using a wide range of commonly used fields.\n",
    "\n",
    "It takes exchange identifier as per input filter and returns the *entries* matching the request:\n",
    "* List of instruments' identifiers\n",
    "* Countries\n",
    "* Currencies \n",
    "* Tick size rules\n",
    "* etc. \n",
    "\n",
    "### Services used\n",
    "This sample uses *gRPC requests* in order to retrieve exchange reference data from the hosted service. The queried endpoint in this script are:\n",
    "* *StaticDataService*: to directly retrieve reference data objects from the server\n",
    "\n",
    "### Modules required\n",
    "1. Systemathics packages:\n",
    "    * *systemathics.apis.services.static_data.v1*\n",
    "2. Open source packages\n",
    "    * *googleapis-common-protos*\n",
    "    * *protobuf*\n",
    "    * *grpcio*\n",
    "    * *pandas*\n",
    "    \n",
    "***"
   ]
  },
  {
   "cell_type": "markdown",
   "id": "9807f625",
   "metadata": {},
   "source": [
    "# Run Exchange data sample"
   ]
  },
  {
   "cell_type": "markdown",
   "id": "6e0ef061",
   "metadata": {},
   "source": [
    "### Step 1: Install packages and import them"
   ]
  },
  {
   "cell_type": "code",
   "execution_count": null,
   "id": "156ec1fa",
   "metadata": {},
   "outputs": [],
   "source": [
    "pip install googleapis-common-protos protobuf grpcio pandas systemathics.apis"
   ]
  },
  {
   "cell_type": "code",
   "execution_count": null,
   "id": "faadc167",
   "metadata": {},
   "outputs": [],
   "source": [
    "import os\n",
    "import grpc\n",
    "import pandas as pd\n",
    "import google.protobuf as pb\n",
    "import systemathics.apis.services.static_data.v1.static_data_pb2 as static_data\n",
    "import systemathics.apis.services.static_data.v1.static_data_pb2_grpc as static_data_service\n",
    "import systemathics.apis.helpers.token_helpers as token_helpers\n",
    "import systemathics.apis.helpers.channel_helpers as channel_helpers"
   ]
  },
  {
   "cell_type": "markdown",
   "id": "fedb8e97",
   "metadata": {},
   "source": [
    "### Step 2: Prepare API requests\n",
    "The following code snippets retrieve authentication token to be used in upcomming API requests:"
   ]
  },
  {
   "cell_type": "code",
   "execution_count": null,
   "id": "37f2b42f",
   "metadata": {},
   "outputs": [],
   "source": [
    "token = token_helpers.get_token()\n",
    "display(token)"
   ]
  },
  {
   "cell_type": "markdown",
   "id": "416ed7c2",
   "metadata": {},
   "source": [
    "### Step 3: Create and process request"
   ]
  },
  {
   "cell_type": "markdown",
   "id": "044b2820",
   "metadata": {},
   "source": [
    "### 3.1 Introduction\n",
    "In order to get data for a given exchange, we need to select the **exchange** by its *Market Identifier Code*. Then, we instantiate the **StaticDataService** to request the required data:\n",
    "* List of exchange instruments\n",
    "* List of exchange currencies\n",
    "* List of exchnage tick size rules\n",
    "* etc."
   ]
  },
  {
   "cell_type": "markdown",
   "id": "9de9cf3c-091b-41fe-a3ec-d2b3cb7ff99f",
   "metadata": {},
   "source": [
    "### 3.2 Retrieve equities data for an exchange\n",
    "This part is dedicated to retrieve **equities data for a given exchange**."
   ]
  },
  {
   "cell_type": "code",
   "execution_count": null,
   "id": "b01c2f6e-51fc-49ae-a5fc-017ed53b948f",
   "metadata": {},
   "outputs": [],
   "source": [
    "# define a method to handle the equities reponse using a Pandas dataframe\n",
    "def get_equities_dataframe(response):\n",
    "    mic = [equity.identifier.exchange for equity in response.equities]\n",
    "    ticker = [equity.identifier.ticker for equity in response.equities]\n",
    "    name = [equity.name for equity in response.equities]\n",
    "    primary = [equity.primary for equity in response.equities]\n",
    "    index = [equity.index for equity in response.equities]\n",
    "    isin = [equity.isin for equity in response.equities]\n",
    "    cusip = [equity.cusip for equity in response.equities]\n",
    "    sedol = [equity.sedol for equity in response.equities]\n",
    "    \n",
    "    # Create pandas dataframe\n",
    "    d = {'Name': name, 'Ticker': ticker, 'Exchange': mic, 'Primary':primary, 'Index': index, 'Isin': isin, 'Cusip': cusip, 'Sedol': sedol}\n",
    "    df = pd.DataFrame(data=d)\n",
    "    return df"
   ]
  },
  {
   "cell_type": "code",
   "execution_count": null,
   "id": "10a91515",
   "metadata": {},
   "outputs": [],
   "source": [
    "# set the exchange to retrieve equities data\n",
    "exchange = 'XPAR'"
   ]
  },
  {
   "cell_type": "markdown",
   "id": "5cd67900",
   "metadata": {},
   "source": [
    "The following code snippets call the service, generate the request and return the reply: "
   ]
  },
  {
   "cell_type": "code",
   "execution_count": null,
   "id": "864c621c",
   "metadata": {},
   "outputs": [],
   "source": [
    "# generate zquities static data request\n",
    "request = static_data.StaticDataRequest( \n",
    "    asset_type = static_data.AssetType.ASSET_TYPE_EQUITY\n",
    ")\n",
    "\n",
    "request.exchange.value = exchange # add name as per filter value\n",
    "request.count.value = 1000 # get all the values, by  default count is set to 100"
   ]
  },
  {
   "cell_type": "code",
   "execution_count": null,
   "id": "3aca5959",
   "metadata": {},
   "outputs": [],
   "source": [
    "try:\n",
    "    with channel_helpers.get_grpc_channel() as channel:  \n",
    "        \n",
    "        # instantiate the static data service\n",
    "        service = static_data_service.StaticDataServiceStub(channel)\n",
    "        \n",
    "        # process the request\n",
    "        response = service.StaticData(\n",
    "            request = request, \n",
    "            metadata = [('authorization', token)]\n",
    "        )\n",
    "except grpc.RpcError as e:\n",
    "    display(e.code().name)\n",
    "    display(e.details())\n"
   ]
  },
  {
   "cell_type": "code",
   "execution_count": null,
   "id": "f5fb6143",
   "metadata": {},
   "outputs": [],
   "source": [
    "# visualize equities request results\n",
    "data = get_equities_dataframe(response)\n",
    "display(data)"
   ]
  },
  {
   "cell_type": "markdown",
   "id": "3777cc47-2010-459e-9615-7a84e64f66a1",
   "metadata": {},
   "source": [
    "The following code snippet exports **equities data** to a *csv file*:"
   ]
  },
  {
   "cell_type": "code",
   "execution_count": null,
   "id": "115ea3f0-6530-4128-877c-8c0f68eb1cc5",
   "metadata": {},
   "outputs": [],
   "source": [
    "data.to_csv('Export/{0} instruments.csv'.format(exchange), index=False)"
   ]
  },
  {
   "cell_type": "markdown",
   "id": "33be83c7-300a-4e28-af54-7ca6e0206441",
   "metadata": {},
   "source": [
    "### 3.2 Retrieve ETFs data for an exchange\n",
    "This part is dedicated to retrieve **ETFs data for a given exchange**."
   ]
  },
  {
   "cell_type": "code",
   "execution_count": null,
   "id": "480fde35-9cd3-4d4b-8121-f6e711d92903",
   "metadata": {},
   "outputs": [],
   "source": [
    "# define a method to handle the ETFs reponse using a Pandas dataframe\n",
    "def get_etfs_dataframe(response):\n",
    "    name = [etf.name for etf in response.etfs]\n",
    "    ticker = [etf.identifier.ticker for etf in response.etfs]\n",
    "    mic = [etf.identifier.exchange for etf in response.etfs]\n",
    "    primary = [etf.primary for etf in response.etfs]\n",
    "    country = [etf.country for etf in response.etfs]\n",
    "    currency = [etf.currency for etf in response.etfs]\n",
    "    \n",
    "    # Create pandas dataframe\n",
    "    d = {'Name': name, 'Ticker': ticker, 'Exchange': mic , 'Primary':primary, 'Country': country, 'Currency': currency}\n",
    "    df = pd.DataFrame(data=d)\n",
    "    return df"
   ]
  },
  {
   "cell_type": "code",
   "execution_count": null,
   "id": "57649de0-9c84-49f8-9ff9-caf778c9f489",
   "metadata": {},
   "outputs": [],
   "source": [
    "# set the exchange to retrieve ETFs data\n",
    "exchange = 'XNYS'"
   ]
  },
  {
   "cell_type": "markdown",
   "id": "988c8ba4-d8af-450e-9a79-19c8e93fd2ad",
   "metadata": {},
   "source": [
    "The following code snippets call the service, generate the request and return the reply: "
   ]
  },
  {
   "cell_type": "code",
   "execution_count": null,
   "id": "c0461848-7585-4ab8-b0d0-06fd04ddefb9",
   "metadata": {},
   "outputs": [],
   "source": [
    "# generate static data request\n",
    "request = static_data.StaticDataRequest( \n",
    "    asset_type = static_data.AssetType.ASSET_TYPE_ETF\n",
    ")\n",
    "\n",
    "request.exchange.value = exchange # add exchange Code as per filter value\n",
    "request.count.value = 1000 # get all the values, by  default count is set to 100"
   ]
  },
  {
   "cell_type": "code",
   "execution_count": null,
   "id": "5b7bb8a1-5a8e-4b8c-a19a-6415622c1bbb",
   "metadata": {},
   "outputs": [],
   "source": [
    "# open a gRPC channel\n",
    "try:\n",
    "    with channel_helpers.get_grpc_channel() as channel:  \n",
    "        \n",
    "        # instantiate the static data service\n",
    "        service = static_data_service.StaticDataServiceStub(channel)\n",
    "        \n",
    "        # process the request\n",
    "        response = service.StaticData(request = request, metadata = [('authorization', token)])\n",
    "except grpc.RpcError as e:\n",
    "    display(e.code().name)\n",
    "    display(e.details())\n"
   ]
  },
  {
   "cell_type": "code",
   "execution_count": null,
   "id": "4522dd69-aeb9-41fd-ba3d-f4fb25865fc1",
   "metadata": {},
   "outputs": [],
   "source": [
    "# visualize ETFs data results\n",
    "data = get_etfs_dataframe(response)\n",
    "display(data)"
   ]
  },
  {
   "cell_type": "markdown",
   "id": "dd487c99-c2d0-48ee-8827-39a405dc6edd",
   "metadata": {},
   "source": [
    "The following code snippet exports **equities data** to a *csv file*:"
   ]
  },
  {
   "cell_type": "code",
   "execution_count": null,
   "id": "d9e17f4b-727a-4fc9-9487-c49c44286f8f",
   "metadata": {},
   "outputs": [],
   "source": [
    "data.to_csv('Export/{0} instruments.csv'.format(exchange), index=False)"
   ]
  }
 ],
 "metadata": {
  "kernelspec": {
   "display_name": "Python 3",
   "language": "python",
   "name": "python3"
  },
  "language_info": {
   "codemirror_mode": {
    "name": "ipython",
    "version": 3
   },
   "file_extension": ".py",
   "mimetype": "text/x-python",
   "name": "python",
   "nbconvert_exporter": "python",
   "pygments_lexer": "ipython3",
   "version": "3.9.5"
  }
 },
 "nbformat": 4,
 "nbformat_minor": 5
}
