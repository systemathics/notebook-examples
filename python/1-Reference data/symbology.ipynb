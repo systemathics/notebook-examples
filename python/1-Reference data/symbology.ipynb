{
 "cells": [
  {
   "cell_type": "markdown",
   "id": "economic-thermal",
   "metadata": {},
   "source": [
    "# Symbology mapping using dedicated service - Python\n",
    "\n",
    "### Overview\n",
    "Reference data encompasses a wide range of specification data about:\n",
    "* financial instrument such as asset class, symbol, maturity, etc.\n",
    "* counterparties such as issuer information.\n",
    "* pricing such as Open, high low and close prices.\n",
    "\n",
    "The challenge with reference data is that it tends to be sourced from multiple sources: internal, counterparties and providers.\n",
    "\n",
    "Reference data dedicated service is a result of various data sources and fields sourcing, validation, cross-checking and normalization.<br>\n",
    "\n",
    "This sample requests **on-demand** instrument's identifiers and enables fields mapping by calling a dedicated static data service, making available clean data.\n",
    "\n",
    "### Inputs/outputs\n",
    "Symbology mapping sample is designed to help you searching and requesting instrument's specification data by using a wide range of commonly used fields.\n",
    "* It takes instrument specification parameter(s) as per input filter and returns the *entries* matching the request.\n",
    "* The returned *entries* contain `instrument identifier` data\n",
    "\n",
    "The samples below expose several ways to query the reference data service in order to retrieve instrument identifier and fields. \n",
    "Please refer to any other scenario in order to discover how instrument identifier is used.\n",
    "\n",
    "### Services used\n",
    "This sample uses *gRPC requests* in order to retrieve reference data set of fields from the hosted service. The queried endpoint in this script are:\n",
    "* *StaticDataService*: to directly retrieve reference data objects from the server\n",
    "\n",
    "### Modules required\n",
    "1. Systemathics packages:\n",
    "    * *systemathics.apis.services.static_data.v1*\n",
    "2. Open source packages\n",
    "    * *googleapis-common-protos*\n",
    "    * *protobuf*\n",
    "    * *grpcio*\n",
    "    * *pandas*\n",
    "    \n",
    "***"
   ]
  },
  {
   "cell_type": "markdown",
   "id": "hollow-neighbor",
   "metadata": {},
   "source": [
    "# Run symbology queries"
   ]
  },
  {
   "cell_type": "markdown",
   "id": "first-strap",
   "metadata": {},
   "source": [
    "### Step 1: Install packages and import them"
   ]
  },
  {
   "cell_type": "code",
   "execution_count": null,
   "id": "induced-india",
   "metadata": {},
   "outputs": [],
   "source": [
    "pip install googleapis-common-protos protobuf grpcio pandas"
   ]
  },
  {
   "cell_type": "code",
   "execution_count": null,
   "id": "million-semester",
   "metadata": {},
   "outputs": [],
   "source": [
    "pip install systemathics.apis==2.32.*"
   ]
  },
  {
   "cell_type": "code",
   "execution_count": null,
   "id": "increased-universal",
   "metadata": {},
   "outputs": [],
   "source": [
    "import os\n",
    "import grpc\n",
    "import pandas as pd\n",
    "import google.protobuf as pb\n",
    "import systemathics.apis.services.static_data.v1.static_data_pb2 as static_data\n",
    "import systemathics.apis.services.static_data.v1.static_data_pb2_grpc as static_data_service\n",
    "import systemathics.apis.helpers.token_helpers as token_helpers\n",
    "import systemathics.apis.helpers.channel_helpers as channel_helpers"
   ]
  },
  {
   "cell_type": "markdown",
   "id": "floppy-denmark",
   "metadata": {},
   "source": [
    "### Step 2: Prepare API requests\n",
    "The following code snippets retrieve authentication token to be used in upcomming API requests:"
   ]
  },
  {
   "cell_type": "code",
   "execution_count": null,
   "id": "magnetic-invalid",
   "metadata": {},
   "outputs": [],
   "source": [
    "token = token_helpers.get_token()\n",
    "display(token)"
   ]
  },
  {
   "cell_type": "markdown",
   "id": "arbitrary-draft",
   "metadata": {},
   "source": [
    "### Step 3: Create and process request"
   ]
  },
  {
   "cell_type": "markdown",
   "id": "informational-neutral",
   "metadata": {},
   "source": [
    "#### 3.1 Introduction\n",
    "The properties one can use as per filter field(s) in order to query the API for equities or futures are the following:\n",
    "* *Name*, *MIC*, *Ticker*, *Contract code*, *ISIN*, *Cusip*, *market data provider IDs*, etc.\n",
    "\n",
    "You can combine multiple filters in order to target more accurately your request. Combining filters act as a *AND* operator.\n",
    "\n",
    "The service returns *entries* matching the request filters.\n",
    "A reply contains two *arrays* dedicated for *futures* and *equities*. Keep in mind that these arrays might be empty depending on the query filters and the results.\n",
    "<br>Other shared fields such as <i>`Name`</i> or <i>`Identifier`</i> are there to make it easier to identify the instrument needed (among possible other results).  \n",
    "Depending on the asset type, there might be additional fields for the aforementioned purpose.\n",
    "\n",
    "The following code snippets will expose the different ways to query for reference data, with different asset types and various parameters."
   ]
  },
  {
   "cell_type": "markdown",
   "id": "straight-emperor",
   "metadata": {},
   "source": [
    "#### 3.2 Retrieve reference data - Equities\n",
    "\n",
    "To request for equities, the user must specify the asset_type as <i>`AssetType.ASSET_TYPE_EQUITY`</i> in the static data request."
   ]
  },
  {
   "cell_type": "code",
   "execution_count": null,
   "id": "internal-sharp",
   "metadata": {},
   "outputs": [],
   "source": [
    "# define a method to handle the equities reponse using a Pandas dataframe\n",
    "def get_equities_dataframe(response):\n",
    "    identifier = ['{0}|{1}'.format(equity.identifier.ticker, equity.identifier.exchange) for equity in response.equities]\n",
    "    type = [equity.type for equity in response.equities]\n",
    "    country = [equity.country for equity in response.equities]\n",
    "    name = [equity.name for equity in response.equities]\n",
    "    currency = [equity.currency for equity in response.equities]\n",
    "    primary = [equity.primary for equity in response.equities]\n",
    "    tick_size_rule = [equity.tick_size_rule for equity in response.equities]\n",
    "    mapping = [get_mapping(equity.mapping) for equity in response.equities]\n",
    "    index = [equity.index for equity in response.equities]\n",
    "    open = [equity.open for equity in response.equities]\n",
    "    close = [equity.close for equity in response.equities]\n",
    "    time_zone = [equity.time_zone for equity in response.equities]\n",
    "    lot_size = [equity.lot_size for equity in response.equities]\n",
    "    point_value = [equity.point_value for equity in response.equities]\n",
    "    isin = [equity.isin for equity in response.equities]\n",
    "    cusip = [equity.cusip for equity in response.equities]\n",
    "    sedol = [equity.sedol for equity in response.equities]\n",
    "    sectors = [get_sectors(equity.sectors) for equity in response.equities]\n",
    "    capitalization = [equity.capitalization.value for equity in response.equities]\n",
    "    \n",
    "    # Create pandas dataframe\n",
    "    d = {'Identifier': identifier, 'Type': type, 'Country': country, 'Name': name, 'Currency': currency, 'Primary': primary, 'TickSizeRule': tick_size_rule, 'Mapping':mapping, 'Index': index, 'Open': open, 'Close': close, 'Time zone': time_zone, 'Lot size': lot_size, 'PointValue': point_value, 'Isin': isin, 'Cusip': cusip, 'Sedol': sedol, 'Sectors': sectors, 'Capitalization': capitalization}\n",
    "    df = pd.DataFrame(data=d)\n",
    "    return df"
   ]
  },
  {
   "cell_type": "code",
   "execution_count": null,
   "id": "welsh-princess",
   "metadata": {},
   "outputs": [],
   "source": [
    "# define methods to handle identifiers mapping and sectors display as a string\n",
    "def get_mapping(d):\n",
    "    res=''\n",
    "    for key, value in d.items():\n",
    "        res = res + '['+key+'='+value+']'\n",
    "    return res\n",
    "\n",
    "def get_sectors(d):\n",
    "    res=''\n",
    "    for key, value in d.items():\n",
    "        res = res + '['+key+','+value+']'\n",
    "    return res\n",
    "\n",
    "def get_identifier(d):\n",
    "    res=''\n",
    "    for key, value in d.items():\n",
    "        res = res + '['+key+'='+value+']'\n",
    "    return res"
   ]
  },
  {
   "cell_type": "markdown",
   "id": "failing-liberal",
   "metadata": {},
   "source": [
    "##### 3.2.1 Equity - by Name"
   ]
  },
  {
   "cell_type": "code",
   "execution_count": null,
   "id": "obvious-satin",
   "metadata": {},
   "outputs": [],
   "source": [
    "# generate static data request\n",
    "request = static_data.StaticDataRequest( \n",
    "    asset_type = static_data.AssetType.ASSET_TYPE_EQUITY\n",
    ")\n",
    "\n",
    "# add name as per filter value\n",
    "request.name.value = 'Apple'"
   ]
  },
  {
   "cell_type": "code",
   "execution_count": null,
   "id": "broken-button",
   "metadata": {},
   "outputs": [],
   "source": [
    "try:\n",
    "    # open a gRPC channel\n",
    "    with channel_helpers.get_grpc_channel() as channel:  \n",
    "        \n",
    "        # instantiate the static data service\n",
    "        service = static_data_service.StaticDataServiceStub(channel)\n",
    "        \n",
    "        # process the request\n",
    "        response = service.StaticData(request = request, metadata = [('authorization', token)])\n",
    "except grpc.RpcError as e:\n",
    "    display(e.code().name)\n",
    "    display(e.details())"
   ]
  },
  {
   "cell_type": "code",
   "execution_count": null,
   "id": "composite-fight",
   "metadata": {},
   "outputs": [],
   "source": [
    "# visualize request results\n",
    "data = get_equities_dataframe(response)\n",
    "display(data)"
   ]
  },
  {
   "cell_type": "markdown",
   "id": "eleven-lighter",
   "metadata": {},
   "source": [
    "##### 3.2.2 Equity - by MIC code"
   ]
  },
  {
   "cell_type": "code",
   "execution_count": null,
   "id": "expressed-opportunity",
   "metadata": {},
   "outputs": [],
   "source": [
    "# generate static data request\n",
    "request = static_data.StaticDataRequest( \n",
    "    asset_type = static_data.AssetType.ASSET_TYPE_EQUITY\n",
    ")\n",
    "\n",
    "request.exchange.value = 'XNGS' # add exchange Code as per filter value\n",
    "request.count.value = 3 # select the first elements\n",
    "request.start.value = 2 # starting from element index"
   ]
  },
  {
   "cell_type": "code",
   "execution_count": null,
   "id": "stopped-herald",
   "metadata": {},
   "outputs": [],
   "source": [
    "try:\n",
    "    # open a gRPC channel\n",
    "    with channel_helpers.get_grpc_channel() as channel:  \n",
    "        \n",
    "        # instantiate the static data service\n",
    "        service = static_data_service.StaticDataServiceStub(channel)\n",
    "        \n",
    "        # process the request\n",
    "        response = service.StaticData(request = request, metadata = [('authorization', token)])\n",
    "except grpc.RpcError as e:\n",
    "    display(e.code().name)\n",
    "    display(e.details())"
   ]
  },
  {
   "cell_type": "code",
   "execution_count": null,
   "id": "detailed-quarterly",
   "metadata": {},
   "outputs": [],
   "source": [
    "# visualize request results\n",
    "data = get_equities_dataframe(response)\n",
    "display(data)"
   ]
  },
  {
   "cell_type": "markdown",
   "id": "honey-theme",
   "metadata": {},
   "source": [
    "##### 3.2.3 Equity - by Ticker"
   ]
  },
  {
   "cell_type": "code",
   "execution_count": null,
   "id": "thorough-broadcast",
   "metadata": {},
   "outputs": [],
   "source": [
    "# generate static data request\n",
    "request = static_data.StaticDataRequest( \n",
    "    asset_type = static_data.AssetType.ASSET_TYPE_EQUITY\n",
    ")\n",
    "\n",
    "# add ticker as per filter value\n",
    "request.ticker.value = 'AAPL'"
   ]
  },
  {
   "cell_type": "code",
   "execution_count": null,
   "id": "cultural-calculation",
   "metadata": {},
   "outputs": [],
   "source": [
    "try:\n",
    "    # open a gRPC channel\n",
    "    with channel_helpers.get_grpc_channel() as channel:  \n",
    "        \n",
    "        # instantiate the static data service\n",
    "        service = static_data_service.StaticDataServiceStub(channel)\n",
    "        \n",
    "        # process the request\n",
    "        response = service.StaticData(request = request, metadata = [('authorization', token)])\n",
    "except grpc.RpcError as e:\n",
    "    display(e.code().name)\n",
    "    display(e.details())"
   ]
  },
  {
   "cell_type": "code",
   "execution_count": null,
   "id": "matched-prisoner",
   "metadata": {},
   "outputs": [],
   "source": [
    "# visualize request results\n",
    "data = get_equities_dataframe(response)\n",
    "display(data)"
   ]
  },
  {
   "cell_type": "markdown",
   "id": "essential-concept",
   "metadata": {},
   "source": [
    "##### 3.2.4 Equity - by Codes"
   ]
  },
  {
   "cell_type": "code",
   "execution_count": null,
   "id": "proprietary-tribe",
   "metadata": {},
   "outputs": [],
   "source": [
    "# generate static data request\n",
    "request = static_data.StaticDataRequest( \n",
    "    asset_type = static_data.AssetType.ASSET_TYPE_EQUITY\n",
    ")\n",
    "\n",
    "# add isin as per filter value\n",
    "request.code.value = 'US0378331005'"
   ]
  },
  {
   "cell_type": "code",
   "execution_count": null,
   "id": "mobile-tyler",
   "metadata": {},
   "outputs": [],
   "source": [
    "try:\n",
    "    # open a gRPC channel\n",
    "    with channel_helpers.get_grpc_channel() as channel:  \n",
    "        \n",
    "        # instantiate the static data service\n",
    "        service = static_data_service.StaticDataServiceStub(channel)\n",
    "        \n",
    "        # process the request\n",
    "        response = service.StaticData(request = request, metadata = [('authorization', token)])\n",
    "except grpc.RpcError as e:\n",
    "    display(e.code().name)\n",
    "    display(e.details())"
   ]
  },
  {
   "cell_type": "code",
   "execution_count": null,
   "id": "danish-restriction",
   "metadata": {},
   "outputs": [],
   "source": [
    "# visualize request results\n",
    "data = get_equities_dataframe(response)\n",
    "display(data)"
   ]
  },
  {
   "cell_type": "code",
   "execution_count": null,
   "id": "handmade-yellow",
   "metadata": {},
   "outputs": [],
   "source": [
    "# generate static data request\n",
    "request = static_data.StaticDataRequest( \n",
    "    asset_type = static_data.AssetType.ASSET_TYPE_EQUITY\n",
    ")\n",
    "\n",
    "# add bloomberg figi as per filter value\n",
    "request.code.value = 'BBG000B9Y6P9'"
   ]
  },
  {
   "cell_type": "code",
   "execution_count": null,
   "id": "informative-andorra",
   "metadata": {},
   "outputs": [],
   "source": [
    "try:\n",
    "    # open a gRPC channel\n",
    "    with channel_helpers.get_grpc_channel() as channel:  \n",
    "        \n",
    "        # instantiate the static data service\n",
    "        service = static_data_service.StaticDataServiceStub(channel)\n",
    "        \n",
    "        # process the request\n",
    "        response = service.StaticData(\n",
    "            request = request, \n",
    "            metadata = [('authorization', token)]\n",
    "        )\n",
    "except grpc.RpcError as e:\n",
    "    display(e.code().name)\n",
    "    display(e.details())"
   ]
  },
  {
   "cell_type": "code",
   "execution_count": null,
   "id": "coupled-progress",
   "metadata": {},
   "outputs": [],
   "source": [
    "# visualize request results\n",
    "data = get_equities_dataframe(response)\n",
    "display(data)"
   ]
  },
  {
   "cell_type": "markdown",
   "id": "passive-temperature",
   "metadata": {},
   "source": [
    "##### 3.2.5 Equity - by Ticker + MIC code"
   ]
  },
  {
   "cell_type": "code",
   "execution_count": null,
   "id": "refined-cherry",
   "metadata": {},
   "outputs": [],
   "source": [
    "# generate static data request\n",
    "request = static_data.StaticDataRequest( \n",
    "    asset_type = static_data.AssetType.ASSET_TYPE_EQUITY\n",
    ")\n",
    "\n",
    "# add ticker + exchange code as per filter values\n",
    "request.ticker.value = 'AAPL'\n",
    "request.exchange.value = 'BATS'"
   ]
  },
  {
   "cell_type": "code",
   "execution_count": null,
   "id": "complex-davis",
   "metadata": {},
   "outputs": [],
   "source": [
    "try:\n",
    "    # open a gRPC channel\n",
    "    with channel_helpers.get_grpc_channel() as channel:  \n",
    "        \n",
    "        # instantiate the static data service\n",
    "        service = static_data_service.StaticDataServiceStub(channel)\n",
    "        \n",
    "        # process the request\n",
    "        response = service.StaticData(request = request, metadata = [('authorization', token)])\n",
    "except grpc.RpcError as e:\n",
    "    display(e.code().name)\n",
    "    display(e.details())"
   ]
  },
  {
   "cell_type": "code",
   "execution_count": null,
   "id": "ethical-communication",
   "metadata": {},
   "outputs": [],
   "source": [
    "# visualize request results\n",
    "data = get_equities_dataframe(response)\n",
    "display(data)"
   ]
  },
  {
   "cell_type": "markdown",
   "id": "painful-freedom",
   "metadata": {},
   "source": [
    "##### 3.2.6 Equity - index components"
   ]
  },
  {
   "cell_type": "code",
   "execution_count": null,
   "id": "saving-colonial",
   "metadata": {},
   "outputs": [],
   "source": [
    "# generate static data request\n",
    "request = static_data.StaticDataRequest( \n",
    "    asset_type = static_data.AssetType.ASSET_TYPE_EQUITY\n",
    ")\n",
    "\n",
    "request.index.value = 'NASDAQ 100' # add ticker + exchange code as per filter values\n",
    "request.count.value = 10 # select the first elements"
   ]
  },
  {
   "cell_type": "code",
   "execution_count": null,
   "id": "advance-occasions",
   "metadata": {},
   "outputs": [],
   "source": [
    "try:\n",
    "    # open a gRPC channel\n",
    "    with channel_helpers.get_grpc_channel() as channel:  \n",
    "        \n",
    "        # instantiate the static data service\n",
    "        service = static_data_service.StaticDataServiceStub(channel)\n",
    "        \n",
    "        # process the request\n",
    "        response = service.StaticData(request = request, metadata = [('authorization', token)])\n",
    "except grpc.RpcError as e:\n",
    "    display(e.code().name)\n",
    "    display(e.details())"
   ]
  },
  {
   "cell_type": "code",
   "execution_count": null,
   "id": "retained-appraisal",
   "metadata": {},
   "outputs": [],
   "source": [
    "# visualize request results\n",
    "data = get_equities_dataframe(response)\n",
    "display(data)"
   ]
  },
  {
   "cell_type": "markdown",
   "id": "wound-devices",
   "metadata": {},
   "source": [
    "##### 4.2.7 Equity - sectors"
   ]
  },
  {
   "cell_type": "code",
   "execution_count": null,
   "id": "featured-soccer",
   "metadata": {},
   "outputs": [],
   "source": [
    "# generate static data request\n",
    "request = static_data.StaticDataRequest( \n",
    "    asset_type = static_data.AssetType.ASSET_TYPE_EQUITY\n",
    ")\n",
    "\n",
    "# add ticker + exchange code as per filter values\n",
    "request.equity_sector.value = 'Electronic Computers'"
   ]
  },
  {
   "cell_type": "code",
   "execution_count": null,
   "id": "respective-threat",
   "metadata": {},
   "outputs": [],
   "source": [
    "try:\n",
    "    # open a gRPC channel\n",
    "    with channel_helpers.get_grpc_channel() as channel:  \n",
    "        \n",
    "        # instantiate the static data service\n",
    "        service = static_data_service.StaticDataServiceStub(channel)\n",
    "        \n",
    "        # process the request\n",
    "        response = service.StaticData(request = request, metadata = [('authorization', token)])\n",
    "except grpc.RpcError as e:\n",
    "    display(e.code().name)\n",
    "    display(e.details())"
   ]
  },
  {
   "cell_type": "code",
   "execution_count": null,
   "id": "virtual-necklace",
   "metadata": {},
   "outputs": [],
   "source": [
    "# visualize request results\n",
    "data = get_equities_dataframe(response)\n",
    "display(data)"
   ]
  },
  {
   "cell_type": "markdown",
   "id": "confident-joining",
   "metadata": {},
   "source": [
    "#### 3.3 Retrieve reference data - Futures\n",
    "\n",
    "To request for futures, the user must specify the asset_type as <i>`AssetType.ASSET_TYPE_FUTURE`</i> in the static data request."
   ]
  },
  {
   "cell_type": "code",
   "execution_count": null,
   "id": "renewable-implement",
   "metadata": {},
   "outputs": [],
   "source": [
    "# Define a method to transform the futures in a response into a Pandas dataframe\n",
    "def get_futures_dataframe(response):\n",
    "    identifier = ['{0}|{1}'.format(future.identifier.ticker, future.identifier.exchange) for future in response.futures]\n",
    "    type = [future.type for future in response.futures]\n",
    "    country = [future.country for future in response.futures]\n",
    "    name = [future.name for future in response.futures]\n",
    "    currency = [future.currency for future in response.futures]\n",
    "    primary = [future.primary for future in response.futures]\n",
    "    tick_size_rule = [future.tick_size_rule for future in response.futures]\n",
    "    mapping = [get_mapping(future.mapping) for future in response.futures]\n",
    "    index = [future.index for future in response.futures]\n",
    "    open = [future.open for future in response.futures]\n",
    "    close = [future.close for future in response.futures]\n",
    "    time_zone = [future.time_zone for future in response.futures]\n",
    "    lot_size = [future.lot_size for future in response.futures]\n",
    "    point_value = [future.point_value for future in response.futures]\n",
    "    underlying = [future.underlying for future in response.futures]\n",
    "    contract = [future.contract for future in response.futures]\n",
    "    category = [future.category for future in response.futures]\n",
    "    chain = [future.chain for future in response.futures]\n",
    "    maturity = ['{0}-{1:02d}-{2:02d}'.format(future.maturity.year, future.maturity.month,future.maturity.day) for future in response.futures]\n",
    "    month = [future.month for future in response.futures]\n",
    "    year = [future.year for future in response.futures]\n",
    "    \n",
    "    # Create pandas dataframe\n",
    "    d = {'Identifier': identifier, 'Type': type, 'Country': country, 'Name': name, 'Currency': currency, 'Primary': primary, 'TickSizeRule': tick_size_rule, 'Mapping':mapping, 'Index': index, 'Open': open, 'Close': close, 'Time zone': time_zone, 'Lot size': lot_size, 'PointValue': point_value, 'Underlying': underlying, 'Contract': contract, 'Category': category, 'Chain': chain, 'Maturity': maturity, 'Month': month, 'Year': year}\n",
    "    df = pd.DataFrame(data=d)\n",
    "    return df"
   ]
  },
  {
   "cell_type": "markdown",
   "id": "received-anaheim",
   "metadata": {},
   "source": [
    "##### 3.3.1 Future - by Name"
   ]
  },
  {
   "cell_type": "code",
   "execution_count": null,
   "id": "mounted-unknown",
   "metadata": {},
   "outputs": [],
   "source": [
    "# generate static data request\n",
    "request = static_data.StaticDataRequest( \n",
    "    asset_type = static_data.AssetType.ASSET_TYPE_FUTURE\n",
    ")\n",
    "\n",
    "# add future name as per filter value\n",
    "request.name.value = 'WTI Crude Futures'"
   ]
  },
  {
   "cell_type": "code",
   "execution_count": null,
   "id": "integral-bishop",
   "metadata": {},
   "outputs": [],
   "source": [
    "try:\n",
    "    # open a gRPC channel\n",
    "    with channel_helpers.get_grpc_channel() as channel:  \n",
    "        \n",
    "        # instantiate the static data service\n",
    "        service = static_data_service.StaticDataServiceStub(channel)\n",
    "        \n",
    "        # process the request\n",
    "        response = service.StaticData(request = request, metadata = [('authorization', token)])\n",
    "except grpc.RpcError as e:\n",
    "    display(e.code().name)\n",
    "    display(e.details())"
   ]
  },
  {
   "cell_type": "code",
   "execution_count": null,
   "id": "constant-promotion",
   "metadata": {},
   "outputs": [],
   "source": [
    "# visualize request results\n",
    "data = get_futures_dataframe(response)\n",
    "display(data)"
   ]
  },
  {
   "cell_type": "markdown",
   "id": "headed-correlation",
   "metadata": {},
   "source": [
    "##### 3.3.2 Future - by Contract"
   ]
  },
  {
   "cell_type": "code",
   "execution_count": null,
   "id": "incomplete-wages",
   "metadata": {},
   "outputs": [],
   "source": [
    "# generate static data request\n",
    "request = static_data.StaticDataRequest( \n",
    "    asset_type = static_data.AssetType.ASSET_TYPE_FUTURE\n",
    ")\n",
    "\n",
    "# add future contract as per filter value\n",
    "request.future_contract.value = 'WBS'"
   ]
  },
  {
   "cell_type": "code",
   "execution_count": null,
   "id": "impressed-poetry",
   "metadata": {},
   "outputs": [],
   "source": [
    "try:\n",
    "    # open a gRPC channel\n",
    "    with channel_helpers.get_grpc_channel() as channel:  \n",
    "        \n",
    "        # instantiate the static data service\n",
    "        service = static_data_service.StaticDataServiceStub(channel)\n",
    "        \n",
    "        # process the request\n",
    "        response = service.StaticData(request = request, metadata = [('authorization', token)])\n",
    "except grpc.RpcError as e:\n",
    "    display(e.code().name)\n",
    "    display(e.details())"
   ]
  },
  {
   "cell_type": "code",
   "execution_count": null,
   "id": "encouraging-fraction",
   "metadata": {},
   "outputs": [],
   "source": [
    "# visualize request results\n",
    "data = get_futures_dataframe(response)\n",
    "display(data)"
   ]
  },
  {
   "cell_type": "markdown",
   "id": "given-provision",
   "metadata": {},
   "source": [
    "##### 3.3.3 Future - by Ticker"
   ]
  },
  {
   "cell_type": "code",
   "execution_count": null,
   "id": "clear-error",
   "metadata": {},
   "outputs": [],
   "source": [
    "# generate static data request\n",
    "request = static_data.StaticDataRequest( \n",
    "    asset_type = static_data.AssetType.ASSET_TYPE_FUTURE\n",
    ")\n",
    "\n",
    "# add future ticker as per filter value\n",
    "request.ticker.value = 'WBSH20'"
   ]
  },
  {
   "cell_type": "code",
   "execution_count": null,
   "id": "danish-confidentiality",
   "metadata": {},
   "outputs": [],
   "source": [
    "try:\n",
    "    # open a gRPC channel\n",
    "    with channel_helpers.get_grpc_channel() as channel:  \n",
    "        \n",
    "        # instantiate the static data service\n",
    "        service = static_data_service.StaticDataServiceStub(channel)\n",
    "        \n",
    "        # process the request\n",
    "        response = service.StaticData(request = request, metadata = [('authorization', token)])\n",
    "except grpc.RpcError as e:\n",
    "    display(e.code().name)\n",
    "    display(e.details())"
   ]
  },
  {
   "cell_type": "code",
   "execution_count": null,
   "id": "defensive-natural",
   "metadata": {},
   "outputs": [],
   "source": [
    "# visualize request results\n",
    "data = get_futures_dataframe(response)\n",
    "display(data)"
   ]
  },
  {
   "cell_type": "markdown",
   "id": "homeless-packaging",
   "metadata": {},
   "source": [
    "##### 4.3.4 Future - by Category"
   ]
  },
  {
   "cell_type": "code",
   "execution_count": null,
   "id": "completed-afternoon",
   "metadata": {},
   "outputs": [],
   "source": [
    "# generate static data request\n",
    "request = static_data.StaticDataRequest( \n",
    "    asset_type = static_data.AssetType.ASSET_TYPE_FUTURE\n",
    ")\n",
    "\n",
    "# add future ticker as per filter value\n",
    "request.future_category.value = 'Crude Oil'"
   ]
  },
  {
   "cell_type": "code",
   "execution_count": null,
   "id": "equivalent-malta",
   "metadata": {},
   "outputs": [],
   "source": [
    "try:\n",
    "    # open a gRPC channel\n",
    "    with channel_helpers.get_grpc_channel() as channel:  \n",
    "        \n",
    "        # instantiate the static data service\n",
    "        service = static_data_service.StaticDataServiceStub(channel)\n",
    "        \n",
    "        # process the request\n",
    "        response = service.StaticData(request = request, metadata = [('authorization', token)])\n",
    "except grpc.RpcError as e:\n",
    "    display(e.code().name)\n",
    "    display(e.details())"
   ]
  },
  {
   "cell_type": "code",
   "execution_count": null,
   "id": "unauthorized-being",
   "metadata": {},
   "outputs": [],
   "source": [
    "# visualize request results\n",
    "data = get_futures_dataframe(response)\n",
    "display(data)"
   ]
  },
  {
   "cell_type": "markdown",
   "id": "through-sponsorship",
   "metadata": {},
   "source": [
    "#### 3.4 Retrieve reference data - ETFs\n",
    "\n",
    "To request for futures, the user must specify the asset_type as <i>`AssetType.ASSET_TYPE_ETF`</i> in the static data request."
   ]
  },
  {
   "cell_type": "code",
   "execution_count": null,
   "id": "offshore-tournament",
   "metadata": {},
   "outputs": [],
   "source": [
    "# Define a method to transform the ETFs in a response into a Pandas dataframe\n",
    "def get_etfs_dataframe(response):\n",
    "    identifier = ['{0}|{1}'.format(etf.identifier.ticker, etf.identifier.exchange) for etf in response.etfs]\n",
    "    type = [etf.type for etf in response.etfs]\n",
    "    country = [etf.country for etf in response.etfs]\n",
    "    name = [etf.name for etf in response.etfs]\n",
    "    currency = [etf.currency for etf in response.etfs]\n",
    "    primary = [etf.primary for etf in response.etfs]\n",
    "    tick_size_rule = [etf.tick_size_rule for etf in response.etfs]\n",
    "    mapping = [get_mapping(etf.mapping) for etf in response.etfs]\n",
    "    index = [etf.index for etf in response.etfs]\n",
    "    open = [etf.open for etf in response.etfs]\n",
    "    close = [etf.close for etf in response.etfs]\n",
    "    time_zone = [etf.time_zone for etf in response.etfs]\n",
    "    lot_size = [etf.lot_size for etf in response.etfs]\n",
    "    point_value = [etf.point_value for etf in response.etfs]\n",
    "    isin = [etf.isin for etf in response.etfs]\n",
    "    cusip = [etf.cusip for etf in response.etfs]\n",
    "    sedol = [etf.sedol for etf in response.etfs]\n",
    "    sectors = [get_sectors(etf.sectors) for etf in response.etfs]\n",
    "    capitalization = [etf.capitalization.value for etf in response.etfs]\n",
    "    \n",
    "    # Create pandas dataframe\n",
    "    d = {'Identifier': identifier, 'Type': type, 'Country': country, 'Name': name, 'Currency': currency, 'Primary': primary, 'TickSizeRule': tick_size_rule, 'Mapping':mapping, 'Index': index, 'Open': open, 'Close': close, 'Time zone': time_zone, 'Lot size': lot_size, 'PointValue': point_value, 'Isin': isin, 'Cusip': cusip, 'Sedol': sedol, 'Sectors': sectors, 'Capitalization': capitalization}\n",
    "    df = pd.DataFrame(data=d)\n",
    "    return df"
   ]
  },
  {
   "cell_type": "markdown",
   "id": "greater-specialist",
   "metadata": {},
   "source": [
    "##### 3.4.1 ETF - by Name"
   ]
  },
  {
   "cell_type": "code",
   "execution_count": null,
   "id": "innocent-scanner",
   "metadata": {},
   "outputs": [],
   "source": [
    "# generate static data request\n",
    "request = static_data.StaticDataRequest( \n",
    "    asset_type = static_data.AssetType.ASSET_TYPE_ETF\n",
    ")\n",
    "\n",
    "# add name as per filter value\n",
    "request.name.value = 'Ishares Trust Iboxx Usd High Yield Corporate Bond Etf'"
   ]
  },
  {
   "cell_type": "code",
   "execution_count": null,
   "id": "nonprofit-geology",
   "metadata": {},
   "outputs": [],
   "source": [
    "try:\n",
    "    # open a gRPC channel\n",
    "    with channel_helpers.get_grpc_channel() as channel:  \n",
    "        \n",
    "        # instantiate the static data service\n",
    "        service = static_data_service.StaticDataServiceStub(channel)\n",
    "        \n",
    "        # process the request\n",
    "        response = service.StaticData(\n",
    "            request = request, \n",
    "            metadata = [('authorization', token)]\n",
    "        )\n",
    "except grpc.RpcError as e:\n",
    "    display(e.code().name)\n",
    "    display(e.details())"
   ]
  },
  {
   "cell_type": "code",
   "execution_count": null,
   "id": "drawn-remains",
   "metadata": {},
   "outputs": [],
   "source": [
    "# visualize request results\n",
    "data = get_etfs_dataframe(response)\n",
    "display(data)"
   ]
  },
  {
   "cell_type": "markdown",
   "id": "abroad-logging",
   "metadata": {},
   "source": [
    "##### 3.4.2 ETF - by MIC code"
   ]
  },
  {
   "cell_type": "code",
   "execution_count": null,
   "id": "cardiovascular-reunion",
   "metadata": {},
   "outputs": [],
   "source": [
    "# generate static data request\n",
    "request = static_data.StaticDataRequest( \n",
    "    asset_type = static_data.AssetType.ASSET_TYPE_ETF\n",
    ")\n",
    "\n",
    "request.exchange.value = 'XNYS' # add exchange Code as per filter value\n",
    "request.count.value = 3 # select the first elements\n",
    "request.start.value = 2 # starting from element index"
   ]
  },
  {
   "cell_type": "code",
   "execution_count": null,
   "id": "renewable-series",
   "metadata": {},
   "outputs": [],
   "source": [
    "try:\n",
    "    # open a gRPC channel\n",
    "    with channel_helpers.get_grpc_channel() as channel:  \n",
    "        \n",
    "        # instantiate the static data service\n",
    "        service = static_data_service.StaticDataServiceStub(channel)\n",
    "        \n",
    "        # process the request\n",
    "        response = service.StaticData(request = request, metadata = [('authorization', token)])\n",
    "except grpc.RpcError as e:\n",
    "    display(e.code().name)\n",
    "    display(e.details())"
   ]
  },
  {
   "cell_type": "code",
   "execution_count": null,
   "id": "lesbian-seafood",
   "metadata": {},
   "outputs": [],
   "source": [
    "# visualize request results\n",
    "data = get_etfs_dataframe(response)\n",
    "display(data)"
   ]
  },
  {
   "cell_type": "markdown",
   "id": "interpreted-train",
   "metadata": {},
   "source": [
    "##### 3.4.3 ETF - by ticker"
   ]
  },
  {
   "cell_type": "code",
   "execution_count": null,
   "id": "thousand-viking",
   "metadata": {},
   "outputs": [],
   "source": [
    "# generate static data request\n",
    "request = static_data.StaticDataRequest( \n",
    "    asset_type = static_data.AssetType.ASSET_TYPE_ETF\n",
    ")\n",
    "\n",
    "# add ticker as per filter value\n",
    "request.ticker.value = 'HYG'"
   ]
  },
  {
   "cell_type": "code",
   "execution_count": null,
   "id": "usual-friendly",
   "metadata": {},
   "outputs": [],
   "source": [
    "try:\n",
    "    # open a gRPC channel\n",
    "    with channel_helpers.get_grpc_channel() as channel:  \n",
    "        \n",
    "        # instantiate the static data service\n",
    "        service = static_data_service.StaticDataServiceStub(channel)\n",
    "        \n",
    "        # process the request\n",
    "        response = service.StaticData(request = request, metadata = [('authorization', token)])\n",
    "except grpc.RpcError as e:\n",
    "    display(e.code().name)\n",
    "    display(e.details())"
   ]
  },
  {
   "cell_type": "code",
   "execution_count": null,
   "id": "serious-advocacy",
   "metadata": {},
   "outputs": [],
   "source": [
    "# visualize request results\n",
    "data = get_etfs_dataframe(response)\n",
    "display(data)"
   ]
  },
  {
   "cell_type": "markdown",
   "id": "refined-groove",
   "metadata": {},
   "source": [
    "##### 3.4.4 Equity - by Ticker + MIC code"
   ]
  },
  {
   "cell_type": "code",
   "execution_count": null,
   "id": "missing-watershed",
   "metadata": {},
   "outputs": [],
   "source": [
    "# generate static data request\n",
    "request = static_data.StaticDataRequest( \n",
    "    asset_type = static_data.AssetType.ASSET_TYPE_ETF\n",
    ")\n",
    "\n",
    "# add ticker + exchange code as per filter values\n",
    "request.ticker.value = 'IBB'\n",
    "request.exchange.value = 'XNMS'"
   ]
  },
  {
   "cell_type": "code",
   "execution_count": null,
   "id": "incomplete-naples",
   "metadata": {},
   "outputs": [],
   "source": [
    "try:\n",
    "    # open a gRPC channel\n",
    "    with channel_helpers.get_grpc_channel() as channel:  \n",
    "        \n",
    "        # instantiate the static data service\n",
    "        service = static_data_service.StaticDataServiceStub(channel)\n",
    "        \n",
    "        # process the request\n",
    "        response = service.StaticData(request = request, metadata = [('authorization', token)])\n",
    "except grpc.RpcError as e:\n",
    "    display(e.code().name)\n",
    "    display(e.details())"
   ]
  },
  {
   "cell_type": "code",
   "execution_count": null,
   "id": "tested-zoning",
   "metadata": {},
   "outputs": [],
   "source": [
    "# visualize request results\n",
    "data = get_etfs_dataframe(response)\n",
    "display(data)"
   ]
  }
 ],
 "metadata": {
  "kernelspec": {
   "display_name": "Python 3.10.4 64-bit",
   "language": "python",
   "name": "python3"
  },
  "language_info": {
   "codemirror_mode": {
    "name": "ipython",
    "version": 3
   },
   "file_extension": ".py",
   "mimetype": "text/x-python",
   "name": "python",
   "nbconvert_exporter": "python",
   "pygments_lexer": "ipython3",
   "version": "3.10.4"
  },
  "vscode": {
   "interpreter": {
    "hash": "916dbcbb3f70747c44a77c7bcd40155683ae19c65e1c03b4aa3499c5328201f1"
   }
  }
 },
 "nbformat": 4,
 "nbformat_minor": 5
}
