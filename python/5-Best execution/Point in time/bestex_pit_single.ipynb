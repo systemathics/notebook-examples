{
 "cells": [
  {
   "cell_type": "markdown",
   "id": "political-float",
   "metadata": {},
   "source": [
    "# Generate point-in-time best execution data using dedicated service - Python\n",
    "\n",
    "### Overview\n",
    "Best execution aims to measure the performance of executed trades, an execution algorithm or an execution venue.\n",
    "\n",
    "This sample is based on an `point-in-time` approach and designed to highlight individual trades within market activity over a look back period. \n",
    "\n",
    "<div class=\"alert alert-block alert-info\">\n",
    "    <b>Note:</b> To explore the interval approach, suitable to analyze market activity over a look back period. Please refer to <i>bestex-interval</i> notebooks.\n",
    "</div>\n",
    "\n",
    "This sample demonstrates how to request and plot from a dedicated data service **on-demand** best execution *point-in-time* results.\n",
    "\n",
    "### Inputs/outputs\n",
    "Best execution PIT sample requires instrument's identifier, **single trade** and time window as per inputs. Results are as follows:\n",
    "* a snapshot of occured trades around the given trade based on the input time window\n",
    "\n",
    "### Services used\n",
    "This sample uses *gRPC requests* in order to retrieve trades information from the hosted service. The queried endpoint in this script are:\n",
    "* *TickTradesService*: to directly retrieve trades data from the server.\n",
    "\n",
    "### Modules required\n",
    "1. Systemathics:\n",
    "    * *systemathics.apis.services.tick.v1*\n",
    "    * *systemathics.apis.type.shared.v1*\n",
    "    * *google.type*\n",
    "2. Open source:\n",
    "    * *googleapis-common-protos*\n",
    "    * *protobuf*\n",
    "    * *grpcio*\n",
    "    * *pandas*\n",
    "    * *matpotlib* as per display package\n",
    "    \n",
    "***\n"
   ]
  },
  {
   "cell_type": "markdown",
   "id": "aggregate-limit",
   "metadata": {},
   "source": [
    "# Run BestEx Point-in-time sample"
   ]
  },
  {
   "cell_type": "markdown",
   "id": "linear-albany",
   "metadata": {},
   "source": [
    "### Step 1: Install packages and import them"
   ]
  },
  {
   "cell_type": "code",
   "execution_count": null,
   "id": "colored-objective",
   "metadata": {},
   "outputs": [],
   "source": [
    "pip install googleapis-common-protos protobuf grpcio pandas matplotlib plotly"
   ]
  },
  {
   "cell_type": "code",
   "execution_count": null,
   "id": "steady-rugby",
   "metadata": {},
   "outputs": [],
   "source": [
    "pip install systemathics.apis==2.38.* --pre"
   ]
  },
  {
   "cell_type": "code",
   "execution_count": null,
   "id": "incorporated-breach",
   "metadata": {},
   "outputs": [],
   "source": [
    "import os\n",
    "import grpc\n",
    "import pandas as pd\n",
    "from datetime import datetime\n",
    "from datetime import timedelta\n",
    "import google.type.date_pb2 as date\n",
    "import google.type.timeofday_pb2 as timeofday\n",
    "import google.type.dayofweek_pb2 as dayofweek\n",
    "import google.protobuf.duration_pb2 as duration\n",
    "import systemathics.apis.type.shared.v1.identifier_pb2 as identifier\n",
    "import systemathics.apis.type.shared.v1.constraints_pb2 as constraints\n",
    "import systemathics.apis.type.shared.v1.date_interval_pb2 as dateinterval\n",
    "import systemathics.apis.type.shared.v1.time_interval_pb2 as timeinterval\n",
    "import systemathics.apis.services.tick.v1.tick_trades_pb2 as tick_trades\n",
    "import systemathics.apis.services.tick.v1.tick_trades_pb2_grpc as tick_trades_service\n",
    "import systemathics.apis.helpers.token_helpers as token_helpers\n",
    "import systemathics.apis.helpers.channel_helpers as channel_helpers"
   ]
  },
  {
   "cell_type": "markdown",
   "id": "liked-moscow",
   "metadata": {},
   "source": [
    "### Step 2: Retrieve authentication token\n",
    "The following code snippet sends authentication request and print token to console output in order to process the upcomming *gRPC queries*."
   ]
  },
  {
   "cell_type": "code",
   "execution_count": null,
   "id": "expressed-respect",
   "metadata": {},
   "outputs": [],
   "source": [
    "token = token_helpers.get_token()\n",
    "display(token)"
   ]
  },
  {
   "cell_type": "markdown",
   "id": "honey-brake",
   "metadata": {},
   "source": [
    "### Step 3: Create and process request"
   ]
  },
  {
   "cell_type": "markdown",
   "id": "professional-strand",
   "metadata": {},
   "source": [
    "#### 3.1 Instrument selection"
   ]
  },
  {
   "cell_type": "code",
   "execution_count": null,
   "id": "indonesian-stake",
   "metadata": {},
   "outputs": [],
   "source": [
    "# set instrument identifier: exchange + ticker\n",
    "ticker = 'AAPL'\n",
    "exchange = 'BATS'\n",
    "\n",
    "# set the time window to delimit the input trade\n",
    "window = 15"
   ]
  },
  {
   "cell_type": "markdown",
   "id": "concerned-visitor",
   "metadata": {},
   "source": [
    "#### 3.2 Trade parameters"
   ]
  },
  {
   "cell_type": "markdown",
   "id": "continuous-handy",
   "metadata": {},
   "source": [
    "We assume our trade is the following:"
   ]
  },
  {
   "cell_type": "code",
   "execution_count": null,
   "id": "deadly-disability",
   "metadata": {},
   "outputs": [],
   "source": [
    "timestamp = datetime(2021, 11, 5, 12, 25, 39)\n",
    "micros = 469200\n",
    "price = 151.05\n",
    "size = 13"
   ]
  },
  {
   "cell_type": "markdown",
   "id": "military-craps",
   "metadata": {},
   "source": [
    "#### 3.2 Time period delimitation"
   ]
  },
  {
   "cell_type": "code",
   "execution_count": null,
   "id": "unable-poker",
   "metadata": {},
   "outputs": [],
   "source": [
    "# create date interval (we are using Google date format)\n",
    "date_interval = dateinterval.DateInterval(\n",
    "    start_date = date.Date(year = timestamp.year, month = timestamp.month, day = timestamp.day), \n",
    "    end_date = date.Date(year = timestamp.year, month = timestamp.month, day = timestamp.day)\n",
    ")\n",
    "\n",
    "# create time interval (we are using Google time format)\n",
    "# UTC time zone\n",
    "start = timestamp - timedelta(minutes = window)\n",
    "end = timestamp + timedelta(minutes = window)\n",
    "time_interval = timeinterval.TimeInterval(\n",
    "    start_time = timeofday.TimeOfDay(hours = start.hour, minutes = start.minute, seconds = start.second), \n",
    "    end_time = timeofday.TimeOfDay(hours = end.hour, minutes = end.minute, seconds = end.second)\n",
    ")"
   ]
  },
  {
   "cell_type": "markdown",
   "id": "binding-television",
   "metadata": {},
   "source": [
    "#### 3.3 Request creation\n",
    "The following code snippet creates *gRPC client*, process request and returns the request reply:"
   ]
  },
  {
   "cell_type": "code",
   "execution_count": null,
   "id": "complimentary-prerequisite",
   "metadata": {},
   "outputs": [],
   "source": [
    "# generate constraints based on the previous time selection\n",
    "my_constraints = constraints.Constraints(\n",
    "    date_intervals = [date_interval],\n",
    "    time_intervals = [time_interval],\n",
    ")"
   ]
  },
  {
   "cell_type": "code",
   "execution_count": null,
   "id": "trained-strap",
   "metadata": {},
   "outputs": [],
   "source": [
    "# generate the tick trades request\n",
    "my_identifier = identifier.Identifier(exchange = exchange, ticker = ticker)\n",
    "request = tick_trades.TickTradesRequest(\n",
    "    identifiers = [my_identifier],\n",
    "    constraints = my_constraints\n",
    ")"
   ]
  },
  {
   "cell_type": "code",
   "execution_count": null,
   "id": "stopped-midwest",
   "metadata": {},
   "outputs": [],
   "source": [
    "try:\n",
    "    # open a gRPC channel\n",
    "    with channel_helpers.get_grpc_channel() as channel:  \n",
    "\n",
    "        # instantiate the tick trades service\n",
    "        service = tick_trades_service.TickTradesServiceStub(channel)\n",
    "        \n",
    "        # process the tick trades request\n",
    "        trades = []\n",
    "        metadata = [('authorization', token)]\n",
    "        for trade in service.TickTrades(request=request, metadata=metadata):\n",
    "            if trade.data:\n",
    "                trades.append(trade)\n",
    "\n",
    "    # keep only trades, delete instrument mapping (1st element retrieved)\n",
    "    # mapping is not used as only one instrument identifier is requested\n",
    "    del trades[0]\n",
    "except grpc.RpcError as e:\n",
    "    display(e.code().name)\n",
    "    display(e.details())"
   ]
  },
  {
   "cell_type": "markdown",
   "id": "introductory-waters",
   "metadata": {},
   "source": [
    "The following code snippet displays the total retrieved trades count:"
   ]
  },
  {
   "cell_type": "code",
   "execution_count": null,
   "id": "opponent-nigeria",
   "metadata": {},
   "outputs": [],
   "source": [
    "print('Total trades retrieved: {0}'.format(len(trades)))"
   ]
  },
  {
   "cell_type": "markdown",
   "id": "dated-particular",
   "metadata": {},
   "source": [
    "### Step 4: Visualize data"
   ]
  },
  {
   "cell_type": "markdown",
   "id": "republican-spring",
   "metadata": {},
   "source": [
    "#### 4.1 Retrieve market data\n",
    "In the following code snippets, the reply is reprocessed in a data frame in order to visualize the results with ease:"
   ]
  },
  {
   "cell_type": "code",
   "execution_count": null,
   "id": "clinical-breakdown",
   "metadata": {},
   "outputs": [],
   "source": [
    "# prepare the dataframe content\n",
    "dates = [(datetime.fromtimestamp(t.data.time_stamp.seconds) + timedelta(microseconds = t.data.time_stamp.nanos/1000)) for t in trades]\n",
    "prices = [t.data.trade.price for t in trades]\n",
    "sizes = [t.data.trade.size for t in trades]"
   ]
  },
  {
   "cell_type": "code",
   "execution_count": null,
   "id": "opposed-estimate",
   "metadata": {},
   "outputs": [],
   "source": [
    "# create a pandas dataframe with: dates, trades prices and sizes\n",
    "d = {'Date': dates, 'Price': prices, 'Size': sizes}\n",
    "df = pd.DataFrame(data=d)\n",
    "df"
   ]
  },
  {
   "cell_type": "markdown",
   "id": "composed-property",
   "metadata": {},
   "source": [
    "#### 4.2 Retrieve input trade"
   ]
  },
  {
   "cell_type": "code",
   "execution_count": null,
   "id": "varying-feelings",
   "metadata": {},
   "outputs": [],
   "source": [
    "# user input timestamp is split into datetime and microseconds input to preserve trade accuracy\n",
    "timestamp += timedelta(microseconds = micros)"
   ]
  },
  {
   "cell_type": "markdown",
   "id": "circular-contact",
   "metadata": {},
   "source": [
    "#### 4.3 Plot trades with matplotlib"
   ]
  },
  {
   "cell_type": "code",
   "execution_count": null,
   "id": "sudden-alberta",
   "metadata": {},
   "outputs": [],
   "source": [
    "import matplotlib.pyplot as plt\n",
    "\n",
    "fig,ax = plt.subplots(1,1,figsize=(25,10))\n",
    "# add price plots\n",
    "ax.plot('Date', 'Price', data=df, marker='', color='blue', alpha =0.25, linewidth=2, label=\"Price\")\n",
    "ax.plot(timestamp, price, color='blue', linestyle='None', marker='D', markersize=10, label=\"Input trade price\")\n",
    "\n",
    "# add twin x-axis for size plot\n",
    "ax2=ax.twinx()\n",
    "ax2.plot('Date', 'Size', data=df, marker='', color='red', alpha =0.25, linewidth=2, label=\"Size\")\n",
    "ax2.plot(timestamp, size, color='red', linestyle='None', marker='D', markersize=10, label=\"Input trade size\")\n",
    "\n",
    "# set graph layout\n",
    "ax.set_xlabel(\"Date\",fontsize=14)\n",
    "ax.set_ylabel(\"Price\",color=\"blue\",fontsize=14)\n",
    "ax2.set_ylabel(\"Size\",color=\"red\",fontsize=14)\n",
    "plt.title('Input trade within market snapshot for {0}-{1}'.format(ticker, exchange))\n",
    "ax.legend(loc='upper left')\n",
    "plt.legend(loc='upper right')\n",
    "plt.show()"
   ]
  }
 ],
 "metadata": {
  "kernelspec": {
   "display_name": "Python 3.10.4 64-bit",
   "language": "python",
   "name": "python3"
  },
  "language_info": {
   "codemirror_mode": {
    "name": "ipython",
    "version": 3
   },
   "file_extension": ".py",
   "mimetype": "text/x-python",
   "name": "python",
   "nbconvert_exporter": "python",
   "pygments_lexer": "ipython3",
   "version": "3.10.4"
  },
  "vscode": {
   "interpreter": {
    "hash": "916dbcbb3f70747c44a77c7bcd40155683ae19c65e1c03b4aa3499c5328201f1"
   }
  }
 },
 "nbformat": 4,
 "nbformat_minor": 5
}
