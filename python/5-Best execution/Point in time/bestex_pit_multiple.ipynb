{
 "cells": [
  {
   "cell_type": "markdown",
   "id": "2fcd2ed4",
   "metadata": {},
   "source": [
    "# Generate point-in-time best execution data using dedicated service - Python\n",
    "\n",
    "### Overview\n",
    "Best execution aims to measure the performance of executed trades, an execution algorithm or an execution venue.\n",
    "\n",
    "This sample is based on an `point-in-time` approach and designed to highlight individual trades within market activity over a look back period. \n",
    "\n",
    "<div class=\"alert alert-block alert-info\">\n",
    "    <b>Note:</b> To explore the interval approach, suitable to analyze market activity over a look back period. Please refer to <i>bestex-interval</i> notebooks.\n",
    "</div>\n",
    "\n",
    "This sample demonstrates how to request and plot from a dedicated data service **on-demand** best execution *point-in-time* results.\n",
    "\n",
    "### Inputs/outputs\n",
    "Best execution PIT sample requires instrument's identifier, **a list of trades** and time window as per inputs. Results are as follows:\n",
    "* a snapshot of occured trades around the given trade based on the input time window\n",
    "* plot the request result and export data\n",
    "\n",
    "### Services used\n",
    "This sample uses *gRPC requests* in order to retrieve trades information from the hosted service. The queried endpoint in this script are:\n",
    "* *TickTradesService*: to directly retrieve trades data from the server.\n",
    "\n",
    "### Modules required\n",
    "1. Systemathics:\n",
    "    * *systemathics.apis.services.tick.v1*\n",
    "    * *systemathics.apis.type.shared.v1*\n",
    "    * *google.type*\n",
    "2. Open source:\n",
    "    * *googleapis-common-protos*\n",
    "    * *protobuf*\n",
    "    * *grpcio*\n",
    "    * *pandas*\n",
    "    * *matpotlib* as per display package\n",
    "    \n",
    "***\n"
   ]
  },
  {
   "cell_type": "markdown",
   "id": "16a658a3",
   "metadata": {},
   "source": [
    "# Run BestEx Point-in-time sample"
   ]
  },
  {
   "cell_type": "markdown",
   "id": "421534dc",
   "metadata": {},
   "source": [
    "### Step 1: Install packages and import them"
   ]
  },
  {
   "cell_type": "code",
   "execution_count": null,
   "id": "69bfa98c",
   "metadata": {},
   "outputs": [],
   "source": [
    "pip install googleapis-common-protos protobuf grpcio pandas matplotlib plotly"
   ]
  },
  {
   "cell_type": "code",
   "execution_count": null,
   "id": "2e5c7841",
   "metadata": {},
   "outputs": [],
   "source": [
    "pip install systemathics.apis --pre"
   ]
  },
  {
   "cell_type": "code",
   "execution_count": null,
   "id": "d23f839a",
   "metadata": {},
   "outputs": [],
   "source": [
    "import os\n",
    "import grpc\n",
    "import pandas as pd\n",
    "from datetime import datetime\n",
    "from datetime import timedelta\n",
    "import google.type.date_pb2 as date\n",
    "import google.type.timeofday_pb2 as timeofday\n",
    "import google.type.dayofweek_pb2 as dayofweek\n",
    "import google.protobuf.duration_pb2 as duration\n",
    "import systemathics.apis.type.shared.v1.identifier_pb2 as identifier\n",
    "import systemathics.apis.type.shared.v1.constraints_pb2 as constraints\n",
    "import systemathics.apis.type.shared.v1.date_interval_pb2 as dateinterval\n",
    "import systemathics.apis.type.shared.v1.time_interval_pb2 as timeinterval\n",
    "import systemathics.apis.services.tick.v1.tick_trades_pb2 as tick_trades\n",
    "import systemathics.apis.services.tick.v1.tick_trades_pb2_grpc as tick_trades_service\n",
    "import systemathics.apis.helpers.token_helpers as token_helpers\n",
    "import systemathics.apis.helpers.channel_helpers as channel_helpers"
   ]
  },
  {
   "cell_type": "markdown",
   "id": "b49caacf",
   "metadata": {},
   "source": [
    "### Step 2: Retrieve authentication token\n",
    "The following code snippet sends authentication request and print token to console output in order to process the upcomming *gRPC queries*."
   ]
  },
  {
   "cell_type": "code",
   "execution_count": null,
   "id": "b673b465",
   "metadata": {},
   "outputs": [],
   "source": [
    "token = token_helpers.get_token()\n",
    "display(token)"
   ]
  },
  {
   "cell_type": "markdown",
   "id": "3625b10b",
   "metadata": {},
   "source": [
    "### Step 3: Create and process request"
   ]
  },
  {
   "cell_type": "markdown",
   "id": "6f36d5b3",
   "metadata": {},
   "source": [
    "#### 3.1 Input trades import\n",
    "We assume our trades are in a *csv file* that we imported in the same folder as the current data sample.\n",
    "\n",
    "We aim to to ensure that it was the best possible execution for each and every trade. To do so, we have to retrieve the *trades as a market snapshot* and mark out the *individual trades*.\n",
    "\n",
    "The following code snippets import *individual trades* from the *csv file*:"
   ]
  },
  {
   "cell_type": "code",
   "execution_count": null,
   "id": "7bfbbd7c",
   "metadata": {},
   "outputs": [],
   "source": [
    "df_input = pd.read_csv(\"input_trades.csv\")\n",
    "df_input = df_input.sort_values(by=\"Timestamp\")\n",
    "df_input"
   ]
  },
  {
   "cell_type": "markdown",
   "id": "101aeb84",
   "metadata": {},
   "source": [
    "#### 3.2 Instrument & time window selection"
   ]
  },
  {
   "cell_type": "code",
   "execution_count": null,
   "id": "6582f998",
   "metadata": {},
   "outputs": [],
   "source": [
    "# set instrument identifier: exchange + ticker\n",
    "ticker = 'AAPL'\n",
    "exchange = 'BATS'\n",
    "\n",
    "# set the time window in minutes to delimit each input trade\n",
    "window = 5"
   ]
  },
  {
   "cell_type": "markdown",
   "id": "1ecc9968",
   "metadata": {},
   "source": [
    "#### 3.3 Time period delimitation"
   ]
  },
  {
   "cell_type": "code",
   "execution_count": null,
   "id": "df5c79fb",
   "metadata": {},
   "outputs": [],
   "source": [
    "time_format = '%Y-%m-%dT%H:%M:%S.%fZ'\n",
    "\n",
    "# create date interval (we are using Google date format)\n",
    "first_date = datetime.strptime(df_input['Timestamp'][0], time_format).date()\n",
    "last_date = datetime.strptime(df_input['Timestamp'][df_input.index[-1]], time_format).date()\n",
    "\n",
    "date_interval = dateinterval.DateInterval(\n",
    "    start_date = date.Date(year = first_date.year, month = first_date.month, day = first_date.day), \n",
    "    end_date = date.Date(year = last_date.year, month = last_date.month, day = last_date.day)\n",
    ")\n",
    "\n",
    "# create time interval (we are using Google time format)\n",
    "# UTC time zone\n",
    "start_time = datetime.strptime(df_input['Timestamp'][0], time_format) - timedelta(minutes = window)\n",
    "end_time = datetime.strptime(df_input['Timestamp'][df_input.index[-1]], time_format) + timedelta(minutes = window)\n",
    "\n",
    "time_interval = timeinterval.TimeInterval(\n",
    "    start_time = timeofday.TimeOfDay(hours = start_time.hour, minutes = start_time.minute, seconds = start_time.second), \n",
    "    end_time = timeofday.TimeOfDay(hours = end_time.hour, minutes = end_time.minute, seconds = end_time.second)\n",
    ")"
   ]
  },
  {
   "cell_type": "markdown",
   "id": "b05b549c",
   "metadata": {},
   "source": [
    "#### 3.4 Request creation\n",
    "The following code snippet creates *gRPC client*, process request and returns the request reply:"
   ]
  },
  {
   "cell_type": "code",
   "execution_count": null,
   "id": "9909eb4f",
   "metadata": {},
   "outputs": [],
   "source": [
    "# generate constraints based on the previous time selection\n",
    "constraints = constraints.Constraints(\n",
    "    date_intervals = [date_interval],\n",
    "    time_intervals = [time_interval],\n",
    ")"
   ]
  },
  {
   "cell_type": "code",
   "execution_count": null,
   "id": "32c1ad29",
   "metadata": {},
   "outputs": [],
   "source": [
    "# generate the tick trades request\n",
    "identifier = identifier.Identifier(exchange = exchange, ticker = ticker)\n",
    "request = tick_trades.TickTradesRequest(\n",
    "    identifiers = [identifier],\n",
    "    constraints = constraints\n",
    ")"
   ]
  },
  {
   "cell_type": "code",
   "execution_count": null,
   "id": "2d64f194",
   "metadata": {},
   "outputs": [],
   "source": [
    "try:\n",
    "    # open a gRPC channel\n",
    "    with channel_helpers.get_grpc_channel() as channel:  \n",
    "        \n",
    "        # instantiate the tick trades service\n",
    "        service = tick_trades_service.TickTradesServiceStub(channel)\n",
    "        \n",
    "        # process the tick trades request\n",
    "        trades = []\n",
    "        metadata = [('authorization', token)]\n",
    "        for trade in service.TickTrades(request=request, metadata=metadata):\n",
    "            if trade.trade:\n",
    "                trades.append(trade.trade)\n",
    "\n",
    "    # keep only trades, delete instrument mapping (1st element retrieved)\n",
    "    # mapping is not used as only one instrument identifier is requested\n",
    "    del trades[0]\n",
    "except grpc.RpcError as e:\n",
    "    display(e.code().name)\n",
    "    display(e.details())"
   ]
  },
  {
   "cell_type": "markdown",
   "id": "8f6e0195",
   "metadata": {},
   "source": [
    "The following code snippet displays the total retrieved trades count:"
   ]
  },
  {
   "cell_type": "code",
   "execution_count": null,
   "id": "65ae699d",
   "metadata": {},
   "outputs": [],
   "source": [
    "print('Total trades retrieved: {0}'.format(len(trades)))"
   ]
  },
  {
   "cell_type": "markdown",
   "id": "1d20dc21",
   "metadata": {},
   "source": [
    "### Step 4: Visualize data"
   ]
  },
  {
   "cell_type": "markdown",
   "id": "bc849c43",
   "metadata": {},
   "source": [
    "#### 4.1 Retrieve data\n",
    "In the following code snippets, the reply is reprocessed in a data frame in order to visualize the results with ease:"
   ]
  },
  {
   "cell_type": "code",
   "execution_count": null,
   "id": "6512c971",
   "metadata": {},
   "outputs": [],
   "source": [
    "# prepare the dataframe content\n",
    "dates = [(datetime.fromtimestamp(t.time_stamp.seconds) + timedelta(microseconds = t.time_stamp.nanos/1000)) for t in trades]\n",
    "prices = [t.price for t in trades]\n",
    "sizes = [t.size for t in trades]"
   ]
  },
  {
   "cell_type": "code",
   "execution_count": null,
   "id": "43c91389",
   "metadata": {},
   "outputs": [],
   "source": [
    "# create a pandas dataframe with: dates, trades prices and sizes\n",
    "d = {'Date': dates, 'Price': prices, 'Size': sizes}\n",
    "df_market = pd.DataFrame(data=d)\n",
    "df_market"
   ]
  },
  {
   "cell_type": "markdown",
   "id": "0791ab81",
   "metadata": {},
   "source": [
    "#### 4.2 Plot trades with matplotlib"
   ]
  },
  {
   "cell_type": "code",
   "execution_count": null,
   "id": "37b6377f-4054-48e3-8212-74caa5628244",
   "metadata": {},
   "outputs": [],
   "source": [
    "import matplotlib.pyplot as plt\n",
    "\n",
    "fig,ax = plt.subplots(1,1,figsize=(25,10))\n",
    "# Add labels to the plot\n",
    "ax.plot('Date', 'Price', data=df_market, marker='', color='blue', alpha = 0.5, linewidth=2, label=\"Price\")\n",
    "timestamps = [datetime.strptime(elt, time_format) for elt in df_input['Timestamp']]\n",
    "ax.plot(timestamps, df_input['Price'], color='blue', linestyle='None', marker='D', markersize=10, label=\"Input trade price\")\n",
    "\n",
    "# twin x-axis for two different y-axis\n",
    "ax2=ax.twinx()\n",
    "ax2.plot('Date', 'Size', data=df_market, marker='', color='red', alpha = 0.25, linewidth=2, label=\"Size\")\n",
    "ax2.plot(timestamps, df_input['Size'], color='red', linestyle='None', marker='D', markersize=10, label=\"Input trade size\")\n",
    "\n",
    "# set graph title and axis label\n",
    "ax.set_xlabel(\"Date\",fontsize=14)\n",
    "ax.set_ylabel(\"Price\",color=\"blue\",fontsize=14)\n",
    "ax2.set_ylabel(\"Size\",color=\"red\", fontsize=14)\n",
    "plt.title('Input trade within market snapshot for {0}-{1}'.format(ticker, exchange))\n",
    "ax.legend(loc='upper left')\n",
    "plt.legend(loc='upper right')\n",
    "plt.show()"
   ]
  },
  {
   "cell_type": "markdown",
   "id": "856b0102",
   "metadata": {},
   "source": [
    "#### 4.3 Plot trades with plotly"
   ]
  },
  {
   "cell_type": "code",
   "execution_count": null,
   "id": "81159ba2-dabd-48cb-8105-03a067d3fc6f",
   "metadata": {},
   "outputs": [],
   "source": [
    "import plotly.graph_objects as go\n",
    "from plotly.subplots import make_subplots\n",
    "\n",
    "timestamps, prices, sizes, flags = [], [], [], []\n",
    "\n",
    "for i in df_market.index:\n",
    "    keep = False\n",
    "    flag = None\n",
    "    marketstamp = df_market['Date'][i]\n",
    "    \n",
    "    for j in df_input.index:\n",
    "        timestamp = datetime.strptime(df_input['Timestamp'][j], time_format)\n",
    "        start = timestamp - timedelta(minutes = window)\n",
    "        end = timestamp + timedelta(minutes = window)\n",
    "        \n",
    "        if (marketstamp > start  and  marketstamp < end):\n",
    "            keep = True\n",
    "            if ((marketstamp == timestamp) and (df_market['Price'][i] == df_input['Price'][j]) and (df_market['Size'][i] == df_input['Size'][j])):\n",
    "                flag = 'INPUT'\n",
    "                \n",
    "    if keep:\n",
    "        timestamps.append(marketstamp) \n",
    "        prices.append(df_market['Price'][i])\n",
    "        sizes.append(df_market['Size'][i])\n",
    "        flags.append(flag)\n",
    "\n",
    "# TODO\n",
    "# # create figure with secondary y-axis: price and size\n",
    "# fig = make_subplots(specs=[[{\"secondary_y\": True}]])\n",
    "# fig.add_trace(go.Scatter(x=df['Date'], y=df['Price'], name='Price'), secondary_y=False)\n",
    "# fig.add_trace(go.Scatter(x=df['Date'], y=df['Size'], name=\"Size\", opacity = 0.25), secondary_y=True)\n",
    "\n",
    "# # annotate input trade\n",
    "# fig.add_annotation( x=timestamp, y=price, xref=\"x\", yref=\"y\", text='{0} @ {1} | {2}'.format(size, price, timestamp), showarrow=True, font=dict(family=\"Courier New, monospace\", size=16,color=\"white\"),\n",
    "#         align=\"center\", arrowhead=2, arrowsize=1, arrowwidth=2, arrowcolor=\"green\", ax=20, ay=-100, bgcolor=\"green\", opacity=0.8)\n",
    "\n",
    "# # set graph layout\n",
    "# fig.update_xaxes(title_text = 'Date')\n",
    "# fig.update_layout(title = 'Input trades within market snapshot for {0}-{1}'.format(ticker,exchange))\n",
    "# fig.layout.yaxis2.showgrid=False\n",
    "# fig.show()"
   ]
  },
  {
   "cell_type": "markdown",
   "id": "21a5e11e-834b-4517-ab2b-f841ba2dbd90",
   "metadata": {},
   "source": [
    "#### 4.4 Export market snapshot file"
   ]
  },
  {
   "cell_type": "code",
   "execution_count": null,
   "id": "6e48fb04-f3ec-4aff-b522-51c988fa0729",
   "metadata": {},
   "outputs": [],
   "source": [
    "# create a pandas dataframe with: timestamps, trades prices, sizes and flags\n",
    "d = {'Timestamp': timestamps, 'Price': prices, 'Size': sizes, 'Flag': flags}\n",
    "df = pd.DataFrame(data=d)"
   ]
  },
  {
   "cell_type": "code",
   "execution_count": null,
   "id": "34660452-f2c5-49b3-b05b-27704eaf9d7d",
   "metadata": {},
   "outputs": [],
   "source": [
    "# export csv file\n",
    "df.to_csv('Export/{0}-{1}_bestex_pit.csv'.format(ticker,exchange), index=False)"
   ]
  }
 ],
 "metadata": {
  "kernelspec": {
   "display_name": "Python 3",
   "language": "python",
   "name": "python3"
  },
  "language_info": {
   "codemirror_mode": {
    "name": "ipython",
    "version": 3
   },
   "file_extension": ".py",
   "mimetype": "text/x-python",
   "name": "python",
   "nbconvert_exporter": "python",
   "pygments_lexer": "ipython3",
   "version": "3.9.5"
  }
 },
 "nbformat": 4,
 "nbformat_minor": 5
}
