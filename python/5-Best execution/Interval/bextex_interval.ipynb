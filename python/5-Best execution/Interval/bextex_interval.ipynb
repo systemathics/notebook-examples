{
 "cells": [
  {
   "cell_type": "markdown",
   "id": "affecting-functionality",
   "metadata": {},
   "source": [
    "# Generate interval best execution benchmarks using dedicated service - Python\n",
    "\n",
    "### Overview\n",
    "Best execution aims to measure the performance of executed trades, an execution algorithm or an execution venue.\n",
    "\n",
    "This sample is based on an `interval` approach and designed to illustrate market activity over a look back period.\n",
    "\n",
    "<div class=\"alert alert-block alert-info\">\n",
    "    <b>Note:</b> To explore the point-in-time approach, suitable to highlight individual tradres among market activity. Please refer to <i><a href=\"\">bestex-pointintime</a></i> notebook.\n",
    "</div>\n",
    "\n",
    "This sample demonstrates how to request and plot from a dedicated data service **on-demand** best execution *interval* benchmarks.\n",
    "\n",
    "### Inputs/outputs\n",
    "Best execution interval sample requires instrument's identifier, date time intervals as per inputs. Results are as follows:\n",
    "* a snapshot of occured trades\n",
    "* a set of computed benchmarks based on the occured trades\n",
    "\n",
    "### Services used\n",
    "This sample uses *gRPC requests* in order to retrieve trades information from the hosted service. The queried endpoint in this script are:\n",
    "* *TickTradesService*: to directly retrieve trades data from the server.\n",
    "\n",
    "### Modules required\n",
    "1. Systemathics:\n",
    "    * *systemathics.apis.services.tick.v1*\n",
    "    * *systemathics.apis.type.shared.v1*\n",
    "    * *google.type*\n",
    "2. Open source:\n",
    "    * *googleapis-common-protos*\n",
    "    * *protobuf*\n",
    "    * *grpcio*\n",
    "    * *pandas*\n",
    "    * *matpotlib* as per display package\n",
    "    \n",
    "***"
   ]
  },
  {
   "cell_type": "markdown",
   "id": "figured-delta",
   "metadata": {},
   "source": [
    "# Run BestEx interval sample"
   ]
  },
  {
   "cell_type": "markdown",
   "id": "junior-format",
   "metadata": {},
   "source": [
    "### Step 1: Install packages and import them"
   ]
  },
  {
   "cell_type": "code",
   "execution_count": null,
   "id": "polished-jaguar",
   "metadata": {},
   "outputs": [],
   "source": [
    "pip install googleapis-common-protos protobuf grpcio pandas matplotlib"
   ]
  },
  {
   "cell_type": "code",
   "execution_count": null,
   "id": "speaking-income",
   "metadata": {},
   "outputs": [],
   "source": [
    "pip install systemathics.apis --pre"
   ]
  },
  {
   "cell_type": "code",
   "execution_count": null,
   "id": "italian-meter",
   "metadata": {},
   "outputs": [],
   "source": [
    "import os\n",
    "import grpc\n",
    "import pandas as pd\n",
    "from datetime import datetime\n",
    "import google.type.date_pb2 as date\n",
    "import google.type.timeofday_pb2 as timeofday\n",
    "import google.type.dayofweek_pb2 as dayofweek\n",
    "import google.protobuf.duration_pb2 as duration\n",
    "import systemathics.apis.type.shared.v1.identifier_pb2 as identifier\n",
    "import systemathics.apis.type.shared.v1.constraints_pb2 as constraints\n",
    "import systemathics.apis.type.shared.v1.date_interval_pb2 as dateinterval\n",
    "import systemathics.apis.type.shared.v1.time_interval_pb2 as timeinterval\n",
    "import systemathics.apis.services.tick.v1.tick_trades_pb2 as tick_trades\n",
    "import systemathics.apis.services.tick.v1.tick_trades_pb2_grpc as tick_trades_service\n",
    "import systemathics.apis.helpers.token_helpers as token_helpers\n",
    "import systemathics.apis.helpers.channel_helpers as channel_helpers"
   ]
  },
  {
   "cell_type": "markdown",
   "id": "institutional-lecture",
   "metadata": {},
   "source": [
    "### Step 2: Retrieve authentication token\n",
    "The following code snippet sends authentication request and print token to console output in order to process the upcomming *gRPC queries*."
   ]
  },
  {
   "cell_type": "code",
   "execution_count": null,
   "id": "resistant-federal",
   "metadata": {},
   "outputs": [],
   "source": [
    "token = token_helpers.get_token()\n",
    "display(token)"
   ]
  },
  {
   "cell_type": "markdown",
   "id": "alternate-geometry",
   "metadata": {},
   "source": [
    "### Step 3: Create and process request"
   ]
  },
  {
   "cell_type": "markdown",
   "id": "liked-intermediate",
   "metadata": {},
   "source": [
    "#### 3.1 Instrument selection"
   ]
  },
  {
   "cell_type": "code",
   "execution_count": null,
   "id": "direct-lounge",
   "metadata": {},
   "outputs": [],
   "source": [
    "# set instrument identifier: exchange + ticker\n",
    "ticker = 'AAPL'\n",
    "exchange = 'BATS'\n",
    "\n",
    "start = datetime(2021, 11, 15, 16, 20,0)\n",
    "end = datetime(2021, 11, 15, 16, 30,0)"
   ]
  },
  {
   "cell_type": "markdown",
   "id": "relative-tampa",
   "metadata": {},
   "source": [
    "#### 3.2 Time period delimitation"
   ]
  },
  {
   "cell_type": "code",
   "execution_count": null,
   "id": "heavy-hebrew",
   "metadata": {},
   "outputs": [],
   "source": [
    "# create time intervals (we are using Google date format)\n",
    "date_interval = dateinterval.DateInterval(\n",
    "    start_date = date.Date(year = start.year, month = start.month, day = start.day), \n",
    "    end_date = date.Date(year = end.year, month = end.month, day = end.day)\n",
    ")\n",
    "\n",
    "# build the market data request time interval (we are using Google time format)\n",
    "# UTC time zone\n",
    "time_interval = timeinterval.TimeInterval(\n",
    "    start_time = timeofday.TimeOfDay(hours = start.hour, minutes = start.minute, seconds = start.second), \n",
    "    end_time = timeofday.TimeOfDay(hours = end.hour, minutes = end.minute, seconds = end.second)\n",
    ")"
   ]
  },
  {
   "cell_type": "markdown",
   "id": "exotic-seating",
   "metadata": {},
   "source": [
    "#### 3.3 Request creation\n",
    "The following code snippet creates *gRPC client*, process request and returns request reply."
   ]
  },
  {
   "cell_type": "code",
   "execution_count": null,
   "id": "metric-insured",
   "metadata": {},
   "outputs": [],
   "source": [
    "# generate constraints based on the previous time selection\n",
    "my_constraints = constraints.Constraints(\n",
    "    date_intervals = [date_interval],\n",
    "    time_intervals = [time_interval],\n",
    ")"
   ]
  },
  {
   "cell_type": "code",
   "execution_count": null,
   "id": "placed-happiness",
   "metadata": {},
   "outputs": [],
   "source": [
    "# generate the tick trades request\n",
    "my_identifier = identifier.Identifier(exchange = exchange, ticker = ticker)\n",
    "request = tick_trades.TickTradesRequest(\n",
    "    identifiers = [my_identifier],\n",
    "    constraints = my_constraints\n",
    ")"
   ]
  },
  {
   "cell_type": "code",
   "execution_count": null,
   "id": "dense-software",
   "metadata": {},
   "outputs": [],
   "source": [
    "try:\n",
    "    # open a gRPC channel\n",
    "    with channel_helpers.get_grpc_channel() as channel:  \n",
    "\n",
    "        # instantiate the tick trades service\n",
    "        service = tick_trades_service.TickTradesServiceStub(channel)\n",
    "        \n",
    "        # process the tick trades request\n",
    "        trades_data = []\n",
    "        metadata = [('authorization', token)]\n",
    "        for trade in service.TickTrades(request=request, metadata=metadata):\n",
    "            if trade.data:\n",
    "                trades_data.append(trade)\n",
    "\n",
    "    # keep only trades, delete instrument mapping (1st element retrieved)\n",
    "    # mapping is not used as only one instrument identifier is requested\n",
    "    del trades_data[0]\n",
    "except grpc.RpcError as e:\n",
    "    display(e.code().name)\n",
    "    display(e.details())"
   ]
  },
  {
   "cell_type": "markdown",
   "id": "white-swing",
   "metadata": {},
   "source": [
    "The following code snippet displays computed benchmarks for the given input time window:"
   ]
  },
  {
   "cell_type": "code",
   "execution_count": null,
   "id": "fatty-budapest",
   "metadata": {},
   "outputs": [],
   "source": [
    "# create the data frame\n",
    "dates=[datetime.fromtimestamp(t.data.time_stamp.seconds) for t in trades_data]\n",
    "prices=[t.data.trade.price for t in trades_data]\n",
    "sizes=[t.data.trade.size for t in trades_data]\n",
    "d = {'Date': dates, 'Size': sizes, 'Price': prices}\n",
    "df = pd.DataFrame(data=d)\n",
    "df "
   ]
  },
  {
   "cell_type": "code",
   "execution_count": null,
   "id": "everyday-support",
   "metadata": {},
   "outputs": [],
   "source": [
    "# visualize interval benchmarks\n",
    "vwap = sum([t.data.trade.price * t.data.trade.size for t in trades_data]) / sum(sizes) \n",
    "\n",
    "print('Interval start time \\t: {}'.format(start))\n",
    "print('Interval end time \\t: {}'.format(end))\n",
    "print('Last trade occured at \\t: {}'.format(dates[-1]))\n",
    "print('Total trades retrieved \\t: {}'.format(len(trades_data)))\n",
    "print('Cumulated trade sizes \\t: {}'.format(sum(sizes)))\n",
    "print('Max trade price \\t: {}'.format(max(prices)))\n",
    "print('Min trade price \\t: {}'.format(min(prices)))\n",
    "print('Average trade price \\t: {:.2f}'.format(sum(prices) / len(prices)))\n",
    "print('Average trade size \\t: {:.2f}'.format(sum(sizes) / len(sizes)))\n",
    "print('Max trade size \\t\\t: {}'.format(max(sizes)))\n",
    "print('Min trade size \\t\\t: {}'.format(min(sizes)))\n",
    "print('Vwap \\t\\t\\t: {:.2f}'.format(vwap))"
   ]
  },
  {
   "cell_type": "markdown",
   "id": "assigned-dominican",
   "metadata": {},
   "source": [
    "### Step 4: Visualize data"
   ]
  },
  {
   "cell_type": "markdown",
   "id": "international-hammer",
   "metadata": {},
   "source": [
    "#### 4.1 Plot trades with matplotlib"
   ]
  },
  {
   "cell_type": "code",
   "execution_count": null,
   "id": "exceptional-volleyball",
   "metadata": {},
   "outputs": [],
   "source": [
    "import matplotlib.pyplot as plt\n",
    "\n",
    "# create figure and axis objects with subplots()\n",
    "fig,ax = plt.subplots(1,1,figsize=(25,10))\n",
    "ax.plot('Date', 'Price', data=df, marker='', color='red', linewidth=2, label=\"Price\")\n",
    "ax.set_xlabel(\"Date\",fontsize=14)\n",
    "ax.set_ylabel(\"Price\",color=\"red\",fontsize=14)\n",
    "\n",
    "# twin object for two different y-axis on the sample plot\n",
    "ax2=ax.twinx()\n",
    "#ax2.bar('Date','Size',data=df, align='center', alpha=0.2, linewidth=0.1)\n",
    "ax2.plot('Date', 'Size', data=df, marker='', color='purple', linewidth=2, label=\"Price\")\n",
    "ax2.set_ylabel(\"Size\",color=\"purple\",fontsize=14)\n",
    "plt.title('Trades for {0}-{1} | Trades count: {2} | Toal traded volume: {3}'.format(ticker, exchange, len(trades_data), sum(sizes)))\n",
    "plt.show()"
   ]
  }
 ],
 "metadata": {
  "kernelspec": {
   "display_name": "Python 3 (ipykernel)",
   "language": "python",
   "name": "python3"
  },
  "language_info": {
   "codemirror_mode": {
    "name": "ipython",
    "version": 3
   },
   "file_extension": ".py",
   "mimetype": "text/x-python",
   "name": "python",
   "nbconvert_exporter": "python",
   "pygments_lexer": "ipython3",
   "version": "3.9.7"
  }
 },
 "nbformat": 4,
 "nbformat_minor": 5
}
