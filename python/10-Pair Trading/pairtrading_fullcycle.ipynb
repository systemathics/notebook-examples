{
 "cells": [
  {
   "cell_type": "markdown",
   "metadata": {},
   "source": [
    "# Context"
   ]
  },
  {
   "cell_type": "markdown",
   "metadata": {},
   "source": [
    "This pair trading strategy is part of a school project initiated by the **Engineering School De Vinci (ESILV)** and **Systemathics** and led by **4** data scientist, analyst and fintech **students** with the task of carrying out quantitative research in order to implement a **pair trading strategy** using statistical data and artificial intelligence concepts. The goal is also to determine if one approach brings more added value to the results or not."
   ]
  },
  {
   "cell_type": "markdown",
   "metadata": {},
   "source": [
    "### Our contacts\n",
    "\n",
    "* MUCHAN Deng : dengmuchan@gmail.com\n",
    "\n",
    "* LORGNET Niels : niels.lorgnet@gmail.com\n",
    "\n",
    "* LEGOFF Tristan : legoff.tristan.pro@gmail.com\n",
    "\n",
    "* EL MERSHATI Laith : laith.elmershati@gmail.com\n",
    "\n",
    "\n",
    "***Esilv website*** : https://www.esilv.fr/en/\n",
    "\n"
   ]
  },
  {
   "cell_type": "markdown",
   "metadata": {},
   "source": [
    "# Introduction"
   ]
  },
  {
   "cell_type": "markdown",
   "metadata": {},
   "source": [
    "*Pair trading* is a market-neutral strategy where a **long position in one stock and a short position in another stock are initiated simultaneously**. The profit principle of the trade is based on **mean reversion**, i.e., two stocks that normally trade in the same direction become temporarily uncorrelated and eventually will revert to the mean.\n",
    "\n",
    "Therefore we can identify two major aspects regarding the implementation of this strategy. First, the **selection of the pairs** that needs to be correlated enough so that they revert to their mean and then the **execution of the strategy** based of some predefined trading rules."
   ]
  },
  {
   "cell_type": "markdown",
   "metadata": {},
   "source": [
    "## The selection of the pairs"
   ]
  },
  {
   "cell_type": "markdown",
   "metadata": {},
   "source": [
    "As said before our pairs needs to be correlated enough so that when they become temporarly uncorrelated we can expect them to revert to their mean. An easy solution for that would be to calculate the correlation two by two for each existing stocks but that would be some extremely heavy and long computation to do therefore we would rather limit ourself to **equities that belongs to the same group/index** like the NASDAQ so that it will narrow our search zone. However we can still get a few steps ahead by gathering **stocks from the same sectors** since odds are that they will most likely move together within the same trend.\n",
    "\n",
    "These steps constitute the preselection of the pairs. Now that equities are gathered by sectors within the same index we can carry out the correlation test and keep the satisfying pairs only. However the **correlation computation** is not be the best option that exists, indeed for this kind of strategy of pair trading we might prefer using the **stationarity** or the **cointegration**.\n",
    "\n",
    "The reason behind looking for other options is that just looking at correlation might give us spurious results. For instance, if our pairs trading strategy is based on the spread between the prices of the two stocks, it is possible that the prices of the two stocks keep on increasing without ever mean-reverting, thus, one should be careful of using only correlation for pairs trading. This is why we would rather use the **cointegration** that is very similar to **stationarity**, indeed if A and B are cointegrated then it implies that the log of the ratio is stationary which suggests that the mean and variance remains constant over time."
   ]
  },
  {
   "cell_type": "markdown",
   "metadata": {},
   "source": [
    "## The strategy"
   ]
  },
  {
   "cell_type": "markdown",
   "metadata": {},
   "source": [
    "As explained in details below in the \"Stocks selection\" and \"Backtest Strategy\" part, our model simply selects pairs of assets considered stationary over a period and trades on these pairs. Regularly the pairs to trade on are actualized. The spread formula, the position and sizing rules are given below, the goal of this model being to trade only on mean reversion opportunities."
   ]
  },
  {
   "cell_type": "markdown",
   "metadata": {},
   "source": [
    "___"
   ]
  },
  {
   "cell_type": "markdown",
   "metadata": {},
   "source": [
    "# Pair selection"
   ]
  },
  {
   "cell_type": "code",
   "execution_count": null,
   "metadata": {},
   "outputs": [],
   "source": [
    "# ---------- INSTALLATION AND IMPORTATION ----------\n",
    "from IPython.display import clear_output\n",
    "!pip install googleapis-common-protos protobuf grpcio pandas systemathics.apis statsmodels matplotlib seaborn\n",
    "clear_output(wait=True)\n",
    "print(\"Install completed 100%\")\n"
   ]
  },
  {
   "cell_type": "markdown",
   "metadata": {},
   "source": [
    "In the *pair_selection* file is written the ```Selection``` class that contains lots of data about equities that belongs to a specific index and exchange as well as functions enabling us to do many computation on these data."
   ]
  },
  {
   "cell_type": "code",
   "execution_count": null,
   "metadata": {},
   "outputs": [],
   "source": [
    "import pair_selection\n",
    "from backtesting import Backtesting\n",
    "from price_data import PriceData\n",
    "\n",
    "import pandas as pd\n",
    "pd.options.mode.chained_assignment = None  # default='warn'\n",
    "import numpy as np\n",
    "import json\n",
    "import seaborn as sns\n",
    "import matplotlib.pyplot as plt\n",
    "import os\n",
    "import grpc\n",
    "import statistics\n",
    "# from datetime import datetime\n",
    "# import datetime\n",
    "import google.type.date_pb2 as date\n",
    "import google.type.dayofweek_pb2 as dayofweek\n",
    "import google.type.timeofday_pb2 as timeofday\n",
    "import google.protobuf.duration_pb2 as duration\n",
    "import systemathics.apis.type.shared.v1.identifier_pb2 as identifier\n",
    "import systemathics.apis.services.daily.v1.daily_bars_pb2 as daily_bars\n",
    "import systemathics.apis.services.daily.v1.daily_bars_pb2_grpc as daily_bars_service\n",
    "from math import *\n",
    "\n",
    "print(\"Import completed 100%\")\n"
   ]
  },
  {
   "cell_type": "markdown",
   "metadata": {},
   "source": [
    "## Stocks construction"
   ]
  },
  {
   "cell_type": "markdown",
   "metadata": {},
   "source": [
    "We import our file and we create an object with the default variables except for the date which we define as from January 1st 2015. The construction of this object will take some time to make all the API calls to retrieve the information on the assets and then the prices of each."
   ]
  },
  {
   "cell_type": "code",
   "execution_count": null,
   "metadata": {},
   "outputs": [],
   "source": [
    "s = pair_selection.Selection(start_date=\"2015-01-01\")"
   ]
  },
  {
   "cell_type": "markdown",
   "metadata": {},
   "source": [
    "Many variables can be adjusted or left as default, here is a full description :\n",
    "\n",
    "* ***Param ```index``` :*** The index from which we want to get its equities.\n",
    "\n",
    "***type :*** str | ***default :*** 'NASDAQ'\n",
    "\n",
    "* ***Param ```exchange``` :*** The exchange from which we want to get its equities.\n",
    "    \n",
    "***type :*** str | ***default :*** 'XNGS'\n",
    "\n",
    "* ***Param ```market_based_classification``` :*** The market based classification used to define sectors ('ICB', 'Nasdaq'...)\n",
    "    \n",
    "***type :*** str | ***default :*** 'Nasdaq'\n",
    "\n",
    "* ***Param ```start_date``` :*** Collect the prices starting from that date (until now or today).\n",
    "    \n",
    "***type :*** str format YYYY-MM-DD | ***default :*** \"2019-01-01\"\n",
    "\n",
    "* ***Param ```adjustment``` :*** Use the adjusted price or not.\n",
    "    \n",
    "***type :*** bool | ***default :*** False\n",
    "\n",
    "* ***Param ```use_corr``` :*** Calculate the correlation between two equities or not.\n",
    "    \n",
    "***type :*** bool | ***default :*** False\n",
    "\n",
    "* ***Param ```use_statio``` :*** Calculate the stationarity of a pair series or not.\n",
    "    \n",
    "***type :*** bool | ***default :*** True\n",
    "\n",
    "* ***Param ```mincorr_level``` :*** Minimum level to consider two equities as correlated.\n",
    "    \n",
    "***type :*** float | ***default :*** 0.7\n",
    "\n",
    "* ***Param ```statio_level``` :*** p-value used to invalidate the null hypothesis of a stationarity test.\n",
    "    \n",
    "***type :*** float | ***default :*** 0.05\n",
    "\n",
    "* ***Param ```use_adfuller``` :*** Use Dickey Fuller stationarity test or not.\n",
    "    \n",
    "***type :*** bool | ***default :*** True\n",
    "\n",
    "* ***Param ```use_kpss``` :*** Use kpss stationarity test or not.\n",
    "    \n",
    "***type :*** bool | ***default :*** False\n",
    "\n",
    "* ***Param ```use_zivotandrews``` :*** Use zivot and andrews stationarity test or not.\n",
    "    \n",
    "***type :*** bool   | ***default :*** False"
   ]
  },
  {
   "cell_type": "markdown",
   "metadata": {},
   "source": [
    "By default we have set the **stationarity** variable to *True* and the **correlation** one to *False* so we don't calculate it."
   ]
  },
  {
   "cell_type": "markdown",
   "metadata": {},
   "source": [
    "2 class variables are built during the initialization, they can be consulted by entering ```s.data``` and ```s.df_all_prices```.\n",
    "\n",
    "* *data* is a dataframe gathering general information about the assets such as their name, ticker and sector among others. The sectors will be very useful to carry out a shortlisting of stocks between them before applying to them the stationary computation.\n",
    "\n",
    "* *df_all_prices* is also a dataframe but it gathers the daily closing prices of all the assets between the starting date we've set in the constructor until the day the request was made."
   ]
  },
  {
   "cell_type": "markdown",
   "metadata": {},
   "source": [
    "## Stocks selection"
   ]
  },
  {
   "cell_type": "markdown",
   "metadata": {},
   "source": [
    "In order to get the best pairs per period for our backtest we will call the function *get_alltime_best_pairs*. This function works like this :"
   ]
  },
  {
   "cell_type": "markdown",
   "metadata": {},
   "source": [
    "From the starting date until last date and progressing in a **range of a specific interval** in months, it saves in a **json file** the pairs with a **satisfying correlation value and/or stationarity** following the instance variable criteria set and this **between two increasing months of a specific interval**. \n",
    "\n",
    "*We presume that start_date is 2015-03-01 and end_date is 2021-06-18, interval is 6 and repetition is 2. We will then start the computations on price data between 2015-03-01 and 2015-09-01 (+6 months), then do it again after 2 months: therefore between 2015-05-01 and 2015-11-01 etc until end_date is 2021-06-01.*"
   ]
  },
  {
   "cell_type": "markdown",
   "metadata": {},
   "source": [
    "We keep the default repetition of the computation i.e. every month, but to have multiples files for backtesting purposes we need to vary the use of the correlation or not and the stationarity, but also the interval of months on which each computation is made. The goal is to have enough different outputs for the backtest and to only keep the best at the end, therefore we will also try with correlation only and both correlation and stationarity."
   ]
  },
  {
   "cell_type": "code",
   "execution_count": null,
   "metadata": {},
   "outputs": [],
   "source": [
    "s.get_alltime_best_pairs(filename=\"json_best_pairs/semestrial_statio\")"
   ]
  },
  {
   "cell_type": "code",
   "execution_count": null,
   "metadata": {},
   "outputs": [],
   "source": [
    "s.get_alltime_best_pairs(interval=12, filename=\"json_best_pairs/yearly_statio\")"
   ]
  },
  {
   "cell_type": "code",
   "execution_count": null,
   "metadata": {},
   "outputs": [],
   "source": [
    "s.get_alltime_best_pairs(interval=4, filename=\"json_best_pairs/trimestrial_statio\")"
   ]
  },
  {
   "cell_type": "markdown",
   "metadata": {},
   "source": [
    "The three cells before only took into account the stationary result of a pair : if *p*value was under 5% then we could consider the pair as stationary and add it to the json file.\n",
    "\n",
    "Now we try the mingling with the correlation, the pair will be considered as valid if stationary but also if correlated at at least 70% (values can be accessed and modified with ```self.mincorr_level=0.8``` for setting it at 80%)."
   ]
  },
  {
   "cell_type": "code",
   "execution_count": null,
   "metadata": {},
   "outputs": [],
   "source": [
    "s.use_statio = True # was already set to True by default\n",
    "s.use_corr = True\n",
    "s.get_alltime_best_pairs(filename=\"json_best_pairs/semestrial_statio_and_corr\")"
   ]
  },
  {
   "cell_type": "code",
   "execution_count": null,
   "metadata": {},
   "outputs": [],
   "source": [
    "s.get_alltime_best_pairs(interval=12, filename=\"json_best_pairs/yearly_statio_and_corr\")"
   ]
  },
  {
   "cell_type": "code",
   "execution_count": null,
   "metadata": {},
   "outputs": [],
   "source": [
    "s.get_alltime_best_pairs(interval=4, filename=\"json_best_pairs/trimestrial_statio_and_corr\")"
   ]
  },
  {
   "cell_type": "markdown",
   "metadata": {},
   "source": [
    "Same idea as before but this time only considering the correlation and not the stationarity anymore."
   ]
  },
  {
   "cell_type": "code",
   "execution_count": null,
   "metadata": {},
   "outputs": [],
   "source": [
    "s.use_statio = False\n",
    "s.use_corr = True\n",
    "s.get_alltime_best_pairs(filename=\"json_best_pairs/semestrial_corr\")"
   ]
  },
  {
   "cell_type": "code",
   "execution_count": null,
   "metadata": {},
   "outputs": [],
   "source": [
    "s.get_alltime_best_pairs(interval=12, filename=\"json_best_pairs/yearly_corr\")"
   ]
  },
  {
   "cell_type": "code",
   "execution_count": null,
   "metadata": {},
   "outputs": [],
   "source": [
    "s.get_alltime_best_pairs(interval=4, filename=\"json_best_pairs/trimestrial_corr\")"
   ]
  },
  {
   "cell_type": "markdown",
   "metadata": {},
   "source": [
    "Here is an overview of what the first line ``s.get_alltime_best_pairs(filename=\"semestrial_statio\")`` returns in the json file :\n",
    "\n",
    "```json\n",
    "{\n",
    "    \"2015-07-01\": [\n",
    "        [\n",
    "            \"SPLK\",\n",
    "            \"INTU\"\n",
    "        ],\n",
    "        [\n",
    "            \"MCHP\",\n",
    "            \"NVDA\"\n",
    "        ],\n",
    "        [\n",
    "            \"SPLK\",\n",
    "            \"EA\"\n",
    "        ],\n",
    "        [\n",
    "            \"ANSS\",\n",
    "            \"CDNS\"\n",
    "        ],\n",
    "        [\n",
    "            \"SPLK\",\n",
    "            \"ATVI\"\n",
    "        ],\n",
    "        [\n",
    "            \"CDNS\",\n",
    "            \"ADBE\"\n",
    "        ],\n",
    "        [\n",
    "            \"ADSK\",\n",
    "            \"WDAY\"\n",
    "        ]\n",
    "    ],\n",
    "    \"2015-08-01\": [ \" ... \" ],\n",
    "    \"2015-09-01\": [ \" ... \" ],\n",
    "    \" ... \": [ \" ... \" ],\n",
    "}\n",
    "```"
   ]
  },
  {
   "cell_type": "markdown",
   "metadata": {},
   "source": [
    "<h1>Backtest Strategy</h1>"
   ]
  },
  {
   "cell_type": "markdown",
   "metadata": {
    "tags": []
   },
   "source": [
    "<h3>Strategy parameters</h3>\n",
    "<p>  \n",
    "    \n",
    "**Pair Selection** : For the strategy we need a list of pairs. This is the work that has been done above. The different lists of pairs have been stored in json in the folder \"./json_best_pair\". So we need to specify to the backtest which file we want to access in order to load these pairs.\n",
    "\n",
    "**Position entry**: We decide to short/long a pair when we find an opportunity among the stationary pairs defined during the selection (verification of the stationarity over the last 6 months). When the Spread is positive but falls below the defined upper threshold (0.017 here), we consider that there is a short opportunity: we short asset 1 and we long asset 2. We do exactly the opposite for long opportunities.\n",
    "\n",
    "**Exiting the position**: There are three possibilities. If you exceed a defined stop loss, you exit the position the next day at the opening. If the position reaches a certain defined duration, you exit the position at the next market opening. Finally, if the spread returns to normal (0), we also exit the position since we consider that there is no more opportunity.\n",
    "\n",
    "**Sizing of the position**: We define a maximum number n of possible trades at the same time (currently 2). On each position taken we invest 1/n of the portfolio. This approach could be largely improved since we do not take into account the volatility of the market or the 2 assets for example.\n",
    "\n",
    "**Scalability**: The entry is simple: you enter in one time at the opening. If we had to manage large amounts, this could make the assets move. Instead, we could implement a progressive entry over the whole day.</p>"
   ]
  },
  {
   "cell_type": "code",
   "execution_count": null,
   "metadata": {},
   "outputs": [],
   "source": [
    "# Name of the json with the pair list\n",
    "pair_file_name = 'semestrial_statio.json'\n",
    "\n",
    "initial_wallet = 1000 #Starting wallet in $\n",
    "max_positions = 2 #Maximum number of simultaneous positions\n",
    "\n",
    "spread_window = 5 #Number of bars used to calculate spread\n",
    "spread_limit = 0.017 #Threshold to consider arbitrage\n",
    "\n",
    "z_score_window = 30\n",
    "z_score_limit = 1.5\n",
    "\n",
    "stop_loss_activation = True #If you want a stop loss\n",
    "stop_loss_pct = 0.02 #Percentage of your stop loss"
   ]
  },
  {
   "cell_type": "markdown",
   "metadata": {},
   "source": [
    "<h3>Download historical data of all pairs selected</h3>\n",
    "<p>\n",
    "    \n",
    "For each selected pair we download the **adjusted OHLCV data** of the pair. This gives us for each pair a dataframe of 10 columns: \n",
    "'Open_1', \n",
    "High_1', \n",
    "Low_1', \n",
    "Close_1', \n",
    "'Volume_1', \n",
    "'Open_2', \n",
    "'High_2', \n",
    "'Low_2', \n",
    "'Close_2', \n",
    "'Volume_2'</p>"
   ]
  },
  {
   "cell_type": "code",
   "execution_count": null,
   "metadata": {},
   "outputs": [],
   "source": [
    "#Generate auth token\n",
    "token = f\"Bearer {os.environ['AUTH0_TOKEN']}\"\n",
    "\n",
    "#Initate price_data class\n",
    "dataEngine = PriceData(token)\n",
    "\n",
    "#Load pair selection data from json\n",
    "f = open('./json_best_pairs/'+pair_file_name,)\n",
    "bestPair = json.load(f)\n",
    "f.close()\n",
    "\n",
    "#Generate the list of dates we will work on later\n",
    "dfDate = dataEngine.get_pair_df(ticker_1 = \"AAPL\", ticker_2 = \"MSFT\", limit = 1500)\n",
    "dateList = dfDate.index.values\n",
    "\n",
    "#Download historical data for each pair of pair selection\n",
    "pairList = []\n",
    "dfList = {}\n",
    "for month in bestPair:\n",
    "    for pair in bestPair[month]:\n",
    "        clear_output(wait=True)\n",
    "        try:\n",
    "            dfList[pair[0]+'/'+pair[1]]\n",
    "        except:\n",
    "            print('download',pair[0]+'/'+pair[1])\n",
    "            dfList[pair[0]+'/'+pair[1]] = dataEngine.get_daily_pair_candles(ticker_1 = pair[0], ticker_2 = pair[1], limit = 1500)\n",
    "print(len(dfList),\"historical pair data loaded\")"
   ]
  },
  {
   "cell_type": "markdown",
   "metadata": {
    "tags": []
   },
   "source": [
    "<h3>Load Spread in all pair dataframe</h3>\n",
    "\n",
    "<p>\n",
    "    \n",
    "For our strategy we use a **spread** to determine our entry and exit position.  \n",
    "The spread formula we use is as follows:  \n",
    "$spread = log(\\frac{c1}{r1}) - log(\\frac{c2}{r2})$  \n",
    "- c1 = close asset 1\n",
    "- c2 = close asset 2\n",
    "- r1 = close asset 1 $x$ days ago\n",
    "- r2 = close asset 2 $x$ days ago\n",
    "    \n",
    "With $x =$ spread_window\n",
    "</p>"
   ]
  },
  {
   "cell_type": "code",
   "execution_count": null,
   "metadata": {},
   "outputs": [],
   "source": [
    "for df in dfList:\n",
    "    dfList[df].drop(columns=dfList[df].columns.difference([\n",
    "        'Open_1',\n",
    "        'High_1',\n",
    "        'Low_1',\n",
    "        'Close_1',\n",
    "        'Volume_1',\n",
    "        'Open_2',\n",
    "        'High_2',\n",
    "        'Low_2',\n",
    "        'Close_2',\n",
    "        'Volume_2'\n",
    "    ]), inplace=True)\n",
    "    dfList[df]['Rol1'] = dfList[df]['Close_1'].shift(periods=spread_window)\n",
    "    dfList[df]['Rol2'] = dfList[df]['Close_2'].shift(periods=spread_window)\n",
    "    dfList[df]['Spread'] = np.log10(dfList[df]['Close_1'] / dfList[df]['Rol1']) - np.log10(dfList[df]['Close_2'] / dfList[df]['Rol2'])\n",
    "    dfList[df]['z_score'] = (dfList[df]['Spread']-dfList[df]['Spread'].rolling(window=z_score_window).mean())/dfList[df]['Spread'].rolling(window=z_score_window).std()\n",
    "    \n",
    "print(\"Spread loaded 100%\")\n",
    "dfList[list(dfList.keys())[0]]\n",
    "\n",
    "plt.figure(figsize=(25, 5))\n",
    "plt.plot('Close_1', data=dfList[list(dfList.keys())[0]], marker='', color='orange', linewidth=1, label=\"Ticker 1\")\n",
    "plt.xlabel(\"Date\")\n",
    "plt.ylabel(\"Price\")\n",
    "plt.title(\"Price1 over time\")\n",
    "plt.legend()\n",
    "\n",
    "plt.figure(figsize=(25, 5))\n",
    "plt.plot('Close_2', data=dfList[list(dfList.keys())[0]], marker='', color='purple', linewidth=1, label=\"Ticker 2\")\n",
    "plt.xlabel(\"Date\")\n",
    "plt.ylabel(\"Price\")\n",
    "plt.title(\"Price1 over time\")\n",
    "plt.legend()\n",
    "\n",
    "# display the ratio and its mean over the time\n",
    "plt.figure(figsize=(25, 5))\n",
    "plt.plot('Spread', data=dfList[list(dfList.keys())[0]], marker='', color='blue', linewidth=1, label=\"Spread\")\n",
    "plt.xlabel(\"Date\")\n",
    "plt.ylabel(\"Price\")\n",
    "plt.title(\"Price1 over time\")\n",
    "plt.legend()\n",
    "plt.axhline(spread_limit, color='green')\n",
    "plt.axhline(-spread_limit, color='red')\n",
    "plt.xlabel(\"Date\")\n",
    "plt.ylabel(\"Spread\")\n",
    "plt.title(\"Ticker1 and Ticker 2 spread\")\n",
    "\n",
    "plt.figure(figsize=(25, 5))\n",
    "plt.plot('z_score', data=dfList[list(dfList.keys())[0]], marker='', color='black', linewidth=1, label=\"z_score\")\n",
    "plt.xlabel(\"Date\")\n",
    "plt.ylabel(\"Price\")\n",
    "plt.title(\"Price1 over time\")\n",
    "plt.legend()\n",
    "plt.axhline(z_score_limit, color='green')\n",
    "plt.axhline(-z_score_limit, color='red')\n",
    "plt.xlabel(\"Date\")\n",
    "plt.ylabel(\"z_score\")\n",
    "plt.title(\"Ticker1 and Ticker 2 z_score\")\n",
    "\n",
    "\n",
    "\n",
    "plt.legend()\n",
    "plt.show()"
   ]
  },
  {
   "cell_type": "markdown",
   "metadata": {},
   "source": [
    "<h3>Strategy funtions</h3>\n",
    "<p>\n",
    "    \n",
    "This is where we define our functions that define our **position entry and exit**.\n",
    "\n",
    "To open a **long** it is necessary that the previous spread value was above the predefined **threshold** and now it is below this threshold. This indicates a return to the mean. We close the long only when the spread has **returned to its average**.\n",
    "    \n",
    "It's the same for the **shorts** in the other direction\n",
    "\n",
    "</p>"
   ]
  },
  {
   "cell_type": "code",
   "execution_count": null,
   "metadata": {},
   "outputs": [],
   "source": [
    "# def openLongCondition(row, previousRow):\n",
    "#     if(row['Spread'] > -spread_limit and previousRow['Spread'] < -spread_limit):\n",
    "#         return True\n",
    "#     else:\n",
    "#         return False\n",
    "    \n",
    "# def closeLongCondition(row, previousRow):\n",
    "#     if(row['Spread'] > 0):\n",
    "#         return True\n",
    "#     else:\n",
    "#         return False\n",
    "    \n",
    "# def openShortCondition(row, previousRow):\n",
    "#     if(row['Spread'] < spread_limit and previousRow['Spread'] > spread_limit):\n",
    "#         return True\n",
    "#     else:\n",
    "#         return False\n",
    "    \n",
    "# def closeShortCondition(row, previousRow):\n",
    "#     if(row['Spread'] < 0):\n",
    "#         return True\n",
    "#     else:\n",
    "#         return False\n",
    "\n",
    "def openLongCondition(row, previousRow):\n",
    "    if(row['z_score'] > -z_score_limit and previousRow['z_score'] < -z_score_limit):\n",
    "        return True\n",
    "    else:\n",
    "        return False\n",
    "    \n",
    "def closeLongCondition(row, previousRow):\n",
    "    if(row['z_score'] > 0):\n",
    "        return True\n",
    "    else:\n",
    "        return False\n",
    "    \n",
    "def openShortCondition(row, previousRow):\n",
    "    if(row['z_score'] < z_score_limit and previousRow['z_score'] > z_score_limit):\n",
    "        return True\n",
    "    else:\n",
    "        return False\n",
    "    \n",
    "def closeShortCondition(row, previousRow):\n",
    "    if(row['z_score'] < 0):\n",
    "        return True\n",
    "    else:\n",
    "        return False"
   ]
  },
  {
   "cell_type": "markdown",
   "metadata": {},
   "source": [
    "<h3>Backtest Cell</h3>"
   ]
  },
  {
   "cell_type": "code",
   "execution_count": null,
   "metadata": {},
   "outputs": [],
   "source": [
    "dfTestList = {}\n",
    "for df in dfList:\n",
    "    # dfTestList.append(df.loc['2021-11-01':'2021-11-10'])\n",
    "    dfTestList[df] = dfList[df].loc[:]\n",
    "\n",
    "#Value initialisation\n",
    "trades = []\n",
    "days = []\n",
    "pairList = []\n",
    "wallet = initial_wallet\n",
    "temp_wallet = initial_wallet\n",
    "n1index = dfTestList[list(dfTestList.keys())[0]].index.values[1]\n",
    "n2index = dfTestList[list(dfTestList.keys())[0]].index.values[1]\n",
    "lastMonth = str(dateList[0])[:7]\n",
    "positionToRemove = []\n",
    "activePositions = {}\n",
    "usdRemaining = initial_wallet\n",
    "\n",
    "\n",
    "\n",
    "# Get the result of one trade\n",
    "def getTradeResult(position, price1, price2, lastPrice1, lastPrice2):\n",
    "    evolPrice1 = (price1 - lastPrice1) / lastPrice1\n",
    "    evolPrice2 = (price2 - lastPrice2) / lastPrice2\n",
    "    if position == 'LONG':\n",
    "        return evolPrice1-evolPrice2\n",
    "    else:\n",
    "        return evolPrice2-evolPrice1\n",
    "\n",
    "for index in dateList:\n",
    "    temp_wallet = wallet\n",
    "    for pos in activePositions:\n",
    "        n1Row = dfTestList[pos].loc[n1index]\n",
    "        tempTradeResult = getTradeResult(\n",
    "            activePositions[pos][\"side\"], \n",
    "            n1Row['Open_1'], \n",
    "            n1Row['Open_2'], \n",
    "            activePositions[pos][\"initialPrice1\"], \n",
    "            activePositions[pos][\"initialPrice2\"]\n",
    "        )\n",
    "        temp_wallet = wallet + tempTradeResult * activePositions[pos][\"entrySize\"]\n",
    "    days.append({\n",
    "        \"day\":index,\n",
    "        \"wallet\":temp_wallet\n",
    "    })\n",
    "    \n",
    "    # -- Update pair list --\n",
    "    newMonth = str(index)[:7]+\"-01\"\n",
    "    if newMonth != lastMonth:\n",
    "        lastMonth = newMonth\n",
    "        try:\n",
    "            pairList = bestPair[lastMonth].copy()\n",
    "        except:\n",
    "            print('break here',lastMonth)\n",
    "            break\n",
    "                \n",
    "    # -- Check if you have a position --\n",
    "    if len(activePositions) > 0:\n",
    "        for pos in activePositions:\n",
    "            currentRow = dfTestList[pos].loc[index]\n",
    "            n1Row = dfTestList[pos].loc[n1index]\n",
    "            n2Row = dfTestList[pos].loc[n2index]\n",
    "            if activePositions[pos][\"side\"] == \"LONG\":\n",
    "                closeTradeResult = getTradeResult(\n",
    "                    \"LONG\", \n",
    "                    n1Row['Close_1'], \n",
    "                    n1Row['Close_2'], \n",
    "                    activePositions[pos][\"initialPrice1\"], \n",
    "                    activePositions[pos][\"initialPrice2\"]\n",
    "                )\n",
    "                currentTradeResult = getTradeResult(\n",
    "                    \"LONG\", \n",
    "                    currentRow['Open_1'], \n",
    "                    currentRow['Open_2'], \n",
    "                    activePositions[pos][\"initialPrice1\"], \n",
    "                    activePositions[pos][\"initialPrice2\"]\n",
    "                )\n",
    "                # -- Close LONG Stop Loss --\n",
    "                if closeTradeResult < -stop_loss_pct and stop_loss_activation:\n",
    "                    wallet = wallet + currentTradeResult * activePositions[pos][\"entrySize\"]\n",
    "                    usdRemaining += activePositions[pos][\"entrySize\"] + currentTradeResult * activePositions[pos][\"entrySize\"]\n",
    "                    try:\n",
    "                        pairList.remove(pos.split('/'))\n",
    "                    except:\n",
    "                        pass\n",
    "                    closeLongRow = {\n",
    "                        'date': index,\n",
    "                        'pair': pos,\n",
    "                        'openOrClose':'Close', \n",
    "                        'position': \"LONG\", \n",
    "                        'price1': currentRow['Open_1'], \n",
    "                        'price2': currentRow['Open_2'],\n",
    "                        'tradeResult': currentTradeResult,\n",
    "                        'wallet': wallet,\n",
    "                        'reason': 'Close Long Stop Loss'\n",
    "                    }\n",
    "                    positionToRemove.append(pos)\n",
    "                    trades.append(closeLongRow)\n",
    "                # Close LONG Market\n",
    "                elif closeLongCondition(n1Row, n2Row) == True:\n",
    "                    wallet = wallet + currentTradeResult * activePositions[pos][\"entrySize\"]\n",
    "                    usdRemaining += activePositions[pos][\"entrySize\"] + currentTradeResult * activePositions[pos][\"entrySize\"]\n",
    "                    closeLongRow = {\n",
    "                        'date': index,\n",
    "                        'pair': pos,\n",
    "                        'openOrClose':'Close', \n",
    "                        'position': \"LONG\", \n",
    "                        'price1': currentRow['Open_1'], \n",
    "                        'price2': currentRow['Open_2'],\n",
    "                        'tradeResult': currentTradeResult,\n",
    "                        'wallet': wallet,\n",
    "                        'reason': 'Close Long Market'\n",
    "                    }\n",
    "                    positionToRemove.append(pos)\n",
    "                    trades.append(closeLongRow)\n",
    "\n",
    "            elif activePositions[pos][\"side\"] == \"SHORT\":\n",
    "                closeTradeResult = getTradeResult(\n",
    "                    \"SHORT\", \n",
    "                    n1Row['Close_1'], \n",
    "                    n1Row['Close_2'], \n",
    "                    activePositions[pos][\"initialPrice1\"], \n",
    "                    activePositions[pos][\"initialPrice2\"]\n",
    "                )\n",
    "                currentTradeResult = getTradeResult(\n",
    "                    \"SHORT\", \n",
    "                    currentRow['Open_1'], \n",
    "                    currentRow['Open_2'], \n",
    "                    activePositions[pos][\"initialPrice1\"], \n",
    "                    activePositions[pos][\"initialPrice2\"]\n",
    "                )\n",
    "                # -- Close SHORT Stop Loss --\n",
    "                if closeTradeResult < -stop_loss_pct and stop_loss_activation:\n",
    "                    wallet = wallet + currentTradeResult * activePositions[pos][\"entrySize\"]\n",
    "                    usdRemaining += activePositions[pos][\"entrySize\"] + currentTradeResult * activePositions[pos][\"entrySize\"]\n",
    "                    try:\n",
    "                        pairList.remove(pos.split('/'))\n",
    "                    except:\n",
    "                        pass\n",
    "                    closeShortRow = {\n",
    "                        'date': index,\n",
    "                        'pair': pos,\n",
    "                        'openOrClose':'Close', \n",
    "                        'position': \"SHORT\", \n",
    "                        'price1': currentRow['Open_1'], \n",
    "                        'price2': currentRow['Open_2'],\n",
    "                        'tradeResult': currentTradeResult,\n",
    "                        'wallet': wallet,\n",
    "                        'reason': 'Close Short Stop Loss'\n",
    "                    }\n",
    "                    positionToRemove.append(pos)\n",
    "                    trades.append(closeShortRow)\n",
    "\n",
    "                # Close SHORT Market\n",
    "                elif closeShortCondition(n1Row, n2Row) == True:\n",
    "                    wallet = wallet + currentTradeResult * activePositions[pos][\"entrySize\"]\n",
    "                    usdRemaining += activePositions[pos][\"entrySize\"] + currentTradeResult * activePositions[pos][\"entrySize\"]\n",
    "                    closeShortRow = {\n",
    "                        'date': index,\n",
    "                        'pair': pos,\n",
    "                        'openOrClose':'Close', \n",
    "                        'position': \"SHORT\", \n",
    "                        'price1': currentRow['Open_1'], \n",
    "                        'price2': currentRow['Open_2'],\n",
    "                        'tradeResult': currentTradeResult,\n",
    "                        'wallet': wallet,\n",
    "                        'reason': 'Close Short Market'\n",
    "                    }\n",
    "                    positionToRemove.append(pos)\n",
    "                    trades.append(closeShortRow)\n",
    "        # print(activePositions)\n",
    "        # print(positionToRemove)\n",
    "        for delPos in positionToRemove:\n",
    "            del activePositions[delPos]\n",
    "        positionToRemove = []\n",
    "    # -- Check if you have no position --\n",
    "    elif len(activePositions) < max_positions:\n",
    "        for pair in pairList:\n",
    "            # Break if you have opened a position\n",
    "            if len(activePositions) >= max_positions:\n",
    "                break\n",
    "            try:\n",
    "                currentRow = dfTestList[pair[0]+'/'+pair[1]].loc[index]\n",
    "                n1Row = dfTestList[pair[0]+'/'+pair[1]].loc[n1index]\n",
    "                n2Row = dfTestList[pair[0]+'/'+pair[1]].loc[n2index]\n",
    "                if openLongCondition(n1Row, n2Row) == True:\n",
    "                    usdMultiplier = 1/(max_positions-len(activePositions))\n",
    "                    myEntry = usdMultiplier * usdRemaining\n",
    "                    usdRemaining -= myEntry\n",
    "                    activePositions[pair[0]+'/'+pair[1]] = {\n",
    "                        \"side\":\"LONG\",\n",
    "                        \"entrySize\":myEntry,\n",
    "                        \"initialPrice1\":currentRow['Open_1'],\n",
    "                        \"initialPrice2\":currentRow['Open_2'],\n",
    "                    }\n",
    "                    openLongRow = {\n",
    "                        'date': index, \n",
    "                        'pair': pair[0]+'/'+pair[1],\n",
    "                        'openOrClose':'Open', \n",
    "                        'position': \"LONG\", \n",
    "                        'price1': currentRow['Open_1'], \n",
    "                        'price2': currentRow['Open_2'],\n",
    "                        'wallet': wallet,\n",
    "                        'reason': 'Open Long Market',\n",
    "                    }\n",
    "                    trades.append(openLongRow)\n",
    "\n",
    "                elif openShortCondition(n1Row, n2Row) == True:\n",
    "                    usdMultiplier = 1/(max_positions-len(activePositions))\n",
    "                    myEntry = usdMultiplier * usdRemaining\n",
    "                    usdRemaining -= myEntry\n",
    "                    activePositions[pair[0]+'/'+pair[1]] = {\n",
    "                        \"side\":\"SHORT\",\n",
    "                        \"entrySize\":myEntry,\n",
    "                        \"initialPrice1\":currentRow['Open_1'],\n",
    "                        \"initialPrice2\":currentRow['Open_2'],\n",
    "                    }\n",
    "                    openShortRow = {\n",
    "                        'date': index, \n",
    "                        'pair': pair[0]+'/'+pair[1],\n",
    "                        'openOrClose':'Open', \n",
    "                        'position': \"SHORT\", \n",
    "                        'price1': currentRow['Open_1'], \n",
    "                        'price2': currentRow['Open_2'],\n",
    "                        'wallet': wallet,\n",
    "                        'reason': 'Open Short Market',\n",
    "                    }\n",
    "                    trades.append(openShortRow)\n",
    "            except e:\n",
    "                print(e)\n",
    "                pass\n",
    "            \n",
    "    n2index = n1index            \n",
    "    n1index = index\n",
    "    \n",
    "dfTrades = pd.DataFrame(trades)\n",
    "dfDays = pd.DataFrame(days)\n",
    "print(\"Backtest finised 100%\")\n",
    "dfTrades"
   ]
  },
  {
   "cell_type": "code",
   "execution_count": null,
   "metadata": {},
   "outputs": [],
   "source": [
    "backtest = Backtesting()\n",
    "newDfTrades = backtest.complete_multi_backtest(dfTrades, dfDays, list(dfTestList.keys()))"
   ]
  },
  {
   "cell_type": "code",
   "execution_count": null,
   "metadata": {},
   "outputs": [],
   "source": [
    "backtest.plot_bar_by_month(dfTrades)"
   ]
  },
  {
   "cell_type": "code",
   "execution_count": null,
   "metadata": {},
   "outputs": [],
   "source": [
    "dfSP = pd.read_csv('SP_SPX, 1D.csv')\n",
    "\n",
    "def plot_wallet_evolution(dfTrades, dfSP):\n",
    "    fig, ax_left = plt.subplots(figsize=(20, 10))\n",
    "    ax_right = ax_left.twinx()\n",
    "    \n",
    "    dfSPCopy = dfSP.copy()\n",
    "    dfSPCopy = dfSPCopy.set_index(dfSPCopy['time'])\n",
    "    dfSPCopy.index = pd.to_datetime(dfSPCopy.index, unit='s')\n",
    "    dfSPCopy = dfSPCopy['2016':]\n",
    "    \n",
    "    dfTradesCopy = dfTrades.copy()\n",
    "    dfTradesCopy = dfTradesCopy.set_index(dfTradesCopy['date'])\n",
    "    dfTradesCopy.index = pd.to_datetime(dfTradesCopy.index)\n",
    "    ax_left.plot(dfTradesCopy['wallet'], color='black')\n",
    "    ax_right.plot(dfSPCopy['close'], color='red')\n",
    "    print(\"\\n----- Plot S&P500 vs Wallet evolution -----\")\n",
    "    \n",
    "plot_wallet_evolution(dfTrades, dfSP)"
   ]
  },
  {
   "cell_type": "markdown",
   "metadata": {},
   "source": [
    "<h1>Conclusion and critique of the project</h1>\n",
    "\n",
    "<p>\n",
    "The first question following the project is should you install this algorithm to manage part of your portfolio?    \n",
    "In the current state of the strategy, I will have to answer you no.   \n",
    "    \n",
    "Indeed for us the results are not satisfactory, a sharpe ratio below 1, a drawdown around 20%. These are the 2 metrics that make us say that the strategy must be improved before entrusting it with funds.  \n",
    "    \n",
    "However, what are the positive points of the current strategy?  \n",
    "The strategy still has a result of +85% over 5 years. While being market neutral. If we compare over the years tested, the performance is worse than the S&P500 or the Nasdaq but is it consistent to compare the performance to indexes knowing that the strategy is not affected by the general state of the market. Indeed, these performances could be reproduced even in a very bearish market, such as following the 2008 crisis.\n",
    "    \n",
    "This strategy can for example be used if you want to make your capital work and you do not want to be exposed to market variations. We also manage to more or less replicate the performance of the S&P500 while we are never in position on more than 2 pairs (4 assets) which can be a big advantage in terms of ease of execution and also less fees.\n",
    "    \n",
    "What are the points that could make this strategy better?\n",
    "- Perhaps the first problem is the size of the positions, on each position here we take 50% of our portfolio. This creates too high risks. It would be good to be less selective in entering position but also in selecting pairs. This would allow us to increase the maximum number of positions that we could take without reducing the performance of the strategy.\n",
    "- We also have a problem with very bad trades. We have a stop loss at 2% however our worst trade is at -16%. This is due to the fact that we are based on the closing and we take a position at the opening. For example if we have a signal at the close of Thursday. We will open a position at the opening on Friday. The position will remain open all weekend and can only be closed at the open on Tuesday. We have a lack of responsiveness which means that even with a 2% stop loss some positions lose much more. One solution would be, for example, to always close positions before the closing, especially before the weekend.\n",
    "- The machine learning approach could also contribute to the strategy. For the moment the results are less good with a machine learning approach, whether at the level of pair selection or strategy. However, we ran out of time to deepen this point, in particular to do more tests with the selection of pairs with different parameters. For the strategy it is only a draft and it would be necessary to start again while seeing what is likely to work and what does not work.\n",
    "- One point on which we are not at all focused is the sizing. It would be necessary to study the fact of entering and exiting positions in several times. It goes with risk management and portfolio management.\n",
    "    \n",
    "    \n",
    "To conclude with strategy you will find a good outline of a pair trading strategy. You have a complete model to be able to test this type of strategy thanks to the backtest. However, it still needs to be improved if one day we want to be able to invest in this strategy.\n",
    "\n",
    "</p>"
   ]
  }
 ],
 "metadata": {
  "kernelspec": {
   "display_name": "Python 3 (ipykernel)",
   "language": "python",
   "name": "python3"
  },
  "language_info": {
   "codemirror_mode": {
    "name": "ipython",
    "version": 3
   },
   "file_extension": ".py",
   "mimetype": "text/x-python",
   "name": "python",
   "nbconvert_exporter": "python",
   "pygments_lexer": "ipython3",
   "version": "3.9.7"
  }
 },
 "nbformat": 4,
 "nbformat_minor": 4
}
