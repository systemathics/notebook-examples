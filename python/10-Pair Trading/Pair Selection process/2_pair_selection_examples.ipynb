{
 "cells": [
  {
   "cell_type": "markdown",
   "metadata": {},
   "source": [
    "The cells below are for testing the functions of the Selection class in the *pair_selection.py* file. For more information about the purpose and usability of some functions please refer to the docstrings inside the file."
   ]
  },
  {
   "cell_type": "code",
   "execution_count": null,
   "metadata": {},
   "outputs": [],
   "source": [
    "# ---------- INSTALLATION AND IMPORTATION ----------\n",
    "\n",
    "!pip install googleapis-common-protos protobuf grpcio pandas systemathics.apis\n",
    "!pip install statsmodels\n",
    "!pip install matplotlib"
   ]
  },
  {
   "cell_type": "code",
   "execution_count": null,
   "metadata": {},
   "outputs": [],
   "source": [
    "import pair_selection"
   ]
  },
  {
   "cell_type": "markdown",
   "metadata": {},
   "source": [
    "# Construction"
   ]
  },
  {
   "cell_type": "markdown",
   "metadata": {},
   "source": [
    "We import our file and create an object with the default variables except for the date which we define as from January 1st 2015. The construction of this object will take some time to make all the API calls to retrieve the information on the assets and then the prices of each."
   ]
  },
  {
   "cell_type": "markdown",
   "metadata": {},
   "source": [
    "By default we have set the **stationarity** variable to *True* and the **correlation** one to *False* so we don't calculate it, the reason is that just looking at correlation might give you spurious results. For instance, if your pairs trading strategy is based on the spread between the prices of the two stocks, it is possible that the prices of the two stocks keep on increasing without ever mean-reverting, thus, one should be careful of using only correlation for pairs trading. This is why we would rather use the **cointegration** that is very similar to stationarity, indeed if A and B are cointegrated then it implies that the log of the ratio is stationary which suggests that the mean and variance remains constant over time."
   ]
  },
  {
   "cell_type": "code",
   "execution_count": null,
   "metadata": {},
   "outputs": [],
   "source": [
    "s = pair_selection.Selection(start_date=\"2015-01-01\")"
   ]
  },
  {
   "cell_type": "markdown",
   "metadata": {},
   "source": [
    "2 class variables are built during the initialization, they can be consulted :"
   ]
  },
  {
   "cell_type": "markdown",
   "metadata": {},
   "source": [
    "*data* is a dataframe gathering general information about the assets such as their name, ticker and sector among others."
   ]
  },
  {
   "cell_type": "code",
   "execution_count": null,
   "metadata": {},
   "outputs": [],
   "source": [
    "s.data"
   ]
  },
  {
   "cell_type": "markdown",
   "metadata": {},
   "source": [
    "*df_all_prices* is also a dataframe but it gathers the daily closing prices of all the assets between the starting date we've set in the constructor until the day the request was made."
   ]
  },
  {
   "cell_type": "code",
   "execution_count": null,
   "metadata": {},
   "outputs": [],
   "source": [
    "s.df_all_prices"
   ]
  },
  {
   "cell_type": "markdown",
   "metadata": {},
   "source": [
    "# Method Class"
   ]
  },
  {
   "cell_type": "markdown",
   "metadata": {},
   "source": [
    "Let's test some class methods :"
   ]
  },
  {
   "cell_type": "code",
   "execution_count": null,
   "metadata": {},
   "outputs": [],
   "source": [
    "ticker1 = 'MCHP'\n",
    "ticker2 = 'AVGO'\n",
    "\n",
    "new_df = s.logAndRatio(ticker1, ticker2)\n",
    "new_df"
   ]
  },
  {
   "cell_type": "code",
   "execution_count": null,
   "metadata": {},
   "outputs": [],
   "source": [
    "corrStatio = s.pairCorr(ticker1, ticker2)\n",
    "corrStatio"
   ]
  },
  {
   "cell_type": "markdown",
   "metadata": {},
   "source": [
    "Since the variable indicating that the stationarity calculation should be performed is set to *False* by default, it is normal that no value or dedicated column is returned."
   ]
  },
  {
   "cell_type": "markdown",
   "metadata": {},
   "source": [
    "Let's repeat the same operation but this time between two specific dates to see if everything works correctly."
   ]
  },
  {
   "cell_type": "code",
   "execution_count": null,
   "metadata": {},
   "outputs": [],
   "source": [
    "ticker1 = 'MCHP'\n",
    "ticker2 = 'AVGO'\n",
    "\n",
    "start_date = '2019-01-08'\n",
    "end_date = '2021-11-17'\n",
    "\n",
    "new_df = s.logAndRatio(ticker1, ticker2, start_date, end_date)\n",
    "new_df"
   ]
  },
  {
   "cell_type": "markdown",
   "metadata": {},
   "source": [
    "# Get best pairs"
   ]
  },
  {
   "cell_type": "markdown",
   "metadata": {},
   "source": [
    "Again we will try to call the method ``get_best_pairs()`` without modifying the parameters (the calculation will be done from the first to the last date) then we will add an interval."
   ]
  },
  {
   "cell_type": "code",
   "execution_count": null,
   "metadata": {},
   "outputs": [],
   "source": [
    "top = s.get_best_pairs()\n",
    "top"
   ]
  },
  {
   "cell_type": "code",
   "execution_count": null,
   "metadata": {},
   "outputs": [],
   "source": [
    "start_date = '2019-01-08'\n",
    "end_date = '2021-11-17'\n",
    "\n",
    "top = s.get_best_pairs(start_date, end_date) # pouvoir appliquer la fonction entre deux dates\n",
    "top"
   ]
  },
  {
   "cell_type": "markdown",
   "metadata": {},
   "source": [
    "# Get alltime best pair at regular intervals"
   ]
  },
  {
   "cell_type": "markdown",
   "metadata": {},
   "source": [
    "In order to get the best pairs per period for our backtest we will call the function *get_alltime_best_pairs*. This function works like this :"
   ]
  },
  {
   "cell_type": "markdown",
   "metadata": {},
   "source": [
    "From the starting date until last date and progressing in a **range of a specific interval** in months, it saves in a **json file** the pairs with a **satisfying correlation value and/or stationarity** following the instance variable criteria set and this **between two increasing months of a specific interval**. \n",
    "\n",
    "*We presume that start_date is 2015-03-01 and end_date is 2021-06-18, interval is 6 and repetition is 2. We will then start the computations on price data between 2015-03-01 and 2015-09-01 (+6 months), then do it again after 2 months: therefore between 2015-05-01 and 2015-11-01 etc until end_date is 2021-06-01.*"
   ]
  },
  {
   "cell_type": "markdown",
   "metadata": {},
   "source": [
    "We keep the default repetition of the computation i.e. every month, but to have multiples files for backtesting purposes we need to vary the use of the correlation or not and the stationarity, but also the interval of months on which each computation is made. The goal is to have enough different outputs for the backtest and to only keep the best at the end, therefore we will also try with correlation only and both correlation and stationarity."
   ]
  },
  {
   "cell_type": "code",
   "execution_count": null,
   "metadata": {},
   "outputs": [],
   "source": [
    "s.get_alltime_best_pairs(filename=\"json_best_pairs/semestrial_statio\")"
   ]
  },
  {
   "cell_type": "code",
   "execution_count": null,
   "metadata": {},
   "outputs": [],
   "source": [
    "s.get_alltime_best_pairs(interval=12, filename=\"json_best_pairs/yearly_statio\")"
   ]
  },
  {
   "cell_type": "code",
   "execution_count": null,
   "metadata": {},
   "outputs": [],
   "source": [
    "s.get_alltime_best_pairs(interval=4, filename=\"json_best_pairs/trimestrial_statio\")"
   ]
  },
  {
   "cell_type": "markdown",
   "metadata": {},
   "source": [
    "The three cells before only took into account the stationary result of a pair : if *p*value was under 5% then we could consider the pair as stationary and add it to the json file.\n",
    "\n",
    "Now we try the mingling with the correlation, the pair will be considered as valid if stationary but also if correlated at at least 70% (values can be accessed and modified with ```self.mincorr_level=0.8``` for setting it at 80%)."
   ]
  },
  {
   "cell_type": "code",
   "execution_count": null,
   "metadata": {},
   "outputs": [],
   "source": [
    "s.use_statio = True\n",
    "s.use_corr = True\n",
    "s.get_alltime_best_pairs(filename=\"json_best_pairs/semestrial_statio_and_corr\")"
   ]
  },
  {
   "cell_type": "code",
   "execution_count": null,
   "metadata": {},
   "outputs": [],
   "source": [
    "s.get_alltime_best_pairs(interval=12, filename=\"json_best_pairs/yearly_statio_and_corr\")"
   ]
  },
  {
   "cell_type": "code",
   "execution_count": null,
   "metadata": {},
   "outputs": [],
   "source": [
    "s.get_alltime_best_pairs(interval=4, filename=\"json_best_pairs/trimestrial_statio_and_corr\")"
   ]
  },
  {
   "cell_type": "markdown",
   "metadata": {},
   "source": [
    "Same idea as before but this time only considering the correlation and not the stationarity anymore."
   ]
  },
  {
   "cell_type": "code",
   "execution_count": null,
   "metadata": {},
   "outputs": [],
   "source": [
    "s.use_statio = False\n",
    "s.use_corr = True\n",
    "s.get_alltime_best_pairs(filename=\"json_best_pairs/semestrial_corr\")"
   ]
  },
  {
   "cell_type": "code",
   "execution_count": null,
   "metadata": {},
   "outputs": [],
   "source": [
    "s.get_alltime_best_pairs(interval=12, filename=\"json_best_pairs/yearly_corr\")"
   ]
  },
  {
   "cell_type": "code",
   "execution_count": null,
   "metadata": {},
   "outputs": [],
   "source": [
    "s.get_alltime_best_pairs(interval=4, filename=\"json_best_pairs/trimestrial_corr\")"
   ]
  },
  {
   "cell_type": "markdown",
   "metadata": {},
   "source": [
    "Here is an overview of what the first line ``s.get_alltime_best_pairs(filename=\"semestrial_statio\")`` returns in the json file :\n",
    "\n",
    "```json\n",
    "{\n",
    "    \"2015-07-01\": [\n",
    "        [\n",
    "            \"SPLK\",\n",
    "            \"INTU\"\n",
    "        ],\n",
    "        [\n",
    "            \"MCHP\",\n",
    "            \"NVDA\"\n",
    "        ],\n",
    "        [\n",
    "            \"SPLK\",\n",
    "            \"EA\"\n",
    "        ],\n",
    "        [\n",
    "            \"ANSS\",\n",
    "            \"CDNS\"\n",
    "        ],\n",
    "        [\n",
    "            \"SPLK\",\n",
    "            \"ATVI\"\n",
    "        ],\n",
    "        [\n",
    "            \"CDNS\",\n",
    "            \"ADBE\"\n",
    "        ],\n",
    "        [\n",
    "            \"ADSK\",\n",
    "            \"WDAY\"\n",
    "        ]\n",
    "    ],\n",
    "    \"2015-08-01\": [ \" ... \" ],\n",
    "    \"2015-09-01\": [ \" ... \" ],\n",
    "    \" ... \": [ \" ... \" ],\n",
    "    \"2021-12-01\": [\n",
    "        [\n",
    "            \"ANSS\",\n",
    "            \"ADBE\"\n",
    "        ],\n",
    "        [\n",
    "            \"NVDA\",\n",
    "            \"XLNX\"\n",
    "        ],\n",
    "        [\n",
    "            \"MRVL\",\n",
    "            \"AVGO\"\n",
    "        ],\n",
    "        [\n",
    "            \"ADSK\",\n",
    "            \"CHKP\"\n",
    "        ],\n",
    "        [\n",
    "            \"MRVL\",\n",
    "            \"MCHP\"\n",
    "        ],\n",
    "        [\n",
    "            \"CHKP\",\n",
    "            \"EA\"\n",
    "        ],\n",
    "        [\n",
    "            \"PAYX\",\n",
    "            \"CPRT\"\n",
    "        ],\n",
    "        [\n",
    "            \"VRTX\",\n",
    "            \"GILD\"\n",
    "        ]\n",
    "    ]\n",
    "}\n",
    "```"
   ]
  }
 ],
 "metadata": {
  "kernelspec": {
   "display_name": "Python 3 (ipykernel)",
   "language": "python",
   "name": "python3"
  },
  "language_info": {
   "codemirror_mode": {
    "name": "ipython",
    "version": 3
   },
   "file_extension": ".py",
   "mimetype": "text/x-python",
   "name": "python",
   "nbconvert_exporter": "python",
   "pygments_lexer": "ipython3",
   "version": "3.7.9"
  }
 },
 "nbformat": 4,
 "nbformat_minor": 4
}
