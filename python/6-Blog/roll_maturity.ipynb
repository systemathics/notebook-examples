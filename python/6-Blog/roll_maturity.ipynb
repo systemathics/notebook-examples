{
 "cells": [
  {
   "cell_type": "markdown",
   "id": "4f9d7f39",
   "metadata": {},
   "source": [
    "# Future roll scenario : Maturity Approach - Python\n",
    "\n",
    "### Overview\n",
    "Future contracts are liquid and often used to gain exposure to a variety of asset classes. However they must be rolled on a periodic basis to avoid expiry or triggering delivery.\n",
    "\n",
    "The period surrounding contract rollover can be challenging time. Future roll strategies help to better prepare moves in the market and optimize trading positions.\n",
    "\n",
    "In order to identify future roll optimal dates, the following methods can be used:\n",
    "1. Maturity date\n",
    "2. Trading volume\n",
    "3. Market activity\n",
    "\n",
    "In this example, the strategy chosen to determine the future roll date  is based on the **maturity date**.\n",
    "\n",
    "This sample demonstrates how to request and plot from a dedicated data service **on-demand** bars for a <i>`given future, all maturities`</i>.\n",
    "\n",
    "### Inputs/outputs\n",
    "Future roll sample requires future contact's identifier and date time intervals as per inputs. It returns future's continuous price over the look back period.<br>\n",
    "The results is sampled using a one day delay until front's maturity to roll from front to back. \n",
    "\n",
    "This sample shows also how to plot the returned bars using an open source library.\n",
    "### Services used\n",
    "This sample uses gRPC requests in order to retrieve information from hosted services. The queried endpoint in this script are:\n",
    "* StaticData: to get the intrument identifier from the input\n",
    "* Bars: to get market data for each instrument\n",
    "\n",
    "### Modules required\n",
    "1. Systemathics packages:\n",
    "    * *systemathics.apis*\n",
    "2. Open source packages\n",
    "    * *googleapis-common-protos*\n",
    "    * *protobuf*\n",
    "    * *grpcio*\n",
    "    * *pandas*\n",
    "\n",
    "***"
   ]
  },
  {
   "cell_type": "markdown",
   "id": "92a844f3",
   "metadata": {},
   "source": [
    "# Run future roll sample - maturity approach"
   ]
  },
  {
   "cell_type": "markdown",
   "id": "790b866e",
   "metadata": {},
   "source": [
    "### Step 1: Install packages and import them"
   ]
  },
  {
   "cell_type": "code",
   "execution_count": null,
   "id": "2c7a49a2",
   "metadata": {},
   "outputs": [],
   "source": [
    "pip install googleapis-common-protos protobuf grpcio pandas matplotlib systemathics.apis"
   ]
  },
  {
   "cell_type": "code",
   "execution_count": null,
   "id": "997bfc77",
   "metadata": {},
   "outputs": [],
   "source": [
    "import os\n",
    "import grpc\n",
    "import pandas as pd\n",
    "from datetime import datetime\n",
    "import google.type.date_pb2 as date\n",
    "import google.type.timeofday_pb2 as timeofday\n",
    "import google.type.dayofweek_pb2 as dayofweek\n",
    "import google.protobuf.duration_pb2 as duration\n",
    "import google.protobuf as pb\n",
    "\n",
    "import systemathics.apis.type.shared.v1.identifier_pb2 as identifier\n",
    "import systemathics.apis.type.shared.v1.constraints_pb2 as constraints\n",
    "import systemathics.apis.type.shared.v1.date_interval_pb2 as dateinterval\n",
    "import systemathics.apis.type.shared.v1.time_interval_pb2 as timeinterval\n",
    "\n",
    "import systemathics.apis.services.static_data.v1.static_data_pb2 as static_data\n",
    "import systemathics.apis.services.static_data.v1.static_data_pb2_grpc as static_data_service\n",
    "import systemathics.apis.services.tick_analytics.v1.tick_bars_pb2 as tick_bars\n",
    "import systemathics.apis.services.tick_analytics.v1.tick_bars_pb2_grpc as tick_bars_service\n",
    "import systemathics.apis.helpers.token_helpers as token_helpers\n",
    "import systemathics.apis.helpers.channel_helpers as channel_helpers"
   ]
  },
  {
   "cell_type": "markdown",
   "id": "cafc7552",
   "metadata": {},
   "source": [
    "### Step 2: Prepare API requests\n",
    "The following code snippets retrieve authentication token to be used in upcomming API requests:"
   ]
  },
  {
   "cell_type": "code",
   "execution_count": null,
   "id": "d1682d33",
   "metadata": {},
   "outputs": [],
   "source": [
    "token = token_helpers.get_token()\n",
    "display(token)"
   ]
  },
  {
   "cell_type": "markdown",
   "id": "dbc3dd51",
   "metadata": {},
   "source": [
    "### Step 3: Retrieve data"
   ]
  },
  {
   "cell_type": "markdown",
   "id": "f46b6023",
   "metadata": {},
   "source": [
    "#### 3.1 Define input\n",
    "In a first time the user has to decide the lookup time span and the selected instrument.<br>"
   ]
  },
  {
   "cell_type": "code",
   "execution_count": null,
   "id": "1ee0ef6e",
   "metadata": {},
   "outputs": [],
   "source": [
    "# Defin start and end\n",
    "start = datetime(year=2020,month=2,day=1)\n",
    "end = datetime(year=2020,month=7,day=31)\n",
    "contract = \"WBS\" #  WTI Crude future"
   ]
  },
  {
   "cell_type": "markdown",
   "id": "23b8bf3b",
   "metadata": {},
   "source": [
    "#### 3.2 Future selection\n",
    "Generate the future identifier by using the [research engine](https://ganymede.systemathics.com/user-redirect/lab/tree/csharp/1-Reference%20data/symbology.ipynb). The code snippets below run a static data request to retrieve all maturities for the given instrument:"
   ]
  },
  {
   "cell_type": "code",
   "execution_count": null,
   "id": "c7e321bf",
   "metadata": {},
   "outputs": [],
   "source": [
    "# generate request and add filter values\n",
    "data_request = static_data.StaticDataRequest( asset_type = static_data.AssetType.ASSET_TYPE_FUTURE)\n",
    "data_request.future_contract.value = 'WBS'\n",
    "data_request.count.value = 1000"
   ]
  },
  {
   "cell_type": "code",
   "execution_count": null,
   "id": "c41b8a67",
   "metadata": {},
   "outputs": [],
   "source": [
    "try:\n",
    "    # open a gRPC channel\n",
    "    with channel_helpers.get_grpc_channel() as channel:  \n",
    "\n",
    "        rpc_service = static_data_service.StaticDataServiceStub(channel)\n",
    "        metadata = [('authorization', token)]\n",
    "        \n",
    "        # Process the request\n",
    "        response = rpc_service.StaticData(request=data_request, metadata=metadata)\n",
    "        \n",
    "    sorted_futures = sorted(response.futures, key=lambda x: (x.maturity.year, x.maturity.month))\n",
    "except grpc.RpcError as e:\n",
    "    display(e.code().name)\n",
    "    display(e.details())"
   ]
  },
  {
   "cell_type": "code",
   "execution_count": null,
   "id": "d9f9e5b0",
   "metadata": {},
   "outputs": [],
   "source": [
    "print(\"Total futures retrieved: \", len(sorted_futures))"
   ]
  },
  {
   "cell_type": "markdown",
   "id": "db25fe36",
   "metadata": {},
   "source": [
    "#### 3.3 Filter needed futures"
   ]
  },
  {
   "cell_type": "code",
   "execution_count": null,
   "id": "af52249c",
   "metadata": {},
   "outputs": [],
   "source": [
    "# Filter futures : select only futures with a maturity matching the selected period\n",
    "selected_futures = [] \n",
    "last_future = True\n",
    "for future in sorted_futures:\n",
    "    maturity = datetime(future.maturity.year, future.maturity.month,future.maturity.day)\n",
    "    if maturity > start:\n",
    "        if maturity < end:\n",
    "            selected_futures.append(future)\n",
    "        else:\n",
    "            if last_future == True:\n",
    "                selected_futures.append(future) # add the last contract\n",
    "                last_future = False\n",
    "            else:\n",
    "                break\n",
    "\n",
    "count = len(selected_futures)\n",
    "print(\"Total futures selected: \", count)"
   ]
  },
  {
   "cell_type": "markdown",
   "id": "aa773ae9",
   "metadata": {},
   "source": [
    "#### 3.4 Prepare data for upcoming bars request: select start date, end date and Memo."
   ]
  },
  {
   "cell_type": "code",
   "execution_count": null,
   "id": "a5413b5a",
   "metadata": {},
   "outputs": [],
   "source": [
    "from datetime import timedelta \n",
    "\n",
    "identifiers, starts, ends = [],[],[]\n",
    "days_delta = 2 # number of days before rolling\n",
    "begin_date, end_date = start, end # these are the variables we will use to define the period for each future ticker\n",
    "for i in range(count):\n",
    "    current_future = selected_futures[i]\n",
    "    maturity = datetime(current_future.maturity.year, current_future.maturity.month,current_future.maturity.day)\n",
    "    \n",
    "    # We have to deal with the first (resp. last) futures differently since the start (resp. end) dates will be determined by the given time period\n",
    "    if i ==0:\n",
    "        # handle first future: specific begin_date\n",
    "        begin_date =start\n",
    "        end_date = maturity - timedelta(days=days_delta)\n",
    "        identifiers.append(current_future.identifier)\n",
    "        starts.append(begin_date)\n",
    "        ends.append(end_date)\n",
    "    elif i == count-1:\n",
    "        # handle last future: specific end _date\n",
    "        begin_date = end_date + timedelta(days=1) # set the new begin_date for that future to the previous end_date + one day\n",
    "        end_date = end\n",
    "        identifiers.append(current_future.identifier)\n",
    "        starts.append(begin_date)\n",
    "        ends.append(end_date)\n",
    "    else:\n",
    "        # default case\n",
    "        begin_date = end_date + timedelta(days=1) # set the new begin_date for that future to the previous end_date + one day\n",
    "        end_date = maturity - timedelta(days=days_delta)\n",
    "        identifiers.append(current_future.identifier)\n",
    "        starts.append(begin_date)\n",
    "        ends.append(end_date)\n",
    "        "
   ]
  },
  {
   "cell_type": "code",
   "execution_count": null,
   "id": "6b276e6b",
   "metadata": {},
   "outputs": [],
   "source": [
    "# store in a dataframe and visualize start/end dates\n",
    "d = {'Identifier': identifiers, 'Start': starts, 'End': ends}\n",
    "df = pd.DataFrame(data=d)\n",
    "df.head(20) #display head to visualize output"
   ]
  },
  {
   "cell_type": "markdown",
   "id": "bd4d2b41",
   "metadata": {},
   "source": [
    "### Step 4: Get bars to get a continuous price"
   ]
  },
  {
   "cell_type": "markdown",
   "id": "0443301a",
   "metadata": {},
   "source": [
    "#### 4.1 Define methods"
   ]
  },
  {
   "cell_type": "code",
   "execution_count": null,
   "id": "d45eacaa",
   "metadata": {},
   "outputs": [],
   "source": [
    "# Define a method that creates a request to the topology endpoint for the given ticker in order to batch request later in the sample\n",
    "# Note: some secondary arguments are 'hardcoded here' to keep the method signature light:\n",
    "#  - Duration (1 hour bars)\n",
    "#  - Excluded Days (Sat/Sun excluded)\n",
    "def get_bars_request(identifier, start, end):\n",
    "    \n",
    "    # --> Sampling\n",
    "    sampling = 60 * 60\n",
    "    \n",
    "    # --> Constraints : specify the start/close date, a time interval, and filtered days.\n",
    "\n",
    "    # Set the start/close date\n",
    "    start_date = date.Date(year = start.year, month =start.month, day = start.day)\n",
    "    end_date = date.Date(year = end.year, month =end.month, day = end.day)\n",
    "    date_interval = dateinterval.DateInterval(start_date = start_date, end_date= end_date)\n",
    "\n",
    "    # Set days to exclude\n",
    "    excluded_days = [ dayofweek.SATURDAY, dayofweek.SUNDAY ]\n",
    "\n",
    "    # Constraints: no need time interval\n",
    "    constraint = constraints.Constraints(date_intervals = [date_interval],\n",
    "                                         excluded_days = excluded_days,\n",
    "                                         excluded_dates = [])\n",
    "    \n",
    "    # Set default begin time\n",
    "    begin_time = timeofday.TimeOfDay(hours = 0, minutes= 0, seconds = 0)\n",
    "    \n",
    "    request = tick_bars.TickBarsRequest(identifier = identifier,\n",
    "                                    field = tick_bars.BAR_PRICE_TRADE,\n",
    "                                    sampling = duration.Duration(seconds = sampling),\n",
    "                                    constraints = constraint )\n",
    "    return request\n",
    "    "
   ]
  },
  {
   "cell_type": "markdown",
   "id": "c96917c7",
   "metadata": {},
   "source": [
    "#### 4.2 Process bars request for each future\n",
    "We have to use the previously defined  `get_bars_request` method to generate the request and process it. Results will be stored in a dictionary before being displayed."
   ]
  },
  {
   "cell_type": "code",
   "execution_count": null,
   "id": "2174b278",
   "metadata": {},
   "outputs": [],
   "source": [
    "# Create dictionary\n",
    "responses_dict = {}\n",
    "\n",
    "for i in range(count):\n",
    "    try:\n",
    "        # open a gRPC channel\n",
    "        with channel_helpers.get_grpc_channel() as channel:  \n",
    "            \n",
    "            # instantiate the tick bars service\n",
    "            service = tick_bars_service.TickBarsServiceStub(channel)\n",
    "        \n",
    "            # process the tick bars request\n",
    "            bars = []\n",
    "            \n",
    "            # prepare to store the bars\n",
    "            key=identifiers[i].ticker \n",
    "            \n",
    "            metadata = [('authorization', token)]\n",
    "            request = get_bars_request(identifiers[i], starts[i], ends[i])\n",
    "            for bar in service.TickBars(request=request, metadata=metadata):\n",
    "                bars.append(bar)\n",
    "            \n",
    "            # add bars to dictionary\n",
    "            responses_dict[key] = bars\n",
    "    except grpc.RpcError as e:\n",
    "        display(e.code().name)\n",
    "        display(e.details())\n",
    "\n",
    "display(responses_dict.keys())"
   ]
  },
  {
   "cell_type": "markdown",
   "id": "845c23c3",
   "metadata": {},
   "source": [
    "### Step 5: Visualize data\n",
    "\n",
    "The following code snippets retrieve for each maturity, the *Close prices* over the look back period from the request result and plot them with the package of your choice.<br><i>`XPlot.Plotly`</i> is used as per open source display package."
   ]
  },
  {
   "cell_type": "code",
   "execution_count": null,
   "id": "77c4a9aa",
   "metadata": {},
   "outputs": [],
   "source": [
    "import matplotlib.pyplot as plt\n",
    "\n",
    "# create figure and axis objects with subplots()\n",
    "fig,ax = plt.subplots(1,1,figsize=(25,10))\n",
    "for key in responses_dict.keys():\n",
    "    bars = responses_dict[key]\n",
    "    closes = [b.close for b in bars]\n",
    "    dates=[datetime.fromtimestamp(b.time_stamp.seconds) for b in bars]\n",
    "    ax.plot(dates, closes, marker='', linewidth=2, label=key)\n",
    "ax.set_xlabel(\"Date\",fontsize=14)\n",
    "ax.set_ylabel(\"Close\",fontsize=14)\n",
    "plt.title('{0} maturity roll ({1} days before) - 1 hour bars'.format(contract, days_delta))\n",
    "plt.legend()\n",
    "plt.show()"
   ]
  }
 ],
 "metadata": {
  "kernelspec": {
   "display_name": "Python 3 (ipykernel)",
   "language": "python",
   "name": "python3"
  },
  "language_info": {
   "codemirror_mode": {
    "name": "ipython",
    "version": 3
   },
   "file_extension": ".py",
   "mimetype": "text/x-python",
   "name": "python",
   "nbconvert_exporter": "python",
   "pygments_lexer": "ipython3",
   "version": "3.8.10"
  }
 },
 "nbformat": 4,
 "nbformat_minor": 5
}
