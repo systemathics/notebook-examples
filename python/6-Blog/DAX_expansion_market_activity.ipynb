{
 "cells": [
  {
   "cell_type": "markdown",
   "id": "6bd2ccc2",
   "metadata": {},
   "source": [
    "# DAX expansion Market activity - Python\n",
    "\n",
    "### Overview\n",
    "This notebook is the basis of this blog post : https://ganymde.cloud/dax-expansion.html\n",
    "\n",
    "In this sample, we will get an insight on how an index impacts a stock liquidity. We will look back on how DAX index expansion from 30 to 40 stocks impacted liquidity for these new stocks leveraging several APIs we provide.\n",
    "\n",
    "Following the announcement of Deutsche Böerse in 2020, the index became larger since <i>20 September 2021</i> by incorporating ten of the largest companies from Germany's MDAX listing 👇\n",
    "* *Airbus SE, Brenntag SE, HelloFresh SE, Porsche SE, Puma SE, Qiagen NV, Sartorius AG (Pref. shares), Siemens Healthineers AG, Symrise AG and Zalando SE*\n",
    "\n",
    "In order to understand the **index expansion impact on liquidity** for DAX components, we suggest to start with a purely technical indicator which is the **ticks count**, internally named `topolgy`. Each **market event** is pre-mapped, normalized and stored as a *tick* in our data store:\n",
    "* Trades: timestamps, prices, sizes, trades Ids, trade conditions, etc.\n",
    "* Book quotes (best bids and asks): timestamps, prices, sizes, etc.\n",
    "\n",
    "This samples enables to retrieve **on-demand** ticks count data points by calling a dedicated service.\n",
    "\n",
    "### Inputs/outputs\n",
    "Tick count sample requires instruments' identifiers, date time intervals and time granularity as per inputs. It returns the ticks count data sampled using the input time granularity, readily available for on-the-fly analytics.\n",
    "\n",
    "We will request **ticks count for the DAX components** before and after the index expansion, on *20 September 2021*. \n",
    "Then, we will compute **market activity movements** for each new component in order to understand the `integration into index impact on liquidity`.\n",
    "\n",
    "### Services used\n",
    "This sample uses *gRPC requests* in order to retrieve ticks from the dedicated hosted service. The queried endpoint in this script are:\n",
    "* TopologiesService: to directly retrieve ticks objects from the server.\n",
    "\n",
    "### Modules required\n",
    "1. Systemathics packages:\n",
    "    * *systemathics.apis.services.topology.v1*\n",
    "    * *systemathics.apis.type.shared.v1*\n",
    "    * *google.type*\n",
    "2. Open source packages\n",
    "    * *googleapis-common-protos*\n",
    "    * *protobuf*\n",
    "    * *grpcio*\n",
    "    * *pandas*\n",
    "    * *matpotlib* as per display package\n",
    "    \n",
    "***"
   ]
  },
  {
   "cell_type": "markdown",
   "id": "da5f77db",
   "metadata": {},
   "source": [
    "# Run DAX expansion - Market activity"
   ]
  },
  {
   "cell_type": "markdown",
   "id": "3e74ca8b",
   "metadata": {},
   "source": [
    "### Step 1: Import required packages"
   ]
  },
  {
   "cell_type": "code",
   "execution_count": null,
   "id": "2c0e9b02",
   "metadata": {},
   "outputs": [],
   "source": [
    "pip install googleapis-common-protos protobuf grpcio pandas matplotlib systemathics.apis --quiet"
   ]
  },
  {
   "cell_type": "code",
   "execution_count": null,
   "id": "d0b45789",
   "metadata": {},
   "outputs": [],
   "source": [
    "import os\n",
    "import grpc\n",
    "import pandas as pd\n",
    "import matplotlib.pyplot as plt\n",
    "from datetime import date\n",
    "from datetime import datetime\n",
    "import google.type.date_pb2 as date\n",
    "import systemathics.apis.type.shared.v1.level_pb2 as level\n",
    "import systemathics.apis.type.shared.v1.identifier_pb2 as identifier\n",
    "import systemathics.apis.services.topology.v1.topologies_pb2 as topologies\n",
    "import systemathics.apis.services.topology.v1.topologies_pb2_grpc as topologies_service\n",
    "import systemathics.apis.helpers.token_helpers as token_helpers\n",
    "import systemathics.apis.helpers.channel_helpers as channel_helpers"
   ]
  },
  {
   "cell_type": "markdown",
   "id": "4b9fac86",
   "metadata": {},
   "source": [
    "### Step 2: Prepare API requests\n",
    "The following code snippets retrieve authentication token to be used in upcomming API requests:"
   ]
  },
  {
   "cell_type": "code",
   "execution_count": null,
   "id": "6dbc1ce6",
   "metadata": {},
   "outputs": [],
   "source": [
    "token = token_helpers.get_token()\n",
    "display(token)"
   ]
  },
  {
   "cell_type": "markdown",
   "id": "0a1e2dae",
   "metadata": {},
   "source": [
    "### Step 3: Prepare request parameters"
   ]
  },
  {
   "cell_type": "markdown",
   "id": "a007c880-38d8-4f47-98f9-27f9ddec062b",
   "metadata": {},
   "source": [
    "#### 3.1 Instruments' selection\n",
    "The following code snippet enables to set the **DAX components**, before and after index expansion. \n",
    "As we are using *ICE data services* as market data source, tickers are simply the `ICE symbols`."
   ]
  },
  {
   "cell_type": "code",
   "execution_count": null,
   "id": "acf18327",
   "metadata": {},
   "outputs": [],
   "source": [
    "old_components = ['E:ADSD', 'E:ALVD', 'E:BASD', 'E:BAYND', 'E:BEID', 'E:BMWD', 'E:CBKD', 'E:COND', 'E:DAID', 'E:DBKD', 'E:DB1D', 'E:LHAD', 'E:DPWD', 'E:DTED', 'E:EOAND', 'E:FRED', 'E:FMED', 'E:HEID', 'E:HEND', 'E:IFXD', 'E:LIND', 'E:MRKD', 'E:MUV2D', 'E:PSMD', 'E:RWED', 'E:SAPD', 'E:SIED', 'E:TKAD', 'E:VOWD', 'E:VNAD']\n",
    "new_components = ['E:PUMD', 'E:ZALD', 'E:SHLD', 'E:SY1D', 'E:HFGD', 'E:SRTD', 'E:PAH3D', 'E:BNRD', 'E:QIAD', 'E:AIRP']"
   ]
  },
  {
   "cell_type": "markdown",
   "id": "81680b60-a41c-45af-b162-b58a86da316f",
   "metadata": {},
   "source": [
    "Each ticker is available in a specific ICE data location called `ICE data source` with a **source_Id**."
   ]
  },
  {
   "cell_type": "code",
   "execution_count": null,
   "id": "c2f105c5-9299-4144-a049-a3ea953d37e4",
   "metadata": {},
   "outputs": [],
   "source": [
    "source = '840' # ICE data location for DAX tickers after source_Id migration  occured on \"date to be added\""
   ]
  },
  {
   "cell_type": "markdown",
   "id": "4eeba71c-2ebd-42ac-b1ec-d2e6ab31dfd5",
   "metadata": {},
   "source": [
    "#### 3.2 Topologies parameters\n",
    "The following code snippet enables to set the required parameters to call **TopologiesService**."
   ]
  },
  {
   "cell_type": "code",
   "execution_count": null,
   "id": "3f08d141",
   "metadata": {},
   "outputs": [],
   "source": [
    "# set topology time granularity (daily, weekly...)\n",
    "granularity = topologies.TOPOLOGY_GRANULARITY_DAILY\n",
    "\n",
    "# set level: Trades or Trades and Book\n",
    "level = level.LEVEL_TRADES_AND_BOOK"
   ]
  },
  {
   "cell_type": "markdown",
   "id": "19ae0a65",
   "metadata": {},
   "source": [
    "### Step 4: Retrieve data\n",
    "The following code snippet creates a method to handle request creation to **TickTradesService** for a given instrument with previous chosen parameters."
   ]
  },
  {
   "cell_type": "code",
   "execution_count": null,
   "id": "1029be00",
   "metadata": {},
   "outputs": [],
   "source": [
    "# define method to handle topologies request creation for each instrument\n",
    "def get_topologies_request(ticker, exchange, granularity, level):\n",
    "    request = topologies.TopologiesRequest(identifier = identifier.Identifier(exchange = exchange, ticker = ticker),\n",
    "                                           granularity = granularity,\n",
    "                                           level = level)\n",
    "    return request"
   ]
  },
  {
   "cell_type": "markdown",
   "id": "02c474df-e4b6-49b4-bbc4-22b2c65966a9",
   "metadata": {},
   "source": [
    "The following code snippet creates a method that calls **TickTradesService** and returns *a pandas dataframe* containing **ticks counts** for a given list of instruments."
   ]
  },
  {
   "cell_type": "code",
   "execution_count": null,
   "id": "14626ca1",
   "metadata": {},
   "outputs": [],
   "source": [
    "# define method to handle tick counts data for a given list of instruments (old/new DAX components)\n",
    "def get_toplogies_data(tickers):\n",
    "    ticks_data = pd.DataFrame({'Date': []})\n",
    "    ticks_data = ticks_data.set_index('Date')\n",
    "\n",
    "    # iterate all instrument identifiers: exhange/ticker pairs\n",
    "    for i in range(len(tickers)):\n",
    "        ticker = tickers[i]\n",
    "        \n",
    "        try:\n",
    "            # open a gRPC channel\n",
    "            with channel_helpers.get_grpc_channel() as channel:\n",
    "\n",
    "                # instantiate the topologies service\n",
    "                request = get_topologies_request(ticker, source, granularity, level)\n",
    "                service = topologies_service.TopologiesServiceStub(channel)\n",
    "\n",
    "                # process the topologies request\n",
    "                response = service.Topologies(request=request, metadata = [('authorization', token)])\n",
    "\n",
    "                # build data structure with: ticker, date and ticks count\n",
    "                dates, ticks = [], []\n",
    "                for entry in response.entries:\n",
    "                    if entry.begin.year >= 2021 and entry.begin.month >= 6 and entry.begin.day >= 1:\n",
    "                        dates.append(datetime(year=entry.begin.year,day=entry.begin.day, month=entry.begin.month))\n",
    "                        ticks.append(entry.ticks_count)\n",
    "\n",
    "                tmp_ticks_data = pd.DataFrame(data ={'Date': dates, f'{ticker}': ticks})\n",
    "                tmp_ticks_data = tmp_ticks_data.set_index('Date')\n",
    "                if (ticks_data.size == 0):\n",
    "                    ticks_data = tmp_ticks_data\n",
    "                else:\n",
    "                    ticks_data = pd.merge(ticks_data, tmp_ticks_data, on=\"Date\")\n",
    "        except grpc.RpcError as e:\n",
    "            display(e.code().name)\n",
    "            display(e.details())\n",
    "                \n",
    "    return ticks_data"
   ]
  },
  {
   "cell_type": "markdown",
   "id": "d82d2551-fde1-456a-9221-a872fb92ccd9",
   "metadata": {},
   "source": [
    "#### 4.1 DAX previous composition\n",
    "The following code snippet calls the previous method and builds a *pandas dataframe* with `ticks counts for the DAX previous composition, total of 30 instruments`."
   ]
  },
  {
   "cell_type": "code",
   "execution_count": null,
   "id": "80909f26-ed44-4896-b9e7-8c0eec85d6e7",
   "metadata": {},
   "outputs": [],
   "source": [
    "# get ticks count for the DAX previous composition\n",
    "#old_topologies = get_toplogies_data(old_components)"
   ]
  },
  {
   "cell_type": "code",
   "execution_count": null,
   "id": "e9b44539-986f-43cd-8697-8e78d22fc8db",
   "metadata": {},
   "outputs": [],
   "source": [
    "# display ticks count for the DAX previous composition\n",
    "#old_topologies"
   ]
  },
  {
   "cell_type": "markdown",
   "id": "7fd852cd-389c-4416-a826-52d4f17288f7",
   "metadata": {},
   "source": [
    "#### 4.2 DAX new components\n",
    "The following code snippet calls the previous method and builds a *pandas dataframe* with `ticks counts for the DAX new components, total of 10 instruments`."
   ]
  },
  {
   "cell_type": "code",
   "execution_count": null,
   "id": "619071d2-ebae-447a-9694-c9f81a9fca31",
   "metadata": {},
   "outputs": [],
   "source": [
    "# get ticks count for the DAX new components\n",
    "new_topologies = get_toplogies_data(new_components)"
   ]
  },
  {
   "cell_type": "code",
   "execution_count": null,
   "id": "7186b7e5-3ded-45bd-a603-e1efefaa1ac6",
   "metadata": {},
   "outputs": [],
   "source": [
    "# display ticks count for the DAX new components\n",
    "new_topologies"
   ]
  },
  {
   "cell_type": "markdown",
   "id": "fed72d2a-7a3f-4842-83e6-6b25ffd6f4c9",
   "metadata": {},
   "source": [
    "#### 4.3 Market activity analysis following DAX expansion"
   ]
  },
  {
   "cell_type": "code",
   "execution_count": null,
   "id": "70c343c3-cfca-4390-b996-3ea2bb8eeb36",
   "metadata": {},
   "outputs": [],
   "source": [
    "names = ['Puma SE', 'Zalando SE', 'Siemens Healthineers AG', 'Symrise AG', 'HelloFresh SE', 'Sartorius AG', ' Porsche Automobil Holding SE', 'Brenntag SE', 'QIAGEN NV', 'Airbus SE']"
   ]
  },
  {
   "cell_type": "code",
   "execution_count": null,
   "id": "4111ec4d-a39e-4bac-bd84-2e2bd8090889",
   "metadata": {},
   "outputs": [],
   "source": [
    "# we start from June 1st until December 2nd , including September 20th, DAX expansion date\n",
    "start_date = \"2021-06-01\"\n",
    "end_date = \"2021-12-02\"\n",
    "change_date = \"2021-09-20\"\n",
    "day_before_change = \"2021-09-19\"\n",
    "\n",
    "# compute ticks count percentage change\n",
    "ratios = (new_topologies[change_date:end_date].mean() - new_topologies[start_date:day_before_change].mean()) / new_topologies[start_date:day_before_change].mean()\n",
    "liquidity_ratios = round(ratios*100, 2)\n",
    "\n",
    "# format data for display purposes\n",
    "liquidity = pd.DataFrame({'Name': names,'Ticker': liquidity_ratios.index, 'Liquidity movement (%)': liquidity_ratios.values})\n",
    "liquidity"
   ]
  },
  {
   "cell_type": "markdown",
   "id": "59dffa64-e944-4f90-ad6e-f0789d00ea59",
   "metadata": {},
   "source": [
    "### Step 5: Visualize data"
   ]
  },
  {
   "cell_type": "raw",
   "id": "fff7a309-7a23-49db-bd9d-8234f65a9c2f",
   "metadata": {},
   "source": [
    "num_rows = 2\n",
    "num_cols = 1\n",
    "fig,axs = plt.subplots(num_rows,num_cols, figsize=(40,20))\n",
    "\n",
    "axs[0].bar(old_topologies.index, old_topologies.sum(axis=1) , color=\"blue\", label=\"DAX30 | Total daily ticks count\")\n",
    "axs[0].set_title(\"DAX30 | Total daily ticks count\")\n",
    "\n",
    "axs[1].bar(new_topologies.index, new_topologies.sum(axis=1) , color=\"green\", label=\"Recently added components | Total daily ticks count\")\n",
    "axs[1].set_title(\"Recently added components (10) | Total daily ticks count\")\n",
    "\n",
    "# plot\n",
    "plt.plot()"
   ]
  }
 ],
 "metadata": {
  "kernelspec": {
   "display_name": "Python 3 (ipykernel)",
   "language": "python",
   "name": "python3"
  },
  "language_info": {
   "codemirror_mode": {
    "name": "ipython",
    "version": 3
   },
   "file_extension": ".py",
   "mimetype": "text/x-python",
   "name": "python",
   "nbconvert_exporter": "python",
   "pygments_lexer": "ipython3",
   "version": "3.9.7"
  }
 },
 "nbformat": 4,
 "nbformat_minor": 5
}
