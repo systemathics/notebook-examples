{
 "cells": [
  {
   "cell_type": "markdown",
   "id": "da31655d",
   "metadata": {},
   "source": [
    "# Facebook Down on October 2021\n",
    "\n",
    "### Overview\n",
    "Facebook was down on 4th of October 2021 for 6 hours (15:40 UTC to 21:40 UTC)\n",
    "\n",
    "This notebook is a support for https://ganymede.cloud/facebook-down.html blog post\n",
    "\n",
    "## Related Blogpost\n",
    "\n",
    "- Facebook blog post: https://engineering.fb.com/2021/10/04/networking-traffic/outage/\n",
    "- Global context: https://www.nytimes.com/2021/10/04/technology/facebook-down.html\n",
    "- Technical context: https://blog.cloudflare.com/october-2021-facebook-outage/\n",
    "\n"
   ]
  },
  {
   "cell_type": "markdown",
   "id": "b8d4c106",
   "metadata": {},
   "source": [
    "# Get Facebook trades for 4th of October"
   ]
  },
  {
   "cell_type": "markdown",
   "id": "9ea01362",
   "metadata": {},
   "source": [
    "### Step 1: Install packages and import them"
   ]
  },
  {
   "cell_type": "code",
   "execution_count": null,
   "id": "603a76fb",
   "metadata": {
    "tags": []
   },
   "outputs": [],
   "source": [
    "pip install googleapis-common-protos protobuf grpcio pandas matplotlib plotly systemathics.apis"
   ]
  },
  {
   "cell_type": "code",
   "execution_count": null,
   "id": "47ef9156",
   "metadata": {},
   "outputs": [],
   "source": [
    "import os\n",
    "import grpc\n",
    "import pandas as pd\n",
    "from datetime import datetime\n",
    "import google.type.date_pb2 as date\n",
    "import google.type.timeofday_pb2 as timeofday\n",
    "import google.type.dayofweek_pb2 as dayofweek\n",
    "import google.protobuf.duration_pb2 as duration\n",
    "import systemathics.apis.type.shared.v1.identifier_pb2 as identifier\n",
    "import systemathics.apis.type.shared.v1.constraints_pb2 as constraints\n",
    "import systemathics.apis.type.shared.v1.date_interval_pb2 as dateinterval\n",
    "import systemathics.apis.type.shared.v1.time_interval_pb2 as timeinterval\n",
    "import systemathics.apis.services.tick.v1.tick_trades_pb2 as tick_trades\n",
    "import systemathics.apis.services.tick.v1.tick_trades_pb2_grpc as tick_trades_service"
   ]
  },
  {
   "cell_type": "markdown",
   "id": "ecad520a",
   "metadata": {},
   "source": [
    "### Step 2: Retrieve authentication token\n",
    "The following code snippet sends authentication request and print token to console output in order to process the upcomming *gRPC queries*."
   ]
  },
  {
   "cell_type": "code",
   "execution_count": null,
   "id": "d9d31314",
   "metadata": {},
   "outputs": [],
   "source": [
    "token = f\"Bearer {os.environ['AUTH0_TOKEN']}\"\n",
    "display(token)"
   ]
  },
  {
   "cell_type": "markdown",
   "id": "aff64cba",
   "metadata": {},
   "source": [
    "### Step 3: Retrieve data\n",
    "To request *tick trades* service, we need to specify:\n",
    "* Instrument identifier\n",
    "* Time period selection: select start and end dates\n",
    "* Tick trades request parameters"
   ]
  },
  {
   "cell_type": "markdown",
   "id": "f0a6d06e",
   "metadata": {},
   "source": [
    "#### 3.1 Instrument selection"
   ]
  },
  {
   "cell_type": "code",
   "execution_count": null,
   "id": "c1fea8dc",
   "metadata": {},
   "outputs": [],
   "source": [
    "# set instrument identifier: exchange + ticker\n",
    "ticker = 'FB' # Facebook\n",
    "exchange = 'XNGS' # Nasdaq"
   ]
  },
  {
   "cell_type": "markdown",
   "id": "430bd1b0",
   "metadata": {},
   "source": [
    "#### 3.2 Time period delimitation"
   ]
  },
  {
   "cell_type": "code",
   "execution_count": null,
   "id": "1b5a6748",
   "metadata": {},
   "outputs": [],
   "source": [
    "# create time intervals (we are using Google date format)\n",
    "date_interval = dateinterval.DateInterval(\n",
    "    start_date = date.Date(year = 2021, month = 10, day = 4), \n",
    "    end_date = date.Date(year = 2021, month = 10, day = 4)\n",
    ")"
   ]
  },
  {
   "cell_type": "markdown",
   "id": "a45cbc9c",
   "metadata": {},
   "source": [
    "#### 3.3 Request creation\n",
    "The following code snippet creates *gRPC client*, process request and returns the request reply:"
   ]
  },
  {
   "cell_type": "code",
   "execution_count": null,
   "id": "63b52ca1",
   "metadata": {},
   "outputs": [],
   "source": [
    "# generate constraints based on the previous time selection\n",
    "constraints = constraints.Constraints(\n",
    "    date_intervals = [date_interval]\n",
    ")"
   ]
  },
  {
   "cell_type": "code",
   "execution_count": null,
   "id": "64629366",
   "metadata": {},
   "outputs": [],
   "source": [
    "# generate the tick trades request\n",
    "identifier = identifier.Identifier(exchange = exchange, ticker = ticker)\n",
    "request = tick_trades.TickTradesRequest(\n",
    "    identifiers = [identifier],\n",
    "    constraints = constraints\n",
    ")"
   ]
  },
  {
   "cell_type": "code",
   "execution_count": null,
   "id": "accce0b6",
   "metadata": {},
   "outputs": [],
   "source": [
    "# open a gRPC channel\n",
    "with open(os.environ['SSL_CERT_FILE'], 'rb') as f:\n",
    "    credentials = grpc.ssl_channel_credentials(f.read())\n",
    "with grpc.secure_channel(os.environ['GRPC_APIS'], credentials) as channel:\n",
    "    \n",
    "    # instantiate the tick trades service\n",
    "    service = tick_trades_service.TickTradesServiceStub(channel)\n",
    "    \n",
    "    # process the tick trades request\n",
    "    trades = []\n",
    "    metadata = [('authorization', token)]\n",
    "    for trade in service.TickTrades(request=request, metadata=metadata):\n",
    "        if trade.trade:\n",
    "            trades.append(trade.trade)\n",
    "\n",
    "# keep only trades, delete instrument mapping (1st element retrieved)\n",
    "# mapping is not used as only one instrument identifier is requested\n",
    "del trades[0]"
   ]
  },
  {
   "cell_type": "markdown",
   "id": "c76d141e",
   "metadata": {},
   "source": [
    "The following code snippet displays the total retrieved trades count:"
   ]
  },
  {
   "cell_type": "code",
   "execution_count": null,
   "id": "ff799f8f",
   "metadata": {},
   "outputs": [],
   "source": [
    "print('Total trades retrieved: {0}'.format(len(trades)))"
   ]
  },
  {
   "cell_type": "markdown",
   "id": "eaec6a12",
   "metadata": {},
   "source": [
    "### Step 4: Dataframe creation\n",
    "Let's create 3 dataframe.\n",
    "- One before the outage (15:40 UTC)\n",
    "- During outage (between 15:40 and 21:40 UTC)\n",
    "- after outage (after 21:40 UTC)"
   ]
  },
  {
   "cell_type": "code",
   "execution_count": null,
   "id": "def095d0",
   "metadata": {
    "tags": []
   },
   "outputs": [],
   "source": [
    "# prepare the dataframe content\n",
    "dates = [datetime.fromtimestamp(t.time_stamp.seconds) for t in trades]\n",
    "prices = [t.price for t in trades]\n",
    "sizes = [t.size for t in trades]"
   ]
  },
  {
   "cell_type": "code",
   "execution_count": null,
   "id": "451f7038",
   "metadata": {},
   "outputs": [],
   "source": [
    "# create a pandas dataframe with: dates, trades prices and sizes\n",
    "d = {'Date': dates, 'Price': prices, 'Size': sizes}\n",
    "df = pd.DataFrame(data=d)\n",
    "df"
   ]
  },
  {
   "cell_type": "code",
   "execution_count": null,
   "id": "17d4b608",
   "metadata": {},
   "outputs": [],
   "source": [
    "outage = df[ (df['Date'] > datetime(2021,10,4,15,40,0)) & (df['Date'] < datetime(2021,10,4,21,40,0)) ]\n",
    "before_outage = df[ (df['Date'] <= datetime(2021,10,4,15,40,0)) ]\n",
    "after_outage = df[(df['Date'] >= datetime(2021,10,4,21,40,0)) ]\n"
   ]
  },
  {
   "cell_type": "markdown",
   "id": "0a26e318",
   "metadata": {},
   "source": [
    "### Step 5: Visualize data"
   ]
  },
  {
   "cell_type": "code",
   "execution_count": null,
   "id": "0f86ab1f",
   "metadata": {},
   "outputs": [],
   "source": [
    "import matplotlib.pyplot as plt\n",
    "\n",
    "fig,ax = plt.subplots(1,1,figsize=(25,10))\n",
    "ax.plot('Date', 'Price', data=before_outage, marker='', color='blue', linewidth=2, label=\"Price\")\n",
    "ax.plot('Date', 'Price', data=outage, marker='', color='red', linewidth=2, label=\"Price\")\n",
    "ax.plot('Date', 'Price', data=after_outage, marker='', color='blue', linewidth=2, label=\"Price\")\n",
    "# twin x-axis for two different y-axis\n",
    "ax2=ax.twinx()\n",
    "ax2.plot('Date', 'Size', data=df, marker='', color='green', linewidth=2, label=\"Size\")\n",
    "\n",
    "# set graph title and axis label\n",
    "ax.set_xlabel(\"Date\",fontsize=14)\n",
    "ax.set_ylabel(\"Price\",color=\"blue\",fontsize=14)\n",
    "ax2.set_ylabel(\"Size\",color=\"green\",fontsize=14)\n",
    "plt.title('Tick trades for {0}-{1}'.format(ticker, exchange))\n",
    "plt.show()"
   ]
  },
  {
   "cell_type": "markdown",
   "id": "4781b5b0",
   "metadata": {},
   "source": [
    "## Conclusion\n",
    "\n",
    "- Facebook price before outage decreased significantly.\n",
    "- Price during the outage barely changed.\n",
    "- We can conclude that Facebook outage did not affect it's stock price. Initial decrease was likely due to whistle-blower Frances Haugen as explained by NY Times article."
   ]
  }
 ],
 "metadata": {
  "kernelspec": {
   "display_name": "Python 3",
   "language": "python",
   "name": "python3"
  },
  "language_info": {
   "codemirror_mode": {
    "name": "ipython",
    "version": 3
   },
   "file_extension": ".py",
   "mimetype": "text/x-python",
   "name": "python",
   "nbconvert_exporter": "python",
   "pygments_lexer": "ipython3",
   "version": "3.9.5"
  }
 },
 "nbformat": 4,
 "nbformat_minor": 5
}
