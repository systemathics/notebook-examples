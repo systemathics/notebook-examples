{
 "cells": [
  {
   "cell_type": "markdown",
   "id": "6bd2ccc2",
   "metadata": {},
   "source": [
    "# CAC 40 correlation analysis - Python\n",
    "\n",
    "### Overview\n",
    "This notebook is the basis of this blog post : https://ganymde.cloud/cac40-correlation.html\n",
    "\n",
    "### Services used\n",
    "This sample uses *gRPC requests* in order to retrieve index components reference data from the hosted service. The queried endpoint in this script are:\n",
    "* *StaticDataService*: to directly retrieve reference data objects from the server\n",
    "* *TickBarService*: to retrieve bars from the server\n",
    "\n",
    "### Modules required\n",
    "1. Systemathics packages:\n",
    "    * *systemathics.apis.services.static_data.v1*\n",
    "2. Open source packages\n",
    "    * *googleapis-common-protos*\n",
    "    * *protobuf*\n",
    "    * *grpcio*\n",
    "    * *pandas*\n",
    "    \n",
    "***"
   ]
  },
  {
   "cell_type": "markdown",
   "id": "da5f77db",
   "metadata": {},
   "source": [
    "# Run CAC 40 correlation analysis"
   ]
  },
  {
   "cell_type": "markdown",
   "id": "3e74ca8b",
   "metadata": {},
   "source": [
    "### Step 1: Install packages and import them"
   ]
  },
  {
   "cell_type": "code",
   "execution_count": null,
   "id": "2c0e9b02",
   "metadata": {},
   "outputs": [],
   "source": [
    "pip install googleapis-common-protos protobuf grpcio pandas  systemathics.apis matplotlib"
   ]
  },
  {
   "cell_type": "code",
   "execution_count": null,
   "id": "d0b45789",
   "metadata": {},
   "outputs": [],
   "source": [
    "import os\n",
    "import grpc\n",
    "import pandas as pd\n",
    "import google.protobuf as pb\n",
    "from datetime import datetime\n",
    "from datetime import timedelta\n",
    "import google.type.date_pb2 as date\n",
    "import google.type.timeofday_pb2 as timeofday\n",
    "import google.type.dayofweek_pb2 as dayofweek\n",
    "import google.protobuf.duration_pb2 as duration\n",
    "import systemathics.apis.type.shared.v1.identifier_pb2 as identifier\n",
    "import systemathics.apis.type.shared.v1.constraints_pb2 as constraints\n",
    "import systemathics.apis.type.shared.v1.date_interval_pb2 as dateinterval\n",
    "import systemathics.apis.type.shared.v1.time_interval_pb2 as timeinterval\n",
    "import systemathics.apis.services.tick_analytics.v1.tick_bars_pb2 as tick_bars\n",
    "import systemathics.apis.services.tick_analytics.v1.tick_bars_pb2_grpc as tick_bars_service\n",
    "import systemathics.apis.services.static_data.v1.static_data_pb2 as static_data\n",
    "import systemathics.apis.services.static_data.v1.static_data_pb2_grpc as static_data_service\n",
    "import systemathics.apis.helpers.token_helpers as token_helpers\n",
    "import systemathics.apis.helpers.channel_helpers as channel_helpers"
   ]
  },
  {
   "cell_type": "markdown",
   "id": "4b9fac86",
   "metadata": {},
   "source": [
    "### Step 2: Prepare API requests\n",
    "The following code snippets retrieve authentication token to be used in upcomming API requests:"
   ]
  },
  {
   "cell_type": "code",
   "execution_count": null,
   "id": "6dbc1ce6",
   "metadata": {},
   "outputs": [],
   "source": [
    "token = token_helpers.get_token()\n",
    "display(token)"
   ]
  },
  {
   "cell_type": "markdown",
   "id": "0a1e2dae",
   "metadata": {},
   "source": [
    "### Step 3: Create and process request"
   ]
  },
  {
   "cell_type": "markdown",
   "id": "5696d807",
   "metadata": {},
   "source": [
    "The following code snippet enables to select the **index** by its *Name/code*:"
   ]
  },
  {
   "cell_type": "code",
   "execution_count": null,
   "id": "acf18327",
   "metadata": {},
   "outputs": [],
   "source": [
    "# set index\n",
    "index = 'CAC 40'"
   ]
  },
  {
   "cell_type": "markdown",
   "id": "19ae0a65",
   "metadata": {},
   "source": [
    "The following code snippets call the service, generate the request and return the reply: "
   ]
  },
  {
   "cell_type": "code",
   "execution_count": null,
   "id": "3f08d141",
   "metadata": {},
   "outputs": [],
   "source": [
    "# generate static data request\n",
    "request = static_data.StaticDataRequest( \n",
    "    asset_type = static_data.AssetType.ASSET_TYPE_EQUITY,\n",
    ")\n",
    "\n",
    "request.index.value = index # add index as per filter value\n",
    "request.count.value = 1000 # by default the count is set to 100"
   ]
  },
  {
   "cell_type": "code",
   "execution_count": null,
   "id": "1029be00",
   "metadata": {},
   "outputs": [],
   "source": [
    "try:\n",
    "    # open a gRPC channel\n",
    "    with channel_helpers.get_grpc_channel() as channel:  \n",
    "        # instantiate the static data service\n",
    "        service = static_data_service.StaticDataServiceStub(channel)\n",
    "        \n",
    "        # process the request\n",
    "        response = service.StaticData(\n",
    "            request = request, \n",
    "            metadata = [('authorization', token)]\n",
    "        )\n",
    "except grpc.RpcError as e:\n",
    "    display(e.code().name)\n",
    "    display(e.details())"
   ]
  },
  {
   "cell_type": "code",
   "execution_count": null,
   "id": "14626ca1",
   "metadata": {},
   "outputs": [],
   "source": [
    "display(len(response.equities))"
   ]
  },
  {
   "cell_type": "markdown",
   "id": "68a9f5d4",
   "metadata": {},
   "source": [
    "### Step 4: Retrieve index components"
   ]
  },
  {
   "cell_type": "code",
   "execution_count": null,
   "id": "1415474d",
   "metadata": {},
   "outputs": [],
   "source": [
    "# define a method to handle the equities reponse using a Pandas dataframe\n",
    "def get_equities_dataframe(response):\n",
    "    exchange = [equity.identifier.exchange for equity in response.equities]\n",
    "    ticker = [equity.identifier.ticker for equity in response.equities]\n",
    "    name = [equity.name for equity in response.equities]\n",
    "    primary = [equity.primary for equity in response.equities]\n",
    "    index = [equity.index for equity in response.equities]\n",
    "    \n",
    "    # Create pandas dataframe\n",
    "    d = {'Index': index, 'Name': name, 'Ticker': ticker, 'Exchange': exchange, 'Primary':primary}\n",
    "    df = pd.DataFrame(data=d)\n",
    "    return df"
   ]
  },
  {
   "cell_type": "code",
   "execution_count": null,
   "id": "f0c9f6a0",
   "metadata": {},
   "outputs": [],
   "source": [
    "# visualize request results\n",
    "data = get_equities_dataframe(response)\n",
    "display(data)"
   ]
  },
  {
   "cell_type": "markdown",
   "id": "c163058a-a7cf-47d2-a216-af3e3c0d324b",
   "metadata": {},
   "source": [
    "The following code snippet exports index components to a *csv file*:"
   ]
  },
  {
   "cell_type": "code",
   "execution_count": null,
   "id": "e0d8a90c-61aa-47fb-99ba-a9e532707827",
   "metadata": {
    "tags": []
   },
   "outputs": [],
   "source": [
    "data = data[ ((data['Exchange'] == \"XPAR\") | (data['Exchange'] == \"XAMS\")) & (data['Index'].str.contains('CAC 40'))]"
   ]
  },
  {
   "cell_type": "code",
   "execution_count": null,
   "id": "481abc22-9806-44c9-a3c7-83ed8c3c3e76",
   "metadata": {},
   "outputs": [],
   "source": [
    "data.to_csv('Export/CAC_Components.csv'.format(index), index=False)"
   ]
  },
  {
   "cell_type": "code",
   "execution_count": null,
   "id": "43e4a7c8-e5b3-4436-8706-1fff886d8a29",
   "metadata": {},
   "outputs": [],
   "source": [
    "data"
   ]
  },
  {
   "cell_type": "markdown",
   "id": "4e7e8ad0-0bb9-4c93-96bc-82365903a1da",
   "metadata": {},
   "source": [
    "### Step 5: Retrieve tick bars data"
   ]
  },
  {
   "cell_type": "code",
   "execution_count": null,
   "id": "7a638753-122f-46fb-abb0-570fc80ff998",
   "metadata": {},
   "outputs": [],
   "source": [
    "# set the bar duration\n",
    "sampling = 5 * 60\n",
    "\n",
    "# set the bar calculation field\n",
    "field = tick_bars.BAR_PRICE_TRADE "
   ]
  },
  {
   "cell_type": "code",
   "execution_count": null,
   "id": "d52b6d2b-8e5f-48ef-b217-7b56e6f900e0",
   "metadata": {},
   "outputs": [],
   "source": [
    "# create time intervals (we are using Google date format)\n",
    "today = datetime.today()\n",
    "start = today - timedelta(days=50)\n",
    "\n",
    "date_interval = dateinterval.DateInterval(\n",
    "    start_date = date.Date(year = start.year, month = start.month, day = start.day), \n",
    "    end_date = date.Date(year = today.year, month = today.month, day = today.day)\n",
    ")\n",
    "\n",
    "# build the market data request time interval (we are using Google time format)\n",
    "# UTC time zone\n",
    "time_interval = timeinterval.TimeInterval(\n",
    "    start_time = timeofday.TimeOfDay(hours = 6, minutes = 0, seconds = 0), \n",
    "    end_time = timeofday.TimeOfDay(hours = 18, minutes = 0, seconds = 0)\n",
    ")"
   ]
  },
  {
   "cell_type": "code",
   "execution_count": null,
   "id": "8c164fce-be06-4236-8abd-6ab327cc73ce",
   "metadata": {},
   "outputs": [],
   "source": [
    "# generate constraints based on the previous time selection\n",
    "constraint = constraints.Constraints(\n",
    "    date_intervals = [date_interval],\n",
    "    time_intervals = [time_interval],\n",
    ")"
   ]
  },
  {
   "cell_type": "code",
   "execution_count": null,
   "id": "1d6eb921-580b-4eff-bf59-8a512f52f236",
   "metadata": {},
   "outputs": [],
   "source": [
    "# generate tick bars request\n",
    "def get_request(exchange, ticker):\n",
    "    return tick_bars.TickBarsRequest(\n",
    "                identifier = identifier.Identifier(exchange = exchange, ticker = ticker),\n",
    "                constraints = constraint,\n",
    "                sampling = duration.Duration(seconds = sampling),\n",
    "                field = field)"
   ]
  },
  {
   "cell_type": "code",
   "execution_count": null,
   "id": "e593d822-070e-4865-b2a4-1a951827b469",
   "metadata": {},
   "outputs": [],
   "source": [
    "requests = [ (row['Name'], get_request(row['Exchange'],row['Ticker'])) for index, row in data.iterrows() ]"
   ]
  },
  {
   "cell_type": "code",
   "execution_count": null,
   "id": "1bfaf19d-4239-4c47-8acc-35fb3e4b70ca",
   "metadata": {},
   "outputs": [],
   "source": [
    "try:\n",
    "    with channel_helpers.get_grpc_channel() as channel:  \n",
    "        \n",
    "        # instantiate the tick bars service\n",
    "        service = tick_bars_service.TickBarsServiceStub(channel)\n",
    "        \n",
    "        # process the tick bars request\n",
    "        dataframe = pd.DataFrame({'Date': []})\n",
    "        dataframe = dataframe.set_index('Date')\n",
    "        metadata = [('authorization', token)]\n",
    "        for name, request in requests :\n",
    "            display(name)\n",
    "            bars = []        \n",
    "            for bar in service.TickBars(request=request, metadata=metadata):\n",
    "                bars.append(bar)\n",
    "            dates=[datetime.fromtimestamp(b.time_stamp.seconds) for b in bars]\n",
    "            closes = [b.close for b in bars]\n",
    "            df = pd.DataFrame(data ={'Date': dates, f'{name}': closes})\n",
    "            df = df.set_index('Date')\n",
    "            if (dataframe.size == 0):\n",
    "                dataframe = df\n",
    "            else:\n",
    "                dataframe = pd.merge(dataframe, df, on=\"Date\")\n",
    "except grpc.RpcError as e:\n",
    "    display(e.code().name)\n",
    "    display(e.details())"
   ]
  },
  {
   "cell_type": "code",
   "execution_count": null,
   "id": "b8219fb1-1667-403d-ba0a-efad501ffd01",
   "metadata": {},
   "outputs": [],
   "source": [
    "dataframe"
   ]
  },
  {
   "cell_type": "markdown",
   "id": "e990cabe-6908-4884-891c-e7b4ca305f7a",
   "metadata": {},
   "source": [
    "### Step 6: Compute correlation"
   ]
  },
  {
   "cell_type": "code",
   "execution_count": null,
   "id": "665591f3-c99e-4631-a592-c0fb32c30758",
   "metadata": {},
   "outputs": [],
   "source": [
    "corr = dataframe.corr()"
   ]
  },
  {
   "cell_type": "code",
   "execution_count": null,
   "id": "c35c0e7a-410e-406b-ae4f-da2b906f5aca",
   "metadata": {},
   "outputs": [],
   "source": [
    "corr"
   ]
  },
  {
   "cell_type": "code",
   "execution_count": null,
   "id": "571cfaa5-351c-4c9e-85d6-289ea781bbf9",
   "metadata": {},
   "outputs": [],
   "source": [
    "corr.to_csv(\"Export/CAC_Correlation_Matrix.csv\")"
   ]
  },
  {
   "cell_type": "markdown",
   "id": "b2680fe0-3e23-4a68-a309-2eef029dbd5f",
   "metadata": {},
   "source": [
    "### Step 7: Visualize data"
   ]
  },
  {
   "cell_type": "code",
   "execution_count": null,
   "id": "e444a667-9be9-4376-a35c-3afac7a49aeb",
   "metadata": {},
   "outputs": [],
   "source": [
    "import matplotlib.pyplot as plt\n",
    "plt.pcolor(corr)\n",
    "plt.show()"
   ]
  },
  {
   "cell_type": "code",
   "execution_count": null,
   "id": "54e50133-8c00-46d3-936c-a9c5506a48fc",
   "metadata": {},
   "outputs": [],
   "source": [
    "dataframe.describe()"
   ]
  },
  {
   "cell_type": "markdown",
   "id": "f843dd87-e621-445c-8cb3-f36dc1668df7",
   "metadata": {},
   "source": [
    "The following code snippet enables to get the `closest correlated stocks`:"
   ]
  },
  {
   "cell_type": "code",
   "execution_count": null,
   "id": "840213f7-d163-4839-aa49-c43ba2bc4682",
   "metadata": {
    "tags": []
   },
   "outputs": [],
   "source": [
    "corr = corr.replace(1,0)\n",
    "final = pd.DataFrame({ \"Stock\": corr.index, \"Closest correlated stock\" : corr.idxmax(), \"Correlation value\": corr.max() })\n",
    "final = final[final[\"Correlation value\"] > 0.90]\n",
    "final.sort_values(by=\"Correlation value\",ascending =False)"
   ]
  }
 ],
 "metadata": {
  "kernelspec": {
   "display_name": "Python 3 (ipykernel)",
   "language": "python",
   "name": "python3"
  },
  "language_info": {
   "codemirror_mode": {
    "name": "ipython",
    "version": 3
   },
   "file_extension": ".py",
   "mimetype": "text/x-python",
   "name": "python",
   "nbconvert_exporter": "python",
   "pygments_lexer": "ipython3",
   "version": "3.8.10"
  }
 },
 "nbformat": 4,
 "nbformat_minor": 5
}
