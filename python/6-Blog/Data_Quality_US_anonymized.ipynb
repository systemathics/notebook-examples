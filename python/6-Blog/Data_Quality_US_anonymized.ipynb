{
 "cells": [
  {
   "cell_type": "markdown",
   "id": "fdafa301-b9d8-48a7-8f0b-845be16b4ca3",
   "metadata": {},
   "source": [
    "# Data Quality Study - US"
   ]
  },
  {
   "cell_type": "markdown",
   "id": "5e6472e7-0107-4a25-a534-130ded7353e5",
   "metadata": {},
   "source": [
    "## Requirements"
   ]
  },
  {
   "cell_type": "code",
   "execution_count": null,
   "id": "dfad8a5a-fdc1-437d-8b7a-73894ec080bb",
   "metadata": {},
   "outputs": [],
   "source": [
    "pip install scipy pandas matplotlib sklearn"
   ]
  },
  {
   "cell_type": "code",
   "execution_count": null,
   "id": "cbb08daf-1822-4602-b5b7-02ecbab10a32",
   "metadata": {},
   "outputs": [],
   "source": [
    "#importing necessary packages\n",
    "from math import *\n",
    "import numpy as np\n",
    "import pandas as pd\n",
    "import scipy\n",
    "import matplotlib.pyplot as plt\n",
    "from sklearn.metrics import pairwise_distances #jaccard diss.\n",
    "from sklearn import manifold  # multidimensional scaling\n",
    "from sklearn.preprocessing import MinMaxScaler"
   ]
  },
  {
   "cell_type": "code",
   "execution_count": null,
   "id": "2b7815a5-8b1d-40f7-b265-27046a8da286",
   "metadata": {},
   "outputs": [],
   "source": [
    "mds_model = manifold.MDS(n_components = 2, random_state = 123,\n",
    "    dissimilarity = 'precomputed',\n",
    "    metric = True,\n",
    "    max_iter = 1000)"
   ]
  },
  {
   "cell_type": "markdown",
   "id": "9141b487-7e70-4ab8-9863-f493ad622cb1",
   "metadata": {
    "tags": []
   },
   "source": [
    "## Daily Prices"
   ]
  },
  {
   "cell_type": "markdown",
   "id": "34e2fd05-0d14-49c7-ab4c-2579db51459a",
   "metadata": {},
   "source": [
    "### CSV reader"
   ]
  },
  {
   "cell_type": "code",
   "execution_count": null,
   "id": "40cad8ba-c866-4291-abed-46ea7933b2dc",
   "metadata": {
    "tags": []
   },
   "outputs": [],
   "source": [
    "total_full = pd.read_csv (r'Input_Data_Quality_Anonymized/DailyPrices/Full/total.csv')\n",
    "ratio_full = pd.read_csv (r'Input_Data_Quality_Anonymized/DailyPrices/Full/ratio.csv', index_col = 0)\n",
    "\n",
    "ratio_malus_full = 1 - ratio_full\n",
    "\n",
    "rmf_cluster = ratio_malus_full.drop(\"C28\").drop(columns = \"C28\")\n",
    "rmf_cluster = rmf_cluster.drop('C40').drop(columns = 'C40')\n",
    "rmf_cluster = rmf_cluster.drop('C13').drop(columns = 'C13')\n",
    "rmf_cluster = rmf_cluster.drop('C45').drop(columns = 'C45')"
   ]
  },
  {
   "cell_type": "code",
   "execution_count": null,
   "id": "d3c9298b-c530-4db3-a961-b1f19a6e3156",
   "metadata": {},
   "outputs": [],
   "source": [
    "total_new = pd.read_csv (r'Input_Data_Quality_Anonymized/DailyPrices/21-Now/total.csv')\n",
    "ratio_new = pd.read_csv (r'Input_Data_Quality_Anonymized/DailyPrices/21-Now/ratio.csv', index_col = 0)\n",
    "\n",
    "ratio_malus_new = 1 - ratio_new\n",
    "\n",
    "rmn_cluster = ratio_malus_new.drop(\"C28\").drop(columns = \"C28\")\n",
    "rmn_cluster = rmn_cluster.drop('C40').drop(columns = 'C40')\n",
    "rmn_cluster = rmn_cluster.drop('C13').drop(columns = 'C13')\n",
    "rmn_cluster = rmn_cluster.drop('C45').drop(columns = 'C45')"
   ]
  },
  {
   "cell_type": "code",
   "execution_count": null,
   "id": "0f132d3e-b0b3-4490-9aa1-be8616f29bd2",
   "metadata": {},
   "outputs": [],
   "source": [
    "total_old = pd.read_csv (r'Input_Data_Quality_Anonymized/DailyPrices/90-10/total.csv')\n",
    "ratio_old = pd.read_csv (r'Input_Data_Quality_Anonymized/DailyPrices/90-10/ratio.csv', index_col = 0)\n",
    "\n",
    "ratio_malus_old = 1 - ratio_old\n",
    "\n",
    "rmo_cluster = ratio_malus_old.drop(\"C28\").drop(columns = \"C28\")\n",
    "#rmo_cluster = rmo_cluster.drop('C40').drop(columns = 'C40')\n",
    "rmo_cluster = rmo_cluster.drop('C13').drop(columns = 'C13')\n",
    "#rmo_cluster = rmo_cluster.drop('C45').drop(columns = 'C45')"
   ]
  },
  {
   "cell_type": "markdown",
   "id": "89073c07-8771-4e33-8bb9-b9504ac06d25",
   "metadata": {},
   "source": [
    "### Multidimensional Scaling - Complete"
   ]
  },
  {
   "cell_type": "markdown",
   "id": "4b32666c-4f77-4757-9d03-6ca84f42a287",
   "metadata": {},
   "source": [
    "#### Parameters"
   ]
  },
  {
   "cell_type": "code",
   "execution_count": null,
   "id": "1647ec2c-4d9d-48c0-9bd0-0de67f202eb1",
   "metadata": {},
   "outputs": [],
   "source": [
    "mds_fit_full = mds_model.fit(ratio_malus_full.to_numpy())  \n",
    "mds_coords_full = mds_model.fit_transform(ratio_malus_full.to_numpy()) \n",
    "                                                                                                                                  \n",
    "source_names_full = ratio_malus_full.columns.tolist()\n",
    "\n",
    "total_ordered_full = []\n",
    "total_ordered_full = [total_full.loc[total_full['Provider'] == ticker]['Percentage']*1000 for ticker in source_names_full]\n",
    "\n",
    "source_names_full = list(map(lambda orig_string: orig_string + \"\", ratio_malus_full.columns.tolist()))"
   ]
  },
  {
   "cell_type": "code",
   "execution_count": null,
   "id": "14e065e1-4087-4fc6-8466-579046150ac3",
   "metadata": {},
   "outputs": [],
   "source": [
    "mds_fit_new = mds_model.fit(ratio_malus_new.to_numpy())  \n",
    "mds_coords_new = mds_model.fit_transform(ratio_malus_new.to_numpy()) \n",
    "                                                                                                                                  \n",
    "source_names_new = ratio_malus_new.columns.tolist()\n",
    "\n",
    "total_ordered_new = []\n",
    "total_ordered_new = [total_new.loc[total_new['Provider'] == ticker]['Percentage']*1000 for ticker in source_names_new]\n",
    "\n",
    "source_names_new = list(map(lambda orig_string: orig_string + \"\", ratio_malus_new.columns.tolist()))"
   ]
  },
  {
   "cell_type": "code",
   "execution_count": null,
   "id": "4abb3c4f-8b9d-4d7d-ab69-94342fb259bc",
   "metadata": {},
   "outputs": [],
   "source": [
    "mds_fit_old = mds_model.fit(ratio_malus_old.to_numpy())  \n",
    "mds_coords_old = mds_model.fit_transform(ratio_malus_old.to_numpy()) \n",
    "                                                                                                                                  \n",
    "source_names_old = ratio_malus_old.columns.tolist()\n",
    "\n",
    "total_ordered_old = []\n",
    "total_ordered_old = [total_old.loc[total_old['Provider'] == ticker]['Percentage']*1000 for ticker in source_names_old]\n",
    "\n",
    "source_names_old = list(map(lambda orig_string: orig_string + \"\", ratio_malus_old.columns.tolist()))"
   ]
  },
  {
   "cell_type": "markdown",
   "id": "73d359f0-9927-445e-9c03-faee0c4e1e44",
   "metadata": {},
   "source": [
    "#### Visualization"
   ]
  },
  {
   "cell_type": "code",
   "execution_count": null,
   "id": "edb50846-d168-4d3a-8c8a-6ea34d79f22f",
   "metadata": {},
   "outputs": [],
   "source": [
    "plt.figure(figsize = (15,15))\n",
    "\n",
    "plt.scatter(mds_coords_full[:,0],mds_coords_full[:,1], total_ordered_full,\n",
    "    facecolors = 'lightblue', edgecolors = 'blue')\n",
    "\n",
    "plt.scatter(mds_coords_new[:,0],mds_coords_new[:,1], total_ordered_new,\n",
    "    facecolors = 'lightgreen', edgecolors = 'green') \n",
    "\n",
    "plt.scatter(mds_coords_old[:,0],mds_coords_old[:,1], total_ordered_old,\n",
    "    facecolors = 'yellow', edgecolors = 'orange') \n",
    "\n",
    "labels_full = source_names_full\n",
    "for label, x, y in zip(labels_full, mds_coords_full[:,0], mds_coords_full[:,1]):\n",
    "    plt.annotate(label, (x,y), xycoords = 'data')\n",
    "    \n",
    "labels_new = source_names_new\n",
    "for label, x, y in zip(labels_new, mds_coords_new[:,0], mds_coords_new[:,1]):\n",
    "    plt.annotate(label, (x,y), xycoords = 'data')\n",
    "    \n",
    "labels_old = source_names_old\n",
    "for label, x, y in zip(labels_old, mds_coords_old[:,0], mds_coords_old[:,1]):\n",
    "    plt.annotate(label, (x,y), xycoords = 'data')\n",
    "    \n",
    "\n",
    "plt.xlabel('First Dimension')\n",
    "plt.ylabel('Second Dimension')\n",
    "plt.legend([\"Full\", \"New\", \"Old\"])\n",
    "plt.title('DailyPrices Full View')    \n",
    "plt.show()"
   ]
  },
  {
   "cell_type": "code",
   "execution_count": null,
   "id": "c889199c-b663-456c-8485-65bb21781641",
   "metadata": {},
   "outputs": [],
   "source": [
    "plt.figure(figsize = (15,15))\n",
    "\n",
    "plt.scatter(mds_coords_full[:,0],mds_coords_full[:,1], total_ordered_full,\n",
    "    facecolors = 'lightblue', edgecolors = 'blue')\n",
    "\n",
    "plt.scatter(mds_coords_new[:,0],mds_coords_new[:,1], total_ordered_new,\n",
    "    facecolors = 'lightgreen', edgecolors = 'green') \n",
    "\n",
    "plt.scatter(mds_coords_old[:,0],mds_coords_old[:,1], total_ordered_old,\n",
    "    facecolors = 'yellow', edgecolors = 'orange')\n",
    "\n",
    "plt.xlabel('First Dimension')\n",
    "plt.ylabel('Second Dimension')\n",
    "plt.legend([\"Full\", \"New\", \"Old\"])\n",
    "plt.title('DailyPrices Full View')    \n",
    "plt.show()"
   ]
  },
  {
   "cell_type": "markdown",
   "id": "3b852362-5af8-424b-9d26-a74916f2dee2",
   "metadata": {},
   "source": [
    "### Multidimensional Scaling - Cluster"
   ]
  },
  {
   "cell_type": "markdown",
   "id": "3d669252-f03d-4eb0-a13b-3639780657b3",
   "metadata": {},
   "source": [
    "#### Parameters"
   ]
  },
  {
   "cell_type": "code",
   "execution_count": null,
   "id": "2385a883-b9b1-4437-aff6-c7849a45f7b3",
   "metadata": {
    "tags": []
   },
   "outputs": [],
   "source": [
    "mds_fit_c_full = mds_model.fit(rmf_cluster.to_numpy())  \n",
    "mds_coords_c_full = mds_model.fit_transform(rmf_cluster.to_numpy()) \n",
    "                                                                                                                                  \n",
    "source_names_c_full = rmf_cluster.columns.tolist()\n",
    "\n",
    "total_ordered_c_full = []\n",
    "total_ordered_c_full = [total_full.loc[total_full['Provider'] == ticker]['Percentage']*1000 for ticker in source_names_c_full]\n",
    "\n",
    "source_names_c_full = list(map(lambda orig_string: orig_string + \"\", rmf_cluster.columns.tolist()))"
   ]
  },
  {
   "cell_type": "code",
   "execution_count": null,
   "id": "3231a588-2f8e-4d8b-80db-4728a57b9052",
   "metadata": {},
   "outputs": [],
   "source": [
    "mds_fit_c_new = mds_model.fit(rmn_cluster.to_numpy())  \n",
    "mds_coords_c_new = mds_model.fit_transform(rmn_cluster.to_numpy()) \n",
    "                                                                                                                                  \n",
    "source_names_c_new = rmn_cluster.columns.tolist()\n",
    "\n",
    "total_ordered_c_new = []\n",
    "total_ordered_c_new = [total_new.loc[total_new['Provider'] == ticker]['Percentage']*1000 for ticker in source_names_c_new]\n",
    "\n",
    "source_names_c_new = list(map(lambda orig_string: orig_string + \"\", rmn_cluster.columns.tolist()))"
   ]
  },
  {
   "cell_type": "code",
   "execution_count": null,
   "id": "ab1239ee-ca4c-4183-919d-02c6b26a1384",
   "metadata": {},
   "outputs": [],
   "source": [
    "mds_fit_c_old = mds_model.fit(rmo_cluster.to_numpy())  \n",
    "mds_coords_c_old = mds_model.fit_transform(rmo_cluster.to_numpy()) \n",
    "                                                                                                                                  \n",
    "source_names_c_old = rmo_cluster.columns.tolist()\n",
    "\n",
    "total_ordered_c_old = []\n",
    "total_ordered_c_old = [total_old.loc[total_old['Provider'] == ticker]['Percentage']*1000 for ticker in source_names_c_old]\n",
    "\n",
    "source_names_c_old = list(map(lambda orig_string: orig_string + \"\", rmo_cluster.columns.tolist()))"
   ]
  },
  {
   "cell_type": "code",
   "execution_count": null,
   "id": "bce5f696-a4cb-47dc-bb51-0bf340f2a262",
   "metadata": {},
   "outputs": [],
   "source": [
    "print(mds_coords_c_old)"
   ]
  },
  {
   "cell_type": "markdown",
   "id": "53dc43f1-b9ec-47b9-bf5e-fcf19f666c33",
   "metadata": {},
   "source": [
    "#### Visualization"
   ]
  },
  {
   "cell_type": "code",
   "execution_count": null,
   "id": "ec4c91ad-fa67-4c23-9604-323a2c4b313c",
   "metadata": {
    "tags": []
   },
   "outputs": [],
   "source": [
    "plt.figure(figsize = (15,15))\n",
    "\n",
    "plt.scatter(mds_coords_c_full[:,0],mds_coords_c_full[:,1], total_ordered_c_full,\n",
    "    facecolors = 'lightblue', edgecolors = 'blue')\n",
    "\n",
    "plt.scatter(mds_coords_c_new[:,0],mds_coords_c_new[:,1], total_ordered_c_new,\n",
    "    facecolors = 'lightgreen', edgecolors = 'green') \n",
    "\n",
    "plt.scatter(mds_coords_c_old[:,0],mds_coords_c_old[:,1], total_ordered_c_old,\n",
    "    facecolors = 'yellow', edgecolors = 'orange') \n",
    "\n",
    "labels_c_full = source_names_c_full\n",
    "for label, x, y in zip(labels_c_full, mds_coords_c_full[:,0], mds_coords_c_full[:,1]):\n",
    "    plt.annotate(label, (x,y), xycoords = 'data')\n",
    "    \n",
    "labels_c_new = source_names_c_new\n",
    "for label, x, y in zip(labels_c_new, mds_coords_c_new[:,0], mds_coords_c_new[:,1]):\n",
    "    plt.annotate(label, (x,y), xycoords = 'data')\n",
    "    \n",
    "labels_c_old = source_names_c_old\n",
    "for label, x, y in zip(labels_c_old, mds_coords_c_old[:,0], mds_coords_c_old[:,1]):\n",
    "    plt.annotate(label, (x,y), xycoords = 'data')\n",
    "    \n",
    "\n",
    "plt.xlabel('First Dimension')\n",
    "plt.ylabel('Second Dimension')\n",
    "plt.legend([\"Full\", \"New\", \"Old\"])\n",
    "plt.title('DailyPrices Cluster View')    \n",
    "plt.show()"
   ]
  },
  {
   "cell_type": "markdown",
   "id": "23aea3a2-7852-4f26-ad7c-c7e74cc0bf7a",
   "metadata": {},
   "source": [
    "With only one annotation (for the post) : C31"
   ]
  },
  {
   "cell_type": "code",
   "execution_count": null,
   "id": "bd30b1bd-2852-4c42-a44f-e678eb2cb2a8",
   "metadata": {},
   "outputs": [],
   "source": [
    "plt.figure(figsize = (13,13))\n",
    "\n",
    "plt.scatter(mds_coords_c_full[:,0],mds_coords_c_full[:,1], total_ordered_c_full, alpha=0.5,\n",
    "    facecolors = 'lightblue', edgecolors = 'blue')\n",
    "\n",
    "plt.scatter(mds_coords_c_new[:,0],mds_coords_c_new[:,1], total_ordered_c_new, alpha=0.5,\n",
    "    facecolors = 'lightgreen', edgecolors = 'green') \n",
    "\n",
    "plt.scatter(mds_coords_c_old[:,0],mds_coords_c_old[:,1], total_ordered_c_old, alpha=0.5,\n",
    "    facecolors = 'yellow', edgecolors = 'orange') \n",
    "\n",
    "    \n",
    "labels_c_full = source_names_c_full\n",
    "i = 19\n",
    "plt.annotate(labels_c_full[i], (mds_coords_c_full[:,0][i],mds_coords_c_full[:,1][i]), xycoords = 'data')\n",
    "    \n",
    "labels_c_new = source_names_c_new\n",
    "plt.annotate(labels_c_new[i-1], (mds_coords_c_new[:,0][i-1],mds_coords_c_new[:,1][i-1]), xycoords = 'data')\n",
    "    \n",
    "labels_c_old = source_names_c_old\n",
    "plt.annotate(labels_c_old[i-8], (mds_coords_c_old[:,0][i-8],mds_coords_c_old[:,1][i-8]), xycoords = 'data')   \n",
    "\n",
    "plt.scatter(mds_coords_c_full[:,0][i],mds_coords_c_full[:,1][i], total_ordered_c_full[i],\n",
    "    facecolors = 'lightblue', edgecolors = 'black')\n",
    "\n",
    "plt.scatter(mds_coords_c_new[:,0][i-1],mds_coords_c_new[:,1][i-1], total_ordered_c_new[i-1],\n",
    "    facecolors = 'lightgreen', edgecolors = 'black') \n",
    "\n",
    "plt.scatter(mds_coords_c_old[:,0][i-8],mds_coords_c_old[:,1][i-8], total_ordered_c_old[i-8],\n",
    "    facecolors = 'yellow', edgecolors = 'black') \n",
    "    \n",
    "\n",
    "plt.xlabel('First Dimension')\n",
    "plt.ylabel('Second Dimension')\n",
    "plt.legend([\"Full\", \"New\", \"Old\"])\n",
    "plt.title('DailyPrices Cluster View: focus on C31')    \n",
    "plt.show()"
   ]
  },
  {
   "cell_type": "code",
   "execution_count": null,
   "id": "bf7b7b29-6033-4005-9b3a-c0cae06e2984",
   "metadata": {
    "tags": []
   },
   "outputs": [],
   "source": [
    "plt.figure(figsize = (15,15))\n",
    "\n",
    "plt.scatter(mds_coords_c_full[:,0],mds_coords_c_full[:,1], total_ordered_c_full,\n",
    "    facecolors = 'lightblue', edgecolors = 'blue')\n",
    "\n",
    "plt.scatter(mds_coords_c_new[:,0],mds_coords_c_new[:,1], total_ordered_c_new,\n",
    "    facecolors = 'lightgreen', edgecolors = 'green') \n",
    "\n",
    "plt.scatter(mds_coords_c_old[:,0],mds_coords_c_old[:,1], total_ordered_c_old,\n",
    "    facecolors = 'yellow', edgecolors = 'orange') \n",
    "\n",
    "plt.xlabel('First Dimension')\n",
    "plt.ylabel('Second Dimension')\n",
    "plt.legend([\"Full\", \"New\", \"Old\"])\n",
    "plt.title('DailyPrices Cluster View')    \n",
    "plt.show()"
   ]
  },
  {
   "cell_type": "markdown",
   "id": "62a4c7f7-d47c-4239-8aa0-84049c0b022f",
   "metadata": {},
   "source": [
    "## Bars "
   ]
  },
  {
   "cell_type": "markdown",
   "id": "953dd063-2a5e-463e-a1d5-2e9a56c0c5a5",
   "metadata": {},
   "source": [
    "### CSV reader"
   ]
  },
  {
   "cell_type": "code",
   "execution_count": null,
   "id": "4929c4fb-36ea-47c1-b187-64b5b420c303",
   "metadata": {
    "tags": []
   },
   "outputs": [],
   "source": [
    "bars_total_full = pd.read_csv (r'Input_Data_Quality_Anonymized/Bars/Full/total.csv')\n",
    "bars_ratio_full = pd.read_csv (r'Input_Data_Quality_Anonymized/Bars/Full/ratio.csv', index_col = 0)\n",
    "\n",
    "bars_ratio_malus_full = 1 - bars_ratio_full\n",
    "\n",
    "bars_rmf_cluster = bars_ratio_malus_full.drop(\"C28\").drop(columns = \"C28\")\n",
    "bars_rmf_cluster = bars_rmf_cluster.drop('C40').drop(columns = 'C40')\n",
    "bars_rmf_cluster = bars_rmf_cluster.drop('C13').drop(columns = 'C13')\n",
    "bars_rmf_cluster = bars_rmf_cluster.drop('C45').drop(columns = 'C45')"
   ]
  },
  {
   "cell_type": "code",
   "execution_count": null,
   "id": "b994f7bf-b6e1-4dae-8a2d-eb785adc7a1d",
   "metadata": {},
   "outputs": [],
   "source": [
    "bars_total_new = pd.read_csv (r'Input_Data_Quality_Anonymized/Bars/21-Now/total.csv')\n",
    "bars_ratio_new = pd.read_csv (r'Input_Data_Quality_Anonymized/Bars/21-Now/ratio.csv', index_col = 0)\n",
    "\n",
    "bars_ratio_malus_new = 1 - bars_ratio_new\n",
    "\n",
    "bars_rmn_cluster = bars_ratio_malus_new.drop(\"C28\").drop(columns = \"C28\")\n",
    "bars_rmn_cluster = bars_rmn_cluster.drop('C40').drop(columns = 'C40')\n",
    "bars_rmn_cluster = bars_rmn_cluster.drop('C13').drop(columns = 'C13')\n",
    "bars_rmn_cluster = bars_rmn_cluster.drop('C45').drop(columns = 'C45')"
   ]
  },
  {
   "cell_type": "code",
   "execution_count": null,
   "id": "5f4bf10c-a49d-4b16-ac11-0d77df32ce2c",
   "metadata": {},
   "outputs": [],
   "source": [
    "bars_total_old = pd.read_csv (r'Input_Data_Quality_Anonymized/Bars/90-10/total.csv')\n",
    "bars_ratio_old = pd.read_csv (r'Input_Data_Quality_Anonymized/Bars/90-10/ratio.csv', index_col = 0)\n",
    "\n",
    "bars_ratio_malus_old = 1 - bars_ratio_old\n",
    "\n",
    "bars_rmo_cluster = bars_ratio_malus_old.drop(\"C28\").drop(columns = \"C28\")\n",
    "#bars_rmo_cluster = bars_rmo_cluster.drop('C40').drop(columns = 'C40')\n",
    "bars_rmo_cluster = bars_rmo_cluster.drop('C13').drop(columns = 'C13')\n",
    "#bars_rmo_cluster = bars_rmo_cluster.drop('C45').drop(columns = 'C45')"
   ]
  },
  {
   "cell_type": "markdown",
   "id": "09c21e6a-e6c8-4d48-87a1-fdb89cb1713a",
   "metadata": {},
   "source": [
    "### Multidimensional Scaling - Complete"
   ]
  },
  {
   "cell_type": "markdown",
   "id": "91a7ea91-afde-4bbb-a571-ba39295c61e7",
   "metadata": {},
   "source": [
    "#### Parameters"
   ]
  },
  {
   "cell_type": "code",
   "execution_count": null,
   "id": "918a825f-8772-4aa6-b0a2-02ff2323cdf4",
   "metadata": {},
   "outputs": [],
   "source": [
    "bars_mds_fit_full = mds_model.fit(bars_ratio_malus_full.to_numpy())  \n",
    "bars_mds_coords_full = mds_model.fit_transform(bars_ratio_malus_full.to_numpy()) \n",
    "                                                                                                                                  \n",
    "bars_source_names_full = bars_ratio_malus_full.columns.tolist()\n",
    "\n",
    "bars_total_ordered_full = []\n",
    "bars_total_ordered_full = [bars_total_full.loc[bars_total_full['Provider'] == ticker]['Percentage']*1000 for ticker in bars_source_names_full]\n",
    "\n",
    "bars_source_names_full = list(map(lambda orig_string: orig_string + \"\", bars_ratio_malus_full.columns.tolist()))"
   ]
  },
  {
   "cell_type": "code",
   "execution_count": null,
   "id": "3469ff93-ce1e-4502-9c5e-8cbd37831afc",
   "metadata": {},
   "outputs": [],
   "source": [
    "bars_mds_fit_new = mds_model.fit(bars_ratio_malus_new.to_numpy())  \n",
    "bars_mds_coords_new = mds_model.fit_transform(bars_ratio_malus_new.to_numpy()) \n",
    "                                                                                                                                  \n",
    "bars_source_names_new = bars_ratio_malus_new.columns.tolist()\n",
    "\n",
    "bars_total_ordered_new = []\n",
    "bars_total_ordered_new = [bars_total_new.loc[bars_total_new['Provider'] == ticker]['Percentage']*1000 for ticker in bars_source_names_new]\n",
    "\n",
    "bars_source_names_new = list(map(lambda orig_string: orig_string + \"\", bars_ratio_malus_new.columns.tolist()))"
   ]
  },
  {
   "cell_type": "code",
   "execution_count": null,
   "id": "a69fb4ad-5f17-4779-9b3a-d2b7a00b0ff1",
   "metadata": {},
   "outputs": [],
   "source": [
    "bars_mds_fit_old = mds_model.fit(bars_ratio_malus_old.to_numpy())  \n",
    "bars_mds_coords_old = mds_model.fit_transform(bars_ratio_malus_old.to_numpy()) \n",
    "                                                                                                                                  \n",
    "bars_source_names_old = bars_ratio_malus_old.columns.tolist()\n",
    "\n",
    "bars_total_ordered_old = []\n",
    "bars_total_ordered_old = [bars_total_old.loc[bars_total_old['Provider'] == ticker]['Percentage']*1000 for ticker in bars_source_names_old]\n",
    "\n",
    "bars_source_names_old = list(map(lambda orig_string: orig_string + \"\", bars_ratio_malus_old.columns.tolist()))"
   ]
  },
  {
   "cell_type": "markdown",
   "id": "478edfb3-31d8-4bfc-ba07-4349a3a66f8f",
   "metadata": {},
   "source": [
    "#### Visualization"
   ]
  },
  {
   "cell_type": "code",
   "execution_count": null,
   "id": "5fad1231-0f52-4017-ace5-8927180acbd8",
   "metadata": {},
   "outputs": [],
   "source": [
    "plt.figure(figsize = (15,15))\n",
    "\n",
    "plt.scatter(bars_mds_coords_full[:,0], bars_mds_coords_full[:,1], bars_total_ordered_full,\n",
    "    facecolors = 'lightblue', edgecolors = 'blue')\n",
    "\n",
    "plt.scatter(bars_mds_coords_new[:,0], bars_mds_coords_new[:,1], bars_total_ordered_new,\n",
    "    facecolors = 'lightgreen', edgecolors = 'green') \n",
    "\n",
    "plt.scatter(bars_mds_coords_old[:,0], bars_mds_coords_old[:,1], bars_total_ordered_old,\n",
    "    facecolors = 'yellow', edgecolors = 'orange') \n",
    "\n",
    "bars_labels_full = bars_source_names_full\n",
    "for label, x, y in zip(bars_labels_full, bars_mds_coords_full[:,0], bars_mds_coords_full[:,1]):\n",
    "    plt.annotate(label, (x,y), xycoords = 'data')\n",
    "    \n",
    "bars_labels_new = bars_source_names_new\n",
    "for label, x, y in zip(bars_labels_new, bars_mds_coords_new[:,0], bars_mds_coords_new[:,1]):\n",
    "    plt.annotate(label, (x,y), xycoords = 'data')\n",
    "    \n",
    "bars_labels_old = bars_source_names_old\n",
    "for label, x, y in zip(bars_labels_old, bars_mds_coords_old[:,0], bars_mds_coords_old[:,1]):\n",
    "    plt.annotate(label, (x,y), xycoords = 'data')\n",
    "    \n",
    "\n",
    "plt.xlabel('First Dimension')\n",
    "plt.ylabel('Second Dimension')\n",
    "plt.legend([\"Full\", \"New\", \"Old\"])\n",
    "plt.title('Bars Full View')    \n",
    "plt.show()"
   ]
  },
  {
   "cell_type": "code",
   "execution_count": null,
   "id": "b724b524-cb17-43a3-bbb8-bfc67ae8ee8f",
   "metadata": {},
   "outputs": [],
   "source": [
    "plt.figure(figsize = (15,15))\n",
    "\n",
    "plt.scatter(bars_mds_coords_full[:,0], bars_mds_coords_full[:,1], bars_total_ordered_full,\n",
    "    facecolors = 'lightblue', edgecolors = 'blue')\n",
    "\n",
    "plt.scatter(bars_mds_coords_new[:,0], bars_mds_coords_new[:,1], bars_total_ordered_new,\n",
    "    facecolors = 'lightgreen', edgecolors = 'green') \n",
    "\n",
    "plt.scatter(bars_mds_coords_old[:,0], bars_mds_coords_old[:,1], bars_total_ordered_old,\n",
    "    facecolors = 'yellow', edgecolors = 'orange')\n",
    "\n",
    "plt.xlabel('First Dimension')\n",
    "plt.ylabel('Second Dimension')\n",
    "plt.legend([\"Full\", \"New\", \"Old\"])\n",
    "plt.title('Bars Full View')    \n",
    "plt.show()"
   ]
  },
  {
   "cell_type": "markdown",
   "id": "835428d7-6154-4d10-a0b2-58f7ec2e2ce9",
   "metadata": {},
   "source": [
    "### Multidimensional Scaling - Cluster"
   ]
  },
  {
   "cell_type": "markdown",
   "id": "5648f5bf-8c42-4ba0-92f6-bf97757e62a8",
   "metadata": {},
   "source": [
    "#### Parameters"
   ]
  },
  {
   "cell_type": "code",
   "execution_count": null,
   "id": "544c8726-fbb7-4ca3-9325-74ffd1412ee6",
   "metadata": {
    "tags": []
   },
   "outputs": [],
   "source": [
    "bars_mds_fit_c_full = mds_model.fit(bars_rmf_cluster.to_numpy())  \n",
    "bars_mds_coords_c_full = mds_model.fit_transform(bars_rmf_cluster.to_numpy()) \n",
    "                                                                                                                                  \n",
    "bars_source_names_c_full = bars_rmf_cluster.columns.tolist()\n",
    "\n",
    "bars_total_ordered_c_full = []\n",
    "bars_total_ordered_c_full = [bars_total_full.loc[bars_total_full['Provider'] == ticker]['Percentage']*1000 for ticker in bars_source_names_c_full]\n",
    "\n",
    "bars_source_names_c_full = list(map(lambda orig_string: orig_string + \"\", bars_rmf_cluster.columns.tolist()))"
   ]
  },
  {
   "cell_type": "code",
   "execution_count": null,
   "id": "b6246c03-68a8-46d9-b576-0cabae62aa46",
   "metadata": {},
   "outputs": [],
   "source": [
    "bars_mds_fit_c_new = mds_model.fit(bars_rmn_cluster.to_numpy())  \n",
    "bars_mds_coords_c_new = mds_model.fit_transform(bars_rmn_cluster.to_numpy()) \n",
    "                                                                                                                                  \n",
    "bars_source_names_c_new = bars_rmn_cluster.columns.tolist()\n",
    "\n",
    "bars_total_ordered_c_new = []\n",
    "bars_total_ordered_c_new = [bars_total_new.loc[bars_total_new['Provider'] == ticker]['Percentage']*1000 for ticker in bars_source_names_c_new]\n",
    "\n",
    "bars_source_names_c_new = list(map(lambda orig_string: orig_string + \"\", bars_rmn_cluster.columns.tolist()))"
   ]
  },
  {
   "cell_type": "code",
   "execution_count": null,
   "id": "486376c6-831d-4f46-ab20-183e23e24d26",
   "metadata": {},
   "outputs": [],
   "source": [
    "bars_mds_fit_c_old = mds_model.fit(bars_rmo_cluster.to_numpy())  \n",
    "bars_mds_coords_c_old = mds_model.fit_transform(bars_rmo_cluster.to_numpy()) \n",
    "                                                                                                                                  \n",
    "bars_source_names_c_old = bars_rmo_cluster.columns.tolist()\n",
    "\n",
    "bars_total_ordered_c_old = []\n",
    "bars_total_ordered_c_old = [bars_total_old.loc[bars_total_old['Provider'] == ticker]['Percentage']*1000 for ticker in bars_source_names_c_old]\n",
    "\n",
    "bars_source_names_c_old = list(map(lambda orig_string: orig_string + \"\", bars_rmo_cluster.columns.tolist()))"
   ]
  },
  {
   "cell_type": "code",
   "execution_count": null,
   "id": "9bc58aa7-f89f-474d-bf27-cf3080bcb7fa",
   "metadata": {},
   "outputs": [],
   "source": [
    "print(bars_mds_coords_c_old)"
   ]
  },
  {
   "cell_type": "markdown",
   "id": "4ed3d685-dd18-4ab7-a418-9f660ac0a26c",
   "metadata": {},
   "source": [
    "#### Visualization"
   ]
  },
  {
   "cell_type": "code",
   "execution_count": null,
   "id": "09408afb-895a-4bef-9af2-8d86f0bcfb31",
   "metadata": {
    "tags": []
   },
   "outputs": [],
   "source": [
    "plt.figure(figsize = (15,15))\n",
    "\n",
    "plt.scatter(bars_mds_coords_c_full[:,0],bars_mds_coords_c_full[:,1], bars_total_ordered_c_full,\n",
    "    facecolors = 'lightblue', edgecolors = 'blue')\n",
    "\n",
    "plt.scatter(bars_mds_coords_c_new[:,0],bars_mds_coords_c_new[:,1], bars_total_ordered_c_new,\n",
    "    facecolors = 'lightgreen', edgecolors = 'green') \n",
    "\n",
    "plt.scatter(bars_mds_coords_c_old[:,0],bars_mds_coords_c_old[:,1], bars_total_ordered_c_old,\n",
    "    facecolors = 'yellow', edgecolors = 'orange') \n",
    "\n",
    "bars_labels_c_full = bars_source_names_c_full\n",
    "for label, x, y in zip(bars_labels_c_full, bars_mds_coords_c_full[:,0], bars_mds_coords_c_full[:,1]):\n",
    "    plt.annotate(label, (x,y), xycoords = 'data')\n",
    "    \n",
    "bars_labels_c_new = bars_source_names_c_new\n",
    "for label, x, y in zip(bars_labels_c_new, bars_mds_coords_c_new[:,0], bars_mds_coords_c_new[:,1]):\n",
    "    plt.annotate(label, (x,y), xycoords = 'data')\n",
    "    \n",
    "bars_labels_c_old = bars_source_names_c_old\n",
    "for label, x, y in zip(bars_labels_c_old, bars_mds_coords_c_old[:,0], bars_mds_coords_c_old[:,1]):\n",
    "    plt.annotate(label, (x,y), xycoords = 'data')\n",
    "    \n",
    "\n",
    "plt.xlabel('First Dimension')\n",
    "plt.ylabel('Second Dimension')\n",
    "plt.legend([\"Full\", \"New\", \"Old\"])\n",
    "plt.title('Bars Cluster View')    \n",
    "plt.show()"
   ]
  },
  {
   "cell_type": "markdown",
   "id": "b8032719-66e0-4719-9f3c-31ff4347f2fd",
   "metadata": {},
   "source": [
    "## Dividends"
   ]
  },
  {
   "cell_type": "markdown",
   "id": "5b5c40c0-a3c0-4dda-bb74-0b5a6572e6fa",
   "metadata": {},
   "source": [
    "### CSV reader"
   ]
  },
  {
   "cell_type": "code",
   "execution_count": null,
   "id": "7a3a5c49-ed42-4858-bdb5-efb5238edc13",
   "metadata": {
    "tags": []
   },
   "outputs": [],
   "source": [
    "div_total_full = pd.read_csv (r'Input_Data_Quality_Anonymized/Dividends/Full/total.csv')\n",
    "div_ratio_full = pd.read_csv (r'Input_Data_Quality_Anonymized/Dividends/Full/ratio.csv', index_col = 0)\n",
    "\n",
    "div_ratio_malus_full = 1 - div_ratio_full\n",
    "\n",
    "#div_rmf_cluster = div_ratio_malus_full.drop(\"C28\").drop(columns = \"C28\")\n",
    "#div_rmf_cluster = div_ratio_malus_full.drop('C40').drop(columns = 'C40')\n",
    "#div_rmf_cluster = div_ratio_malus_full.drop('C13').drop(columns = 'C13')\n",
    "div_rmf_cluster = div_ratio_malus_full.drop('C45').drop(columns = 'C45')"
   ]
  },
  {
   "cell_type": "code",
   "execution_count": null,
   "id": "b5d1007a-c28f-4e34-9327-194cf9725ee0",
   "metadata": {},
   "outputs": [],
   "source": [
    "div_total_new = pd.read_csv (r'Input_Data_Quality_Anonymized/Dividends/21-Now/total.csv')\n",
    "div_ratio_new = pd.read_csv (r'Input_Data_Quality_Anonymized/Dividends/21-Now/ratio.csv', index_col = 0)\n",
    "\n",
    "div_ratio_malus_new = 1 - div_ratio_new\n",
    "\n",
    "#div_rmn_cluster = div_ratio_malus_new.drop(\"C28\").drop(columns = \"C28\")\n",
    "#div_rmn_cluster = div_rmn_cluster.drop('C40').drop(columns = 'C40')\n",
    "#div_rmn_cluster = div_rmn_cluster.drop('C13').drop(columns = 'C13')\n",
    "div_rmn_cluster = div_ratio_malus_new.drop('C45').drop(columns = 'C45')"
   ]
  },
  {
   "cell_type": "code",
   "execution_count": null,
   "id": "d9c02e60-7159-4614-8343-a28ea17cedbd",
   "metadata": {},
   "outputs": [],
   "source": [
    "div_total_old = pd.read_csv (r'Input_Data_Quality_Anonymized/Dividends/90-10/total.csv')\n",
    "div_ratio_old = pd.read_csv (r'Input_Data_Quality_Anonymized/Dividends/90-10/ratio.csv', index_col = 0)\n",
    "\n",
    "div_ratio_malus_old = 1 - div_ratio_old\n",
    "\n",
    "#div_rmo_cluster = div_ratio_malus_old.drop(\"C28\").drop(columns = \"C28\")\n",
    "#div_rmo_cluster = div_rmo_cluster.drop('C40').drop(columns = 'C40')\n",
    "#div_rmo_cluster = div_rmo_cluster.drop('C13').drop(columns = 'C13')\n",
    "div_rmo_cluster = div_ratio_malus_old.drop('C45').drop(columns = 'C45')"
   ]
  },
  {
   "cell_type": "markdown",
   "id": "c2b66446-defd-433b-8c86-671641223592",
   "metadata": {},
   "source": [
    "### Multidimensional Scaling - Complete"
   ]
  },
  {
   "cell_type": "markdown",
   "id": "a415c54e-6668-48db-a451-4fade8002acc",
   "metadata": {},
   "source": [
    "#### Parameters"
   ]
  },
  {
   "cell_type": "code",
   "execution_count": null,
   "id": "f26388ce-4d9b-4783-a46c-0b5b3f9f01ab",
   "metadata": {},
   "outputs": [],
   "source": [
    "div_mds_fit_full = mds_model.fit(div_ratio_malus_full.to_numpy())  \n",
    "div_mds_coords_full = mds_model.fit_transform(div_ratio_malus_full.to_numpy()) \n",
    "                                                                                                                                  \n",
    "div_source_names_full = div_ratio_malus_full.columns.tolist()\n",
    "\n",
    "div_total_ordered_full = []\n",
    "div_total_ordered_full = [div_total_full.loc[div_total_full['Provider'] == ticker]['Percentage']*1000 for ticker in div_source_names_full]\n",
    "\n",
    "div_source_names_full = list(map(lambda orig_string: orig_string + \"\", div_ratio_malus_full.columns.tolist()))"
   ]
  },
  {
   "cell_type": "code",
   "execution_count": null,
   "id": "461c1e74-f275-4e1d-90ca-4aeeee96f02b",
   "metadata": {},
   "outputs": [],
   "source": [
    "div_mds_fit_new = mds_model.fit(div_ratio_malus_new.to_numpy())  \n",
    "div_mds_coords_new = mds_model.fit_transform(div_ratio_malus_new.to_numpy()) \n",
    "                                                                                                                                  \n",
    "div_source_names_new = div_ratio_malus_new.columns.tolist()\n",
    "\n",
    "div_total_ordered_new = []\n",
    "div_total_ordered_new = [div_total_new.loc[div_total_new['Provider'] == ticker]['Percentage']*1000 for ticker in div_source_names_new]\n",
    "\n",
    "div_source_names_new = list(map(lambda orig_string: orig_string + \"\", div_ratio_malus_new.columns.tolist()))"
   ]
  },
  {
   "cell_type": "code",
   "execution_count": null,
   "id": "f206ed91-6e5c-4f8d-af21-00c75b8751bb",
   "metadata": {},
   "outputs": [],
   "source": [
    "div_mds_fit_old = mds_model.fit(div_ratio_malus_old.to_numpy())  \n",
    "div_mds_coords_old = mds_model.fit_transform(div_ratio_malus_old.to_numpy()) \n",
    "                                                                                                                                  \n",
    "div_source_names_old = div_ratio_malus_old.columns.tolist()\n",
    "\n",
    "div_total_ordered_old = []\n",
    "div_total_ordered_old = [div_total_old.loc[div_total_old['Provider'] == ticker]['Percentage']*1000 for ticker in div_source_names_old]\n",
    "\n",
    "div_source_names_old = list(map(lambda orig_string: orig_string + \"\", div_ratio_malus_old.columns.tolist()))"
   ]
  },
  {
   "cell_type": "markdown",
   "id": "724b6101-c886-4116-86fd-a7063080db63",
   "metadata": {},
   "source": [
    "#### Visualization"
   ]
  },
  {
   "cell_type": "code",
   "execution_count": null,
   "id": "b7f714bb-5cfd-4ba3-a619-c677cfebb4ce",
   "metadata": {},
   "outputs": [],
   "source": [
    "plt.figure(figsize = (15,15))\n",
    "\n",
    "plt.scatter(div_mds_coords_full[:,0],div_mds_coords_full[:,1], div_total_ordered_full,\n",
    "    facecolors = 'lightblue', edgecolors = 'blue')\n",
    "\n",
    "plt.scatter(div_mds_coords_new[:,0],div_mds_coords_new[:,1], div_total_ordered_new,\n",
    "    facecolors = 'lightgreen', edgecolors = 'green') \n",
    "\n",
    "plt.scatter(div_mds_coords_old[:,0], div_mds_coords_old[:,1], div_total_ordered_old,\n",
    "    facecolors = 'yellow', edgecolors = 'orange') \n",
    "\n",
    "div_labels_full = div_source_names_full\n",
    "for label, x, y in zip(div_labels_full, div_mds_coords_full[:,0], div_mds_coords_full[:,1]):\n",
    "    plt.annotate(label, (x,y), xycoords = 'data')\n",
    "    \n",
    "div_labels_new = div_source_names_new\n",
    "for label, x, y in zip(div_labels_new, div_mds_coords_new[:,0], div_mds_coords_new[:,1]):\n",
    "    plt.annotate(label, (x,y), xycoords = 'data')\n",
    "    \n",
    "div_labels_old = div_source_names_old\n",
    "for label, x, y in zip(div_labels_old, div_mds_coords_old[:,0], div_mds_coords_old[:,1]):\n",
    "    plt.annotate(label, (x,y), xycoords = 'data')\n",
    "    \n",
    "\n",
    "plt.xlabel('First Dimension')\n",
    "plt.ylabel('Second Dimension')\n",
    "plt.legend([\"Full\", \"New\", \"Old\"])\n",
    "plt.title('Dividends Full View')    \n",
    "plt.show()"
   ]
  },
  {
   "cell_type": "code",
   "execution_count": null,
   "id": "c3d913d2-29f5-472d-8d65-c0a90cdd4bb4",
   "metadata": {},
   "outputs": [],
   "source": [
    "plt.figure(figsize = (15,15))\n",
    "\n",
    "plt.scatter(div_mds_coords_full[:,0],div_mds_coords_full[:,1], div_total_ordered_full,\n",
    "    facecolors = 'lightblue', edgecolors = 'blue')\n",
    "\n",
    "plt.scatter(div_mds_coords_new[:,0],div_mds_coords_new[:,1], div_total_ordered_new,\n",
    "    facecolors = 'lightgreen', edgecolors = 'green') \n",
    "\n",
    "plt.scatter(div_mds_coords_old[:,0],div_mds_coords_old[:,1], div_total_ordered_old,\n",
    "    facecolors = 'yellow', edgecolors = 'orange')\n",
    "\n",
    "plt.xlabel('First Dimension')\n",
    "plt.ylabel('Second Dimension')\n",
    "plt.legend([\"Full\", \"New\", \"Old\"])\n",
    "plt.title('Dividends Full View')    \n",
    "plt.show()"
   ]
  },
  {
   "cell_type": "markdown",
   "id": "a44eaab1-d482-452f-a4f2-de691bae7be2",
   "metadata": {},
   "source": [
    "### Multidimensional Scaling - Cluster"
   ]
  },
  {
   "cell_type": "markdown",
   "id": "0ec50fd8-836a-45d8-ac68-c0d5974bdc57",
   "metadata": {},
   "source": [
    "#### Parameters"
   ]
  },
  {
   "cell_type": "code",
   "execution_count": null,
   "id": "754a2d9e-e88f-45d0-b6cf-d3bd70a58a20",
   "metadata": {
    "tags": []
   },
   "outputs": [],
   "source": [
    "div_mds_fit_c_full = mds_model.fit(div_rmf_cluster.to_numpy())  \n",
    "div_mds_coords_c_full = mds_model.fit_transform(div_rmf_cluster.to_numpy()) \n",
    "                                                                                                                                  \n",
    "div_source_names_c_full = div_rmf_cluster.columns.tolist()\n",
    "\n",
    "div_total_ordered_c_full = []\n",
    "div_total_ordered_c_full = [div_total_full.loc[div_total_full['Provider'] == ticker]['Percentage']*1000 for ticker in div_source_names_c_full]\n",
    "\n",
    "div_source_names_c_full = list(map(lambda orig_string: orig_string + \"\", div_rmf_cluster.columns.tolist()))"
   ]
  },
  {
   "cell_type": "code",
   "execution_count": null,
   "id": "88c5778d-737c-4e58-90cc-90b4c6bdf843",
   "metadata": {},
   "outputs": [],
   "source": [
    "div_mds_fit_c_new = mds_model.fit(div_rmn_cluster.to_numpy())  \n",
    "div_mds_coords_c_new = mds_model.fit_transform(div_rmn_cluster.to_numpy()) \n",
    "                                                                                                                                  \n",
    "div_source_names_c_new = div_rmn_cluster.columns.tolist()\n",
    "\n",
    "div_total_ordered_c_new = []\n",
    "div_total_ordered_c_new = [div_total_new.loc[div_total_new['Provider'] == ticker]['Percentage']*1000 for ticker in div_source_names_c_new]\n",
    "\n",
    "div_source_names_c_new = list(map(lambda orig_string: orig_string + \"\", div_rmn_cluster.columns.tolist()))"
   ]
  },
  {
   "cell_type": "code",
   "execution_count": null,
   "id": "cd0afb62-9c02-4f6c-a09c-7851a82a3010",
   "metadata": {},
   "outputs": [],
   "source": [
    "div_mds_fit_c_old = mds_model.fit(div_rmo_cluster.to_numpy())  \n",
    "div_mds_coords_c_old = mds_model.fit_transform(div_rmo_cluster.to_numpy()) \n",
    "                                                                                                                                  \n",
    "div_source_names_c_old = div_rmo_cluster.columns.tolist()\n",
    "\n",
    "div_total_ordered_c_old = []\n",
    "div_total_ordered_c_old = [div_total_old.loc[div_total_old['Provider'] == ticker]['Percentage']*1000 for ticker in div_source_names_c_old]\n",
    "\n",
    "div_source_names_c_old = list(map(lambda orig_string: orig_string + \"\", div_rmo_cluster.columns.tolist()))"
   ]
  },
  {
   "cell_type": "code",
   "execution_count": null,
   "id": "97649ab7-5f39-4ed0-b7ef-ca467b481f63",
   "metadata": {},
   "outputs": [],
   "source": [
    "print(div_mds_coords_c_old)"
   ]
  },
  {
   "cell_type": "markdown",
   "id": "dcacd31b-5546-498e-b9e2-c09b5c8d291c",
   "metadata": {},
   "source": [
    "#### Visualization"
   ]
  },
  {
   "cell_type": "code",
   "execution_count": null,
   "id": "5ae9f035-f0ce-4b8f-814a-2fab463f92a7",
   "metadata": {
    "tags": []
   },
   "outputs": [],
   "source": [
    "plt.figure(figsize = (15,15))\n",
    "\n",
    "plt.scatter(div_mds_coords_c_full[:,0],div_mds_coords_c_full[:,1], div_total_ordered_c_full,\n",
    "    facecolors = 'lightblue', edgecolors = 'blue')\n",
    "\n",
    "plt.scatter(div_mds_coords_c_new[:,0],div_mds_coords_c_new[:,1], div_total_ordered_c_new,\n",
    "    facecolors = 'lightgreen', edgecolors = 'green') \n",
    "\n",
    "plt.scatter(div_mds_coords_c_old[:,0],div_mds_coords_c_old[:,1], div_total_ordered_c_old,\n",
    "    facecolors = 'yellow', edgecolors = 'orange') \n",
    "\n",
    "div_labels_c_full = div_source_names_c_full\n",
    "for label, x, y in zip(div_labels_c_full, div_mds_coords_c_full[:,0], div_mds_coords_c_full[:,1]):\n",
    "    plt.annotate(label, (x,y), xycoords = 'data')\n",
    "    \n",
    "div_labels_c_new = div_source_names_c_new\n",
    "for label, x, y in zip(div_labels_c_new, div_mds_coords_c_new[:,0], div_mds_coords_c_new[:,1]):\n",
    "    plt.annotate(label, (x,y), xycoords = 'data')\n",
    "    \n",
    "div_labels_c_old = div_source_names_c_old\n",
    "for label, x, y in zip(div_labels_c_old, div_mds_coords_c_old[:,0], div_mds_coords_c_old[:,1]):\n",
    "    plt.annotate(label, (x,y), xycoords = 'data')\n",
    "    \n",
    "\n",
    "plt.xlabel('First Dimension')\n",
    "plt.ylabel('Second Dimension')\n",
    "plt.legend([\"Full\", \"New\", \"Old\"])\n",
    "plt.title('Dividends Cluster View')    \n",
    "plt.show()"
   ]
  },
  {
   "cell_type": "code",
   "execution_count": null,
   "id": "f5658e3b-3c00-43dc-9237-89610224d9b6",
   "metadata": {
    "tags": []
   },
   "outputs": [],
   "source": [
    "plt.figure(figsize = (15,15))\n",
    "\n",
    "plt.scatter(div_mds_coords_c_full[:,0],div_mds_coords_c_full[:,1], div_total_ordered_c_full,\n",
    "    facecolors = 'lightblue', edgecolors = 'blue')\n",
    "\n",
    "plt.scatter(div_mds_coords_c_new[:,0], div_mds_coords_c_new[:,1], div_total_ordered_c_new,\n",
    "    facecolors = 'lightgreen', edgecolors = 'green') \n",
    "\n",
    "plt.scatter(div_mds_coords_c_old[:,0],div_mds_coords_c_old[:,1], div_total_ordered_c_old,\n",
    "    facecolors = 'yellow', edgecolors = 'orange') \n",
    "\n",
    "plt.xlabel('First Dimension')\n",
    "plt.ylabel('Second Dimension')\n",
    "plt.legend([\"Full\", \"New\", \"Old\"])\n",
    "plt.title('Dividends Cluster View')    \n",
    "plt.show()"
   ]
  },
  {
   "cell_type": "markdown",
   "id": "25541afd-2bdf-480c-9d75-f2baeeb73fd8",
   "metadata": {},
   "source": [
    "## Split"
   ]
  },
  {
   "cell_type": "markdown",
   "id": "584d8a49-6432-4096-8f2a-7f22dcab07bf",
   "metadata": {},
   "source": [
    "### CSV reader"
   ]
  },
  {
   "cell_type": "code",
   "execution_count": null,
   "id": "c33759fd-4e7f-40c4-a73a-4a8750eb2f63",
   "metadata": {
    "tags": []
   },
   "outputs": [],
   "source": [
    "split_total_full = pd.read_csv (r'Input_Data_Quality_Anonymized/Splits/Full/total.csv')\n",
    "split_ratio_full = pd.read_csv (r'Input_Data_Quality_Anonymized/Splits/Full/ratio.csv', index_col = 0)\n",
    "\n",
    "split_ratio_malus_full = 1 - split_ratio_full\n",
    "\n",
    "split_rmf_cluster = split_ratio_malus_full.drop(\"C28\").drop(columns = \"C28\")\n",
    "#split_rmf_cluster = split_rmf_cluster.drop('C40').drop(columns = 'C40')\n",
    "#split_rmf_cluster = split_rmf_cluster.drop('C13').drop(columns = 'C13')\n",
    "split_rmf_cluster = split_rmf_cluster.drop('C45').drop(columns = 'C45')"
   ]
  },
  {
   "cell_type": "code",
   "execution_count": null,
   "id": "bf904a59-1b84-4659-b4fc-1e43becc619f",
   "metadata": {},
   "outputs": [],
   "source": [
    "split_total_new = pd.read_csv (r'Input_Data_Quality_Anonymized/Splits/21-Now/total.csv')\n",
    "split_ratio_new = pd.read_csv (r'Input_Data_Quality_Anonymized/Splits/21-Now/ratio.csv', index_col = 0)\n",
    "\n",
    "split_ratio_malus_new = 1 - split_ratio_new\n",
    "\n",
    "split_rmn_cluster = split_ratio_malus_new.drop(\"C28\").drop(columns = \"C28\")\n",
    "#split_rmn_cluster = split_rmn_cluster.drop('C40').drop(columns = 'C40')\n",
    "#split_rmn_cluster = split_rmn_cluster.drop('C13').drop(columns = 'C13')\n",
    "split_rmn_cluster = split_rmn_cluster.drop('C45').drop(columns = 'C45')"
   ]
  },
  {
   "cell_type": "code",
   "execution_count": null,
   "id": "0128ad36-e309-4330-a307-be824471e020",
   "metadata": {},
   "outputs": [],
   "source": [
    "split_total_old = pd.read_csv (r'Input_Data_Quality_Anonymized/Splits/90-10/total.csv')\n",
    "split_ratio_old = pd.read_csv (r'Input_Data_Quality_Anonymized/Splits/90-10/ratio.csv', index_col = 0)\n",
    "\n",
    "split_ratio_malus_old = 1 - split_ratio_old\n",
    "\n",
    "split_rmo_cluster = split_ratio_malus_old.drop(\"C28\").drop(columns = \"C28\")\n",
    "#split_rmo_cluster = split_rmo_cluster.drop('C40').drop(columns = 'C40')\n",
    "#split_rmo_cluster = split_rmo_cluster.drop('C13').drop(columns = 'C13')\n",
    "split_rmo_cluster = split_rmo_cluster.drop('C45').drop(columns = 'C45')"
   ]
  },
  {
   "cell_type": "markdown",
   "id": "203903bd-76b7-46af-a11e-3b74c8efc2ae",
   "metadata": {},
   "source": [
    "### Multidimensional Scaling - Complete"
   ]
  },
  {
   "cell_type": "markdown",
   "id": "d8c8e849-07d4-4d8c-a7c1-1af763a62fd8",
   "metadata": {},
   "source": [
    "#### Parameters"
   ]
  },
  {
   "cell_type": "code",
   "execution_count": null,
   "id": "51a80177-0080-469a-8fff-b25b0290ca94",
   "metadata": {},
   "outputs": [],
   "source": [
    "split_mds_fit_full = mds_model.fit(split_ratio_malus_full.to_numpy())  \n",
    "split_mds_coords_full = mds_model.fit_transform(split_ratio_malus_full.to_numpy()) \n",
    "                                                                                                                                  \n",
    "split_source_names_full = split_ratio_malus_full.columns.tolist()\n",
    "\n",
    "split_total_ordered_full = []\n",
    "split_total_ordered_full = [split_total_full.loc[split_total_full['Provider'] == ticker]['Percentage']*1000 for ticker in split_source_names_full]\n",
    "\n",
    "split_source_names_full = list(map(lambda orig_string: orig_string + \"\", split_ratio_malus_full.columns.tolist()))"
   ]
  },
  {
   "cell_type": "code",
   "execution_count": null,
   "id": "5cabed6f-b786-4100-9ef4-2320114862df",
   "metadata": {},
   "outputs": [],
   "source": [
    "split_mds_fit_new = mds_model.fit(split_ratio_malus_new.to_numpy())  \n",
    "split_mds_coords_new = mds_model.fit_transform(split_ratio_malus_new.to_numpy()) \n",
    "                                                                                                                                  \n",
    "split_source_names_new = split_ratio_malus_new.columns.tolist()\n",
    "\n",
    "split_total_ordered_new = []\n",
    "split_total_ordered_new = [split_total_new.loc[split_total_new['Provider'] == ticker]['Percentage']*1000 for ticker in split_source_names_new]\n",
    "\n",
    "split_source_names_new = list(map(lambda orig_string: orig_string + \"\", split_ratio_malus_new.columns.tolist()))"
   ]
  },
  {
   "cell_type": "code",
   "execution_count": null,
   "id": "7c5faed0-29ac-4a8e-8a02-fd024d418753",
   "metadata": {},
   "outputs": [],
   "source": [
    "split_mds_fit_old = mds_model.fit(split_ratio_malus_old.to_numpy())  \n",
    "split_mds_coords_old = mds_model.fit_transform(split_ratio_malus_old.to_numpy()) \n",
    "                                                                                                                                  \n",
    "split_source_names_old = split_ratio_malus_old.columns.tolist()\n",
    "\n",
    "split_total_ordered_old = []\n",
    "split_total_ordered_old = [split_total_old.loc[split_total_old['Provider'] == ticker]['Percentage']*1000 for ticker in split_source_names_old]\n",
    "\n",
    "split_source_names_old = list(map(lambda orig_string: orig_string + \"\", split_ratio_malus_old.columns.tolist()))"
   ]
  },
  {
   "cell_type": "markdown",
   "id": "2eab6aff-af97-4040-9ad2-e1820672c5a4",
   "metadata": {},
   "source": [
    "#### Visualization"
   ]
  },
  {
   "cell_type": "code",
   "execution_count": null,
   "id": "b1fd9590-ef93-4340-abc7-10856b16477e",
   "metadata": {},
   "outputs": [],
   "source": [
    "plt.figure(figsize = (15,15))\n",
    "\n",
    "plt.scatter(split_mds_coords_full[:,0],split_mds_coords_full[:,1], split_total_ordered_full,\n",
    "    facecolors = 'lightblue', edgecolors = 'blue')\n",
    "\n",
    "plt.scatter(split_mds_coords_new[:,0],split_mds_coords_new[:,1], split_total_ordered_new,\n",
    "    facecolors = 'lightgreen', edgecolors = 'green') \n",
    "\n",
    "plt.scatter(split_mds_coords_old[:,0], split_mds_coords_old[:,1], split_total_ordered_old,\n",
    "    facecolors = 'yellow', edgecolors = 'orange') \n",
    "\n",
    "split_labels_full = split_source_names_full\n",
    "for label, x, y in zip(split_labels_full, split_mds_coords_full[:,0], split_mds_coords_full[:,1]):\n",
    "    plt.annotate(label, (x,y), xycoords = 'data')\n",
    "    \n",
    "split_labels_new = split_source_names_new\n",
    "for label, x, y in zip(split_labels_new, split_mds_coords_new[:,0], split_mds_coords_new[:,1]):\n",
    "    plt.annotate(label, (x,y), xycoords = 'data')\n",
    "    \n",
    "split_labels_old = split_source_names_old\n",
    "for label, x, y in zip(split_labels_old, split_mds_coords_old[:,0], split_mds_coords_old[:,1]):\n",
    "    plt.annotate(label, (x,y), xycoords = 'data')\n",
    "    \n",
    "\n",
    "plt.xlabel('First Dimension')\n",
    "plt.ylabel('Second Dimension')\n",
    "plt.legend([\"Full\", \"New\", \"Old\"])\n",
    "plt.title('Splits Full View')    \n",
    "plt.show()"
   ]
  },
  {
   "cell_type": "code",
   "execution_count": null,
   "id": "947b7dba-2e5e-4c1c-bc32-533faf132704",
   "metadata": {},
   "outputs": [],
   "source": [
    "plt.figure(figsize = (15,15))\n",
    "\n",
    "plt.scatter(split_mds_coords_full[:,0],split_mds_coords_full[:,1], split_total_ordered_full,\n",
    "    facecolors = 'lightblue', edgecolors = 'blue')\n",
    "\n",
    "plt.scatter(split_mds_coords_new[:,0],split_mds_coords_new[:,1], split_total_ordered_new,\n",
    "    facecolors = 'lightgreen', edgecolors = 'green') \n",
    "\n",
    "plt.scatter(split_mds_coords_old[:,0],split_mds_coords_old[:,1], split_total_ordered_old,\n",
    "    facecolors = 'yellow', edgecolors = 'orange')\n",
    "\n",
    "plt.xlabel('First Dimension')\n",
    "plt.ylabel('Second Dimension')\n",
    "plt.legend([\"Full\", \"New\", \"Old\"])\n",
    "plt.title('Splits Full View')    \n",
    "plt.show()"
   ]
  },
  {
   "cell_type": "markdown",
   "id": "8f214a6e-44f2-41e2-9797-ce2160b6b590",
   "metadata": {},
   "source": [
    "### Multidimensional Scaling - Cluster"
   ]
  },
  {
   "cell_type": "markdown",
   "id": "d9263096-3c2d-47ef-9b8b-3cbe9cf922db",
   "metadata": {},
   "source": [
    "#### Parameters"
   ]
  },
  {
   "cell_type": "code",
   "execution_count": null,
   "id": "899848df-1bb7-4fba-ad7a-2a841db86125",
   "metadata": {
    "tags": []
   },
   "outputs": [],
   "source": [
    "split_mds_fit_c_full = mds_model.fit(split_rmf_cluster.to_numpy())  \n",
    "split_mds_coords_c_full = mds_model.fit_transform(split_rmf_cluster.to_numpy()) \n",
    "                                                                                                                                  \n",
    "split_source_names_c_full = split_rmf_cluster.columns.tolist()\n",
    "\n",
    "split_total_ordered_c_full = []\n",
    "split_total_ordered_c_full = [split_total_full.loc[split_total_full['Provider'] == ticker]['Percentage']*1000 for ticker in split_source_names_c_full]\n",
    "\n",
    "split_source_names_c_full = list(map(lambda orig_string: orig_string + \"\", split_rmf_cluster.columns.tolist()))"
   ]
  },
  {
   "cell_type": "code",
   "execution_count": null,
   "id": "b98123dc-d564-4ecc-9ec0-2b08538da630",
   "metadata": {},
   "outputs": [],
   "source": [
    "split_mds_fit_c_new = mds_model.fit(split_rmn_cluster.to_numpy())  \n",
    "split_mds_coords_c_new = mds_model.fit_transform(split_rmn_cluster.to_numpy()) \n",
    "                                                                                                                                  \n",
    "split_source_names_c_new = split_rmn_cluster.columns.tolist()\n",
    "\n",
    "split_total_ordered_c_new = []\n",
    "split_total_ordered_c_new = [split_total_new.loc[split_total_new['Provider'] == ticker]['Percentage']*1000 for ticker in split_source_names_c_new]\n",
    "\n",
    "split_source_names_c_new = list(map(lambda orig_string: orig_string + \"\", split_rmn_cluster.columns.tolist()))"
   ]
  },
  {
   "cell_type": "code",
   "execution_count": null,
   "id": "87e01efa-44bb-4a64-a4cf-681ba63c7912",
   "metadata": {},
   "outputs": [],
   "source": [
    "split_mds_fit_c_old = mds_model.fit(split_rmo_cluster.to_numpy())  \n",
    "split_mds_coords_c_old = mds_model.fit_transform(split_rmo_cluster.to_numpy()) \n",
    "                                                                                                                                  \n",
    "split_source_names_c_old = split_rmo_cluster.columns.tolist()\n",
    "\n",
    "split_total_ordered_c_old = []\n",
    "split_total_ordered_c_old = [split_total_old.loc[split_total_old['Provider'] == ticker]['Percentage']*1000 for ticker in split_source_names_c_old]\n",
    "\n",
    "split_source_names_c_old = list(map(lambda orig_string: orig_string + \"\", split_rmo_cluster.columns.tolist()))"
   ]
  },
  {
   "cell_type": "code",
   "execution_count": null,
   "id": "725dac41-de8b-4e47-808e-bac6b322722f",
   "metadata": {},
   "outputs": [],
   "source": [
    "print(split_mds_coords_c_old)"
   ]
  },
  {
   "cell_type": "markdown",
   "id": "28f9e311-f178-4565-9442-b4c33f7a797b",
   "metadata": {},
   "source": [
    "#### Visualization"
   ]
  },
  {
   "cell_type": "code",
   "execution_count": null,
   "id": "113d760e-cfbc-4a42-8f9a-5c1489661e43",
   "metadata": {
    "tags": []
   },
   "outputs": [],
   "source": [
    "plt.figure(figsize = (15,15))\n",
    "\n",
    "plt.scatter(split_mds_coords_c_full[:,0],split_mds_coords_c_full[:,1], split_total_ordered_c_full,\n",
    "    facecolors = 'lightblue', edgecolors = 'blue')\n",
    "\n",
    "plt.scatter(split_mds_coords_c_new[:,0],split_mds_coords_c_new[:,1], split_total_ordered_c_new,\n",
    "    facecolors = 'lightgreen', edgecolors = 'green') \n",
    "\n",
    "plt.scatter(split_mds_coords_c_old[:,0],split_mds_coords_c_old[:,1], split_total_ordered_c_old,\n",
    "    facecolors = 'yellow', edgecolors = 'orange') \n",
    "\n",
    "split_labels_c_full = split_source_names_c_full\n",
    "for label, x, y in zip(split_labels_c_full, split_mds_coords_c_full[:,0], split_mds_coords_c_full[:,1]):\n",
    "    plt.annotate(label, (x,y), xycoords = 'data')\n",
    "    \n",
    "split_labels_c_new = split_source_names_c_new\n",
    "for label, x, y in zip(split_labels_c_new, split_mds_coords_c_new[:,0], split_mds_coords_c_new[:,1]):\n",
    "    plt.annotate(label, (x,y), xycoords = 'data')\n",
    "    \n",
    "split_labels_c_old = split_source_names_c_old\n",
    "for label, x, y in zip(split_labels_c_old, split_mds_coords_c_old[:,0], split_mds_coords_c_old[:,1]):\n",
    "    plt.annotate(label, (x,y), xycoords = 'data')\n",
    "    \n",
    "\n",
    "plt.xlabel('First Dimension')\n",
    "plt.ylabel('Second Dimension')\n",
    "plt.legend([\"Full\", \"New\", \"Old\"])\n",
    "plt.title('Splits Cluster View')    \n",
    "plt.show()"
   ]
  },
  {
   "cell_type": "code",
   "execution_count": null,
   "id": "04e60680-d12a-4edc-b6f5-b3db9309c21b",
   "metadata": {
    "tags": []
   },
   "outputs": [],
   "source": [
    "plt.figure(figsize = (15,15))\n",
    "\n",
    "plt.scatter(split_mds_coords_c_full[:,0],split_mds_coords_c_full[:,1], split_total_ordered_c_full,\n",
    "    facecolors = 'lightblue', edgecolors = 'blue')\n",
    "\n",
    "plt.scatter(split_mds_coords_c_new[:,0], split_mds_coords_c_new[:,1], split_total_ordered_c_new,\n",
    "    facecolors = 'lightgreen', edgecolors = 'green') \n",
    "\n",
    "plt.scatter(split_mds_coords_c_old[:,0],split_mds_coords_c_old[:,1], split_total_ordered_c_old,\n",
    "    facecolors = 'yellow', edgecolors = 'orange') \n",
    "\n",
    "plt.xlabel('First Dimension')\n",
    "plt.ylabel('Second Dimension')\n",
    "plt.legend([\"Full\", \"New\", \"Old\"])\n",
    "plt.title('Split Cluster View')    \n",
    "plt.show()"
   ]
  },
  {
   "cell_type": "markdown",
   "id": "1b59037f-fc9e-4112-8bcf-ad06f5098585",
   "metadata": {},
   "source": [
    "## Export"
   ]
  },
  {
   "cell_type": "code",
   "execution_count": null,
   "id": "72fafc7e-a2f0-42bc-afdd-6e788248c104",
   "metadata": {},
   "outputs": [],
   "source": [
    "mds_coords_full[1][0]"
   ]
  },
  {
   "cell_type": "code",
   "execution_count": null,
   "id": "68e5bf83-a25a-4e95-a8b6-45f186a14fe1",
   "metadata": {},
   "outputs": [],
   "source": [
    "print(div_source_names_full)"
   ]
  },
  {
   "cell_type": "raw",
   "id": "7b02d162-82b6-46c6-b264-4fdcfaa28679",
   "metadata": {},
   "source": [
    "DailyPrices:\n",
    "mds_coords_full         source_names_full\n",
    "mds_coords_old          source_names_old\n",
    "mds_coords_new          source_names_new\n",
    "\n",
    "Bars:\n",
    "bars_mds_coords_full    bars_source_names_full\n",
    "bars_mds_coords_old     bars_source_names_old\n",
    "bars_mds_coords_new     bars_source_names_new\n",
    "\n",
    "Dividends:\n",
    "div_mds_coords_full     div_source_names_full\n",
    "div_mds_coords_old      div_source_names_old\n",
    "div_mds_coords_new      div_source_names_new\n",
    "\n",
    "Splits:\n",
    "split_mds_coords_full   split_source_names_full\n",
    "split_mds_coords_old    split_source_names_old\n",
    "split_mds_coords_new    split_source_names_new"
   ]
  },
  {
   "cell_type": "markdown",
   "id": "7ef6ab04-4bce-4ab8-8753-e3c3d225c818",
   "metadata": {},
   "source": [
    "### DailyPrices"
   ]
  },
  {
   "cell_type": "code",
   "execution_count": null,
   "id": "31e17011-087b-4565-9d7c-0cebc7b14236",
   "metadata": {},
   "outputs": [],
   "source": [
    "# une scénario\n",
    "dailyprices_full = {}\n",
    "for index, name in zip(mds_coords_full, source_names_full):\n",
    "    dailyprices_full[name] = sqrt(index[0]**2 + index[1]**2)\n",
    "\n",
    "dp_full = pd.DataFrame.from_dict(dailyprices_full, orient='index')\n",
    "dp_full.rename(columns = {0:'DP Full'}, inplace = True)"
   ]
  },
  {
   "cell_type": "code",
   "execution_count": null,
   "id": "e5e96959-50e0-450d-a4ee-9c171b77c80b",
   "metadata": {},
   "outputs": [],
   "source": [
    "dailyprices_new = {}\n",
    "for index, name in zip(mds_coords_new, source_names_new):\n",
    "    dailyprices_new[name] = sqrt(index[0]**2 + index[1]**2)\n",
    "\n",
    "dp_new = pd.DataFrame.from_dict(dailyprices_new, orient='index')\n",
    "dp_new.rename(columns = {0:'DP New'}, inplace = True)"
   ]
  },
  {
   "cell_type": "code",
   "execution_count": null,
   "id": "019db943-142f-4583-baa9-66df39bc0005",
   "metadata": {},
   "outputs": [],
   "source": [
    "dailyprices_old = {}\n",
    "for index, name in zip(mds_coords_old, source_names_old):\n",
    "    dailyprices_old[name] = sqrt(index[0]**2 + index[1]**2)\n",
    "\n",
    "dp_old = pd.DataFrame.from_dict(dailyprices_old, orient='index')\n",
    "dp_old.rename(columns = {0:'DP Old'}, inplace = True)"
   ]
  },
  {
   "cell_type": "code",
   "execution_count": null,
   "id": "b0edcb3a-773c-41b0-9437-23bff4697628",
   "metadata": {},
   "outputs": [],
   "source": [
    "dp = pd.concat([dp_full, dp_new, dp_old], axis = 1)"
   ]
  },
  {
   "cell_type": "markdown",
   "id": "ac24d4b1-9c01-4b49-9acd-a080d5004c3a",
   "metadata": {},
   "source": [
    "### Bars"
   ]
  },
  {
   "cell_type": "code",
   "execution_count": null,
   "id": "4b9857e2-d4b0-45be-80bd-31aaea2bac55",
   "metadata": {
    "tags": []
   },
   "outputs": [],
   "source": [
    "# une scénario\n",
    "bars_full = {}\n",
    "for index, name in zip(bars_mds_coords_full, bars_source_names_full):\n",
    "    bars_full[name] = sqrt(index[0]**2 + index[1]**2)\n",
    "\n",
    "bars_full = pd.DataFrame.from_dict(bars_full, orient='index')\n",
    "bars_full.rename(columns = {0:'Bars Full'}, inplace = True)"
   ]
  },
  {
   "cell_type": "code",
   "execution_count": null,
   "id": "f8e956eb-faf1-4ee0-a3a0-2df9808c40f7",
   "metadata": {},
   "outputs": [],
   "source": [
    "bars_new = {}\n",
    "for index, name in zip(bars_mds_coords_new, bars_source_names_new):\n",
    "    bars_new[name] = sqrt(index[0]**2 + index[1]**2)\n",
    "\n",
    "bars_new = pd.DataFrame.from_dict(bars_new, orient='index')\n",
    "bars_new.rename(columns = {0:'Bars New'}, inplace = True)"
   ]
  },
  {
   "cell_type": "code",
   "execution_count": null,
   "id": "e8d20915-edcb-40c5-95a8-bbd5dab2e52b",
   "metadata": {},
   "outputs": [],
   "source": [
    "bars_old = {}\n",
    "for index, name in zip(bars_mds_coords_old, bars_source_names_old):\n",
    "    bars_old[name] = sqrt(index[0]**2 + index[1]**2)\n",
    "\n",
    "bars_old = pd.DataFrame.from_dict(bars_old, orient='index')\n",
    "bars_old.rename(columns = {0:'Bars Old'}, inplace = True)"
   ]
  },
  {
   "cell_type": "code",
   "execution_count": null,
   "id": "0fc799af-714f-4263-8150-5c7361dd5179",
   "metadata": {
    "tags": []
   },
   "outputs": [],
   "source": [
    "bars = pd.concat([bars_full, bars_new, bars_old], axis = 1)"
   ]
  },
  {
   "cell_type": "markdown",
   "id": "50924b3b-b059-4db3-96dd-f42ee93fd3aa",
   "metadata": {},
   "source": [
    "### Dividends"
   ]
  },
  {
   "cell_type": "code",
   "execution_count": null,
   "id": "4f6a94a6-a9a3-4c7a-8822-cdd5b93d93e3",
   "metadata": {
    "tags": []
   },
   "outputs": [],
   "source": [
    "# une scénario\n",
    "div_full = {}\n",
    "for index, name in zip(div_mds_coords_full, div_source_names_full):\n",
    "    div_full[name] = sqrt(index[0]**2 + index[1]**2)\n",
    "\n",
    "div_full = pd.DataFrame.from_dict(div_full, orient='index')\n",
    "div_full.rename(columns = {0:'Dividends Full'}, inplace = True)"
   ]
  },
  {
   "cell_type": "code",
   "execution_count": null,
   "id": "6cc87033-7f4c-4445-add5-a88450673017",
   "metadata": {},
   "outputs": [],
   "source": [
    "div_new = {}\n",
    "for index, name in zip(div_mds_coords_new, div_source_names_new):\n",
    "    div_new[name] = sqrt(index[0]**2 + index[1]**2)\n",
    "\n",
    "div_new = pd.DataFrame.from_dict(div_new, orient='index')\n",
    "div_new.rename(columns = {0:'Dividends New'}, inplace = True)"
   ]
  },
  {
   "cell_type": "code",
   "execution_count": null,
   "id": "bc30fb95-a5f8-4231-9a19-e9e972260ae3",
   "metadata": {},
   "outputs": [],
   "source": [
    "div_old = {}\n",
    "for index, name in zip(div_mds_coords_old, div_source_names_old):\n",
    "    div_old[name] = sqrt(index[0]**2 + index[1]**2)\n",
    "\n",
    "div_old = pd.DataFrame.from_dict(div_old, orient='index')\n",
    "div_old.rename(columns = {0:'Dividends Old'}, inplace = True)"
   ]
  },
  {
   "cell_type": "code",
   "execution_count": null,
   "id": "d2f0dd9a-3531-4e1e-83cc-a1de514d17ff",
   "metadata": {
    "tags": []
   },
   "outputs": [],
   "source": [
    "div = pd.concat([div_full, div_new, div_old], axis = 1)"
   ]
  },
  {
   "cell_type": "markdown",
   "id": "f4d37ea8-6bf9-467c-953e-6cfb02c0db19",
   "metadata": {},
   "source": [
    "### Split"
   ]
  },
  {
   "cell_type": "code",
   "execution_count": null,
   "id": "e9d3ac56-12c6-40ce-a50a-f336f8681efa",
   "metadata": {
    "tags": []
   },
   "outputs": [],
   "source": [
    "# une scénario\n",
    "split_full = {}\n",
    "for index, name in zip(split_mds_coords_full, split_source_names_full):\n",
    "    split_full[name] = sqrt(index[0]**2 + index[1]**2)\n",
    "\n",
    "split_full = pd.DataFrame.from_dict(split_full, orient='index')\n",
    "split_full.rename(columns = {0:'Splits Full'}, inplace = True)"
   ]
  },
  {
   "cell_type": "code",
   "execution_count": null,
   "id": "99be6679-1f79-4932-b565-8fba15df2a2c",
   "metadata": {},
   "outputs": [],
   "source": [
    "split_new = {}\n",
    "for index, name in zip(split_mds_coords_new, split_source_names_new):\n",
    "    split_new[name] = sqrt(index[0]**2 + index[1]**2)\n",
    "\n",
    "split_new = pd.DataFrame.from_dict(split_new, orient='index')\n",
    "split_new.rename(columns = {0:'Splits New'}, inplace = True)"
   ]
  },
  {
   "cell_type": "code",
   "execution_count": null,
   "id": "40f59b16-51e1-4919-8f74-2750d4b02d7d",
   "metadata": {},
   "outputs": [],
   "source": [
    "split_old = {}\n",
    "for index, name in zip(split_mds_coords_old, split_source_names_old):\n",
    "    split_old[name] = sqrt(index[0]**2 + index[1]**2)\n",
    "\n",
    "split_old = pd.DataFrame.from_dict(split_old, orient='index')\n",
    "split_old.rename(columns = {0:'Splits Old'}, inplace = True)"
   ]
  },
  {
   "cell_type": "code",
   "execution_count": null,
   "id": "405f4a85-c8b0-464b-8c24-4e56ab30bc4d",
   "metadata": {
    "tags": []
   },
   "outputs": [],
   "source": [
    "split = pd.concat([split_full, split_new, split_old], axis = 1)"
   ]
  },
  {
   "cell_type": "markdown",
   "id": "daf51934-2885-4494-ac98-2470915ddea3",
   "metadata": {},
   "source": [
    "### Merge"
   ]
  },
  {
   "cell_type": "code",
   "execution_count": null,
   "id": "668968ef-be53-419b-a17d-97616ccef1e8",
   "metadata": {},
   "outputs": [],
   "source": [
    "data_quality = pd.concat([dp, bars, div, split], axis = 1)"
   ]
  },
  {
   "cell_type": "code",
   "execution_count": null,
   "id": "07af32f5-fc8e-4df9-8cdb-776129b110d7",
   "metadata": {},
   "outputs": [],
   "source": [
    "data_quality"
   ]
  },
  {
   "cell_type": "code",
   "execution_count": null,
   "id": "3b3ef52e-a60b-41f6-8bb4-b885aac3e45e",
   "metadata": {},
   "outputs": [],
   "source": [
    "data_quality.to_csv('data_quality_export_anonymized.csv', index=True)"
   ]
  }
 ],
 "metadata": {
  "kernelspec": {
   "display_name": "Python 3 (ipykernel)",
   "language": "python",
   "name": "python3"
  },
  "language_info": {
   "codemirror_mode": {
    "name": "ipython",
    "version": 3
   },
   "file_extension": ".py",
   "mimetype": "text/x-python",
   "name": "python",
   "nbconvert_exporter": "python",
   "pygments_lexer": "ipython3",
   "version": "3.9.7"
  }
 },
 "nbformat": 4,
 "nbformat_minor": 5
}
