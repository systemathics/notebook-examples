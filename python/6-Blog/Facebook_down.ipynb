{
 "cells": [
  {
   "cell_type": "markdown",
   "id": "3119e231",
   "metadata": {},
   "source": [
    "# Facebook Down on October 2021 - Python\n",
    "\n",
    "### Overview\n",
    "Facebook was down on 4th of October 2021 for 6 hours (15:40 UTC to 21:40 UTC)\n",
    "\n",
    "This notebook is the basis of this blog post : https://ganymede.cloud/facebook-outage-oct-2021.html\n",
    "\n",
    "## Related Blogpost\n",
    "\n",
    "- Facebook blog post: https://engineering.fb.com/2021/10/04/networking-traffic/outage/\n",
    "- Global context: https://www.nytimes.com/2021/10/04/technology/facebook-down.html\n",
    "- Technical context: https://blog.cloudflare.com/october-2021-facebook-outage/\n",
    "\n",
    "### Modules required\n",
    "1. Systemathics:\n",
    "    * *systemathics.apis.services.tick.v1*\n",
    "    * *systemathics.apis.type.shared.v1*\n",
    "    * *google.type*\n",
    "2. Open source:\n",
    "    * *googleapis-common-protos*\n",
    "    * *protobuf*\n",
    "    * *grpcio*\n",
    "    * *pandas*\n",
    "    * *matpotlib* as per display package\n",
    "\n",
    "***"
   ]
  },
  {
   "cell_type": "markdown",
   "id": "cb1f6032",
   "metadata": {},
   "source": [
    "# Facebook down - Market analysis"
   ]
  },
  {
   "cell_type": "markdown",
   "id": "753379ba",
   "metadata": {},
   "source": [
    "### Step 1: Install packages and import them"
   ]
  },
  {
   "cell_type": "code",
   "execution_count": null,
   "id": "2e439131",
   "metadata": {
    "tags": []
   },
   "outputs": [],
   "source": [
    "pip install googleapis-common-protos protobuf grpcio pandas matplotlib systemathics.apis --quiet"
   ]
  },
  {
   "cell_type": "code",
   "execution_count": null,
   "id": "523049a6",
   "metadata": {},
   "outputs": [],
   "source": [
    "import os\n",
    "import grpc\n",
    "import pandas as pd\n",
    "from datetime import datetime\n",
    "import google.type.date_pb2 as date\n",
    "import google.type.timeofday_pb2 as timeofday\n",
    "import google.type.dayofweek_pb2 as dayofweek\n",
    "import google.protobuf.duration_pb2 as duration\n",
    "import systemathics.apis.type.shared.v1.identifier_pb2 as identifier\n",
    "import systemathics.apis.type.shared.v1.constraints_pb2 as constraints\n",
    "import systemathics.apis.type.shared.v1.date_interval_pb2 as dateinterval\n",
    "import systemathics.apis.type.shared.v1.time_interval_pb2 as timeinterval\n",
    "import systemathics.apis.services.tick.v1.tick_trades_pb2 as tick_trades\n",
    "import systemathics.apis.services.tick.v1.tick_trades_pb2_grpc as tick_trades_service\n",
    "import systemathics.apis.helpers.token_helpers as token_helpers\n",
    "import systemathics.apis.helpers.channel_helpers as channel_helpers"
   ]
  },
  {
   "cell_type": "markdown",
   "id": "c9fce84c",
   "metadata": {},
   "source": [
    "### Step 2: Retrieve authentication token\n",
    "The following code snippet sends authentication request and print token to console output in order to process the upcomming *gRPC queries*."
   ]
  },
  {
   "cell_type": "code",
   "execution_count": null,
   "id": "8e856185",
   "metadata": {},
   "outputs": [],
   "source": [
    "token = token_helpers.get_token()\n",
    "display(token)"
   ]
  },
  {
   "cell_type": "markdown",
   "id": "064adf12",
   "metadata": {},
   "source": [
    "### Step 3: Retrieve data\n",
    "To request *tick trades* service, we need to specify:\n",
    "* Instrument identifier\n",
    "* Time period selection: select start and end dates\n",
    "* Tick trades request parameters"
   ]
  },
  {
   "cell_type": "markdown",
   "id": "b9d7ac6a",
   "metadata": {},
   "source": [
    "#### 3.1 Instrument selection"
   ]
  },
  {
   "cell_type": "code",
   "execution_count": null,
   "id": "8b27b908",
   "metadata": {},
   "outputs": [],
   "source": [
    "# set instrument identifier: exchange + ticker\n",
    "ticker = 'FB' # Facebook\n",
    "exchange = 'XNGS' # Nasdaq"
   ]
  },
  {
   "cell_type": "markdown",
   "id": "320f81b1",
   "metadata": {},
   "source": [
    "#### 3.2 Time period delimitation"
   ]
  },
  {
   "cell_type": "code",
   "execution_count": null,
   "id": "b8225d7a",
   "metadata": {},
   "outputs": [],
   "source": [
    "# create time intervals (we are using Google date format)\n",
    "date_interval = dateinterval.DateInterval(\n",
    "    start_date = date.Date(year = 2021, month = 10, day = 4), \n",
    "    end_date = date.Date(year = 2021, month = 10, day = 4)\n",
    ")"
   ]
  },
  {
   "cell_type": "markdown",
   "id": "d988a392",
   "metadata": {},
   "source": [
    "#### 3.3 Request creation\n",
    "The following code snippet creates *gRPC client*, process request and returns the request reply:"
   ]
  },
  {
   "cell_type": "code",
   "execution_count": null,
   "id": "4c0ada16",
   "metadata": {},
   "outputs": [],
   "source": [
    "# generate constraints based on the previous time selection\n",
    "constraints = constraints.Constraints(\n",
    "    date_intervals = [date_interval]\n",
    ")"
   ]
  },
  {
   "cell_type": "code",
   "execution_count": null,
   "id": "1ccb9ced",
   "metadata": {},
   "outputs": [],
   "source": [
    "# generate the tick trades request\n",
    "identifier = identifier.Identifier(exchange = exchange, ticker = ticker)\n",
    "request = tick_trades.TickTradesRequest(\n",
    "    identifiers = [identifier],\n",
    "    constraints = constraints\n",
    ")"
   ]
  },
  {
   "cell_type": "code",
   "execution_count": null,
   "id": "ff11e050",
   "metadata": {},
   "outputs": [],
   "source": [
    "try:\n",
    "    # open a gRPC channel\n",
    "    with channel_helpers.get_grpc_channel() as channel:  \n",
    "        \n",
    "        # instantiate the tick trades service\n",
    "        service = tick_trades_service.TickTradesServiceStub(channel)\n",
    "        \n",
    "        # process the tick trades request\n",
    "        trades = []\n",
    "        metadata = [('authorization', token)]\n",
    "        for trade in service.TickTrades(request=request, metadata=metadata):\n",
    "            if trade.trade:\n",
    "                trades.append(trade.trade)\n",
    "\n",
    "    # keep only trades, delete instrument mapping (1st element retrieved)\n",
    "    # mapping is not used as only one instrument identifier is requested\n",
    "    del trades[0]\n",
    "except grpc.RpcError as e:\n",
    "    display(e.code().name)\n",
    "    display(e.details())"
   ]
  },
  {
   "cell_type": "markdown",
   "id": "d439127d",
   "metadata": {},
   "source": [
    "The following code snippet displays the total retrieved trades count:"
   ]
  },
  {
   "cell_type": "code",
   "execution_count": null,
   "id": "d8912b11",
   "metadata": {},
   "outputs": [],
   "source": [
    "print('Total trades retrieved: {0}'.format(len(trades)))"
   ]
  },
  {
   "cell_type": "markdown",
   "id": "76ca5e3a",
   "metadata": {},
   "source": [
    "### Step 4: Dataframe creation\n",
    "Let's create 3 dataframes:\n",
    "- One before the outage (15:40 UTC)\n",
    "- During outage (between 15:40 and 21:40 UTC)\n",
    "- After outage (after 21:40 UTC)"
   ]
  },
  {
   "cell_type": "code",
   "execution_count": null,
   "id": "6db8526b",
   "metadata": {
    "tags": []
   },
   "outputs": [],
   "source": [
    "# prepare the dataframe content\n",
    "dates = [datetime.fromtimestamp(t.time_stamp.seconds) for t in trades]\n",
    "prices = [t.price for t in trades]\n",
    "sizes = [t.size for t in trades]"
   ]
  },
  {
   "cell_type": "code",
   "execution_count": null,
   "id": "a94946e8",
   "metadata": {},
   "outputs": [],
   "source": [
    "# create a pandas dataframe with: dates, trades prices and sizes\n",
    "d = {'Date': dates, 'Price': prices, 'Size': sizes}\n",
    "df = pd.DataFrame(data=d)\n",
    "df"
   ]
  },
  {
   "cell_type": "code",
   "execution_count": null,
   "id": "2f8f79fd-5c83-4bbc-bf73-f549a9546e2d",
   "metadata": {},
   "outputs": [],
   "source": [
    "outage = df[ (df['Date'] > datetime(2021,10,4,15,40,0)) & (df['Date'] < datetime(2021,10,4,21,40,0)) ]\n",
    "before_outage = df[ (df['Date'] <= datetime(2021,10,4,15,40,0)) ]\n",
    "after_outage = df[(df['Date'] >= datetime(2021,10,4,21,40,0)) ]\n"
   ]
  },
  {
   "cell_type": "markdown",
   "id": "4edfc7e5",
   "metadata": {},
   "source": [
    "### Step 5: Visualize data"
   ]
  },
  {
   "cell_type": "code",
   "execution_count": null,
   "id": "c1e62bd7",
   "metadata": {},
   "outputs": [],
   "source": [
    "import matplotlib.pyplot as plt\n",
    "\n",
    "fig,ax = plt.subplots(1,1,figsize=(25,10))\n",
    "ax.plot('Date', 'Price', data=before_outage, marker='', color='blue', linewidth=2, label=\"Price\")\n",
    "ax.plot('Date', 'Price', data=outage, marker='', color='red', linewidth=2, label=\"Price\")\n",
    "ax.plot('Date', 'Price', data=after_outage, marker='', color='blue', linewidth=2, label=\"Price\")\n",
    "# twin x-axis for two different y-axis\n",
    "ax2=ax.twinx()\n",
    "ax2.plot('Date', 'Size', data=df, marker='', color='green', linewidth=2, label=\"Size\")\n",
    "\n",
    "# set graph title and axis label\n",
    "ax.set_xlabel(\"Date\",fontsize=14)\n",
    "ax.set_ylabel(\"Price\",color=\"blue\",fontsize=14)\n",
    "ax2.set_ylabel(\"Size\",color=\"green\",fontsize=14)\n",
    "plt.title('Tick trades for {0}-{1}'.format(ticker, exchange))\n",
    "plt.show()"
   ]
  },
  {
   "cell_type": "markdown",
   "id": "7ca346e5-9e11-485f-b414-ff409f64b728",
   "metadata": {},
   "source": [
    "# Conclusion\n",
    "\n",
    "- Facebook price before outage decreased significantly.\n",
    "- Price during the outage barely changed.\n",
    "- We can conclude that Facebook outage did not affect it's stock price. Initial decrease was likely due to whistle-blower Frances Haugen as explained by NY Times article."
   ]
  },
  {
   "cell_type": "code",
   "execution_count": null,
   "id": "6b579d3b-0cc7-4437-9d37-88e031819dd2",
   "metadata": {},
   "outputs": [],
   "source": []
  }
 ],
 "metadata": {
  "kernelspec": {
   "display_name": "Python 3 (ipykernel)",
   "language": "python",
   "name": "python3"
  },
  "language_info": {
   "codemirror_mode": {
    "name": "ipython",
    "version": 3
   },
   "file_extension": ".py",
   "mimetype": "text/x-python",
   "name": "python",
   "nbconvert_exporter": "python",
   "pygments_lexer": "ipython3",
   "version": "3.9.7"
  }
 },
 "nbformat": 4,
 "nbformat_minor": 5
}
